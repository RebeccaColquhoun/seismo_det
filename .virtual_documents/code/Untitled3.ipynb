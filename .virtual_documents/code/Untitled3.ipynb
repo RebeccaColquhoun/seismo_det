import pickle
import os
import geopy

import pandas as pd
import numpy as np


list_base_folders = ['/home/earthquakes1/homes/Rebecca/phd/data/2005_2018_global_m5/',
                     '/home/earthquakes1/homes/Rebecca/phd/data/2018_2021_global_m5/',
                     '/home/earthquakes1/homes/Rebecca/phd/data/2019_global_m3/']

filenames = ['eq_object_03s_bandpass_01_19_snr_20_blank_0_new_snr5',
             'eq_object_03s_bandpass_01_19_snr_20_blank_005_new_snr5',
             'eq_object_03s_bandpass_01_19_snr_20_blank_01_new_snr5',
             'eq_object_05s_bandpass_01_19_snr_20_blank_0_new_snr5',
             'eq_object_05s_bandpass_01_19_snr_20_blank_005_new_snr5',
             'eq_object_05s_bandpass_01_19_snr_20_blank_01_new_snr5',
             'eq_object_05s_bandpass_01_19_snr_20_blank_025_new_snr5',
             'eq_object_1s_bandpass_01_19_snr_20_blank_0_new_snr5',
             'eq_object_1s_bandpass_01_19_snr_20_blank_005_new_snr5',
             'eq_object_1s_bandpass_01_19_snr_20_blank_01_new_snr5',
             'eq_object_1s_bandpass_01_19_snr_20_blank_025_new_snr5',
             'eq_object_1s_bandpass_01_19_snr_20_blank_05_new_snr5',
             'eq_object_4s_bandpass_01_19_snr_20_blank_0_new_snr5',
             'eq_object_4s_bandpass_01_19_snr_20_blank_005_new_snr5',
             'eq_object_4s_bandpass_01_19_snr_20_blank_01_new_snr5',
             'eq_object_4s_bandpass_01_19_snr_20_blank_025_new_snr5',
             'eq_object_4s_bandpass_01_19_snr_20_blank_05_new_snr5']

filenames = ['eq_object_03s_bandpass_01_19_snr_20_blank_0_new_snr20',
             'eq_object_03s_bandpass_01_19_snr_20_blank_005_new_snr20',
             'eq_object_03s_bandpass_01_19_snr_20_blank_01_new_snr20',
             'eq_object_05s_bandpass_01_19_snr_20_blank_0_new_snr20',
             'eq_object_05s_bandpass_01_19_snr_20_blank_005_new_snr20',
             'eq_object_05s_bandpass_01_19_snr_20_blank_01_new_snr20',
             'eq_object_05s_bandpass_01_19_snr_20_blank_025_new_snr20',
             'eq_object_1s_bandpass_01_19_snr_20_blank_0_new_snr20',
             'eq_object_1s_bandpass_01_19_snr_20_blank_005_new_snr20',
             'eq_object_1s_bandpass_01_19_snr_20_blank_01_new_snr20',
             'eq_object_1s_bandpass_01_19_snr_20_blank_025_new_snr20',
             'eq_object_1s_bandpass_01_19_snr_20_blank_05_new_snr20',
             'eq_object_4s_bandpass_01_19_snr_20_blank_0_new_snr20',
             'eq_object_4s_bandpass_01_19_snr_20_blank_005_new_snr20',
             'eq_object_4s_bandpass_01_19_snr_20_blank_01_new_snr20',
             'eq_object_4s_bandpass_01_19_snr_20_blank_025_new_snr20',
             'eq_object_4s_bandpass_01_19_snr_20_blank_05_new_snr20']





hypocenter = 0
for fn in filenames[0:1]:
    print(fn)
    for base_folder in list_base_folders:
        print(base_folder)
        folders = os.listdir(base_folder)
        for eq_no in range(0, len(folders)):
            # start = time.perf_counter()
            # print(base_folder, folders[eq_no], fn)
            if os.path.exists(base_folder + folders[eq_no] + '/' + fn + '.pkl'):
                with open(base_folder + folders[eq_no] + '/' + fn + '.pkl', 'rb') as picklefile:
                    eq = pickle.load(picklefile)
                    location = None
                    for origin in eq.event.origins:
                        if origin.depth_type is not None:
                            print(origin.depth_type)
                        if origin.depth_type == 'hypocenter':
                            hypocenter += 1
                    if eq.event.magnitudes[0].mag > 6.0:
                        break


eq.event



