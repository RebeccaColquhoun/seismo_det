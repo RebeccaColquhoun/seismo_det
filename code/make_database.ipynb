{
 "cells": [
  {
   "cell_type": "code",
   "execution_count": 6,
   "id": "1843a543-9df5-4cb7-be4f-61c405480b6a",
   "metadata": {},
   "outputs": [],
   "source": [
    "import numpy as np\n",
    "import pandas as pd\n",
    "import pickle\n",
    "import os"
   ]
  },
  {
   "cell_type": "markdown",
   "id": "6edcd493-ae17-49d2-9c18-741ad33ed9b3",
   "metadata": {},
   "source": [
    "start by writing code for a single earthquake"
   ]
  },
  {
   "cell_type": "code",
   "execution_count": 13,
   "id": "96435ab6-04b1-4eec-a89d-5d0ab46320fd",
   "metadata": {},
   "outputs": [],
   "source": [
    "list_base_folders = ['/home/earthquakes1/homes/Rebecca/phd/data/2005_2018_global_m5/','/home/earthquakes1/homes/Rebecca/phd/data/2018_2021_global_m5/','/home/earthquakes1/homes/Rebecca/phd/data/2019_global_m3/']\n"
   ]
  },
  {
   "cell_type": "code",
   "execution_count": 32,
   "id": "0fbd0f7c-4937-4500-8292-06268f0935be",
   "metadata": {},
   "outputs": [],
   "source": [
    "filenames = ['eq_object_05s_bandpass_01_19_snr_20_blank_0_new',\n",
    "             'eq_object_05s_bandpass_01_19_snr_20_blank_005_new', \n",
    "             'eq_object_05s_bandpass_01_19_snr_20_blank_01_new',\n",
    "             'eq_object_05s_bandpass_01_19_snr_20_blank_025_new',\n",
    "             'eq_object_1s_bandpass_01_19_snr_20_blank_0_new', \n",
    "             'eq_object_1s_bandpass_01_19_snr_20_blank_005_new',\n",
    "             'eq_object_1s_bandpass_01_19_snr_20_blank_01_new',\n",
    "             'eq_object_1s_bandpass_01_19_snr_20_blank_025_new',\n",
    "             'eq_object_1s_bandpass_01_19_snr_20_blank_05_new',\n",
    "              'eq_object_4s_bandpass_01_19_snr_20_blank_0_new',\n",
    "              'eq_object_4s_bandpass_01_19_snr_20_blank_005_new',\n",
    "              'eq_object_4s_bandpass_01_19_snr_20_blank_01_new',\n",
    "              'eq_object_4s_bandpass_01_19_snr_20_blank_025_new',\n",
    "              'eq_object_4s_bandpass_01_19_snr_20_blank_05_new']"
   ]
  },
  {
   "cell_type": "code",
   "execution_count": 14,
   "id": "cf9250a0-0231-4b55-8a47-9b66e5eb57ae",
   "metadata": {},
   "outputs": [],
   "source": [
    "fn = 'eq_object_1s_bandpass_01_19_snr_20_blank_025_new'"
   ]
  },
  {
   "cell_type": "code",
   "execution_count": 33,
   "id": "f5b96db4-3483-41d5-b1d1-d640c6b685ee",
   "metadata": {},
   "outputs": [],
   "source": [
    "for fn in filenames:\n",
    "    print(fn)\n",
    "    for base_folder in list_base_folders:\n",
    "        print(base_folder)\n",
    "        folders = os.listdir(base_folder)\n",
    "        df = pd.DataFrame(columns = [\n",
    "        'eq_id',\n",
    "        'eq_time',\n",
    "        'eq_loc',\n",
    "        'tp_max',\n",
    "        'tp_max_stations',\n",
    "        'tc',\n",
    "        'tc_stations',\n",
    "        'iv2',\n",
    "        'iv2_distances',\n",
    "        'iv2_stations'])\n",
    "        for eq_no in range(0, len(folders)):\n",
    "            #start = time.perf_counter()\n",
    "            if os.path.exists(base_folder+folders[eq_no]+'/'+fn+'.pkl'):\n",
    "                with open(base_folder+folders[eq_no]+'/'+fn+'.pkl', 'rb') as picklefile:\n",
    "                    eq = pickle.load(picklefile)\n",
    "                    df2 = pd.DataFrame({'eq_id':[str(eq.event.resource_id).split('=')[1]],\n",
    "                           'eq_time':[eq.event_stats['name'][:-2]],\n",
    "                           'eq_loc':[(eq.event_stats['eq_lat'], eq.event_stats['eq_long'], eq.event_stats['eq_depth']/1000)],\n",
    "                            'tp_max':[eq.calculated_params['tau_p_max']],\n",
    "                            'tp_max_stations':[eq.calculation_info[\"tau_p_stations\"]],\n",
    "                            'tc':[eq.calculated_params['tau_c']],\n",
    "                            'tc_stations':[eq.calculated_params['tau_c_stations']],\n",
    "                            'iv2':[eq.calculated_params['iv2']],\n",
    "                            'iv2_distances':[eq.calculated_params['iv2_dist']],\n",
    "                            'iv2_stations':[eq.calculation_info['iv2_stations']]})\n",
    "                    df = pd.concat([df,df2])\n",
    "        df = df.reset_index()\n",
    "        isExist = os.path.exists(base_folder+'results_database/')\n",
    "        if not isExist:\n",
    "            # Create a new directory because it does not exist\n",
    "            os.makedirs(base_folder+'results_database/')\n",
    "        df.to_pickle(base_folder+'results_database/'+fn)\n",
    "\n"
   ]
  },
  {
   "cell_type": "code",
   "execution_count": null,
   "id": "b34badaa-54ac-4d07-a000-1b8968809d60",
   "metadata": {},
   "outputs": [],
   "source": [
    "for fn in filenames:\n",
    "    df = pd.read_pickle('/home/earthquakes1/homes/Rebecca/phd/data/2005_2018_global_m5/results_database/'+fn)\n",
    "    df2 = pd.read_pickle('/home/earthquakes1/homes/Rebecca/phd/data/2018_2021_global_m5/results_database/'+fn)\n",
    "    df3 = pd.read_pickle('/home/earthquakes1/homes/Rebecca/phd/data/2019_global_m3/results_database/'+fn)\n",
    "    df = pd.concat([df,df2])\n",
    "    df = pd.concat([df,df3])\n",
    "    df = df.reset_index()\n",
    "    df.to_pickle('/home/earthquakes1/homes/Rebecca/phd/data/results_database/'+fn)\n"
   ]
  },
  {
   "cell_type": "code",
   "execution_count": null,
   "id": "ba5b05a8-09d9-4503-9d9e-9385c7258ca4",
   "metadata": {},
   "outputs": [],
   "source": []
  }
 ],
 "metadata": {
  "kernelspec": {
   "display_name": "Python 3 (ipykernel)",
   "language": "python",
   "name": "python3"
  },
  "language_info": {
   "codemirror_mode": {
    "name": "ipython",
    "version": 3
   },
   "file_extension": ".py",
   "mimetype": "text/x-python",
   "name": "python",
   "nbconvert_exporter": "python",
   "pygments_lexer": "ipython3",
   "version": "3.10.5"
  }
 },
 "nbformat": 4,
 "nbformat_minor": 5
}
