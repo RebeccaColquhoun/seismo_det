{
 "cells": [
  {
   "cell_type": "code",
   "execution_count": 1,
   "id": "1843a543-9df5-4cb7-be4f-61c405480b6a",
   "metadata": {},
   "outputs": [],
   "source": [
    "import numpy as np\n",
    "import pandas as pd\n",
    "import pickle\n",
    "import os"
   ]
  },
  {
   "cell_type": "markdown",
   "id": "6edcd493-ae17-49d2-9c18-741ad33ed9b3",
   "metadata": {},
   "source": [
    "start by writing code for a single earthquake"
   ]
  },
  {
   "cell_type": "code",
   "execution_count": 2,
   "id": "96435ab6-04b1-4eec-a89d-5d0ab46320fd",
   "metadata": {},
   "outputs": [],
   "source": [
    "base_folder = '/home/earthquakes1/homes/Rebecca/phd/data/2018_2021_global_m5/'"
   ]
  },
  {
   "cell_type": "code",
   "execution_count": 3,
   "id": "a56dd026-4175-4341-ac77-04cf0f57db13",
   "metadata": {},
   "outputs": [],
   "source": [
    "folders = os.listdir(base_folder)"
   ]
  },
  {
   "cell_type": "code",
   "execution_count": 4,
   "id": "cf9250a0-0231-4b55-8a47-9b66e5eb57ae",
   "metadata": {},
   "outputs": [],
   "source": [
    "fn = 'eq_object_1s_bandpass_01_19_snr_20_blank_025'"
   ]
  },
  {
   "cell_type": "code",
   "execution_count": 5,
   "id": "ca789458-6a57-4080-b416-d4b321bf00ae",
   "metadata": {},
   "outputs": [],
   "source": [
    "df = pd.DataFrame(columns = [\n",
    "    'eq_id',\n",
    "    'eq_time',\n",
    "    'eq_loc',\n",
    "    'tp_max',\n",
    "    'tp_max_stations',\n",
    "    'tc',\n",
    "    'tc_stations',\n",
    "    'iv2',\n",
    "    'iv2_distances',\n",
    "    'iv2_stations'])\n"
   ]
  },
  {
   "cell_type": "code",
   "execution_count": 6,
   "id": "f5b96db4-3483-41d5-b1d1-d640c6b685ee",
   "metadata": {},
   "outputs": [],
   "source": [
    "for eq_no in range(0, 10):#len(folders)):\n",
    "    #start = time.perf_counter()\n",
    "    if os.path.exists(base_folder+folders[eq_no]+'/'+fn+'.pkl'):\n",
    "        with open(base_folder+folders[eq_no]+'/'+fn+'.pkl', 'rb') as picklefile:\n",
    "            eq = pickle.load(picklefile)\n",
    "            df2 = pd.DataFrame({'eq_id':[str(eq.event.resource_id).split('=')[1]],\n",
    "                   'eq_time':[eq.event_stats['name'][:-2]],\n",
    "                   'eq_loc':[(eq.event_stats['eq_lat'], eq.event_stats['eq_long'], eq.event_stats['eq_depth']/1000)],\n",
    "                    'tp_max':[eq.calculated_params['tau_p_max']],\n",
    "                    'tp_max_stations':[0],\n",
    "                    'tc':[eq.calculated_params['tau_c']],\n",
    "                    'tc_stations':[0],\n",
    "                    'iv2':[eq.calculated_params['iv2']],\n",
    "                    'iv2_distances':[0],\n",
    "                    'iv2_stations':[0]})\n",
    "            df = pd.concat([df,df2])\n"
   ]
  },
  {
   "cell_type": "code",
   "execution_count": 7,
   "id": "6590e8d2-00c6-4d2e-98f0-8b0ff719ed2e",
   "metadata": {},
   "outputs": [
    {
     "data": {
      "text/html": [
       "<div>\n",
       "<style scoped>\n",
       "    .dataframe tbody tr th:only-of-type {\n",
       "        vertical-align: middle;\n",
       "    }\n",
       "\n",
       "    .dataframe tbody tr th {\n",
       "        vertical-align: top;\n",
       "    }\n",
       "\n",
       "    .dataframe thead th {\n",
       "        text-align: right;\n",
       "    }\n",
       "</style>\n",
       "<table border=\"1\" class=\"dataframe\">\n",
       "  <thead>\n",
       "    <tr style=\"text-align: right;\">\n",
       "      <th></th>\n",
       "      <th>index</th>\n",
       "      <th>eq_id</th>\n",
       "      <th>eq_time</th>\n",
       "      <th>eq_loc</th>\n",
       "      <th>tp_max</th>\n",
       "      <th>tp_max_stations</th>\n",
       "      <th>tc</th>\n",
       "      <th>tc_stations</th>\n",
       "      <th>iv2</th>\n",
       "      <th>iv2_distances</th>\n",
       "      <th>iv2_stations</th>\n",
       "    </tr>\n",
       "  </thead>\n",
       "  <tbody>\n",
       "    <tr>\n",
       "      <th>0</th>\n",
       "      <td>0</td>\n",
       "      <td>10637347</td>\n",
       "      <td>20180130_192419</td>\n",
       "      <td>(64.6279, -17.263, 6.73)</td>\n",
       "      <td>[]</td>\n",
       "      <td>0</td>\n",
       "      <td>[]</td>\n",
       "      <td>0</td>\n",
       "      <td>[]</td>\n",
       "      <td>0</td>\n",
       "      <td>0</td>\n",
       "    </tr>\n",
       "    <tr>\n",
       "      <th>1</th>\n",
       "      <td>0</td>\n",
       "      <td>10608605</td>\n",
       "      <td>20180125_172434</td>\n",
       "      <td>(40.4213, -126.383, 10.5)</td>\n",
       "      <td>[]</td>\n",
       "      <td>0</td>\n",
       "      <td>[]</td>\n",
       "      <td>0</td>\n",
       "      <td>[]</td>\n",
       "      <td>0</td>\n",
       "      <td>0</td>\n",
       "    </tr>\n",
       "    <tr>\n",
       "      <th>2</th>\n",
       "      <td>0</td>\n",
       "      <td>10608593</td>\n",
       "      <td>20180125_163943</td>\n",
       "      <td>(40.4556, -126.3332, 8.88)</td>\n",
       "      <td>[]</td>\n",
       "      <td>0</td>\n",
       "      <td>[]</td>\n",
       "      <td>0</td>\n",
       "      <td>[]</td>\n",
       "      <td>0</td>\n",
       "      <td>0</td>\n",
       "    </tr>\n",
       "    <tr>\n",
       "      <th>3</th>\n",
       "      <td>0</td>\n",
       "      <td>10608232</td>\n",
       "      <td>20180124_074605</td>\n",
       "      <td>(-20.3273, -69.1123, 103.06)</td>\n",
       "      <td>[0.7842789921706352, 0.8280270399321578, 0.525...</td>\n",
       "      <td>0</td>\n",
       "      <td>[0.8106965147004442, 1.2575334396350493, 1.022...</td>\n",
       "      <td>0</td>\n",
       "      <td>[[2.786415209662904e-07, 85.48774528463134], [...</td>\n",
       "      <td>0</td>\n",
       "      <td>0</td>\n",
       "    </tr>\n",
       "  </tbody>\n",
       "</table>\n",
       "</div>"
      ],
      "text/plain": [
       "   index     eq_id          eq_time                        eq_loc  \\\n",
       "0      0  10637347  20180130_192419      (64.6279, -17.263, 6.73)   \n",
       "1      0  10608605  20180125_172434     (40.4213, -126.383, 10.5)   \n",
       "2      0  10608593  20180125_163943    (40.4556, -126.3332, 8.88)   \n",
       "3      0  10608232  20180124_074605  (-20.3273, -69.1123, 103.06)   \n",
       "\n",
       "                                              tp_max tp_max_stations  \\\n",
       "0                                                 []               0   \n",
       "1                                                 []               0   \n",
       "2                                                 []               0   \n",
       "3  [0.7842789921706352, 0.8280270399321578, 0.525...               0   \n",
       "\n",
       "                                                  tc tc_stations  \\\n",
       "0                                                 []           0   \n",
       "1                                                 []           0   \n",
       "2                                                 []           0   \n",
       "3  [0.8106965147004442, 1.2575334396350493, 1.022...           0   \n",
       "\n",
       "                                                 iv2 iv2_distances  \\\n",
       "0                                                 []             0   \n",
       "1                                                 []             0   \n",
       "2                                                 []             0   \n",
       "3  [[2.786415209662904e-07, 85.48774528463134], [...             0   \n",
       "\n",
       "  iv2_stations  \n",
       "0            0  \n",
       "1            0  \n",
       "2            0  \n",
       "3            0  "
      ]
     },
     "execution_count": 7,
     "metadata": {},
     "output_type": "execute_result"
    }
   ],
   "source": [
    "df.reset_index()"
   ]
  },
  {
   "cell_type": "code",
   "execution_count": null,
   "id": "8496bc36-c7ab-4a57-b0c5-ffd3121c012f",
   "metadata": {},
   "outputs": [],
   "source": []
  }
 ],
 "metadata": {
  "kernelspec": {
   "display_name": "Python 3 (ipykernel)",
   "language": "python",
   "name": "python3"
  },
  "language_info": {
   "codemirror_mode": {
    "name": "ipython",
    "version": 3
   },
   "file_extension": ".py",
   "mimetype": "text/x-python",
   "name": "python",
   "nbconvert_exporter": "python",
   "pygments_lexer": "ipython3",
   "version": "3.10.5"
  }
 },
 "nbformat": 4,
 "nbformat_minor": 5
}
