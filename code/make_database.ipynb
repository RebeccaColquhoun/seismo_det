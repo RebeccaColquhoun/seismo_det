{
 "cells": [
  {
   "cell_type": "code",
   "execution_count": 1,
   "id": "1843a543-9df5-4cb7-be4f-61c405480b6a",
   "metadata": {},
   "outputs": [],
   "source": [
    "import numpy as np\n",
    "import pandas as pd\n",
    "#import modin.pandas as pd\n",
    "import pickle\n",
    "import os\n",
    "#from distributed import Client\n",
    "#client = Client()"
   ]
  },
  {
   "cell_type": "code",
   "execution_count": 2,
   "id": "96435ab6-04b1-4eec-a89d-5d0ab46320fd",
   "metadata": {},
   "outputs": [],
   "source": [
    "list_base_folders = ['/home/earthquakes1/homes/Rebecca/phd/data/2005_2018_global_m5/','/home/earthquakes1/homes/Rebecca/phd/data/2018_2021_global_m5/','/home/earthquakes1/homes/Rebecca/phd/data/2019_global_m3/']\n"
   ]
  },
  {
   "cell_type": "code",
   "execution_count": 3,
   "id": "0fbd0f7c-4937-4500-8292-06268f0935be",
   "metadata": {},
   "outputs": [],
   "source": [
    "filenames = ['eq_object_05s_bandpass_01_19_snr_20_blank_0_new',\n",
    "             'eq_object_05s_bandpass_01_19_snr_20_blank_005_new', \n",
    "             'eq_object_05s_bandpass_01_19_snr_20_blank_01_new',\n",
    "             'eq_object_05s_bandpass_01_19_snr_20_blank_025_new',\n",
    "             'eq_object_1s_bandpass_01_19_snr_20_blank_0_new', \n",
    "             'eq_object_1s_bandpass_01_19_snr_20_blank_005_new',\n",
    "             'eq_object_1s_bandpass_01_19_snr_20_blank_01_new',\n",
    "             'eq_object_1s_bandpass_01_19_snr_20_blank_025_new',\n",
    "             'eq_object_1s_bandpass_01_19_snr_20_blank_05_new',\n",
    "              'eq_object_4s_bandpass_01_19_snr_20_blank_0_new',\n",
    "              'eq_object_4s_bandpass_01_19_snr_20_blank_005_new',\n",
    "              'eq_object_4s_bandpass_01_19_snr_20_blank_01_new',\n",
    "              'eq_object_4s_bandpass_01_19_snr_20_blank_025_new',\n",
    "              'eq_object_4s_bandpass_01_19_snr_20_blank_05_new']"
   ]
  },
  {
   "cell_type": "code",
   "execution_count": 4,
   "id": "cf9250a0-0231-4b55-8a47-9b66e5eb57ae",
   "metadata": {},
   "outputs": [],
   "source": [
    "fn = 'eq_object_1s_bandpass_01_19_snr_20_blank_025_new'"
   ]
  },
  {
   "cell_type": "code",
   "execution_count": 8,
   "id": "39c40197-8c2a-4305-899e-95581040e393",
   "metadata": {},
   "outputs": [],
   "source": [
    "base_folder = list_base_folders[0]\n",
    "fn = filenames[7]\n",
    "folders = os.listdir(base_folder)\n",
    "for eq_no in range(0, len(folders)):\n",
    "    #start = time.perf_counter()\n",
    "    if os.path.exists(base_folder+folders[eq_no]+'/'+fn+'.pkl'):\n",
    "        with open(base_folder+folders[eq_no]+'/'+fn+'.pkl', 'rb') as picklefile:\n",
    "            eq = pickle.load(picklefile)\n",
    "            break"
   ]
  },
  {
   "cell_type": "code",
   "execution_count": 10,
   "id": "b0381c9d-bfe4-4672-9dd5-7088b75b2a55",
   "metadata": {},
   "outputs": [
    {
     "data": {
      "text/plain": [
       "<earthquake.Earthquake at 0x7fdc9cf83a00>"
      ]
     },
     "execution_count": 10,
     "metadata": {},
     "output_type": "execute_result"
    }
   ],
   "source": [
    "eq"
   ]
  },
  {
   "cell_type": "code",
   "execution_count": 5,
   "id": "f5b96db4-3483-41d5-b1d1-d640c6b685ee",
   "metadata": {},
   "outputs": [
    {
     "name": "stdout",
     "output_type": "stream",
     "text": [
      "eq_object_05s_bandpass_01_19_snr_20_blank_0_new\n",
      "/home/earthquakes1/homes/Rebecca/phd/data/2005_2018_global_m5/\n",
      "/home/earthquakes1/homes/Rebecca/phd/data/2018_2021_global_m5/\n",
      "/home/earthquakes1/homes/Rebecca/phd/data/2019_global_m3/\n",
      "eq_object_05s_bandpass_01_19_snr_20_blank_005_new\n",
      "/home/earthquakes1/homes/Rebecca/phd/data/2005_2018_global_m5/\n",
      "/home/earthquakes1/homes/Rebecca/phd/data/2018_2021_global_m5/\n",
      "/home/earthquakes1/homes/Rebecca/phd/data/2019_global_m3/\n",
      "eq_object_05s_bandpass_01_19_snr_20_blank_01_new\n",
      "/home/earthquakes1/homes/Rebecca/phd/data/2005_2018_global_m5/\n",
      "/home/earthquakes1/homes/Rebecca/phd/data/2018_2021_global_m5/\n",
      "/home/earthquakes1/homes/Rebecca/phd/data/2019_global_m3/\n"
     ]
    },
    {
     "name": "stderr",
     "output_type": "stream",
     "text": [
      "Exception ignored in: <function WeakValueDictionary.__init__.<locals>.remove at 0x7fdca4c3d120>\n",
      "Traceback (most recent call last):\n",
      "  File \"/home/earthquakes1/software/Ubuntu/anaconda3/envs/rlc2/lib/python3.10/weakref.py\", line 106, in remove\n",
      "    def remove(wr, selfref=ref(self), _atomic_removal=_remove_dead_weakref):\n",
      "KeyboardInterrupt: \n",
      "ERROR:root:Internal Python error in the inspect module.\n",
      "Below is the traceback from this internal error.\n",
      "\n"
     ]
    },
    {
     "name": "stdout",
     "output_type": "stream",
     "text": [
      "Traceback (most recent call last):\n",
      "  File \"/home/earthquakes1/software/Ubuntu/anaconda3/envs/rlc2/lib/python3.10/site-packages/IPython/core/interactiveshell.py\", line 3552, in run_code\n",
      "    exec(code_obj, self.user_global_ns, self.user_ns)\n",
      "  File \"/tmp/ipykernel_280158/3351467516.py\", line 26, in <cell line: 1>\n",
      "    eq = pickle.load(picklefile)\n",
      "  File \"/home/earthquakes1/software/Ubuntu/anaconda3/envs/rlc2/lib/python3.10/site-packages/obspy/core/util/obspy_types.py\", line 237, in __new__\n",
      "    return super(FloatWithUncertainties, cls).__new__(cls, value)\n",
      "KeyboardInterrupt\n",
      "\n",
      "During handling of the above exception, another exception occurred:\n",
      "\n",
      "Traceback (most recent call last):\n",
      "  File \"/home/earthquakes1/software/Ubuntu/anaconda3/envs/rlc2/lib/python3.10/site-packages/IPython/core/interactiveshell.py\", line 2098, in showtraceback\n",
      "    stb = value._render_traceback_()\n",
      "AttributeError: 'KeyboardInterrupt' object has no attribute '_render_traceback_'\n",
      "\n",
      "During handling of the above exception, another exception occurred:\n",
      "\n",
      "Traceback (most recent call last):\n",
      "  File \"/home/earthquakes1/software/Ubuntu/anaconda3/envs/rlc2/lib/python3.10/site-packages/IPython/core/ultratb.py\", line 1101, in get_records\n",
      "    return _fixed_getinnerframes(etb, number_of_lines_of_context, tb_offset)\n",
      "  File \"/home/earthquakes1/software/Ubuntu/anaconda3/envs/rlc2/lib/python3.10/site-packages/IPython/core/ultratb.py\", line 248, in wrapped\n",
      "    return f(*args, **kwargs)\n",
      "  File \"/home/earthquakes1/software/Ubuntu/anaconda3/envs/rlc2/lib/python3.10/site-packages/IPython/core/ultratb.py\", line 281, in _fixed_getinnerframes\n",
      "    records = fix_frame_records_filenames(inspect.getinnerframes(etb, context))\n",
      "  File \"/home/earthquakes1/software/Ubuntu/anaconda3/envs/rlc2/lib/python3.10/inspect.py\", line 1667, in getinnerframes\n",
      "    frameinfo = (tb.tb_frame,) + getframeinfo(tb, context)\n",
      "  File \"/home/earthquakes1/software/Ubuntu/anaconda3/envs/rlc2/lib/python3.10/inspect.py\", line 1625, in getframeinfo\n",
      "    filename = getsourcefile(frame) or getfile(frame)\n",
      "  File \"/home/earthquakes1/software/Ubuntu/anaconda3/envs/rlc2/lib/python3.10/inspect.py\", line 829, in getsourcefile\n",
      "    module = getmodule(object, filename)\n",
      "  File \"/home/earthquakes1/software/Ubuntu/anaconda3/envs/rlc2/lib/python3.10/inspect.py\", line 875, in getmodule\n",
      "    f = getabsfile(module)\n",
      "  File \"/home/earthquakes1/software/Ubuntu/anaconda3/envs/rlc2/lib/python3.10/inspect.py\", line 844, in getabsfile\n",
      "    _filename = getsourcefile(object) or getfile(object)\n",
      "  File \"/home/earthquakes1/software/Ubuntu/anaconda3/envs/rlc2/lib/python3.10/inspect.py\", line 826, in getsourcefile\n",
      "    if os.path.exists(filename):\n",
      "  File \"/home/earthquakes1/software/Ubuntu/anaconda3/envs/rlc2/lib/python3.10/genericpath.py\", line 19, in exists\n",
      "    os.stat(path)\n",
      "KeyboardInterrupt\n"
     ]
    },
    {
     "ename": "TypeError",
     "evalue": "object of type 'NoneType' has no len()",
     "output_type": "error",
     "traceback": [
      "\u001b[0;31m---------------------------------------------------------------------------\u001b[0m",
      "\u001b[0;31mKeyboardInterrupt\u001b[0m                         Traceback (most recent call last)",
      "    \u001b[0;31m[... skipping hidden 1 frame]\u001b[0m\n",
      "\u001b[0;32m/tmp/ipykernel_280158/3351467516.py\u001b[0m in \u001b[0;36m<cell line: 1>\u001b[0;34m()\u001b[0m\n\u001b[1;32m     25\u001b[0m                 \u001b[0;32mwith\u001b[0m \u001b[0mopen\u001b[0m\u001b[0;34m(\u001b[0m\u001b[0mbase_folder\u001b[0m\u001b[0;34m+\u001b[0m\u001b[0mfolders\u001b[0m\u001b[0;34m[\u001b[0m\u001b[0meq_no\u001b[0m\u001b[0;34m]\u001b[0m\u001b[0;34m+\u001b[0m\u001b[0;34m'/'\u001b[0m\u001b[0;34m+\u001b[0m\u001b[0mfn\u001b[0m\u001b[0;34m+\u001b[0m\u001b[0;34m'.pkl'\u001b[0m\u001b[0;34m,\u001b[0m \u001b[0;34m'rb'\u001b[0m\u001b[0;34m)\u001b[0m \u001b[0;32mas\u001b[0m \u001b[0mpicklefile\u001b[0m\u001b[0;34m:\u001b[0m\u001b[0;34m\u001b[0m\u001b[0;34m\u001b[0m\u001b[0m\n\u001b[0;32m---> 26\u001b[0;31m                     \u001b[0meq\u001b[0m \u001b[0;34m=\u001b[0m \u001b[0mpickle\u001b[0m\u001b[0;34m.\u001b[0m\u001b[0mload\u001b[0m\u001b[0;34m(\u001b[0m\u001b[0mpicklefile\u001b[0m\u001b[0;34m)\u001b[0m\u001b[0;34m\u001b[0m\u001b[0;34m\u001b[0m\u001b[0m\n\u001b[0m\u001b[1;32m     27\u001b[0m                     df2 = pd.DataFrame({'eq_id':[str(eq.event.resource_id).split('=')[1]],\n",
      "\u001b[0;32m/home/earthquakes1/software/Ubuntu/anaconda3/envs/rlc2/lib/python3.10/site-packages/obspy/core/util/obspy_types.py\u001b[0m in \u001b[0;36m__new__\u001b[0;34m(cls, value, **kwargs)\u001b[0m\n\u001b[1;32m    236\u001b[0m             \u001b[0;32mraise\u001b[0m \u001b[0mValueError\u001b[0m\u001b[0;34m(\u001b[0m\u001b[0mmsg\u001b[0m\u001b[0;34m)\u001b[0m\u001b[0;34m\u001b[0m\u001b[0;34m\u001b[0m\u001b[0m\n\u001b[0;32m--> 237\u001b[0;31m         \u001b[0;32mreturn\u001b[0m \u001b[0msuper\u001b[0m\u001b[0;34m(\u001b[0m\u001b[0mFloatWithUncertainties\u001b[0m\u001b[0;34m,\u001b[0m \u001b[0mcls\u001b[0m\u001b[0;34m)\u001b[0m\u001b[0;34m.\u001b[0m\u001b[0m__new__\u001b[0m\u001b[0;34m(\u001b[0m\u001b[0mcls\u001b[0m\u001b[0;34m,\u001b[0m \u001b[0mvalue\u001b[0m\u001b[0;34m)\u001b[0m\u001b[0;34m\u001b[0m\u001b[0;34m\u001b[0m\u001b[0m\n\u001b[0m\u001b[1;32m    238\u001b[0m \u001b[0;34m\u001b[0m\u001b[0m\n",
      "\u001b[0;31mKeyboardInterrupt\u001b[0m: ",
      "\nDuring handling of the above exception, another exception occurred:\n",
      "\u001b[0;31mAttributeError\u001b[0m                            Traceback (most recent call last)",
      "\u001b[0;32m/home/earthquakes1/software/Ubuntu/anaconda3/envs/rlc2/lib/python3.10/site-packages/IPython/core/interactiveshell.py\u001b[0m in \u001b[0;36mshowtraceback\u001b[0;34m(self, exc_tuple, filename, tb_offset, exception_only, running_compiled_code)\u001b[0m\n\u001b[1;32m   2097\u001b[0m                         \u001b[0;31m# in the engines. This should return a list of strings.\u001b[0m\u001b[0;34m\u001b[0m\u001b[0;34m\u001b[0m\u001b[0m\n\u001b[0;32m-> 2098\u001b[0;31m                         \u001b[0mstb\u001b[0m \u001b[0;34m=\u001b[0m \u001b[0mvalue\u001b[0m\u001b[0;34m.\u001b[0m\u001b[0m_render_traceback_\u001b[0m\u001b[0;34m(\u001b[0m\u001b[0;34m)\u001b[0m\u001b[0;34m\u001b[0m\u001b[0;34m\u001b[0m\u001b[0m\n\u001b[0m\u001b[1;32m   2099\u001b[0m                     \u001b[0;32mexcept\u001b[0m \u001b[0mException\u001b[0m\u001b[0;34m:\u001b[0m\u001b[0;34m\u001b[0m\u001b[0;34m\u001b[0m\u001b[0m\n",
      "\u001b[0;31mAttributeError\u001b[0m: 'KeyboardInterrupt' object has no attribute '_render_traceback_'",
      "\nDuring handling of the above exception, another exception occurred:\n",
      "\u001b[0;31mTypeError\u001b[0m                                 Traceback (most recent call last)",
      "    \u001b[0;31m[... skipping hidden 1 frame]\u001b[0m\n",
      "\u001b[0;32m/home/earthquakes1/software/Ubuntu/anaconda3/envs/rlc2/lib/python3.10/site-packages/IPython/core/interactiveshell.py\u001b[0m in \u001b[0;36mshowtraceback\u001b[0;34m(self, exc_tuple, filename, tb_offset, exception_only, running_compiled_code)\u001b[0m\n\u001b[1;32m   2098\u001b[0m                         \u001b[0mstb\u001b[0m \u001b[0;34m=\u001b[0m \u001b[0mvalue\u001b[0m\u001b[0;34m.\u001b[0m\u001b[0m_render_traceback_\u001b[0m\u001b[0;34m(\u001b[0m\u001b[0;34m)\u001b[0m\u001b[0;34m\u001b[0m\u001b[0;34m\u001b[0m\u001b[0m\n\u001b[1;32m   2099\u001b[0m                     \u001b[0;32mexcept\u001b[0m \u001b[0mException\u001b[0m\u001b[0;34m:\u001b[0m\u001b[0;34m\u001b[0m\u001b[0;34m\u001b[0m\u001b[0m\n\u001b[0;32m-> 2100\u001b[0;31m                         stb = self.InteractiveTB.structured_traceback(etype,\n\u001b[0m\u001b[1;32m   2101\u001b[0m                                             value, tb, tb_offset=tb_offset)\n\u001b[1;32m   2102\u001b[0m \u001b[0;34m\u001b[0m\u001b[0m\n",
      "\u001b[0;32m/home/earthquakes1/software/Ubuntu/anaconda3/envs/rlc2/lib/python3.10/site-packages/IPython/core/ultratb.py\u001b[0m in \u001b[0;36mstructured_traceback\u001b[0;34m(self, etype, value, tb, tb_offset, number_of_lines_of_context)\u001b[0m\n\u001b[1;32m   1365\u001b[0m         \u001b[0;32melse\u001b[0m\u001b[0;34m:\u001b[0m\u001b[0;34m\u001b[0m\u001b[0;34m\u001b[0m\u001b[0m\n\u001b[1;32m   1366\u001b[0m             \u001b[0mself\u001b[0m\u001b[0;34m.\u001b[0m\u001b[0mtb\u001b[0m \u001b[0;34m=\u001b[0m \u001b[0mtb\u001b[0m\u001b[0;34m\u001b[0m\u001b[0;34m\u001b[0m\u001b[0m\n\u001b[0;32m-> 1367\u001b[0;31m         return FormattedTB.structured_traceback(\n\u001b[0m\u001b[1;32m   1368\u001b[0m             self, etype, value, tb, tb_offset, number_of_lines_of_context)\n\u001b[1;32m   1369\u001b[0m \u001b[0;34m\u001b[0m\u001b[0m\n",
      "\u001b[0;32m/home/earthquakes1/software/Ubuntu/anaconda3/envs/rlc2/lib/python3.10/site-packages/IPython/core/ultratb.py\u001b[0m in \u001b[0;36mstructured_traceback\u001b[0;34m(self, etype, value, tb, tb_offset, number_of_lines_of_context)\u001b[0m\n\u001b[1;32m   1265\u001b[0m         \u001b[0;32mif\u001b[0m \u001b[0mmode\u001b[0m \u001b[0;32min\u001b[0m \u001b[0mself\u001b[0m\u001b[0;34m.\u001b[0m\u001b[0mverbose_modes\u001b[0m\u001b[0;34m:\u001b[0m\u001b[0;34m\u001b[0m\u001b[0;34m\u001b[0m\u001b[0m\n\u001b[1;32m   1266\u001b[0m             \u001b[0;31m# Verbose modes need a full traceback\u001b[0m\u001b[0;34m\u001b[0m\u001b[0;34m\u001b[0m\u001b[0m\n\u001b[0;32m-> 1267\u001b[0;31m             return VerboseTB.structured_traceback(\n\u001b[0m\u001b[1;32m   1268\u001b[0m                 \u001b[0mself\u001b[0m\u001b[0;34m,\u001b[0m \u001b[0metype\u001b[0m\u001b[0;34m,\u001b[0m \u001b[0mvalue\u001b[0m\u001b[0;34m,\u001b[0m \u001b[0mtb\u001b[0m\u001b[0;34m,\u001b[0m \u001b[0mtb_offset\u001b[0m\u001b[0;34m,\u001b[0m \u001b[0mnumber_of_lines_of_context\u001b[0m\u001b[0;34m\u001b[0m\u001b[0;34m\u001b[0m\u001b[0m\n\u001b[1;32m   1269\u001b[0m             )\n",
      "\u001b[0;32m/home/earthquakes1/software/Ubuntu/anaconda3/envs/rlc2/lib/python3.10/site-packages/IPython/core/ultratb.py\u001b[0m in \u001b[0;36mstructured_traceback\u001b[0;34m(self, etype, evalue, etb, tb_offset, number_of_lines_of_context)\u001b[0m\n\u001b[1;32m   1122\u001b[0m         \u001b[0;34m\"\"\"Return a nice text document describing the traceback.\"\"\"\u001b[0m\u001b[0;34m\u001b[0m\u001b[0;34m\u001b[0m\u001b[0m\n\u001b[1;32m   1123\u001b[0m \u001b[0;34m\u001b[0m\u001b[0m\n\u001b[0;32m-> 1124\u001b[0;31m         formatted_exception = self.format_exception_as_a_whole(etype, evalue, etb, number_of_lines_of_context,\n\u001b[0m\u001b[1;32m   1125\u001b[0m                                                                tb_offset)\n\u001b[1;32m   1126\u001b[0m \u001b[0;34m\u001b[0m\u001b[0m\n",
      "\u001b[0;32m/home/earthquakes1/software/Ubuntu/anaconda3/envs/rlc2/lib/python3.10/site-packages/IPython/core/ultratb.py\u001b[0m in \u001b[0;36mformat_exception_as_a_whole\u001b[0;34m(self, etype, evalue, etb, number_of_lines_of_context, tb_offset)\u001b[0m\n\u001b[1;32m   1080\u001b[0m \u001b[0;34m\u001b[0m\u001b[0m\n\u001b[1;32m   1081\u001b[0m \u001b[0;34m\u001b[0m\u001b[0m\n\u001b[0;32m-> 1082\u001b[0;31m         \u001b[0mlast_unique\u001b[0m\u001b[0;34m,\u001b[0m \u001b[0mrecursion_repeat\u001b[0m \u001b[0;34m=\u001b[0m \u001b[0mfind_recursion\u001b[0m\u001b[0;34m(\u001b[0m\u001b[0morig_etype\u001b[0m\u001b[0;34m,\u001b[0m \u001b[0mevalue\u001b[0m\u001b[0;34m,\u001b[0m \u001b[0mrecords\u001b[0m\u001b[0;34m)\u001b[0m\u001b[0;34m\u001b[0m\u001b[0;34m\u001b[0m\u001b[0m\n\u001b[0m\u001b[1;32m   1083\u001b[0m \u001b[0;34m\u001b[0m\u001b[0m\n\u001b[1;32m   1084\u001b[0m         \u001b[0mframes\u001b[0m \u001b[0;34m=\u001b[0m \u001b[0mself\u001b[0m\u001b[0;34m.\u001b[0m\u001b[0mformat_records\u001b[0m\u001b[0;34m(\u001b[0m\u001b[0mrecords\u001b[0m\u001b[0;34m,\u001b[0m \u001b[0mlast_unique\u001b[0m\u001b[0;34m,\u001b[0m \u001b[0mrecursion_repeat\u001b[0m\u001b[0;34m)\u001b[0m\u001b[0;34m\u001b[0m\u001b[0;34m\u001b[0m\u001b[0m\n",
      "\u001b[0;32m/home/earthquakes1/software/Ubuntu/anaconda3/envs/rlc2/lib/python3.10/site-packages/IPython/core/ultratb.py\u001b[0m in \u001b[0;36mfind_recursion\u001b[0;34m(etype, value, records)\u001b[0m\n\u001b[1;32m    380\u001b[0m     \u001b[0;31m# first frame (from in to out) that looks different.\u001b[0m\u001b[0;34m\u001b[0m\u001b[0;34m\u001b[0m\u001b[0m\n\u001b[1;32m    381\u001b[0m     \u001b[0;32mif\u001b[0m \u001b[0;32mnot\u001b[0m \u001b[0mis_recursion_error\u001b[0m\u001b[0;34m(\u001b[0m\u001b[0metype\u001b[0m\u001b[0;34m,\u001b[0m \u001b[0mvalue\u001b[0m\u001b[0;34m,\u001b[0m \u001b[0mrecords\u001b[0m\u001b[0;34m)\u001b[0m\u001b[0;34m:\u001b[0m\u001b[0;34m\u001b[0m\u001b[0;34m\u001b[0m\u001b[0m\n\u001b[0;32m--> 382\u001b[0;31m         \u001b[0;32mreturn\u001b[0m \u001b[0mlen\u001b[0m\u001b[0;34m(\u001b[0m\u001b[0mrecords\u001b[0m\u001b[0;34m)\u001b[0m\u001b[0;34m,\u001b[0m \u001b[0;36m0\u001b[0m\u001b[0;34m\u001b[0m\u001b[0;34m\u001b[0m\u001b[0m\n\u001b[0m\u001b[1;32m    383\u001b[0m \u001b[0;34m\u001b[0m\u001b[0m\n\u001b[1;32m    384\u001b[0m     \u001b[0;31m# Select filename, lineno, func_name to track frames with\u001b[0m\u001b[0;34m\u001b[0m\u001b[0;34m\u001b[0m\u001b[0m\n",
      "\u001b[0;31mTypeError\u001b[0m: object of type 'NoneType' has no len()"
     ]
    }
   ],
   "source": [
    "for fn in filenames:\n",
    "    print(fn)\n",
    "    for base_folder in list_base_folders:\n",
    "        print(base_folder)\n",
    "        folders = os.listdir(base_folder)\n",
    "        df = pd.DataFrame(columns = [\n",
    "        'eq_id',\n",
    "        'eq_mag',\n",
    "        'eq_mag_type',\n",
    "        'eq_time',\n",
    "        'eq_loc',\n",
    "        'tp_max',\n",
    "        'tp_max_stations',\n",
    "        'tc',\n",
    "        'tc_stations',\n",
    "        'iv2',\n",
    "        'iv2_distances',\n",
    "        'iv2_stations',\n",
    "        'pgd',\n",
    "        'pgd_distances',\n",
    "        'pgd_stations'])\n",
    "        for eq_no in range(0, len(folders)):\n",
    "            #start = time.perf_counter()\n",
    "            if os.path.exists(base_folder+folders[eq_no]+'/'+fn+'.pkl'):\n",
    "                with open(base_folder+folders[eq_no]+'/'+fn+'.pkl', 'rb') as picklefile:\n",
    "                    eq = pickle.load(picklefile)\n",
    "                    df2 = pd.DataFrame({'eq_id':[str(eq.event.resource_id).split('=')[1]],\n",
    "                           'eq_mag':[eq.event_stats['eq_mag']],\n",
    "                            'eq_mag_type':[eq.event_stats['eq_mag_type']],\n",
    "                            'eq_time':[eq.event_stats['name'][:-2]],\n",
    "                           'eq_loc':[(eq.event_stats['eq_lat'], eq.event_stats['eq_long'], eq.event_stats['eq_depth']/1000)],\n",
    "                            'tp_max':[eq.calculated_params['tau_p_max']],\n",
    "                            'tp_max_stations':[eq.calculation_info[\"tau_p_stations\"]],\n",
    "                            'tc':[eq.calculated_params['tau_c']],\n",
    "                            'tc_stations':[eq.calculated_params['tau_c_stations']],\n",
    "                            'iv2':[eq.calculated_params['iv2']],\n",
    "                            'iv2_distances':[eq.calculated_params['iv2_dist']],\n",
    "                            'iv2_stations':[eq.calculation_info['iv2_stations']],\n",
    "                            'pgd': [eq.calculated_params['pgd']],\n",
    "                            'pgd_distances':[eq.calculated_params['pgd_distances']],\n",
    "                            'pgd_stations':[eq.calculation_info['pgd_stations']]})\n",
    "                    df = pd.concat([df,df2])\n",
    "        df = df.reset_index()\n",
    "        isExist = os.path.exists(base_folder+'results_database/')\n",
    "        if not isExist:\n",
    "            # Create a new directory because it does not exist\n",
    "            os.makedirs(base_folder+'results_database/')\n",
    "        df.to_pickle(base_folder+'results_database/'+fn)\n",
    "\n"
   ]
  },
  {
   "cell_type": "code",
   "execution_count": 47,
   "id": "b34badaa-54ac-4d07-a000-1b8968809d60",
   "metadata": {},
   "outputs": [],
   "source": [
    "for fn in filenames:\n",
    "    df = pd.read_pickle('/home/earthquakes1/homes/Rebecca/phd/data/2005_2018_global_m5/results_database/'+fn)\n",
    "    df2 = pd.read_pickle('/home/earthquakes1/homes/Rebecca/phd/data/2018_2021_global_m5/results_database/'+fn)\n",
    "    df3 = pd.read_pickle('/home/earthquakes1/homes/Rebecca/phd/data/2019_global_m3/results_database/'+fn)\n",
    "    df = pd.concat([df,df2])\n",
    "    df = pd.concat([df,df3])\n",
    "    df = df.reset_index()\n",
    "    df.to_pickle('/home/earthquakes1/homes/Rebecca/phd/data/results_database/'+fn)\n"
   ]
  },
  {
   "cell_type": "code",
   "execution_count": null,
   "id": "45c968db-8058-4a34-95fb-3dc89c3e9150",
   "metadata": {},
   "outputs": [],
   "source": []
  }
 ],
 "metadata": {
  "kernelspec": {
   "display_name": "Python 3 (ipykernel)",
   "language": "python",
   "name": "python3"
  },
  "language_info": {
   "codemirror_mode": {
    "name": "ipython",
    "version": 3
   },
   "file_extension": ".py",
   "mimetype": "text/x-python",
   "name": "python",
   "nbconvert_exporter": "python",
   "pygments_lexer": "ipython3",
   "version": "3.10.5"
  }
 },
 "nbformat": 4,
 "nbformat_minor": 5
}
