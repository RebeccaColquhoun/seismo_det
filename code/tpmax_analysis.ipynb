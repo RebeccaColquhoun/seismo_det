{
 "cells": [
  {
   "cell_type": "markdown",
   "metadata": {},
   "source": [
    "## Imports"
   ]
  },
  {
   "cell_type": "code",
   "execution_count": 1,
   "metadata": {},
   "outputs": [],
   "source": [
    "import os\n",
    "import math\n",
    "import obspy\n",
    "import pickle\n",
    "import datetime\n",
    "import numpy as np\n",
    "import pandas as pd\n",
    "import matplotlib.pyplot as plt\n",
    "\n",
    "from matplotlib.pyplot import figure\n",
    "from scipy.optimize import curve_fit\n",
    "from datetime import timedelta\n",
    "from obspy import UTCDateTime\n",
    "from obspy.core.event import read_events\n",
    "from obspy.clients.fdsn import Client\n",
    "\n",
    "from earthquake import earthquake\n",
    "import util\n",
    "import pandas as pd"
   ]
  },
  {
   "cell_type": "code",
   "execution_count": 2,
   "metadata": {},
   "outputs": [
    {
     "data": {
      "text/plain": [
       "'1.2.2'"
      ]
     },
     "execution_count": 2,
     "metadata": {},
     "output_type": "execute_result"
    }
   ],
   "source": [
    "obspy.__version__"
   ]
  },
  {
   "cell_type": "markdown",
   "metadata": {},
   "source": [
    "## Get set up\n",
    "Set path to data, and read eq_list (all folders in root folder)"
   ]
  },
  {
   "cell_type": "code",
   "execution_count": 3,
   "metadata": {},
   "outputs": [],
   "source": [
    "#root = '/home/earthquakes1/homes/Rebecca/phd/data/2019_global_m3/'"
   ]
  },
  {
   "cell_type": "markdown",
   "metadata": {},
   "source": [
    "Open catalog of events"
   ]
  },
  {
   "cell_type": "code",
   "execution_count": 4,
   "metadata": {},
   "outputs": [
    {
     "name": "stdout",
     "output_type": "stream",
     "text": [
      "1250\n",
      "1140\n",
      "1193\n",
      "1175\n",
      "1076\n",
      "1199\n",
      "2045\n",
      "1015\n",
      "1191\n",
      "1290\n",
      "1342\n"
     ]
    }
   ],
   "source": [
    "from obspy.clients.fdsn.mass_downloader import CircularDomain, Restrictions, MassDownloader\n",
    "from obspy.clients.fdsn import Client\n",
    "\n",
    "client = Client(\"IRIS\")\n",
    "dates = [\"2019-01-01\", \"2019-02-01\", \"2019-03-01\", \"2019-04-01\", \"2019-05-01\", \"2019-06-01\", \"2019-07-01\", \"2019-08-01\", \"2019-09-01\", \"2019-10-01\", \"2019-11-01\", \"2019-12-01\"]\n",
    "cat = client.get_events(starttime=UTCDateTime(dates[0]), endtime=UTCDateTime(dates[1]), includearrivals=True, minmagnitude=3)\n",
    "print(len(cat))\n",
    "for d in range(1, len(dates)-1):\n",
    "    new_cat = client.get_events(starttime=UTCDateTime(dates[d]), endtime=UTCDateTime(dates[d+1]), includearrivals=True, minmagnitude=3)\n",
    "    print(len(new_cat))\n",
    "    for event in new_cat:\n",
    "        cat.append(event)"
   ]
  },
  {
   "cell_type": "code",
   "execution_count": 5,
   "metadata": {},
   "outputs": [],
   "source": [
    "# client = Client(\"IRIS\")\n",
    "# cat = client.get_events(starttime=UTCDateTime(\"2019-01-01\"), endtime=UTCDateTime(\"2020-01-01\"), minmagnitude=5, includearrivals=True)\n",
    "cat = obspy.read_events('/Users/rebecca/Documents/PhD/Research/Frequency/2019_global_m3_catalog.xml')"
   ]
  },
  {
   "cell_type": "markdown",
   "metadata": {},
   "source": [
    "Not all events had suitable data, look through all events and make a list of ones which have data (eq_with_data) and were successfully picked"
   ]
  },
  {
   "cell_type": "code",
   "execution_count": 6,
   "metadata": {},
   "outputs": [],
   "source": [
    "#len(cat_with_data)"
   ]
  },
  {
   "cell_type": "code",
   "execution_count": 7,
   "metadata": {},
   "outputs": [],
   "source": [
    "#cat.plot()\n"
   ]
  },
  {
   "cell_type": "code",
   "execution_count": 8,
   "metadata": {
    "scrolled": true
   },
   "outputs": [],
   "source": [
    "#cat_with_data.plot()"
   ]
  },
  {
   "cell_type": "code",
   "execution_count": 3,
   "metadata": {},
   "outputs": [],
   "source": [
    "%%script false --no-raise-error\n",
    "cat[0].magnitudes[0].mag\n",
    "mags = []\n",
    "mags_d = []\n",
    "for e in cat:\n",
    "    mags.append(e.magnitudes[0].mag)\n",
    "for e in cat_with_data:\n",
    "    mags_d.append(e.magnitudes[0].mag)    \n",
    "plt.hist(mags, np.arange(3, 8, 0.1))\n",
    "plt.hist(mags_d, np.arange(3, 8, 0.1))\n",
    "plt.yscale('log')"
   ]
  },
  {
   "cell_type": "markdown",
   "metadata": {},
   "source": [
    "## the action!!\n",
    "For all events with data, load the data and then create an earthquake object. work out tp_max and tc, and add to lists (for plotting)"
   ]
  },
  {
   "cell_type": "code",
   "execution_count": 4,
   "metadata": {},
   "outputs": [],
   "source": [
    "df =  pd.read_pickle('/Users/rebecca/Documents/PhD/Research/Frequency/seismo_det/dataframe.pkl')"
   ]
  },
  {
   "cell_type": "code",
   "execution_count": 5,
   "metadata": {},
   "outputs": [
    {
     "data": {
      "text/html": [
       "<div>\n",
       "<style scoped>\n",
       "    .dataframe tbody tr th:only-of-type {\n",
       "        vertical-align: middle;\n",
       "    }\n",
       "\n",
       "    .dataframe tbody tr th {\n",
       "        vertical-align: top;\n",
       "    }\n",
       "\n",
       "    .dataframe thead th {\n",
       "        text-align: right;\n",
       "    }\n",
       "</style>\n",
       "<table border=\"1\" class=\"dataframe\">\n",
       "  <thead>\n",
       "    <tr style=\"text-align: right;\">\n",
       "      <th></th>\n",
       "      <th>magnitude</th>\n",
       "      <th>tpmax</th>\n",
       "      <th>tc</th>\n",
       "    </tr>\n",
       "  </thead>\n",
       "  <tbody>\n",
       "    <tr>\n",
       "      <th>20190131_194949.a</th>\n",
       "      <td>4.20</td>\n",
       "      <td>[0.536577233006, 0.443124489655, 0.402395198385]</td>\n",
       "      <td>[0.2682018971852354, 0.1908354211956681, 0.319...</td>\n",
       "    </tr>\n",
       "    <tr>\n",
       "      <th>20190131_130953.a</th>\n",
       "      <td>4.90</td>\n",
       "      <td>[5.8435295236]</td>\n",
       "      <td>[0.6393567378319965]</td>\n",
       "    </tr>\n",
       "    <tr>\n",
       "      <th>20190131_130350.a</th>\n",
       "      <td>4.10</td>\n",
       "      <td>[820.61685423]</td>\n",
       "      <td>[0.4349646099634537]</td>\n",
       "    </tr>\n",
       "    <tr>\n",
       "      <th>20190131_101656.a</th>\n",
       "      <td>3.09</td>\n",
       "      <td>[7.09948983955]</td>\n",
       "      <td>[1.5794069483310673]</td>\n",
       "    </tr>\n",
       "    <tr>\n",
       "      <th>20190131_085520.a</th>\n",
       "      <td>3.00</td>\n",
       "      <td>[1.20694758714, 0.540795298921, 14.2364632491,...</td>\n",
       "      <td>[0.4321685995395488, 0.6982539328416297, 1.188...</td>\n",
       "    </tr>\n",
       "    <tr>\n",
       "      <th>...</th>\n",
       "      <td>...</td>\n",
       "      <td>...</td>\n",
       "      <td>...</td>\n",
       "    </tr>\n",
       "    <tr>\n",
       "      <th>20190710_201915.a</th>\n",
       "      <td>4.50</td>\n",
       "      <td>[]</td>\n",
       "      <td>[]</td>\n",
       "    </tr>\n",
       "    <tr>\n",
       "      <th>20190710_194859.a</th>\n",
       "      <td>3.00</td>\n",
       "      <td>[1.54248363108]</td>\n",
       "      <td>[1.2272353069196682]</td>\n",
       "    </tr>\n",
       "    <tr>\n",
       "      <th>20190710_194552.a</th>\n",
       "      <td>4.60</td>\n",
       "      <td>[]</td>\n",
       "      <td>[]</td>\n",
       "    </tr>\n",
       "    <tr>\n",
       "      <th>20190710_145814.a</th>\n",
       "      <td>4.40</td>\n",
       "      <td>[]</td>\n",
       "      <td>[]</td>\n",
       "    </tr>\n",
       "    <tr>\n",
       "      <th>20190710_121608.a</th>\n",
       "      <td>3.80</td>\n",
       "      <td>[19.6089874784]</td>\n",
       "      <td>[0.26215489062338027]</td>\n",
       "    </tr>\n",
       "  </tbody>\n",
       "</table>\n",
       "<p>2867 rows × 3 columns</p>\n",
       "</div>"
      ],
      "text/plain": [
       "                   magnitude  \\\n",
       "20190131_194949.a       4.20   \n",
       "20190131_130953.a       4.90   \n",
       "20190131_130350.a       4.10   \n",
       "20190131_101656.a       3.09   \n",
       "20190131_085520.a       3.00   \n",
       "...                      ...   \n",
       "20190710_201915.a       4.50   \n",
       "20190710_194859.a       3.00   \n",
       "20190710_194552.a       4.60   \n",
       "20190710_145814.a       4.40   \n",
       "20190710_121608.a       3.80   \n",
       "\n",
       "                                                               tpmax  \\\n",
       "20190131_194949.a   [0.536577233006, 0.443124489655, 0.402395198385]   \n",
       "20190131_130953.a                                     [5.8435295236]   \n",
       "20190131_130350.a                                     [820.61685423]   \n",
       "20190131_101656.a                                    [7.09948983955]   \n",
       "20190131_085520.a  [1.20694758714, 0.540795298921, 14.2364632491,...   \n",
       "...                                                              ...   \n",
       "20190710_201915.a                                                 []   \n",
       "20190710_194859.a                                    [1.54248363108]   \n",
       "20190710_194552.a                                                 []   \n",
       "20190710_145814.a                                                 []   \n",
       "20190710_121608.a                                    [19.6089874784]   \n",
       "\n",
       "                                                                  tc  \n",
       "20190131_194949.a  [0.2682018971852354, 0.1908354211956681, 0.319...  \n",
       "20190131_130953.a                               [0.6393567378319965]  \n",
       "20190131_130350.a                               [0.4349646099634537]  \n",
       "20190131_101656.a                               [1.5794069483310673]  \n",
       "20190131_085520.a  [0.4321685995395488, 0.6982539328416297, 1.188...  \n",
       "...                                                              ...  \n",
       "20190710_201915.a                                                 []  \n",
       "20190710_194859.a                               [1.2272353069196682]  \n",
       "20190710_194552.a                                                 []  \n",
       "20190710_145814.a                                                 []  \n",
       "20190710_121608.a                              [0.26215489062338027]  \n",
       "\n",
       "[2867 rows x 3 columns]"
      ]
     },
     "execution_count": 5,
     "metadata": {},
     "output_type": "execute_result"
    }
   ],
   "source": [
    "df"
   ]
  },
  {
   "cell_type": "code",
   "execution_count": 6,
   "metadata": {},
   "outputs": [],
   "source": [
    "list_mags = df['magnitude']\n",
    "list_tpmax = df['tpmax']\n",
    "list_tc = df['tc']"
   ]
  },
  {
   "cell_type": "code",
   "execution_count": 7,
   "metadata": {},
   "outputs": [],
   "source": [
    "f = open('/Users/rebecca/Documents/PhD/Research/Frequency/seismo_det/olson_dataset_csv_gr.csv') #'/home/earthquakes1/homes/Rebecca/phd/seismo_det/olson_dataset_csv_gr.csv')\n",
    "a = f.read()\n",
    "b = a.split('\\n')\n",
    "c = []\n",
    "for i in b[1:]:\n",
    "    if i!='':\n",
    "        c.append(i.split(','))\n",
    "m_olsen_gr = []\n",
    "tp_olsen_gr = []\n",
    "for j in c:\n",
    "    if float(j[3]):\n",
    "        m_olsen_gr.append(float(j[3]))\n",
    "        tp_olsen_gr.append(math.log(float(j[6]), 10))\n",
    "f = open('/Users/rebecca/Documents/PhD/Research/Frequency/seismo_det/olson_dataset_csv.csv') #'/home/earthquakes1/homes/Rebecca/phd/seismo_det/olson_dataset_csv_gr.csv')\n",
    "a = f.read()\n",
    "b = a.split('\\n')\n",
    "c = []\n",
    "for i in b[1:]:\n",
    "    if i!='':\n",
    "        c.append(i.split(','))\n",
    "m_olsen = []\n",
    "tp_olsen = []\n",
    "for j in c:\n",
    "    if float(j[3]):\n",
    "        m_olsen.append(float(j[3]))\n",
    "        tp_olsen.append(math.log(float(j[6]), 10))"
   ]
  },
  {
   "cell_type": "markdown",
   "metadata": {},
   "source": [
    "## plotting\n",
    "### tp and tc subplots\n",
    "exclude points more than 2 std from the mean at each station. plot individual stations and the median of each station. \n",
    "\n",
    "make plot log-log"
   ]
  },
  {
   "cell_type": "markdown",
   "metadata": {},
   "source": [
    "set up function for scipy line fitting"
   ]
  },
  {
   "cell_type": "code",
   "execution_count": 8,
   "metadata": {},
   "outputs": [
    {
     "data": {
      "image/png": "[encoded data removed]",
      "text/plain": [
       "<Figure size 432x288 with 1 Axes>"
      ]
     },
     "metadata": {
      "needs_background": "light"
     },
     "output_type": "display_data"
    }
   ],
   "source": [
    "n, bins, patches = plt.hist(list_mags, np.arange(3, 8, 0.1), alpha = 0.6)#np.arange(4.4, 5.8, 0.1))\n",
    "n, bins, patches = plt.hist(list_mags, np.arange(4.4, 5.8, 0.1), alpha = 0.6)\n",
    "plt.yscale('log')"
   ]
  },
  {
   "cell_type": "code",
   "execution_count": 9,
   "metadata": {},
   "outputs": [
    {
     "data": {
      "image/png": "[encoded data removed]",
      "text/plain": [
       "<Figure size 432x288 with 1 Axes>"
      ]
     },
     "metadata": {
      "needs_background": "light"
     },
     "output_type": "display_data"
    }
   ],
   "source": [
    "n, bins, patches = plt.hist(m_olsen, np.arange(3, 8, 0.5), alpha = 0.6)\n",
    "n, bins, patches = plt.hist(m_olsen_gr, np.arange(3, 8, 0.5), alpha = 0.6)\n",
    "plt.yscale('log')"
   ]
  },
  {
   "cell_type": "code",
   "execution_count": 10,
   "metadata": {},
   "outputs": [
    {
     "data": {
      "image/png": "[encoded data removed]",
      "text/plain": [
       "<Figure size 432x288 with 1 Axes>"
      ]
     },
     "metadata": {
      "needs_background": "light"
     },
     "output_type": "display_data"
    }
   ],
   "source": [
    "tp_use = []\n",
    "for i in list_tpmax:\n",
    "    if i != []:\n",
    "        for j in i:\n",
    "            tp_use.append(j)\n",
    "n, bins, patches = plt.hist(tp_use, np.logspace(-1, 3.3, num=100))\n",
    "min(tp_use)\n",
    "max(tp_use)\n",
    "plt.xscale('log')"
   ]
  },
  {
   "cell_type": "code",
   "execution_count": 11,
   "metadata": {},
   "outputs": [
    {
     "data": {
      "text/plain": [
       "1185.0"
      ]
     },
     "execution_count": 11,
     "metadata": {},
     "output_type": "execute_result"
    }
   ],
   "source": [
    "max(n)"
   ]
  },
  {
   "cell_type": "code",
   "execution_count": 12,
   "metadata": {},
   "outputs": [],
   "source": [
    "def model_function(x_data, a, b):\n",
    "    return 10**(a*x_data + b)"
   ]
  },
  {
   "cell_type": "code",
   "execution_count": 13,
   "metadata": {},
   "outputs": [],
   "source": [
    "def model_function_2(x_data, a, b):\n",
    "    return a*x_data + b"
   ]
  },
  {
   "cell_type": "code",
   "execution_count": 14,
   "metadata": {},
   "outputs": [
    {
     "data": {
      "text/plain": [
       "\"eq_name = '20190131_130350.a'\\ndata = obspy.read(root+eq_name+'/data/*/*')\\ndata.plot()\\ninv = obspy.read_inventory(root+eq_name+'/station_xml_files/*')\\ndata.remove_response(inv)\\ndata.plot()\""
      ]
     },
     "execution_count": 14,
     "metadata": {},
     "output_type": "execute_result"
    }
   ],
   "source": [
    "'''eq_name = '20190131_130350.a'\n",
    "data = obspy.read(root+eq_name+'/data/*/*')\n",
    "data.plot()\n",
    "inv = obspy.read_inventory(root+eq_name+'/station_xml_files/*')\n",
    "data.remove_response(inv)\n",
    "data.plot()'''"
   ]
  },
  {
   "cell_type": "markdown",
   "metadata": {},
   "source": [
    "plot directly in log space"
   ]
  },
  {
   "cell_type": "code",
   "execution_count": 33,
   "metadata": {},
   "outputs": [
    {
     "name": "stderr",
     "output_type": "stream",
     "text": [
      "/Users/rebecca/opt/anaconda3/envs/pandas/lib/python3.8/site-packages/numpy/core/fromnumeric.py:3440: RuntimeWarning: Mean of empty slice.\n",
      "  return _methods._mean(a, axis=axis, dtype=dtype,\n",
      "/Users/rebecca/opt/anaconda3/envs/pandas/lib/python3.8/site-packages/numpy/core/_methods.py:189: RuntimeWarning: invalid value encountered in double_scalars\n",
      "  ret = ret.dtype.type(ret / rcount)\n",
      "/Users/rebecca/opt/anaconda3/envs/pandas/lib/python3.8/site-packages/numpy/core/_methods.py:262: RuntimeWarning: Degrees of freedom <= 0 for slice\n",
      "  ret = _var(a, axis=axis, dtype=dtype, out=out, ddof=ddof,\n",
      "/Users/rebecca/opt/anaconda3/envs/pandas/lib/python3.8/site-packages/numpy/core/_methods.py:222: RuntimeWarning: invalid value encountered in true_divide\n",
      "  arrmean = um.true_divide(arrmean, div, out=arrmean, casting='unsafe',\n",
      "/Users/rebecca/opt/anaconda3/envs/pandas/lib/python3.8/site-packages/numpy/core/_methods.py:254: RuntimeWarning: invalid value encountered in double_scalars\n",
      "  ret = ret.dtype.type(ret / rcount)\n",
      "/Users/rebecca/opt/anaconda3/envs/pandas/lib/python3.8/site-packages/numpy/core/fromnumeric.py:3440: RuntimeWarning: Mean of empty slice.\n",
      "  return _methods._mean(a, axis=axis, dtype=dtype,\n",
      "/Users/rebecca/opt/anaconda3/envs/pandas/lib/python3.8/site-packages/numpy/core/_methods.py:189: RuntimeWarning: invalid value encountered in double_scalars\n",
      "  ret = ret.dtype.type(ret / rcount)\n",
      "/Users/rebecca/opt/anaconda3/envs/pandas/lib/python3.8/site-packages/numpy/core/_methods.py:262: RuntimeWarning: Degrees of freedom <= 0 for slice\n",
      "  ret = _var(a, axis=axis, dtype=dtype, out=out, ddof=ddof,\n",
      "/Users/rebecca/opt/anaconda3/envs/pandas/lib/python3.8/site-packages/numpy/core/_methods.py:222: RuntimeWarning: invalid value encountered in true_divide\n",
      "  arrmean = um.true_divide(arrmean, div, out=arrmean, casting='unsafe',\n",
      "/Users/rebecca/opt/anaconda3/envs/pandas/lib/python3.8/site-packages/numpy/core/_methods.py:254: RuntimeWarning: invalid value encountered in double_scalars\n",
      "  ret = ret.dtype.type(ret / rcount)\n",
      "/Users/rebecca/opt/anaconda3/envs/pandas/lib/python3.8/site-packages/numpy/core/fromnumeric.py:3440: RuntimeWarning: Mean of empty slice.\n",
      "  return _methods._mean(a, axis=axis, dtype=dtype,\n",
      "/Users/rebecca/opt/anaconda3/envs/pandas/lib/python3.8/site-packages/numpy/core/_methods.py:189: RuntimeWarning: invalid value encountered in double_scalars\n",
      "  ret = ret.dtype.type(ret / rcount)\n",
      "/Users/rebecca/opt/anaconda3/envs/pandas/lib/python3.8/site-packages/numpy/core/_methods.py:262: RuntimeWarning: Degrees of freedom <= 0 for slice\n",
      "  ret = _var(a, axis=axis, dtype=dtype, out=out, ddof=ddof,\n",
      "/Users/rebecca/opt/anaconda3/envs/pandas/lib/python3.8/site-packages/numpy/core/_methods.py:222: RuntimeWarning: invalid value encountered in true_divide\n",
      "  arrmean = um.true_divide(arrmean, div, out=arrmean, casting='unsafe',\n",
      "/Users/rebecca/opt/anaconda3/envs/pandas/lib/python3.8/site-packages/numpy/core/_methods.py:254: RuntimeWarning: invalid value encountered in double_scalars\n",
      "  ret = ret.dtype.type(ret / rcount)\n",
      "/Users/rebecca/opt/anaconda3/envs/pandas/lib/python3.8/site-packages/numpy/core/fromnumeric.py:3440: RuntimeWarning: Mean of empty slice.\n",
      "  return _methods._mean(a, axis=axis, dtype=dtype,\n",
      "/Users/rebecca/opt/anaconda3/envs/pandas/lib/python3.8/site-packages/numpy/core/_methods.py:189: RuntimeWarning: invalid value encountered in double_scalars\n",
      "  ret = ret.dtype.type(ret / rcount)\n",
      "/Users/rebecca/opt/anaconda3/envs/pandas/lib/python3.8/site-packages/numpy/core/_methods.py:262: RuntimeWarning: Degrees of freedom <= 0 for slice\n",
      "  ret = _var(a, axis=axis, dtype=dtype, out=out, ddof=ddof,\n",
      "/Users/rebecca/opt/anaconda3/envs/pandas/lib/python3.8/site-packages/numpy/core/_methods.py:222: RuntimeWarning: invalid value encountered in true_divide\n",
      "  arrmean = um.true_divide(arrmean, div, out=arrmean, casting='unsafe',\n",
      "/Users/rebecca/opt/anaconda3/envs/pandas/lib/python3.8/site-packages/numpy/core/_methods.py:254: RuntimeWarning: invalid value encountered in double_scalars\n",
      "  ret = ret.dtype.type(ret / rcount)\n",
      "/Users/rebecca/opt/anaconda3/envs/pandas/lib/python3.8/site-packages/numpy/core/fromnumeric.py:3440: RuntimeWarning: Mean of empty slice.\n",
      "  return _methods._mean(a, axis=axis, dtype=dtype,\n",
      "/Users/rebecca/opt/anaconda3/envs/pandas/lib/python3.8/site-packages/numpy/core/_methods.py:189: RuntimeWarning: invalid value encountered in double_scalars\n",
      "  ret = ret.dtype.type(ret / rcount)\n",
      "/Users/rebecca/opt/anaconda3/envs/pandas/lib/python3.8/site-packages/numpy/core/_methods.py:262: RuntimeWarning: Degrees of freedom <= 0 for slice\n",
      "  ret = _var(a, axis=axis, dtype=dtype, out=out, ddof=ddof,\n",
      "/Users/rebecca/opt/anaconda3/envs/pandas/lib/python3.8/site-packages/numpy/core/_methods.py:222: RuntimeWarning: invalid value encountered in true_divide\n",
      "  arrmean = um.true_divide(arrmean, div, out=arrmean, casting='unsafe',\n",
      "/Users/rebecca/opt/anaconda3/envs/pandas/lib/python3.8/site-packages/numpy/core/_methods.py:254: RuntimeWarning: invalid value encountered in double_scalars\n",
      "  ret = ret.dtype.type(ret / rcount)\n",
      "/Users/rebecca/opt/anaconda3/envs/pandas/lib/python3.8/site-packages/numpy/core/fromnumeric.py:3440: RuntimeWarning: Mean of empty slice.\n",
      "  return _methods._mean(a, axis=axis, dtype=dtype,\n",
      "/Users/rebecca/opt/anaconda3/envs/pandas/lib/python3.8/site-packages/numpy/core/_methods.py:189: RuntimeWarning: invalid value encountered in double_scalars\n",
      "  ret = ret.dtype.type(ret / rcount)\n",
      "/Users/rebecca/opt/anaconda3/envs/pandas/lib/python3.8/site-packages/numpy/core/_methods.py:262: RuntimeWarning: Degrees of freedom <= 0 for slice\n",
      "  ret = _var(a, axis=axis, dtype=dtype, out=out, ddof=ddof,\n",
      "/Users/rebecca/opt/anaconda3/envs/pandas/lib/python3.8/site-packages/numpy/core/_methods.py:222: RuntimeWarning: invalid value encountered in true_divide\n",
      "  arrmean = um.true_divide(arrmean, div, out=arrmean, casting='unsafe',\n",
      "/Users/rebecca/opt/anaconda3/envs/pandas/lib/python3.8/site-packages/numpy/core/_methods.py:254: RuntimeWarning: invalid value encountered in double_scalars\n",
      "  ret = ret.dtype.type(ret / rcount)\n",
      "/Users/rebecca/opt/anaconda3/envs/pandas/lib/python3.8/site-packages/numpy/core/fromnumeric.py:3440: RuntimeWarning: Mean of empty slice.\n",
      "  return _methods._mean(a, axis=axis, dtype=dtype,\n",
      "/Users/rebecca/opt/anaconda3/envs/pandas/lib/python3.8/site-packages/numpy/core/_methods.py:189: RuntimeWarning: invalid value encountered in double_scalars\n",
      "  ret = ret.dtype.type(ret / rcount)\n",
      "/Users/rebecca/opt/anaconda3/envs/pandas/lib/python3.8/site-packages/numpy/core/_methods.py:262: RuntimeWarning: Degrees of freedom <= 0 for slice\n",
      "  ret = _var(a, axis=axis, dtype=dtype, out=out, ddof=ddof,\n",
      "/Users/rebecca/opt/anaconda3/envs/pandas/lib/python3.8/site-packages/numpy/core/_methods.py:222: RuntimeWarning: invalid value encountered in true_divide\n",
      "  arrmean = um.true_divide(arrmean, div, out=arrmean, casting='unsafe',\n",
      "/Users/rebecca/opt/anaconda3/envs/pandas/lib/python3.8/site-packages/numpy/core/_methods.py:254: RuntimeWarning: invalid value encountered in double_scalars\n",
      "  ret = ret.dtype.type(ret / rcount)\n",
      "/Users/rebecca/opt/anaconda3/envs/pandas/lib/python3.8/site-packages/numpy/core/fromnumeric.py:3440: RuntimeWarning: Mean of empty slice.\n",
      "  return _methods._mean(a, axis=axis, dtype=dtype,\n",
      "/Users/rebecca/opt/anaconda3/envs/pandas/lib/python3.8/site-packages/numpy/core/_methods.py:189: RuntimeWarning: invalid value encountered in double_scalars\n",
      "  ret = ret.dtype.type(ret / rcount)\n",
      "/Users/rebecca/opt/anaconda3/envs/pandas/lib/python3.8/site-packages/numpy/core/_methods.py:262: RuntimeWarning: Degrees of freedom <= 0 for slice\n",
      "  ret = _var(a, axis=axis, dtype=dtype, out=out, ddof=ddof,\n",
      "/Users/rebecca/opt/anaconda3/envs/pandas/lib/python3.8/site-packages/numpy/core/_methods.py:222: RuntimeWarning: invalid value encountered in true_divide\n",
      "  arrmean = um.true_divide(arrmean, div, out=arrmean, casting='unsafe',\n",
      "/Users/rebecca/opt/anaconda3/envs/pandas/lib/python3.8/site-packages/numpy/core/_methods.py:254: RuntimeWarning: invalid value encountered in double_scalars\n",
      "  ret = ret.dtype.type(ret / rcount)\n",
      "/Users/rebecca/opt/anaconda3/envs/pandas/lib/python3.8/site-packages/numpy/core/fromnumeric.py:3440: RuntimeWarning: Mean of empty slice.\n",
      "  return _methods._mean(a, axis=axis, dtype=dtype,\n",
      "/Users/rebecca/opt/anaconda3/envs/pandas/lib/python3.8/site-packages/numpy/core/_methods.py:189: RuntimeWarning: invalid value encountered in double_scalars\n",
      "  ret = ret.dtype.type(ret / rcount)\n",
      "/Users/rebecca/opt/anaconda3/envs/pandas/lib/python3.8/site-packages/numpy/core/_methods.py:262: RuntimeWarning: Degrees of freedom <= 0 for slice\n",
      "  ret = _var(a, axis=axis, dtype=dtype, out=out, ddof=ddof,\n",
      "/Users/rebecca/opt/anaconda3/envs/pandas/lib/python3.8/site-packages/numpy/core/_methods.py:222: RuntimeWarning: invalid value encountered in true_divide\n",
      "  arrmean = um.true_divide(arrmean, div, out=arrmean, casting='unsafe',\n",
      "/Users/rebecca/opt/anaconda3/envs/pandas/lib/python3.8/site-packages/numpy/core/_methods.py:254: RuntimeWarning: invalid value encountered in double_scalars\n",
      "  ret = ret.dtype.type(ret / rcount)\n"
     ]
    },
    {
     "name": "stderr",
     "output_type": "stream",
     "text": [
      "/Users/rebecca/opt/anaconda3/envs/pandas/lib/python3.8/site-packages/numpy/core/fromnumeric.py:3440: RuntimeWarning: Mean of empty slice.\n",
      "  return _methods._mean(a, axis=axis, dtype=dtype,\n",
      "/Users/rebecca/opt/anaconda3/envs/pandas/lib/python3.8/site-packages/numpy/core/_methods.py:189: RuntimeWarning: invalid value encountered in double_scalars\n",
      "  ret = ret.dtype.type(ret / rcount)\n",
      "/Users/rebecca/opt/anaconda3/envs/pandas/lib/python3.8/site-packages/numpy/core/_methods.py:262: RuntimeWarning: Degrees of freedom <= 0 for slice\n",
      "  ret = _var(a, axis=axis, dtype=dtype, out=out, ddof=ddof,\n",
      "/Users/rebecca/opt/anaconda3/envs/pandas/lib/python3.8/site-packages/numpy/core/_methods.py:222: RuntimeWarning: invalid value encountered in true_divide\n",
      "  arrmean = um.true_divide(arrmean, div, out=arrmean, casting='unsafe',\n",
      "/Users/rebecca/opt/anaconda3/envs/pandas/lib/python3.8/site-packages/numpy/core/_methods.py:254: RuntimeWarning: invalid value encountered in double_scalars\n",
      "  ret = ret.dtype.type(ret / rcount)\n",
      "/Users/rebecca/opt/anaconda3/envs/pandas/lib/python3.8/site-packages/numpy/core/fromnumeric.py:3440: RuntimeWarning: Mean of empty slice.\n",
      "  return _methods._mean(a, axis=axis, dtype=dtype,\n",
      "/Users/rebecca/opt/anaconda3/envs/pandas/lib/python3.8/site-packages/numpy/core/_methods.py:189: RuntimeWarning: invalid value encountered in double_scalars\n",
      "  ret = ret.dtype.type(ret / rcount)\n",
      "/Users/rebecca/opt/anaconda3/envs/pandas/lib/python3.8/site-packages/numpy/core/_methods.py:262: RuntimeWarning: Degrees of freedom <= 0 for slice\n",
      "  ret = _var(a, axis=axis, dtype=dtype, out=out, ddof=ddof,\n",
      "/Users/rebecca/opt/anaconda3/envs/pandas/lib/python3.8/site-packages/numpy/core/_methods.py:222: RuntimeWarning: invalid value encountered in true_divide\n",
      "  arrmean = um.true_divide(arrmean, div, out=arrmean, casting='unsafe',\n",
      "/Users/rebecca/opt/anaconda3/envs/pandas/lib/python3.8/site-packages/numpy/core/_methods.py:254: RuntimeWarning: invalid value encountered in double_scalars\n",
      "  ret = ret.dtype.type(ret / rcount)\n",
      "/Users/rebecca/opt/anaconda3/envs/pandas/lib/python3.8/site-packages/numpy/core/fromnumeric.py:3440: RuntimeWarning: Mean of empty slice.\n",
      "  return _methods._mean(a, axis=axis, dtype=dtype,\n",
      "/Users/rebecca/opt/anaconda3/envs/pandas/lib/python3.8/site-packages/numpy/core/_methods.py:189: RuntimeWarning: invalid value encountered in double_scalars\n",
      "  ret = ret.dtype.type(ret / rcount)\n",
      "/Users/rebecca/opt/anaconda3/envs/pandas/lib/python3.8/site-packages/numpy/core/_methods.py:262: RuntimeWarning: Degrees of freedom <= 0 for slice\n",
      "  ret = _var(a, axis=axis, dtype=dtype, out=out, ddof=ddof,\n",
      "/Users/rebecca/opt/anaconda3/envs/pandas/lib/python3.8/site-packages/numpy/core/_methods.py:222: RuntimeWarning: invalid value encountered in true_divide\n",
      "  arrmean = um.true_divide(arrmean, div, out=arrmean, casting='unsafe',\n",
      "/Users/rebecca/opt/anaconda3/envs/pandas/lib/python3.8/site-packages/numpy/core/_methods.py:254: RuntimeWarning: invalid value encountered in double_scalars\n",
      "  ret = ret.dtype.type(ret / rcount)\n",
      "/Users/rebecca/opt/anaconda3/envs/pandas/lib/python3.8/site-packages/numpy/core/fromnumeric.py:3440: RuntimeWarning: Mean of empty slice.\n",
      "  return _methods._mean(a, axis=axis, dtype=dtype,\n",
      "/Users/rebecca/opt/anaconda3/envs/pandas/lib/python3.8/site-packages/numpy/core/_methods.py:189: RuntimeWarning: invalid value encountered in double_scalars\n",
      "  ret = ret.dtype.type(ret / rcount)\n",
      "/Users/rebecca/opt/anaconda3/envs/pandas/lib/python3.8/site-packages/numpy/core/_methods.py:262: RuntimeWarning: Degrees of freedom <= 0 for slice\n",
      "  ret = _var(a, axis=axis, dtype=dtype, out=out, ddof=ddof,\n",
      "/Users/rebecca/opt/anaconda3/envs/pandas/lib/python3.8/site-packages/numpy/core/_methods.py:222: RuntimeWarning: invalid value encountered in true_divide\n",
      "  arrmean = um.true_divide(arrmean, div, out=arrmean, casting='unsafe',\n",
      "/Users/rebecca/opt/anaconda3/envs/pandas/lib/python3.8/site-packages/numpy/core/_methods.py:254: RuntimeWarning: invalid value encountered in double_scalars\n",
      "  ret = ret.dtype.type(ret / rcount)\n",
      "/Users/rebecca/opt/anaconda3/envs/pandas/lib/python3.8/site-packages/numpy/core/fromnumeric.py:3440: RuntimeWarning: Mean of empty slice.\n",
      "  return _methods._mean(a, axis=axis, dtype=dtype,\n",
      "/Users/rebecca/opt/anaconda3/envs/pandas/lib/python3.8/site-packages/numpy/core/_methods.py:189: RuntimeWarning: invalid value encountered in double_scalars\n",
      "  ret = ret.dtype.type(ret / rcount)\n",
      "/Users/rebecca/opt/anaconda3/envs/pandas/lib/python3.8/site-packages/numpy/core/_methods.py:262: RuntimeWarning: Degrees of freedom <= 0 for slice\n",
      "  ret = _var(a, axis=axis, dtype=dtype, out=out, ddof=ddof,\n",
      "/Users/rebecca/opt/anaconda3/envs/pandas/lib/python3.8/site-packages/numpy/core/_methods.py:222: RuntimeWarning: invalid value encountered in true_divide\n",
      "  arrmean = um.true_divide(arrmean, div, out=arrmean, casting='unsafe',\n",
      "/Users/rebecca/opt/anaconda3/envs/pandas/lib/python3.8/site-packages/numpy/core/_methods.py:254: RuntimeWarning: invalid value encountered in double_scalars\n",
      "  ret = ret.dtype.type(ret / rcount)\n",
      "/Users/rebecca/opt/anaconda3/envs/pandas/lib/python3.8/site-packages/numpy/core/fromnumeric.py:3440: RuntimeWarning: Mean of empty slice.\n",
      "  return _methods._mean(a, axis=axis, dtype=dtype,\n",
      "/Users/rebecca/opt/anaconda3/envs/pandas/lib/python3.8/site-packages/numpy/core/_methods.py:189: RuntimeWarning: invalid value encountered in double_scalars\n",
      "  ret = ret.dtype.type(ret / rcount)\n",
      "/Users/rebecca/opt/anaconda3/envs/pandas/lib/python3.8/site-packages/numpy/core/_methods.py:262: RuntimeWarning: Degrees of freedom <= 0 for slice\n",
      "  ret = _var(a, axis=axis, dtype=dtype, out=out, ddof=ddof,\n",
      "/Users/rebecca/opt/anaconda3/envs/pandas/lib/python3.8/site-packages/numpy/core/_methods.py:222: RuntimeWarning: invalid value encountered in true_divide\n",
      "  arrmean = um.true_divide(arrmean, div, out=arrmean, casting='unsafe',\n",
      "/Users/rebecca/opt/anaconda3/envs/pandas/lib/python3.8/site-packages/numpy/core/_methods.py:254: RuntimeWarning: invalid value encountered in double_scalars\n",
      "  ret = ret.dtype.type(ret / rcount)\n",
      "/Users/rebecca/opt/anaconda3/envs/pandas/lib/python3.8/site-packages/numpy/core/fromnumeric.py:3440: RuntimeWarning: Mean of empty slice.\n",
      "  return _methods._mean(a, axis=axis, dtype=dtype,\n",
      "/Users/rebecca/opt/anaconda3/envs/pandas/lib/python3.8/site-packages/numpy/core/_methods.py:189: RuntimeWarning: invalid value encountered in double_scalars\n",
      "  ret = ret.dtype.type(ret / rcount)\n",
      "/Users/rebecca/opt/anaconda3/envs/pandas/lib/python3.8/site-packages/numpy/core/_methods.py:262: RuntimeWarning: Degrees of freedom <= 0 for slice\n",
      "  ret = _var(a, axis=axis, dtype=dtype, out=out, ddof=ddof,\n",
      "/Users/rebecca/opt/anaconda3/envs/pandas/lib/python3.8/site-packages/numpy/core/_methods.py:222: RuntimeWarning: invalid value encountered in true_divide\n",
      "  arrmean = um.true_divide(arrmean, div, out=arrmean, casting='unsafe',\n",
      "/Users/rebecca/opt/anaconda3/envs/pandas/lib/python3.8/site-packages/numpy/core/_methods.py:254: RuntimeWarning: invalid value encountered in double_scalars\n",
      "  ret = ret.dtype.type(ret / rcount)\n",
      "/Users/rebecca/opt/anaconda3/envs/pandas/lib/python3.8/site-packages/numpy/core/fromnumeric.py:3440: RuntimeWarning: Mean of empty slice.\n",
      "  return _methods._mean(a, axis=axis, dtype=dtype,\n",
      "/Users/rebecca/opt/anaconda3/envs/pandas/lib/python3.8/site-packages/numpy/core/_methods.py:189: RuntimeWarning: invalid value encountered in double_scalars\n",
      "  ret = ret.dtype.type(ret / rcount)\n",
      "/Users/rebecca/opt/anaconda3/envs/pandas/lib/python3.8/site-packages/numpy/core/_methods.py:262: RuntimeWarning: Degrees of freedom <= 0 for slice\n",
      "  ret = _var(a, axis=axis, dtype=dtype, out=out, ddof=ddof,\n",
      "/Users/rebecca/opt/anaconda3/envs/pandas/lib/python3.8/site-packages/numpy/core/_methods.py:222: RuntimeWarning: invalid value encountered in true_divide\n",
      "  arrmean = um.true_divide(arrmean, div, out=arrmean, casting='unsafe',\n",
      "/Users/rebecca/opt/anaconda3/envs/pandas/lib/python3.8/site-packages/numpy/core/_methods.py:254: RuntimeWarning: invalid value encountered in double_scalars\n",
      "  ret = ret.dtype.type(ret / rcount)\n",
      "/Users/rebecca/opt/anaconda3/envs/pandas/lib/python3.8/site-packages/numpy/core/fromnumeric.py:3440: RuntimeWarning: Mean of empty slice.\n",
      "  return _methods._mean(a, axis=axis, dtype=dtype,\n",
      "/Users/rebecca/opt/anaconda3/envs/pandas/lib/python3.8/site-packages/numpy/core/_methods.py:189: RuntimeWarning: invalid value encountered in double_scalars\n",
      "  ret = ret.dtype.type(ret / rcount)\n",
      "/Users/rebecca/opt/anaconda3/envs/pandas/lib/python3.8/site-packages/numpy/core/_methods.py:262: RuntimeWarning: Degrees of freedom <= 0 for slice\n",
      "  ret = _var(a, axis=axis, dtype=dtype, out=out, ddof=ddof,\n",
      "/Users/rebecca/opt/anaconda3/envs/pandas/lib/python3.8/site-packages/numpy/core/_methods.py:222: RuntimeWarning: invalid value encountered in true_divide\n",
      "  arrmean = um.true_divide(arrmean, div, out=arrmean, casting='unsafe',\n",
      "/Users/rebecca/opt/anaconda3/envs/pandas/lib/python3.8/site-packages/numpy/core/_methods.py:254: RuntimeWarning: invalid value encountered in double_scalars\n",
      "  ret = ret.dtype.type(ret / rcount)\n"
     ]
    },
    {
     "name": "stderr",
     "output_type": "stream",
     "text": [
      "/Users/rebecca/opt/anaconda3/envs/pandas/lib/python3.8/site-packages/numpy/core/fromnumeric.py:3440: RuntimeWarning: Mean of empty slice.\n",
      "  return _methods._mean(a, axis=axis, dtype=dtype,\n",
      "/Users/rebecca/opt/anaconda3/envs/pandas/lib/python3.8/site-packages/numpy/core/_methods.py:189: RuntimeWarning: invalid value encountered in double_scalars\n",
      "  ret = ret.dtype.type(ret / rcount)\n",
      "/Users/rebecca/opt/anaconda3/envs/pandas/lib/python3.8/site-packages/numpy/core/_methods.py:262: RuntimeWarning: Degrees of freedom <= 0 for slice\n",
      "  ret = _var(a, axis=axis, dtype=dtype, out=out, ddof=ddof,\n",
      "/Users/rebecca/opt/anaconda3/envs/pandas/lib/python3.8/site-packages/numpy/core/_methods.py:222: RuntimeWarning: invalid value encountered in true_divide\n",
      "  arrmean = um.true_divide(arrmean, div, out=arrmean, casting='unsafe',\n",
      "/Users/rebecca/opt/anaconda3/envs/pandas/lib/python3.8/site-packages/numpy/core/_methods.py:254: RuntimeWarning: invalid value encountered in double_scalars\n",
      "  ret = ret.dtype.type(ret / rcount)\n",
      "/Users/rebecca/opt/anaconda3/envs/pandas/lib/python3.8/site-packages/numpy/core/fromnumeric.py:3440: RuntimeWarning: Mean of empty slice.\n",
      "  return _methods._mean(a, axis=axis, dtype=dtype,\n",
      "/Users/rebecca/opt/anaconda3/envs/pandas/lib/python3.8/site-packages/numpy/core/_methods.py:189: RuntimeWarning: invalid value encountered in double_scalars\n",
      "  ret = ret.dtype.type(ret / rcount)\n",
      "/Users/rebecca/opt/anaconda3/envs/pandas/lib/python3.8/site-packages/numpy/core/_methods.py:262: RuntimeWarning: Degrees of freedom <= 0 for slice\n",
      "  ret = _var(a, axis=axis, dtype=dtype, out=out, ddof=ddof,\n",
      "/Users/rebecca/opt/anaconda3/envs/pandas/lib/python3.8/site-packages/numpy/core/_methods.py:222: RuntimeWarning: invalid value encountered in true_divide\n",
      "  arrmean = um.true_divide(arrmean, div, out=arrmean, casting='unsafe',\n",
      "/Users/rebecca/opt/anaconda3/envs/pandas/lib/python3.8/site-packages/numpy/core/_methods.py:254: RuntimeWarning: invalid value encountered in double_scalars\n",
      "  ret = ret.dtype.type(ret / rcount)\n"
     ]
    },
    {
     "data": {
      "image/png": "[encoded data removed]",
      "text/plain": [
       "<Figure size 921.6x691.2 with 1 Axes>"
      ]
     },
     "metadata": {
      "needs_background": "light"
     },
     "output_type": "display_data"
    }
   ],
   "source": [
    "\n",
    "import matplotlib.pyplot as plt\n",
    "cs = ['#00a1c1']\n",
    "fig, axs = plt.subplots(1,1, figsize=(12.8,9.6))\n",
    "y_aves_tp = []\n",
    "y_aves_tc = []\n",
    "x_aves_tp = []\n",
    "x_aves_tc = []\n",
    "count = 1\n",
    "eq_count = 0\n",
    "for mag_lim in np.arange(3, 5, 0.1):\n",
    "    #print(mag_lim)\n",
    "    y_aves_tp = []\n",
    "    y_aves_tc = []\n",
    "    x_aves_tp = []\n",
    "    x_aves_tc = []\n",
    "    for i  in range(0, len(list_mags)):\n",
    "        if list_mags[i] > mag_lim and list_mags[i]<5.8:\n",
    "            mean_tp = np.mean(list_tpmax[i]) \n",
    "            std_tp = np.std(list_tpmax[i]) \n",
    "            y_tp = []\n",
    "            #print(len(list_tpmax[i]))\n",
    "            for j in list_tpmax[i]: \n",
    "                if j > mean_tp-2*std_tp and j < mean_tp + 2*std_tp:# and j < 100: \n",
    "                    y_tp.append(math.log(j, 10)) \n",
    "            x_tp = np.zeros(len(y_tp))  \n",
    "            x_tp = x_tp + list_mags[i]  \n",
    "\n",
    "            mean_tc = np.mean(list_tc[i]) \n",
    "            std_tc = np.std(list_tc[i]) \n",
    "            y_tc = [] \n",
    "            for k in list_tc[i]: \n",
    "                if k > mean_tc-2*std_tc and k < mean_tc + 2*std_tc:# and k < 100: \n",
    "                    y_tc.append(math.log(k, 10)) \n",
    "            x_tc = np.zeros(len(y_tc))  \n",
    "            x_tc = x_tc + list_mags[i]\n",
    "            c = 0\n",
    "            if str(mag_lim) == str(4.4):# or mag_lim == 3:\n",
    "                #print('in if')\n",
    "                if len(x_tp)>0: # or len(x_tc)>0:\n",
    "                    if np.median(y_tp):\n",
    "                        axs.scatter(x_tp, y_tp, s = 15, alpha = 0.2, c = cs[c], marker = 'o', zorder =3) \n",
    "                    #axs[0].scatter(list_mags[i], np.mean(y_tp), s = 50, c = cs[c], marker = 'o')\n",
    "                        axs.scatter(list_mags[i], np.median(y_tp), s = 50, c = cs[c], marker = '^', zorder =4, alpha = 0.7)\n",
    "                    #axs[1].scatter(x_tc, y_tc, s = 15, alpha = 0.3, c = cs[c], marker = '^', zorder =3) \n",
    "                    #axs[1].scatter(list_mags[i], np.median(y_tc), s = 50, c = cs[c], marker = '^', zorder =4)\n",
    "                    #axs[1].scatter(list_mags[i], np.mean(y_tc), s = 50, c = cs[c], marker = 'o')\n",
    "                    #FOR CURVE FITTING\n",
    "            if math.isnan(np.median(y_tp))==False:\n",
    "                if np.median(y_tp):\n",
    "                    y_aves_tp.append(np.median(y_tp))\n",
    "                    x_aves_tp.append(list_mags[i])\n",
    "            if math.isnan(np.median(y_tc))==False:\n",
    "                y_aves_tc.append(np.median(y_tc))\n",
    "                x_aves_tc.append(list_mags[i])\n",
    "    popt, pcov = curve_fit(model_function_2, x_aves_tp, y_aves_tp)\n",
    "    #print(len(x_tp), mag_lim, popt)\n",
    "    axs.plot(np.array(x_aves_tp), model_function_2(np.array(x_aves_tp), *popt), color = '#003f5c', alpha = count/21, zorder =10)\n",
    "    if str(mag_lim) == str(4.4):\n",
    "        popt, pcov = curve_fit(model_function_2, x_aves_tp, y_aves_tp, absolute_sigma = True)\n",
    "        axs.plot(np.array(x_aves_tp), model_function_2(np.array(x_aves_tp), *popt), color='lime', zorder =100)\n",
    "        popt_final, pcov_final = popt, pcov\n",
    "        #print(x_aves_tp)\n",
    "        #print(y_aves_tp)\n",
    "        #print(len(x_aves_tp), len(y_aves_tp))\n",
    "        # add 2 * std banding\n",
    "\n",
    "        perr = np.sqrt(np.diag(pcov))\n",
    "        #print(popt, perr)\n",
    "        x_me = np.arange(3, 7.2, 0.1)\n",
    "        x_lower_me = x_me - perr[1]*2\n",
    "        x_upper_me =  x_me + perr[1]*2\n",
    "        y_me = popt[0]*x_me+popt[1]\n",
    "        y_lower_me = popt[0]*x_lower-popt[1]\n",
    "        y_upper_me = popt[0]*x_upper-popt[1]\n",
    "        #axs[0].plot(x, y_me, color = '')\n",
    "        axs.fill_between(x_me, model_function_2(np.array(x_lower_me), *popt), model_function_2(np.array(x_upper_me), *popt), color = '#8adfff', alpha = 0.52, zorder =1)\n",
    "        axs.plot(x_me, model_function_2(np.array(x_lower_me), *popt), color = '#003f5c', linestyle = '--', zorder =2)\n",
    "        axs.plot(x_me, model_function_2(np.array(x_upper_me), *popt), color = '#003f5c', linestyle = '--', zorder =2)\n",
    "            # add 2 * std banding\n",
    "    #axs[0].set_ylim([0.2,2])\n",
    "    #axs[0].set_yscale('log')\n",
    "    #axs[1].set_yscale('log')\n",
    "    count += 1\n",
    "#x = np.arange(3, 7.2, 0.1)\n",
    "#y = 0.14*x-0.83\n",
    "#axs.plot(x, y, color = '#2a83ab', zorder =12)\n",
    "axs.set_xlabel(\"magnitude\") \n",
    "#axs[1].set_xlabel(\"magnitude\") \n",
    "axs.set_ylabel(\"log(tp_max)\") \n",
    "#axs[1].set_ylabel(\"tc\")\n",
    "#axs.set_title(\"tp_max\") \n",
    "#axs[1].set_title(\"tc\") \n",
    "#fig.suptitle(\"median = triangle\")\n",
    "axs.tick_params(axis='both', which='major', labelsize=14)\n",
    "axs.tick_params(axis='both', which='minor', labelsize=14)\n",
    "#axs.set_ylim(-1, 1)"
   ]
  },
  {
   "cell_type": "code",
   "execution_count": 34,
   "metadata": {},
   "outputs": [
    {
     "name": "stdout",
     "output_type": "stream",
     "text": [
      "144\n"
     ]
    }
   ],
   "source": [
    "eq_count = 0\n",
    "for i  in range(0, len(list_mags)):\n",
    "    if list_mags[i] > mag_lim and list_mags[i]<5.8:\n",
    "        eq_count += 1\n",
    "print(eq_count)"
   ]
  },
  {
   "cell_type": "code",
   "execution_count": 35,
   "metadata": {
    "scrolled": true
   },
   "outputs": [
    {
     "data": {
      "text/plain": [
       "\"axs.scatter(m_olsen, tp_olsen, c = 'coral', marker = 'x', zorder = 20)\\npopt, pcov = curve_fit(model_function_2, m_olsen, tp_olsen, absolute_sigma = True)\\naxs.plot(np.array(m_olsen), model_function_2(np.array(m_olsen), *popt), color = 'k', zorder =10)\""
      ]
     },
     "execution_count": 35,
     "metadata": {},
     "output_type": "execute_result"
    }
   ],
   "source": [
    "'''axs.scatter(m_olsen, tp_olsen, c = 'coral', marker = 'x', zorder = 20)\n",
    "popt, pcov = curve_fit(model_function_2, m_olsen, tp_olsen, absolute_sigma = True)\n",
    "axs.plot(np.array(m_olsen), model_function_2(np.array(m_olsen), *popt), color = 'k', zorder =10)'''"
   ]
  },
  {
   "cell_type": "code",
   "execution_count": 36,
   "metadata": {},
   "outputs": [],
   "source": [
    "%%capture\n",
    "#plot line of best fit from olsen and allen 2005\n",
    "x = np.arange(3, 7.2, 0.1)\n",
    "x_lower = x - 0.54*2\n",
    "x_upper =  x + 0.54*2\n",
    "y = 0.14*x-0.83\n",
    "y_lower = 0.14*x_lower-0.83\n",
    "y_upper = 0.14*x_upper-0.83\n",
    "axs.plot(x, y, color = 'indianred', zorder =2, linestyle=':')\n",
    "axs.fill_between(x, y_lower, y_upper, alpha = 0.15, color='indianred', zorder =1)\n",
    "axs.plot(x, y_lower, color = 'indianred', linestyle = ':', zorder =2)\n",
    "axs.plot(x, y_upper, color = 'indianred', linestyle = ':', zorder =2)"
   ]
  },
  {
   "cell_type": "markdown",
   "metadata": {},
   "source": [
    "use scipy curve_fit to add my own line of best fit"
   ]
  },
  {
   "cell_type": "code",
   "execution_count": 37,
   "metadata": {},
   "outputs": [
    {
     "data": {
      "text/plain": [
       "array([ 0.55723295, -2.72105359])"
      ]
     },
     "execution_count": 37,
     "metadata": {},
     "output_type": "execute_result"
    }
   ],
   "source": [
    "popt"
   ]
  },
  {
   "cell_type": "code",
   "execution_count": 38,
   "metadata": {
    "scrolled": false
   },
   "outputs": [
    {
     "data": {
      "text/plain": [
       "\"#%%capture\\n# plot my own line of best fit\\npopt, pcov = curve_fit(model_function_2, x_aves_tp, y_aves_tp, absolute_sigma = True)\\n#axs.plot(np.array(x_aves_tp), model_function_2(np.array(x_aves_tp), *popt), color='#003f5c', zorder =2)\\n\\n# add 2 * std banding\\n\\nperr = np.sqrt(np.diag(pcov))\\nx_me = np.arange(3, 7.2, 0.1)\\nx_lower_me = x_me - perr[1]*2\\nx_upper_me =  x_me + perr[1]*2\\ny_me = popt[0]*x+popt[1]\\ny_lower_me = popt[0]*x_lower-popt[1]\\ny_upper_me = popt[0]*x_upper-popt[1]\\n#axs[0].plot(x, y_me, color = '')\\naxs.fill_between(x_me, model_function_2(np.array(x_lower_me), *popt), model_function_2(np.array(x_upper_me), *popt), color = '#8adfff', alpha = 0.52, zorder =1)\\naxs.plot(x_me, model_function_2(np.array(x_lower_me), *popt), color = '#003f5c', linestyle = '--', zorder =2)\\naxs.plot(x_me, model_function_2(np.array(x_upper_me), *popt), color = '#003f5c', linestyle = '--', zorder =2)\""
      ]
     },
     "execution_count": 38,
     "metadata": {},
     "output_type": "execute_result"
    }
   ],
   "source": [
    "'''#%%capture\n",
    "# plot my own line of best fit\n",
    "popt, pcov = curve_fit(model_function_2, x_aves_tp, y_aves_tp, absolute_sigma = True)\n",
    "#axs.plot(np.array(x_aves_tp), model_function_2(np.array(x_aves_tp), *popt), color='#003f5c', zorder =2)\n",
    "\n",
    "# add 2 * std banding\n",
    "\n",
    "perr = np.sqrt(np.diag(pcov))\n",
    "x_me = np.arange(3, 7.2, 0.1)\n",
    "x_lower_me = x_me - perr[1]*2\n",
    "x_upper_me =  x_me + perr[1]*2\n",
    "y_me = popt[0]*x+popt[1]\n",
    "y_lower_me = popt[0]*x_lower-popt[1]\n",
    "y_upper_me = popt[0]*x_upper-popt[1]\n",
    "#axs[0].plot(x, y_me, color = '')\n",
    "axs.fill_between(x_me, model_function_2(np.array(x_lower_me), *popt), model_function_2(np.array(x_upper_me), *popt), color = '#8adfff', alpha = 0.52, zorder =1)\n",
    "axs.plot(x_me, model_function_2(np.array(x_lower_me), *popt), color = '#003f5c', linestyle = '--', zorder =2)\n",
    "axs.plot(x_me, model_function_2(np.array(x_upper_me), *popt), color = '#003f5c', linestyle = '--', zorder =2)'''"
   ]
  },
  {
   "cell_type": "code",
   "execution_count": 39,
   "metadata": {},
   "outputs": [
    {
     "data": {
      "text/plain": [
       "[<matplotlib.lines.Line2D at 0x7fcdf3294940>]"
      ]
     },
     "execution_count": 39,
     "metadata": {},
     "output_type": "execute_result"
    }
   ],
   "source": [
    "x_lan = np.arange(5, 6, 0.1)\n",
    "y_lan = 0.34*x_lan-1.8\n",
    "axs.plot(x_lan, y_lan, color = 'magenta', zorder =100)"
   ]
  },
  {
   "cell_type": "code",
   "execution_count": 42,
   "metadata": {
    "scrolled": false
   },
   "outputs": [],
   "source": [
    "axs.set_ylim([-2,2])\n",
    "axs.set_title('lowpass @ 3Hz')\n",
    "fig # show updated figure\n",
    "fig.savefig('lowpass_filtered_tcmax')"
   ]
  },
  {
   "cell_type": "markdown",
   "metadata": {},
   "source": [
    "## published relationships"
   ]
  },
  {
   "cell_type": "code",
   "execution_count": null,
   "metadata": {},
   "outputs": [],
   "source": [
    "%%capture\n",
    "fig, axs = plt.subplots(1,1, figsize=(12.8,9.6))"
   ]
  },
  {
   "cell_type": "markdown",
   "metadata": {},
   "source": [
    "plot olsen and allen data"
   ]
  },
  {
   "cell_type": "code",
   "execution_count": 30,
   "metadata": {},
   "outputs": [],
   "source": [
    "%%capture\n",
    "axs.scatter(m_olsen, tp_olsen, c = 'grey', marker = 'x', zorder = 20, label = 'olson data')"
   ]
  },
  {
   "cell_type": "markdown",
   "metadata": {},
   "source": [
    "plot published line of best fit"
   ]
  },
  {
   "cell_type": "code",
   "execution_count": 31,
   "metadata": {},
   "outputs": [],
   "source": [
    "%%capture\n",
    "#plot line of best fit from olsen and allen 2005\n",
    "x = np.arange(3, 8.3, 0.1)\n",
    "x_lower = x - 0.54*2\n",
    "x_upper =  x + 0.54*2\n",
    "y = 0.14*x-0.83\n",
    "y_lower = 0.14*x_lower-0.83\n",
    "y_upper = 0.14*x_upper-0.83\n",
    "axs.plot(x, y, color = 'indianred', zorder =2, label = 'olson', linestyle = ':')\n",
    "axs.fill_between(x, y_lower, y_upper, alpha = 0.15, color='indianred', zorder =1, label='olson error')\n",
    "axs.plot(x, y_lower, color = 'indianred', linestyle = ':', zorder =2)\n",
    "axs.plot(x, y_upper, color = 'indianred', linestyle = ':', zorder =2)\n"
   ]
  },
  {
   "cell_type": "markdown",
   "metadata": {},
   "source": [
    "using model_function_2, calculate line of best fit with olsen and allen data"
   ]
  },
  {
   "cell_type": "code",
   "execution_count": 32,
   "metadata": {},
   "outputs": [],
   "source": [
    "%%capture\n",
    "popt, pcov = curve_fit(model_function_2, m_olsen, tp_olsen, absolute_sigma = True)\n",
    "axs.plot(np.array(m_olsen), model_function_2(np.array(m_olsen), *popt), color = 'coral', zorder =10, label='recalc olson', linestyle = '--')\n",
    "perr = np.sqrt(np.diag(pcov))\n",
    "\n",
    "x_olsen_recalc = np.arange(3, 8.3, 0.1)\n",
    "x_lower_olsen_recalc = x_olsen_recalc - perr[1]*2\n",
    "x_upper_olsen_recalc =  x_olsen_recalc + perr[1]*2\n",
    "y_olsen_recalc = popt[0]*x+popt[1]\n",
    "y_lower_olsen_recalc = popt[0]*x_lower+popt[1]\n",
    "y_upper_olsen_recalc = popt[0]*x_upper+popt[1]\n",
    "#axs[0].plot(x, y_me, color = '')\n",
    "axs.fill_between(x_olsen_recalc, model_function_2(np.array(x_lower_olsen_recalc), *popt), model_function_2(np.array(x_upper_olsen_recalc), *popt), color = 'coral', alpha = 0.15, zorder =1, label='recalc olson error')\n",
    "axs.plot(x_olsen_recalc, model_function_2(np.array(x_lower_olsen_recalc), *popt), color = 'coral', linestyle = '--', zorder =2)\n",
    "axs.plot(x_olsen_recalc, model_function_2(np.array(x_upper_olsen_recalc), *popt), color = 'coral', linestyle = '--', zorder =2)\n",
    "\n"
   ]
  },
  {
   "cell_type": "code",
   "execution_count": 33,
   "metadata": {},
   "outputs": [
    {
     "data": {
      "text/plain": [
       "array([ 0.14203559, -0.80358558])"
      ]
     },
     "execution_count": 33,
     "metadata": {},
     "output_type": "execute_result"
    }
   ],
   "source": [
    "popt"
   ]
  },
  {
   "cell_type": "markdown",
   "metadata": {},
   "source": [
    "add line of best fit from lancieri et al"
   ]
  },
  {
   "cell_type": "code",
   "execution_count": 34,
   "metadata": {},
   "outputs": [
    {
     "data": {
      "text/plain": [
       "[<matplotlib.lines.Line2D at 0x7fa762d9da60>]"
      ]
     },
     "execution_count": 34,
     "metadata": {},
     "output_type": "execute_result"
    }
   ],
   "source": [
    "x_lan = np.arange(5, 6, 0.1)\n",
    "y_lan = 0.34*x_lan-1.8\n",
    "axs.plot(x_lan, y_lan, color = 'rebeccapurple', zorder =1, label='lancieri')"
   ]
  },
  {
   "cell_type": "code",
   "execution_count": 35,
   "metadata": {},
   "outputs": [
    {
     "data": {
      "image/png": "[encoded data removed]",
      "text/plain": [
       "<Figure size 921.6x691.2 with 1 Axes>"
      ]
     },
     "execution_count": 35,
     "metadata": {},
     "output_type": "execute_result"
    }
   ],
   "source": [
    "axs.legend()\n",
    "fig"
   ]
  },
  {
   "cell_type": "code",
   "execution_count": null,
   "metadata": {},
   "outputs": [],
   "source": []
  },
  {
   "cell_type": "code",
   "execution_count": null,
   "metadata": {},
   "outputs": [],
   "source": []
  },
  {
   "cell_type": "code",
   "execution_count": null,
   "metadata": {},
   "outputs": [],
   "source": []
  }
 ],
 "metadata": {
  "kernelspec": {
   "display_name": "Python 3 (ipykernel)",
   "language": "python",
   "name": "python3"
  },
  "language_info": {
   "codemirror_mode": {
    "name": "ipython",
    "version": 3
   },
   "file_extension": ".py",
   "mimetype": "text/x-python",
   "name": "python",
   "nbconvert_exporter": "python",
   "pygments_lexer": "ipython3",
   "version": "3.8.12"
  }
 },
 "nbformat": 4,
 "nbformat_minor": 2
}
