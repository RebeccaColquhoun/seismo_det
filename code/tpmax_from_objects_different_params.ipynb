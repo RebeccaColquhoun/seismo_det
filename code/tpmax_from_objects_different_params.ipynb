{
 "cells": [
  {
   "cell_type": "markdown",
   "metadata": {},
   "source": [
    "## Imports"
   ]
  },
  {
   "cell_type": "code",
   "execution_count": 2,
   "metadata": {},
   "outputs": [
    {
     "name": "stdout",
     "output_type": "stream",
     "text": [
      "\n"
     ]
    }
   ],
   "source": [
    "print('')"
   ]
  },
  {
   "cell_type": "code",
   "execution_count": 1,
   "metadata": {},
   "outputs": [],
   "source": [
    "import os\n",
    "import math\n",
    "import obspy\n",
    "import pickle\n",
    "import datetime\n",
    "import numpy as np\n",
    "import matplotlib.pyplot as plt\n",
    "\n",
    "from matplotlib.pyplot import figure\n",
    "from scipy.optimize import curve_fit\n",
    "from datetime import timedelta\n",
    "from obspy import UTCDateTime\n",
    "from obspy.clients.fdsn import Client\n",
    "\n",
    "from earthquake import Earthquake\n",
    "import util\n",
    "import pandas as pd\n",
    "from numba import jit\n",
    "from multiprocessing import Pool"
   ]
  },
  {
   "cell_type": "markdown",
   "metadata": {},
   "source": [
    "## Get set up\n",
    "Set path to data, and read eq_list (all folders in root folder)"
   ]
  },
  {
   "cell_type": "markdown",
   "metadata": {},
   "source": [
    "## the action!!\n",
    "For all events with data, load their object . add tp_max and tc  to lists (for plotting)"
   ]
  },
  {
   "cell_type": "code",
   "execution_count": 2,
   "metadata": {},
   "outputs": [],
   "source": [
    "list_tpmax = []\n",
    "list_mags = []\n",
    "list_mag_types = []\n",
    "list_eq = []\n",
    "eqs = {}\n",
    "count = 0"
   ]
  },
  {
   "cell_type": "code",
   "execution_count": 3,
   "metadata": {},
   "outputs": [],
   "source": [
    "parameters = [[1,0.1,19,0,'eq_object_1s_bandpass_01_19_snr_20_blank_0'],\n",
    "[1,0.1,19,0.05,'eq_object_1s_bandpass_01_19_snr_20_blank_005'],\n",
    "[1,0.1,19,0.1,'eq_object_1s_bandpass_01_19_snr_20_blank_01'],\n",
    "[1,0.1,19,0.25,'eq_object_1s_bandpass_01_19_snr_20_blank_025'],\n",
    "[1,0.1,19,0.5,'eq_object_1s_bandpass_01_19_snr_20_blank_05'],\n",
    "[4,0.1,19,0,'eq_object_4s_bandpass_01_19_snr_20_blank_0'],\n",
    "[4,0.1,19,0.05,'eq_object_4s_bandpass_01_19_snr_20_blank_005'],\n",
    "[4,0.1,19,0.1,'eq_object_4s_bandpass_01_19_snr_20_blank_01'],\n",
    "[4,0.1,19,0.25,'eq_object_4s_bandpass_01_19_snr_20_blank_025'],\n",
    "[4,0.1,19,0.5,'eq_object_4s_bandpass_01_19_snr_20_blank_05']]\n",
    "#[1,0.1,19,0.5,'eq_object_1s_bandpass_01_19_snr_20'],\n",
    "#[2,0.1,19,0.5,'eq_object_2s_bandpass_01_19_snr_20'],\n",
    "#[3,0.1,19,0.5,'eq_object_3s_bandpass_01_19_snr_20'],\n",
    "#[4,0.1,19,0.5,'eq_object_4s_bandpass_01_19_snr_20']]\n"
   ]
  },
  {
   "cell_type": "code",
   "execution_count": null,
   "metadata": {},
   "outputs": [],
   "source": [
    "def model_function(x_data, a, b):\n",
    "    return 10**(a*x_data + b)"
   ]
  },
  {
   "cell_type": "code",
   "execution_count": null,
   "metadata": {},
   "outputs": [],
   "source": [
    "def model_function_2(x_data, a, b):\n",
    "    return a*x_data + b"
   ]
  },
  {
   "cell_type": "code",
   "execution_count": null,
   "metadata": {},
   "outputs": [],
   "source": [
    "WINDOW_LENGTH=1"
   ]
  },
  {
   "cell_type": "code",
   "execution_count": null,
   "metadata": {},
   "outputs": [],
   "source": [
    "def plot_for_params(list_mags, list_tpmax, title):\n",
    "    %matplotlib inline\n",
    "    params = []\n",
    "    opacities = np.linspace(0.2,1,45)\n",
    "    import matplotlib.pyplot as plt\n",
    "    cs = ['midnightblue']#'#00a1c1']\n",
    "    #fig, axs = plt.subplots(1,1, figsize=(12.8,9.6))\n",
    "    y_aves_tp = []\n",
    "    x_aves_tp = []\n",
    "    count = 1\n",
    "    eq_count = 0\n",
    "    medians = [[] for _ in range(0, 45)]\n",
    "    medians_of_medians = [[] for _ in range(0, 45)]\n",
    "    n = 0\n",
    "    median_absolute_deviation = []\n",
    "    sum_absolute_deviation = []\n",
    "    all_abs_deviation = []\n",
    "    for n in [1]:#range(1, 10):#number of stations eq at least measured at\n",
    "        med_for_ad = []\n",
    "        mag_for_ad = []\n",
    "        fig, axs = plt.subplots(1,1, figsize=(12.8,9.6))\n",
    "        for mag_lim in [3.4]:#, 3.4, 4.0, 4.4]:#np.arange(3.0, 6.5, 0.1):\n",
    "            print(time.perf_counter()) \n",
    "            y_aves_tp = []\n",
    "            x_aves_tp = []\n",
    "            for i  in range(0, len(list_mags)):\n",
    "\n",
    "                if list_mags[i] > mag_lim and list_mags[i]<=max(list_mags):\n",
    "                    if len(list_tpmax[i])>=n:\n",
    "                        mean_tp = np.mean(list_tpmax[i]) \n",
    "                        std_tp = np.std(list_tpmax[i]) \n",
    "                        y_tp = [] \n",
    "                        for j in list_tpmax[i]: \n",
    "                            if j > mean_tp-2*std_tp and j < mean_tp + 2*std_tp:# and j < 100: \n",
    "                                y_tp.append(math.log(j, 10))\n",
    "                            elif len(list_tpmax[i])==1:\n",
    "                                y_tp.append(math.log(j, 10))\n",
    "                        x_tp = np.zeros(len(y_tp))  \n",
    "                        x_tp = x_tp + list_mags[i]\n",
    "                        c = 0\n",
    "                        if len(x_tp)>0 and mag_lim == 3.4:\n",
    "                            if math.isnan(np.median(y_tp))==False:\n",
    "                                axs.scatter(list_mags[i]-5+np.random.uniform(-0.05, 0.05), np.median(y_tp), s = 50, c = cs[c], marker = '^', zorder =110, alpha = 0.5)\n",
    "                            medians[int(np.round(x_tp[0],1)*10)-30].append(y_tp)\n",
    "                            med_for_ad.append(np.median(y_tp))\n",
    "                            mag_for_ad.append(list_mags[i])\n",
    "                        if math.isnan(np.median(y_tp))==False:  \n",
    "                            y_aves_tp.append(np.median(y_tp))\n",
    "                            medians_of_medians[int(np.round(x_tp[0],1)*10)-30].append(np.median(y_tp))\n",
    "                            x_aves_tp.append(list_mags[i])\n",
    "            if len(y_aves_tp)>0:\n",
    "                popt, pcov = curve_fit(model_function_2, x_aves_tp, y_aves_tp)\n",
    "                params.append([popt, len(x_aves_tp)])\n",
    "                print(mag_lim, popt)\n",
    "\n",
    "                x_use = np.array(x_aves_tp) - 5\n",
    "                y_use = np.array(y_aves_tp)\n",
    "\n",
    "                if str(mag_lim) == str(3.4):\n",
    "                    popt, pcov = curve_fit(model_function_2, x_use, y_use, absolute_sigma = True)\n",
    "                    axs.plot(np.array(x_use), model_function_2(np.array(x_use), *popt), color='orange', zorder =100)\n",
    "                    popt_final, pcov_final = popt, pcov\n",
    "\n",
    "                print(len(x_aves_tp), len(y_aves_tp))\n",
    "                count += 1\n",
    "        try:\n",
    "            med = []\n",
    "            med_x = []\n",
    "            med2 = []\n",
    "            xs = np.arange(3,7.5,0.1)-5\n",
    "            for i in range(0, len(medians_of_medians)):\n",
    "                med.append(np.median(medians_of_medians[i]))\n",
    "                if len(medians_of_medians[i])>0:\n",
    "                    med_x.append(xs[i])\n",
    "                    med2.append(np.median(medians_of_medians[i]))\n",
    "            popt, pcov = popt_final, pcov_final\n",
    "            perr = np.sqrt(np.diag(pcov))\n",
    "            print(popt, perr)\n",
    "            x_me = np.arange(0, 7.2, 0.1)\n",
    "            x_lower_me = x_me - perr[1]*2\n",
    "            x_upper_me =  x_me + perr[1]*2\n",
    "            y_me = popt[0]*x_me+popt[1]\n",
    "            y_lower_me = popt[0]*x_lower_me-popt[1]\n",
    "            y_upper_me = popt[0]*x_upper_me-popt[1]\n",
    "\n",
    "            a = popt[0]\n",
    "            a_true = a\n",
    "            b = popt[1]\n",
    "            b_true = b\n",
    "            std_a = perr[0]\n",
    "            std_b = perr[1]\n",
    "            x_me = np.arange(3, 7.2, 0.1)-5\n",
    "            y_1 = (a+std_a)*x_me + (b+std_b)\n",
    "            y_2 = (a+std_a)*x_me + (b-std_b)\n",
    "            y_3 = (a-std_a)*x_me + (b+std_b)\n",
    "            y_4 = (a-std_a)*x_me + (b-std_b)\n",
    "\n",
    "            y_min = np.minimum(np.minimum(y_1, y_2), np.minimum(y_3, y_4))\n",
    "            y_max = np.maximum(np.maximum(y_1, y_2), np.maximum(y_3, y_4))\n",
    "\n",
    "            axs.set_xlabel(\"magnitude\", fontsize = 14) \n",
    "\n",
    "            axs.set_ylabel(\"log(tp_max)\", fontsize = 14) \n",
    "            axs.tick_params(axis='both', which='major', labelsize=14)\n",
    "            axs.tick_params(axis='both', which='minor', labelsize=14)\n",
    "            olsen_x = np.arange(3,7,0.1)\n",
    "            olsen_y = 0.14*(olsen_x-5) - 0.83\n",
    "            axs.plot(olsen_x-5, olsen_y)\n",
    "\n",
    "            fig.suptitle(str(n)+ \" --- window = \"+str(WINDOW_LENGTH))\n",
    "\n",
    "        except Exception:\n",
    "            print('wrong')\n",
    "\n",
    "        point_indices = np.array(mag_for_ad)*10-30\n",
    "        absolute_deviation = []\n",
    "        for ind in range(0, len(point_indices)):\n",
    "            absolute_deviation.append(abs(10**med_for_ad[int(ind)]-(10**y_me[int(point_indices[ind])])))\n",
    "        print(len(absolute_deviation))\n",
    "        all_abs_deviation.append(absolute_deviation)\n",
    "        sum_absolute_deviation.append(np.sum(absolute_deviation))\n",
    "        median_absolute_deviation.append(np.median(absolute_deviation))\n",
    "        x = x_me\n",
    "        eigenvalues, eigenvectors = np.linalg.eig(pcov)\n",
    "        theta = np.linspace(0, 2*np.pi, 1000);\n",
    "        ev_95 = np.sqrt(5.99)*np.array([np.sqrt(eigenvalues[0]),np.sqrt(eigenvalues[1])])\n",
    "        ellipsis_95 = (ev_95 * eigenvectors) @ [np.sin(theta), np.cos(theta)]\n",
    "        for i in range(0, ellipsis_95.shape[1]):\n",
    "            b_95 ,a_95 = ellipsis_95[:,i]\n",
    "            axs.plot(x, (a_95+a_true)*x + (b_95+b_true), color = '#ffb253', alpha = 0.2, zorder = 100)\n",
    "        for i in range(0, ellipsis_95.shape[1]):\n",
    "            b_95 ,a_95 = ellipsis_95[:,i]\n",
    "            axs.plot(x, (2*a_95+a_true)*x + (2*b_95+b_true), color = '#f7e6d6', alpha = 0.1, zorder = 100)\n",
    "        axs.plot(x, popt[0]*x + popt[1], color = '#ff9500', zorder = 105, alpha = 1)\n",
    "        axs.set_xticks([-2,-1,0,1,2,3], [3,4,5,6,7,8], zorder = 110)\n",
    "        #plt.show()\n",
    "        axs.set_ylim([-2,1])\n",
    "        axs.set_title(title)\n",
    "        plt.savefig('/home/earthquakes1/homes/Rebecca/phd/seismo_det/figures/tp_different_params/'+title, format = 'pdf')\n",
    "\n",
    "    #plt.savefig('/home/earthquakes1/homes/Rebecca/phd/seismo_det/figures/tp_and_tc/different_station_numbers/1s_bandpass_n_stations_'+str(n)+'_plus_shading_based_on_34_plus.png')"
   ]
  },
  {
   "cell_type": "code",
   "execution_count": 8,
   "metadata": {
    "scrolled": false
   },
   "outputs": [],
   "source": [
    "def load_and_plot(p):\n",
    "    fn = p[-1]\n",
    "    list_tpmax = []\n",
    "    list_mags = []\n",
    "    folders = os.listdir('/home/earthquakes1/homes/Rebecca/phd/data/2018_2021_global_m5/')\n",
    "    #os_start = time.perf_counter()\n",
    "    for eq_no in range(0, len(folders)):\n",
    "        #start = time.perf_counter()\n",
    "        if os.path.exists('/home/earthquakes1/homes/Rebecca/phd/data/2018_2021_global_m5/'+folders[eq_no]+'/'+fn+'.pkl'):\n",
    "            with open('/home/earthquakes1/homes/Rebecca/phd/data/2018_2021_global_m5/'+folders[eq_no]+'/'+fn+'.pkl', 'rb') as picklefile:\n",
    "                eq = pickle.load(picklefile)\n",
    "            list_tpmax.append(eq.calculated_params['tau_p_max'])\n",
    "            list_mags.append(eq.event_stats['eq_mag'])\n",
    "            list_mag_types.append(eq.event_stats['eq_mag_type'])\n",
    "            #stop = time.perf_counter()\n",
    "    print(p[-1],'onto small')\n",
    "    folders = os.listdir('/home/earthquakes1/homes/Rebecca/phd/data/2019_global_m3/')\n",
    "    for eq_no in range(0, len(folders)):\n",
    "        if os.path.exists('/home/earthquakes1/homes/Rebecca/phd/data/2019_global_m3/'+folders[eq_no]+'/'+fn+'.pkl'):\n",
    "            with open('/home/earthquakes1/homes/Rebecca/phd/data/2019_global_m3/'+folders[eq_no]+'/'+fn+'.pkl', 'rb') as picklefile:\n",
    "                eq = pickle.load(picklefile)\n",
    "            #print(time.perf_counter())\n",
    "            list_tpmax.append(eq.calculated_params['tau_p_max'])\n",
    "            list_mags.append(eq.event_stats['eq_mag'])\n",
    "            list_mag_types.append(eq.event_stats['eq_mag_type'])\n",
    "    #os_stop = time.perf_counter()\n",
    "    #t_os.append(os_stop-os_start)\n",
    "    print('loading')\n",
    "    #print(p[-1])\n",
    "    #plot_start = time.perf_counter()       \n",
    "    plot_for_params(list_mags, list_tpmax, p[-1])\n",
    "    #plot_stop = time.perf_counter()\n",
    "    #t_plot.append(plot_stop-plot_start)\n",
    "    #print(p[-1],plot_stop-plot_start)"
   ]
  },
  {
   "cell_type": "code",
   "execution_count": null,
   "metadata": {},
   "outputs": [
    {
     "name": "stdout",
     "output_type": "stream",
     "text": [
      "eq_object_4s_bandpass_01_19_snr_20_blank_0 onto small\n",
      "eq_object_4s_bandpass_01_19_snr_20_blank_005 onto small\n",
      "eq_object_1s_bandpass_01_19_snr_20_blank_05 onto small\n",
      "eq_object_4s_bandpass_01_19_snr_20_blank_01 onto small\n",
      "eq_object_1s_bandpass_01_19_snr_20_blank_01 onto small\n",
      "eq_object_1s_bandpass_01_19_snr_20_blank_005eq_object_1s_bandpass_01_19_snr_20_blank_025  onto smallonto small\n",
      "\n",
      "eq_object_1s_bandpass_01_19_snr_20_blank_0 onto small\n"
     ]
    }
   ],
   "source": [
    "with Pool(os.cpu_count()//2) as pool:\n",
    "    pool.map(load_and_plot, parameters)"
   ]
  },
  {
   "cell_type": "code",
   "execution_count": 39,
   "metadata": {},
   "outputs": [
    {
     "data": {
      "text/plain": [
       "<matplotlib.legend.Legend at 0x7f3a512350c0>"
      ]
     },
     "execution_count": 39,
     "metadata": {},
     "output_type": "execute_result"
    },
    {
     "data": {
      "image/png": "[encoded data removed]",
      "text/plain": [
       "<Figure size 432x288 with 1 Axes>"
      ]
     },
     "metadata": {
      "needs_background": "light"
     },
     "output_type": "display_data"
    }
   ],
   "source": [
    "plt.plot(n_list, t_plot, label = 'plot')\n",
    "plt.plot(n_list, t_try, label = 'try')\n",
    "plt.plot(n_list, t_os, label = 'os')\n",
    "plt.legend()"
   ]
  },
  {
   "cell_type": "code",
   "execution_count": 4,
   "metadata": {},
   "outputs": [],
   "source": []
  },
  {
   "cell_type": "code",
   "execution_count": 5,
   "metadata": {},
   "outputs": [],
   "source": []
  },
  {
   "cell_type": "code",
   "execution_count": 6,
   "metadata": {},
   "outputs": [],
   "source": []
  },
  {
   "cell_type": "code",
   "execution_count": 7,
   "metadata": {
    "scrolled": false
   },
   "outputs": [],
   "source": []
  },
  {
   "cell_type": "code",
   "execution_count": 57,
   "metadata": {},
   "outputs": [
    {
     "data": {
      "text/plain": [
       "array([ 0.22078975, -0.42960692])"
      ]
     },
     "execution_count": 57,
     "metadata": {},
     "output_type": "execute_result"
    }
   ],
   "source": [
    "popt"
   ]
  },
  {
   "cell_type": "code",
   "execution_count": 58,
   "metadata": {},
   "outputs": [
    {
     "data": {
      "text/plain": [
       "array([[0.00681407, 0.00680199],\n",
       "       [0.00680199, 0.00873924]])"
      ]
     },
     "execution_count": 58,
     "metadata": {},
     "output_type": "execute_result"
    }
   ],
   "source": [
    "pcov"
   ]
  },
  {
   "cell_type": "code",
   "execution_count": null,
   "metadata": {},
   "outputs": [],
   "source": [
    "eigenvalues, eigenvectors = np.linalg.eig(pcov)"
   ]
  },
  {
   "cell_type": "code",
   "execution_count": null,
   "metadata": {},
   "outputs": [],
   "source": [
    "eigenvalues"
   ]
  },
  {
   "cell_type": "code",
   "execution_count": null,
   "metadata": {},
   "outputs": [],
   "source": [
    "eigenvalues[0]"
   ]
  },
  {
   "cell_type": "code",
   "execution_count": null,
   "metadata": {},
   "outputs": [],
   "source": []
  },
  {
   "cell_type": "code",
   "execution_count": null,
   "metadata": {},
   "outputs": [],
   "source": [
    "theta = np.linspace(0, 2*np.pi, 1000);\n",
    "ellipsis = (np.sqrt(eigenvalues[None,:]) * eigenvectors) @ [np.sin(theta), np.cos(theta)]\n",
    "plt.plot(popt[0]+ellipsis[0,:], popt[1]+ellipsis[1,:])"
   ]
  },
  {
   "cell_type": "code",
   "execution_count": null,
   "metadata": {},
   "outputs": [],
   "source": [
    "len(x_use)"
   ]
  },
  {
   "cell_type": "code",
   "execution_count": null,
   "metadata": {},
   "outputs": [],
   "source": [
    "[np.sqrt(eigenvalues[0]/len(x_use)-1),np.sqrt(eigenvalues[1]/len(x_use)-1)]"
   ]
  },
  {
   "cell_type": "code",
   "execution_count": null,
   "metadata": {},
   "outputs": [],
   "source": [
    "theta = np.linspace(0, 2*np.pi, 1000);\n",
    "ev_95 = np.sqrt(5.99)*np.array([np.sqrt(eigenvalues[0]/(len(y_tp)-1)),np.sqrt(eigenvalues[1]/(len(y_tp)-1))])\n",
    "ellipsis_95 = (ev_95 * eigenvectors) @ [np.sin(theta), np.cos(theta)]\n",
    "plt.plot(ellipsis_95[0,:], ellipsis_95[1,:])"
   ]
  },
  {
   "cell_type": "code",
   "execution_count": null,
   "metadata": {},
   "outputs": [],
   "source": [
    "ev_95"
   ]
  },
  {
   "cell_type": "code",
   "execution_count": 59,
   "metadata": {},
   "outputs": [
    {
     "data": {
      "text/plain": [
       "[<matplotlib.lines.Line2D at 0x7fe61f0d8640>]"
      ]
     },
     "execution_count": 59,
     "metadata": {},
     "output_type": "execute_result"
    },
    {
     "data": {
      "image/png": "[encoded data removed]",
      "text/plain": [
       "<Figure size 432x288 with 1 Axes>"
      ]
     },
     "metadata": {
      "needs_background": "light"
     },
     "output_type": "display_data"
    }
   ],
   "source": [
    "plt.plot(ellipsis_95[0,:], ellipsis_95[1,:])"
   ]
  },
  {
   "cell_type": "code",
   "execution_count": null,
   "metadata": {},
   "outputs": [],
   "source": [
    "popt"
   ]
  },
  {
   "cell_type": "markdown",
   "metadata": {},
   "source": [
    "##### popt"
   ]
  },
  {
   "cell_type": "code",
   "execution_count": null,
   "metadata": {},
   "outputs": [],
   "source": [
    "eigenvalues[0]/(len(x_use)-1)"
   ]
  },
  {
   "cell_type": "code",
   "execution_count": null,
   "metadata": {},
   "outputs": [],
   "source": [
    "ellipsis_95"
   ]
  },
  {
   "cell_type": "code",
   "execution_count": null,
   "metadata": {},
   "outputs": [],
   "source": [
    "[1/np.sqrt(eigenvalues[0]),1/np.sqrt(eigenvalues[1])]*2.44"
   ]
  },
  {
   "cell_type": "code",
   "execution_count": null,
   "metadata": {},
   "outputs": [],
   "source": [
    "popt[0]*x + popt[1]"
   ]
  },
  {
   "cell_type": "code",
   "execution_count": null,
   "metadata": {},
   "outputs": [],
   "source": [
    "x = np.arange(3,7,0.1)"
   ]
  },
  {
   "cell_type": "code",
   "execution_count": null,
   "metadata": {},
   "outputs": [],
   "source": [
    "for i in range(0, ellipsis.shape[1]):\n",
    "    b,a = ellipsis[:,i]\n",
    "    plt.plot(x, a*x + b, color = 'k')\n",
    "plt.plot(x, popt[0]*x + popt[1], color = 'orange')\n",
    "axs.scatter(list_mags[i]-5+np.random.uniform(-0.05, 0.05), np.median(y_tp), s = 50, c = cs[c], marker = '^', zorder =4, alpha = 0.7)"
   ]
  },
  {
   "cell_type": "code",
   "execution_count": null,
   "metadata": {},
   "outputs": [],
   "source": [
    "for i in range(0, ellipsis.shape[1]):\n",
    "    b,a = ellipsis_95[:,i]\n",
    "    plt.plot(x, a*x + b, color = 'k')\n",
    "plt.plot(x, popt[0]*x + popt[1], color = 'orange')"
   ]
  },
  {
   "cell_type": "code",
   "execution_count": null,
   "metadata": {},
   "outputs": [],
   "source": [
    "a"
   ]
  },
  {
   "cell_type": "code",
   "execution_count": null,
   "metadata": {},
   "outputs": [],
   "source": []
  },
  {
   "cell_type": "code",
   "execution_count": null,
   "metadata": {},
   "outputs": [],
   "source": [
    "x_use = []\n",
    "x_use.append(x_aves_tp)\n",
    "x_use.append(x_aves_tp)\n",
    "x_use.append(x_aves_tp)\n",
    "x_use = np.concatenate(x_use )"
   ]
  },
  {
   "cell_type": "code",
   "execution_count": null,
   "metadata": {},
   "outputs": [],
   "source": [
    "x_use"
   ]
  },
  {
   "cell_type": "code",
   "execution_count": null,
   "metadata": {},
   "outputs": [],
   "source": [
    "np.array(x_aves_tp[-1]).shape"
   ]
  },
  {
   "cell_type": "code",
   "execution_count": null,
   "metadata": {},
   "outputs": [],
   "source": [
    "    point_indices = np.array(mag_for_ad)*10-30\n",
    "    absolute_deviation = []\n",
    "    for ind in range(0, len(point_indices)):\n",
    "        absolute_deviation.append((med_for_ad[int(ind)]-y_me[int(point_indices[ind])]))\n",
    "    print(max(absolute_deviation))\n",
    "    #all_abs_deviation.append(absolute_deviation)\n",
    "    #median_absolute_deviation.append(np.median(absolute_deviation))"
   ]
  },
  {
   "cell_type": "code",
   "execution_count": null,
   "metadata": {
    "scrolled": true
   },
   "outputs": [],
   "source": [
    "plt.scatter(mag_for_ad, med_for_ad)\n",
    "plt.scatter(np.arange(0,7.2,0.1), y_me)\n",
    "plt.scatter(mag_for_ad, absolute_deviation)"
   ]
  },
  {
   "cell_type": "code",
   "execution_count": null,
   "metadata": {},
   "outputs": [],
   "source": [
    "len(np.arange(0,7,0.1))"
   ]
  },
  {
   "cell_type": "code",
   "execution_count": null,
   "metadata": {},
   "outputs": [],
   "source": [
    "max(absolute_deviation)"
   ]
  },
  {
   "cell_type": "code",
   "execution_count": null,
   "metadata": {},
   "outputs": [],
   "source": [
    "median_absolute_deviation"
   ]
  },
  {
   "cell_type": "code",
   "execution_count": null,
   "metadata": {},
   "outputs": [],
   "source": [
    "fig, ax1 = plt.subplots(1,1)\n",
    "ax1.scatter(range(1,10), median_absolute_deviation)\n",
    "ax1.set_ylabel('median absolute deviation', color = 'blue')\n",
    "ax2 = ax1.twinx()\n",
    "ax2.scatter(range(1,10), sum_absolute_deviation, color = 'orange')\n",
    "ax2.set_ylabel('sum absolute deviation', color = 'orange')\n",
    "ax1.set_xlabel('recorded at more than x stations')\n",
    "plt.title('distances NOT in log space')"
   ]
  },
  {
   "cell_type": "code",
   "execution_count": null,
   "metadata": {},
   "outputs": [],
   "source": [
    "len(median_absolute_deviation)"
   ]
  },
  {
   "cell_type": "code",
   "execution_count": null,
   "metadata": {},
   "outputs": [],
   "source": [
    "b"
   ]
  },
  {
   "cell_type": "code",
   "execution_count": null,
   "metadata": {},
   "outputs": [],
   "source": [
    "std_b"
   ]
  },
  {
   "cell_type": "code",
   "execution_count": null,
   "metadata": {},
   "outputs": [],
   "source": [
    "y_1"
   ]
  },
  {
   "cell_type": "code",
   "execution_count": null,
   "metadata": {},
   "outputs": [],
   "source": [
    "y_2"
   ]
  },
  {
   "cell_type": "code",
   "execution_count": null,
   "metadata": {},
   "outputs": [],
   "source": [
    "y_3"
   ]
  },
  {
   "cell_type": "code",
   "execution_count": null,
   "metadata": {},
   "outputs": [],
   "source": [
    "y_4"
   ]
  },
  {
   "cell_type": "code",
   "execution_count": null,
   "metadata": {},
   "outputs": [],
   "source": [
    "y_min"
   ]
  },
  {
   "cell_type": "code",
   "execution_count": null,
   "metadata": {},
   "outputs": [],
   "source": [
    "y_max"
   ]
  },
  {
   "cell_type": "code",
   "execution_count": null,
   "metadata": {},
   "outputs": [],
   "source": [
    "y_me"
   ]
  },
  {
   "cell_type": "code",
   "execution_count": null,
   "metadata": {
    "scrolled": true
   },
   "outputs": [],
   "source": [
    "len(list_tpmax)"
   ]
  },
  {
   "cell_type": "code",
   "execution_count": null,
   "metadata": {},
   "outputs": [],
   "source": []
  },
  {
   "cell_type": "code",
   "execution_count": null,
   "metadata": {},
   "outputs": [],
   "source": []
  },
  {
   "cell_type": "code",
   "execution_count": null,
   "metadata": {
    "scrolled": true
   },
   "outputs": [],
   "source": [
    "model_function_2(np.array(med_x), *popt)"
   ]
  },
  {
   "cell_type": "code",
   "execution_count": null,
   "metadata": {},
   "outputs": [],
   "source": [
    "popt"
   ]
  },
  {
   "cell_type": "code",
   "execution_count": null,
   "metadata": {},
   "outputs": [],
   "source": [
    "for i in range(0, len(medians_of_medians)):\n",
    "    print(np.median(medians_of_medians[i]))"
   ]
  },
  {
   "cell_type": "code",
   "execution_count": null,
   "metadata": {},
   "outputs": [],
   "source": [
    "plt.scatter(np.arange(3,7.5,0.1), np.median(medians_of_medians))"
   ]
  },
  {
   "cell_type": "code",
   "execution_count": null,
   "metadata": {},
   "outputs": [],
   "source": [
    "popt"
   ]
  },
  {
   "cell_type": "code",
   "execution_count": null,
   "metadata": {},
   "outputs": [],
   "source": [
    "pcov"
   ]
  },
  {
   "cell_type": "code",
   "execution_count": null,
   "metadata": {},
   "outputs": [],
   "source": [
    "gradt = []\n",
    "intercept = []\n",
    "for i in params:\n",
    "    gradt.append(i[0])\n",
    "    intercept.append(i[1])"
   ]
  },
  {
   "cell_type": "code",
   "execution_count": null,
   "metadata": {},
   "outputs": [],
   "source": [
    "bins"
   ]
  },
  {
   "cell_type": "code",
   "execution_count": null,
   "metadata": {},
   "outputs": [],
   "source": [
    "plt.plot(n)"
   ]
  },
  {
   "cell_type": "code",
   "execution_count": null,
   "metadata": {},
   "outputs": [],
   "source": [
    "%matplotlib qt\n",
    "# create figure and axis objects with subplots()\n",
    "fig,axs = plt.subplots(4,1, figsize = (15,9), sharex = True)\n",
    "ax = axs[0]\n",
    "ax4 = axs[1]\n",
    "ax2 = axs[2]\n",
    "ax3 = axs[3]\n",
    "# make a plot\n",
    "n, bins = np.histogram(list_mags, bins=np.arange(3,7.5,0.1))\n",
    "ax.plot(bins[:-1]+0.05, n, color=\"red\", marker=\"o\")\n",
    "n, bins = np.histogram(list_mags, bins=np.arange(3,7.5,0.1))\n",
    "for i in range(1, len(n)):\n",
    "    n[i] = n[i]+n[i-1]\n",
    "#ax4 = ax.twinx()\n",
    "ax4.plot(bins[:-1]+0.05, n, color=\"red\", marker=\"o\")\n",
    "# set x-axis label\n",
    "#ax.set_xlabel(\"year\",fontsize=14)\n",
    "# set y-axis label\n",
    "#ax.set_ylabel(\"lifeExp\",color=\"red\",fontsize=14)\n",
    "# twin object for two different y-axis on the sample plot\n",
    "#ax2=ax.twinx()\n",
    "#ax3=ax.twinx()\n",
    "# make a plot with different y-axis using second axis object\n",
    "ax2.plot(np.arange(3,6.6,0.1),intercept, color=\"blue\",marker=\"o\")\n",
    "ax2.hlines(-0.83, 3, 7.5, color='blue')\n",
    "ax3.plot(np.arange(3,6.6,0.1),gradt, color=\"green\",marker=\"o\")\n",
    "ax2.set_ylabel(\"gdpPercap\",color=\"blue\",fontsize=14)\n",
    "ax3.hlines(0.14, 3, 7.5, color='green')\n",
    "\n",
    "ax.set_yscale('log')\n",
    "ax4.set_yscale('log')\n",
    "axs[0].grid(axis = 'both', which='major', linestyle='-', color='darkgrey')\n",
    "axs[0].grid(axis = 'x', which='minor', linestyle=':')\n",
    "axs[1].grid(axis = 'both', which='major', linestyle='-', color='darkgrey')\n",
    "axs[1].grid(axis = 'x', which='minor', linestyle=':')\n",
    "axs[2].grid(axis = 'both', which='major', linestyle='-', color='darkgrey')\n",
    "axs[2].grid(axis = 'x',which='minor', linestyle=':')\n",
    "axs[3].grid(axis = 'both', which='major', linestyle='-', color='darkgrey')\n",
    "axs[3].grid(axis = 'x', which='minor', linestyle=':')\n",
    "ax.minorticks_on()\n",
    "ax2.minorticks_on()\n",
    "ax3.minorticks_on()\n",
    "ax4.minorticks_on()\n",
    "\n",
    "ax.set_ylabel(\"log(N)\",color=\"red\",fontsize=14)\n",
    "ax4.set_ylabel(\"log(cumulative N)\",color=\"red\",fontsize=14)\n",
    "ax2.set_ylabel(\"intercept\",color=\"blue\",fontsize=14)\n",
    "ax3.set_ylabel(\"gradient\",color=\"green\",fontsize=14)\n",
    "ax3.set_xlabel('magnitude')\n",
    "#ax3.set_xlim([3,5])\n",
    "plt.show()"
   ]
  },
  {
   "cell_type": "code",
   "execution_count": null,
   "metadata": {},
   "outputs": [],
   "source": [
    "plt.axvline()"
   ]
  },
  {
   "cell_type": "code",
   "execution_count": null,
   "metadata": {},
   "outputs": [],
   "source": [
    "plt.hist(list_mags, bins = np.arange(3,7.5,0.1))\n",
    "plt.yscale('log')\n",
    "plt.ylabel('log(N)')\n",
    "plt.xlabel('magnitude')"
   ]
  },
  {
   "cell_type": "code",
   "execution_count": null,
   "metadata": {},
   "outputs": [],
   "source": [
    "x_tp"
   ]
  },
  {
   "cell_type": "code",
   "execution_count": null,
   "metadata": {},
   "outputs": [],
   "source": [
    "y"
   ]
  },
  {
   "cell_type": "code",
   "execution_count": null,
   "metadata": {},
   "outputs": [],
   "source": [
    "min(y_tp)"
   ]
  },
  {
   "cell_type": "code",
   "execution_count": null,
   "metadata": {},
   "outputs": [],
   "source": [
    "x_tp"
   ]
  },
  {
   "cell_type": "code",
   "execution_count": null,
   "metadata": {
    "scrolled": false
   },
   "outputs": [],
   "source": [
    "plt.figure(figsize=(20,10))\n",
    "y_limits = np.linspace(min(y_tp), max(y_tp), 40)\n",
    "x_limits = np.linspace(3, 7, 41)\n",
    "H, xedges, yedges = np.histogram2d(list(x_tp), list(y_tp), bins=[x_limits, y_limits])\n",
    "H = H.T\n",
    "\n",
    "plt.imshow(np.log(H), interpolation='nearest', origin='lower', extent=[xedges[0], xedges[-1], (yedges[0]), (yedges[-1])], aspect = 0.5, cmap = 'inferno', vmin = np.log10(0.5))\n",
    "plt.colorbar(label = 'log10(histogram amplitude)')\n",
    "\n",
    "plt.ylabel('log10(tp_max)')\n",
    "plt.xlabel('magntitude')\n",
    "plt.ylim([-1,3])\n",
    "\n",
    "#initial_guess = (1.4,0)\n",
    "#res = optimize.minimize(obj, initial_guess, method = 'Nelder-mead')\n",
    "#x = np.linspace(min(mag_plot), max(mag_plot), 20)\n",
    "#y = res.x[0] * x + res.x[1]\n",
    "#plt.plot(x,y, label = str(res.x[0]) + '*x+'+ str(res.x[1]))\n",
    "#plt.scatter(np.arange(3, 6.8, 0.1), np.log10(mag_bin_medians), marker = 'x', color = 'silver')\n",
    "\n",
    "\n",
    "plt.scatter(med_x, med2, marker = '^', color='silver', zorder = 1000)\n",
    "\n",
    "popt, pcov = curve_fit(model_function_2, np.array(med_x[4:20]), np.array(med2[4:20]))\n",
    "plt.plot(med_x[4:20], model_function_2(np.array(med_x[4:20]), *popt), color='yellow', linestyle = '-.')\n",
    "popt, pcov = curve_fit(model_function_2, np.array(med_x[20:28]), np.array(med2[20:28]))\n",
    "plt.plot(med_x[20:28], model_function_2(np.array(med_x[20:28]), *popt), color='yellow', linestyle = '-.')\n",
    "popt, pcov = curve_fit(model_function_2, np.array(med_x[20:]), np.array(med2[20:]))\n",
    "plt.plot(med_x[20:], model_function_2(np.array(med_x[20:]), *popt), color='yellow', linestyle = '-.')\n",
    "popt, pcov = curve_fit(model_function_2, np.array(med_x), np.array(med2))\n",
    "plt.plot(med_x, model_function_2(np.array(med_x), *popt), color='yellow')\n",
    "\n",
    "plt.show()"
   ]
  },
  {
   "cell_type": "code",
   "execution_count": null,
   "metadata": {},
   "outputs": [],
   "source": [
    "popt"
   ]
  },
  {
   "cell_type": "code",
   "execution_count": null,
   "metadata": {},
   "outputs": [],
   "source": [
    "x_tp = []\n",
    "y_tp = []\n",
    "for i  in range(0, len(list_mags)):\n",
    "    mag_lim = 3.4\n",
    "    count = 0\n",
    "    if list_mags[i] > mag_lim and list_mags[i]<=max(list_mags):\n",
    "        mean_tp = np.mean(list_tpmax[i]) \n",
    "        std_tp = np.std(list_tpmax[i]) \n",
    "        for j in list_tpmax[i]: \n",
    "            if j > mean_tp-2*std_tp and j < mean_tp + 2*std_tp:# and j < 100: \n",
    "                y_tp.append(math.log(j, 10))\n",
    "                count += 1\n",
    "            elif len(list_tpmax[i])==1:\n",
    "                y_tp.append(math.log(j, 10))\n",
    "                count += 1\n",
    "\n",
    "        x_mag = np.zeros(count)  \n",
    "        x_mag = x_mag + list_mags[i]\n",
    "        x_tp = np.concatenate((np.array(x_tp), np.array(x_mag)))\n"
   ]
  },
  {
   "cell_type": "code",
   "execution_count": null,
   "metadata": {},
   "outputs": [],
   "source": [
    "x_mag"
   ]
  },
  {
   "cell_type": "markdown",
   "metadata": {},
   "source": [
    "find location of tpmax in time"
   ]
  },
  {
   "cell_type": "code",
   "execution_count": null,
   "metadata": {},
   "outputs": [],
   "source": []
  },
  {
   "cell_type": "code",
   "execution_count": null,
   "metadata": {},
   "outputs": [],
   "source": [
    "client = Client(\"IRIS\")\n",
    "# cat = client.get_events(starttime=UTCDateTime(\"2019-01-01\"), endtime=UTCDateTime(\"2020-01-01\"), minmagnitude=5, includearrivals=True)\n",
    "cat = obspy.read_events('/home/earthquakes1/homes/Rebecca/phd/data/2019_global_m3_catalog.xml')"
   ]
  },
  {
   "cell_type": "code",
   "execution_count": null,
   "metadata": {},
   "outputs": [],
   "source": [
    "eq_with_data = []\n",
    "cat_with_data = cat.copy()\n",
    "cat_with_data.clear()\n",
    "for event in cat:\n",
    "    eq_name = util.catEventToFileName(event)\n",
    "    if os.path.isdir(root+eq_name) and os.path.isdir(root+eq_name+'/station_xml_files') and os.path.exists(root+eq_name+'/picks.pkl'):\n",
    "        eq_with_data.append(eq_name)\n",
    "        cat_with_data.extend([event])\n",
    "print(len(eq_with_data))"
   ]
  },
  {
   "cell_type": "code",
   "execution_count": null,
   "metadata": {},
   "outputs": [],
   "source": [
    "eq.data[0].stats['sampling_rate']"
   ]
  },
  {
   "cell_type": "code",
   "execution_count": null,
   "metadata": {},
   "outputs": [],
   "source": [
    "eq.data"
   ]
  },
  {
   "cell_type": "code",
   "execution_count": null,
   "metadata": {},
   "outputs": [],
   "source": [
    "eq.data_stats['picks']"
   ]
  },
  {
   "cell_type": "code",
   "execution_count": null,
   "metadata": {},
   "outputs": [],
   "source": [
    "eq.data[0].stats"
   ]
  },
  {
   "cell_type": "code",
   "execution_count": null,
   "metadata": {
    "scrolled": false
   },
   "outputs": [],
   "source": [
    "eq.data[0].stats.network+'.'+eq.data[0].stats.station+'.'+eq.data[0].stats.location"
   ]
  },
  {
   "cell_type": "code",
   "execution_count": null,
   "metadata": {},
   "outputs": [],
   "source": [
    "eq.data"
   ]
  },
  {
   "cell_type": "code",
   "execution_count": null,
   "metadata": {
    "scrolled": true
   },
   "outputs": [],
   "source": [
    "%matplotlib qt \n",
    "WINDOW_LENGTH = 4\n",
    "diff = []\n",
    "for eq_no in range(0, len(eq_with_data)):\n",
    "    print(eq_no)\n",
    "    #try:\n",
    "    with open('/home/earthquakes1/homes/Rebecca/phd/data/2019_global_m3/'+eq_with_data[eq_no]+'/eq_object.pkl', 'rb') as picklefile:\n",
    "        eq = pickle.load(picklefile)\n",
    "        keys = list(eq.data_stats['picks'].keys())\n",
    "        #print(eq.data)\n",
    "        for i in range(len(eq.calculated_params['tau_p_max'])):\n",
    "            \n",
    "            name = eq.data[i*3+2].stats.network+'.'+eq.data[i*3+2].stats.station+'.'+eq.data[i*3+2].stats.location\n",
    "            if name in eq.data_stats['picks'].keys():\n",
    "                #print(eq.data[i*3].stats.network+'.'+eq.data[i*3].stats.station+'.'+eq.data[i*3].stats.location)\n",
    "                #eq.data[i*3].plot()\n",
    "                pick = (eq.data_stats['picks'][name]-eq.data[i*3+2].stats.starttime)*eq.data[i*3+2].stats.sampling_rate\n",
    "                #plt.plot(eq.calculated_params['tau_p'][i])\n",
    "                #plt.axhline(eq.calculated_params['tau_p_max'][i], 0, 1000)\n",
    "                #plt.show()\n",
    "                pick_seconds = pick / (eq.data[i*3].stats['sampling_rate'])\n",
    "                a = np.where(eq.calculated_params['tau_p'][i][int(pick):]==eq.calculated_params['tau_p_max'][i])\n",
    "                if len(a[0])>0:\n",
    "                    max_loc = a[0][0]* 100/(eq.data[i*3+2].stats['sampling_rate'])+pick * 100/(eq.data[i*3+2].stats['sampling_rate'])\n",
    "                    #print(eq.data[i*3])\n",
    "                    if abs(max_loc-pick* 100/(eq.data[i*3+2].stats['sampling_rate'])) < 4 * eq.data[i*3].stats['sampling_rate']:\n",
    "                        #eq.data[i*3+2].plot()\n",
    "                        #plt.plot(eq.calculated_params['tau_p'][i][int(pick):])\n",
    "                        #plt.axhline(eq.calculated_params['tau_p_max'][i], 0, 1000)\n",
    "                        #plt.show()\n",
    "                        #print(i)\n",
    "                        #print(eq.calculated_params['tau_p_max'][i])\n",
    "                        #print(max(eq.calculated_params['tau_p'][i][int(pick)+50:int(pick)+400]))\n",
    "                        #print(eq.data[i*3+2].stats.sampling_rate)\n",
    "                        #print(pick)\n",
    "                        #print(max_loc)\n",
    "                        #print(max_loc-pick* 100/(eq.data[i*3].stats['sampling_rate']))\n",
    "                        diff.append((max_loc-pick*100/(eq.data[i*3].stats['sampling_rate']))/100)\n",
    "    #list_tpmax.append(eq.calculated_params['tau_p_max'])\n",
    "\n",
    "    #except Exception:\n",
    "    #    print('in except')\n",
    "    #    continue"
   ]
  },
  {
   "cell_type": "code",
   "execution_count": null,
   "metadata": {},
   "outputs": [],
   "source": [
    "a[0][0]"
   ]
  },
  {
   "cell_type": "code",
   "execution_count": null,
   "metadata": {},
   "outputs": [],
   "source": [
    "eq.calculated_params['tau_p_max'][i]"
   ]
  },
  {
   "cell_type": "code",
   "execution_count": null,
   "metadata": {},
   "outputs": [],
   "source": []
  },
  {
   "cell_type": "code",
   "execution_count": null,
   "metadata": {},
   "outputs": [],
   "source": [
    "max(diff)"
   ]
  },
  {
   "cell_type": "code",
   "execution_count": null,
   "metadata": {
    "scrolled": true
   },
   "outputs": [],
   "source": [
    "plt.hist(diff, np.arange(0, 4, 0.1))\n",
    "plt.ylabel('time from pick')\n",
    "plt.xlabel('n')\n",
    "plt.title('timing of tpmax')"
   ]
  },
  {
   "cell_type": "code",
   "execution_count": null,
   "metadata": {},
   "outputs": [],
   "source": [
    "a"
   ]
  },
  {
   "cell_type": "code",
   "execution_count": null,
   "metadata": {},
   "outputs": [],
   "source": [
    "eq.calculated_params['tau_p'][i][int(pick):]"
   ]
  },
  {
   "cell_type": "code",
   "execution_count": null,
   "metadata": {},
   "outputs": [],
   "source": [
    "eq.calculated_params['tau_p_max'][i]"
   ]
  },
  {
   "cell_type": "code",
   "execution_count": null,
   "metadata": {},
   "outputs": [],
   "source": []
  },
  {
   "cell_type": "code",
   "execution_count": null,
   "metadata": {},
   "outputs": [],
   "source": []
  }
 ],
 "metadata": {
  "kernelspec": {
   "display_name": "Python 3 (ipykernel)",
   "language": "python",
   "name": "python3"
  },
  "language_info": {
   "codemirror_mode": {
    "name": "ipython",
    "version": 3
   },
   "file_extension": ".py",
   "mimetype": "text/x-python",
   "name": "python",
   "nbconvert_exporter": "python",
   "pygments_lexer": "ipython3",
   "version": "3.10.4"
  }
 },
 "nbformat": 4,
 "nbformat_minor": 2
}
