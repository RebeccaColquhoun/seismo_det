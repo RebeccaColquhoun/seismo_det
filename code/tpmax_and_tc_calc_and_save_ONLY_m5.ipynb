{
 "cells": [
  {
   "cell_type": "markdown",
   "metadata": {},
   "source": [
    "## Imports"
   ]
  },
  {
   "cell_type": "code",
   "execution_count": 1,
   "metadata": {},
   "outputs": [],
   "source": [
    "import os\n",
    "import math\n",
    "import obspy\n",
    "import pickle\n",
    "import datetime\n",
    "import numpy as np\n",
    "import matplotlib.pyplot as plt\n",
    "\n",
    "from matplotlib.pyplot import figure\n",
    "from scipy.optimize import curve_fit\n",
    "from datetime import timedelta\n",
    "from obspy import UTCDateTime\n",
    "from obspy.clients.fdsn import Client\n",
    "\n",
    "from earthquake import earthquake\n",
    "import util\n",
    "import pandas as pd"
   ]
  },
  {
   "cell_type": "markdown",
   "metadata": {},
   "source": [
    "## Get set up\n",
    "Set path to data, and read eq_list (all folders in root folder)"
   ]
  },
  {
   "cell_type": "code",
   "execution_count": 2,
   "metadata": {},
   "outputs": [],
   "source": [
    "root = '/home/earthquakes1/homes/Rebecca/phd/data/2018_2021_global_m5/'\n",
    "\n",
    "eq_list = os.listdir(root)"
   ]
  },
  {
   "cell_type": "markdown",
   "metadata": {},
   "source": [
    "Open catalog of events"
   ]
  },
  {
   "cell_type": "code",
   "execution_count": 3,
   "metadata": {},
   "outputs": [],
   "source": [
    "client = Client(\"IRIS\")\n",
    "# cat = client.get_events(starttime=UTCDateTime(\"2019-01-01\"), endtime=UTCDateTime(\"2020-01-01\"), minmagnitude=5, includearrivals=True)\n",
    "cat = obspy.read_events('/home/earthquakes1/homes/Rebecca/phd/data/2018_2021_global_m5_catalog.xml')"
   ]
  },
  {
   "cell_type": "markdown",
   "metadata": {},
   "source": [
    "Not all events had suitable data, look through all events and make a list of ones which have data (eq_with_data) and were successfully picked"
   ]
  },
  {
   "cell_type": "code",
   "execution_count": 4,
   "metadata": {},
   "outputs": [],
   "source": [
    "eq_with_data = []\n",
    "cat_with_data = cat.copy()\n",
    "cat_with_data.clear()\n",
    "for event in cat:\n",
    "    eq_name = util.catEventToFileName(event)\n",
    "    if os.path.isdir(root+eq_name) and os.path.isdir(root+eq_name+'/station_xml_files') and os.path.exists(root+eq_name+'/picks.pkl'):\n",
    "        eq_with_data.append(eq_name)\n",
    "        cat_with_data.extend([event])"
   ]
  },
  {
   "cell_type": "markdown",
   "metadata": {},
   "source": [
    "## the action!!\n",
    "For all events with data, load the data and then create an earthquake object. work out tp_max and tc, and add to lists (for plotting)"
   ]
  },
  {
   "cell_type": "code",
   "execution_count": 5,
   "metadata": {},
   "outputs": [
    {
     "name": "stderr",
     "output_type": "stream",
     "text": [
      " WARNING (norm_resp): computed and reported sensitivities differ by more than 5 percent. \n",
      "\t Execution continuing.\n",
      " WARNING (norm_resp): computed and reported sensitivities differ by more than 5 percent. \n",
      "\t Execution continuing.\n",
      " WARNING (norm_resp): computed and reported sensitivities differ by more than 5 percent. \n",
      "\t Execution continuing.\n",
      " WARNING (norm_resp): computed and reported sensitivities differ by more than 5 percent. \n",
      "\t Execution continuing.\n",
      " WARNING (norm_resp): computed and reported sensitivities differ by more than 5 percent. \n",
      "\t Execution continuing.\n",
      " WARNING (norm_resp): computed and reported sensitivities differ by more than 5 percent. \n",
      "\t Execution continuing.\n",
      " WARNING (norm_resp): computed and reported sensitivities differ by more than 5 percent. \n",
      "\t Execution continuing.\n",
      " WARNING (norm_resp): computed and reported sensitivities differ by more than 5 percent. \n",
      "\t Execution continuing.\n",
      " WARNING (norm_resp): computed and reported sensitivities differ by more than 5 percent. \n",
      "\t Execution continuing.\n",
      " WARNING (norm_resp): computed and reported sensitivities differ by more than 5 percent. \n",
      "\t Execution continuing.\n",
      " WARNING (norm_resp): computed and reported sensitivities differ by more than 5 percent. \n",
      "\t Execution continuing.\n",
      " WARNING (norm_resp): computed and reported sensitivities differ by more than 5 percent. \n",
      "\t Execution continuing.\n"
     ]
    },
    {
     "name": "stdout",
     "output_type": "stream",
     "text": [
      "earthquake number 0 of 1026 done. It was 20180130_192419.a\n",
      "earthquake number 1 of 1026 done. It was 20180125_172434.a\n",
      "earthquake number 2 of 1026 done. It was 20180125_163943.a\n",
      "earthquake number 3 of 1026 done. It was 20180124_074605.a\n",
      "earthquake number 4 of 1026 done. It was 20180121_190602.a\n",
      "earthquake number 5 of 1026 done. It was 20180121_010642.a\n"
     ]
    },
    {
     "name": "stderr",
     "output_type": "stream",
     "text": [
      "/home/earthquakes1/software/Mageia8/anaconda3/lib/python3.9/site-packages/obspy/io/stationxml/core.py:96: UserWarning: The StationXML file has version 1, ObsPy can read versions (1.0, 1.1). Proceed with caution.\n",
      "  warnings.warn(\"The StationXML file has version %s, ObsPy can \"\n",
      "/home/earthquakes1/software/Mageia8/anaconda3/lib/python3.9/site-packages/obspy/io/stationxml/core.py:96: UserWarning: The StationXML file has version 1, ObsPy can read versions (1.0, 1.1). Proceed with caution.\n",
      "  warnings.warn(\"The StationXML file has version %s, ObsPy can \"\n"
     ]
    },
    {
     "name": "stdout",
     "output_type": "stream",
     "text": [
      "earthquake number 6 of 1026 done. It was 20180117_225659.a\n",
      "earthquake number 7 of 1026 done. It was 20180116_150353.a\n",
      "earthquake number 8 of 1026 done. It was 20180115_081823.a\n",
      "earthquake number 9 of 1026 done. It was 20180111_170318.a\n",
      "earthquake number 10 of 1026 done. It was 20180110_051211.a\n",
      "earthquake number 11 of 1026 done. It was 20180110_031644.a\n"
     ]
    },
    {
     "name": "stderr",
     "output_type": "stream",
     "text": [
      "/home/earthquakes1/software/Mageia8/anaconda3/lib/python3.9/site-packages/obspy/io/stationxml/core.py:96: UserWarning: The StationXML file has version 1, ObsPy can read versions (1.0, 1.1). Proceed with caution.\n",
      "  warnings.warn(\"The StationXML file has version %s, ObsPy can \"\n",
      "/home/earthquakes1/software/Mageia8/anaconda3/lib/python3.9/site-packages/obspy/io/stationxml/core.py:96: UserWarning: The StationXML file has version 1, ObsPy can read versions (1.0, 1.1). Proceed with caution.\n",
      "  warnings.warn(\"The StationXML file has version %s, ObsPy can \"\n"
     ]
    },
    {
     "name": "stdout",
     "output_type": "stream",
     "text": [
      "earthquake number 12 of 1026 done. It was 20180110_010350.a\n",
      "earthquake number 13 of 1026 done. It was 20180107_085529.a\n",
      "earthquake number 14 of 1026 done. It was 20180102_042417.a\n",
      "earthquake number 15 of 1026 done. It was 20180221_234456.a\n",
      "earthquake number 16 of 1026 done. It was 20180220_093859.a\n",
      "earthquake number 17 of 1026 done. It was 20180209_174337.a\n",
      "earthquake number 18 of 1026 done. It was 20180201_231353.a\n"
     ]
    },
    {
     "name": "stderr",
     "output_type": "stream",
     "text": [
      "/home/earthquakes1/software/Mageia8/anaconda3/lib/python3.9/site-packages/obspy/io/stationxml/core.py:96: UserWarning: The StationXML file has version 1, ObsPy can read versions (1.0, 1.1). Proceed with caution.\n",
      "  warnings.warn(\"The StationXML file has version %s, ObsPy can \"\n",
      "/home/earthquakes1/software/Mageia8/anaconda3/lib/python3.9/site-packages/obspy/io/stationxml/core.py:96: UserWarning: The StationXML file has version 1, ObsPy can read versions (1.0, 1.1). Proceed with caution.\n",
      "  warnings.warn(\"The StationXML file has version %s, ObsPy can \"\n"
     ]
    },
    {
     "name": "stdout",
     "output_type": "stream",
     "text": [
      "earthquake number 19 of 1026 done. It was 20180331_063112.a\n"
     ]
    },
    {
     "name": "stderr",
     "output_type": "stream",
     "text": [
      "/home/earthquakes1/software/Mageia8/anaconda3/lib/python3.9/site-packages/obspy/io/stationxml/core.py:96: UserWarning: The StationXML file has version 1, ObsPy can read versions (1.0, 1.1). Proceed with caution.\n",
      "  warnings.warn(\"The StationXML file has version %s, ObsPy can \"\n",
      "/home/earthquakes1/software/Mageia8/anaconda3/lib/python3.9/site-packages/obspy/io/stationxml/core.py:96: UserWarning: The StationXML file has version 1, ObsPy can read versions (1.0, 1.1). Proceed with caution.\n",
      "  warnings.warn(\"The StationXML file has version %s, ObsPy can \"\n"
     ]
    },
    {
     "name": "stdout",
     "output_type": "stream",
     "text": [
      "earthquake number 20 of 1026 done. It was 20180325_075731.a\n",
      "earthquake number 21 of 1026 done. It was 20180323_173228.a\n"
     ]
    },
    {
     "name": "stderr",
     "output_type": "stream",
     "text": [
      "/home/earthquakes1/software/Mageia8/anaconda3/lib/python3.9/site-packages/obspy/io/stationxml/core.py:96: UserWarning: The StationXML file has version 1, ObsPy can read versions (1.0, 1.1). Proceed with caution.\n",
      "  warnings.warn(\"The StationXML file has version %s, ObsPy can \"\n",
      "/home/earthquakes1/software/Mageia8/anaconda3/lib/python3.9/site-packages/obspy/io/stationxml/core.py:96: UserWarning: The StationXML file has version 1, ObsPy can read versions (1.0, 1.1). Proceed with caution.\n",
      "  warnings.warn(\"The StationXML file has version %s, ObsPy can \"\n"
     ]
    },
    {
     "name": "stdout",
     "output_type": "stream",
     "text": [
      "earthquake number 22 of 1026 done. It was 20180322_072626.a\n",
      "earthquake number 23 of 1026 done. It was 20180319_125117.a\n",
      "earthquake number 24 of 1026 done. It was 20180317_203421.a\n"
     ]
    },
    {
     "name": "stderr",
     "output_type": "stream",
     "text": [
      "/home/earthquakes1/software/Mageia8/anaconda3/lib/python3.9/site-packages/obspy/io/stationxml/core.py:96: UserWarning: The StationXML file has version 1, ObsPy can read versions (1.0, 1.1). Proceed with caution.\n",
      "  warnings.warn(\"The StationXML file has version %s, ObsPy can \"\n",
      "/home/earthquakes1/software/Mageia8/anaconda3/lib/python3.9/site-packages/obspy/io/stationxml/core.py:96: UserWarning: The StationXML file has version 1, ObsPy can read versions (1.0, 1.1). Proceed with caution.\n",
      "  warnings.warn(\"The StationXML file has version %s, ObsPy can \"\n"
     ]
    },
    {
     "name": "stdout",
     "output_type": "stream",
     "text": [
      "earthquake number 25 of 1026 done. It was 20180309_180228.a\n",
      "earthquake number 26 of 1026 done. It was 20180304_161631.a\n",
      "earthquake number 27 of 1026 done. It was 20180304_003016.a\n",
      "earthquake number 28 of 1026 done. It was 20180303_004230.a\n",
      "earthquake number 29 of 1026 done. It was 20180425_000656.a\n",
      "earthquake number 30 of 1026 done. It was 20180424_022952.a\n"
     ]
    },
    {
     "name": "stderr",
     "output_type": "stream",
     "text": [
      " WARNING (norm_resp): computed and reported sensitivities differ by more than 5 percent. \n",
      "\t Execution continuing.\n",
      " WARNING (norm_resp): computed and reported sensitivities differ by more than 5 percent. \n",
      "\t Execution continuing.\n",
      " WARNING (norm_resp): computed and reported sensitivities differ by more than 5 percent. \n",
      "\t Execution continuing.\n",
      " WARNING (norm_resp): computed and reported sensitivities differ by more than 5 percent. \n",
      "\t Execution continuing.\n",
      " WARNING (norm_resp): computed and reported sensitivities differ by more than 5 percent. \n",
      "\t Execution continuing.\n"
     ]
    },
    {
     "name": "stdout",
     "output_type": "stream",
     "text": [
      "earthquake number 31 of 1026 done. It was 20180424_003431.a\n",
      "earthquake number 32 of 1026 done. It was 20180423_060035.a\n"
     ]
    },
    {
     "name": "stderr",
     "output_type": "stream",
     "text": [
      "/home/earthquakes1/software/Mageia8/anaconda3/lib/python3.9/site-packages/obspy/io/stationxml/core.py:96: UserWarning: The StationXML file has version 1, ObsPy can read versions (1.0, 1.1). Proceed with caution.\n",
      "  warnings.warn(\"The StationXML file has version %s, ObsPy can \"\n",
      "/home/earthquakes1/software/Mageia8/anaconda3/lib/python3.9/site-packages/obspy/io/stationxml/core.py:96: UserWarning: The StationXML file has version 1, ObsPy can read versions (1.0, 1.1). Proceed with caution.\n",
      "  warnings.warn(\"The StationXML file has version %s, ObsPy can \"\n"
     ]
    },
    {
     "name": "stdout",
     "output_type": "stream",
     "text": [
      "earthquake number 33 of 1026 done. It was 20180420_193037.a\n",
      "earthquake number 34 of 1026 done. It was 20180417_134604.a\n"
     ]
    },
    {
     "name": "stderr",
     "output_type": "stream",
     "text": [
      "/home/earthquakes1/software/Mageia8/anaconda3/lib/python3.9/site-packages/obspy/io/stationxml/core.py:96: UserWarning: The StationXML file has version 1, ObsPy can read versions (1.0, 1.1). Proceed with caution.\n",
      "  warnings.warn(\"The StationXML file has version %s, ObsPy can \"\n"
     ]
    },
    {
     "name": "stdout",
     "output_type": "stream",
     "text": [
      "earthquake number 35 of 1026 done. It was 20180413_133811.a\n",
      "earthquake number 36 of 1026 done. It was 20180405_192916.a\n",
      "earthquake number 37 of 1026 done. It was 20180405_112700.a\n",
      "earthquake number 38 of 1026 done. It was 20180405_111210.a\n"
     ]
    },
    {
     "name": "stderr",
     "output_type": "stream",
     "text": [
      "/home/earthquakes1/software/Mageia8/anaconda3/lib/python3.9/site-packages/obspy/io/stationxml/core.py:96: UserWarning: The StationXML file has version 1, ObsPy can read versions (1.0, 1.1). Proceed with caution.\n",
      "  warnings.warn(\"The StationXML file has version %s, ObsPy can \"\n",
      "/home/earthquakes1/software/Mageia8/anaconda3/lib/python3.9/site-packages/obspy/io/stationxml/core.py:96: UserWarning: The StationXML file has version 1, ObsPy can read versions (1.0, 1.1). Proceed with caution.\n",
      "  warnings.warn(\"The StationXML file has version %s, ObsPy can \"\n"
     ]
    },
    {
     "name": "stdout",
     "output_type": "stream",
     "text": [
      "earthquake number 39 of 1026 done. It was 20180404_004904.a\n",
      "earthquake number 40 of 1026 done. It was 20180403_081442.a\n",
      "earthquake number 41 of 1026 done. It was 20180402_232317.a\n"
     ]
    },
    {
     "name": "stderr",
     "output_type": "stream",
     "text": [
      "/home/earthquakes1/software/Mageia8/anaconda3/lib/python3.9/site-packages/obspy/io/stationxml/core.py:96: UserWarning: The StationXML file has version 1, ObsPy can read versions (1.0, 1.1). Proceed with caution.\n",
      "  warnings.warn(\"The StationXML file has version %s, ObsPy can \"\n",
      "/home/earthquakes1/software/Mageia8/anaconda3/lib/python3.9/site-packages/obspy/io/stationxml/core.py:96: UserWarning: The StationXML file has version 1, ObsPy can read versions (1.0, 1.1). Proceed with caution.\n",
      "  warnings.warn(\"The StationXML file has version %s, ObsPy can \"\n"
     ]
    },
    {
     "name": "stdout",
     "output_type": "stream",
     "text": [
      "earthquake number 42 of 1026 done. It was 20180522_094330.a\n",
      "earthquake number 43 of 1026 done. It was 20180521_001836.a\n"
     ]
    },
    {
     "name": "stderr",
     "output_type": "stream",
     "text": [
      "/home/earthquakes1/software/Mageia8/anaconda3/lib/python3.9/site-packages/obspy/io/stationxml/core.py:96: UserWarning: The StationXML file has version 1, ObsPy can read versions (1.0, 1.1). Proceed with caution.\n",
      "  warnings.warn(\"The StationXML file has version %s, ObsPy can \"\n",
      "/home/earthquakes1/software/Mageia8/anaconda3/lib/python3.9/site-packages/obspy/io/stationxml/core.py:96: UserWarning: The StationXML file has version 1, ObsPy can read versions (1.0, 1.1). Proceed with caution.\n",
      "  warnings.warn(\"The StationXML file has version %s, ObsPy can \"\n"
     ]
    },
    {
     "name": "stdout",
     "output_type": "stream",
     "text": [
      "earthquake number 44 of 1026 done. It was 20180518_024745.a\n",
      "earthquake number 45 of 1026 done. It was 20180518_002727.a\n",
      "earthquake number 46 of 1026 done. It was 20180516_223003.a\n",
      "earthquake number 47 of 1026 done. It was 20180509_032329.a\n",
      "earthquake number 48 of 1026 done. It was 20180506_190222.a\n",
      "earthquake number 49 of 1026 done. It was 20180506_124428.a\n",
      "earthquake number 50 of 1026 done. It was 20180506_123758.a\n",
      "earthquake number 51 of 1026 done. It was 20180506_024420.a\n"
     ]
    },
    {
     "name": "stderr",
     "output_type": "stream",
     "text": [
      " WARNING: FIR normalized: sum[coef]=4.797412E-01;     \n",
      " WARNING (norm_resp): computed and reported sensitivities differ by more than 5 percent. \n",
      "\t Execution continuing.\n",
      " WARNING: FIR normalized: sum[coef]=4.797412E-01;     \n",
      " WARNING (norm_resp): computed and reported sensitivities differ by more than 5 percent. \n",
      "\t Execution continuing.\n",
      " WARNING: FIR normalized: sum[coef]=4.797412E-01;     \n",
      " WARNING (norm_resp): computed and reported sensitivities differ by more than 5 percent. \n",
      "\t Execution continuing.\n"
     ]
    },
    {
     "name": "stdout",
     "output_type": "stream",
     "text": [
      "earthquake number 52 of 1026 done. It was 20180505_203647.a\n",
      "earthquake number 53 of 1026 done. It was 20180502_160954.a\n"
     ]
    },
    {
     "name": "stderr",
     "output_type": "stream",
     "text": [
      "/home/earthquakes1/software/Mageia8/anaconda3/lib/python3.9/site-packages/obspy/io/stationxml/core.py:96: UserWarning: The StationXML file has version 1, ObsPy can read versions (1.0, 1.1). Proceed with caution.\n",
      "  warnings.warn(\"The StationXML file has version %s, ObsPy can \"\n",
      "/home/earthquakes1/software/Mageia8/anaconda3/lib/python3.9/site-packages/obspy/io/stationxml/core.py:96: UserWarning: The StationXML file has version 1, ObsPy can read versions (1.0, 1.1). Proceed with caution.\n",
      "  warnings.warn(\"The StationXML file has version %s, ObsPy can \"\n"
     ]
    },
    {
     "name": "stdout",
     "output_type": "stream",
     "text": [
      "earthquake number 54 of 1026 done. It was 20180501_041300.a\n"
     ]
    },
    {
     "name": "stderr",
     "output_type": "stream",
     "text": [
      "/home/earthquakes1/software/Mageia8/anaconda3/lib/python3.9/site-packages/obspy/io/stationxml/core.py:96: UserWarning: The StationXML file has version 1, ObsPy can read versions (1.0, 1.1). Proceed with caution.\n",
      "  warnings.warn(\"The StationXML file has version %s, ObsPy can \"\n",
      "/home/earthquakes1/software/Mageia8/anaconda3/lib/python3.9/site-packages/obspy/io/stationxml/core.py:96: UserWarning: The StationXML file has version 1, ObsPy can read versions (1.0, 1.1). Proceed with caution.\n",
      "  warnings.warn(\"The StationXML file has version %s, ObsPy can \"\n"
     ]
    },
    {
     "name": "stdout",
     "output_type": "stream",
     "text": [
      "earthquake number 55 of 1026 done. It was 20180501_031540.a\n",
      "earthquake number 56 of 1026 done. It was 20180625_051448.a\n"
     ]
    },
    {
     "name": "stderr",
     "output_type": "stream",
     "text": [
      "/home/earthquakes1/software/Mageia8/anaconda3/lib/python3.9/site-packages/obspy/io/stationxml/core.py:96: UserWarning: The StationXML file has version 1, ObsPy can read versions (1.0, 1.1). Proceed with caution.\n",
      "  warnings.warn(\"The StationXML file has version %s, ObsPy can \"\n",
      "/home/earthquakes1/software/Mageia8/anaconda3/lib/python3.9/site-packages/obspy/io/stationxml/core.py:96: UserWarning: The StationXML file has version 1, ObsPy can read versions (1.0, 1.1). Proceed with caution.\n",
      "  warnings.warn(\"The StationXML file has version %s, ObsPy can \"\n"
     ]
    },
    {
     "name": "stdout",
     "output_type": "stream",
     "text": [
      "earthquake number 57 of 1026 done. It was 20180619_235026.a\n",
      "earthquake number 58 of 1026 done. It was 20180617_225835.a\n",
      "earthquake number 59 of 1026 done. It was 20180612_233244.a\n",
      "earthquake number 60 of 1026 done. It was 20180611_123450.a\n"
     ]
    },
    {
     "name": "stderr",
     "output_type": "stream",
     "text": [
      "/home/earthquakes1/software/Mageia8/anaconda3/lib/python3.9/site-packages/obspy/io/stationxml/core.py:96: UserWarning: The StationXML file has version 1, ObsPy can read versions (1.0, 1.1). Proceed with caution.\n",
      "  warnings.warn(\"The StationXML file has version %s, ObsPy can \"\n",
      "/home/earthquakes1/software/Mageia8/anaconda3/lib/python3.9/site-packages/obspy/io/stationxml/core.py:96: UserWarning: The StationXML file has version 1, ObsPy can read versions (1.0, 1.1). Proceed with caution.\n",
      "  warnings.warn(\"The StationXML file has version %s, ObsPy can \"\n"
     ]
    },
    {
     "name": "stdout",
     "output_type": "stream",
     "text": [
      "earthquake number 61 of 1026 done. It was 20180611_011846.a\n"
     ]
    },
    {
     "name": "stderr",
     "output_type": "stream",
     "text": [
      "/home/earthquakes1/software/Mageia8/anaconda3/lib/python3.9/site-packages/obspy/io/stationxml/core.py:96: UserWarning: The StationXML file has version 1, ObsPy can read versions (1.0, 1.1). Proceed with caution.\n",
      "  warnings.warn(\"The StationXML file has version %s, ObsPy can \"\n",
      "/home/earthquakes1/software/Mageia8/anaconda3/lib/python3.9/site-packages/obspy/io/stationxml/core.py:96: UserWarning: The StationXML file has version 1, ObsPy can read versions (1.0, 1.1). Proceed with caution.\n",
      "  warnings.warn(\"The StationXML file has version %s, ObsPy can \"\n"
     ]
    },
    {
     "name": "stdout",
     "output_type": "stream",
     "text": [
      "earthquake number 62 of 1026 done. It was 20180728_092817.a\n",
      "earthquake number 63 of 1026 done. It was 20180727_204202.a\n",
      "earthquake number 64 of 1026 done. It was 20180724_142815.a\n",
      "earthquake number 65 of 1026 done. It was 20180721_143903.a\n"
     ]
    },
    {
     "name": "stderr",
     "output_type": "stream",
     "text": [
      "/home/earthquakes1/software/Mageia8/anaconda3/lib/python3.9/site-packages/obspy/io/mseed/headers.py:828: InternalMSEEDWarning: CZ_MORC__HHE_D: Warning: Number of blockettes in fixed header (1) does not match the number parsed (2)\n",
      "  warnings.warn(_w, InternalMSEEDWarning)\n",
      "/home/earthquakes1/software/Mageia8/anaconda3/lib/python3.9/site-packages/obspy/io/mseed/headers.py:828: InternalMSEEDWarning: CZ_MORC__HHN_D: Warning: Number of blockettes in fixed header (1) does not match the number parsed (2)\n",
      "  warnings.warn(_w, InternalMSEEDWarning)\n",
      "/home/earthquakes1/software/Mageia8/anaconda3/lib/python3.9/site-packages/obspy/io/mseed/headers.py:828: InternalMSEEDWarning: CZ_MORC__HHZ_D: Warning: Number of blockettes in fixed header (1) does not match the number parsed (2)\n",
      "  warnings.warn(_w, InternalMSEEDWarning)\n",
      "/home/earthquakes1/software/Mageia8/anaconda3/lib/python3.9/site-packages/obspy/io/mseed/headers.py:828: InternalMSEEDWarning: GE_MORC__HHE_D: Warning: Number of blockettes in fixed header (1) does not match the number parsed (2)\n",
      "  warnings.warn(_w, InternalMSEEDWarning)\n",
      "/home/earthquakes1/software/Mageia8/anaconda3/lib/python3.9/site-packages/obspy/io/mseed/headers.py:828: InternalMSEEDWarning: GE_MORC__HHN_D: Warning: Number of blockettes in fixed header (1) does not match the number parsed (2)\n",
      "  warnings.warn(_w, InternalMSEEDWarning)\n",
      "/home/earthquakes1/software/Mageia8/anaconda3/lib/python3.9/site-packages/obspy/io/mseed/headers.py:828: InternalMSEEDWarning: GE_MORC__HHZ_D: Warning: Number of blockettes in fixed header (1) does not match the number parsed (2)\n",
      "  warnings.warn(_w, InternalMSEEDWarning)\n"
     ]
    },
    {
     "name": "stdout",
     "output_type": "stream",
     "text": [
      "earthquake number 66 of 1026 done. It was 20180720_033131.a\n",
      "earthquake number 67 of 1026 done. It was 20180719_133153.a\n"
     ]
    },
    {
     "name": "stderr",
     "output_type": "stream",
     "text": [
      "/home/earthquakes1/software/Mageia8/anaconda3/lib/python3.9/site-packages/obspy/io/stationxml/core.py:96: UserWarning: The StationXML file has version 1, ObsPy can read versions (1.0, 1.1). Proceed with caution.\n",
      "  warnings.warn(\"The StationXML file has version %s, ObsPy can \"\n",
      "/home/earthquakes1/software/Mageia8/anaconda3/lib/python3.9/site-packages/obspy/io/stationxml/core.py:96: UserWarning: The StationXML file has version 1, ObsPy can read versions (1.0, 1.1). Proceed with caution.\n",
      "  warnings.warn(\"The StationXML file has version %s, ObsPy can \"\n"
     ]
    },
    {
     "name": "stdout",
     "output_type": "stream",
     "text": [
      "earthquake number 68 of 1026 done. It was 20180716_140311.a\n",
      "earthquake number 69 of 1026 done. It was 20180715_224853.a\n",
      "earthquake number 70 of 1026 done. It was 20180708_010828.a\n"
     ]
    },
    {
     "name": "stderr",
     "output_type": "stream",
     "text": [
      "/home/earthquakes1/software/Mageia8/anaconda3/lib/python3.9/site-packages/obspy/io/stationxml/core.py:96: UserWarning: The StationXML file has version 1, ObsPy can read versions (1.0, 1.1). Proceed with caution.\n",
      "  warnings.warn(\"The StationXML file has version %s, ObsPy can \"\n",
      "/home/earthquakes1/software/Mageia8/anaconda3/lib/python3.9/site-packages/obspy/io/stationxml/core.py:96: UserWarning: The StationXML file has version 1, ObsPy can read versions (1.0, 1.1). Proceed with caution.\n",
      "  warnings.warn(\"The StationXML file has version %s, ObsPy can \"\n"
     ]
    },
    {
     "name": "stdout",
     "output_type": "stream",
     "text": [
      "earthquake number 71 of 1026 done. It was 20180707_213349.a\n"
     ]
    },
    {
     "name": "stderr",
     "output_type": "stream",
     "text": [
      " WARNING (norm_resp): computed and reported sensitivities differ by more than 5 percent. \n",
      "\t Execution continuing.\n",
      " WARNING (norm_resp): computed and reported sensitivities differ by more than 5 percent. \n",
      "\t Execution continuing.\n",
      " WARNING (norm_resp): computed and reported sensitivities differ by more than 5 percent. \n",
      "\t Execution continuing.\n"
     ]
    },
    {
     "name": "stdout",
     "output_type": "stream",
     "text": [
      "earthquake number 72 of 1026 done. It was 20180704_090109.a\n"
     ]
    },
    {
     "name": "stderr",
     "output_type": "stream",
     "text": [
      " WARNING (norm_resp): computed and reported sensitivities differ by more than 5 percent. \n",
      "\t Execution continuing.\n",
      " WARNING (norm_resp): computed and reported sensitivities differ by more than 5 percent. \n",
      "\t Execution continuing.\n",
      " WARNING (norm_resp): computed and reported sensitivities differ by more than 5 percent. \n",
      "\t Execution continuing.\n"
     ]
    },
    {
     "name": "stdout",
     "output_type": "stream",
     "text": [
      "earthquake number 73 of 1026 done. It was 20180702_041026.a\n",
      "earthquake number 74 of 1026 done. It was 20180831_171905.a\n",
      "earthquake number 75 of 1026 done. It was 20180831_132501.a\n",
      "earthquake number 76 of 1026 done. It was 20180831_071225.a\n"
     ]
    },
    {
     "name": "stderr",
     "output_type": "stream",
     "text": [
      " WARNING: FIR normalized: sum[coef]=4.797412E-01;     \n",
      " WARNING (norm_resp): computed and reported sensitivities differ by more than 5 percent. \n",
      "\t Execution continuing.\n",
      " WARNING: FIR normalized: sum[coef]=4.797412E-01;     \n",
      " WARNING (norm_resp): computed and reported sensitivities differ by more than 5 percent. \n",
      "\t Execution continuing.\n",
      " WARNING: FIR normalized: sum[coef]=4.797412E-01;     \n",
      " WARNING (norm_resp): computed and reported sensitivities differ by more than 5 percent. \n",
      "\t Execution continuing.\n"
     ]
    },
    {
     "name": "stdout",
     "output_type": "stream",
     "text": [
      "earthquake number 77 of 1026 done. It was 20180831_042630.a\n",
      "earthquake number 78 of 1026 done. It was 20180829_213342.a\n",
      "earthquake number 79 of 1026 done. It was 20180829_042714.a\n",
      "earthquake number 80 of 1026 done. It was 20180829_035156.a\n"
     ]
    },
    {
     "name": "stderr",
     "output_type": "stream",
     "text": [
      " WARNING (norm_resp): computed and reported sensitivities differ by more than 5 percent. \n",
      "\t Execution continuing.\n",
      " WARNING (norm_resp): computed and reported sensitivities differ by more than 5 percent. \n",
      "\t Execution continuing.\n",
      " WARNING (norm_resp): computed and reported sensitivities differ by more than 5 percent. \n",
      "\t Execution continuing.\n",
      " WARNING (norm_resp): computed and reported sensitivities differ by more than 5 percent. \n",
      "\t Execution continuing.\n",
      " WARNING (norm_resp): computed and reported sensitivities differ by more than 5 percent. \n",
      "\t Execution continuing.\n",
      " WARNING (norm_resp): computed and reported sensitivities differ by more than 5 percent. \n",
      "\t Execution continuing.\n",
      " WARNING (norm_resp): computed and reported sensitivities differ by more than 5 percent. \n",
      "\t Execution continuing.\n",
      " WARNING (norm_resp): computed and reported sensitivities differ by more than 5 percent. \n",
      "\t Execution continuing.\n",
      " WARNING (norm_resp): computed and reported sensitivities differ by more than 5 percent. \n",
      "\t Execution continuing.\n",
      " WARNING (norm_resp): computed and reported sensitivities differ by more than 5 percent. \n",
      "\t Execution continuing.\n",
      " WARNING (norm_resp): computed and reported sensitivities differ by more than 5 percent. \n",
      "\t Execution continuing.\n",
      " WARNING (norm_resp): computed and reported sensitivities differ by more than 5 percent. \n",
      "\t Execution continuing.\n",
      " WARNING (norm_resp): computed and reported sensitivities differ by more than 5 percent. \n",
      "\t Execution continuing.\n",
      " WARNING (norm_resp): computed and reported sensitivities differ by more than 5 percent. \n",
      "\t Execution continuing.\n",
      " WARNING (norm_resp): computed and reported sensitivities differ by more than 5 percent. \n",
      "\t Execution continuing.\n"
     ]
    },
    {
     "name": "stdout",
     "output_type": "stream",
     "text": [
      "earthquake number 81 of 1026 done. It was 20180819_152214.a\n"
     ]
    },
    {
     "name": "stderr",
     "output_type": "stream",
     "text": [
      "/home/earthquakes1/software/Mageia8/anaconda3/lib/python3.9/site-packages/obspy/io/stationxml/core.py:96: UserWarning: The StationXML file has version 1, ObsPy can read versions (1.0, 1.1). Proceed with caution.\n",
      "  warnings.warn(\"The StationXML file has version %s, ObsPy can \"\n",
      "/home/earthquakes1/software/Mageia8/anaconda3/lib/python3.9/site-packages/obspy/io/stationxml/core.py:96: UserWarning: The StationXML file has version 1, ObsPy can read versions (1.0, 1.1). Proceed with caution.\n",
      "  warnings.warn(\"The StationXML file has version %s, ObsPy can \"\n"
     ]
    },
    {
     "name": "stdout",
     "output_type": "stream",
     "text": [
      "earthquake number 82 of 1026 done. It was 20180819_075631.a\n",
      "earthquake number 83 of 1026 done. It was 20180817_232224.a\n",
      "earthquake number 84 of 1026 done. It was 20180816_181905.a\n",
      "earthquake number 85 of 1026 done. It was 20180815_224358.a\n",
      "earthquake number 86 of 1026 done. It was 20180814_053233.a\n",
      "earthquake number 87 of 1026 done. It was 20180812_170219.a\n"
     ]
    },
    {
     "name": "stderr",
     "output_type": "stream",
     "text": [
      " WARNING (norm_resp): computed and reported sensitivities differ by more than 5 percent. \n",
      "\t Execution continuing.\n",
      " WARNING (norm_resp): computed and reported sensitivities differ by more than 5 percent. \n",
      "\t Execution continuing.\n",
      " WARNING (norm_resp): computed and reported sensitivities differ by more than 5 percent. \n",
      "\t Execution continuing.\n"
     ]
    },
    {
     "name": "stdout",
     "output_type": "stream",
     "text": [
      "earthquake number 88 of 1026 done. It was 20180811_153833.a\n",
      "earthquake number 89 of 1026 done. It was 20180804_010224.a\n",
      "earthquake number 90 of 1026 done. It was 20180802_161242.a\n",
      "earthquake number 91 of 1026 done. It was 20180928_123244.a\n",
      "earthquake number 92 of 1026 done. It was 20180927_102149.a\n",
      "earthquake number 93 of 1026 done. It was 20180923_053211.a\n",
      "earthquake number 94 of 1026 done. It was 20180922_131358.a\n",
      "earthquake number 95 of 1026 done. It was 20180919_184221.a\n"
     ]
    },
    {
     "name": "stderr",
     "output_type": "stream",
     "text": [
      "/home/earthquakes1/software/Mageia8/anaconda3/lib/python3.9/site-packages/obspy/io/stationxml/core.py:96: UserWarning: The StationXML file has version 1, ObsPy can read versions (1.0, 1.1). Proceed with caution.\n",
      "  warnings.warn(\"The StationXML file has version %s, ObsPy can \"\n",
      "/home/earthquakes1/software/Mageia8/anaconda3/lib/python3.9/site-packages/obspy/io/stationxml/core.py:96: UserWarning: The StationXML file has version 1, ObsPy can read versions (1.0, 1.1). Proceed with caution.\n",
      "  warnings.warn(\"The StationXML file has version %s, ObsPy can \"\n"
     ]
    },
    {
     "name": "stdout",
     "output_type": "stream",
     "text": [
      "earthquake number 96 of 1026 done. It was 20180918_205823.a\n"
     ]
    },
    {
     "name": "stderr",
     "output_type": "stream",
     "text": [
      "/home/earthquakes1/software/Mageia8/anaconda3/lib/python3.9/site-packages/obspy/io/stationxml/core.py:96: UserWarning: The StationXML file has version 1, ObsPy can read versions (1.0, 1.1). Proceed with caution.\n",
      "  warnings.warn(\"The StationXML file has version %s, ObsPy can \"\n",
      "/home/earthquakes1/software/Mageia8/anaconda3/lib/python3.9/site-packages/obspy/io/stationxml/core.py:96: UserWarning: The StationXML file has version 1, ObsPy can read versions (1.0, 1.1). Proceed with caution.\n",
      "  warnings.warn(\"The StationXML file has version %s, ObsPy can \"\n"
     ]
    },
    {
     "name": "stdout",
     "output_type": "stream",
     "text": [
      "earthquake number 97 of 1026 done. It was 20180918_092416.a\n",
      "earthquake number 98 of 1026 done. It was 20180914_041237.a\n",
      "earthquake number 99 of 1026 done. It was 20180912_062953.a\n"
     ]
    },
    {
     "name": "stderr",
     "output_type": "stream",
     "text": [
      " WARNING (norm_resp): computed and reported sensitivities differ by more than 5 percent. \n",
      "\t Execution continuing.\n",
      " WARNING (norm_resp): computed and reported sensitivities differ by more than 5 percent. \n",
      "\t Execution continuing.\n",
      " WARNING (norm_resp): computed and reported sensitivities differ by more than 5 percent. \n",
      "\t Execution continuing.\n",
      " WARNING (norm_resp): computed and reported sensitivities differ by more than 5 percent. \n",
      "\t Execution continuing.\n",
      " WARNING (norm_resp): computed and reported sensitivities differ by more than 5 percent. \n",
      "\t Execution continuing.\n",
      " WARNING (norm_resp): computed and reported sensitivities differ by more than 5 percent. \n",
      "\t Execution continuing.\n",
      " WARNING (norm_resp): computed and reported sensitivities differ by more than 5 percent. \n",
      "\t Execution continuing.\n",
      " WARNING (norm_resp): computed and reported sensitivities differ by more than 5 percent. \n",
      "\t Execution continuing.\n"
     ]
    },
    {
     "name": "stdout",
     "output_type": "stream",
     "text": [
      "earthquake number 100 of 1026 done. It was 20180912_062148.a\n"
     ]
    },
    {
     "name": "stderr",
     "output_type": "stream",
     "text": [
      " WARNING (norm_resp): computed and reported sensitivities differ by more than 5 percent. \n",
      "\t Execution continuing.\n",
      " WARNING (norm_resp): computed and reported sensitivities differ by more than 5 percent. \n",
      "\t Execution continuing.\n",
      " WARNING (norm_resp): computed and reported sensitivities differ by more than 5 percent. \n",
      "\t Execution continuing.\n",
      " WARNING (norm_resp): computed and reported sensitivities differ by more than 5 percent. \n",
      "\t Execution continuing.\n",
      " WARNING (norm_resp): computed and reported sensitivities differ by more than 5 percent. \n",
      "\t Execution continuing.\n",
      " WARNING (norm_resp): computed and reported sensitivities differ by more than 5 percent. \n",
      "\t Execution continuing.\n",
      " WARNING (norm_resp): computed and reported sensitivities differ by more than 5 percent. \n",
      "\t Execution continuing.\n",
      " WARNING (norm_resp): computed and reported sensitivities differ by more than 5 percent. \n",
      "\t Execution continuing.\n"
     ]
    },
    {
     "name": "stdout",
     "output_type": "stream",
     "text": [
      "earthquake number 101 of 1026 done. It was 20180910_230256.a\n"
     ]
    },
    {
     "name": "stderr",
     "output_type": "stream",
     "text": [
      "/home/earthquakes1/software/Mageia8/anaconda3/lib/python3.9/site-packages/obspy/io/stationxml/core.py:96: UserWarning: The StationXML file has version 1, ObsPy can read versions (1.0, 1.1). Proceed with caution.\n",
      "  warnings.warn(\"The StationXML file has version %s, ObsPy can \"\n",
      "/home/earthquakes1/software/Mageia8/anaconda3/lib/python3.9/site-packages/obspy/io/stationxml/core.py:96: UserWarning: The StationXML file has version 1, ObsPy can read versions (1.0, 1.1). Proceed with caution.\n",
      "  warnings.warn(\"The StationXML file has version %s, ObsPy can \"\n"
     ]
    },
    {
     "name": "stdout",
     "output_type": "stream",
     "text": [
      "earthquake number 102 of 1026 done. It was 20180907_035605.a\n",
      "earthquake number 103 of 1026 done. It was 20180905_201641.a\n",
      "earthquake number 104 of 1026 done. It was 20180903_215256.a\n",
      "earthquake number 105 of 1026 done. It was 20181030_151200.a\n",
      "earthquake number 106 of 1026 done. It was 20181030_025958.a\n"
     ]
    },
    {
     "name": "stderr",
     "output_type": "stream",
     "text": [
      "/home/earthquakes1/software/Mageia8/anaconda3/lib/python3.9/site-packages/obspy/io/stationxml/core.py:96: UserWarning: The StationXML file has version 1, ObsPy can read versions (1.0, 1.1). Proceed with caution.\n",
      "  warnings.warn(\"The StationXML file has version %s, ObsPy can \"\n",
      "/home/earthquakes1/software/Mageia8/anaconda3/lib/python3.9/site-packages/obspy/io/stationxml/core.py:96: UserWarning: The StationXML file has version 1, ObsPy can read versions (1.0, 1.1). Proceed with caution.\n",
      "  warnings.warn(\"The StationXML file has version %s, ObsPy can \"\n",
      "/home/earthquakes1/software/Mageia8/anaconda3/lib/python3.9/site-packages/obspy/io/stationxml/core.py:96: UserWarning: The StationXML file has version 1, ObsPy can read versions (1.0, 1.1). Proceed with caution.\n",
      "  warnings.warn(\"The StationXML file has version %s, ObsPy can \"\n",
      "/home/earthquakes1/software/Mageia8/anaconda3/lib/python3.9/site-packages/obspy/io/stationxml/core.py:96: UserWarning: The StationXML file has version 1, ObsPy can read versions (1.0, 1.1). Proceed with caution.\n",
      "  warnings.warn(\"The StationXML file has version %s, ObsPy can \"\n",
      "/home/earthquakes1/software/Mageia8/anaconda3/lib/python3.9/site-packages/obspy/io/stationxml/core.py:96: UserWarning: The StationXML file has version 1, ObsPy can read versions (1.0, 1.1). Proceed with caution.\n",
      "  warnings.warn(\"The StationXML file has version %s, ObsPy can \"\n",
      "/home/earthquakes1/software/Mageia8/anaconda3/lib/python3.9/site-packages/obspy/io/stationxml/core.py:96: UserWarning: The StationXML file has version 1, ObsPy can read versions (1.0, 1.1). Proceed with caution.\n",
      "  warnings.warn(\"The StationXML file has version %s, ObsPy can \"\n",
      "/home/earthquakes1/software/Mageia8/anaconda3/lib/python3.9/site-packages/obspy/io/stationxml/core.py:96: UserWarning: The StationXML file has version 1, ObsPy can read versions (1.0, 1.1). Proceed with caution.\n",
      "  warnings.warn(\"The StationXML file has version %s, ObsPy can \"\n",
      "/home/earthquakes1/software/Mageia8/anaconda3/lib/python3.9/site-packages/obspy/io/stationxml/core.py:96: UserWarning: The StationXML file has version 1, ObsPy can read versions (1.0, 1.1). Proceed with caution.\n",
      "  warnings.warn(\"The StationXML file has version %s, ObsPy can \"\n",
      "/home/earthquakes1/software/Mageia8/anaconda3/lib/python3.9/site-packages/obspy/io/stationxml/core.py:96: UserWarning: The StationXML file has version 1, ObsPy can read versions (1.0, 1.1). Proceed with caution.\n",
      "  warnings.warn(\"The StationXML file has version %s, ObsPy can \"\n",
      "/home/earthquakes1/software/Mageia8/anaconda3/lib/python3.9/site-packages/obspy/io/stationxml/core.py:96: UserWarning: The StationXML file has version 1, ObsPy can read versions (1.0, 1.1). Proceed with caution.\n",
      "  warnings.warn(\"The StationXML file has version %s, ObsPy can \"\n",
      "/home/earthquakes1/software/Mageia8/anaconda3/lib/python3.9/site-packages/obspy/io/stationxml/core.py:96: UserWarning: The StationXML file has version 1, ObsPy can read versions (1.0, 1.1). Proceed with caution.\n",
      "  warnings.warn(\"The StationXML file has version %s, ObsPy can \"\n",
      "/home/earthquakes1/software/Mageia8/anaconda3/lib/python3.9/site-packages/obspy/io/stationxml/core.py:96: UserWarning: The StationXML file has version 1, ObsPy can read versions (1.0, 1.1). Proceed with caution.\n",
      "  warnings.warn(\"The StationXML file has version %s, ObsPy can \"\n",
      "/home/earthquakes1/software/Mageia8/anaconda3/lib/python3.9/site-packages/obspy/io/stationxml/core.py:96: UserWarning: The StationXML file has version 1, ObsPy can read versions (1.0, 1.1). Proceed with caution.\n",
      "  warnings.warn(\"The StationXML file has version %s, ObsPy can \"\n",
      "/home/earthquakes1/software/Mageia8/anaconda3/lib/python3.9/site-packages/obspy/io/stationxml/core.py:96: UserWarning: The StationXML file has version 1, ObsPy can read versions (1.0, 1.1). Proceed with caution.\n",
      "  warnings.warn(\"The StationXML file has version %s, ObsPy can \"\n",
      "/home/earthquakes1/software/Mageia8/anaconda3/lib/python3.9/site-packages/obspy/io/stationxml/core.py:96: UserWarning: The StationXML file has version 1, ObsPy can read versions (1.0, 1.1). Proceed with caution.\n",
      "  warnings.warn(\"The StationXML file has version %s, ObsPy can \"\n",
      "/home/earthquakes1/software/Mageia8/anaconda3/lib/python3.9/site-packages/obspy/io/stationxml/core.py:96: UserWarning: The StationXML file has version 1, ObsPy can read versions (1.0, 1.1). Proceed with caution.\n",
      "  warnings.warn(\"The StationXML file has version %s, ObsPy can \"\n",
      "/home/earthquakes1/software/Mageia8/anaconda3/lib/python3.9/site-packages/obspy/io/stationxml/core.py:96: UserWarning: The StationXML file has version 1, ObsPy can read versions (1.0, 1.1). Proceed with caution.\n",
      "  warnings.warn(\"The StationXML file has version %s, ObsPy can \"\n",
      "/home/earthquakes1/software/Mageia8/anaconda3/lib/python3.9/site-packages/obspy/io/stationxml/core.py:96: UserWarning: The StationXML file has version 1, ObsPy can read versions (1.0, 1.1). Proceed with caution.\n",
      "  warnings.warn(\"The StationXML file has version %s, ObsPy can \"\n",
      "/home/earthquakes1/software/Mageia8/anaconda3/lib/python3.9/site-packages/obspy/io/stationxml/core.py:96: UserWarning: The StationXML file has version 1, ObsPy can read versions (1.0, 1.1). Proceed with caution.\n",
      "  warnings.warn(\"The StationXML file has version %s, ObsPy can \"\n",
      "/home/earthquakes1/software/Mageia8/anaconda3/lib/python3.9/site-packages/obspy/io/stationxml/core.py:96: UserWarning: The StationXML file has version 1, ObsPy can read versions (1.0, 1.1). Proceed with caution.\n",
      "  warnings.warn(\"The StationXML file has version %s, ObsPy can \"\n",
      "/home/earthquakes1/software/Mageia8/anaconda3/lib/python3.9/site-packages/obspy/io/stationxml/core.py:96: UserWarning: The StationXML file has version 1, ObsPy can read versions (1.0, 1.1). Proceed with caution.\n",
      "  warnings.warn(\"The StationXML file has version %s, ObsPy can \"\n",
      "/home/earthquakes1/software/Mageia8/anaconda3/lib/python3.9/site-packages/obspy/io/stationxml/core.py:96: UserWarning: The StationXML file has version 1, ObsPy can read versions (1.0, 1.1). Proceed with caution.\n",
      "  warnings.warn(\"The StationXML file has version %s, ObsPy can \"\n",
      "/home/earthquakes1/software/Mageia8/anaconda3/lib/python3.9/site-packages/obspy/io/stationxml/core.py:96: UserWarning: The StationXML file has version 1, ObsPy can read versions (1.0, 1.1). Proceed with caution.\n",
      "  warnings.warn(\"The StationXML file has version %s, ObsPy can \"\n",
      "/home/earthquakes1/software/Mageia8/anaconda3/lib/python3.9/site-packages/obspy/io/stationxml/core.py:96: UserWarning: The StationXML file has version 1, ObsPy can read versions (1.0, 1.1). Proceed with caution.\n",
      "  warnings.warn(\"The StationXML file has version %s, ObsPy can \"\n",
      "/home/earthquakes1/software/Mageia8/anaconda3/lib/python3.9/site-packages/obspy/io/stationxml/core.py:96: UserWarning: The StationXML file has version 1, ObsPy can read versions (1.0, 1.1). Proceed with caution.\n",
      "  warnings.warn(\"The StationXML file has version %s, ObsPy can \"\n"
     ]
    },
    {
     "name": "stdout",
     "output_type": "stream",
     "text": [
      "earthquake number 107 of 1026 done. It was 20181030_021339.a\n",
      "earthquake number 108 of 1026 done. It was 20181028_204148.a\n"
     ]
    },
    {
     "name": "stderr",
     "output_type": "stream",
     "text": [
      " WARNING (norm_resp): computed and reported sensitivities differ by more than 5 percent. \n",
      "\t Execution continuing.\n",
      " WARNING (norm_resp): computed and reported sensitivities differ by more than 5 percent. \n",
      "\t Execution continuing.\n"
     ]
    },
    {
     "name": "stdout",
     "output_type": "stream",
     "text": [
      "earthquake number 109 of 1026 done. It was 20181028_003811.a\n",
      "earthquake number 110 of 1026 done. It was 20181026_124113.a\n",
      "earthquake number 111 of 1026 done. It was 20181026_120322.a\n",
      "earthquake number 112 of 1026 done. It was 20181026_054837.a\n",
      "earthquake number 113 of 1026 done. It was 20181026_010604.a\n",
      "earthquake number 114 of 1026 done. It was 20181026_003254.a\n",
      "earthquake number 115 of 1026 done. It was 20181025_230921.a\n",
      "earthquake number 116 of 1026 done. It was 20181025_225452.a\n",
      "earthquake number 117 of 1026 done. It was 20181025_222254.a\n"
     ]
    },
    {
     "name": "stderr",
     "output_type": "stream",
     "text": [
      "/home/earthquakes1/software/Mageia8/anaconda3/lib/python3.9/site-packages/obspy/io/stationxml/core.py:96: UserWarning: The StationXML file has version 1, ObsPy can read versions (1.0, 1.1). Proceed with caution.\n",
      "  warnings.warn(\"The StationXML file has version %s, ObsPy can \"\n",
      "/home/earthquakes1/software/Mageia8/anaconda3/lib/python3.9/site-packages/obspy/io/stationxml/core.py:96: UserWarning: The StationXML file has version 1, ObsPy can read versions (1.0, 1.1). Proceed with caution.\n",
      "  warnings.warn(\"The StationXML file has version %s, ObsPy can \"\n"
     ]
    },
    {
     "name": "stdout",
     "output_type": "stream",
     "text": [
      "earthquake number 118 of 1026 done. It was 20181019_023158.a\n",
      "earthquake number 119 of 1026 done. It was 20181018_151804.a\n",
      "earthquake number 120 of 1026 done. It was 20181017_060119.a\n",
      "earthquake number 121 of 1026 done. It was 20181017_012308.a\n",
      "earthquake number 122 of 1026 done. It was 20181016_064951.a\n",
      "earthquake number 123 of 1026 done. It was 20181016_053451.a\n",
      "earthquake number 124 of 1026 done. It was 20181016_044242.a\n",
      "earthquake number 125 of 1026 done. It was 20181016_042122.a\n",
      "earthquake number 126 of 1026 done. It was 20181016_040859.a\n",
      "earthquake number 127 of 1026 done. It was 20181016_033245.a\n",
      "earthquake number 128 of 1026 done. It was 20181016_031432.a\n",
      "earthquake number 129 of 1026 done. It was 20181016_030328.a\n",
      "earthquake number 130 of 1026 done. It was 20181016_022406.a\n",
      "earthquake number 131 of 1026 done. It was 20181016_013825.a\n",
      "earthquake number 132 of 1026 done. It was 20181016_013125.a\n",
      "earthquake number 133 of 1026 done. It was 20181016_012905.a\n",
      "earthquake number 134 of 1026 done. It was 20181016_011437.a\n",
      "earthquake number 135 of 1026 done. It was 20181016_010343.a\n",
      "earthquake number 136 of 1026 done. It was 20181016_002812.a\n",
      "earthquake number 137 of 1026 done. It was 20181010_102804.a\n"
     ]
    },
    {
     "name": "stderr",
     "output_type": "stream",
     "text": [
      "/home/earthquakes1/software/Mageia8/anaconda3/lib/python3.9/site-packages/obspy/io/stationxml/core.py:96: UserWarning: The StationXML file has version 1, ObsPy can read versions (1.0, 1.1). Proceed with caution.\n",
      "  warnings.warn(\"The StationXML file has version %s, ObsPy can \"\n",
      "/home/earthquakes1/software/Mageia8/anaconda3/lib/python3.9/site-packages/obspy/io/stationxml/core.py:96: UserWarning: The StationXML file has version 1, ObsPy can read versions (1.0, 1.1). Proceed with caution.\n",
      "  warnings.warn(\"The StationXML file has version %s, ObsPy can \"\n"
     ]
    },
    {
     "name": "stdout",
     "output_type": "stream",
     "text": [
      "earthquake number 138 of 1026 done. It was 20181007_174221.a\n",
      "earthquake number 139 of 1026 done. It was 20181005_210826.a\n"
     ]
    },
    {
     "name": "stderr",
     "output_type": "stream",
     "text": [
      "/home/earthquakes1/software/Mageia8/anaconda3/lib/python3.9/site-packages/obspy/io/stationxml/core.py:96: UserWarning: The StationXML file has version 1, ObsPy can read versions (1.0, 1.1). Proceed with caution.\n",
      "  warnings.warn(\"The StationXML file has version %s, ObsPy can \"\n",
      "/home/earthquakes1/software/Mageia8/anaconda3/lib/python3.9/site-packages/obspy/io/stationxml/core.py:96: UserWarning: The StationXML file has version 1, ObsPy can read versions (1.0, 1.1). Proceed with caution.\n",
      "  warnings.warn(\"The StationXML file has version %s, ObsPy can \"\n"
     ]
    },
    {
     "name": "stdout",
     "output_type": "stream",
     "text": [
      "earthquake number 140 of 1026 done. It was 20181125_061430.a\n"
     ]
    },
    {
     "name": "stderr",
     "output_type": "stream",
     "text": [
      "/home/earthquakes1/software/Mageia8/anaconda3/lib/python3.9/site-packages/obspy/io/stationxml/core.py:96: UserWarning: The StationXML file has version 1, ObsPy can read versions (1.0, 1.1). Proceed with caution.\n",
      "  warnings.warn(\"The StationXML file has version %s, ObsPy can \"\n"
     ]
    },
    {
     "name": "stdout",
     "output_type": "stream",
     "text": [
      "earthquake number 141 of 1026 done. It was 20181124_234239.a\n",
      "earthquake number 142 of 1026 done. It was 20181119_130556.a\n",
      "earthquake number 143 of 1026 done. It was 20181115_000905.a\n",
      "earthquake number 144 of 1026 done. It was 20181109_092031.a\n",
      "earthquake number 145 of 1026 done. It was 20181109_014940.a\n",
      "earthquake number 146 of 1026 done. It was 20181101_221951.a\n",
      "earthquake number 147 of 1026 done. It was 20181231_104941.a\n",
      "earthquake number 148 of 1026 done. It was 20181226_032353.a\n",
      "earthquake number 149 of 1026 done. It was 20181226_021914.a\n"
     ]
    },
    {
     "name": "stderr",
     "output_type": "stream",
     "text": [
      "/home/earthquakes1/software/Mageia8/anaconda3/lib/python3.9/site-packages/obspy/io/stationxml/core.py:96: UserWarning: The StationXML file has version 1, ObsPy can read versions (1.0, 1.1). Proceed with caution.\n",
      "  warnings.warn(\"The StationXML file has version %s, ObsPy can \"\n",
      "/home/earthquakes1/software/Mageia8/anaconda3/lib/python3.9/site-packages/obspy/io/stationxml/core.py:96: UserWarning: The StationXML file has version 1, ObsPy can read versions (1.0, 1.1). Proceed with caution.\n",
      "  warnings.warn(\"The StationXML file has version %s, ObsPy can \"\n"
     ]
    },
    {
     "name": "stdout",
     "output_type": "stream",
     "text": [
      "earthquake number 150 of 1026 done. It was 20181225_124804.a\n",
      "earthquake number 151 of 1026 done. It was 20181224_021929.a\n",
      "earthquake number 152 of 1026 done. It was 20181223_100920.a\n",
      "earthquake number 153 of 1026 done. It was 20181221_222434.a\n",
      "earthquake number 154 of 1026 done. It was 20181218_052748.a\n",
      "earthquake number 155 of 1026 done. It was 20181217_155219.a\n",
      "earthquake number 156 of 1026 done. It was 20181216_161543.a\n",
      "earthquake number 157 of 1026 done. It was 20181216_094820.a\n",
      "earthquake number 158 of 1026 done. It was 20181216_074409.a\n",
      "earthquake number 159 of 1026 done. It was 20181216_024348.a\n",
      "earthquake number 160 of 1026 done. It was 20181215_202154.a\n"
     ]
    },
    {
     "name": "stderr",
     "output_type": "stream",
     "text": [
      "/home/earthquakes1/software/Mageia8/anaconda3/lib/python3.9/site-packages/obspy/io/stationxml/core.py:96: UserWarning: The StationXML file has version 1, ObsPy can read versions (1.0, 1.1). Proceed with caution.\n",
      "  warnings.warn(\"The StationXML file has version %s, ObsPy can \"\n",
      "/home/earthquakes1/software/Mageia8/anaconda3/lib/python3.9/site-packages/obspy/io/stationxml/core.py:96: UserWarning: The StationXML file has version 1, ObsPy can read versions (1.0, 1.1). Proceed with caution.\n",
      "  warnings.warn(\"The StationXML file has version %s, ObsPy can \"\n"
     ]
    },
    {
     "name": "stdout",
     "output_type": "stream",
     "text": [
      "earthquake number 161 of 1026 done. It was 20181215_094214.a\n",
      "earthquake number 162 of 1026 done. It was 20181215_082900.a\n",
      "earthquake number 163 of 1026 done. It was 20181213_023304.a\n",
      "earthquake number 164 of 1026 done. It was 20181209_215224.a\n",
      "earthquake number 165 of 1026 done. It was 20181209_203752.a\n",
      "earthquake number 166 of 1026 done. It was 20181208_025723.a\n",
      "earthquake number 167 of 1026 done. It was 20181207_204355.a\n",
      "earthquake number 168 of 1026 done. It was 20181207_111448.a\n",
      "earthquake number 169 of 1026 done. It was 20181207_010301.a\n",
      "earthquake number 170 of 1026 done. It was 20181206_232659.a\n",
      "earthquake number 171 of 1026 done. It was 20181206_173240.a\n",
      "earthquake number 172 of 1026 done. It was 20181206_060730.a\n",
      "earthquake number 173 of 1026 done. It was 20181206_040228.a\n",
      "earthquake number 174 of 1026 done. It was 20181205_232039.a\n",
      "earthquake number 175 of 1026 done. It was 20181205_213218.a\n",
      "earthquake number 176 of 1026 done. It was 20181205_200127.a\n",
      "earthquake number 177 of 1026 done. It was 20181205_171213.a\n",
      "earthquake number 178 of 1026 done. It was 20181205_153821.a\n",
      "earthquake number 179 of 1026 done. It was 20181205_151840.a\n",
      "earthquake number 180 of 1026 done. It was 20181205_101909.a\n",
      "earthquake number 181 of 1026 done. It was 20181205_101429.a\n",
      "earthquake number 182 of 1026 done. It was 20181205_083240.a\n",
      "earthquake number 183 of 1026 done. It was 20181205_082032.a\n",
      "earthquake number 184 of 1026 done. It was 20181205_080823.a\n",
      "earthquake number 185 of 1026 done. It was 20181205_074641.a\n",
      "earthquake number 186 of 1026 done. It was 20181205_074539.a\n",
      "earthquake number 187 of 1026 done. It was 20181205_064304.a\n",
      "earthquake number 188 of 1026 done. It was 20181205_055307.a\n",
      "earthquake number 189 of 1026 done. It was 20181205_045425.a\n",
      "earthquake number 190 of 1026 done. It was 20181205_045021.a\n",
      "earthquake number 191 of 1026 done. It was 20181205_044156.a\n",
      "earthquake number 192 of 1026 done. It was 20181205_043123.a\n",
      "earthquake number 193 of 1026 done. It was 20181205_043024.a\n",
      "earthquake number 194 of 1026 done. It was 20181205_042844.a\n",
      "earthquake number 195 of 1026 done. It was 20181205_041808.a\n",
      "earthquake number 196 of 1026 done. It was 20181205_041436.a\n",
      "earthquake number 197 of 1026 done. It was 20181201_235524.a\n",
      "earthquake number 198 of 1026 done. It was 20190131_044030.a\n",
      "earthquake number 199 of 1026 done. It was 20190130_074445.a\n"
     ]
    },
    {
     "name": "stderr",
     "output_type": "stream",
     "text": [
      " WARNING (norm_resp): computed and reported sensitivities differ by more than 5 percent. \n",
      "\t Execution continuing.\n",
      " WARNING (norm_resp): computed and reported sensitivities differ by more than 5 percent. \n",
      "\t Execution continuing.\n",
      " WARNING (norm_resp): computed and reported sensitivities differ by more than 5 percent. \n",
      "\t Execution continuing.\n",
      " WARNING (norm_resp): computed and reported sensitivities differ by more than 5 percent. \n",
      "\t Execution continuing.\n",
      " WARNING (norm_resp): computed and reported sensitivities differ by more than 5 percent. \n",
      "\t Execution continuing.\n",
      " WARNING (norm_resp): computed and reported sensitivities differ by more than 5 percent. \n",
      "\t Execution continuing.\n",
      " WARNING (norm_resp): computed and reported sensitivities differ by more than 5 percent. \n",
      "\t Execution continuing.\n",
      " WARNING (norm_resp): computed and reported sensitivities differ by more than 5 percent. \n",
      "\t Execution continuing.\n",
      " WARNING (norm_resp): computed and reported sensitivities differ by more than 5 percent. \n",
      "\t Execution continuing.\n",
      " WARNING (norm_resp): computed and reported sensitivities differ by more than 5 percent. \n",
      "\t Execution continuing.\n",
      " WARNING (norm_resp): computed and reported sensitivities differ by more than 5 percent. \n",
      "\t Execution continuing.\n",
      " WARNING (norm_resp): computed and reported sensitivities differ by more than 5 percent. \n",
      "\t Execution continuing.\n"
     ]
    },
    {
     "name": "stdout",
     "output_type": "stream",
     "text": [
      "earthquake number 200 of 1026 done. It was 20190124_143049.a\n"
     ]
    },
    {
     "name": "stderr",
     "output_type": "stream",
     "text": [
      "/home/earthquakes1/software/Mageia8/anaconda3/lib/python3.9/site-packages/obspy/io/stationxml/core.py:96: UserWarning: The StationXML file has version 1, ObsPy can read versions (1.0, 1.1). Proceed with caution.\n",
      "  warnings.warn(\"The StationXML file has version %s, ObsPy can \"\n",
      "/home/earthquakes1/software/Mageia8/anaconda3/lib/python3.9/site-packages/obspy/io/stationxml/core.py:96: UserWarning: The StationXML file has version 1, ObsPy can read versions (1.0, 1.1). Proceed with caution.\n",
      "  warnings.warn(\"The StationXML file has version %s, ObsPy can \"\n"
     ]
    },
    {
     "name": "stdout",
     "output_type": "stream",
     "text": [
      "earthquake number 201 of 1026 done. It was 20190123_175258.a\n",
      "earthquake number 202 of 1026 done. It was 20190121_013634.a\n",
      "earthquake number 203 of 1026 done. It was 20190121_003545.a\n"
     ]
    },
    {
     "name": "stderr",
     "output_type": "stream",
     "text": [
      " WARNING (norm_resp): computed and reported sensitivities differ by more than 5 percent. \n",
      "\t Execution continuing.\n",
      " WARNING (norm_resp): computed and reported sensitivities differ by more than 5 percent. \n",
      "\t Execution continuing.\n",
      " WARNING (norm_resp): computed and reported sensitivities differ by more than 5 percent. \n",
      "\t Execution continuing.\n",
      " WARNING (norm_resp): computed and reported sensitivities differ by more than 5 percent. \n",
      "\t Execution continuing.\n",
      " WARNING (norm_resp): computed and reported sensitivities differ by more than 5 percent. \n",
      "\t Execution continuing.\n",
      " WARNING (norm_resp): computed and reported sensitivities differ by more than 5 percent. \n",
      "\t Execution continuing.\n"
     ]
    },
    {
     "name": "stdout",
     "output_type": "stream",
     "text": [
      "earthquake number 204 of 1026 done. It was 20190120_154950.a\n",
      "earthquake number 205 of 1026 done. It was 20190117_125637.a\n",
      "earthquake number 206 of 1026 done. It was 20190117_025449.a\n",
      "earthquake number 207 of 1026 done. It was 20190116_041236.a\n",
      "earthquake number 208 of 1026 done. It was 20190116_015101.a\n",
      "earthquake number 209 of 1026 done. It was 20190115_034104.a\n",
      "earthquake number 210 of 1026 done. It was 20190114_224808.a\n",
      "earthquake number 211 of 1026 done. It was 20190112_043202.a\n",
      "earthquake number 212 of 1026 done. It was 20190110_182441.a\n",
      "earthquake number 213 of 1026 done. It was 20190110_170014.a\n"
     ]
    },
    {
     "name": "stderr",
     "output_type": "stream",
     "text": [
      "/home/earthquakes1/software/Mageia8/anaconda3/lib/python3.9/site-packages/obspy/io/stationxml/core.py:96: UserWarning: The StationXML file has version 1, ObsPy can read versions (1.0, 1.1). Proceed with caution.\n",
      "  warnings.warn(\"The StationXML file has version %s, ObsPy can \"\n",
      "/home/earthquakes1/software/Mageia8/anaconda3/lib/python3.9/site-packages/obspy/io/stationxml/core.py:96: UserWarning: The StationXML file has version 1, ObsPy can read versions (1.0, 1.1). Proceed with caution.\n",
      "  warnings.warn(\"The StationXML file has version %s, ObsPy can \"\n"
     ]
    },
    {
     "name": "stdout",
     "output_type": "stream",
     "text": [
      "earthquake number 214 of 1026 done. It was 20190110_045420.a\n",
      "earthquake number 215 of 1026 done. It was 20190106_162231.a\n",
      "earthquake number 216 of 1026 done. It was 20190105_192538.a\n"
     ]
    },
    {
     "name": "stderr",
     "output_type": "stream",
     "text": [
      "/home/earthquakes1/software/Mageia8/anaconda3/lib/python3.9/site-packages/obspy/io/stationxml/core.py:96: UserWarning: The StationXML file has version 1, ObsPy can read versions (1.0, 1.1). Proceed with caution.\n",
      "  warnings.warn(\"The StationXML file has version %s, ObsPy can \"\n",
      "/home/earthquakes1/software/Mageia8/anaconda3/lib/python3.9/site-packages/obspy/io/stationxml/core.py:96: UserWarning: The StationXML file has version 1, ObsPy can read versions (1.0, 1.1). Proceed with caution.\n",
      "  warnings.warn(\"The StationXML file has version %s, ObsPy can \"\n",
      "/home/earthquakes1/software/Mageia8/anaconda3/lib/python3.9/site-packages/obspy/io/stationxml/core.py:96: UserWarning: The StationXML file has version 1, ObsPy can read versions (1.0, 1.1). Proceed with caution.\n",
      "  warnings.warn(\"The StationXML file has version %s, ObsPy can \"\n",
      "/home/earthquakes1/software/Mageia8/anaconda3/lib/python3.9/site-packages/obspy/io/stationxml/core.py:96: UserWarning: The StationXML file has version 1, ObsPy can read versions (1.0, 1.1). Proceed with caution.\n",
      "  warnings.warn(\"The StationXML file has version %s, ObsPy can \"\n",
      "/home/earthquakes1/software/Mageia8/anaconda3/lib/python3.9/site-packages/obspy/io/stationxml/core.py:96: UserWarning: The StationXML file has version 1, ObsPy can read versions (1.0, 1.1). Proceed with caution.\n",
      "  warnings.warn(\"The StationXML file has version %s, ObsPy can \"\n",
      "/home/earthquakes1/software/Mageia8/anaconda3/lib/python3.9/site-packages/obspy/io/stationxml/core.py:96: UserWarning: The StationXML file has version 1, ObsPy can read versions (1.0, 1.1). Proceed with caution.\n",
      "  warnings.warn(\"The StationXML file has version %s, ObsPy can \"\n",
      "/home/earthquakes1/software/Mageia8/anaconda3/lib/python3.9/site-packages/obspy/io/stationxml/core.py:96: UserWarning: The StationXML file has version 1, ObsPy can read versions (1.0, 1.1). Proceed with caution.\n",
      "  warnings.warn(\"The StationXML file has version %s, ObsPy can \"\n",
      "/home/earthquakes1/software/Mageia8/anaconda3/lib/python3.9/site-packages/obspy/io/stationxml/core.py:96: UserWarning: The StationXML file has version 1, ObsPy can read versions (1.0, 1.1). Proceed with caution.\n",
      "  warnings.warn(\"The StationXML file has version %s, ObsPy can \"\n"
     ]
    },
    {
     "name": "stdout",
     "output_type": "stream",
     "text": [
      "earthquake number 217 of 1026 done. It was 20190228_195534.a\n",
      "earthquake number 218 of 1026 done. It was 20190223_121438.a\n"
     ]
    },
    {
     "name": "stderr",
     "output_type": "stream",
     "text": [
      " WARNING (norm_resp): computed and reported sensitivities differ by more than 5 percent. \n",
      "\t Execution continuing.\n",
      " WARNING (norm_resp): computed and reported sensitivities differ by more than 5 percent. \n",
      "\t Execution continuing.\n",
      " WARNING (norm_resp): computed and reported sensitivities differ by more than 5 percent. \n",
      "\t Execution continuing.\n",
      " WARNING (norm_resp): computed and reported sensitivities differ by more than 5 percent. \n",
      "\t Execution continuing.\n",
      " WARNING (norm_resp): computed and reported sensitivities differ by more than 5 percent. \n",
      "\t Execution continuing.\n",
      " WARNING (norm_resp): computed and reported sensitivities differ by more than 5 percent. \n",
      "\t Execution continuing.\n",
      " WARNING (norm_resp): computed and reported sensitivities differ by more than 5 percent. \n",
      "\t Execution continuing.\n",
      " WARNING (norm_resp): computed and reported sensitivities differ by more than 5 percent. \n",
      "\t Execution continuing.\n",
      " WARNING (norm_resp): computed and reported sensitivities differ by more than 5 percent. \n",
      "\t Execution continuing.\n",
      " WARNING (norm_resp): computed and reported sensitivities differ by more than 5 percent. \n",
      "\t Execution continuing.\n",
      " WARNING (norm_resp): computed and reported sensitivities differ by more than 5 percent. \n",
      "\t Execution continuing.\n",
      " WARNING (norm_resp): computed and reported sensitivities differ by more than 5 percent. \n",
      "\t Execution continuing.\n",
      " WARNING (norm_resp): computed and reported sensitivities differ by more than 5 percent. \n",
      "\t Execution continuing.\n",
      " WARNING (norm_resp): computed and reported sensitivities differ by more than 5 percent. \n",
      "\t Execution continuing.\n",
      " WARNING (norm_resp): computed and reported sensitivities differ by more than 5 percent. \n",
      "\t Execution continuing.\n",
      " WARNING (norm_resp): computed and reported sensitivities differ by more than 5 percent. \n",
      "\t Execution continuing.\n",
      " WARNING (norm_resp): computed and reported sensitivities differ by more than 5 percent. \n",
      "\t Execution continuing.\n",
      " WARNING (norm_resp): computed and reported sensitivities differ by more than 5 percent. \n",
      "\t Execution continuing.\n",
      " WARNING (norm_resp): computed and reported sensitivities differ by more than 5 percent. \n",
      "\t Execution continuing.\n",
      " WARNING (norm_resp): computed and reported sensitivities differ by more than 5 percent. \n",
      "\t Execution continuing.\n",
      " WARNING (norm_resp): computed and reported sensitivities differ by more than 5 percent. \n",
      "\t Execution continuing.\n",
      " WARNING (norm_resp): computed and reported sensitivities differ by more than 5 percent. \n",
      "\t Execution continuing.\n",
      " WARNING (norm_resp): computed and reported sensitivities differ by more than 5 percent. \n",
      "\t Execution continuing.\n"
     ]
    },
    {
     "name": "stdout",
     "output_type": "stream",
     "text": [
      "earthquake number 219 of 1026 done. It was 20190220_182329.a\n",
      "earthquake number 220 of 1026 done. It was 20190217_132208.a\n",
      "earthquake number 221 of 1026 done. It was 20190212_105307.a\n",
      "earthquake number 222 of 1026 done. It was 20190209_192308.a\n",
      "earthquake number 223 of 1026 done. It was 20190206_175649.a\n",
      "earthquake number 224 of 1026 done. It was 20190205_022609.a\n"
     ]
    },
    {
     "name": "stderr",
     "output_type": "stream",
     "text": [
      " WARNING (norm_resp): computed and reported sensitivities differ by more than 5 percent. \n",
      "\t Execution continuing.\n",
      " WARNING (norm_resp): computed and reported sensitivities differ by more than 5 percent. \n",
      "\t Execution continuing.\n",
      " WARNING (norm_resp): computed and reported sensitivities differ by more than 5 percent. \n",
      "\t Execution continuing.\n",
      " WARNING (norm_resp): computed and reported sensitivities differ by more than 5 percent. \n",
      "\t Execution continuing.\n",
      " WARNING (norm_resp): computed and reported sensitivities differ by more than 5 percent. \n",
      "\t Execution continuing.\n",
      " WARNING (norm_resp): computed and reported sensitivities differ by more than 5 percent. \n",
      "\t Execution continuing.\n",
      " WARNING (norm_resp): computed and reported sensitivities differ by more than 5 percent. \n",
      "\t Execution continuing.\n",
      " WARNING (norm_resp): computed and reported sensitivities differ by more than 5 percent. \n",
      "\t Execution continuing.\n",
      " WARNING (norm_resp): computed and reported sensitivities differ by more than 5 percent. \n",
      "\t Execution continuing.\n",
      " WARNING (norm_resp): computed and reported sensitivities differ by more than 5 percent. \n",
      "\t Execution continuing.\n",
      " WARNING (norm_resp): computed and reported sensitivities differ by more than 5 percent. \n",
      "\t Execution continuing.\n",
      " WARNING (norm_resp): computed and reported sensitivities differ by more than 5 percent. \n",
      "\t Execution continuing.\n",
      " WARNING (norm_resp): computed and reported sensitivities differ by more than 5 percent. \n",
      "\t Execution continuing.\n",
      " WARNING (norm_resp): computed and reported sensitivities differ by more than 5 percent. \n",
      "\t Execution continuing.\n",
      " WARNING (norm_resp): computed and reported sensitivities differ by more than 5 percent. \n",
      "\t Execution continuing.\n",
      " WARNING (norm_resp): computed and reported sensitivities differ by more than 5 percent. \n",
      "\t Execution continuing.\n",
      " WARNING (norm_resp): computed and reported sensitivities differ by more than 5 percent. \n",
      "\t Execution continuing.\n",
      " WARNING (norm_resp): computed and reported sensitivities differ by more than 5 percent. \n",
      "\t Execution continuing.\n",
      " WARNING (norm_resp): computed and reported sensitivities differ by more than 5 percent. \n",
      "\t Execution continuing.\n",
      " WARNING (norm_resp): computed and reported sensitivities differ by more than 5 percent. \n",
      "\t Execution continuing.\n",
      " WARNING (norm_resp): computed and reported sensitivities differ by more than 5 percent. \n",
      "\t Execution continuing.\n",
      " WARNING (norm_resp): computed and reported sensitivities differ by more than 5 percent. \n",
      "\t Execution continuing.\n",
      " WARNING (norm_resp): computed and reported sensitivities differ by more than 5 percent. \n",
      "\t Execution continuing.\n",
      " WARNING (norm_resp): computed and reported sensitivities differ by more than 5 percent. \n",
      "\t Execution continuing.\n",
      " WARNING (norm_resp): computed and reported sensitivities differ by more than 5 percent. \n",
      "\t Execution continuing.\n"
     ]
    },
    {
     "name": "stdout",
     "output_type": "stream",
     "text": [
      "earthquake number 225 of 1026 done. It was 20190331_113017.a\n",
      "earthquake number 226 of 1026 done. It was 20190330_104619.a\n",
      "earthquake number 227 of 1026 done. It was 20190328_150531.a\n",
      "earthquake number 228 of 1026 done. It was 20190325_105240.a\n",
      "earthquake number 229 of 1026 done. It was 20190324_093001.a\n",
      "earthquake number 230 of 1026 done. It was 20190320_152358.a\n"
     ]
    },
    {
     "name": "stderr",
     "output_type": "stream",
     "text": [
      " WARNING (norm_resp): computed and reported sensitivities differ by more than 5 percent. \n",
      "\t Execution continuing.\n",
      " WARNING (norm_resp): computed and reported sensitivities differ by more than 5 percent. \n",
      "\t Execution continuing.\n",
      " WARNING (norm_resp): computed and reported sensitivities differ by more than 5 percent. \n",
      "\t Execution continuing.\n",
      " WARNING (norm_resp): computed and reported sensitivities differ by more than 5 percent. \n",
      "\t Execution continuing.\n",
      " WARNING (norm_resp): computed and reported sensitivities differ by more than 5 percent. \n",
      "\t Execution continuing.\n",
      " WARNING (norm_resp): computed and reported sensitivities differ by more than 5 percent. \n",
      "\t Execution continuing.\n",
      " WARNING (norm_resp): computed and reported sensitivities differ by more than 5 percent. \n",
      "\t Execution continuing.\n",
      " WARNING (norm_resp): computed and reported sensitivities differ by more than 5 percent. \n",
      "\t Execution continuing.\n",
      " WARNING (norm_resp): computed and reported sensitivities differ by more than 5 percent. \n",
      "\t Execution continuing.\n",
      " WARNING (norm_resp): computed and reported sensitivities differ by more than 5 percent. \n",
      "\t Execution continuing.\n",
      " WARNING (norm_resp): computed and reported sensitivities differ by more than 5 percent. \n",
      "\t Execution continuing.\n",
      " WARNING (norm_resp): computed and reported sensitivities differ by more than 5 percent. \n",
      "\t Execution continuing.\n",
      " WARNING (norm_resp): computed and reported sensitivities differ by more than 5 percent. \n",
      "\t Execution continuing.\n",
      " WARNING (norm_resp): computed and reported sensitivities differ by more than 5 percent. \n",
      "\t Execution continuing.\n",
      " WARNING (norm_resp): computed and reported sensitivities differ by more than 5 percent. \n",
      "\t Execution continuing.\n",
      " WARNING (norm_resp): computed and reported sensitivities differ by more than 5 percent. \n",
      "\t Execution continuing.\n",
      " WARNING (norm_resp): computed and reported sensitivities differ by more than 5 percent. \n",
      "\t Execution continuing.\n",
      " WARNING (norm_resp): computed and reported sensitivities differ by more than 5 percent. \n",
      "\t Execution continuing.\n",
      " WARNING (norm_resp): computed and reported sensitivities differ by more than 5 percent. \n",
      "\t Execution continuing.\n",
      " WARNING (norm_resp): computed and reported sensitivities differ by more than 5 percent. \n",
      "\t Execution continuing.\n",
      " WARNING (norm_resp): computed and reported sensitivities differ by more than 5 percent. \n",
      "\t Execution continuing.\n",
      " WARNING (norm_resp): computed and reported sensitivities differ by more than 5 percent. \n",
      "\t Execution continuing.\n",
      " WARNING (norm_resp): computed and reported sensitivities differ by more than 5 percent. \n",
      "\t Execution continuing.\n"
     ]
    },
    {
     "name": "stdout",
     "output_type": "stream",
     "text": [
      "earthquake number 231 of 1026 done. It was 20190320_063428.a\n",
      "earthquake number 232 of 1026 done. It was 20190319_042029.a\n",
      "earthquake number 233 of 1026 done. It was 20190317_005337.a\n"
     ]
    },
    {
     "name": "stderr",
     "output_type": "stream",
     "text": [
      "/home/earthquakes1/software/Mageia8/anaconda3/lib/python3.9/site-packages/obspy/io/stationxml/core.py:96: UserWarning: The StationXML file has version 1, ObsPy can read versions (1.0, 1.1). Proceed with caution.\n",
      "  warnings.warn(\"The StationXML file has version %s, ObsPy can \"\n",
      "/home/earthquakes1/software/Mageia8/anaconda3/lib/python3.9/site-packages/obspy/io/stationxml/core.py:96: UserWarning: The StationXML file has version 1, ObsPy can read versions (1.0, 1.1). Proceed with caution.\n",
      "  warnings.warn(\"The StationXML file has version %s, ObsPy can \"\n"
     ]
    },
    {
     "name": "stdout",
     "output_type": "stream",
     "text": [
      "earthquake number 234 of 1026 done. It was 20190303_103117.a\n",
      "earthquake number 235 of 1026 done. It was 20190302_202152.a\n"
     ]
    },
    {
     "name": "stderr",
     "output_type": "stream",
     "text": [
      "/home/earthquakes1/software/Mageia8/anaconda3/lib/python3.9/site-packages/obspy/io/stationxml/core.py:96: UserWarning: The StationXML file has version 1, ObsPy can read versions (1.0, 1.1). Proceed with caution.\n",
      "  warnings.warn(\"The StationXML file has version %s, ObsPy can \"\n",
      "/home/earthquakes1/software/Mageia8/anaconda3/lib/python3.9/site-packages/obspy/io/stationxml/core.py:96: UserWarning: The StationXML file has version 1, ObsPy can read versions (1.0, 1.1). Proceed with caution.\n",
      "  warnings.warn(\"The StationXML file has version %s, ObsPy can \"\n",
      "/home/earthquakes1/software/Mageia8/anaconda3/lib/python3.9/site-packages/obspy/io/stationxml/core.py:96: UserWarning: The StationXML file has version 1, ObsPy can read versions (1.0, 1.1). Proceed with caution.\n",
      "  warnings.warn(\"The StationXML file has version %s, ObsPy can \"\n",
      "/home/earthquakes1/software/Mageia8/anaconda3/lib/python3.9/site-packages/obspy/io/stationxml/core.py:96: UserWarning: The StationXML file has version 1, ObsPy can read versions (1.0, 1.1). Proceed with caution.\n",
      "  warnings.warn(\"The StationXML file has version %s, ObsPy can \"\n",
      "/home/earthquakes1/software/Mageia8/anaconda3/lib/python3.9/site-packages/obspy/io/stationxml/core.py:96: UserWarning: The StationXML file has version 1, ObsPy can read versions (1.0, 1.1). Proceed with caution.\n",
      "  warnings.warn(\"The StationXML file has version %s, ObsPy can \"\n",
      "/home/earthquakes1/software/Mageia8/anaconda3/lib/python3.9/site-packages/obspy/io/stationxml/core.py:96: UserWarning: The StationXML file has version 1, ObsPy can read versions (1.0, 1.1). Proceed with caution.\n",
      "  warnings.warn(\"The StationXML file has version %s, ObsPy can \"\n",
      "/home/earthquakes1/software/Mageia8/anaconda3/lib/python3.9/site-packages/obspy/io/stationxml/core.py:96: UserWarning: The StationXML file has version 1, ObsPy can read versions (1.0, 1.1). Proceed with caution.\n",
      "  warnings.warn(\"The StationXML file has version %s, ObsPy can \"\n"
     ]
    },
    {
     "name": "stdout",
     "output_type": "stream",
     "text": [
      "earthquake number 236 of 1026 done. It was 20190427_181048.a\n",
      "earthquake number 237 of 1026 done. It was 20190426_062234.a\n",
      "earthquake number 238 of 1026 done. It was 20190424_185732.a\n",
      "earthquake number 239 of 1026 done. It was 20190422_182954.a\n",
      "earthquake number 240 of 1026 done. It was 20190421_163141.a\n"
     ]
    },
    {
     "name": "stderr",
     "output_type": "stream",
     "text": [
      "/home/earthquakes1/software/Mageia8/anaconda3/lib/python3.9/site-packages/obspy/io/stationxml/core.py:96: UserWarning: The StationXML file has version 1, ObsPy can read versions (1.0, 1.1). Proceed with caution.\n",
      "  warnings.warn(\"The StationXML file has version %s, ObsPy can \"\n",
      "/home/earthquakes1/software/Mageia8/anaconda3/lib/python3.9/site-packages/obspy/io/stationxml/core.py:96: UserWarning: The StationXML file has version 1, ObsPy can read versions (1.0, 1.1). Proceed with caution.\n",
      "  warnings.warn(\"The StationXML file has version %s, ObsPy can \"\n"
     ]
    },
    {
     "name": "stdout",
     "output_type": "stream",
     "text": [
      "earthquake number 241 of 1026 done. It was 20190416_093937.a\n",
      "earthquake number 242 of 1026 done. It was 20190410_055756.a\n",
      "earthquake number 243 of 1026 done. It was 20190407_105241.a\n",
      "earthquake number 244 of 1026 done. It was 20190406_210141.a\n"
     ]
    },
    {
     "name": "stderr",
     "output_type": "stream",
     "text": [
      " WARNING (norm_resp): computed and reported sensitivities differ by more than 5 percent. \n",
      "\t Execution continuing.\n",
      " WARNING (norm_resp): computed and reported sensitivities differ by more than 5 percent. \n",
      "\t Execution continuing.\n",
      " WARNING (norm_resp): computed and reported sensitivities differ by more than 5 percent. \n",
      "\t Execution continuing.\n",
      " WARNING (norm_resp): computed and reported sensitivities differ by more than 5 percent. \n",
      "\t Execution continuing.\n",
      " WARNING (norm_resp): computed and reported sensitivities differ by more than 5 percent. \n",
      "\t Execution continuing.\n",
      " WARNING (norm_resp): computed and reported sensitivities differ by more than 5 percent. \n",
      "\t Execution continuing.\n",
      " WARNING (norm_resp): computed and reported sensitivities differ by more than 5 percent. \n",
      "\t Execution continuing.\n",
      " WARNING (norm_resp): computed and reported sensitivities differ by more than 5 percent. \n",
      "\t Execution continuing.\n",
      " WARNING (norm_resp): computed and reported sensitivities differ by more than 5 percent. \n",
      "\t Execution continuing.\n",
      " WARNING (norm_resp): computed and reported sensitivities differ by more than 5 percent. \n",
      "\t Execution continuing.\n",
      " WARNING (norm_resp): computed and reported sensitivities differ by more than 5 percent. \n",
      "\t Execution continuing.\n",
      " WARNING (norm_resp): computed and reported sensitivities differ by more than 5 percent. \n",
      "\t Execution continuing.\n"
     ]
    },
    {
     "name": "stdout",
     "output_type": "stream",
     "text": [
      "earthquake number 245 of 1026 done. It was 20190404_173110.a\n",
      "earthquake number 246 of 1026 done. It was 20190521_071859.a\n",
      "earthquake number 247 of 1026 done. It was 20190520_111832.a\n",
      "earthquake number 248 of 1026 done. It was 20190519_150148.a\n",
      "earthquake number 249 of 1026 done. It was 20190519_145650.a\n",
      "earthquake number 250 of 1026 done. It was 20190519_142712.a\n",
      "earthquake number 251 of 1026 done. It was 20190519_012329.a\n",
      "earthquake number 252 of 1026 done. It was 20190517_141623.a\n",
      "earthquake number 253 of 1026 done. It was 20190516_162216.a\n",
      "earthquake number 254 of 1026 done. It was 20190516_143249.a\n",
      "earthquake number 255 of 1026 done. It was 20190516_003213.a\n"
     ]
    },
    {
     "name": "stderr",
     "output_type": "stream",
     "text": [
      "/home/earthquakes1/software/Mageia8/anaconda3/lib/python3.9/site-packages/obspy/io/stationxml/core.py:96: UserWarning: The StationXML file has version 1, ObsPy can read versions (1.0, 1.1). Proceed with caution.\n",
      "  warnings.warn(\"The StationXML file has version %s, ObsPy can \"\n",
      "/home/earthquakes1/software/Mageia8/anaconda3/lib/python3.9/site-packages/obspy/io/stationxml/core.py:96: UserWarning: The StationXML file has version 1, ObsPy can read versions (1.0, 1.1). Proceed with caution.\n",
      "  warnings.warn(\"The StationXML file has version %s, ObsPy can \"\n"
     ]
    },
    {
     "name": "stdout",
     "output_type": "stream",
     "text": [
      "earthquake number 256 of 1026 done. It was 20190515_140857.a\n"
     ]
    },
    {
     "name": "stderr",
     "output_type": "stream",
     "text": [
      "/home/earthquakes1/software/Mageia8/anaconda3/lib/python3.9/site-packages/obspy/io/stationxml/core.py:96: UserWarning: The StationXML file has version 1, ObsPy can read versions (1.0, 1.1). Proceed with caution.\n",
      "  warnings.warn(\"The StationXML file has version %s, ObsPy can \"\n",
      "/home/earthquakes1/software/Mageia8/anaconda3/lib/python3.9/site-packages/obspy/io/stationxml/core.py:96: UserWarning: The StationXML file has version 1, ObsPy can read versions (1.0, 1.1). Proceed with caution.\n",
      "  warnings.warn(\"The StationXML file has version %s, ObsPy can \"\n",
      "/home/earthquakes1/software/Mageia8/anaconda3/lib/python3.9/site-packages/obspy/io/stationxml/core.py:96: UserWarning: The StationXML file has version 1, ObsPy can read versions (1.0, 1.1). Proceed with caution.\n",
      "  warnings.warn(\"The StationXML file has version %s, ObsPy can \"\n",
      "/home/earthquakes1/software/Mageia8/anaconda3/lib/python3.9/site-packages/obspy/io/stationxml/core.py:96: UserWarning: The StationXML file has version 1, ObsPy can read versions (1.0, 1.1). Proceed with caution.\n",
      "  warnings.warn(\"The StationXML file has version %s, ObsPy can \"\n",
      "/home/earthquakes1/software/Mageia8/anaconda3/lib/python3.9/site-packages/obspy/io/stationxml/core.py:96: UserWarning: The StationXML file has version 1, ObsPy can read versions (1.0, 1.1). Proceed with caution.\n",
      "  warnings.warn(\"The StationXML file has version %s, ObsPy can \"\n",
      "/home/earthquakes1/software/Mageia8/anaconda3/lib/python3.9/site-packages/obspy/io/stationxml/core.py:96: UserWarning: The StationXML file has version 1, ObsPy can read versions (1.0, 1.1). Proceed with caution.\n",
      "  warnings.warn(\"The StationXML file has version %s, ObsPy can \"\n",
      "/home/earthquakes1/software/Mageia8/anaconda3/lib/python3.9/site-packages/obspy/io/stationxml/core.py:96: UserWarning: The StationXML file has version 1, ObsPy can read versions (1.0, 1.1). Proceed with caution.\n",
      "  warnings.warn(\"The StationXML file has version %s, ObsPy can \"\n",
      "/home/earthquakes1/software/Mageia8/anaconda3/lib/python3.9/site-packages/obspy/io/stationxml/core.py:96: UserWarning: The StationXML file has version 1, ObsPy can read versions (1.0, 1.1). Proceed with caution.\n",
      "  warnings.warn(\"The StationXML file has version %s, ObsPy can \"\n",
      "/home/earthquakes1/software/Mageia8/anaconda3/lib/python3.9/site-packages/obspy/io/stationxml/core.py:96: UserWarning: The StationXML file has version 1, ObsPy can read versions (1.0, 1.1). Proceed with caution.\n",
      "  warnings.warn(\"The StationXML file has version %s, ObsPy can \"\n",
      "/home/earthquakes1/software/Mageia8/anaconda3/lib/python3.9/site-packages/obspy/io/stationxml/core.py:96: UserWarning: The StationXML file has version 1, ObsPy can read versions (1.0, 1.1). Proceed with caution.\n",
      "  warnings.warn(\"The StationXML file has version %s, ObsPy can \"\n"
     ]
    },
    {
     "name": "stdout",
     "output_type": "stream",
     "text": [
      "earthquake number 257 of 1026 done. It was 20190514_111636.a\n",
      "earthquake number 258 of 1026 done. It was 20190512_192450.a\n"
     ]
    },
    {
     "name": "stderr",
     "output_type": "stream",
     "text": [
      "/home/earthquakes1/software/Mageia8/anaconda3/lib/python3.9/site-packages/obspy/io/stationxml/core.py:96: UserWarning: The StationXML file has version 1, ObsPy can read versions (1.0, 1.1). Proceed with caution.\n",
      "  warnings.warn(\"The StationXML file has version %s, ObsPy can \"\n",
      "/home/earthquakes1/software/Mageia8/anaconda3/lib/python3.9/site-packages/obspy/io/stationxml/core.py:96: UserWarning: The StationXML file has version 1, ObsPy can read versions (1.0, 1.1). Proceed with caution.\n",
      "  warnings.warn(\"The StationXML file has version %s, ObsPy can \"\n"
     ]
    },
    {
     "name": "stdout",
     "output_type": "stream",
     "text": [
      "earthquake number 259 of 1026 done. It was 20190510_034317.a\n"
     ]
    },
    {
     "name": "stderr",
     "output_type": "stream",
     "text": [
      "/home/earthquakes1/software/Mageia8/anaconda3/lib/python3.9/site-packages/obspy/io/stationxml/core.py:96: UserWarning: The StationXML file has version 1, ObsPy can read versions (1.0, 1.1). Proceed with caution.\n",
      "  warnings.warn(\"The StationXML file has version %s, ObsPy can \"\n",
      "/home/earthquakes1/software/Mageia8/anaconda3/lib/python3.9/site-packages/obspy/io/stationxml/core.py:96: UserWarning: The StationXML file has version 1, ObsPy can read versions (1.0, 1.1). Proceed with caution.\n",
      "  warnings.warn(\"The StationXML file has version %s, ObsPy can \"\n"
     ]
    },
    {
     "name": "stdout",
     "output_type": "stream",
     "text": [
      "earthquake number 260 of 1026 done. It was 20190510_032333.a\n",
      "earthquake number 261 of 1026 done. It was 20190506_231911.a\n"
     ]
    },
    {
     "name": "stderr",
     "output_type": "stream",
     "text": [
      "/home/earthquakes1/software/Mageia8/anaconda3/lib/python3.9/site-packages/obspy/io/stationxml/core.py:96: UserWarning: The StationXML file has version 1, ObsPy can read versions (1.0, 1.1). Proceed with caution.\n",
      "  warnings.warn(\"The StationXML file has version %s, ObsPy can \"\n",
      "/home/earthquakes1/software/Mageia8/anaconda3/lib/python3.9/site-packages/obspy/io/stationxml/core.py:96: UserWarning: The StationXML file has version 1, ObsPy can read versions (1.0, 1.1). Proceed with caution.\n",
      "  warnings.warn(\"The StationXML file has version %s, ObsPy can \"\n"
     ]
    },
    {
     "name": "stdout",
     "output_type": "stream",
     "text": [
      "earthquake number 262 of 1026 done. It was 20190503_034241.a\n"
     ]
    },
    {
     "name": "stderr",
     "output_type": "stream",
     "text": [
      "/home/earthquakes1/software/Mageia8/anaconda3/lib/python3.9/site-packages/obspy/io/stationxml/core.py:96: UserWarning: The StationXML file has version 1, ObsPy can read versions (1.0, 1.1). Proceed with caution.\n",
      "  warnings.warn(\"The StationXML file has version %s, ObsPy can \"\n",
      "/home/earthquakes1/software/Mageia8/anaconda3/lib/python3.9/site-packages/obspy/io/stationxml/core.py:96: UserWarning: The StationXML file has version 1, ObsPy can read versions (1.0, 1.1). Proceed with caution.\n",
      "  warnings.warn(\"The StationXML file has version %s, ObsPy can \"\n"
     ]
    },
    {
     "name": "stdout",
     "output_type": "stream",
     "text": [
      "earthquake number 263 of 1026 done. It was 20190627_110457.a\n"
     ]
    },
    {
     "name": "stderr",
     "output_type": "stream",
     "text": [
      "/home/earthquakes1/software/Mageia8/anaconda3/lib/python3.9/site-packages/obspy/io/stationxml/core.py:96: UserWarning: The StationXML file has version 1, ObsPy can read versions (1.0, 1.1). Proceed with caution.\n",
      "  warnings.warn(\"The StationXML file has version %s, ObsPy can \"\n",
      "/home/earthquakes1/software/Mageia8/anaconda3/lib/python3.9/site-packages/obspy/io/stationxml/core.py:96: UserWarning: The StationXML file has version 1, ObsPy can read versions (1.0, 1.1). Proceed with caution.\n",
      "  warnings.warn(\"The StationXML file has version %s, ObsPy can \"\n"
     ]
    },
    {
     "name": "stdout",
     "output_type": "stream",
     "text": [
      "earthquake number 264 of 1026 done. It was 20190626_180630.a\n"
     ]
    },
    {
     "name": "stderr",
     "output_type": "stream",
     "text": [
      "/home/earthquakes1/software/Mageia8/anaconda3/lib/python3.9/site-packages/obspy/io/stationxml/core.py:96: UserWarning: The StationXML file has version 1, ObsPy can read versions (1.0, 1.1). Proceed with caution.\n",
      "  warnings.warn(\"The StationXML file has version %s, ObsPy can \"\n",
      "/home/earthquakes1/software/Mageia8/anaconda3/lib/python3.9/site-packages/obspy/io/stationxml/core.py:96: UserWarning: The StationXML file has version 1, ObsPy can read versions (1.0, 1.1). Proceed with caution.\n",
      "  warnings.warn(\"The StationXML file has version %s, ObsPy can \"\n"
     ]
    },
    {
     "name": "stdout",
     "output_type": "stream",
     "text": [
      "earthquake number 265 of 1026 done. It was 20190624_113408.a\n"
     ]
    },
    {
     "name": "stderr",
     "output_type": "stream",
     "text": [
      "/home/earthquakes1/software/Mageia8/anaconda3/lib/python3.9/site-packages/obspy/io/stationxml/core.py:96: UserWarning: The StationXML file has version 1, ObsPy can read versions (1.0, 1.1). Proceed with caution.\n",
      "  warnings.warn(\"The StationXML file has version %s, ObsPy can \"\n",
      "/home/earthquakes1/software/Mageia8/anaconda3/lib/python3.9/site-packages/obspy/io/stationxml/core.py:96: UserWarning: The StationXML file has version 1, ObsPy can read versions (1.0, 1.1). Proceed with caution.\n",
      "  warnings.warn(\"The StationXML file has version %s, ObsPy can \"\n"
     ]
    },
    {
     "name": "stdout",
     "output_type": "stream",
     "text": [
      "earthquake number 266 of 1026 done. It was 20190623_065212.a\n",
      "earthquake number 267 of 1026 done. It was 20190623_035302.a\n"
     ]
    },
    {
     "name": "stderr",
     "output_type": "stream",
     "text": [
      "/home/earthquakes1/software/Mageia8/anaconda3/lib/python3.9/site-packages/obspy/io/stationxml/core.py:96: UserWarning: The StationXML file has version 1, ObsPy can read versions (1.0, 1.1). Proceed with caution.\n",
      "  warnings.warn(\"The StationXML file has version %s, ObsPy can \"\n",
      "/home/earthquakes1/software/Mageia8/anaconda3/lib/python3.9/site-packages/obspy/io/stationxml/core.py:96: UserWarning: The StationXML file has version 1, ObsPy can read versions (1.0, 1.1). Proceed with caution.\n",
      "  warnings.warn(\"The StationXML file has version %s, ObsPy can \"\n"
     ]
    },
    {
     "name": "stdout",
     "output_type": "stream",
     "text": [
      "earthquake number 268 of 1026 done. It was 20190621_230028.a\n"
     ]
    },
    {
     "name": "stderr",
     "output_type": "stream",
     "text": [
      "/home/earthquakes1/software/Mageia8/anaconda3/lib/python3.9/site-packages/obspy/io/stationxml/core.py:96: UserWarning: The StationXML file has version 1, ObsPy can read versions (1.0, 1.1). Proceed with caution.\n",
      "  warnings.warn(\"The StationXML file has version %s, ObsPy can \"\n",
      "/home/earthquakes1/software/Mageia8/anaconda3/lib/python3.9/site-packages/obspy/io/stationxml/core.py:96: UserWarning: The StationXML file has version 1, ObsPy can read versions (1.0, 1.1). Proceed with caution.\n",
      "  warnings.warn(\"The StationXML file has version %s, ObsPy can \"\n"
     ]
    },
    {
     "name": "stdout",
     "output_type": "stream",
     "text": [
      "earthquake number 269 of 1026 done. It was 20190621_224924.a\n"
     ]
    },
    {
     "name": "stderr",
     "output_type": "stream",
     "text": [
      "/home/earthquakes1/software/Mageia8/anaconda3/lib/python3.9/site-packages/obspy/io/stationxml/core.py:96: UserWarning: The StationXML file has version 1, ObsPy can read versions (1.0, 1.1). Proceed with caution.\n",
      "  warnings.warn(\"The StationXML file has version %s, ObsPy can \"\n",
      "/home/earthquakes1/software/Mageia8/anaconda3/lib/python3.9/site-packages/obspy/io/stationxml/core.py:96: UserWarning: The StationXML file has version 1, ObsPy can read versions (1.0, 1.1). Proceed with caution.\n",
      "  warnings.warn(\"The StationXML file has version %s, ObsPy can \"\n"
     ]
    },
    {
     "name": "stdout",
     "output_type": "stream",
     "text": [
      "earthquake number 270 of 1026 done. It was 20190621_084038.a\n"
     ]
    },
    {
     "name": "stderr",
     "output_type": "stream",
     "text": [
      "/home/earthquakes1/software/Mageia8/anaconda3/lib/python3.9/site-packages/obspy/io/stationxml/core.py:96: UserWarning: The StationXML file has version 1, ObsPy can read versions (1.0, 1.1). Proceed with caution.\n",
      "  warnings.warn(\"The StationXML file has version %s, ObsPy can \"\n",
      "/home/earthquakes1/software/Mageia8/anaconda3/lib/python3.9/site-packages/obspy/io/stationxml/core.py:96: UserWarning: The StationXML file has version 1, ObsPy can read versions (1.0, 1.1). Proceed with caution.\n",
      "  warnings.warn(\"The StationXML file has version %s, ObsPy can \"\n"
     ]
    },
    {
     "name": "stdout",
     "output_type": "stream",
     "text": [
      "earthquake number 271 of 1026 done. It was 20190621_083716.a\n"
     ]
    },
    {
     "name": "stderr",
     "output_type": "stream",
     "text": [
      "/home/earthquakes1/software/Mageia8/anaconda3/lib/python3.9/site-packages/obspy/io/stationxml/core.py:96: UserWarning: The StationXML file has version 1, ObsPy can read versions (1.0, 1.1). Proceed with caution.\n",
      "  warnings.warn(\"The StationXML file has version %s, ObsPy can \"\n",
      "/home/earthquakes1/software/Mageia8/anaconda3/lib/python3.9/site-packages/obspy/io/stationxml/core.py:96: UserWarning: The StationXML file has version 1, ObsPy can read versions (1.0, 1.1). Proceed with caution.\n",
      "  warnings.warn(\"The StationXML file has version %s, ObsPy can \"\n"
     ]
    },
    {
     "name": "stdout",
     "output_type": "stream",
     "text": [
      "earthquake number 272 of 1026 done. It was 20190621_072740.a\n"
     ]
    },
    {
     "name": "stderr",
     "output_type": "stream",
     "text": [
      "/home/earthquakes1/software/Mageia8/anaconda3/lib/python3.9/site-packages/obspy/io/stationxml/core.py:96: UserWarning: The StationXML file has version 1, ObsPy can read versions (1.0, 1.1). Proceed with caution.\n",
      "  warnings.warn(\"The StationXML file has version %s, ObsPy can \"\n",
      "/home/earthquakes1/software/Mageia8/anaconda3/lib/python3.9/site-packages/obspy/io/stationxml/core.py:96: UserWarning: The StationXML file has version 1, ObsPy can read versions (1.0, 1.1). Proceed with caution.\n",
      "  warnings.warn(\"The StationXML file has version %s, ObsPy can \"\n"
     ]
    },
    {
     "name": "stdout",
     "output_type": "stream",
     "text": [
      "earthquake number 273 of 1026 done. It was 20190620_214506.a\n",
      "earthquake number 274 of 1026 done. It was 20190620_012326.a\n"
     ]
    },
    {
     "name": "stderr",
     "output_type": "stream",
     "text": [
      "/home/earthquakes1/software/Mageia8/anaconda3/lib/python3.9/site-packages/obspy/io/stationxml/core.py:96: UserWarning: The StationXML file has version 1, ObsPy can read versions (1.0, 1.1). Proceed with caution.\n",
      "  warnings.warn(\"The StationXML file has version %s, ObsPy can \"\n",
      "/home/earthquakes1/software/Mageia8/anaconda3/lib/python3.9/site-packages/obspy/io/stationxml/core.py:96: UserWarning: The StationXML file has version 1, ObsPy can read versions (1.0, 1.1). Proceed with caution.\n",
      "  warnings.warn(\"The StationXML file has version %s, ObsPy can \"\n"
     ]
    },
    {
     "name": "stdout",
     "output_type": "stream",
     "text": [
      "earthquake number 275 of 1026 done. It was 20190619_070142.a\n"
     ]
    },
    {
     "name": "stderr",
     "output_type": "stream",
     "text": [
      "/home/earthquakes1/software/Mageia8/anaconda3/lib/python3.9/site-packages/obspy/io/stationxml/core.py:96: UserWarning: The StationXML file has version 1, ObsPy can read versions (1.0, 1.1). Proceed with caution.\n",
      "  warnings.warn(\"The StationXML file has version %s, ObsPy can \"\n",
      "/home/earthquakes1/software/Mageia8/anaconda3/lib/python3.9/site-packages/obspy/io/stationxml/core.py:96: UserWarning: The StationXML file has version 1, ObsPy can read versions (1.0, 1.1). Proceed with caution.\n",
      "  warnings.warn(\"The StationXML file has version %s, ObsPy can \"\n"
     ]
    },
    {
     "name": "stdout",
     "output_type": "stream",
     "text": [
      "earthquake number 276 of 1026 done. It was 20190618_235906.a\n"
     ]
    },
    {
     "name": "stderr",
     "output_type": "stream",
     "text": [
      "/home/earthquakes1/software/Mageia8/anaconda3/lib/python3.9/site-packages/obspy/io/stationxml/core.py:96: UserWarning: The StationXML file has version 1, ObsPy can read versions (1.0, 1.1). Proceed with caution.\n",
      "  warnings.warn(\"The StationXML file has version %s, ObsPy can \"\n",
      "/home/earthquakes1/software/Mageia8/anaconda3/lib/python3.9/site-packages/obspy/io/stationxml/core.py:96: UserWarning: The StationXML file has version 1, ObsPy can read versions (1.0, 1.1). Proceed with caution.\n",
      "  warnings.warn(\"The StationXML file has version %s, ObsPy can \"\n"
     ]
    },
    {
     "name": "stdout",
     "output_type": "stream",
     "text": [
      "earthquake number 277 of 1026 done. It was 20190618_230434.a\n",
      "earthquake number 278 of 1026 done. It was 20190618_202740.a\n"
     ]
    },
    {
     "name": "stderr",
     "output_type": "stream",
     "text": [
      "/home/earthquakes1/software/Mageia8/anaconda3/lib/python3.9/site-packages/obspy/io/stationxml/core.py:96: UserWarning: The StationXML file has version 1, ObsPy can read versions (1.0, 1.1). Proceed with caution.\n",
      "  warnings.warn(\"The StationXML file has version %s, ObsPy can \"\n",
      "/home/earthquakes1/software/Mageia8/anaconda3/lib/python3.9/site-packages/obspy/io/stationxml/core.py:96: UserWarning: The StationXML file has version 1, ObsPy can read versions (1.0, 1.1). Proceed with caution.\n",
      "  warnings.warn(\"The StationXML file has version %s, ObsPy can \"\n"
     ]
    },
    {
     "name": "stdout",
     "output_type": "stream",
     "text": [
      "earthquake number 279 of 1026 done. It was 20190618_181208.a\n"
     ]
    },
    {
     "name": "stderr",
     "output_type": "stream",
     "text": [
      "/home/earthquakes1/software/Mageia8/anaconda3/lib/python3.9/site-packages/obspy/io/stationxml/core.py:96: UserWarning: The StationXML file has version 1, ObsPy can read versions (1.0, 1.1). Proceed with caution.\n",
      "  warnings.warn(\"The StationXML file has version %s, ObsPy can \"\n",
      "/home/earthquakes1/software/Mageia8/anaconda3/lib/python3.9/site-packages/obspy/io/stationxml/core.py:96: UserWarning: The StationXML file has version 1, ObsPy can read versions (1.0, 1.1). Proceed with caution.\n",
      "  warnings.warn(\"The StationXML file has version %s, ObsPy can \"\n"
     ]
    },
    {
     "name": "stdout",
     "output_type": "stream",
     "text": [
      "earthquake number 280 of 1026 done. It was 20190618_160517.a\n"
     ]
    },
    {
     "name": "stderr",
     "output_type": "stream",
     "text": [
      "/home/earthquakes1/software/Mageia8/anaconda3/lib/python3.9/site-packages/obspy/io/stationxml/core.py:96: UserWarning: The StationXML file has version 1, ObsPy can read versions (1.0, 1.1). Proceed with caution.\n",
      "  warnings.warn(\"The StationXML file has version %s, ObsPy can \"\n",
      "/home/earthquakes1/software/Mageia8/anaconda3/lib/python3.9/site-packages/obspy/io/stationxml/core.py:96: UserWarning: The StationXML file has version 1, ObsPy can read versions (1.0, 1.1). Proceed with caution.\n",
      "  warnings.warn(\"The StationXML file has version %s, ObsPy can \"\n"
     ]
    },
    {
     "name": "stdout",
     "output_type": "stream",
     "text": [
      "earthquake number 281 of 1026 done. It was 20190618_042354.a\n"
     ]
    },
    {
     "name": "stderr",
     "output_type": "stream",
     "text": [
      "/home/earthquakes1/software/Mageia8/anaconda3/lib/python3.9/site-packages/obspy/io/stationxml/core.py:96: UserWarning: The StationXML file has version 1, ObsPy can read versions (1.0, 1.1). Proceed with caution.\n",
      "  warnings.warn(\"The StationXML file has version %s, ObsPy can \"\n",
      "/home/earthquakes1/software/Mageia8/anaconda3/lib/python3.9/site-packages/obspy/io/stationxml/core.py:96: UserWarning: The StationXML file has version 1, ObsPy can read versions (1.0, 1.1). Proceed with caution.\n",
      "  warnings.warn(\"The StationXML file has version %s, ObsPy can \"\n"
     ]
    },
    {
     "name": "stdout",
     "output_type": "stream",
     "text": [
      "earthquake number 282 of 1026 done. It was 20190618_011600.a\n"
     ]
    },
    {
     "name": "stderr",
     "output_type": "stream",
     "text": [
      "/home/earthquakes1/software/Mageia8/anaconda3/lib/python3.9/site-packages/obspy/io/stationxml/core.py:96: UserWarning: The StationXML file has version 1, ObsPy can read versions (1.0, 1.1). Proceed with caution.\n",
      "  warnings.warn(\"The StationXML file has version %s, ObsPy can \"\n",
      "/home/earthquakes1/software/Mageia8/anaconda3/lib/python3.9/site-packages/obspy/io/stationxml/core.py:96: UserWarning: The StationXML file has version 1, ObsPy can read versions (1.0, 1.1). Proceed with caution.\n",
      "  warnings.warn(\"The StationXML file has version %s, ObsPy can \"\n"
     ]
    },
    {
     "name": "stdout",
     "output_type": "stream",
     "text": [
      "earthquake number 283 of 1026 done. It was 20190617_165304.a\n"
     ]
    },
    {
     "name": "stderr",
     "output_type": "stream",
     "text": [
      "/home/earthquakes1/software/Mageia8/anaconda3/lib/python3.9/site-packages/obspy/io/stationxml/core.py:96: UserWarning: The StationXML file has version 1, ObsPy can read versions (1.0, 1.1). Proceed with caution.\n",
      "  warnings.warn(\"The StationXML file has version %s, ObsPy can \"\n",
      "/home/earthquakes1/software/Mageia8/anaconda3/lib/python3.9/site-packages/obspy/io/stationxml/core.py:96: UserWarning: The StationXML file has version 1, ObsPy can read versions (1.0, 1.1). Proceed with caution.\n",
      "  warnings.warn(\"The StationXML file has version %s, ObsPy can \"\n"
     ]
    },
    {
     "name": "stdout",
     "output_type": "stream",
     "text": [
      "earthquake number 284 of 1026 done. It was 20190617_060205.a\n"
     ]
    },
    {
     "name": "stderr",
     "output_type": "stream",
     "text": [
      "/home/earthquakes1/software/Mageia8/anaconda3/lib/python3.9/site-packages/obspy/io/stationxml/core.py:96: UserWarning: The StationXML file has version 1, ObsPy can read versions (1.0, 1.1). Proceed with caution.\n",
      "  warnings.warn(\"The StationXML file has version %s, ObsPy can \"\n",
      "/home/earthquakes1/software/Mageia8/anaconda3/lib/python3.9/site-packages/obspy/io/stationxml/core.py:96: UserWarning: The StationXML file has version 1, ObsPy can read versions (1.0, 1.1). Proceed with caution.\n",
      "  warnings.warn(\"The StationXML file has version %s, ObsPy can \"\n"
     ]
    },
    {
     "name": "stdout",
     "output_type": "stream",
     "text": [
      "earthquake number 285 of 1026 done. It was 20190616_051716.a\n"
     ]
    },
    {
     "name": "stderr",
     "output_type": "stream",
     "text": [
      "/home/earthquakes1/software/Mageia8/anaconda3/lib/python3.9/site-packages/obspy/io/stationxml/core.py:96: UserWarning: The StationXML file has version 1, ObsPy can read versions (1.0, 1.1). Proceed with caution.\n",
      "  warnings.warn(\"The StationXML file has version %s, ObsPy can \"\n",
      "/home/earthquakes1/software/Mageia8/anaconda3/lib/python3.9/site-packages/obspy/io/stationxml/core.py:96: UserWarning: The StationXML file has version 1, ObsPy can read versions (1.0, 1.1). Proceed with caution.\n",
      "  warnings.warn(\"The StationXML file has version %s, ObsPy can \"\n"
     ]
    },
    {
     "name": "stdout",
     "output_type": "stream",
     "text": [
      "earthquake number 286 of 1026 done. It was 20190616_030239.a\n"
     ]
    },
    {
     "name": "stderr",
     "output_type": "stream",
     "text": [
      "/home/earthquakes1/software/Mageia8/anaconda3/lib/python3.9/site-packages/obspy/io/stationxml/core.py:96: UserWarning: The StationXML file has version 1, ObsPy can read versions (1.0, 1.1). Proceed with caution.\n",
      "  warnings.warn(\"The StationXML file has version %s, ObsPy can \"\n",
      "/home/earthquakes1/software/Mageia8/anaconda3/lib/python3.9/site-packages/obspy/io/stationxml/core.py:96: UserWarning: The StationXML file has version 1, ObsPy can read versions (1.0, 1.1). Proceed with caution.\n",
      "  warnings.warn(\"The StationXML file has version %s, ObsPy can \"\n"
     ]
    },
    {
     "name": "stdout",
     "output_type": "stream",
     "text": [
      "earthquake number 287 of 1026 done. It was 20190616_012942.a\n"
     ]
    },
    {
     "name": "stderr",
     "output_type": "stream",
     "text": [
      "/home/earthquakes1/software/Mageia8/anaconda3/lib/python3.9/site-packages/obspy/io/stationxml/core.py:96: UserWarning: The StationXML file has version 1, ObsPy can read versions (1.0, 1.1). Proceed with caution.\n",
      "  warnings.warn(\"The StationXML file has version %s, ObsPy can \"\n",
      "/home/earthquakes1/software/Mageia8/anaconda3/lib/python3.9/site-packages/obspy/io/stationxml/core.py:96: UserWarning: The StationXML file has version 1, ObsPy can read versions (1.0, 1.1). Proceed with caution.\n",
      "  warnings.warn(\"The StationXML file has version %s, ObsPy can \"\n"
     ]
    },
    {
     "name": "stdout",
     "output_type": "stream",
     "text": [
      "earthquake number 288 of 1026 done. It was 20190616_000007.a\n"
     ]
    },
    {
     "name": "stderr",
     "output_type": "stream",
     "text": [
      "/home/earthquakes1/software/Mageia8/anaconda3/lib/python3.9/site-packages/obspy/io/stationxml/core.py:96: UserWarning: The StationXML file has version 1, ObsPy can read versions (1.0, 1.1). Proceed with caution.\n",
      "  warnings.warn(\"The StationXML file has version %s, ObsPy can \"\n",
      "/home/earthquakes1/software/Mageia8/anaconda3/lib/python3.9/site-packages/obspy/io/stationxml/core.py:96: UserWarning: The StationXML file has version 1, ObsPy can read versions (1.0, 1.1). Proceed with caution.\n",
      "  warnings.warn(\"The StationXML file has version %s, ObsPy can \"\n"
     ]
    },
    {
     "name": "stdout",
     "output_type": "stream",
     "text": [
      "earthquake number 289 of 1026 done. It was 20190615_230725.a\n"
     ]
    },
    {
     "name": "stderr",
     "output_type": "stream",
     "text": [
      "/home/earthquakes1/software/Mageia8/anaconda3/lib/python3.9/site-packages/obspy/io/stationxml/core.py:96: UserWarning: The StationXML file has version 1, ObsPy can read versions (1.0, 1.1). Proceed with caution.\n",
      "  warnings.warn(\"The StationXML file has version %s, ObsPy can \"\n",
      "/home/earthquakes1/software/Mageia8/anaconda3/lib/python3.9/site-packages/obspy/io/stationxml/core.py:96: UserWarning: The StationXML file has version 1, ObsPy can read versions (1.0, 1.1). Proceed with caution.\n",
      "  warnings.warn(\"The StationXML file has version %s, ObsPy can \"\n"
     ]
    },
    {
     "name": "stdout",
     "output_type": "stream",
     "text": [
      "earthquake number 290 of 1026 done. It was 20190615_230406.a\n"
     ]
    },
    {
     "name": "stderr",
     "output_type": "stream",
     "text": [
      "/home/earthquakes1/software/Mageia8/anaconda3/lib/python3.9/site-packages/obspy/io/stationxml/core.py:96: UserWarning: The StationXML file has version 1, ObsPy can read versions (1.0, 1.1). Proceed with caution.\n",
      "  warnings.warn(\"The StationXML file has version %s, ObsPy can \"\n",
      "/home/earthquakes1/software/Mageia8/anaconda3/lib/python3.9/site-packages/obspy/io/stationxml/core.py:96: UserWarning: The StationXML file has version 1, ObsPy can read versions (1.0, 1.1). Proceed with caution.\n",
      "  warnings.warn(\"The StationXML file has version %s, ObsPy can \"\n"
     ]
    },
    {
     "name": "stdout",
     "output_type": "stream",
     "text": [
      "earthquake number 291 of 1026 done. It was 20190615_225504.a\n",
      "earthquake number 292 of 1026 done. It was 20190610_144308.a\n"
     ]
    },
    {
     "name": "stderr",
     "output_type": "stream",
     "text": [
      "/home/earthquakes1/software/Mageia8/anaconda3/lib/python3.9/site-packages/obspy/io/stationxml/core.py:96: UserWarning: The StationXML file has version 1, ObsPy can read versions (1.0, 1.1). Proceed with caution.\n",
      "  warnings.warn(\"The StationXML file has version %s, ObsPy can \"\n",
      "/home/earthquakes1/software/Mageia8/anaconda3/lib/python3.9/site-packages/obspy/io/stationxml/core.py:96: UserWarning: The StationXML file has version 1, ObsPy can read versions (1.0, 1.1). Proceed with caution.\n",
      "  warnings.warn(\"The StationXML file has version %s, ObsPy can \"\n",
      "/home/earthquakes1/software/Mageia8/anaconda3/lib/python3.9/site-packages/obspy/io/stationxml/core.py:96: UserWarning: The StationXML file has version 1, ObsPy can read versions (1.0, 1.1). Proceed with caution.\n",
      "  warnings.warn(\"The StationXML file has version %s, ObsPy can \"\n",
      "/home/earthquakes1/software/Mageia8/anaconda3/lib/python3.9/site-packages/obspy/io/stationxml/core.py:96: UserWarning: The StationXML file has version 1, ObsPy can read versions (1.0, 1.1). Proceed with caution.\n",
      "  warnings.warn(\"The StationXML file has version %s, ObsPy can \"\n",
      "/home/earthquakes1/software/Mageia8/anaconda3/lib/python3.9/site-packages/obspy/io/stationxml/core.py:96: UserWarning: The StationXML file has version 1, ObsPy can read versions (1.0, 1.1). Proceed with caution.\n",
      "  warnings.warn(\"The StationXML file has version %s, ObsPy can \"\n",
      "/home/earthquakes1/software/Mageia8/anaconda3/lib/python3.9/site-packages/obspy/io/stationxml/core.py:96: UserWarning: The StationXML file has version 1, ObsPy can read versions (1.0, 1.1). Proceed with caution.\n",
      "  warnings.warn(\"The StationXML file has version %s, ObsPy can \"\n"
     ]
    },
    {
     "name": "stdout",
     "output_type": "stream",
     "text": [
      "earthquake number 293 of 1026 done. It was 20190603_172435.a\n",
      "earthquake number 294 of 1026 done. It was 20190603_084217.a\n",
      "earthquake number 295 of 1026 done. It was 20190601_070028.a\n",
      "earthquake number 296 of 1026 done. It was 20190601_042619.a\n",
      "earthquake number 297 of 1026 done. It was 20190731_191144.a\n",
      "earthquake number 298 of 1026 done. It was 20190731_150233.a\n",
      "earthquake number 299 of 1026 done. It was 20190719_111316.a\n"
     ]
    },
    {
     "name": "stderr",
     "output_type": "stream",
     "text": [
      "/home/earthquakes1/software/Mageia8/anaconda3/lib/python3.9/site-packages/obspy/io/stationxml/core.py:96: UserWarning: The StationXML file has version 1, ObsPy can read versions (1.0, 1.1). Proceed with caution.\n",
      "  warnings.warn(\"The StationXML file has version %s, ObsPy can \"\n",
      "/home/earthquakes1/software/Mageia8/anaconda3/lib/python3.9/site-packages/obspy/io/stationxml/core.py:96: UserWarning: The StationXML file has version 1, ObsPy can read versions (1.0, 1.1). Proceed with caution.\n",
      "  warnings.warn(\"The StationXML file has version %s, ObsPy can \"\n"
     ]
    },
    {
     "name": "stdout",
     "output_type": "stream",
     "text": [
      "earthquake number 300 of 1026 done. It was 20190709_031144.a\n",
      "earthquake number 301 of 1026 done. It was 20190708_000902.a\n",
      "earthquake number 302 of 1026 done. It was 20190706_043655.a\n",
      "earthquake number 303 of 1026 done. It was 20190706_041855.a\n"
     ]
    },
    {
     "name": "stderr",
     "output_type": "stream",
     "text": [
      " WARNING (norm_resp): computed and reported sensitivities differ by more than 5 percent. \n",
      "\t Execution continuing.\n",
      " WARNING (norm_resp): computed and reported sensitivities differ by more than 5 percent. \n",
      "\t Execution continuing.\n",
      " WARNING (norm_resp): computed and reported sensitivities differ by more than 5 percent. \n",
      "\t Execution continuing.\n"
     ]
    },
    {
     "name": "stdout",
     "output_type": "stream",
     "text": [
      "earthquake number 304 of 1026 done. It was 20190706_040704.a\n",
      "earthquake number 305 of 1026 done. It was 20190706_034753.a\n",
      "earthquake number 306 of 1026 done. It was 20190706_032248.a\n"
     ]
    },
    {
     "name": "stderr",
     "output_type": "stream",
     "text": [
      " WARNING (norm_resp): computed and reported sensitivities differ by more than 5 percent. \n",
      "\t Execution continuing.\n",
      " WARNING (norm_resp): computed and reported sensitivities differ by more than 5 percent. \n",
      "\t Execution continuing.\n",
      " WARNING (norm_resp): computed and reported sensitivities differ by more than 5 percent. \n",
      "\t Execution continuing.\n"
     ]
    },
    {
     "name": "stdout",
     "output_type": "stream",
     "text": [
      "earthquake number 307 of 1026 done. It was 20190706_032235.a\n",
      "earthquake number 308 of 1026 done. It was 20190706_031953.a\n"
     ]
    },
    {
     "name": "stderr",
     "output_type": "stream",
     "text": [
      "/home/earthquakes1/software/Mageia8/anaconda3/lib/python3.9/site-packages/obspy/io/stationxml/core.py:96: UserWarning: The StationXML file has version 1, ObsPy can read versions (1.0, 1.1). Proceed with caution.\n",
      "  warnings.warn(\"The StationXML file has version %s, ObsPy can \"\n",
      "/home/earthquakes1/software/Mageia8/anaconda3/lib/python3.9/site-packages/obspy/io/stationxml/core.py:96: UserWarning: The StationXML file has version 1, ObsPy can read versions (1.0, 1.1). Proceed with caution.\n",
      "  warnings.warn(\"The StationXML file has version %s, ObsPy can \"\n"
     ]
    },
    {
     "name": "stdout",
     "output_type": "stream",
     "text": [
      "earthquake number 309 of 1026 done. It was 20190706_001041.a\n",
      "earthquake number 310 of 1026 done. It was 20190705_110753.a\n"
     ]
    },
    {
     "name": "stderr",
     "output_type": "stream",
     "text": [
      " WARNING (norm_resp): computed and reported sensitivities differ by more than 5 percent. \n",
      "\t Execution continuing.\n",
      " WARNING (norm_resp): computed and reported sensitivities differ by more than 5 percent. \n",
      "\t Execution continuing.\n",
      " WARNING (norm_resp): computed and reported sensitivities differ by more than 5 percent. \n",
      "\t Execution continuing.\n"
     ]
    },
    {
     "name": "stdout",
     "output_type": "stream",
     "text": [
      "earthquake number 311 of 1026 done. It was 20190704_173349.a\n"
     ]
    },
    {
     "name": "stderr",
     "output_type": "stream",
     "text": [
      "/home/earthquakes1/software/Mageia8/anaconda3/lib/python3.9/site-packages/obspy/io/stationxml/core.py:96: UserWarning: The StationXML file has version 1, ObsPy can read versions (1.0, 1.1). Proceed with caution.\n",
      "  warnings.warn(\"The StationXML file has version %s, ObsPy can \"\n",
      "/home/earthquakes1/software/Mageia8/anaconda3/lib/python3.9/site-packages/obspy/io/stationxml/core.py:96: UserWarning: The StationXML file has version 1, ObsPy can read versions (1.0, 1.1). Proceed with caution.\n",
      "  warnings.warn(\"The StationXML file has version %s, ObsPy can \"\n"
     ]
    },
    {
     "name": "stdout",
     "output_type": "stream",
     "text": [
      "earthquake number 312 of 1026 done. It was 20190701_195654.a\n",
      "earthquake number 313 of 1026 done. It was 20190701_171329.a\n",
      "earthquake number 314 of 1026 done. It was 20190824_155127.a\n"
     ]
    },
    {
     "name": "stderr",
     "output_type": "stream",
     "text": [
      "/home/earthquakes1/software/Mageia8/anaconda3/lib/python3.9/site-packages/obspy/io/stationxml/core.py:96: UserWarning: The StationXML file has version 1, ObsPy can read versions (1.0, 1.1). Proceed with caution.\n",
      "  warnings.warn(\"The StationXML file has version %s, ObsPy can \"\n",
      "/home/earthquakes1/software/Mageia8/anaconda3/lib/python3.9/site-packages/obspy/io/stationxml/core.py:96: UserWarning: The StationXML file has version 1, ObsPy can read versions (1.0, 1.1). Proceed with caution.\n",
      "  warnings.warn(\"The StationXML file has version %s, ObsPy can \"\n"
     ]
    },
    {
     "name": "stdout",
     "output_type": "stream",
     "text": [
      "earthquake number 315 of 1026 done. It was 20190823_000432.a\n",
      "earthquake number 316 of 1026 done. It was 20190822_204950.a\n",
      "earthquake number 317 of 1026 done. It was 20190822_192711.a\n",
      "earthquake number 318 of 1026 done. It was 20190821_201049.a\n",
      "earthquake number 319 of 1026 done. It was 20190818_032421.a\n"
     ]
    },
    {
     "name": "stderr",
     "output_type": "stream",
     "text": [
      "/home/earthquakes1/software/Mageia8/anaconda3/lib/python3.9/site-packages/obspy/io/stationxml/core.py:96: UserWarning: The StationXML file has version 1, ObsPy can read versions (1.0, 1.1). Proceed with caution.\n",
      "  warnings.warn(\"The StationXML file has version %s, ObsPy can \"\n",
      "/home/earthquakes1/software/Mageia8/anaconda3/lib/python3.9/site-packages/obspy/io/stationxml/core.py:96: UserWarning: The StationXML file has version 1, ObsPy can read versions (1.0, 1.1). Proceed with caution.\n",
      "  warnings.warn(\"The StationXML file has version %s, ObsPy can \"\n",
      "/home/earthquakes1/software/Mageia8/anaconda3/lib/python3.9/site-packages/obspy/io/stationxml/core.py:96: UserWarning: The StationXML file has version 1, ObsPy can read versions (1.0, 1.1). Proceed with caution.\n",
      "  warnings.warn(\"The StationXML file has version %s, ObsPy can \"\n",
      "/home/earthquakes1/software/Mageia8/anaconda3/lib/python3.9/site-packages/obspy/io/stationxml/core.py:96: UserWarning: The StationXML file has version 1, ObsPy can read versions (1.0, 1.1). Proceed with caution.\n",
      "  warnings.warn(\"The StationXML file has version %s, ObsPy can \"\n",
      "/home/earthquakes1/software/Mageia8/anaconda3/lib/python3.9/site-packages/obspy/io/stationxml/core.py:96: UserWarning: The StationXML file has version 1, ObsPy can read versions (1.0, 1.1). Proceed with caution.\n",
      "  warnings.warn(\"The StationXML file has version %s, ObsPy can \"\n",
      "/home/earthquakes1/software/Mageia8/anaconda3/lib/python3.9/site-packages/obspy/io/stationxml/core.py:96: UserWarning: The StationXML file has version 1, ObsPy can read versions (1.0, 1.1). Proceed with caution.\n",
      "  warnings.warn(\"The StationXML file has version %s, ObsPy can \"\n",
      "/home/earthquakes1/software/Mageia8/anaconda3/lib/python3.9/site-packages/obspy/io/stationxml/core.py:96: UserWarning: The StationXML file has version 1, ObsPy can read versions (1.0, 1.1). Proceed with caution.\n",
      "  warnings.warn(\"The StationXML file has version %s, ObsPy can \"\n",
      "/home/earthquakes1/software/Mageia8/anaconda3/lib/python3.9/site-packages/obspy/io/stationxml/core.py:96: UserWarning: The StationXML file has version 1, ObsPy can read versions (1.0, 1.1). Proceed with caution.\n",
      "  warnings.warn(\"The StationXML file has version %s, ObsPy can \"\n",
      "/home/earthquakes1/software/Mageia8/anaconda3/lib/python3.9/site-packages/obspy/io/stationxml/core.py:96: UserWarning: The StationXML file has version 1, ObsPy can read versions (1.0, 1.1). Proceed with caution.\n",
      "  warnings.warn(\"The StationXML file has version %s, ObsPy can \"\n",
      "/home/earthquakes1/software/Mageia8/anaconda3/lib/python3.9/site-packages/obspy/io/stationxml/core.py:96: UserWarning: The StationXML file has version 1, ObsPy can read versions (1.0, 1.1). Proceed with caution.\n",
      "  warnings.warn(\"The StationXML file has version %s, ObsPy can \"\n"
     ]
    },
    {
     "name": "stdout",
     "output_type": "stream",
     "text": [
      "earthquake number 320 of 1026 done. It was 20190812_103528.a\n",
      "earthquake number 321 of 1026 done. It was 20190811_070249.a\n",
      "earthquake number 322 of 1026 done. It was 20190809_020936.a\n"
     ]
    },
    {
     "name": "stderr",
     "output_type": "stream",
     "text": [
      " WARNING (norm_resp): computed and reported sensitivities differ by more than 5 percent. \n",
      "\t Execution continuing.\n",
      " WARNING (norm_resp): computed and reported sensitivities differ by more than 5 percent. \n",
      "\t Execution continuing.\n",
      " WARNING (norm_resp): computed and reported sensitivities differ by more than 5 percent. \n",
      "\t Execution continuing.\n",
      " WARNING (norm_resp): computed and reported sensitivities differ by more than 5 percent. \n",
      "\t Execution continuing.\n",
      " WARNING (norm_resp): computed and reported sensitivities differ by more than 5 percent. \n",
      "\t Execution continuing.\n",
      " WARNING (norm_resp): computed and reported sensitivities differ by more than 5 percent. \n",
      "\t Execution continuing.\n",
      " WARNING (norm_resp): computed and reported sensitivities differ by more than 5 percent. \n",
      "\t Execution continuing.\n",
      " WARNING (norm_resp): computed and reported sensitivities differ by more than 5 percent. \n",
      "\t Execution continuing.\n",
      " WARNING (norm_resp): computed and reported sensitivities differ by more than 5 percent. \n",
      "\t Execution continuing.\n",
      " WARNING (norm_resp): computed and reported sensitivities differ by more than 5 percent. \n",
      "\t Execution continuing.\n",
      " WARNING (norm_resp): computed and reported sensitivities differ by more than 5 percent. \n",
      "\t Execution continuing.\n",
      " WARNING (norm_resp): computed and reported sensitivities differ by more than 5 percent. \n",
      "\t Execution continuing.\n",
      " WARNING (norm_resp): computed and reported sensitivities differ by more than 5 percent. \n",
      "\t Execution continuing.\n",
      " WARNING (norm_resp): computed and reported sensitivities differ by more than 5 percent. \n",
      "\t Execution continuing.\n",
      " WARNING (norm_resp): computed and reported sensitivities differ by more than 5 percent. \n",
      "\t Execution continuing.\n",
      " WARNING (norm_resp): computed and reported sensitivities differ by more than 5 percent. \n",
      "\t Execution continuing.\n",
      " WARNING (norm_resp): computed and reported sensitivities differ by more than 5 percent. \n",
      "\t Execution continuing.\n",
      " WARNING (norm_resp): computed and reported sensitivities differ by more than 5 percent. \n",
      "\t Execution continuing.\n",
      " WARNING (norm_resp): computed and reported sensitivities differ by more than 5 percent. \n",
      "\t Execution continuing.\n",
      " WARNING (norm_resp): computed and reported sensitivities differ by more than 5 percent. \n",
      "\t Execution continuing.\n",
      " WARNING (norm_resp): computed and reported sensitivities differ by more than 5 percent. \n",
      "\t Execution continuing.\n",
      " WARNING (norm_resp): computed and reported sensitivities differ by more than 5 percent. \n",
      "\t Execution continuing.\n",
      " WARNING (norm_resp): computed and reported sensitivities differ by more than 5 percent. \n",
      "\t Execution continuing.\n"
     ]
    },
    {
     "name": "stdout",
     "output_type": "stream",
     "text": [
      "earthquake number 323 of 1026 done. It was 20190808_112531.a\n",
      "earthquake number 324 of 1026 done. It was 20190807_053240.a\n"
     ]
    },
    {
     "name": "stderr",
     "output_type": "stream",
     "text": [
      "/home/earthquakes1/software/Mageia8/anaconda3/lib/python3.9/site-packages/obspy/io/stationxml/core.py:96: UserWarning: The StationXML file has version 1, ObsPy can read versions (1.0, 1.1). Proceed with caution.\n",
      "  warnings.warn(\"The StationXML file has version %s, ObsPy can \"\n",
      "/home/earthquakes1/software/Mageia8/anaconda3/lib/python3.9/site-packages/obspy/io/stationxml/core.py:96: UserWarning: The StationXML file has version 1, ObsPy can read versions (1.0, 1.1). Proceed with caution.\n",
      "  warnings.warn(\"The StationXML file has version %s, ObsPy can \"\n"
     ]
    },
    {
     "name": "stdout",
     "output_type": "stream",
     "text": [
      "earthquake number 325 of 1026 done. It was 20190804_001106.a\n",
      "earthquake number 326 of 1026 done. It was 20190803_095124.a\n",
      "earthquake number 327 of 1026 done. It was 20190802_005516.a\n",
      "earthquake number 328 of 1026 done. It was 20190801_200128.a\n",
      "earthquake number 329 of 1026 done. It was 20190801_182807.a\n",
      "earthquake number 330 of 1026 done. It was 20190930_115322.a\n"
     ]
    },
    {
     "name": "stderr",
     "output_type": "stream",
     "text": [
      "/home/earthquakes1/software/Mageia8/anaconda3/lib/python3.9/site-packages/obspy/io/stationxml/core.py:96: UserWarning: The StationXML file has version 1, ObsPy can read versions (1.0, 1.1). Proceed with caution.\n",
      "  warnings.warn(\"The StationXML file has version %s, ObsPy can \"\n",
      "/home/earthquakes1/software/Mageia8/anaconda3/lib/python3.9/site-packages/obspy/io/stationxml/core.py:96: UserWarning: The StationXML file has version 1, ObsPy can read versions (1.0, 1.1). Proceed with caution.\n",
      "  warnings.warn(\"The StationXML file has version %s, ObsPy can \"\n"
     ]
    },
    {
     "name": "stdout",
     "output_type": "stream",
     "text": [
      "earthquake number 331 of 1026 done. It was 20190927_140205.a\n"
     ]
    },
    {
     "name": "stderr",
     "output_type": "stream",
     "text": [
      "/home/earthquakes1/software/Mageia8/anaconda3/lib/python3.9/site-packages/obspy/io/stationxml/core.py:96: UserWarning: The StationXML file has version 1, ObsPy can read versions (1.0, 1.1). Proceed with caution.\n",
      "  warnings.warn(\"The StationXML file has version %s, ObsPy can \"\n",
      "/home/earthquakes1/software/Mageia8/anaconda3/lib/python3.9/site-packages/obspy/io/stationxml/core.py:96: UserWarning: The StationXML file has version 1, ObsPy can read versions (1.0, 1.1). Proceed with caution.\n",
      "  warnings.warn(\"The StationXML file has version %s, ObsPy can \"\n"
     ]
    },
    {
     "name": "stdout",
     "output_type": "stream",
     "text": [
      "earthquake number 332 of 1026 done. It was 20190927_120502.a\n"
     ]
    },
    {
     "name": "stderr",
     "output_type": "stream",
     "text": [
      " WARNING (norm_resp): computed and reported sensitivities differ by more than 5 percent. \n",
      "\t Execution continuing.\n",
      " WARNING (norm_resp): computed and reported sensitivities differ by more than 5 percent. \n",
      "\t Execution continuing.\n",
      " WARNING (norm_resp): computed and reported sensitivities differ by more than 5 percent. \n",
      "\t Execution continuing.\n",
      " WARNING (norm_resp): computed and reported sensitivities differ by more than 5 percent. \n",
      "\t Execution continuing.\n",
      " WARNING (norm_resp): computed and reported sensitivities differ by more than 5 percent. \n",
      "\t Execution continuing.\n",
      " WARNING (norm_resp): computed and reported sensitivities differ by more than 5 percent. \n",
      "\t Execution continuing.\n",
      " WARNING (norm_resp): computed and reported sensitivities differ by more than 5 percent. \n",
      "\t Execution continuing.\n",
      " WARNING (norm_resp): computed and reported sensitivities differ by more than 5 percent. \n",
      "\t Execution continuing.\n",
      " WARNING (norm_resp): computed and reported sensitivities differ by more than 5 percent. \n",
      "\t Execution continuing.\n",
      " WARNING (norm_resp): computed and reported sensitivities differ by more than 5 percent. \n",
      "\t Execution continuing.\n"
     ]
    },
    {
     "name": "stdout",
     "output_type": "stream",
     "text": [
      "earthquake number 333 of 1026 done. It was 20190926_105926.a\n",
      "earthquake number 334 of 1026 done. It was 20190921_141552.a\n",
      "earthquake number 335 of 1026 done. It was 20190921_140425.a\n"
     ]
    },
    {
     "name": "stderr",
     "output_type": "stream",
     "text": [
      "/home/earthquakes1/software/Mageia8/anaconda3/lib/python3.9/site-packages/obspy/io/stationxml/core.py:96: UserWarning: The StationXML file has version 1, ObsPy can read versions (1.0, 1.1). Proceed with caution.\n",
      "  warnings.warn(\"The StationXML file has version %s, ObsPy can \"\n",
      "/home/earthquakes1/software/Mageia8/anaconda3/lib/python3.9/site-packages/obspy/io/stationxml/core.py:96: UserWarning: The StationXML file has version 1, ObsPy can read versions (1.0, 1.1). Proceed with caution.\n",
      "  warnings.warn(\"The StationXML file has version %s, ObsPy can \"\n"
     ]
    },
    {
     "name": "stdout",
     "output_type": "stream",
     "text": [
      "earthquake number 336 of 1026 done. It was 20190914_164207.a\n",
      "earthquake number 337 of 1026 done. It was 20190910_141646.a\n"
     ]
    },
    {
     "name": "stderr",
     "output_type": "stream",
     "text": [
      "/home/earthquakes1/software/Mageia8/anaconda3/lib/python3.9/site-packages/obspy/io/stationxml/core.py:96: UserWarning: The StationXML file has version 1, ObsPy can read versions (1.0, 1.1). Proceed with caution.\n",
      "  warnings.warn(\"The StationXML file has version %s, ObsPy can \"\n",
      "/home/earthquakes1/software/Mageia8/anaconda3/lib/python3.9/site-packages/obspy/io/stationxml/core.py:96: UserWarning: The StationXML file has version 1, ObsPy can read versions (1.0, 1.1). Proceed with caution.\n",
      "  warnings.warn(\"The StationXML file has version %s, ObsPy can \"\n"
     ]
    },
    {
     "name": "stdout",
     "output_type": "stream",
     "text": [
      "earthquake number 338 of 1026 done. It was 20190906_172539.a\n"
     ]
    },
    {
     "name": "stderr",
     "output_type": "stream",
     "text": [
      "/home/earthquakes1/software/Mageia8/anaconda3/lib/python3.9/site-packages/obspy/io/stationxml/core.py:96: UserWarning: The StationXML file has version 1, ObsPy can read versions (1.0, 1.1). Proceed with caution.\n",
      "  warnings.warn(\"The StationXML file has version %s, ObsPy can \"\n",
      "/home/earthquakes1/software/Mageia8/anaconda3/lib/python3.9/site-packages/obspy/io/stationxml/core.py:96: UserWarning: The StationXML file has version 1, ObsPy can read versions (1.0, 1.1). Proceed with caution.\n",
      "  warnings.warn(\"The StationXML file has version %s, ObsPy can \"\n",
      "/home/earthquakes1/software/Mageia8/anaconda3/lib/python3.9/site-packages/obspy/io/stationxml/core.py:96: UserWarning: The StationXML file has version 1, ObsPy can read versions (1.0, 1.1). Proceed with caution.\n",
      "  warnings.warn(\"The StationXML file has version %s, ObsPy can \"\n",
      "/home/earthquakes1/software/Mageia8/anaconda3/lib/python3.9/site-packages/obspy/io/stationxml/core.py:96: UserWarning: The StationXML file has version 1, ObsPy can read versions (1.0, 1.1). Proceed with caution.\n",
      "  warnings.warn(\"The StationXML file has version %s, ObsPy can \"\n",
      "/home/earthquakes1/software/Mageia8/anaconda3/lib/python3.9/site-packages/obspy/io/stationxml/core.py:96: UserWarning: The StationXML file has version 1, ObsPy can read versions (1.0, 1.1). Proceed with caution.\n",
      "  warnings.warn(\"The StationXML file has version %s, ObsPy can \"\n",
      "/home/earthquakes1/software/Mageia8/anaconda3/lib/python3.9/site-packages/obspy/io/stationxml/core.py:96: UserWarning: The StationXML file has version 1, ObsPy can read versions (1.0, 1.1). Proceed with caution.\n",
      "  warnings.warn(\"The StationXML file has version %s, ObsPy can \"\n",
      "/home/earthquakes1/software/Mageia8/anaconda3/lib/python3.9/site-packages/obspy/io/stationxml/core.py:96: UserWarning: The StationXML file has version 1, ObsPy can read versions (1.0, 1.1). Proceed with caution.\n",
      "  warnings.warn(\"The StationXML file has version %s, ObsPy can \"\n",
      "/home/earthquakes1/software/Mageia8/anaconda3/lib/python3.9/site-packages/obspy/io/stationxml/core.py:96: UserWarning: The StationXML file has version 1, ObsPy can read versions (1.0, 1.1). Proceed with caution.\n",
      "  warnings.warn(\"The StationXML file has version %s, ObsPy can \"\n",
      "/home/earthquakes1/software/Mageia8/anaconda3/lib/python3.9/site-packages/obspy/io/stationxml/core.py:96: UserWarning: The StationXML file has version 1, ObsPy can read versions (1.0, 1.1). Proceed with caution.\n",
      "  warnings.warn(\"The StationXML file has version %s, ObsPy can \"\n",
      "/home/earthquakes1/software/Mageia8/anaconda3/lib/python3.9/site-packages/obspy/io/stationxml/core.py:96: UserWarning: The StationXML file has version 1, ObsPy can read versions (1.0, 1.1). Proceed with caution.\n",
      "  warnings.warn(\"The StationXML file has version %s, ObsPy can \"\n",
      "/home/earthquakes1/software/Mageia8/anaconda3/lib/python3.9/site-packages/obspy/io/stationxml/core.py:96: UserWarning: The StationXML file has version 1, ObsPy can read versions (1.0, 1.1). Proceed with caution.\n",
      "  warnings.warn(\"The StationXML file has version %s, ObsPy can \"\n",
      "/home/earthquakes1/software/Mageia8/anaconda3/lib/python3.9/site-packages/obspy/io/stationxml/core.py:96: UserWarning: The StationXML file has version 1, ObsPy can read versions (1.0, 1.1). Proceed with caution.\n",
      "  warnings.warn(\"The StationXML file has version %s, ObsPy can \"\n",
      "/home/earthquakes1/software/Mageia8/anaconda3/lib/python3.9/site-packages/obspy/io/stationxml/core.py:96: UserWarning: The StationXML file has version 1, ObsPy can read versions (1.0, 1.1). Proceed with caution.\n",
      "  warnings.warn(\"The StationXML file has version %s, ObsPy can \"\n",
      "/home/earthquakes1/software/Mageia8/anaconda3/lib/python3.9/site-packages/obspy/io/stationxml/core.py:96: UserWarning: The StationXML file has version 1, ObsPy can read versions (1.0, 1.1). Proceed with caution.\n",
      "  warnings.warn(\"The StationXML file has version %s, ObsPy can \"\n",
      "/home/earthquakes1/software/Mageia8/anaconda3/lib/python3.9/site-packages/obspy/io/stationxml/core.py:96: UserWarning: The StationXML file has version 1, ObsPy can read versions (1.0, 1.1). Proceed with caution.\n",
      "  warnings.warn(\"The StationXML file has version %s, ObsPy can \"\n",
      "/home/earthquakes1/software/Mageia8/anaconda3/lib/python3.9/site-packages/obspy/io/stationxml/core.py:96: UserWarning: The StationXML file has version 1, ObsPy can read versions (1.0, 1.1). Proceed with caution.\n",
      "  warnings.warn(\"The StationXML file has version %s, ObsPy can \"\n",
      "/home/earthquakes1/software/Mageia8/anaconda3/lib/python3.9/site-packages/obspy/io/stationxml/core.py:96: UserWarning: The StationXML file has version 1, ObsPy can read versions (1.0, 1.1). Proceed with caution.\n",
      "  warnings.warn(\"The StationXML file has version %s, ObsPy can \"\n",
      "/home/earthquakes1/software/Mageia8/anaconda3/lib/python3.9/site-packages/obspy/io/stationxml/core.py:96: UserWarning: The StationXML file has version 1, ObsPy can read versions (1.0, 1.1). Proceed with caution.\n",
      "  warnings.warn(\"The StationXML file has version %s, ObsPy can \"\n",
      "/home/earthquakes1/software/Mageia8/anaconda3/lib/python3.9/site-packages/obspy/io/stationxml/core.py:96: UserWarning: The StationXML file has version 1, ObsPy can read versions (1.0, 1.1). Proceed with caution.\n",
      "  warnings.warn(\"The StationXML file has version %s, ObsPy can \"\n",
      "/home/earthquakes1/software/Mageia8/anaconda3/lib/python3.9/site-packages/obspy/io/stationxml/core.py:96: UserWarning: The StationXML file has version 1, ObsPy can read versions (1.0, 1.1). Proceed with caution.\n",
      "  warnings.warn(\"The StationXML file has version %s, ObsPy can \"\n",
      "/home/earthquakes1/software/Mageia8/anaconda3/lib/python3.9/site-packages/obspy/io/stationxml/core.py:96: UserWarning: The StationXML file has version 1, ObsPy can read versions (1.0, 1.1). Proceed with caution.\n",
      "  warnings.warn(\"The StationXML file has version %s, ObsPy can \"\n",
      "/home/earthquakes1/software/Mageia8/anaconda3/lib/python3.9/site-packages/obspy/io/stationxml/core.py:96: UserWarning: The StationXML file has version 1, ObsPy can read versions (1.0, 1.1). Proceed with caution.\n",
      "  warnings.warn(\"The StationXML file has version %s, ObsPy can \"\n",
      "/home/earthquakes1/software/Mageia8/anaconda3/lib/python3.9/site-packages/obspy/io/stationxml/core.py:96: UserWarning: The StationXML file has version 1, ObsPy can read versions (1.0, 1.1). Proceed with caution.\n",
      "  warnings.warn(\"The StationXML file has version %s, ObsPy can \"\n",
      "/home/earthquakes1/software/Mageia8/anaconda3/lib/python3.9/site-packages/obspy/io/stationxml/core.py:96: UserWarning: The StationXML file has version 1, ObsPy can read versions (1.0, 1.1). Proceed with caution.\n",
      "  warnings.warn(\"The StationXML file has version %s, ObsPy can \"\n",
      "/home/earthquakes1/software/Mageia8/anaconda3/lib/python3.9/site-packages/obspy/io/stationxml/core.py:96: UserWarning: The StationXML file has version 1, ObsPy can read versions (1.0, 1.1). Proceed with caution.\n",
      "  warnings.warn(\"The StationXML file has version %s, ObsPy can \"\n",
      "/home/earthquakes1/software/Mageia8/anaconda3/lib/python3.9/site-packages/obspy/io/stationxml/core.py:96: UserWarning: The StationXML file has version 1, ObsPy can read versions (1.0, 1.1). Proceed with caution.\n",
      "  warnings.warn(\"The StationXML file has version %s, ObsPy can \"\n",
      "/home/earthquakes1/software/Mageia8/anaconda3/lib/python3.9/site-packages/obspy/io/stationxml/core.py:96: UserWarning: The StationXML file has version 1, ObsPy can read versions (1.0, 1.1). Proceed with caution.\n",
      "  warnings.warn(\"The StationXML file has version %s, ObsPy can \"\n",
      "/home/earthquakes1/software/Mageia8/anaconda3/lib/python3.9/site-packages/obspy/io/stationxml/core.py:96: UserWarning: The StationXML file has version 1, ObsPy can read versions (1.0, 1.1). Proceed with caution.\n",
      "  warnings.warn(\"The StationXML file has version %s, ObsPy can \"\n"
     ]
    },
    {
     "name": "stdout",
     "output_type": "stream",
     "text": [
      "earthquake number 339 of 1026 done. It was 20190904_070252.a\n",
      "earthquake number 340 of 1026 done. It was 20190901_213216.a\n",
      "earthquake number 341 of 1026 done. It was 20191028_110104.a\n",
      "earthquake number 342 of 1026 done. It was 20191027_052948.a\n"
     ]
    },
    {
     "name": "stderr",
     "output_type": "stream",
     "text": [
      "/home/earthquakes1/software/Mageia8/anaconda3/lib/python3.9/site-packages/obspy/io/stationxml/core.py:96: UserWarning: The StationXML file has version 1, ObsPy can read versions (1.0, 1.1). Proceed with caution.\n",
      "  warnings.warn(\"The StationXML file has version %s, ObsPy can \"\n",
      "/home/earthquakes1/software/Mageia8/anaconda3/lib/python3.9/site-packages/obspy/io/stationxml/core.py:96: UserWarning: The StationXML file has version 1, ObsPy can read versions (1.0, 1.1). Proceed with caution.\n",
      "  warnings.warn(\"The StationXML file has version %s, ObsPy can \"\n"
     ]
    },
    {
     "name": "stdout",
     "output_type": "stream",
     "text": [
      "earthquake number 343 of 1026 done. It was 20191024_191418.a\n",
      "earthquake number 344 of 1026 done. It was 20191023_044943.a\n"
     ]
    },
    {
     "name": "stderr",
     "output_type": "stream",
     "text": [
      "/home/earthquakes1/software/Mageia8/anaconda3/lib/python3.9/site-packages/obspy/io/stationxml/core.py:96: UserWarning: The StationXML file has version 1, ObsPy can read versions (1.0, 1.1). Proceed with caution.\n",
      "  warnings.warn(\"The StationXML file has version %s, ObsPy can \"\n",
      "/home/earthquakes1/software/Mageia8/anaconda3/lib/python3.9/site-packages/obspy/io/stationxml/core.py:96: UserWarning: The StationXML file has version 1, ObsPy can read versions (1.0, 1.1). Proceed with caution.\n",
      "  warnings.warn(\"The StationXML file has version %s, ObsPy can \"\n"
     ]
    },
    {
     "name": "stdout",
     "output_type": "stream",
     "text": [
      "earthquake number 345 of 1026 done. It was 20191013_215736.a\n",
      "earthquake number 346 of 1026 done. It was 20191006_104055.a\n"
     ]
    },
    {
     "name": "stderr",
     "output_type": "stream",
     "text": [
      " WARNING (norm_resp): computed and reported sensitivities differ by more than 5 percent. \n",
      "\t Execution continuing.\n",
      " WARNING (norm_resp): computed and reported sensitivities differ by more than 5 percent. \n",
      "\t Execution continuing.\n",
      " WARNING (norm_resp): computed and reported sensitivities differ by more than 5 percent. \n",
      "\t Execution continuing.\n",
      " WARNING (norm_resp): computed and reported sensitivities differ by more than 5 percent. \n",
      "\t Execution continuing.\n",
      " WARNING (norm_resp): computed and reported sensitivities differ by more than 5 percent. \n",
      "\t Execution continuing.\n",
      " WARNING (norm_resp): computed and reported sensitivities differ by more than 5 percent. \n",
      "\t Execution continuing.\n",
      " WARNING (norm_resp): computed and reported sensitivities differ by more than 5 percent. \n",
      "\t Execution continuing.\n"
     ]
    },
    {
     "name": "stdout",
     "output_type": "stream",
     "text": [
      "earthquake number 347 of 1026 done. It was 20191003_044456.a\n"
     ]
    },
    {
     "name": "stderr",
     "output_type": "stream",
     "text": [
      "/home/earthquakes1/software/Mageia8/anaconda3/lib/python3.9/site-packages/obspy/io/stationxml/core.py:96: UserWarning: The StationXML file has version 1, ObsPy can read versions (1.0, 1.1). Proceed with caution.\n",
      "  warnings.warn(\"The StationXML file has version %s, ObsPy can \"\n",
      "/home/earthquakes1/software/Mageia8/anaconda3/lib/python3.9/site-packages/obspy/io/stationxml/core.py:96: UserWarning: The StationXML file has version 1, ObsPy can read versions (1.0, 1.1). Proceed with caution.\n",
      "  warnings.warn(\"The StationXML file has version %s, ObsPy can \"\n",
      "/home/earthquakes1/software/Mageia8/anaconda3/lib/python3.9/site-packages/obspy/io/stationxml/core.py:96: UserWarning: The StationXML file has version 1, ObsPy can read versions (1.0, 1.1). Proceed with caution.\n",
      "  warnings.warn(\"The StationXML file has version %s, ObsPy can \"\n",
      "/home/earthquakes1/software/Mageia8/anaconda3/lib/python3.9/site-packages/obspy/io/stationxml/core.py:96: UserWarning: The StationXML file has version 1, ObsPy can read versions (1.0, 1.1). Proceed with caution.\n",
      "  warnings.warn(\"The StationXML file has version %s, ObsPy can \"\n",
      "/home/earthquakes1/software/Mageia8/anaconda3/lib/python3.9/site-packages/obspy/io/stationxml/core.py:96: UserWarning: The StationXML file has version 1, ObsPy can read versions (1.0, 1.1). Proceed with caution.\n",
      "  warnings.warn(\"The StationXML file has version %s, ObsPy can \"\n",
      "/home/earthquakes1/software/Mageia8/anaconda3/lib/python3.9/site-packages/obspy/io/stationxml/core.py:96: UserWarning: The StationXML file has version 1, ObsPy can read versions (1.0, 1.1). Proceed with caution.\n",
      "  warnings.warn(\"The StationXML file has version %s, ObsPy can \"\n",
      "/home/earthquakes1/software/Mageia8/anaconda3/lib/python3.9/site-packages/obspy/io/stationxml/core.py:96: UserWarning: The StationXML file has version 1, ObsPy can read versions (1.0, 1.1). Proceed with caution.\n",
      "  warnings.warn(\"The StationXML file has version %s, ObsPy can \"\n",
      "/home/earthquakes1/software/Mageia8/anaconda3/lib/python3.9/site-packages/obspy/io/stationxml/core.py:96: UserWarning: The StationXML file has version 1, ObsPy can read versions (1.0, 1.1). Proceed with caution.\n",
      "  warnings.warn(\"The StationXML file has version %s, ObsPy can \"\n",
      "/home/earthquakes1/software/Mageia8/anaconda3/lib/python3.9/site-packages/obspy/io/stationxml/core.py:96: UserWarning: The StationXML file has version 1, ObsPy can read versions (1.0, 1.1). Proceed with caution.\n",
      "  warnings.warn(\"The StationXML file has version %s, ObsPy can \"\n",
      "/home/earthquakes1/software/Mageia8/anaconda3/lib/python3.9/site-packages/obspy/io/stationxml/core.py:96: UserWarning: The StationXML file has version 1, ObsPy can read versions (1.0, 1.1). Proceed with caution.\n",
      "  warnings.warn(\"The StationXML file has version %s, ObsPy can \"\n",
      "/home/earthquakes1/software/Mageia8/anaconda3/lib/python3.9/site-packages/obspy/io/stationxml/core.py:96: UserWarning: The StationXML file has version 1, ObsPy can read versions (1.0, 1.1). Proceed with caution.\n",
      "  warnings.warn(\"The StationXML file has version %s, ObsPy can \"\n",
      "/home/earthquakes1/software/Mageia8/anaconda3/lib/python3.9/site-packages/obspy/io/stationxml/core.py:96: UserWarning: The StationXML file has version 1, ObsPy can read versions (1.0, 1.1). Proceed with caution.\n",
      "  warnings.warn(\"The StationXML file has version %s, ObsPy can \"\n",
      "/home/earthquakes1/software/Mageia8/anaconda3/lib/python3.9/site-packages/obspy/io/stationxml/core.py:96: UserWarning: The StationXML file has version 1, ObsPy can read versions (1.0, 1.1). Proceed with caution.\n",
      "  warnings.warn(\"The StationXML file has version %s, ObsPy can \"\n",
      "/home/earthquakes1/software/Mageia8/anaconda3/lib/python3.9/site-packages/obspy/io/stationxml/core.py:96: UserWarning: The StationXML file has version 1, ObsPy can read versions (1.0, 1.1). Proceed with caution.\n",
      "  warnings.warn(\"The StationXML file has version %s, ObsPy can \"\n",
      "/home/earthquakes1/software/Mageia8/anaconda3/lib/python3.9/site-packages/obspy/io/stationxml/core.py:96: UserWarning: The StationXML file has version 1, ObsPy can read versions (1.0, 1.1). Proceed with caution.\n",
      "  warnings.warn(\"The StationXML file has version %s, ObsPy can \"\n",
      "/home/earthquakes1/software/Mageia8/anaconda3/lib/python3.9/site-packages/obspy/io/stationxml/core.py:96: UserWarning: The StationXML file has version 1, ObsPy can read versions (1.0, 1.1). Proceed with caution.\n",
      "  warnings.warn(\"The StationXML file has version %s, ObsPy can \"\n",
      "/home/earthquakes1/software/Mageia8/anaconda3/lib/python3.9/site-packages/obspy/io/stationxml/core.py:96: UserWarning: The StationXML file has version 1, ObsPy can read versions (1.0, 1.1). Proceed with caution.\n",
      "  warnings.warn(\"The StationXML file has version %s, ObsPy can \"\n",
      "/home/earthquakes1/software/Mageia8/anaconda3/lib/python3.9/site-packages/obspy/io/stationxml/core.py:96: UserWarning: The StationXML file has version 1, ObsPy can read versions (1.0, 1.1). Proceed with caution.\n",
      "  warnings.warn(\"The StationXML file has version %s, ObsPy can \"\n",
      "/home/earthquakes1/software/Mageia8/anaconda3/lib/python3.9/site-packages/obspy/io/stationxml/core.py:96: UserWarning: The StationXML file has version 1, ObsPy can read versions (1.0, 1.1). Proceed with caution.\n",
      "  warnings.warn(\"The StationXML file has version %s, ObsPy can \"\n",
      "/home/earthquakes1/software/Mageia8/anaconda3/lib/python3.9/site-packages/obspy/io/stationxml/core.py:96: UserWarning: The StationXML file has version 1, ObsPy can read versions (1.0, 1.1). Proceed with caution.\n",
      "  warnings.warn(\"The StationXML file has version %s, ObsPy can \"\n",
      "/home/earthquakes1/software/Mageia8/anaconda3/lib/python3.9/site-packages/obspy/io/stationxml/core.py:96: UserWarning: The StationXML file has version 1, ObsPy can read versions (1.0, 1.1). Proceed with caution.\n",
      "  warnings.warn(\"The StationXML file has version %s, ObsPy can \"\n",
      "/home/earthquakes1/software/Mageia8/anaconda3/lib/python3.9/site-packages/obspy/io/stationxml/core.py:96: UserWarning: The StationXML file has version 1, ObsPy can read versions (1.0, 1.1). Proceed with caution.\n",
      "  warnings.warn(\"The StationXML file has version %s, ObsPy can \"\n",
      "/home/earthquakes1/software/Mageia8/anaconda3/lib/python3.9/site-packages/obspy/io/stationxml/core.py:96: UserWarning: The StationXML file has version 1, ObsPy can read versions (1.0, 1.1). Proceed with caution.\n",
      "  warnings.warn(\"The StationXML file has version %s, ObsPy can \"\n",
      "/home/earthquakes1/software/Mageia8/anaconda3/lib/python3.9/site-packages/obspy/io/stationxml/core.py:96: UserWarning: The StationXML file has version 1, ObsPy can read versions (1.0, 1.1). Proceed with caution.\n",
      "  warnings.warn(\"The StationXML file has version %s, ObsPy can \"\n",
      "/home/earthquakes1/software/Mageia8/anaconda3/lib/python3.9/site-packages/obspy/io/stationxml/core.py:96: UserWarning: The StationXML file has version 1, ObsPy can read versions (1.0, 1.1). Proceed with caution.\n",
      "  warnings.warn(\"The StationXML file has version %s, ObsPy can \"\n"
     ]
    },
    {
     "name": "stdout",
     "output_type": "stream",
     "text": [
      "earthquake number 348 of 1026 done. It was 20191001_051638.a\n",
      "earthquake number 349 of 1026 done. It was 20191127_144524.a\n",
      "earthquake number 350 of 1026 done. It was 20191127_072342.a\n",
      "earthquake number 351 of 1026 done. It was 20191126_110557.a\n",
      "earthquake number 352 of 1026 done. It was 20191126_091926.a\n",
      "earthquake number 353 of 1026 done. It was 20191126_060822.a\n",
      "earthquake number 354 of 1026 done. It was 20191126_030259.a\n",
      "earthquake number 355 of 1026 done. It was 20191126_025923.a\n",
      "earthquake number 356 of 1026 done. It was 20191126_025412.a\n",
      "earthquake number 357 of 1026 done. It was 20191125_013340.a\n"
     ]
    },
    {
     "name": "stderr",
     "output_type": "stream",
     "text": [
      "/home/earthquakes1/software/Mageia8/anaconda3/lib/python3.9/site-packages/obspy/io/stationxml/core.py:96: UserWarning: The StationXML file has version 1, ObsPy can read versions (1.0, 1.1). Proceed with caution.\n",
      "  warnings.warn(\"The StationXML file has version %s, ObsPy can \"\n",
      "/home/earthquakes1/software/Mageia8/anaconda3/lib/python3.9/site-packages/obspy/io/stationxml/core.py:96: UserWarning: The StationXML file has version 1, ObsPy can read versions (1.0, 1.1). Proceed with caution.\n",
      "  warnings.warn(\"The StationXML file has version %s, ObsPy can \"\n",
      "/home/earthquakes1/software/Mageia8/anaconda3/lib/python3.9/site-packages/obspy/io/stationxml/core.py:96: UserWarning: The StationXML file has version 1, ObsPy can read versions (1.0, 1.1). Proceed with caution.\n",
      "  warnings.warn(\"The StationXML file has version %s, ObsPy can \"\n",
      "/home/earthquakes1/software/Mageia8/anaconda3/lib/python3.9/site-packages/obspy/io/stationxml/core.py:96: UserWarning: The StationXML file has version 1, ObsPy can read versions (1.0, 1.1). Proceed with caution.\n",
      "  warnings.warn(\"The StationXML file has version %s, ObsPy can \"\n",
      "/home/earthquakes1/software/Mageia8/anaconda3/lib/python3.9/site-packages/obspy/io/stationxml/core.py:96: UserWarning: The StationXML file has version 1, ObsPy can read versions (1.0, 1.1). Proceed with caution.\n",
      "  warnings.warn(\"The StationXML file has version %s, ObsPy can \"\n",
      "/home/earthquakes1/software/Mageia8/anaconda3/lib/python3.9/site-packages/obspy/io/stationxml/core.py:96: UserWarning: The StationXML file has version 1, ObsPy can read versions (1.0, 1.1). Proceed with caution.\n",
      "  warnings.warn(\"The StationXML file has version %s, ObsPy can \"\n",
      "/home/earthquakes1/software/Mageia8/anaconda3/lib/python3.9/site-packages/obspy/io/stationxml/core.py:96: UserWarning: The StationXML file has version 1, ObsPy can read versions (1.0, 1.1). Proceed with caution.\n",
      "  warnings.warn(\"The StationXML file has version %s, ObsPy can \"\n",
      "/home/earthquakes1/software/Mageia8/anaconda3/lib/python3.9/site-packages/obspy/io/stationxml/core.py:96: UserWarning: The StationXML file has version 1, ObsPy can read versions (1.0, 1.1). Proceed with caution.\n",
      "  warnings.warn(\"The StationXML file has version %s, ObsPy can \"\n",
      "/home/earthquakes1/software/Mageia8/anaconda3/lib/python3.9/site-packages/obspy/io/stationxml/core.py:96: UserWarning: The StationXML file has version 1, ObsPy can read versions (1.0, 1.1). Proceed with caution.\n",
      "  warnings.warn(\"The StationXML file has version %s, ObsPy can \"\n",
      "/home/earthquakes1/software/Mageia8/anaconda3/lib/python3.9/site-packages/obspy/io/stationxml/core.py:96: UserWarning: The StationXML file has version 1, ObsPy can read versions (1.0, 1.1). Proceed with caution.\n",
      "  warnings.warn(\"The StationXML file has version %s, ObsPy can \"\n",
      "/home/earthquakes1/software/Mageia8/anaconda3/lib/python3.9/site-packages/obspy/io/stationxml/core.py:96: UserWarning: The StationXML file has version 1, ObsPy can read versions (1.0, 1.1). Proceed with caution.\n",
      "  warnings.warn(\"The StationXML file has version %s, ObsPy can \"\n",
      "/home/earthquakes1/software/Mageia8/anaconda3/lib/python3.9/site-packages/obspy/io/stationxml/core.py:96: UserWarning: The StationXML file has version 1, ObsPy can read versions (1.0, 1.1). Proceed with caution.\n",
      "  warnings.warn(\"The StationXML file has version %s, ObsPy can \"\n",
      "/home/earthquakes1/software/Mageia8/anaconda3/lib/python3.9/site-packages/obspy/io/stationxml/core.py:96: UserWarning: The StationXML file has version 1, ObsPy can read versions (1.0, 1.1). Proceed with caution.\n",
      "  warnings.warn(\"The StationXML file has version %s, ObsPy can \"\n",
      "/home/earthquakes1/software/Mageia8/anaconda3/lib/python3.9/site-packages/obspy/io/stationxml/core.py:96: UserWarning: The StationXML file has version 1, ObsPy can read versions (1.0, 1.1). Proceed with caution.\n",
      "  warnings.warn(\"The StationXML file has version %s, ObsPy can \"\n",
      "/home/earthquakes1/software/Mageia8/anaconda3/lib/python3.9/site-packages/obspy/io/stationxml/core.py:96: UserWarning: The StationXML file has version 1, ObsPy can read versions (1.0, 1.1). Proceed with caution.\n",
      "  warnings.warn(\"The StationXML file has version %s, ObsPy can \"\n",
      "/home/earthquakes1/software/Mageia8/anaconda3/lib/python3.9/site-packages/obspy/io/stationxml/core.py:96: UserWarning: The StationXML file has version 1, ObsPy can read versions (1.0, 1.1). Proceed with caution.\n",
      "  warnings.warn(\"The StationXML file has version %s, ObsPy can \"\n",
      "/home/earthquakes1/software/Mageia8/anaconda3/lib/python3.9/site-packages/obspy/io/stationxml/core.py:96: UserWarning: The StationXML file has version 1, ObsPy can read versions (1.0, 1.1). Proceed with caution.\n",
      "  warnings.warn(\"The StationXML file has version %s, ObsPy can \"\n",
      "/home/earthquakes1/software/Mageia8/anaconda3/lib/python3.9/site-packages/obspy/io/stationxml/core.py:96: UserWarning: The StationXML file has version 1, ObsPy can read versions (1.0, 1.1). Proceed with caution.\n",
      "  warnings.warn(\"The StationXML file has version %s, ObsPy can \"\n",
      "/home/earthquakes1/software/Mageia8/anaconda3/lib/python3.9/site-packages/obspy/io/stationxml/core.py:96: UserWarning: The StationXML file has version 1, ObsPy can read versions (1.0, 1.1). Proceed with caution.\n",
      "  warnings.warn(\"The StationXML file has version %s, ObsPy can \"\n",
      "/home/earthquakes1/software/Mageia8/anaconda3/lib/python3.9/site-packages/obspy/io/stationxml/core.py:96: UserWarning: The StationXML file has version 1, ObsPy can read versions (1.0, 1.1). Proceed with caution.\n",
      "  warnings.warn(\"The StationXML file has version %s, ObsPy can \"\n"
     ]
    },
    {
     "name": "stdout",
     "output_type": "stream",
     "text": [
      "earthquake number 358 of 1026 done. It was 20191123_163443.a\n",
      "earthquake number 359 of 1026 done. It was 20191122_222731.a\n",
      "earthquake number 360 of 1026 done. It was 20191115_171642.a\n",
      "earthquake number 361 of 1026 done. It was 20191112_213506.a\n",
      "earthquake number 362 of 1026 done. It was 20191104_215325.a\n",
      "earthquake number 363 of 1026 done. It was 20191104_130339.a\n",
      "earthquake number 364 of 1026 done. It was 20191101_152412.a\n"
     ]
    },
    {
     "name": "stderr",
     "output_type": "stream",
     "text": [
      "/home/earthquakes1/software/Mageia8/anaconda3/lib/python3.9/site-packages/obspy/io/stationxml/core.py:96: UserWarning: The StationXML file has version 1, ObsPy can read versions (1.0, 1.1). Proceed with caution.\n",
      "  warnings.warn(\"The StationXML file has version %s, ObsPy can \"\n",
      "/home/earthquakes1/software/Mageia8/anaconda3/lib/python3.9/site-packages/obspy/io/stationxml/core.py:96: UserWarning: The StationXML file has version 1, ObsPy can read versions (1.0, 1.1). Proceed with caution.\n",
      "  warnings.warn(\"The StationXML file has version %s, ObsPy can \"\n"
     ]
    },
    {
     "name": "stdout",
     "output_type": "stream",
     "text": [
      "earthquake number 365 of 1026 done. It was 20191228_224915.a\n"
     ]
    },
    {
     "name": "stderr",
     "output_type": "stream",
     "text": [
      "/home/earthquakes1/software/Mageia8/anaconda3/lib/python3.9/site-packages/obspy/io/stationxml/core.py:96: UserWarning: The StationXML file has version 1, ObsPy can read versions (1.0, 1.1). Proceed with caution.\n",
      "  warnings.warn(\"The StationXML file has version %s, ObsPy can \"\n",
      "/home/earthquakes1/software/Mageia8/anaconda3/lib/python3.9/site-packages/obspy/io/stationxml/core.py:96: UserWarning: The StationXML file has version 1, ObsPy can read versions (1.0, 1.1). Proceed with caution.\n",
      "  warnings.warn(\"The StationXML file has version %s, ObsPy can \"\n"
     ]
    },
    {
     "name": "stdout",
     "output_type": "stream",
     "text": [
      "earthquake number 366 of 1026 done. It was 20191218_015644.a\n",
      "earthquake number 367 of 1026 done. It was 20191215_184207.a\n"
     ]
    },
    {
     "name": "stderr",
     "output_type": "stream",
     "text": [
      "/home/earthquakes1/software/Mageia8/anaconda3/lib/python3.9/site-packages/obspy/io/stationxml/core.py:96: UserWarning: The StationXML file has version 1, ObsPy can read versions (1.0, 1.1). Proceed with caution.\n",
      "  warnings.warn(\"The StationXML file has version %s, ObsPy can \"\n",
      "/home/earthquakes1/software/Mageia8/anaconda3/lib/python3.9/site-packages/obspy/io/stationxml/core.py:96: UserWarning: The StationXML file has version 1, ObsPy can read versions (1.0, 1.1). Proceed with caution.\n",
      "  warnings.warn(\"The StationXML file has version %s, ObsPy can \"\n",
      "/home/earthquakes1/software/Mageia8/anaconda3/lib/python3.9/site-packages/obspy/io/stationxml/core.py:96: UserWarning: The StationXML file has version 1, ObsPy can read versions (1.0, 1.1). Proceed with caution.\n",
      "  warnings.warn(\"The StationXML file has version %s, ObsPy can \"\n",
      "/home/earthquakes1/software/Mageia8/anaconda3/lib/python3.9/site-packages/obspy/io/stationxml/core.py:96: UserWarning: The StationXML file has version 1, ObsPy can read versions (1.0, 1.1). Proceed with caution.\n",
      "  warnings.warn(\"The StationXML file has version %s, ObsPy can \"\n",
      "/home/earthquakes1/software/Mageia8/anaconda3/lib/python3.9/site-packages/obspy/io/stationxml/core.py:96: UserWarning: The StationXML file has version 1, ObsPy can read versions (1.0, 1.1). Proceed with caution.\n",
      "  warnings.warn(\"The StationXML file has version %s, ObsPy can \"\n",
      "/home/earthquakes1/software/Mageia8/anaconda3/lib/python3.9/site-packages/obspy/io/stationxml/core.py:96: UserWarning: The StationXML file has version 1, ObsPy can read versions (1.0, 1.1). Proceed with caution.\n",
      "  warnings.warn(\"The StationXML file has version %s, ObsPy can \"\n",
      "/home/earthquakes1/software/Mageia8/anaconda3/lib/python3.9/site-packages/obspy/io/stationxml/core.py:96: UserWarning: The StationXML file has version 1, ObsPy can read versions (1.0, 1.1). Proceed with caution.\n",
      "  warnings.warn(\"The StationXML file has version %s, ObsPy can \"\n",
      "/home/earthquakes1/software/Mageia8/anaconda3/lib/python3.9/site-packages/obspy/io/stationxml/core.py:96: UserWarning: The StationXML file has version 1, ObsPy can read versions (1.0, 1.1). Proceed with caution.\n",
      "  warnings.warn(\"The StationXML file has version %s, ObsPy can \"\n",
      "/home/earthquakes1/software/Mageia8/anaconda3/lib/python3.9/site-packages/obspy/io/stationxml/core.py:96: UserWarning: The StationXML file has version 1, ObsPy can read versions (1.0, 1.1). Proceed with caution.\n",
      "  warnings.warn(\"The StationXML file has version %s, ObsPy can \"\n",
      "/home/earthquakes1/software/Mageia8/anaconda3/lib/python3.9/site-packages/obspy/io/stationxml/core.py:96: UserWarning: The StationXML file has version 1, ObsPy can read versions (1.0, 1.1). Proceed with caution.\n",
      "  warnings.warn(\"The StationXML file has version %s, ObsPy can \"\n",
      "/home/earthquakes1/software/Mageia8/anaconda3/lib/python3.9/site-packages/obspy/io/stationxml/core.py:96: UserWarning: The StationXML file has version 1, ObsPy can read versions (1.0, 1.1). Proceed with caution.\n",
      "  warnings.warn(\"The StationXML file has version %s, ObsPy can \"\n",
      "/home/earthquakes1/software/Mageia8/anaconda3/lib/python3.9/site-packages/obspy/io/stationxml/core.py:96: UserWarning: The StationXML file has version 1, ObsPy can read versions (1.0, 1.1). Proceed with caution.\n",
      "  warnings.warn(\"The StationXML file has version %s, ObsPy can \"\n",
      "/home/earthquakes1/software/Mageia8/anaconda3/lib/python3.9/site-packages/obspy/io/stationxml/core.py:96: UserWarning: The StationXML file has version 1, ObsPy can read versions (1.0, 1.1). Proceed with caution.\n",
      "  warnings.warn(\"The StationXML file has version %s, ObsPy can \"\n",
      "/home/earthquakes1/software/Mageia8/anaconda3/lib/python3.9/site-packages/obspy/io/stationxml/core.py:96: UserWarning: The StationXML file has version 1, ObsPy can read versions (1.0, 1.1). Proceed with caution.\n",
      "  warnings.warn(\"The StationXML file has version %s, ObsPy can \"\n",
      "/home/earthquakes1/software/Mageia8/anaconda3/lib/python3.9/site-packages/obspy/io/stationxml/core.py:96: UserWarning: The StationXML file has version 1, ObsPy can read versions (1.0, 1.1). Proceed with caution.\n",
      "  warnings.warn(\"The StationXML file has version %s, ObsPy can \"\n",
      "/home/earthquakes1/software/Mageia8/anaconda3/lib/python3.9/site-packages/obspy/io/stationxml/core.py:96: UserWarning: The StationXML file has version 1, ObsPy can read versions (1.0, 1.1). Proceed with caution.\n",
      "  warnings.warn(\"The StationXML file has version %s, ObsPy can \"\n",
      "/home/earthquakes1/software/Mageia8/anaconda3/lib/python3.9/site-packages/obspy/io/stationxml/core.py:96: UserWarning: The StationXML file has version 1, ObsPy can read versions (1.0, 1.1). Proceed with caution.\n",
      "  warnings.warn(\"The StationXML file has version %s, ObsPy can \"\n",
      "/home/earthquakes1/software/Mageia8/anaconda3/lib/python3.9/site-packages/obspy/io/stationxml/core.py:96: UserWarning: The StationXML file has version 1, ObsPy can read versions (1.0, 1.1). Proceed with caution.\n",
      "  warnings.warn(\"The StationXML file has version %s, ObsPy can \"\n",
      "/home/earthquakes1/software/Mageia8/anaconda3/lib/python3.9/site-packages/obspy/io/stationxml/core.py:96: UserWarning: The StationXML file has version 1, ObsPy can read versions (1.0, 1.1). Proceed with caution.\n",
      "  warnings.warn(\"The StationXML file has version %s, ObsPy can \"\n",
      "/home/earthquakes1/software/Mageia8/anaconda3/lib/python3.9/site-packages/obspy/io/stationxml/core.py:96: UserWarning: The StationXML file has version 1, ObsPy can read versions (1.0, 1.1). Proceed with caution.\n",
      "  warnings.warn(\"The StationXML file has version %s, ObsPy can \"\n"
     ]
    },
    {
     "name": "stdout",
     "output_type": "stream",
     "text": [
      "earthquake number 368 of 1026 done. It was 20191215_095223.a\n"
     ]
    },
    {
     "name": "stderr",
     "output_type": "stream",
     "text": [
      "/home/earthquakes1/software/Mageia8/anaconda3/lib/python3.9/site-packages/obspy/io/stationxml/core.py:96: UserWarning: The StationXML file has version 1, ObsPy can read versions (1.0, 1.1). Proceed with caution.\n",
      "  warnings.warn(\"The StationXML file has version %s, ObsPy can \"\n",
      "/home/earthquakes1/software/Mageia8/anaconda3/lib/python3.9/site-packages/obspy/io/stationxml/core.py:96: UserWarning: The StationXML file has version 1, ObsPy can read versions (1.0, 1.1). Proceed with caution.\n",
      "  warnings.warn(\"The StationXML file has version %s, ObsPy can \"\n",
      "/home/earthquakes1/software/Mageia8/anaconda3/lib/python3.9/site-packages/obspy/io/stationxml/core.py:96: UserWarning: The StationXML file has version 1, ObsPy can read versions (1.0, 1.1). Proceed with caution.\n",
      "  warnings.warn(\"The StationXML file has version %s, ObsPy can \"\n",
      "/home/earthquakes1/software/Mageia8/anaconda3/lib/python3.9/site-packages/obspy/io/stationxml/core.py:96: UserWarning: The StationXML file has version 1, ObsPy can read versions (1.0, 1.1). Proceed with caution.\n",
      "  warnings.warn(\"The StationXML file has version %s, ObsPy can \"\n",
      "/home/earthquakes1/software/Mageia8/anaconda3/lib/python3.9/site-packages/obspy/io/stationxml/core.py:96: UserWarning: The StationXML file has version 1, ObsPy can read versions (1.0, 1.1). Proceed with caution.\n",
      "  warnings.warn(\"The StationXML file has version %s, ObsPy can \"\n",
      "/home/earthquakes1/software/Mageia8/anaconda3/lib/python3.9/site-packages/obspy/io/stationxml/core.py:96: UserWarning: The StationXML file has version 1, ObsPy can read versions (1.0, 1.1). Proceed with caution.\n",
      "  warnings.warn(\"The StationXML file has version %s, ObsPy can \"\n",
      "/home/earthquakes1/software/Mageia8/anaconda3/lib/python3.9/site-packages/obspy/io/stationxml/core.py:96: UserWarning: The StationXML file has version 1, ObsPy can read versions (1.0, 1.1). Proceed with caution.\n",
      "  warnings.warn(\"The StationXML file has version %s, ObsPy can \"\n",
      "/home/earthquakes1/software/Mageia8/anaconda3/lib/python3.9/site-packages/obspy/io/stationxml/core.py:96: UserWarning: The StationXML file has version 1, ObsPy can read versions (1.0, 1.1). Proceed with caution.\n",
      "  warnings.warn(\"The StationXML file has version %s, ObsPy can \"\n",
      "/home/earthquakes1/software/Mageia8/anaconda3/lib/python3.9/site-packages/obspy/io/stationxml/core.py:96: UserWarning: The StationXML file has version 1, ObsPy can read versions (1.0, 1.1). Proceed with caution.\n",
      "  warnings.warn(\"The StationXML file has version %s, ObsPy can \"\n",
      "/home/earthquakes1/software/Mageia8/anaconda3/lib/python3.9/site-packages/obspy/io/stationxml/core.py:96: UserWarning: The StationXML file has version 1, ObsPy can read versions (1.0, 1.1). Proceed with caution.\n",
      "  warnings.warn(\"The StationXML file has version %s, ObsPy can \"\n",
      "/home/earthquakes1/software/Mageia8/anaconda3/lib/python3.9/site-packages/obspy/io/stationxml/core.py:96: UserWarning: The StationXML file has version 1, ObsPy can read versions (1.0, 1.1). Proceed with caution.\n",
      "  warnings.warn(\"The StationXML file has version %s, ObsPy can \"\n",
      "/home/earthquakes1/software/Mageia8/anaconda3/lib/python3.9/site-packages/obspy/io/stationxml/core.py:96: UserWarning: The StationXML file has version 1, ObsPy can read versions (1.0, 1.1). Proceed with caution.\n",
      "  warnings.warn(\"The StationXML file has version %s, ObsPy can \"\n",
      "/home/earthquakes1/software/Mageia8/anaconda3/lib/python3.9/site-packages/obspy/io/stationxml/core.py:96: UserWarning: The StationXML file has version 1, ObsPy can read versions (1.0, 1.1). Proceed with caution.\n",
      "  warnings.warn(\"The StationXML file has version %s, ObsPy can \"\n",
      "/home/earthquakes1/software/Mageia8/anaconda3/lib/python3.9/site-packages/obspy/io/stationxml/core.py:96: UserWarning: The StationXML file has version 1, ObsPy can read versions (1.0, 1.1). Proceed with caution.\n",
      "  warnings.warn(\"The StationXML file has version %s, ObsPy can \"\n",
      "/home/earthquakes1/software/Mageia8/anaconda3/lib/python3.9/site-packages/obspy/io/stationxml/core.py:96: UserWarning: The StationXML file has version 1, ObsPy can read versions (1.0, 1.1). Proceed with caution.\n",
      "  warnings.warn(\"The StationXML file has version %s, ObsPy can \"\n",
      "/home/earthquakes1/software/Mageia8/anaconda3/lib/python3.9/site-packages/obspy/io/stationxml/core.py:96: UserWarning: The StationXML file has version 1, ObsPy can read versions (1.0, 1.1). Proceed with caution.\n",
      "  warnings.warn(\"The StationXML file has version %s, ObsPy can \"\n",
      "/home/earthquakes1/software/Mageia8/anaconda3/lib/python3.9/site-packages/obspy/io/stationxml/core.py:96: UserWarning: The StationXML file has version 1, ObsPy can read versions (1.0, 1.1). Proceed with caution.\n",
      "  warnings.warn(\"The StationXML file has version %s, ObsPy can \"\n",
      "/home/earthquakes1/software/Mageia8/anaconda3/lib/python3.9/site-packages/obspy/io/stationxml/core.py:96: UserWarning: The StationXML file has version 1, ObsPy can read versions (1.0, 1.1). Proceed with caution.\n",
      "  warnings.warn(\"The StationXML file has version %s, ObsPy can \"\n",
      "/home/earthquakes1/software/Mageia8/anaconda3/lib/python3.9/site-packages/obspy/io/stationxml/core.py:96: UserWarning: The StationXML file has version 1, ObsPy can read versions (1.0, 1.1). Proceed with caution.\n",
      "  warnings.warn(\"The StationXML file has version %s, ObsPy can \"\n",
      "/home/earthquakes1/software/Mageia8/anaconda3/lib/python3.9/site-packages/obspy/io/stationxml/core.py:96: UserWarning: The StationXML file has version 1, ObsPy can read versions (1.0, 1.1). Proceed with caution.\n",
      "  warnings.warn(\"The StationXML file has version %s, ObsPy can \"\n",
      "/home/earthquakes1/software/Mageia8/anaconda3/lib/python3.9/site-packages/obspy/io/stationxml/core.py:96: UserWarning: The StationXML file has version 1, ObsPy can read versions (1.0, 1.1). Proceed with caution.\n",
      "  warnings.warn(\"The StationXML file has version %s, ObsPy can \"\n",
      "/home/earthquakes1/software/Mageia8/anaconda3/lib/python3.9/site-packages/obspy/io/stationxml/core.py:96: UserWarning: The StationXML file has version 1, ObsPy can read versions (1.0, 1.1). Proceed with caution.\n",
      "  warnings.warn(\"The StationXML file has version %s, ObsPy can \"\n",
      "/home/earthquakes1/software/Mageia8/anaconda3/lib/python3.9/site-packages/obspy/io/stationxml/core.py:96: UserWarning: The StationXML file has version 1, ObsPy can read versions (1.0, 1.1). Proceed with caution.\n",
      "  warnings.warn(\"The StationXML file has version %s, ObsPy can \"\n",
      "/home/earthquakes1/software/Mageia8/anaconda3/lib/python3.9/site-packages/obspy/io/stationxml/core.py:96: UserWarning: The StationXML file has version 1, ObsPy can read versions (1.0, 1.1). Proceed with caution.\n",
      "  warnings.warn(\"The StationXML file has version %s, ObsPy can \"\n",
      "/home/earthquakes1/software/Mageia8/anaconda3/lib/python3.9/site-packages/obspy/io/stationxml/core.py:96: UserWarning: The StationXML file has version 1, ObsPy can read versions (1.0, 1.1). Proceed with caution.\n",
      "  warnings.warn(\"The StationXML file has version %s, ObsPy can \"\n",
      "/home/earthquakes1/software/Mageia8/anaconda3/lib/python3.9/site-packages/obspy/io/stationxml/core.py:96: UserWarning: The StationXML file has version 1, ObsPy can read versions (1.0, 1.1). Proceed with caution.\n",
      "  warnings.warn(\"The StationXML file has version %s, ObsPy can \"\n",
      "/home/earthquakes1/software/Mageia8/anaconda3/lib/python3.9/site-packages/obspy/io/stationxml/core.py:96: UserWarning: The StationXML file has version 1, ObsPy can read versions (1.0, 1.1). Proceed with caution.\n",
      "  warnings.warn(\"The StationXML file has version %s, ObsPy can \"\n"
     ]
    },
    {
     "name": "stdout",
     "output_type": "stream",
     "text": [
      "earthquake number 369 of 1026 done. It was 20191214_061235.a\n",
      "earthquake number 370 of 1026 done. It was 20191212_030541.a\n",
      "earthquake number 371 of 1026 done. It was 20191210_215828.a\n",
      "earthquake number 372 of 1026 done. It was 20191210_084042.a\n"
     ]
    },
    {
     "name": "stderr",
     "output_type": "stream",
     "text": [
      "/home/earthquakes1/software/Mageia8/anaconda3/lib/python3.9/site-packages/obspy/io/stationxml/core.py:96: UserWarning: The StationXML file has version 1, ObsPy can read versions (1.0, 1.1). Proceed with caution.\n",
      "  warnings.warn(\"The StationXML file has version %s, ObsPy can \"\n",
      "/home/earthquakes1/software/Mageia8/anaconda3/lib/python3.9/site-packages/obspy/io/stationxml/core.py:96: UserWarning: The StationXML file has version 1, ObsPy can read versions (1.0, 1.1). Proceed with caution.\n",
      "  warnings.warn(\"The StationXML file has version %s, ObsPy can \"\n",
      "/home/earthquakes1/software/Mageia8/anaconda3/lib/python3.9/site-packages/obspy/io/stationxml/core.py:96: UserWarning: The StationXML file has version 1, ObsPy can read versions (1.0, 1.1). Proceed with caution.\n",
      "  warnings.warn(\"The StationXML file has version %s, ObsPy can \"\n",
      "/home/earthquakes1/software/Mageia8/anaconda3/lib/python3.9/site-packages/obspy/io/stationxml/core.py:96: UserWarning: The StationXML file has version 1, ObsPy can read versions (1.0, 1.1). Proceed with caution.\n",
      "  warnings.warn(\"The StationXML file has version %s, ObsPy can \"\n",
      "/home/earthquakes1/software/Mageia8/anaconda3/lib/python3.9/site-packages/obspy/io/stationxml/core.py:96: UserWarning: The StationXML file has version 1, ObsPy can read versions (1.0, 1.1). Proceed with caution.\n",
      "  warnings.warn(\"The StationXML file has version %s, ObsPy can \"\n",
      "/home/earthquakes1/software/Mageia8/anaconda3/lib/python3.9/site-packages/obspy/io/stationxml/core.py:96: UserWarning: The StationXML file has version 1, ObsPy can read versions (1.0, 1.1). Proceed with caution.\n",
      "  warnings.warn(\"The StationXML file has version %s, ObsPy can \"\n",
      "/home/earthquakes1/software/Mageia8/anaconda3/lib/python3.9/site-packages/obspy/io/stationxml/core.py:96: UserWarning: The StationXML file has version 1, ObsPy can read versions (1.0, 1.1). Proceed with caution.\n",
      "  warnings.warn(\"The StationXML file has version %s, ObsPy can \"\n",
      "/home/earthquakes1/software/Mageia8/anaconda3/lib/python3.9/site-packages/obspy/io/stationxml/core.py:96: UserWarning: The StationXML file has version 1, ObsPy can read versions (1.0, 1.1). Proceed with caution.\n",
      "  warnings.warn(\"The StationXML file has version %s, ObsPy can \"\n",
      "/home/earthquakes1/software/Mageia8/anaconda3/lib/python3.9/site-packages/obspy/io/stationxml/core.py:96: UserWarning: The StationXML file has version 1, ObsPy can read versions (1.0, 1.1). Proceed with caution.\n",
      "  warnings.warn(\"The StationXML file has version %s, ObsPy can \"\n",
      "/home/earthquakes1/software/Mageia8/anaconda3/lib/python3.9/site-packages/obspy/io/stationxml/core.py:96: UserWarning: The StationXML file has version 1, ObsPy can read versions (1.0, 1.1). Proceed with caution.\n",
      "  warnings.warn(\"The StationXML file has version %s, ObsPy can \"\n",
      "/home/earthquakes1/software/Mageia8/anaconda3/lib/python3.9/site-packages/obspy/io/stationxml/core.py:96: UserWarning: The StationXML file has version 1, ObsPy can read versions (1.0, 1.1). Proceed with caution.\n",
      "  warnings.warn(\"The StationXML file has version %s, ObsPy can \"\n",
      "/home/earthquakes1/software/Mageia8/anaconda3/lib/python3.9/site-packages/obspy/io/stationxml/core.py:96: UserWarning: The StationXML file has version 1, ObsPy can read versions (1.0, 1.1). Proceed with caution.\n",
      "  warnings.warn(\"The StationXML file has version %s, ObsPy can \"\n",
      "/home/earthquakes1/software/Mageia8/anaconda3/lib/python3.9/site-packages/obspy/io/stationxml/core.py:96: UserWarning: The StationXML file has version 1, ObsPy can read versions (1.0, 1.1). Proceed with caution.\n",
      "  warnings.warn(\"The StationXML file has version %s, ObsPy can \"\n",
      "/home/earthquakes1/software/Mageia8/anaconda3/lib/python3.9/site-packages/obspy/io/stationxml/core.py:96: UserWarning: The StationXML file has version 1, ObsPy can read versions (1.0, 1.1). Proceed with caution.\n",
      "  warnings.warn(\"The StationXML file has version %s, ObsPy can \"\n",
      "/home/earthquakes1/software/Mageia8/anaconda3/lib/python3.9/site-packages/obspy/io/stationxml/core.py:96: UserWarning: The StationXML file has version 1, ObsPy can read versions (1.0, 1.1). Proceed with caution.\n",
      "  warnings.warn(\"The StationXML file has version %s, ObsPy can \"\n",
      "/home/earthquakes1/software/Mageia8/anaconda3/lib/python3.9/site-packages/obspy/io/stationxml/core.py:96: UserWarning: The StationXML file has version 1, ObsPy can read versions (1.0, 1.1). Proceed with caution.\n",
      "  warnings.warn(\"The StationXML file has version %s, ObsPy can \"\n",
      "/home/earthquakes1/software/Mageia8/anaconda3/lib/python3.9/site-packages/obspy/io/stationxml/core.py:96: UserWarning: The StationXML file has version 1, ObsPy can read versions (1.0, 1.1). Proceed with caution.\n",
      "  warnings.warn(\"The StationXML file has version %s, ObsPy can \"\n",
      "/home/earthquakes1/software/Mageia8/anaconda3/lib/python3.9/site-packages/obspy/io/stationxml/core.py:96: UserWarning: The StationXML file has version 1, ObsPy can read versions (1.0, 1.1). Proceed with caution.\n",
      "  warnings.warn(\"The StationXML file has version %s, ObsPy can \"\n",
      "/home/earthquakes1/software/Mageia8/anaconda3/lib/python3.9/site-packages/obspy/io/stationxml/core.py:96: UserWarning: The StationXML file has version 1, ObsPy can read versions (1.0, 1.1). Proceed with caution.\n",
      "  warnings.warn(\"The StationXML file has version %s, ObsPy can \"\n",
      "/home/earthquakes1/software/Mageia8/anaconda3/lib/python3.9/site-packages/obspy/io/stationxml/core.py:96: UserWarning: The StationXML file has version 1, ObsPy can read versions (1.0, 1.1). Proceed with caution.\n",
      "  warnings.warn(\"The StationXML file has version %s, ObsPy can \"\n",
      "/home/earthquakes1/software/Mageia8/anaconda3/lib/python3.9/site-packages/obspy/io/stationxml/core.py:96: UserWarning: The StationXML file has version 1, ObsPy can read versions (1.0, 1.1). Proceed with caution.\n",
      "  warnings.warn(\"The StationXML file has version %s, ObsPy can \"\n",
      "/home/earthquakes1/software/Mageia8/anaconda3/lib/python3.9/site-packages/obspy/io/stationxml/core.py:96: UserWarning: The StationXML file has version 1, ObsPy can read versions (1.0, 1.1). Proceed with caution.\n",
      "  warnings.warn(\"The StationXML file has version %s, ObsPy can \"\n",
      "/home/earthquakes1/software/Mageia8/anaconda3/lib/python3.9/site-packages/obspy/io/stationxml/core.py:96: UserWarning: The StationXML file has version 1, ObsPy can read versions (1.0, 1.1). Proceed with caution.\n",
      "  warnings.warn(\"The StationXML file has version %s, ObsPy can \"\n"
     ]
    },
    {
     "name": "stdout",
     "output_type": "stream",
     "text": [
      "earthquake number 373 of 1026 done. It was 20191209_235801.a\n",
      "earthquake number 374 of 1026 done. It was 20191209_050414.a\n",
      "earthquake number 375 of 1026 done. It was 20191208_183142.a\n",
      "earthquake number 376 of 1026 done. It was 20191203_084636.a\n",
      "earthquake number 377 of 1026 done. It was 20191203_072930.a\n",
      "earthquake number 378 of 1026 done. It was 20200130_112137.a\n",
      "earthquake number 379 of 1026 done. It was 20200130_012805.a\n",
      "earthquake number 380 of 1026 done. It was 20200128_201508.a\n",
      "earthquake number 381 of 1026 done. It was 20200128_153834.a\n"
     ]
    },
    {
     "name": "stderr",
     "output_type": "stream",
     "text": [
      " WARNING (norm_resp): computed and reported sensitivities differ by more than 5 percent. \n",
      "\t Execution continuing.\n",
      " WARNING (norm_resp): computed and reported sensitivities differ by more than 5 percent. \n",
      "\t Execution continuing.\n",
      " WARNING (norm_resp): computed and reported sensitivities differ by more than 5 percent. \n",
      "\t Execution continuing.\n",
      " WARNING (norm_resp): computed and reported sensitivities differ by more than 5 percent. \n",
      "\t Execution continuing.\n",
      " WARNING (norm_resp): computed and reported sensitivities differ by more than 5 percent. \n",
      "\t Execution continuing.\n",
      " WARNING (norm_resp): computed and reported sensitivities differ by more than 5 percent. \n",
      "\t Execution continuing.\n",
      " WARNING (norm_resp): computed and reported sensitivities differ by more than 5 percent. \n",
      "\t Execution continuing.\n",
      " WARNING (norm_resp): computed and reported sensitivities differ by more than 5 percent. \n",
      "\t Execution continuing.\n",
      " WARNING (norm_resp): computed and reported sensitivities differ by more than 5 percent. \n",
      "\t Execution continuing.\n",
      " WARNING (norm_resp): computed and reported sensitivities differ by more than 5 percent. \n",
      "\t Execution continuing.\n",
      " WARNING (norm_resp): computed and reported sensitivities differ by more than 5 percent. \n",
      "\t Execution continuing.\n",
      " WARNING (norm_resp): computed and reported sensitivities differ by more than 5 percent. \n",
      "\t Execution continuing.\n",
      " WARNING (norm_resp): computed and reported sensitivities differ by more than 5 percent. \n",
      "\t Execution continuing.\n",
      " WARNING (norm_resp): computed and reported sensitivities differ by more than 5 percent. \n",
      "\t Execution continuing.\n",
      " WARNING (norm_resp): computed and reported sensitivities differ by more than 5 percent. \n",
      "\t Execution continuing.\n",
      " WARNING (norm_resp): computed and reported sensitivities differ by more than 5 percent. \n",
      "\t Execution continuing.\n"
     ]
    },
    {
     "name": "stdout",
     "output_type": "stream",
     "text": [
      "earthquake number 382 of 1026 done. It was 20200128_112615.a\n",
      "earthquake number 383 of 1026 done. It was 20200125_192259.a\n"
     ]
    },
    {
     "name": "stderr",
     "output_type": "stream",
     "text": [
      "/home/earthquakes1/software/Mageia8/anaconda3/lib/python3.9/site-packages/obspy/io/stationxml/core.py:96: UserWarning: The StationXML file has version 1, ObsPy can read versions (1.0, 1.1). Proceed with caution.\n",
      "  warnings.warn(\"The StationXML file has version %s, ObsPy can \"\n",
      "/home/earthquakes1/software/Mageia8/anaconda3/lib/python3.9/site-packages/obspy/io/stationxml/core.py:96: UserWarning: The StationXML file has version 1, ObsPy can read versions (1.0, 1.1). Proceed with caution.\n",
      "  warnings.warn(\"The StationXML file has version %s, ObsPy can \"\n"
     ]
    },
    {
     "name": "stdout",
     "output_type": "stream",
     "text": [
      "earthquake number 384 of 1026 done. It was 20200125_191931.a\n"
     ]
    },
    {
     "name": "stderr",
     "output_type": "stream",
     "text": [
      " WARNING (norm_resp): computed and reported sensitivities differ by more than 5 percent. \n",
      "\t Execution continuing.\n",
      " WARNING (norm_resp): computed and reported sensitivities differ by more than 5 percent. \n",
      "\t Execution continuing.\n",
      " WARNING (norm_resp): computed and reported sensitivities differ by more than 5 percent. \n",
      "\t Execution continuing.\n"
     ]
    },
    {
     "name": "stdout",
     "output_type": "stream",
     "text": [
      "earthquake number 385 of 1026 done. It was 20200125_163011.a\n"
     ]
    },
    {
     "name": "stderr",
     "output_type": "stream",
     "text": [
      "/home/earthquakes1/software/Mageia8/anaconda3/lib/python3.9/site-packages/obspy/io/stationxml/core.py:96: UserWarning: The StationXML file has version 1, ObsPy can read versions (1.0, 1.1). Proceed with caution.\n",
      "  warnings.warn(\"The StationXML file has version %s, ObsPy can \"\n",
      "/home/earthquakes1/software/Mageia8/anaconda3/lib/python3.9/site-packages/obspy/io/stationxml/core.py:96: UserWarning: The StationXML file has version 1, ObsPy can read versions (1.0, 1.1). Proceed with caution.\n",
      "  warnings.warn(\"The StationXML file has version %s, ObsPy can \"\n",
      "/home/earthquakes1/software/Mageia8/anaconda3/lib/python3.9/site-packages/obspy/io/stationxml/core.py:96: UserWarning: The StationXML file has version 1, ObsPy can read versions (1.0, 1.1). Proceed with caution.\n",
      "  warnings.warn(\"The StationXML file has version %s, ObsPy can \"\n",
      "/home/earthquakes1/software/Mageia8/anaconda3/lib/python3.9/site-packages/obspy/io/stationxml/core.py:96: UserWarning: The StationXML file has version 1, ObsPy can read versions (1.0, 1.1). Proceed with caution.\n",
      "  warnings.warn(\"The StationXML file has version %s, ObsPy can \"\n",
      "/home/earthquakes1/software/Mageia8/anaconda3/lib/python3.9/site-packages/obspy/io/stationxml/core.py:96: UserWarning: The StationXML file has version 1, ObsPy can read versions (1.0, 1.1). Proceed with caution.\n",
      "  warnings.warn(\"The StationXML file has version %s, ObsPy can \"\n",
      "/home/earthquakes1/software/Mageia8/anaconda3/lib/python3.9/site-packages/obspy/io/stationxml/core.py:96: UserWarning: The StationXML file has version 1, ObsPy can read versions (1.0, 1.1). Proceed with caution.\n",
      "  warnings.warn(\"The StationXML file has version %s, ObsPy can \"\n",
      "/home/earthquakes1/software/Mageia8/anaconda3/lib/python3.9/site-packages/obspy/io/stationxml/core.py:96: UserWarning: The StationXML file has version 1, ObsPy can read versions (1.0, 1.1). Proceed with caution.\n",
      "  warnings.warn(\"The StationXML file has version %s, ObsPy can \"\n",
      "/home/earthquakes1/software/Mageia8/anaconda3/lib/python3.9/site-packages/obspy/io/stationxml/core.py:96: UserWarning: The StationXML file has version 1, ObsPy can read versions (1.0, 1.1). Proceed with caution.\n",
      "  warnings.warn(\"The StationXML file has version %s, ObsPy can \"\n",
      "/home/earthquakes1/software/Mageia8/anaconda3/lib/python3.9/site-packages/obspy/io/stationxml/core.py:96: UserWarning: The StationXML file has version 1, ObsPy can read versions (1.0, 1.1). Proceed with caution.\n",
      "  warnings.warn(\"The StationXML file has version %s, ObsPy can \"\n",
      "/home/earthquakes1/software/Mageia8/anaconda3/lib/python3.9/site-packages/obspy/io/stationxml/core.py:96: UserWarning: The StationXML file has version 1, ObsPy can read versions (1.0, 1.1). Proceed with caution.\n",
      "  warnings.warn(\"The StationXML file has version %s, ObsPy can \"\n",
      "/home/earthquakes1/software/Mageia8/anaconda3/lib/python3.9/site-packages/obspy/io/stationxml/core.py:96: UserWarning: The StationXML file has version 1, ObsPy can read versions (1.0, 1.1). Proceed with caution.\n",
      "  warnings.warn(\"The StationXML file has version %s, ObsPy can \"\n",
      "/home/earthquakes1/software/Mageia8/anaconda3/lib/python3.9/site-packages/obspy/io/stationxml/core.py:96: UserWarning: The StationXML file has version 1, ObsPy can read versions (1.0, 1.1). Proceed with caution.\n",
      "  warnings.warn(\"The StationXML file has version %s, ObsPy can \"\n",
      "/home/earthquakes1/software/Mageia8/anaconda3/lib/python3.9/site-packages/obspy/io/stationxml/core.py:96: UserWarning: The StationXML file has version 1, ObsPy can read versions (1.0, 1.1). Proceed with caution.\n",
      "  warnings.warn(\"The StationXML file has version %s, ObsPy can \"\n",
      "/home/earthquakes1/software/Mageia8/anaconda3/lib/python3.9/site-packages/obspy/io/stationxml/core.py:96: UserWarning: The StationXML file has version 1, ObsPy can read versions (1.0, 1.1). Proceed with caution.\n",
      "  warnings.warn(\"The StationXML file has version %s, ObsPy can \"\n",
      "/home/earthquakes1/software/Mageia8/anaconda3/lib/python3.9/site-packages/obspy/io/stationxml/core.py:96: UserWarning: The StationXML file has version 1, ObsPy can read versions (1.0, 1.1). Proceed with caution.\n",
      "  warnings.warn(\"The StationXML file has version %s, ObsPy can \"\n",
      "/home/earthquakes1/software/Mageia8/anaconda3/lib/python3.9/site-packages/obspy/io/stationxml/core.py:96: UserWarning: The StationXML file has version 1, ObsPy can read versions (1.0, 1.1). Proceed with caution.\n",
      "  warnings.warn(\"The StationXML file has version %s, ObsPy can \"\n",
      "/home/earthquakes1/software/Mageia8/anaconda3/lib/python3.9/site-packages/obspy/io/stationxml/core.py:96: UserWarning: The StationXML file has version 1, ObsPy can read versions (1.0, 1.1). Proceed with caution.\n",
      "  warnings.warn(\"The StationXML file has version %s, ObsPy can \"\n",
      "/home/earthquakes1/software/Mageia8/anaconda3/lib/python3.9/site-packages/obspy/io/stationxml/core.py:96: UserWarning: The StationXML file has version 1, ObsPy can read versions (1.0, 1.1). Proceed with caution.\n",
      "  warnings.warn(\"The StationXML file has version %s, ObsPy can \"\n",
      "/home/earthquakes1/software/Mageia8/anaconda3/lib/python3.9/site-packages/obspy/io/stationxml/core.py:96: UserWarning: The StationXML file has version 1, ObsPy can read versions (1.0, 1.1). Proceed with caution.\n",
      "  warnings.warn(\"The StationXML file has version %s, ObsPy can \"\n",
      "/home/earthquakes1/software/Mageia8/anaconda3/lib/python3.9/site-packages/obspy/io/stationxml/core.py:96: UserWarning: The StationXML file has version 1, ObsPy can read versions (1.0, 1.1). Proceed with caution.\n",
      "  warnings.warn(\"The StationXML file has version %s, ObsPy can \"\n",
      "/home/earthquakes1/software/Mageia8/anaconda3/lib/python3.9/site-packages/obspy/io/stationxml/core.py:96: UserWarning: The StationXML file has version 1, ObsPy can read versions (1.0, 1.1). Proceed with caution.\n",
      "  warnings.warn(\"The StationXML file has version %s, ObsPy can \"\n",
      "/home/earthquakes1/software/Mageia8/anaconda3/lib/python3.9/site-packages/obspy/io/stationxml/core.py:96: UserWarning: The StationXML file has version 1, ObsPy can read versions (1.0, 1.1). Proceed with caution.\n",
      "  warnings.warn(\"The StationXML file has version %s, ObsPy can \"\n",
      "/home/earthquakes1/software/Mageia8/anaconda3/lib/python3.9/site-packages/obspy/io/stationxml/core.py:96: UserWarning: The StationXML file has version 1, ObsPy can read versions (1.0, 1.1). Proceed with caution.\n",
      "  warnings.warn(\"The StationXML file has version %s, ObsPy can \"\n"
     ]
    },
    {
     "name": "stdout",
     "output_type": "stream",
     "text": [
      "earthquake number 386 of 1026 done. It was 20200125_104511.a\n",
      "earthquake number 387 of 1026 done. It was 20200124_215906.a\n"
     ]
    },
    {
     "name": "stderr",
     "output_type": "stream",
     "text": [
      " WARNING (norm_resp): computed and reported sensitivities differ by more than 5 percent. \n",
      "\t Execution continuing.\n",
      " WARNING (norm_resp): computed and reported sensitivities differ by more than 5 percent. \n",
      "\t Execution continuing.\n",
      " WARNING (norm_resp): computed and reported sensitivities differ by more than 5 percent. \n",
      "\t Execution continuing.\n"
     ]
    },
    {
     "name": "stdout",
     "output_type": "stream",
     "text": [
      "earthquake number 388 of 1026 done. It was 20200124_175513.a\n",
      "earthquake number 389 of 1026 done. It was 20200124_051349.a\n"
     ]
    },
    {
     "name": "stderr",
     "output_type": "stream",
     "text": [
      " WARNING (norm_resp): computed and reported sensitivities differ by more than 5 percent. \n",
      "\t Execution continuing.\n",
      " WARNING (norm_resp): computed and reported sensitivities differ by more than 5 percent. \n",
      "\t Execution continuing.\n",
      " WARNING (norm_resp): computed and reported sensitivities differ by more than 5 percent. \n",
      "\t Execution continuing.\n",
      " WARNING (norm_resp): computed and reported sensitivities differ by more than 5 percent. \n",
      "\t Execution continuing.\n",
      " WARNING (norm_resp): computed and reported sensitivities differ by more than 5 percent. \n",
      "\t Execution continuing.\n",
      " WARNING (norm_resp): computed and reported sensitivities differ by more than 5 percent. \n",
      "\t Execution continuing.\n",
      " WARNING (norm_resp): computed and reported sensitivities differ by more than 5 percent. \n",
      "\t Execution continuing.\n",
      " WARNING (norm_resp): computed and reported sensitivities differ by more than 5 percent. \n",
      "\t Execution continuing.\n",
      " WARNING (norm_resp): computed and reported sensitivities differ by more than 5 percent. \n",
      "\t Execution continuing.\n",
      " WARNING (norm_resp): computed and reported sensitivities differ by more than 5 percent. \n",
      "\t Execution continuing.\n",
      " WARNING (norm_resp): computed and reported sensitivities differ by more than 5 percent. \n",
      "\t Execution continuing.\n",
      " WARNING (norm_resp): computed and reported sensitivities differ by more than 5 percent. \n",
      "\t Execution continuing.\n",
      " WARNING (norm_resp): computed and reported sensitivities differ by more than 5 percent. \n",
      "\t Execution continuing.\n",
      " WARNING (norm_resp): computed and reported sensitivities differ by more than 5 percent. \n",
      "\t Execution continuing.\n",
      " WARNING (norm_resp): computed and reported sensitivities differ by more than 5 percent. \n",
      "\t Execution continuing.\n",
      " WARNING (norm_resp): computed and reported sensitivities differ by more than 5 percent. \n",
      "\t Execution continuing.\n"
     ]
    },
    {
     "name": "stdout",
     "output_type": "stream",
     "text": [
      "earthquake number 390 of 1026 done. It was 20200122_192216.a\n"
     ]
    },
    {
     "name": "stderr",
     "output_type": "stream",
     "text": [
      "/home/earthquakes1/software/Mageia8/anaconda3/lib/python3.9/site-packages/obspy/io/stationxml/core.py:96: UserWarning: The StationXML file has version 1, ObsPy can read versions (1.0, 1.1). Proceed with caution.\n",
      "  warnings.warn(\"The StationXML file has version %s, ObsPy can \"\n",
      "/home/earthquakes1/software/Mageia8/anaconda3/lib/python3.9/site-packages/obspy/io/stationxml/core.py:96: UserWarning: The StationXML file has version 1, ObsPy can read versions (1.0, 1.1). Proceed with caution.\n",
      "  warnings.warn(\"The StationXML file has version %s, ObsPy can \"\n"
     ]
    },
    {
     "name": "stdout",
     "output_type": "stream",
     "text": [
      "earthquake number 391 of 1026 done. It was 20200121_213132.a\n",
      "earthquake number 392 of 1026 done. It was 20200121_112535.a\n",
      "earthquake number 393 of 1026 done. It was 20200121_093356.a\n",
      "earthquake number 394 of 1026 done. It was 20200119_142302.a\n",
      "earthquake number 395 of 1026 done. It was 20200119_132756.a\n",
      "earthquake number 396 of 1026 done. It was 20200119_025209.a\n"
     ]
    },
    {
     "name": "stderr",
     "output_type": "stream",
     "text": [
      "/home/earthquakes1/software/Mageia8/anaconda3/lib/python3.9/site-packages/obspy/io/stationxml/core.py:96: UserWarning: The StationXML file has version 1, ObsPy can read versions (1.0, 1.1). Proceed with caution.\n",
      "  warnings.warn(\"The StationXML file has version %s, ObsPy can \"\n",
      "/home/earthquakes1/software/Mageia8/anaconda3/lib/python3.9/site-packages/obspy/io/stationxml/core.py:96: UserWarning: The StationXML file has version 1, ObsPy can read versions (1.0, 1.1). Proceed with caution.\n",
      "  warnings.warn(\"The StationXML file has version %s, ObsPy can \"\n"
     ]
    },
    {
     "name": "stdout",
     "output_type": "stream",
     "text": [
      "earthquake number 397 of 1026 done. It was 20200118_022515.a\n"
     ]
    },
    {
     "name": "stderr",
     "output_type": "stream",
     "text": [
      "/home/earthquakes1/software/Mageia8/anaconda3/lib/python3.9/site-packages/obspy/io/stationxml/core.py:96: UserWarning: The StationXML file has version 1, ObsPy can read versions (1.0, 1.1). Proceed with caution.\n",
      "  warnings.warn(\"The StationXML file has version %s, ObsPy can \"\n",
      "/home/earthquakes1/software/Mageia8/anaconda3/lib/python3.9/site-packages/obspy/io/stationxml/core.py:96: UserWarning: The StationXML file has version 1, ObsPy can read versions (1.0, 1.1). Proceed with caution.\n",
      "  warnings.warn(\"The StationXML file has version %s, ObsPy can \"\n"
     ]
    },
    {
     "name": "stdout",
     "output_type": "stream",
     "text": [
      "earthquake number 398 of 1026 done. It was 20200118_020741.a\n",
      "earthquake number 399 of 1026 done. It was 20200117_160548.a\n",
      "earthquake number 400 of 1026 done. It was 20200114_015728.a\n"
     ]
    },
    {
     "name": "stderr",
     "output_type": "stream",
     "text": [
      "/home/earthquakes1/software/Mageia8/anaconda3/lib/python3.9/site-packages/obspy/io/stationxml/core.py:96: UserWarning: The StationXML file has version 1, ObsPy can read versions (1.0, 1.1). Proceed with caution.\n",
      "  warnings.warn(\"The StationXML file has version %s, ObsPy can \"\n",
      "/home/earthquakes1/software/Mageia8/anaconda3/lib/python3.9/site-packages/obspy/io/stationxml/core.py:96: UserWarning: The StationXML file has version 1, ObsPy can read versions (1.0, 1.1). Proceed with caution.\n",
      "  warnings.warn(\"The StationXML file has version %s, ObsPy can \"\n"
     ]
    },
    {
     "name": "stdout",
     "output_type": "stream",
     "text": [
      "earthquake number 401 of 1026 done. It was 20200110_225426.a\n",
      "earthquake number 402 of 1026 done. It was 20200108_084744.a\n",
      "earthquake number 403 of 1026 done. It was 20200107_190858.a\n"
     ]
    },
    {
     "name": "stderr",
     "output_type": "stream",
     "text": [
      "/home/earthquakes1/software/Mageia8/anaconda3/lib/python3.9/site-packages/obspy/io/stationxml/core.py:96: UserWarning: The StationXML file has version 1, ObsPy can read versions (1.0, 1.1). Proceed with caution.\n",
      "  warnings.warn(\"The StationXML file has version %s, ObsPy can \"\n",
      "/home/earthquakes1/software/Mageia8/anaconda3/lib/python3.9/site-packages/obspy/io/stationxml/core.py:96: UserWarning: The StationXML file has version 1, ObsPy can read versions (1.0, 1.1). Proceed with caution.\n",
      "  warnings.warn(\"The StationXML file has version %s, ObsPy can \"\n"
     ]
    },
    {
     "name": "stdout",
     "output_type": "stream",
     "text": [
      "earthquake number 404 of 1026 done. It was 20200104_223658.a\n"
     ]
    },
    {
     "name": "stderr",
     "output_type": "stream",
     "text": [
      "/home/earthquakes1/software/Mageia8/anaconda3/lib/python3.9/site-packages/obspy/io/stationxml/core.py:96: UserWarning: The StationXML file has version 1, ObsPy can read versions (1.0, 1.1). Proceed with caution.\n",
      "  warnings.warn(\"The StationXML file has version %s, ObsPy can \"\n",
      "/home/earthquakes1/software/Mageia8/anaconda3/lib/python3.9/site-packages/obspy/io/stationxml/core.py:96: UserWarning: The StationXML file has version 1, ObsPy can read versions (1.0, 1.1). Proceed with caution.\n",
      "  warnings.warn(\"The StationXML file has version %s, ObsPy can \"\n",
      "/home/earthquakes1/software/Mageia8/anaconda3/lib/python3.9/site-packages/obspy/io/stationxml/core.py:96: UserWarning: The StationXML file has version 1, ObsPy can read versions (1.0, 1.1). Proceed with caution.\n",
      "  warnings.warn(\"The StationXML file has version %s, ObsPy can \"\n",
      "/home/earthquakes1/software/Mageia8/anaconda3/lib/python3.9/site-packages/obspy/io/stationxml/core.py:96: UserWarning: The StationXML file has version 1, ObsPy can read versions (1.0, 1.1). Proceed with caution.\n",
      "  warnings.warn(\"The StationXML file has version %s, ObsPy can \"\n",
      "/home/earthquakes1/software/Mageia8/anaconda3/lib/python3.9/site-packages/obspy/io/stationxml/core.py:96: UserWarning: The StationXML file has version 1, ObsPy can read versions (1.0, 1.1). Proceed with caution.\n",
      "  warnings.warn(\"The StationXML file has version %s, ObsPy can \"\n",
      "/home/earthquakes1/software/Mageia8/anaconda3/lib/python3.9/site-packages/obspy/io/stationxml/core.py:96: UserWarning: The StationXML file has version 1, ObsPy can read versions (1.0, 1.1). Proceed with caution.\n",
      "  warnings.warn(\"The StationXML file has version %s, ObsPy can \"\n",
      "/home/earthquakes1/software/Mageia8/anaconda3/lib/python3.9/site-packages/obspy/io/stationxml/core.py:96: UserWarning: The StationXML file has version 1, ObsPy can read versions (1.0, 1.1). Proceed with caution.\n",
      "  warnings.warn(\"The StationXML file has version %s, ObsPy can \"\n",
      "/home/earthquakes1/software/Mageia8/anaconda3/lib/python3.9/site-packages/obspy/io/stationxml/core.py:96: UserWarning: The StationXML file has version 1, ObsPy can read versions (1.0, 1.1). Proceed with caution.\n",
      "  warnings.warn(\"The StationXML file has version %s, ObsPy can \"\n",
      "/home/earthquakes1/software/Mageia8/anaconda3/lib/python3.9/site-packages/obspy/io/stationxml/core.py:96: UserWarning: The StationXML file has version 1, ObsPy can read versions (1.0, 1.1). Proceed with caution.\n",
      "  warnings.warn(\"The StationXML file has version %s, ObsPy can \"\n",
      "/home/earthquakes1/software/Mageia8/anaconda3/lib/python3.9/site-packages/obspy/io/stationxml/core.py:96: UserWarning: The StationXML file has version 1, ObsPy can read versions (1.0, 1.1). Proceed with caution.\n",
      "  warnings.warn(\"The StationXML file has version %s, ObsPy can \"\n",
      "/home/earthquakes1/software/Mageia8/anaconda3/lib/python3.9/site-packages/obspy/io/stationxml/core.py:96: UserWarning: The StationXML file has version 1, ObsPy can read versions (1.0, 1.1). Proceed with caution.\n",
      "  warnings.warn(\"The StationXML file has version %s, ObsPy can \"\n",
      "/home/earthquakes1/software/Mageia8/anaconda3/lib/python3.9/site-packages/obspy/io/stationxml/core.py:96: UserWarning: The StationXML file has version 1, ObsPy can read versions (1.0, 1.1). Proceed with caution.\n",
      "  warnings.warn(\"The StationXML file has version %s, ObsPy can \"\n",
      "/home/earthquakes1/software/Mageia8/anaconda3/lib/python3.9/site-packages/obspy/io/stationxml/core.py:96: UserWarning: The StationXML file has version 1, ObsPy can read versions (1.0, 1.1). Proceed with caution.\n",
      "  warnings.warn(\"The StationXML file has version %s, ObsPy can \"\n",
      "/home/earthquakes1/software/Mageia8/anaconda3/lib/python3.9/site-packages/obspy/io/stationxml/core.py:96: UserWarning: The StationXML file has version 1, ObsPy can read versions (1.0, 1.1). Proceed with caution.\n",
      "  warnings.warn(\"The StationXML file has version %s, ObsPy can \"\n"
     ]
    },
    {
     "name": "stdout",
     "output_type": "stream",
     "text": [
      "earthquake number 405 of 1026 done. It was 20200104_071818.a\n",
      "earthquake number 406 of 1026 done. It was 20200103_152854.a\n",
      "earthquake number 407 of 1026 done. It was 20200229_064342.a\n"
     ]
    },
    {
     "name": "stderr",
     "output_type": "stream",
     "text": [
      " WARNING (norm_resp): computed and reported sensitivities differ by more than 5 percent. \n",
      "\t Execution continuing.\n",
      " WARNING (norm_resp): computed and reported sensitivities differ by more than 5 percent. \n",
      "\t Execution continuing.\n",
      " WARNING (norm_resp): computed and reported sensitivities differ by more than 5 percent. \n",
      "\t Execution continuing.\n"
     ]
    },
    {
     "name": "stdout",
     "output_type": "stream",
     "text": [
      "earthquake number 408 of 1026 done. It was 20200225_230337.a\n"
     ]
    },
    {
     "name": "stderr",
     "output_type": "stream",
     "text": [
      " WARNING (norm_resp): computed and reported sensitivities differ by more than 5 percent. \n",
      "\t Execution continuing.\n",
      " WARNING (norm_resp): computed and reported sensitivities differ by more than 5 percent. \n",
      "\t Execution continuing.\n"
     ]
    },
    {
     "name": "stdout",
     "output_type": "stream",
     "text": [
      "earthquake number 409 of 1026 done. It was 20200223_160031.a\n"
     ]
    },
    {
     "name": "stderr",
     "output_type": "stream",
     "text": [
      " WARNING (norm_resp): computed and reported sensitivities differ by more than 5 percent. \n",
      "\t Execution continuing.\n",
      " WARNING (norm_resp): computed and reported sensitivities differ by more than 5 percent. \n",
      "\t Execution continuing.\n"
     ]
    },
    {
     "name": "stdout",
     "output_type": "stream",
     "text": [
      "earthquake number 410 of 1026 done. It was 20200223_055301.a\n",
      "earthquake number 411 of 1026 done. It was 20200216_220544.a\n",
      "earthquake number 412 of 1026 done. It was 20200215_033156.a\n",
      "earthquake number 413 of 1026 done. It was 20200214_201630.a\n",
      "earthquake number 414 of 1026 done. It was 20200213_055038.a\n",
      "earthquake number 415 of 1026 done. It was 20200211_135002.a\n",
      "earthquake number 416 of 1026 done. It was 20200208_061757.a\n",
      "earthquake number 417 of 1026 done. It was 20200206_092416.a\n"
     ]
    },
    {
     "name": "stderr",
     "output_type": "stream",
     "text": [
      "/home/earthquakes1/software/Mageia8/anaconda3/lib/python3.9/site-packages/obspy/io/stationxml/core.py:96: UserWarning: The StationXML file has version 1, ObsPy can read versions (1.0, 1.1). Proceed with caution.\n",
      "  warnings.warn(\"The StationXML file has version %s, ObsPy can \"\n",
      "/home/earthquakes1/software/Mageia8/anaconda3/lib/python3.9/site-packages/obspy/io/stationxml/core.py:96: UserWarning: The StationXML file has version 1, ObsPy can read versions (1.0, 1.1). Proceed with caution.\n",
      "  warnings.warn(\"The StationXML file has version %s, ObsPy can \"\n"
     ]
    },
    {
     "name": "stdout",
     "output_type": "stream",
     "text": [
      "earthquake number 418 of 1026 done. It was 20200204_131923.a\n"
     ]
    },
    {
     "name": "stderr",
     "output_type": "stream",
     "text": [
      "/home/earthquakes1/software/Mageia8/anaconda3/lib/python3.9/site-packages/obspy/io/stationxml/core.py:96: UserWarning: The StationXML file has version 1, ObsPy can read versions (1.0, 1.1). Proceed with caution.\n",
      "  warnings.warn(\"The StationXML file has version %s, ObsPy can \"\n",
      "/home/earthquakes1/software/Mageia8/anaconda3/lib/python3.9/site-packages/obspy/io/stationxml/core.py:96: UserWarning: The StationXML file has version 1, ObsPy can read versions (1.0, 1.1). Proceed with caution.\n",
      "  warnings.warn(\"The StationXML file has version %s, ObsPy can \"\n",
      "/home/earthquakes1/software/Mageia8/anaconda3/lib/python3.9/site-packages/obspy/io/stationxml/core.py:96: UserWarning: The StationXML file has version 1, ObsPy can read versions (1.0, 1.1). Proceed with caution.\n",
      "  warnings.warn(\"The StationXML file has version %s, ObsPy can \"\n",
      "/home/earthquakes1/software/Mageia8/anaconda3/lib/python3.9/site-packages/obspy/io/stationxml/core.py:96: UserWarning: The StationXML file has version 1, ObsPy can read versions (1.0, 1.1). Proceed with caution.\n",
      "  warnings.warn(\"The StationXML file has version %s, ObsPy can \"\n",
      "/home/earthquakes1/software/Mageia8/anaconda3/lib/python3.9/site-packages/obspy/io/stationxml/core.py:96: UserWarning: The StationXML file has version 1, ObsPy can read versions (1.0, 1.1). Proceed with caution.\n",
      "  warnings.warn(\"The StationXML file has version %s, ObsPy can \"\n",
      "/home/earthquakes1/software/Mageia8/anaconda3/lib/python3.9/site-packages/obspy/io/stationxml/core.py:96: UserWarning: The StationXML file has version 1, ObsPy can read versions (1.0, 1.1). Proceed with caution.\n",
      "  warnings.warn(\"The StationXML file has version %s, ObsPy can \"\n",
      "/home/earthquakes1/software/Mageia8/anaconda3/lib/python3.9/site-packages/obspy/io/stationxml/core.py:96: UserWarning: The StationXML file has version 1, ObsPy can read versions (1.0, 1.1). Proceed with caution.\n",
      "  warnings.warn(\"The StationXML file has version %s, ObsPy can \"\n",
      "/home/earthquakes1/software/Mageia8/anaconda3/lib/python3.9/site-packages/obspy/io/stationxml/core.py:96: UserWarning: The StationXML file has version 1, ObsPy can read versions (1.0, 1.1). Proceed with caution.\n",
      "  warnings.warn(\"The StationXML file has version %s, ObsPy can \"\n",
      "/home/earthquakes1/software/Mageia8/anaconda3/lib/python3.9/site-packages/obspy/io/stationxml/core.py:96: UserWarning: The StationXML file has version 1, ObsPy can read versions (1.0, 1.1). Proceed with caution.\n",
      "  warnings.warn(\"The StationXML file has version %s, ObsPy can \"\n",
      "/home/earthquakes1/software/Mageia8/anaconda3/lib/python3.9/site-packages/obspy/io/stationxml/core.py:96: UserWarning: The StationXML file has version 1, ObsPy can read versions (1.0, 1.1). Proceed with caution.\n",
      "  warnings.warn(\"The StationXML file has version %s, ObsPy can \"\n",
      "/home/earthquakes1/software/Mageia8/anaconda3/lib/python3.9/site-packages/obspy/io/stationxml/core.py:96: UserWarning: The StationXML file has version 1, ObsPy can read versions (1.0, 1.1). Proceed with caution.\n",
      "  warnings.warn(\"The StationXML file has version %s, ObsPy can \"\n",
      "/home/earthquakes1/software/Mageia8/anaconda3/lib/python3.9/site-packages/obspy/io/stationxml/core.py:96: UserWarning: The StationXML file has version 1, ObsPy can read versions (1.0, 1.1). Proceed with caution.\n",
      "  warnings.warn(\"The StationXML file has version %s, ObsPy can \"\n",
      "/home/earthquakes1/software/Mageia8/anaconda3/lib/python3.9/site-packages/obspy/io/stationxml/core.py:96: UserWarning: The StationXML file has version 1, ObsPy can read versions (1.0, 1.1). Proceed with caution.\n",
      "  warnings.warn(\"The StationXML file has version %s, ObsPy can \"\n",
      "/home/earthquakes1/software/Mageia8/anaconda3/lib/python3.9/site-packages/obspy/io/stationxml/core.py:96: UserWarning: The StationXML file has version 1, ObsPy can read versions (1.0, 1.1). Proceed with caution.\n",
      "  warnings.warn(\"The StationXML file has version %s, ObsPy can \"\n",
      "/home/earthquakes1/software/Mageia8/anaconda3/lib/python3.9/site-packages/obspy/io/stationxml/core.py:96: UserWarning: The StationXML file has version 1, ObsPy can read versions (1.0, 1.1). Proceed with caution.\n",
      "  warnings.warn(\"The StationXML file has version %s, ObsPy can \"\n",
      "/home/earthquakes1/software/Mageia8/anaconda3/lib/python3.9/site-packages/obspy/io/stationxml/core.py:96: UserWarning: The StationXML file has version 1, ObsPy can read versions (1.0, 1.1). Proceed with caution.\n",
      "  warnings.warn(\"The StationXML file has version %s, ObsPy can \"\n",
      "/home/earthquakes1/software/Mageia8/anaconda3/lib/python3.9/site-packages/obspy/io/stationxml/core.py:96: UserWarning: The StationXML file has version 1, ObsPy can read versions (1.0, 1.1). Proceed with caution.\n",
      "  warnings.warn(\"The StationXML file has version %s, ObsPy can \"\n",
      "/home/earthquakes1/software/Mageia8/anaconda3/lib/python3.9/site-packages/obspy/io/stationxml/core.py:96: UserWarning: The StationXML file has version 1, ObsPy can read versions (1.0, 1.1). Proceed with caution.\n",
      "  warnings.warn(\"The StationXML file has version %s, ObsPy can \"\n",
      "/home/earthquakes1/software/Mageia8/anaconda3/lib/python3.9/site-packages/obspy/io/stationxml/core.py:96: UserWarning: The StationXML file has version 1, ObsPy can read versions (1.0, 1.1). Proceed with caution.\n",
      "  warnings.warn(\"The StationXML file has version %s, ObsPy can \"\n",
      "/home/earthquakes1/software/Mageia8/anaconda3/lib/python3.9/site-packages/obspy/io/stationxml/core.py:96: UserWarning: The StationXML file has version 1, ObsPy can read versions (1.0, 1.1). Proceed with caution.\n",
      "  warnings.warn(\"The StationXML file has version %s, ObsPy can \"\n",
      "/home/earthquakes1/software/Mageia8/anaconda3/lib/python3.9/site-packages/obspy/io/stationxml/core.py:96: UserWarning: The StationXML file has version 1, ObsPy can read versions (1.0, 1.1). Proceed with caution.\n",
      "  warnings.warn(\"The StationXML file has version %s, ObsPy can \"\n",
      "/home/earthquakes1/software/Mageia8/anaconda3/lib/python3.9/site-packages/obspy/io/stationxml/core.py:96: UserWarning: The StationXML file has version 1, ObsPy can read versions (1.0, 1.1). Proceed with caution.\n",
      "  warnings.warn(\"The StationXML file has version %s, ObsPy can \"\n",
      "/home/earthquakes1/software/Mageia8/anaconda3/lib/python3.9/site-packages/obspy/io/stationxml/core.py:96: UserWarning: The StationXML file has version 1, ObsPy can read versions (1.0, 1.1). Proceed with caution.\n",
      "  warnings.warn(\"The StationXML file has version %s, ObsPy can \"\n",
      "/home/earthquakes1/software/Mageia8/anaconda3/lib/python3.9/site-packages/obspy/io/stationxml/core.py:96: UserWarning: The StationXML file has version 1, ObsPy can read versions (1.0, 1.1). Proceed with caution.\n",
      "  warnings.warn(\"The StationXML file has version %s, ObsPy can \"\n",
      "/home/earthquakes1/software/Mageia8/anaconda3/lib/python3.9/site-packages/obspy/io/stationxml/core.py:96: UserWarning: The StationXML file has version 1, ObsPy can read versions (1.0, 1.1). Proceed with caution.\n",
      "  warnings.warn(\"The StationXML file has version %s, ObsPy can \"\n",
      "/home/earthquakes1/software/Mageia8/anaconda3/lib/python3.9/site-packages/obspy/io/stationxml/core.py:96: UserWarning: The StationXML file has version 1, ObsPy can read versions (1.0, 1.1). Proceed with caution.\n",
      "  warnings.warn(\"The StationXML file has version %s, ObsPy can \"\n",
      "/home/earthquakes1/software/Mageia8/anaconda3/lib/python3.9/site-packages/obspy/io/stationxml/core.py:96: UserWarning: The StationXML file has version 1, ObsPy can read versions (1.0, 1.1). Proceed with caution.\n",
      "  warnings.warn(\"The StationXML file has version %s, ObsPy can \"\n"
     ]
    },
    {
     "name": "stdout",
     "output_type": "stream",
     "text": [
      "earthquake number 419 of 1026 done. It was 20200204_094722.a\n",
      "earthquake number 420 of 1026 done. It was 20200201_023557.a\n",
      "earthquake number 421 of 1026 done. It was 20200329_181917.a\n",
      "earthquake number 422 of 1026 done. It was 20200326_151627.a\n",
      "earthquake number 423 of 1026 done. It was 20200325_025837.a\n",
      "earthquake number 424 of 1026 done. It was 20200322_192141.a\n",
      "earthquake number 425 of 1026 done. It was 20200322_052403.a\n",
      "earthquake number 426 of 1026 done. It was 20200321_004951.a\n",
      "earthquake number 427 of 1026 done. It was 20200318_220820.a\n"
     ]
    },
    {
     "name": "stderr",
     "output_type": "stream",
     "text": [
      "/home/earthquakes1/software/Mageia8/anaconda3/lib/python3.9/site-packages/obspy/io/stationxml/core.py:96: UserWarning: The StationXML file has version 1, ObsPy can read versions (1.0, 1.1). Proceed with caution.\n",
      "  warnings.warn(\"The StationXML file has version %s, ObsPy can \"\n",
      "/home/earthquakes1/software/Mageia8/anaconda3/lib/python3.9/site-packages/obspy/io/stationxml/core.py:96: UserWarning: The StationXML file has version 1, ObsPy can read versions (1.0, 1.1). Proceed with caution.\n",
      "  warnings.warn(\"The StationXML file has version %s, ObsPy can \"\n",
      "/home/earthquakes1/software/Mageia8/anaconda3/lib/python3.9/site-packages/obspy/io/stationxml/core.py:96: UserWarning: The StationXML file has version 1, ObsPy can read versions (1.0, 1.1). Proceed with caution.\n",
      "  warnings.warn(\"The StationXML file has version %s, ObsPy can \"\n",
      "/home/earthquakes1/software/Mageia8/anaconda3/lib/python3.9/site-packages/obspy/io/stationxml/core.py:96: UserWarning: The StationXML file has version 1, ObsPy can read versions (1.0, 1.1). Proceed with caution.\n",
      "  warnings.warn(\"The StationXML file has version %s, ObsPy can \"\n",
      "/home/earthquakes1/software/Mageia8/anaconda3/lib/python3.9/site-packages/obspy/io/stationxml/core.py:96: UserWarning: The StationXML file has version 1, ObsPy can read versions (1.0, 1.1). Proceed with caution.\n",
      "  warnings.warn(\"The StationXML file has version %s, ObsPy can \"\n"
     ]
    },
    {
     "name": "stdout",
     "output_type": "stream",
     "text": [
      "earthquake number 428 of 1026 done. It was 20200318_165618.a\n"
     ]
    },
    {
     "name": "stderr",
     "output_type": "stream",
     "text": [
      "/home/earthquakes1/software/Mageia8/anaconda3/lib/python3.9/site-packages/obspy/io/stationxml/core.py:96: UserWarning: The StationXML file has version 1, ObsPy can read versions (1.0, 1.1). Proceed with caution.\n",
      "  warnings.warn(\"The StationXML file has version %s, ObsPy can \"\n",
      "/home/earthquakes1/software/Mageia8/anaconda3/lib/python3.9/site-packages/obspy/io/stationxml/core.py:96: UserWarning: The StationXML file has version 1, ObsPy can read versions (1.0, 1.1). Proceed with caution.\n",
      "  warnings.warn(\"The StationXML file has version %s, ObsPy can \"\n",
      "/home/earthquakes1/software/Mageia8/anaconda3/lib/python3.9/site-packages/obspy/io/stationxml/core.py:96: UserWarning: The StationXML file has version 1, ObsPy can read versions (1.0, 1.1). Proceed with caution.\n",
      "  warnings.warn(\"The StationXML file has version %s, ObsPy can \"\n",
      "/home/earthquakes1/software/Mageia8/anaconda3/lib/python3.9/site-packages/obspy/io/stationxml/core.py:96: UserWarning: The StationXML file has version 1, ObsPy can read versions (1.0, 1.1). Proceed with caution.\n",
      "  warnings.warn(\"The StationXML file has version %s, ObsPy can \"\n",
      "/home/earthquakes1/software/Mageia8/anaconda3/lib/python3.9/site-packages/obspy/io/stationxml/core.py:96: UserWarning: The StationXML file has version 1, ObsPy can read versions (1.0, 1.1). Proceed with caution.\n",
      "  warnings.warn(\"The StationXML file has version %s, ObsPy can \"\n"
     ]
    },
    {
     "name": "stdout",
     "output_type": "stream",
     "text": [
      "earthquake number 429 of 1026 done. It was 20200314_100515.a\n",
      "earthquake number 430 of 1026 done. It was 20200313_020802.a\n",
      "earthquake number 431 of 1026 done. It was 20200312_171846.a\n",
      "earthquake number 432 of 1026 done. It was 20200310_134420.a\n",
      "earthquake number 433 of 1026 done. It was 20200309_025908.a\n",
      "earthquake number 434 of 1026 done. It was 20200307_205804.a\n",
      "earthquake number 435 of 1026 done. It was 20200307_035203.a\n",
      "earthquake number 436 of 1026 done. It was 20200307_024048.a\n"
     ]
    },
    {
     "name": "stderr",
     "output_type": "stream",
     "text": [
      "/home/earthquakes1/software/Mageia8/anaconda3/lib/python3.9/site-packages/obspy/io/stationxml/core.py:96: UserWarning: The StationXML file has version 1, ObsPy can read versions (1.0, 1.1). Proceed with caution.\n",
      "  warnings.warn(\"The StationXML file has version %s, ObsPy can \"\n"
     ]
    },
    {
     "name": "stdout",
     "output_type": "stream",
     "text": [
      "earthquake number 437 of 1026 done. It was 20200305_131146.a\n"
     ]
    },
    {
     "name": "stderr",
     "output_type": "stream",
     "text": [
      "/home/earthquakes1/software/Mageia8/anaconda3/lib/python3.9/site-packages/obspy/io/stationxml/core.py:96: UserWarning: The StationXML file has version 1, ObsPy can read versions (1.0, 1.1). Proceed with caution.\n",
      "  warnings.warn(\"The StationXML file has version %s, ObsPy can \"\n",
      "/home/earthquakes1/software/Mageia8/anaconda3/lib/python3.9/site-packages/obspy/io/stationxml/core.py:96: UserWarning: The StationXML file has version 1, ObsPy can read versions (1.0, 1.1). Proceed with caution.\n",
      "  warnings.warn(\"The StationXML file has version %s, ObsPy can \"\n"
     ]
    },
    {
     "name": "stdout",
     "output_type": "stream",
     "text": [
      "earthquake number 438 of 1026 done. It was 20200304_091134.a\n",
      "earthquake number 439 of 1026 done. It was 20200430_221031.a\n",
      "earthquake number 440 of 1026 done. It was 20200430_092312.a\n",
      "earthquake number 441 of 1026 done. It was 20200429_053716.a\n"
     ]
    },
    {
     "name": "stderr",
     "output_type": "stream",
     "text": [
      "/home/earthquakes1/software/Mageia8/anaconda3/lib/python3.9/site-packages/obspy/io/stationxml/core.py:96: UserWarning: The StationXML file has version 1, ObsPy can read versions (1.0, 1.1). Proceed with caution.\n",
      "  warnings.warn(\"The StationXML file has version %s, ObsPy can \"\n",
      "/home/earthquakes1/software/Mageia8/anaconda3/lib/python3.9/site-packages/obspy/io/stationxml/core.py:96: UserWarning: The StationXML file has version 1, ObsPy can read versions (1.0, 1.1). Proceed with caution.\n",
      "  warnings.warn(\"The StationXML file has version %s, ObsPy can \"\n",
      "/home/earthquakes1/software/Mageia8/anaconda3/lib/python3.9/site-packages/obspy/io/stationxml/core.py:96: UserWarning: The StationXML file has version 1, ObsPy can read versions (1.0, 1.1). Proceed with caution.\n",
      "  warnings.warn(\"The StationXML file has version %s, ObsPy can \"\n",
      "/home/earthquakes1/software/Mageia8/anaconda3/lib/python3.9/site-packages/obspy/io/stationxml/core.py:96: UserWarning: The StationXML file has version 1, ObsPy can read versions (1.0, 1.1). Proceed with caution.\n",
      "  warnings.warn(\"The StationXML file has version %s, ObsPy can \"\n",
      "/home/earthquakes1/software/Mageia8/anaconda3/lib/python3.9/site-packages/obspy/io/stationxml/core.py:96: UserWarning: The StationXML file has version 1, ObsPy can read versions (1.0, 1.1). Proceed with caution.\n",
      "  warnings.warn(\"The StationXML file has version %s, ObsPy can \"\n",
      "/home/earthquakes1/software/Mageia8/anaconda3/lib/python3.9/site-packages/obspy/io/stationxml/core.py:96: UserWarning: The StationXML file has version 1, ObsPy can read versions (1.0, 1.1). Proceed with caution.\n",
      "  warnings.warn(\"The StationXML file has version %s, ObsPy can \"\n",
      "/home/earthquakes1/software/Mageia8/anaconda3/lib/python3.9/site-packages/obspy/io/stationxml/core.py:96: UserWarning: The StationXML file has version 1, ObsPy can read versions (1.0, 1.1). Proceed with caution.\n",
      "  warnings.warn(\"The StationXML file has version %s, ObsPy can \"\n",
      "/home/earthquakes1/software/Mageia8/anaconda3/lib/python3.9/site-packages/obspy/io/stationxml/core.py:96: UserWarning: The StationXML file has version 1, ObsPy can read versions (1.0, 1.1). Proceed with caution.\n",
      "  warnings.warn(\"The StationXML file has version %s, ObsPy can \"\n",
      "/home/earthquakes1/software/Mageia8/anaconda3/lib/python3.9/site-packages/obspy/io/stationxml/core.py:96: UserWarning: The StationXML file has version 1, ObsPy can read versions (1.0, 1.1). Proceed with caution.\n",
      "  warnings.warn(\"The StationXML file has version %s, ObsPy can \"\n",
      "/home/earthquakes1/software/Mageia8/anaconda3/lib/python3.9/site-packages/obspy/io/stationxml/core.py:96: UserWarning: The StationXML file has version 1, ObsPy can read versions (1.0, 1.1). Proceed with caution.\n",
      "  warnings.warn(\"The StationXML file has version %s, ObsPy can \"\n",
      "/home/earthquakes1/software/Mageia8/anaconda3/lib/python3.9/site-packages/obspy/io/stationxml/core.py:96: UserWarning: The StationXML file has version 1, ObsPy can read versions (1.0, 1.1). Proceed with caution.\n",
      "  warnings.warn(\"The StationXML file has version %s, ObsPy can \"\n",
      "/home/earthquakes1/software/Mageia8/anaconda3/lib/python3.9/site-packages/obspy/io/stationxml/core.py:96: UserWarning: The StationXML file has version 1, ObsPy can read versions (1.0, 1.1). Proceed with caution.\n",
      "  warnings.warn(\"The StationXML file has version %s, ObsPy can \"\n"
     ]
    },
    {
     "name": "stdout",
     "output_type": "stream",
     "text": [
      "earthquake number 442 of 1026 done. It was 20200426_225211.a\n",
      "earthquake number 443 of 1026 done. It was 20200423_044423.a\n",
      "earthquake number 444 of 1026 done. It was 20200422_130028.a\n"
     ]
    },
    {
     "name": "stderr",
     "output_type": "stream",
     "text": [
      " WARNING: FIR normalized: sum[coef]=-6.913431E-05;     \n",
      " WARNING: FIR normalized: sum[coef]=-6.913431E-05;     \n",
      " WARNING: FIR normalized: sum[coef]=-6.913431E-05;     \n",
      " WARNING: FIR normalized: sum[coef]=-6.913431E-05;     \n",
      " WARNING: FIR normalized: sum[coef]=-6.913431E-05;     \n",
      " WARNING: FIR normalized: sum[coef]=-6.913431E-05;     \n",
      " WARNING: FIR normalized: sum[coef]=-6.913431E-05;     \n",
      " WARNING: FIR normalized: sum[coef]=-6.913431E-05;     \n",
      " WARNING: FIR normalized: sum[coef]=-6.913431E-05;     \n",
      " WARNING: FIR normalized: sum[coef]=-6.913431E-05;     \n",
      " WARNING: FIR normalized: sum[coef]=-6.913431E-05;     \n",
      " WARNING: FIR normalized: sum[coef]=-6.913431E-05;     \n",
      " WARNING: FIR normalized: sum[coef]=-6.913431E-05;     \n",
      " WARNING: FIR normalized: sum[coef]=-6.913431E-05;     \n",
      " WARNING: FIR normalized: sum[coef]=-6.913431E-05;     \n",
      " WARNING (norm_resp): computed and reported sensitivities differ by more than 5 percent. \n",
      "\t Execution continuing.\n",
      " WARNING (norm_resp): computed and reported sensitivities differ by more than 5 percent. \n",
      "\t Execution continuing.\n",
      " WARNING (norm_resp): computed and reported sensitivities differ by more than 5 percent. \n",
      "\t Execution continuing.\n",
      " WARNING (norm_resp): computed and reported sensitivities differ by more than 5 percent. \n",
      "\t Execution continuing.\n",
      " WARNING (norm_resp): computed and reported sensitivities differ by more than 5 percent. \n",
      "\t Execution continuing.\n",
      " WARNING (norm_resp): computed and reported sensitivities differ by more than 5 percent. \n",
      "\t Execution continuing.\n",
      " WARNING (norm_resp): computed and reported sensitivities differ by more than 5 percent. \n",
      "\t Execution continuing.\n",
      " WARNING (norm_resp): computed and reported sensitivities differ by more than 5 percent. \n",
      "\t Execution continuing.\n",
      " WARNING (norm_resp): computed and reported sensitivities differ by more than 5 percent. \n",
      "\t Execution continuing.\n",
      " WARNING (norm_resp): computed and reported sensitivities differ by more than 5 percent. \n",
      "\t Execution continuing.\n",
      " WARNING (norm_resp): computed and reported sensitivities differ by more than 5 percent. \n",
      "\t Execution continuing.\n",
      " WARNING (norm_resp): computed and reported sensitivities differ by more than 5 percent. \n",
      "\t Execution continuing.\n",
      " WARNING: FIR normalized: sum[coef]=-6.913431E-05;     \n",
      " WARNING: FIR normalized: sum[coef]=-6.913431E-05;     \n",
      " WARNING: FIR normalized: sum[coef]=-6.913431E-05;     \n",
      " WARNING (norm_resp): computed and reported sensitivities differ by more than 5 percent. \n",
      "\t Execution continuing.\n",
      " WARNING (norm_resp): computed and reported sensitivities differ by more than 5 percent. \n",
      "\t Execution continuing.\n",
      " WARNING (norm_resp): computed and reported sensitivities differ by more than 5 percent. \n",
      "\t Execution continuing.\n",
      " WARNING: FIR normalized: sum[coef]=-6.913431E-05;     \n",
      " WARNING: FIR normalized: sum[coef]=-6.913431E-05;     \n",
      " WARNING: FIR normalized: sum[coef]=-6.913431E-05;     \n",
      " WARNING: FIR normalized: sum[coef]=-6.913431E-05;     \n",
      " WARNING (norm_resp): computed and reported sensitivities differ by more than 5 percent. \n",
      "\t Execution continuing.\n",
      " WARNING: FIR normalized: sum[coef]=-6.913431E-05;     \n",
      " WARNING (norm_resp): computed and reported sensitivities differ by more than 5 percent. \n",
      "\t Execution continuing.\n",
      " WARNING: FIR normalized: sum[coef]=-6.913431E-05;     \n",
      " WARNING (norm_resp): computed and reported sensitivities differ by more than 5 percent. \n",
      "\t Execution continuing.\n"
     ]
    },
    {
     "name": "stdout",
     "output_type": "stream",
     "text": [
      "earthquake number 445 of 1026 done. It was 20200420_035449.a\n"
     ]
    },
    {
     "name": "stderr",
     "output_type": "stream",
     "text": [
      "/home/earthquakes1/software/Mageia8/anaconda3/lib/python3.9/site-packages/obspy/io/stationxml/core.py:96: UserWarning: The StationXML file has version 1, ObsPy can read versions (1.0, 1.1). Proceed with caution.\n",
      "  warnings.warn(\"The StationXML file has version %s, ObsPy can \"\n",
      "/home/earthquakes1/software/Mageia8/anaconda3/lib/python3.9/site-packages/obspy/io/stationxml/core.py:96: UserWarning: The StationXML file has version 1, ObsPy can read versions (1.0, 1.1). Proceed with caution.\n",
      "  warnings.warn(\"The StationXML file has version %s, ObsPy can \"\n"
     ]
    },
    {
     "name": "stdout",
     "output_type": "stream",
     "text": [
      "earthquake number 446 of 1026 done. It was 20200418_210906.a\n",
      "earthquake number 447 of 1026 done. It was 20200415_133033.a\n",
      "earthquake number 448 of 1026 done. It was 20200414_160210.a\n"
     ]
    },
    {
     "name": "stderr",
     "output_type": "stream",
     "text": [
      "/home/earthquakes1/software/Mageia8/anaconda3/lib/python3.9/site-packages/obspy/io/stationxml/core.py:96: UserWarning: The StationXML file has version 1, ObsPy can read versions (1.0, 1.1). Proceed with caution.\n",
      "  warnings.warn(\"The StationXML file has version %s, ObsPy can \"\n",
      "/home/earthquakes1/software/Mageia8/anaconda3/lib/python3.9/site-packages/obspy/io/stationxml/core.py:96: UserWarning: The StationXML file has version 1, ObsPy can read versions (1.0, 1.1). Proceed with caution.\n",
      "  warnings.warn(\"The StationXML file has version %s, ObsPy can \"\n"
     ]
    },
    {
     "name": "stdout",
     "output_type": "stream",
     "text": [
      "earthquake number 449 of 1026 done. It was 20200414_010647.a\n",
      "earthquake number 450 of 1026 done. It was 20200412_065747.a\n",
      "earthquake number 451 of 1026 done. It was 20200411_143637.a\n",
      "earthquake number 452 of 1026 done. It was 20200411_102254.a\n"
     ]
    },
    {
     "name": "stderr",
     "output_type": "stream",
     "text": [
      "/home/earthquakes1/software/Mageia8/anaconda3/lib/python3.9/site-packages/obspy/io/stationxml/core.py:96: UserWarning: The StationXML file has version 1, ObsPy can read versions (1.0, 1.1). Proceed with caution.\n",
      "  warnings.warn(\"The StationXML file has version %s, ObsPy can \"\n",
      "/home/earthquakes1/software/Mageia8/anaconda3/lib/python3.9/site-packages/obspy/io/stationxml/core.py:96: UserWarning: The StationXML file has version 1, ObsPy can read versions (1.0, 1.1). Proceed with caution.\n",
      "  warnings.warn(\"The StationXML file has version %s, ObsPy can \"\n"
     ]
    },
    {
     "name": "stdout",
     "output_type": "stream",
     "text": [
      "earthquake number 453 of 1026 done. It was 20200409_160753.a\n",
      "earthquake number 454 of 1026 done. It was 20200409_140651.a\n",
      "earthquake number 455 of 1026 done. It was 20200409_094359.a\n",
      "earthquake number 456 of 1026 done. It was 20200408_100232.a\n",
      "earthquake number 457 of 1026 done. It was 20200402_101541.a\n",
      "earthquake number 458 of 1026 done. It was 20200531_111138.a\n",
      "earthquake number 459 of 1026 done. It was 20200529_161319.a\n",
      "earthquake number 460 of 1026 done. It was 20200529_100518.a\n",
      "earthquake number 461 of 1026 done. It was 20200527_101154.a\n",
      "earthquake number 462 of 1026 done. It was 20200527_080555.a\n",
      "earthquake number 463 of 1026 done. It was 20200527_070910.a\n",
      "earthquake number 464 of 1026 done. It was 20200527_010952.a\n",
      "earthquake number 465 of 1026 done. It was 20200526_225212.a\n"
     ]
    },
    {
     "name": "stderr",
     "output_type": "stream",
     "text": [
      "/home/earthquakes1/software/Mageia8/anaconda3/lib/python3.9/site-packages/obspy/io/stationxml/core.py:96: UserWarning: The StationXML file has version 1, ObsPy can read versions (1.0, 1.1). Proceed with caution.\n",
      "  warnings.warn(\"The StationXML file has version %s, ObsPy can \"\n",
      "/home/earthquakes1/software/Mageia8/anaconda3/lib/python3.9/site-packages/obspy/io/stationxml/core.py:96: UserWarning: The StationXML file has version 1, ObsPy can read versions (1.0, 1.1). Proceed with caution.\n",
      "  warnings.warn(\"The StationXML file has version %s, ObsPy can \"\n",
      "/home/earthquakes1/software/Mageia8/anaconda3/lib/python3.9/site-packages/obspy/io/stationxml/core.py:96: UserWarning: The StationXML file has version 1, ObsPy can read versions (1.0, 1.1). Proceed with caution.\n",
      "  warnings.warn(\"The StationXML file has version %s, ObsPy can \"\n",
      "/home/earthquakes1/software/Mageia8/anaconda3/lib/python3.9/site-packages/obspy/io/stationxml/core.py:96: UserWarning: The StationXML file has version 1, ObsPy can read versions (1.0, 1.1). Proceed with caution.\n",
      "  warnings.warn(\"The StationXML file has version %s, ObsPy can \"\n",
      "/home/earthquakes1/software/Mageia8/anaconda3/lib/python3.9/site-packages/obspy/io/stationxml/core.py:96: UserWarning: The StationXML file has version 1, ObsPy can read versions (1.0, 1.1). Proceed with caution.\n",
      "  warnings.warn(\"The StationXML file has version %s, ObsPy can \"\n",
      "/home/earthquakes1/software/Mageia8/anaconda3/lib/python3.9/site-packages/obspy/io/stationxml/core.py:96: UserWarning: The StationXML file has version 1, ObsPy can read versions (1.0, 1.1). Proceed with caution.\n",
      "  warnings.warn(\"The StationXML file has version %s, ObsPy can \"\n",
      "/home/earthquakes1/software/Mageia8/anaconda3/lib/python3.9/site-packages/obspy/io/stationxml/core.py:96: UserWarning: The StationXML file has version 1, ObsPy can read versions (1.0, 1.1). Proceed with caution.\n",
      "  warnings.warn(\"The StationXML file has version %s, ObsPy can \"\n",
      "/home/earthquakes1/software/Mageia8/anaconda3/lib/python3.9/site-packages/obspy/io/stationxml/core.py:96: UserWarning: The StationXML file has version 1, ObsPy can read versions (1.0, 1.1). Proceed with caution.\n",
      "  warnings.warn(\"The StationXML file has version %s, ObsPy can \"\n",
      "/home/earthquakes1/software/Mageia8/anaconda3/lib/python3.9/site-packages/obspy/io/stationxml/core.py:96: UserWarning: The StationXML file has version 1, ObsPy can read versions (1.0, 1.1). Proceed with caution.\n",
      "  warnings.warn(\"The StationXML file has version %s, ObsPy can \"\n",
      "/home/earthquakes1/software/Mageia8/anaconda3/lib/python3.9/site-packages/obspy/io/stationxml/core.py:96: UserWarning: The StationXML file has version 1, ObsPy can read versions (1.0, 1.1). Proceed with caution.\n",
      "  warnings.warn(\"The StationXML file has version %s, ObsPy can \"\n",
      "/home/earthquakes1/software/Mageia8/anaconda3/lib/python3.9/site-packages/obspy/io/stationxml/core.py:96: UserWarning: The StationXML file has version 1, ObsPy can read versions (1.0, 1.1). Proceed with caution.\n",
      "  warnings.warn(\"The StationXML file has version %s, ObsPy can \"\n",
      "/home/earthquakes1/software/Mageia8/anaconda3/lib/python3.9/site-packages/obspy/io/stationxml/core.py:96: UserWarning: The StationXML file has version 1, ObsPy can read versions (1.0, 1.1). Proceed with caution.\n",
      "  warnings.warn(\"The StationXML file has version %s, ObsPy can \"\n",
      "/home/earthquakes1/software/Mageia8/anaconda3/lib/python3.9/site-packages/obspy/io/stationxml/core.py:96: UserWarning: The StationXML file has version 1, ObsPy can read versions (1.0, 1.1). Proceed with caution.\n",
      "  warnings.warn(\"The StationXML file has version %s, ObsPy can \"\n",
      "/home/earthquakes1/software/Mageia8/anaconda3/lib/python3.9/site-packages/obspy/io/stationxml/core.py:96: UserWarning: The StationXML file has version 1, ObsPy can read versions (1.0, 1.1). Proceed with caution.\n",
      "  warnings.warn(\"The StationXML file has version %s, ObsPy can \"\n",
      "/home/earthquakes1/software/Mageia8/anaconda3/lib/python3.9/site-packages/obspy/io/stationxml/core.py:96: UserWarning: The StationXML file has version 1, ObsPy can read versions (1.0, 1.1). Proceed with caution.\n",
      "  warnings.warn(\"The StationXML file has version %s, ObsPy can \"\n",
      "/home/earthquakes1/software/Mageia8/anaconda3/lib/python3.9/site-packages/obspy/io/stationxml/core.py:96: UserWarning: The StationXML file has version 1, ObsPy can read versions (1.0, 1.1). Proceed with caution.\n",
      "  warnings.warn(\"The StationXML file has version %s, ObsPy can \"\n",
      "/home/earthquakes1/software/Mageia8/anaconda3/lib/python3.9/site-packages/obspy/io/stationxml/core.py:96: UserWarning: The StationXML file has version 1, ObsPy can read versions (1.0, 1.1). Proceed with caution.\n",
      "  warnings.warn(\"The StationXML file has version %s, ObsPy can \"\n",
      "/home/earthquakes1/software/Mageia8/anaconda3/lib/python3.9/site-packages/obspy/io/stationxml/core.py:96: UserWarning: The StationXML file has version 1, ObsPy can read versions (1.0, 1.1). Proceed with caution.\n",
      "  warnings.warn(\"The StationXML file has version %s, ObsPy can \"\n",
      "/home/earthquakes1/software/Mageia8/anaconda3/lib/python3.9/site-packages/obspy/io/stationxml/core.py:96: UserWarning: The StationXML file has version 1, ObsPy can read versions (1.0, 1.1). Proceed with caution.\n",
      "  warnings.warn(\"The StationXML file has version %s, ObsPy can \"\n",
      "/home/earthquakes1/software/Mageia8/anaconda3/lib/python3.9/site-packages/obspy/io/stationxml/core.py:96: UserWarning: The StationXML file has version 1, ObsPy can read versions (1.0, 1.1). Proceed with caution.\n",
      "  warnings.warn(\"The StationXML file has version %s, ObsPy can \"\n",
      "/home/earthquakes1/software/Mageia8/anaconda3/lib/python3.9/site-packages/obspy/io/stationxml/core.py:96: UserWarning: The StationXML file has version 1, ObsPy can read versions (1.0, 1.1). Proceed with caution.\n",
      "  warnings.warn(\"The StationXML file has version %s, ObsPy can \"\n",
      "/home/earthquakes1/software/Mageia8/anaconda3/lib/python3.9/site-packages/obspy/io/stationxml/core.py:96: UserWarning: The StationXML file has version 1, ObsPy can read versions (1.0, 1.1). Proceed with caution.\n",
      "  warnings.warn(\"The StationXML file has version %s, ObsPy can \"\n",
      "/home/earthquakes1/software/Mageia8/anaconda3/lib/python3.9/site-packages/obspy/io/stationxml/core.py:96: UserWarning: The StationXML file has version 1, ObsPy can read versions (1.0, 1.1). Proceed with caution.\n",
      "  warnings.warn(\"The StationXML file has version %s, ObsPy can \"\n"
     ]
    },
    {
     "name": "stdout",
     "output_type": "stream",
     "text": [
      "earthquake number 466 of 1026 done. It was 20200524_195332.a\n",
      "earthquake number 467 of 1026 done. It was 20200523_225012.a\n",
      "earthquake number 468 of 1026 done. It was 20200523_131100.a\n",
      "earthquake number 469 of 1026 done. It was 20200522_034030.a\n",
      "earthquake number 470 of 1026 done. It was 20200520_203153.a\n",
      "earthquake number 471 of 1026 done. It was 20200520_123653.a\n",
      "earthquake number 472 of 1026 done. It was 20200520_104209.a\n",
      "earthquake number 473 of 1026 done. It was 20200519_041259.a\n",
      "earthquake number 474 of 1026 done. It was 20200518_232235.a\n",
      "earthquake number 475 of 1026 done. It was 20200518_114807.a\n",
      "earthquake number 476 of 1026 done. It was 20200518_041817.a\n",
      "earthquake number 477 of 1026 done. It was 20200516_031544.a\n"
     ]
    },
    {
     "name": "stderr",
     "output_type": "stream",
     "text": [
      "/home/earthquakes1/software/Mageia8/anaconda3/lib/python3.9/site-packages/obspy/io/stationxml/core.py:96: UserWarning: The StationXML file has version 1, ObsPy can read versions (1.0, 1.1). Proceed with caution.\n",
      "  warnings.warn(\"The StationXML file has version %s, ObsPy can \"\n",
      "/home/earthquakes1/software/Mageia8/anaconda3/lib/python3.9/site-packages/obspy/io/stationxml/core.py:96: UserWarning: The StationXML file has version 1, ObsPy can read versions (1.0, 1.1). Proceed with caution.\n",
      "  warnings.warn(\"The StationXML file has version %s, ObsPy can \"\n"
     ]
    },
    {
     "name": "stdout",
     "output_type": "stream",
     "text": [
      "earthquake number 478 of 1026 done. It was 20200515_151855.a\n",
      "earthquake number 479 of 1026 done. It was 20200515_112601.a\n",
      "earthquake number 480 of 1026 done. It was 20200515_110327.a\n",
      "earthquake number 481 of 1026 done. It was 20200510_180422.a\n",
      "earthquake number 482 of 1026 done. It was 20200509_153558.a\n",
      "earthquake number 483 of 1026 done. It was 20200508_224206.a\n",
      "earthquake number 484 of 1026 done. It was 20200506_154312.a\n",
      "earthquake number 485 of 1026 done. It was 20200502_164426.a\n",
      "earthquake number 486 of 1026 done. It was 20200502_133350.a\n",
      "earthquake number 487 of 1026 done. It was 20200502_125106.a\n",
      "earthquake number 488 of 1026 done. It was 20200629_222801.a\n"
     ]
    },
    {
     "name": "stderr",
     "output_type": "stream",
     "text": [
      " WARNING (norm_resp): computed and reported sensitivities differ by more than 5 percent. \n",
      "\t Execution continuing.\n",
      " WARNING (norm_resp): computed and reported sensitivities differ by more than 5 percent. \n",
      "\t Execution continuing.\n",
      " WARNING (norm_resp): computed and reported sensitivities differ by more than 5 percent. \n",
      "\t Execution continuing.\n",
      " WARNING (norm_resp): computed and reported sensitivities differ by more than 5 percent. \n",
      "\t Execution continuing.\n",
      " WARNING (norm_resp): computed and reported sensitivities differ by more than 5 percent. \n",
      "\t Execution continuing.\n",
      " WARNING (norm_resp): computed and reported sensitivities differ by more than 5 percent. \n",
      "\t Execution continuing.\n",
      " WARNING (norm_resp): computed and reported sensitivities differ by more than 5 percent. \n",
      "\t Execution continuing.\n",
      " WARNING (norm_resp): computed and reported sensitivities differ by more than 5 percent. \n",
      "\t Execution continuing.\n"
     ]
    },
    {
     "name": "stdout",
     "output_type": "stream",
     "text": [
      "earthquake number 489 of 1026 done. It was 20200628_174328.a\n"
     ]
    },
    {
     "name": "stderr",
     "output_type": "stream",
     "text": [
      " WARNING (norm_resp): computed and reported sensitivities differ by more than 5 percent. \n",
      "\t Execution continuing.\n",
      " WARNING (norm_resp): computed and reported sensitivities differ by more than 5 percent. \n",
      "\t Execution continuing.\n",
      " WARNING (norm_resp): computed and reported sensitivities differ by more than 5 percent. \n",
      "\t Execution continuing.\n",
      " WARNING (norm_resp): computed and reported sensitivities differ by more than 5 percent. \n",
      "\t Execution continuing.\n",
      " WARNING (norm_resp): computed and reported sensitivities differ by more than 5 percent. \n",
      "\t Execution continuing.\n",
      " WARNING (norm_resp): computed and reported sensitivities differ by more than 5 percent. \n",
      "\t Execution continuing.\n",
      " WARNING (norm_resp): computed and reported sensitivities differ by more than 5 percent. \n",
      "\t Execution continuing.\n",
      " WARNING (norm_resp): computed and reported sensitivities differ by more than 5 percent. \n",
      "\t Execution continuing.\n",
      " WARNING (norm_resp): computed and reported sensitivities differ by more than 5 percent. \n",
      "\t Execution continuing.\n",
      " WARNING (norm_resp): computed and reported sensitivities differ by more than 5 percent. \n",
      "\t Execution continuing.\n",
      " WARNING (norm_resp): computed and reported sensitivities differ by more than 5 percent. \n",
      "\t Execution continuing.\n",
      " WARNING (norm_resp): computed and reported sensitivities differ by more than 5 percent. \n",
      "\t Execution continuing.\n",
      " WARNING (norm_resp): computed and reported sensitivities differ by more than 5 percent. \n",
      "\t Execution continuing.\n",
      " WARNING (norm_resp): computed and reported sensitivities differ by more than 5 percent. \n",
      "\t Execution continuing.\n",
      " WARNING (norm_resp): computed and reported sensitivities differ by more than 5 percent. \n",
      "\t Execution continuing.\n",
      " WARNING (norm_resp): computed and reported sensitivities differ by more than 5 percent. \n",
      "\t Execution continuing.\n",
      " WARNING (norm_resp): computed and reported sensitivities differ by more than 5 percent. \n",
      "\t Execution continuing.\n",
      " WARNING (norm_resp): computed and reported sensitivities differ by more than 5 percent. \n",
      "\t Execution continuing.\n",
      " WARNING (norm_resp): computed and reported sensitivities differ by more than 5 percent. \n",
      "\t Execution continuing.\n",
      " WARNING (norm_resp): computed and reported sensitivities differ by more than 5 percent. \n",
      "\t Execution continuing.\n",
      " WARNING (norm_resp): computed and reported sensitivities differ by more than 5 percent. \n",
      "\t Execution continuing.\n",
      " WARNING (norm_resp): computed and reported sensitivities differ by more than 5 percent. \n",
      "\t Execution continuing.\n",
      " WARNING (norm_resp): computed and reported sensitivities differ by more than 5 percent. \n",
      "\t Execution continuing.\n",
      " WARNING (norm_resp): computed and reported sensitivities differ by more than 5 percent. \n",
      "\t Execution continuing.\n",
      " WARNING (norm_resp): computed and reported sensitivities differ by more than 5 percent. \n",
      "\t Execution continuing.\n",
      " WARNING (norm_resp): computed and reported sensitivities differ by more than 5 percent. \n",
      "\t Execution continuing.\n",
      " WARNING (norm_resp): computed and reported sensitivities differ by more than 5 percent. \n",
      "\t Execution continuing.\n",
      " WARNING (norm_resp): computed and reported sensitivities differ by more than 5 percent. \n",
      "\t Execution continuing.\n",
      " WARNING (norm_resp): computed and reported sensitivities differ by more than 5 percent. \n",
      "\t Execution continuing.\n",
      " WARNING (norm_resp): computed and reported sensitivities differ by more than 5 percent. \n",
      "\t Execution continuing.\n",
      " WARNING (norm_resp): computed and reported sensitivities differ by more than 5 percent. \n",
      "\t Execution continuing.\n",
      " WARNING (norm_resp): computed and reported sensitivities differ by more than 5 percent. \n",
      "\t Execution continuing.\n",
      " WARNING (norm_resp): computed and reported sensitivities differ by more than 5 percent. \n",
      "\t Execution continuing.\n",
      " WARNING (norm_resp): computed and reported sensitivities differ by more than 5 percent. \n",
      "\t Execution continuing.\n",
      " WARNING (norm_resp): computed and reported sensitivities differ by more than 5 percent. \n",
      "\t Execution continuing.\n",
      " WARNING (norm_resp): computed and reported sensitivities differ by more than 5 percent. \n",
      "\t Execution continuing.\n",
      " WARNING (norm_resp): computed and reported sensitivities differ by more than 5 percent. \n",
      "\t Execution continuing.\n",
      " WARNING (norm_resp): computed and reported sensitivities differ by more than 5 percent. \n",
      "\t Execution continuing.\n",
      " WARNING (norm_resp): computed and reported sensitivities differ by more than 5 percent. \n",
      "\t Execution continuing.\n",
      " WARNING (norm_resp): computed and reported sensitivities differ by more than 5 percent. \n",
      "\t Execution continuing.\n",
      " WARNING (norm_resp): computed and reported sensitivities differ by more than 5 percent. \n",
      "\t Execution continuing.\n",
      " WARNING (norm_resp): computed and reported sensitivities differ by more than 5 percent. \n",
      "\t Execution continuing.\n",
      " WARNING (norm_resp): computed and reported sensitivities differ by more than 5 percent. \n",
      "\t Execution continuing.\n"
     ]
    },
    {
     "name": "stdout",
     "output_type": "stream",
     "text": [
      "earthquake number 490 of 1026 done. It was 20200626_072112.a\n",
      "earthquake number 491 of 1026 done. It was 20200625_115500.a\n"
     ]
    },
    {
     "name": "stderr",
     "output_type": "stream",
     "text": [
      " WARNING (norm_resp): computed and reported sensitivities differ by more than 5 percent. \n",
      "\t Execution continuing.\n",
      " WARNING (norm_resp): computed and reported sensitivities differ by more than 5 percent. \n",
      "\t Execution continuing.\n",
      " WARNING (norm_resp): computed and reported sensitivities differ by more than 5 percent. \n",
      "\t Execution continuing.\n",
      " WARNING (norm_resp): computed and reported sensitivities differ by more than 5 percent. \n",
      "\t Execution continuing.\n",
      " WARNING (norm_resp): computed and reported sensitivities differ by more than 5 percent. \n",
      "\t Execution continuing.\n",
      " WARNING (norm_resp): computed and reported sensitivities differ by more than 5 percent. \n",
      "\t Execution continuing.\n",
      " WARNING (norm_resp): computed and reported sensitivities differ by more than 5 percent. \n",
      "\t Execution continuing.\n",
      " WARNING (norm_resp): computed and reported sensitivities differ by more than 5 percent. \n",
      "\t Execution continuing.\n",
      " WARNING (norm_resp): computed and reported sensitivities differ by more than 5 percent. \n",
      "\t Execution continuing.\n"
     ]
    },
    {
     "name": "stdout",
     "output_type": "stream",
     "text": [
      "earthquake number 492 of 1026 done. It was 20200625_100331.a\n"
     ]
    },
    {
     "name": "stderr",
     "output_type": "stream",
     "text": [
      "/home/earthquakes1/software/Mageia8/anaconda3/lib/python3.9/site-packages/obspy/io/stationxml/core.py:96: UserWarning: The StationXML file has version 1, ObsPy can read versions (1.0, 1.1). Proceed with caution.\n",
      "  warnings.warn(\"The StationXML file has version %s, ObsPy can \"\n",
      "/home/earthquakes1/software/Mageia8/anaconda3/lib/python3.9/site-packages/obspy/io/stationxml/core.py:96: UserWarning: The StationXML file has version 1, ObsPy can read versions (1.0, 1.1). Proceed with caution.\n",
      "  warnings.warn(\"The StationXML file has version %s, ObsPy can \"\n",
      "/home/earthquakes1/software/Mageia8/anaconda3/lib/python3.9/site-packages/obspy/io/stationxml/core.py:96: UserWarning: The StationXML file has version 1, ObsPy can read versions (1.0, 1.1). Proceed with caution.\n",
      "  warnings.warn(\"The StationXML file has version %s, ObsPy can \"\n",
      "/home/earthquakes1/software/Mageia8/anaconda3/lib/python3.9/site-packages/obspy/io/stationxml/core.py:96: UserWarning: The StationXML file has version 1, ObsPy can read versions (1.0, 1.1). Proceed with caution.\n",
      "  warnings.warn(\"The StationXML file has version %s, ObsPy can \"\n",
      "/home/earthquakes1/software/Mageia8/anaconda3/lib/python3.9/site-packages/obspy/io/stationxml/core.py:96: UserWarning: The StationXML file has version 1, ObsPy can read versions (1.0, 1.1). Proceed with caution.\n",
      "  warnings.warn(\"The StationXML file has version %s, ObsPy can \"\n",
      "/home/earthquakes1/software/Mageia8/anaconda3/lib/python3.9/site-packages/obspy/io/stationxml/core.py:96: UserWarning: The StationXML file has version 1, ObsPy can read versions (1.0, 1.1). Proceed with caution.\n",
      "  warnings.warn(\"The StationXML file has version %s, ObsPy can \"\n",
      "/home/earthquakes1/software/Mageia8/anaconda3/lib/python3.9/site-packages/obspy/io/stationxml/core.py:96: UserWarning: The StationXML file has version 1, ObsPy can read versions (1.0, 1.1). Proceed with caution.\n",
      "  warnings.warn(\"The StationXML file has version %s, ObsPy can \"\n",
      "/home/earthquakes1/software/Mageia8/anaconda3/lib/python3.9/site-packages/obspy/io/stationxml/core.py:96: UserWarning: The StationXML file has version 1, ObsPy can read versions (1.0, 1.1). Proceed with caution.\n",
      "  warnings.warn(\"The StationXML file has version %s, ObsPy can \"\n",
      "/home/earthquakes1/software/Mageia8/anaconda3/lib/python3.9/site-packages/obspy/io/stationxml/core.py:96: UserWarning: The StationXML file has version 1, ObsPy can read versions (1.0, 1.1). Proceed with caution.\n",
      "  warnings.warn(\"The StationXML file has version %s, ObsPy can \"\n"
     ]
    },
    {
     "name": "stdout",
     "output_type": "stream",
     "text": [
      "earthquake number 493 of 1026 done. It was 20200624_222001.a\n",
      "earthquake number 494 of 1026 done. It was 20200624_174049.a\n",
      "earthquake number 495 of 1026 done. It was 20200622_100655.a\n"
     ]
    },
    {
     "name": "stderr",
     "output_type": "stream",
     "text": [
      " WARNING: FIR normalized: sum[coef]=-6.913431E-05;     \n",
      " WARNING: FIR normalized: sum[coef]=-6.913431E-05;     \n",
      " WARNING: FIR normalized: sum[coef]=-6.913431E-05;     \n",
      " WARNING: FIR normalized: sum[coef]=-6.913431E-05;     \n",
      " WARNING: FIR normalized: sum[coef]=-6.913431E-05;     \n",
      " WARNING: FIR normalized: sum[coef]=-6.913431E-05;     \n",
      " WARNING: FIR normalized: sum[coef]=-6.913431E-05;     \n",
      " WARNING: FIR normalized: sum[coef]=-6.913431E-05;     \n",
      " WARNING: FIR normalized: sum[coef]=-6.913431E-05;     \n"
     ]
    },
    {
     "name": "stdout",
     "output_type": "stream",
     "text": [
      "earthquake number 496 of 1026 done. It was 20200621_190754.a\n",
      "earthquake number 497 of 1026 done. It was 20200621_085828.a\n"
     ]
    },
    {
     "name": "stderr",
     "output_type": "stream",
     "text": [
      " WARNING: FIR normalized: sum[coef]=-6.913431E-05;     \n",
      " WARNING: FIR normalized: sum[coef]=-6.913431E-05;     \n",
      " WARNING: FIR normalized: sum[coef]=-6.913431E-05;     \n",
      " WARNING: FIR normalized: sum[coef]=-6.913431E-05;     \n",
      " WARNING: FIR normalized: sum[coef]=-6.913431E-05;     \n",
      " WARNING: FIR normalized: sum[coef]=-6.913431E-05;     \n",
      " WARNING: FIR normalized: sum[coef]=-6.913431E-05;     \n",
      " WARNING: FIR normalized: sum[coef]=-6.913431E-05;     \n",
      " WARNING: FIR normalized: sum[coef]=-6.913431E-05;     \n"
     ]
    },
    {
     "name": "stdout",
     "output_type": "stream",
     "text": [
      "earthquake number 498 of 1026 done. It was 20200620_192621.a\n"
     ]
    },
    {
     "name": "stderr",
     "output_type": "stream",
     "text": [
      " WARNING: FIR normalized: sum[coef]=-6.913431E-05;     \n",
      " WARNING: FIR normalized: sum[coef]=-6.913431E-05;     \n",
      " WARNING: FIR normalized: sum[coef]=-6.913431E-05;     \n",
      " WARNING: FIR normalized: sum[coef]=-6.913431E-05;     \n",
      " WARNING: FIR normalized: sum[coef]=-6.913431E-05;     \n",
      " WARNING: FIR normalized: sum[coef]=-6.913431E-05;     \n",
      " WARNING: FIR normalized: sum[coef]=-6.913431E-05;     \n",
      " WARNING: FIR normalized: sum[coef]=-6.913431E-05;     \n",
      " WARNING: FIR normalized: sum[coef]=-6.913431E-05;     \n"
     ]
    },
    {
     "name": "stdout",
     "output_type": "stream",
     "text": [
      "earthquake number 499 of 1026 done. It was 20200620_150511.a\n",
      "earthquake number 500 of 1026 done. It was 20200619_074321.a\n"
     ]
    },
    {
     "name": "stderr",
     "output_type": "stream",
     "text": [
      " WARNING (norm_resp): computed and reported sensitivities differ by more than 5 percent. \n",
      "\t Execution continuing.\n",
      " WARNING (norm_resp): computed and reported sensitivities differ by more than 5 percent. \n",
      "\t Execution continuing.\n",
      " WARNING (norm_resp): computed and reported sensitivities differ by more than 5 percent. \n",
      "\t Execution continuing.\n",
      " WARNING (norm_resp): computed and reported sensitivities differ by more than 5 percent. \n",
      "\t Execution continuing.\n",
      " WARNING (norm_resp): computed and reported sensitivities differ by more than 5 percent. \n",
      "\t Execution continuing.\n",
      " WARNING (norm_resp): computed and reported sensitivities differ by more than 5 percent. \n",
      "\t Execution continuing.\n",
      " WARNING (norm_resp): computed and reported sensitivities differ by more than 5 percent. \n",
      "\t Execution continuing.\n",
      " WARNING (norm_resp): computed and reported sensitivities differ by more than 5 percent. \n",
      "\t Execution continuing.\n",
      " WARNING (norm_resp): computed and reported sensitivities differ by more than 5 percent. \n",
      "\t Execution continuing.\n",
      " WARNING (norm_resp): computed and reported sensitivities differ by more than 5 percent. \n",
      "\t Execution continuing.\n",
      " WARNING (norm_resp): computed and reported sensitivities differ by more than 5 percent. \n",
      "\t Execution continuing.\n",
      " WARNING (norm_resp): computed and reported sensitivities differ by more than 5 percent. \n",
      "\t Execution continuing.\n",
      " WARNING (norm_resp): computed and reported sensitivities differ by more than 5 percent. \n",
      "\t Execution continuing.\n",
      " WARNING (norm_resp): computed and reported sensitivities differ by more than 5 percent. \n",
      "\t Execution continuing.\n",
      " WARNING (norm_resp): computed and reported sensitivities differ by more than 5 percent. \n",
      "\t Execution continuing.\n"
     ]
    },
    {
     "name": "stdout",
     "output_type": "stream",
     "text": [
      "earthquake number 501 of 1026 done. It was 20200615_065131.a\n"
     ]
    },
    {
     "name": "stderr",
     "output_type": "stream",
     "text": [
      " WARNING (norm_resp): computed and reported sensitivities differ by more than 5 percent. \n",
      "\t Execution continuing.\n",
      " WARNING (norm_resp): computed and reported sensitivities differ by more than 5 percent. \n",
      "\t Execution continuing.\n",
      " WARNING (norm_resp): computed and reported sensitivities differ by more than 5 percent. \n",
      "\t Execution continuing.\n",
      " WARNING (norm_resp): computed and reported sensitivities differ by more than 5 percent. \n",
      "\t Execution continuing.\n",
      " WARNING (norm_resp): computed and reported sensitivities differ by more than 5 percent. \n",
      "\t Execution continuing.\n",
      " WARNING (norm_resp): computed and reported sensitivities differ by more than 5 percent. \n",
      "\t Execution continuing.\n",
      " WARNING (norm_resp): computed and reported sensitivities differ by more than 5 percent. \n",
      "\t Execution continuing.\n",
      " WARNING (norm_resp): computed and reported sensitivities differ by more than 5 percent. \n",
      "\t Execution continuing.\n",
      " WARNING (norm_resp): computed and reported sensitivities differ by more than 5 percent. \n",
      "\t Execution continuing.\n",
      " WARNING (norm_resp): computed and reported sensitivities differ by more than 5 percent. \n",
      "\t Execution continuing.\n",
      " WARNING (norm_resp): computed and reported sensitivities differ by more than 5 percent. \n",
      "\t Execution continuing.\n",
      " WARNING (norm_resp): computed and reported sensitivities differ by more than 5 percent. \n",
      "\t Execution continuing.\n"
     ]
    },
    {
     "name": "stdout",
     "output_type": "stream",
     "text": [
      "earthquake number 502 of 1026 done. It was 20200614_142429.a\n"
     ]
    },
    {
     "name": "stderr",
     "output_type": "stream",
     "text": [
      " WARNING (norm_resp): computed and reported sensitivities differ by more than 5 percent. \n",
      "\t Execution continuing.\n",
      " WARNING (norm_resp): computed and reported sensitivities differ by more than 5 percent. \n",
      "\t Execution continuing.\n",
      " WARNING (norm_resp): computed and reported sensitivities differ by more than 5 percent. \n",
      "\t Execution continuing.\n",
      " WARNING (norm_resp): computed and reported sensitivities differ by more than 5 percent. \n",
      "\t Execution continuing.\n",
      " WARNING (norm_resp): computed and reported sensitivities differ by more than 5 percent. \n",
      "\t Execution continuing.\n",
      " WARNING (norm_resp): computed and reported sensitivities differ by more than 5 percent. \n",
      "\t Execution continuing.\n",
      " WARNING (norm_resp): computed and reported sensitivities differ by more than 5 percent. \n",
      "\t Execution continuing.\n",
      " WARNING (norm_resp): computed and reported sensitivities differ by more than 5 percent. \n",
      "\t Execution continuing.\n",
      " WARNING (norm_resp): computed and reported sensitivities differ by more than 5 percent. \n",
      "\t Execution continuing.\n",
      " WARNING (norm_resp): computed and reported sensitivities differ by more than 5 percent. \n",
      "\t Execution continuing.\n",
      " WARNING (norm_resp): computed and reported sensitivities differ by more than 5 percent. \n",
      "\t Execution continuing.\n",
      " WARNING (norm_resp): computed and reported sensitivities differ by more than 5 percent. \n",
      "\t Execution continuing.\n"
     ]
    },
    {
     "name": "stdout",
     "output_type": "stream",
     "text": [
      "earthquake number 503 of 1026 done. It was 20200605_180621.a\n"
     ]
    },
    {
     "name": "stderr",
     "output_type": "stream",
     "text": [
      " WARNING (norm_resp): computed and reported sensitivities differ by more than 5 percent. \n",
      "\t Execution continuing.\n",
      " WARNING (norm_resp): computed and reported sensitivities differ by more than 5 percent. \n",
      "\t Execution continuing.\n",
      " WARNING (norm_resp): computed and reported sensitivities differ by more than 5 percent. \n",
      "\t Execution continuing.\n"
     ]
    },
    {
     "name": "stdout",
     "output_type": "stream",
     "text": [
      "earthquake number 504 of 1026 done. It was 20200604_013211.a\n",
      "earthquake number 505 of 1026 done. It was 20200603_090329.a\n",
      "earthquake number 506 of 1026 done. It was 20200603_073534.a\n",
      "earthquake number 507 of 1026 done. It was 20200717_054036.a\n",
      "earthquake number 508 of 1026 done. It was 20200717_025022.a\n",
      "earthquake number 509 of 1026 done. It was 20200712_223843.a\n",
      "earthquake number 510 of 1026 done. It was 20200704_095300.a\n",
      "earthquake number 511 of 1026 done. It was 20200702_123545.a\n"
     ]
    },
    {
     "name": "stderr",
     "output_type": "stream",
     "text": [
      "/home/earthquakes1/software/Mageia8/anaconda3/lib/python3.9/site-packages/obspy/io/stationxml/core.py:96: UserWarning: The StationXML file has version 1, ObsPy can read versions (1.0, 1.1). Proceed with caution.\n",
      "  warnings.warn(\"The StationXML file has version %s, ObsPy can \"\n",
      "/home/earthquakes1/software/Mageia8/anaconda3/lib/python3.9/site-packages/obspy/io/stationxml/core.py:96: UserWarning: The StationXML file has version 1, ObsPy can read versions (1.0, 1.1). Proceed with caution.\n",
      "  warnings.warn(\"The StationXML file has version %s, ObsPy can \"\n",
      "/home/earthquakes1/software/Mageia8/anaconda3/lib/python3.9/site-packages/obspy/io/stationxml/core.py:96: UserWarning: The StationXML file has version 1, ObsPy can read versions (1.0, 1.1). Proceed with caution.\n",
      "  warnings.warn(\"The StationXML file has version %s, ObsPy can \"\n",
      "/home/earthquakes1/software/Mageia8/anaconda3/lib/python3.9/site-packages/obspy/io/stationxml/core.py:96: UserWarning: The StationXML file has version 1, ObsPy can read versions (1.0, 1.1). Proceed with caution.\n",
      "  warnings.warn(\"The StationXML file has version %s, ObsPy can \"\n",
      "/home/earthquakes1/software/Mageia8/anaconda3/lib/python3.9/site-packages/obspy/io/stationxml/core.py:96: UserWarning: The StationXML file has version 1, ObsPy can read versions (1.0, 1.1). Proceed with caution.\n",
      "  warnings.warn(\"The StationXML file has version %s, ObsPy can \"\n",
      "/home/earthquakes1/software/Mageia8/anaconda3/lib/python3.9/site-packages/obspy/io/stationxml/core.py:96: UserWarning: The StationXML file has version 1, ObsPy can read versions (1.0, 1.1). Proceed with caution.\n",
      "  warnings.warn(\"The StationXML file has version %s, ObsPy can \"\n",
      "/home/earthquakes1/software/Mageia8/anaconda3/lib/python3.9/site-packages/obspy/io/stationxml/core.py:96: UserWarning: The StationXML file has version 1, ObsPy can read versions (1.0, 1.1). Proceed with caution.\n",
      "  warnings.warn(\"The StationXML file has version %s, ObsPy can \"\n",
      "/home/earthquakes1/software/Mageia8/anaconda3/lib/python3.9/site-packages/obspy/io/stationxml/core.py:96: UserWarning: The StationXML file has version 1, ObsPy can read versions (1.0, 1.1). Proceed with caution.\n",
      "  warnings.warn(\"The StationXML file has version %s, ObsPy can \"\n",
      "/home/earthquakes1/software/Mageia8/anaconda3/lib/python3.9/site-packages/obspy/io/stationxml/core.py:96: UserWarning: The StationXML file has version 1, ObsPy can read versions (1.0, 1.1). Proceed with caution.\n",
      "  warnings.warn(\"The StationXML file has version %s, ObsPy can \"\n",
      "/home/earthquakes1/software/Mageia8/anaconda3/lib/python3.9/site-packages/obspy/io/stationxml/core.py:96: UserWarning: The StationXML file has version 1, ObsPy can read versions (1.0, 1.1). Proceed with caution.\n",
      "  warnings.warn(\"The StationXML file has version %s, ObsPy can \"\n",
      "/home/earthquakes1/software/Mageia8/anaconda3/lib/python3.9/site-packages/obspy/io/stationxml/core.py:96: UserWarning: The StationXML file has version 1, ObsPy can read versions (1.0, 1.1). Proceed with caution.\n",
      "  warnings.warn(\"The StationXML file has version %s, ObsPy can \"\n",
      "/home/earthquakes1/software/Mageia8/anaconda3/lib/python3.9/site-packages/obspy/io/stationxml/core.py:96: UserWarning: The StationXML file has version 1, ObsPy can read versions (1.0, 1.1). Proceed with caution.\n",
      "  warnings.warn(\"The StationXML file has version %s, ObsPy can \"\n"
     ]
    },
    {
     "name": "stdout",
     "output_type": "stream",
     "text": [
      "earthquake number 512 of 1026 done. It was 20200830_132647.a\n",
      "earthquake number 513 of 1026 done. It was 20200829_074607.a\n"
     ]
    },
    {
     "name": "stderr",
     "output_type": "stream",
     "text": [
      "/home/earthquakes1/software/Mageia8/anaconda3/lib/python3.9/site-packages/obspy/io/stationxml/core.py:96: UserWarning: The StationXML file has version 1, ObsPy can read versions (1.0, 1.1). Proceed with caution.\n",
      "  warnings.warn(\"The StationXML file has version %s, ObsPy can \"\n",
      "/home/earthquakes1/software/Mageia8/anaconda3/lib/python3.9/site-packages/obspy/io/stationxml/core.py:96: UserWarning: The StationXML file has version 1, ObsPy can read versions (1.0, 1.1). Proceed with caution.\n",
      "  warnings.warn(\"The StationXML file has version %s, ObsPy can \"\n",
      "/home/earthquakes1/software/Mageia8/anaconda3/lib/python3.9/site-packages/obspy/io/stationxml/core.py:96: UserWarning: The StationXML file has version 1, ObsPy can read versions (1.0, 1.1). Proceed with caution.\n",
      "  warnings.warn(\"The StationXML file has version %s, ObsPy can \"\n",
      "/home/earthquakes1/software/Mageia8/anaconda3/lib/python3.9/site-packages/obspy/io/stationxml/core.py:96: UserWarning: The StationXML file has version 1, ObsPy can read versions (1.0, 1.1). Proceed with caution.\n",
      "  warnings.warn(\"The StationXML file has version %s, ObsPy can \"\n",
      "/home/earthquakes1/software/Mageia8/anaconda3/lib/python3.9/site-packages/obspy/io/stationxml/core.py:96: UserWarning: The StationXML file has version 1, ObsPy can read versions (1.0, 1.1). Proceed with caution.\n",
      "  warnings.warn(\"The StationXML file has version %s, ObsPy can \"\n",
      "/home/earthquakes1/software/Mageia8/anaconda3/lib/python3.9/site-packages/obspy/io/stationxml/core.py:96: UserWarning: The StationXML file has version 1, ObsPy can read versions (1.0, 1.1). Proceed with caution.\n",
      "  warnings.warn(\"The StationXML file has version %s, ObsPy can \"\n",
      "/home/earthquakes1/software/Mageia8/anaconda3/lib/python3.9/site-packages/obspy/io/stationxml/core.py:96: UserWarning: The StationXML file has version 1, ObsPy can read versions (1.0, 1.1). Proceed with caution.\n",
      "  warnings.warn(\"The StationXML file has version %s, ObsPy can \"\n",
      "/home/earthquakes1/software/Mageia8/anaconda3/lib/python3.9/site-packages/obspy/io/stationxml/core.py:96: UserWarning: The StationXML file has version 1, ObsPy can read versions (1.0, 1.1). Proceed with caution.\n",
      "  warnings.warn(\"The StationXML file has version %s, ObsPy can \"\n",
      "/home/earthquakes1/software/Mageia8/anaconda3/lib/python3.9/site-packages/obspy/io/stationxml/core.py:96: UserWarning: The StationXML file has version 1, ObsPy can read versions (1.0, 1.1). Proceed with caution.\n",
      "  warnings.warn(\"The StationXML file has version %s, ObsPy can \"\n",
      "/home/earthquakes1/software/Mageia8/anaconda3/lib/python3.9/site-packages/obspy/io/stationxml/core.py:96: UserWarning: The StationXML file has version 1, ObsPy can read versions (1.0, 1.1). Proceed with caution.\n",
      "  warnings.warn(\"The StationXML file has version %s, ObsPy can \"\n",
      "/home/earthquakes1/software/Mageia8/anaconda3/lib/python3.9/site-packages/obspy/io/stationxml/core.py:96: UserWarning: The StationXML file has version 1, ObsPy can read versions (1.0, 1.1). Proceed with caution.\n",
      "  warnings.warn(\"The StationXML file has version %s, ObsPy can \"\n",
      "/home/earthquakes1/software/Mageia8/anaconda3/lib/python3.9/site-packages/obspy/io/stationxml/core.py:96: UserWarning: The StationXML file has version 1, ObsPy can read versions (1.0, 1.1). Proceed with caution.\n",
      "  warnings.warn(\"The StationXML file has version %s, ObsPy can \"\n",
      "/home/earthquakes1/software/Mageia8/anaconda3/lib/python3.9/site-packages/obspy/io/stationxml/core.py:96: UserWarning: The StationXML file has version 1, ObsPy can read versions (1.0, 1.1). Proceed with caution.\n",
      "  warnings.warn(\"The StationXML file has version %s, ObsPy can \"\n"
     ]
    },
    {
     "name": "stdout",
     "output_type": "stream",
     "text": [
      "earthquake number 514 of 1026 done. It was 20200828_154705.a\n",
      "earthquake number 515 of 1026 done. It was 20200824_215109.a\n"
     ]
    },
    {
     "name": "stderr",
     "output_type": "stream",
     "text": [
      "/home/earthquakes1/software/Mageia8/anaconda3/lib/python3.9/site-packages/obspy/io/stationxml/core.py:96: UserWarning: The StationXML file has version 1, ObsPy can read versions (1.0, 1.1). Proceed with caution.\n",
      "  warnings.warn(\"The StationXML file has version %s, ObsPy can \"\n",
      "/home/earthquakes1/software/Mageia8/anaconda3/lib/python3.9/site-packages/obspy/io/stationxml/core.py:96: UserWarning: The StationXML file has version 1, ObsPy can read versions (1.0, 1.1). Proceed with caution.\n",
      "  warnings.warn(\"The StationXML file has version %s, ObsPy can \"\n"
     ]
    },
    {
     "name": "stdout",
     "output_type": "stream",
     "text": [
      "earthquake number 516 of 1026 done. It was 20200824_004512.a\n",
      "earthquake number 517 of 1026 done. It was 20200817_153033.a\n",
      "earthquake number 518 of 1026 done. It was 20200817_072702.a\n",
      "earthquake number 519 of 1026 done. It was 20200816_031850.a\n"
     ]
    },
    {
     "name": "stderr",
     "output_type": "stream",
     "text": [
      "/home/earthquakes1/software/Mageia8/anaconda3/lib/python3.9/site-packages/obspy/io/stationxml/core.py:96: UserWarning: The StationXML file has version 1, ObsPy can read versions (1.0, 1.1). Proceed with caution.\n",
      "  warnings.warn(\"The StationXML file has version %s, ObsPy can \"\n",
      "/home/earthquakes1/software/Mageia8/anaconda3/lib/python3.9/site-packages/obspy/io/stationxml/core.py:96: UserWarning: The StationXML file has version 1, ObsPy can read versions (1.0, 1.1). Proceed with caution.\n",
      "  warnings.warn(\"The StationXML file has version %s, ObsPy can \"\n"
     ]
    },
    {
     "name": "stdout",
     "output_type": "stream",
     "text": [
      "earthquake number 520 of 1026 done. It was 20200811_105343.a\n",
      "earthquake number 521 of 1026 done. It was 20200806_153444.a\n"
     ]
    },
    {
     "name": "stderr",
     "output_type": "stream",
     "text": [
      "/home/earthquakes1/software/Mageia8/anaconda3/lib/python3.9/site-packages/obspy/io/stationxml/core.py:96: UserWarning: The StationXML file has version 1, ObsPy can read versions (1.0, 1.1). Proceed with caution.\n",
      "  warnings.warn(\"The StationXML file has version %s, ObsPy can \"\n",
      "/home/earthquakes1/software/Mageia8/anaconda3/lib/python3.9/site-packages/obspy/io/stationxml/core.py:96: UserWarning: The StationXML file has version 1, ObsPy can read versions (1.0, 1.1). Proceed with caution.\n",
      "  warnings.warn(\"The StationXML file has version %s, ObsPy can \"\n"
     ]
    },
    {
     "name": "stdout",
     "output_type": "stream",
     "text": [
      "earthquake number 522 of 1026 done. It was 20200805_022059.a\n"
     ]
    },
    {
     "name": "stderr",
     "output_type": "stream",
     "text": [
      " WARNING (norm_resp): computed and reported sensitivities differ by more than 5 percent. \n",
      "\t Execution continuing.\n",
      " WARNING (norm_resp): computed and reported sensitivities differ by more than 5 percent. \n",
      "\t Execution continuing.\n",
      " WARNING (norm_resp): computed and reported sensitivities differ by more than 5 percent. \n",
      "\t Execution continuing.\n",
      " WARNING (norm_resp): computed and reported sensitivities differ by more than 5 percent. \n",
      "\t Execution continuing.\n",
      " WARNING (norm_resp): computed and reported sensitivities differ by more than 5 percent. \n",
      "\t Execution continuing.\n",
      " WARNING (norm_resp): computed and reported sensitivities differ by more than 5 percent. \n",
      "\t Execution continuing.\n",
      " WARNING (norm_resp): computed and reported sensitivities differ by more than 5 percent. \n",
      "\t Execution continuing.\n",
      " WARNING (norm_resp): computed and reported sensitivities differ by more than 5 percent. \n",
      "\t Execution continuing.\n",
      " WARNING (norm_resp): computed and reported sensitivities differ by more than 5 percent. \n",
      "\t Execution continuing.\n",
      " WARNING (norm_resp): computed and reported sensitivities differ by more than 5 percent. \n",
      "\t Execution continuing.\n",
      " WARNING (norm_resp): computed and reported sensitivities differ by more than 5 percent. \n",
      "\t Execution continuing.\n"
     ]
    },
    {
     "name": "stdout",
     "output_type": "stream",
     "text": [
      "earthquake number 523 of 1026 done. It was 20200804_093737.a\n",
      "earthquake number 524 of 1026 done. It was 20200803_115652.a\n",
      "earthquake number 525 of 1026 done. It was 20200930_193523.a\n",
      "earthquake number 526 of 1026 done. It was 20200927_041341.a\n"
     ]
    },
    {
     "name": "stderr",
     "output_type": "stream",
     "text": [
      " WARNING (norm_resp): computed and reported sensitivities differ by more than 5 percent. \n",
      "\t Execution continuing.\n",
      " WARNING (norm_resp): computed and reported sensitivities differ by more than 5 percent. \n",
      "\t Execution continuing.\n",
      " WARNING (norm_resp): computed and reported sensitivities differ by more than 5 percent. \n",
      "\t Execution continuing.\n",
      " WARNING (norm_resp): computed and reported sensitivities differ by more than 5 percent. \n",
      "\t Execution continuing.\n",
      " WARNING (norm_resp): computed and reported sensitivities differ by more than 5 percent. \n",
      "\t Execution continuing.\n",
      " WARNING (norm_resp): computed and reported sensitivities differ by more than 5 percent. \n",
      "\t Execution continuing.\n",
      " WARNING (norm_resp): computed and reported sensitivities differ by more than 5 percent. \n",
      "\t Execution continuing.\n",
      " WARNING (norm_resp): computed and reported sensitivities differ by more than 5 percent. \n",
      "\t Execution continuing.\n",
      " WARNING (norm_resp): computed and reported sensitivities differ by more than 5 percent. \n",
      "\t Execution continuing.\n"
     ]
    },
    {
     "name": "stdout",
     "output_type": "stream",
     "text": [
      "earthquake number 527 of 1026 done. It was 20200926_225024.a\n"
     ]
    },
    {
     "name": "stderr",
     "output_type": "stream",
     "text": [
      " WARNING (norm_resp): computed and reported sensitivities differ by more than 5 percent. \n",
      "\t Execution continuing.\n",
      " WARNING (norm_resp): computed and reported sensitivities differ by more than 5 percent. \n",
      "\t Execution continuing.\n",
      " WARNING (norm_resp): computed and reported sensitivities differ by more than 5 percent. \n",
      "\t Execution continuing.\n",
      " WARNING (norm_resp): computed and reported sensitivities differ by more than 5 percent. \n",
      "\t Execution continuing.\n",
      " WARNING (norm_resp): computed and reported sensitivities differ by more than 5 percent. \n",
      "\t Execution continuing.\n",
      " WARNING (norm_resp): computed and reported sensitivities differ by more than 5 percent. \n",
      "\t Execution continuing.\n",
      " WARNING (norm_resp): computed and reported sensitivities differ by more than 5 percent. \n",
      "\t Execution continuing.\n",
      " WARNING (norm_resp): computed and reported sensitivities differ by more than 5 percent. \n",
      "\t Execution continuing.\n",
      " WARNING (norm_resp): computed and reported sensitivities differ by more than 5 percent. \n",
      "\t Execution continuing.\n",
      " WARNING (norm_resp): computed and reported sensitivities differ by more than 5 percent. \n",
      "\t Execution continuing.\n",
      " WARNING (norm_resp): computed and reported sensitivities differ by more than 5 percent. \n",
      "\t Execution continuing.\n",
      " WARNING (norm_resp): computed and reported sensitivities differ by more than 5 percent. \n",
      "\t Execution continuing.\n",
      " WARNING (norm_resp): computed and reported sensitivities differ by more than 5 percent. \n",
      "\t Execution continuing.\n",
      " WARNING (norm_resp): computed and reported sensitivities differ by more than 5 percent. \n",
      "\t Execution continuing.\n"
     ]
    },
    {
     "name": "stdout",
     "output_type": "stream",
     "text": [
      "earthquake number 528 of 1026 done. It was 20200920_190807.a\n",
      "earthquake number 529 of 1026 done. It was 20200919_210931.a\n",
      "earthquake number 530 of 1026 done. It was 20200919_092649.a\n",
      "earthquake number 531 of 1026 done. It was 20200918_162817.a\n",
      "earthquake number 532 of 1026 done. It was 20200911_073557.a\n",
      "earthquake number 533 of 1026 done. It was 20200904_174521.a\n",
      "earthquake number 534 of 1026 done. It was 20201030_234645.a\n",
      "earthquake number 535 of 1026 done. It was 20201030_225647.a\n"
     ]
    },
    {
     "name": "stderr",
     "output_type": "stream",
     "text": [
      " WARNING (norm_resp): computed and reported sensitivities differ by more than 5 percent. \n",
      "\t Execution continuing.\n",
      " WARNING (norm_resp): computed and reported sensitivities differ by more than 5 percent. \n",
      "\t Execution continuing.\n",
      " WARNING (norm_resp): computed and reported sensitivities differ by more than 5 percent. \n",
      "\t Execution continuing.\n",
      " WARNING (norm_resp): computed and reported sensitivities differ by more than 5 percent. \n",
      "\t Execution continuing.\n",
      " WARNING (norm_resp): computed and reported sensitivities differ by more than 5 percent. \n",
      "\t Execution continuing.\n",
      " WARNING (norm_resp): computed and reported sensitivities differ by more than 5 percent. \n",
      "\t Execution continuing.\n",
      " WARNING (norm_resp): computed and reported sensitivities differ by more than 5 percent. \n",
      "\t Execution continuing.\n",
      " WARNING (norm_resp): computed and reported sensitivities differ by more than 5 percent. \n",
      "\t Execution continuing.\n",
      " WARNING (norm_resp): computed and reported sensitivities differ by more than 5 percent. \n",
      "\t Execution continuing.\n",
      " WARNING (norm_resp): computed and reported sensitivities differ by more than 5 percent. \n",
      "\t Execution continuing.\n",
      " WARNING (norm_resp): computed and reported sensitivities differ by more than 5 percent. \n",
      "\t Execution continuing.\n",
      " WARNING (norm_resp): computed and reported sensitivities differ by more than 5 percent. \n",
      "\t Execution continuing.\n",
      " WARNING (norm_resp): computed and reported sensitivities differ by more than 5 percent. \n",
      "\t Execution continuing.\n",
      " WARNING (norm_resp): computed and reported sensitivities differ by more than 5 percent. \n",
      "\t Execution continuing.\n",
      " WARNING (norm_resp): computed and reported sensitivities differ by more than 5 percent. \n",
      "\t Execution continuing.\n"
     ]
    },
    {
     "name": "stdout",
     "output_type": "stream",
     "text": [
      "earthquake number 536 of 1026 done. It was 20201030_151455.a\n"
     ]
    },
    {
     "name": "stderr",
     "output_type": "stream",
     "text": [
      " WARNING (norm_resp): computed and reported sensitivities differ by more than 5 percent. \n",
      "\t Execution continuing.\n",
      " WARNING (norm_resp): computed and reported sensitivities differ by more than 5 percent. \n",
      "\t Execution continuing.\n",
      " WARNING (norm_resp): computed and reported sensitivities differ by more than 5 percent. \n",
      "\t Execution continuing.\n",
      " WARNING (norm_resp): computed and reported sensitivities differ by more than 5 percent. \n",
      "\t Execution continuing.\n",
      " WARNING (norm_resp): computed and reported sensitivities differ by more than 5 percent. \n",
      "\t Execution continuing.\n",
      " WARNING (norm_resp): computed and reported sensitivities differ by more than 5 percent. \n",
      "\t Execution continuing.\n",
      " WARNING (norm_resp): computed and reported sensitivities differ by more than 5 percent. \n",
      "\t Execution continuing.\n",
      " WARNING (norm_resp): computed and reported sensitivities differ by more than 5 percent. \n",
      "\t Execution continuing.\n",
      " WARNING (norm_resp): computed and reported sensitivities differ by more than 5 percent. \n",
      "\t Execution continuing.\n",
      " WARNING (norm_resp): computed and reported sensitivities differ by more than 5 percent. \n",
      "\t Execution continuing.\n",
      " WARNING (norm_resp): computed and reported sensitivities differ by more than 5 percent. \n",
      "\t Execution continuing.\n",
      " WARNING (norm_resp): computed and reported sensitivities differ by more than 5 percent. \n",
      "\t Execution continuing.\n",
      " WARNING (norm_resp): computed and reported sensitivities differ by more than 5 percent. \n",
      "\t Execution continuing.\n"
     ]
    },
    {
     "name": "stdout",
     "output_type": "stream",
     "text": [
      "earthquake number 537 of 1026 done. It was 20201030_115127.a\n",
      "earthquake number 538 of 1026 done. It was 20201028_141256.a\n",
      "earthquake number 539 of 1026 done. It was 20201028_045232.a\n",
      "earthquake number 540 of 1026 done. It was 20201025_211714.a\n",
      "earthquake number 541 of 1026 done. It was 20201023_190045.a\n",
      "earthquake number 542 of 1026 done. It was 20201021_230054.a\n",
      "earthquake number 543 of 1026 done. It was 20201021_091306.a\n",
      "earthquake number 544 of 1026 done. It was 20201012_210256.a\n"
     ]
    },
    {
     "name": "stderr",
     "output_type": "stream",
     "text": [
      " WARNING (norm_resp): computed and reported sensitivities differ by more than 5 percent. \n",
      "\t Execution continuing.\n",
      " WARNING (norm_resp): computed and reported sensitivities differ by more than 5 percent. \n",
      "\t Execution continuing.\n",
      " WARNING (norm_resp): computed and reported sensitivities differ by more than 5 percent. \n",
      "\t Execution continuing.\n"
     ]
    },
    {
     "name": "stdout",
     "output_type": "stream",
     "text": [
      "earthquake number 545 of 1026 done. It was 20201012_041127.a\n"
     ]
    },
    {
     "name": "stderr",
     "output_type": "stream",
     "text": [
      " WARNING (norm_resp): computed and reported sensitivities differ by more than 5 percent. \n",
      "\t Execution continuing.\n",
      " WARNING (norm_resp): computed and reported sensitivities differ by more than 5 percent. \n",
      "\t Execution continuing.\n",
      " WARNING (norm_resp): computed and reported sensitivities differ by more than 5 percent. \n",
      "\t Execution continuing.\n"
     ]
    },
    {
     "name": "stdout",
     "output_type": "stream",
     "text": [
      "earthquake number 546 of 1026 done. It was 20201012_003040.a\n",
      "earthquake number 547 of 1026 done. It was 20201009_212223.a\n",
      "earthquake number 548 of 1026 done. It was 20201008_104221.a\n",
      "earthquake number 549 of 1026 done. It was 20201007_182434.a\n",
      "earthquake number 550 of 1026 done. It was 20201005_130334.a\n",
      "earthquake number 551 of 1026 done. It was 20201005_071202.a\n",
      "earthquake number 552 of 1026 done. It was 20201002_131626.a\n"
     ]
    },
    {
     "name": "stderr",
     "output_type": "stream",
     "text": [
      " WARNING (norm_resp): computed and reported sensitivities differ by more than 5 percent. \n",
      "\t Execution continuing.\n",
      " WARNING (norm_resp): computed and reported sensitivities differ by more than 5 percent. \n",
      "\t Execution continuing.\n",
      " WARNING (norm_resp): computed and reported sensitivities differ by more than 5 percent. \n",
      "\t Execution continuing.\n"
     ]
    },
    {
     "name": "stdout",
     "output_type": "stream",
     "text": [
      "earthquake number 553 of 1026 done. It was 20201001_110538.a\n",
      "earthquake number 554 of 1026 done. It was 20201130_225503.a\n",
      "earthquake number 555 of 1026 done. It was 20201129_164044.a\n",
      "earthquake number 556 of 1026 done. It was 20201129_090135.a\n",
      "earthquake number 557 of 1026 done. It was 20201126_044135.a\n",
      "earthquake number 558 of 1026 done. It was 20201120_231638.a\n",
      "earthquake number 559 of 1026 done. It was 20201117_222207.a\n",
      "earthquake number 560 of 1026 done. It was 20201115_123316.a\n",
      "earthquake number 561 of 1026 done. It was 20201114_142919.a\n",
      "earthquake number 562 of 1026 done. It was 20201113_091421.a\n",
      "earthquake number 563 of 1026 done. It was 20201113_091351.a\n",
      "earthquake number 564 of 1026 done. It was 20201111_035416.a\n",
      "earthquake number 565 of 1026 done. It was 20201110_144037.a\n",
      "earthquake number 566 of 1026 done. It was 20201101_050109.a\n",
      "earthquake number 567 of 1026 done. It was 20201229_111954.a\n",
      "earthquake number 568 of 1026 done. It was 20201227_135520.a\n"
     ]
    },
    {
     "name": "stderr",
     "output_type": "stream",
     "text": [
      " WARNING (norm_resp): computed and reported sensitivities differ by more than 5 percent. \n",
      "\t Execution continuing.\n",
      " WARNING (norm_resp): computed and reported sensitivities differ by more than 5 percent. \n",
      "\t Execution continuing.\n",
      " WARNING (norm_resp): computed and reported sensitivities differ by more than 5 percent. \n",
      "\t Execution continuing.\n",
      " WARNING (norm_resp): computed and reported sensitivities differ by more than 5 percent. \n",
      "\t Execution continuing.\n",
      " WARNING (norm_resp): computed and reported sensitivities differ by more than 5 percent. \n",
      "\t Execution continuing.\n",
      " WARNING (norm_resp): computed and reported sensitivities differ by more than 5 percent. \n",
      "\t Execution continuing.\n",
      " WARNING (norm_resp): computed and reported sensitivities differ by more than 5 percent. \n",
      "\t Execution continuing.\n",
      " WARNING (norm_resp): computed and reported sensitivities differ by more than 5 percent. \n",
      "\t Execution continuing.\n",
      " WARNING (norm_resp): computed and reported sensitivities differ by more than 5 percent. \n",
      "\t Execution continuing.\n",
      " WARNING (norm_resp): computed and reported sensitivities differ by more than 5 percent. \n",
      "\t Execution continuing.\n",
      " WARNING (norm_resp): computed and reported sensitivities differ by more than 5 percent. \n",
      "\t Execution continuing.\n",
      " WARNING (norm_resp): computed and reported sensitivities differ by more than 5 percent. \n",
      "\t Execution continuing.\n",
      " WARNING (norm_resp): computed and reported sensitivities differ by more than 5 percent. \n",
      "\t Execution continuing.\n",
      " WARNING (norm_resp): computed and reported sensitivities differ by more than 5 percent. \n",
      "\t Execution continuing.\n",
      " WARNING (norm_resp): computed and reported sensitivities differ by more than 5 percent. \n",
      "\t Execution continuing.\n",
      " WARNING (norm_resp): computed and reported sensitivities differ by more than 5 percent. \n",
      "\t Execution continuing.\n",
      " WARNING (norm_resp): computed and reported sensitivities differ by more than 5 percent. \n",
      "\t Execution continuing.\n",
      " WARNING (norm_resp): computed and reported sensitivities differ by more than 5 percent. \n",
      "\t Execution continuing.\n"
     ]
    },
    {
     "name": "stdout",
     "output_type": "stream",
     "text": [
      "earthquake number 569 of 1026 done. It was 20201227_063732.a\n"
     ]
    },
    {
     "name": "stderr",
     "output_type": "stream",
     "text": [
      "/home/earthquakes1/software/Mageia8/anaconda3/lib/python3.9/site-packages/obspy/io/stationxml/core.py:96: UserWarning: The StationXML file has version 1, ObsPy can read versions (1.0, 1.1). Proceed with caution.\n",
      "  warnings.warn(\"The StationXML file has version %s, ObsPy can \"\n",
      "/home/earthquakes1/software/Mageia8/anaconda3/lib/python3.9/site-packages/obspy/io/stationxml/core.py:96: UserWarning: The StationXML file has version 1, ObsPy can read versions (1.0, 1.1). Proceed with caution.\n",
      "  warnings.warn(\"The StationXML file has version %s, ObsPy can \"\n"
     ]
    },
    {
     "name": "stdout",
     "output_type": "stream",
     "text": [
      "earthquake number 570 of 1026 done. It was 20201221_200756.a\n",
      "earthquake number 571 of 1026 done. It was 20201215_224305.a\n",
      "earthquake number 572 of 1026 done. It was 20201214_152049.a\n"
     ]
    },
    {
     "name": "stderr",
     "output_type": "stream",
     "text": [
      "/home/earthquakes1/software/Mageia8/anaconda3/lib/python3.9/site-packages/obspy/io/stationxml/core.py:96: UserWarning: The StationXML file has version 1, ObsPy can read versions (1.0, 1.1). Proceed with caution.\n",
      "  warnings.warn(\"The StationXML file has version %s, ObsPy can \"\n",
      "/home/earthquakes1/software/Mageia8/anaconda3/lib/python3.9/site-packages/obspy/io/stationxml/core.py:96: UserWarning: The StationXML file has version 1, ObsPy can read versions (1.0, 1.1). Proceed with caution.\n",
      "  warnings.warn(\"The StationXML file has version %s, ObsPy can \"\n"
     ]
    },
    {
     "name": "stdout",
     "output_type": "stream",
     "text": [
      "earthquake number 573 of 1026 done. It was 20201208_233331.a\n",
      "earthquake number 574 of 1026 done. It was 20201208_070720.a\n",
      "earthquake number 575 of 1026 done. It was 20201206_164742.a\n"
     ]
    },
    {
     "name": "stderr",
     "output_type": "stream",
     "text": [
      " WARNING (norm_resp): computed and reported sensitivities differ by more than 5 percent. \n",
      "\t Execution continuing.\n",
      " WARNING (norm_resp): computed and reported sensitivities differ by more than 5 percent. \n",
      "\t Execution continuing.\n",
      " WARNING (norm_resp): computed and reported sensitivities differ by more than 5 percent. \n",
      "\t Execution continuing.\n"
     ]
    },
    {
     "name": "stdout",
     "output_type": "stream",
     "text": [
      "earthquake number 576 of 1026 done. It was 20201205_124440.a\n",
      "earthquake number 577 of 1026 done. It was 20201204_040617.a\n",
      "earthquake number 578 of 1026 done. It was 20201204_021958.a\n"
     ]
    },
    {
     "name": "stderr",
     "output_type": "stream",
     "text": [
      " WARNING (norm_resp): computed and reported sensitivities differ by more than 5 percent. \n",
      "\t Execution continuing.\n",
      " WARNING (norm_resp): computed and reported sensitivities differ by more than 5 percent. \n",
      "\t Execution continuing.\n",
      " WARNING (norm_resp): computed and reported sensitivities differ by more than 5 percent. \n",
      "\t Execution continuing.\n",
      " WARNING (norm_resp): computed and reported sensitivities differ by more than 5 percent. \n",
      "\t Execution continuing.\n",
      " WARNING (norm_resp): computed and reported sensitivities differ by more than 5 percent. \n",
      "\t Execution continuing.\n",
      " WARNING (norm_resp): computed and reported sensitivities differ by more than 5 percent. \n",
      "\t Execution continuing.\n",
      " WARNING (norm_resp): computed and reported sensitivities differ by more than 5 percent. \n",
      "\t Execution continuing.\n",
      " WARNING (norm_resp): computed and reported sensitivities differ by more than 5 percent. \n",
      "\t Execution continuing.\n",
      " WARNING (norm_resp): computed and reported sensitivities differ by more than 5 percent. \n",
      "\t Execution continuing.\n",
      " WARNING (norm_resp): computed and reported sensitivities differ by more than 5 percent. \n",
      "\t Execution continuing.\n",
      " WARNING (norm_resp): computed and reported sensitivities differ by more than 5 percent. \n",
      "\t Execution continuing.\n",
      " WARNING (norm_resp): computed and reported sensitivities differ by more than 5 percent. \n",
      "\t Execution continuing.\n"
     ]
    },
    {
     "name": "stdout",
     "output_type": "stream",
     "text": [
      "earthquake number 579 of 1026 done. It was 20201203_054520.a\n",
      "earthquake number 580 of 1026 done. It was 20201202_170036.a\n",
      "earthquake number 581 of 1026 done. It was 20201201_233256.a\n",
      "earthquake number 582 of 1026 done. It was 20210131_190514.a\n",
      "earthquake number 583 of 1026 done. It was 20210131_035926.a\n",
      "earthquake number 584 of 1026 done. It was 20210130_132459.a\n",
      "earthquake number 585 of 1026 done. It was 20210125_204207.a\n",
      "earthquake number 586 of 1026 done. It was 20210124_232141.a\n"
     ]
    },
    {
     "name": "stderr",
     "output_type": "stream",
     "text": [
      "/home/earthquakes1/software/Mageia8/anaconda3/lib/python3.9/site-packages/obspy/io/stationxml/core.py:96: UserWarning: The StationXML file has version 1, ObsPy can read versions (1.0, 1.1). Proceed with caution.\n",
      "  warnings.warn(\"The StationXML file has version %s, ObsPy can \"\n",
      "/home/earthquakes1/software/Mageia8/anaconda3/lib/python3.9/site-packages/obspy/io/stationxml/core.py:96: UserWarning: The StationXML file has version 1, ObsPy can read versions (1.0, 1.1). Proceed with caution.\n",
      "  warnings.warn(\"The StationXML file has version %s, ObsPy can \"\n",
      "/home/earthquakes1/software/Mageia8/anaconda3/lib/python3.9/site-packages/obspy/io/stationxml/core.py:96: UserWarning: The StationXML file has version 1, ObsPy can read versions (1.0, 1.1). Proceed with caution.\n",
      "  warnings.warn(\"The StationXML file has version %s, ObsPy can \"\n",
      "/home/earthquakes1/software/Mageia8/anaconda3/lib/python3.9/site-packages/obspy/io/stationxml/core.py:96: UserWarning: The StationXML file has version 1, ObsPy can read versions (1.0, 1.1). Proceed with caution.\n",
      "  warnings.warn(\"The StationXML file has version %s, ObsPy can \"\n",
      "/home/earthquakes1/software/Mageia8/anaconda3/lib/python3.9/site-packages/obspy/io/stationxml/core.py:96: UserWarning: The StationXML file has version 1, ObsPy can read versions (1.0, 1.1). Proceed with caution.\n",
      "  warnings.warn(\"The StationXML file has version %s, ObsPy can \"\n",
      "/home/earthquakes1/software/Mageia8/anaconda3/lib/python3.9/site-packages/obspy/io/stationxml/core.py:96: UserWarning: The StationXML file has version 1, ObsPy can read versions (1.0, 1.1). Proceed with caution.\n",
      "  warnings.warn(\"The StationXML file has version %s, ObsPy can \"\n",
      "/home/earthquakes1/software/Mageia8/anaconda3/lib/python3.9/site-packages/obspy/io/stationxml/core.py:96: UserWarning: The StationXML file has version 1, ObsPy can read versions (1.0, 1.1). Proceed with caution.\n",
      "  warnings.warn(\"The StationXML file has version %s, ObsPy can \"\n",
      "/home/earthquakes1/software/Mageia8/anaconda3/lib/python3.9/site-packages/obspy/io/stationxml/core.py:96: UserWarning: The StationXML file has version 1, ObsPy can read versions (1.0, 1.1). Proceed with caution.\n",
      "  warnings.warn(\"The StationXML file has version %s, ObsPy can \"\n",
      "/home/earthquakes1/software/Mageia8/anaconda3/lib/python3.9/site-packages/obspy/io/stationxml/core.py:96: UserWarning: The StationXML file has version 1, ObsPy can read versions (1.0, 1.1). Proceed with caution.\n",
      "  warnings.warn(\"The StationXML file has version %s, ObsPy can \"\n",
      "/home/earthquakes1/software/Mageia8/anaconda3/lib/python3.9/site-packages/obspy/io/stationxml/core.py:96: UserWarning: The StationXML file has version 1, ObsPy can read versions (1.0, 1.1). Proceed with caution.\n",
      "  warnings.warn(\"The StationXML file has version %s, ObsPy can \"\n",
      "/home/earthquakes1/software/Mageia8/anaconda3/lib/python3.9/site-packages/obspy/io/stationxml/core.py:96: UserWarning: The StationXML file has version 1, ObsPy can read versions (1.0, 1.1). Proceed with caution.\n",
      "  warnings.warn(\"The StationXML file has version %s, ObsPy can \"\n",
      "/home/earthquakes1/software/Mageia8/anaconda3/lib/python3.9/site-packages/obspy/io/stationxml/core.py:96: UserWarning: The StationXML file has version 1, ObsPy can read versions (1.0, 1.1). Proceed with caution.\n",
      "  warnings.warn(\"The StationXML file has version %s, ObsPy can \"\n",
      "/home/earthquakes1/software/Mageia8/anaconda3/lib/python3.9/site-packages/obspy/io/stationxml/core.py:96: UserWarning: The StationXML file has version 1, ObsPy can read versions (1.0, 1.1). Proceed with caution.\n",
      "  warnings.warn(\"The StationXML file has version %s, ObsPy can \"\n",
      "/home/earthquakes1/software/Mageia8/anaconda3/lib/python3.9/site-packages/obspy/io/stationxml/core.py:96: UserWarning: The StationXML file has version 1, ObsPy can read versions (1.0, 1.1). Proceed with caution.\n",
      "  warnings.warn(\"The StationXML file has version %s, ObsPy can \"\n",
      "/home/earthquakes1/software/Mageia8/anaconda3/lib/python3.9/site-packages/obspy/io/stationxml/core.py:96: UserWarning: The StationXML file has version 1, ObsPy can read versions (1.0, 1.1). Proceed with caution.\n",
      "  warnings.warn(\"The StationXML file has version %s, ObsPy can \"\n",
      "/home/earthquakes1/software/Mageia8/anaconda3/lib/python3.9/site-packages/obspy/io/stationxml/core.py:96: UserWarning: The StationXML file has version 1, ObsPy can read versions (1.0, 1.1). Proceed with caution.\n",
      "  warnings.warn(\"The StationXML file has version %s, ObsPy can \"\n",
      "/home/earthquakes1/software/Mageia8/anaconda3/lib/python3.9/site-packages/obspy/io/stationxml/core.py:96: UserWarning: The StationXML file has version 1, ObsPy can read versions (1.0, 1.1). Proceed with caution.\n",
      "  warnings.warn(\"The StationXML file has version %s, ObsPy can \"\n",
      "/home/earthquakes1/software/Mageia8/anaconda3/lib/python3.9/site-packages/obspy/io/stationxml/core.py:96: UserWarning: The StationXML file has version 1, ObsPy can read versions (1.0, 1.1). Proceed with caution.\n",
      "  warnings.warn(\"The StationXML file has version %s, ObsPy can \"\n",
      "/home/earthquakes1/software/Mageia8/anaconda3/lib/python3.9/site-packages/obspy/io/stationxml/core.py:96: UserWarning: The StationXML file has version 1, ObsPy can read versions (1.0, 1.1). Proceed with caution.\n",
      "  warnings.warn(\"The StationXML file has version %s, ObsPy can \"\n",
      "/home/earthquakes1/software/Mageia8/anaconda3/lib/python3.9/site-packages/obspy/io/stationxml/core.py:96: UserWarning: The StationXML file has version 1, ObsPy can read versions (1.0, 1.1). Proceed with caution.\n",
      "  warnings.warn(\"The StationXML file has version %s, ObsPy can \"\n",
      "/home/earthquakes1/software/Mageia8/anaconda3/lib/python3.9/site-packages/obspy/io/stationxml/core.py:96: UserWarning: The StationXML file has version 1, ObsPy can read versions (1.0, 1.1). Proceed with caution.\n",
      "  warnings.warn(\"The StationXML file has version %s, ObsPy can \"\n",
      "/home/earthquakes1/software/Mageia8/anaconda3/lib/python3.9/site-packages/obspy/io/stationxml/core.py:96: UserWarning: The StationXML file has version 1, ObsPy can read versions (1.0, 1.1). Proceed with caution.\n",
      "  warnings.warn(\"The StationXML file has version %s, ObsPy can \"\n",
      "/home/earthquakes1/software/Mageia8/anaconda3/lib/python3.9/site-packages/obspy/io/stationxml/core.py:96: UserWarning: The StationXML file has version 1, ObsPy can read versions (1.0, 1.1). Proceed with caution.\n",
      "  warnings.warn(\"The StationXML file has version %s, ObsPy can \"\n",
      "/home/earthquakes1/software/Mageia8/anaconda3/lib/python3.9/site-packages/obspy/io/stationxml/core.py:96: UserWarning: The StationXML file has version 1, ObsPy can read versions (1.0, 1.1). Proceed with caution.\n",
      "  warnings.warn(\"The StationXML file has version %s, ObsPy can \"\n",
      "/home/earthquakes1/software/Mageia8/anaconda3/lib/python3.9/site-packages/obspy/io/stationxml/core.py:96: UserWarning: The StationXML file has version 1, ObsPy can read versions (1.0, 1.1). Proceed with caution.\n",
      "  warnings.warn(\"The StationXML file has version %s, ObsPy can \"\n",
      "/home/earthquakes1/software/Mageia8/anaconda3/lib/python3.9/site-packages/obspy/io/stationxml/core.py:96: UserWarning: The StationXML file has version 1, ObsPy can read versions (1.0, 1.1). Proceed with caution.\n",
      "  warnings.warn(\"The StationXML file has version %s, ObsPy can \"\n",
      "/home/earthquakes1/software/Mageia8/anaconda3/lib/python3.9/site-packages/obspy/io/stationxml/core.py:96: UserWarning: The StationXML file has version 1, ObsPy can read versions (1.0, 1.1). Proceed with caution.\n",
      "  warnings.warn(\"The StationXML file has version %s, ObsPy can \"\n",
      "/home/earthquakes1/software/Mageia8/anaconda3/lib/python3.9/site-packages/obspy/io/stationxml/core.py:96: UserWarning: The StationXML file has version 1, ObsPy can read versions (1.0, 1.1). Proceed with caution.\n",
      "  warnings.warn(\"The StationXML file has version %s, ObsPy can \"\n"
     ]
    },
    {
     "name": "stdout",
     "output_type": "stream",
     "text": [
      "earthquake number 588 of 1025 done. It was 20210124_000745.a\n",
      "earthquake number 589 of 1025 done. It was 20210121_142706.a\n",
      "earthquake number 590 of 1025 done. It was 20210118_071716.a\n",
      "earthquake number 591 of 1025 done. It was 20210117_033855.a\n",
      "earthquake number 592 of 1025 done. It was 20210115_133819.a\n",
      "earthquake number 593 of 1025 done. It was 20210112_220957.a\n",
      "earthquake number 594 of 1025 done. It was 20210110_064820.a\n",
      "earthquake number 595 of 1025 done. It was 20210110_035414.a\n",
      "earthquake number 596 of 1025 done. It was 20210109_013938.a\n"
     ]
    },
    {
     "name": "stderr",
     "output_type": "stream",
     "text": [
      "/home/earthquakes1/software/Mageia8/anaconda3/lib/python3.9/site-packages/obspy/io/stationxml/core.py:96: UserWarning: The StationXML file has version 1, ObsPy can read versions (1.0, 1.1). Proceed with caution.\n",
      "  warnings.warn(\"The StationXML file has version %s, ObsPy can \"\n",
      "/home/earthquakes1/software/Mageia8/anaconda3/lib/python3.9/site-packages/obspy/io/stationxml/core.py:96: UserWarning: The StationXML file has version 1, ObsPy can read versions (1.0, 1.1). Proceed with caution.\n",
      "  warnings.warn(\"The StationXML file has version %s, ObsPy can \"\n"
     ]
    },
    {
     "name": "stdout",
     "output_type": "stream",
     "text": [
      "earthquake number 597 of 1025 done. It was 20210108_114158.a\n",
      "earthquake number 598 of 1025 done. It was 20210108_050104.a\n",
      "earthquake number 599 of 1025 done. It was 20210108_034857.a\n"
     ]
    },
    {
     "name": "stderr",
     "output_type": "stream",
     "text": [
      "/home/earthquakes1/software/Mageia8/anaconda3/lib/python3.9/site-packages/obspy/io/stationxml/core.py:96: UserWarning: The StationXML file has version 1, ObsPy can read versions (1.0, 1.1). Proceed with caution.\n",
      "  warnings.warn(\"The StationXML file has version %s, ObsPy can \"\n",
      "/home/earthquakes1/software/Mageia8/anaconda3/lib/python3.9/site-packages/obspy/io/stationxml/core.py:96: UserWarning: The StationXML file has version 1, ObsPy can read versions (1.0, 1.1). Proceed with caution.\n",
      "  warnings.warn(\"The StationXML file has version %s, ObsPy can \"\n"
     ]
    },
    {
     "name": "stdout",
     "output_type": "stream",
     "text": [
      "earthquake number 600 of 1025 done. It was 20210108_002849.a\n"
     ]
    },
    {
     "name": "stderr",
     "output_type": "stream",
     "text": [
      "/home/earthquakes1/software/Mageia8/anaconda3/lib/python3.9/site-packages/obspy/io/stationxml/core.py:96: UserWarning: The StationXML file has version 1, ObsPy can read versions (1.0, 1.1). Proceed with caution.\n",
      "  warnings.warn(\"The StationXML file has version %s, ObsPy can \"\n",
      "/home/earthquakes1/software/Mageia8/anaconda3/lib/python3.9/site-packages/obspy/io/stationxml/core.py:96: UserWarning: The StationXML file has version 1, ObsPy can read versions (1.0, 1.1). Proceed with caution.\n",
      "  warnings.warn(\"The StationXML file has version %s, ObsPy can \"\n"
     ]
    },
    {
     "name": "stdout",
     "output_type": "stream",
     "text": [
      "earthquake number 601 of 1025 done. It was 20210106_062035.a\n"
     ]
    },
    {
     "name": "stderr",
     "output_type": "stream",
     "text": [
      " WARNING: FIR normalized: sum[coef]=-6.913431E-05;     \n",
      " WARNING: FIR normalized: sum[coef]=-6.913431E-05;     \n",
      " WARNING: FIR normalized: sum[coef]=-6.913431E-05;     \n",
      " WARNING (norm_resp): computed and reported sensitivities differ by more than 5 percent. \n",
      "\t Execution continuing.\n",
      " WARNING (norm_resp): computed and reported sensitivities differ by more than 5 percent. \n",
      "\t Execution continuing.\n",
      " WARNING (norm_resp): computed and reported sensitivities differ by more than 5 percent. \n",
      "\t Execution continuing.\n",
      " WARNING (norm_resp): computed and reported sensitivities differ by more than 5 percent. \n",
      "\t Execution continuing.\n",
      " WARNING (norm_resp): computed and reported sensitivities differ by more than 5 percent. \n",
      "\t Execution continuing.\n",
      " WARNING (norm_resp): computed and reported sensitivities differ by more than 5 percent. \n",
      "\t Execution continuing.\n",
      " WARNING (norm_resp): computed and reported sensitivities differ by more than 5 percent. \n",
      "\t Execution continuing.\n",
      " WARNING (norm_resp): computed and reported sensitivities differ by more than 5 percent. \n",
      "\t Execution continuing.\n",
      " WARNING (norm_resp): computed and reported sensitivities differ by more than 5 percent. \n",
      "\t Execution continuing.\n",
      " WARNING (norm_resp): computed and reported sensitivities differ by more than 5 percent. \n",
      "\t Execution continuing.\n",
      " WARNING (norm_resp): computed and reported sensitivities differ by more than 5 percent. \n",
      "\t Execution continuing.\n",
      " WARNING (norm_resp): computed and reported sensitivities differ by more than 5 percent. \n",
      "\t Execution continuing.\n",
      " WARNING (norm_resp): computed and reported sensitivities differ by more than 5 percent. \n",
      "\t Execution continuing.\n",
      " WARNING (norm_resp): computed and reported sensitivities differ by more than 5 percent. \n",
      "\t Execution continuing.\n",
      " WARNING (norm_resp): computed and reported sensitivities differ by more than 5 percent. \n",
      "\t Execution continuing.\n",
      " WARNING: FIR normalized: sum[coef]=-6.913431E-05;     \n",
      " WARNING: FIR normalized: sum[coef]=-6.913431E-05;     \n",
      " WARNING: FIR normalized: sum[coef]=-6.913431E-05;     \n",
      " WARNING (norm_resp): computed and reported sensitivities differ by more than 5 percent. \n",
      "\t Execution continuing.\n",
      " WARNING (norm_resp): computed and reported sensitivities differ by more than 5 percent. \n",
      "\t Execution continuing.\n",
      " WARNING (norm_resp): computed and reported sensitivities differ by more than 5 percent. \n",
      "\t Execution continuing.\n",
      " WARNING: FIR normalized: sum[coef]=-6.913431E-05;     \n",
      " WARNING: FIR normalized: sum[coef]=-6.913431E-05;     \n",
      " WARNING: FIR normalized: sum[coef]=-6.913431E-05;     \n",
      " WARNING: FIR normalized: sum[coef]=-6.913431E-05;     \n",
      " WARNING (norm_resp): computed and reported sensitivities differ by more than 5 percent. \n",
      "\t Execution continuing.\n",
      " WARNING: FIR normalized: sum[coef]=-6.913431E-05;     \n",
      " WARNING (norm_resp): computed and reported sensitivities differ by more than 5 percent. \n",
      "\t Execution continuing.\n",
      " WARNING: FIR normalized: sum[coef]=-6.913431E-05;     \n",
      " WARNING (norm_resp): computed and reported sensitivities differ by more than 5 percent. \n",
      "\t Execution continuing.\n"
     ]
    },
    {
     "name": "stdout",
     "output_type": "stream",
     "text": [
      "earthquake number 602 of 1025 done. It was 20210227_080746.a\n"
     ]
    },
    {
     "name": "stderr",
     "output_type": "stream",
     "text": [
      " WARNING: FIR normalized: sum[coef]=-6.913431E-05;     \n",
      " WARNING: FIR normalized: sum[coef]=-6.913431E-05;     \n",
      " WARNING: FIR normalized: sum[coef]=-6.913431E-05;     \n",
      " WARNING: FIR normalized: sum[coef]=-6.913431E-05;     \n",
      " WARNING: FIR normalized: sum[coef]=-6.913431E-05;     \n",
      " WARNING: FIR normalized: sum[coef]=-6.913431E-05;     \n",
      " WARNING: FIR normalized: sum[coef]=-6.913431E-05;     \n",
      " WARNING: FIR normalized: sum[coef]=-6.913431E-05;     \n",
      " WARNING: FIR normalized: sum[coef]=-6.913431E-05;     \n",
      " WARNING (norm_resp): computed and reported sensitivities differ by more than 5 percent. \n",
      "\t Execution continuing.\n",
      " WARNING (norm_resp): computed and reported sensitivities differ by more than 5 percent. \n",
      "\t Execution continuing.\n",
      " WARNING (norm_resp): computed and reported sensitivities differ by more than 5 percent. \n",
      "\t Execution continuing.\n",
      " WARNING (norm_resp): computed and reported sensitivities differ by more than 5 percent. \n",
      "\t Execution continuing.\n",
      " WARNING (norm_resp): computed and reported sensitivities differ by more than 5 percent. \n",
      "\t Execution continuing.\n",
      " WARNING (norm_resp): computed and reported sensitivities differ by more than 5 percent. \n",
      "\t Execution continuing.\n",
      " WARNING (norm_resp): computed and reported sensitivities differ by more than 5 percent. \n",
      "\t Execution continuing.\n",
      " WARNING (norm_resp): computed and reported sensitivities differ by more than 5 percent. \n",
      "\t Execution continuing.\n",
      " WARNING (norm_resp): computed and reported sensitivities differ by more than 5 percent. \n",
      "\t Execution continuing.\n",
      " WARNING (norm_resp): computed and reported sensitivities differ by more than 5 percent. \n",
      "\t Execution continuing.\n",
      " WARNING (norm_resp): computed and reported sensitivities differ by more than 5 percent. \n",
      "\t Execution continuing.\n",
      " WARNING (norm_resp): computed and reported sensitivities differ by more than 5 percent. \n",
      "\t Execution continuing.\n",
      " WARNING: FIR normalized: sum[coef]=-6.913431E-05;     \n",
      " WARNING: FIR normalized: sum[coef]=-6.913431E-05;     \n",
      " WARNING: FIR normalized: sum[coef]=-6.913431E-05;     \n",
      " WARNING (norm_resp): computed and reported sensitivities differ by more than 5 percent. \n",
      "\t Execution continuing.\n",
      " WARNING (norm_resp): computed and reported sensitivities differ by more than 5 percent. \n",
      "\t Execution continuing.\n",
      " WARNING (norm_resp): computed and reported sensitivities differ by more than 5 percent. \n",
      "\t Execution continuing.\n",
      " WARNING: FIR normalized: sum[coef]=-6.913431E-05;     \n",
      " WARNING: FIR normalized: sum[coef]=-6.913431E-05;     \n",
      " WARNING: FIR normalized: sum[coef]=-6.913431E-05;     \n",
      " WARNING: FIR normalized: sum[coef]=-6.913431E-05;     \n",
      " WARNING (norm_resp): computed and reported sensitivities differ by more than 5 percent. \n",
      "\t Execution continuing.\n",
      " WARNING: FIR normalized: sum[coef]=-6.913431E-05;     \n",
      " WARNING (norm_resp): computed and reported sensitivities differ by more than 5 percent. \n",
      "\t Execution continuing.\n",
      " WARNING: FIR normalized: sum[coef]=-6.913431E-05;     \n",
      " WARNING (norm_resp): computed and reported sensitivities differ by more than 5 percent. \n",
      "\t Execution continuing.\n"
     ]
    },
    {
     "name": "stdout",
     "output_type": "stream",
     "text": [
      "earthquake number 603 of 1025 done. It was 20210224_100559.a\n",
      "earthquake number 604 of 1025 done. It was 20210223_220643.a\n"
     ]
    },
    {
     "name": "stderr",
     "output_type": "stream",
     "text": [
      "/home/earthquakes1/software/Mageia8/anaconda3/lib/python3.9/site-packages/obspy/io/stationxml/core.py:96: UserWarning: The StationXML file has version 1, ObsPy can read versions (1.0, 1.1). Proceed with caution.\n",
      "  warnings.warn(\"The StationXML file has version %s, ObsPy can \"\n",
      "/home/earthquakes1/software/Mageia8/anaconda3/lib/python3.9/site-packages/obspy/io/stationxml/core.py:96: UserWarning: The StationXML file has version 1, ObsPy can read versions (1.0, 1.1). Proceed with caution.\n",
      "  warnings.warn(\"The StationXML file has version %s, ObsPy can \"\n"
     ]
    },
    {
     "name": "stdout",
     "output_type": "stream",
     "text": [
      "earthquake number 605 of 1025 done. It was 20210223_040728.a\n",
      "earthquake number 606 of 1025 done. It was 20210222_141650.a\n",
      "earthquake number 607 of 1025 done. It was 20210219_031030.a\n",
      "earthquake number 608 of 1025 done. It was 20210218_153047.a\n",
      "earthquake number 609 of 1025 done. It was 20210217_093617.a\n",
      "earthquake number 610 of 1025 done. It was 20210217_033607.a\n",
      "earthquake number 611 of 1025 done. It was 20210216_080723.a\n",
      "earthquake number 612 of 1025 done. It was 20210213_184939.a\n",
      "earthquake number 613 of 1025 done. It was 20210210_201829.a\n",
      "earthquake number 614 of 1025 done. It was 20210210_084740.a\n",
      "earthquake number 615 of 1025 done. It was 20210205_153610.a\n"
     ]
    },
    {
     "name": "stderr",
     "output_type": "stream",
     "text": [
      " WARNING (norm_resp): computed and reported sensitivities differ by more than 5 percent. \n",
      "\t Execution continuing.\n",
      " WARNING (norm_resp): computed and reported sensitivities differ by more than 5 percent. \n",
      "\t Execution continuing.\n",
      " WARNING (norm_resp): computed and reported sensitivities differ by more than 5 percent. \n",
      "\t Execution continuing.\n",
      " WARNING (norm_resp): computed and reported sensitivities differ by more than 5 percent. \n",
      "\t Execution continuing.\n",
      " WARNING (norm_resp): computed and reported sensitivities differ by more than 5 percent. \n",
      "\t Execution continuing.\n",
      " WARNING (norm_resp): computed and reported sensitivities differ by more than 5 percent. \n",
      "\t Execution continuing.\n",
      " WARNING (norm_resp): computed and reported sensitivities differ by more than 5 percent. \n",
      "\t Execution continuing.\n",
      " WARNING (norm_resp): computed and reported sensitivities differ by more than 5 percent. \n",
      "\t Execution continuing.\n",
      " WARNING (norm_resp): computed and reported sensitivities differ by more than 5 percent. \n",
      "\t Execution continuing.\n",
      " WARNING (norm_resp): computed and reported sensitivities differ by more than 5 percent. \n",
      "\t Execution continuing.\n",
      " WARNING (norm_resp): computed and reported sensitivities differ by more than 5 percent. \n",
      "\t Execution continuing.\n",
      " WARNING (norm_resp): computed and reported sensitivities differ by more than 5 percent. \n",
      "\t Execution continuing.\n",
      " WARNING (norm_resp): computed and reported sensitivities differ by more than 5 percent. \n",
      "\t Execution continuing.\n",
      " WARNING (norm_resp): computed and reported sensitivities differ by more than 5 percent. \n",
      "\t Execution continuing.\n",
      " WARNING (norm_resp): computed and reported sensitivities differ by more than 5 percent. \n",
      "\t Execution continuing.\n",
      " WARNING (norm_resp): computed and reported sensitivities differ by more than 5 percent. \n",
      "\t Execution continuing.\n",
      " WARNING (norm_resp): computed and reported sensitivities differ by more than 5 percent. \n",
      "\t Execution continuing.\n",
      " WARNING (norm_resp): computed and reported sensitivities differ by more than 5 percent. \n",
      "\t Execution continuing.\n",
      " WARNING (norm_resp): computed and reported sensitivities differ by more than 5 percent. \n",
      "\t Execution continuing.\n",
      " WARNING (norm_resp): computed and reported sensitivities differ by more than 5 percent. \n",
      "\t Execution continuing.\n"
     ]
    },
    {
     "name": "stdout",
     "output_type": "stream",
     "text": [
      "earthquake number 616 of 1025 done. It was 20210201_083518.a\n"
     ]
    },
    {
     "name": "stderr",
     "output_type": "stream",
     "text": [
      "/home/earthquakes1/software/Mageia8/anaconda3/lib/python3.9/site-packages/obspy/io/stationxml/core.py:96: UserWarning: The StationXML file has version 1, ObsPy can read versions (1.0, 1.1). Proceed with caution.\n",
      "  warnings.warn(\"The StationXML file has version %s, ObsPy can \"\n",
      "/home/earthquakes1/software/Mageia8/anaconda3/lib/python3.9/site-packages/obspy/io/stationxml/core.py:96: UserWarning: The StationXML file has version 1, ObsPy can read versions (1.0, 1.1). Proceed with caution.\n",
      "  warnings.warn(\"The StationXML file has version %s, ObsPy can \"\n"
     ]
    },
    {
     "name": "stdout",
     "output_type": "stream",
     "text": [
      "earthquake number 617 of 1025 done. It was 20210331_040558.a\n",
      "earthquake number 618 of 1025 done. It was 20210327_134755.a\n",
      "earthquake number 619 of 1025 done. It was 20210327_065958.a\n",
      "earthquake number 620 of 1025 done. It was 20210326_045138.a\n"
     ]
    },
    {
     "name": "stderr",
     "output_type": "stream",
     "text": [
      "/home/earthquakes1/software/Mageia8/anaconda3/lib/python3.9/site-packages/obspy/io/stationxml/core.py:96: UserWarning: The StationXML file has version 1, ObsPy can read versions (1.0, 1.1). Proceed with caution.\n",
      "  warnings.warn(\"The StationXML file has version %s, ObsPy can \"\n",
      "/home/earthquakes1/software/Mageia8/anaconda3/lib/python3.9/site-packages/obspy/io/stationxml/core.py:96: UserWarning: The StationXML file has version 1, ObsPy can read versions (1.0, 1.1). Proceed with caution.\n",
      "  warnings.warn(\"The StationXML file has version %s, ObsPy can \"\n"
     ]
    },
    {
     "name": "stdout",
     "output_type": "stream",
     "text": [
      "earthquake number 621 of 1025 done. It was 20210325_034036.a\n",
      "earthquake number 622 of 1025 done. It was 20210323_211418.a\n",
      "earthquake number 623 of 1025 done. It was 20210323_140853.a\n",
      "earthquake number 624 of 1025 done. It was 20210323_124005.a\n"
     ]
    },
    {
     "name": "stderr",
     "output_type": "stream",
     "text": [
      "/home/earthquakes1/software/Mageia8/anaconda3/lib/python3.9/site-packages/obspy/io/stationxml/core.py:96: UserWarning: The StationXML file has version 1, ObsPy can read versions (1.0, 1.1). Proceed with caution.\n",
      "  warnings.warn(\"The StationXML file has version %s, ObsPy can \"\n",
      "/home/earthquakes1/software/Mageia8/anaconda3/lib/python3.9/site-packages/obspy/io/stationxml/core.py:96: UserWarning: The StationXML file has version 1, ObsPy can read versions (1.0, 1.1). Proceed with caution.\n",
      "  warnings.warn(\"The StationXML file has version %s, ObsPy can \"\n"
     ]
    },
    {
     "name": "stdout",
     "output_type": "stream",
     "text": [
      "earthquake number 625 of 1025 done. It was 20210322_174111.a\n"
     ]
    },
    {
     "name": "stderr",
     "output_type": "stream",
     "text": [
      "/home/earthquakes1/software/Mageia8/anaconda3/lib/python3.9/site-packages/obspy/io/stationxml/core.py:96: UserWarning: The StationXML file has version 1, ObsPy can read versions (1.0, 1.1). Proceed with caution.\n",
      "  warnings.warn(\"The StationXML file has version %s, ObsPy can \"\n",
      "/home/earthquakes1/software/Mageia8/anaconda3/lib/python3.9/site-packages/obspy/io/stationxml/core.py:96: UserWarning: The StationXML file has version 1, ObsPy can read versions (1.0, 1.1). Proceed with caution.\n",
      "  warnings.warn(\"The StationXML file has version %s, ObsPy can \"\n",
      "/home/earthquakes1/software/Mageia8/anaconda3/lib/python3.9/site-packages/obspy/io/stationxml/core.py:96: UserWarning: The StationXML file has version 1, ObsPy can read versions (1.0, 1.1). Proceed with caution.\n",
      "  warnings.warn(\"The StationXML file has version %s, ObsPy can \"\n",
      "/home/earthquakes1/software/Mageia8/anaconda3/lib/python3.9/site-packages/obspy/io/stationxml/core.py:96: UserWarning: The StationXML file has version 1, ObsPy can read versions (1.0, 1.1). Proceed with caution.\n",
      "  warnings.warn(\"The StationXML file has version %s, ObsPy can \"\n",
      "/home/earthquakes1/software/Mageia8/anaconda3/lib/python3.9/site-packages/obspy/io/stationxml/core.py:96: UserWarning: The StationXML file has version 1, ObsPy can read versions (1.0, 1.1). Proceed with caution.\n",
      "  warnings.warn(\"The StationXML file has version %s, ObsPy can \"\n"
     ]
    },
    {
     "name": "stdout",
     "output_type": "stream",
     "text": [
      "earthquake number 626 of 1025 done. It was 20210322_142311.a\n"
     ]
    },
    {
     "name": "stderr",
     "output_type": "stream",
     "text": [
      "/home/earthquakes1/software/Mageia8/anaconda3/lib/python3.9/site-packages/obspy/io/stationxml/core.py:96: UserWarning: The StationXML file has version 1, ObsPy can read versions (1.0, 1.1). Proceed with caution.\n",
      "  warnings.warn(\"The StationXML file has version %s, ObsPy can \"\n",
      "/home/earthquakes1/software/Mageia8/anaconda3/lib/python3.9/site-packages/obspy/io/stationxml/core.py:96: UserWarning: The StationXML file has version 1, ObsPy can read versions (1.0, 1.1). Proceed with caution.\n",
      "  warnings.warn(\"The StationXML file has version %s, ObsPy can \"\n"
     ]
    },
    {
     "name": "stdout",
     "output_type": "stream",
     "text": [
      "earthquake number 627 of 1025 done. It was 20210319_180943.a\n",
      "earthquake number 628 of 1025 done. It was 20210319_175726.a\n"
     ]
    },
    {
     "name": "stderr",
     "output_type": "stream",
     "text": [
      "/home/earthquakes1/software/Mageia8/anaconda3/lib/python3.9/site-packages/obspy/io/stationxml/core.py:96: UserWarning: The StationXML file has version 1, ObsPy can read versions (1.0, 1.1). Proceed with caution.\n",
      "  warnings.warn(\"The StationXML file has version %s, ObsPy can \"\n",
      "/home/earthquakes1/software/Mageia8/anaconda3/lib/python3.9/site-packages/obspy/io/stationxml/core.py:96: UserWarning: The StationXML file has version 1, ObsPy can read versions (1.0, 1.1). Proceed with caution.\n",
      "  warnings.warn(\"The StationXML file has version %s, ObsPy can \"\n"
     ]
    },
    {
     "name": "stdout",
     "output_type": "stream",
     "text": [
      "earthquake number 629 of 1025 done. It was 20210319_164709.a\n"
     ]
    },
    {
     "name": "stderr",
     "output_type": "stream",
     "text": [
      "/home/earthquakes1/software/Mageia8/anaconda3/lib/python3.9/site-packages/obspy/io/stationxml/core.py:96: UserWarning: The StationXML file has version 1, ObsPy can read versions (1.0, 1.1). Proceed with caution.\n",
      "  warnings.warn(\"The StationXML file has version %s, ObsPy can \"\n",
      "/home/earthquakes1/software/Mageia8/anaconda3/lib/python3.9/site-packages/obspy/io/stationxml/core.py:96: UserWarning: The StationXML file has version 1, ObsPy can read versions (1.0, 1.1). Proceed with caution.\n",
      "  warnings.warn(\"The StationXML file has version %s, ObsPy can \"\n"
     ]
    },
    {
     "name": "stdout",
     "output_type": "stream",
     "text": [
      "earthquake number 630 of 1025 done. It was 20210316_124825.a\n"
     ]
    },
    {
     "name": "stderr",
     "output_type": "stream",
     "text": [
      "/home/earthquakes1/software/Mageia8/anaconda3/lib/python3.9/site-packages/obspy/io/stationxml/core.py:96: UserWarning: The StationXML file has version 1, ObsPy can read versions (1.0, 1.1). Proceed with caution.\n",
      "  warnings.warn(\"The StationXML file has version %s, ObsPy can \"\n",
      "/home/earthquakes1/software/Mageia8/anaconda3/lib/python3.9/site-packages/obspy/io/stationxml/core.py:96: UserWarning: The StationXML file has version 1, ObsPy can read versions (1.0, 1.1). Proceed with caution.\n",
      "  warnings.warn(\"The StationXML file has version %s, ObsPy can \"\n"
     ]
    },
    {
     "name": "stdout",
     "output_type": "stream",
     "text": [
      "earthquake number 631 of 1025 done. It was 20210316_031333.a\n"
     ]
    },
    {
     "name": "stderr",
     "output_type": "stream",
     "text": [
      "/home/earthquakes1/software/Mageia8/anaconda3/lib/python3.9/site-packages/obspy/io/stationxml/core.py:96: UserWarning: The StationXML file has version 1, ObsPy can read versions (1.0, 1.1). Proceed with caution.\n",
      "  warnings.warn(\"The StationXML file has version %s, ObsPy can \"\n",
      "/home/earthquakes1/software/Mageia8/anaconda3/lib/python3.9/site-packages/obspy/io/stationxml/core.py:96: UserWarning: The StationXML file has version 1, ObsPy can read versions (1.0, 1.1). Proceed with caution.\n",
      "  warnings.warn(\"The StationXML file has version %s, ObsPy can \"\n"
     ]
    },
    {
     "name": "stdout",
     "output_type": "stream",
     "text": [
      "earthquake number 632 of 1025 done. It was 20210315_213159.a\n"
     ]
    },
    {
     "name": "stderr",
     "output_type": "stream",
     "text": [
      "/home/earthquakes1/software/Mageia8/anaconda3/lib/python3.9/site-packages/obspy/io/stationxml/core.py:96: UserWarning: The StationXML file has version 1, ObsPy can read versions (1.0, 1.1). Proceed with caution.\n",
      "  warnings.warn(\"The StationXML file has version %s, ObsPy can \"\n",
      "/home/earthquakes1/software/Mageia8/anaconda3/lib/python3.9/site-packages/obspy/io/stationxml/core.py:96: UserWarning: The StationXML file has version 1, ObsPy can read versions (1.0, 1.1). Proceed with caution.\n",
      "  warnings.warn(\"The StationXML file has version %s, ObsPy can \"\n"
     ]
    },
    {
     "name": "stdout",
     "output_type": "stream",
     "text": [
      "earthquake number 633 of 1025 done. It was 20210315_204435.a\n"
     ]
    },
    {
     "name": "stderr",
     "output_type": "stream",
     "text": [
      "/home/earthquakes1/software/Mageia8/anaconda3/lib/python3.9/site-packages/obspy/io/stationxml/core.py:96: UserWarning: The StationXML file has version 1, ObsPy can read versions (1.0, 1.1). Proceed with caution.\n",
      "  warnings.warn(\"The StationXML file has version %s, ObsPy can \"\n",
      "/home/earthquakes1/software/Mageia8/anaconda3/lib/python3.9/site-packages/obspy/io/stationxml/core.py:96: UserWarning: The StationXML file has version 1, ObsPy can read versions (1.0, 1.1). Proceed with caution.\n",
      "  warnings.warn(\"The StationXML file has version %s, ObsPy can \"\n"
     ]
    },
    {
     "name": "stdout",
     "output_type": "stream",
     "text": [
      "earthquake number 634 of 1025 done. It was 20210315_192846.a\n"
     ]
    },
    {
     "name": "stderr",
     "output_type": "stream",
     "text": [
      " WARNING: FIR normalized: sum[coef]=-6.913431E-05;     \n",
      " WARNING: FIR normalized: sum[coef]=-6.913431E-05;     \n",
      " WARNING: FIR normalized: sum[coef]=-6.913431E-05;     \n",
      " WARNING: FIR normalized: sum[coef]=-6.913431E-05;     \n",
      " WARNING: FIR normalized: sum[coef]=-6.913431E-05;     \n",
      " WARNING: FIR normalized: sum[coef]=-6.913431E-05;     \n",
      " WARNING (norm_resp): computed and reported sensitivities differ by more than 5 percent. \n",
      "\t Execution continuing.\n",
      " WARNING (norm_resp): computed and reported sensitivities differ by more than 5 percent. \n",
      "\t Execution continuing.\n",
      " WARNING (norm_resp): computed and reported sensitivities differ by more than 5 percent. \n",
      "\t Execution continuing.\n",
      " WARNING (norm_resp): computed and reported sensitivities differ by more than 5 percent. \n",
      "\t Execution continuing.\n",
      " WARNING (norm_resp): computed and reported sensitivities differ by more than 5 percent. \n",
      "\t Execution continuing.\n",
      " WARNING (norm_resp): computed and reported sensitivities differ by more than 5 percent. \n",
      "\t Execution continuing.\n",
      " WARNING (norm_resp): computed and reported sensitivities differ by more than 5 percent. \n",
      "\t Execution continuing.\n",
      " WARNING (norm_resp): computed and reported sensitivities differ by more than 5 percent. \n",
      "\t Execution continuing.\n",
      " WARNING (norm_resp): computed and reported sensitivities differ by more than 5 percent. \n",
      "\t Execution continuing.\n",
      " WARNING (norm_resp): computed and reported sensitivities differ by more than 5 percent. \n",
      "\t Execution continuing.\n",
      " WARNING (norm_resp): computed and reported sensitivities differ by more than 5 percent. \n",
      "\t Execution continuing.\n",
      " WARNING (norm_resp): computed and reported sensitivities differ by more than 5 percent. \n",
      "\t Execution continuing.\n",
      " WARNING (norm_resp): computed and reported sensitivities differ by more than 5 percent. \n",
      "\t Execution continuing.\n",
      " WARNING (norm_resp): computed and reported sensitivities differ by more than 5 percent. \n",
      "\t Execution continuing.\n",
      " WARNING (norm_resp): computed and reported sensitivities differ by more than 5 percent. \n",
      "\t Execution continuing.\n",
      " WARNING: FIR normalized: sum[coef]=-6.913431E-05;     \n",
      " WARNING: FIR normalized: sum[coef]=-6.913431E-05;     \n",
      " WARNING: FIR normalized: sum[coef]=-6.913431E-05;     \n",
      " WARNING (norm_resp): computed and reported sensitivities differ by more than 5 percent. \n",
      "\t Execution continuing.\n",
      " WARNING (norm_resp): computed and reported sensitivities differ by more than 5 percent. \n",
      "\t Execution continuing.\n",
      " WARNING (norm_resp): computed and reported sensitivities differ by more than 5 percent. \n",
      "\t Execution continuing.\n",
      " WARNING: FIR normalized: sum[coef]=-6.913431E-05;     \n",
      " WARNING: FIR normalized: sum[coef]=-6.913431E-05;     \n",
      " WARNING: FIR normalized: sum[coef]=-6.913431E-05;     \n",
      " WARNING: FIR normalized: sum[coef]=-6.913431E-05;     \n",
      " WARNING (norm_resp): computed and reported sensitivities differ by more than 5 percent. \n",
      "\t Execution continuing.\n",
      " WARNING: FIR normalized: sum[coef]=-6.913431E-05;     \n",
      " WARNING (norm_resp): computed and reported sensitivities differ by more than 5 percent. \n",
      "\t Execution continuing.\n",
      " WARNING: FIR normalized: sum[coef]=-6.913431E-05;     \n",
      " WARNING (norm_resp): computed and reported sensitivities differ by more than 5 percent. \n",
      "\t Execution continuing.\n"
     ]
    },
    {
     "name": "stdout",
     "output_type": "stream",
     "text": [
      "earthquake number 635 of 1025 done. It was 20210314_141526.a\n",
      "earthquake number 636 of 1025 done. It was 20210314_091412.a\n",
      "earthquake number 637 of 1025 done. It was 20210314_091027.a\n"
     ]
    },
    {
     "name": "stderr",
     "output_type": "stream",
     "text": [
      "/home/earthquakes1/software/Mageia8/anaconda3/lib/python3.9/site-packages/obspy/io/stationxml/core.py:96: UserWarning: The StationXML file has version 1, ObsPy can read versions (1.0, 1.1). Proceed with caution.\n",
      "  warnings.warn(\"The StationXML file has version %s, ObsPy can \"\n",
      "/home/earthquakes1/software/Mageia8/anaconda3/lib/python3.9/site-packages/obspy/io/stationxml/core.py:96: UserWarning: The StationXML file has version 1, ObsPy can read versions (1.0, 1.1). Proceed with caution.\n",
      "  warnings.warn(\"The StationXML file has version %s, ObsPy can \"\n"
     ]
    },
    {
     "name": "stdout",
     "output_type": "stream",
     "text": [
      "earthquake number 638 of 1025 done. It was 20210314_004015.a\n"
     ]
    },
    {
     "name": "stderr",
     "output_type": "stream",
     "text": [
      "/home/earthquakes1/software/Mageia8/anaconda3/lib/python3.9/site-packages/obspy/io/stationxml/core.py:96: UserWarning: The StationXML file has version 1, ObsPy can read versions (1.0, 1.1). Proceed with caution.\n",
      "  warnings.warn(\"The StationXML file has version %s, ObsPy can \"\n",
      "/home/earthquakes1/software/Mageia8/anaconda3/lib/python3.9/site-packages/obspy/io/stationxml/core.py:96: UserWarning: The StationXML file has version 1, ObsPy can read versions (1.0, 1.1). Proceed with caution.\n",
      "  warnings.warn(\"The StationXML file has version %s, ObsPy can \"\n"
     ]
    },
    {
     "name": "stdout",
     "output_type": "stream",
     "text": [
      "earthquake number 639 of 1025 done. It was 20210313_212431.a\n"
     ]
    },
    {
     "name": "stderr",
     "output_type": "stream",
     "text": [
      "/home/earthquakes1/software/Mageia8/anaconda3/lib/python3.9/site-packages/obspy/io/stationxml/core.py:96: UserWarning: The StationXML file has version 1, ObsPy can read versions (1.0, 1.1). Proceed with caution.\n",
      "  warnings.warn(\"The StationXML file has version %s, ObsPy can \"\n",
      "/home/earthquakes1/software/Mageia8/anaconda3/lib/python3.9/site-packages/obspy/io/stationxml/core.py:96: UserWarning: The StationXML file has version 1, ObsPy can read versions (1.0, 1.1). Proceed with caution.\n",
      "  warnings.warn(\"The StationXML file has version %s, ObsPy can \"\n"
     ]
    },
    {
     "name": "stdout",
     "output_type": "stream",
     "text": [
      "earthquake number 640 of 1025 done. It was 20210313_212158.a\n"
     ]
    },
    {
     "name": "stderr",
     "output_type": "stream",
     "text": [
      "/home/earthquakes1/software/Mageia8/anaconda3/lib/python3.9/site-packages/obspy/io/stationxml/core.py:96: UserWarning: The StationXML file has version 1, ObsPy can read versions (1.0, 1.1). Proceed with caution.\n",
      "  warnings.warn(\"The StationXML file has version %s, ObsPy can \"\n",
      "/home/earthquakes1/software/Mageia8/anaconda3/lib/python3.9/site-packages/obspy/io/stationxml/core.py:96: UserWarning: The StationXML file has version 1, ObsPy can read versions (1.0, 1.1). Proceed with caution.\n",
      "  warnings.warn(\"The StationXML file has version %s, ObsPy can \"\n"
     ]
    },
    {
     "name": "stdout",
     "output_type": "stream",
     "text": [
      "earthquake number 641 of 1025 done. It was 20210313_140501.a\n"
     ]
    },
    {
     "name": "stderr",
     "output_type": "stream",
     "text": [
      "/home/earthquakes1/software/Mageia8/anaconda3/lib/python3.9/site-packages/obspy/io/stationxml/core.py:96: UserWarning: The StationXML file has version 1, ObsPy can read versions (1.0, 1.1). Proceed with caution.\n",
      "  warnings.warn(\"The StationXML file has version %s, ObsPy can \"\n",
      "/home/earthquakes1/software/Mageia8/anaconda3/lib/python3.9/site-packages/obspy/io/stationxml/core.py:96: UserWarning: The StationXML file has version 1, ObsPy can read versions (1.0, 1.1). Proceed with caution.\n",
      "  warnings.warn(\"The StationXML file has version %s, ObsPy can \"\n",
      "/home/earthquakes1/software/Mageia8/anaconda3/lib/python3.9/site-packages/obspy/io/stationxml/core.py:96: UserWarning: The StationXML file has version 1, ObsPy can read versions (1.0, 1.1). Proceed with caution.\n",
      "  warnings.warn(\"The StationXML file has version %s, ObsPy can \"\n",
      "/home/earthquakes1/software/Mageia8/anaconda3/lib/python3.9/site-packages/obspy/io/stationxml/core.py:96: UserWarning: The StationXML file has version 1, ObsPy can read versions (1.0, 1.1). Proceed with caution.\n",
      "  warnings.warn(\"The StationXML file has version %s, ObsPy can \"\n",
      "/home/earthquakes1/software/Mageia8/anaconda3/lib/python3.9/site-packages/obspy/io/stationxml/core.py:96: UserWarning: The StationXML file has version 1, ObsPy can read versions (1.0, 1.1). Proceed with caution.\n",
      "  warnings.warn(\"The StationXML file has version %s, ObsPy can \"\n",
      "/home/earthquakes1/software/Mageia8/anaconda3/lib/python3.9/site-packages/obspy/io/stationxml/core.py:96: UserWarning: The StationXML file has version 1, ObsPy can read versions (1.0, 1.1). Proceed with caution.\n",
      "  warnings.warn(\"The StationXML file has version %s, ObsPy can \"\n",
      "/home/earthquakes1/software/Mageia8/anaconda3/lib/python3.9/site-packages/obspy/io/stationxml/core.py:96: UserWarning: The StationXML file has version 1, ObsPy can read versions (1.0, 1.1). Proceed with caution.\n",
      "  warnings.warn(\"The StationXML file has version %s, ObsPy can \"\n",
      "/home/earthquakes1/software/Mageia8/anaconda3/lib/python3.9/site-packages/obspy/io/stationxml/core.py:96: UserWarning: The StationXML file has version 1, ObsPy can read versions (1.0, 1.1). Proceed with caution.\n",
      "  warnings.warn(\"The StationXML file has version %s, ObsPy can \"\n"
     ]
    },
    {
     "name": "stdout",
     "output_type": "stream",
     "text": [
      "earthquake number 642 of 1025 done. It was 20210313_115459.a\n",
      "earthquake number 643 of 1025 done. It was 20210313_075756.a\n"
     ]
    },
    {
     "name": "stderr",
     "output_type": "stream",
     "text": [
      "/home/earthquakes1/software/Mageia8/anaconda3/lib/python3.9/site-packages/obspy/io/stationxml/core.py:96: UserWarning: The StationXML file has version 1, ObsPy can read versions (1.0, 1.1). Proceed with caution.\n",
      "  warnings.warn(\"The StationXML file has version %s, ObsPy can \"\n",
      "/home/earthquakes1/software/Mageia8/anaconda3/lib/python3.9/site-packages/obspy/io/stationxml/core.py:96: UserWarning: The StationXML file has version 1, ObsPy can read versions (1.0, 1.1). Proceed with caution.\n",
      "  warnings.warn(\"The StationXML file has version %s, ObsPy can \"\n"
     ]
    },
    {
     "name": "stdout",
     "output_type": "stream",
     "text": [
      "earthquake number 644 of 1025 done. It was 20210313_031749.a\n",
      "earthquake number 645 of 1025 done. It was 20210312_125751.a\n"
     ]
    },
    {
     "name": "stderr",
     "output_type": "stream",
     "text": [
      "/home/earthquakes1/software/Mageia8/anaconda3/lib/python3.9/site-packages/obspy/io/stationxml/core.py:96: UserWarning: The StationXML file has version 1, ObsPy can read versions (1.0, 1.1). Proceed with caution.\n",
      "  warnings.warn(\"The StationXML file has version %s, ObsPy can \"\n",
      "/home/earthquakes1/software/Mageia8/anaconda3/lib/python3.9/site-packages/obspy/io/stationxml/core.py:96: UserWarning: The StationXML file has version 1, ObsPy can read versions (1.0, 1.1). Proceed with caution.\n",
      "  warnings.warn(\"The StationXML file has version %s, ObsPy can \"\n",
      "/home/earthquakes1/software/Mageia8/anaconda3/lib/python3.9/site-packages/obspy/io/stationxml/core.py:96: UserWarning: The StationXML file has version 1, ObsPy can read versions (1.0, 1.1). Proceed with caution.\n",
      "  warnings.warn(\"The StationXML file has version %s, ObsPy can \"\n",
      "/home/earthquakes1/software/Mageia8/anaconda3/lib/python3.9/site-packages/obspy/io/stationxml/core.py:96: UserWarning: The StationXML file has version 1, ObsPy can read versions (1.0, 1.1). Proceed with caution.\n",
      "  warnings.warn(\"The StationXML file has version %s, ObsPy can \"\n",
      "/home/earthquakes1/software/Mageia8/anaconda3/lib/python3.9/site-packages/obspy/io/stationxml/core.py:96: UserWarning: The StationXML file has version 1, ObsPy can read versions (1.0, 1.1). Proceed with caution.\n",
      "  warnings.warn(\"The StationXML file has version %s, ObsPy can \"\n",
      "/home/earthquakes1/software/Mageia8/anaconda3/lib/python3.9/site-packages/obspy/io/stationxml/core.py:96: UserWarning: The StationXML file has version 1, ObsPy can read versions (1.0, 1.1). Proceed with caution.\n",
      "  warnings.warn(\"The StationXML file has version %s, ObsPy can \"\n"
     ]
    },
    {
     "name": "stdout",
     "output_type": "stream",
     "text": [
      "earthquake number 646 of 1025 done. It was 20210312_102955.a\n",
      "earthquake number 647 of 1025 done. It was 20210312_010350.a\n",
      "earthquake number 648 of 1025 done. It was 20210311_215436.a\n"
     ]
    },
    {
     "name": "stderr",
     "output_type": "stream",
     "text": [
      "/home/earthquakes1/software/Mageia8/anaconda3/lib/python3.9/site-packages/obspy/io/stationxml/core.py:96: UserWarning: The StationXML file has version 1, ObsPy can read versions (1.0, 1.1). Proceed with caution.\n",
      "  warnings.warn(\"The StationXML file has version %s, ObsPy can \"\n",
      "/home/earthquakes1/software/Mageia8/anaconda3/lib/python3.9/site-packages/obspy/io/stationxml/core.py:96: UserWarning: The StationXML file has version 1, ObsPy can read versions (1.0, 1.1). Proceed with caution.\n",
      "  warnings.warn(\"The StationXML file has version %s, ObsPy can \"\n"
     ]
    },
    {
     "name": "stdout",
     "output_type": "stream",
     "text": [
      "earthquake number 649 of 1025 done. It was 20210311_120049.a\n"
     ]
    },
    {
     "name": "stderr",
     "output_type": "stream",
     "text": [
      "/home/earthquakes1/software/Mageia8/anaconda3/lib/python3.9/site-packages/obspy/io/stationxml/core.py:96: UserWarning: The StationXML file has version 1, ObsPy can read versions (1.0, 1.1). Proceed with caution.\n",
      "  warnings.warn(\"The StationXML file has version %s, ObsPy can \"\n",
      "/home/earthquakes1/software/Mageia8/anaconda3/lib/python3.9/site-packages/obspy/io/stationxml/core.py:96: UserWarning: The StationXML file has version 1, ObsPy can read versions (1.0, 1.1). Proceed with caution.\n",
      "  warnings.warn(\"The StationXML file has version %s, ObsPy can \"\n",
      "/home/earthquakes1/software/Mageia8/anaconda3/lib/python3.9/site-packages/obspy/io/stationxml/core.py:96: UserWarning: The StationXML file has version 1, ObsPy can read versions (1.0, 1.1). Proceed with caution.\n",
      "  warnings.warn(\"The StationXML file has version %s, ObsPy can \"\n"
     ]
    },
    {
     "name": "stdout",
     "output_type": "stream",
     "text": [
      "earthquake number 650 of 1025 done. It was 20210311_090107.a\n"
     ]
    },
    {
     "name": "stderr",
     "output_type": "stream",
     "text": [
      "/home/earthquakes1/software/Mageia8/anaconda3/lib/python3.9/site-packages/obspy/io/stationxml/core.py:96: UserWarning: The StationXML file has version 1, ObsPy can read versions (1.0, 1.1). Proceed with caution.\n",
      "  warnings.warn(\"The StationXML file has version %s, ObsPy can \"\n",
      "/home/earthquakes1/software/Mageia8/anaconda3/lib/python3.9/site-packages/obspy/io/stationxml/core.py:96: UserWarning: The StationXML file has version 1, ObsPy can read versions (1.0, 1.1). Proceed with caution.\n",
      "  warnings.warn(\"The StationXML file has version %s, ObsPy can \"\n",
      "/home/earthquakes1/software/Mageia8/anaconda3/lib/python3.9/site-packages/obspy/io/stationxml/core.py:96: UserWarning: The StationXML file has version 1, ObsPy can read versions (1.0, 1.1). Proceed with caution.\n",
      "  warnings.warn(\"The StationXML file has version %s, ObsPy can \"\n"
     ]
    },
    {
     "name": "stdout",
     "output_type": "stream",
     "text": [
      "earthquake number 651 of 1025 done. It was 20210311_042741.a\n"
     ]
    },
    {
     "name": "stderr",
     "output_type": "stream",
     "text": [
      "/home/earthquakes1/software/Mageia8/anaconda3/lib/python3.9/site-packages/obspy/io/stationxml/core.py:96: UserWarning: The StationXML file has version 1, ObsPy can read versions (1.0, 1.1). Proceed with caution.\n",
      "  warnings.warn(\"The StationXML file has version %s, ObsPy can \"\n",
      "/home/earthquakes1/software/Mageia8/anaconda3/lib/python3.9/site-packages/obspy/io/stationxml/core.py:96: UserWarning: The StationXML file has version 1, ObsPy can read versions (1.0, 1.1). Proceed with caution.\n",
      "  warnings.warn(\"The StationXML file has version %s, ObsPy can \"\n"
     ]
    },
    {
     "name": "stdout",
     "output_type": "stream",
     "text": [
      "earthquake number 652 of 1025 done. It was 20210311_021449.a\n"
     ]
    },
    {
     "name": "stderr",
     "output_type": "stream",
     "text": [
      " WARNING: FIR normalized: sum[coef]=-6.913431E-05;     \n",
      " WARNING: FIR normalized: sum[coef]=-6.913431E-05;     \n",
      " WARNING: FIR normalized: sum[coef]=-6.913431E-05;     \n",
      " WARNING: FIR normalized: sum[coef]=-6.913431E-05;     \n",
      " WARNING: FIR normalized: sum[coef]=-6.913431E-05;     \n",
      " WARNING: FIR normalized: sum[coef]=-6.913431E-05;     \n",
      " WARNING (norm_resp): computed and reported sensitivities differ by more than 5 percent. \n",
      "\t Execution continuing.\n",
      " WARNING (norm_resp): computed and reported sensitivities differ by more than 5 percent. \n",
      "\t Execution continuing.\n",
      " WARNING (norm_resp): computed and reported sensitivities differ by more than 5 percent. \n",
      "\t Execution continuing.\n",
      " WARNING (norm_resp): computed and reported sensitivities differ by more than 5 percent. \n",
      "\t Execution continuing.\n",
      " WARNING (norm_resp): computed and reported sensitivities differ by more than 5 percent. \n",
      "\t Execution continuing.\n",
      " WARNING (norm_resp): computed and reported sensitivities differ by more than 5 percent. \n",
      "\t Execution continuing.\n",
      " WARNING (norm_resp): computed and reported sensitivities differ by more than 5 percent. \n",
      "\t Execution continuing.\n",
      " WARNING (norm_resp): computed and reported sensitivities differ by more than 5 percent. \n",
      "\t Execution continuing.\n",
      " WARNING (norm_resp): computed and reported sensitivities differ by more than 5 percent. \n",
      "\t Execution continuing.\n",
      " WARNING (norm_resp): computed and reported sensitivities differ by more than 5 percent. \n",
      "\t Execution continuing.\n",
      " WARNING (norm_resp): computed and reported sensitivities differ by more than 5 percent. \n",
      "\t Execution continuing.\n",
      " WARNING (norm_resp): computed and reported sensitivities differ by more than 5 percent. \n",
      "\t Execution continuing.\n",
      " WARNING (norm_resp): computed and reported sensitivities differ by more than 5 percent. \n",
      "\t Execution continuing.\n",
      " WARNING (norm_resp): computed and reported sensitivities differ by more than 5 percent. \n",
      "\t Execution continuing.\n",
      " WARNING (norm_resp): computed and reported sensitivities differ by more than 5 percent. \n",
      "\t Execution continuing.\n",
      " WARNING: FIR normalized: sum[coef]=-6.913431E-05;     \n",
      " WARNING: FIR normalized: sum[coef]=-6.913431E-05;     \n",
      " WARNING: FIR normalized: sum[coef]=-6.913431E-05;     \n",
      " WARNING (norm_resp): computed and reported sensitivities differ by more than 5 percent. \n",
      "\t Execution continuing.\n",
      " WARNING (norm_resp): computed and reported sensitivities differ by more than 5 percent. \n",
      "\t Execution continuing.\n",
      " WARNING (norm_resp): computed and reported sensitivities differ by more than 5 percent. \n",
      "\t Execution continuing.\n",
      " WARNING: FIR normalized: sum[coef]=-6.913431E-05;     \n",
      " WARNING: FIR normalized: sum[coef]=-6.913431E-05;     \n",
      " WARNING: FIR normalized: sum[coef]=-6.913431E-05;     \n",
      " WARNING: FIR normalized: sum[coef]=-6.913431E-05;     \n",
      " WARNING (norm_resp): computed and reported sensitivities differ by more than 5 percent. \n",
      "\t Execution continuing.\n",
      " WARNING: FIR normalized: sum[coef]=-6.913431E-05;     \n",
      " WARNING (norm_resp): computed and reported sensitivities differ by more than 5 percent. \n",
      "\t Execution continuing.\n",
      " WARNING: FIR normalized: sum[coef]=-6.913431E-05;     \n",
      " WARNING (norm_resp): computed and reported sensitivities differ by more than 5 percent. \n",
      "\t Execution continuing.\n"
     ]
    },
    {
     "name": "stdout",
     "output_type": "stream",
     "text": [
      "earthquake number 653 of 1025 done. It was 20210310_031440.a\n",
      "earthquake number 654 of 1025 done. It was 20210309_184816.a\n"
     ]
    },
    {
     "name": "stderr",
     "output_type": "stream",
     "text": [
      "/home/earthquakes1/software/Mageia8/anaconda3/lib/python3.9/site-packages/obspy/io/stationxml/core.py:96: UserWarning: The StationXML file has version 1, ObsPy can read versions (1.0, 1.1). Proceed with caution.\n",
      "  warnings.warn(\"The StationXML file has version %s, ObsPy can \"\n"
     ]
    },
    {
     "name": "stdout",
     "output_type": "stream",
     "text": [
      "earthquake number 655 of 1025 done. It was 20210308_235137.a\n"
     ]
    },
    {
     "name": "stderr",
     "output_type": "stream",
     "text": [
      "/home/earthquakes1/software/Mageia8/anaconda3/lib/python3.9/site-packages/obspy/io/stationxml/core.py:96: UserWarning: The StationXML file has version 1, ObsPy can read versions (1.0, 1.1). Proceed with caution.\n",
      "  warnings.warn(\"The StationXML file has version %s, ObsPy can \"\n"
     ]
    },
    {
     "name": "stdout",
     "output_type": "stream",
     "text": [
      "earthquake number 656 of 1025 done. It was 20210308_215346.a\n"
     ]
    },
    {
     "name": "stderr",
     "output_type": "stream",
     "text": [
      "/home/earthquakes1/software/Mageia8/anaconda3/lib/python3.9/site-packages/obspy/io/stationxml/core.py:96: UserWarning: The StationXML file has version 1, ObsPy can read versions (1.0, 1.1). Proceed with caution.\n",
      "  warnings.warn(\"The StationXML file has version %s, ObsPy can \"\n"
     ]
    },
    {
     "name": "stdout",
     "output_type": "stream",
     "text": [
      "earthquake number 657 of 1025 done. It was 20210308_212141.a\n"
     ]
    },
    {
     "name": "stderr",
     "output_type": "stream",
     "text": [
      "/home/earthquakes1/software/Mageia8/anaconda3/lib/python3.9/site-packages/obspy/io/stationxml/core.py:96: UserWarning: The StationXML file has version 1, ObsPy can read versions (1.0, 1.1). Proceed with caution.\n",
      "  warnings.warn(\"The StationXML file has version %s, ObsPy can \"\n"
     ]
    },
    {
     "name": "stdout",
     "output_type": "stream",
     "text": [
      "earthquake number 658 of 1025 done. It was 20210308_193630.a\n"
     ]
    },
    {
     "name": "stderr",
     "output_type": "stream",
     "text": [
      "/home/earthquakes1/software/Mageia8/anaconda3/lib/python3.9/site-packages/obspy/io/stationxml/core.py:96: UserWarning: The StationXML file has version 1, ObsPy can read versions (1.0, 1.1). Proceed with caution.\n",
      "  warnings.warn(\"The StationXML file has version %s, ObsPy can \"\n"
     ]
    },
    {
     "name": "stdout",
     "output_type": "stream",
     "text": [
      "earthquake number 659 of 1025 done. It was 20210308_172513.a\n"
     ]
    },
    {
     "name": "stderr",
     "output_type": "stream",
     "text": [
      "/home/earthquakes1/software/Mageia8/anaconda3/lib/python3.9/site-packages/obspy/io/stationxml/core.py:96: UserWarning: The StationXML file has version 1, ObsPy can read versions (1.0, 1.1). Proceed with caution.\n",
      "  warnings.warn(\"The StationXML file has version %s, ObsPy can \"\n"
     ]
    },
    {
     "name": "stdout",
     "output_type": "stream",
     "text": [
      "earthquake number 660 of 1025 done. It was 20210308_170437.a\n"
     ]
    },
    {
     "name": "stderr",
     "output_type": "stream",
     "text": [
      "/home/earthquakes1/software/Mageia8/anaconda3/lib/python3.9/site-packages/obspy/io/stationxml/core.py:96: UserWarning: The StationXML file has version 1, ObsPy can read versions (1.0, 1.1). Proceed with caution.\n",
      "  warnings.warn(\"The StationXML file has version %s, ObsPy can \"\n"
     ]
    },
    {
     "name": "stdout",
     "output_type": "stream",
     "text": [
      "earthquake number 661 of 1025 done. It was 20210308_145626.a\n"
     ]
    },
    {
     "name": "stderr",
     "output_type": "stream",
     "text": [
      "/home/earthquakes1/software/Mageia8/anaconda3/lib/python3.9/site-packages/obspy/io/stationxml/core.py:96: UserWarning: The StationXML file has version 1, ObsPy can read versions (1.0, 1.1). Proceed with caution.\n",
      "  warnings.warn(\"The StationXML file has version %s, ObsPy can \"\n"
     ]
    },
    {
     "name": "stdout",
     "output_type": "stream",
     "text": [
      "earthquake number 662 of 1025 done. It was 20210308_144509.a\n",
      "earthquake number 663 of 1025 done. It was 20210308_124807.a\n"
     ]
    },
    {
     "name": "stderr",
     "output_type": "stream",
     "text": [
      "/home/earthquakes1/software/Mageia8/anaconda3/lib/python3.9/site-packages/obspy/io/stationxml/core.py:96: UserWarning: The StationXML file has version 1, ObsPy can read versions (1.0, 1.1). Proceed with caution.\n",
      "  warnings.warn(\"The StationXML file has version %s, ObsPy can \"\n"
     ]
    },
    {
     "name": "stdout",
     "output_type": "stream",
     "text": [
      "earthquake number 664 of 1025 done. It was 20210308_120304.a\n"
     ]
    },
    {
     "name": "stderr",
     "output_type": "stream",
     "text": [
      "/home/earthquakes1/software/Mageia8/anaconda3/lib/python3.9/site-packages/obspy/io/stationxml/core.py:96: UserWarning: The StationXML file has version 1, ObsPy can read versions (1.0, 1.1). Proceed with caution.\n",
      "  warnings.warn(\"The StationXML file has version %s, ObsPy can \"\n"
     ]
    },
    {
     "name": "stdout",
     "output_type": "stream",
     "text": [
      "earthquake number 665 of 1025 done. It was 20210308_060847.a\n"
     ]
    },
    {
     "name": "stderr",
     "output_type": "stream",
     "text": [
      "/home/earthquakes1/software/Mageia8/anaconda3/lib/python3.9/site-packages/obspy/io/stationxml/core.py:96: UserWarning: The StationXML file has version 1, ObsPy can read versions (1.0, 1.1). Proceed with caution.\n",
      "  warnings.warn(\"The StationXML file has version %s, ObsPy can \"\n"
     ]
    },
    {
     "name": "stdout",
     "output_type": "stream",
     "text": [
      "earthquake number 666 of 1025 done. It was 20210308_052726.a\n"
     ]
    },
    {
     "name": "stderr",
     "output_type": "stream",
     "text": [
      "/home/earthquakes1/software/Mageia8/anaconda3/lib/python3.9/site-packages/obspy/io/stationxml/core.py:96: UserWarning: The StationXML file has version 1, ObsPy can read versions (1.0, 1.1). Proceed with caution.\n",
      "  warnings.warn(\"The StationXML file has version %s, ObsPy can \"\n"
     ]
    },
    {
     "name": "stdout",
     "output_type": "stream",
     "text": [
      "earthquake number 667 of 1025 done. It was 20210308_032022.a\n"
     ]
    },
    {
     "name": "stderr",
     "output_type": "stream",
     "text": [
      "/home/earthquakes1/software/Mageia8/anaconda3/lib/python3.9/site-packages/obspy/io/stationxml/core.py:96: UserWarning: The StationXML file has version 1, ObsPy can read versions (1.0, 1.1). Proceed with caution.\n",
      "  warnings.warn(\"The StationXML file has version %s, ObsPy can \"\n"
     ]
    },
    {
     "name": "stdout",
     "output_type": "stream",
     "text": [
      "earthquake number 668 of 1025 done. It was 20210308_014910.a\n"
     ]
    },
    {
     "name": "stderr",
     "output_type": "stream",
     "text": [
      "/home/earthquakes1/software/Mageia8/anaconda3/lib/python3.9/site-packages/obspy/io/stationxml/core.py:96: UserWarning: The StationXML file has version 1, ObsPy can read versions (1.0, 1.1). Proceed with caution.\n",
      "  warnings.warn(\"The StationXML file has version %s, ObsPy can \"\n"
     ]
    },
    {
     "name": "stdout",
     "output_type": "stream",
     "text": [
      "earthquake number 669 of 1025 done. It was 20210308_002352.a\n"
     ]
    },
    {
     "name": "stderr",
     "output_type": "stream",
     "text": [
      "/home/earthquakes1/software/Mageia8/anaconda3/lib/python3.9/site-packages/obspy/io/stationxml/core.py:96: UserWarning: The StationXML file has version 1, ObsPy can read versions (1.0, 1.1). Proceed with caution.\n",
      "  warnings.warn(\"The StationXML file has version %s, ObsPy can \"\n"
     ]
    },
    {
     "name": "stdout",
     "output_type": "stream",
     "text": [
      "earthquake number 670 of 1025 done. It was 20210307_235655.a\n"
     ]
    },
    {
     "name": "stderr",
     "output_type": "stream",
     "text": [
      "/home/earthquakes1/software/Mageia8/anaconda3/lib/python3.9/site-packages/obspy/io/stationxml/core.py:96: UserWarning: The StationXML file has version 1, ObsPy can read versions (1.0, 1.1). Proceed with caution.\n",
      "  warnings.warn(\"The StationXML file has version %s, ObsPy can \"\n"
     ]
    },
    {
     "name": "stdout",
     "output_type": "stream",
     "text": [
      "earthquake number 671 of 1025 done. It was 20210307_233348.a\n"
     ]
    },
    {
     "name": "stderr",
     "output_type": "stream",
     "text": [
      "/home/earthquakes1/software/Mageia8/anaconda3/lib/python3.9/site-packages/obspy/io/stationxml/core.py:96: UserWarning: The StationXML file has version 1, ObsPy can read versions (1.0, 1.1). Proceed with caution.\n",
      "  warnings.warn(\"The StationXML file has version %s, ObsPy can \"\n"
     ]
    },
    {
     "name": "stdout",
     "output_type": "stream",
     "text": [
      "earthquake number 672 of 1025 done. It was 20210307_233042.a\n"
     ]
    },
    {
     "name": "stderr",
     "output_type": "stream",
     "text": [
      "/home/earthquakes1/software/Mageia8/anaconda3/lib/python3.9/site-packages/obspy/io/stationxml/core.py:96: UserWarning: The StationXML file has version 1, ObsPy can read versions (1.0, 1.1). Proceed with caution.\n",
      "  warnings.warn(\"The StationXML file has version %s, ObsPy can \"\n",
      "/home/earthquakes1/software/Mageia8/anaconda3/lib/python3.9/site-packages/obspy/io/stationxml/core.py:96: UserWarning: The StationXML file has version 1, ObsPy can read versions (1.0, 1.1). Proceed with caution.\n",
      "  warnings.warn(\"The StationXML file has version %s, ObsPy can \"\n",
      "/home/earthquakes1/software/Mageia8/anaconda3/lib/python3.9/site-packages/obspy/io/stationxml/core.py:96: UserWarning: The StationXML file has version 1, ObsPy can read versions (1.0, 1.1). Proceed with caution.\n",
      "  warnings.warn(\"The StationXML file has version %s, ObsPy can \"\n",
      "/home/earthquakes1/software/Mageia8/anaconda3/lib/python3.9/site-packages/obspy/io/stationxml/core.py:96: UserWarning: The StationXML file has version 1, ObsPy can read versions (1.0, 1.1). Proceed with caution.\n",
      "  warnings.warn(\"The StationXML file has version %s, ObsPy can \"\n",
      "/home/earthquakes1/software/Mageia8/anaconda3/lib/python3.9/site-packages/obspy/io/stationxml/core.py:96: UserWarning: The StationXML file has version 1, ObsPy can read versions (1.0, 1.1). Proceed with caution.\n",
      "  warnings.warn(\"The StationXML file has version %s, ObsPy can \"\n",
      "/home/earthquakes1/software/Mageia8/anaconda3/lib/python3.9/site-packages/obspy/io/stationxml/core.py:96: UserWarning: The StationXML file has version 1, ObsPy can read versions (1.0, 1.1). Proceed with caution.\n",
      "  warnings.warn(\"The StationXML file has version %s, ObsPy can \"\n",
      "/home/earthquakes1/software/Mageia8/anaconda3/lib/python3.9/site-packages/obspy/io/stationxml/core.py:96: UserWarning: The StationXML file has version 1, ObsPy can read versions (1.0, 1.1). Proceed with caution.\n",
      "  warnings.warn(\"The StationXML file has version %s, ObsPy can \"\n",
      "/home/earthquakes1/software/Mageia8/anaconda3/lib/python3.9/site-packages/obspy/io/stationxml/core.py:96: UserWarning: The StationXML file has version 1, ObsPy can read versions (1.0, 1.1). Proceed with caution.\n",
      "  warnings.warn(\"The StationXML file has version %s, ObsPy can \"\n"
     ]
    },
    {
     "name": "stdout",
     "output_type": "stream",
     "text": [
      "earthquake number 673 of 1025 done. It was 20210307_225140.a\n"
     ]
    },
    {
     "name": "stderr",
     "output_type": "stream",
     "text": [
      "/home/earthquakes1/software/Mageia8/anaconda3/lib/python3.9/site-packages/obspy/io/stationxml/core.py:96: UserWarning: The StationXML file has version 1, ObsPy can read versions (1.0, 1.1). Proceed with caution.\n",
      "  warnings.warn(\"The StationXML file has version %s, ObsPy can \"\n"
     ]
    },
    {
     "name": "stdout",
     "output_type": "stream",
     "text": [
      "earthquake number 674 of 1025 done. It was 20210307_192848.a\n"
     ]
    },
    {
     "name": "stderr",
     "output_type": "stream",
     "text": [
      "/home/earthquakes1/software/Mageia8/anaconda3/lib/python3.9/site-packages/obspy/io/stationxml/core.py:96: UserWarning: The StationXML file has version 1, ObsPy can read versions (1.0, 1.1). Proceed with caution.\n",
      "  warnings.warn(\"The StationXML file has version %s, ObsPy can \"\n",
      "/home/earthquakes1/software/Mageia8/anaconda3/lib/python3.9/site-packages/obspy/io/stationxml/core.py:96: UserWarning: The StationXML file has version 1, ObsPy can read versions (1.0, 1.1). Proceed with caution.\n",
      "  warnings.warn(\"The StationXML file has version %s, ObsPy can \"\n",
      "/home/earthquakes1/software/Mageia8/anaconda3/lib/python3.9/site-packages/obspy/io/stationxml/core.py:96: UserWarning: The StationXML file has version 1, ObsPy can read versions (1.0, 1.1). Proceed with caution.\n",
      "  warnings.warn(\"The StationXML file has version %s, ObsPy can \"\n"
     ]
    },
    {
     "name": "stdout",
     "output_type": "stream",
     "text": [
      "earthquake number 675 of 1025 done. It was 20210307_183737.a\n"
     ]
    },
    {
     "name": "stderr",
     "output_type": "stream",
     "text": [
      "/home/earthquakes1/software/Mageia8/anaconda3/lib/python3.9/site-packages/obspy/io/stationxml/core.py:96: UserWarning: The StationXML file has version 1, ObsPy can read versions (1.0, 1.1). Proceed with caution.\n",
      "  warnings.warn(\"The StationXML file has version %s, ObsPy can \"\n"
     ]
    },
    {
     "name": "stdout",
     "output_type": "stream",
     "text": [
      "earthquake number 676 of 1025 done. It was 20210307_165313.a\n"
     ]
    },
    {
     "name": "stderr",
     "output_type": "stream",
     "text": [
      "/home/earthquakes1/software/Mageia8/anaconda3/lib/python3.9/site-packages/obspy/io/stationxml/core.py:96: UserWarning: The StationXML file has version 1, ObsPy can read versions (1.0, 1.1). Proceed with caution.\n",
      "  warnings.warn(\"The StationXML file has version %s, ObsPy can \"\n"
     ]
    },
    {
     "name": "stdout",
     "output_type": "stream",
     "text": [
      "earthquake number 677 of 1025 done. It was 20210307_164041.a\n"
     ]
    },
    {
     "name": "stderr",
     "output_type": "stream",
     "text": [
      "/home/earthquakes1/software/Mageia8/anaconda3/lib/python3.9/site-packages/obspy/io/stationxml/core.py:96: UserWarning: The StationXML file has version 1, ObsPy can read versions (1.0, 1.1). Proceed with caution.\n",
      "  warnings.warn(\"The StationXML file has version %s, ObsPy can \"\n"
     ]
    },
    {
     "name": "stdout",
     "output_type": "stream",
     "text": [
      "earthquake number 678 of 1025 done. It was 20210307_144811.a\n"
     ]
    },
    {
     "name": "stderr",
     "output_type": "stream",
     "text": [
      "/home/earthquakes1/software/Mageia8/anaconda3/lib/python3.9/site-packages/obspy/io/stationxml/core.py:96: UserWarning: The StationXML file has version 1, ObsPy can read versions (1.0, 1.1). Proceed with caution.\n",
      "  warnings.warn(\"The StationXML file has version %s, ObsPy can \"\n"
     ]
    },
    {
     "name": "stdout",
     "output_type": "stream",
     "text": [
      "earthquake number 679 of 1025 done. It was 20210307_112456.a\n"
     ]
    },
    {
     "name": "stderr",
     "output_type": "stream",
     "text": [
      "/home/earthquakes1/software/Mageia8/anaconda3/lib/python3.9/site-packages/obspy/io/stationxml/core.py:96: UserWarning: The StationXML file has version 1, ObsPy can read versions (1.0, 1.1). Proceed with caution.\n",
      "  warnings.warn(\"The StationXML file has version %s, ObsPy can \"\n"
     ]
    },
    {
     "name": "stdout",
     "output_type": "stream",
     "text": [
      "earthquake number 680 of 1025 done. It was 20210307_105525.a\n"
     ]
    },
    {
     "name": "stderr",
     "output_type": "stream",
     "text": [
      "/home/earthquakes1/software/Mageia8/anaconda3/lib/python3.9/site-packages/obspy/io/stationxml/core.py:96: UserWarning: The StationXML file has version 1, ObsPy can read versions (1.0, 1.1). Proceed with caution.\n",
      "  warnings.warn(\"The StationXML file has version %s, ObsPy can \"\n"
     ]
    },
    {
     "name": "stdout",
     "output_type": "stream",
     "text": [
      "earthquake number 681 of 1025 done. It was 20210307_093529.a\n"
     ]
    },
    {
     "name": "stderr",
     "output_type": "stream",
     "text": [
      "/home/earthquakes1/software/Mageia8/anaconda3/lib/python3.9/site-packages/obspy/io/stationxml/core.py:96: UserWarning: The StationXML file has version 1, ObsPy can read versions (1.0, 1.1). Proceed with caution.\n",
      "  warnings.warn(\"The StationXML file has version %s, ObsPy can \"\n"
     ]
    },
    {
     "name": "stdout",
     "output_type": "stream",
     "text": [
      "earthquake number 682 of 1025 done. It was 20210307_083056.a\n"
     ]
    },
    {
     "name": "stderr",
     "output_type": "stream",
     "text": [
      "/home/earthquakes1/software/Mageia8/anaconda3/lib/python3.9/site-packages/obspy/io/stationxml/core.py:96: UserWarning: The StationXML file has version 1, ObsPy can read versions (1.0, 1.1). Proceed with caution.\n",
      "  warnings.warn(\"The StationXML file has version %s, ObsPy can \"\n",
      "/home/earthquakes1/software/Mageia8/anaconda3/lib/python3.9/site-packages/obspy/io/stationxml/core.py:96: UserWarning: The StationXML file has version 1, ObsPy can read versions (1.0, 1.1). Proceed with caution.\n",
      "  warnings.warn(\"The StationXML file has version %s, ObsPy can \"\n",
      "/home/earthquakes1/software/Mageia8/anaconda3/lib/python3.9/site-packages/obspy/io/stationxml/core.py:96: UserWarning: The StationXML file has version 1, ObsPy can read versions (1.0, 1.1). Proceed with caution.\n",
      "  warnings.warn(\"The StationXML file has version %s, ObsPy can \"\n"
     ]
    },
    {
     "name": "stdout",
     "output_type": "stream",
     "text": [
      "earthquake number 683 of 1025 done. It was 20210307_081927.a\n"
     ]
    },
    {
     "name": "stderr",
     "output_type": "stream",
     "text": [
      "/home/earthquakes1/software/Mageia8/anaconda3/lib/python3.9/site-packages/obspy/io/stationxml/core.py:96: UserWarning: The StationXML file has version 1, ObsPy can read versions (1.0, 1.1). Proceed with caution.\n",
      "  warnings.warn(\"The StationXML file has version %s, ObsPy can \"\n",
      "/home/earthquakes1/software/Mageia8/anaconda3/lib/python3.9/site-packages/obspy/io/stationxml/core.py:96: UserWarning: The StationXML file has version 1, ObsPy can read versions (1.0, 1.1). Proceed with caution.\n",
      "  warnings.warn(\"The StationXML file has version %s, ObsPy can \"\n",
      "/home/earthquakes1/software/Mageia8/anaconda3/lib/python3.9/site-packages/obspy/io/stationxml/core.py:96: UserWarning: The StationXML file has version 1, ObsPy can read versions (1.0, 1.1). Proceed with caution.\n",
      "  warnings.warn(\"The StationXML file has version %s, ObsPy can \"\n"
     ]
    },
    {
     "name": "stdout",
     "output_type": "stream",
     "text": [
      "earthquake number 684 of 1025 done. It was 20210307_070410.a\n"
     ]
    },
    {
     "name": "stderr",
     "output_type": "stream",
     "text": [
      "/home/earthquakes1/software/Mageia8/anaconda3/lib/python3.9/site-packages/obspy/io/stationxml/core.py:96: UserWarning: The StationXML file has version 1, ObsPy can read versions (1.0, 1.1). Proceed with caution.\n",
      "  warnings.warn(\"The StationXML file has version %s, ObsPy can \"\n",
      "/home/earthquakes1/software/Mageia8/anaconda3/lib/python3.9/site-packages/obspy/io/stationxml/core.py:96: UserWarning: The StationXML file has version 1, ObsPy can read versions (1.0, 1.1). Proceed with caution.\n",
      "  warnings.warn(\"The StationXML file has version %s, ObsPy can \"\n",
      "/home/earthquakes1/software/Mageia8/anaconda3/lib/python3.9/site-packages/obspy/io/stationxml/core.py:96: UserWarning: The StationXML file has version 1, ObsPy can read versions (1.0, 1.1). Proceed with caution.\n",
      "  warnings.warn(\"The StationXML file has version %s, ObsPy can \"\n"
     ]
    },
    {
     "name": "stdout",
     "output_type": "stream",
     "text": [
      "earthquake number 685 of 1025 done. It was 20210307_045630.a\n"
     ]
    },
    {
     "name": "stderr",
     "output_type": "stream",
     "text": [
      "/home/earthquakes1/software/Mageia8/anaconda3/lib/python3.9/site-packages/obspy/io/stationxml/core.py:96: UserWarning: The StationXML file has version 1, ObsPy can read versions (1.0, 1.1). Proceed with caution.\n",
      "  warnings.warn(\"The StationXML file has version %s, ObsPy can \"\n",
      "/home/earthquakes1/software/Mageia8/anaconda3/lib/python3.9/site-packages/obspy/io/stationxml/core.py:96: UserWarning: The StationXML file has version 1, ObsPy can read versions (1.0, 1.1). Proceed with caution.\n",
      "  warnings.warn(\"The StationXML file has version %s, ObsPy can \"\n",
      "/home/earthquakes1/software/Mageia8/anaconda3/lib/python3.9/site-packages/obspy/io/stationxml/core.py:96: UserWarning: The StationXML file has version 1, ObsPy can read versions (1.0, 1.1). Proceed with caution.\n",
      "  warnings.warn(\"The StationXML file has version %s, ObsPy can \"\n",
      "/home/earthquakes1/software/Mageia8/anaconda3/lib/python3.9/site-packages/obspy/io/stationxml/core.py:96: UserWarning: The StationXML file has version 1, ObsPy can read versions (1.0, 1.1). Proceed with caution.\n",
      "  warnings.warn(\"The StationXML file has version %s, ObsPy can \"\n",
      "/home/earthquakes1/software/Mageia8/anaconda3/lib/python3.9/site-packages/obspy/io/stationxml/core.py:96: UserWarning: The StationXML file has version 1, ObsPy can read versions (1.0, 1.1). Proceed with caution.\n",
      "  warnings.warn(\"The StationXML file has version %s, ObsPy can \"\n"
     ]
    },
    {
     "name": "stdout",
     "output_type": "stream",
     "text": [
      "earthquake number 686 of 1025 done. It was 20210307_045400.a\n"
     ]
    },
    {
     "name": "stderr",
     "output_type": "stream",
     "text": [
      "/home/earthquakes1/software/Mageia8/anaconda3/lib/python3.9/site-packages/obspy/io/stationxml/core.py:96: UserWarning: The StationXML file has version 1, ObsPy can read versions (1.0, 1.1). Proceed with caution.\n",
      "  warnings.warn(\"The StationXML file has version %s, ObsPy can \"\n"
     ]
    },
    {
     "name": "stdout",
     "output_type": "stream",
     "text": [
      "earthquake number 687 of 1025 done. It was 20210307_044736.a\n"
     ]
    },
    {
     "name": "stderr",
     "output_type": "stream",
     "text": [
      "/home/earthquakes1/software/Mageia8/anaconda3/lib/python3.9/site-packages/obspy/io/stationxml/core.py:96: UserWarning: The StationXML file has version 1, ObsPy can read versions (1.0, 1.1). Proceed with caution.\n",
      "  warnings.warn(\"The StationXML file has version %s, ObsPy can \"\n",
      "/home/earthquakes1/software/Mageia8/anaconda3/lib/python3.9/site-packages/obspy/io/stationxml/core.py:96: UserWarning: The StationXML file has version 1, ObsPy can read versions (1.0, 1.1). Proceed with caution.\n",
      "  warnings.warn(\"The StationXML file has version %s, ObsPy can \"\n",
      "/home/earthquakes1/software/Mageia8/anaconda3/lib/python3.9/site-packages/obspy/io/stationxml/core.py:96: UserWarning: The StationXML file has version 1, ObsPy can read versions (1.0, 1.1). Proceed with caution.\n",
      "  warnings.warn(\"The StationXML file has version %s, ObsPy can \"\n"
     ]
    },
    {
     "name": "stdout",
     "output_type": "stream",
     "text": [
      "earthquake number 688 of 1025 done. It was 20210307_043641.a\n"
     ]
    },
    {
     "name": "stderr",
     "output_type": "stream",
     "text": [
      "/home/earthquakes1/software/Mageia8/anaconda3/lib/python3.9/site-packages/obspy/io/stationxml/core.py:96: UserWarning: The StationXML file has version 1, ObsPy can read versions (1.0, 1.1). Proceed with caution.\n",
      "  warnings.warn(\"The StationXML file has version %s, ObsPy can \"\n"
     ]
    },
    {
     "name": "stdout",
     "output_type": "stream",
     "text": [
      "earthquake number 689 of 1025 done. It was 20210307_041026.a\n"
     ]
    },
    {
     "name": "stderr",
     "output_type": "stream",
     "text": [
      "/home/earthquakes1/software/Mageia8/anaconda3/lib/python3.9/site-packages/obspy/io/stationxml/core.py:96: UserWarning: The StationXML file has version 1, ObsPy can read versions (1.0, 1.1). Proceed with caution.\n",
      "  warnings.warn(\"The StationXML file has version %s, ObsPy can \"\n"
     ]
    },
    {
     "name": "stdout",
     "output_type": "stream",
     "text": [
      "earthquake number 690 of 1025 done. It was 20210307_032616.a\n"
     ]
    },
    {
     "name": "stderr",
     "output_type": "stream",
     "text": [
      "/home/earthquakes1/software/Mageia8/anaconda3/lib/python3.9/site-packages/obspy/io/stationxml/core.py:96: UserWarning: The StationXML file has version 1, ObsPy can read versions (1.0, 1.1). Proceed with caution.\n",
      "  warnings.warn(\"The StationXML file has version %s, ObsPy can \"\n"
     ]
    },
    {
     "name": "stdout",
     "output_type": "stream",
     "text": [
      "earthquake number 691 of 1025 done. It was 20210307_020712.a\n"
     ]
    },
    {
     "name": "stderr",
     "output_type": "stream",
     "text": [
      " WARNING: FIR normalized: sum[coef]=-6.913431E-05;     \n",
      " WARNING: FIR normalized: sum[coef]=-6.913431E-05;     \n",
      " WARNING: FIR normalized: sum[coef]=-6.913431E-05;     \n",
      " WARNING: FIR normalized: sum[coef]=-6.913431E-05;     \n",
      " WARNING: FIR normalized: sum[coef]=-6.913431E-05;     \n",
      " WARNING: FIR normalized: sum[coef]=-6.913431E-05;     \n",
      " WARNING (norm_resp): computed and reported sensitivities differ by more than 5 percent. \n",
      "\t Execution continuing.\n",
      " WARNING (norm_resp): computed and reported sensitivities differ by more than 5 percent. \n",
      "\t Execution continuing.\n",
      " WARNING (norm_resp): computed and reported sensitivities differ by more than 5 percent. \n",
      "\t Execution continuing.\n",
      " WARNING (norm_resp): computed and reported sensitivities differ by more than 5 percent. \n",
      "\t Execution continuing.\n",
      " WARNING (norm_resp): computed and reported sensitivities differ by more than 5 percent. \n",
      "\t Execution continuing.\n",
      " WARNING (norm_resp): computed and reported sensitivities differ by more than 5 percent. \n",
      "\t Execution continuing.\n",
      " WARNING (norm_resp): computed and reported sensitivities differ by more than 5 percent. \n",
      "\t Execution continuing.\n",
      " WARNING (norm_resp): computed and reported sensitivities differ by more than 5 percent. \n",
      "\t Execution continuing.\n",
      " WARNING (norm_resp): computed and reported sensitivities differ by more than 5 percent. \n",
      "\t Execution continuing.\n",
      " WARNING (norm_resp): computed and reported sensitivities differ by more than 5 percent. \n",
      "\t Execution continuing.\n",
      " WARNING (norm_resp): computed and reported sensitivities differ by more than 5 percent. \n",
      "\t Execution continuing.\n",
      " WARNING (norm_resp): computed and reported sensitivities differ by more than 5 percent. \n",
      "\t Execution continuing.\n",
      " WARNING (norm_resp): computed and reported sensitivities differ by more than 5 percent. \n",
      "\t Execution continuing.\n",
      " WARNING (norm_resp): computed and reported sensitivities differ by more than 5 percent. \n",
      "\t Execution continuing.\n",
      " WARNING (norm_resp): computed and reported sensitivities differ by more than 5 percent. \n",
      "\t Execution continuing.\n",
      " WARNING: FIR normalized: sum[coef]=-6.913431E-05;     \n",
      " WARNING: FIR normalized: sum[coef]=-6.913431E-05;     \n",
      " WARNING: FIR normalized: sum[coef]=-6.913431E-05;     \n",
      " WARNING (norm_resp): computed and reported sensitivities differ by more than 5 percent. \n",
      "\t Execution continuing.\n",
      " WARNING (norm_resp): computed and reported sensitivities differ by more than 5 percent. \n",
      "\t Execution continuing.\n",
      " WARNING (norm_resp): computed and reported sensitivities differ by more than 5 percent. \n",
      "\t Execution continuing.\n",
      " WARNING: FIR normalized: sum[coef]=-6.913431E-05;     \n",
      " WARNING (norm_resp): computed and reported sensitivities differ by more than 5 percent. \n",
      "\t Execution continuing.\n",
      " WARNING: FIR normalized: sum[coef]=-6.913431E-05;     \n",
      " WARNING (norm_resp): computed and reported sensitivities differ by more than 5 percent. \n",
      "\t Execution continuing.\n",
      " WARNING: FIR normalized: sum[coef]=-6.913431E-05;     \n",
      " WARNING (norm_resp): computed and reported sensitivities differ by more than 5 percent. \n",
      "\t Execution continuing.\n"
     ]
    },
    {
     "name": "stdout",
     "output_type": "stream",
     "text": [
      "earthquake number 692 of 1025 done. It was 20210307_020128.a\n"
     ]
    },
    {
     "name": "stderr",
     "output_type": "stream",
     "text": [
      "/home/earthquakes1/software/Mageia8/anaconda3/lib/python3.9/site-packages/obspy/io/stationxml/core.py:96: UserWarning: The StationXML file has version 1, ObsPy can read versions (1.0, 1.1). Proceed with caution.\n",
      "  warnings.warn(\"The StationXML file has version %s, ObsPy can \"\n"
     ]
    },
    {
     "name": "stdout",
     "output_type": "stream",
     "text": [
      "earthquake number 693 of 1025 done. It was 20210307_015510.a\n"
     ]
    },
    {
     "name": "stderr",
     "output_type": "stream",
     "text": [
      "/home/earthquakes1/software/Mageia8/anaconda3/lib/python3.9/site-packages/obspy/io/stationxml/core.py:96: UserWarning: The StationXML file has version 1, ObsPy can read versions (1.0, 1.1). Proceed with caution.\n",
      "  warnings.warn(\"The StationXML file has version %s, ObsPy can \"\n"
     ]
    },
    {
     "name": "stdout",
     "output_type": "stream",
     "text": [
      "earthquake number 694 of 1025 done. It was 20210307_015420.a\n"
     ]
    },
    {
     "name": "stderr",
     "output_type": "stream",
     "text": [
      "/home/earthquakes1/software/Mageia8/anaconda3/lib/python3.9/site-packages/obspy/io/stationxml/core.py:96: UserWarning: The StationXML file has version 1, ObsPy can read versions (1.0, 1.1). Proceed with caution.\n",
      "  warnings.warn(\"The StationXML file has version %s, ObsPy can \"\n",
      "/home/earthquakes1/software/Mageia8/anaconda3/lib/python3.9/site-packages/obspy/io/stationxml/core.py:96: UserWarning: The StationXML file has version 1, ObsPy can read versions (1.0, 1.1). Proceed with caution.\n",
      "  warnings.warn(\"The StationXML file has version %s, ObsPy can \"\n",
      "/home/earthquakes1/software/Mageia8/anaconda3/lib/python3.9/site-packages/obspy/io/stationxml/core.py:96: UserWarning: The StationXML file has version 1, ObsPy can read versions (1.0, 1.1). Proceed with caution.\n",
      "  warnings.warn(\"The StationXML file has version %s, ObsPy can \"\n"
     ]
    },
    {
     "name": "stdout",
     "output_type": "stream",
     "text": [
      "earthquake number 695 of 1025 done. It was 20210307_004011.a\n"
     ]
    },
    {
     "name": "stderr",
     "output_type": "stream",
     "text": [
      "/home/earthquakes1/software/Mageia8/anaconda3/lib/python3.9/site-packages/obspy/io/stationxml/core.py:96: UserWarning: The StationXML file has version 1, ObsPy can read versions (1.0, 1.1). Proceed with caution.\n",
      "  warnings.warn(\"The StationXML file has version %s, ObsPy can \"\n"
     ]
    },
    {
     "name": "stdout",
     "output_type": "stream",
     "text": [
      "earthquake number 696 of 1025 done. It was 20210307_002530.a\n"
     ]
    },
    {
     "name": "stderr",
     "output_type": "stream",
     "text": [
      "/home/earthquakes1/software/Mageia8/anaconda3/lib/python3.9/site-packages/obspy/io/stationxml/core.py:96: UserWarning: The StationXML file has version 1, ObsPy can read versions (1.0, 1.1). Proceed with caution.\n",
      "  warnings.warn(\"The StationXML file has version %s, ObsPy can \"\n"
     ]
    },
    {
     "name": "stdout",
     "output_type": "stream",
     "text": [
      "earthquake number 697 of 1025 done. It was 20210306_233005.a\n"
     ]
    },
    {
     "name": "stderr",
     "output_type": "stream",
     "text": [
      "/home/earthquakes1/software/Mageia8/anaconda3/lib/python3.9/site-packages/obspy/io/stationxml/core.py:96: UserWarning: The StationXML file has version 1, ObsPy can read versions (1.0, 1.1). Proceed with caution.\n",
      "  warnings.warn(\"The StationXML file has version %s, ObsPy can \"\n"
     ]
    },
    {
     "name": "stdout",
     "output_type": "stream",
     "text": [
      "earthquake number 698 of 1025 done. It was 20210306_230808.a\n"
     ]
    },
    {
     "name": "stderr",
     "output_type": "stream",
     "text": [
      "/home/earthquakes1/software/Mageia8/anaconda3/lib/python3.9/site-packages/obspy/io/stationxml/core.py:96: UserWarning: The StationXML file has version 1, ObsPy can read versions (1.0, 1.1). Proceed with caution.\n",
      "  warnings.warn(\"The StationXML file has version %s, ObsPy can \"\n"
     ]
    },
    {
     "name": "stdout",
     "output_type": "stream",
     "text": [
      "earthquake number 699 of 1025 done. It was 20210306_214739.a\n"
     ]
    },
    {
     "name": "stderr",
     "output_type": "stream",
     "text": [
      "/home/earthquakes1/software/Mageia8/anaconda3/lib/python3.9/site-packages/obspy/io/stationxml/core.py:96: UserWarning: The StationXML file has version 1, ObsPy can read versions (1.0, 1.1). Proceed with caution.\n",
      "  warnings.warn(\"The StationXML file has version %s, ObsPy can \"\n"
     ]
    },
    {
     "name": "stdout",
     "output_type": "stream",
     "text": [
      "earthquake number 700 of 1025 done. It was 20210306_214250.a\n"
     ]
    },
    {
     "name": "stderr",
     "output_type": "stream",
     "text": [
      "/home/earthquakes1/software/Mageia8/anaconda3/lib/python3.9/site-packages/obspy/io/stationxml/core.py:96: UserWarning: The StationXML file has version 1, ObsPy can read versions (1.0, 1.1). Proceed with caution.\n",
      "  warnings.warn(\"The StationXML file has version %s, ObsPy can \"\n"
     ]
    },
    {
     "name": "stdout",
     "output_type": "stream",
     "text": [
      "earthquake number 701 of 1025 done. It was 20210306_204518.a\n"
     ]
    },
    {
     "name": "stderr",
     "output_type": "stream",
     "text": [
      "/home/earthquakes1/software/Mageia8/anaconda3/lib/python3.9/site-packages/obspy/io/stationxml/core.py:96: UserWarning: The StationXML file has version 1, ObsPy can read versions (1.0, 1.1). Proceed with caution.\n",
      "  warnings.warn(\"The StationXML file has version %s, ObsPy can \"\n"
     ]
    },
    {
     "name": "stdout",
     "output_type": "stream",
     "text": [
      "earthquake number 702 of 1025 done. It was 20210306_200935.a\n"
     ]
    },
    {
     "name": "stderr",
     "output_type": "stream",
     "text": [
      "/home/earthquakes1/software/Mageia8/anaconda3/lib/python3.9/site-packages/obspy/io/stationxml/core.py:96: UserWarning: The StationXML file has version 1, ObsPy can read versions (1.0, 1.1). Proceed with caution.\n",
      "  warnings.warn(\"The StationXML file has version %s, ObsPy can \"\n",
      "/home/earthquakes1/software/Mageia8/anaconda3/lib/python3.9/site-packages/obspy/io/stationxml/core.py:96: UserWarning: The StationXML file has version 1, ObsPy can read versions (1.0, 1.1). Proceed with caution.\n",
      "  warnings.warn(\"The StationXML file has version %s, ObsPy can \"\n",
      "/home/earthquakes1/software/Mageia8/anaconda3/lib/python3.9/site-packages/obspy/io/stationxml/core.py:96: UserWarning: The StationXML file has version 1, ObsPy can read versions (1.0, 1.1). Proceed with caution.\n",
      "  warnings.warn(\"The StationXML file has version %s, ObsPy can \"\n",
      "/home/earthquakes1/software/Mageia8/anaconda3/lib/python3.9/site-packages/obspy/io/stationxml/core.py:96: UserWarning: The StationXML file has version 1, ObsPy can read versions (1.0, 1.1). Proceed with caution.\n",
      "  warnings.warn(\"The StationXML file has version %s, ObsPy can \"\n"
     ]
    },
    {
     "name": "stdout",
     "output_type": "stream",
     "text": [
      "earthquake number 703 of 1025 done. It was 20210306_194828.a\n"
     ]
    },
    {
     "name": "stderr",
     "output_type": "stream",
     "text": [
      "/home/earthquakes1/software/Mageia8/anaconda3/lib/python3.9/site-packages/obspy/io/stationxml/core.py:96: UserWarning: The StationXML file has version 1, ObsPy can read versions (1.0, 1.1). Proceed with caution.\n",
      "  warnings.warn(\"The StationXML file has version %s, ObsPy can \"\n"
     ]
    },
    {
     "name": "stdout",
     "output_type": "stream",
     "text": [
      "earthquake number 704 of 1025 done. It was 20210306_171313.a\n"
     ]
    },
    {
     "name": "stderr",
     "output_type": "stream",
     "text": [
      "/home/earthquakes1/software/Mageia8/anaconda3/lib/python3.9/site-packages/obspy/io/stationxml/core.py:96: UserWarning: The StationXML file has version 1, ObsPy can read versions (1.0, 1.1). Proceed with caution.\n",
      "  warnings.warn(\"The StationXML file has version %s, ObsPy can \"\n"
     ]
    },
    {
     "name": "stdout",
     "output_type": "stream",
     "text": [
      "earthquake number 705 of 1025 done. It was 20210306_144123.a\n"
     ]
    },
    {
     "name": "stderr",
     "output_type": "stream",
     "text": [
      "/home/earthquakes1/software/Mageia8/anaconda3/lib/python3.9/site-packages/obspy/io/stationxml/core.py:96: UserWarning: The StationXML file has version 1, ObsPy can read versions (1.0, 1.1). Proceed with caution.\n",
      "  warnings.warn(\"The StationXML file has version %s, ObsPy can \"\n"
     ]
    },
    {
     "name": "stdout",
     "output_type": "stream",
     "text": [
      "earthquake number 706 of 1025 done. It was 20210306_131205.a\n"
     ]
    },
    {
     "name": "stderr",
     "output_type": "stream",
     "text": [
      "/home/earthquakes1/software/Mageia8/anaconda3/lib/python3.9/site-packages/obspy/io/stationxml/core.py:96: UserWarning: The StationXML file has version 1, ObsPy can read versions (1.0, 1.1). Proceed with caution.\n",
      "  warnings.warn(\"The StationXML file has version %s, ObsPy can \"\n"
     ]
    },
    {
     "name": "stdout",
     "output_type": "stream",
     "text": [
      "earthquake number 707 of 1025 done. It was 20210306_130346.a\n"
     ]
    },
    {
     "name": "stderr",
     "output_type": "stream",
     "text": [
      "/home/earthquakes1/software/Mageia8/anaconda3/lib/python3.9/site-packages/obspy/io/stationxml/core.py:96: UserWarning: The StationXML file has version 1, ObsPy can read versions (1.0, 1.1). Proceed with caution.\n",
      "  warnings.warn(\"The StationXML file has version %s, ObsPy can \"\n"
     ]
    },
    {
     "name": "stdout",
     "output_type": "stream",
     "text": [
      "earthquake number 708 of 1025 done. It was 20210306_122104.a\n"
     ]
    },
    {
     "name": "stderr",
     "output_type": "stream",
     "text": [
      "/home/earthquakes1/software/Mageia8/anaconda3/lib/python3.9/site-packages/obspy/io/stationxml/core.py:96: UserWarning: The StationXML file has version 1, ObsPy can read versions (1.0, 1.1). Proceed with caution.\n",
      "  warnings.warn(\"The StationXML file has version %s, ObsPy can \"\n"
     ]
    },
    {
     "name": "stdout",
     "output_type": "stream",
     "text": [
      "earthquake number 709 of 1025 done. It was 20210306_121204.a\n"
     ]
    },
    {
     "name": "stderr",
     "output_type": "stream",
     "text": [
      "/home/earthquakes1/software/Mageia8/anaconda3/lib/python3.9/site-packages/obspy/io/stationxml/core.py:96: UserWarning: The StationXML file has version 1, ObsPy can read versions (1.0, 1.1). Proceed with caution.\n",
      "  warnings.warn(\"The StationXML file has version %s, ObsPy can \"\n"
     ]
    },
    {
     "name": "stdout",
     "output_type": "stream",
     "text": [
      "earthquake number 710 of 1025 done. It was 20210306_120523.a\n"
     ]
    },
    {
     "name": "stderr",
     "output_type": "stream",
     "text": [
      "/home/earthquakes1/software/Mageia8/anaconda3/lib/python3.9/site-packages/obspy/io/stationxml/core.py:96: UserWarning: The StationXML file has version 1, ObsPy can read versions (1.0, 1.1). Proceed with caution.\n",
      "  warnings.warn(\"The StationXML file has version %s, ObsPy can \"\n"
     ]
    },
    {
     "name": "stdout",
     "output_type": "stream",
     "text": [
      "earthquake number 711 of 1025 done. It was 20210306_103447.a\n"
     ]
    },
    {
     "name": "stderr",
     "output_type": "stream",
     "text": [
      "/home/earthquakes1/software/Mageia8/anaconda3/lib/python3.9/site-packages/obspy/io/stationxml/core.py:96: UserWarning: The StationXML file has version 1, ObsPy can read versions (1.0, 1.1). Proceed with caution.\n",
      "  warnings.warn(\"The StationXML file has version %s, ObsPy can \"\n"
     ]
    },
    {
     "name": "stdout",
     "output_type": "stream",
     "text": [
      "earthquake number 712 of 1025 done. It was 20210306_093802.a\n"
     ]
    },
    {
     "name": "stderr",
     "output_type": "stream",
     "text": [
      "/home/earthquakes1/software/Mageia8/anaconda3/lib/python3.9/site-packages/obspy/io/stationxml/core.py:96: UserWarning: The StationXML file has version 1, ObsPy can read versions (1.0, 1.1). Proceed with caution.\n",
      "  warnings.warn(\"The StationXML file has version %s, ObsPy can \"\n"
     ]
    },
    {
     "name": "stdout",
     "output_type": "stream",
     "text": [
      "earthquake number 713 of 1025 done. It was 20210306_082357.a\n"
     ]
    },
    {
     "name": "stderr",
     "output_type": "stream",
     "text": [
      "/home/earthquakes1/software/Mageia8/anaconda3/lib/python3.9/site-packages/obspy/io/stationxml/core.py:96: UserWarning: The StationXML file has version 1, ObsPy can read versions (1.0, 1.1). Proceed with caution.\n",
      "  warnings.warn(\"The StationXML file has version %s, ObsPy can \"\n"
     ]
    },
    {
     "name": "stdout",
     "output_type": "stream",
     "text": [
      "earthquake number 714 of 1025 done. It was 20210306_073013.a\n"
     ]
    },
    {
     "name": "stderr",
     "output_type": "stream",
     "text": [
      "/home/earthquakes1/software/Mageia8/anaconda3/lib/python3.9/site-packages/obspy/io/stationxml/core.py:96: UserWarning: The StationXML file has version 1, ObsPy can read versions (1.0, 1.1). Proceed with caution.\n",
      "  warnings.warn(\"The StationXML file has version %s, ObsPy can \"\n"
     ]
    },
    {
     "name": "stdout",
     "output_type": "stream",
     "text": [
      "earthquake number 715 of 1025 done. It was 20210306_072153.a\n"
     ]
    },
    {
     "name": "stderr",
     "output_type": "stream",
     "text": [
      "/home/earthquakes1/software/Mageia8/anaconda3/lib/python3.9/site-packages/obspy/io/stationxml/core.py:96: UserWarning: The StationXML file has version 1, ObsPy can read versions (1.0, 1.1). Proceed with caution.\n",
      "  warnings.warn(\"The StationXML file has version %s, ObsPy can \"\n"
     ]
    },
    {
     "name": "stdout",
     "output_type": "stream",
     "text": [
      "earthquake number 716 of 1025 done. It was 20210306_072029.a\n"
     ]
    },
    {
     "name": "stderr",
     "output_type": "stream",
     "text": [
      "/home/earthquakes1/software/Mageia8/anaconda3/lib/python3.9/site-packages/obspy/io/stationxml/core.py:96: UserWarning: The StationXML file has version 1, ObsPy can read versions (1.0, 1.1). Proceed with caution.\n",
      "  warnings.warn(\"The StationXML file has version %s, ObsPy can \"\n"
     ]
    },
    {
     "name": "stdout",
     "output_type": "stream",
     "text": [
      "earthquake number 717 of 1025 done. It was 20210306_071753.a\n"
     ]
    },
    {
     "name": "stderr",
     "output_type": "stream",
     "text": [
      "/home/earthquakes1/software/Mageia8/anaconda3/lib/python3.9/site-packages/obspy/io/stationxml/core.py:96: UserWarning: The StationXML file has version 1, ObsPy can read versions (1.0, 1.1). Proceed with caution.\n",
      "  warnings.warn(\"The StationXML file has version %s, ObsPy can \"\n"
     ]
    },
    {
     "name": "stdout",
     "output_type": "stream",
     "text": [
      "earthquake number 718 of 1025 done. It was 20210306_071629.a\n"
     ]
    },
    {
     "name": "stderr",
     "output_type": "stream",
     "text": [
      "/home/earthquakes1/software/Mageia8/anaconda3/lib/python3.9/site-packages/obspy/io/stationxml/core.py:96: UserWarning: The StationXML file has version 1, ObsPy can read versions (1.0, 1.1). Proceed with caution.\n",
      "  warnings.warn(\"The StationXML file has version %s, ObsPy can \"\n"
     ]
    },
    {
     "name": "stdout",
     "output_type": "stream",
     "text": [
      "earthquake number 719 of 1025 done. It was 20210306_071619.a\n"
     ]
    },
    {
     "name": "stderr",
     "output_type": "stream",
     "text": [
      "/home/earthquakes1/software/Mageia8/anaconda3/lib/python3.9/site-packages/obspy/io/stationxml/core.py:96: UserWarning: The StationXML file has version 1, ObsPy can read versions (1.0, 1.1). Proceed with caution.\n",
      "  warnings.warn(\"The StationXML file has version %s, ObsPy can \"\n"
     ]
    },
    {
     "name": "stdout",
     "output_type": "stream",
     "text": [
      "earthquake number 720 of 1025 done. It was 20210306_070224.a\n"
     ]
    },
    {
     "name": "stderr",
     "output_type": "stream",
     "text": [
      "/home/earthquakes1/software/Mageia8/anaconda3/lib/python3.9/site-packages/obspy/io/stationxml/core.py:96: UserWarning: The StationXML file has version 1, ObsPy can read versions (1.0, 1.1). Proceed with caution.\n",
      "  warnings.warn(\"The StationXML file has version %s, ObsPy can \"\n",
      "/home/earthquakes1/software/Mageia8/anaconda3/lib/python3.9/site-packages/obspy/io/stationxml/core.py:96: UserWarning: The StationXML file has version 1, ObsPy can read versions (1.0, 1.1). Proceed with caution.\n",
      "  warnings.warn(\"The StationXML file has version %s, ObsPy can \"\n",
      "/home/earthquakes1/software/Mageia8/anaconda3/lib/python3.9/site-packages/obspy/io/stationxml/core.py:96: UserWarning: The StationXML file has version 1, ObsPy can read versions (1.0, 1.1). Proceed with caution.\n",
      "  warnings.warn(\"The StationXML file has version %s, ObsPy can \"\n"
     ]
    },
    {
     "name": "stdout",
     "output_type": "stream",
     "text": [
      "earthquake number 721 of 1025 done. It was 20210306_060546.a\n"
     ]
    },
    {
     "name": "stderr",
     "output_type": "stream",
     "text": [
      "/home/earthquakes1/software/Mageia8/anaconda3/lib/python3.9/site-packages/obspy/io/stationxml/core.py:96: UserWarning: The StationXML file has version 1, ObsPy can read versions (1.0, 1.1). Proceed with caution.\n",
      "  warnings.warn(\"The StationXML file has version %s, ObsPy can \"\n"
     ]
    },
    {
     "name": "stdout",
     "output_type": "stream",
     "text": [
      "earthquake number 722 of 1025 done. It was 20210306_035946.a\n"
     ]
    },
    {
     "name": "stderr",
     "output_type": "stream",
     "text": [
      "/home/earthquakes1/software/Mageia8/anaconda3/lib/python3.9/site-packages/obspy/io/stationxml/core.py:96: UserWarning: The StationXML file has version 1, ObsPy can read versions (1.0, 1.1). Proceed with caution.\n",
      "  warnings.warn(\"The StationXML file has version %s, ObsPy can \"\n",
      "/home/earthquakes1/software/Mageia8/anaconda3/lib/python3.9/site-packages/obspy/io/stationxml/core.py:96: UserWarning: The StationXML file has version 1, ObsPy can read versions (1.0, 1.1). Proceed with caution.\n",
      "  warnings.warn(\"The StationXML file has version %s, ObsPy can \"\n",
      "/home/earthquakes1/software/Mageia8/anaconda3/lib/python3.9/site-packages/obspy/io/stationxml/core.py:96: UserWarning: The StationXML file has version 1, ObsPy can read versions (1.0, 1.1). Proceed with caution.\n",
      "  warnings.warn(\"The StationXML file has version %s, ObsPy can \"\n",
      "/home/earthquakes1/software/Mageia8/anaconda3/lib/python3.9/site-packages/obspy/io/stationxml/core.py:96: UserWarning: The StationXML file has version 1, ObsPy can read versions (1.0, 1.1). Proceed with caution.\n",
      "  warnings.warn(\"The StationXML file has version %s, ObsPy can \"\n",
      "/home/earthquakes1/software/Mageia8/anaconda3/lib/python3.9/site-packages/obspy/io/stationxml/core.py:96: UserWarning: The StationXML file has version 1, ObsPy can read versions (1.0, 1.1). Proceed with caution.\n",
      "  warnings.warn(\"The StationXML file has version %s, ObsPy can \"\n"
     ]
    },
    {
     "name": "stdout",
     "output_type": "stream",
     "text": [
      "earthquake number 723 of 1025 done. It was 20210306_032032.a\n"
     ]
    },
    {
     "name": "stderr",
     "output_type": "stream",
     "text": [
      "/home/earthquakes1/software/Mageia8/anaconda3/lib/python3.9/site-packages/obspy/io/stationxml/core.py:96: UserWarning: The StationXML file has version 1, ObsPy can read versions (1.0, 1.1). Proceed with caution.\n",
      "  warnings.warn(\"The StationXML file has version %s, ObsPy can \"\n",
      "/home/earthquakes1/software/Mageia8/anaconda3/lib/python3.9/site-packages/obspy/io/stationxml/core.py:96: UserWarning: The StationXML file has version 1, ObsPy can read versions (1.0, 1.1). Proceed with caution.\n",
      "  warnings.warn(\"The StationXML file has version %s, ObsPy can \"\n",
      "/home/earthquakes1/software/Mageia8/anaconda3/lib/python3.9/site-packages/obspy/io/stationxml/core.py:96: UserWarning: The StationXML file has version 1, ObsPy can read versions (1.0, 1.1). Proceed with caution.\n",
      "  warnings.warn(\"The StationXML file has version %s, ObsPy can \"\n"
     ]
    },
    {
     "name": "stdout",
     "output_type": "stream",
     "text": [
      "earthquake number 724 of 1025 done. It was 20210306_020317.a\n"
     ]
    },
    {
     "name": "stderr",
     "output_type": "stream",
     "text": [
      "/home/earthquakes1/software/Mageia8/anaconda3/lib/python3.9/site-packages/obspy/io/stationxml/core.py:96: UserWarning: The StationXML file has version 1, ObsPy can read versions (1.0, 1.1). Proceed with caution.\n",
      "  warnings.warn(\"The StationXML file has version %s, ObsPy can \"\n"
     ]
    },
    {
     "name": "stdout",
     "output_type": "stream",
     "text": [
      "earthquake number 725 of 1025 done. It was 20210306_012351.a\n"
     ]
    },
    {
     "name": "stderr",
     "output_type": "stream",
     "text": [
      "/home/earthquakes1/software/Mageia8/anaconda3/lib/python3.9/site-packages/obspy/io/stationxml/core.py:96: UserWarning: The StationXML file has version 1, ObsPy can read versions (1.0, 1.1). Proceed with caution.\n",
      "  warnings.warn(\"The StationXML file has version %s, ObsPy can \"\n"
     ]
    },
    {
     "name": "stdout",
     "output_type": "stream",
     "text": [
      "earthquake number 726 of 1025 done. It was 20210306_010703.a\n"
     ]
    },
    {
     "name": "stderr",
     "output_type": "stream",
     "text": [
      "/home/earthquakes1/software/Mageia8/anaconda3/lib/python3.9/site-packages/obspy/io/stationxml/core.py:96: UserWarning: The StationXML file has version 1, ObsPy can read versions (1.0, 1.1). Proceed with caution.\n",
      "  warnings.warn(\"The StationXML file has version %s, ObsPy can \"\n",
      "/home/earthquakes1/software/Mageia8/anaconda3/lib/python3.9/site-packages/obspy/io/stationxml/core.py:96: UserWarning: The StationXML file has version 1, ObsPy can read versions (1.0, 1.1). Proceed with caution.\n",
      "  warnings.warn(\"The StationXML file has version %s, ObsPy can \"\n",
      "/home/earthquakes1/software/Mageia8/anaconda3/lib/python3.9/site-packages/obspy/io/stationxml/core.py:96: UserWarning: The StationXML file has version 1, ObsPy can read versions (1.0, 1.1). Proceed with caution.\n",
      "  warnings.warn(\"The StationXML file has version %s, ObsPy can \"\n",
      "/home/earthquakes1/software/Mageia8/anaconda3/lib/python3.9/site-packages/obspy/io/stationxml/core.py:96: UserWarning: The StationXML file has version 1, ObsPy can read versions (1.0, 1.1). Proceed with caution.\n",
      "  warnings.warn(\"The StationXML file has version %s, ObsPy can \"\n",
      "/home/earthquakes1/software/Mageia8/anaconda3/lib/python3.9/site-packages/obspy/io/stationxml/core.py:96: UserWarning: The StationXML file has version 1, ObsPy can read versions (1.0, 1.1). Proceed with caution.\n",
      "  warnings.warn(\"The StationXML file has version %s, ObsPy can \"\n",
      "/home/earthquakes1/software/Mageia8/anaconda3/lib/python3.9/site-packages/obspy/io/stationxml/core.py:96: UserWarning: The StationXML file has version 1, ObsPy can read versions (1.0, 1.1). Proceed with caution.\n",
      "  warnings.warn(\"The StationXML file has version %s, ObsPy can \"\n"
     ]
    },
    {
     "name": "stdout",
     "output_type": "stream",
     "text": [
      "earthquake number 727 of 1025 done. It was 20210306_005201.a\n"
     ]
    },
    {
     "name": "stderr",
     "output_type": "stream",
     "text": [
      "/home/earthquakes1/software/Mageia8/anaconda3/lib/python3.9/site-packages/obspy/io/stationxml/core.py:96: UserWarning: The StationXML file has version 1, ObsPy can read versions (1.0, 1.1). Proceed with caution.\n",
      "  warnings.warn(\"The StationXML file has version %s, ObsPy can \"\n"
     ]
    },
    {
     "name": "stdout",
     "output_type": "stream",
     "text": [
      "earthquake number 728 of 1025 done. It was 20210306_004041.a\n"
     ]
    },
    {
     "name": "stderr",
     "output_type": "stream",
     "text": [
      "/home/earthquakes1/software/Mageia8/anaconda3/lib/python3.9/site-packages/obspy/io/stationxml/core.py:96: UserWarning: The StationXML file has version 1, ObsPy can read versions (1.0, 1.1). Proceed with caution.\n",
      "  warnings.warn(\"The StationXML file has version %s, ObsPy can \"\n"
     ]
    },
    {
     "name": "stdout",
     "output_type": "stream",
     "text": [
      "earthquake number 729 of 1025 done. It was 20210306_002559.a\n"
     ]
    },
    {
     "name": "stderr",
     "output_type": "stream",
     "text": [
      "/home/earthquakes1/software/Mageia8/anaconda3/lib/python3.9/site-packages/obspy/io/stationxml/core.py:96: UserWarning: The StationXML file has version 1, ObsPy can read versions (1.0, 1.1). Proceed with caution.\n",
      "  warnings.warn(\"The StationXML file has version %s, ObsPy can \"\n"
     ]
    },
    {
     "name": "stdout",
     "output_type": "stream",
     "text": [
      "earthquake number 730 of 1025 done. It was 20210306_002547.a\n"
     ]
    },
    {
     "name": "stderr",
     "output_type": "stream",
     "text": [
      "/home/earthquakes1/software/Mageia8/anaconda3/lib/python3.9/site-packages/obspy/io/stationxml/core.py:96: UserWarning: The StationXML file has version 1, ObsPy can read versions (1.0, 1.1). Proceed with caution.\n",
      "  warnings.warn(\"The StationXML file has version %s, ObsPy can \"\n"
     ]
    },
    {
     "name": "stdout",
     "output_type": "stream",
     "text": [
      "earthquake number 731 of 1025 done. It was 20210306_002211.a\n"
     ]
    },
    {
     "name": "stderr",
     "output_type": "stream",
     "text": [
      "/home/earthquakes1/software/Mageia8/anaconda3/lib/python3.9/site-packages/obspy/io/stationxml/core.py:96: UserWarning: The StationXML file has version 1, ObsPy can read versions (1.0, 1.1). Proceed with caution.\n",
      "  warnings.warn(\"The StationXML file has version %s, ObsPy can \"\n",
      "/home/earthquakes1/software/Mageia8/anaconda3/lib/python3.9/site-packages/obspy/io/stationxml/core.py:96: UserWarning: The StationXML file has version 1, ObsPy can read versions (1.0, 1.1). Proceed with caution.\n",
      "  warnings.warn(\"The StationXML file has version %s, ObsPy can \"\n",
      "/home/earthquakes1/software/Mageia8/anaconda3/lib/python3.9/site-packages/obspy/io/stationxml/core.py:96: UserWarning: The StationXML file has version 1, ObsPy can read versions (1.0, 1.1). Proceed with caution.\n",
      "  warnings.warn(\"The StationXML file has version %s, ObsPy can \"\n",
      "/home/earthquakes1/software/Mageia8/anaconda3/lib/python3.9/site-packages/obspy/io/stationxml/core.py:96: UserWarning: The StationXML file has version 1, ObsPy can read versions (1.0, 1.1). Proceed with caution.\n",
      "  warnings.warn(\"The StationXML file has version %s, ObsPy can \"\n",
      "/home/earthquakes1/software/Mageia8/anaconda3/lib/python3.9/site-packages/obspy/io/stationxml/core.py:96: UserWarning: The StationXML file has version 1, ObsPy can read versions (1.0, 1.1). Proceed with caution.\n",
      "  warnings.warn(\"The StationXML file has version %s, ObsPy can \"\n",
      "/home/earthquakes1/software/Mageia8/anaconda3/lib/python3.9/site-packages/obspy/io/stationxml/core.py:96: UserWarning: The StationXML file has version 1, ObsPy can read versions (1.0, 1.1). Proceed with caution.\n",
      "  warnings.warn(\"The StationXML file has version %s, ObsPy can \"\n"
     ]
    },
    {
     "name": "stdout",
     "output_type": "stream",
     "text": [
      "earthquake number 732 of 1025 done. It was 20210306_001622.a\n"
     ]
    },
    {
     "name": "stderr",
     "output_type": "stream",
     "text": [
      "/home/earthquakes1/software/Mageia8/anaconda3/lib/python3.9/site-packages/obspy/io/stationxml/core.py:96: UserWarning: The StationXML file has version 1, ObsPy can read versions (1.0, 1.1). Proceed with caution.\n",
      "  warnings.warn(\"The StationXML file has version %s, ObsPy can \"\n",
      "/home/earthquakes1/software/Mageia8/anaconda3/lib/python3.9/site-packages/obspy/io/stationxml/core.py:96: UserWarning: The StationXML file has version 1, ObsPy can read versions (1.0, 1.1). Proceed with caution.\n",
      "  warnings.warn(\"The StationXML file has version %s, ObsPy can \"\n",
      "/home/earthquakes1/software/Mageia8/anaconda3/lib/python3.9/site-packages/obspy/io/stationxml/core.py:96: UserWarning: The StationXML file has version 1, ObsPy can read versions (1.0, 1.1). Proceed with caution.\n",
      "  warnings.warn(\"The StationXML file has version %s, ObsPy can \"\n"
     ]
    },
    {
     "name": "stdout",
     "output_type": "stream",
     "text": [
      "earthquake number 733 of 1025 done. It was 20210305_235822.a\n"
     ]
    },
    {
     "name": "stderr",
     "output_type": "stream",
     "text": [
      "/home/earthquakes1/software/Mageia8/anaconda3/lib/python3.9/site-packages/obspy/io/stationxml/core.py:96: UserWarning: The StationXML file has version 1, ObsPy can read versions (1.0, 1.1). Proceed with caution.\n",
      "  warnings.warn(\"The StationXML file has version %s, ObsPy can \"\n"
     ]
    },
    {
     "name": "stdout",
     "output_type": "stream",
     "text": [
      "earthquake number 734 of 1025 done. It was 20210305_234828.a\n"
     ]
    },
    {
     "name": "stderr",
     "output_type": "stream",
     "text": [
      "/home/earthquakes1/software/Mageia8/anaconda3/lib/python3.9/site-packages/obspy/io/stationxml/core.py:96: UserWarning: The StationXML file has version 1, ObsPy can read versions (1.0, 1.1). Proceed with caution.\n",
      "  warnings.warn(\"The StationXML file has version %s, ObsPy can \"\n"
     ]
    },
    {
     "name": "stdout",
     "output_type": "stream",
     "text": [
      "earthquake number 735 of 1025 done. It was 20210305_231731.a\n"
     ]
    },
    {
     "name": "stderr",
     "output_type": "stream",
     "text": [
      "/home/earthquakes1/software/Mageia8/anaconda3/lib/python3.9/site-packages/obspy/io/stationxml/core.py:96: UserWarning: The StationXML file has version 1, ObsPy can read versions (1.0, 1.1). Proceed with caution.\n",
      "  warnings.warn(\"The StationXML file has version %s, ObsPy can \"\n",
      "/home/earthquakes1/software/Mageia8/anaconda3/lib/python3.9/site-packages/obspy/io/stationxml/core.py:96: UserWarning: The StationXML file has version 1, ObsPy can read versions (1.0, 1.1). Proceed with caution.\n",
      "  warnings.warn(\"The StationXML file has version %s, ObsPy can \"\n",
      "/home/earthquakes1/software/Mageia8/anaconda3/lib/python3.9/site-packages/obspy/io/stationxml/core.py:96: UserWarning: The StationXML file has version 1, ObsPy can read versions (1.0, 1.1). Proceed with caution.\n",
      "  warnings.warn(\"The StationXML file has version %s, ObsPy can \"\n",
      "/home/earthquakes1/software/Mageia8/anaconda3/lib/python3.9/site-packages/obspy/io/stationxml/core.py:96: UserWarning: The StationXML file has version 1, ObsPy can read versions (1.0, 1.1). Proceed with caution.\n",
      "  warnings.warn(\"The StationXML file has version %s, ObsPy can \"\n",
      "/home/earthquakes1/software/Mageia8/anaconda3/lib/python3.9/site-packages/obspy/io/stationxml/core.py:96: UserWarning: The StationXML file has version 1, ObsPy can read versions (1.0, 1.1). Proceed with caution.\n",
      "  warnings.warn(\"The StationXML file has version %s, ObsPy can \"\n",
      "/home/earthquakes1/software/Mageia8/anaconda3/lib/python3.9/site-packages/obspy/io/stationxml/core.py:96: UserWarning: The StationXML file has version 1, ObsPy can read versions (1.0, 1.1). Proceed with caution.\n",
      "  warnings.warn(\"The StationXML file has version %s, ObsPy can \"\n"
     ]
    },
    {
     "name": "stdout",
     "output_type": "stream",
     "text": [
      "earthquake number 736 of 1025 done. It was 20210305_223711.a\n"
     ]
    },
    {
     "name": "stderr",
     "output_type": "stream",
     "text": [
      "/home/earthquakes1/software/Mageia8/anaconda3/lib/python3.9/site-packages/obspy/io/stationxml/core.py:96: UserWarning: The StationXML file has version 1, ObsPy can read versions (1.0, 1.1). Proceed with caution.\n",
      "  warnings.warn(\"The StationXML file has version %s, ObsPy can \"\n"
     ]
    },
    {
     "name": "stdout",
     "output_type": "stream",
     "text": [
      "earthquake number 737 of 1025 done. It was 20210305_223450.a\n"
     ]
    },
    {
     "name": "stderr",
     "output_type": "stream",
     "text": [
      "/home/earthquakes1/software/Mageia8/anaconda3/lib/python3.9/site-packages/obspy/io/stationxml/core.py:96: UserWarning: The StationXML file has version 1, ObsPy can read versions (1.0, 1.1). Proceed with caution.\n",
      "  warnings.warn(\"The StationXML file has version %s, ObsPy can \"\n"
     ]
    },
    {
     "name": "stdout",
     "output_type": "stream",
     "text": [
      "earthquake number 738 of 1025 done. It was 20210305_222501.a\n"
     ]
    },
    {
     "name": "stderr",
     "output_type": "stream",
     "text": [
      "/home/earthquakes1/software/Mageia8/anaconda3/lib/python3.9/site-packages/obspy/io/stationxml/core.py:96: UserWarning: The StationXML file has version 1, ObsPy can read versions (1.0, 1.1). Proceed with caution.\n",
      "  warnings.warn(\"The StationXML file has version %s, ObsPy can \"\n"
     ]
    },
    {
     "name": "stdout",
     "output_type": "stream",
     "text": [
      "earthquake number 739 of 1025 done. It was 20210305_214720.a\n"
     ]
    },
    {
     "name": "stderr",
     "output_type": "stream",
     "text": [
      "/home/earthquakes1/software/Mageia8/anaconda3/lib/python3.9/site-packages/obspy/io/stationxml/core.py:96: UserWarning: The StationXML file has version 1, ObsPy can read versions (1.0, 1.1). Proceed with caution.\n",
      "  warnings.warn(\"The StationXML file has version %s, ObsPy can \"\n",
      "/home/earthquakes1/software/Mageia8/anaconda3/lib/python3.9/site-packages/obspy/io/stationxml/core.py:96: UserWarning: The StationXML file has version 1, ObsPy can read versions (1.0, 1.1). Proceed with caution.\n",
      "  warnings.warn(\"The StationXML file has version %s, ObsPy can \"\n",
      "/home/earthquakes1/software/Mageia8/anaconda3/lib/python3.9/site-packages/obspy/io/stationxml/core.py:96: UserWarning: The StationXML file has version 1, ObsPy can read versions (1.0, 1.1). Proceed with caution.\n",
      "  warnings.warn(\"The StationXML file has version %s, ObsPy can \"\n",
      "/home/earthquakes1/software/Mageia8/anaconda3/lib/python3.9/site-packages/obspy/io/stationxml/core.py:96: UserWarning: The StationXML file has version 1, ObsPy can read versions (1.0, 1.1). Proceed with caution.\n",
      "  warnings.warn(\"The StationXML file has version %s, ObsPy can \"\n"
     ]
    },
    {
     "name": "stdout",
     "output_type": "stream",
     "text": [
      "earthquake number 740 of 1025 done. It was 20210305_213322.a\n"
     ]
    },
    {
     "name": "stderr",
     "output_type": "stream",
     "text": [
      "/home/earthquakes1/software/Mageia8/anaconda3/lib/python3.9/site-packages/obspy/io/stationxml/core.py:96: UserWarning: The StationXML file has version 1, ObsPy can read versions (1.0, 1.1). Proceed with caution.\n",
      "  warnings.warn(\"The StationXML file has version %s, ObsPy can \"\n"
     ]
    },
    {
     "name": "stdout",
     "output_type": "stream",
     "text": [
      "earthquake number 741 of 1025 done. It was 20210305_211008.a\n"
     ]
    },
    {
     "name": "stderr",
     "output_type": "stream",
     "text": [
      "/home/earthquakes1/software/Mageia8/anaconda3/lib/python3.9/site-packages/obspy/io/stationxml/core.py:96: UserWarning: The StationXML file has version 1, ObsPy can read versions (1.0, 1.1). Proceed with caution.\n",
      "  warnings.warn(\"The StationXML file has version %s, ObsPy can \"\n"
     ]
    },
    {
     "name": "stdout",
     "output_type": "stream",
     "text": [
      "earthquake number 742 of 1025 done. It was 20210305_205241.a\n"
     ]
    },
    {
     "name": "stderr",
     "output_type": "stream",
     "text": [
      "/home/earthquakes1/software/Mageia8/anaconda3/lib/python3.9/site-packages/obspy/io/stationxml/core.py:96: UserWarning: The StationXML file has version 1, ObsPy can read versions (1.0, 1.1). Proceed with caution.\n",
      "  warnings.warn(\"The StationXML file has version %s, ObsPy can \"\n"
     ]
    },
    {
     "name": "stdout",
     "output_type": "stream",
     "text": [
      "earthquake number 743 of 1025 done. It was 20210305_204508.a\n"
     ]
    },
    {
     "name": "stderr",
     "output_type": "stream",
     "text": [
      "/home/earthquakes1/software/Mageia8/anaconda3/lib/python3.9/site-packages/obspy/io/stationxml/core.py:96: UserWarning: The StationXML file has version 1, ObsPy can read versions (1.0, 1.1). Proceed with caution.\n",
      "  warnings.warn(\"The StationXML file has version %s, ObsPy can \"\n"
     ]
    },
    {
     "name": "stdout",
     "output_type": "stream",
     "text": [
      "earthquake number 744 of 1025 done. It was 20210305_202635.a\n"
     ]
    },
    {
     "name": "stderr",
     "output_type": "stream",
     "text": [
      "/home/earthquakes1/software/Mageia8/anaconda3/lib/python3.9/site-packages/obspy/io/stationxml/core.py:96: UserWarning: The StationXML file has version 1, ObsPy can read versions (1.0, 1.1). Proceed with caution.\n",
      "  warnings.warn(\"The StationXML file has version %s, ObsPy can \"\n"
     ]
    },
    {
     "name": "stdout",
     "output_type": "stream",
     "text": [
      "earthquake number 745 of 1025 done. It was 20210305_202043.a\n"
     ]
    },
    {
     "name": "stderr",
     "output_type": "stream",
     "text": [
      "/home/earthquakes1/software/Mageia8/anaconda3/lib/python3.9/site-packages/obspy/io/stationxml/core.py:96: UserWarning: The StationXML file has version 1, ObsPy can read versions (1.0, 1.1). Proceed with caution.\n",
      "  warnings.warn(\"The StationXML file has version %s, ObsPy can \"\n",
      "/home/earthquakes1/software/Mageia8/anaconda3/lib/python3.9/site-packages/obspy/io/stationxml/core.py:96: UserWarning: The StationXML file has version 1, ObsPy can read versions (1.0, 1.1). Proceed with caution.\n",
      "  warnings.warn(\"The StationXML file has version %s, ObsPy can \"\n",
      "/home/earthquakes1/software/Mageia8/anaconda3/lib/python3.9/site-packages/obspy/io/stationxml/core.py:96: UserWarning: The StationXML file has version 1, ObsPy can read versions (1.0, 1.1). Proceed with caution.\n",
      "  warnings.warn(\"The StationXML file has version %s, ObsPy can \"\n"
     ]
    },
    {
     "name": "stdout",
     "output_type": "stream",
     "text": [
      "earthquake number 746 of 1025 done. It was 20210305_195612.a\n"
     ]
    },
    {
     "name": "stderr",
     "output_type": "stream",
     "text": [
      "/home/earthquakes1/software/Mageia8/anaconda3/lib/python3.9/site-packages/obspy/io/stationxml/core.py:96: UserWarning: The StationXML file has version 1, ObsPy can read versions (1.0, 1.1). Proceed with caution.\n",
      "  warnings.warn(\"The StationXML file has version %s, ObsPy can \"\n"
     ]
    },
    {
     "name": "stdout",
     "output_type": "stream",
     "text": [
      "earthquake number 747 of 1025 done. It was 20210305_194034.a\n"
     ]
    },
    {
     "name": "stderr",
     "output_type": "stream",
     "text": [
      "/home/earthquakes1/software/Mageia8/anaconda3/lib/python3.9/site-packages/obspy/io/stationxml/core.py:96: UserWarning: The StationXML file has version 1, ObsPy can read versions (1.0, 1.1). Proceed with caution.\n",
      "  warnings.warn(\"The StationXML file has version %s, ObsPy can \"\n"
     ]
    },
    {
     "name": "stdout",
     "output_type": "stream",
     "text": [
      "earthquake number 748 of 1025 done. It was 20210305_193708.a\n"
     ]
    },
    {
     "name": "stderr",
     "output_type": "stream",
     "text": [
      "/home/earthquakes1/software/Mageia8/anaconda3/lib/python3.9/site-packages/obspy/io/stationxml/core.py:96: UserWarning: The StationXML file has version 1, ObsPy can read versions (1.0, 1.1). Proceed with caution.\n",
      "  warnings.warn(\"The StationXML file has version %s, ObsPy can \"\n"
     ]
    },
    {
     "name": "stdout",
     "output_type": "stream",
     "text": [
      "earthquake number 749 of 1025 done. It was 20210305_193453.a\n"
     ]
    },
    {
     "name": "stderr",
     "output_type": "stream",
     "text": [
      "/home/earthquakes1/software/Mageia8/anaconda3/lib/python3.9/site-packages/obspy/io/stationxml/core.py:96: UserWarning: The StationXML file has version 1, ObsPy can read versions (1.0, 1.1). Proceed with caution.\n",
      "  warnings.warn(\"The StationXML file has version %s, ObsPy can \"\n"
     ]
    },
    {
     "name": "stdout",
     "output_type": "stream",
     "text": [
      "earthquake number 750 of 1025 done. It was 20210305_185721.a\n"
     ]
    },
    {
     "name": "stderr",
     "output_type": "stream",
     "text": [
      "/home/earthquakes1/software/Mageia8/anaconda3/lib/python3.9/site-packages/obspy/io/stationxml/core.py:96: UserWarning: The StationXML file has version 1, ObsPy can read versions (1.0, 1.1). Proceed with caution.\n",
      "  warnings.warn(\"The StationXML file has version %s, ObsPy can \"\n"
     ]
    },
    {
     "name": "stdout",
     "output_type": "stream",
     "text": [
      "earthquake number 751 of 1025 done. It was 20210305_180127.a\n"
     ]
    },
    {
     "name": "stderr",
     "output_type": "stream",
     "text": [
      "/home/earthquakes1/software/Mageia8/anaconda3/lib/python3.9/site-packages/obspy/io/stationxml/core.py:96: UserWarning: The StationXML file has version 1, ObsPy can read versions (1.0, 1.1). Proceed with caution.\n",
      "  warnings.warn(\"The StationXML file has version %s, ObsPy can \"\n",
      "/home/earthquakes1/software/Mageia8/anaconda3/lib/python3.9/site-packages/obspy/io/stationxml/core.py:96: UserWarning: The StationXML file has version 1, ObsPy can read versions (1.0, 1.1). Proceed with caution.\n",
      "  warnings.warn(\"The StationXML file has version %s, ObsPy can \"\n",
      "/home/earthquakes1/software/Mageia8/anaconda3/lib/python3.9/site-packages/obspy/io/stationxml/core.py:96: UserWarning: The StationXML file has version 1, ObsPy can read versions (1.0, 1.1). Proceed with caution.\n",
      "  warnings.warn(\"The StationXML file has version %s, ObsPy can \"\n"
     ]
    },
    {
     "name": "stdout",
     "output_type": "stream",
     "text": [
      "earthquake number 752 of 1025 done. It was 20210305_174415.a\n"
     ]
    },
    {
     "name": "stderr",
     "output_type": "stream",
     "text": [
      "/home/earthquakes1/software/Mageia8/anaconda3/lib/python3.9/site-packages/obspy/io/stationxml/core.py:96: UserWarning: The StationXML file has version 1, ObsPy can read versions (1.0, 1.1). Proceed with caution.\n",
      "  warnings.warn(\"The StationXML file has version %s, ObsPy can \"\n"
     ]
    },
    {
     "name": "stdout",
     "output_type": "stream",
     "text": [
      "earthquake number 753 of 1025 done. It was 20210305_171345.a\n"
     ]
    },
    {
     "name": "stderr",
     "output_type": "stream",
     "text": [
      "/home/earthquakes1/software/Mageia8/anaconda3/lib/python3.9/site-packages/obspy/io/stationxml/core.py:96: UserWarning: The StationXML file has version 1, ObsPy can read versions (1.0, 1.1). Proceed with caution.\n",
      "  warnings.warn(\"The StationXML file has version %s, ObsPy can \"\n"
     ]
    },
    {
     "name": "stdout",
     "output_type": "stream",
     "text": [
      "earthquake number 754 of 1025 done. It was 20210305_162020.a\n"
     ]
    },
    {
     "name": "stderr",
     "output_type": "stream",
     "text": [
      "/home/earthquakes1/software/Mageia8/anaconda3/lib/python3.9/site-packages/obspy/io/stationxml/core.py:96: UserWarning: The StationXML file has version 1, ObsPy can read versions (1.0, 1.1). Proceed with caution.\n",
      "  warnings.warn(\"The StationXML file has version %s, ObsPy can \"\n",
      "/home/earthquakes1/software/Mageia8/anaconda3/lib/python3.9/site-packages/obspy/io/stationxml/core.py:96: UserWarning: The StationXML file has version 1, ObsPy can read versions (1.0, 1.1). Proceed with caution.\n",
      "  warnings.warn(\"The StationXML file has version %s, ObsPy can \"\n",
      "/home/earthquakes1/software/Mageia8/anaconda3/lib/python3.9/site-packages/obspy/io/stationxml/core.py:96: UserWarning: The StationXML file has version 1, ObsPy can read versions (1.0, 1.1). Proceed with caution.\n",
      "  warnings.warn(\"The StationXML file has version %s, ObsPy can \"\n",
      "/home/earthquakes1/software/Mageia8/anaconda3/lib/python3.9/site-packages/obspy/io/stationxml/core.py:96: UserWarning: The StationXML file has version 1, ObsPy can read versions (1.0, 1.1). Proceed with caution.\n",
      "  warnings.warn(\"The StationXML file has version %s, ObsPy can \"\n"
     ]
    },
    {
     "name": "stdout",
     "output_type": "stream",
     "text": [
      "earthquake number 755 of 1025 done. It was 20210305_154246.a\n"
     ]
    },
    {
     "name": "stderr",
     "output_type": "stream",
     "text": [
      "/home/earthquakes1/software/Mageia8/anaconda3/lib/python3.9/site-packages/obspy/io/stationxml/core.py:96: UserWarning: The StationXML file has version 1, ObsPy can read versions (1.0, 1.1). Proceed with caution.\n",
      "  warnings.warn(\"The StationXML file has version %s, ObsPy can \"\n"
     ]
    },
    {
     "name": "stdout",
     "output_type": "stream",
     "text": [
      "earthquake number 756 of 1025 done. It was 20210305_150046.a\n"
     ]
    },
    {
     "name": "stderr",
     "output_type": "stream",
     "text": [
      "/home/earthquakes1/software/Mageia8/anaconda3/lib/python3.9/site-packages/obspy/io/stationxml/core.py:96: UserWarning: The StationXML file has version 1, ObsPy can read versions (1.0, 1.1). Proceed with caution.\n",
      "  warnings.warn(\"The StationXML file has version %s, ObsPy can \"\n"
     ]
    },
    {
     "name": "stdout",
     "output_type": "stream",
     "text": [
      "earthquake number 757 of 1025 done. It was 20210305_143325.a\n"
     ]
    },
    {
     "name": "stderr",
     "output_type": "stream",
     "text": [
      "/home/earthquakes1/software/Mageia8/anaconda3/lib/python3.9/site-packages/obspy/io/stationxml/core.py:96: UserWarning: The StationXML file has version 1, ObsPy can read versions (1.0, 1.1). Proceed with caution.\n",
      "  warnings.warn(\"The StationXML file has version %s, ObsPy can \"\n"
     ]
    },
    {
     "name": "stdout",
     "output_type": "stream",
     "text": [
      "earthquake number 758 of 1025 done. It was 20210305_142452.a\n"
     ]
    },
    {
     "name": "stderr",
     "output_type": "stream",
     "text": [
      "/home/earthquakes1/software/Mageia8/anaconda3/lib/python3.9/site-packages/obspy/io/stationxml/core.py:96: UserWarning: The StationXML file has version 1, ObsPy can read versions (1.0, 1.1). Proceed with caution.\n",
      "  warnings.warn(\"The StationXML file has version %s, ObsPy can \"\n"
     ]
    },
    {
     "name": "stdout",
     "output_type": "stream",
     "text": [
      "earthquake number 759 of 1025 done. It was 20210305_135913.a\n"
     ]
    },
    {
     "name": "stderr",
     "output_type": "stream",
     "text": [
      "/home/earthquakes1/software/Mageia8/anaconda3/lib/python3.9/site-packages/obspy/io/stationxml/core.py:96: UserWarning: The StationXML file has version 1, ObsPy can read versions (1.0, 1.1). Proceed with caution.\n",
      "  warnings.warn(\"The StationXML file has version %s, ObsPy can \"\n"
     ]
    },
    {
     "name": "stdout",
     "output_type": "stream",
     "text": [
      "earthquake number 760 of 1025 done. It was 20210305_130045.a\n"
     ]
    },
    {
     "name": "stderr",
     "output_type": "stream",
     "text": [
      "/home/earthquakes1/software/Mageia8/anaconda3/lib/python3.9/site-packages/obspy/io/stationxml/core.py:96: UserWarning: The StationXML file has version 1, ObsPy can read versions (1.0, 1.1). Proceed with caution.\n",
      "  warnings.warn(\"The StationXML file has version %s, ObsPy can \"\n"
     ]
    },
    {
     "name": "stdout",
     "output_type": "stream",
     "text": [
      "earthquake number 761 of 1025 done. It was 20210305_122850.a\n"
     ]
    },
    {
     "name": "stderr",
     "output_type": "stream",
     "text": [
      "/home/earthquakes1/software/Mageia8/anaconda3/lib/python3.9/site-packages/obspy/io/stationxml/core.py:96: UserWarning: The StationXML file has version 1, ObsPy can read versions (1.0, 1.1). Proceed with caution.\n",
      "  warnings.warn(\"The StationXML file has version %s, ObsPy can \"\n"
     ]
    },
    {
     "name": "stdout",
     "output_type": "stream",
     "text": [
      "earthquake number 762 of 1025 done. It was 20210305_111655.a\n"
     ]
    },
    {
     "name": "stderr",
     "output_type": "stream",
     "text": [
      "/home/earthquakes1/software/Mageia8/anaconda3/lib/python3.9/site-packages/obspy/io/stationxml/core.py:96: UserWarning: The StationXML file has version 1, ObsPy can read versions (1.0, 1.1). Proceed with caution.\n",
      "  warnings.warn(\"The StationXML file has version %s, ObsPy can \"\n"
     ]
    },
    {
     "name": "stdout",
     "output_type": "stream",
     "text": [
      "earthquake number 763 of 1025 done. It was 20210305_095958.a\n"
     ]
    },
    {
     "name": "stderr",
     "output_type": "stream",
     "text": [
      "/home/earthquakes1/software/Mageia8/anaconda3/lib/python3.9/site-packages/obspy/io/stationxml/core.py:96: UserWarning: The StationXML file has version 1, ObsPy can read versions (1.0, 1.1). Proceed with caution.\n",
      "  warnings.warn(\"The StationXML file has version %s, ObsPy can \"\n"
     ]
    },
    {
     "name": "stdout",
     "output_type": "stream",
     "text": [
      "earthquake number 764 of 1025 done. It was 20210305_081340.a\n"
     ]
    },
    {
     "name": "stderr",
     "output_type": "stream",
     "text": [
      "/home/earthquakes1/software/Mageia8/anaconda3/lib/python3.9/site-packages/obspy/io/stationxml/core.py:96: UserWarning: The StationXML file has version 1, ObsPy can read versions (1.0, 1.1). Proceed with caution.\n",
      "  warnings.warn(\"The StationXML file has version %s, ObsPy can \"\n"
     ]
    },
    {
     "name": "stdout",
     "output_type": "stream",
     "text": [
      "earthquake number 765 of 1025 done. It was 20210305_072318.a\n"
     ]
    },
    {
     "name": "stderr",
     "output_type": "stream",
     "text": [
      "/home/earthquakes1/software/Mageia8/anaconda3/lib/python3.9/site-packages/obspy/io/stationxml/core.py:96: UserWarning: The StationXML file has version 1, ObsPy can read versions (1.0, 1.1). Proceed with caution.\n",
      "  warnings.warn(\"The StationXML file has version %s, ObsPy can \"\n"
     ]
    },
    {
     "name": "stdout",
     "output_type": "stream",
     "text": [
      "earthquake number 766 of 1025 done. It was 20210305_071955.a\n"
     ]
    },
    {
     "name": "stderr",
     "output_type": "stream",
     "text": [
      "/home/earthquakes1/software/Mageia8/anaconda3/lib/python3.9/site-packages/obspy/io/stationxml/core.py:96: UserWarning: The StationXML file has version 1, ObsPy can read versions (1.0, 1.1). Proceed with caution.\n",
      "  warnings.warn(\"The StationXML file has version %s, ObsPy can \"\n"
     ]
    },
    {
     "name": "stdout",
     "output_type": "stream",
     "text": [
      "earthquake number 767 of 1025 done. It was 20210305_060552.a\n"
     ]
    },
    {
     "name": "stderr",
     "output_type": "stream",
     "text": [
      "/home/earthquakes1/software/Mageia8/anaconda3/lib/python3.9/site-packages/obspy/io/stationxml/core.py:96: UserWarning: The StationXML file has version 1, ObsPy can read versions (1.0, 1.1). Proceed with caution.\n",
      "  warnings.warn(\"The StationXML file has version %s, ObsPy can \"\n"
     ]
    },
    {
     "name": "stdout",
     "output_type": "stream",
     "text": [
      "earthquake number 768 of 1025 done. It was 20210305_053618.a\n"
     ]
    },
    {
     "name": "stderr",
     "output_type": "stream",
     "text": [
      "/home/earthquakes1/software/Mageia8/anaconda3/lib/python3.9/site-packages/obspy/io/stationxml/core.py:96: UserWarning: The StationXML file has version 1, ObsPy can read versions (1.0, 1.1). Proceed with caution.\n",
      "  warnings.warn(\"The StationXML file has version %s, ObsPy can \"\n"
     ]
    },
    {
     "name": "stdout",
     "output_type": "stream",
     "text": [
      "earthquake number 769 of 1025 done. It was 20210305_050425.a\n"
     ]
    },
    {
     "name": "stderr",
     "output_type": "stream",
     "text": [
      "/home/earthquakes1/software/Mageia8/anaconda3/lib/python3.9/site-packages/obspy/io/stationxml/core.py:96: UserWarning: The StationXML file has version 1, ObsPy can read versions (1.0, 1.1). Proceed with caution.\n",
      "  warnings.warn(\"The StationXML file has version %s, ObsPy can \"\n"
     ]
    },
    {
     "name": "stdout",
     "output_type": "stream",
     "text": [
      "earthquake number 770 of 1025 done. It was 20210305_043910.a\n"
     ]
    },
    {
     "name": "stderr",
     "output_type": "stream",
     "text": [
      "/home/earthquakes1/software/Mageia8/anaconda3/lib/python3.9/site-packages/obspy/io/stationxml/core.py:96: UserWarning: The StationXML file has version 1, ObsPy can read versions (1.0, 1.1). Proceed with caution.\n",
      "  warnings.warn(\"The StationXML file has version %s, ObsPy can \"\n"
     ]
    },
    {
     "name": "stdout",
     "output_type": "stream",
     "text": [
      "earthquake number 771 of 1025 done. It was 20210305_043245.a\n"
     ]
    },
    {
     "name": "stderr",
     "output_type": "stream",
     "text": [
      "/home/earthquakes1/software/Mageia8/anaconda3/lib/python3.9/site-packages/obspy/io/stationxml/core.py:96: UserWarning: The StationXML file has version 1, ObsPy can read versions (1.0, 1.1). Proceed with caution.\n",
      "  warnings.warn(\"The StationXML file has version %s, ObsPy can \"\n"
     ]
    },
    {
     "name": "stdout",
     "output_type": "stream",
     "text": [
      "earthquake number 772 of 1025 done. It was 20210305_043222.a\n"
     ]
    },
    {
     "name": "stderr",
     "output_type": "stream",
     "text": [
      "/home/earthquakes1/software/Mageia8/anaconda3/lib/python3.9/site-packages/obspy/io/stationxml/core.py:96: UserWarning: The StationXML file has version 1, ObsPy can read versions (1.0, 1.1). Proceed with caution.\n",
      "  warnings.warn(\"The StationXML file has version %s, ObsPy can \"\n"
     ]
    },
    {
     "name": "stdout",
     "output_type": "stream",
     "text": [
      "earthquake number 773 of 1025 done. It was 20210305_042857.a\n"
     ]
    },
    {
     "name": "stderr",
     "output_type": "stream",
     "text": [
      "/home/earthquakes1/software/Mageia8/anaconda3/lib/python3.9/site-packages/obspy/io/stationxml/core.py:96: UserWarning: The StationXML file has version 1, ObsPy can read versions (1.0, 1.1). Proceed with caution.\n",
      "  warnings.warn(\"The StationXML file has version %s, ObsPy can \"\n"
     ]
    },
    {
     "name": "stdout",
     "output_type": "stream",
     "text": [
      "earthquake number 774 of 1025 done. It was 20210305_042059.a\n"
     ]
    },
    {
     "name": "stderr",
     "output_type": "stream",
     "text": [
      "/home/earthquakes1/software/Mageia8/anaconda3/lib/python3.9/site-packages/obspy/io/stationxml/core.py:96: UserWarning: The StationXML file has version 1, ObsPy can read versions (1.0, 1.1). Proceed with caution.\n",
      "  warnings.warn(\"The StationXML file has version %s, ObsPy can \"\n"
     ]
    },
    {
     "name": "stdout",
     "output_type": "stream",
     "text": [
      "earthquake number 775 of 1025 done. It was 20210305_041625.a\n"
     ]
    },
    {
     "name": "stderr",
     "output_type": "stream",
     "text": [
      "/home/earthquakes1/software/Mageia8/anaconda3/lib/python3.9/site-packages/obspy/io/stationxml/core.py:96: UserWarning: The StationXML file has version 1, ObsPy can read versions (1.0, 1.1). Proceed with caution.\n",
      "  warnings.warn(\"The StationXML file has version %s, ObsPy can \"\n"
     ]
    },
    {
     "name": "stdout",
     "output_type": "stream",
     "text": [
      "earthquake number 776 of 1025 done. It was 20210305_040157.a\n"
     ]
    },
    {
     "name": "stderr",
     "output_type": "stream",
     "text": [
      "/home/earthquakes1/software/Mageia8/anaconda3/lib/python3.9/site-packages/obspy/io/stationxml/core.py:96: UserWarning: The StationXML file has version 1, ObsPy can read versions (1.0, 1.1). Proceed with caution.\n",
      "  warnings.warn(\"The StationXML file has version %s, ObsPy can \"\n"
     ]
    },
    {
     "name": "stdout",
     "output_type": "stream",
     "text": [
      "earthquake number 777 of 1025 done. It was 20210305_040057.a\n"
     ]
    },
    {
     "name": "stderr",
     "output_type": "stream",
     "text": [
      "/home/earthquakes1/software/Mageia8/anaconda3/lib/python3.9/site-packages/obspy/io/stationxml/core.py:96: UserWarning: The StationXML file has version 1, ObsPy can read versions (1.0, 1.1). Proceed with caution.\n",
      "  warnings.warn(\"The StationXML file has version %s, ObsPy can \"\n"
     ]
    },
    {
     "name": "stdout",
     "output_type": "stream",
     "text": [
      "earthquake number 778 of 1025 done. It was 20210305_035304.a\n"
     ]
    },
    {
     "name": "stderr",
     "output_type": "stream",
     "text": [
      "/home/earthquakes1/software/Mageia8/anaconda3/lib/python3.9/site-packages/obspy/io/stationxml/core.py:96: UserWarning: The StationXML file has version 1, ObsPy can read versions (1.0, 1.1). Proceed with caution.\n",
      "  warnings.warn(\"The StationXML file has version %s, ObsPy can \"\n"
     ]
    },
    {
     "name": "stdout",
     "output_type": "stream",
     "text": [
      "earthquake number 779 of 1025 done. It was 20210305_034408.a\n"
     ]
    },
    {
     "name": "stderr",
     "output_type": "stream",
     "text": [
      "/home/earthquakes1/software/Mageia8/anaconda3/lib/python3.9/site-packages/obspy/io/stationxml/core.py:96: UserWarning: The StationXML file has version 1, ObsPy can read versions (1.0, 1.1). Proceed with caution.\n",
      "  warnings.warn(\"The StationXML file has version %s, ObsPy can \"\n"
     ]
    },
    {
     "name": "stdout",
     "output_type": "stream",
     "text": [
      "earthquake number 780 of 1025 done. It was 20210305_034131.a\n"
     ]
    },
    {
     "name": "stderr",
     "output_type": "stream",
     "text": [
      "/home/earthquakes1/software/Mageia8/anaconda3/lib/python3.9/site-packages/obspy/io/stationxml/core.py:96: UserWarning: The StationXML file has version 1, ObsPy can read versions (1.0, 1.1). Proceed with caution.\n",
      "  warnings.warn(\"The StationXML file has version %s, ObsPy can \"\n"
     ]
    },
    {
     "name": "stdout",
     "output_type": "stream",
     "text": [
      "earthquake number 781 of 1025 done. It was 20210305_033320.a\n"
     ]
    },
    {
     "name": "stderr",
     "output_type": "stream",
     "text": [
      "/home/earthquakes1/software/Mageia8/anaconda3/lib/python3.9/site-packages/obspy/io/stationxml/core.py:96: UserWarning: The StationXML file has version 1, ObsPy can read versions (1.0, 1.1). Proceed with caution.\n",
      "  warnings.warn(\"The StationXML file has version %s, ObsPy can \"\n"
     ]
    },
    {
     "name": "stdout",
     "output_type": "stream",
     "text": [
      "earthquake number 782 of 1025 done. It was 20210305_032512.a\n"
     ]
    },
    {
     "name": "stderr",
     "output_type": "stream",
     "text": [
      "/home/earthquakes1/software/Mageia8/anaconda3/lib/python3.9/site-packages/obspy/io/stationxml/core.py:96: UserWarning: The StationXML file has version 1, ObsPy can read versions (1.0, 1.1). Proceed with caution.\n",
      "  warnings.warn(\"The StationXML file has version %s, ObsPy can \"\n"
     ]
    },
    {
     "name": "stdout",
     "output_type": "stream",
     "text": [
      "earthquake number 783 of 1025 done. It was 20210305_032138.a\n"
     ]
    },
    {
     "name": "stderr",
     "output_type": "stream",
     "text": [
      "/home/earthquakes1/software/Mageia8/anaconda3/lib/python3.9/site-packages/obspy/io/stationxml/core.py:96: UserWarning: The StationXML file has version 1, ObsPy can read versions (1.0, 1.1). Proceed with caution.\n",
      "  warnings.warn(\"The StationXML file has version %s, ObsPy can \"\n"
     ]
    },
    {
     "name": "stdout",
     "output_type": "stream",
     "text": [
      "earthquake number 784 of 1025 done. It was 20210305_031846.a\n"
     ]
    },
    {
     "name": "stderr",
     "output_type": "stream",
     "text": [
      "/home/earthquakes1/software/Mageia8/anaconda3/lib/python3.9/site-packages/obspy/io/stationxml/core.py:96: UserWarning: The StationXML file has version 1, ObsPy can read versions (1.0, 1.1). Proceed with caution.\n",
      "  warnings.warn(\"The StationXML file has version %s, ObsPy can \"\n"
     ]
    },
    {
     "name": "stdout",
     "output_type": "stream",
     "text": [
      "earthquake number 785 of 1025 done. It was 20210305_030215.a\n"
     ]
    },
    {
     "name": "stderr",
     "output_type": "stream",
     "text": [
      "/home/earthquakes1/software/Mageia8/anaconda3/lib/python3.9/site-packages/obspy/io/stationxml/core.py:96: UserWarning: The StationXML file has version 1, ObsPy can read versions (1.0, 1.1). Proceed with caution.\n",
      "  warnings.warn(\"The StationXML file has version %s, ObsPy can \"\n"
     ]
    },
    {
     "name": "stdout",
     "output_type": "stream",
     "text": [
      "earthquake number 786 of 1025 done. It was 20210305_025309.a\n"
     ]
    },
    {
     "name": "stderr",
     "output_type": "stream",
     "text": [
      "/home/earthquakes1/software/Mageia8/anaconda3/lib/python3.9/site-packages/obspy/io/stationxml/core.py:96: UserWarning: The StationXML file has version 1, ObsPy can read versions (1.0, 1.1). Proceed with caution.\n",
      "  warnings.warn(\"The StationXML file has version %s, ObsPy can \"\n"
     ]
    },
    {
     "name": "stdout",
     "output_type": "stream",
     "text": [
      "earthquake number 787 of 1025 done. It was 20210305_024950.a\n"
     ]
    },
    {
     "name": "stderr",
     "output_type": "stream",
     "text": [
      "/home/earthquakes1/software/Mageia8/anaconda3/lib/python3.9/site-packages/obspy/io/stationxml/core.py:96: UserWarning: The StationXML file has version 1, ObsPy can read versions (1.0, 1.1). Proceed with caution.\n",
      "  warnings.warn(\"The StationXML file has version %s, ObsPy can \"\n"
     ]
    },
    {
     "name": "stdout",
     "output_type": "stream",
     "text": [
      "earthquake number 788 of 1025 done. It was 20210305_024712.a\n"
     ]
    },
    {
     "name": "stderr",
     "output_type": "stream",
     "text": [
      "/home/earthquakes1/software/Mageia8/anaconda3/lib/python3.9/site-packages/obspy/io/stationxml/core.py:96: UserWarning: The StationXML file has version 1, ObsPy can read versions (1.0, 1.1). Proceed with caution.\n",
      "  warnings.warn(\"The StationXML file has version %s, ObsPy can \"\n"
     ]
    },
    {
     "name": "stdout",
     "output_type": "stream",
     "text": [
      "earthquake number 789 of 1025 done. It was 20210305_024312.a\n"
     ]
    },
    {
     "name": "stderr",
     "output_type": "stream",
     "text": [
      "/home/earthquakes1/software/Mageia8/anaconda3/lib/python3.9/site-packages/obspy/io/stationxml/core.py:96: UserWarning: The StationXML file has version 1, ObsPy can read versions (1.0, 1.1). Proceed with caution.\n",
      "  warnings.warn(\"The StationXML file has version %s, ObsPy can \"\n"
     ]
    },
    {
     "name": "stdout",
     "output_type": "stream",
     "text": [
      "earthquake number 790 of 1025 done. It was 20210305_023036.a\n"
     ]
    },
    {
     "name": "stderr",
     "output_type": "stream",
     "text": [
      "/home/earthquakes1/software/Mageia8/anaconda3/lib/python3.9/site-packages/obspy/io/stationxml/core.py:96: UserWarning: The StationXML file has version 1, ObsPy can read versions (1.0, 1.1). Proceed with caution.\n",
      "  warnings.warn(\"The StationXML file has version %s, ObsPy can \"\n"
     ]
    },
    {
     "name": "stdout",
     "output_type": "stream",
     "text": [
      "earthquake number 791 of 1025 done. It was 20210305_015948.a\n"
     ]
    },
    {
     "name": "stderr",
     "output_type": "stream",
     "text": [
      "/home/earthquakes1/software/Mageia8/anaconda3/lib/python3.9/site-packages/obspy/io/stationxml/core.py:96: UserWarning: The StationXML file has version 1, ObsPy can read versions (1.0, 1.1). Proceed with caution.\n",
      "  warnings.warn(\"The StationXML file has version %s, ObsPy can \"\n"
     ]
    },
    {
     "name": "stdout",
     "output_type": "stream",
     "text": [
      "earthquake number 792 of 1025 done. It was 20210305_015429.a\n"
     ]
    },
    {
     "name": "stderr",
     "output_type": "stream",
     "text": [
      "/home/earthquakes1/software/Mageia8/anaconda3/lib/python3.9/site-packages/obspy/io/stationxml/core.py:96: UserWarning: The StationXML file has version 1, ObsPy can read versions (1.0, 1.1). Proceed with caution.\n",
      "  warnings.warn(\"The StationXML file has version %s, ObsPy can \"\n"
     ]
    },
    {
     "name": "stdout",
     "output_type": "stream",
     "text": [
      "earthquake number 793 of 1025 done. It was 20210305_014515.a\n"
     ]
    },
    {
     "name": "stderr",
     "output_type": "stream",
     "text": [
      "/home/earthquakes1/software/Mageia8/anaconda3/lib/python3.9/site-packages/obspy/io/stationxml/core.py:96: UserWarning: The StationXML file has version 1, ObsPy can read versions (1.0, 1.1). Proceed with caution.\n",
      "  warnings.warn(\"The StationXML file has version %s, ObsPy can \"\n"
     ]
    },
    {
     "name": "stdout",
     "output_type": "stream",
     "text": [
      "earthquake number 794 of 1025 done. It was 20210305_014241.a\n"
     ]
    },
    {
     "name": "stderr",
     "output_type": "stream",
     "text": [
      "/home/earthquakes1/software/Mageia8/anaconda3/lib/python3.9/site-packages/obspy/io/stationxml/core.py:96: UserWarning: The StationXML file has version 1, ObsPy can read versions (1.0, 1.1). Proceed with caution.\n",
      "  warnings.warn(\"The StationXML file has version %s, ObsPy can \"\n"
     ]
    },
    {
     "name": "stdout",
     "output_type": "stream",
     "text": [
      "earthquake number 795 of 1025 done. It was 20210305_010734.a\n"
     ]
    },
    {
     "name": "stderr",
     "output_type": "stream",
     "text": [
      "/home/earthquakes1/software/Mageia8/anaconda3/lib/python3.9/site-packages/obspy/io/stationxml/core.py:96: UserWarning: The StationXML file has version 1, ObsPy can read versions (1.0, 1.1). Proceed with caution.\n",
      "  warnings.warn(\"The StationXML file has version %s, ObsPy can \"\n"
     ]
    },
    {
     "name": "stdout",
     "output_type": "stream",
     "text": [
      "earthquake number 796 of 1025 done. It was 20210305_005827.a\n"
     ]
    },
    {
     "name": "stderr",
     "output_type": "stream",
     "text": [
      "/home/earthquakes1/software/Mageia8/anaconda3/lib/python3.9/site-packages/obspy/io/stationxml/core.py:96: UserWarning: The StationXML file has version 1, ObsPy can read versions (1.0, 1.1). Proceed with caution.\n",
      "  warnings.warn(\"The StationXML file has version %s, ObsPy can \"\n"
     ]
    },
    {
     "name": "stdout",
     "output_type": "stream",
     "text": [
      "earthquake number 797 of 1025 done. It was 20210305_005437.a\n"
     ]
    },
    {
     "name": "stderr",
     "output_type": "stream",
     "text": [
      "/home/earthquakes1/software/Mageia8/anaconda3/lib/python3.9/site-packages/obspy/io/stationxml/core.py:96: UserWarning: The StationXML file has version 1, ObsPy can read versions (1.0, 1.1). Proceed with caution.\n",
      "  warnings.warn(\"The StationXML file has version %s, ObsPy can \"\n"
     ]
    },
    {
     "name": "stdout",
     "output_type": "stream",
     "text": [
      "earthquake number 798 of 1025 done. It was 20210305_004918.a\n"
     ]
    },
    {
     "name": "stderr",
     "output_type": "stream",
     "text": [
      "/home/earthquakes1/software/Mageia8/anaconda3/lib/python3.9/site-packages/obspy/io/stationxml/core.py:96: UserWarning: The StationXML file has version 1, ObsPy can read versions (1.0, 1.1). Proceed with caution.\n",
      "  warnings.warn(\"The StationXML file has version %s, ObsPy can \"\n"
     ]
    },
    {
     "name": "stdout",
     "output_type": "stream",
     "text": [
      "earthquake number 799 of 1025 done. It was 20210305_002819.a\n"
     ]
    },
    {
     "name": "stderr",
     "output_type": "stream",
     "text": [
      "/home/earthquakes1/software/Mageia8/anaconda3/lib/python3.9/site-packages/obspy/io/stationxml/core.py:96: UserWarning: The StationXML file has version 1, ObsPy can read versions (1.0, 1.1). Proceed with caution.\n",
      "  warnings.warn(\"The StationXML file has version %s, ObsPy can \"\n"
     ]
    },
    {
     "name": "stdout",
     "output_type": "stream",
     "text": [
      "earthquake number 800 of 1025 done. It was 20210305_001939.a\n"
     ]
    },
    {
     "name": "stderr",
     "output_type": "stream",
     "text": [
      "/home/earthquakes1/software/Mageia8/anaconda3/lib/python3.9/site-packages/obspy/io/stationxml/core.py:96: UserWarning: The StationXML file has version 1, ObsPy can read versions (1.0, 1.1). Proceed with caution.\n",
      "  warnings.warn(\"The StationXML file has version %s, ObsPy can \"\n"
     ]
    },
    {
     "name": "stdout",
     "output_type": "stream",
     "text": [
      "earthquake number 801 of 1025 done. It was 20210305_000257.a\n"
     ]
    },
    {
     "name": "stderr",
     "output_type": "stream",
     "text": [
      "/home/earthquakes1/software/Mageia8/anaconda3/lib/python3.9/site-packages/obspy/io/stationxml/core.py:96: UserWarning: The StationXML file has version 1, ObsPy can read versions (1.0, 1.1). Proceed with caution.\n",
      "  warnings.warn(\"The StationXML file has version %s, ObsPy can \"\n"
     ]
    },
    {
     "name": "stdout",
     "output_type": "stream",
     "text": [
      "earthquake number 802 of 1025 done. It was 20210304_235253.a\n"
     ]
    },
    {
     "name": "stderr",
     "output_type": "stream",
     "text": [
      "/home/earthquakes1/software/Mageia8/anaconda3/lib/python3.9/site-packages/obspy/io/stationxml/core.py:96: UserWarning: The StationXML file has version 1, ObsPy can read versions (1.0, 1.1). Proceed with caution.\n",
      "  warnings.warn(\"The StationXML file has version %s, ObsPy can \"\n"
     ]
    },
    {
     "name": "stdout",
     "output_type": "stream",
     "text": [
      "earthquake number 803 of 1025 done. It was 20210304_234159.a\n"
     ]
    },
    {
     "name": "stderr",
     "output_type": "stream",
     "text": [
      "/home/earthquakes1/software/Mageia8/anaconda3/lib/python3.9/site-packages/obspy/io/stationxml/core.py:96: UserWarning: The StationXML file has version 1, ObsPy can read versions (1.0, 1.1). Proceed with caution.\n",
      "  warnings.warn(\"The StationXML file has version %s, ObsPy can \"\n"
     ]
    },
    {
     "name": "stdout",
     "output_type": "stream",
     "text": [
      "earthquake number 804 of 1025 done. It was 20210304_233709.a\n"
     ]
    },
    {
     "name": "stderr",
     "output_type": "stream",
     "text": [
      "/home/earthquakes1/software/Mageia8/anaconda3/lib/python3.9/site-packages/obspy/io/stationxml/core.py:96: UserWarning: The StationXML file has version 1, ObsPy can read versions (1.0, 1.1). Proceed with caution.\n",
      "  warnings.warn(\"The StationXML file has version %s, ObsPy can \"\n"
     ]
    },
    {
     "name": "stdout",
     "output_type": "stream",
     "text": [
      "earthquake number 805 of 1025 done. It was 20210304_233454.a\n"
     ]
    },
    {
     "name": "stderr",
     "output_type": "stream",
     "text": [
      "/home/earthquakes1/software/Mageia8/anaconda3/lib/python3.9/site-packages/obspy/io/stationxml/core.py:96: UserWarning: The StationXML file has version 1, ObsPy can read versions (1.0, 1.1). Proceed with caution.\n",
      "  warnings.warn(\"The StationXML file has version %s, ObsPy can \"\n"
     ]
    },
    {
     "name": "stdout",
     "output_type": "stream",
     "text": [
      "earthquake number 806 of 1025 done. It was 20210304_231300.a\n"
     ]
    },
    {
     "name": "stderr",
     "output_type": "stream",
     "text": [
      "/home/earthquakes1/software/Mageia8/anaconda3/lib/python3.9/site-packages/obspy/io/stationxml/core.py:96: UserWarning: The StationXML file has version 1, ObsPy can read versions (1.0, 1.1). Proceed with caution.\n",
      "  warnings.warn(\"The StationXML file has version %s, ObsPy can \"\n"
     ]
    },
    {
     "name": "stdout",
     "output_type": "stream",
     "text": [
      "earthquake number 807 of 1025 done. It was 20210304_231117.a\n"
     ]
    },
    {
     "name": "stderr",
     "output_type": "stream",
     "text": [
      "/home/earthquakes1/software/Mageia8/anaconda3/lib/python3.9/site-packages/obspy/io/stationxml/core.py:96: UserWarning: The StationXML file has version 1, ObsPy can read versions (1.0, 1.1). Proceed with caution.\n",
      "  warnings.warn(\"The StationXML file has version %s, ObsPy can \"\n"
     ]
    },
    {
     "name": "stdout",
     "output_type": "stream",
     "text": [
      "earthquake number 808 of 1025 done. It was 20210304_225538.a\n"
     ]
    },
    {
     "name": "stderr",
     "output_type": "stream",
     "text": [
      "/home/earthquakes1/software/Mageia8/anaconda3/lib/python3.9/site-packages/obspy/io/stationxml/core.py:96: UserWarning: The StationXML file has version 1, ObsPy can read versions (1.0, 1.1). Proceed with caution.\n",
      "  warnings.warn(\"The StationXML file has version %s, ObsPy can \"\n"
     ]
    },
    {
     "name": "stdout",
     "output_type": "stream",
     "text": [
      "earthquake number 809 of 1025 done. It was 20210304_224438.a\n"
     ]
    },
    {
     "name": "stderr",
     "output_type": "stream",
     "text": [
      "/home/earthquakes1/software/Mageia8/anaconda3/lib/python3.9/site-packages/obspy/io/stationxml/core.py:96: UserWarning: The StationXML file has version 1, ObsPy can read versions (1.0, 1.1). Proceed with caution.\n",
      "  warnings.warn(\"The StationXML file has version %s, ObsPy can \"\n"
     ]
    },
    {
     "name": "stdout",
     "output_type": "stream",
     "text": [
      "earthquake number 810 of 1025 done. It was 20210304_224105.a\n"
     ]
    },
    {
     "name": "stderr",
     "output_type": "stream",
     "text": [
      "/home/earthquakes1/software/Mageia8/anaconda3/lib/python3.9/site-packages/obspy/io/stationxml/core.py:96: UserWarning: The StationXML file has version 1, ObsPy can read versions (1.0, 1.1). Proceed with caution.\n",
      "  warnings.warn(\"The StationXML file has version %s, ObsPy can \"\n"
     ]
    },
    {
     "name": "stdout",
     "output_type": "stream",
     "text": [
      "earthquake number 811 of 1025 done. It was 20210304_224029.a\n"
     ]
    },
    {
     "name": "stderr",
     "output_type": "stream",
     "text": [
      "/home/earthquakes1/software/Mageia8/anaconda3/lib/python3.9/site-packages/obspy/io/stationxml/core.py:96: UserWarning: The StationXML file has version 1, ObsPy can read versions (1.0, 1.1). Proceed with caution.\n",
      "  warnings.warn(\"The StationXML file has version %s, ObsPy can \"\n"
     ]
    },
    {
     "name": "stdout",
     "output_type": "stream",
     "text": [
      "earthquake number 812 of 1025 done. It was 20210304_223345.a\n"
     ]
    },
    {
     "name": "stderr",
     "output_type": "stream",
     "text": [
      "/home/earthquakes1/software/Mageia8/anaconda3/lib/python3.9/site-packages/obspy/io/stationxml/core.py:96: UserWarning: The StationXML file has version 1, ObsPy can read versions (1.0, 1.1). Proceed with caution.\n",
      "  warnings.warn(\"The StationXML file has version %s, ObsPy can \"\n"
     ]
    },
    {
     "name": "stdout",
     "output_type": "stream",
     "text": [
      "earthquake number 813 of 1025 done. It was 20210304_223214.a\n"
     ]
    },
    {
     "name": "stderr",
     "output_type": "stream",
     "text": [
      "/home/earthquakes1/software/Mageia8/anaconda3/lib/python3.9/site-packages/obspy/io/stationxml/core.py:96: UserWarning: The StationXML file has version 1, ObsPy can read versions (1.0, 1.1). Proceed with caution.\n",
      "  warnings.warn(\"The StationXML file has version %s, ObsPy can \"\n"
     ]
    },
    {
     "name": "stdout",
     "output_type": "stream",
     "text": [
      "earthquake number 814 of 1025 done. It was 20210304_220556.a\n"
     ]
    },
    {
     "name": "stderr",
     "output_type": "stream",
     "text": [
      "/home/earthquakes1/software/Mageia8/anaconda3/lib/python3.9/site-packages/obspy/io/stationxml/core.py:96: UserWarning: The StationXML file has version 1, ObsPy can read versions (1.0, 1.1). Proceed with caution.\n",
      "  warnings.warn(\"The StationXML file has version %s, ObsPy can \"\n"
     ]
    },
    {
     "name": "stdout",
     "output_type": "stream",
     "text": [
      "earthquake number 815 of 1025 done. It was 20210304_220008.a\n"
     ]
    },
    {
     "name": "stderr",
     "output_type": "stream",
     "text": [
      "/home/earthquakes1/software/Mageia8/anaconda3/lib/python3.9/site-packages/obspy/io/stationxml/core.py:96: UserWarning: The StationXML file has version 1, ObsPy can read versions (1.0, 1.1). Proceed with caution.\n",
      "  warnings.warn(\"The StationXML file has version %s, ObsPy can \"\n"
     ]
    },
    {
     "name": "stdout",
     "output_type": "stream",
     "text": [
      "earthquake number 816 of 1025 done. It was 20210304_214601.a\n"
     ]
    },
    {
     "name": "stderr",
     "output_type": "stream",
     "text": [
      "/home/earthquakes1/software/Mageia8/anaconda3/lib/python3.9/site-packages/obspy/io/stationxml/core.py:96: UserWarning: The StationXML file has version 1, ObsPy can read versions (1.0, 1.1). Proceed with caution.\n",
      "  warnings.warn(\"The StationXML file has version %s, ObsPy can \"\n"
     ]
    },
    {
     "name": "stdout",
     "output_type": "stream",
     "text": [
      "earthquake number 817 of 1025 done. It was 20210304_211402.a\n"
     ]
    },
    {
     "name": "stderr",
     "output_type": "stream",
     "text": [
      "/home/earthquakes1/software/Mageia8/anaconda3/lib/python3.9/site-packages/obspy/io/stationxml/core.py:96: UserWarning: The StationXML file has version 1, ObsPy can read versions (1.0, 1.1). Proceed with caution.\n",
      "  warnings.warn(\"The StationXML file has version %s, ObsPy can \"\n"
     ]
    },
    {
     "name": "stdout",
     "output_type": "stream",
     "text": [
      "earthquake number 818 of 1025 done. It was 20210304_210406.a\n"
     ]
    },
    {
     "name": "stderr",
     "output_type": "stream",
     "text": [
      "/home/earthquakes1/software/Mageia8/anaconda3/lib/python3.9/site-packages/obspy/io/stationxml/core.py:96: UserWarning: The StationXML file has version 1, ObsPy can read versions (1.0, 1.1). Proceed with caution.\n",
      "  warnings.warn(\"The StationXML file has version %s, ObsPy can \"\n",
      "/home/earthquakes1/software/Mageia8/anaconda3/lib/python3.9/site-packages/obspy/io/stationxml/core.py:96: UserWarning: The StationXML file has version 1, ObsPy can read versions (1.0, 1.1). Proceed with caution.\n",
      "  warnings.warn(\"The StationXML file has version %s, ObsPy can \"\n",
      "/home/earthquakes1/software/Mageia8/anaconda3/lib/python3.9/site-packages/obspy/io/stationxml/core.py:96: UserWarning: The StationXML file has version 1, ObsPy can read versions (1.0, 1.1). Proceed with caution.\n",
      "  warnings.warn(\"The StationXML file has version %s, ObsPy can \"\n"
     ]
    },
    {
     "name": "stdout",
     "output_type": "stream",
     "text": [
      "earthquake number 819 of 1025 done. It was 20210304_210400.a\n"
     ]
    },
    {
     "name": "stderr",
     "output_type": "stream",
     "text": [
      "/home/earthquakes1/software/Mageia8/anaconda3/lib/python3.9/site-packages/obspy/io/stationxml/core.py:96: UserWarning: The StationXML file has version 1, ObsPy can read versions (1.0, 1.1). Proceed with caution.\n",
      "  warnings.warn(\"The StationXML file has version %s, ObsPy can \"\n"
     ]
    },
    {
     "name": "stdout",
     "output_type": "stream",
     "text": [
      "earthquake number 820 of 1025 done. It was 20210304_203106.a\n"
     ]
    },
    {
     "name": "stderr",
     "output_type": "stream",
     "text": [
      "/home/earthquakes1/software/Mageia8/anaconda3/lib/python3.9/site-packages/obspy/io/stationxml/core.py:96: UserWarning: The StationXML file has version 1, ObsPy can read versions (1.0, 1.1). Proceed with caution.\n",
      "  warnings.warn(\"The StationXML file has version %s, ObsPy can \"\n"
     ]
    },
    {
     "name": "stdout",
     "output_type": "stream",
     "text": [
      "earthquake number 821 of 1025 done. It was 20210304_202743.a\n"
     ]
    },
    {
     "name": "stderr",
     "output_type": "stream",
     "text": [
      "/home/earthquakes1/software/Mageia8/anaconda3/lib/python3.9/site-packages/obspy/io/stationxml/core.py:96: UserWarning: The StationXML file has version 1, ObsPy can read versions (1.0, 1.1). Proceed with caution.\n",
      "  warnings.warn(\"The StationXML file has version %s, ObsPy can \"\n"
     ]
    },
    {
     "name": "stdout",
     "output_type": "stream",
     "text": [
      "earthquake number 822 of 1025 done. It was 20210304_202506.a\n"
     ]
    },
    {
     "name": "stderr",
     "output_type": "stream",
     "text": [
      "/home/earthquakes1/software/Mageia8/anaconda3/lib/python3.9/site-packages/obspy/io/stationxml/core.py:96: UserWarning: The StationXML file has version 1, ObsPy can read versions (1.0, 1.1). Proceed with caution.\n",
      "  warnings.warn(\"The StationXML file has version %s, ObsPy can \"\n"
     ]
    },
    {
     "name": "stdout",
     "output_type": "stream",
     "text": [
      "earthquake number 823 of 1025 done. It was 20210304_202414.a\n"
     ]
    },
    {
     "name": "stderr",
     "output_type": "stream",
     "text": [
      "/home/earthquakes1/software/Mageia8/anaconda3/lib/python3.9/site-packages/obspy/io/stationxml/core.py:96: UserWarning: The StationXML file has version 1, ObsPy can read versions (1.0, 1.1). Proceed with caution.\n",
      "  warnings.warn(\"The StationXML file has version %s, ObsPy can \"\n"
     ]
    },
    {
     "name": "stdout",
     "output_type": "stream",
     "text": [
      "earthquake number 824 of 1025 done. It was 20210304_202044.a\n"
     ]
    },
    {
     "name": "stderr",
     "output_type": "stream",
     "text": [
      "/home/earthquakes1/software/Mageia8/anaconda3/lib/python3.9/site-packages/obspy/io/stationxml/core.py:96: UserWarning: The StationXML file has version 1, ObsPy can read versions (1.0, 1.1). Proceed with caution.\n",
      "  warnings.warn(\"The StationXML file has version %s, ObsPy can \"\n"
     ]
    },
    {
     "name": "stdout",
     "output_type": "stream",
     "text": [
      "earthquake number 825 of 1025 done. It was 20210304_200453.a\n"
     ]
    },
    {
     "name": "stderr",
     "output_type": "stream",
     "text": [
      "/home/earthquakes1/software/Mageia8/anaconda3/lib/python3.9/site-packages/obspy/io/stationxml/core.py:96: UserWarning: The StationXML file has version 1, ObsPy can read versions (1.0, 1.1). Proceed with caution.\n",
      "  warnings.warn(\"The StationXML file has version %s, ObsPy can \"\n"
     ]
    },
    {
     "name": "stdout",
     "output_type": "stream",
     "text": [
      "earthquake number 826 of 1025 done. It was 20210304_200014.a\n"
     ]
    },
    {
     "name": "stderr",
     "output_type": "stream",
     "text": [
      "/home/earthquakes1/software/Mageia8/anaconda3/lib/python3.9/site-packages/obspy/io/stationxml/core.py:96: UserWarning: The StationXML file has version 1, ObsPy can read versions (1.0, 1.1). Proceed with caution.\n",
      "  warnings.warn(\"The StationXML file has version %s, ObsPy can \"\n"
     ]
    },
    {
     "name": "stdout",
     "output_type": "stream",
     "text": [
      "earthquake number 827 of 1025 done. It was 20210304_195026.a\n"
     ]
    },
    {
     "name": "stderr",
     "output_type": "stream",
     "text": [
      "/home/earthquakes1/software/Mageia8/anaconda3/lib/python3.9/site-packages/obspy/io/stationxml/core.py:96: UserWarning: The StationXML file has version 1, ObsPy can read versions (1.0, 1.1). Proceed with caution.\n",
      "  warnings.warn(\"The StationXML file has version %s, ObsPy can \"\n"
     ]
    },
    {
     "name": "stdout",
     "output_type": "stream",
     "text": [
      "earthquake number 828 of 1025 done. It was 20210304_194616.a\n"
     ]
    },
    {
     "name": "stderr",
     "output_type": "stream",
     "text": [
      "/home/earthquakes1/software/Mageia8/anaconda3/lib/python3.9/site-packages/obspy/io/stationxml/core.py:96: UserWarning: The StationXML file has version 1, ObsPy can read versions (1.0, 1.1). Proceed with caution.\n",
      "  warnings.warn(\"The StationXML file has version %s, ObsPy can \"\n"
     ]
    },
    {
     "name": "stdout",
     "output_type": "stream",
     "text": [
      "earthquake number 829 of 1025 done. It was 20210304_194345.a\n"
     ]
    },
    {
     "name": "stderr",
     "output_type": "stream",
     "text": [
      "/home/earthquakes1/software/Mageia8/anaconda3/lib/python3.9/site-packages/obspy/io/stationxml/core.py:96: UserWarning: The StationXML file has version 1, ObsPy can read versions (1.0, 1.1). Proceed with caution.\n",
      "  warnings.warn(\"The StationXML file has version %s, ObsPy can \"\n"
     ]
    },
    {
     "name": "stdout",
     "output_type": "stream",
     "text": [
      "earthquake number 830 of 1025 done. It was 20210304_194052.a\n"
     ]
    },
    {
     "name": "stderr",
     "output_type": "stream",
     "text": [
      "/home/earthquakes1/software/Mageia8/anaconda3/lib/python3.9/site-packages/obspy/io/stationxml/core.py:96: UserWarning: The StationXML file has version 1, ObsPy can read versions (1.0, 1.1). Proceed with caution.\n",
      "  warnings.warn(\"The StationXML file has version %s, ObsPy can \"\n"
     ]
    },
    {
     "name": "stdout",
     "output_type": "stream",
     "text": [
      "earthquake number 831 of 1025 done. It was 20210304_193817.a\n"
     ]
    },
    {
     "name": "stderr",
     "output_type": "stream",
     "text": [
      "/home/earthquakes1/software/Mageia8/anaconda3/lib/python3.9/site-packages/obspy/io/stationxml/core.py:96: UserWarning: The StationXML file has version 1, ObsPy can read versions (1.0, 1.1). Proceed with caution.\n",
      "  warnings.warn(\"The StationXML file has version %s, ObsPy can \"\n"
     ]
    },
    {
     "name": "stdout",
     "output_type": "stream",
     "text": [
      "earthquake number 832 of 1025 done. It was 20210304_193552.a\n"
     ]
    },
    {
     "name": "stderr",
     "output_type": "stream",
     "text": [
      "/home/earthquakes1/software/Mageia8/anaconda3/lib/python3.9/site-packages/obspy/io/stationxml/core.py:96: UserWarning: The StationXML file has version 1, ObsPy can read versions (1.0, 1.1). Proceed with caution.\n",
      "  warnings.warn(\"The StationXML file has version %s, ObsPy can \"\n",
      "/home/earthquakes1/software/Mageia8/anaconda3/lib/python3.9/site-packages/obspy/io/stationxml/core.py:96: UserWarning: The StationXML file has version 1, ObsPy can read versions (1.0, 1.1). Proceed with caution.\n",
      "  warnings.warn(\"The StationXML file has version %s, ObsPy can \"\n",
      "/home/earthquakes1/software/Mageia8/anaconda3/lib/python3.9/site-packages/obspy/io/stationxml/core.py:96: UserWarning: The StationXML file has version 1, ObsPy can read versions (1.0, 1.1). Proceed with caution.\n",
      "  warnings.warn(\"The StationXML file has version %s, ObsPy can \"\n",
      "/home/earthquakes1/software/Mageia8/anaconda3/lib/python3.9/site-packages/obspy/io/stationxml/core.py:96: UserWarning: The StationXML file has version 1, ObsPy can read versions (1.0, 1.1). Proceed with caution.\n",
      "  warnings.warn(\"The StationXML file has version %s, ObsPy can \"\n",
      "/home/earthquakes1/software/Mageia8/anaconda3/lib/python3.9/site-packages/obspy/io/stationxml/core.py:96: UserWarning: The StationXML file has version 1, ObsPy can read versions (1.0, 1.1). Proceed with caution.\n",
      "  warnings.warn(\"The StationXML file has version %s, ObsPy can \"\n",
      "/home/earthquakes1/software/Mageia8/anaconda3/lib/python3.9/site-packages/obspy/io/stationxml/core.py:96: UserWarning: The StationXML file has version 1, ObsPy can read versions (1.0, 1.1). Proceed with caution.\n",
      "  warnings.warn(\"The StationXML file has version %s, ObsPy can \"\n"
     ]
    },
    {
     "name": "stdout",
     "output_type": "stream",
     "text": [
      "earthquake number 833 of 1025 done. It was 20210304_192557.a\n",
      "earthquake number 834 of 1025 done. It was 20210304_192351.a\n"
     ]
    },
    {
     "name": "stderr",
     "output_type": "stream",
     "text": [
      "/home/earthquakes1/software/Mageia8/anaconda3/lib/python3.9/site-packages/obspy/io/stationxml/core.py:96: UserWarning: The StationXML file has version 1, ObsPy can read versions (1.0, 1.1). Proceed with caution.\n",
      "  warnings.warn(\"The StationXML file has version %s, ObsPy can \"\n"
     ]
    },
    {
     "name": "stdout",
     "output_type": "stream",
     "text": [
      "earthquake number 835 of 1025 done. It was 20210304_191309.a\n"
     ]
    },
    {
     "name": "stderr",
     "output_type": "stream",
     "text": [
      "/home/earthquakes1/software/Mageia8/anaconda3/lib/python3.9/site-packages/obspy/io/stationxml/core.py:96: UserWarning: The StationXML file has version 1, ObsPy can read versions (1.0, 1.1). Proceed with caution.\n",
      "  warnings.warn(\"The StationXML file has version %s, ObsPy can \"\n"
     ]
    },
    {
     "name": "stdout",
     "output_type": "stream",
     "text": [
      "earthquake number 836 of 1025 done. It was 20210304_190634.a\n",
      "earthquake number 837 of 1025 done. It was 20210304_183819.a\n"
     ]
    },
    {
     "name": "stderr",
     "output_type": "stream",
     "text": [
      "/home/earthquakes1/software/Mageia8/anaconda3/lib/python3.9/site-packages/obspy/io/stationxml/core.py:96: UserWarning: The StationXML file has version 1, ObsPy can read versions (1.0, 1.1). Proceed with caution.\n",
      "  warnings.warn(\"The StationXML file has version %s, ObsPy can \"\n"
     ]
    },
    {
     "name": "stdout",
     "output_type": "stream",
     "text": [
      "earthquake number 838 of 1025 done. It was 20210304_180747.a\n"
     ]
    },
    {
     "name": "stderr",
     "output_type": "stream",
     "text": [
      "/home/earthquakes1/software/Mageia8/anaconda3/lib/python3.9/site-packages/obspy/io/stationxml/core.py:96: UserWarning: The StationXML file has version 1, ObsPy can read versions (1.0, 1.1). Proceed with caution.\n",
      "  warnings.warn(\"The StationXML file has version %s, ObsPy can \"\n"
     ]
    },
    {
     "name": "stdout",
     "output_type": "stream",
     "text": [
      "earthquake number 839 of 1025 done. It was 20210304_175910.a\n"
     ]
    },
    {
     "name": "stderr",
     "output_type": "stream",
     "text": [
      "/home/earthquakes1/software/Mageia8/anaconda3/lib/python3.9/site-packages/obspy/io/stationxml/core.py:96: UserWarning: The StationXML file has version 1, ObsPy can read versions (1.0, 1.1). Proceed with caution.\n",
      "  warnings.warn(\"The StationXML file has version %s, ObsPy can \"\n"
     ]
    },
    {
     "name": "stdout",
     "output_type": "stream",
     "text": [
      "earthquake number 840 of 1025 done. It was 20210304_175111.a\n"
     ]
    },
    {
     "name": "stderr",
     "output_type": "stream",
     "text": [
      "/home/earthquakes1/software/Mageia8/anaconda3/lib/python3.9/site-packages/obspy/io/stationxml/core.py:96: UserWarning: The StationXML file has version 1, ObsPy can read versions (1.0, 1.1). Proceed with caution.\n",
      "  warnings.warn(\"The StationXML file has version %s, ObsPy can \"\n"
     ]
    },
    {
     "name": "stdout",
     "output_type": "stream",
     "text": [
      "earthquake number 841 of 1025 done. It was 20210304_174123.a\n",
      "earthquake number 842 of 1025 done. It was 20210304_165311.a\n"
     ]
    },
    {
     "name": "stderr",
     "output_type": "stream",
     "text": [
      "/home/earthquakes1/software/Mageia8/anaconda3/lib/python3.9/site-packages/obspy/io/stationxml/core.py:96: UserWarning: The StationXML file has version 1, ObsPy can read versions (1.0, 1.1). Proceed with caution.\n",
      "  warnings.warn(\"The StationXML file has version %s, ObsPy can \"\n",
      "/home/earthquakes1/software/Mageia8/anaconda3/lib/python3.9/site-packages/obspy/io/stationxml/core.py:96: UserWarning: The StationXML file has version 1, ObsPy can read versions (1.0, 1.1). Proceed with caution.\n",
      "  warnings.warn(\"The StationXML file has version %s, ObsPy can \"\n",
      "/home/earthquakes1/software/Mageia8/anaconda3/lib/python3.9/site-packages/obspy/io/stationxml/core.py:96: UserWarning: The StationXML file has version 1, ObsPy can read versions (1.0, 1.1). Proceed with caution.\n",
      "  warnings.warn(\"The StationXML file has version %s, ObsPy can \"\n"
     ]
    },
    {
     "name": "stdout",
     "output_type": "stream",
     "text": [
      "earthquake number 843 of 1025 done. It was 20210304_152816.a\n"
     ]
    },
    {
     "name": "stderr",
     "output_type": "stream",
     "text": [
      "/home/earthquakes1/software/Mageia8/anaconda3/lib/python3.9/site-packages/obspy/io/stationxml/core.py:96: UserWarning: The StationXML file has version 1, ObsPy can read versions (1.0, 1.1). Proceed with caution.\n",
      "  warnings.warn(\"The StationXML file has version %s, ObsPy can \"\n",
      "/home/earthquakes1/software/Mageia8/anaconda3/lib/python3.9/site-packages/obspy/io/stationxml/core.py:96: UserWarning: The StationXML file has version 1, ObsPy can read versions (1.0, 1.1). Proceed with caution.\n",
      "  warnings.warn(\"The StationXML file has version %s, ObsPy can \"\n",
      "/home/earthquakes1/software/Mageia8/anaconda3/lib/python3.9/site-packages/obspy/io/stationxml/core.py:96: UserWarning: The StationXML file has version 1, ObsPy can read versions (1.0, 1.1). Proceed with caution.\n",
      "  warnings.warn(\"The StationXML file has version %s, ObsPy can \"\n",
      "/home/earthquakes1/software/Mageia8/anaconda3/lib/python3.9/site-packages/obspy/io/stationxml/core.py:96: UserWarning: The StationXML file has version 1, ObsPy can read versions (1.0, 1.1). Proceed with caution.\n",
      "  warnings.warn(\"The StationXML file has version %s, ObsPy can \"\n"
     ]
    },
    {
     "name": "stdout",
     "output_type": "stream",
     "text": [
      "earthquake number 844 of 1025 done. It was 20210304_152022.a\n"
     ]
    },
    {
     "name": "stderr",
     "output_type": "stream",
     "text": [
      "/home/earthquakes1/software/Mageia8/anaconda3/lib/python3.9/site-packages/obspy/io/stationxml/core.py:96: UserWarning: The StationXML file has version 1, ObsPy can read versions (1.0, 1.1). Proceed with caution.\n",
      "  warnings.warn(\"The StationXML file has version %s, ObsPy can \"\n",
      "/home/earthquakes1/software/Mageia8/anaconda3/lib/python3.9/site-packages/obspy/io/stationxml/core.py:96: UserWarning: The StationXML file has version 1, ObsPy can read versions (1.0, 1.1). Proceed with caution.\n",
      "  warnings.warn(\"The StationXML file has version %s, ObsPy can \"\n",
      "/home/earthquakes1/software/Mageia8/anaconda3/lib/python3.9/site-packages/obspy/io/stationxml/core.py:96: UserWarning: The StationXML file has version 1, ObsPy can read versions (1.0, 1.1). Proceed with caution.\n",
      "  warnings.warn(\"The StationXML file has version %s, ObsPy can \"\n",
      "/home/earthquakes1/software/Mageia8/anaconda3/lib/python3.9/site-packages/obspy/io/stationxml/core.py:96: UserWarning: The StationXML file has version 1, ObsPy can read versions (1.0, 1.1). Proceed with caution.\n",
      "  warnings.warn(\"The StationXML file has version %s, ObsPy can \"\n"
     ]
    },
    {
     "name": "stdout",
     "output_type": "stream",
     "text": [
      "earthquake number 845 of 1025 done. It was 20210304_150925.a\n"
     ]
    },
    {
     "name": "stderr",
     "output_type": "stream",
     "text": [
      "/home/earthquakes1/software/Mageia8/anaconda3/lib/python3.9/site-packages/obspy/io/stationxml/core.py:96: UserWarning: The StationXML file has version 1, ObsPy can read versions (1.0, 1.1). Proceed with caution.\n",
      "  warnings.warn(\"The StationXML file has version %s, ObsPy can \"\n",
      "/home/earthquakes1/software/Mageia8/anaconda3/lib/python3.9/site-packages/obspy/io/stationxml/core.py:96: UserWarning: The StationXML file has version 1, ObsPy can read versions (1.0, 1.1). Proceed with caution.\n",
      "  warnings.warn(\"The StationXML file has version %s, ObsPy can \"\n",
      "/home/earthquakes1/software/Mageia8/anaconda3/lib/python3.9/site-packages/obspy/io/stationxml/core.py:96: UserWarning: The StationXML file has version 1, ObsPy can read versions (1.0, 1.1). Proceed with caution.\n",
      "  warnings.warn(\"The StationXML file has version %s, ObsPy can \"\n",
      "/home/earthquakes1/software/Mageia8/anaconda3/lib/python3.9/site-packages/obspy/io/stationxml/core.py:96: UserWarning: The StationXML file has version 1, ObsPy can read versions (1.0, 1.1). Proceed with caution.\n",
      "  warnings.warn(\"The StationXML file has version %s, ObsPy can \"\n",
      "/home/earthquakes1/software/Mageia8/anaconda3/lib/python3.9/site-packages/obspy/io/stationxml/core.py:96: UserWarning: The StationXML file has version 1, ObsPy can read versions (1.0, 1.1). Proceed with caution.\n",
      "  warnings.warn(\"The StationXML file has version %s, ObsPy can \"\n",
      "/home/earthquakes1/software/Mageia8/anaconda3/lib/python3.9/site-packages/obspy/io/stationxml/core.py:96: UserWarning: The StationXML file has version 1, ObsPy can read versions (1.0, 1.1). Proceed with caution.\n",
      "  warnings.warn(\"The StationXML file has version %s, ObsPy can \"\n",
      "/home/earthquakes1/software/Mageia8/anaconda3/lib/python3.9/site-packages/obspy/io/stationxml/core.py:96: UserWarning: The StationXML file has version 1, ObsPy can read versions (1.0, 1.1). Proceed with caution.\n",
      "  warnings.warn(\"The StationXML file has version %s, ObsPy can \"\n"
     ]
    },
    {
     "name": "stdout",
     "output_type": "stream",
     "text": [
      "earthquake number 846 of 1025 done. It was 20210304_144306.a\n"
     ]
    },
    {
     "name": "stderr",
     "output_type": "stream",
     "text": [
      "/home/earthquakes1/software/Mageia8/anaconda3/lib/python3.9/site-packages/obspy/io/stationxml/core.py:96: UserWarning: The StationXML file has version 1, ObsPy can read versions (1.0, 1.1). Proceed with caution.\n",
      "  warnings.warn(\"The StationXML file has version %s, ObsPy can \"\n",
      "/home/earthquakes1/software/Mageia8/anaconda3/lib/python3.9/site-packages/obspy/io/stationxml/core.py:96: UserWarning: The StationXML file has version 1, ObsPy can read versions (1.0, 1.1). Proceed with caution.\n",
      "  warnings.warn(\"The StationXML file has version %s, ObsPy can \"\n"
     ]
    },
    {
     "name": "stdout",
     "output_type": "stream",
     "text": [
      "earthquake number 847 of 1025 done. It was 20210304_143732.a\n"
     ]
    },
    {
     "name": "stderr",
     "output_type": "stream",
     "text": [
      "/home/earthquakes1/software/Mageia8/anaconda3/lib/python3.9/site-packages/obspy/io/stationxml/core.py:96: UserWarning: The StationXML file has version 1, ObsPy can read versions (1.0, 1.1). Proceed with caution.\n",
      "  warnings.warn(\"The StationXML file has version %s, ObsPy can \"\n",
      "/home/earthquakes1/software/Mageia8/anaconda3/lib/python3.9/site-packages/obspy/io/stationxml/core.py:96: UserWarning: The StationXML file has version 1, ObsPy can read versions (1.0, 1.1). Proceed with caution.\n",
      "  warnings.warn(\"The StationXML file has version %s, ObsPy can \"\n"
     ]
    },
    {
     "name": "stdout",
     "output_type": "stream",
     "text": [
      "earthquake number 848 of 1025 done. It was 20210304_135642.a\n"
     ]
    },
    {
     "name": "stderr",
     "output_type": "stream",
     "text": [
      "/home/earthquakes1/software/Mageia8/anaconda3/lib/python3.9/site-packages/obspy/io/stationxml/core.py:96: UserWarning: The StationXML file has version 1, ObsPy can read versions (1.0, 1.1). Proceed with caution.\n",
      "  warnings.warn(\"The StationXML file has version %s, ObsPy can \"\n",
      "/home/earthquakes1/software/Mageia8/anaconda3/lib/python3.9/site-packages/obspy/io/stationxml/core.py:96: UserWarning: The StationXML file has version 1, ObsPy can read versions (1.0, 1.1). Proceed with caution.\n",
      "  warnings.warn(\"The StationXML file has version %s, ObsPy can \"\n",
      "/home/earthquakes1/software/Mageia8/anaconda3/lib/python3.9/site-packages/obspy/io/stationxml/core.py:96: UserWarning: The StationXML file has version 1, ObsPy can read versions (1.0, 1.1). Proceed with caution.\n",
      "  warnings.warn(\"The StationXML file has version %s, ObsPy can \"\n",
      "/home/earthquakes1/software/Mageia8/anaconda3/lib/python3.9/site-packages/obspy/io/stationxml/core.py:96: UserWarning: The StationXML file has version 1, ObsPy can read versions (1.0, 1.1). Proceed with caution.\n",
      "  warnings.warn(\"The StationXML file has version %s, ObsPy can \"\n",
      "/home/earthquakes1/software/Mageia8/anaconda3/lib/python3.9/site-packages/obspy/io/stationxml/core.py:96: UserWarning: The StationXML file has version 1, ObsPy can read versions (1.0, 1.1). Proceed with caution.\n",
      "  warnings.warn(\"The StationXML file has version %s, ObsPy can \"\n",
      "/home/earthquakes1/software/Mageia8/anaconda3/lib/python3.9/site-packages/obspy/io/stationxml/core.py:96: UserWarning: The StationXML file has version 1, ObsPy can read versions (1.0, 1.1). Proceed with caution.\n",
      "  warnings.warn(\"The StationXML file has version %s, ObsPy can \"\n",
      "/home/earthquakes1/software/Mageia8/anaconda3/lib/python3.9/site-packages/obspy/io/stationxml/core.py:96: UserWarning: The StationXML file has version 1, ObsPy can read versions (1.0, 1.1). Proceed with caution.\n",
      "  warnings.warn(\"The StationXML file has version %s, ObsPy can \"\n",
      "/home/earthquakes1/software/Mageia8/anaconda3/lib/python3.9/site-packages/obspy/io/stationxml/core.py:96: UserWarning: The StationXML file has version 1, ObsPy can read versions (1.0, 1.1). Proceed with caution.\n",
      "  warnings.warn(\"The StationXML file has version %s, ObsPy can \"\n"
     ]
    },
    {
     "name": "stdout",
     "output_type": "stream",
     "text": [
      "earthquake number 849 of 1025 done. It was 20210304_132735.a\n",
      "earthquake number 850 of 1025 done. It was 20210303_182410.a\n",
      "earthquake number 851 of 1025 done. It was 20210303_114546.a\n",
      "earthquake number 852 of 1025 done. It was 20210303_103408.a\n",
      "earthquake number 853 of 1025 done. It was 20210303_101609.a\n"
     ]
    },
    {
     "name": "stderr",
     "output_type": "stream",
     "text": [
      "/home/earthquakes1/software/Mageia8/anaconda3/lib/python3.9/site-packages/obspy/io/stationxml/core.py:96: UserWarning: The StationXML file has version 1, ObsPy can read versions (1.0, 1.1). Proceed with caution.\n",
      "  warnings.warn(\"The StationXML file has version %s, ObsPy can \"\n",
      "/home/earthquakes1/software/Mageia8/anaconda3/lib/python3.9/site-packages/obspy/io/stationxml/core.py:96: UserWarning: The StationXML file has version 1, ObsPy can read versions (1.0, 1.1). Proceed with caution.\n",
      "  warnings.warn(\"The StationXML file has version %s, ObsPy can \"\n"
     ]
    },
    {
     "name": "stdout",
     "output_type": "stream",
     "text": [
      "earthquake number 854 of 1025 done. It was 20210430_020617.a\n"
     ]
    },
    {
     "name": "stderr",
     "output_type": "stream",
     "text": [
      "/home/earthquakes1/software/Mageia8/anaconda3/lib/python3.9/site-packages/obspy/io/stationxml/core.py:96: UserWarning: The StationXML file has version 1, ObsPy can read versions (1.0, 1.1). Proceed with caution.\n",
      "  warnings.warn(\"The StationXML file has version %s, ObsPy can \"\n",
      "/home/earthquakes1/software/Mageia8/anaconda3/lib/python3.9/site-packages/obspy/io/stationxml/core.py:96: UserWarning: The StationXML file has version 1, ObsPy can read versions (1.0, 1.1). Proceed with caution.\n",
      "  warnings.warn(\"The StationXML file has version %s, ObsPy can \"\n"
     ]
    },
    {
     "name": "stdout",
     "output_type": "stream",
     "text": [
      "earthquake number 855 of 1025 done. It was 20210429_122527.a\n"
     ]
    },
    {
     "name": "stderr",
     "output_type": "stream",
     "text": [
      "/home/earthquakes1/software/Mageia8/anaconda3/lib/python3.9/site-packages/obspy/io/stationxml/core.py:96: UserWarning: The StationXML file has version 1, ObsPy can read versions (1.0, 1.1). Proceed with caution.\n",
      "  warnings.warn(\"The StationXML file has version %s, ObsPy can \"\n",
      "/home/earthquakes1/software/Mageia8/anaconda3/lib/python3.9/site-packages/obspy/io/stationxml/core.py:96: UserWarning: The StationXML file has version 1, ObsPy can read versions (1.0, 1.1). Proceed with caution.\n",
      "  warnings.warn(\"The StationXML file has version %s, ObsPy can \"\n"
     ]
    },
    {
     "name": "stdout",
     "output_type": "stream",
     "text": [
      "earthquake number 856 of 1025 done. It was 20210429_070917.a\n"
     ]
    },
    {
     "name": "stderr",
     "output_type": "stream",
     "text": [
      "/home/earthquakes1/software/Mageia8/anaconda3/lib/python3.9/site-packages/obspy/io/stationxml/core.py:96: UserWarning: The StationXML file has version 1, ObsPy can read versions (1.0, 1.1). Proceed with caution.\n",
      "  warnings.warn(\"The StationXML file has version %s, ObsPy can \"\n",
      "/home/earthquakes1/software/Mageia8/anaconda3/lib/python3.9/site-packages/obspy/io/stationxml/core.py:96: UserWarning: The StationXML file has version 1, ObsPy can read versions (1.0, 1.1). Proceed with caution.\n",
      "  warnings.warn(\"The StationXML file has version %s, ObsPy can \"\n"
     ]
    },
    {
     "name": "stdout",
     "output_type": "stream",
     "text": [
      "earthquake number 857 of 1025 done. It was 20210429_070638.a\n"
     ]
    },
    {
     "name": "stderr",
     "output_type": "stream",
     "text": [
      "/home/earthquakes1/software/Mageia8/anaconda3/lib/python3.9/site-packages/obspy/io/stationxml/core.py:96: UserWarning: The StationXML file has version 1, ObsPy can read versions (1.0, 1.1). Proceed with caution.\n",
      "  warnings.warn(\"The StationXML file has version %s, ObsPy can \"\n",
      "/home/earthquakes1/software/Mageia8/anaconda3/lib/python3.9/site-packages/obspy/io/stationxml/core.py:96: UserWarning: The StationXML file has version 1, ObsPy can read versions (1.0, 1.1). Proceed with caution.\n",
      "  warnings.warn(\"The StationXML file has version %s, ObsPy can \"\n"
     ]
    },
    {
     "name": "stdout",
     "output_type": "stream",
     "text": [
      "earthquake number 858 of 1025 done. It was 20210429_065352.a\n"
     ]
    },
    {
     "name": "stderr",
     "output_type": "stream",
     "text": [
      "/home/earthquakes1/software/Mageia8/anaconda3/lib/python3.9/site-packages/obspy/io/stationxml/core.py:96: UserWarning: The StationXML file has version 1, ObsPy can read versions (1.0, 1.1). Proceed with caution.\n",
      "  warnings.warn(\"The StationXML file has version %s, ObsPy can \"\n",
      "/home/earthquakes1/software/Mageia8/anaconda3/lib/python3.9/site-packages/obspy/io/stationxml/core.py:96: UserWarning: The StationXML file has version 1, ObsPy can read versions (1.0, 1.1). Proceed with caution.\n",
      "  warnings.warn(\"The StationXML file has version %s, ObsPy can \"\n"
     ]
    },
    {
     "name": "stdout",
     "output_type": "stream",
     "text": [
      "earthquake number 859 of 1025 done. It was 20210429_065026.a\n"
     ]
    },
    {
     "name": "stderr",
     "output_type": "stream",
     "text": [
      "/home/earthquakes1/software/Mageia8/anaconda3/lib/python3.9/site-packages/obspy/io/stationxml/core.py:96: UserWarning: The StationXML file has version 1, ObsPy can read versions (1.0, 1.1). Proceed with caution.\n",
      "  warnings.warn(\"The StationXML file has version %s, ObsPy can \"\n",
      "/home/earthquakes1/software/Mageia8/anaconda3/lib/python3.9/site-packages/obspy/io/stationxml/core.py:96: UserWarning: The StationXML file has version 1, ObsPy can read versions (1.0, 1.1). Proceed with caution.\n",
      "  warnings.warn(\"The StationXML file has version %s, ObsPy can \"\n",
      "/home/earthquakes1/software/Mageia8/anaconda3/lib/python3.9/site-packages/obspy/io/stationxml/core.py:96: UserWarning: The StationXML file has version 1, ObsPy can read versions (1.0, 1.1). Proceed with caution.\n",
      "  warnings.warn(\"The StationXML file has version %s, ObsPy can \"\n",
      "/home/earthquakes1/software/Mageia8/anaconda3/lib/python3.9/site-packages/obspy/io/stationxml/core.py:96: UserWarning: The StationXML file has version 1, ObsPy can read versions (1.0, 1.1). Proceed with caution.\n",
      "  warnings.warn(\"The StationXML file has version %s, ObsPy can \"\n",
      "/home/earthquakes1/software/Mageia8/anaconda3/lib/python3.9/site-packages/obspy/io/stationxml/core.py:96: UserWarning: The StationXML file has version 1, ObsPy can read versions (1.0, 1.1). Proceed with caution.\n",
      "  warnings.warn(\"The StationXML file has version %s, ObsPy can \"\n",
      "/home/earthquakes1/software/Mageia8/anaconda3/lib/python3.9/site-packages/obspy/io/stationxml/core.py:96: UserWarning: The StationXML file has version 1, ObsPy can read versions (1.0, 1.1). Proceed with caution.\n",
      "  warnings.warn(\"The StationXML file has version %s, ObsPy can \"\n",
      "/home/earthquakes1/software/Mageia8/anaconda3/lib/python3.9/site-packages/obspy/io/stationxml/core.py:96: UserWarning: The StationXML file has version 1, ObsPy can read versions (1.0, 1.1). Proceed with caution.\n",
      "  warnings.warn(\"The StationXML file has version %s, ObsPy can \"\n"
     ]
    },
    {
     "name": "stdout",
     "output_type": "stream",
     "text": [
      "earthquake number 860 of 1025 done. It was 20210429_035848.a\n"
     ]
    },
    {
     "name": "stderr",
     "output_type": "stream",
     "text": [
      "/home/earthquakes1/software/Mageia8/anaconda3/lib/python3.9/site-packages/obspy/io/stationxml/core.py:96: UserWarning: The StationXML file has version 1, ObsPy can read versions (1.0, 1.1). Proceed with caution.\n",
      "  warnings.warn(\"The StationXML file has version %s, ObsPy can \"\n",
      "/home/earthquakes1/software/Mageia8/anaconda3/lib/python3.9/site-packages/obspy/io/stationxml/core.py:96: UserWarning: The StationXML file has version 1, ObsPy can read versions (1.0, 1.1). Proceed with caution.\n",
      "  warnings.warn(\"The StationXML file has version %s, ObsPy can \"\n"
     ]
    },
    {
     "name": "stdout",
     "output_type": "stream",
     "text": [
      "earthquake number 861 of 1025 done. It was 20210428_042432.a\n"
     ]
    },
    {
     "name": "stderr",
     "output_type": "stream",
     "text": [
      "/home/earthquakes1/software/Mageia8/anaconda3/lib/python3.9/site-packages/obspy/io/stationxml/core.py:96: UserWarning: The StationXML file has version 1, ObsPy can read versions (1.0, 1.1). Proceed with caution.\n",
      "  warnings.warn(\"The StationXML file has version %s, ObsPy can \"\n",
      "/home/earthquakes1/software/Mageia8/anaconda3/lib/python3.9/site-packages/obspy/io/stationxml/core.py:96: UserWarning: The StationXML file has version 1, ObsPy can read versions (1.0, 1.1). Proceed with caution.\n",
      "  warnings.warn(\"The StationXML file has version %s, ObsPy can \"\n"
     ]
    },
    {
     "name": "stdout",
     "output_type": "stream",
     "text": [
      "earthquake number 862 of 1025 done. It was 20210428_025726.a\n"
     ]
    },
    {
     "name": "stderr",
     "output_type": "stream",
     "text": [
      "/home/earthquakes1/software/Mageia8/anaconda3/lib/python3.9/site-packages/obspy/io/stationxml/core.py:96: UserWarning: The StationXML file has version 1, ObsPy can read versions (1.0, 1.1). Proceed with caution.\n",
      "  warnings.warn(\"The StationXML file has version %s, ObsPy can \"\n",
      "/home/earthquakes1/software/Mageia8/anaconda3/lib/python3.9/site-packages/obspy/io/stationxml/core.py:96: UserWarning: The StationXML file has version 1, ObsPy can read versions (1.0, 1.1). Proceed with caution.\n",
      "  warnings.warn(\"The StationXML file has version %s, ObsPy can \"\n"
     ]
    },
    {
     "name": "stdout",
     "output_type": "stream",
     "text": [
      "earthquake number 863 of 1025 done. It was 20210427_175306.a\n"
     ]
    },
    {
     "name": "stderr",
     "output_type": "stream",
     "text": [
      "/home/earthquakes1/software/Mageia8/anaconda3/lib/python3.9/site-packages/obspy/io/stationxml/core.py:96: UserWarning: The StationXML file has version 1, ObsPy can read versions (1.0, 1.1). Proceed with caution.\n",
      "  warnings.warn(\"The StationXML file has version %s, ObsPy can \"\n",
      "/home/earthquakes1/software/Mageia8/anaconda3/lib/python3.9/site-packages/obspy/io/stationxml/core.py:96: UserWarning: The StationXML file has version 1, ObsPy can read versions (1.0, 1.1). Proceed with caution.\n",
      "  warnings.warn(\"The StationXML file has version %s, ObsPy can \"\n"
     ]
    },
    {
     "name": "stdout",
     "output_type": "stream",
     "text": [
      "earthquake number 864 of 1025 done. It was 20210427_164310.a\n"
     ]
    },
    {
     "name": "stderr",
     "output_type": "stream",
     "text": [
      "/home/earthquakes1/software/Mageia8/anaconda3/lib/python3.9/site-packages/obspy/io/stationxml/core.py:96: UserWarning: The StationXML file has version 1, ObsPy can read versions (1.0, 1.1). Proceed with caution.\n",
      "  warnings.warn(\"The StationXML file has version %s, ObsPy can \"\n",
      "/home/earthquakes1/software/Mageia8/anaconda3/lib/python3.9/site-packages/obspy/io/stationxml/core.py:96: UserWarning: The StationXML file has version 1, ObsPy can read versions (1.0, 1.1). Proceed with caution.\n",
      "  warnings.warn(\"The StationXML file has version %s, ObsPy can \"\n"
     ]
    },
    {
     "name": "stdout",
     "output_type": "stream",
     "text": [
      "earthquake number 865 of 1025 done. It was 20210427_163334.a\n"
     ]
    },
    {
     "name": "stderr",
     "output_type": "stream",
     "text": [
      "/home/earthquakes1/software/Mageia8/anaconda3/lib/python3.9/site-packages/obspy/io/stationxml/core.py:96: UserWarning: The StationXML file has version 1, ObsPy can read versions (1.0, 1.1). Proceed with caution.\n",
      "  warnings.warn(\"The StationXML file has version %s, ObsPy can \"\n",
      "/home/earthquakes1/software/Mageia8/anaconda3/lib/python3.9/site-packages/obspy/io/stationxml/core.py:96: UserWarning: The StationXML file has version 1, ObsPy can read versions (1.0, 1.1). Proceed with caution.\n",
      "  warnings.warn(\"The StationXML file has version %s, ObsPy can \"\n"
     ]
    },
    {
     "name": "stdout",
     "output_type": "stream",
     "text": [
      "earthquake number 866 of 1025 done. It was 20210427_004456.a\n"
     ]
    },
    {
     "name": "stderr",
     "output_type": "stream",
     "text": [
      "/home/earthquakes1/software/Mageia8/anaconda3/lib/python3.9/site-packages/obspy/io/stationxml/core.py:96: UserWarning: The StationXML file has version 1, ObsPy can read versions (1.0, 1.1). Proceed with caution.\n",
      "  warnings.warn(\"The StationXML file has version %s, ObsPy can \"\n",
      "/home/earthquakes1/software/Mageia8/anaconda3/lib/python3.9/site-packages/obspy/io/stationxml/core.py:96: UserWarning: The StationXML file has version 1, ObsPy can read versions (1.0, 1.1). Proceed with caution.\n",
      "  warnings.warn(\"The StationXML file has version %s, ObsPy can \"\n"
     ]
    },
    {
     "name": "stdout",
     "output_type": "stream",
     "text": [
      "earthquake number 867 of 1025 done. It was 20210426_211210.a\n"
     ]
    },
    {
     "name": "stderr",
     "output_type": "stream",
     "text": [
      "/home/earthquakes1/software/Mageia8/anaconda3/lib/python3.9/site-packages/obspy/io/stationxml/core.py:96: UserWarning: The StationXML file has version 1, ObsPy can read versions (1.0, 1.1). Proceed with caution.\n",
      "  warnings.warn(\"The StationXML file has version %s, ObsPy can \"\n",
      "/home/earthquakes1/software/Mageia8/anaconda3/lib/python3.9/site-packages/obspy/io/stationxml/core.py:96: UserWarning: The StationXML file has version 1, ObsPy can read versions (1.0, 1.1). Proceed with caution.\n",
      "  warnings.warn(\"The StationXML file has version %s, ObsPy can \"\n"
     ]
    },
    {
     "name": "stdout",
     "output_type": "stream",
     "text": [
      "earthquake number 868 of 1025 done. It was 20210426_210727.a\n"
     ]
    },
    {
     "name": "stderr",
     "output_type": "stream",
     "text": [
      "/home/earthquakes1/software/Mageia8/anaconda3/lib/python3.9/site-packages/obspy/io/stationxml/core.py:96: UserWarning: The StationXML file has version 1, ObsPy can read versions (1.0, 1.1). Proceed with caution.\n",
      "  warnings.warn(\"The StationXML file has version %s, ObsPy can \"\n",
      "/home/earthquakes1/software/Mageia8/anaconda3/lib/python3.9/site-packages/obspy/io/stationxml/core.py:96: UserWarning: The StationXML file has version 1, ObsPy can read versions (1.0, 1.1). Proceed with caution.\n",
      "  warnings.warn(\"The StationXML file has version %s, ObsPy can \"\n"
     ]
    },
    {
     "name": "stdout",
     "output_type": "stream",
     "text": [
      "earthquake number 869 of 1025 done. It was 20210426_134221.a\n"
     ]
    },
    {
     "name": "stderr",
     "output_type": "stream",
     "text": [
      "/home/earthquakes1/software/Mageia8/anaconda3/lib/python3.9/site-packages/obspy/io/stationxml/core.py:96: UserWarning: The StationXML file has version 1, ObsPy can read versions (1.0, 1.1). Proceed with caution.\n",
      "  warnings.warn(\"The StationXML file has version %s, ObsPy can \"\n",
      "/home/earthquakes1/software/Mageia8/anaconda3/lib/python3.9/site-packages/obspy/io/stationxml/core.py:96: UserWarning: The StationXML file has version 1, ObsPy can read versions (1.0, 1.1). Proceed with caution.\n",
      "  warnings.warn(\"The StationXML file has version %s, ObsPy can \"\n"
     ]
    },
    {
     "name": "stdout",
     "output_type": "stream",
     "text": [
      "earthquake number 870 of 1025 done. It was 20210424_022550.a\n",
      "earthquake number 871 of 1025 done. It was 20210422_001715.a\n",
      "earthquake number 872 of 1025 done. It was 20210419_130526.a\n",
      "earthquake number 873 of 1025 done. It was 20210419_111328.a\n",
      "earthquake number 874 of 1025 done. It was 20210419_041126.a\n",
      "earthquake number 875 of 1025 done. It was 20210419_031857.a\n"
     ]
    },
    {
     "name": "stderr",
     "output_type": "stream",
     "text": [
      "/home/earthquakes1/software/Mageia8/anaconda3/lib/python3.9/site-packages/obspy/io/stationxml/core.py:96: UserWarning: The StationXML file has version 1, ObsPy can read versions (1.0, 1.1). Proceed with caution.\n",
      "  warnings.warn(\"The StationXML file has version %s, ObsPy can \"\n",
      "/home/earthquakes1/software/Mageia8/anaconda3/lib/python3.9/site-packages/obspy/io/stationxml/core.py:96: UserWarning: The StationXML file has version 1, ObsPy can read versions (1.0, 1.1). Proceed with caution.\n",
      "  warnings.warn(\"The StationXML file has version %s, ObsPy can \"\n"
     ]
    },
    {
     "name": "stdout",
     "output_type": "stream",
     "text": [
      "earthquake number 876 of 1025 done. It was 20210418_170339.a\n"
     ]
    },
    {
     "name": "stderr",
     "output_type": "stream",
     "text": [
      " WARNING (norm_resp): computed and reported sensitivities differ by more than 5 percent. \n",
      "\t Execution continuing.\n",
      " WARNING (norm_resp): computed and reported sensitivities differ by more than 5 percent. \n",
      "\t Execution continuing.\n",
      " WARNING (norm_resp): computed and reported sensitivities differ by more than 5 percent. \n",
      "\t Execution continuing.\n",
      " WARNING (norm_resp): computed and reported sensitivities differ by more than 5 percent. \n",
      "\t Execution continuing.\n",
      " WARNING (norm_resp): computed and reported sensitivities differ by more than 5 percent. \n",
      "\t Execution continuing.\n",
      " WARNING (norm_resp): computed and reported sensitivities differ by more than 5 percent. \n",
      "\t Execution continuing.\n",
      " WARNING (norm_resp): computed and reported sensitivities differ by more than 5 percent. \n",
      "\t Execution continuing.\n"
     ]
    },
    {
     "name": "stdout",
     "output_type": "stream",
     "text": [
      "earthquake number 877 of 1025 done. It was 20210417_170800.a\n"
     ]
    },
    {
     "name": "stderr",
     "output_type": "stream",
     "text": [
      "/home/earthquakes1/software/Mageia8/anaconda3/lib/python3.9/site-packages/obspy/io/stationxml/core.py:96: UserWarning: The StationXML file has version 1, ObsPy can read versions (1.0, 1.1). Proceed with caution.\n",
      "  warnings.warn(\"The StationXML file has version %s, ObsPy can \"\n",
      "/home/earthquakes1/software/Mageia8/anaconda3/lib/python3.9/site-packages/obspy/io/stationxml/core.py:96: UserWarning: The StationXML file has version 1, ObsPy can read versions (1.0, 1.1). Proceed with caution.\n",
      "  warnings.warn(\"The StationXML file has version %s, ObsPy can \"\n"
     ]
    },
    {
     "name": "stdout",
     "output_type": "stream",
     "text": [
      "earthquake number 878 of 1025 done. It was 20210416_221310.a\n"
     ]
    },
    {
     "name": "stderr",
     "output_type": "stream",
     "text": [
      "/home/earthquakes1/software/Mageia8/anaconda3/lib/python3.9/site-packages/obspy/io/stationxml/core.py:96: UserWarning: The StationXML file has version 1, ObsPy can read versions (1.0, 1.1). Proceed with caution.\n",
      "  warnings.warn(\"The StationXML file has version %s, ObsPy can \"\n",
      "/home/earthquakes1/software/Mageia8/anaconda3/lib/python3.9/site-packages/obspy/io/stationxml/core.py:96: UserWarning: The StationXML file has version 1, ObsPy can read versions (1.0, 1.1). Proceed with caution.\n",
      "  warnings.warn(\"The StationXML file has version %s, ObsPy can \"\n"
     ]
    },
    {
     "name": "stdout",
     "output_type": "stream",
     "text": [
      "earthquake number 879 of 1025 done. It was 20210416_200019.a\n"
     ]
    },
    {
     "name": "stderr",
     "output_type": "stream",
     "text": [
      " WARNING (norm_resp): computed and reported sensitivities differ by more than 5 percent. \n",
      "\t Execution continuing.\n",
      " WARNING (norm_resp): computed and reported sensitivities differ by more than 5 percent. \n",
      "\t Execution continuing.\n",
      " WARNING (norm_resp): computed and reported sensitivities differ by more than 5 percent. \n",
      "\t Execution continuing.\n",
      " WARNING (norm_resp): computed and reported sensitivities differ by more than 5 percent. \n",
      "\t Execution continuing.\n",
      " WARNING (norm_resp): computed and reported sensitivities differ by more than 5 percent. \n",
      "\t Execution continuing.\n",
      " WARNING (norm_resp): computed and reported sensitivities differ by more than 5 percent. \n",
      "\t Execution continuing.\n"
     ]
    },
    {
     "name": "stdout",
     "output_type": "stream",
     "text": [
      "earthquake number 880 of 1025 done. It was 20210413_202802.a\n"
     ]
    },
    {
     "name": "stderr",
     "output_type": "stream",
     "text": [
      "/home/earthquakes1/software/Mageia8/anaconda3/lib/python3.9/site-packages/obspy/io/stationxml/core.py:96: UserWarning: The StationXML file has version 1, ObsPy can read versions (1.0, 1.1). Proceed with caution.\n",
      "  warnings.warn(\"The StationXML file has version %s, ObsPy can \"\n",
      "/home/earthquakes1/software/Mageia8/anaconda3/lib/python3.9/site-packages/obspy/io/stationxml/core.py:96: UserWarning: The StationXML file has version 1, ObsPy can read versions (1.0, 1.1). Proceed with caution.\n",
      "  warnings.warn(\"The StationXML file has version %s, ObsPy can \"\n"
     ]
    },
    {
     "name": "stdout",
     "output_type": "stream",
     "text": [
      "earthquake number 881 of 1025 done. It was 20210412_052613.a\n"
     ]
    },
    {
     "name": "stderr",
     "output_type": "stream",
     "text": [
      "/home/earthquakes1/software/Mageia8/anaconda3/lib/python3.9/site-packages/obspy/io/stationxml/core.py:96: UserWarning: The StationXML file has version 1, ObsPy can read versions (1.0, 1.1). Proceed with caution.\n",
      "  warnings.warn(\"The StationXML file has version %s, ObsPy can \"\n",
      "/home/earthquakes1/software/Mageia8/anaconda3/lib/python3.9/site-packages/obspy/io/stationxml/core.py:96: UserWarning: The StationXML file has version 1, ObsPy can read versions (1.0, 1.1). Proceed with caution.\n",
      "  warnings.warn(\"The StationXML file has version %s, ObsPy can \"\n"
     ]
    },
    {
     "name": "stdout",
     "output_type": "stream",
     "text": [
      "earthquake number 882 of 1025 done. It was 20210411_144008.a\n"
     ]
    },
    {
     "name": "stderr",
     "output_type": "stream",
     "text": [
      "/home/earthquakes1/software/Mageia8/anaconda3/lib/python3.9/site-packages/obspy/io/stationxml/core.py:96: UserWarning: The StationXML file has version 1, ObsPy can read versions (1.0, 1.1). Proceed with caution.\n",
      "  warnings.warn(\"The StationXML file has version %s, ObsPy can \"\n",
      "/home/earthquakes1/software/Mageia8/anaconda3/lib/python3.9/site-packages/obspy/io/stationxml/core.py:96: UserWarning: The StationXML file has version 1, ObsPy can read versions (1.0, 1.1). Proceed with caution.\n",
      "  warnings.warn(\"The StationXML file has version %s, ObsPy can \"\n"
     ]
    },
    {
     "name": "stdout",
     "output_type": "stream",
     "text": [
      "earthquake number 883 of 1025 done. It was 20210408_010039.a\n"
     ]
    },
    {
     "name": "stderr",
     "output_type": "stream",
     "text": [
      "/home/earthquakes1/software/Mageia8/anaconda3/lib/python3.9/site-packages/obspy/io/stationxml/core.py:96: UserWarning: The StationXML file has version 1, ObsPy can read versions (1.0, 1.1). Proceed with caution.\n",
      "  warnings.warn(\"The StationXML file has version %s, ObsPy can \"\n",
      "/home/earthquakes1/software/Mageia8/anaconda3/lib/python3.9/site-packages/obspy/io/stationxml/core.py:96: UserWarning: The StationXML file has version 1, ObsPy can read versions (1.0, 1.1). Proceed with caution.\n",
      "  warnings.warn(\"The StationXML file has version %s, ObsPy can \"\n"
     ]
    },
    {
     "name": "stdout",
     "output_type": "stream",
     "text": [
      "earthquake number 884 of 1025 done. It was 20210407_194301.a\n"
     ]
    },
    {
     "name": "stderr",
     "output_type": "stream",
     "text": [
      "/home/earthquakes1/software/Mageia8/anaconda3/lib/python3.9/site-packages/obspy/io/stationxml/core.py:96: UserWarning: The StationXML file has version 1, ObsPy can read versions (1.0, 1.1). Proceed with caution.\n",
      "  warnings.warn(\"The StationXML file has version %s, ObsPy can \"\n",
      "/home/earthquakes1/software/Mageia8/anaconda3/lib/python3.9/site-packages/obspy/io/stationxml/core.py:96: UserWarning: The StationXML file has version 1, ObsPy can read versions (1.0, 1.1). Proceed with caution.\n",
      "  warnings.warn(\"The StationXML file has version %s, ObsPy can \"\n"
     ]
    },
    {
     "name": "stdout",
     "output_type": "stream",
     "text": [
      "earthquake number 885 of 1025 done. It was 20210407_184801.a\n"
     ]
    },
    {
     "name": "stderr",
     "output_type": "stream",
     "text": [
      "/home/earthquakes1/software/Mageia8/anaconda3/lib/python3.9/site-packages/obspy/io/stationxml/core.py:96: UserWarning: The StationXML file has version 1, ObsPy can read versions (1.0, 1.1). Proceed with caution.\n",
      "  warnings.warn(\"The StationXML file has version %s, ObsPy can \"\n",
      "/home/earthquakes1/software/Mageia8/anaconda3/lib/python3.9/site-packages/obspy/io/stationxml/core.py:96: UserWarning: The StationXML file has version 1, ObsPy can read versions (1.0, 1.1). Proceed with caution.\n",
      "  warnings.warn(\"The StationXML file has version %s, ObsPy can \"\n"
     ]
    },
    {
     "name": "stdout",
     "output_type": "stream",
     "text": [
      "earthquake number 886 of 1025 done. It was 20210407_133457.a\n"
     ]
    },
    {
     "name": "stderr",
     "output_type": "stream",
     "text": [
      "/home/earthquakes1/software/Mageia8/anaconda3/lib/python3.9/site-packages/obspy/io/stationxml/core.py:96: UserWarning: The StationXML file has version 1, ObsPy can read versions (1.0, 1.1). Proceed with caution.\n",
      "  warnings.warn(\"The StationXML file has version %s, ObsPy can \"\n",
      "/home/earthquakes1/software/Mageia8/anaconda3/lib/python3.9/site-packages/obspy/io/stationxml/core.py:96: UserWarning: The StationXML file has version 1, ObsPy can read versions (1.0, 1.1). Proceed with caution.\n",
      "  warnings.warn(\"The StationXML file has version %s, ObsPy can \"\n"
     ]
    },
    {
     "name": "stdout",
     "output_type": "stream",
     "text": [
      "earthquake number 887 of 1025 done. It was 20210407_104205.a\n"
     ]
    },
    {
     "name": "stderr",
     "output_type": "stream",
     "text": [
      "/home/earthquakes1/software/Mageia8/anaconda3/lib/python3.9/site-packages/obspy/io/stationxml/core.py:96: UserWarning: The StationXML file has version 1, ObsPy can read versions (1.0, 1.1). Proceed with caution.\n",
      "  warnings.warn(\"The StationXML file has version %s, ObsPy can \"\n",
      "/home/earthquakes1/software/Mageia8/anaconda3/lib/python3.9/site-packages/obspy/io/stationxml/core.py:96: UserWarning: The StationXML file has version 1, ObsPy can read versions (1.0, 1.1). Proceed with caution.\n",
      "  warnings.warn(\"The StationXML file has version %s, ObsPy can \"\n"
     ]
    },
    {
     "name": "stdout",
     "output_type": "stream",
     "text": [
      "earthquake number 888 of 1025 done. It was 20210407_102651.a\n"
     ]
    },
    {
     "name": "stderr",
     "output_type": "stream",
     "text": [
      "/home/earthquakes1/software/Mageia8/anaconda3/lib/python3.9/site-packages/obspy/io/stationxml/core.py:96: UserWarning: The StationXML file has version 1, ObsPy can read versions (1.0, 1.1). Proceed with caution.\n",
      "  warnings.warn(\"The StationXML file has version %s, ObsPy can \"\n",
      "/home/earthquakes1/software/Mageia8/anaconda3/lib/python3.9/site-packages/obspy/io/stationxml/core.py:96: UserWarning: The StationXML file has version 1, ObsPy can read versions (1.0, 1.1). Proceed with caution.\n",
      "  warnings.warn(\"The StationXML file has version %s, ObsPy can \"\n"
     ]
    },
    {
     "name": "stdout",
     "output_type": "stream",
     "text": [
      "earthquake number 889 of 1025 done. It was 20210407_095329.a\n"
     ]
    },
    {
     "name": "stderr",
     "output_type": "stream",
     "text": [
      "/home/earthquakes1/software/Mageia8/anaconda3/lib/python3.9/site-packages/obspy/io/stationxml/core.py:96: UserWarning: The StationXML file has version 1, ObsPy can read versions (1.0, 1.1). Proceed with caution.\n",
      "  warnings.warn(\"The StationXML file has version %s, ObsPy can \"\n",
      "/home/earthquakes1/software/Mageia8/anaconda3/lib/python3.9/site-packages/obspy/io/stationxml/core.py:96: UserWarning: The StationXML file has version 1, ObsPy can read versions (1.0, 1.1). Proceed with caution.\n",
      "  warnings.warn(\"The StationXML file has version %s, ObsPy can \"\n"
     ]
    },
    {
     "name": "stdout",
     "output_type": "stream",
     "text": [
      "earthquake number 890 of 1025 done. It was 20210406_100746.a\n"
     ]
    },
    {
     "name": "stderr",
     "output_type": "stream",
     "text": [
      "/home/earthquakes1/software/Mageia8/anaconda3/lib/python3.9/site-packages/obspy/io/stationxml/core.py:96: UserWarning: The StationXML file has version 1, ObsPy can read versions (1.0, 1.1). Proceed with caution.\n",
      "  warnings.warn(\"The StationXML file has version %s, ObsPy can \"\n",
      "/home/earthquakes1/software/Mageia8/anaconda3/lib/python3.9/site-packages/obspy/io/stationxml/core.py:96: UserWarning: The StationXML file has version 1, ObsPy can read versions (1.0, 1.1). Proceed with caution.\n",
      "  warnings.warn(\"The StationXML file has version %s, ObsPy can \"\n"
     ]
    },
    {
     "name": "stdout",
     "output_type": "stream",
     "text": [
      "earthquake number 891 of 1025 done. It was 20210406_081616.a\n"
     ]
    },
    {
     "name": "stderr",
     "output_type": "stream",
     "text": [
      "/home/earthquakes1/software/Mageia8/anaconda3/lib/python3.9/site-packages/obspy/io/stationxml/core.py:96: UserWarning: The StationXML file has version 1, ObsPy can read versions (1.0, 1.1). Proceed with caution.\n",
      "  warnings.warn(\"The StationXML file has version %s, ObsPy can \"\n",
      "/home/earthquakes1/software/Mageia8/anaconda3/lib/python3.9/site-packages/obspy/io/stationxml/core.py:96: UserWarning: The StationXML file has version 1, ObsPy can read versions (1.0, 1.1). Proceed with caution.\n",
      "  warnings.warn(\"The StationXML file has version %s, ObsPy can \"\n"
     ]
    },
    {
     "name": "stdout",
     "output_type": "stream",
     "text": [
      "earthquake number 892 of 1025 done. It was 20210406_073722.a\n"
     ]
    },
    {
     "name": "stderr",
     "output_type": "stream",
     "text": [
      "/home/earthquakes1/software/Mageia8/anaconda3/lib/python3.9/site-packages/obspy/io/stationxml/core.py:96: UserWarning: The StationXML file has version 1, ObsPy can read versions (1.0, 1.1). Proceed with caution.\n",
      "  warnings.warn(\"The StationXML file has version %s, ObsPy can \"\n",
      "/home/earthquakes1/software/Mageia8/anaconda3/lib/python3.9/site-packages/obspy/io/stationxml/core.py:96: UserWarning: The StationXML file has version 1, ObsPy can read versions (1.0, 1.1). Proceed with caution.\n",
      "  warnings.warn(\"The StationXML file has version %s, ObsPy can \"\n"
     ]
    },
    {
     "name": "stdout",
     "output_type": "stream",
     "text": [
      "earthquake number 893 of 1025 done. It was 20210405_193522.a\n"
     ]
    },
    {
     "name": "stderr",
     "output_type": "stream",
     "text": [
      "/home/earthquakes1/software/Mageia8/anaconda3/lib/python3.9/site-packages/obspy/io/stationxml/core.py:96: UserWarning: The StationXML file has version 1, ObsPy can read versions (1.0, 1.1). Proceed with caution.\n",
      "  warnings.warn(\"The StationXML file has version %s, ObsPy can \"\n",
      "/home/earthquakes1/software/Mageia8/anaconda3/lib/python3.9/site-packages/obspy/io/stationxml/core.py:96: UserWarning: The StationXML file has version 1, ObsPy can read versions (1.0, 1.1). Proceed with caution.\n",
      "  warnings.warn(\"The StationXML file has version %s, ObsPy can \"\n"
     ]
    },
    {
     "name": "stdout",
     "output_type": "stream",
     "text": [
      "earthquake number 894 of 1025 done. It was 20210405_184125.a\n"
     ]
    },
    {
     "name": "stderr",
     "output_type": "stream",
     "text": [
      "/home/earthquakes1/software/Mageia8/anaconda3/lib/python3.9/site-packages/obspy/io/stationxml/core.py:96: UserWarning: The StationXML file has version 1, ObsPy can read versions (1.0, 1.1). Proceed with caution.\n",
      "  warnings.warn(\"The StationXML file has version %s, ObsPy can \"\n",
      "/home/earthquakes1/software/Mageia8/anaconda3/lib/python3.9/site-packages/obspy/io/stationxml/core.py:96: UserWarning: The StationXML file has version 1, ObsPy can read versions (1.0, 1.1). Proceed with caution.\n",
      "  warnings.warn(\"The StationXML file has version %s, ObsPy can \"\n",
      "/home/earthquakes1/software/Mageia8/anaconda3/lib/python3.9/site-packages/obspy/io/stationxml/core.py:96: UserWarning: The StationXML file has version 1, ObsPy can read versions (1.0, 1.1). Proceed with caution.\n",
      "  warnings.warn(\"The StationXML file has version %s, ObsPy can \"\n",
      "/home/earthquakes1/software/Mageia8/anaconda3/lib/python3.9/site-packages/obspy/io/stationxml/core.py:96: UserWarning: The StationXML file has version 1, ObsPy can read versions (1.0, 1.1). Proceed with caution.\n",
      "  warnings.warn(\"The StationXML file has version %s, ObsPy can \"\n",
      "/home/earthquakes1/software/Mageia8/anaconda3/lib/python3.9/site-packages/obspy/io/stationxml/core.py:96: UserWarning: The StationXML file has version 1, ObsPy can read versions (1.0, 1.1). Proceed with caution.\n",
      "  warnings.warn(\"The StationXML file has version %s, ObsPy can \"\n"
     ]
    },
    {
     "name": "stdout",
     "output_type": "stream",
     "text": [
      "earthquake number 895 of 1025 done. It was 20210405_073750.a\n"
     ]
    },
    {
     "name": "stderr",
     "output_type": "stream",
     "text": [
      "/home/earthquakes1/software/Mageia8/anaconda3/lib/python3.9/site-packages/obspy/io/stationxml/core.py:96: UserWarning: The StationXML file has version 1, ObsPy can read versions (1.0, 1.1). Proceed with caution.\n",
      "  warnings.warn(\"The StationXML file has version %s, ObsPy can \"\n",
      "/home/earthquakes1/software/Mageia8/anaconda3/lib/python3.9/site-packages/obspy/io/stationxml/core.py:96: UserWarning: The StationXML file has version 1, ObsPy can read versions (1.0, 1.1). Proceed with caution.\n",
      "  warnings.warn(\"The StationXML file has version %s, ObsPy can \"\n"
     ]
    },
    {
     "name": "stdout",
     "output_type": "stream",
     "text": [
      "earthquake number 896 of 1025 done. It was 20210404_172550.a\n"
     ]
    },
    {
     "name": "stderr",
     "output_type": "stream",
     "text": [
      "/home/earthquakes1/software/Mageia8/anaconda3/lib/python3.9/site-packages/obspy/io/stationxml/core.py:96: UserWarning: The StationXML file has version 1, ObsPy can read versions (1.0, 1.1). Proceed with caution.\n",
      "  warnings.warn(\"The StationXML file has version %s, ObsPy can \"\n",
      "/home/earthquakes1/software/Mageia8/anaconda3/lib/python3.9/site-packages/obspy/io/stationxml/core.py:96: UserWarning: The StationXML file has version 1, ObsPy can read versions (1.0, 1.1). Proceed with caution.\n",
      "  warnings.warn(\"The StationXML file has version %s, ObsPy can \"\n"
     ]
    },
    {
     "name": "stdout",
     "output_type": "stream",
     "text": [
      "earthquake number 897 of 1025 done. It was 20210401_221011.a\n"
     ]
    },
    {
     "name": "stderr",
     "output_type": "stream",
     "text": [
      "/home/earthquakes1/software/Mageia8/anaconda3/lib/python3.9/site-packages/obspy/io/stationxml/core.py:96: UserWarning: The StationXML file has version 1, ObsPy can read versions (1.0, 1.1). Proceed with caution.\n",
      "  warnings.warn(\"The StationXML file has version %s, ObsPy can \"\n",
      "/home/earthquakes1/software/Mageia8/anaconda3/lib/python3.9/site-packages/obspy/io/stationxml/core.py:96: UserWarning: The StationXML file has version 1, ObsPy can read versions (1.0, 1.1). Proceed with caution.\n",
      "  warnings.warn(\"The StationXML file has version %s, ObsPy can \"\n"
     ]
    },
    {
     "name": "stdout",
     "output_type": "stream",
     "text": [
      "earthquake number 898 of 1025 done. It was 20210401_095637.a\n"
     ]
    },
    {
     "name": "stderr",
     "output_type": "stream",
     "text": [
      "/home/earthquakes1/software/Mageia8/anaconda3/lib/python3.9/site-packages/obspy/io/stationxml/core.py:96: UserWarning: The StationXML file has version 1, ObsPy can read versions (1.0, 1.1). Proceed with caution.\n",
      "  warnings.warn(\"The StationXML file has version %s, ObsPy can \"\n",
      "/home/earthquakes1/software/Mageia8/anaconda3/lib/python3.9/site-packages/obspy/io/stationxml/core.py:96: UserWarning: The StationXML file has version 1, ObsPy can read versions (1.0, 1.1). Proceed with caution.\n",
      "  warnings.warn(\"The StationXML file has version %s, ObsPy can \"\n",
      "/home/earthquakes1/software/Mageia8/anaconda3/lib/python3.9/site-packages/obspy/io/stationxml/core.py:96: UserWarning: The StationXML file has version 1, ObsPy can read versions (1.0, 1.1). Proceed with caution.\n",
      "  warnings.warn(\"The StationXML file has version %s, ObsPy can \"\n",
      "/home/earthquakes1/software/Mageia8/anaconda3/lib/python3.9/site-packages/obspy/io/stationxml/core.py:96: UserWarning: The StationXML file has version 1, ObsPy can read versions (1.0, 1.1). Proceed with caution.\n",
      "  warnings.warn(\"The StationXML file has version %s, ObsPy can \"\n",
      "/home/earthquakes1/software/Mageia8/anaconda3/lib/python3.9/site-packages/obspy/io/stationxml/core.py:96: UserWarning: The StationXML file has version 1, ObsPy can read versions (1.0, 1.1). Proceed with caution.\n",
      "  warnings.warn(\"The StationXML file has version %s, ObsPy can \"\n",
      "/home/earthquakes1/software/Mageia8/anaconda3/lib/python3.9/site-packages/obspy/io/stationxml/core.py:96: UserWarning: The StationXML file has version 1, ObsPy can read versions (1.0, 1.1). Proceed with caution.\n",
      "  warnings.warn(\"The StationXML file has version %s, ObsPy can \"\n",
      "/home/earthquakes1/software/Mageia8/anaconda3/lib/python3.9/site-packages/obspy/io/stationxml/core.py:96: UserWarning: The StationXML file has version 1, ObsPy can read versions (1.0, 1.1). Proceed with caution.\n",
      "  warnings.warn(\"The StationXML file has version %s, ObsPy can \"\n",
      "/home/earthquakes1/software/Mageia8/anaconda3/lib/python3.9/site-packages/obspy/io/stationxml/core.py:96: UserWarning: The StationXML file has version 1, ObsPy can read versions (1.0, 1.1). Proceed with caution.\n",
      "  warnings.warn(\"The StationXML file has version %s, ObsPy can \"\n",
      "/home/earthquakes1/software/Mageia8/anaconda3/lib/python3.9/site-packages/obspy/io/stationxml/core.py:96: UserWarning: The StationXML file has version 1, ObsPy can read versions (1.0, 1.1). Proceed with caution.\n",
      "  warnings.warn(\"The StationXML file has version %s, ObsPy can \"\n"
     ]
    },
    {
     "name": "stdout",
     "output_type": "stream",
     "text": [
      "earthquake number 899 of 1025 done. It was 20210531_040859.a\n",
      "earthquake number 900 of 1025 done. It was 20210523_223752.a\n",
      "earthquake number 901 of 1025 done. It was 20210521_221951.a\n"
     ]
    },
    {
     "name": "stderr",
     "output_type": "stream",
     "text": [
      "/home/earthquakes1/software/Mageia8/anaconda3/lib/python3.9/site-packages/obspy/io/stationxml/core.py:96: UserWarning: The StationXML file has version 1, ObsPy can read versions (1.0, 1.1). Proceed with caution.\n",
      "  warnings.warn(\"The StationXML file has version %s, ObsPy can \"\n",
      "/home/earthquakes1/software/Mageia8/anaconda3/lib/python3.9/site-packages/obspy/io/stationxml/core.py:96: UserWarning: The StationXML file has version 1, ObsPy can read versions (1.0, 1.1). Proceed with caution.\n",
      "  warnings.warn(\"The StationXML file has version %s, ObsPy can \"\n"
     ]
    },
    {
     "name": "stdout",
     "output_type": "stream",
     "text": [
      "earthquake number 902 of 1025 done. It was 20210521_103711.a\n",
      "earthquake number 903 of 1025 done. It was 20210520_182754.a\n",
      "earthquake number 904 of 1025 done. It was 20210519_120455.a\n"
     ]
    },
    {
     "name": "stderr",
     "output_type": "stream",
     "text": [
      "/home/earthquakes1/software/Mageia8/anaconda3/lib/python3.9/site-packages/obspy/io/stationxml/core.py:96: UserWarning: The StationXML file has version 1, ObsPy can read versions (1.0, 1.1). Proceed with caution.\n",
      "  warnings.warn(\"The StationXML file has version %s, ObsPy can \"\n",
      "/home/earthquakes1/software/Mageia8/anaconda3/lib/python3.9/site-packages/obspy/io/stationxml/core.py:96: UserWarning: The StationXML file has version 1, ObsPy can read versions (1.0, 1.1). Proceed with caution.\n",
      "  warnings.warn(\"The StationXML file has version %s, ObsPy can \"\n"
     ]
    },
    {
     "name": "stdout",
     "output_type": "stream",
     "text": [
      "earthquake number 905 of 1025 done. It was 20210519_015349.a\n",
      "earthquake number 906 of 1025 done. It was 20210512_075323.a\n"
     ]
    },
    {
     "name": "stderr",
     "output_type": "stream",
     "text": [
      "/home/earthquakes1/software/Mageia8/anaconda3/lib/python3.9/site-packages/obspy/io/stationxml/core.py:96: UserWarning: The StationXML file has version 1, ObsPy can read versions (1.0, 1.1). Proceed with caution.\n",
      "  warnings.warn(\"The StationXML file has version %s, ObsPy can \"\n",
      "/home/earthquakes1/software/Mageia8/anaconda3/lib/python3.9/site-packages/obspy/io/stationxml/core.py:96: UserWarning: The StationXML file has version 1, ObsPy can read versions (1.0, 1.1). Proceed with caution.\n",
      "  warnings.warn(\"The StationXML file has version %s, ObsPy can \"\n"
     ]
    },
    {
     "name": "stdout",
     "output_type": "stream",
     "text": [
      "earthquake number 907 of 1025 done. It was 20210510_141020.a\n",
      "earthquake number 908 of 1025 done. It was 20210506_122037.a\n",
      "earthquake number 909 of 1025 done. It was 20210505_153546.a\n",
      "earthquake number 910 of 1025 done. It was 20210501_115026.a\n",
      "earthquake number 911 of 1025 done. It was 20210629_031413.a\n"
     ]
    },
    {
     "name": "stderr",
     "output_type": "stream",
     "text": [
      "/home/earthquakes1/software/Mageia8/anaconda3/lib/python3.9/site-packages/obspy/io/stationxml/core.py:96: UserWarning: The StationXML file has version 1, ObsPy can read versions (1.0, 1.1). Proceed with caution.\n",
      "  warnings.warn(\"The StationXML file has version %s, ObsPy can \"\n",
      "/home/earthquakes1/software/Mageia8/anaconda3/lib/python3.9/site-packages/obspy/io/stationxml/core.py:96: UserWarning: The StationXML file has version 1, ObsPy can read versions (1.0, 1.1). Proceed with caution.\n",
      "  warnings.warn(\"The StationXML file has version %s, ObsPy can \"\n"
     ]
    },
    {
     "name": "stdout",
     "output_type": "stream",
     "text": [
      "earthquake number 912 of 1025 done. It was 20210626_234851.a\n"
     ]
    },
    {
     "name": "stderr",
     "output_type": "stream",
     "text": [
      "/home/earthquakes1/software/Mageia8/anaconda3/lib/python3.9/site-packages/obspy/io/stationxml/core.py:96: UserWarning: The StationXML file has version 1, ObsPy can read versions (1.0, 1.1). Proceed with caution.\n",
      "  warnings.warn(\"The StationXML file has version %s, ObsPy can \"\n",
      "/home/earthquakes1/software/Mageia8/anaconda3/lib/python3.9/site-packages/obspy/io/stationxml/core.py:96: UserWarning: The StationXML file has version 1, ObsPy can read versions (1.0, 1.1). Proceed with caution.\n",
      "  warnings.warn(\"The StationXML file has version %s, ObsPy can \"\n"
     ]
    },
    {
     "name": "stdout",
     "output_type": "stream",
     "text": [
      "earthquake number 913 of 1025 done. It was 20210626_225237.a\n"
     ]
    },
    {
     "name": "stderr",
     "output_type": "stream",
     "text": [
      "/home/earthquakes1/software/Mageia8/anaconda3/lib/python3.9/site-packages/obspy/io/stationxml/core.py:96: UserWarning: The StationXML file has version 1, ObsPy can read versions (1.0, 1.1). Proceed with caution.\n",
      "  warnings.warn(\"The StationXML file has version %s, ObsPy can \"\n",
      "/home/earthquakes1/software/Mageia8/anaconda3/lib/python3.9/site-packages/obspy/io/stationxml/core.py:96: UserWarning: The StationXML file has version 1, ObsPy can read versions (1.0, 1.1). Proceed with caution.\n",
      "  warnings.warn(\"The StationXML file has version %s, ObsPy can \"\n"
     ]
    },
    {
     "name": "stdout",
     "output_type": "stream",
     "text": [
      "earthquake number 914 of 1025 done. It was 20210626_043756.a\n"
     ]
    },
    {
     "name": "stderr",
     "output_type": "stream",
     "text": [
      "/home/earthquakes1/software/Mageia8/anaconda3/lib/python3.9/site-packages/obspy/io/stationxml/core.py:96: UserWarning: The StationXML file has version 1, ObsPy can read versions (1.0, 1.1). Proceed with caution.\n",
      "  warnings.warn(\"The StationXML file has version %s, ObsPy can \"\n",
      "/home/earthquakes1/software/Mageia8/anaconda3/lib/python3.9/site-packages/obspy/io/stationxml/core.py:96: UserWarning: The StationXML file has version 1, ObsPy can read versions (1.0, 1.1). Proceed with caution.\n",
      "  warnings.warn(\"The StationXML file has version %s, ObsPy can \"\n"
     ]
    },
    {
     "name": "stdout",
     "output_type": "stream",
     "text": [
      "earthquake number 915 of 1025 done. It was 20210626_030448.a\n",
      "earthquake number 916 of 1025 done. It was 20210622_191626.a\n"
     ]
    },
    {
     "name": "stderr",
     "output_type": "stream",
     "text": [
      " WARNING (norm_resp): computed and reported sensitivities differ by more than 5 percent. \n",
      "\t Execution continuing.\n",
      " WARNING (norm_resp): computed and reported sensitivities differ by more than 5 percent. \n",
      "\t Execution continuing.\n",
      " WARNING (norm_resp): computed and reported sensitivities differ by more than 5 percent. \n",
      "\t Execution continuing.\n",
      " WARNING (norm_resp): computed and reported sensitivities differ by more than 5 percent. \n",
      "\t Execution continuing.\n",
      " WARNING (norm_resp): computed and reported sensitivities differ by more than 5 percent. \n",
      "\t Execution continuing.\n",
      " WARNING (norm_resp): computed and reported sensitivities differ by more than 5 percent. \n",
      "\t Execution continuing.\n"
     ]
    },
    {
     "name": "stdout",
     "output_type": "stream",
     "text": [
      "earthquake number 917 of 1025 done. It was 20210621_221413.a\n"
     ]
    },
    {
     "name": "stderr",
     "output_type": "stream",
     "text": [
      "/home/earthquakes1/software/Mageia8/anaconda3/lib/python3.9/site-packages/obspy/io/stationxml/core.py:96: UserWarning: The StationXML file has version 1, ObsPy can read versions (1.0, 1.1). Proceed with caution.\n",
      "  warnings.warn(\"The StationXML file has version %s, ObsPy can \"\n",
      "/home/earthquakes1/software/Mageia8/anaconda3/lib/python3.9/site-packages/obspy/io/stationxml/core.py:96: UserWarning: The StationXML file has version 1, ObsPy can read versions (1.0, 1.1). Proceed with caution.\n",
      "  warnings.warn(\"The StationXML file has version %s, ObsPy can \"\n"
     ]
    },
    {
     "name": "stdout",
     "output_type": "stream",
     "text": [
      "earthquake number 918 of 1025 done. It was 20210621_111412.a\n"
     ]
    },
    {
     "name": "stderr",
     "output_type": "stream",
     "text": [
      "/home/earthquakes1/software/Mageia8/anaconda3/lib/python3.9/site-packages/obspy/io/stationxml/core.py:96: UserWarning: The StationXML file has version 1, ObsPy can read versions (1.0, 1.1). Proceed with caution.\n",
      "  warnings.warn(\"The StationXML file has version %s, ObsPy can \"\n",
      "/home/earthquakes1/software/Mageia8/anaconda3/lib/python3.9/site-packages/obspy/io/stationxml/core.py:96: UserWarning: The StationXML file has version 1, ObsPy can read versions (1.0, 1.1). Proceed with caution.\n",
      "  warnings.warn(\"The StationXML file has version %s, ObsPy can \"\n"
     ]
    },
    {
     "name": "stdout",
     "output_type": "stream",
     "text": [
      "earthquake number 919 of 1025 done. It was 20210620_172435.a\n"
     ]
    },
    {
     "name": "stderr",
     "output_type": "stream",
     "text": [
      "/home/earthquakes1/software/Mageia8/anaconda3/lib/python3.9/site-packages/obspy/io/stationxml/core.py:96: UserWarning: The StationXML file has version 1, ObsPy can read versions (1.0, 1.1). Proceed with caution.\n",
      "  warnings.warn(\"The StationXML file has version %s, ObsPy can \"\n",
      "/home/earthquakes1/software/Mageia8/anaconda3/lib/python3.9/site-packages/obspy/io/stationxml/core.py:96: UserWarning: The StationXML file has version 1, ObsPy can read versions (1.0, 1.1). Proceed with caution.\n",
      "  warnings.warn(\"The StationXML file has version %s, ObsPy can \"\n"
     ]
    },
    {
     "name": "stdout",
     "output_type": "stream",
     "text": [
      "earthquake number 920 of 1025 done. It was 20210620_170550.a\n",
      "earthquake number 921 of 1025 done. It was 20210612_033625.a\n",
      "earthquake number 922 of 1025 done. It was 20210610_232702.a\n",
      "earthquake number 923 of 1025 done. It was 20210606_182430.a\n"
     ]
    },
    {
     "name": "stderr",
     "output_type": "stream",
     "text": [
      " WARNING (norm_resp): computed and reported sensitivities differ by more than 5 percent. \n",
      "\t Execution continuing.\n",
      " WARNING (norm_resp): computed and reported sensitivities differ by more than 5 percent. \n",
      "\t Execution continuing.\n",
      " WARNING (norm_resp): computed and reported sensitivities differ by more than 5 percent. \n",
      "\t Execution continuing.\n"
     ]
    },
    {
     "name": "stdout",
     "output_type": "stream",
     "text": [
      "earthquake number 924 of 1025 done. It was 20210605_175558.a\n",
      "earthquake number 925 of 1025 done. It was 20210604_081700.a\n",
      "earthquake number 926 of 1025 done. It was 20210604_075243.a\n",
      "earthquake number 927 of 1025 done. It was 20210731_121425.a\n"
     ]
    },
    {
     "name": "stderr",
     "output_type": "stream",
     "text": [
      "/home/earthquakes1/software/Mageia8/anaconda3/lib/python3.9/site-packages/obspy/io/stationxml/core.py:96: UserWarning: The StationXML file has version 1, ObsPy can read versions (1.0, 1.1). Proceed with caution.\n",
      "  warnings.warn(\"The StationXML file has version %s, ObsPy can \"\n",
      "/home/earthquakes1/software/Mageia8/anaconda3/lib/python3.9/site-packages/obspy/io/stationxml/core.py:96: UserWarning: The StationXML file has version 1, ObsPy can read versions (1.0, 1.1). Proceed with caution.\n",
      "  warnings.warn(\"The StationXML file has version %s, ObsPy can \"\n"
     ]
    },
    {
     "name": "stdout",
     "output_type": "stream",
     "text": [
      "earthquake number 928 of 1025 done. It was 20210725_160950.a\n"
     ]
    },
    {
     "name": "stderr",
     "output_type": "stream",
     "text": [
      "/home/earthquakes1/software/Mageia8/anaconda3/lib/python3.9/site-packages/obspy/io/stationxml/core.py:96: UserWarning: The StationXML file has version 1, ObsPy can read versions (1.0, 1.1). Proceed with caution.\n",
      "  warnings.warn(\"The StationXML file has version %s, ObsPy can \"\n",
      "/home/earthquakes1/software/Mageia8/anaconda3/lib/python3.9/site-packages/obspy/io/stationxml/core.py:96: UserWarning: The StationXML file has version 1, ObsPy can read versions (1.0, 1.1). Proceed with caution.\n",
      "  warnings.warn(\"The StationXML file has version %s, ObsPy can \"\n"
     ]
    },
    {
     "name": "stdout",
     "output_type": "stream",
     "text": [
      "earthquake number 929 of 1025 done. It was 20210725_160736.a\n"
     ]
    },
    {
     "name": "stderr",
     "output_type": "stream",
     "text": [
      "/home/earthquakes1/software/Mageia8/anaconda3/lib/python3.9/site-packages/obspy/io/stationxml/core.py:96: UserWarning: The StationXML file has version 1, ObsPy can read versions (1.0, 1.1). Proceed with caution.\n",
      "  warnings.warn(\"The StationXML file has version %s, ObsPy can \"\n",
      "/home/earthquakes1/software/Mageia8/anaconda3/lib/python3.9/site-packages/obspy/io/stationxml/core.py:96: UserWarning: The StationXML file has version 1, ObsPy can read versions (1.0, 1.1). Proceed with caution.\n",
      "  warnings.warn(\"The StationXML file has version %s, ObsPy can \"\n"
     ]
    },
    {
     "name": "stdout",
     "output_type": "stream",
     "text": [
      "earthquake number 930 of 1025 done. It was 20210725_101700.a\n"
     ]
    },
    {
     "name": "stderr",
     "output_type": "stream",
     "text": [
      "/home/earthquakes1/software/Mageia8/anaconda3/lib/python3.9/site-packages/obspy/io/stationxml/core.py:96: UserWarning: The StationXML file has version 1, ObsPy can read versions (1.0, 1.1). Proceed with caution.\n",
      "  warnings.warn(\"The StationXML file has version %s, ObsPy can \"\n",
      "/home/earthquakes1/software/Mageia8/anaconda3/lib/python3.9/site-packages/obspy/io/stationxml/core.py:96: UserWarning: The StationXML file has version 1, ObsPy can read versions (1.0, 1.1). Proceed with caution.\n",
      "  warnings.warn(\"The StationXML file has version %s, ObsPy can \"\n"
     ]
    },
    {
     "name": "stdout",
     "output_type": "stream",
     "text": [
      "earthquake number 931 of 1025 done. It was 20210725_071342.a\n"
     ]
    },
    {
     "name": "stderr",
     "output_type": "stream",
     "text": [
      "/home/earthquakes1/software/Mageia8/anaconda3/lib/python3.9/site-packages/obspy/io/stationxml/core.py:96: UserWarning: The StationXML file has version 1, ObsPy can read versions (1.0, 1.1). Proceed with caution.\n",
      "  warnings.warn(\"The StationXML file has version %s, ObsPy can \"\n",
      "/home/earthquakes1/software/Mageia8/anaconda3/lib/python3.9/site-packages/obspy/io/stationxml/core.py:96: UserWarning: The StationXML file has version 1, ObsPy can read versions (1.0, 1.1). Proceed with caution.\n",
      "  warnings.warn(\"The StationXML file has version %s, ObsPy can \"\n"
     ]
    },
    {
     "name": "stdout",
     "output_type": "stream",
     "text": [
      "earthquake number 932 of 1025 done. It was 20210724_125128.a\n",
      "earthquake number 933 of 1025 done. It was 20210723_040539.a\n",
      "earthquake number 934 of 1025 done. It was 20210722_022458.a\n",
      "earthquake number 935 of 1025 done. It was 20210722_012826.a\n",
      "earthquake number 936 of 1025 done. It was 20210718_064612.a\n"
     ]
    },
    {
     "name": "stderr",
     "output_type": "stream",
     "text": [
      "/home/earthquakes1/software/Mageia8/anaconda3/lib/python3.9/site-packages/obspy/io/stationxml/core.py:96: UserWarning: The StationXML file has version 1, ObsPy can read versions (1.0, 1.1). Proceed with caution.\n",
      "  warnings.warn(\"The StationXML file has version %s, ObsPy can \"\n",
      "/home/earthquakes1/software/Mageia8/anaconda3/lib/python3.9/site-packages/obspy/io/stationxml/core.py:96: UserWarning: The StationXML file has version 1, ObsPy can read versions (1.0, 1.1). Proceed with caution.\n",
      "  warnings.warn(\"The StationXML file has version %s, ObsPy can \"\n"
     ]
    },
    {
     "name": "stdout",
     "output_type": "stream",
     "text": [
      "earthquake number 937 of 1025 done. It was 20210716_155635.a\n",
      "earthquake number 938 of 1025 done. It was 20210712_232635.a\n",
      "earthquake number 939 of 1025 done. It was 20210710_021443.a\n",
      "earthquake number 940 of 1025 done. It was 20210709_050530.a\n",
      "earthquake number 941 of 1025 done. It was 20210708_225014.a\n",
      "earthquake number 942 of 1025 done. It was 20210708_224948.a\n",
      "earthquake number 943 of 1025 done. It was 20210708_103038.a\n"
     ]
    },
    {
     "name": "stderr",
     "output_type": "stream",
     "text": [
      "/home/earthquakes1/software/Mageia8/anaconda3/lib/python3.9/site-packages/obspy/io/stationxml/core.py:96: UserWarning: The StationXML file has version 1, ObsPy can read versions (1.0, 1.1). Proceed with caution.\n",
      "  warnings.warn(\"The StationXML file has version %s, ObsPy can \"\n",
      "/home/earthquakes1/software/Mageia8/anaconda3/lib/python3.9/site-packages/obspy/io/stationxml/core.py:96: UserWarning: The StationXML file has version 1, ObsPy can read versions (1.0, 1.1). Proceed with caution.\n",
      "  warnings.warn(\"The StationXML file has version %s, ObsPy can \"\n",
      "/home/earthquakes1/software/Mageia8/anaconda3/lib/python3.9/site-packages/obspy/io/stationxml/core.py:96: UserWarning: The StationXML file has version 1, ObsPy can read versions (1.0, 1.1). Proceed with caution.\n",
      "  warnings.warn(\"The StationXML file has version %s, ObsPy can \"\n",
      "/home/earthquakes1/software/Mageia8/anaconda3/lib/python3.9/site-packages/obspy/io/stationxml/core.py:96: UserWarning: The StationXML file has version 1, ObsPy can read versions (1.0, 1.1). Proceed with caution.\n",
      "  warnings.warn(\"The StationXML file has version %s, ObsPy can \"\n",
      "/home/earthquakes1/software/Mageia8/anaconda3/lib/python3.9/site-packages/obspy/io/stationxml/core.py:96: UserWarning: The StationXML file has version 1, ObsPy can read versions (1.0, 1.1). Proceed with caution.\n",
      "  warnings.warn(\"The StationXML file has version %s, ObsPy can \"\n",
      "/home/earthquakes1/software/Mageia8/anaconda3/lib/python3.9/site-packages/obspy/io/stationxml/core.py:96: UserWarning: The StationXML file has version 1, ObsPy can read versions (1.0, 1.1). Proceed with caution.\n",
      "  warnings.warn(\"The StationXML file has version %s, ObsPy can \"\n",
      "/home/earthquakes1/software/Mageia8/anaconda3/lib/python3.9/site-packages/obspy/io/stationxml/core.py:96: UserWarning: The StationXML file has version 1, ObsPy can read versions (1.0, 1.1). Proceed with caution.\n",
      "  warnings.warn(\"The StationXML file has version %s, ObsPy can \"\n",
      "/home/earthquakes1/software/Mageia8/anaconda3/lib/python3.9/site-packages/obspy/io/stationxml/core.py:96: UserWarning: The StationXML file has version 1, ObsPy can read versions (1.0, 1.1). Proceed with caution.\n",
      "  warnings.warn(\"The StationXML file has version %s, ObsPy can \"\n",
      "/home/earthquakes1/software/Mageia8/anaconda3/lib/python3.9/site-packages/obspy/io/stationxml/core.py:96: UserWarning: The StationXML file has version 1, ObsPy can read versions (1.0, 1.1). Proceed with caution.\n",
      "  warnings.warn(\"The StationXML file has version %s, ObsPy can \"\n",
      "/home/earthquakes1/software/Mageia8/anaconda3/lib/python3.9/site-packages/obspy/io/stationxml/core.py:96: UserWarning: The StationXML file has version 1, ObsPy can read versions (1.0, 1.1). Proceed with caution.\n",
      "  warnings.warn(\"The StationXML file has version %s, ObsPy can \"\n",
      "/home/earthquakes1/software/Mageia8/anaconda3/lib/python3.9/site-packages/obspy/io/stationxml/core.py:96: UserWarning: The StationXML file has version 1, ObsPy can read versions (1.0, 1.1). Proceed with caution.\n",
      "  warnings.warn(\"The StationXML file has version %s, ObsPy can \"\n",
      "/home/earthquakes1/software/Mageia8/anaconda3/lib/python3.9/site-packages/obspy/io/stationxml/core.py:96: UserWarning: The StationXML file has version 1, ObsPy can read versions (1.0, 1.1). Proceed with caution.\n",
      "  warnings.warn(\"The StationXML file has version %s, ObsPy can \"\n",
      "/home/earthquakes1/software/Mageia8/anaconda3/lib/python3.9/site-packages/obspy/io/stationxml/core.py:96: UserWarning: The StationXML file has version 1, ObsPy can read versions (1.0, 1.1). Proceed with caution.\n",
      "  warnings.warn(\"The StationXML file has version %s, ObsPy can \"\n",
      "/home/earthquakes1/software/Mageia8/anaconda3/lib/python3.9/site-packages/obspy/io/stationxml/core.py:96: UserWarning: The StationXML file has version 1, ObsPy can read versions (1.0, 1.1). Proceed with caution.\n",
      "  warnings.warn(\"The StationXML file has version %s, ObsPy can \"\n",
      "/home/earthquakes1/software/Mageia8/anaconda3/lib/python3.9/site-packages/obspy/io/stationxml/core.py:96: UserWarning: The StationXML file has version 1, ObsPy can read versions (1.0, 1.1). Proceed with caution.\n",
      "  warnings.warn(\"The StationXML file has version %s, ObsPy can \"\n",
      "/home/earthquakes1/software/Mageia8/anaconda3/lib/python3.9/site-packages/obspy/io/stationxml/core.py:96: UserWarning: The StationXML file has version 1, ObsPy can read versions (1.0, 1.1). Proceed with caution.\n",
      "  warnings.warn(\"The StationXML file has version %s, ObsPy can \"\n",
      "/home/earthquakes1/software/Mageia8/anaconda3/lib/python3.9/site-packages/obspy/io/stationxml/core.py:96: UserWarning: The StationXML file has version 1, ObsPy can read versions (1.0, 1.1). Proceed with caution.\n",
      "  warnings.warn(\"The StationXML file has version %s, ObsPy can \"\n",
      "/home/earthquakes1/software/Mageia8/anaconda3/lib/python3.9/site-packages/obspy/io/stationxml/core.py:96: UserWarning: The StationXML file has version 1, ObsPy can read versions (1.0, 1.1). Proceed with caution.\n",
      "  warnings.warn(\"The StationXML file has version %s, ObsPy can \"\n",
      "/home/earthquakes1/software/Mageia8/anaconda3/lib/python3.9/site-packages/obspy/io/stationxml/core.py:96: UserWarning: The StationXML file has version 1, ObsPy can read versions (1.0, 1.1). Proceed with caution.\n",
      "  warnings.warn(\"The StationXML file has version %s, ObsPy can \"\n",
      "/home/earthquakes1/software/Mageia8/anaconda3/lib/python3.9/site-packages/obspy/io/stationxml/core.py:96: UserWarning: The StationXML file has version 1, ObsPy can read versions (1.0, 1.1). Proceed with caution.\n",
      "  warnings.warn(\"The StationXML file has version %s, ObsPy can \"\n",
      "/home/earthquakes1/software/Mageia8/anaconda3/lib/python3.9/site-packages/obspy/io/stationxml/core.py:96: UserWarning: The StationXML file has version 1, ObsPy can read versions (1.0, 1.1). Proceed with caution.\n",
      "  warnings.warn(\"The StationXML file has version %s, ObsPy can \"\n",
      "/home/earthquakes1/software/Mageia8/anaconda3/lib/python3.9/site-packages/obspy/io/stationxml/core.py:96: UserWarning: The StationXML file has version 1, ObsPy can read versions (1.0, 1.1). Proceed with caution.\n",
      "  warnings.warn(\"The StationXML file has version %s, ObsPy can \"\n",
      "/home/earthquakes1/software/Mageia8/anaconda3/lib/python3.9/site-packages/obspy/io/stationxml/core.py:96: UserWarning: The StationXML file has version 1, ObsPy can read versions (1.0, 1.1). Proceed with caution.\n",
      "  warnings.warn(\"The StationXML file has version %s, ObsPy can \"\n",
      "/home/earthquakes1/software/Mageia8/anaconda3/lib/python3.9/site-packages/obspy/io/stationxml/core.py:96: UserWarning: The StationXML file has version 1, ObsPy can read versions (1.0, 1.1). Proceed with caution.\n",
      "  warnings.warn(\"The StationXML file has version %s, ObsPy can \"\n",
      "/home/earthquakes1/software/Mageia8/anaconda3/lib/python3.9/site-packages/obspy/io/stationxml/core.py:96: UserWarning: The StationXML file has version 1, ObsPy can read versions (1.0, 1.1). Proceed with caution.\n",
      "  warnings.warn(\"The StationXML file has version %s, ObsPy can \"\n"
     ]
    },
    {
     "name": "stdout",
     "output_type": "stream",
     "text": [
      "earthquake number 944 of 1025 done. It was 20210702_091431.a\n",
      "earthquake number 945 of 1025 done. It was 20210831_132658.a\n"
     ]
    },
    {
     "name": "stderr",
     "output_type": "stream",
     "text": [
      " WARNING (norm_resp): computed and reported sensitivities differ by more than 5 percent. \n",
      "\t Execution continuing.\n",
      " WARNING (norm_resp): computed and reported sensitivities differ by more than 5 percent. \n",
      "\t Execution continuing.\n",
      " WARNING (norm_resp): computed and reported sensitivities differ by more than 5 percent. \n",
      "\t Execution continuing.\n",
      " WARNING (norm_resp): computed and reported sensitivities differ by more than 5 percent. \n",
      "\t Execution continuing.\n",
      " WARNING (norm_resp): computed and reported sensitivities differ by more than 5 percent. \n",
      "\t Execution continuing.\n",
      " WARNING (norm_resp): computed and reported sensitivities differ by more than 5 percent. \n",
      "\t Execution continuing.\n",
      " WARNING (norm_resp): computed and reported sensitivities differ by more than 5 percent. \n",
      "\t Execution continuing.\n",
      " WARNING (norm_resp): computed and reported sensitivities differ by more than 5 percent. \n",
      "\t Execution continuing.\n",
      " WARNING (norm_resp): computed and reported sensitivities differ by more than 5 percent. \n",
      "\t Execution continuing.\n",
      " WARNING (norm_resp): computed and reported sensitivities differ by more than 5 percent. \n",
      "\t Execution continuing.\n",
      " WARNING (norm_resp): computed and reported sensitivities differ by more than 5 percent. \n",
      "\t Execution continuing.\n",
      " WARNING (norm_resp): computed and reported sensitivities differ by more than 5 percent. \n",
      "\t Execution continuing.\n"
     ]
    },
    {
     "name": "stdout",
     "output_type": "stream",
     "text": [
      "earthquake number 946 of 1025 done. It was 20210831_110427.a\n"
     ]
    },
    {
     "name": "stderr",
     "output_type": "stream",
     "text": [
      "/home/earthquakes1/software/Mageia8/anaconda3/lib/python3.9/site-packages/obspy/io/stationxml/core.py:96: UserWarning: The StationXML file has version 1, ObsPy can read versions (1.0, 1.1). Proceed with caution.\n",
      "  warnings.warn(\"The StationXML file has version %s, ObsPy can \"\n",
      "/home/earthquakes1/software/Mageia8/anaconda3/lib/python3.9/site-packages/obspy/io/stationxml/core.py:96: UserWarning: The StationXML file has version 1, ObsPy can read versions (1.0, 1.1). Proceed with caution.\n",
      "  warnings.warn(\"The StationXML file has version %s, ObsPy can \"\n"
     ]
    },
    {
     "name": "stdout",
     "output_type": "stream",
     "text": [
      "earthquake number 947 of 1025 done. It was 20210831_025250.a\n",
      "earthquake number 948 of 1025 done. It was 20210828_125748.a\n"
     ]
    },
    {
     "name": "stderr",
     "output_type": "stream",
     "text": [
      "/home/earthquakes1/software/Mageia8/anaconda3/lib/python3.9/site-packages/obspy/io/stationxml/core.py:96: UserWarning: The StationXML file has version 1, ObsPy can read versions (1.0, 1.1). Proceed with caution.\n",
      "  warnings.warn(\"The StationXML file has version %s, ObsPy can \"\n",
      "/home/earthquakes1/software/Mageia8/anaconda3/lib/python3.9/site-packages/obspy/io/stationxml/core.py:96: UserWarning: The StationXML file has version 1, ObsPy can read versions (1.0, 1.1). Proceed with caution.\n",
      "  warnings.warn(\"The StationXML file has version %s, ObsPy can \"\n"
     ]
    },
    {
     "name": "stdout",
     "output_type": "stream",
     "text": [
      "earthquake number 949 of 1025 done. It was 20210825_055805.a\n",
      "earthquake number 950 of 1025 done. It was 20210822_082809.a\n",
      "earthquake number 951 of 1025 done. It was 20210818_101005.a\n",
      "earthquake number 952 of 1025 done. It was 20210816_163508.a\n",
      "earthquake number 953 of 1025 done. It was 20210815_104111.a\n"
     ]
    },
    {
     "name": "stderr",
     "output_type": "stream",
     "text": [
      "/home/earthquakes1/software/Mageia8/anaconda3/lib/python3.9/site-packages/obspy/io/stationxml/core.py:96: UserWarning: The StationXML file has version 1, ObsPy can read versions (1.0, 1.1). Proceed with caution.\n",
      "  warnings.warn(\"The StationXML file has version %s, ObsPy can \"\n",
      "/home/earthquakes1/software/Mageia8/anaconda3/lib/python3.9/site-packages/obspy/io/stationxml/core.py:96: UserWarning: The StationXML file has version 1, ObsPy can read versions (1.0, 1.1). Proceed with caution.\n",
      "  warnings.warn(\"The StationXML file has version %s, ObsPy can \"\n"
     ]
    },
    {
     "name": "stdout",
     "output_type": "stream",
     "text": [
      "earthquake number 954 of 1025 done. It was 20210813_184656.a\n"
     ]
    },
    {
     "name": "stderr",
     "output_type": "stream",
     "text": [
      "/home/earthquakes1/software/Mageia8/anaconda3/lib/python3.9/site-packages/obspy/io/stationxml/core.py:96: UserWarning: The StationXML file has version 1, ObsPy can read versions (1.0, 1.1). Proceed with caution.\n",
      "  warnings.warn(\"The StationXML file has version %s, ObsPy can \"\n",
      "/home/earthquakes1/software/Mageia8/anaconda3/lib/python3.9/site-packages/obspy/io/stationxml/core.py:96: UserWarning: The StationXML file has version 1, ObsPy can read versions (1.0, 1.1). Proceed with caution.\n",
      "  warnings.warn(\"The StationXML file has version %s, ObsPy can \"\n"
     ]
    },
    {
     "name": "stdout",
     "output_type": "stream",
     "text": [
      "earthquake number 955 of 1025 done. It was 20210812_021152.a\n",
      "earthquake number 956 of 1025 done. It was 20210807_183104.a\n"
     ]
    },
    {
     "name": "stderr",
     "output_type": "stream",
     "text": [
      " WARNING (norm_resp): computed and reported sensitivities differ by more than 5 percent. \n",
      "\t Execution continuing.\n",
      " WARNING (norm_resp): computed and reported sensitivities differ by more than 5 percent. \n",
      "\t Execution continuing.\n",
      " WARNING (norm_resp): computed and reported sensitivities differ by more than 5 percent. \n",
      "\t Execution continuing.\n"
     ]
    },
    {
     "name": "stdout",
     "output_type": "stream",
     "text": [
      "earthquake number 957 of 1025 done. It was 20210807_013945.a\n"
     ]
    },
    {
     "name": "stderr",
     "output_type": "stream",
     "text": [
      " WARNING (norm_resp): computed and reported sensitivities differ by more than 5 percent. \n",
      "\t Execution continuing.\n",
      " WARNING (norm_resp): computed and reported sensitivities differ by more than 5 percent. \n",
      "\t Execution continuing.\n",
      " WARNING (norm_resp): computed and reported sensitivities differ by more than 5 percent. \n",
      "\t Execution continuing.\n"
     ]
    },
    {
     "name": "stdout",
     "output_type": "stream",
     "text": [
      "earthquake number 958 of 1025 done. It was 20210803_123817.a\n"
     ]
    },
    {
     "name": "stderr",
     "output_type": "stream",
     "text": [
      "/home/earthquakes1/software/Mageia8/anaconda3/lib/python3.9/site-packages/obspy/io/stationxml/core.py:96: UserWarning: The StationXML file has version 1, ObsPy can read versions (1.0, 1.1). Proceed with caution.\n",
      "  warnings.warn(\"The StationXML file has version %s, ObsPy can \"\n",
      "/home/earthquakes1/software/Mageia8/anaconda3/lib/python3.9/site-packages/obspy/io/stationxml/core.py:96: UserWarning: The StationXML file has version 1, ObsPy can read versions (1.0, 1.1). Proceed with caution.\n",
      "  warnings.warn(\"The StationXML file has version %s, ObsPy can \"\n"
     ]
    },
    {
     "name": "stdout",
     "output_type": "stream",
     "text": [
      "earthquake number 959 of 1025 done. It was 20210802_012740.a\n"
     ]
    },
    {
     "name": "stderr",
     "output_type": "stream",
     "text": [
      "/home/earthquakes1/software/Mageia8/anaconda3/lib/python3.9/site-packages/obspy/io/stationxml/core.py:96: UserWarning: The StationXML file has version 1, ObsPy can read versions (1.0, 1.1). Proceed with caution.\n",
      "  warnings.warn(\"The StationXML file has version %s, ObsPy can \"\n",
      "/home/earthquakes1/software/Mageia8/anaconda3/lib/python3.9/site-packages/obspy/io/stationxml/core.py:96: UserWarning: The StationXML file has version 1, ObsPy can read versions (1.0, 1.1). Proceed with caution.\n",
      "  warnings.warn(\"The StationXML file has version %s, ObsPy can \"\n",
      "/home/earthquakes1/software/Mageia8/anaconda3/lib/python3.9/site-packages/obspy/io/stationxml/core.py:96: UserWarning: The StationXML file has version 1, ObsPy can read versions (1.0, 1.1). Proceed with caution.\n",
      "  warnings.warn(\"The StationXML file has version %s, ObsPy can \"\n",
      "/home/earthquakes1/software/Mageia8/anaconda3/lib/python3.9/site-packages/obspy/io/stationxml/core.py:96: UserWarning: The StationXML file has version 1, ObsPy can read versions (1.0, 1.1). Proceed with caution.\n",
      "  warnings.warn(\"The StationXML file has version %s, ObsPy can \"\n",
      "/home/earthquakes1/software/Mageia8/anaconda3/lib/python3.9/site-packages/obspy/io/stationxml/core.py:96: UserWarning: The StationXML file has version 1, ObsPy can read versions (1.0, 1.1). Proceed with caution.\n",
      "  warnings.warn(\"The StationXML file has version %s, ObsPy can \"\n",
      "/home/earthquakes1/software/Mageia8/anaconda3/lib/python3.9/site-packages/obspy/io/stationxml/core.py:96: UserWarning: The StationXML file has version 1, ObsPy can read versions (1.0, 1.1). Proceed with caution.\n",
      "  warnings.warn(\"The StationXML file has version %s, ObsPy can \"\n",
      "/home/earthquakes1/software/Mageia8/anaconda3/lib/python3.9/site-packages/obspy/io/stationxml/core.py:96: UserWarning: The StationXML file has version 1, ObsPy can read versions (1.0, 1.1). Proceed with caution.\n",
      "  warnings.warn(\"The StationXML file has version %s, ObsPy can \"\n",
      "/home/earthquakes1/software/Mageia8/anaconda3/lib/python3.9/site-packages/obspy/io/stationxml/core.py:96: UserWarning: The StationXML file has version 1, ObsPy can read versions (1.0, 1.1). Proceed with caution.\n",
      "  warnings.warn(\"The StationXML file has version %s, ObsPy can \"\n",
      "/home/earthquakes1/software/Mageia8/anaconda3/lib/python3.9/site-packages/obspy/io/stationxml/core.py:96: UserWarning: The StationXML file has version 1, ObsPy can read versions (1.0, 1.1). Proceed with caution.\n",
      "  warnings.warn(\"The StationXML file has version %s, ObsPy can \"\n",
      "/home/earthquakes1/software/Mageia8/anaconda3/lib/python3.9/site-packages/obspy/io/stationxml/core.py:96: UserWarning: The StationXML file has version 1, ObsPy can read versions (1.0, 1.1). Proceed with caution.\n",
      "  warnings.warn(\"The StationXML file has version %s, ObsPy can \"\n",
      "/home/earthquakes1/software/Mageia8/anaconda3/lib/python3.9/site-packages/obspy/io/stationxml/core.py:96: UserWarning: The StationXML file has version 1, ObsPy can read versions (1.0, 1.1). Proceed with caution.\n",
      "  warnings.warn(\"The StationXML file has version %s, ObsPy can \"\n",
      "/home/earthquakes1/software/Mageia8/anaconda3/lib/python3.9/site-packages/obspy/io/stationxml/core.py:96: UserWarning: The StationXML file has version 1, ObsPy can read versions (1.0, 1.1). Proceed with caution.\n",
      "  warnings.warn(\"The StationXML file has version %s, ObsPy can \"\n",
      "/home/earthquakes1/software/Mageia8/anaconda3/lib/python3.9/site-packages/obspy/io/stationxml/core.py:96: UserWarning: The StationXML file has version 1, ObsPy can read versions (1.0, 1.1). Proceed with caution.\n",
      "  warnings.warn(\"The StationXML file has version %s, ObsPy can \"\n",
      "/home/earthquakes1/software/Mageia8/anaconda3/lib/python3.9/site-packages/obspy/io/stationxml/core.py:96: UserWarning: The StationXML file has version 1, ObsPy can read versions (1.0, 1.1). Proceed with caution.\n",
      "  warnings.warn(\"The StationXML file has version %s, ObsPy can \"\n",
      "/home/earthquakes1/software/Mageia8/anaconda3/lib/python3.9/site-packages/obspy/io/stationxml/core.py:96: UserWarning: The StationXML file has version 1, ObsPy can read versions (1.0, 1.1). Proceed with caution.\n",
      "  warnings.warn(\"The StationXML file has version %s, ObsPy can \"\n",
      "/home/earthquakes1/software/Mageia8/anaconda3/lib/python3.9/site-packages/obspy/io/stationxml/core.py:96: UserWarning: The StationXML file has version 1, ObsPy can read versions (1.0, 1.1). Proceed with caution.\n",
      "  warnings.warn(\"The StationXML file has version %s, ObsPy can \"\n",
      "/home/earthquakes1/software/Mageia8/anaconda3/lib/python3.9/site-packages/obspy/io/stationxml/core.py:96: UserWarning: The StationXML file has version 1, ObsPy can read versions (1.0, 1.1). Proceed with caution.\n",
      "  warnings.warn(\"The StationXML file has version %s, ObsPy can \"\n",
      "/home/earthquakes1/software/Mageia8/anaconda3/lib/python3.9/site-packages/obspy/io/stationxml/core.py:96: UserWarning: The StationXML file has version 1, ObsPy can read versions (1.0, 1.1). Proceed with caution.\n",
      "  warnings.warn(\"The StationXML file has version %s, ObsPy can \"\n",
      "/home/earthquakes1/software/Mageia8/anaconda3/lib/python3.9/site-packages/obspy/io/stationxml/core.py:96: UserWarning: The StationXML file has version 1, ObsPy can read versions (1.0, 1.1). Proceed with caution.\n",
      "  warnings.warn(\"The StationXML file has version %s, ObsPy can \"\n",
      "/home/earthquakes1/software/Mageia8/anaconda3/lib/python3.9/site-packages/obspy/io/stationxml/core.py:96: UserWarning: The StationXML file has version 1, ObsPy can read versions (1.0, 1.1). Proceed with caution.\n",
      "  warnings.warn(\"The StationXML file has version %s, ObsPy can \"\n",
      "/home/earthquakes1/software/Mageia8/anaconda3/lib/python3.9/site-packages/obspy/io/stationxml/core.py:96: UserWarning: The StationXML file has version 1, ObsPy can read versions (1.0, 1.1). Proceed with caution.\n",
      "  warnings.warn(\"The StationXML file has version %s, ObsPy can \"\n",
      "/home/earthquakes1/software/Mageia8/anaconda3/lib/python3.9/site-packages/obspy/io/stationxml/core.py:96: UserWarning: The StationXML file has version 1, ObsPy can read versions (1.0, 1.1). Proceed with caution.\n",
      "  warnings.warn(\"The StationXML file has version %s, ObsPy can \"\n",
      "/home/earthquakes1/software/Mageia8/anaconda3/lib/python3.9/site-packages/obspy/io/stationxml/core.py:96: UserWarning: The StationXML file has version 1, ObsPy can read versions (1.0, 1.1). Proceed with caution.\n",
      "  warnings.warn(\"The StationXML file has version %s, ObsPy can \"\n",
      "/home/earthquakes1/software/Mageia8/anaconda3/lib/python3.9/site-packages/obspy/io/stationxml/core.py:96: UserWarning: The StationXML file has version 1, ObsPy can read versions (1.0, 1.1). Proceed with caution.\n",
      "  warnings.warn(\"The StationXML file has version %s, ObsPy can \"\n",
      "/home/earthquakes1/software/Mageia8/anaconda3/lib/python3.9/site-packages/obspy/io/stationxml/core.py:96: UserWarning: The StationXML file has version 1, ObsPy can read versions (1.0, 1.1). Proceed with caution.\n",
      "  warnings.warn(\"The StationXML file has version %s, ObsPy can \"\n",
      "/home/earthquakes1/software/Mageia8/anaconda3/lib/python3.9/site-packages/obspy/io/stationxml/core.py:96: UserWarning: The StationXML file has version 1, ObsPy can read versions (1.0, 1.1). Proceed with caution.\n",
      "  warnings.warn(\"The StationXML file has version %s, ObsPy can \"\n",
      "/home/earthquakes1/software/Mageia8/anaconda3/lib/python3.9/site-packages/obspy/io/stationxml/core.py:96: UserWarning: The StationXML file has version 1, ObsPy can read versions (1.0, 1.1). Proceed with caution.\n",
      "  warnings.warn(\"The StationXML file has version %s, ObsPy can \"\n",
      "/home/earthquakes1/software/Mageia8/anaconda3/lib/python3.9/site-packages/obspy/io/stationxml/core.py:96: UserWarning: The StationXML file has version 1, ObsPy can read versions (1.0, 1.1). Proceed with caution.\n",
      "  warnings.warn(\"The StationXML file has version %s, ObsPy can \"\n"
     ]
    },
    {
     "name": "stdout",
     "output_type": "stream",
     "text": [
      "earthquake number 960 of 1025 done. It was 20210801_130453.a\n",
      "earthquake number 961 of 1025 done. It was 20210801_104027.a\n"
     ]
    },
    {
     "name": "stderr",
     "output_type": "stream",
     "text": [
      " WARNING (norm_resp): computed and reported sensitivities differ by more than 5 percent. \n",
      "\t Execution continuing.\n",
      " WARNING (norm_resp): computed and reported sensitivities differ by more than 5 percent. \n",
      "\t Execution continuing.\n",
      " WARNING (norm_resp): computed and reported sensitivities differ by more than 5 percent. \n",
      "\t Execution continuing.\n"
     ]
    },
    {
     "name": "stdout",
     "output_type": "stream",
     "text": [
      "earthquake number 962 of 1025 done. It was 20210801_043126.a\n",
      "earthquake number 963 of 1025 done. It was 20210930_120754.a\n",
      "earthquake number 964 of 1025 done. It was 20210929_003126.a\n",
      "earthquake number 965 of 1025 done. It was 20210928_044808.a\n",
      "earthquake number 966 of 1025 done. It was 20210927_061722.a\n"
     ]
    },
    {
     "name": "stderr",
     "output_type": "stream",
     "text": [
      "/home/earthquakes1/software/Mageia8/anaconda3/lib/python3.9/site-packages/obspy/io/stationxml/core.py:96: UserWarning: The StationXML file has version 1, ObsPy can read versions (1.0, 1.1). Proceed with caution.\n",
      "  warnings.warn(\"The StationXML file has version %s, ObsPy can \"\n",
      "/home/earthquakes1/software/Mageia8/anaconda3/lib/python3.9/site-packages/obspy/io/stationxml/core.py:96: UserWarning: The StationXML file has version 1, ObsPy can read versions (1.0, 1.1). Proceed with caution.\n",
      "  warnings.warn(\"The StationXML file has version %s, ObsPy can \"\n"
     ]
    },
    {
     "name": "stdout",
     "output_type": "stream",
     "text": [
      "earthquake number 967 of 1025 done. It was 20210924_075737.a\n"
     ]
    },
    {
     "name": "stderr",
     "output_type": "stream",
     "text": [
      "/home/earthquakes1/software/Mageia8/anaconda3/lib/python3.9/site-packages/obspy/io/stationxml/core.py:96: UserWarning: The StationXML file has version 1, ObsPy can read versions (1.0, 1.1). Proceed with caution.\n",
      "  warnings.warn(\"The StationXML file has version %s, ObsPy can \"\n",
      "/home/earthquakes1/software/Mageia8/anaconda3/lib/python3.9/site-packages/obspy/io/stationxml/core.py:96: UserWarning: The StationXML file has version 1, ObsPy can read versions (1.0, 1.1). Proceed with caution.\n",
      "  warnings.warn(\"The StationXML file has version %s, ObsPy can \"\n"
     ]
    },
    {
     "name": "stdout",
     "output_type": "stream",
     "text": [
      "earthquake number 968 of 1025 done. It was 20210922_195723.a\n"
     ]
    },
    {
     "name": "stderr",
     "output_type": "stream",
     "text": [
      "/home/earthquakes1/software/Mageia8/anaconda3/lib/python3.9/site-packages/obspy/io/stationxml/core.py:96: UserWarning: The StationXML file has version 1, ObsPy can read versions (1.0, 1.1). Proceed with caution.\n",
      "  warnings.warn(\"The StationXML file has version %s, ObsPy can \"\n",
      "/home/earthquakes1/software/Mageia8/anaconda3/lib/python3.9/site-packages/obspy/io/stationxml/core.py:96: UserWarning: The StationXML file has version 1, ObsPy can read versions (1.0, 1.1). Proceed with caution.\n",
      "  warnings.warn(\"The StationXML file has version %s, ObsPy can \"\n"
     ]
    },
    {
     "name": "stdout",
     "output_type": "stream",
     "text": [
      "earthquake number 969 of 1025 done. It was 20210922_173259.a\n",
      "earthquake number 970 of 1025 done. It was 20210922_125659.a\n",
      "earthquake number 971 of 1025 done. It was 20210922_122711.a\n",
      "earthquake number 972 of 1025 done. It was 20210922_095707.a\n",
      "earthquake number 973 of 1025 done. It was 20210919_081832.a\n"
     ]
    },
    {
     "name": "stderr",
     "output_type": "stream",
     "text": [
      "/home/earthquakes1/software/Mageia8/anaconda3/lib/python3.9/site-packages/obspy/io/stationxml/core.py:96: UserWarning: The StationXML file has version 1, ObsPy can read versions (1.0, 1.1). Proceed with caution.\n",
      "  warnings.warn(\"The StationXML file has version %s, ObsPy can \"\n"
     ]
    },
    {
     "name": "stdout",
     "output_type": "stream",
     "text": [
      "earthquake number 974 of 1025 done. It was 20210916_000609.a\n"
     ]
    },
    {
     "name": "stderr",
     "output_type": "stream",
     "text": [
      "/home/earthquakes1/software/Mageia8/anaconda3/lib/python3.9/site-packages/obspy/io/stationxml/core.py:96: UserWarning: The StationXML file has version 1, ObsPy can read versions (1.0, 1.1). Proceed with caution.\n",
      "  warnings.warn(\"The StationXML file has version %s, ObsPy can \"\n"
     ]
    },
    {
     "name": "stdout",
     "output_type": "stream",
     "text": [
      "earthquake number 975 of 1025 done. It was 20210915_201452.a\n"
     ]
    },
    {
     "name": "stderr",
     "output_type": "stream",
     "text": [
      "/home/earthquakes1/software/Mageia8/anaconda3/lib/python3.9/site-packages/obspy/io/stationxml/core.py:96: UserWarning: The StationXML file has version 1, ObsPy can read versions (1.0, 1.1). Proceed with caution.\n",
      "  warnings.warn(\"The StationXML file has version %s, ObsPy can \"\n",
      "/home/earthquakes1/software/Mageia8/anaconda3/lib/python3.9/site-packages/obspy/io/stationxml/core.py:96: UserWarning: The StationXML file has version 1, ObsPy can read versions (1.0, 1.1). Proceed with caution.\n",
      "  warnings.warn(\"The StationXML file has version %s, ObsPy can \"\n"
     ]
    },
    {
     "name": "stdout",
     "output_type": "stream",
     "text": [
      "earthquake number 976 of 1025 done. It was 20210915_124413.a\n",
      "earthquake number 977 of 1025 done. It was 20210913_051813.a\n",
      "earthquake number 978 of 1025 done. It was 20210910_174517.a\n",
      "earthquake number 979 of 1025 done. It was 20210904_075347.a\n"
     ]
    },
    {
     "name": "stderr",
     "output_type": "stream",
     "text": [
      "/home/earthquakes1/software/Mageia8/anaconda3/lib/python3.9/site-packages/obspy/io/stationxml/core.py:96: UserWarning: The StationXML file has version 1, ObsPy can read versions (1.0, 1.1). Proceed with caution.\n",
      "  warnings.warn(\"The StationXML file has version %s, ObsPy can \"\n",
      "/home/earthquakes1/software/Mageia8/anaconda3/lib/python3.9/site-packages/obspy/io/stationxml/core.py:96: UserWarning: The StationXML file has version 1, ObsPy can read versions (1.0, 1.1). Proceed with caution.\n",
      "  warnings.warn(\"The StationXML file has version %s, ObsPy can \"\n"
     ]
    },
    {
     "name": "stdout",
     "output_type": "stream",
     "text": [
      "earthquake number 980 of 1025 done. It was 20210902_232019.a\n",
      "earthquake number 981 of 1025 done. It was 20210902_045006.a\n"
     ]
    },
    {
     "name": "stderr",
     "output_type": "stream",
     "text": [
      "/home/earthquakes1/software/Mageia8/anaconda3/lib/python3.9/site-packages/obspy/io/stationxml/core.py:96: UserWarning: The StationXML file has version 1, ObsPy can read versions (1.0, 1.1). Proceed with caution.\n",
      "  warnings.warn(\"The StationXML file has version %s, ObsPy can \"\n",
      "/home/earthquakes1/software/Mageia8/anaconda3/lib/python3.9/site-packages/obspy/io/stationxml/core.py:96: UserWarning: The StationXML file has version 1, ObsPy can read versions (1.0, 1.1). Proceed with caution.\n",
      "  warnings.warn(\"The StationXML file has version %s, ObsPy can \"\n"
     ]
    },
    {
     "name": "stdout",
     "output_type": "stream",
     "text": [
      "earthquake number 982 of 1025 done. It was 20211031_091814.a\n"
     ]
    },
    {
     "name": "stderr",
     "output_type": "stream",
     "text": [
      "/home/earthquakes1/software/Mageia8/anaconda3/lib/python3.9/site-packages/obspy/io/stationxml/core.py:96: UserWarning: The StationXML file has version 1, ObsPy can read versions (1.0, 1.1). Proceed with caution.\n",
      "  warnings.warn(\"The StationXML file has version %s, ObsPy can \"\n",
      "/home/earthquakes1/software/Mageia8/anaconda3/lib/python3.9/site-packages/obspy/io/stationxml/core.py:96: UserWarning: The StationXML file has version 1, ObsPy can read versions (1.0, 1.1). Proceed with caution.\n",
      "  warnings.warn(\"The StationXML file has version %s, ObsPy can \"\n"
     ]
    },
    {
     "name": "stdout",
     "output_type": "stream",
     "text": [
      "earthquake number 983 of 1025 done. It was 20211029_194231.a\n"
     ]
    },
    {
     "name": "stderr",
     "output_type": "stream",
     "text": [
      "/home/earthquakes1/software/Mageia8/anaconda3/lib/python3.9/site-packages/obspy/io/stationxml/core.py:96: UserWarning: The StationXML file has version 1, ObsPy can read versions (1.0, 1.1). Proceed with caution.\n",
      "  warnings.warn(\"The StationXML file has version %s, ObsPy can \"\n",
      "/home/earthquakes1/software/Mageia8/anaconda3/lib/python3.9/site-packages/obspy/io/stationxml/core.py:96: UserWarning: The StationXML file has version 1, ObsPy can read versions (1.0, 1.1). Proceed with caution.\n",
      "  warnings.warn(\"The StationXML file has version %s, ObsPy can \"\n",
      "/home/earthquakes1/software/Mageia8/anaconda3/lib/python3.9/site-packages/obspy/io/stationxml/core.py:96: UserWarning: The StationXML file has version 1, ObsPy can read versions (1.0, 1.1). Proceed with caution.\n",
      "  warnings.warn(\"The StationXML file has version %s, ObsPy can \"\n",
      "/home/earthquakes1/software/Mageia8/anaconda3/lib/python3.9/site-packages/obspy/io/stationxml/core.py:96: UserWarning: The StationXML file has version 1, ObsPy can read versions (1.0, 1.1). Proceed with caution.\n",
      "  warnings.warn(\"The StationXML file has version %s, ObsPy can \"\n",
      "/home/earthquakes1/software/Mageia8/anaconda3/lib/python3.9/site-packages/obspy/io/stationxml/core.py:96: UserWarning: The StationXML file has version 1, ObsPy can read versions (1.0, 1.1). Proceed with caution.\n",
      "  warnings.warn(\"The StationXML file has version %s, ObsPy can \"\n",
      "/home/earthquakes1/software/Mageia8/anaconda3/lib/python3.9/site-packages/obspy/io/stationxml/core.py:96: UserWarning: The StationXML file has version 1, ObsPy can read versions (1.0, 1.1). Proceed with caution.\n",
      "  warnings.warn(\"The StationXML file has version %s, ObsPy can \"\n",
      "/home/earthquakes1/software/Mageia8/anaconda3/lib/python3.9/site-packages/obspy/io/stationxml/core.py:96: UserWarning: The StationXML file has version 1, ObsPy can read versions (1.0, 1.1). Proceed with caution.\n",
      "  warnings.warn(\"The StationXML file has version %s, ObsPy can \"\n",
      "/home/earthquakes1/software/Mageia8/anaconda3/lib/python3.9/site-packages/obspy/io/stationxml/core.py:96: UserWarning: The StationXML file has version 1, ObsPy can read versions (1.0, 1.1). Proceed with caution.\n",
      "  warnings.warn(\"The StationXML file has version %s, ObsPy can \"\n",
      "/home/earthquakes1/software/Mageia8/anaconda3/lib/python3.9/site-packages/obspy/io/stationxml/core.py:96: UserWarning: The StationXML file has version 1, ObsPy can read versions (1.0, 1.1). Proceed with caution.\n",
      "  warnings.warn(\"The StationXML file has version %s, ObsPy can \"\n",
      "/home/earthquakes1/software/Mageia8/anaconda3/lib/python3.9/site-packages/obspy/io/stationxml/core.py:96: UserWarning: The StationXML file has version 1, ObsPy can read versions (1.0, 1.1). Proceed with caution.\n",
      "  warnings.warn(\"The StationXML file has version %s, ObsPy can \"\n",
      "/home/earthquakes1/software/Mageia8/anaconda3/lib/python3.9/site-packages/obspy/io/stationxml/core.py:96: UserWarning: The StationXML file has version 1, ObsPy can read versions (1.0, 1.1). Proceed with caution.\n",
      "  warnings.warn(\"The StationXML file has version %s, ObsPy can \"\n",
      "/home/earthquakes1/software/Mageia8/anaconda3/lib/python3.9/site-packages/obspy/io/stationxml/core.py:96: UserWarning: The StationXML file has version 1, ObsPy can read versions (1.0, 1.1). Proceed with caution.\n",
      "  warnings.warn(\"The StationXML file has version %s, ObsPy can \"\n",
      "/home/earthquakes1/software/Mageia8/anaconda3/lib/python3.9/site-packages/obspy/io/stationxml/core.py:96: UserWarning: The StationXML file has version 1, ObsPy can read versions (1.0, 1.1). Proceed with caution.\n",
      "  warnings.warn(\"The StationXML file has version %s, ObsPy can \"\n",
      "/home/earthquakes1/software/Mageia8/anaconda3/lib/python3.9/site-packages/obspy/io/stationxml/core.py:96: UserWarning: The StationXML file has version 1, ObsPy can read versions (1.0, 1.1). Proceed with caution.\n",
      "  warnings.warn(\"The StationXML file has version %s, ObsPy can \"\n",
      "/home/earthquakes1/software/Mageia8/anaconda3/lib/python3.9/site-packages/obspy/io/stationxml/core.py:96: UserWarning: The StationXML file has version 1, ObsPy can read versions (1.0, 1.1). Proceed with caution.\n",
      "  warnings.warn(\"The StationXML file has version %s, ObsPy can \"\n",
      "/home/earthquakes1/software/Mageia8/anaconda3/lib/python3.9/site-packages/obspy/io/stationxml/core.py:96: UserWarning: The StationXML file has version 1, ObsPy can read versions (1.0, 1.1). Proceed with caution.\n",
      "  warnings.warn(\"The StationXML file has version %s, ObsPy can \"\n",
      "/home/earthquakes1/software/Mageia8/anaconda3/lib/python3.9/site-packages/obspy/io/stationxml/core.py:96: UserWarning: The StationXML file has version 1, ObsPy can read versions (1.0, 1.1). Proceed with caution.\n",
      "  warnings.warn(\"The StationXML file has version %s, ObsPy can \"\n",
      "/home/earthquakes1/software/Mageia8/anaconda3/lib/python3.9/site-packages/obspy/io/stationxml/core.py:96: UserWarning: The StationXML file has version 1, ObsPy can read versions (1.0, 1.1). Proceed with caution.\n",
      "  warnings.warn(\"The StationXML file has version %s, ObsPy can \"\n",
      "/home/earthquakes1/software/Mageia8/anaconda3/lib/python3.9/site-packages/obspy/io/stationxml/core.py:96: UserWarning: The StationXML file has version 1, ObsPy can read versions (1.0, 1.1). Proceed with caution.\n",
      "  warnings.warn(\"The StationXML file has version %s, ObsPy can \"\n",
      "/home/earthquakes1/software/Mageia8/anaconda3/lib/python3.9/site-packages/obspy/io/stationxml/core.py:96: UserWarning: The StationXML file has version 1, ObsPy can read versions (1.0, 1.1). Proceed with caution.\n",
      "  warnings.warn(\"The StationXML file has version %s, ObsPy can \"\n",
      "/home/earthquakes1/software/Mageia8/anaconda3/lib/python3.9/site-packages/obspy/io/stationxml/core.py:96: UserWarning: The StationXML file has version 1, ObsPy can read versions (1.0, 1.1). Proceed with caution.\n",
      "  warnings.warn(\"The StationXML file has version %s, ObsPy can \"\n",
      "/home/earthquakes1/software/Mageia8/anaconda3/lib/python3.9/site-packages/obspy/io/stationxml/core.py:96: UserWarning: The StationXML file has version 1, ObsPy can read versions (1.0, 1.1). Proceed with caution.\n",
      "  warnings.warn(\"The StationXML file has version %s, ObsPy can \"\n",
      "/home/earthquakes1/software/Mageia8/anaconda3/lib/python3.9/site-packages/obspy/io/stationxml/core.py:96: UserWarning: The StationXML file has version 1, ObsPy can read versions (1.0, 1.1). Proceed with caution.\n",
      "  warnings.warn(\"The StationXML file has version %s, ObsPy can \"\n",
      "/home/earthquakes1/software/Mageia8/anaconda3/lib/python3.9/site-packages/obspy/io/stationxml/core.py:96: UserWarning: The StationXML file has version 1, ObsPy can read versions (1.0, 1.1). Proceed with caution.\n",
      "  warnings.warn(\"The StationXML file has version %s, ObsPy can \"\n"
     ]
    },
    {
     "name": "stdout",
     "output_type": "stream",
     "text": [
      "earthquake number 984 of 1025 done. It was 20211021_215820.a\n",
      "earthquake number 985 of 1025 done. It was 20211019_053232.a\n",
      "earthquake number 986 of 1025 done. It was 20211018_072652.a\n"
     ]
    },
    {
     "name": "stderr",
     "output_type": "stream",
     "text": [
      "/home/earthquakes1/software/Mageia8/anaconda3/lib/python3.9/site-packages/obspy/io/stationxml/core.py:96: UserWarning: The StationXML file has version 1, ObsPy can read versions (1.0, 1.1). Proceed with caution.\n",
      "  warnings.warn(\"The StationXML file has version %s, ObsPy can \"\n"
     ]
    },
    {
     "name": "stdout",
     "output_type": "stream",
     "text": [
      "earthquake number 987 of 1025 done. It was 20211017_023057.a\n",
      "earthquake number 988 of 1025 done. It was 20211014_055155.a\n",
      "earthquake number 989 of 1025 done. It was 20211013_025426.a\n",
      "earthquake number 990 of 1025 done. It was 20211012_092403.a\n",
      "earthquake number 991 of 1025 done. It was 20211006_233808.a\n"
     ]
    },
    {
     "name": "stderr",
     "output_type": "stream",
     "text": [
      "/home/earthquakes1/software/Mageia8/anaconda3/lib/python3.9/site-packages/obspy/io/stationxml/core.py:96: UserWarning: The StationXML file has version 1, ObsPy can read versions (1.0, 1.1). Proceed with caution.\n",
      "  warnings.warn(\"The StationXML file has version %s, ObsPy can \"\n",
      "/home/earthquakes1/software/Mageia8/anaconda3/lib/python3.9/site-packages/obspy/io/stationxml/core.py:96: UserWarning: The StationXML file has version 1, ObsPy can read versions (1.0, 1.1). Proceed with caution.\n",
      "  warnings.warn(\"The StationXML file has version %s, ObsPy can \"\n"
     ]
    },
    {
     "name": "stdout",
     "output_type": "stream",
     "text": [
      "earthquake number 992 of 1025 done. It was 20211004_063414.a\n",
      "earthquake number 993 of 1025 done. It was 20211130_043849.a\n"
     ]
    },
    {
     "name": "stderr",
     "output_type": "stream",
     "text": [
      " WARNING (norm_resp): computed and reported sensitivities differ by more than 5 percent. \n",
      "\t Execution continuing.\n",
      " WARNING (norm_resp): computed and reported sensitivities differ by more than 5 percent. \n",
      "\t Execution continuing.\n"
     ]
    },
    {
     "name": "stdout",
     "output_type": "stream",
     "text": [
      "earthquake number 994 of 1025 done. It was 20211130_040040.a\n"
     ]
    },
    {
     "name": "stderr",
     "output_type": "stream",
     "text": [
      "/home/earthquakes1/software/Mageia8/anaconda3/lib/python3.9/site-packages/obspy/io/stationxml/core.py:96: UserWarning: The StationXML file has version 1, ObsPy can read versions (1.0, 1.1). Proceed with caution.\n",
      "  warnings.warn(\"The StationXML file has version %s, ObsPy can \"\n",
      "/home/earthquakes1/software/Mageia8/anaconda3/lib/python3.9/site-packages/obspy/io/stationxml/core.py:96: UserWarning: The StationXML file has version 1, ObsPy can read versions (1.0, 1.1). Proceed with caution.\n",
      "  warnings.warn(\"The StationXML file has version %s, ObsPy can \"\n"
     ]
    },
    {
     "name": "stdout",
     "output_type": "stream",
     "text": [
      "earthquake number 995 of 1025 done. It was 20211121_051229.a\n",
      "earthquake number 996 of 1025 done. It was 20211120_105752.a\n"
     ]
    },
    {
     "name": "stderr",
     "output_type": "stream",
     "text": [
      " WARNING (norm_resp): computed and reported sensitivities differ by more than 5 percent. \n",
      "\t Execution continuing.\n",
      " WARNING (norm_resp): computed and reported sensitivities differ by more than 5 percent. \n",
      "\t Execution continuing.\n",
      " WARNING (norm_resp): computed and reported sensitivities differ by more than 5 percent. \n",
      "\t Execution continuing.\n",
      " WARNING (norm_resp): computed and reported sensitivities differ by more than 5 percent. \n",
      "\t Execution continuing.\n",
      " WARNING (norm_resp): computed and reported sensitivities differ by more than 5 percent. \n",
      "\t Execution continuing.\n",
      " WARNING (norm_resp): computed and reported sensitivities differ by more than 5 percent. \n",
      "\t Execution continuing.\n"
     ]
    },
    {
     "name": "stdout",
     "output_type": "stream",
     "text": [
      "earthquake number 997 of 1025 done. It was 20211119_124053.a\n"
     ]
    },
    {
     "name": "stderr",
     "output_type": "stream",
     "text": [
      "/home/earthquakes1/software/Mageia8/anaconda3/lib/python3.9/site-packages/obspy/io/stationxml/core.py:96: UserWarning: The StationXML file has version 1, ObsPy can read versions (1.0, 1.1). Proceed with caution.\n",
      "  warnings.warn(\"The StationXML file has version %s, ObsPy can \"\n",
      "/home/earthquakes1/software/Mageia8/anaconda3/lib/python3.9/site-packages/obspy/io/stationxml/core.py:96: UserWarning: The StationXML file has version 1, ObsPy can read versions (1.0, 1.1). Proceed with caution.\n",
      "  warnings.warn(\"The StationXML file has version %s, ObsPy can \"\n"
     ]
    },
    {
     "name": "stdout",
     "output_type": "stream",
     "text": [
      "earthquake number 998 of 1025 done. It was 20211111_063527.a\n",
      "earthquake number 999 of 1025 done. It was 20211109_062514.a\n",
      "earthquake number 1000 of 1025 done. It was 20211109_062420.a\n",
      "earthquake number 1001 of 1025 done. It was 20211109_025349.a\n"
     ]
    },
    {
     "name": "stderr",
     "output_type": "stream",
     "text": [
      " WARNING (norm_resp): computed and reported sensitivities differ by more than 5 percent. \n",
      "\t Execution continuing.\n",
      " WARNING (norm_resp): computed and reported sensitivities differ by more than 5 percent. \n",
      "\t Execution continuing.\n",
      " WARNING (norm_resp): computed and reported sensitivities differ by more than 5 percent. \n",
      "\t Execution continuing.\n",
      " WARNING (norm_resp): computed and reported sensitivities differ by more than 5 percent. \n",
      "\t Execution continuing.\n",
      " WARNING (norm_resp): computed and reported sensitivities differ by more than 5 percent. \n",
      "\t Execution continuing.\n",
      " WARNING (norm_resp): computed and reported sensitivities differ by more than 5 percent. \n",
      "\t Execution continuing.\n",
      " WARNING (norm_resp): computed and reported sensitivities differ by more than 5 percent. \n",
      "\t Execution continuing.\n",
      " WARNING (norm_resp): computed and reported sensitivities differ by more than 5 percent. \n",
      "\t Execution continuing.\n",
      " WARNING (norm_resp): computed and reported sensitivities differ by more than 5 percent. \n",
      "\t Execution continuing.\n",
      " WARNING (norm_resp): computed and reported sensitivities differ by more than 5 percent. \n",
      "\t Execution continuing.\n",
      " WARNING (norm_resp): computed and reported sensitivities differ by more than 5 percent. \n",
      "\t Execution continuing.\n",
      " WARNING (norm_resp): computed and reported sensitivities differ by more than 5 percent. \n",
      "\t Execution continuing.\n",
      " WARNING (norm_resp): computed and reported sensitivities differ by more than 5 percent. \n",
      "\t Execution continuing.\n",
      " WARNING (norm_resp): computed and reported sensitivities differ by more than 5 percent. \n",
      "\t Execution continuing.\n",
      " WARNING (norm_resp): computed and reported sensitivities differ by more than 5 percent. \n",
      "\t Execution continuing.\n",
      " WARNING (norm_resp): computed and reported sensitivities differ by more than 5 percent. \n",
      "\t Execution continuing.\n",
      " WARNING (norm_resp): computed and reported sensitivities differ by more than 5 percent. \n",
      "\t Execution continuing.\n",
      " WARNING (norm_resp): computed and reported sensitivities differ by more than 5 percent. \n",
      "\t Execution continuing.\n",
      " WARNING (norm_resp): computed and reported sensitivities differ by more than 5 percent. \n",
      "\t Execution continuing.\n",
      " WARNING (norm_resp): computed and reported sensitivities differ by more than 5 percent. \n",
      "\t Execution continuing.\n",
      " WARNING (norm_resp): computed and reported sensitivities differ by more than 5 percent. \n",
      "\t Execution continuing.\n",
      " WARNING (norm_resp): computed and reported sensitivities differ by more than 5 percent. \n",
      "\t Execution continuing.\n",
      " WARNING (norm_resp): computed and reported sensitivities differ by more than 5 percent. \n",
      "\t Execution continuing.\n",
      " WARNING (norm_resp): computed and reported sensitivities differ by more than 5 percent. \n",
      "\t Execution continuing.\n",
      " WARNING (norm_resp): computed and reported sensitivities differ by more than 5 percent. \n",
      "\t Execution continuing.\n",
      " WARNING (norm_resp): computed and reported sensitivities differ by more than 5 percent. \n",
      "\t Execution continuing.\n",
      " WARNING (norm_resp): computed and reported sensitivities differ by more than 5 percent. \n",
      "\t Execution continuing.\n",
      " WARNING (norm_resp): computed and reported sensitivities differ by more than 5 percent. \n",
      "\t Execution continuing.\n",
      " WARNING (norm_resp): computed and reported sensitivities differ by more than 5 percent. \n",
      "\t Execution continuing.\n",
      " WARNING (norm_resp): computed and reported sensitivities differ by more than 5 percent. \n",
      "\t Execution continuing.\n",
      " WARNING (norm_resp): computed and reported sensitivities differ by more than 5 percent. \n",
      "\t Execution continuing.\n",
      " WARNING (norm_resp): computed and reported sensitivities differ by more than 5 percent. \n",
      "\t Execution continuing.\n"
     ]
    },
    {
     "name": "stdout",
     "output_type": "stream",
     "text": [
      "earthquake number 1002 of 1025 done. It was 20211108_174321.a\n"
     ]
    },
    {
     "name": "stderr",
     "output_type": "stream",
     "text": [
      "/home/earthquakes1/software/Mageia8/anaconda3/lib/python3.9/site-packages/obspy/io/stationxml/core.py:96: UserWarning: The StationXML file has version 1, ObsPy can read versions (1.0, 1.1). Proceed with caution.\n",
      "  warnings.warn(\"The StationXML file has version %s, ObsPy can \"\n",
      "/home/earthquakes1/software/Mageia8/anaconda3/lib/python3.9/site-packages/obspy/io/stationxml/core.py:96: UserWarning: The StationXML file has version 1, ObsPy can read versions (1.0, 1.1). Proceed with caution.\n",
      "  warnings.warn(\"The StationXML file has version %s, ObsPy can \"\n",
      "/home/earthquakes1/software/Mageia8/anaconda3/lib/python3.9/site-packages/obspy/io/stationxml/core.py:96: UserWarning: The StationXML file has version 1, ObsPy can read versions (1.0, 1.1). Proceed with caution.\n",
      "  warnings.warn(\"The StationXML file has version %s, ObsPy can \"\n",
      "/home/earthquakes1/software/Mageia8/anaconda3/lib/python3.9/site-packages/obspy/io/stationxml/core.py:96: UserWarning: The StationXML file has version 1, ObsPy can read versions (1.0, 1.1). Proceed with caution.\n",
      "  warnings.warn(\"The StationXML file has version %s, ObsPy can \"\n",
      "/home/earthquakes1/software/Mageia8/anaconda3/lib/python3.9/site-packages/obspy/io/stationxml/core.py:96: UserWarning: The StationXML file has version 1, ObsPy can read versions (1.0, 1.1). Proceed with caution.\n",
      "  warnings.warn(\"The StationXML file has version %s, ObsPy can \"\n",
      "/home/earthquakes1/software/Mageia8/anaconda3/lib/python3.9/site-packages/obspy/io/stationxml/core.py:96: UserWarning: The StationXML file has version 1, ObsPy can read versions (1.0, 1.1). Proceed with caution.\n",
      "  warnings.warn(\"The StationXML file has version %s, ObsPy can \"\n",
      "/home/earthquakes1/software/Mageia8/anaconda3/lib/python3.9/site-packages/obspy/io/stationxml/core.py:96: UserWarning: The StationXML file has version 1, ObsPy can read versions (1.0, 1.1). Proceed with caution.\n",
      "  warnings.warn(\"The StationXML file has version %s, ObsPy can \"\n",
      "/home/earthquakes1/software/Mageia8/anaconda3/lib/python3.9/site-packages/obspy/io/stationxml/core.py:96: UserWarning: The StationXML file has version 1, ObsPy can read versions (1.0, 1.1). Proceed with caution.\n",
      "  warnings.warn(\"The StationXML file has version %s, ObsPy can \"\n",
      "/home/earthquakes1/software/Mageia8/anaconda3/lib/python3.9/site-packages/obspy/io/stationxml/core.py:96: UserWarning: The StationXML file has version 1, ObsPy can read versions (1.0, 1.1). Proceed with caution.\n",
      "  warnings.warn(\"The StationXML file has version %s, ObsPy can \"\n",
      "/home/earthquakes1/software/Mageia8/anaconda3/lib/python3.9/site-packages/obspy/io/stationxml/core.py:96: UserWarning: The StationXML file has version 1, ObsPy can read versions (1.0, 1.1). Proceed with caution.\n",
      "  warnings.warn(\"The StationXML file has version %s, ObsPy can \"\n",
      "/home/earthquakes1/software/Mageia8/anaconda3/lib/python3.9/site-packages/obspy/io/stationxml/core.py:96: UserWarning: The StationXML file has version 1, ObsPy can read versions (1.0, 1.1). Proceed with caution.\n",
      "  warnings.warn(\"The StationXML file has version %s, ObsPy can \"\n",
      "/home/earthquakes1/software/Mageia8/anaconda3/lib/python3.9/site-packages/obspy/io/stationxml/core.py:96: UserWarning: The StationXML file has version 1, ObsPy can read versions (1.0, 1.1). Proceed with caution.\n",
      "  warnings.warn(\"The StationXML file has version %s, ObsPy can \"\n",
      "/home/earthquakes1/software/Mageia8/anaconda3/lib/python3.9/site-packages/obspy/io/stationxml/core.py:96: UserWarning: The StationXML file has version 1, ObsPy can read versions (1.0, 1.1). Proceed with caution.\n",
      "  warnings.warn(\"The StationXML file has version %s, ObsPy can \"\n",
      "/home/earthquakes1/software/Mageia8/anaconda3/lib/python3.9/site-packages/obspy/io/stationxml/core.py:96: UserWarning: The StationXML file has version 1, ObsPy can read versions (1.0, 1.1). Proceed with caution.\n",
      "  warnings.warn(\"The StationXML file has version %s, ObsPy can \"\n"
     ]
    },
    {
     "name": "stdout",
     "output_type": "stream",
     "text": [
      "earthquake number 1003 of 1025 done. It was 20211107_031645.a\n",
      "earthquake number 1004 of 1025 done. It was 20211103_031748.a\n",
      "earthquake number 1005 of 1025 done. It was 20211101_220817.a\n",
      "earthquake number 1006 of 1025 done. It was 20211101_030756.a\n",
      "earthquake number 1007 of 1025 done. It was 20211101_000045.a\n"
     ]
    },
    {
     "name": "stderr",
     "output_type": "stream",
     "text": [
      "/home/earthquakes1/software/Mageia8/anaconda3/lib/python3.9/site-packages/obspy/io/stationxml/core.py:96: UserWarning: The StationXML file has version 1, ObsPy can read versions (1.0, 1.1). Proceed with caution.\n",
      "  warnings.warn(\"The StationXML file has version %s, ObsPy can \"\n",
      "/home/earthquakes1/software/Mageia8/anaconda3/lib/python3.9/site-packages/obspy/io/stationxml/core.py:96: UserWarning: The StationXML file has version 1, ObsPy can read versions (1.0, 1.1). Proceed with caution.\n",
      "  warnings.warn(\"The StationXML file has version %s, ObsPy can \"\n"
     ]
    },
    {
     "name": "stdout",
     "output_type": "stream",
     "text": [
      "earthquake number 1008 of 1025 done. It was 20211230_191929.a\n",
      "earthquake number 1009 of 1025 done. It was 20211229_164708.a\n",
      "earthquake number 1010 of 1025 done. It was 20211229_050809.a\n"
     ]
    },
    {
     "name": "stderr",
     "output_type": "stream",
     "text": [
      " WARNING (norm_resp): computed and reported sensitivities differ by more than 5 percent. \n",
      "\t Execution continuing.\n",
      " WARNING (norm_resp): computed and reported sensitivities differ by more than 5 percent. \n",
      "\t Execution continuing.\n",
      " WARNING (norm_resp): computed and reported sensitivities differ by more than 5 percent. \n",
      "\t Execution continuing.\n"
     ]
    },
    {
     "name": "stdout",
     "output_type": "stream",
     "text": [
      "earthquake number 1011 of 1025 done. It was 20211226_185902.a\n"
     ]
    },
    {
     "name": "stderr",
     "output_type": "stream",
     "text": [
      " WARNING (norm_resp): computed and reported sensitivities differ by more than 5 percent. \n",
      "\t Execution continuing.\n",
      " WARNING (norm_resp): computed and reported sensitivities differ by more than 5 percent. \n",
      "\t Execution continuing.\n",
      " WARNING (norm_resp): computed and reported sensitivities differ by more than 5 percent. \n",
      "\t Execution continuing.\n"
     ]
    },
    {
     "name": "stdout",
     "output_type": "stream",
     "text": [
      "earthquake number 1012 of 1025 done. It was 20211226_151511.a\n",
      "earthquake number 1013 of 1025 done. It was 20211221_013430.a\n",
      "earthquake number 1014 of 1025 done. It was 20211220_201031.a\n",
      "earthquake number 1015 of 1025 done. It was 20211220_201020.a\n",
      "earthquake number 1016 of 1025 done. It was 20211218_201416.a\n",
      "earthquake number 1017 of 1025 done. It was 20211218_051639.a\n"
     ]
    },
    {
     "name": "stderr",
     "output_type": "stream",
     "text": [
      "/home/earthquakes1/software/Mageia8/anaconda3/lib/python3.9/site-packages/obspy/io/stationxml/core.py:96: UserWarning: The StationXML file has version 1, ObsPy can read versions (1.0, 1.1). Proceed with caution.\n",
      "  warnings.warn(\"The StationXML file has version %s, ObsPy can \"\n",
      "/home/earthquakes1/software/Mageia8/anaconda3/lib/python3.9/site-packages/obspy/io/stationxml/core.py:96: UserWarning: The StationXML file has version 1, ObsPy can read versions (1.0, 1.1). Proceed with caution.\n",
      "  warnings.warn(\"The StationXML file has version %s, ObsPy can \"\n"
     ]
    },
    {
     "name": "stdout",
     "output_type": "stream",
     "text": [
      "earthquake number 1018 of 1025 done. It was 20211214_124537.a\n"
     ]
    },
    {
     "name": "stderr",
     "output_type": "stream",
     "text": [
      "/home/earthquakes1/software/Mageia8/anaconda3/lib/python3.9/site-packages/obspy/io/stationxml/core.py:96: UserWarning: The StationXML file has version 1, ObsPy can read versions (1.0, 1.1). Proceed with caution.\n",
      "  warnings.warn(\"The StationXML file has version %s, ObsPy can \"\n",
      "/home/earthquakes1/software/Mageia8/anaconda3/lib/python3.9/site-packages/obspy/io/stationxml/core.py:96: UserWarning: The StationXML file has version 1, ObsPy can read versions (1.0, 1.1). Proceed with caution.\n",
      "  warnings.warn(\"The StationXML file has version %s, ObsPy can \"\n"
     ]
    },
    {
     "name": "stdout",
     "output_type": "stream",
     "text": [
      "earthquake number 1019 of 1025 done. It was 20211207_150316.a\n",
      "earthquake number 1020 of 1025 done. It was 20211207_093938.a\n",
      "earthquake number 1021 of 1025 done. It was 20211207_031437.a\n",
      "earthquake number 1022 of 1025 done. It was 20211207_024404.a\n"
     ]
    },
    {
     "name": "stderr",
     "output_type": "stream",
     "text": [
      "/home/earthquakes1/software/Mageia8/anaconda3/lib/python3.9/site-packages/obspy/io/stationxml/core.py:96: UserWarning: The StationXML file has version 1, ObsPy can read versions (1.0, 1.1). Proceed with caution.\n",
      "  warnings.warn(\"The StationXML file has version %s, ObsPy can \"\n",
      "/home/earthquakes1/software/Mageia8/anaconda3/lib/python3.9/site-packages/obspy/io/stationxml/core.py:96: UserWarning: The StationXML file has version 1, ObsPy can read versions (1.0, 1.1). Proceed with caution.\n",
      "  warnings.warn(\"The StationXML file has version %s, ObsPy can \"\n"
     ]
    },
    {
     "name": "stdout",
     "output_type": "stream",
     "text": [
      "earthquake number 1023 of 1025 done. It was 20211206_041945.a\n",
      "earthquake number 1024 of 1025 done. It was 20211205_215109.a\n"
     ]
    }
   ],
   "source": [
    "list_tpmax = []\n",
    "list_mags = []\n",
    "list_tc= []\n",
    "list_eq = []\n",
    "eqs = {}\n",
    "count = 0\n",
    "max_radius_km = 100\n",
    "for eq_name in eq_with_data:\n",
    "    \n",
    "    d = util.filenameToDate(eq_name)\n",
    "    \n",
    "    filter_start = str(UTCDateTime(d-timedelta(seconds=1)))\n",
    "    filter_stop = str(UTCDateTime(d+timedelta(seconds=1)))\n",
    "    \n",
    "    event = cat.filter('time > ' + filter_start, 'time < ' + filter_stop)\n",
    "    # print(event)\n",
    "    data = obspy.read(root+eq_name+'/data/*/*')\n",
    "    inv = obspy.read_inventory(root+eq_name+'/station_xml_files/*')\n",
    "    try:\n",
    "        data.remove_response(inv)\n",
    "    except:\n",
    "        eq_with_data.remove(eq_name)\n",
    "        count += 1\n",
    "        continue\n",
    "    with open(root+eq_name+'/picks.pkl', 'rb') as f:\n",
    "        picks = pickle.load(f)\n",
    "    obj_name = eq_name[0:-2]\n",
    "    data_nearby = util.find_nearby_data(data, inv, event[0], max_radius_km)\n",
    "    eqs[obj_name] = earthquake(eq_name, event, data_nearby, picks, sensor_types = [])\n",
    "    eqs[obj_name].calc_Tpmax()\n",
    "    eqs[obj_name].calc_Tc()\n",
    "    list_tpmax.append(eqs[obj_name]._cached_params[\"tau_p_max\"])\n",
    "    list_tc.append(eqs[obj_name]._cached_params[\"tau_c\"])\n",
    "    list_mags.append(eqs[obj_name].event.magnitudes[0].mag)\n",
    "    list_eq.append(eq_name)\n",
    "    print('earthquake number ' + str(count) + ' of '+ str(len(eq_with_data)) + ' done. It was ' + eq_name)\n",
    "    count += 1"
   ]
  },
  {
   "cell_type": "code",
   "execution_count": 6,
   "metadata": {},
   "outputs": [],
   "source": [
    "import pandas as pd\n",
    "\n",
    "data = {\n",
    "    'magnitude': list_mags,\n",
    "    'tpmax': list_tpmax,\n",
    "    'tc': list_tc\n",
    "}\n",
    "\n",
    "df = pd.DataFrame(data, index = list_eq)\n",
    "\n",
    "df.to_pickle(root+'dataframe_lowpass_3Hz.pkl')"
   ]
  },
  {
   "cell_type": "code",
   "execution_count": null,
   "metadata": {},
   "outputs": [],
   "source": []
  }
 ],
 "metadata": {
  "kernelspec": {
   "display_name": "Python 3 (ipykernel)",
   "language": "python",
   "name": "python3"
  },
  "language_info": {
   "codemirror_mode": {
    "name": "ipython",
    "version": 3
   },
   "file_extension": ".py",
   "mimetype": "text/x-python",
   "name": "python",
   "nbconvert_exporter": "python",
   "pygments_lexer": "ipython3",
   "version": "3.9.7"
  }
 },
 "nbformat": 4,
 "nbformat_minor": 2
}
