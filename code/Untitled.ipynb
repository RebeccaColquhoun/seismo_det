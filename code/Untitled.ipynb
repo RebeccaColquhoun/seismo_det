{
 "cells": [
  {
   "cell_type": "code",
   "execution_count": 14,
   "id": "396f67bb-f1a1-4216-8468-0b3bb9473613",
   "metadata": {},
   "outputs": [],
   "source": [
    "import obspy\n",
    "for i in range(0,10):\n",
    "    obspy.read('/home/earthquakes1/homes/Rebecca/phd/data/2005_2018_global_m5/20050131_173151.a/data/BFZ/NZ.BFZ.10.HHZ__20050131T172651Z__20050131T173651Z.mseed')"
   ]
  }
 ],
 "metadata": {
  "kernelspec": {
   "display_name": "Python 3 (ipykernel)",
   "language": "python",
   "name": "python3"
  },
  "language_info": {
   "codemirror_mode": {
    "name": "ipython",
    "version": 3
   },
   "file_extension": ".py",
   "mimetype": "text/x-python",
   "name": "python",
   "nbconvert_exporter": "python",
   "pygments_lexer": "ipython3",
   "version": "3.10.8"
  }
 },
 "nbformat": 4,
 "nbformat_minor": 5
}
