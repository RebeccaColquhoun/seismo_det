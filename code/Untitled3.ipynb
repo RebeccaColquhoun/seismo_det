{
 "cells": [
  {
   "cell_type": "code",
   "execution_count": 1,
   "id": "0c3d142b-7975-4e9e-b73c-2c7d49923be0",
   "metadata": {},
   "outputs": [],
   "source": [
    "import pickle\n",
    "import os\n",
    "import geopy\n",
    "\n",
    "import pandas as pd\n",
    "import numpy as np"
   ]
  },
  {
   "cell_type": "code",
   "execution_count": 2,
   "id": "11a82184-c9da-4279-8e7e-7df5e5ff9c40",
   "metadata": {},
   "outputs": [],
   "source": [
    "list_base_folders = ['/home/earthquakes1/homes/Rebecca/phd/data/2005_2018_global_m5/',\n",
    "                     '/home/earthquakes1/homes/Rebecca/phd/data/2018_2021_global_m5/',\n",
    "                     '/home/earthquakes1/homes/Rebecca/phd/data/2019_global_m3/']\n",
    "\n",
    "filenames = ['eq_object_03s_bandpass_01_19_snr_20_blank_0_new_snr5',\n",
    "             'eq_object_03s_bandpass_01_19_snr_20_blank_005_new_snr5',\n",
    "             'eq_object_03s_bandpass_01_19_snr_20_blank_01_new_snr5',\n",
    "             'eq_object_05s_bandpass_01_19_snr_20_blank_0_new_snr5',\n",
    "             'eq_object_05s_bandpass_01_19_snr_20_blank_005_new_snr5',\n",
    "             'eq_object_05s_bandpass_01_19_snr_20_blank_01_new_snr5',\n",
    "             'eq_object_05s_bandpass_01_19_snr_20_blank_025_new_snr5',\n",
    "             'eq_object_1s_bandpass_01_19_snr_20_blank_0_new_snr5',\n",
    "             'eq_object_1s_bandpass_01_19_snr_20_blank_005_new_snr5',\n",
    "             'eq_object_1s_bandpass_01_19_snr_20_blank_01_new_snr5',\n",
    "             'eq_object_1s_bandpass_01_19_snr_20_blank_025_new_snr5',\n",
    "             'eq_object_1s_bandpass_01_19_snr_20_blank_05_new_snr5',\n",
    "             'eq_object_4s_bandpass_01_19_snr_20_blank_0_new_snr5',\n",
    "             'eq_object_4s_bandpass_01_19_snr_20_blank_005_new_snr5',\n",
    "             'eq_object_4s_bandpass_01_19_snr_20_blank_01_new_snr5',\n",
    "             'eq_object_4s_bandpass_01_19_snr_20_blank_025_new_snr5',\n",
    "             'eq_object_4s_bandpass_01_19_snr_20_blank_05_new_snr5']\n",
    "\n",
    "filenames = ['eq_object_03s_bandpass_01_19_snr_20_blank_0_new_snr20',\n",
    "             'eq_object_03s_bandpass_01_19_snr_20_blank_005_new_snr20',\n",
    "             'eq_object_03s_bandpass_01_19_snr_20_blank_01_new_snr20',\n",
    "             'eq_object_05s_bandpass_01_19_snr_20_blank_0_new_snr20',\n",
    "             'eq_object_05s_bandpass_01_19_snr_20_blank_005_new_snr20',\n",
    "             'eq_object_05s_bandpass_01_19_snr_20_blank_01_new_snr20',\n",
    "             'eq_object_05s_bandpass_01_19_snr_20_blank_025_new_snr20',\n",
    "             'eq_object_1s_bandpass_01_19_snr_20_blank_0_new_snr20',\n",
    "             'eq_object_1s_bandpass_01_19_snr_20_blank_005_new_snr20',\n",
    "             'eq_object_1s_bandpass_01_19_snr_20_blank_01_new_snr20',\n",
    "             'eq_object_1s_bandpass_01_19_snr_20_blank_025_new_snr20',\n",
    "             'eq_object_1s_bandpass_01_19_snr_20_blank_05_new_snr20',\n",
    "             'eq_object_4s_bandpass_01_19_snr_20_blank_0_new_snr20',\n",
    "             'eq_object_4s_bandpass_01_19_snr_20_blank_005_new_snr20',\n",
    "             'eq_object_4s_bandpass_01_19_snr_20_blank_01_new_snr20',\n",
    "             'eq_object_4s_bandpass_01_19_snr_20_blank_025_new_snr20',\n",
    "             'eq_object_4s_bandpass_01_19_snr_20_blank_05_new_snr20']"
   ]
  },
  {
   "cell_type": "code",
   "execution_count": null,
   "id": "e17d8516-67a4-4eb7-9f7a-309f4e7b9cf2",
   "metadata": {},
   "outputs": [],
   "source": []
  },
  {
   "cell_type": "code",
   "execution_count": 17,
   "id": "c2f36fc6-7fce-4502-8d72-19bbb10c482f",
   "metadata": {},
   "outputs": [
    {
     "name": "stdout",
     "output_type": "stream",
     "text": [
      "eq_object_03s_bandpass_01_19_snr_20_blank_0_new_snr20\n",
      "/home/earthquakes1/homes/Rebecca/phd/data/2005_2018_global_m5/\n",
      "/home/earthquakes1/homes/Rebecca/phd/data/2018_2021_global_m5/\n",
      "/home/earthquakes1/homes/Rebecca/phd/data/2019_global_m3/\n"
     ]
    }
   ],
   "source": [
    "hypocenter = 0\n",
    "for fn in filenames[0:1]:\n",
    "    print(fn)\n",
    "    for base_folder in list_base_folders:\n",
    "        print(base_folder)\n",
    "        folders = os.listdir(base_folder)\n",
    "        for eq_no in range(0, len(folders)):\n",
    "            # start = time.perf_counter()\n",
    "            # print(base_folder, folders[eq_no], fn)\n",
    "            if os.path.exists(base_folder + folders[eq_no] + '/' + fn + '.pkl'):\n",
    "                with open(base_folder + folders[eq_no] + '/' + fn + '.pkl', 'rb') as picklefile:\n",
    "                    eq = pickle.load(picklefile)\n",
    "                    location = None\n",
    "                    for origin in eq.event.origins:\n",
    "                        if origin.depth_type is not None:\n",
    "                            print(origin.depth_type)\n",
    "                        if origin.depth_type == 'hypocenter':\n",
    "                            hypocenter += 1\n",
    "                    if eq.event.magnitudes[0].mag > 6.0:\n",
    "                        break"
   ]
  },
  {
   "cell_type": "code",
   "execution_count": 21,
   "id": "6cae8882-f047-4fb3-a82d-b6117a6c8672",
   "metadata": {},
   "outputs": [
    {
     "data": {
      "text/plain": [
       "Event:\t2019-01-20T01:32:51.850000Z | -30.071,  -71.420 | 6.7  mww\n",
       "\n",
       "\t            resource_id: ResourceIdentifier(id=\"smi:service.iris.edu/fdsnws/event/1/query?eventid=10997608\")\n",
       "\t             event_type: 'earthquake'\n",
       "\t    preferred_origin_id: ResourceIdentifier(id=\"smi:service.iris.edu/fdsnws/event/1/query?originid=36733336\")\n",
       "\t preferred_magnitude_id: ResourceIdentifier(id=\"smi:service.iris.edu/fdsnws/event/1/query?magnitudeid=192469959\")\n",
       "\t                   ---------\n",
       "\t     event_descriptions: 1 Elements\n",
       "\t                origins: 1 Elements\n",
       "\t             magnitudes: 1 Elements"
      ]
     },
     "execution_count": 21,
     "metadata": {},
     "output_type": "execute_result"
    }
   ],
   "source": [
    "eq.event"
   ]
  },
  {
   "cell_type": "code",
   "execution_count": null,
   "id": "91b08b4f-b895-453c-b550-72b1ae6e48b7",
   "metadata": {},
   "outputs": [],
   "source": []
  }
 ],
 "metadata": {
  "kernelspec": {
   "display_name": "Python 3 (ipykernel)",
   "language": "python",
   "name": "python3"
  },
  "language_info": {
   "codemirror_mode": {
    "name": "ipython",
    "version": 3
   },
   "file_extension": ".py",
   "mimetype": "text/x-python",
   "name": "python",
   "nbconvert_exporter": "python",
   "pygments_lexer": "ipython3",
   "version": "3.10.11"
  }
 },
 "nbformat": 4,
 "nbformat_minor": 5
}
