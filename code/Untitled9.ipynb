{
 "cells": [
  {
   "cell_type": "code",
   "execution_count": 1,
   "id": "8f37db33",
   "metadata": {},
   "outputs": [],
   "source": [
    "import matplotlib.pyplot as plt"
   ]
  },
  {
   "cell_type": "code",
   "execution_count": 2,
   "id": "2365e567",
   "metadata": {},
   "outputs": [],
   "source": [
    "n = [50,100,150,200]\n",
    "t_plot = [1.5262251829262823, 1.6235659369267523, 1.0465062099974602, 1.5861638311762363]\n",
    "t_try = [0.5414930190891027, 0.4773346281144768, 1.1852102980483323, 1.240167373092845]\n",
    "t_os = [0.43598435283638537, 0.47607959201559424, 1.5399954079184681, 1.2334624009672552]"
   ]
  },
  {
   "cell_type": "code",
   "execution_count": 3,
   "id": "69ab7b79",
   "metadata": {},
   "outputs": [
    {
     "data": {
      "text/plain": [
       "[<matplotlib.lines.Line2D at 0x7fd856aee7d0>]"
      ]
     },
     "execution_count": 3,
     "metadata": {},
     "output_type": "execute_result"
    },
    {
     "data": {
      "image/png": "[encoded data removed]",
      "text/plain": [
       "<Figure size 432x288 with 1 Axes>"
      ]
     },
     "metadata": {
      "needs_background": "light"
     },
     "output_type": "display_data"
    }
   ],
   "source": [
    "plt.plot(n, t_plot)\n",
    "plt.plot(n, t_try)\n",
    "plt.plot(n, t_os)"
   ]
  },
  {
   "cell_type": "code",
   "execution_count": 5,
   "id": "a14b0783",
   "metadata": {},
   "outputs": [
    {
     "name": "stdout",
     "output_type": "stream",
     "text": [
      "8.136499673128128e-05\n"
     ]
    }
   ],
   "source": [
    "import time\n",
    "import random \n",
    "start = time.perf_counter()\n",
    "for _ in range(0, 50):\n",
    "    random.randint(0, 100)\n",
    "stop = time.perf_counter()\n",
    "print(stop-start)"
   ]
  },
  {
   "cell_type": "code",
   "execution_count": 10,
   "id": "9c9bf62c",
   "metadata": {},
   "outputs": [],
   "source": [
    "import pickle\n",
    "import os"
   ]
  },
  {
   "cell_type": "code",
   "execution_count": 11,
   "id": "ad8bde29",
   "metadata": {},
   "outputs": [],
   "source": [
    "folders = os.listdir('/home/earthquakes1/homes/Rebecca/phd/data/2019_global_m3/')"
   ]
  },
  {
   "cell_type": "code",
   "execution_count": 13,
   "id": "18faa9ed",
   "metadata": {},
   "outputs": [],
   "source": [
    "for eq_no in range(0, len(folders)):\n",
    "    try:\n",
    "        with open('/home/earthquakes1/homes/Rebecca/phd/data/2019_global_m3/'+folders[eq_no]+'/eq_object_1s_bandpass_01_19_snr_20.pkl', 'rb') as picklefile:\n",
    "            eq = pickle.load(picklefile)\n",
    "        break\n",
    "    except:\n",
    "        continue"
   ]
  },
  {
   "cell_type": "code",
   "execution_count": 15,
   "id": "5acd47f7",
   "metadata": {},
   "outputs": [
    {
     "data": {
      "text/plain": [
       "9 Trace(s) in Stream:\n",
       "CX.HMBCX..HHE | 2019-01-31T19:44:44.679999Z - 2019-01-31T19:54:50.669999Z | 100.0 Hz, 60600 samples\n",
       "CX.HMBCX..HHN | 2019-01-31T19:44:45.679999Z - 2019-01-31T19:54:52.669999Z | 100.0 Hz, 60700 samples\n",
       "CX.HMBCX..HHZ | 2019-01-31T19:44:48.679999Z - 2019-01-31T19:54:51.669999Z | 100.0 Hz, 60300 samples\n",
       "CX.PB01..HHE  | 2019-01-31T19:44:45.158393Z - 2019-01-31T19:54:55.628393Z | 100.0 Hz, 61048 samples\n",
       "CX.PB01..HHN  | 2019-01-31T19:44:43.958393Z - 2019-01-31T19:54:50.028393Z | 100.0 Hz, 60608 samples\n",
       "CX.PB01..HHZ  | 2019-01-31T19:44:46.698393Z - 2019-01-31T19:54:54.388393Z | 100.0 Hz, 60770 samples\n",
       "CX.PB08..HHE  | 2019-01-31T19:44:46.698393Z - 2019-01-31T19:54:54.838393Z | 100.0 Hz, 60815 samples\n",
       "CX.PB08..HHN  | 2019-01-31T19:44:47.448394Z - 2019-01-31T19:54:55.748394Z | 100.0 Hz, 60831 samples\n",
       "CX.PB08..HHZ  | 2019-01-31T19:44:44.298393Z - 2019-01-31T19:54:50.558393Z | 100.0 Hz, 60627 samples"
      ]
     },
     "execution_count": 15,
     "metadata": {},
     "output_type": "execute_result"
    }
   ],
   "source": [
    "eq.data"
   ]
  },
  {
   "cell_type": "code",
   "execution_count": 17,
   "id": "a0af1014",
   "metadata": {},
   "outputs": [],
   "source": [
    "delattr(eq, 'data')"
   ]
  },
  {
   "cell_type": "code",
   "execution_count": 22,
   "id": "330e2769",
   "metadata": {},
   "outputs": [],
   "source": [
    "import numpy as np"
   ]
  },
  {
   "cell_type": "code",
   "execution_count": 23,
   "id": "86371a38",
   "metadata": {},
   "outputs": [
    {
     "data": {
      "text/plain": [
       "array([   0,    1,    2, ..., 8305, 8306, 8307])"
      ]
     },
     "execution_count": 23,
     "metadata": {},
     "output_type": "execute_result"
    }
   ],
   "source": [
    "np.arange(0, len(folders),1)"
   ]
  },
  {
   "cell_type": "code",
   "execution_count": 2,
   "id": "3a3bc46f",
   "metadata": {},
   "outputs": [],
   "source": [
    "import pickle\n",
    "import os"
   ]
  },
  {
   "cell_type": "code",
   "execution_count": 24,
   "id": "691c0a2c",
   "metadata": {},
   "outputs": [
    {
     "data": {
      "text/plain": [
       "'20190131_194949.a'"
      ]
     },
     "execution_count": 24,
     "metadata": {},
     "output_type": "execute_result"
    }
   ],
   "source": [
    "folders[0]"
   ]
  },
  {
   "cell_type": "code",
   "execution_count": 3,
   "id": "2838ad99",
   "metadata": {},
   "outputs": [],
   "source": [
    "folders = os.listdir('/home/earthquakes1/homes/Rebecca/phd/data/2019_global_m3/')"
   ]
  },
  {
   "cell_type": "code",
   "execution_count": 18,
   "id": "e594f7cc",
   "metadata": {},
   "outputs": [
    {
     "data": {
      "text/plain": [
       "'eq_object_4s_bandpass_01_19_snr_20_blank_05.pkl'"
      ]
     },
     "execution_count": 18,
     "metadata": {},
     "output_type": "execute_result"
    }
   ],
   "source": [
    "file"
   ]
  },
  {
   "cell_type": "code",
   "execution_count": null,
   "id": "80734488",
   "metadata": {},
   "outputs": [],
   "source": []
  },
  {
   "cell_type": "code",
   "execution_count": 28,
   "id": "b44e48e6",
   "metadata": {},
   "outputs": [
    {
     "name": "stdout",
     "output_type": "stream",
     "text": [
      "2912.535264831\n",
      "2912.535405466\n",
      "2912.550426795\n",
      "2912.550445879\n",
      "2912.550448453\n",
      "2912.550450987\n",
      "2912.550453166\n",
      "2912.56522553\n",
      "3 Trace(s) in Stream:\n",
      "G.SANVU.00.HHE | 2018-12-31T23:58:53.979998Z - 2019-01-01T00:09:14.839998Z | 100.0 Hz, 62087 samples\n",
      "G.SANVU.00.HHN | 2018-12-31T23:58:46.479998Z - 2019-01-01T00:09:11.429998Z | 100.0 Hz, 62496 samples\n",
      "G.SANVU.00.HHZ | 2018-12-31T23:59:04.539998Z - 2019-01-01T00:09:07.649998Z | 100.0 Hz, 60312 samples\n",
      "done\n",
      "2912.927346904\n",
      "2912.927355605\n",
      "2912.944142588\n",
      "3 Trace(s) in Stream:\n",
      "G.SANVU.00.HHE | 2018-12-31T23:58:53.979998Z - 2019-01-01T00:09:14.839998Z | 100.0 Hz, 62087 samples\n",
      "G.SANVU.00.HHN | 2018-12-31T23:58:46.479998Z - 2019-01-01T00:09:11.429998Z | 100.0 Hz, 62496 samples\n",
      "G.SANVU.00.HHZ | 2018-12-31T23:59:04.539998Z - 2019-01-01T00:09:07.649998Z | 100.0 Hz, 60312 samples\n",
      "done\n",
      "2913.165631992\n",
      "2913.165640007\n",
      "2913.174506206\n",
      "3 Trace(s) in Stream:\n",
      "G.SANVU.00.HHE | 2018-12-31T23:58:53.979998Z - 2019-01-01T00:09:14.839998Z | 100.0 Hz, 62087 samples\n",
      "G.SANVU.00.HHN | 2018-12-31T23:58:46.479998Z - 2019-01-01T00:09:11.429998Z | 100.0 Hz, 62496 samples\n",
      "G.SANVU.00.HHZ | 2018-12-31T23:59:04.539998Z - 2019-01-01T00:09:07.649998Z | 100.0 Hz, 60312 samples\n",
      "done\n",
      "2913.405452362\n",
      "2913.405459658\n",
      "2913.420925888\n",
      "3 Trace(s) in Stream:\n",
      "G.SANVU.00.HHE | 2018-12-31T23:58:53.979998Z - 2019-01-01T00:09:14.839998Z | 100.0 Hz, 62087 samples\n",
      "G.SANVU.00.HHN | 2018-12-31T23:58:46.479998Z - 2019-01-01T00:09:11.429998Z | 100.0 Hz, 62496 samples\n",
      "G.SANVU.00.HHZ | 2018-12-31T23:59:04.539998Z - 2019-01-01T00:09:07.649998Z | 100.0 Hz, 60312 samples\n",
      "done\n",
      "2913.713692153\n",
      "2913.713713307\n",
      "2913.729801239\n",
      "3 Trace(s) in Stream:\n",
      "G.SANVU.00.HHE | 2018-12-31T23:58:53.979998Z - 2019-01-01T00:09:14.839998Z | 100.0 Hz, 62087 samples\n",
      "G.SANVU.00.HHN | 2018-12-31T23:58:46.479998Z - 2019-01-01T00:09:11.429998Z | 100.0 Hz, 62496 samples\n",
      "G.SANVU.00.HHZ | 2018-12-31T23:59:04.539998Z - 2019-01-01T00:09:07.649998Z | 100.0 Hz, 60312 samples\n",
      "done\n",
      "2913.987016865\n",
      "2913.987024005\n",
      "2914.003737794\n",
      "3 Trace(s) in Stream:\n",
      "G.SANVU.00.HHE | 2018-12-31T23:58:53.979998Z - 2019-01-01T00:09:14.839998Z | 100.0 Hz, 62087 samples\n",
      "G.SANVU.00.HHN | 2018-12-31T23:58:46.479998Z - 2019-01-01T00:09:11.429998Z | 100.0 Hz, 62496 samples\n",
      "G.SANVU.00.HHZ | 2018-12-31T23:59:04.539998Z - 2019-01-01T00:09:07.649998Z | 100.0 Hz, 60312 samples\n",
      "done\n",
      "2914.344831938\n",
      "2914.344838287\n",
      "2914.362603139\n",
      "3 Trace(s) in Stream:\n",
      "G.SANVU.00.HHE | 2018-12-31T23:58:53.979998Z - 2019-01-01T00:09:14.839998Z | 100.0 Hz, 62087 samples\n",
      "G.SANVU.00.HHN | 2018-12-31T23:58:46.479998Z - 2019-01-01T00:09:11.429998Z | 100.0 Hz, 62496 samples\n",
      "G.SANVU.00.HHZ | 2018-12-31T23:59:04.539998Z - 2019-01-01T00:09:07.649998Z | 100.0 Hz, 60312 samples\n",
      "done\n",
      "2914.664092198\n",
      "2914.664099452\n",
      "2914.685631887\n",
      "3 Trace(s) in Stream:\n",
      "G.SANVU.00.HHE | 2018-12-31T23:58:53.979998Z - 2019-01-01T00:09:14.839998Z | 100.0 Hz, 62087 samples\n",
      "G.SANVU.00.HHN | 2018-12-31T23:58:46.479998Z - 2019-01-01T00:09:11.429998Z | 100.0 Hz, 62496 samples\n",
      "G.SANVU.00.HHZ | 2018-12-31T23:59:04.539998Z - 2019-01-01T00:09:07.649998Z | 100.0 Hz, 60312 samples\n",
      "done\n",
      "2914.907137338\n",
      "2914.907157353\n",
      "2914.921535841\n",
      "3 Trace(s) in Stream:\n",
      "G.SANVU.00.HHE | 2018-12-31T23:58:53.979998Z - 2019-01-01T00:09:14.839998Z | 100.0 Hz, 62087 samples\n",
      "G.SANVU.00.HHN | 2018-12-31T23:58:46.479998Z - 2019-01-01T00:09:11.429998Z | 100.0 Hz, 62496 samples\n",
      "G.SANVU.00.HHZ | 2018-12-31T23:59:04.539998Z - 2019-01-01T00:09:07.649998Z | 100.0 Hz, 60312 samples\n",
      "done\n",
      "2915.240399736\n",
      "2915.240407203\n",
      "2915.255359047\n",
      "3 Trace(s) in Stream:\n",
      "G.SANVU.00.HHE | 2018-12-31T23:58:53.979998Z - 2019-01-01T00:09:14.839998Z | 100.0 Hz, 62087 samples\n",
      "G.SANVU.00.HHN | 2018-12-31T23:58:46.479998Z - 2019-01-01T00:09:11.429998Z | 100.0 Hz, 62496 samples\n",
      "G.SANVU.00.HHZ | 2018-12-31T23:59:04.539998Z - 2019-01-01T00:09:07.649998Z | 100.0 Hz, 60312 samples\n",
      "done\n",
      "2915.549748774\n",
      "2915.549757183\n",
      "2915.565684222\n",
      "3 Trace(s) in Stream:\n",
      "G.SANVU.00.HHE | 2018-12-31T23:58:53.979998Z - 2019-01-01T00:09:14.839998Z | 100.0 Hz, 62087 samples\n",
      "G.SANVU.00.HHN | 2018-12-31T23:58:46.479998Z - 2019-01-01T00:09:11.429998Z | 100.0 Hz, 62496 samples\n",
      "G.SANVU.00.HHZ | 2018-12-31T23:59:04.539998Z - 2019-01-01T00:09:07.649998Z | 100.0 Hz, 60312 samples\n",
      "done\n",
      "2915.826714375\n",
      "2915.826721838\n",
      "2915.835544123\n",
      "3 Trace(s) in Stream:\n",
      "G.SANVU.00.HHE | 2018-12-31T23:58:53.979998Z - 2019-01-01T00:09:14.839998Z | 100.0 Hz, 62087 samples\n",
      "G.SANVU.00.HHN | 2018-12-31T23:58:46.479998Z - 2019-01-01T00:09:11.429998Z | 100.0 Hz, 62496 samples\n",
      "G.SANVU.00.HHZ | 2018-12-31T23:59:04.539998Z - 2019-01-01T00:09:07.649998Z | 100.0 Hz, 60312 samples\n",
      "done\n",
      "2916.141463307\n",
      "2916.141470416\n",
      "2916.158003116\n",
      "3 Trace(s) in Stream:\n",
      "G.SANVU.00.HHE | 2018-12-31T23:58:53.979998Z - 2019-01-01T00:09:14.839998Z | 100.0 Hz, 62087 samples\n",
      "G.SANVU.00.HHN | 2018-12-31T23:58:46.479998Z - 2019-01-01T00:09:11.429998Z | 100.0 Hz, 62496 samples\n",
      "G.SANVU.00.HHZ | 2018-12-31T23:59:04.539998Z - 2019-01-01T00:09:07.649998Z | 100.0 Hz, 60312 samples\n",
      "done\n",
      "2916.463005849\n",
      "2916.463013852\n",
      "2916.481275104\n",
      "3 Trace(s) in Stream:\n",
      "G.SANVU.00.HHE | 2018-12-31T23:58:53.979998Z - 2019-01-01T00:09:14.839998Z | 100.0 Hz, 62087 samples\n",
      "G.SANVU.00.HHN | 2018-12-31T23:58:46.479998Z - 2019-01-01T00:09:11.429998Z | 100.0 Hz, 62496 samples\n",
      "G.SANVU.00.HHZ | 2018-12-31T23:59:04.539998Z - 2019-01-01T00:09:07.649998Z | 100.0 Hz, 60312 samples\n",
      "done\n",
      "2916.850374131\n",
      "2916.850380912\n",
      "2916.857212497\n",
      "3 Trace(s) in Stream:\n",
      "G.SANVU.00.HHE | 2018-12-31T23:58:53.979998Z - 2019-01-01T00:09:14.839998Z | 100.0 Hz, 62087 samples\n",
      "G.SANVU.00.HHN | 2018-12-31T23:58:46.479998Z - 2019-01-01T00:09:11.429998Z | 100.0 Hz, 62496 samples\n",
      "G.SANVU.00.HHZ | 2018-12-31T23:59:04.539998Z - 2019-01-01T00:09:07.649998Z | 100.0 Hz, 60312 samples\n",
      "done\n",
      "2917.026646139\n",
      "2917.02665296\n",
      "2917.036564181\n",
      "3 Trace(s) in Stream:\n",
      "G.SANVU.00.HHE | 2018-12-31T23:58:53.979998Z - 2019-01-01T00:09:14.839998Z | 100.0 Hz, 62087 samples\n",
      "G.SANVU.00.HHN | 2018-12-31T23:58:46.479998Z - 2019-01-01T00:09:11.429998Z | 100.0 Hz, 62496 samples\n",
      "G.SANVU.00.HHZ | 2018-12-31T23:59:04.539998Z - 2019-01-01T00:09:07.649998Z | 100.0 Hz, 60312 samples\n",
      "done\n",
      "2917.379007562\n",
      "2917.379024196\n",
      "2917.393527791\n",
      "3 Trace(s) in Stream:\n",
      "G.SANVU.00.HHE | 2018-12-31T23:58:53.979998Z - 2019-01-01T00:09:14.839998Z | 100.0 Hz, 62087 samples\n",
      "G.SANVU.00.HHN | 2018-12-31T23:58:46.479998Z - 2019-01-01T00:09:11.429998Z | 100.0 Hz, 62496 samples\n",
      "G.SANVU.00.HHZ | 2018-12-31T23:59:04.539998Z - 2019-01-01T00:09:07.649998Z | 100.0 Hz, 60312 samples\n",
      "done\n",
      "2917.693172683\n",
      "2917.693179679\n",
      "2917.710469638\n",
      "3 Trace(s) in Stream:\n",
      "G.SANVU.00.HHE | 2018-12-31T23:58:53.979998Z - 2019-01-01T00:09:14.839998Z | 100.0 Hz, 62087 samples\n",
      "G.SANVU.00.HHN | 2018-12-31T23:58:46.479998Z - 2019-01-01T00:09:11.429998Z | 100.0 Hz, 62496 samples\n",
      "G.SANVU.00.HHZ | 2018-12-31T23:59:04.539998Z - 2019-01-01T00:09:07.649998Z | 100.0 Hz, 60312 samples\n",
      "done\n",
      "2917.961087097\n",
      "2917.961099386\n",
      "2917.968264436\n",
      "3 Trace(s) in Stream:\n",
      "G.SANVU.00.HHE | 2018-12-31T23:58:53.979998Z - 2019-01-01T00:09:14.839998Z | 100.0 Hz, 62087 samples\n",
      "G.SANVU.00.HHN | 2018-12-31T23:58:46.479998Z - 2019-01-01T00:09:11.429998Z | 100.0 Hz, 62496 samples\n",
      "G.SANVU.00.HHZ | 2018-12-31T23:59:04.539998Z - 2019-01-01T00:09:07.649998Z | 100.0 Hz, 60312 samples\n",
      "done\n",
      "2918.295131104\n",
      "2918.295137791\n",
      "2918.312899995\n",
      "3 Trace(s) in Stream:\n",
      "G.SANVU.00.HHE | 2018-12-31T23:58:53.979998Z - 2019-01-01T00:09:14.839998Z | 100.0 Hz, 62087 samples\n",
      "G.SANVU.00.HHN | 2018-12-31T23:58:46.479998Z - 2019-01-01T00:09:11.429998Z | 100.0 Hz, 62496 samples\n",
      "G.SANVU.00.HHZ | 2018-12-31T23:59:04.539998Z - 2019-01-01T00:09:07.649998Z | 100.0 Hz, 60312 samples\n",
      "done\n",
      "2918.582013262\n",
      "2918.582020917\n",
      "2918.598528692\n",
      "3 Trace(s) in Stream:\n",
      "G.SANVU.00.HHE | 2018-12-31T23:58:53.979998Z - 2019-01-01T00:09:14.839998Z | 100.0 Hz, 62087 samples\n",
      "G.SANVU.00.HHN | 2018-12-31T23:58:46.479998Z - 2019-01-01T00:09:11.429998Z | 100.0 Hz, 62496 samples\n",
      "G.SANVU.00.HHZ | 2018-12-31T23:59:04.539998Z - 2019-01-01T00:09:07.649998Z | 100.0 Hz, 60312 samples\n",
      "done\n"
     ]
    }
   ],
   "source": [
    "import time\n",
    "print(time.perf_counter())\n",
    "for eq_no in [0]:#range(0, len(folders)):\n",
    "    print(time.perf_counter())\n",
    "    try:\n",
    "        for file in os.listdir('/home/earthquakes1/homes/Rebecca/phd/data/2019_global_m3/20190101_000405.a'):#+folders[eq_no]):\n",
    "            print(time.perf_counter())\n",
    "            if file.endswith(\".pkl\") and file.startswith('eq_object'):\n",
    "                print(time.perf_counter())\n",
    "                with open('/home/earthquakes1/homes/Rebecca/phd/data/2019_global_m3/20190101_000405.a/'+file, 'rb') as picklefile:\n",
    "                    print(time.perf_counter())\n",
    "                    eq = pickle.load(picklefile)\n",
    "                    print(eq.data)\n",
    "                delattr(eq,'data')\n",
    "                with open('/home/earthquakes1/homes/Rebecca/phd/data/2019_global_m3/20190101_000405.a/'+file, 'wb') as picklefile:\n",
    "                    pickle.dump(eq, picklefile)\n",
    "                print('done')\n",
    "    except Exception:\n",
    "        print('except')\n",
    "        continue"
   ]
  },
  {
   "cell_type": "code",
   "execution_count": 26,
   "id": "c3808e16",
   "metadata": {},
   "outputs": [
    {
     "data": {
      "text/plain": [
       "{'event_stats': {'name': '20190131_194949.a',\n",
       "  'eq_lat': -20.4865,\n",
       "  'eq_long': -69.0165,\n",
       "  'eq_depth': 102120.0,\n",
       "  'eq_mag': 4.2,\n",
       "  'eq_mag_type': 'mb'},\n",
       " 'event': Event:\t2019-01-31T19:49:49.660000Z | -20.486,  -69.016 | 4.2  mb\n",
       "\n",
       "\t            resource_id: ResourceIdentifier(id=\"smi:service.iris.edu/fdsnws/event/1/query?eventid=11001567\")\n",
       "\t             event_type: 'earthquake'\n",
       "\t    preferred_origin_id: ResourceIdentifier(id=\"smi:service.iris.edu/fdsnws/event/1/query?originid=36907036\")\n",
       "\t preferred_magnitude_id: ResourceIdentifier(id=\"smi:service.iris.edu/fdsnws/event/1/query?magnitudeid=192541937\")\n",
       "\t                   ---------\n",
       "\t     event_descriptions: 1 Elements\n",
       "\t                origins: 1 Elements\n",
       "\t             magnitudes: 1 Elements,\n",
       " 'data_stats': {'picks': {'CX.PB08.': 2019-01-31T19:50:06.058394Z,\n",
       "   'CX.PB01.': 2019-01-31T19:50:08.498393Z,\n",
       "   'CX.HMBCX.': 2019-01-31T19:50:09.489999Z},\n",
       "  'sensor_types': ['VEL',\n",
       "   'VEL',\n",
       "   'VEL',\n",
       "   'VEL',\n",
       "   'VEL',\n",
       "   'VEL',\n",
       "   'VEL',\n",
       "   'VEL',\n",
       "   'VEL']},\n",
       " 'inv': Inventory created at 2021-10-28T15:56:51.413805Z\n",
       "\tSending institution: SeisComP (GFZ)\n",
       "\tContains:\n",
       "\t\tNetworks (3):\n",
       "\t\t\tCX (3x)\n",
       "\t\tStations (3):\n",
       "\t\t\tCX.HMBCX (IPOC Station Humberstone, Chile)\n",
       "\t\t\tCX.PB01 (IPOC Station Huatacondo, Chile)\n",
       "\t\t\tCX.PB08 (IPOC Station Macaya, Chile)\n",
       "\t\tChannels (9):\n",
       "\t\t\tCX.HMBCX..HHZ, CX.HMBCX..HHN, CX.HMBCX..HHE, CX.PB01..HHZ, \n",
       "\t\t\tCX.PB01..HHN, CX.PB01..HHE, CX.PB08..HHZ, CX.PB08..HHN, \n",
       "\t\t\tCX.PB08..HHE,\n",
       " 'calculated_params': {'iv2': [[9.924117644452447e-10, 98.55508587916829],\n",
       "   [5.695135479130604e-09, 80.20916870963086],\n",
       "   [7.620385895086197e-09, 40.86747298573802]],\n",
       "  'tau_c': [0.2682018971852354, 0.1908354211956681, 0.31900362525925935],\n",
       "  'tau_p': [array([0.        , 0.01595446, 0.03253336, ..., 4.57211618, 4.55904055,\n",
       "          4.54593945]),\n",
       "   array([0.        , 0.01558898, 0.03181872, ..., 4.96500506, 4.96464423,\n",
       "          4.964326  ]),\n",
       "   array([0.        , 0.01629953, 0.03328788, ..., 4.62944402, 4.62926846,\n",
       "          4.62903098])],\n",
       "  'tau_p_max': [0.5365772330060177, 0.4431244896546434, 0.4023951983845566]}}"
      ]
     },
     "execution_count": 26,
     "metadata": {},
     "output_type": "execute_result"
    }
   ],
   "source": [
    "eq.__dict__"
   ]
  },
  {
   "cell_type": "code",
   "execution_count": 12,
   "id": "e984b56e",
   "metadata": {},
   "outputs": [],
   "source": [
    "                with open('/home/earthquakes1/homes/Rebecca/phd/data/2019_global_m3/'+folders[eq_no]+'/'+file, 'rb') as picklefile:\n",
    "                    eq = pickle.load(picklefile)"
   ]
  },
  {
   "cell_type": "code",
   "execution_count": 13,
   "id": "e705c2eb",
   "metadata": {},
   "outputs": [
    {
     "data": {
      "text/plain": [
       "<earthquake.Earthquake at 0x7f12382a7df0>"
      ]
     },
     "execution_count": 13,
     "metadata": {},
     "output_type": "execute_result"
    }
   ],
   "source": []
  },
  {
   "cell_type": "code",
   "execution_count": 7,
   "id": "f5b821c1",
   "metadata": {},
   "outputs": [
    {
     "data": {
      "text/plain": [
       "['data',\n",
       " 'station_xml_files',\n",
       " 'picks.pkl',\n",
       " 'eq_object.pkl',\n",
       " 'eq_object_1s.pkl',\n",
       " 'eq_object_1s_bandpass.pkl',\n",
       " 'eq_object_1s_highpass.pkl',\n",
       " 'eq_object_4s_highpass.pkl',\n",
       " 'eq_object_4s_bandpass.pkl',\n",
       " 'eq_object_1s_bandpass_01_19.pkl',\n",
       " 'eq_object_1s_bandpass_01_19_snr_20.pkl',\n",
       " 'eq_object_1s_bandpass_01_19_snr_20_blank_0.pkl',\n",
       " 'eq_object_2s_bandpass_01_19_snr_20.pkl',\n",
       " 'eq_object_1s_bandpass_01_19_snr_20_blank_005.pkl',\n",
       " 'eq_object_3s_bandpass_01_19_snr_20.pkl',\n",
       " 'eq_object_1s_bandpass_01_19_snr_20_blank_01.pkl',\n",
       " 'eq_object_4s_bandpass_01_19_snr_20.pkl',\n",
       " 'eq_object_1s_bandpass_01_19_snr_20_blank_025.pkl',\n",
       " 'eq_object_1s_bandpass_01_19_snr_20_blank_05.pkl',\n",
       " 'eq_object_4s_bandpass_01_19_snr_20_blank_0.pkl',\n",
       " 'eq_object_4s_bandpass_01_19_snr_20_blank_005.pkl',\n",
       " 'eq_object_4s_bandpass_01_19_snr_20_blank_01.pkl',\n",
       " 'eq_object_4s_bandpass_01_19_snr_20_blank_025.pkl',\n",
       " 'eq_object_4s_bandpass_01_19_snr_20_blank_05.pkl']"
      ]
     },
     "execution_count": 7,
     "metadata": {},
     "output_type": "execute_result"
    }
   ],
   "source": [
    "os.listdir('/home/earthquakes1/homes/Rebecca/phd/data/2019_global_m3/'+folders[eq_no])"
   ]
  },
  {
   "cell_type": "code",
   "execution_count": 9,
   "id": "51f47372",
   "metadata": {},
   "outputs": [
    {
     "data": {
      "text/plain": [
       "True"
      ]
     },
     "execution_count": 9,
     "metadata": {},
     "output_type": "execute_result"
    }
   ],
   "source": [
    "file.startswith('eq')"
   ]
  },
  {
   "cell_type": "code",
   "execution_count": null,
   "id": "19c39f83",
   "metadata": {},
   "outputs": [],
   "source": []
  }
 ],
 "metadata": {
  "kernelspec": {
   "display_name": "Python 3 (ipykernel)",
   "language": "python",
   "name": "python3"
  },
  "language_info": {
   "codemirror_mode": {
    "name": "ipython",
    "version": 3
   },
   "file_extension": ".py",
   "mimetype": "text/x-python",
   "name": "python",
   "nbconvert_exporter": "python",
   "pygments_lexer": "ipython3",
   "version": "3.10.4"
  }
 },
 "nbformat": 4,
 "nbformat_minor": 5
}
