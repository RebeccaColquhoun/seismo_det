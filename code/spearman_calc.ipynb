{
 "cells": [
  {
   "cell_type": "code",
   "execution_count": 1,
   "id": "9d26869c-84b2-4eb3-8a89-575a1567799d",
   "metadata": {},
   "outputs": [
    {
     "name": "stdout",
     "output_type": "stream",
     "text": [
      "\n"
     ]
    }
   ],
   "source": [
    "print('')"
   ]
  },
  {
   "cell_type": "markdown",
   "id": "b18be68c-330d-4b7d-9c9c-43c32d4a6b03",
   "metadata": {},
   "source": [
    "aim to plot change in gradient as consider changing minimum magntiude of data"
   ]
  },
  {
   "cell_type": "code",
   "execution_count": 2,
   "id": "6689b1c3-c62f-440c-8aeb-35e433640eaf",
   "metadata": {},
   "outputs": [],
   "source": [
    "import os\n",
    "import scipy\n",
    "import numpy as np\n",
    "import matplotlib.pyplot as plt\n",
    "import obspy\n",
    "import pickle\n",
    "from obspy import UTCDateTime\n",
    "from obspy.clients.fdsn import Client\n",
    "import pandas as pd\n",
    "import math\n",
    "\n",
    "import matplotlib\n",
    "matplotlib.rcParams.update({'font.size': 20})"
   ]
  },
  {
   "cell_type": "code",
   "execution_count": 3,
   "id": "9cd0d54d-a410-49d4-bc7c-3da3218f4bc3",
   "metadata": {},
   "outputs": [],
   "source": [
    "import warnings\n",
    "warnings.filterwarnings(\"ignore\")"
   ]
  },
  {
   "cell_type": "code",
   "execution_count": 4,
   "id": "f9873650-9a0d-4156-87bb-17daf6fb9016",
   "metadata": {},
   "outputs": [],
   "source": [
    "from spearman_plotting_func import *"
   ]
  },
  {
   "cell_type": "markdown",
   "id": "d21dd909-ccce-49a8-96b8-af4419701c8e",
   "metadata": {},
   "source": [
    "change magnitude limits, colors in functions file"
   ]
  },
  {
   "cell_type": "code",
   "execution_count": 5,
   "id": "c347ad75-5db6-4f2d-a02c-6adb7c5ef55c",
   "metadata": {},
   "outputs": [
    {
     "data": {
      "text/plain": [
       "\"filenames = ['eq_object_03s_bandpass_01_19_snr_20_blank_0_new',\\n              'eq_object_03s_bandpass_01_19_snr_20_blank_005_new',\\n              'eq_object_03s_bandpass_01_19_snr_20_blank_01_new']\\n\\nfilenames = ['eq_object_05s_bandpass_01_19_snr_20_blank_0_new',\\n             'eq_object_05s_bandpass_01_19_snr_20_blank_005_new', \\n             'eq_object_05s_bandpass_01_19_snr_20_blank_01_new',\\n             'eq_object_05s_bandpass_01_19_snr_20_blank_025_new',\\n             'eq_object_1s_bandpass_01_19_snr_20_blank_0_new', \\n             'eq_object_1s_bandpass_01_19_snr_20_blank_005_new',\\n             'eq_object_1s_bandpass_01_19_snr_20_blank_01_new',\\n             'eq_object_1s_bandpass_01_19_snr_20_blank_025_new',\\n             'eq_object_1s_bandpass_01_19_snr_20_blank_05_new',\\n              'eq_object_4s_bandpass_01_19_snr_20_blank_0_new',\\n              'eq_object_4s_bandpass_01_19_snr_20_blank_005_new',\\n              'eq_object_4s_bandpass_01_19_snr_20_blank_01_new',\\n              'eq_object_4s_bandpass_01_19_snr_20_blank_025_new',\\n              'eq_object_4s_bandpass_01_19_snr_20_blank_05_new']\""
      ]
     },
     "execution_count": 5,
     "metadata": {},
     "output_type": "execute_result"
    }
   ],
   "source": [
    "filenames = ['eq_object_03s_bandpass_01_19_snr_20_blank_0_new_snr20',\n",
    "            'eq_object_05s_bandpass_01_19_snr_20_blank_0_new_snr20',\n",
    "            'eq_object_1s_bandpass_01_19_snr_20_blank_0_new_snr20',\n",
    "            'eq_object_4s_bandpass_01_19_snr_20_blank_0_new_snr20']\n",
    "\n",
    "'''filenames = ['eq_object_03s_bandpass_01_19_snr_20_blank_0_new',\n",
    "              'eq_object_03s_bandpass_01_19_snr_20_blank_005_new',\n",
    "              'eq_object_03s_bandpass_01_19_snr_20_blank_01_new']\n",
    "\n",
    "filenames = ['eq_object_05s_bandpass_01_19_snr_20_blank_0_new',\n",
    "             'eq_object_05s_bandpass_01_19_snr_20_blank_005_new', \n",
    "             'eq_object_05s_bandpass_01_19_snr_20_blank_01_new',\n",
    "             'eq_object_05s_bandpass_01_19_snr_20_blank_025_new',\n",
    "             'eq_object_1s_bandpass_01_19_snr_20_blank_0_new', \n",
    "             'eq_object_1s_bandpass_01_19_snr_20_blank_005_new',\n",
    "             'eq_object_1s_bandpass_01_19_snr_20_blank_01_new',\n",
    "             'eq_object_1s_bandpass_01_19_snr_20_blank_025_new',\n",
    "             'eq_object_1s_bandpass_01_19_snr_20_blank_05_new',\n",
    "              'eq_object_4s_bandpass_01_19_snr_20_blank_0_new',\n",
    "              'eq_object_4s_bandpass_01_19_snr_20_blank_005_new',\n",
    "              'eq_object_4s_bandpass_01_19_snr_20_blank_01_new',\n",
    "              'eq_object_4s_bandpass_01_19_snr_20_blank_025_new',\n",
    "              'eq_object_4s_bandpass_01_19_snr_20_blank_05_new']'''\n"
   ]
  },
  {
   "cell_type": "code",
   "execution_count": 6,
   "id": "8e141920-01ee-4af9-a0f0-dd936c51d5b8",
   "metadata": {},
   "outputs": [
    {
     "name": "stdout",
     "output_type": "stream",
     "text": [
      "eq_object_03s_bandpass_01_19_snr_20_blank_0_new_snr20\n",
      "tp 0.4778630405451928\n",
      "pgd 0.6047804522466557\n",
      "tc 0.5547267876498921\n",
      "iv2 0.44732639520425554\n",
      "eq_object_05s_bandpass_01_19_snr_20_blank_0_new_snr20\n",
      "tp 0.524873662470791\n",
      "pgd 0.6967142268572248\n",
      "tc 0.6839633099800663\n",
      "iv2 0.546661181167167\n",
      "eq_object_1s_bandpass_01_19_snr_20_blank_0_new_snr20\n",
      "tp 0.5489707279463354\n",
      "pgd 0.7802144321382101\n",
      "tc 0.7619510224390084\n",
      "iv2 0.6636591359076717\n",
      "eq_object_4s_bandpass_01_19_snr_20_blank_0_new_snr20\n",
      "tp 0.5578552687883844\n",
      "pgd 0.8332058115795947\n",
      "tc 0.7459454767045751\n",
      "iv2 0.7945765889796864\n"
     ]
    }
   ],
   "source": [
    "%matplotlib inline\n",
    "for f in filenames:\n",
    "    print(f)\n",
    "    df = pd.read_pickle(f'/home/earthquakes1/homes/Rebecca/phd/data/results_database/{f}')\n",
    "\n",
    "    x_tp, y_tp = calc_tp_mag_lim(df, 3.)\n",
    "    x_pgd, y_pgd = calc_pgd_mag_lim(df, 3.)\n",
    "    x_tc, y_tc = calc_tc_mag_lim(df, 3.)\n",
    "    x_iv2, y_iv2 = calc_iv2_mag_lim(df, 3.)\n",
    "\n",
    "    \n",
    "    gradt, intercept, gradt_std, intercept_std = [],[],[],[]\n",
    "    pearson = []\n",
    "    spearman = []\n",
    "    spearman_p = []\n",
    "    n_l = []\n",
    "    \n",
    "    for mag_lim in magnitudes:\n",
    "        x, y = calc_tp_mag_lim(df, mag_lim)\n",
    "        gradt, intercept, gradt_std, intercept_std, pearson, spearman, spearman_p, n = calc_opt(x,y, gradt, intercept, gradt_std, intercept_std, pearson, spearman, spearman_p, n_l)\n",
    "    tp_params = [gradt, gradt_std, intercept, intercept_std,  'tp']\n",
    "    print('tp', spearman[0])\n",
    "    \n",
    "    gradt, intercept, gradt_std, intercept_std = [],[],[],[]\n",
    "    pearson = []\n",
    "    spearman = []\n",
    "    spearman_p = []\n",
    "    n_l = []\n",
    "    \n",
    "    for mag_lim in magnitudes:\n",
    "        x, y = calc_pgd_mag_lim(df, mag_lim)\n",
    "        gradt, intercept, gradt_std, intercept_std, pearson, spearman, spearman_p, n = calc_opt(x,y, gradt, intercept, gradt_std, intercept_std, pearson, spearman, spearman_p, n_l)\n",
    "    #plot_spearman_subplots(f, gradt, gradt_std, spearman, spearman_p, n, 'pgd', True)  \n",
    "    pgd_params = [gradt, gradt_std, intercept, intercept_std,  'pgd']\n",
    "    print('pgd', spearman[0])\n",
    "    \n",
    "    gradt, intercept, gradt_std, intercept_std = [],[],[],[]\n",
    "    pearson = []\n",
    "    spearman = []\n",
    "    spearman_p = []\n",
    "    n_l = []\n",
    "    \n",
    "    for mag_lim in magnitudes:\n",
    "        x, y = calc_tc_mag_lim(df, mag_lim)\n",
    "        gradt, intercept, gradt_std, intercept_std, pearson, spearman, spearman_p, n = calc_opt(x,y, gradt, intercept, gradt_std, intercept_std, pearson, spearman, spearman_p, n_l)\n",
    "    #plot_spearman_subplots(f, gradt, gradt_std, spearman, spearman_p, n, 'pgd', True)  \n",
    "    tc_params = [gradt, gradt_std, intercept, intercept_std, 'tc']\n",
    "    print('tc', spearman[0])\n",
    "    gradt, intercept, gradt_std, intercept_std = [],[],[],[]\n",
    "    pearson = []\n",
    "    spearman = []\n",
    "    spearman_p = []\n",
    "    n_l = []\n",
    "    \n",
    "    for mag_lim in magnitudes:\n",
    "        x, y = calc_iv2_mag_lim(df, mag_lim)\n",
    "        #print(len(x[y==0]))\n",
    "        gradt, intercept, gradt_std, intercept_std, pearson, spearman, spearman_p, n = calc_opt(x,y, gradt, intercept, gradt_std, intercept_std, pearson, spearman, spearman_p, n_l)\n",
    "    iv2_params = [gradt, gradt_std, intercept, intercept_std, 'iv2']\n",
    "    print('iv2', spearman[0])\n",
    "    \n",
    "    #plot_data_subplots_line([x_tp, x_pgd, x_tc, x_iv2], [y_tp, y_pgd, y_tc, y_iv2], ['tp','pgd','tc','iv2'],f, tp_params, pgd_params, tc_params, iv2_params)\n",
    "    #plot_data_subplots_all_on_one_no_n_shaded(f, tp_params, pgd_params, iv2_params, tc_params, save = True)\n",
    "    #print(tp_params[4][0], tc_params[4][0])\n",
    "    #plot_spearman_subplots(f, gradt, gradt_std, spearman, spearman_p, n, 'iv2', True) \n",
    "    \n"
   ]
  },
  {
   "cell_type": "code",
   "execution_count": null,
   "id": "02dc1563-4d6f-4bd1-9b15-5494de0f5c7b",
   "metadata": {},
   "outputs": [],
   "source": []
  }
 ],
 "metadata": {
  "kernelspec": {
   "display_name": "Python 3 (ipykernel)",
   "language": "python",
   "name": "python3"
  },
  "language_info": {
   "codemirror_mode": {
    "name": "ipython",
    "version": 3
   },
   "file_extension": ".py",
   "mimetype": "text/x-python",
   "name": "python",
   "nbconvert_exporter": "python",
   "pygments_lexer": "ipython3",
   "version": "3.10.8"
  }
 },
 "nbformat": 4,
 "nbformat_minor": 5
}
