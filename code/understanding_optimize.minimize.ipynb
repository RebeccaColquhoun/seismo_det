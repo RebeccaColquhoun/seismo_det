{
 "cells": [
  {
   "cell_type": "code",
   "execution_count": 1,
   "id": "d8aef86f",
   "metadata": {},
   "outputs": [],
   "source": [
    "from scipy import optimize\n",
    "import numpy as np"
   ]
  },
  {
   "cell_type": "code",
   "execution_count": 7,
   "id": "2e82a357",
   "metadata": {},
   "outputs": [],
   "source": [
    "initial_guess = (1,1)"
   ]
  },
  {
   "cell_type": "code",
   "execution_count": 3,
   "id": "eb8e2337",
   "metadata": {},
   "outputs": [],
   "source": [
    "x = np.array([0,1,2,3,4,5,6,7,8,9,10])\n",
    "y = x*2+5"
   ]
  },
  {
   "cell_type": "code",
   "execution_count": 21,
   "id": "05fb855a",
   "metadata": {},
   "outputs": [],
   "source": [
    "def obj(x0):\n",
    "    x = np.array([0,1,2,3,4,5,6,7,8,9,10])\n",
    "    y = x*2+5\n",
    "    a = x0[0]\n",
    "    b = x0[1]\n",
    "    guess = a*x+b\n",
    "    return sum(abs(guess - y))"
   ]
  },
  {
   "cell_type": "code",
   "execution_count": 22,
   "id": "9e8c63f3",
   "metadata": {},
   "outputs": [],
   "source": [
    "result = optimize.minimize(obj, initial_guess)"
   ]
  },
  {
   "cell_type": "code",
   "execution_count": 23,
   "id": "c10f58d8",
   "metadata": {},
   "outputs": [
    {
     "data": {
      "text/plain": [
       "      fun: 1.004862789422134e-06\n",
       " hess_inv: array([[ 1.43213616e-08, -5.27725853e-08],\n",
       "       [-5.27725853e-08,  1.96117161e-07]])\n",
       "      jac: array([ 1.81275845, -8.97992849])\n",
       "  message: 'Desired error not necessarily achieved due to precision loss.'\n",
       "     nfev: 204\n",
       "      nit: 22\n",
       "     njev: 64\n",
       "   status: 2\n",
       "  success: False\n",
       "        x: array([2.00000002, 4.99999981])"
      ]
     },
     "execution_count": 23,
     "metadata": {},
     "output_type": "execute_result"
    }
   ],
   "source": [
    "result"
   ]
  },
  {
   "cell_type": "code",
   "execution_count": null,
   "id": "142d7761",
   "metadata": {},
   "outputs": [],
   "source": []
  }
 ],
 "metadata": {
  "kernelspec": {
   "display_name": "Python 3 (ipykernel)",
   "language": "python",
   "name": "python3"
  },
  "language_info": {
   "codemirror_mode": {
    "name": "ipython",
    "version": 3
   },
   "file_extension": ".py",
   "mimetype": "text/x-python",
   "name": "python",
   "nbconvert_exporter": "python",
   "pygments_lexer": "ipython3",
   "version": "3.9.7"
  }
 },
 "nbformat": 4,
 "nbformat_minor": 5
}
