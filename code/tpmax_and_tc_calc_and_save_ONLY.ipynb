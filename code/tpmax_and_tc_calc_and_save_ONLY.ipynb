{
 "cells": [
  {
   "cell_type": "markdown",
   "metadata": {},
   "source": [
    "## Imports"
   ]
  },
  {
   "cell_type": "code",
   "execution_count": 1,
   "metadata": {},
   "outputs": [],
   "source": [
    "import os\n",
    "import math\n",
    "import obspy\n",
    "import pickle\n",
    "import datetime\n",
    "import numpy as np\n",
    "import matplotlib.pyplot as plt\n",
    "\n",
    "from matplotlib.pyplot import figure\n",
    "from scipy.optimize import curve_fit\n",
    "from datetime import timedelta\n",
    "from obspy import UTCDateTime\n",
    "from obspy.clients.fdsn import Client\n",
    "\n",
    "from earthquake import earthquake\n",
    "import util\n",
    "import pandas as pd"
   ]
  },
  {
   "cell_type": "markdown",
   "metadata": {},
   "source": [
    "## Get set up\n",
    "Set path to data, and read eq_list (all folders in root folder)"
   ]
  },
  {
   "cell_type": "code",
   "execution_count": 2,
   "metadata": {},
   "outputs": [],
   "source": [
    "root = '/home/earthquakes1/homes/Rebecca/phd/data/2019_global_m3/'\n",
    "\n",
    "eq_list = os.listdir(root)"
   ]
  },
  {
   "cell_type": "markdown",
   "metadata": {},
   "source": [
    "Open catalog of events"
   ]
  },
  {
   "cell_type": "code",
   "execution_count": 3,
   "metadata": {},
   "outputs": [],
   "source": [
    "client = Client(\"IRIS\")\n",
    "# cat = client.get_events(starttime=UTCDateTime(\"2019-01-01\"), endtime=UTCDateTime(\"2020-01-01\"), minmagnitude=5, includearrivals=True)\n",
    "cat = obspy.read_events('/home/earthquakes1/homes/Rebecca/phd/data/2019_global_m3_catalog.xml')"
   ]
  },
  {
   "cell_type": "markdown",
   "metadata": {},
   "source": [
    "Not all events had suitable data, look through all events and make a list of ones which have data (eq_with_data) and were successfully picked"
   ]
  },
  {
   "cell_type": "code",
   "execution_count": 4,
   "metadata": {},
   "outputs": [],
   "source": [
    "eq_with_data = []\n",
    "cat_with_data = cat.copy()\n",
    "cat_with_data.clear()\n",
    "for event in cat:\n",
    "    eq_name = util.catEventToFileName(event)\n",
    "    if os.path.isdir(root+eq_name) and os.path.isdir(root+eq_name+'/station_xml_files') and os.path.exists(root+eq_name+'/picks.pkl'):\n",
    "        eq_with_data.append(eq_name)\n",
    "        cat_with_data.extend([event])"
   ]
  },
  {
   "cell_type": "markdown",
   "metadata": {},
   "source": [
    "## the action!!\n",
    "For all events with data, load the data and then create an earthquake object. work out tp_max and tc, and add to lists (for plotting)"
   ]
  },
  {
   "cell_type": "code",
   "execution_count": 5,
   "metadata": {},
   "outputs": [
    {
     "name": "stdout",
     "output_type": "stream",
     "text": [
      "earthquake number 0 of 3386 done. It was 20190131_194949.a\n",
      "earthquake number 1 of 3386 done. It was 20190131_130953.a\n",
      "earthquake number 2 of 3386 done. It was 20190131_130350.a\n",
      "earthquake number 3 of 3386 done. It was 20190131_101656.a\n",
      "earthquake number 4 of 3386 done. It was 20190131_085520.a\n",
      "earthquake number 5 of 3386 done. It was 20190131_082011.a\n",
      "earthquake number 6 of 3386 done. It was 20190131_054201.a\n",
      "earthquake number 7 of 3386 done. It was 20190131_044030.a\n",
      "earthquake number 8 of 3386 done. It was 20190131_035250.a\n",
      "earthquake number 9 of 3386 done. It was 20190131_031714.a\n",
      "earthquake number 10 of 3386 done. It was 20190131_031336.a\n",
      "earthquake number 11 of 3386 done. It was 20190131_001648.a\n",
      "earthquake number 12 of 3386 done. It was 20190130_231259.a\n",
      "earthquake number 13 of 3386 done. It was 20190130_225434.a\n",
      "earthquake number 14 of 3386 done. It was 20190130_221651.a\n",
      "earthquake number 15 of 3386 done. It was 20190130_210253.a\n",
      "earthquake number 16 of 3386 done. It was 20190130_185847.a\n",
      "earthquake number 17 of 3386 done. It was 20190130_114102.a\n",
      "earthquake number 18 of 3386 done. It was 20190130_080048.a\n",
      "earthquake number 19 of 3386 done. It was 20190130_074445.a\n",
      "earthquake number 20 of 3386 done. It was 20190130_072209.a\n",
      "earthquake number 21 of 3386 done. It was 20190130_052135.a\n",
      "earthquake number 22 of 3386 done. It was 20190130_050435.a\n",
      "earthquake number 23 of 3386 done. It was 20190130_024012.a\n",
      "earthquake number 24 of 3386 done. It was 20190130_022146.a\n",
      "earthquake number 25 of 3386 done. It was 20190130_003453.a\n",
      "earthquake number 26 of 3386 done. It was 20190129_225252.a\n",
      "earthquake number 27 of 3386 done. It was 20190129_214922.a\n",
      "earthquake number 28 of 3386 done. It was 20190129_212904.a\n",
      "earthquake number 29 of 3386 done. It was 20190129_202534.a\n",
      "earthquake number 30 of 3386 done. It was 20190129_191019.a\n",
      "earthquake number 31 of 3386 done. It was 20190129_125345.a\n",
      "earthquake number 32 of 3386 done. It was 20190129_115904.a\n",
      "earthquake number 33 of 3386 done. It was 20190129_093702.a\n",
      "earthquake number 34 of 3386 done. It was 20190128_164606.a\n",
      "earthquake number 35 of 3386 done. It was 20190128_064618.a\n",
      "earthquake number 36 of 3386 done. It was 20190128_033336.a\n",
      "earthquake number 37 of 3386 done. It was 20190128_010730.a\n",
      "earthquake number 38 of 3386 done. It was 20190127_235401.a\n",
      "earthquake number 39 of 3386 done. It was 20190127_234556.a\n",
      "earthquake number 40 of 3386 done. It was 20190127_222157.a\n",
      "earthquake number 41 of 3386 done. It was 20190127_190722.a\n",
      "earthquake number 42 of 3386 done. It was 20190127_182404.a\n",
      "earthquake number 43 of 3386 done. It was 20190127_153813.a\n",
      "earthquake number 44 of 3386 done. It was 20190127_134340.a\n",
      "earthquake number 45 of 3386 done. It was 20190127_123244.a\n",
      "earthquake number 46 of 3386 done. It was 20190127_111049.a\n",
      "earthquake number 47 of 3386 done. It was 20190127_103134.a\n",
      "earthquake number 48 of 3386 done. It was 20190127_044920.a\n",
      "earthquake number 49 of 3386 done. It was 20190127_041642.a\n",
      "earthquake number 50 of 3386 done. It was 20190127_031542.a\n",
      "earthquake number 51 of 3386 done. It was 20190127_012108.a\n",
      "earthquake number 52 of 3386 done. It was 20190127_010314.a\n",
      "earthquake number 53 of 3386 done. It was 20190126_205631.a\n",
      "earthquake number 54 of 3386 done. It was 20190126_074854.a\n",
      "earthquake number 55 of 3386 done. It was 20190126_003130.a\n",
      "earthquake number 56 of 3386 done. It was 20190125_225324.a\n",
      "earthquake number 57 of 3386 done. It was 20190125_203158.a\n",
      "earthquake number 58 of 3386 done. It was 20190125_202035.a\n",
      "earthquake number 59 of 3386 done. It was 20190125_183240.a\n",
      "earthquake number 60 of 3386 done. It was 20190125_170708.a\n",
      "earthquake number 61 of 3386 done. It was 20190125_154934.a\n",
      "earthquake number 62 of 3386 done. It was 20190125_133414.a\n",
      "earthquake number 63 of 3386 done. It was 20190125_125840.a\n",
      "earthquake number 64 of 3386 done. It was 20190125_095212.a\n",
      "earthquake number 65 of 3386 done. It was 20190125_093100.a\n",
      "earthquake number 66 of 3386 done. It was 20190125_084711.a\n",
      "earthquake number 67 of 3386 done. It was 20190125_082917.a\n",
      "earthquake number 68 of 3386 done. It was 20190125_074703.a\n",
      "earthquake number 69 of 3386 done. It was 20190125_065621.a\n",
      "earthquake number 70 of 3386 done. It was 20190125_062743.a\n",
      "earthquake number 71 of 3386 done. It was 20190125_034900.a\n",
      "earthquake number 72 of 3386 done. It was 20190124_201254.a\n",
      "earthquake number 73 of 3386 done. It was 20190124_163805.a\n",
      "earthquake number 74 of 3386 done. It was 20190124_162001.a\n",
      "earthquake number 75 of 3386 done. It was 20190124_143049.a\n"
     ]
    },
    {
     "name": "stderr",
     "output_type": "stream",
     "text": [
      "/home/earthquakes1/software/Mageia/lib/python3.7/site-packages/obspy/io/stationxml/core.py:98: UserWarning: The StationXML file has version 1, ObsPy can read versions (1.0, 1.1). Proceed with caution.\n",
      "  version, \", \".join(READABLE_VERSIONS)))\n",
      "/home/earthquakes1/software/Mageia/lib/python3.7/site-packages/obspy/io/stationxml/core.py:98: UserWarning: The StationXML file has version 1, ObsPy can read versions (1.0, 1.1). Proceed with caution.\n",
      "  version, \", \".join(READABLE_VERSIONS)))\n"
     ]
    },
    {
     "name": "stdout",
     "output_type": "stream",
     "text": [
      "earthquake number 76 of 3386 done. It was 20190124_141219.a\n",
      "earthquake number 77 of 3386 done. It was 20190124_131330.a\n",
      "earthquake number 78 of 3386 done. It was 20190124_123034.a\n",
      "earthquake number 79 of 3386 done. It was 20190124_121517.a\n",
      "earthquake number 80 of 3386 done. It was 20190124_112024.a\n",
      "earthquake number 81 of 3386 done. It was 20190124_102829.a\n",
      "earthquake number 82 of 3386 done. It was 20190124_080610.a\n",
      "earthquake number 83 of 3386 done. It was 20190124_030457.a\n",
      "earthquake number 84 of 3386 done. It was 20190124_001614.a\n",
      "earthquake number 85 of 3386 done. It was 20190123_213423.a\n",
      "earthquake number 86 of 3386 done. It was 20190123_132806.a\n",
      "earthquake number 87 of 3386 done. It was 20190123_130902.a\n",
      "earthquake number 88 of 3386 done. It was 20190123_112256.a\n",
      "earthquake number 89 of 3386 done. It was 20190123_100900.a\n",
      "earthquake number 90 of 3386 done. It was 20190123_054148.a\n",
      "earthquake number 91 of 3386 done. It was 20190123_040056.a\n",
      "earthquake number 92 of 3386 done. It was 20190123_035257.a\n",
      "earthquake number 93 of 3386 done. It was 20190122_231304.a\n"
     ]
    },
    {
     "name": "stderr",
     "output_type": "stream",
     "text": [
      "/home/earthquakes1/software/Mageia/lib/python3.7/site-packages/obspy/io/mseed/headers.py:828: InternalMSEEDWarning: CZ_MORC__HHE_D: Warning: Number of blockettes in fixed header (1) does not match the number parsed (2)\n",
      "  warnings.warn(_w, InternalMSEEDWarning)\n",
      "/home/earthquakes1/software/Mageia/lib/python3.7/site-packages/obspy/io/mseed/headers.py:828: InternalMSEEDWarning: CZ_MORC__HHN_D: Warning: Number of blockettes in fixed header (1) does not match the number parsed (2)\n",
      "  warnings.warn(_w, InternalMSEEDWarning)\n",
      "/home/earthquakes1/software/Mageia/lib/python3.7/site-packages/obspy/io/mseed/headers.py:828: InternalMSEEDWarning: CZ_MORC__HHZ_D: Warning: Number of blockettes in fixed header (1) does not match the number parsed (2)\n",
      "  warnings.warn(_w, InternalMSEEDWarning)\n",
      "/home/earthquakes1/software/Mageia/lib/python3.7/site-packages/obspy/io/mseed/headers.py:828: InternalMSEEDWarning: GE_MORC__HHE_D: Warning: Number of blockettes in fixed header (1) does not match the number parsed (2)\n",
      "  warnings.warn(_w, InternalMSEEDWarning)\n",
      "/home/earthquakes1/software/Mageia/lib/python3.7/site-packages/obspy/io/mseed/headers.py:828: InternalMSEEDWarning: GE_MORC__HHN_D: Warning: Number of blockettes in fixed header (1) does not match the number parsed (2)\n",
      "  warnings.warn(_w, InternalMSEEDWarning)\n",
      "/home/earthquakes1/software/Mageia/lib/python3.7/site-packages/obspy/io/mseed/headers.py:828: InternalMSEEDWarning: GE_MORC__HHZ_D: Warning: Number of blockettes in fixed header (1) does not match the number parsed (2)\n",
      "  warnings.warn(_w, InternalMSEEDWarning)\n"
     ]
    },
    {
     "name": "stdout",
     "output_type": "stream",
     "text": [
      "earthquake number 94 of 3386 done. It was 20190122_223529.a\n",
      "earthquake number 95 of 3386 done. It was 20190122_213050.a\n",
      "earthquake number 96 of 3386 done. It was 20190122_201206.a\n",
      "earthquake number 97 of 3386 done. It was 20190122_161926.a\n",
      "earthquake number 98 of 3386 done. It was 20190122_152200.a\n",
      "earthquake number 99 of 3386 done. It was 20190122_150049.a\n",
      "earthquake number 100 of 3386 done. It was 20190122_134447.a\n",
      "earthquake number 101 of 3386 done. It was 20190122_103750.a\n",
      "earthquake number 102 of 3386 done. It was 20190122_082446.a\n",
      "earthquake number 103 of 3386 done. It was 20190122_082444.a\n",
      "earthquake number 104 of 3386 done. It was 20190122_045611.a\n",
      "earthquake number 105 of 3386 done. It was 20190122_044319.a\n",
      "earthquake number 106 of 3386 done. It was 20190122_043311.a\n",
      "earthquake number 107 of 3386 done. It was 20190122_031928.a\n",
      "earthquake number 108 of 3386 done. It was 20190122_022514.a\n",
      "earthquake number 109 of 3386 done. It was 20190122_015034.a\n",
      "earthquake number 110 of 3386 done. It was 20190122_004120.a\n",
      "earthquake number 111 of 3386 done. It was 20190121_225036.a\n",
      "earthquake number 112 of 3386 done. It was 20190121_220409.a\n",
      "earthquake number 113 of 3386 done. It was 20190121_202735.a\n",
      "earthquake number 114 of 3386 done. It was 20190121_181659.a\n",
      "earthquake number 115 of 3386 done. It was 20190121_162343.a\n",
      "earthquake number 116 of 3386 done. It was 20190121_144248.a\n",
      "earthquake number 117 of 3386 done. It was 20190121_070629.a\n"
     ]
    },
    {
     "name": "stderr",
     "output_type": "stream",
     "text": [
      "/home/earthquakes1/homes/Rebecca/phd/seismo_det/code/earthquake.py:105: RuntimeWarning: invalid value encountered in true_divide\n",
      "  tau_p = 2 * np.pi * np.sqrt(X/D)\n",
      "/home/earthquakes1/homes/Rebecca/phd/seismo_det/code/earthquake.py:195: RuntimeWarning: invalid value encountered in double_scalars\n",
      "  t_c = (2 * math.pi)/(math.sqrt(numerator/denominator))\n"
     ]
    },
    {
     "name": "stdout",
     "output_type": "stream",
     "text": [
      "earthquake number 118 of 3386 done. It was 20190121_052736.a\n",
      "earthquake number 119 of 3386 done. It was 20190121_041101.a\n",
      "earthquake number 120 of 3386 done. It was 20190121_003254.a\n",
      "earthquake number 121 of 3386 done. It was 20190121_000918.a\n",
      "earthquake number 122 of 3386 done. It was 20190120_214851.a\n",
      "earthquake number 123 of 3386 done. It was 20190120_174954.a\n",
      "earthquake number 124 of 3386 done. It was 20190120_174641.a\n",
      "earthquake number 125 of 3386 done. It was 20190120_154950.a\n",
      "earthquake number 126 of 3386 done. It was 20190120_145534.a\n",
      "earthquake number 127 of 3386 done. It was 20190120_140529.a\n",
      "earthquake number 128 of 3386 done. It was 20190120_132422.a\n",
      "earthquake number 129 of 3386 done. It was 20190120_113202.a\n",
      "earthquake number 130 of 3386 done. It was 20190120_104359.a\n",
      "earthquake number 131 of 3386 done. It was 20190120_103922.a\n",
      "earthquake number 132 of 3386 done. It was 20190120_092332.a\n",
      "earthquake number 133 of 3386 done. It was 20190120_073927.a\n",
      "earthquake number 134 of 3386 done. It was 20190120_045945.a\n",
      "earthquake number 135 of 3386 done. It was 20190120_023600.a\n",
      "earthquake number 136 of 3386 done. It was 20190120_013251.a\n",
      "earthquake number 137 of 3386 done. It was 20190119_215643.a\n",
      "earthquake number 138 of 3386 done. It was 20190119_174156.a\n",
      "earthquake number 139 of 3386 done. It was 20190119_172551.a\n",
      "earthquake number 140 of 3386 done. It was 20190119_145731.a\n",
      "earthquake number 141 of 3386 done. It was 20190119_145222.a\n",
      "earthquake number 142 of 3386 done. It was 20190119_131505.a\n",
      "earthquake number 143 of 3386 done. It was 20190119_130814.a\n"
     ]
    },
    {
     "name": "stderr",
     "output_type": "stream",
     "text": [
      "/home/earthquakes1/software/Mageia/lib/python3.7/site-packages/obspy/io/stationxml/core.py:98: UserWarning: The StationXML file has version 1, ObsPy can read versions (1.0, 1.1). Proceed with caution.\n",
      "  version, \", \".join(READABLE_VERSIONS)))\n",
      "/home/earthquakes1/software/Mageia/lib/python3.7/site-packages/obspy/io/stationxml/core.py:98: UserWarning: The StationXML file has version 1, ObsPy can read versions (1.0, 1.1). Proceed with caution.\n",
      "  version, \", \".join(READABLE_VERSIONS)))\n"
     ]
    },
    {
     "name": "stdout",
     "output_type": "stream",
     "text": [
      "earthquake number 144 of 3386 done. It was 20190119_041429.a\n",
      "earthquake number 145 of 3386 done. It was 20190119_023613.a\n",
      "earthquake number 146 of 3386 done. It was 20190118_191237.a\n",
      "earthquake number 147 of 3386 done. It was 20190118_185231.a\n",
      "earthquake number 148 of 3386 done. It was 20190118_171414.a\n"
     ]
    },
    {
     "name": "stderr",
     "output_type": "stream",
     "text": [
      "/home/earthquakes1/software/Mageia/lib/python3.7/site-packages/obspy/io/stationxml/core.py:98: UserWarning: The StationXML file has version 1, ObsPy can read versions (1.0, 1.1). Proceed with caution.\n",
      "  version, \", \".join(READABLE_VERSIONS)))\n",
      "/home/earthquakes1/software/Mageia/lib/python3.7/site-packages/obspy/io/stationxml/core.py:98: UserWarning: The StationXML file has version 1, ObsPy can read versions (1.0, 1.1). Proceed with caution.\n",
      "  version, \", \".join(READABLE_VERSIONS)))\n",
      "/home/earthquakes1/software/Mageia/lib/python3.7/site-packages/obspy/io/stationxml/core.py:98: UserWarning: The StationXML file has version 1, ObsPy can read versions (1.0, 1.1). Proceed with caution.\n",
      "  version, \", \".join(READABLE_VERSIONS)))\n",
      "/home/earthquakes1/software/Mageia/lib/python3.7/site-packages/obspy/io/stationxml/core.py:98: UserWarning: The StationXML file has version 1, ObsPy can read versions (1.0, 1.1). Proceed with caution.\n",
      "  version, \", \".join(READABLE_VERSIONS)))\n",
      "/home/earthquakes1/software/Mageia/lib/python3.7/site-packages/obspy/io/stationxml/core.py:98: UserWarning: The StationXML file has version 1, ObsPy can read versions (1.0, 1.1). Proceed with caution.\n",
      "  version, \", \".join(READABLE_VERSIONS)))\n",
      "/home/earthquakes1/software/Mageia/lib/python3.7/site-packages/obspy/io/stationxml/core.py:98: UserWarning: The StationXML file has version 1, ObsPy can read versions (1.0, 1.1). Proceed with caution.\n",
      "  version, \", \".join(READABLE_VERSIONS)))\n",
      "/home/earthquakes1/software/Mageia/lib/python3.7/site-packages/obspy/io/stationxml/core.py:98: UserWarning: The StationXML file has version 1, ObsPy can read versions (1.0, 1.1). Proceed with caution.\n",
      "  version, \", \".join(READABLE_VERSIONS)))\n",
      "/home/earthquakes1/software/Mageia/lib/python3.7/site-packages/obspy/io/stationxml/core.py:98: UserWarning: The StationXML file has version 1, ObsPy can read versions (1.0, 1.1). Proceed with caution.\n",
      "  version, \", \".join(READABLE_VERSIONS)))\n"
     ]
    },
    {
     "name": "stdout",
     "output_type": "stream",
     "text": [
      "earthquake number 149 of 3386 done. It was 20190118_165907.a\n",
      "earthquake number 150 of 3386 done. It was 20190118_152205.a\n",
      "earthquake number 151 of 3386 done. It was 20190118_150253.a\n",
      "earthquake number 152 of 3386 done. It was 20190118_140846.a\n",
      "earthquake number 153 of 3386 done. It was 20190118_124624.a\n",
      "earthquake number 154 of 3386 done. It was 20190118_123408.a\n",
      "earthquake number 155 of 3386 done. It was 20190118_114754.a\n",
      "earthquake number 156 of 3386 done. It was 20190118_113801.a\n",
      "earthquake number 157 of 3386 done. It was 20190118_081915.a\n",
      "earthquake number 158 of 3386 done. It was 20190118_063650.a\n",
      "earthquake number 159 of 3386 done. It was 20190118_055247.a\n",
      "earthquake number 160 of 3386 done. It was 20190118_054634.a\n",
      "earthquake number 161 of 3386 done. It was 20190118_040520.a\n",
      "earthquake number 162 of 3386 done. It was 20190118_000748.a\n",
      "earthquake number 163 of 3386 done. It was 20190117_214639.a\n",
      "earthquake number 164 of 3386 done. It was 20190117_173039.a\n",
      "earthquake number 165 of 3386 done. It was 20190117_172746.a\n",
      "earthquake number 166 of 3386 done. It was 20190117_153456.a\n",
      "earthquake number 167 of 3386 done. It was 20190117_141107.a\n",
      "earthquake number 168 of 3386 done. It was 20190117_135231.a\n",
      "earthquake number 169 of 3386 done. It was 20190117_133840.a\n",
      "earthquake number 170 of 3386 done. It was 20190117_132746.a\n",
      "earthquake number 171 of 3386 done. It was 20190117_121355.a\n",
      "earthquake number 172 of 3386 done. It was 20190117_121212.a\n",
      "earthquake number 173 of 3386 done. It was 20190117_080721.a\n",
      "earthquake number 174 of 3386 done. It was 20190117_075926.a\n",
      "earthquake number 175 of 3386 done. It was 20190117_073934.a\n",
      "earthquake number 176 of 3386 done. It was 20190117_051730.a\n",
      "earthquake number 177 of 3386 done. It was 20190117_033633.a\n",
      "earthquake number 178 of 3386 done. It was 20190117_025347.a\n",
      "earthquake number 179 of 3386 done. It was 20190117_024134.a\n",
      "earthquake number 180 of 3386 done. It was 20190117_022336.a\n",
      "earthquake number 181 of 3386 done. It was 20190116_220001.a\n",
      "earthquake number 182 of 3386 done. It was 20190116_212234.a\n",
      "earthquake number 183 of 3386 done. It was 20190116_124208.a\n",
      "earthquake number 184 of 3386 done. It was 20190116_111937.a\n",
      "earthquake number 185 of 3386 done. It was 20190116_103906.a\n",
      "earthquake number 186 of 3386 done. It was 20190116_060403.a\n",
      "earthquake number 187 of 3386 done. It was 20190116_051908.a\n",
      "earthquake number 188 of 3386 done. It was 20190116_041236.a\n"
     ]
    },
    {
     "name": "stderr",
     "output_type": "stream",
     "text": [
      "/home/earthquakes1/homes/Rebecca/phd/seismo_det/code/earthquake.py:105: RuntimeWarning: invalid value encountered in true_divide\n",
      "  tau_p = 2 * np.pi * np.sqrt(X/D)\n",
      "/home/earthquakes1/homes/Rebecca/phd/seismo_det/code/earthquake.py:195: RuntimeWarning: invalid value encountered in double_scalars\n",
      "  t_c = (2 * math.pi)/(math.sqrt(numerator/denominator))\n"
     ]
    },
    {
     "name": "stdout",
     "output_type": "stream",
     "text": [
      "earthquake number 189 of 3386 done. It was 20190116_033430.a\n",
      "earthquake number 190 of 3386 done. It was 20190116_011111.a\n",
      "earthquake number 191 of 3386 done. It was 20190116_003933.a\n",
      "earthquake number 192 of 3386 done. It was 20190115_222405.a\n",
      "earthquake number 193 of 3386 done. It was 20190115_212334.a\n",
      "earthquake number 194 of 3386 done. It was 20190115_202146.a\n",
      "earthquake number 195 of 3386 done. It was 20190115_202137.a\n",
      "earthquake number 196 of 3386 done. It was 20190115_202020.a\n",
      "earthquake number 197 of 3386 done. It was 20190115_164442.a\n",
      "earthquake number 198 of 3386 done. It was 20190115_154052.a\n"
     ]
    },
    {
     "name": "stderr",
     "output_type": "stream",
     "text": [
      "/home/earthquakes1/homes/Rebecca/phd/seismo_det/code/earthquake.py:105: RuntimeWarning: invalid value encountered in true_divide\n",
      "  tau_p = 2 * np.pi * np.sqrt(X/D)\n",
      "/home/earthquakes1/homes/Rebecca/phd/seismo_det/code/earthquake.py:195: RuntimeWarning: invalid value encountered in double_scalars\n",
      "  t_c = (2 * math.pi)/(math.sqrt(numerator/denominator))\n"
     ]
    },
    {
     "name": "stdout",
     "output_type": "stream",
     "text": [
      "earthquake number 199 of 3386 done. It was 20190115_133202.a\n"
     ]
    },
    {
     "name": "stderr",
     "output_type": "stream",
     "text": [
      "/home/earthquakes1/homes/Rebecca/phd/seismo_det/code/earthquake.py:105: RuntimeWarning: invalid value encountered in true_divide\n",
      "  tau_p = 2 * np.pi * np.sqrt(X/D)\n",
      "/home/earthquakes1/homes/Rebecca/phd/seismo_det/code/earthquake.py:195: RuntimeWarning: invalid value encountered in double_scalars\n",
      "  t_c = (2 * math.pi)/(math.sqrt(numerator/denominator))\n"
     ]
    },
    {
     "name": "stdout",
     "output_type": "stream",
     "text": [
      "earthquake number 200 of 3386 done. It was 20190115_132802.a\n",
      "earthquake number 201 of 3386 done. It was 20190115_034104.a\n",
      "earthquake number 202 of 3386 done. It was 20190115_031053.a\n",
      "earthquake number 203 of 3386 done. It was 20190115_013102.a\n",
      "earthquake number 204 of 3386 done. It was 20190115_012504.a\n",
      "earthquake number 205 of 3386 done. It was 20190115_001840.a\n",
      "earthquake number 206 of 3386 done. It was 20190114_230356.a\n",
      "earthquake number 207 of 3386 done. It was 20190114_224808.a\n",
      "earthquake number 208 of 3386 done. It was 20190114_223228.a\n",
      "earthquake number 209 of 3386 done. It was 20190114_205104.a\n",
      "earthquake number 210 of 3386 done. It was 20190114_204906.a\n",
      "earthquake number 211 of 3386 done. It was 20190114_192938.a\n",
      "earthquake number 212 of 3386 done. It was 20190114_190014.a\n",
      "earthquake number 213 of 3386 done. It was 20190114_184920.a\n",
      "earthquake number 214 of 3386 done. It was 20190114_142313.a\n",
      "earthquake number 215 of 3386 done. It was 20190114_134942.a\n",
      "earthquake number 216 of 3386 done. It was 20190114_084302.a\n"
     ]
    },
    {
     "name": "stderr",
     "output_type": "stream",
     "text": [
      "/home/earthquakes1/homes/Rebecca/phd/seismo_det/code/earthquake.py:105: RuntimeWarning: invalid value encountered in true_divide\n",
      "  tau_p = 2 * np.pi * np.sqrt(X/D)\n",
      "/home/earthquakes1/homes/Rebecca/phd/seismo_det/code/earthquake.py:195: RuntimeWarning: invalid value encountered in double_scalars\n",
      "  t_c = (2 * math.pi)/(math.sqrt(numerator/denominator))\n"
     ]
    },
    {
     "name": "stdout",
     "output_type": "stream",
     "text": [
      "earthquake number 217 of 3386 done. It was 20190114_082007.a\n",
      "earthquake number 218 of 3386 done. It was 20190114_042341.a\n",
      "earthquake number 219 of 3386 done. It was 20190114_040230.a\n",
      "earthquake number 220 of 3386 done. It was 20190114_032019.a\n",
      "earthquake number 221 of 3386 done. It was 20190114_010658.a\n",
      "earthquake number 222 of 3386 done. It was 20190114_004119.a\n",
      "earthquake number 223 of 3386 done. It was 20190113_182825.a\n"
     ]
    },
    {
     "name": "stderr",
     "output_type": "stream",
     "text": [
      "/home/earthquakes1/software/Mageia/lib/python3.7/site-packages/obspy/io/stationxml/core.py:98: UserWarning: The StationXML file has version 1, ObsPy can read versions (1.0, 1.1). Proceed with caution.\n",
      "  version, \", \".join(READABLE_VERSIONS)))\n",
      "/home/earthquakes1/software/Mageia/lib/python3.7/site-packages/obspy/io/stationxml/core.py:98: UserWarning: The StationXML file has version 1, ObsPy can read versions (1.0, 1.1). Proceed with caution.\n",
      "  version, \", \".join(READABLE_VERSIONS)))\n",
      "/home/earthquakes1/software/Mageia/lib/python3.7/site-packages/obspy/io/stationxml/core.py:98: UserWarning: The StationXML file has version 1, ObsPy can read versions (1.0, 1.1). Proceed with caution.\n",
      "  version, \", \".join(READABLE_VERSIONS)))\n",
      "/home/earthquakes1/software/Mageia/lib/python3.7/site-packages/obspy/io/stationxml/core.py:98: UserWarning: The StationXML file has version 1, ObsPy can read versions (1.0, 1.1). Proceed with caution.\n",
      "  version, \", \".join(READABLE_VERSIONS)))\n"
     ]
    },
    {
     "name": "stdout",
     "output_type": "stream",
     "text": [
      "earthquake number 224 of 3386 done. It was 20190113_180454.a\n",
      "earthquake number 225 of 3386 done. It was 20190113_164555.a\n",
      "earthquake number 226 of 3386 done. It was 20190113_132319.a\n",
      "earthquake number 227 of 3386 done. It was 20190113_121445.a\n",
      "earthquake number 228 of 3386 done. It was 20190113_105401.a\n",
      "earthquake number 229 of 3386 done. It was 20190113_093548.a\n",
      "earthquake number 230 of 3386 done. It was 20190113_082701.a\n",
      "earthquake number 231 of 3386 done. It was 20190113_065210.a\n",
      "earthquake number 232 of 3386 done. It was 20190113_064530.a\n",
      "earthquake number 233 of 3386 done. It was 20190112_204035.a\n",
      "earthquake number 234 of 3386 done. It was 20190112_185104.a\n",
      "earthquake number 235 of 3386 done. It was 20190112_171406.a\n",
      "earthquake number 236 of 3386 done. It was 20190112_132011.a\n",
      "earthquake number 237 of 3386 done. It was 20190112_111903.a\n",
      "earthquake number 238 of 3386 done. It was 20190112_085826.a\n",
      "earthquake number 239 of 3386 done. It was 20190112_063152.a\n",
      "earthquake number 240 of 3386 done. It was 20190112_060113.a\n",
      "earthquake number 241 of 3386 done. It was 20190112_041442.a\n",
      "earthquake number 242 of 3386 done. It was 20190112_013953.a\n",
      "earthquake number 243 of 3386 done. It was 20190111_234209.a\n",
      "earthquake number 244 of 3386 done. It was 20190111_230251.a\n",
      "earthquake number 245 of 3386 done. It was 20190111_212423.a\n",
      "earthquake number 246 of 3386 done. It was 20190111_211905.a\n",
      "earthquake number 247 of 3386 done. It was 20190111_185408.a\n",
      "earthquake number 248 of 3386 done. It was 20190111_160957.a\n",
      "earthquake number 249 of 3386 done. It was 20190111_155630.a\n",
      "earthquake number 250 of 3386 done. It was 20190111_082923.a\n",
      "earthquake number 251 of 3386 done. It was 20190111_065902.a\n",
      "earthquake number 252 of 3386 done. It was 20190111_023338.a\n",
      "earthquake number 253 of 3386 done. It was 20190110_225601.a\n",
      "earthquake number 254 of 3386 done. It was 20190110_215136.a\n",
      "earthquake number 255 of 3386 done. It was 20190110_193638.a\n",
      "earthquake number 256 of 3386 done. It was 20190110_182441.a\n",
      "earthquake number 257 of 3386 done. It was 20190110_181512.a\n",
      "earthquake number 258 of 3386 done. It was 20190110_173014.a\n",
      "earthquake number 259 of 3386 done. It was 20190110_170014.a\n",
      "earthquake number 260 of 3386 done. It was 20190110_134859.a\n",
      "earthquake number 261 of 3386 done. It was 20190110_112522.a\n",
      "earthquake number 262 of 3386 done. It was 20190110_071053.a\n",
      "earthquake number 263 of 3386 done. It was 20190110_060616.a\n",
      "earthquake number 264 of 3386 done. It was 20190110_044902.a\n",
      "earthquake number 265 of 3386 done. It was 20190110_003056.a\n",
      "earthquake number 266 of 3386 done. It was 20190110_000558.a\n",
      "earthquake number 267 of 3386 done. It was 20190110_000432.a\n",
      "earthquake number 268 of 3386 done. It was 20190109_161130.a\n",
      "earthquake number 269 of 3386 done. It was 20190109_120354.a\n",
      "earthquake number 270 of 3386 done. It was 20190109_113603.a\n",
      "earthquake number 271 of 3386 done. It was 20190109_110055.a\n",
      "earthquake number 272 of 3386 done. It was 20190109_105742.a\n",
      "earthquake number 273 of 3386 done. It was 20190109_065139.a\n",
      "earthquake number 274 of 3386 done. It was 20190109_060452.a\n",
      "earthquake number 275 of 3386 done. It was 20190109_055136.a\n",
      "earthquake number 276 of 3386 done. It was 20190109_052313.a\n",
      "earthquake number 277 of 3386 done. It was 20190109_050757.a\n",
      "earthquake number 278 of 3386 done. It was 20190109_000134.a\n",
      "earthquake number 279 of 3386 done. It was 20190108_223254.a\n",
      "earthquake number 280 of 3386 done. It was 20190108_222633.a\n",
      "earthquake number 281 of 3386 done. It was 20190108_175904.a\n",
      "earthquake number 282 of 3386 done. It was 20190108_172733.a\n",
      "earthquake number 283 of 3386 done. It was 20190108_163838.a\n",
      "earthquake number 284 of 3386 done. It was 20190108_154544.a\n",
      "earthquake number 285 of 3386 done. It was 20190108_152220.a\n",
      "earthquake number 286 of 3386 done. It was 20190108_121645.a\n",
      "earthquake number 287 of 3386 done. It was 20190108_104608.a\n",
      "earthquake number 288 of 3386 done. It was 20190108_085723.a\n",
      "earthquake number 289 of 3386 done. It was 20190108_052009.a\n",
      "earthquake number 290 of 3386 done. It was 20190108_041553.a\n",
      "earthquake number 291 of 3386 done. It was 20190108_031431.a\n",
      "earthquake number 292 of 3386 done. It was 20190108_011351.a\n",
      "earthquake number 293 of 3386 done. It was 20190107_225359.a\n"
     ]
    },
    {
     "name": "stderr",
     "output_type": "stream",
     "text": [
      "/home/earthquakes1/homes/Rebecca/phd/seismo_det/code/earthquake.py:105: RuntimeWarning: invalid value encountered in true_divide\n",
      "  tau_p = 2 * np.pi * np.sqrt(X/D)\n",
      "/home/earthquakes1/homes/Rebecca/phd/seismo_det/code/earthquake.py:195: RuntimeWarning: invalid value encountered in double_scalars\n",
      "  t_c = (2 * math.pi)/(math.sqrt(numerator/denominator))\n"
     ]
    },
    {
     "name": "stdout",
     "output_type": "stream",
     "text": [
      "earthquake number 294 of 3386 done. It was 20190107_164307.a\n",
      "earthquake number 295 of 3386 done. It was 20190107_161457.a\n",
      "earthquake number 296 of 3386 done. It was 20190107_151727.a\n",
      "earthquake number 297 of 3386 done. It was 20190107_134329.a\n",
      "earthquake number 298 of 3386 done. It was 20190107_134132.a\n",
      "earthquake number 299 of 3386 done. It was 20190107_124804.a\n",
      "earthquake number 300 of 3386 done. It was 20190107_121052.a\n"
     ]
    },
    {
     "name": "stderr",
     "output_type": "stream",
     "text": [
      "/home/earthquakes1/software/Mageia/lib/python3.7/site-packages/obspy/io/stationxml/core.py:98: UserWarning: The StationXML file has version 1, ObsPy can read versions (1.0, 1.1). Proceed with caution.\n",
      "  version, \", \".join(READABLE_VERSIONS)))\n",
      "/home/earthquakes1/software/Mageia/lib/python3.7/site-packages/obspy/io/stationxml/core.py:98: UserWarning: The StationXML file has version 1, ObsPy can read versions (1.0, 1.1). Proceed with caution.\n",
      "  version, \", \".join(READABLE_VERSIONS)))\n"
     ]
    },
    {
     "name": "stdout",
     "output_type": "stream",
     "text": [
      "earthquake number 301 of 3386 done. It was 20190107_035322.a\n",
      "earthquake number 302 of 3386 done. It was 20190107_014455.a\n",
      "earthquake number 303 of 3386 done. It was 20190107_000252.a\n",
      "earthquake number 304 of 3386 done. It was 20190106_202536.a\n",
      "earthquake number 305 of 3386 done. It was 20190106_190135.a\n",
      "earthquake number 306 of 3386 done. It was 20190106_184430.a\n",
      "earthquake number 307 of 3386 done. It was 20190106_181231.a\n",
      "earthquake number 308 of 3386 done. It was 20190106_134425.a\n",
      "earthquake number 309 of 3386 done. It was 20190106_123609.a\n",
      "earthquake number 310 of 3386 done. It was 20190106_113653.a\n",
      "earthquake number 311 of 3386 done. It was 20190106_111934.a\n",
      "earthquake number 312 of 3386 done. It was 20190106_103830.a\n",
      "earthquake number 313 of 3386 done. It was 20190106_101442.a\n",
      "earthquake number 314 of 3386 done. It was 20190106_090803.a\n",
      "earthquake number 315 of 3386 done. It was 20190106_035624.a\n",
      "earthquake number 316 of 3386 done. It was 20190106_034658.a\n",
      "earthquake number 317 of 3386 done. It was 20190106_034534.a\n",
      "earthquake number 318 of 3386 done. It was 20190105_235055.a\n",
      "earthquake number 319 of 3386 done. It was 20190105_231744.a\n",
      "earthquake number 320 of 3386 done. It was 20190105_193549.a\n",
      "earthquake number 321 of 3386 done. It was 20190105_193500.a\n",
      "earthquake number 322 of 3386 done. It was 20190105_193435.a\n",
      "earthquake number 323 of 3386 done. It was 20190105_182558.a\n",
      "earthquake number 324 of 3386 done. It was 20190105_173022.a\n",
      "earthquake number 325 of 3386 done. It was 20190105_111927.a\n",
      "earthquake number 326 of 3386 done. It was 20190105_085639.a\n",
      "earthquake number 327 of 3386 done. It was 20190105_083009.a\n",
      "earthquake number 328 of 3386 done. It was 20190105_063218.a\n",
      "earthquake number 329 of 3386 done. It was 20190105_050626.a\n",
      "earthquake number 330 of 3386 done. It was 20190105_042015.a\n",
      "earthquake number 331 of 3386 done. It was 20190105_022237.a\n",
      "earthquake number 332 of 3386 done. It was 20190104_225247.a\n",
      "earthquake number 333 of 3386 done. It was 20190104_222339.a\n",
      "earthquake number 334 of 3386 done. It was 20190104_220507.a\n",
      "earthquake number 335 of 3386 done. It was 20190104_192738.a\n",
      "earthquake number 336 of 3386 done. It was 20190104_132720.a\n",
      "earthquake number 337 of 3386 done. It was 20190104_061947.a\n",
      "earthquake number 338 of 3386 done. It was 20190104_043753.a\n"
     ]
    },
    {
     "name": "stderr",
     "output_type": "stream",
     "text": [
      "/home/earthquakes1/software/Mageia/lib/python3.7/site-packages/obspy/io/stationxml/core.py:98: UserWarning: The StationXML file has version 1, ObsPy can read versions (1.0, 1.1). Proceed with caution.\n",
      "  version, \", \".join(READABLE_VERSIONS)))\n",
      "/home/earthquakes1/software/Mageia/lib/python3.7/site-packages/obspy/io/stationxml/core.py:98: UserWarning: The StationXML file has version 1, ObsPy can read versions (1.0, 1.1). Proceed with caution.\n",
      "  version, \", \".join(READABLE_VERSIONS)))\n"
     ]
    },
    {
     "name": "stdout",
     "output_type": "stream",
     "text": [
      "earthquake number 339 of 3386 done. It was 20190104_035047.a\n",
      "earthquake number 340 of 3386 done. It was 20190104_023035.a\n",
      "earthquake number 341 of 3386 done. It was 20190103_225921.a\n",
      "earthquake number 342 of 3386 done. It was 20190103_205526.a\n",
      "earthquake number 343 of 3386 done. It was 20190103_185138.a\n",
      "earthquake number 344 of 3386 done. It was 20190103_180250.a\n",
      "earthquake number 345 of 3386 done. It was 20190103_175746.a\n",
      "earthquake number 346 of 3386 done. It was 20190103_152256.a\n",
      "earthquake number 347 of 3386 done. It was 20190103_120522.a\n",
      "earthquake number 348 of 3386 done. It was 20190103_091028.a\n",
      "earthquake number 349 of 3386 done. It was 20190103_053338.a\n"
     ]
    },
    {
     "name": "stderr",
     "output_type": "stream",
     "text": [
      "/home/earthquakes1/software/Mageia/lib/python3.7/site-packages/obspy/io/stationxml/core.py:98: UserWarning: The StationXML file has version 1, ObsPy can read versions (1.0, 1.1). Proceed with caution.\n",
      "  version, \", \".join(READABLE_VERSIONS)))\n",
      "/home/earthquakes1/software/Mageia/lib/python3.7/site-packages/obspy/io/stationxml/core.py:98: UserWarning: The StationXML file has version 1, ObsPy can read versions (1.0, 1.1). Proceed with caution.\n",
      "  version, \", \".join(READABLE_VERSIONS)))\n"
     ]
    },
    {
     "name": "stdout",
     "output_type": "stream",
     "text": [
      "earthquake number 350 of 3386 done. It was 20190103_050711.a\n",
      "earthquake number 351 of 3386 done. It was 20190103_033213.a\n",
      "earthquake number 352 of 3386 done. It was 20190103_021456.a\n",
      "earthquake number 353 of 3386 done. It was 20190103_015635.a\n",
      "earthquake number 354 of 3386 done. It was 20190103_000409.a\n"
     ]
    },
    {
     "name": "stderr",
     "output_type": "stream",
     "text": [
      "/home/earthquakes1/software/Mageia/lib/python3.7/site-packages/obspy/io/stationxml/core.py:98: UserWarning: The StationXML file has version 1, ObsPy can read versions (1.0, 1.1). Proceed with caution.\n",
      "  version, \", \".join(READABLE_VERSIONS)))\n",
      "/home/earthquakes1/software/Mageia/lib/python3.7/site-packages/obspy/io/stationxml/core.py:98: UserWarning: The StationXML file has version 1, ObsPy can read versions (1.0, 1.1). Proceed with caution.\n",
      "  version, \", \".join(READABLE_VERSIONS)))\n"
     ]
    },
    {
     "name": "stdout",
     "output_type": "stream",
     "text": [
      "earthquake number 355 of 3386 done. It was 20190102_212030.a\n",
      "earthquake number 356 of 3386 done. It was 20190102_203004.a\n",
      "earthquake number 357 of 3386 done. It was 20190102_190921.a\n",
      "earthquake number 358 of 3386 done. It was 20190102_163248.a\n",
      "earthquake number 359 of 3386 done. It was 20190102_151603.a\n",
      "earthquake number 360 of 3386 done. It was 20190102_113856.a\n",
      "earthquake number 361 of 3386 done. It was 20190102_111532.a\n",
      "earthquake number 362 of 3386 done. It was 20190102_111215.a\n",
      "earthquake number 363 of 3386 done. It was 20190102_094251.a\n",
      "earthquake number 364 of 3386 done. It was 20190102_093616.a\n",
      "earthquake number 365 of 3386 done. It was 20190102_074020.a\n",
      "earthquake number 366 of 3386 done. It was 20190102_064856.a\n",
      "earthquake number 367 of 3386 done. It was 20190102_064843.a\n",
      "earthquake number 368 of 3386 done. It was 20190102_022456.a\n",
      "earthquake number 369 of 3386 done. It was 20190102_014046.a\n",
      "earthquake number 370 of 3386 done. It was 20190101_220539.a\n",
      "earthquake number 371 of 3386 done. It was 20190101_195532.a\n",
      "earthquake number 372 of 3386 done. It was 20190101_183747.a\n",
      "earthquake number 373 of 3386 done. It was 20190101_174827.a\n",
      "earthquake number 374 of 3386 done. It was 20190101_154104.a\n",
      "earthquake number 375 of 3386 done. It was 20190101_143138.a\n",
      "earthquake number 376 of 3386 done. It was 20190101_133741.a\n",
      "earthquake number 377 of 3386 done. It was 20190101_123816.a\n",
      "earthquake number 378 of 3386 done. It was 20190101_123257.a\n",
      "earthquake number 379 of 3386 done. It was 20190101_114005.a\n",
      "earthquake number 380 of 3386 done. It was 20190101_111252.a\n",
      "earthquake number 381 of 3386 done. It was 20190101_103117.a\n",
      "earthquake number 382 of 3386 done. It was 20190101_061820.a\n",
      "earthquake number 383 of 3386 done. It was 20190101_061545.a\n",
      "earthquake number 384 of 3386 done. It was 20190101_030330.a\n",
      "earthquake number 385 of 3386 done. It was 20190101_020936.a\n",
      "earthquake number 386 of 3386 done. It was 20190101_010315.a\n",
      "earthquake number 387 of 3386 done. It was 20190101_000405.a\n",
      "earthquake number 388 of 3386 done. It was 20190228_204321.a\n",
      "earthquake number 389 of 3386 done. It was 20190228_200925.a\n"
     ]
    },
    {
     "name": "stderr",
     "output_type": "stream",
     "text": [
      "/home/earthquakes1/software/Mageia/lib/python3.7/site-packages/obspy/io/stationxml/core.py:98: UserWarning: The StationXML file has version 1, ObsPy can read versions (1.0, 1.1). Proceed with caution.\n",
      "  version, \", \".join(READABLE_VERSIONS)))\n",
      "/home/earthquakes1/software/Mageia/lib/python3.7/site-packages/obspy/io/stationxml/core.py:98: UserWarning: The StationXML file has version 1, ObsPy can read versions (1.0, 1.1). Proceed with caution.\n",
      "  version, \", \".join(READABLE_VERSIONS)))\n"
     ]
    },
    {
     "name": "stdout",
     "output_type": "stream",
     "text": [
      "earthquake number 390 of 3386 done. It was 20190228_195534.a\n",
      "earthquake number 391 of 3386 done. It was 20190228_181706.a\n",
      "earthquake number 392 of 3386 done. It was 20190228_175221.a\n",
      "earthquake number 393 of 3386 done. It was 20190228_171516.a\n",
      "earthquake number 394 of 3386 done. It was 20190228_153354.a\n",
      "earthquake number 395 of 3386 done. It was 20190228_110723.a\n",
      "earthquake number 396 of 3386 done. It was 20190228_060059.a\n",
      "earthquake number 397 of 3386 done. It was 20190228_052416.a\n",
      "earthquake number 398 of 3386 done. It was 20190228_041011.a\n",
      "earthquake number 399 of 3386 done. It was 20190228_033856.a\n",
      "earthquake number 400 of 3386 done. It was 20190228_021348.a\n",
      "earthquake number 401 of 3386 done. It was 20190228_010409.a\n",
      "earthquake number 402 of 3386 done. It was 20190228_001310.a\n",
      "earthquake number 403 of 3386 done. It was 20190227_201705.a\n",
      "earthquake number 404 of 3386 done. It was 20190227_130106.a\n",
      "earthquake number 405 of 3386 done. It was 20190227_034221.a\n",
      "earthquake number 406 of 3386 done. It was 20190227_000934.a\n",
      "earthquake number 407 of 3386 done. It was 20190226_235024.a\n",
      "earthquake number 408 of 3386 done. It was 20190226_231743.a\n",
      "earthquake number 409 of 3386 done. It was 20190226_193133.a\n",
      "earthquake number 410 of 3386 done. It was 20190226_144106.a\n",
      "earthquake number 411 of 3386 done. It was 20190226_135815.a\n",
      "earthquake number 412 of 3386 done. It was 20190226_112310.a\n",
      "earthquake number 413 of 3386 done. It was 20190226_095134.a\n",
      "earthquake number 414 of 3386 done. It was 20190226_084726.a\n",
      "earthquake number 415 of 3386 done. It was 20190226_073207.a\n",
      "earthquake number 416 of 3386 done. It was 20190226_040941.a\n",
      "earthquake number 417 of 3386 done. It was 20190226_022954.a\n",
      "earthquake number 418 of 3386 done. It was 20190225_225432.a\n",
      "earthquake number 419 of 3386 done. It was 20190225_222917.a\n",
      "earthquake number 420 of 3386 done. It was 20190225_183135.a\n",
      "earthquake number 421 of 3386 done. It was 20190225_182712.a\n",
      "earthquake number 422 of 3386 done. It was 20190225_182230.a\n",
      "earthquake number 423 of 3386 done. It was 20190225_180433.a\n",
      "earthquake number 424 of 3386 done. It was 20190225_174319.a\n",
      "earthquake number 425 of 3386 done. It was 20190225_170221.a\n",
      "earthquake number 426 of 3386 done. It was 20190225_160418.a\n",
      "earthquake number 427 of 3386 done. It was 20190225_152842.a\n"
     ]
    },
    {
     "name": "stderr",
     "output_type": "stream",
     "text": [
      "/home/earthquakes1/software/Mageia/lib/python3.7/site-packages/obspy/io/stationxml/core.py:98: UserWarning: The StationXML file has version 1, ObsPy can read versions (1.0, 1.1). Proceed with caution.\n",
      "  version, \", \".join(READABLE_VERSIONS)))\n",
      "/home/earthquakes1/software/Mageia/lib/python3.7/site-packages/obspy/io/stationxml/core.py:98: UserWarning: The StationXML file has version 1, ObsPy can read versions (1.0, 1.1). Proceed with caution.\n",
      "  version, \", \".join(READABLE_VERSIONS)))\n"
     ]
    },
    {
     "name": "stdout",
     "output_type": "stream",
     "text": [
      "earthquake number 428 of 3386 done. It was 20190225_150841.a\n",
      "earthquake number 429 of 3386 done. It was 20190225_143559.a\n",
      "earthquake number 430 of 3386 done. It was 20190225_050117.a\n",
      "earthquake number 431 of 3386 done. It was 20190224_235854.a\n",
      "earthquake number 432 of 3386 done. It was 20190224_232713.a\n",
      "earthquake number 433 of 3386 done. It was 20190224_181216.a\n",
      "earthquake number 434 of 3386 done. It was 20190224_163736.a\n",
      "earthquake number 435 of 3386 done. It was 20190224_131403.a\n",
      "earthquake number 436 of 3386 done. It was 20190224_104122.a\n",
      "earthquake number 437 of 3386 done. It was 20190224_085356.a\n",
      "earthquake number 438 of 3386 done. It was 20190224_083306.a\n",
      "earthquake number 439 of 3386 done. It was 20190224_012538.a\n",
      "earthquake number 440 of 3386 done. It was 20190223_212401.a\n"
     ]
    },
    {
     "name": "stderr",
     "output_type": "stream",
     "text": [
      "/home/earthquakes1/software/Mageia/lib/python3.7/site-packages/obspy/io/stationxml/core.py:98: UserWarning: The StationXML file has version 1, ObsPy can read versions (1.0, 1.1). Proceed with caution.\n",
      "  version, \", \".join(READABLE_VERSIONS)))\n",
      "/home/earthquakes1/software/Mageia/lib/python3.7/site-packages/obspy/io/stationxml/core.py:98: UserWarning: The StationXML file has version 1, ObsPy can read versions (1.0, 1.1). Proceed with caution.\n",
      "  version, \", \".join(READABLE_VERSIONS)))\n",
      "/home/earthquakes1/software/Mageia/lib/python3.7/site-packages/obspy/io/stationxml/core.py:98: UserWarning: The StationXML file has version 1, ObsPy can read versions (1.0, 1.1). Proceed with caution.\n",
      "  version, \", \".join(READABLE_VERSIONS)))\n",
      "/home/earthquakes1/software/Mageia/lib/python3.7/site-packages/obspy/io/stationxml/core.py:98: UserWarning: The StationXML file has version 1, ObsPy can read versions (1.0, 1.1). Proceed with caution.\n",
      "  version, \", \".join(READABLE_VERSIONS)))\n",
      "/home/earthquakes1/software/Mageia/lib/python3.7/site-packages/obspy/io/stationxml/core.py:98: UserWarning: The StationXML file has version 1, ObsPy can read versions (1.0, 1.1). Proceed with caution.\n",
      "  version, \", \".join(READABLE_VERSIONS)))\n"
     ]
    },
    {
     "name": "stdout",
     "output_type": "stream",
     "text": [
      "earthquake number 441 of 3386 done. It was 20190223_205654.a\n",
      "earthquake number 442 of 3386 done. It was 20190223_204131.a\n",
      "earthquake number 443 of 3386 done. It was 20190223_195833.a\n",
      "earthquake number 444 of 3386 done. It was 20190223_125402.a\n",
      "earthquake number 445 of 3386 done. It was 20190223_121257.a\n",
      "earthquake number 446 of 3386 done. It was 20190223_110706.a\n",
      "earthquake number 447 of 3386 done. It was 20190223_095534.a\n",
      "earthquake number 448 of 3386 done. It was 20190223_093110.a\n",
      "earthquake number 449 of 3386 done. It was 20190223_053051.a\n",
      "earthquake number 450 of 3386 done. It was 20190223_050403.a\n",
      "earthquake number 451 of 3386 done. It was 20190223_044505.a\n",
      "earthquake number 452 of 3386 done. It was 20190223_041823.a\n",
      "earthquake number 453 of 3386 done. It was 20190223_020626.a\n",
      "earthquake number 454 of 3386 done. It was 20190222_190450.a\n",
      "earthquake number 455 of 3386 done. It was 20190222_181301.a\n",
      "earthquake number 456 of 3386 done. It was 20190222_170326.a\n",
      "earthquake number 457 of 3386 done. It was 20190222_123107.a\n",
      "earthquake number 458 of 3386 done. It was 20190222_104041.a\n",
      "earthquake number 459 of 3386 done. It was 20190222_102911.a\n",
      "earthquake number 460 of 3386 done. It was 20190222_102911.a\n",
      "earthquake number 461 of 3386 done. It was 20190222_102909.a\n",
      "earthquake number 462 of 3386 done. It was 20190222_102859.a\n",
      "earthquake number 463 of 3386 done. It was 20190222_102848.a\n",
      "earthquake number 464 of 3386 done. It was 20190222_102608.a\n",
      "earthquake number 465 of 3386 done. It was 20190222_095256.a\n",
      "earthquake number 466 of 3386 done. It was 20190222_092951.a\n",
      "earthquake number 467 of 3386 done. It was 20190222_092558.a\n",
      "earthquake number 468 of 3386 done. It was 20190222_084042.a\n",
      "earthquake number 469 of 3386 done. It was 20190222_064420.a\n",
      "earthquake number 470 of 3386 done. It was 20190222_052000.a\n",
      "earthquake number 471 of 3386 done. It was 20190222_051201.a\n",
      "earthquake number 472 of 3386 done. It was 20190222_035037.a\n",
      "earthquake number 473 of 3386 done. It was 20190222_020948.a\n",
      "earthquake number 474 of 3386 done. It was 20190222_014419.a\n",
      "earthquake number 475 of 3386 done. It was 20190222_002816.a\n",
      "earthquake number 476 of 3386 done. It was 20190221_213233.a\n",
      "earthquake number 477 of 3386 done. It was 20190221_172803.a\n",
      "earthquake number 478 of 3386 done. It was 20190221_171737.a\n",
      "earthquake number 479 of 3386 done. It was 20190221_171346.a\n",
      "earthquake number 480 of 3386 done. It was 20190221_123017.a\n",
      "earthquake number 481 of 3386 done. It was 20190221_122241.a\n",
      "earthquake number 482 of 3386 done. It was 20190221_114422.a\n",
      "earthquake number 483 of 3386 done. It was 20190221_102932.a\n",
      "earthquake number 484 of 3386 done. It was 20190221_085223.a\n",
      "earthquake number 485 of 3386 done. It was 20190221_085203.a\n",
      "earthquake number 486 of 3386 done. It was 20190221_073749.a\n",
      "earthquake number 487 of 3386 done. It was 20190221_065725.a\n",
      "earthquake number 488 of 3386 done. It was 20190221_023815.a\n",
      "earthquake number 489 of 3386 done. It was 20190221_004226.a\n",
      "earthquake number 490 of 3386 done. It was 20190220_220457.a\n",
      "earthquake number 491 of 3386 done. It was 20190220_182329.a\n"
     ]
    },
    {
     "name": "stderr",
     "output_type": "stream",
     "text": [
      "/home/earthquakes1/software/Mageia/lib/python3.7/site-packages/obspy/io/stationxml/core.py:98: UserWarning: The StationXML file has version 1, ObsPy can read versions (1.0, 1.1). Proceed with caution.\n",
      "  version, \", \".join(READABLE_VERSIONS)))\n",
      "/home/earthquakes1/software/Mageia/lib/python3.7/site-packages/obspy/io/stationxml/core.py:98: UserWarning: The StationXML file has version 1, ObsPy can read versions (1.0, 1.1). Proceed with caution.\n",
      "  version, \", \".join(READABLE_VERSIONS)))\n",
      "/home/earthquakes1/software/Mageia/lib/python3.7/site-packages/obspy/io/stationxml/core.py:98: UserWarning: The StationXML file has version 1, ObsPy can read versions (1.0, 1.1). Proceed with caution.\n",
      "  version, \", \".join(READABLE_VERSIONS)))\n",
      "/home/earthquakes1/software/Mageia/lib/python3.7/site-packages/obspy/io/stationxml/core.py:98: UserWarning: The StationXML file has version 1, ObsPy can read versions (1.0, 1.1). Proceed with caution.\n",
      "  version, \", \".join(READABLE_VERSIONS)))\n"
     ]
    },
    {
     "name": "stdout",
     "output_type": "stream",
     "text": [
      "earthquake number 492 of 3386 done. It was 20190220_141849.a\n",
      "earthquake number 493 of 3386 done. It was 20190220_115100.a\n",
      "earthquake number 494 of 3386 done. It was 20190220_104324.a\n",
      "earthquake number 495 of 3386 done. It was 20190220_102233.a\n",
      "earthquake number 496 of 3386 done. It was 20190220_090542.a\n",
      "earthquake number 497 of 3386 done. It was 20190220_061641.a\n",
      "earthquake number 498 of 3386 done. It was 20190220_061528.a\n",
      "earthquake number 499 of 3386 done. It was 20190220_054732.a\n",
      "earthquake number 500 of 3386 done. It was 20190220_040650.a\n",
      "earthquake number 501 of 3386 done. It was 20190220_022654.a\n",
      "earthquake number 502 of 3386 done. It was 20190220_013544.a\n",
      "earthquake number 503 of 3386 done. It was 20190219_220002.a\n",
      "earthquake number 504 of 3386 done. It was 20190219_213356.a\n"
     ]
    },
    {
     "name": "stderr",
     "output_type": "stream",
     "text": [
      "/home/earthquakes1/software/Mageia/lib/python3.7/site-packages/obspy/io/stationxml/core.py:98: UserWarning: The StationXML file has version 1, ObsPy can read versions (1.0, 1.1). Proceed with caution.\n",
      "  version, \", \".join(READABLE_VERSIONS)))\n"
     ]
    },
    {
     "name": "stdout",
     "output_type": "stream",
     "text": [
      "earthquake number 505 of 3386 done. It was 20190219_204120.a\n",
      "earthquake number 506 of 3386 done. It was 20190219_181456.a\n",
      "earthquake number 507 of 3386 done. It was 20190219_180810.a\n"
     ]
    },
    {
     "name": "stderr",
     "output_type": "stream",
     "text": [
      "/home/earthquakes1/software/Mageia/lib/python3.7/site-packages/obspy/io/stationxml/core.py:98: UserWarning: The StationXML file has version 1, ObsPy can read versions (1.0, 1.1). Proceed with caution.\n",
      "  version, \", \".join(READABLE_VERSIONS)))\n",
      "/home/earthquakes1/software/Mageia/lib/python3.7/site-packages/obspy/io/stationxml/core.py:98: UserWarning: The StationXML file has version 1, ObsPy can read versions (1.0, 1.1). Proceed with caution.\n",
      "  version, \", \".join(READABLE_VERSIONS)))\n"
     ]
    },
    {
     "name": "stdout",
     "output_type": "stream",
     "text": [
      "earthquake number 508 of 3386 done. It was 20190219_141620.a\n",
      "earthquake number 509 of 3386 done. It was 20190219_133339.a\n",
      "earthquake number 510 of 3386 done. It was 20190219_132846.a\n",
      "earthquake number 511 of 3386 done. It was 20190219_065907.a\n",
      "earthquake number 512 of 3386 done. It was 20190219_050943.a\n",
      "earthquake number 513 of 3386 done. It was 20190219_032654.a\n",
      "earthquake number 514 of 3386 done. It was 20190218_170246.a\n",
      "earthquake number 515 of 3386 done. It was 20190218_163133.a\n",
      "earthquake number 516 of 3386 done. It was 20190218_121841.a\n",
      "earthquake number 517 of 3386 done. It was 20190218_102108.a\n",
      "earthquake number 518 of 3386 done. It was 20190218_094301.a\n",
      "earthquake number 519 of 3386 done. It was 20190217_214001.a\n",
      "earthquake number 520 of 3386 done. It was 20190217_190741.a\n",
      "earthquake number 521 of 3386 done. It was 20190217_144653.a\n",
      "earthquake number 522 of 3386 done. It was 20190217_143555.a\n",
      "earthquake number 523 of 3386 done. It was 20190217_133309.a\n",
      "earthquake number 524 of 3386 done. It was 20190217_123759.a\n",
      "earthquake number 525 of 3386 done. It was 20190217_115035.a\n",
      "earthquake number 526 of 3386 done. It was 20190217_113647.a\n",
      "earthquake number 527 of 3386 done. It was 20190217_100423.a\n",
      "earthquake number 528 of 3386 done. It was 20190217_095524.a\n",
      "earthquake number 529 of 3386 done. It was 20190217_085045.a\n",
      "earthquake number 530 of 3386 done. It was 20190217_025832.a\n",
      "earthquake number 531 of 3386 done. It was 20190216_230951.a\n",
      "earthquake number 532 of 3386 done. It was 20190216_223507.a\n",
      "earthquake number 533 of 3386 done. It was 20190216_212250.a\n",
      "earthquake number 534 of 3386 done. It was 20190216_205312.a\n",
      "earthquake number 535 of 3386 done. It was 20190216_135858.a\n",
      "earthquake number 536 of 3386 done. It was 20190216_100015.a\n",
      "earthquake number 537 of 3386 done. It was 20190216_085502.a\n",
      "earthquake number 538 of 3386 done. It was 20190216_075536.a\n",
      "earthquake number 539 of 3386 done. It was 20190216_075252.a\n",
      "earthquake number 540 of 3386 done. It was 20190216_062536.a\n",
      "earthquake number 541 of 3386 done. It was 20190216_041328.a\n",
      "earthquake number 542 of 3386 done. It was 20190216_032924.a\n",
      "earthquake number 543 of 3386 done. It was 20190216_015715.a\n",
      "earthquake number 544 of 3386 done. It was 20190216_015433.a\n",
      "earthquake number 545 of 3386 done. It was 20190216_014912.a\n",
      "earthquake number 546 of 3386 done. It was 20190216_013514.a\n",
      "earthquake number 547 of 3386 done. It was 20190216_012441.a\n",
      "earthquake number 548 of 3386 done. It was 20190215_225731.a\n",
      "earthquake number 549 of 3386 done. It was 20190215_170519.a\n"
     ]
    },
    {
     "name": "stderr",
     "output_type": "stream",
     "text": [
      "/home/earthquakes1/software/Mageia/lib/python3.7/site-packages/obspy/io/stationxml/core.py:98: UserWarning: The StationXML file has version 1, ObsPy can read versions (1.0, 1.1). Proceed with caution.\n",
      "  version, \", \".join(READABLE_VERSIONS)))\n",
      "/home/earthquakes1/software/Mageia/lib/python3.7/site-packages/obspy/io/stationxml/core.py:98: UserWarning: The StationXML file has version 1, ObsPy can read versions (1.0, 1.1). Proceed with caution.\n",
      "  version, \", \".join(READABLE_VERSIONS)))\n"
     ]
    },
    {
     "name": "stdout",
     "output_type": "stream",
     "text": [
      "earthquake number 550 of 3386 done. It was 20190215_165705.a\n",
      "earthquake number 551 of 3386 done. It was 20190215_144430.a\n",
      "earthquake number 552 of 3386 done. It was 20190215_140806.a\n",
      "earthquake number 553 of 3386 done. It was 20190215_120951.a\n",
      "earthquake number 554 of 3386 done. It was 20190215_120250.a\n",
      "earthquake number 555 of 3386 done. It was 20190215_111811.a\n",
      "earthquake number 556 of 3386 done. It was 20190215_102922.a\n",
      "earthquake number 557 of 3386 done. It was 20190215_101334.a\n",
      "earthquake number 558 of 3386 done. It was 20190215_085636.a\n",
      "earthquake number 559 of 3386 done. It was 20190215_070006.a\n",
      "earthquake number 560 of 3386 done. It was 20190215_055043.a\n",
      "earthquake number 561 of 3386 done. It was 20190215_044722.a\n",
      "earthquake number 562 of 3386 done. It was 20190215_023053.a\n",
      "earthquake number 563 of 3386 done. It was 20190214_182430.a\n",
      "earthquake number 564 of 3386 done. It was 20190214_174218.a\n",
      "earthquake number 565 of 3386 done. It was 20190214_144346.a\n",
      "earthquake number 566 of 3386 done. It was 20190214_130146.a\n",
      "earthquake number 567 of 3386 done. It was 20190214_100708.a\n",
      "earthquake number 568 of 3386 done. It was 20190214_062446.a\n",
      "earthquake number 569 of 3386 done. It was 20190214_024203.a\n",
      "earthquake number 570 of 3386 done. It was 20190214_004831.a\n",
      "earthquake number 571 of 3386 done. It was 20190213_182522.a\n",
      "earthquake number 572 of 3386 done. It was 20190213_163949.a\n",
      "earthquake number 573 of 3386 done. It was 20190213_073843.a\n",
      "earthquake number 574 of 3386 done. It was 20190213_072332.a\n",
      "earthquake number 575 of 3386 done. It was 20190213_062439.a\n",
      "earthquake number 576 of 3386 done. It was 20190213_060034.a\n",
      "earthquake number 577 of 3386 done. It was 20190213_003442.a\n",
      "earthquake number 578 of 3386 done. It was 20190212_212907.a\n",
      "earthquake number 579 of 3386 done. It was 20190212_190619.a\n",
      "earthquake number 580 of 3386 done. It was 20190212_182301.a\n",
      "earthquake number 581 of 3386 done. It was 20190212_180720.a\n",
      "earthquake number 582 of 3386 done. It was 20190212_172723.a\n",
      "earthquake number 583 of 3386 done. It was 20190212_172325.a\n",
      "earthquake number 584 of 3386 done. It was 20190212_171430.a\n",
      "earthquake number 585 of 3386 done. It was 20190212_163900.a\n",
      "earthquake number 586 of 3386 done. It was 20190212_155939.a\n",
      "earthquake number 587 of 3386 done. It was 20190212_141309.a\n",
      "earthquake number 588 of 3386 done. It was 20190212_111134.a\n",
      "earthquake number 589 of 3386 done. It was 20190212_105307.a\n",
      "earthquake number 590 of 3386 done. It was 20190212_085131.a\n",
      "earthquake number 591 of 3386 done. It was 20190212_031843.a\n",
      "earthquake number 592 of 3386 done. It was 20190212_014538.a\n",
      "earthquake number 593 of 3386 done. It was 20190211_163803.a\n",
      "earthquake number 594 of 3386 done. It was 20190211_145415.a\n",
      "earthquake number 595 of 3386 done. It was 20190211_135612.a\n",
      "earthquake number 596 of 3386 done. It was 20190211_104426.a\n",
      "earthquake number 597 of 3386 done. It was 20190211_090401.a\n",
      "earthquake number 598 of 3386 done. It was 20190211_011152.a\n",
      "earthquake number 599 of 3386 done. It was 20190211_000848.a\n",
      "earthquake number 600 of 3386 done. It was 20190210_210036.a\n",
      "earthquake number 601 of 3386 done. It was 20190210_171223.a\n",
      "earthquake number 602 of 3386 done. It was 20190210_171144.a\n",
      "earthquake number 603 of 3386 done. It was 20190210_165644.a\n",
      "earthquake number 604 of 3386 done. It was 20190210_155916.a\n",
      "earthquake number 605 of 3386 done. It was 20190210_152850.a\n",
      "earthquake number 606 of 3386 done. It was 20190210_140942.a\n",
      "earthquake number 607 of 3386 done. It was 20190210_133548.a\n",
      "earthquake number 608 of 3386 done. It was 20190210_133206.a\n",
      "earthquake number 609 of 3386 done. It was 20190210_132257.a\n",
      "earthquake number 610 of 3386 done. It was 20190210_125405.a\n",
      "earthquake number 611 of 3386 done. It was 20190210_121515.a\n",
      "earthquake number 612 of 3386 done. It was 20190210_114410.a\n",
      "earthquake number 613 of 3386 done. It was 20190210_013012.a\n",
      "earthquake number 614 of 3386 done. It was 20190210_005423.a\n",
      "earthquake number 615 of 3386 done. It was 20190209_234054.a\n",
      "earthquake number 616 of 3386 done. It was 20190209_230116.a\n",
      "earthquake number 617 of 3386 done. It was 20190209_220823.a\n",
      "earthquake number 618 of 3386 done. It was 20190209_201258.a\n",
      "earthquake number 619 of 3386 done. It was 20190209_192308.a\n",
      "earthquake number 620 of 3386 done. It was 20190209_142148.a\n",
      "earthquake number 621 of 3386 done. It was 20190209_111123.a\n",
      "earthquake number 622 of 3386 done. It was 20190209_043751.a\n",
      "earthquake number 623 of 3386 done. It was 20190209_042321.a\n",
      "earthquake number 624 of 3386 done. It was 20190209_023741.a\n",
      "earthquake number 625 of 3386 done. It was 20190208_233029.a\n",
      "earthquake number 626 of 3386 done. It was 20190208_170837.a\n",
      "earthquake number 627 of 3386 done. It was 20190208_143623.a\n",
      "earthquake number 628 of 3386 done. It was 20190208_101650.a\n",
      "earthquake number 629 of 3386 done. It was 20190208_074446.a\n",
      "earthquake number 630 of 3386 done. It was 20190208_072337.a\n",
      "earthquake number 631 of 3386 done. It was 20190208_063109.a\n",
      "earthquake number 632 of 3386 done. It was 20190208_003403.a\n",
      "earthquake number 633 of 3386 done. It was 20190207_221038.a\n",
      "earthquake number 634 of 3386 done. It was 20190207_213411.a\n",
      "earthquake number 635 of 3386 done. It was 20190207_190658.a\n",
      "earthquake number 636 of 3386 done. It was 20190207_184219.a\n",
      "earthquake number 637 of 3386 done. It was 20190207_165203.a\n",
      "earthquake number 638 of 3386 done. It was 20190207_164124.a\n",
      "earthquake number 639 of 3386 done. It was 20190207_161455.a\n",
      "earthquake number 640 of 3386 done. It was 20190207_155412.a\n",
      "earthquake number 641 of 3386 done. It was 20190207_085819.a\n",
      "earthquake number 642 of 3386 done. It was 20190207_084850.a\n",
      "earthquake number 643 of 3386 done. It was 20190207_082437.a\n",
      "earthquake number 644 of 3386 done. It was 20190207_075754.a\n",
      "earthquake number 645 of 3386 done. It was 20190207_053458.a\n",
      "earthquake number 646 of 3386 done. It was 20190207_031258.a\n",
      "earthquake number 647 of 3386 done. It was 20190207_004650.a\n",
      "earthquake number 648 of 3386 done. It was 20190206_225818.a\n",
      "earthquake number 649 of 3386 done. It was 20190206_220620.a\n",
      "earthquake number 650 of 3386 done. It was 20190206_210752.a\n",
      "earthquake number 651 of 3386 done. It was 20190206_205143.a\n",
      "earthquake number 652 of 3386 done. It was 20190206_202759.a\n",
      "earthquake number 653 of 3386 done. It was 20190206_200446.a\n",
      "earthquake number 654 of 3386 done. It was 20190206_182301.a\n",
      "earthquake number 655 of 3386 done. It was 20190206_175707.a\n",
      "earthquake number 656 of 3386 done. It was 20190206_175649.a\n",
      "earthquake number 657 of 3386 done. It was 20190206_162125.a\n",
      "earthquake number 658 of 3386 done. It was 20190206_133940.a\n",
      "earthquake number 659 of 3386 done. It was 20190206_095759.a\n",
      "earthquake number 660 of 3386 done. It was 20190206_055146.a\n",
      "earthquake number 661 of 3386 done. It was 20190206_044357.a\n",
      "earthquake number 662 of 3386 done. It was 20190206_004911.a\n",
      "earthquake number 663 of 3386 done. It was 20190206_003422.a\n",
      "earthquake number 664 of 3386 done. It was 20190206_000943.a\n",
      "earthquake number 665 of 3386 done. It was 20190205_233614.a\n",
      "earthquake number 666 of 3386 done. It was 20190205_192141.a\n",
      "earthquake number 667 of 3386 done. It was 20190205_161534.a\n",
      "earthquake number 668 of 3386 done. It was 20190205_154503.a\n",
      "earthquake number 669 of 3386 done. It was 20190205_153802.a\n",
      "earthquake number 670 of 3386 done. It was 20190205_151151.a\n",
      "earthquake number 671 of 3386 done. It was 20190205_131721.a\n",
      "earthquake number 672 of 3386 done. It was 20190205_122501.a\n",
      "earthquake number 673 of 3386 done. It was 20190205_104811.a\n",
      "earthquake number 674 of 3386 done. It was 20190205_100934.a\n",
      "earthquake number 675 of 3386 done. It was 20190205_095304.a\n",
      "earthquake number 676 of 3386 done. It was 20190205_090715.a\n",
      "earthquake number 677 of 3386 done. It was 20190205_050058.a\n",
      "earthquake number 678 of 3386 done. It was 20190205_045023.a\n",
      "earthquake number 679 of 3386 done. It was 20190205_042544.a\n",
      "earthquake number 680 of 3386 done. It was 20190205_041545.a\n",
      "earthquake number 681 of 3386 done. It was 20190205_031538.a\n",
      "earthquake number 682 of 3386 done. It was 20190205_022826.a\n",
      "earthquake number 683 of 3386 done. It was 20190205_022609.a\n",
      "earthquake number 684 of 3386 done. It was 20190205_020154.a\n"
     ]
    },
    {
     "name": "stdout",
     "output_type": "stream",
     "text": [
      "earthquake number 685 of 3386 done. It was 20190205_015455.a\n",
      "earthquake number 686 of 3386 done. It was 20190205_002120.a\n",
      "earthquake number 687 of 3386 done. It was 20190204_230431.a\n",
      "earthquake number 688 of 3386 done. It was 20190204_201654.a\n",
      "earthquake number 689 of 3386 done. It was 20190204_181920.a\n",
      "earthquake number 690 of 3386 done. It was 20190204_174548.a\n",
      "earthquake number 691 of 3386 done. It was 20190204_174107.a\n",
      "earthquake number 692 of 3386 done. It was 20190204_165048.a\n",
      "earthquake number 693 of 3386 done. It was 20190204_161020.a\n",
      "earthquake number 694 of 3386 done. It was 20190204_143348.a\n",
      "earthquake number 695 of 3386 done. It was 20190204_125539.a\n",
      "earthquake number 696 of 3386 done. It was 20190204_115322.a\n",
      "earthquake number 697 of 3386 done. It was 20190204_063048.a\n"
     ]
    },
    {
     "name": "stderr",
     "output_type": "stream",
     "text": [
      "/home/earthquakes1/software/Mageia/lib/python3.7/site-packages/obspy/core/inventory/response.py:964: UserWarning: Input sampling rate of stage 3 is inconsistent with the previous stages' output sampling rate\n",
      "  warnings.warn(msg % i)\n"
     ]
    },
    {
     "name": "stdout",
     "output_type": "stream",
     "text": [
      "earthquake number 698 of 3386 done. It was 20190204_020128.a\n",
      "earthquake number 699 of 3386 done. It was 20190204_000506.a\n",
      "earthquake number 700 of 3386 done. It was 20190203_234321.a\n",
      "earthquake number 701 of 3386 done. It was 20190203_231321.a\n",
      "earthquake number 702 of 3386 done. It was 20190203_224650.a\n",
      "earthquake number 703 of 3386 done. It was 20190203_221812.a\n",
      "earthquake number 704 of 3386 done. It was 20190203_212455.a\n",
      "earthquake number 705 of 3386 done. It was 20190203_174030.a\n",
      "earthquake number 706 of 3386 done. It was 20190203_172045.a\n",
      "earthquake number 707 of 3386 done. It was 20190203_171900.a\n",
      "earthquake number 708 of 3386 done. It was 20190203_171117.a\n",
      "earthquake number 709 of 3386 done. It was 20190203_142600.a\n",
      "earthquake number 710 of 3386 done. It was 20190203_130945.a\n",
      "earthquake number 711 of 3386 done. It was 20190203_112620.a\n",
      "earthquake number 712 of 3386 done. It was 20190203_071116.a\n",
      "earthquake number 713 of 3386 done. It was 20190203_060832.a\n",
      "earthquake number 715 of 3385 done. It was 20190203_030310.a\n",
      "earthquake number 716 of 3385 done. It was 20190203_024314.a\n",
      "earthquake number 717 of 3385 done. It was 20190203_013824.a\n",
      "earthquake number 718 of 3385 done. It was 20190203_010115.a\n",
      "earthquake number 719 of 3385 done. It was 20190203_003650.a\n",
      "earthquake number 720 of 3385 done. It was 20190203_001830.a\n",
      "earthquake number 721 of 3385 done. It was 20190202_223908.a\n",
      "earthquake number 722 of 3385 done. It was 20190202_221828.a\n",
      "earthquake number 723 of 3385 done. It was 20190202_210141.a\n",
      "earthquake number 724 of 3385 done. It was 20190202_201917.a\n",
      "earthquake number 725 of 3385 done. It was 20190202_165451.a\n",
      "earthquake number 726 of 3385 done. It was 20190202_161615.a\n",
      "earthquake number 727 of 3385 done. It was 20190202_160020.a\n",
      "earthquake number 728 of 3385 done. It was 20190202_122037.a\n",
      "earthquake number 729 of 3385 done. It was 20190202_113458.a\n",
      "earthquake number 730 of 3385 done. It was 20190202_111826.a\n",
      "earthquake number 731 of 3385 done. It was 20190202_105221.a\n",
      "earthquake number 732 of 3385 done. It was 20190202_102053.a\n",
      "earthquake number 733 of 3385 done. It was 20190202_041342.a\n",
      "earthquake number 734 of 3385 done. It was 20190202_025517.a\n",
      "earthquake number 735 of 3385 done. It was 20190202_022729.a\n",
      "earthquake number 736 of 3385 done. It was 20190202_001457.a\n",
      "earthquake number 738 of 3384 done. It was 20190201_182322.a\n",
      "earthquake number 739 of 3384 done. It was 20190201_170516.a\n",
      "earthquake number 740 of 3384 done. It was 20190201_150938.a\n",
      "earthquake number 741 of 3384 done. It was 20190201_133940.a\n",
      "earthquake number 742 of 3384 done. It was 20190201_102947.a\n",
      "earthquake number 743 of 3384 done. It was 20190201_085832.a\n",
      "earthquake number 744 of 3384 done. It was 20190201_050159.a\n",
      "earthquake number 745 of 3384 done. It was 20190331_232245.a\n",
      "earthquake number 746 of 3384 done. It was 20190331_224934.a\n",
      "earthquake number 747 of 3384 done. It was 20190331_174902.a\n",
      "earthquake number 748 of 3384 done. It was 20190331_171018.a\n",
      "earthquake number 749 of 3384 done. It was 20190331_144136.a\n",
      "earthquake number 750 of 3384 done. It was 20190331_115127.a\n",
      "earthquake number 751 of 3384 done. It was 20190331_113328.a\n",
      "earthquake number 752 of 3384 done. It was 20190331_113017.a\n",
      "earthquake number 753 of 3384 done. It was 20190331_094629.a\n",
      "earthquake number 754 of 3384 done. It was 20190330_232034.a\n",
      "earthquake number 755 of 3384 done. It was 20190330_215915.a\n",
      "earthquake number 756 of 3384 done. It was 20190330_203110.a\n",
      "earthquake number 757 of 3384 done. It was 20190330_184020.a\n",
      "earthquake number 758 of 3384 done. It was 20190330_183315.a\n",
      "earthquake number 759 of 3384 done. It was 20190330_142028.a\n",
      "earthquake number 760 of 3384 done. It was 20190330_113035.a\n",
      "earthquake number 761 of 3384 done. It was 20190330_110926.a\n",
      "earthquake number 762 of 3384 done. It was 20190330_110915.a\n",
      "earthquake number 763 of 3384 done. It was 20190330_104619.a\n",
      "earthquake number 764 of 3384 done. It was 20190330_100615.a\n",
      "earthquake number 765 of 3384 done. It was 20190330_064101.a\n",
      "earthquake number 766 of 3384 done. It was 20190330_062929.a\n",
      "earthquake number 767 of 3384 done. It was 20190330_030616.a\n",
      "earthquake number 768 of 3384 done. It was 20190330_002510.a\n",
      "earthquake number 769 of 3384 done. It was 20190329_225637.a\n",
      "earthquake number 770 of 3384 done. It was 20190329_222505.a\n",
      "earthquake number 771 of 3384 done. It was 20190329_214239.a\n",
      "earthquake number 772 of 3384 done. It was 20190329_212735.a\n",
      "earthquake number 773 of 3384 done. It was 20190329_203026.a\n",
      "earthquake number 774 of 3384 done. It was 20190329_183620.a\n",
      "earthquake number 775 of 3384 done. It was 20190329_180035.a\n",
      "earthquake number 776 of 3384 done. It was 20190329_151633.a\n",
      "earthquake number 777 of 3384 done. It was 20190329_105316.a\n",
      "earthquake number 778 of 3384 done. It was 20190329_084729.a\n",
      "earthquake number 779 of 3384 done. It was 20190329_083640.a\n",
      "earthquake number 780 of 3384 done. It was 20190329_070918.a\n",
      "earthquake number 781 of 3384 done. It was 20190329_070858.a\n",
      "earthquake number 782 of 3384 done. It was 20190329_063840.a\n",
      "earthquake number 783 of 3384 done. It was 20190329_045525.a\n",
      "earthquake number 784 of 3384 done. It was 20190329_032419.a\n",
      "earthquake number 785 of 3384 done. It was 20190329_024217.a\n",
      "earthquake number 786 of 3384 done. It was 20190329_023408.a\n",
      "earthquake number 787 of 3384 done. It was 20190328_210051.a\n",
      "earthquake number 788 of 3384 done. It was 20190328_175315.a\n",
      "earthquake number 789 of 3384 done. It was 20190328_175220.a\n",
      "earthquake number 790 of 3384 done. It was 20190328_162022.a\n",
      "earthquake number 791 of 3384 done. It was 20190328_153955.a\n",
      "earthquake number 792 of 3384 done. It was 20190328_153152.a\n",
      "earthquake number 793 of 3384 done. It was 20190328_150531.a\n",
      "earthquake number 794 of 3384 done. It was 20190328_102403.a\n",
      "earthquake number 795 of 3384 done. It was 20190328_090440.a\n",
      "earthquake number 796 of 3384 done. It was 20190328_084004.a\n",
      "earthquake number 797 of 3384 done. It was 20190328_075244.a\n",
      "earthquake number 798 of 3384 done. It was 20190328_065204.a\n",
      "earthquake number 799 of 3384 done. It was 20190328_061541.a\n",
      "earthquake number 800 of 3384 done. It was 20190328_053651.a\n",
      "earthquake number 801 of 3384 done. It was 20190328_044115.a\n",
      "earthquake number 802 of 3384 done. It was 20190328_041925.a\n",
      "earthquake number 803 of 3384 done. It was 20190328_033839.a\n"
     ]
    },
    {
     "name": "stderr",
     "output_type": "stream",
     "text": [
      "/home/earthquakes1/software/Mageia/lib/python3.7/site-packages/obspy/io/stationxml/core.py:98: UserWarning: The StationXML file has version 1, ObsPy can read versions (1.0, 1.1). Proceed with caution.\n",
      "  version, \", \".join(READABLE_VERSIONS)))\n"
     ]
    },
    {
     "name": "stdout",
     "output_type": "stream",
     "text": [
      "earthquake number 804 of 3384 done. It was 20190328_005620.a\n",
      "earthquake number 805 of 3384 done. It was 20190327_232226.a\n",
      "earthquake number 806 of 3384 done. It was 20190327_210845.a\n",
      "earthquake number 807 of 3384 done. It was 20190327_202731.a\n",
      "earthquake number 808 of 3384 done. It was 20190327_182256.a\n",
      "earthquake number 809 of 3384 done. It was 20190327_153417.a\n",
      "earthquake number 810 of 3384 done. It was 20190327_141918.a\n",
      "earthquake number 811 of 3384 done. It was 20190327_130650.a\n",
      "earthquake number 812 of 3384 done. It was 20190327_114313.a\n",
      "earthquake number 813 of 3384 done. It was 20190327_112704.a\n",
      "earthquake number 814 of 3384 done. It was 20190327_105605.a\n",
      "earthquake number 815 of 3384 done. It was 20190327_073839.a\n",
      "earthquake number 816 of 3384 done. It was 20190327_050634.a\n",
      "earthquake number 817 of 3384 done. It was 20190327_050319.a\n",
      "earthquake number 818 of 3384 done. It was 20190327_042949.a\n",
      "earthquake number 819 of 3384 done. It was 20190327_035708.a\n",
      "earthquake number 820 of 3384 done. It was 20190327_010705.a\n",
      "earthquake number 821 of 3384 done. It was 20190327_005844.a\n",
      "earthquake number 822 of 3384 done. It was 20190327_003452.a\n",
      "earthquake number 823 of 3384 done. It was 20190326_233316.a\n",
      "earthquake number 824 of 3384 done. It was 20190326_220922.a\n",
      "earthquake number 825 of 3384 done. It was 20190326_215634.a\n",
      "earthquake number 826 of 3384 done. It was 20190326_213529.a\n",
      "earthquake number 827 of 3384 done. It was 20190326_213044.a\n",
      "earthquake number 828 of 3384 done. It was 20190326_212718.a\n",
      "earthquake number 829 of 3384 done. It was 20190326_210515.a\n",
      "earthquake number 830 of 3384 done. It was 20190326_191740.a\n"
     ]
    },
    {
     "name": "stderr",
     "output_type": "stream",
     "text": [
      "/home/earthquakes1/software/Mageia/lib/python3.7/site-packages/obspy/io/stationxml/core.py:98: UserWarning: The StationXML file has version 1, ObsPy can read versions (1.0, 1.1). Proceed with caution.\n",
      "  version, \", \".join(READABLE_VERSIONS)))\n"
     ]
    },
    {
     "name": "stdout",
     "output_type": "stream",
     "text": [
      "earthquake number 831 of 3384 done. It was 20190326_190755.a\n",
      "earthquake number 832 of 3384 done. It was 20190326_181307.a\n",
      "earthquake number 833 of 3384 done. It was 20190326_152634.a\n",
      "earthquake number 834 of 3384 done. It was 20190325_220423.a\n",
      "earthquake number 835 of 3384 done. It was 20190325_203851.a\n",
      "earthquake number 836 of 3384 done. It was 20190325_183021.a\n",
      "earthquake number 837 of 3384 done. It was 20190325_163256.a\n",
      "earthquake number 838 of 3384 done. It was 20190325_162828.a\n",
      "earthquake number 839 of 3384 done. It was 20190325_143534.a\n",
      "earthquake number 840 of 3384 done. It was 20190325_130051.a\n",
      "earthquake number 841 of 3384 done. It was 20190325_124125.a\n",
      "earthquake number 842 of 3384 done. It was 20190325_112926.a\n",
      "earthquake number 843 of 3384 done. It was 20190325_105240.a\n",
      "earthquake number 844 of 3384 done. It was 20190325_055827.a\n",
      "earthquake number 845 of 3384 done. It was 20190325_045641.a\n",
      "earthquake number 846 of 3384 done. It was 20190324_173030.a\n",
      "earthquake number 847 of 3384 done. It was 20190324_161947.a\n",
      "earthquake number 848 of 3384 done. It was 20190324_161608.a\n",
      "earthquake number 849 of 3384 done. It was 20190324_151714.a\n",
      "earthquake number 850 of 3384 done. It was 20190324_134342.a\n",
      "earthquake number 851 of 3384 done. It was 20190324_133424.a\n",
      "earthquake number 852 of 3384 done. It was 20190324_115320.a\n",
      "earthquake number 853 of 3384 done. It was 20190324_115315.a\n",
      "earthquake number 854 of 3384 done. It was 20190324_113202.a\n",
      "earthquake number 855 of 3384 done. It was 20190324_093001.a\n",
      "earthquake number 856 of 3384 done. It was 20190324_054127.a\n",
      "earthquake number 857 of 3384 done. It was 20190324_050933.a\n",
      "earthquake number 858 of 3384 done. It was 20190324_044816.a\n",
      "earthquake number 859 of 3384 done. It was 20190324_032235.a\n",
      "earthquake number 860 of 3384 done. It was 20190323_190245.a\n",
      "earthquake number 861 of 3384 done. It was 20190323_182007.a\n",
      "earthquake number 862 of 3384 done. It was 20190323_151445.a\n",
      "earthquake number 863 of 3384 done. It was 20190323_140804.a\n",
      "earthquake number 864 of 3384 done. It was 20190323_125414.a\n",
      "earthquake number 865 of 3384 done. It was 20190323_114835.a\n",
      "earthquake number 866 of 3384 done. It was 20190323_091308.a\n",
      "earthquake number 867 of 3384 done. It was 20190323_073418.a\n",
      "earthquake number 868 of 3384 done. It was 20190322_223618.a\n",
      "earthquake number 869 of 3384 done. It was 20190322_181454.a\n",
      "earthquake number 870 of 3384 done. It was 20190322_163054.a\n",
      "earthquake number 871 of 3384 done. It was 20190322_125030.a\n",
      "earthquake number 872 of 3384 done. It was 20190322_010903.a\n",
      "earthquake number 873 of 3384 done. It was 20190322_005640.a\n",
      "earthquake number 874 of 3384 done. It was 20190321_203435.a\n",
      "earthquake number 875 of 3384 done. It was 20190321_185542.a\n",
      "earthquake number 876 of 3384 done. It was 20190321_183857.a\n"
     ]
    },
    {
     "name": "stderr",
     "output_type": "stream",
     "text": [
      "/home/earthquakes1/software/Mageia/lib/python3.7/site-packages/obspy/io/stationxml/core.py:98: UserWarning: The StationXML file has version 1, ObsPy can read versions (1.0, 1.1). Proceed with caution.\n",
      "  version, \", \".join(READABLE_VERSIONS)))\n",
      "/home/earthquakes1/software/Mageia/lib/python3.7/site-packages/obspy/io/stationxml/core.py:98: UserWarning: The StationXML file has version 1, ObsPy can read versions (1.0, 1.1). Proceed with caution.\n",
      "  version, \", \".join(READABLE_VERSIONS)))\n"
     ]
    },
    {
     "name": "stdout",
     "output_type": "stream",
     "text": [
      "earthquake number 877 of 3384 done. It was 20190321_174736.a\n",
      "earthquake number 878 of 3384 done. It was 20190321_165752.a\n",
      "earthquake number 879 of 3384 done. It was 20190321_165522.a\n",
      "earthquake number 880 of 3384 done. It was 20190321_164112.a\n",
      "earthquake number 881 of 3384 done. It was 20190321_161623.a\n",
      "earthquake number 882 of 3384 done. It was 20190321_153204.a\n",
      "earthquake number 883 of 3384 done. It was 20190321_143054.a\n",
      "earthquake number 884 of 3384 done. It was 20190321_111224.a\n",
      "earthquake number 885 of 3384 done. It was 20190321_105317.a\n",
      "earthquake number 886 of 3384 done. It was 20190321_081640.a\n",
      "earthquake number 887 of 3384 done. It was 20190321_055110.a\n",
      "earthquake number 888 of 3384 done. It was 20190321_053314.a\n",
      "earthquake number 889 of 3384 done. It was 20190320_233742.a\n",
      "earthquake number 890 of 3384 done. It was 20190320_223244.a\n",
      "earthquake number 891 of 3384 done. It was 20190320_202247.a\n",
      "earthquake number 892 of 3384 done. It was 20190320_183134.a\n",
      "earthquake number 893 of 3384 done. It was 20190320_182337.a\n",
      "earthquake number 894 of 3384 done. It was 20190320_174256.a\n",
      "earthquake number 895 of 3384 done. It was 20190320_165812.a\n",
      "earthquake number 896 of 3384 done. It was 20190320_152358.a\n",
      "earthquake number 897 of 3384 done. It was 20190320_124544.a\n",
      "earthquake number 898 of 3384 done. It was 20190320_121801.a\n",
      "earthquake number 899 of 3384 done. It was 20190320_120602.a\n",
      "earthquake number 900 of 3384 done. It was 20190320_111637.a\n",
      "earthquake number 901 of 3384 done. It was 20190320_102735.a\n",
      "earthquake number 902 of 3384 done. It was 20190320_095640.a\n",
      "earthquake number 903 of 3384 done. It was 20190320_083420.a\n",
      "earthquake number 904 of 3384 done. It was 20190320_074412.a\n",
      "earthquake number 905 of 3384 done. It was 20190320_071936.a\n",
      "earthquake number 906 of 3384 done. It was 20190320_063428.a\n",
      "earthquake number 907 of 3384 done. It was 20190320_031602.a\n",
      "earthquake number 908 of 3384 done. It was 20190320_014557.a\n"
     ]
    },
    {
     "name": "stderr",
     "output_type": "stream",
     "text": [
      "/home/earthquakes1/software/Mageia/lib/python3.7/site-packages/obspy/io/stationxml/core.py:98: UserWarning: The StationXML file has version 1, ObsPy can read versions (1.0, 1.1). Proceed with caution.\n",
      "  version, \", \".join(READABLE_VERSIONS)))\n",
      "/home/earthquakes1/software/Mageia/lib/python3.7/site-packages/obspy/io/stationxml/core.py:98: UserWarning: The StationXML file has version 1, ObsPy can read versions (1.0, 1.1). Proceed with caution.\n",
      "  version, \", \".join(READABLE_VERSIONS)))\n",
      "/home/earthquakes1/software/Mageia/lib/python3.7/site-packages/obspy/io/stationxml/core.py:98: UserWarning: The StationXML file has version 1, ObsPy can read versions (1.0, 1.1). Proceed with caution.\n",
      "  version, \", \".join(READABLE_VERSIONS)))\n",
      "/home/earthquakes1/software/Mageia/lib/python3.7/site-packages/obspy/io/stationxml/core.py:98: UserWarning: The StationXML file has version 1, ObsPy can read versions (1.0, 1.1). Proceed with caution.\n",
      "  version, \", \".join(READABLE_VERSIONS)))\n",
      "/home/earthquakes1/software/Mageia/lib/python3.7/site-packages/obspy/io/stationxml/core.py:98: UserWarning: The StationXML file has version 1, ObsPy can read versions (1.0, 1.1). Proceed with caution.\n",
      "  version, \", \".join(READABLE_VERSIONS)))\n",
      "/home/earthquakes1/software/Mageia/lib/python3.7/site-packages/obspy/io/stationxml/core.py:98: UserWarning: The StationXML file has version 1, ObsPy can read versions (1.0, 1.1). Proceed with caution.\n",
      "  version, \", \".join(READABLE_VERSIONS)))\n"
     ]
    },
    {
     "name": "stdout",
     "output_type": "stream",
     "text": [
      "earthquake number 909 of 3384 done. It was 20190319_173932.a\n"
     ]
    },
    {
     "name": "stderr",
     "output_type": "stream",
     "text": [
      "/home/earthquakes1/software/Mageia/lib/python3.7/site-packages/obspy/io/stationxml/core.py:98: UserWarning: The StationXML file has version 1, ObsPy can read versions (1.0, 1.1). Proceed with caution.\n",
      "  version, \", \".join(READABLE_VERSIONS)))\n",
      "/home/earthquakes1/software/Mageia/lib/python3.7/site-packages/obspy/io/stationxml/core.py:98: UserWarning: The StationXML file has version 1, ObsPy can read versions (1.0, 1.1). Proceed with caution.\n",
      "  version, \", \".join(READABLE_VERSIONS)))\n"
     ]
    },
    {
     "name": "stdout",
     "output_type": "stream",
     "text": [
      "earthquake number 910 of 3384 done. It was 20190319_081458.a\n",
      "earthquake number 911 of 3384 done. It was 20190319_042029.a\n",
      "earthquake number 912 of 3384 done. It was 20190319_040134.a\n",
      "earthquake number 913 of 3384 done. It was 20190319_032034.a\n",
      "earthquake number 914 of 3384 done. It was 20190319_023935.a\n",
      "earthquake number 915 of 3384 done. It was 20190318_235643.a\n",
      "earthquake number 916 of 3384 done. It was 20190318_234452.a\n",
      "earthquake number 917 of 3384 done. It was 20190318_215916.a\n",
      "earthquake number 918 of 3384 done. It was 20190318_212359.a\n",
      "earthquake number 919 of 3384 done. It was 20190318_211828.a\n",
      "earthquake number 920 of 3384 done. It was 20190318_175526.a\n",
      "earthquake number 921 of 3384 done. It was 20190318_165430.a\n",
      "earthquake number 922 of 3384 done. It was 20190318_141023.a\n",
      "earthquake number 923 of 3384 done. It was 20190318_085542.a\n",
      "earthquake number 924 of 3384 done. It was 20190318_074641.a\n",
      "earthquake number 925 of 3384 done. It was 20190318_053304.a\n",
      "earthquake number 926 of 3384 done. It was 20190318_015556.a\n",
      "earthquake number 927 of 3384 done. It was 20190317_205455.a\n",
      "earthquake number 928 of 3384 done. It was 20190317_191813.a\n",
      "earthquake number 929 of 3384 done. It was 20190317_174058.a\n",
      "earthquake number 930 of 3384 done. It was 20190317_153456.a\n",
      "earthquake number 931 of 3384 done. It was 20190317_143835.a\n",
      "earthquake number 932 of 3384 done. It was 20190317_141853.a\n",
      "earthquake number 933 of 3384 done. It was 20190317_135136.a\n",
      "earthquake number 934 of 3384 done. It was 20190317_131317.a\n",
      "earthquake number 935 of 3384 done. It was 20190317_124422.a\n",
      "earthquake number 936 of 3384 done. It was 20190317_123859.a\n",
      "earthquake number 937 of 3384 done. It was 20190317_114939.a\n",
      "earthquake number 938 of 3384 done. It was 20190317_092246.a\n",
      "earthquake number 939 of 3384 done. It was 20190317_044912.a\n",
      "earthquake number 940 of 3384 done. It was 20190317_015255.a\n",
      "earthquake number 941 of 3384 done. It was 20190317_005337.a\n",
      "earthquake number 942 of 3384 done. It was 20190316_195751.a\n",
      "earthquake number 943 of 3384 done. It was 20190316_194651.a\n",
      "earthquake number 944 of 3384 done. It was 20190316_192340.a\n",
      "earthquake number 945 of 3384 done. It was 20190316_180615.a\n",
      "earthquake number 946 of 3384 done. It was 20190316_145430.a\n",
      "earthquake number 947 of 3384 done. It was 20190316_134318.a\n",
      "earthquake number 948 of 3384 done. It was 20190316_105625.a\n",
      "earthquake number 949 of 3384 done. It was 20190316_092233.a\n",
      "earthquake number 950 of 3384 done. It was 20190316_085013.a\n",
      "earthquake number 951 of 3384 done. It was 20190316_063453.a\n",
      "earthquake number 952 of 3384 done. It was 20190316_025222.a\n",
      "earthquake number 953 of 3384 done. It was 20190315_230756.a\n",
      "earthquake number 954 of 3384 done. It was 20190315_215420.a\n",
      "earthquake number 955 of 3384 done. It was 20190315_153337.a\n",
      "earthquake number 956 of 3384 done. It was 20190315_140202.a\n",
      "earthquake number 957 of 3384 done. It was 20190315_133928.a\n",
      "earthquake number 958 of 3384 done. It was 20190315_133822.a\n",
      "earthquake number 959 of 3384 done. It was 20190315_104915.a\n",
      "earthquake number 960 of 3384 done. It was 20190315_095532.a\n",
      "earthquake number 961 of 3384 done. It was 20190315_070012.a\n",
      "earthquake number 962 of 3384 done. It was 20190315_055836.a\n",
      "earthquake number 963 of 3384 done. It was 20190315_045114.a\n",
      "earthquake number 964 of 3384 done. It was 20190315_043601.a\n",
      "earthquake number 965 of 3384 done. It was 20190315_014208.a\n",
      "earthquake number 966 of 3384 done. It was 20190314_141642.a\n",
      "earthquake number 967 of 3384 done. It was 20190314_115905.a\n",
      "earthquake number 968 of 3384 done. It was 20190314_115224.a\n",
      "earthquake number 969 of 3384 done. It was 20190314_100526.a\n",
      "earthquake number 970 of 3384 done. It was 20190314_075248.a\n",
      "earthquake number 971 of 3384 done. It was 20190314_011823.a\n",
      "earthquake number 972 of 3384 done. It was 20190313_214611.a\n",
      "earthquake number 973 of 3384 done. It was 20190313_213201.a\n",
      "earthquake number 974 of 3384 done. It was 20190313_210722.a\n",
      "earthquake number 975 of 3384 done. It was 20190313_180040.a\n",
      "earthquake number 976 of 3384 done. It was 20190313_134404.a\n",
      "earthquake number 977 of 3384 done. It was 20190313_115324.a\n",
      "earthquake number 978 of 3384 done. It was 20190313_105513.a\n",
      "earthquake number 979 of 3384 done. It was 20190313_092621.a\n",
      "earthquake number 980 of 3384 done. It was 20190313_085213.a\n",
      "earthquake number 981 of 3384 done. It was 20190313_061336.a\n",
      "earthquake number 982 of 3384 done. It was 20190313_044849.a\n",
      "earthquake number 983 of 3384 done. It was 20190313_043235.a\n",
      "earthquake number 984 of 3384 done. It was 20190313_024225.a\n",
      "earthquake number 985 of 3384 done. It was 20190312_201915.a\n",
      "earthquake number 986 of 3384 done. It was 20190312_165341.a\n",
      "earthquake number 987 of 3384 done. It was 20190312_163210.a\n",
      "earthquake number 988 of 3384 done. It was 20190312_163117.a\n",
      "earthquake number 989 of 3384 done. It was 20190312_162258.a\n",
      "earthquake number 990 of 3384 done. It was 20190312_155251.a\n",
      "earthquake number 991 of 3384 done. It was 20190312_155241.a\n",
      "earthquake number 992 of 3384 done. It was 20190312_154045.a\n",
      "earthquake number 993 of 3384 done. It was 20190312_150030.a\n",
      "earthquake number 994 of 3384 done. It was 20190312_130857.a\n",
      "earthquake number 995 of 3384 done. It was 20190312_094711.a\n",
      "earthquake number 996 of 3384 done. It was 20190312_034337.a\n",
      "earthquake number 997 of 3384 done. It was 20190312_024715.a\n",
      "earthquake number 998 of 3384 done. It was 20190312_000045.a\n",
      "earthquake number 999 of 3384 done. It was 20190311_221416.a\n",
      "earthquake number 1000 of 3384 done. It was 20190311_183621.a\n",
      "earthquake number 1001 of 3384 done. It was 20190311_164512.a\n",
      "earthquake number 1002 of 3384 done. It was 20190311_142217.a\n",
      "earthquake number 1003 of 3384 done. It was 20190311_114415.a\n",
      "earthquake number 1004 of 3384 done. It was 20190311_043546.a\n",
      "earthquake number 1005 of 3384 done. It was 20190311_033301.a\n",
      "earthquake number 1006 of 3384 done. It was 20190311_023406.a\n",
      "earthquake number 1007 of 3384 done. It was 20190311_022016.a\n",
      "earthquake number 1008 of 3384 done. It was 20190311_001233.a\n",
      "earthquake number 1009 of 3384 done. It was 20190311_001109.a\n",
      "earthquake number 1010 of 3384 done. It was 20190311_000718.a\n",
      "earthquake number 1011 of 3384 done. It was 20190310_224010.a\n",
      "earthquake number 1012 of 3384 done. It was 20190310_214436.a\n",
      "earthquake number 1013 of 3384 done. It was 20190310_210741.a\n",
      "earthquake number 1014 of 3384 done. It was 20190310_132043.a\n",
      "earthquake number 1015 of 3384 done. It was 20190310_131945.a\n",
      "earthquake number 1016 of 3384 done. It was 20190310_130803.a\n",
      "earthquake number 1017 of 3384 done. It was 20190310_100034.a\n",
      "earthquake number 1018 of 3384 done. It was 20190310_075658.a\n",
      "earthquake number 1019 of 3384 done. It was 20190310_051605.a\n",
      "earthquake number 1020 of 3384 done. It was 20190310_040747.a\n",
      "earthquake number 1021 of 3384 done. It was 20190310_030945.a\n",
      "earthquake number 1022 of 3384 done. It was 20190310_020851.a\n",
      "earthquake number 1023 of 3384 done. It was 20190309_233958.a\n",
      "earthquake number 1024 of 3384 done. It was 20190309_233342.a\n",
      "earthquake number 1025 of 3384 done. It was 20190309_222609.a\n",
      "earthquake number 1026 of 3384 done. It was 20190309_204543.a\n",
      "earthquake number 1027 of 3384 done. It was 20190309_181057.a\n",
      "earthquake number 1028 of 3384 done. It was 20190309_170647.a\n",
      "earthquake number 1029 of 3384 done. It was 20190309_155032.a\n",
      "earthquake number 1030 of 3384 done. It was 20190309_152222.a\n",
      "earthquake number 1031 of 3384 done. It was 20190309_132905.a\n",
      "earthquake number 1032 of 3384 done. It was 20190309_130654.a\n",
      "earthquake number 1033 of 3384 done. It was 20190309_103212.a\n",
      "earthquake number 1034 of 3384 done. It was 20190309_092132.a\n",
      "earthquake number 1035 of 3384 done. It was 20190309_061615.a\n",
      "earthquake number 1036 of 3384 done. It was 20190309_021658.a\n",
      "earthquake number 1037 of 3384 done. It was 20190309_011603.a\n",
      "earthquake number 1038 of 3384 done. It was 20190309_000951.a\n",
      "earthquake number 1039 of 3384 done. It was 20190308_225556.a\n",
      "earthquake number 1040 of 3384 done. It was 20190308_220850.a\n",
      "earthquake number 1041 of 3384 done. It was 20190308_190451.a\n",
      "earthquake number 1042 of 3384 done. It was 20190308_185538.a\n",
      "earthquake number 1043 of 3384 done. It was 20190308_160803.a\n"
     ]
    },
    {
     "name": "stdout",
     "output_type": "stream",
     "text": [
      "earthquake number 1044 of 3384 done. It was 20190308_144828.a\n",
      "earthquake number 1045 of 3384 done. It was 20190308_072106.a\n",
      "earthquake number 1046 of 3384 done. It was 20190308_053640.a\n",
      "earthquake number 1047 of 3384 done. It was 20190308_051557.a\n",
      "earthquake number 1048 of 3384 done. It was 20190308_043203.a\n",
      "earthquake number 1049 of 3384 done. It was 20190308_032352.a\n",
      "earthquake number 1050 of 3384 done. It was 20190308_023214.a\n",
      "earthquake number 1051 of 3384 done. It was 20190307_235843.a\n",
      "earthquake number 1052 of 3384 done. It was 20190307_221151.a\n",
      "earthquake number 1053 of 3384 done. It was 20190307_201720.a\n",
      "earthquake number 1054 of 3384 done. It was 20190307_201310.a\n",
      "earthquake number 1055 of 3384 done. It was 20190307_173400.a\n",
      "earthquake number 1056 of 3384 done. It was 20190307_162949.a\n",
      "earthquake number 1057 of 3384 done. It was 20190307_155808.a\n",
      "earthquake number 1058 of 3384 done. It was 20190307_131356.a\n",
      "earthquake number 1059 of 3384 done. It was 20190307_125027.a\n",
      "earthquake number 1060 of 3384 done. It was 20190307_105605.a\n",
      "earthquake number 1061 of 3384 done. It was 20190307_094600.a\n",
      "earthquake number 1062 of 3384 done. It was 20190307_065335.a\n",
      "earthquake number 1063 of 3384 done. It was 20190307_063409.a\n",
      "earthquake number 1064 of 3384 done. It was 20190307_055036.a\n",
      "earthquake number 1065 of 3384 done. It was 20190307_005517.a\n",
      "earthquake number 1066 of 3384 done. It was 20190306_215830.a\n",
      "earthquake number 1067 of 3384 done. It was 20190306_213313.a\n",
      "earthquake number 1068 of 3384 done. It was 20190306_204943.a\n",
      "earthquake number 1069 of 3384 done. It was 20190306_015449.a\n",
      "earthquake number 1070 of 3384 done. It was 20190306_003426.a\n",
      "earthquake number 1071 of 3384 done. It was 20190305_205602.a\n",
      "earthquake number 1072 of 3384 done. It was 20190305_175234.a\n",
      "earthquake number 1073 of 3384 done. It was 20190305_165557.a\n",
      "earthquake number 1074 of 3384 done. It was 20190305_163126.a\n",
      "earthquake number 1075 of 3384 done. It was 20190305_152614.a\n",
      "earthquake number 1076 of 3384 done. It was 20190305_134817.a\n",
      "earthquake number 1077 of 3384 done. It was 20190304_171643.a\n",
      "earthquake number 1078 of 3384 done. It was 20190304_165916.a\n",
      "earthquake number 1079 of 3384 done. It was 20190304_125515.a\n",
      "earthquake number 1080 of 3384 done. It was 20190304_045126.a\n",
      "earthquake number 1081 of 3384 done. It was 20190304_041814.a\n",
      "earthquake number 1082 of 3384 done. It was 20190304_033051.a\n",
      "earthquake number 1083 of 3384 done. It was 20190303_161022.a\n",
      "earthquake number 1084 of 3384 done. It was 20190303_150408.a\n",
      "earthquake number 1085 of 3384 done. It was 20190303_143808.a\n",
      "earthquake number 1086 of 3384 done. It was 20190303_115312.a\n",
      "earthquake number 1087 of 3384 done. It was 20190303_085431.a\n",
      "earthquake number 1088 of 3384 done. It was 20190303_061823.a\n",
      "earthquake number 1089 of 3384 done. It was 20190303_011920.a\n",
      "earthquake number 1090 of 3384 done. It was 20190303_010720.a\n",
      "earthquake number 1091 of 3384 done. It was 20190302_202152.a\n",
      "earthquake number 1092 of 3384 done. It was 20190302_114236.a\n",
      "earthquake number 1093 of 3384 done. It was 20190302_101157.a\n",
      "earthquake number 1094 of 3384 done. It was 20190302_100210.a\n",
      "earthquake number 1095 of 3384 done. It was 20190302_075740.a\n",
      "earthquake number 1096 of 3384 done. It was 20190302_055556.a\n",
      "earthquake number 1097 of 3384 done. It was 20190302_015529.a\n",
      "earthquake number 1098 of 3384 done. It was 20190302_013354.a\n",
      "earthquake number 1099 of 3384 done. It was 20190301_224325.a\n",
      "earthquake number 1100 of 3384 done. It was 20190301_212835.a\n",
      "earthquake number 1101 of 3384 done. It was 20190301_212803.a\n",
      "earthquake number 1102 of 3384 done. It was 20190301_210325.a\n",
      "earthquake number 1103 of 3384 done. It was 20190301_205128.a\n",
      "earthquake number 1104 of 3384 done. It was 20190301_192220.a\n",
      "earthquake number 1105 of 3384 done. It was 20190301_192121.a\n",
      "earthquake number 1106 of 3384 done. It was 20190301_191845.a\n",
      "earthquake number 1107 of 3384 done. It was 20190301_115542.a\n",
      "earthquake number 1108 of 3384 done. It was 20190301_055352.a\n",
      "earthquake number 1109 of 3384 done. It was 20190301_052058.a\n",
      "earthquake number 1110 of 3384 done. It was 20190301_034100.a\n",
      "earthquake number 1111 of 3384 done. It was 20190301_034038.a\n",
      "earthquake number 1112 of 3384 done. It was 20190301_033813.a\n",
      "earthquake number 1113 of 3384 done. It was 20190301_032152.a\n",
      "earthquake number 1114 of 3384 done. It was 20190301_020128.a\n",
      "earthquake number 1115 of 3384 done. It was 20190301_003934.a\n",
      "earthquake number 1116 of 3384 done. It was 20190301_001523.a\n",
      "earthquake number 1117 of 3384 done. It was 20190430_203228.a\n",
      "earthquake number 1118 of 3384 done. It was 20190430_203124.a\n",
      "earthquake number 1119 of 3384 done. It was 20190430_171049.a\n",
      "earthquake number 1120 of 3384 done. It was 20190430_164606.a\n",
      "earthquake number 1121 of 3384 done. It was 20190430_154346.a\n",
      "earthquake number 1122 of 3384 done. It was 20190430_143107.a\n",
      "earthquake number 1123 of 3384 done. It was 20190430_131127.a\n",
      "earthquake number 1124 of 3384 done. It was 20190430_124800.a\n",
      "earthquake number 1125 of 3384 done. It was 20190430_101102.a\n",
      "earthquake number 1126 of 3384 done. It was 20190430_060256.a\n",
      "earthquake number 1127 of 3384 done. It was 20190430_045125.a\n",
      "earthquake number 1128 of 3384 done. It was 20190430_015514.a\n",
      "earthquake number 1129 of 3384 done. It was 20190429_230518.a\n",
      "earthquake number 1130 of 3384 done. It was 20190429_222416.a\n",
      "earthquake number 1131 of 3384 done. It was 20190429_191828.a\n",
      "earthquake number 1132 of 3384 done. It was 20190429_190857.a\n",
      "earthquake number 1133 of 3384 done. It was 20190429_190743.a\n",
      "earthquake number 1134 of 3384 done. It was 20190429_180243.a\n",
      "earthquake number 1135 of 3384 done. It was 20190429_173701.a\n",
      "earthquake number 1136 of 3384 done. It was 20190429_173327.a\n",
      "earthquake number 1137 of 3384 done. It was 20190429_140713.a\n",
      "earthquake number 1138 of 3384 done. It was 20190429_102351.a\n",
      "earthquake number 1139 of 3384 done. It was 20190429_074124.a\n",
      "earthquake number 1140 of 3384 done. It was 20190429_071608.a\n",
      "earthquake number 1141 of 3384 done. It was 20190429_052400.a\n",
      "earthquake number 1142 of 3384 done. It was 20190429_044317.a\n",
      "earthquake number 1143 of 3384 done. It was 20190429_031636.a\n",
      "earthquake number 1144 of 3384 done. It was 20190429_031503.a\n",
      "earthquake number 1145 of 3384 done. It was 20190429_024420.a\n",
      "earthquake number 1146 of 3384 done. It was 20190429_023108.a\n",
      "earthquake number 1147 of 3384 done. It was 20190429_022153.a\n",
      "earthquake number 1148 of 3384 done. It was 20190429_002317.a\n",
      "earthquake number 1149 of 3384 done. It was 20190429_001314.a\n",
      "earthquake number 1150 of 3384 done. It was 20190428_215649.a\n",
      "earthquake number 1151 of 3384 done. It was 20190428_201345.a\n",
      "earthquake number 1152 of 3384 done. It was 20190428_173334.a\n",
      "earthquake number 1153 of 3384 done. It was 20190428_171040.a\n",
      "earthquake number 1154 of 3384 done. It was 20190428_170316.a\n",
      "earthquake number 1155 of 3384 done. It was 20190428_163040.a\n",
      "earthquake number 1156 of 3384 done. It was 20190428_142248.a\n",
      "earthquake number 1157 of 3384 done. It was 20190428_120300.a\n",
      "earthquake number 1158 of 3384 done. It was 20190428_115306.a\n",
      "earthquake number 1159 of 3384 done. It was 20190428_102523.a\n",
      "earthquake number 1160 of 3384 done. It was 20190428_032620.a\n",
      "earthquake number 1161 of 3384 done. It was 20190428_031918.a\n",
      "earthquake number 1162 of 3384 done. It was 20190428_005850.a\n",
      "earthquake number 1163 of 3384 done. It was 20190427_232557.a\n",
      "earthquake number 1164 of 3384 done. It was 20190427_225001.a\n",
      "earthquake number 1165 of 3384 done. It was 20190427_215523.a\n"
     ]
    },
    {
     "name": "stderr",
     "output_type": "stream",
     "text": [
      "/home/earthquakes1/software/Mageia/lib/python3.7/site-packages/obspy/io/stationxml/core.py:98: UserWarning: The StationXML file has version 1, ObsPy can read versions (1.0, 1.1). Proceed with caution.\n",
      "  version, \", \".join(READABLE_VERSIONS)))\n"
     ]
    },
    {
     "name": "stdout",
     "output_type": "stream",
     "text": [
      "earthquake number 1166 of 3384 done. It was 20190427_181048.a\n",
      "earthquake number 1167 of 3384 done. It was 20190427_172446.a\n",
      "earthquake number 1168 of 3384 done. It was 20190427_170104.a\n",
      "earthquake number 1169 of 3384 done. It was 20190427_163301.a\n",
      "earthquake number 1170 of 3384 done. It was 20190427_150758.a\n",
      "earthquake number 1171 of 3384 done. It was 20190427_093635.a\n",
      "earthquake number 1172 of 3384 done. It was 20190427_074415.a\n"
     ]
    },
    {
     "name": "stderr",
     "output_type": "stream",
     "text": [
      "/home/earthquakes1/software/Mageia/lib/python3.7/site-packages/obspy/io/stationxml/core.py:98: UserWarning: The StationXML file has version 1, ObsPy can read versions (1.0, 1.1). Proceed with caution.\n",
      "  version, \", \".join(READABLE_VERSIONS)))\n",
      "/home/earthquakes1/software/Mageia/lib/python3.7/site-packages/obspy/io/stationxml/core.py:98: UserWarning: The StationXML file has version 1, ObsPy can read versions (1.0, 1.1). Proceed with caution.\n",
      "  version, \", \".join(READABLE_VERSIONS)))\n",
      "/home/earthquakes1/software/Mageia/lib/python3.7/site-packages/obspy/io/stationxml/core.py:98: UserWarning: The StationXML file has version 1, ObsPy can read versions (1.0, 1.1). Proceed with caution.\n",
      "  version, \", \".join(READABLE_VERSIONS)))\n",
      "/home/earthquakes1/software/Mageia/lib/python3.7/site-packages/obspy/io/stationxml/core.py:98: UserWarning: The StationXML file has version 1, ObsPy can read versions (1.0, 1.1). Proceed with caution.\n",
      "  version, \", \".join(READABLE_VERSIONS)))\n",
      "/home/earthquakes1/software/Mageia/lib/python3.7/site-packages/obspy/io/stationxml/core.py:98: UserWarning: The StationXML file has version 1, ObsPy can read versions (1.0, 1.1). Proceed with caution.\n",
      "  version, \", \".join(READABLE_VERSIONS)))\n",
      "/home/earthquakes1/software/Mageia/lib/python3.7/site-packages/obspy/io/stationxml/core.py:98: UserWarning: The StationXML file has version 1, ObsPy can read versions (1.0, 1.1). Proceed with caution.\n",
      "  version, \", \".join(READABLE_VERSIONS)))\n",
      "/home/earthquakes1/software/Mageia/lib/python3.7/site-packages/obspy/io/stationxml/core.py:98: UserWarning: The StationXML file has version 1, ObsPy can read versions (1.0, 1.1). Proceed with caution.\n",
      "  version, \", \".join(READABLE_VERSIONS)))\n",
      "/home/earthquakes1/software/Mageia/lib/python3.7/site-packages/obspy/io/stationxml/core.py:98: UserWarning: The StationXML file has version 1, ObsPy can read versions (1.0, 1.1). Proceed with caution.\n",
      "  version, \", \".join(READABLE_VERSIONS)))\n",
      "/home/earthquakes1/software/Mageia/lib/python3.7/site-packages/obspy/io/stationxml/core.py:98: UserWarning: The StationXML file has version 1, ObsPy can read versions (1.0, 1.1). Proceed with caution.\n",
      "  version, \", \".join(READABLE_VERSIONS)))\n",
      "/home/earthquakes1/software/Mageia/lib/python3.7/site-packages/obspy/io/stationxml/core.py:98: UserWarning: The StationXML file has version 1, ObsPy can read versions (1.0, 1.1). Proceed with caution.\n",
      "  version, \", \".join(READABLE_VERSIONS)))\n",
      "/home/earthquakes1/software/Mageia/lib/python3.7/site-packages/obspy/io/stationxml/core.py:98: UserWarning: The StationXML file has version 1, ObsPy can read versions (1.0, 1.1). Proceed with caution.\n",
      "  version, \", \".join(READABLE_VERSIONS)))\n",
      "/home/earthquakes1/software/Mageia/lib/python3.7/site-packages/obspy/io/stationxml/core.py:98: UserWarning: The StationXML file has version 1, ObsPy can read versions (1.0, 1.1). Proceed with caution.\n",
      "  version, \", \".join(READABLE_VERSIONS)))\n",
      "/home/earthquakes1/software/Mageia/lib/python3.7/site-packages/obspy/io/stationxml/core.py:98: UserWarning: The StationXML file has version 1, ObsPy can read versions (1.0, 1.1). Proceed with caution.\n",
      "  version, \", \".join(READABLE_VERSIONS)))\n",
      "/home/earthquakes1/software/Mageia/lib/python3.7/site-packages/obspy/io/stationxml/core.py:98: UserWarning: The StationXML file has version 1, ObsPy can read versions (1.0, 1.1). Proceed with caution.\n",
      "  version, \", \".join(READABLE_VERSIONS)))\n"
     ]
    },
    {
     "name": "stdout",
     "output_type": "stream",
     "text": [
      "earthquake number 1173 of 3384 done. It was 20190427_072645.a\n",
      "earthquake number 1174 of 3384 done. It was 20190427_064950.a\n",
      "earthquake number 1175 of 3384 done. It was 20190427_064008.a\n",
      "earthquake number 1176 of 3384 done. It was 20190427_044421.a\n",
      "earthquake number 1177 of 3384 done. It was 20190427_024922.a\n",
      "earthquake number 1178 of 3384 done. It was 20190427_023837.a\n",
      "earthquake number 1179 of 3384 done. It was 20190427_005731.a\n",
      "earthquake number 1180 of 3384 done. It was 20190426_215341.a\n",
      "earthquake number 1181 of 3384 done. It was 20190426_214051.a\n",
      "earthquake number 1182 of 3384 done. It was 20190426_185617.a\n",
      "earthquake number 1183 of 3384 done. It was 20190426_153100.a\n",
      "earthquake number 1184 of 3384 done. It was 20190426_145120.a\n"
     ]
    },
    {
     "name": "stderr",
     "output_type": "stream",
     "text": [
      "/home/earthquakes1/software/Mageia/lib/python3.7/site-packages/obspy/core/inventory/response.py:964: UserWarning: Input sampling rate of stage 3 is inconsistent with the previous stages' output sampling rate\n",
      "  warnings.warn(msg % i)\n"
     ]
    },
    {
     "name": "stdout",
     "output_type": "stream",
     "text": [
      "earthquake number 1185 of 3384 done. It was 20190426_135945.a\n",
      "earthquake number 1186 of 3384 done. It was 20190426_122043.a\n",
      "earthquake number 1187 of 3384 done. It was 20190426_091617.a\n",
      "earthquake number 1188 of 3384 done. It was 20190426_062234.a\n",
      "earthquake number 1189 of 3384 done. It was 20190425_224610.a\n",
      "earthquake number 1190 of 3384 done. It was 20190425_202831.a\n",
      "earthquake number 1191 of 3384 done. It was 20190425_190014.a\n",
      "earthquake number 1192 of 3384 done. It was 20190425_151615.a\n",
      "earthquake number 1193 of 3384 done. It was 20190425_120458.a\n",
      "earthquake number 1194 of 3384 done. It was 20190425_120001.a\n",
      "earthquake number 1195 of 3384 done. It was 20190425_110428.a\n",
      "earthquake number 1196 of 3384 done. It was 20190425_053118.a\n",
      "earthquake number 1197 of 3384 done. It was 20190425_041500.a\n",
      "earthquake number 1198 of 3384 done. It was 20190424_185732.a\n",
      "earthquake number 1199 of 3384 done. It was 20190424_133213.a\n",
      "earthquake number 1200 of 3384 done. It was 20190424_105654.a\n",
      "earthquake number 1201 of 3384 done. It was 20190424_101218.a\n",
      "earthquake number 1202 of 3384 done. It was 20190424_090609.a\n",
      "earthquake number 1203 of 3384 done. It was 20190424_062432.a\n",
      "earthquake number 1204 of 3384 done. It was 20190424_024002.a\n",
      "earthquake number 1205 of 3384 done. It was 20190424_022856.a\n",
      "earthquake number 1206 of 3384 done. It was 20190424_020228.a\n",
      "earthquake number 1207 of 3384 done. It was 20190424_002413.a\n",
      "earthquake number 1208 of 3384 done. It was 20190423_205939.a\n",
      "earthquake number 1209 of 3384 done. It was 20190423_201051.a\n"
     ]
    },
    {
     "name": "stderr",
     "output_type": "stream",
     "text": [
      "/home/earthquakes1/software/Mageia/lib/python3.7/site-packages/obspy/io/stationxml/core.py:98: UserWarning: The StationXML file has version 1, ObsPy can read versions (1.0, 1.1). Proceed with caution.\n",
      "  version, \", \".join(READABLE_VERSIONS)))\n",
      "/home/earthquakes1/software/Mageia/lib/python3.7/site-packages/obspy/io/stationxml/core.py:98: UserWarning: The StationXML file has version 1, ObsPy can read versions (1.0, 1.1). Proceed with caution.\n",
      "  version, \", \".join(READABLE_VERSIONS)))\n",
      "/home/earthquakes1/software/Mageia/lib/python3.7/site-packages/obspy/io/stationxml/core.py:98: UserWarning: The StationXML file has version 1, ObsPy can read versions (1.0, 1.1). Proceed with caution.\n",
      "  version, \", \".join(READABLE_VERSIONS)))\n",
      "/home/earthquakes1/software/Mageia/lib/python3.7/site-packages/obspy/io/stationxml/core.py:98: UserWarning: The StationXML file has version 1, ObsPy can read versions (1.0, 1.1). Proceed with caution.\n",
      "  version, \", \".join(READABLE_VERSIONS)))\n",
      "/home/earthquakes1/software/Mageia/lib/python3.7/site-packages/obspy/io/stationxml/core.py:98: UserWarning: The StationXML file has version 1, ObsPy can read versions (1.0, 1.1). Proceed with caution.\n",
      "  version, \", \".join(READABLE_VERSIONS)))\n"
     ]
    },
    {
     "name": "stdout",
     "output_type": "stream",
     "text": [
      "earthquake number 1210 of 3384 done. It was 20190423_163709.a\n",
      "earthquake number 1211 of 3384 done. It was 20190423_160521.a\n",
      "earthquake number 1212 of 3384 done. It was 20190423_153857.a\n",
      "earthquake number 1213 of 3384 done. It was 20190423_153243.a\n",
      "earthquake number 1214 of 3384 done. It was 20190423_133951.a\n",
      "earthquake number 1215 of 3384 done. It was 20190423_101615.a\n",
      "earthquake number 1216 of 3384 done. It was 20190423_100645.a\n",
      "earthquake number 1217 of 3384 done. It was 20190423_085814.a\n",
      "earthquake number 1218 of 3384 done. It was 20190423_081759.a\n",
      "earthquake number 1219 of 3384 done. It was 20190423_032403.a\n",
      "earthquake number 1220 of 3384 done. It was 20190423_015611.a\n",
      "earthquake number 1221 of 3384 done. It was 20190423_010910.a\n",
      "earthquake number 1222 of 3384 done. It was 20190422_232101.a\n",
      "earthquake number 1223 of 3384 done. It was 20190422_224932.a\n",
      "earthquake number 1224 of 3384 done. It was 20190422_221919.a\n",
      "earthquake number 1225 of 3384 done. It was 20190422_193640.a\n",
      "earthquake number 1226 of 3384 done. It was 20190422_182954.a\n"
     ]
    },
    {
     "name": "stderr",
     "output_type": "stream",
     "text": [
      "/home/earthquakes1/software/Mageia/lib/python3.7/site-packages/obspy/io/stationxml/core.py:98: UserWarning: The StationXML file has version 1, ObsPy can read versions (1.0, 1.1). Proceed with caution.\n",
      "  version, \", \".join(READABLE_VERSIONS)))\n",
      "/home/earthquakes1/software/Mageia/lib/python3.7/site-packages/obspy/io/stationxml/core.py:98: UserWarning: The StationXML file has version 1, ObsPy can read versions (1.0, 1.1). Proceed with caution.\n",
      "  version, \", \".join(READABLE_VERSIONS)))\n",
      "/home/earthquakes1/software/Mageia/lib/python3.7/site-packages/obspy/io/stationxml/core.py:98: UserWarning: The StationXML file has version 1, ObsPy can read versions (1.0, 1.1). Proceed with caution.\n",
      "  version, \", \".join(READABLE_VERSIONS)))\n",
      "/home/earthquakes1/software/Mageia/lib/python3.7/site-packages/obspy/io/stationxml/core.py:98: UserWarning: The StationXML file has version 1, ObsPy can read versions (1.0, 1.1). Proceed with caution.\n",
      "  version, \", \".join(READABLE_VERSIONS)))\n",
      "/home/earthquakes1/software/Mageia/lib/python3.7/site-packages/obspy/io/stationxml/core.py:98: UserWarning: The StationXML file has version 1, ObsPy can read versions (1.0, 1.1). Proceed with caution.\n",
      "  version, \", \".join(READABLE_VERSIONS)))\n",
      "/home/earthquakes1/software/Mageia/lib/python3.7/site-packages/obspy/io/stationxml/core.py:98: UserWarning: The StationXML file has version 1, ObsPy can read versions (1.0, 1.1). Proceed with caution.\n",
      "  version, \", \".join(READABLE_VERSIONS)))\n",
      "/home/earthquakes1/software/Mageia/lib/python3.7/site-packages/obspy/io/stationxml/core.py:98: UserWarning: The StationXML file has version 1, ObsPy can read versions (1.0, 1.1). Proceed with caution.\n",
      "  version, \", \".join(READABLE_VERSIONS)))\n",
      "/home/earthquakes1/software/Mageia/lib/python3.7/site-packages/obspy/io/stationxml/core.py:98: UserWarning: The StationXML file has version 1, ObsPy can read versions (1.0, 1.1). Proceed with caution.\n",
      "  version, \", \".join(READABLE_VERSIONS)))\n",
      "/home/earthquakes1/software/Mageia/lib/python3.7/site-packages/obspy/io/stationxml/core.py:98: UserWarning: The StationXML file has version 1, ObsPy can read versions (1.0, 1.1). Proceed with caution.\n",
      "  version, \", \".join(READABLE_VERSIONS)))\n",
      "/home/earthquakes1/software/Mageia/lib/python3.7/site-packages/obspy/io/stationxml/core.py:98: UserWarning: The StationXML file has version 1, ObsPy can read versions (1.0, 1.1). Proceed with caution.\n",
      "  version, \", \".join(READABLE_VERSIONS)))\n",
      "/home/earthquakes1/software/Mageia/lib/python3.7/site-packages/obspy/io/stationxml/core.py:98: UserWarning: The StationXML file has version 1, ObsPy can read versions (1.0, 1.1). Proceed with caution.\n",
      "  version, \", \".join(READABLE_VERSIONS)))\n",
      "/home/earthquakes1/software/Mageia/lib/python3.7/site-packages/obspy/io/stationxml/core.py:98: UserWarning: The StationXML file has version 1, ObsPy can read versions (1.0, 1.1). Proceed with caution.\n",
      "  version, \", \".join(READABLE_VERSIONS)))\n",
      "/home/earthquakes1/software/Mageia/lib/python3.7/site-packages/obspy/io/stationxml/core.py:98: UserWarning: The StationXML file has version 1, ObsPy can read versions (1.0, 1.1). Proceed with caution.\n",
      "  version, \", \".join(READABLE_VERSIONS)))\n",
      "/home/earthquakes1/software/Mageia/lib/python3.7/site-packages/obspy/io/stationxml/core.py:98: UserWarning: The StationXML file has version 1, ObsPy can read versions (1.0, 1.1). Proceed with caution.\n",
      "  version, \", \".join(READABLE_VERSIONS)))\n",
      "/home/earthquakes1/software/Mageia/lib/python3.7/site-packages/obspy/io/stationxml/core.py:98: UserWarning: The StationXML file has version 1, ObsPy can read versions (1.0, 1.1). Proceed with caution.\n",
      "  version, \", \".join(READABLE_VERSIONS)))\n"
     ]
    },
    {
     "name": "stdout",
     "output_type": "stream",
     "text": [
      "earthquake number 1227 of 3384 done. It was 20190422_142011.a\n"
     ]
    },
    {
     "name": "stderr",
     "output_type": "stream",
     "text": [
      "/home/earthquakes1/software/Mageia/lib/python3.7/site-packages/obspy/io/stationxml/core.py:98: UserWarning: The StationXML file has version 1, ObsPy can read versions (1.0, 1.1). Proceed with caution.\n",
      "  version, \", \".join(READABLE_VERSIONS)))\n",
      "/home/earthquakes1/software/Mageia/lib/python3.7/site-packages/obspy/io/stationxml/core.py:98: UserWarning: The StationXML file has version 1, ObsPy can read versions (1.0, 1.1). Proceed with caution.\n",
      "  version, \", \".join(READABLE_VERSIONS)))\n"
     ]
    },
    {
     "name": "stdout",
     "output_type": "stream",
     "text": [
      "earthquake number 1228 of 3384 done. It was 20190422_131748.a\n",
      "earthquake number 1229 of 3384 done. It was 20190422_105127.a\n",
      "earthquake number 1230 of 3384 done. It was 20190422_081250.a\n",
      "earthquake number 1231 of 3384 done. It was 20190422_075000.a\n",
      "earthquake number 1232 of 3384 done. It was 20190422_054509.a\n",
      "earthquake number 1233 of 3384 done. It was 20190422_050246.a\n",
      "earthquake number 1234 of 3384 done. It was 20190422_020433.a\n",
      "earthquake number 1235 of 3384 done. It was 20190421_221814.a\n",
      "earthquake number 1236 of 3384 done. It was 20190421_210951.a\n",
      "earthquake number 1237 of 3384 done. It was 20190421_194844.a\n",
      "earthquake number 1238 of 3384 done. It was 20190421_163141.a\n",
      "earthquake number 1239 of 3384 done. It was 20190421_134732.a\n",
      "earthquake number 1240 of 3384 done. It was 20190421_132742.a\n",
      "earthquake number 1241 of 3384 done. It was 20190421_121922.a\n",
      "earthquake number 1242 of 3384 done. It was 20190421_114621.a\n",
      "earthquake number 1243 of 3384 done. It was 20190421_100010.a\n"
     ]
    },
    {
     "name": "stderr",
     "output_type": "stream",
     "text": [
      "/home/earthquakes1/software/Mageia/lib/python3.7/site-packages/obspy/io/stationxml/core.py:98: UserWarning: The StationXML file has version 1, ObsPy can read versions (1.0, 1.1). Proceed with caution.\n",
      "  version, \", \".join(READABLE_VERSIONS)))\n",
      "/home/earthquakes1/software/Mageia/lib/python3.7/site-packages/obspy/io/stationxml/core.py:98: UserWarning: The StationXML file has version 1, ObsPy can read versions (1.0, 1.1). Proceed with caution.\n",
      "  version, \", \".join(READABLE_VERSIONS)))\n",
      "/home/earthquakes1/software/Mageia/lib/python3.7/site-packages/obspy/io/stationxml/core.py:98: UserWarning: The StationXML file has version 1, ObsPy can read versions (1.0, 1.1). Proceed with caution.\n",
      "  version, \", \".join(READABLE_VERSIONS)))\n",
      "/home/earthquakes1/software/Mageia/lib/python3.7/site-packages/obspy/io/stationxml/core.py:98: UserWarning: The StationXML file has version 1, ObsPy can read versions (1.0, 1.1). Proceed with caution.\n",
      "  version, \", \".join(READABLE_VERSIONS)))\n",
      "/home/earthquakes1/software/Mageia/lib/python3.7/site-packages/obspy/io/stationxml/core.py:98: UserWarning: The StationXML file has version 1, ObsPy can read versions (1.0, 1.1). Proceed with caution.\n",
      "  version, \", \".join(READABLE_VERSIONS)))\n",
      "/home/earthquakes1/software/Mageia/lib/python3.7/site-packages/obspy/io/stationxml/core.py:98: UserWarning: The StationXML file has version 1, ObsPy can read versions (1.0, 1.1). Proceed with caution.\n",
      "  version, \", \".join(READABLE_VERSIONS)))\n"
     ]
    },
    {
     "name": "stdout",
     "output_type": "stream",
     "text": [
      "earthquake number 1244 of 3384 done. It was 20190421_055312.a\n",
      "earthquake number 1245 of 3384 done. It was 20190420_232345.a\n",
      "earthquake number 1246 of 3384 done. It was 20190420_223249.a\n",
      "earthquake number 1247 of 3384 done. It was 20190420_144149.a\n",
      "earthquake number 1248 of 3384 done. It was 20190420_035133.a\n",
      "earthquake number 1249 of 3384 done. It was 20190420_000005.a\n",
      "earthquake number 1250 of 3384 done. It was 20190419_213740.a\n",
      "earthquake number 1251 of 3384 done. It was 20190419_134328.a\n",
      "earthquake number 1252 of 3384 done. It was 20190419_133607.a\n",
      "earthquake number 1253 of 3384 done. It was 20190419_132551.a\n",
      "earthquake number 1254 of 3384 done. It was 20190419_113842.a\n",
      "earthquake number 1255 of 3384 done. It was 20190419_085542.a\n"
     ]
    },
    {
     "name": "stderr",
     "output_type": "stream",
     "text": [
      "/home/earthquakes1/software/Mageia/lib/python3.7/site-packages/obspy/io/stationxml/core.py:98: UserWarning: The StationXML file has version 1, ObsPy can read versions (1.0, 1.1). Proceed with caution.\n",
      "  version, \", \".join(READABLE_VERSIONS)))\n",
      "/home/earthquakes1/software/Mageia/lib/python3.7/site-packages/obspy/io/stationxml/core.py:98: UserWarning: The StationXML file has version 1, ObsPy can read versions (1.0, 1.1). Proceed with caution.\n",
      "  version, \", \".join(READABLE_VERSIONS)))\n"
     ]
    },
    {
     "name": "stdout",
     "output_type": "stream",
     "text": [
      "earthquake number 1256 of 3384 done. It was 20190419_074912.a\n",
      "earthquake number 1257 of 3384 done. It was 20190419_070557.a\n",
      "earthquake number 1258 of 3384 done. It was 20190419_002758.a\n",
      "earthquake number 1259 of 3384 done. It was 20190419_002758.a\n",
      "earthquake number 1260 of 3384 done. It was 20190418_230100.a\n",
      "earthquake number 1261 of 3384 done. It was 20190418_185455.a\n",
      "earthquake number 1262 of 3384 done. It was 20190418_080926.a\n",
      "earthquake number 1263 of 3384 done. It was 20190418_055721.a\n",
      "earthquake number 1264 of 3384 done. It was 20190418_050106.a\n",
      "earthquake number 1265 of 3384 done. It was 20190418_040634.a\n",
      "earthquake number 1266 of 3384 done. It was 20190418_024443.a\n",
      "earthquake number 1267 of 3384 done. It was 20190418_013503.a\n",
      "earthquake number 1268 of 3384 done. It was 20190418_004455.a\n",
      "earthquake number 1269 of 3384 done. It was 20190417_183520.a\n"
     ]
    },
    {
     "name": "stderr",
     "output_type": "stream",
     "text": [
      "/home/earthquakes1/software/Mageia/lib/python3.7/site-packages/obspy/io/stationxml/core.py:98: UserWarning: The StationXML file has version 1, ObsPy can read versions (1.0, 1.1). Proceed with caution.\n",
      "  version, \", \".join(READABLE_VERSIONS)))\n",
      "/home/earthquakes1/software/Mageia/lib/python3.7/site-packages/obspy/io/stationxml/core.py:98: UserWarning: The StationXML file has version 1, ObsPy can read versions (1.0, 1.1). Proceed with caution.\n",
      "  version, \", \".join(READABLE_VERSIONS)))\n"
     ]
    },
    {
     "name": "stdout",
     "output_type": "stream",
     "text": [
      "earthquake number 1270 of 3384 done. It was 20190417_092329.a\n",
      "earthquake number 1271 of 3384 done. It was 20190417_041743.a\n",
      "earthquake number 1272 of 3384 done. It was 20190417_004123.a\n",
      "earthquake number 1273 of 3384 done. It was 20190416_235525.a\n",
      "earthquake number 1274 of 3384 done. It was 20190416_183635.a\n",
      "earthquake number 1275 of 3384 done. It was 20190416_163332.a\n",
      "earthquake number 1276 of 3384 done. It was 20190416_091908.a\n",
      "earthquake number 1277 of 3384 done. It was 20190416_081535.a\n",
      "earthquake number 1278 of 3384 done. It was 20190416_080147.a\n",
      "earthquake number 1279 of 3384 done. It was 20190416_051810.a\n",
      "earthquake number 1280 of 3384 done. It was 20190416_050746.a\n",
      "earthquake number 1281 of 3384 done. It was 20190416_040451.a\n",
      "earthquake number 1282 of 3384 done. It was 20190416_010455.a\n",
      "earthquake number 1283 of 3384 done. It was 20190416_005413.a\n",
      "earthquake number 1284 of 3384 done. It was 20190416_000755.a\n",
      "earthquake number 1285 of 3384 done. It was 20190415_215244.a\n",
      "earthquake number 1286 of 3384 done. It was 20190415_203121.a\n",
      "earthquake number 1287 of 3384 done. It was 20190415_201058.a\n",
      "earthquake number 1288 of 3384 done. It was 20190415_192052.a\n",
      "earthquake number 1289 of 3384 done. It was 20190415_175557.a\n",
      "earthquake number 1290 of 3384 done. It was 20190415_174226.a\n",
      "earthquake number 1291 of 3384 done. It was 20190415_155847.a\n",
      "earthquake number 1292 of 3384 done. It was 20190415_152621.a\n",
      "earthquake number 1293 of 3384 done. It was 20190415_143052.a\n",
      "earthquake number 1294 of 3384 done. It was 20190415_142526.a\n",
      "earthquake number 1295 of 3384 done. It was 20190415_131135.a\n",
      "earthquake number 1296 of 3384 done. It was 20190415_115403.a\n",
      "earthquake number 1297 of 3384 done. It was 20190415_044131.a\n",
      "earthquake number 1298 of 3384 done. It was 20190415_013945.a\n",
      "earthquake number 1299 of 3384 done. It was 20190414_233341.a\n",
      "earthquake number 1300 of 3384 done. It was 20190414_212706.a\n",
      "earthquake number 1301 of 3384 done. It was 20190414_120756.a\n",
      "earthquake number 1302 of 3384 done. It was 20190414_103747.a\n",
      "earthquake number 1303 of 3384 done. It was 20190414_103511.a\n",
      "earthquake number 1304 of 3384 done. It was 20190414_040938.a\n",
      "earthquake number 1305 of 3384 done. It was 20190414_035954.a\n",
      "earthquake number 1306 of 3384 done. It was 20190414_033232.a\n",
      "earthquake number 1307 of 3384 done. It was 20190414_031644.a\n",
      "earthquake number 1308 of 3384 done. It was 20190414_030902.a\n",
      "earthquake number 1309 of 3384 done. It was 20190413_191915.a\n",
      "earthquake number 1310 of 3384 done. It was 20190413_124313.a\n",
      "earthquake number 1311 of 3384 done. It was 20190413_003916.a\n",
      "earthquake number 1312 of 3384 done. It was 20190412_215803.a\n",
      "earthquake number 1313 of 3384 done. It was 20190412_190036.a\n",
      "earthquake number 1314 of 3384 done. It was 20190412_162100.a\n",
      "earthquake number 1315 of 3384 done. It was 20190412_145852.a\n",
      "earthquake number 1316 of 3384 done. It was 20190412_140648.a\n",
      "earthquake number 1317 of 3384 done. It was 20190412_130348.a\n",
      "earthquake number 1318 of 3384 done. It was 20190412_114054.a\n",
      "earthquake number 1319 of 3384 done. It was 20190412_112300.a\n",
      "earthquake number 1320 of 3384 done. It was 20190412_104333.a\n"
     ]
    },
    {
     "name": "stderr",
     "output_type": "stream",
     "text": [
      "/home/earthquakes1/software/Mageia/lib/python3.7/site-packages/obspy/io/stationxml/core.py:98: UserWarning: The StationXML file has version 1, ObsPy can read versions (1.0, 1.1). Proceed with caution.\n",
      "  version, \", \".join(READABLE_VERSIONS)))\n",
      "/home/earthquakes1/software/Mageia/lib/python3.7/site-packages/obspy/io/stationxml/core.py:98: UserWarning: The StationXML file has version 1, ObsPy can read versions (1.0, 1.1). Proceed with caution.\n",
      "  version, \", \".join(READABLE_VERSIONS)))\n",
      "/home/earthquakes1/software/Mageia/lib/python3.7/site-packages/obspy/io/stationxml/core.py:98: UserWarning: The StationXML file has version 1, ObsPy can read versions (1.0, 1.1). Proceed with caution.\n",
      "  version, \", \".join(READABLE_VERSIONS)))\n",
      "/home/earthquakes1/software/Mageia/lib/python3.7/site-packages/obspy/io/stationxml/core.py:98: UserWarning: The StationXML file has version 1, ObsPy can read versions (1.0, 1.1). Proceed with caution.\n",
      "  version, \", \".join(READABLE_VERSIONS)))\n",
      "/home/earthquakes1/software/Mageia/lib/python3.7/site-packages/obspy/io/stationxml/core.py:98: UserWarning: The StationXML file has version 1, ObsPy can read versions (1.0, 1.1). Proceed with caution.\n",
      "  version, \", \".join(READABLE_VERSIONS)))\n",
      "/home/earthquakes1/software/Mageia/lib/python3.7/site-packages/obspy/io/stationxml/core.py:98: UserWarning: The StationXML file has version 1, ObsPy can read versions (1.0, 1.1). Proceed with caution.\n",
      "  version, \", \".join(READABLE_VERSIONS)))\n",
      "/home/earthquakes1/software/Mageia/lib/python3.7/site-packages/obspy/io/stationxml/core.py:98: UserWarning: The StationXML file has version 1, ObsPy can read versions (1.0, 1.1). Proceed with caution.\n",
      "  version, \", \".join(READABLE_VERSIONS)))\n"
     ]
    },
    {
     "name": "stdout",
     "output_type": "stream",
     "text": [
      "earthquake number 1321 of 3384 done. It was 20190412_051307.a\n",
      "earthquake number 1322 of 3384 done. It was 20190412_051235.a\n",
      "earthquake number 1323 of 3384 done. It was 20190412_042147.a\n",
      "earthquake number 1324 of 3384 done. It was 20190412_024754.a\n",
      "earthquake number 1325 of 3384 done. It was 20190412_004837.a\n",
      "earthquake number 1326 of 3384 done. It was 20190411_232321.a\n",
      "earthquake number 1327 of 3384 done. It was 20190411_201059.a\n",
      "earthquake number 1328 of 3384 done. It was 20190411_193137.a\n",
      "earthquake number 1329 of 3384 done. It was 20190411_174352.a\n",
      "earthquake number 1330 of 3384 done. It was 20190411_170731.a\n",
      "earthquake number 1331 of 3384 done. It was 20190411_130529.a\n",
      "earthquake number 1332 of 3384 done. It was 20190411_104245.a\n",
      "earthquake number 1333 of 3384 done. It was 20190411_061550.a\n",
      "earthquake number 1334 of 3384 done. It was 20190411_003223.a\n",
      "earthquake number 1335 of 3384 done. It was 20190411_001819.a\n",
      "earthquake number 1336 of 3384 done. It was 20190410_224900.a\n",
      "earthquake number 1337 of 3384 done. It was 20190410_211821.a\n",
      "earthquake number 1338 of 3384 done. It was 20190410_211357.a\n",
      "earthquake number 1339 of 3384 done. It was 20190410_194819.a\n",
      "earthquake number 1340 of 3384 done. It was 20190410_182451.a\n",
      "earthquake number 1341 of 3384 done. It was 20190410_170450.a\n",
      "earthquake number 1342 of 3384 done. It was 20190410_062253.a\n",
      "earthquake number 1343 of 3384 done. It was 20190410_053935.a\n",
      "earthquake number 1344 of 3384 done. It was 20190410_004740.a\n",
      "earthquake number 1345 of 3384 done. It was 20190410_002313.a\n",
      "earthquake number 1346 of 3384 done. It was 20190409_225751.a\n",
      "earthquake number 1347 of 3384 done. It was 20190409_202413.a\n",
      "earthquake number 1348 of 3384 done. It was 20190409_200059.a\n",
      "earthquake number 1349 of 3384 done. It was 20190409_181113.a\n",
      "earthquake number 1350 of 3384 done. It was 20190409_180846.a\n",
      "earthquake number 1351 of 3384 done. It was 20190409_163000.a\n",
      "earthquake number 1352 of 3384 done. It was 20190409_151322.a\n",
      "earthquake number 1353 of 3384 done. It was 20190409_135546.a\n",
      "earthquake number 1354 of 3384 done. It was 20190409_123358.a\n",
      "earthquake number 1355 of 3384 done. It was 20190409_122950.a\n",
      "earthquake number 1356 of 3384 done. It was 20190409_093414.a\n",
      "earthquake number 1357 of 3384 done. It was 20190409_090233.a\n",
      "earthquake number 1358 of 3384 done. It was 20190409_082208.a\n",
      "earthquake number 1359 of 3384 done. It was 20190409_072727.a\n",
      "earthquake number 1360 of 3384 done. It was 20190409_030311.a\n",
      "earthquake number 1361 of 3384 done. It was 20190409_004445.a\n",
      "earthquake number 1362 of 3384 done. It was 20190409_002713.a\n",
      "earthquake number 1363 of 3384 done. It was 20190408_233045.a\n",
      "earthquake number 1364 of 3384 done. It was 20190408_195740.a\n",
      "earthquake number 1365 of 3384 done. It was 20190408_173821.a\n",
      "earthquake number 1366 of 3384 done. It was 20190408_152414.a\n",
      "earthquake number 1367 of 3384 done. It was 20190408_144000.a\n",
      "earthquake number 1368 of 3384 done. It was 20190408_132203.a\n",
      "earthquake number 1369 of 3384 done. It was 20190408_065810.a\n",
      "earthquake number 1370 of 3384 done. It was 20190408_031910.a\n",
      "earthquake number 1371 of 3384 done. It was 20190408_020734.a\n",
      "earthquake number 1372 of 3384 done. It was 20190408_000100.a\n",
      "earthquake number 1373 of 3384 done. It was 20190407_231707.a\n",
      "earthquake number 1374 of 3384 done. It was 20190407_214802.a\n",
      "earthquake number 1375 of 3384 done. It was 20190407_185537.a\n",
      "earthquake number 1376 of 3384 done. It was 20190407_180003.a\n",
      "earthquake number 1377 of 3384 done. It was 20190407_122045.a\n",
      "earthquake number 1378 of 3384 done. It was 20190407_120313.a\n",
      "earthquake number 1379 of 3384 done. It was 20190407_105631.a\n",
      "earthquake number 1380 of 3384 done. It was 20190407_105241.a\n",
      "earthquake number 1381 of 3384 done. It was 20190407_100147.a\n",
      "earthquake number 1382 of 3384 done. It was 20190407_082725.a\n",
      "earthquake number 1383 of 3384 done. It was 20190407_064326.a\n",
      "earthquake number 1384 of 3384 done. It was 20190407_040144.a\n",
      "earthquake number 1385 of 3384 done. It was 20190407_040144.a\n",
      "earthquake number 1386 of 3384 done. It was 20190407_034908.a\n",
      "earthquake number 1387 of 3384 done. It was 20190407_030001.a\n",
      "earthquake number 1388 of 3384 done. It was 20190407_013337.a\n",
      "earthquake number 1389 of 3384 done. It was 20190407_010222.a\n",
      "earthquake number 1390 of 3384 done. It was 20190407_000008.a\n",
      "earthquake number 1391 of 3384 done. It was 20190406_213303.a\n",
      "earthquake number 1392 of 3384 done. It was 20190406_210141.a\n",
      "earthquake number 1393 of 3384 done. It was 20190406_194705.a\n",
      "earthquake number 1394 of 3384 done. It was 20190406_175941.a\n"
     ]
    },
    {
     "name": "stderr",
     "output_type": "stream",
     "text": [
      "/home/earthquakes1/software/Mageia/lib/python3.7/site-packages/obspy/io/stationxml/core.py:98: UserWarning: The StationXML file has version 1, ObsPy can read versions (1.0, 1.1). Proceed with caution.\n",
      "  version, \", \".join(READABLE_VERSIONS)))\n",
      "/home/earthquakes1/software/Mageia/lib/python3.7/site-packages/obspy/io/stationxml/core.py:98: UserWarning: The StationXML file has version 1, ObsPy can read versions (1.0, 1.1). Proceed with caution.\n",
      "  version, \", \".join(READABLE_VERSIONS)))\n",
      "/home/earthquakes1/software/Mageia/lib/python3.7/site-packages/obspy/io/stationxml/core.py:98: UserWarning: The StationXML file has version 1, ObsPy can read versions (1.0, 1.1). Proceed with caution.\n",
      "  version, \", \".join(READABLE_VERSIONS)))\n",
      "/home/earthquakes1/software/Mageia/lib/python3.7/site-packages/obspy/io/stationxml/core.py:98: UserWarning: The StationXML file has version 1, ObsPy can read versions (1.0, 1.1). Proceed with caution.\n",
      "  version, \", \".join(READABLE_VERSIONS)))\n",
      "/home/earthquakes1/software/Mageia/lib/python3.7/site-packages/obspy/io/stationxml/core.py:98: UserWarning: The StationXML file has version 1, ObsPy can read versions (1.0, 1.1). Proceed with caution.\n",
      "  version, \", \".join(READABLE_VERSIONS)))\n"
     ]
    },
    {
     "name": "stdout",
     "output_type": "stream",
     "text": [
      "earthquake number 1395 of 3384 done. It was 20190406_124248.a\n",
      "earthquake number 1396 of 3384 done. It was 20190406_105030.a\n",
      "earthquake number 1397 of 3384 done. It was 20190406_094228.a\n",
      "earthquake number 1398 of 3384 done. It was 20190406_084512.a\n",
      "earthquake number 1399 of 3384 done. It was 20190406_044425.a\n",
      "earthquake number 1400 of 3384 done. It was 20190406_010258.a\n",
      "earthquake number 1401 of 3384 done. It was 20190405_235355.a\n",
      "earthquake number 1402 of 3384 done. It was 20190405_222233.a\n",
      "earthquake number 1403 of 3384 done. It was 20190405_212455.a\n",
      "earthquake number 1404 of 3384 done. It was 20190405_201040.a\n",
      "earthquake number 1405 of 3384 done. It was 20190405_194251.a\n",
      "earthquake number 1406 of 3384 done. It was 20190405_191749.a\n",
      "earthquake number 1407 of 3384 done. It was 20190405_180141.a\n",
      "earthquake number 1408 of 3384 done. It was 20190405_175232.a\n",
      "earthquake number 1409 of 3384 done. It was 20190405_165842.a\n",
      "earthquake number 1410 of 3384 done. It was 20190405_090817.a\n",
      "earthquake number 1411 of 3384 done. It was 20190405_013530.a\n",
      "earthquake number 1412 of 3384 done. It was 20190405_000509.a\n",
      "earthquake number 1413 of 3384 done. It was 20190404_173110.a\n",
      "earthquake number 1414 of 3384 done. It was 20190404_150801.a\n",
      "earthquake number 1415 of 3384 done. It was 20190404_150655.a\n",
      "earthquake number 1416 of 3384 done. It was 20190404_150117.a\n",
      "earthquake number 1417 of 3384 done. It was 20190404_135534.a\n",
      "earthquake number 1418 of 3384 done. It was 20190404_121920.a\n",
      "earthquake number 1419 of 3384 done. It was 20190404_120009.a\n",
      "earthquake number 1420 of 3384 done. It was 20190404_103420.a\n",
      "earthquake number 1421 of 3384 done. It was 20190404_094553.a\n",
      "earthquake number 1422 of 3384 done. It was 20190404_050834.a\n",
      "earthquake number 1423 of 3384 done. It was 20190404_042016.a\n",
      "earthquake number 1424 of 3384 done. It was 20190404_022534.a\n",
      "earthquake number 1425 of 3384 done. It was 20190404_015656.a\n",
      "earthquake number 1426 of 3384 done. It was 20190403_220329.a\n",
      "earthquake number 1427 of 3384 done. It was 20190403_181238.a\n",
      "earthquake number 1428 of 3384 done. It was 20190403_163839.a\n",
      "earthquake number 1429 of 3384 done. It was 20190403_160854.a\n",
      "earthquake number 1430 of 3384 done. It was 20190403_152951.a\n",
      "earthquake number 1431 of 3384 done. It was 20190403_143359.a\n",
      "earthquake number 1432 of 3384 done. It was 20190403_135554.a\n",
      "earthquake number 1433 of 3384 done. It was 20190403_130027.a\n",
      "earthquake number 1434 of 3384 done. It was 20190403_120622.a\n",
      "earthquake number 1435 of 3384 done. It was 20190403_035529.a\n",
      "earthquake number 1436 of 3384 done. It was 20190403_015256.a\n"
     ]
    },
    {
     "name": "stderr",
     "output_type": "stream",
     "text": [
      "/home/earthquakes1/software/Mageia/lib/python3.7/site-packages/obspy/io/stationxml/core.py:98: UserWarning: The StationXML file has version 1, ObsPy can read versions (1.0, 1.1). Proceed with caution.\n",
      "  version, \", \".join(READABLE_VERSIONS)))\n"
     ]
    },
    {
     "name": "stdout",
     "output_type": "stream",
     "text": [
      "earthquake number 1437 of 3384 done. It was 20190403_014241.a\n",
      "earthquake number 1438 of 3384 done. It was 20190403_004022.a\n",
      "earthquake number 1439 of 3384 done. It was 20190402_224722.a\n",
      "earthquake number 1440 of 3384 done. It was 20190402_204903.a\n",
      "earthquake number 1441 of 3384 done. It was 20190402_202909.a\n",
      "earthquake number 1442 of 3384 done. It was 20190402_201403.a\n",
      "earthquake number 1443 of 3384 done. It was 20190402_200414.a\n",
      "earthquake number 1444 of 3384 done. It was 20190402_164134.a\n",
      "earthquake number 1445 of 3384 done. It was 20190402_151420.a\n",
      "earthquake number 1446 of 3384 done. It was 20190402_142320.a\n",
      "earthquake number 1447 of 3384 done. It was 20190402_131739.a\n",
      "earthquake number 1448 of 3384 done. It was 20190402_080016.a\n",
      "earthquake number 1449 of 3384 done. It was 20190402_074133.a\n",
      "earthquake number 1450 of 3384 done. It was 20190402_012529.a\n",
      "earthquake number 1451 of 3384 done. It was 20190402_005702.a\n",
      "earthquake number 1452 of 3384 done. It was 20190401_212309.a\n",
      "earthquake number 1453 of 3384 done. It was 20190401_204949.a\n",
      "earthquake number 1454 of 3384 done. It was 20190401_202335.a\n",
      "earthquake number 1455 of 3384 done. It was 20190401_195214.a\n",
      "earthquake number 1456 of 3384 done. It was 20190401_185023.a\n",
      "earthquake number 1457 of 3384 done. It was 20190401_184449.a\n",
      "earthquake number 1458 of 3384 done. It was 20190401_180814.a\n",
      "earthquake number 1459 of 3384 done. It was 20190401_174658.a\n"
     ]
    },
    {
     "name": "stderr",
     "output_type": "stream",
     "text": [
      "/home/earthquakes1/software/Mageia/lib/python3.7/site-packages/obspy/core/inventory/response.py:964: UserWarning: Input sampling rate of stage 3 is inconsistent with the previous stages' output sampling rate\n",
      "  warnings.warn(msg % i)\n"
     ]
    },
    {
     "name": "stdout",
     "output_type": "stream",
     "text": [
      "earthquake number 1460 of 3384 done. It was 20190401_144327.a\n",
      "earthquake number 1461 of 3384 done. It was 20190401_134448.a\n",
      "earthquake number 1462 of 3384 done. It was 20190401_101949.a\n",
      "earthquake number 1463 of 3384 done. It was 20190401_085454.a\n",
      "earthquake number 1464 of 3384 done. It was 20190401_083337.a\n",
      "earthquake number 1465 of 3384 done. It was 20190401_043736.a\n",
      "earthquake number 1466 of 3384 done. It was 20190401_033605.a\n",
      "earthquake number 1467 of 3384 done. It was 20190401_031110.a\n",
      "earthquake number 1468 of 3384 done. It was 20190401_025435.a\n",
      "earthquake number 1469 of 3384 done. It was 20190401_021829.a\n",
      "earthquake number 1470 of 3384 done. It was 20190401_014930.a\n",
      "earthquake number 1471 of 3384 done. It was 20190401_013220.a\n",
      "earthquake number 1472 of 3384 done. It was 20190531_234449.a\n",
      "earthquake number 1473 of 3384 done. It was 20190531_225810.a\n",
      "earthquake number 1474 of 3384 done. It was 20190531_201831.a\n",
      "earthquake number 1475 of 3384 done. It was 20190531_192653.a\n",
      "earthquake number 1476 of 3384 done. It was 20190531_175029.a\n",
      "earthquake number 1477 of 3384 done. It was 20190531_155319.a\n",
      "earthquake number 1478 of 3384 done. It was 20190531_142157.a\n",
      "earthquake number 1479 of 3384 done. It was 20190531_122222.a\n",
      "earthquake number 1480 of 3384 done. It was 20190531_103601.a\n",
      "earthquake number 1481 of 3384 done. It was 20190531_101232.a\n",
      "earthquake number 1482 of 3384 done. It was 20190531_072509.a\n",
      "earthquake number 1483 of 3384 done. It was 20190531_052708.a\n",
      "earthquake number 1484 of 3384 done. It was 20190531_042447.a\n",
      "earthquake number 1485 of 3384 done. It was 20190531_031827.a\n",
      "earthquake number 1486 of 3384 done. It was 20190531_012704.a\n",
      "earthquake number 1487 of 3384 done. It was 20190531_001724.a\n",
      "earthquake number 1488 of 3384 done. It was 20190530_223618.a\n",
      "earthquake number 1489 of 3384 done. It was 20190530_223309.a\n",
      "earthquake number 1490 of 3384 done. It was 20190530_163741.a\n",
      "earthquake number 1491 of 3384 done. It was 20190530_110704.a\n",
      "earthquake number 1492 of 3384 done. It was 20190530_102119.a\n",
      "earthquake number 1493 of 3384 done. It was 20190530_090912.a\n",
      "earthquake number 1494 of 3384 done. It was 20190530_090328.a\n",
      "earthquake number 1495 of 3384 done. It was 20190530_064404.a\n",
      "earthquake number 1496 of 3384 done. It was 20190530_052213.a\n",
      "earthquake number 1497 of 3384 done. It was 20190530_045437.a\n",
      "earthquake number 1498 of 3384 done. It was 20190530_033456.a\n",
      "earthquake number 1499 of 3384 done. It was 20190530_024322.a\n",
      "earthquake number 1500 of 3384 done. It was 20190530_010621.a\n",
      "earthquake number 1501 of 3384 done. It was 20190529_232511.a\n",
      "earthquake number 1502 of 3384 done. It was 20190529_222354.a\n",
      "earthquake number 1503 of 3384 done. It was 20190529_213311.a\n",
      "earthquake number 1504 of 3384 done. It was 20190529_194225.a\n",
      "earthquake number 1505 of 3384 done. It was 20190529_180117.a\n",
      "earthquake number 1506 of 3384 done. It was 20190529_165645.a\n",
      "earthquake number 1507 of 3384 done. It was 20190529_163912.a\n"
     ]
    },
    {
     "name": "stderr",
     "output_type": "stream",
     "text": [
      "/home/earthquakes1/software/Mageia/lib/python3.7/site-packages/obspy/io/stationxml/core.py:98: UserWarning: The StationXML file has version 1, ObsPy can read versions (1.0, 1.1). Proceed with caution.\n",
      "  version, \", \".join(READABLE_VERSIONS)))\n",
      "/home/earthquakes1/software/Mageia/lib/python3.7/site-packages/obspy/io/stationxml/core.py:98: UserWarning: The StationXML file has version 1, ObsPy can read versions (1.0, 1.1). Proceed with caution.\n",
      "  version, \", \".join(READABLE_VERSIONS)))\n",
      "/home/earthquakes1/software/Mageia/lib/python3.7/site-packages/obspy/io/stationxml/core.py:98: UserWarning: The StationXML file has version 1, ObsPy can read versions (1.0, 1.1). Proceed with caution.\n",
      "  version, \", \".join(READABLE_VERSIONS)))\n",
      "/home/earthquakes1/software/Mageia/lib/python3.7/site-packages/obspy/io/stationxml/core.py:98: UserWarning: The StationXML file has version 1, ObsPy can read versions (1.0, 1.1). Proceed with caution.\n",
      "  version, \", \".join(READABLE_VERSIONS)))\n",
      "/home/earthquakes1/software/Mageia/lib/python3.7/site-packages/obspy/io/stationxml/core.py:98: UserWarning: The StationXML file has version 1, ObsPy can read versions (1.0, 1.1). Proceed with caution.\n",
      "  version, \", \".join(READABLE_VERSIONS)))\n",
      "/home/earthquakes1/software/Mageia/lib/python3.7/site-packages/obspy/io/stationxml/core.py:98: UserWarning: The StationXML file has version 1, ObsPy can read versions (1.0, 1.1). Proceed with caution.\n",
      "  version, \", \".join(READABLE_VERSIONS)))\n",
      "/home/earthquakes1/software/Mageia/lib/python3.7/site-packages/obspy/io/stationxml/core.py:98: UserWarning: The StationXML file has version 1, ObsPy can read versions (1.0, 1.1). Proceed with caution.\n",
      "  version, \", \".join(READABLE_VERSIONS)))\n",
      "/home/earthquakes1/software/Mageia/lib/python3.7/site-packages/obspy/io/stationxml/core.py:98: UserWarning: The StationXML file has version 1, ObsPy can read versions (1.0, 1.1). Proceed with caution.\n",
      "  version, \", \".join(READABLE_VERSIONS)))\n",
      "/home/earthquakes1/software/Mageia/lib/python3.7/site-packages/obspy/io/stationxml/core.py:98: UserWarning: The StationXML file has version 1, ObsPy can read versions (1.0, 1.1). Proceed with caution.\n",
      "  version, \", \".join(READABLE_VERSIONS)))\n",
      "/home/earthquakes1/software/Mageia/lib/python3.7/site-packages/obspy/io/stationxml/core.py:98: UserWarning: The StationXML file has version 1, ObsPy can read versions (1.0, 1.1). Proceed with caution.\n",
      "  version, \", \".join(READABLE_VERSIONS)))\n",
      "/home/earthquakes1/software/Mageia/lib/python3.7/site-packages/obspy/io/stationxml/core.py:98: UserWarning: The StationXML file has version 1, ObsPy can read versions (1.0, 1.1). Proceed with caution.\n",
      "  version, \", \".join(READABLE_VERSIONS)))\n",
      "/home/earthquakes1/software/Mageia/lib/python3.7/site-packages/obspy/io/stationxml/core.py:98: UserWarning: The StationXML file has version 1, ObsPy can read versions (1.0, 1.1). Proceed with caution.\n",
      "  version, \", \".join(READABLE_VERSIONS)))\n",
      "/home/earthquakes1/software/Mageia/lib/python3.7/site-packages/obspy/io/stationxml/core.py:98: UserWarning: The StationXML file has version 1, ObsPy can read versions (1.0, 1.1). Proceed with caution.\n",
      "  version, \", \".join(READABLE_VERSIONS)))\n",
      "/home/earthquakes1/software/Mageia/lib/python3.7/site-packages/obspy/io/stationxml/core.py:98: UserWarning: The StationXML file has version 1, ObsPy can read versions (1.0, 1.1). Proceed with caution.\n",
      "  version, \", \".join(READABLE_VERSIONS)))\n",
      "/home/earthquakes1/software/Mageia/lib/python3.7/site-packages/obspy/io/stationxml/core.py:98: UserWarning: The StationXML file has version 1, ObsPy can read versions (1.0, 1.1). Proceed with caution.\n",
      "  version, \", \".join(READABLE_VERSIONS)))\n",
      "/home/earthquakes1/software/Mageia/lib/python3.7/site-packages/obspy/io/stationxml/core.py:98: UserWarning: The StationXML file has version 1, ObsPy can read versions (1.0, 1.1). Proceed with caution.\n",
      "  version, \", \".join(READABLE_VERSIONS)))\n",
      "/home/earthquakes1/software/Mageia/lib/python3.7/site-packages/obspy/io/stationxml/core.py:98: UserWarning: The StationXML file has version 1, ObsPy can read versions (1.0, 1.1). Proceed with caution.\n",
      "  version, \", \".join(READABLE_VERSIONS)))\n",
      "/home/earthquakes1/software/Mageia/lib/python3.7/site-packages/obspy/io/stationxml/core.py:98: UserWarning: The StationXML file has version 1, ObsPy can read versions (1.0, 1.1). Proceed with caution.\n",
      "  version, \", \".join(READABLE_VERSIONS)))\n",
      "/home/earthquakes1/software/Mageia/lib/python3.7/site-packages/obspy/io/stationxml/core.py:98: UserWarning: The StationXML file has version 1, ObsPy can read versions (1.0, 1.1). Proceed with caution.\n",
      "  version, \", \".join(READABLE_VERSIONS)))\n",
      "/home/earthquakes1/software/Mageia/lib/python3.7/site-packages/obspy/io/stationxml/core.py:98: UserWarning: The StationXML file has version 1, ObsPy can read versions (1.0, 1.1). Proceed with caution.\n",
      "  version, \", \".join(READABLE_VERSIONS)))\n",
      "/home/earthquakes1/software/Mageia/lib/python3.7/site-packages/obspy/io/stationxml/core.py:98: UserWarning: The StationXML file has version 1, ObsPy can read versions (1.0, 1.1). Proceed with caution.\n",
      "  version, \", \".join(READABLE_VERSIONS)))\n",
      "/home/earthquakes1/software/Mageia/lib/python3.7/site-packages/obspy/io/stationxml/core.py:98: UserWarning: The StationXML file has version 1, ObsPy can read versions (1.0, 1.1). Proceed with caution.\n",
      "  version, \", \".join(READABLE_VERSIONS)))\n",
      "/home/earthquakes1/software/Mageia/lib/python3.7/site-packages/obspy/io/stationxml/core.py:98: UserWarning: The StationXML file has version 1, ObsPy can read versions (1.0, 1.1). Proceed with caution.\n",
      "  version, \", \".join(READABLE_VERSIONS)))\n",
      "/home/earthquakes1/software/Mageia/lib/python3.7/site-packages/obspy/io/stationxml/core.py:98: UserWarning: The StationXML file has version 1, ObsPy can read versions (1.0, 1.1). Proceed with caution.\n",
      "  version, \", \".join(READABLE_VERSIONS)))\n",
      "/home/earthquakes1/software/Mageia/lib/python3.7/site-packages/obspy/io/stationxml/core.py:98: UserWarning: The StationXML file has version 1, ObsPy can read versions (1.0, 1.1). Proceed with caution.\n",
      "  version, \", \".join(READABLE_VERSIONS)))\n",
      "/home/earthquakes1/software/Mageia/lib/python3.7/site-packages/obspy/io/stationxml/core.py:98: UserWarning: The StationXML file has version 1, ObsPy can read versions (1.0, 1.1). Proceed with caution.\n",
      "  version, \", \".join(READABLE_VERSIONS)))\n",
      "/home/earthquakes1/software/Mageia/lib/python3.7/site-packages/obspy/io/stationxml/core.py:98: UserWarning: The StationXML file has version 1, ObsPy can read versions (1.0, 1.1). Proceed with caution.\n",
      "  version, \", \".join(READABLE_VERSIONS)))\n",
      "/home/earthquakes1/software/Mageia/lib/python3.7/site-packages/obspy/io/stationxml/core.py:98: UserWarning: The StationXML file has version 1, ObsPy can read versions (1.0, 1.1). Proceed with caution.\n",
      "  version, \", \".join(READABLE_VERSIONS)))\n",
      "/home/earthquakes1/software/Mageia/lib/python3.7/site-packages/obspy/io/stationxml/core.py:98: UserWarning: The StationXML file has version 1, ObsPy can read versions (1.0, 1.1). Proceed with caution.\n",
      "  version, \", \".join(READABLE_VERSIONS)))\n",
      "/home/earthquakes1/software/Mageia/lib/python3.7/site-packages/obspy/io/stationxml/core.py:98: UserWarning: The StationXML file has version 1, ObsPy can read versions (1.0, 1.1). Proceed with caution.\n",
      "  version, \", \".join(READABLE_VERSIONS)))\n"
     ]
    },
    {
     "name": "stdout",
     "output_type": "stream",
     "text": [
      "earthquake number 1508 of 3384 done. It was 20190529_163842.a\n",
      "earthquake number 1509 of 3384 done. It was 20190529_162250.a\n",
      "earthquake number 1510 of 3384 done. It was 20190529_162238.a\n"
     ]
    },
    {
     "name": "stderr",
     "output_type": "stream",
     "text": [
      "/home/earthquakes1/software/Mageia/lib/python3.7/site-packages/obspy/io/stationxml/core.py:98: UserWarning: The StationXML file has version 1, ObsPy can read versions (1.0, 1.1). Proceed with caution.\n",
      "  version, \", \".join(READABLE_VERSIONS)))\n",
      "/home/earthquakes1/software/Mageia/lib/python3.7/site-packages/obspy/io/stationxml/core.py:98: UserWarning: The StationXML file has version 1, ObsPy can read versions (1.0, 1.1). Proceed with caution.\n",
      "  version, \", \".join(READABLE_VERSIONS)))\n",
      "/home/earthquakes1/software/Mageia/lib/python3.7/site-packages/obspy/io/stationxml/core.py:98: UserWarning: The StationXML file has version 1, ObsPy can read versions (1.0, 1.1). Proceed with caution.\n",
      "  version, \", \".join(READABLE_VERSIONS)))\n",
      "/home/earthquakes1/software/Mageia/lib/python3.7/site-packages/obspy/io/stationxml/core.py:98: UserWarning: The StationXML file has version 1, ObsPy can read versions (1.0, 1.1). Proceed with caution.\n",
      "  version, \", \".join(READABLE_VERSIONS)))\n",
      "/home/earthquakes1/software/Mageia/lib/python3.7/site-packages/obspy/io/stationxml/core.py:98: UserWarning: The StationXML file has version 1, ObsPy can read versions (1.0, 1.1). Proceed with caution.\n",
      "  version, \", \".join(READABLE_VERSIONS)))\n",
      "/home/earthquakes1/software/Mageia/lib/python3.7/site-packages/obspy/io/stationxml/core.py:98: UserWarning: The StationXML file has version 1, ObsPy can read versions (1.0, 1.1). Proceed with caution.\n",
      "  version, \", \".join(READABLE_VERSIONS)))\n",
      "/home/earthquakes1/software/Mageia/lib/python3.7/site-packages/obspy/io/stationxml/core.py:98: UserWarning: The StationXML file has version 1, ObsPy can read versions (1.0, 1.1). Proceed with caution.\n",
      "  version, \", \".join(READABLE_VERSIONS)))\n",
      "/home/earthquakes1/software/Mageia/lib/python3.7/site-packages/obspy/io/stationxml/core.py:98: UserWarning: The StationXML file has version 1, ObsPy can read versions (1.0, 1.1). Proceed with caution.\n",
      "  version, \", \".join(READABLE_VERSIONS)))\n",
      "/home/earthquakes1/software/Mageia/lib/python3.7/site-packages/obspy/io/stationxml/core.py:98: UserWarning: The StationXML file has version 1, ObsPy can read versions (1.0, 1.1). Proceed with caution.\n",
      "  version, \", \".join(READABLE_VERSIONS)))\n",
      "/home/earthquakes1/software/Mageia/lib/python3.7/site-packages/obspy/io/stationxml/core.py:98: UserWarning: The StationXML file has version 1, ObsPy can read versions (1.0, 1.1). Proceed with caution.\n",
      "  version, \", \".join(READABLE_VERSIONS)))\n",
      "/home/earthquakes1/software/Mageia/lib/python3.7/site-packages/obspy/io/stationxml/core.py:98: UserWarning: The StationXML file has version 1, ObsPy can read versions (1.0, 1.1). Proceed with caution.\n",
      "  version, \", \".join(READABLE_VERSIONS)))\n",
      "/home/earthquakes1/software/Mageia/lib/python3.7/site-packages/obspy/io/stationxml/core.py:98: UserWarning: The StationXML file has version 1, ObsPy can read versions (1.0, 1.1). Proceed with caution.\n",
      "  version, \", \".join(READABLE_VERSIONS)))\n",
      "/home/earthquakes1/software/Mageia/lib/python3.7/site-packages/obspy/io/stationxml/core.py:98: UserWarning: The StationXML file has version 1, ObsPy can read versions (1.0, 1.1). Proceed with caution.\n",
      "  version, \", \".join(READABLE_VERSIONS)))\n",
      "/home/earthquakes1/software/Mageia/lib/python3.7/site-packages/obspy/io/stationxml/core.py:98: UserWarning: The StationXML file has version 1, ObsPy can read versions (1.0, 1.1). Proceed with caution.\n",
      "  version, \", \".join(READABLE_VERSIONS)))\n",
      "/home/earthquakes1/software/Mageia/lib/python3.7/site-packages/obspy/io/stationxml/core.py:98: UserWarning: The StationXML file has version 1, ObsPy can read versions (1.0, 1.1). Proceed with caution.\n",
      "  version, \", \".join(READABLE_VERSIONS)))\n",
      "/home/earthquakes1/software/Mageia/lib/python3.7/site-packages/obspy/io/stationxml/core.py:98: UserWarning: The StationXML file has version 1, ObsPy can read versions (1.0, 1.1). Proceed with caution.\n",
      "  version, \", \".join(READABLE_VERSIONS)))\n",
      "/home/earthquakes1/software/Mageia/lib/python3.7/site-packages/obspy/io/stationxml/core.py:98: UserWarning: The StationXML file has version 1, ObsPy can read versions (1.0, 1.1). Proceed with caution.\n",
      "  version, \", \".join(READABLE_VERSIONS)))\n",
      "/home/earthquakes1/software/Mageia/lib/python3.7/site-packages/obspy/io/stationxml/core.py:98: UserWarning: The StationXML file has version 1, ObsPy can read versions (1.0, 1.1). Proceed with caution.\n",
      "  version, \", \".join(READABLE_VERSIONS)))\n",
      "/home/earthquakes1/software/Mageia/lib/python3.7/site-packages/obspy/io/stationxml/core.py:98: UserWarning: The StationXML file has version 1, ObsPy can read versions (1.0, 1.1). Proceed with caution.\n",
      "  version, \", \".join(READABLE_VERSIONS)))\n",
      "/home/earthquakes1/software/Mageia/lib/python3.7/site-packages/obspy/io/stationxml/core.py:98: UserWarning: The StationXML file has version 1, ObsPy can read versions (1.0, 1.1). Proceed with caution.\n",
      "  version, \", \".join(READABLE_VERSIONS)))\n",
      "/home/earthquakes1/software/Mageia/lib/python3.7/site-packages/obspy/io/stationxml/core.py:98: UserWarning: The StationXML file has version 1, ObsPy can read versions (1.0, 1.1). Proceed with caution.\n",
      "  version, \", \".join(READABLE_VERSIONS)))\n",
      "/home/earthquakes1/software/Mageia/lib/python3.7/site-packages/obspy/io/stationxml/core.py:98: UserWarning: The StationXML file has version 1, ObsPy can read versions (1.0, 1.1). Proceed with caution.\n",
      "  version, \", \".join(READABLE_VERSIONS)))\n",
      "/home/earthquakes1/software/Mageia/lib/python3.7/site-packages/obspy/io/stationxml/core.py:98: UserWarning: The StationXML file has version 1, ObsPy can read versions (1.0, 1.1). Proceed with caution.\n",
      "  version, \", \".join(READABLE_VERSIONS)))\n",
      "/home/earthquakes1/software/Mageia/lib/python3.7/site-packages/obspy/io/stationxml/core.py:98: UserWarning: The StationXML file has version 1, ObsPy can read versions (1.0, 1.1). Proceed with caution.\n",
      "  version, \", \".join(READABLE_VERSIONS)))\n",
      "/home/earthquakes1/software/Mageia/lib/python3.7/site-packages/obspy/io/stationxml/core.py:98: UserWarning: The StationXML file has version 1, ObsPy can read versions (1.0, 1.1). Proceed with caution.\n",
      "  version, \", \".join(READABLE_VERSIONS)))\n",
      "/home/earthquakes1/software/Mageia/lib/python3.7/site-packages/obspy/io/stationxml/core.py:98: UserWarning: The StationXML file has version 1, ObsPy can read versions (1.0, 1.1). Proceed with caution.\n",
      "  version, \", \".join(READABLE_VERSIONS)))\n",
      "/home/earthquakes1/software/Mageia/lib/python3.7/site-packages/obspy/io/stationxml/core.py:98: UserWarning: The StationXML file has version 1, ObsPy can read versions (1.0, 1.1). Proceed with caution.\n",
      "  version, \", \".join(READABLE_VERSIONS)))\n",
      "/home/earthquakes1/software/Mageia/lib/python3.7/site-packages/obspy/io/stationxml/core.py:98: UserWarning: The StationXML file has version 1, ObsPy can read versions (1.0, 1.1). Proceed with caution.\n",
      "  version, \", \".join(READABLE_VERSIONS)))\n",
      "/home/earthquakes1/software/Mageia/lib/python3.7/site-packages/obspy/io/stationxml/core.py:98: UserWarning: The StationXML file has version 1, ObsPy can read versions (1.0, 1.1). Proceed with caution.\n",
      "  version, \", \".join(READABLE_VERSIONS)))\n",
      "/home/earthquakes1/software/Mageia/lib/python3.7/site-packages/obspy/io/stationxml/core.py:98: UserWarning: The StationXML file has version 1, ObsPy can read versions (1.0, 1.1). Proceed with caution.\n",
      "  version, \", \".join(READABLE_VERSIONS)))\n",
      "/home/earthquakes1/software/Mageia/lib/python3.7/site-packages/obspy/io/stationxml/core.py:98: UserWarning: The StationXML file has version 1, ObsPy can read versions (1.0, 1.1). Proceed with caution.\n",
      "  version, \", \".join(READABLE_VERSIONS)))\n"
     ]
    },
    {
     "name": "stdout",
     "output_type": "stream",
     "text": [
      "earthquake number 1511 of 3384 done. It was 20190529_150246.a\n",
      "earthquake number 1512 of 3384 done. It was 20190529_140913.a\n",
      "earthquake number 1513 of 3384 done. It was 20190529_134914.a\n",
      "earthquake number 1514 of 3384 done. It was 20190529_134832.a\n",
      "earthquake number 1515 of 3384 done. It was 20190529_130053.a\n",
      "earthquake number 1516 of 3384 done. It was 20190529_105757.a\n",
      "earthquake number 1517 of 3384 done. It was 20190529_105126.a\n",
      "earthquake number 1518 of 3384 done. It was 20190529_052509.a\n",
      "earthquake number 1519 of 3384 done. It was 20190529_015423.a\n",
      "earthquake number 1520 of 3384 done. It was 20190528_231948.a\n",
      "earthquake number 1521 of 3384 done. It was 20190528_231733.a\n",
      "earthquake number 1522 of 3384 done. It was 20190528_203253.a\n",
      "earthquake number 1523 of 3384 done. It was 20190528_161818.a\n",
      "earthquake number 1524 of 3384 done. It was 20190528_150026.a\n",
      "earthquake number 1525 of 3384 done. It was 20190528_144651.a\n",
      "earthquake number 1526 of 3384 done. It was 20190528_143419.a\n",
      "earthquake number 1527 of 3384 done. It was 20190528_070636.a\n",
      "earthquake number 1528 of 3384 done. It was 20190528_065809.a\n",
      "earthquake number 1529 of 3384 done. It was 20190528_052747.a\n",
      "earthquake number 1530 of 3384 done. It was 20190528_044233.a\n",
      "earthquake number 1531 of 3384 done. It was 20190528_041913.a\n",
      "earthquake number 1532 of 3384 done. It was 20190528_031436.a\n",
      "earthquake number 1533 of 3384 done. It was 20190528_023615.a\n",
      "earthquake number 1534 of 3384 done. It was 20190528_003455.a\n",
      "earthquake number 1535 of 3384 done. It was 20190527_234449.a\n",
      "earthquake number 1536 of 3384 done. It was 20190527_222548.a\n",
      "earthquake number 1537 of 3384 done. It was 20190527_215615.a\n",
      "earthquake number 1538 of 3384 done. It was 20190527_152525.a\n",
      "earthquake number 1539 of 3384 done. It was 20190527_142314.a\n"
     ]
    },
    {
     "name": "stderr",
     "output_type": "stream",
     "text": [
      "/home/earthquakes1/software/Mageia/lib/python3.7/site-packages/obspy/io/stationxml/core.py:98: UserWarning: The StationXML file has version 1, ObsPy can read versions (1.0, 1.1). Proceed with caution.\n",
      "  version, \", \".join(READABLE_VERSIONS)))\n",
      "/home/earthquakes1/software/Mageia/lib/python3.7/site-packages/obspy/io/stationxml/core.py:98: UserWarning: The StationXML file has version 1, ObsPy can read versions (1.0, 1.1). Proceed with caution.\n",
      "  version, \", \".join(READABLE_VERSIONS)))\n",
      "/home/earthquakes1/software/Mageia/lib/python3.7/site-packages/obspy/io/stationxml/core.py:98: UserWarning: The StationXML file has version 1, ObsPy can read versions (1.0, 1.1). Proceed with caution.\n",
      "  version, \", \".join(READABLE_VERSIONS)))\n",
      "/home/earthquakes1/software/Mageia/lib/python3.7/site-packages/obspy/io/stationxml/core.py:98: UserWarning: The StationXML file has version 1, ObsPy can read versions (1.0, 1.1). Proceed with caution.\n",
      "  version, \", \".join(READABLE_VERSIONS)))\n",
      "/home/earthquakes1/software/Mageia/lib/python3.7/site-packages/obspy/io/stationxml/core.py:98: UserWarning: The StationXML file has version 1, ObsPy can read versions (1.0, 1.1). Proceed with caution.\n",
      "  version, \", \".join(READABLE_VERSIONS)))\n"
     ]
    },
    {
     "name": "stdout",
     "output_type": "stream",
     "text": [
      "earthquake number 1540 of 3384 done. It was 20190527_142144.a\n",
      "earthquake number 1541 of 3384 done. It was 20190527_101420.a\n",
      "earthquake number 1542 of 3384 done. It was 20190527_095720.a\n",
      "earthquake number 1543 of 3384 done. It was 20190527_095221.a\n",
      "earthquake number 1544 of 3384 done. It was 20190527_072625.a\n",
      "earthquake number 1545 of 3384 done. It was 20190527_055054.a\n",
      "earthquake number 1546 of 3384 done. It was 20190527_015732.a\n",
      "earthquake number 1547 of 3384 done. It was 20190527_000733.a\n",
      "earthquake number 1548 of 3384 done. It was 20190526_233157.a\n",
      "earthquake number 1549 of 3384 done. It was 20190526_190417.a\n",
      "earthquake number 1550 of 3384 done. It was 20190526_152552.a\n",
      "earthquake number 1551 of 3384 done. It was 20190526_152253.a\n",
      "earthquake number 1552 of 3384 done. It was 20190526_151836.a\n",
      "earthquake number 1553 of 3384 done. It was 20190526_135935.a\n",
      "earthquake number 1554 of 3384 done. It was 20190526_133435.a\n",
      "earthquake number 1555 of 3384 done. It was 20190526_125407.a\n",
      "earthquake number 1556 of 3384 done. It was 20190526_120711.a\n",
      "earthquake number 1557 of 3384 done. It was 20190526_094932.a\n",
      "earthquake number 1558 of 3384 done. It was 20190526_093415.a\n",
      "earthquake number 1559 of 3384 done. It was 20190526_090708.a\n",
      "earthquake number 1560 of 3384 done. It was 20190526_075041.a\n",
      "earthquake number 1561 of 3384 done. It was 20190526_075012.a\n",
      "earthquake number 1562 of 3384 done. It was 20190526_035128.a\n",
      "earthquake number 1563 of 3384 done. It was 20190526_000149.a\n",
      "earthquake number 1564 of 3384 done. It was 20190525_235851.a\n",
      "earthquake number 1565 of 3384 done. It was 20190525_235346.a\n",
      "earthquake number 1566 of 3384 done. It was 20190525_223526.a\n",
      "earthquake number 1567 of 3384 done. It was 20190525_220002.a\n",
      "earthquake number 1568 of 3384 done. It was 20190525_171329.a\n",
      "earthquake number 1569 of 3384 done. It was 20190525_151336.a\n",
      "earthquake number 1570 of 3384 done. It was 20190525_141449.a\n",
      "earthquake number 1571 of 3384 done. It was 20190525_134128.a\n",
      "earthquake number 1572 of 3384 done. It was 20190525_112344.a\n",
      "earthquake number 1573 of 3384 done. It was 20190525_062740.a\n",
      "earthquake number 1574 of 3384 done. It was 20190525_062046.a\n"
     ]
    },
    {
     "name": "stderr",
     "output_type": "stream",
     "text": [
      "/home/earthquakes1/software/Mageia/lib/python3.7/site-packages/obspy/io/stationxml/core.py:98: UserWarning: The StationXML file has version 1, ObsPy can read versions (1.0, 1.1). Proceed with caution.\n",
      "  version, \", \".join(READABLE_VERSIONS)))\n",
      "/home/earthquakes1/software/Mageia/lib/python3.7/site-packages/obspy/io/stationxml/core.py:98: UserWarning: The StationXML file has version 1, ObsPy can read versions (1.0, 1.1). Proceed with caution.\n",
      "  version, \", \".join(READABLE_VERSIONS)))\n",
      "/home/earthquakes1/software/Mageia/lib/python3.7/site-packages/obspy/io/stationxml/core.py:98: UserWarning: The StationXML file has version 1, ObsPy can read versions (1.0, 1.1). Proceed with caution.\n",
      "  version, \", \".join(READABLE_VERSIONS)))\n",
      "/home/earthquakes1/software/Mageia/lib/python3.7/site-packages/obspy/io/stationxml/core.py:98: UserWarning: The StationXML file has version 1, ObsPy can read versions (1.0, 1.1). Proceed with caution.\n",
      "  version, \", \".join(READABLE_VERSIONS)))\n",
      "/home/earthquakes1/software/Mageia/lib/python3.7/site-packages/obspy/io/stationxml/core.py:98: UserWarning: The StationXML file has version 1, ObsPy can read versions (1.0, 1.1). Proceed with caution.\n",
      "  version, \", \".join(READABLE_VERSIONS)))\n",
      "/home/earthquakes1/software/Mageia/lib/python3.7/site-packages/obspy/io/stationxml/core.py:98: UserWarning: The StationXML file has version 1, ObsPy can read versions (1.0, 1.1). Proceed with caution.\n",
      "  version, \", \".join(READABLE_VERSIONS)))\n",
      "/home/earthquakes1/software/Mageia/lib/python3.7/site-packages/obspy/io/stationxml/core.py:98: UserWarning: The StationXML file has version 1, ObsPy can read versions (1.0, 1.1). Proceed with caution.\n",
      "  version, \", \".join(READABLE_VERSIONS)))\n",
      "/home/earthquakes1/software/Mageia/lib/python3.7/site-packages/obspy/io/stationxml/core.py:98: UserWarning: The StationXML file has version 1, ObsPy can read versions (1.0, 1.1). Proceed with caution.\n",
      "  version, \", \".join(READABLE_VERSIONS)))\n",
      "/home/earthquakes1/software/Mageia/lib/python3.7/site-packages/obspy/io/stationxml/core.py:98: UserWarning: The StationXML file has version 1, ObsPy can read versions (1.0, 1.1). Proceed with caution.\n",
      "  version, \", \".join(READABLE_VERSIONS)))\n",
      "/home/earthquakes1/software/Mageia/lib/python3.7/site-packages/obspy/io/stationxml/core.py:98: UserWarning: The StationXML file has version 1, ObsPy can read versions (1.0, 1.1). Proceed with caution.\n",
      "  version, \", \".join(READABLE_VERSIONS)))\n",
      "/home/earthquakes1/software/Mageia/lib/python3.7/site-packages/obspy/io/stationxml/core.py:98: UserWarning: The StationXML file has version 1, ObsPy can read versions (1.0, 1.1). Proceed with caution.\n",
      "  version, \", \".join(READABLE_VERSIONS)))\n",
      "/home/earthquakes1/software/Mageia/lib/python3.7/site-packages/obspy/io/stationxml/core.py:98: UserWarning: The StationXML file has version 1, ObsPy can read versions (1.0, 1.1). Proceed with caution.\n",
      "  version, \", \".join(READABLE_VERSIONS)))\n",
      "/home/earthquakes1/software/Mageia/lib/python3.7/site-packages/obspy/io/stationxml/core.py:98: UserWarning: The StationXML file has version 1, ObsPy can read versions (1.0, 1.1). Proceed with caution.\n",
      "  version, \", \".join(READABLE_VERSIONS)))\n",
      "/home/earthquakes1/software/Mageia/lib/python3.7/site-packages/obspy/io/stationxml/core.py:98: UserWarning: The StationXML file has version 1, ObsPy can read versions (1.0, 1.1). Proceed with caution.\n",
      "  version, \", \".join(READABLE_VERSIONS)))\n",
      "/home/earthquakes1/software/Mageia/lib/python3.7/site-packages/obspy/io/stationxml/core.py:98: UserWarning: The StationXML file has version 1, ObsPy can read versions (1.0, 1.1). Proceed with caution.\n",
      "  version, \", \".join(READABLE_VERSIONS)))\n",
      "/home/earthquakes1/software/Mageia/lib/python3.7/site-packages/obspy/io/stationxml/core.py:98: UserWarning: The StationXML file has version 1, ObsPy can read versions (1.0, 1.1). Proceed with caution.\n",
      "  version, \", \".join(READABLE_VERSIONS)))\n",
      "/home/earthquakes1/software/Mageia/lib/python3.7/site-packages/obspy/io/stationxml/core.py:98: UserWarning: The StationXML file has version 1, ObsPy can read versions (1.0, 1.1). Proceed with caution.\n",
      "  version, \", \".join(READABLE_VERSIONS)))\n",
      "/home/earthquakes1/software/Mageia/lib/python3.7/site-packages/obspy/io/stationxml/core.py:98: UserWarning: The StationXML file has version 1, ObsPy can read versions (1.0, 1.1). Proceed with caution.\n",
      "  version, \", \".join(READABLE_VERSIONS)))\n",
      "/home/earthquakes1/software/Mageia/lib/python3.7/site-packages/obspy/io/stationxml/core.py:98: UserWarning: The StationXML file has version 1, ObsPy can read versions (1.0, 1.1). Proceed with caution.\n",
      "  version, \", \".join(READABLE_VERSIONS)))\n",
      "/home/earthquakes1/software/Mageia/lib/python3.7/site-packages/obspy/io/stationxml/core.py:98: UserWarning: The StationXML file has version 1, ObsPy can read versions (1.0, 1.1). Proceed with caution.\n",
      "  version, \", \".join(READABLE_VERSIONS)))\n",
      "/home/earthquakes1/software/Mageia/lib/python3.7/site-packages/obspy/io/stationxml/core.py:98: UserWarning: The StationXML file has version 1, ObsPy can read versions (1.0, 1.1). Proceed with caution.\n",
      "  version, \", \".join(READABLE_VERSIONS)))\n",
      "/home/earthquakes1/software/Mageia/lib/python3.7/site-packages/obspy/io/stationxml/core.py:98: UserWarning: The StationXML file has version 1, ObsPy can read versions (1.0, 1.1). Proceed with caution.\n",
      "  version, \", \".join(READABLE_VERSIONS)))\n",
      "/home/earthquakes1/software/Mageia/lib/python3.7/site-packages/obspy/io/stationxml/core.py:98: UserWarning: The StationXML file has version 1, ObsPy can read versions (1.0, 1.1). Proceed with caution.\n",
      "  version, \", \".join(READABLE_VERSIONS)))\n",
      "/home/earthquakes1/software/Mageia/lib/python3.7/site-packages/obspy/io/stationxml/core.py:98: UserWarning: The StationXML file has version 1, ObsPy can read versions (1.0, 1.1). Proceed with caution.\n",
      "  version, \", \".join(READABLE_VERSIONS)))\n"
     ]
    },
    {
     "name": "stdout",
     "output_type": "stream",
     "text": [
      "earthquake number 1575 of 3384 done. It was 20190525_055247.a\n",
      "earthquake number 1576 of 3384 done. It was 20190525_045010.a\n",
      "earthquake number 1577 of 3384 done. It was 20190525_004423.a\n",
      "earthquake number 1578 of 3384 done. It was 20190524_231422.a\n",
      "earthquake number 1579 of 3384 done. It was 20190524_223405.a\n",
      "earthquake number 1580 of 3384 done. It was 20190524_223029.a\n",
      "earthquake number 1581 of 3384 done. It was 20190524_211758.a\n",
      "earthquake number 1582 of 3384 done. It was 20190524_173142.a\n",
      "earthquake number 1583 of 3384 done. It was 20190524_131618.a\n",
      "earthquake number 1584 of 3384 done. It was 20190524_125150.a\n",
      "earthquake number 1585 of 3384 done. It was 20190524_093617.a\n",
      "earthquake number 1586 of 3384 done. It was 20190524_062357.a\n",
      "earthquake number 1587 of 3384 done. It was 20190524_042511.a\n",
      "earthquake number 1588 of 3384 done. It was 20190524_034017.a\n",
      "earthquake number 1589 of 3384 done. It was 20190523_155146.a\n",
      "earthquake number 1590 of 3384 done. It was 20190523_130544.a\n"
     ]
    },
    {
     "name": "stderr",
     "output_type": "stream",
     "text": [
      "/home/earthquakes1/software/Mageia/lib/python3.7/site-packages/obspy/core/inventory/response.py:964: UserWarning: Input sampling rate of stage 3 is inconsistent with the previous stages' output sampling rate\n",
      "  warnings.warn(msg % i)\n"
     ]
    },
    {
     "name": "stdout",
     "output_type": "stream",
     "text": [
      "earthquake number 1591 of 3384 done. It was 20190523_095348.a\n",
      "earthquake number 1592 of 3384 done. It was 20190523_061249.a\n",
      "earthquake number 1593 of 3384 done. It was 20190523_052048.a\n",
      "earthquake number 1594 of 3384 done. It was 20190523_051351.a\n",
      "earthquake number 1595 of 3384 done. It was 20190523_044424.a\n",
      "earthquake number 1596 of 3384 done. It was 20190523_032516.a\n",
      "earthquake number 1597 of 3384 done. It was 20190523_013253.a\n",
      "earthquake number 1598 of 3384 done. It was 20190523_005925.a\n",
      "earthquake number 1599 of 3384 done. It was 20190522_233957.a\n",
      "earthquake number 1600 of 3384 done. It was 20190522_224228.a\n",
      "earthquake number 1601 of 3384 done. It was 20190522_204945.a\n",
      "earthquake number 1602 of 3384 done. It was 20190522_204737.a\n",
      "earthquake number 1603 of 3384 done. It was 20190522_204531.a\n",
      "earthquake number 1604 of 3384 done. It was 20190522_204125.a\n",
      "earthquake number 1605 of 3384 done. It was 20190522_201512.a\n",
      "earthquake number 1606 of 3384 done. It was 20190522_143622.a\n"
     ]
    },
    {
     "name": "stderr",
     "output_type": "stream",
     "text": [
      "/home/earthquakes1/software/Mageia/lib/python3.7/site-packages/obspy/io/stationxml/core.py:98: UserWarning: The StationXML file has version 1, ObsPy can read versions (1.0, 1.1). Proceed with caution.\n",
      "  version, \", \".join(READABLE_VERSIONS)))\n",
      "/home/earthquakes1/software/Mageia/lib/python3.7/site-packages/obspy/io/stationxml/core.py:98: UserWarning: The StationXML file has version 1, ObsPy can read versions (1.0, 1.1). Proceed with caution.\n",
      "  version, \", \".join(READABLE_VERSIONS)))\n"
     ]
    },
    {
     "name": "stdout",
     "output_type": "stream",
     "text": [
      "earthquake number 1607 of 3384 done. It was 20190522_140856.a\n",
      "earthquake number 1608 of 3384 done. It was 20190522_125553.a\n",
      "earthquake number 1609 of 3384 done. It was 20190522_110813.a\n",
      "earthquake number 1610 of 3384 done. It was 20190522_065356.a\n",
      "earthquake number 1611 of 3384 done. It was 20190522_065121.a\n",
      "earthquake number 1612 of 3384 done. It was 20190522_042312.a\n",
      "earthquake number 1613 of 3384 done. It was 20190522_041331.a\n",
      "earthquake number 1614 of 3384 done. It was 20190522_035540.a\n",
      "earthquake number 1615 of 3384 done. It was 20190522_034859.a\n",
      "earthquake number 1616 of 3384 done. It was 20190522_022445.a\n",
      "earthquake number 1617 of 3384 done. It was 20190522_013724.a\n",
      "earthquake number 1618 of 3384 done. It was 20190522_013024.a\n",
      "earthquake number 1619 of 3384 done. It was 20190521_231733.a\n",
      "earthquake number 1620 of 3384 done. It was 20190521_210600.a\n",
      "earthquake number 1621 of 3384 done. It was 20190521_192513.a\n",
      "earthquake number 1622 of 3384 done. It was 20190521_171952.a\n",
      "earthquake number 1623 of 3384 done. It was 20190521_171952.a\n",
      "earthquake number 1624 of 3384 done. It was 20190521_163650.a\n",
      "earthquake number 1625 of 3384 done. It was 20190521_154700.a\n",
      "earthquake number 1626 of 3384 done. It was 20190521_132316.a\n"
     ]
    },
    {
     "name": "stderr",
     "output_type": "stream",
     "text": [
      "/home/earthquakes1/homes/Rebecca/phd/seismo_det/code/earthquake.py:105: RuntimeWarning: invalid value encountered in true_divide\n",
      "  tau_p = 2 * np.pi * np.sqrt(X/D)\n",
      "/home/earthquakes1/homes/Rebecca/phd/seismo_det/code/earthquake.py:195: RuntimeWarning: invalid value encountered in double_scalars\n",
      "  t_c = (2 * math.pi)/(math.sqrt(numerator/denominator))\n"
     ]
    },
    {
     "name": "stdout",
     "output_type": "stream",
     "text": [
      "earthquake number 1627 of 3384 done. It was 20190521_111128.a\n",
      "earthquake number 1628 of 3384 done. It was 20190521_101229.a\n",
      "earthquake number 1629 of 3384 done. It was 20190521_101213.a\n",
      "earthquake number 1630 of 3384 done. It was 20190521_100148.a\n",
      "earthquake number 1631 of 3384 done. It was 20190521_085820.a\n",
      "earthquake number 1632 of 3384 done. It was 20190521_071859.a\n",
      "earthquake number 1633 of 3384 done. It was 20190521_031255.a\n",
      "earthquake number 1634 of 3384 done. It was 20190520_205556.a\n",
      "earthquake number 1635 of 3384 done. It was 20190520_192834.a\n",
      "earthquake number 1636 of 3384 done. It was 20190520_184029.a\n",
      "earthquake number 1637 of 3384 done. It was 20190520_174042.a\n",
      "earthquake number 1638 of 3384 done. It was 20190520_133057.a\n",
      "earthquake number 1639 of 3384 done. It was 20190520_111832.a\n",
      "earthquake number 1640 of 3384 done. It was 20190520_111544.a\n",
      "earthquake number 1641 of 3384 done. It was 20190520_101804.a\n",
      "earthquake number 1642 of 3384 done. It was 20190520_065855.a\n",
      "earthquake number 1643 of 3384 done. It was 20190520_021544.a\n",
      "earthquake number 1644 of 3384 done. It was 20190520_003011.a\n",
      "earthquake number 1645 of 3384 done. It was 20190519_224853.a\n",
      "earthquake number 1646 of 3384 done. It was 20190519_162341.a\n",
      "earthquake number 1647 of 3384 done. It was 20190519_160822.a\n",
      "earthquake number 1648 of 3384 done. It was 20190519_154356.a\n",
      "earthquake number 1649 of 3384 done. It was 20190519_153143.a\n",
      "earthquake number 1650 of 3384 done. It was 20190519_150819.a\n",
      "earthquake number 1651 of 3384 done. It was 20190519_150617.a\n",
      "earthquake number 1652 of 3384 done. It was 20190519_150148.a\n",
      "earthquake number 1653 of 3384 done. It was 20190519_145650.a\n",
      "earthquake number 1654 of 3384 done. It was 20190519_145011.a\n",
      "earthquake number 1655 of 3384 done. It was 20190519_144114.a\n",
      "earthquake number 1656 of 3384 done. It was 20190519_142712.a\n",
      "earthquake number 1657 of 3384 done. It was 20190519_104911.a\n",
      "earthquake number 1658 of 3384 done. It was 20190519_104318.a\n",
      "earthquake number 1659 of 3384 done. It was 20190519_100923.a\n",
      "earthquake number 1660 of 3384 done. It was 20190519_095151.a\n",
      "earthquake number 1661 of 3384 done. It was 20190519_070153.a\n",
      "earthquake number 1662 of 3384 done. It was 20190519_061220.a\n",
      "earthquake number 1663 of 3384 done. It was 20190519_060222.a\n",
      "earthquake number 1664 of 3384 done. It was 20190519_015951.a\n",
      "earthquake number 1665 of 3384 done. It was 20190519_013723.a\n",
      "earthquake number 1666 of 3384 done. It was 20190519_012329.a\n",
      "earthquake number 1667 of 3384 done. It was 20190518_233232.a\n",
      "earthquake number 1668 of 3384 done. It was 20190518_204358.a\n",
      "earthquake number 1669 of 3384 done. It was 20190518_192244.a\n",
      "earthquake number 1670 of 3384 done. It was 20190518_163831.a\n",
      "earthquake number 1671 of 3384 done. It was 20190518_145830.a\n",
      "earthquake number 1672 of 3384 done. It was 20190518_121656.a\n",
      "earthquake number 1673 of 3384 done. It was 20190518_095536.a\n",
      "earthquake number 1674 of 3384 done. It was 20190518_075337.a\n"
     ]
    },
    {
     "name": "stderr",
     "output_type": "stream",
     "text": [
      "/home/earthquakes1/software/Mageia/lib/python3.7/site-packages/obspy/io/stationxml/core.py:98: UserWarning: The StationXML file has version 1, ObsPy can read versions (1.0, 1.1). Proceed with caution.\n",
      "  version, \", \".join(READABLE_VERSIONS)))\n",
      "/home/earthquakes1/software/Mageia/lib/python3.7/site-packages/obspy/io/stationxml/core.py:98: UserWarning: The StationXML file has version 1, ObsPy can read versions (1.0, 1.1). Proceed with caution.\n",
      "  version, \", \".join(READABLE_VERSIONS)))\n",
      "/home/earthquakes1/software/Mageia/lib/python3.7/site-packages/obspy/io/stationxml/core.py:98: UserWarning: The StationXML file has version 1, ObsPy can read versions (1.0, 1.1). Proceed with caution.\n",
      "  version, \", \".join(READABLE_VERSIONS)))\n",
      "/home/earthquakes1/software/Mageia/lib/python3.7/site-packages/obspy/io/stationxml/core.py:98: UserWarning: The StationXML file has version 1, ObsPy can read versions (1.0, 1.1). Proceed with caution.\n",
      "  version, \", \".join(READABLE_VERSIONS)))\n",
      "/home/earthquakes1/software/Mageia/lib/python3.7/site-packages/obspy/io/stationxml/core.py:98: UserWarning: The StationXML file has version 1, ObsPy can read versions (1.0, 1.1). Proceed with caution.\n",
      "  version, \", \".join(READABLE_VERSIONS)))\n",
      "/home/earthquakes1/software/Mageia/lib/python3.7/site-packages/obspy/io/stationxml/core.py:98: UserWarning: The StationXML file has version 1, ObsPy can read versions (1.0, 1.1). Proceed with caution.\n",
      "  version, \", \".join(READABLE_VERSIONS)))\n",
      "/home/earthquakes1/software/Mageia/lib/python3.7/site-packages/obspy/io/stationxml/core.py:98: UserWarning: The StationXML file has version 1, ObsPy can read versions (1.0, 1.1). Proceed with caution.\n",
      "  version, \", \".join(READABLE_VERSIONS)))\n",
      "/home/earthquakes1/software/Mageia/lib/python3.7/site-packages/obspy/io/stationxml/core.py:98: UserWarning: The StationXML file has version 1, ObsPy can read versions (1.0, 1.1). Proceed with caution.\n",
      "  version, \", \".join(READABLE_VERSIONS)))\n",
      "/home/earthquakes1/software/Mageia/lib/python3.7/site-packages/obspy/io/stationxml/core.py:98: UserWarning: The StationXML file has version 1, ObsPy can read versions (1.0, 1.1). Proceed with caution.\n",
      "  version, \", \".join(READABLE_VERSIONS)))\n",
      "/home/earthquakes1/software/Mageia/lib/python3.7/site-packages/obspy/io/stationxml/core.py:98: UserWarning: The StationXML file has version 1, ObsPy can read versions (1.0, 1.1). Proceed with caution.\n",
      "  version, \", \".join(READABLE_VERSIONS)))\n",
      "/home/earthquakes1/software/Mageia/lib/python3.7/site-packages/obspy/io/stationxml/core.py:98: UserWarning: The StationXML file has version 1, ObsPy can read versions (1.0, 1.1). Proceed with caution.\n",
      "  version, \", \".join(READABLE_VERSIONS)))\n",
      "/home/earthquakes1/software/Mageia/lib/python3.7/site-packages/obspy/io/stationxml/core.py:98: UserWarning: The StationXML file has version 1, ObsPy can read versions (1.0, 1.1). Proceed with caution.\n",
      "  version, \", \".join(READABLE_VERSIONS)))\n",
      "/home/earthquakes1/software/Mageia/lib/python3.7/site-packages/obspy/io/stationxml/core.py:98: UserWarning: The StationXML file has version 1, ObsPy can read versions (1.0, 1.1). Proceed with caution.\n",
      "  version, \", \".join(READABLE_VERSIONS)))\n",
      "/home/earthquakes1/software/Mageia/lib/python3.7/site-packages/obspy/io/stationxml/core.py:98: UserWarning: The StationXML file has version 1, ObsPy can read versions (1.0, 1.1). Proceed with caution.\n",
      "  version, \", \".join(READABLE_VERSIONS)))\n",
      "/home/earthquakes1/software/Mageia/lib/python3.7/site-packages/obspy/io/stationxml/core.py:98: UserWarning: The StationXML file has version 1, ObsPy can read versions (1.0, 1.1). Proceed with caution.\n",
      "  version, \", \".join(READABLE_VERSIONS)))\n",
      "/home/earthquakes1/software/Mageia/lib/python3.7/site-packages/obspy/io/stationxml/core.py:98: UserWarning: The StationXML file has version 1, ObsPy can read versions (1.0, 1.1). Proceed with caution.\n",
      "  version, \", \".join(READABLE_VERSIONS)))\n",
      "/home/earthquakes1/software/Mageia/lib/python3.7/site-packages/obspy/io/stationxml/core.py:98: UserWarning: The StationXML file has version 1, ObsPy can read versions (1.0, 1.1). Proceed with caution.\n",
      "  version, \", \".join(READABLE_VERSIONS)))\n",
      "/home/earthquakes1/software/Mageia/lib/python3.7/site-packages/obspy/io/stationxml/core.py:98: UserWarning: The StationXML file has version 1, ObsPy can read versions (1.0, 1.1). Proceed with caution.\n",
      "  version, \", \".join(READABLE_VERSIONS)))\n",
      "/home/earthquakes1/software/Mageia/lib/python3.7/site-packages/obspy/io/stationxml/core.py:98: UserWarning: The StationXML file has version 1, ObsPy can read versions (1.0, 1.1). Proceed with caution.\n",
      "  version, \", \".join(READABLE_VERSIONS)))\n",
      "/home/earthquakes1/software/Mageia/lib/python3.7/site-packages/obspy/io/stationxml/core.py:98: UserWarning: The StationXML file has version 1, ObsPy can read versions (1.0, 1.1). Proceed with caution.\n",
      "  version, \", \".join(READABLE_VERSIONS)))\n",
      "/home/earthquakes1/software/Mageia/lib/python3.7/site-packages/obspy/io/stationxml/core.py:98: UserWarning: The StationXML file has version 1, ObsPy can read versions (1.0, 1.1). Proceed with caution.\n",
      "  version, \", \".join(READABLE_VERSIONS)))\n"
     ]
    },
    {
     "name": "stdout",
     "output_type": "stream",
     "text": [
      "earthquake number 1675 of 3384 done. It was 20190518_060719.a\n",
      "earthquake number 1676 of 3384 done. It was 20190518_053359.a\n",
      "earthquake number 1677 of 3384 done. It was 20190518_025225.a\n",
      "earthquake number 1678 of 3384 done. It was 20190518_023438.a\n",
      "earthquake number 1679 of 3384 done. It was 20190518_011803.a\n",
      "earthquake number 1680 of 3384 done. It was 20190518_001433.a\n",
      "earthquake number 1681 of 3384 done. It was 20190517_223747.a\n",
      "earthquake number 1682 of 3384 done. It was 20190517_222452.a\n",
      "earthquake number 1683 of 3384 done. It was 20190517_203314.a\n",
      "earthquake number 1684 of 3384 done. It was 20190517_194938.a\n",
      "earthquake number 1685 of 3384 done. It was 20190517_183657.a\n",
      "earthquake number 1686 of 3384 done. It was 20190517_170231.a\n",
      "earthquake number 1687 of 3384 done. It was 20190517_144957.a\n",
      "earthquake number 1688 of 3384 done. It was 20190517_141623.a\n",
      "earthquake number 1689 of 3384 done. It was 20190517_082622.a\n",
      "earthquake number 1690 of 3384 done. It was 20190517_063912.a\n",
      "earthquake number 1691 of 3384 done. It was 20190517_052728.a\n",
      "earthquake number 1692 of 3384 done. It was 20190517_010908.a\n",
      "earthquake number 1693 of 3384 done. It was 20190517_002636.a\n",
      "earthquake number 1694 of 3384 done. It was 20190517_001857.a\n",
      "earthquake number 1695 of 3384 done. It was 20190517_001448.a\n",
      "earthquake number 1696 of 3384 done. It was 20190516_225343.a\n",
      "earthquake number 1697 of 3384 done. It was 20190516_223055.a\n",
      "earthquake number 1698 of 3384 done. It was 20190516_181946.a\n",
      "earthquake number 1699 of 3384 done. It was 20190516_165109.a\n",
      "earthquake number 1700 of 3384 done. It was 20190516_162837.a\n",
      "earthquake number 1701 of 3384 done. It was 20190516_162216.a\n",
      "earthquake number 1702 of 3384 done. It was 20190516_160445.a\n",
      "earthquake number 1703 of 3384 done. It was 20190516_155312.a\n",
      "earthquake number 1704 of 3384 done. It was 20190516_143249.a\n",
      "earthquake number 1705 of 3384 done. It was 20190516_142632.a\n",
      "earthquake number 1706 of 3384 done. It was 20190516_131430.a\n",
      "earthquake number 1707 of 3384 done. It was 20190516_130744.a\n",
      "earthquake number 1708 of 3384 done. It was 20190516_074341.a\n",
      "earthquake number 1709 of 3384 done. It was 20190516_071100.a\n",
      "earthquake number 1710 of 3384 done. It was 20190516_041818.a\n",
      "earthquake number 1711 of 3384 done. It was 20190516_040456.a\n",
      "earthquake number 1712 of 3384 done. It was 20190516_013409.a\n",
      "earthquake number 1713 of 3384 done. It was 20190516_011400.a\n",
      "earthquake number 1714 of 3384 done. It was 20190516_003213.a\n",
      "earthquake number 1715 of 3384 done. It was 20190516_000241.a\n",
      "earthquake number 1716 of 3384 done. It was 20190515_222604.a\n"
     ]
    },
    {
     "name": "stderr",
     "output_type": "stream",
     "text": [
      "/home/earthquakes1/software/Mageia/lib/python3.7/site-packages/obspy/io/stationxml/core.py:98: UserWarning: The StationXML file has version 1, ObsPy can read versions (1.0, 1.1). Proceed with caution.\n",
      "  version, \", \".join(READABLE_VERSIONS)))\n",
      "/home/earthquakes1/software/Mageia/lib/python3.7/site-packages/obspy/io/stationxml/core.py:98: UserWarning: The StationXML file has version 1, ObsPy can read versions (1.0, 1.1). Proceed with caution.\n",
      "  version, \", \".join(READABLE_VERSIONS)))\n"
     ]
    },
    {
     "name": "stdout",
     "output_type": "stream",
     "text": [
      "earthquake number 1717 of 3384 done. It was 20190515_201011.a\n",
      "earthquake number 1718 of 3384 done. It was 20190515_165346.a\n"
     ]
    },
    {
     "name": "stderr",
     "output_type": "stream",
     "text": [
      "/home/earthquakes1/software/Mageia/lib/python3.7/site-packages/obspy/io/stationxml/core.py:98: UserWarning: The StationXML file has version 1, ObsPy can read versions (1.0, 1.1). Proceed with caution.\n",
      "  version, \", \".join(READABLE_VERSIONS)))\n",
      "/home/earthquakes1/software/Mageia/lib/python3.7/site-packages/obspy/io/stationxml/core.py:98: UserWarning: The StationXML file has version 1, ObsPy can read versions (1.0, 1.1). Proceed with caution.\n",
      "  version, \", \".join(READABLE_VERSIONS)))\n"
     ]
    },
    {
     "name": "stdout",
     "output_type": "stream",
     "text": [
      "earthquake number 1719 of 3384 done. It was 20190515_140857.a\n"
     ]
    },
    {
     "name": "stderr",
     "output_type": "stream",
     "text": [
      "/home/earthquakes1/software/Mageia/lib/python3.7/site-packages/obspy/io/stationxml/core.py:98: UserWarning: The StationXML file has version 1, ObsPy can read versions (1.0, 1.1). Proceed with caution.\n",
      "  version, \", \".join(READABLE_VERSIONS)))\n",
      "/home/earthquakes1/software/Mageia/lib/python3.7/site-packages/obspy/io/stationxml/core.py:98: UserWarning: The StationXML file has version 1, ObsPy can read versions (1.0, 1.1). Proceed with caution.\n",
      "  version, \", \".join(READABLE_VERSIONS)))\n"
     ]
    },
    {
     "name": "stdout",
     "output_type": "stream",
     "text": [
      "earthquake number 1720 of 3384 done. It was 20190515_140420.a\n",
      "earthquake number 1721 of 3384 done. It was 20190515_105442.a\n",
      "earthquake number 1722 of 3384 done. It was 20190515_075532.a\n",
      "earthquake number 1723 of 3384 done. It was 20190515_052432.a\n",
      "earthquake number 1724 of 3384 done. It was 20190515_050908.a\n",
      "earthquake number 1725 of 3384 done. It was 20190515_030648.a\n",
      "earthquake number 1726 of 3384 done. It was 20190515_005959.a\n",
      "earthquake number 1727 of 3384 done. It was 20190515_000242.a\n",
      "earthquake number 1728 of 3384 done. It was 20190514_232129.a\n",
      "earthquake number 1729 of 3384 done. It was 20190514_185509.a\n",
      "earthquake number 1730 of 3384 done. It was 20190514_161429.a\n",
      "earthquake number 1731 of 3384 done. It was 20190514_150757.a\n"
     ]
    },
    {
     "name": "stderr",
     "output_type": "stream",
     "text": [
      "/home/earthquakes1/software/Mageia/lib/python3.7/site-packages/obspy/io/stationxml/core.py:98: UserWarning: The StationXML file has version 1, ObsPy can read versions (1.0, 1.1). Proceed with caution.\n",
      "  version, \", \".join(READABLE_VERSIONS)))\n",
      "/home/earthquakes1/software/Mageia/lib/python3.7/site-packages/obspy/io/stationxml/core.py:98: UserWarning: The StationXML file has version 1, ObsPy can read versions (1.0, 1.1). Proceed with caution.\n",
      "  version, \", \".join(READABLE_VERSIONS)))\n",
      "/home/earthquakes1/software/Mageia/lib/python3.7/site-packages/obspy/io/stationxml/core.py:98: UserWarning: The StationXML file has version 1, ObsPy can read versions (1.0, 1.1). Proceed with caution.\n",
      "  version, \", \".join(READABLE_VERSIONS)))\n",
      "/home/earthquakes1/software/Mageia/lib/python3.7/site-packages/obspy/io/stationxml/core.py:98: UserWarning: The StationXML file has version 1, ObsPy can read versions (1.0, 1.1). Proceed with caution.\n",
      "  version, \", \".join(READABLE_VERSIONS)))\n",
      "/home/earthquakes1/software/Mageia/lib/python3.7/site-packages/obspy/io/stationxml/core.py:98: UserWarning: The StationXML file has version 1, ObsPy can read versions (1.0, 1.1). Proceed with caution.\n",
      "  version, \", \".join(READABLE_VERSIONS)))\n",
      "/home/earthquakes1/software/Mageia/lib/python3.7/site-packages/obspy/io/stationxml/core.py:98: UserWarning: The StationXML file has version 1, ObsPy can read versions (1.0, 1.1). Proceed with caution.\n",
      "  version, \", \".join(READABLE_VERSIONS)))\n",
      "/home/earthquakes1/software/Mageia/lib/python3.7/site-packages/obspy/io/stationxml/core.py:98: UserWarning: The StationXML file has version 1, ObsPy can read versions (1.0, 1.1). Proceed with caution.\n",
      "  version, \", \".join(READABLE_VERSIONS)))\n",
      "/home/earthquakes1/software/Mageia/lib/python3.7/site-packages/obspy/io/stationxml/core.py:98: UserWarning: The StationXML file has version 1, ObsPy can read versions (1.0, 1.1). Proceed with caution.\n",
      "  version, \", \".join(READABLE_VERSIONS)))\n",
      "/home/earthquakes1/software/Mageia/lib/python3.7/site-packages/obspy/io/stationxml/core.py:98: UserWarning: The StationXML file has version 1, ObsPy can read versions (1.0, 1.1). Proceed with caution.\n",
      "  version, \", \".join(READABLE_VERSIONS)))\n",
      "/home/earthquakes1/software/Mageia/lib/python3.7/site-packages/obspy/io/stationxml/core.py:98: UserWarning: The StationXML file has version 1, ObsPy can read versions (1.0, 1.1). Proceed with caution.\n",
      "  version, \", \".join(READABLE_VERSIONS)))\n"
     ]
    },
    {
     "name": "stdout",
     "output_type": "stream",
     "text": [
      "earthquake number 1732 of 3384 done. It was 20190514_111636.a\n",
      "earthquake number 1733 of 3384 done. It was 20190514_105221.a\n",
      "earthquake number 1734 of 3384 done. It was 20190514_093737.a\n",
      "earthquake number 1735 of 3384 done. It was 20190514_093047.a\n",
      "earthquake number 1736 of 3384 done. It was 20190514_090842.a\n",
      "earthquake number 1737 of 3384 done. It was 20190514_083044.a\n",
      "earthquake number 1738 of 3384 done. It was 20190514_080008.a\n",
      "earthquake number 1739 of 3384 done. It was 20190514_074620.a\n",
      "earthquake number 1740 of 3384 done. It was 20190514_025512.a\n",
      "earthquake number 1741 of 3384 done. It was 20190514_023215.a\n",
      "earthquake number 1742 of 3384 done. It was 20190513_212732.a\n",
      "earthquake number 1743 of 3384 done. It was 20190513_212253.a\n",
      "earthquake number 1744 of 3384 done. It was 20190513_204526.a\n",
      "earthquake number 1745 of 3384 done. It was 20190513_204526.a\n",
      "earthquake number 1746 of 3384 done. It was 20190513_192402.a\n",
      "earthquake number 1747 of 3384 done. It was 20190513_165716.a\n",
      "earthquake number 1748 of 3384 done. It was 20190513_160105.a\n",
      "earthquake number 1749 of 3384 done. It was 20190513_153127.a\n",
      "earthquake number 1750 of 3384 done. It was 20190513_105320.a\n",
      "earthquake number 1751 of 3384 done. It was 20190513_095935.a\n",
      "earthquake number 1752 of 3384 done. It was 20190513_085528.a\n",
      "earthquake number 1753 of 3384 done. It was 20190513_085521.a\n",
      "earthquake number 1754 of 3384 done. It was 20190513_074743.a\n",
      "earthquake number 1755 of 3384 done. It was 20190513_071028.a\n",
      "earthquake number 1756 of 3384 done. It was 20190513_035942.a\n",
      "earthquake number 1757 of 3384 done. It was 20190513_033959.a\n",
      "earthquake number 1758 of 3384 done. It was 20190513_025847.a\n",
      "earthquake number 1759 of 3384 done. It was 20190513_010153.a\n",
      "earthquake number 1760 of 3384 done. It was 20190512_235559.a\n",
      "earthquake number 1761 of 3384 done. It was 20190512_222409.a\n",
      "earthquake number 1762 of 3384 done. It was 20190512_215210.a\n",
      "earthquake number 1763 of 3384 done. It was 20190512_212029.a\n",
      "earthquake number 1764 of 3384 done. It was 20190512_211714.a\n",
      "earthquake number 1765 of 3384 done. It was 20190512_192659.a\n",
      "earthquake number 1766 of 3384 done. It was 20190512_192450.a\n",
      "earthquake number 1767 of 3384 done. It was 20190512_170839.a\n",
      "earthquake number 1768 of 3384 done. It was 20190512_164417.a\n",
      "earthquake number 1769 of 3384 done. It was 20190512_143723.a\n",
      "earthquake number 1770 of 3384 done. It was 20190512_100001.a\n",
      "earthquake number 1771 of 3384 done. It was 20190512_085953.a\n",
      "earthquake number 1772 of 3384 done. It was 20190512_064508.a\n",
      "earthquake number 1773 of 3384 done. It was 20190512_064223.a\n",
      "earthquake number 1774 of 3384 done. It was 20190512_062135.a\n",
      "earthquake number 1775 of 3384 done. It was 20190512_060745.a\n",
      "earthquake number 1776 of 3384 done. It was 20190511_230951.a\n",
      "earthquake number 1777 of 3384 done. It was 20190511_221112.a\n",
      "earthquake number 1778 of 3384 done. It was 20190511_181253.a\n",
      "earthquake number 1779 of 3384 done. It was 20190511_170524.a\n",
      "earthquake number 1780 of 3384 done. It was 20190511_140646.a\n",
      "earthquake number 1781 of 3384 done. It was 20190511_134050.a\n",
      "earthquake number 1782 of 3384 done. It was 20190511_095646.a\n",
      "earthquake number 1783 of 3384 done. It was 20190511_084758.a\n",
      "earthquake number 1784 of 3384 done. It was 20190511_063241.a\n"
     ]
    },
    {
     "name": "stderr",
     "output_type": "stream",
     "text": [
      "/home/earthquakes1/software/Mageia/lib/python3.7/site-packages/obspy/io/stationxml/core.py:98: UserWarning: The StationXML file has version 1, ObsPy can read versions (1.0, 1.1). Proceed with caution.\n",
      "  version, \", \".join(READABLE_VERSIONS)))\n",
      "/home/earthquakes1/software/Mageia/lib/python3.7/site-packages/obspy/io/stationxml/core.py:98: UserWarning: The StationXML file has version 1, ObsPy can read versions (1.0, 1.1). Proceed with caution.\n",
      "  version, \", \".join(READABLE_VERSIONS)))\n"
     ]
    },
    {
     "name": "stdout",
     "output_type": "stream",
     "text": [
      "earthquake number 1785 of 3384 done. It was 20190511_052323.a\n",
      "earthquake number 1786 of 3384 done. It was 20190511_050421.a\n",
      "earthquake number 1787 of 3384 done. It was 20190511_045926.a\n",
      "earthquake number 1788 of 3384 done. It was 20190511_044009.a\n",
      "earthquake number 1789 of 3384 done. It was 20190511_020056.a\n",
      "earthquake number 1790 of 3384 done. It was 20190511_014113.a\n",
      "earthquake number 1791 of 3384 done. It was 20190510_235941.a\n",
      "earthquake number 1792 of 3384 done. It was 20190510_235245.a\n",
      "earthquake number 1793 of 3384 done. It was 20190510_220510.a\n",
      "earthquake number 1794 of 3384 done. It was 20190510_182737.a\n",
      "earthquake number 1795 of 3384 done. It was 20190510_172110.a\n",
      "earthquake number 1796 of 3384 done. It was 20190510_170545.a\n",
      "earthquake number 1797 of 3384 done. It was 20190510_164930.a\n",
      "earthquake number 1798 of 3384 done. It was 20190510_153019.a\n"
     ]
    },
    {
     "name": "stderr",
     "output_type": "stream",
     "text": [
      "/home/earthquakes1/software/Mageia/lib/python3.7/site-packages/obspy/core/inventory/response.py:964: UserWarning: Input sampling rate of stage 3 is inconsistent with the previous stages' output sampling rate\n",
      "  warnings.warn(msg % i)\n"
     ]
    },
    {
     "name": "stdout",
     "output_type": "stream",
     "text": [
      "earthquake number 1799 of 3384 done. It was 20190510_125856.a\n",
      "earthquake number 1800 of 3384 done. It was 20190510_114036.a\n"
     ]
    },
    {
     "name": "stderr",
     "output_type": "stream",
     "text": [
      "/home/earthquakes1/software/Mageia/lib/python3.7/site-packages/obspy/io/stationxml/core.py:98: UserWarning: The StationXML file has version 1, ObsPy can read versions (1.0, 1.1). Proceed with caution.\n",
      "  version, \", \".join(READABLE_VERSIONS)))\n",
      "/home/earthquakes1/software/Mageia/lib/python3.7/site-packages/obspy/io/stationxml/core.py:98: UserWarning: The StationXML file has version 1, ObsPy can read versions (1.0, 1.1). Proceed with caution.\n",
      "  version, \", \".join(READABLE_VERSIONS)))\n"
     ]
    },
    {
     "name": "stdout",
     "output_type": "stream",
     "text": [
      "earthquake number 1801 of 3384 done. It was 20190510_064104.a\n",
      "earthquake number 1802 of 3384 done. It was 20190510_060325.a\n",
      "earthquake number 1803 of 3384 done. It was 20190510_060133.a\n",
      "earthquake number 1804 of 3384 done. It was 20190510_045348.a\n"
     ]
    },
    {
     "name": "stderr",
     "output_type": "stream",
     "text": [
      "/home/earthquakes1/software/Mageia/lib/python3.7/site-packages/obspy/io/stationxml/core.py:98: UserWarning: The StationXML file has version 1, ObsPy can read versions (1.0, 1.1). Proceed with caution.\n",
      "  version, \", \".join(READABLE_VERSIONS)))\n",
      "/home/earthquakes1/software/Mageia/lib/python3.7/site-packages/obspy/io/stationxml/core.py:98: UserWarning: The StationXML file has version 1, ObsPy can read versions (1.0, 1.1). Proceed with caution.\n",
      "  version, \", \".join(READABLE_VERSIONS)))\n"
     ]
    },
    {
     "name": "stdout",
     "output_type": "stream",
     "text": [
      "earthquake number 1805 of 3384 done. It was 20190510_034317.a\n"
     ]
    },
    {
     "name": "stderr",
     "output_type": "stream",
     "text": [
      "/home/earthquakes1/software/Mageia/lib/python3.7/site-packages/obspy/io/stationxml/core.py:98: UserWarning: The StationXML file has version 1, ObsPy can read versions (1.0, 1.1). Proceed with caution.\n",
      "  version, \", \".join(READABLE_VERSIONS)))\n",
      "/home/earthquakes1/software/Mageia/lib/python3.7/site-packages/obspy/io/stationxml/core.py:98: UserWarning: The StationXML file has version 1, ObsPy can read versions (1.0, 1.1). Proceed with caution.\n",
      "  version, \", \".join(READABLE_VERSIONS)))\n"
     ]
    },
    {
     "name": "stdout",
     "output_type": "stream",
     "text": [
      "earthquake number 1806 of 3384 done. It was 20190510_033140.a\n"
     ]
    },
    {
     "name": "stderr",
     "output_type": "stream",
     "text": [
      "/home/earthquakes1/software/Mageia/lib/python3.7/site-packages/obspy/io/stationxml/core.py:98: UserWarning: The StationXML file has version 1, ObsPy can read versions (1.0, 1.1). Proceed with caution.\n",
      "  version, \", \".join(READABLE_VERSIONS)))\n",
      "/home/earthquakes1/software/Mageia/lib/python3.7/site-packages/obspy/io/stationxml/core.py:98: UserWarning: The StationXML file has version 1, ObsPy can read versions (1.0, 1.1). Proceed with caution.\n",
      "  version, \", \".join(READABLE_VERSIONS)))\n"
     ]
    },
    {
     "name": "stdout",
     "output_type": "stream",
     "text": [
      "earthquake number 1807 of 3384 done. It was 20190510_032333.a\n",
      "earthquake number 1808 of 3384 done. It was 20190510_021417.a\n",
      "earthquake number 1809 of 3384 done. It was 20190510_020858.a\n",
      "earthquake number 1810 of 3384 done. It was 20190510_000738.a\n",
      "earthquake number 1811 of 3384 done. It was 20190509_234842.a\n",
      "earthquake number 1812 of 3384 done. It was 20190509_224322.a\n",
      "earthquake number 1813 of 3384 done. It was 20190509_223759.a\n",
      "earthquake number 1814 of 3384 done. It was 20190509_222139.a\n",
      "earthquake number 1815 of 3384 done. It was 20190509_191557.a\n",
      "earthquake number 1816 of 3384 done. It was 20190509_180634.a\n",
      "earthquake number 1817 of 3384 done. It was 20190509_172323.a\n",
      "earthquake number 1818 of 3384 done. It was 20190509_155729.a\n",
      "earthquake number 1819 of 3384 done. It was 20190509_093645.a\n",
      "earthquake number 1820 of 3384 done. It was 20190509_061446.a\n",
      "earthquake number 1821 of 3384 done. It was 20190509_052958.a\n",
      "earthquake number 1822 of 3384 done. It was 20190509_050533.a\n",
      "earthquake number 1823 of 3384 done. It was 20190509_002847.a\n",
      "earthquake number 1824 of 3384 done. It was 20190508_200434.a\n",
      "earthquake number 1825 of 3384 done. It was 20190508_192807.a\n",
      "earthquake number 1826 of 3384 done. It was 20190508_190600.a\n",
      "earthquake number 1827 of 3384 done. It was 20190508_163212.a\n",
      "earthquake number 1828 of 3384 done. It was 20190508_161459.a\n",
      "earthquake number 1829 of 3384 done. It was 20190508_161425.a\n",
      "earthquake number 1830 of 3384 done. It was 20190508_155242.a\n",
      "earthquake number 1831 of 3384 done. It was 20190508_154846.a\n",
      "earthquake number 1832 of 3384 done. It was 20190508_140856.a\n",
      "earthquake number 1833 of 3384 done. It was 20190508_122514.a\n",
      "earthquake number 1834 of 3384 done. It was 20190508_121352.a\n",
      "earthquake number 1835 of 3384 done. It was 20190508_102007.a\n",
      "earthquake number 1836 of 3384 done. It was 20190508_094005.a\n",
      "earthquake number 1837 of 3384 done. It was 20190508_045704.a\n",
      "earthquake number 1838 of 3384 done. It was 20190508_002616.a\n",
      "earthquake number 1839 of 3384 done. It was 20190508_002234.a\n",
      "earthquake number 1840 of 3384 done. It was 20190508_002001.a\n",
      "earthquake number 1841 of 3384 done. It was 20190507_234925.a\n",
      "earthquake number 1842 of 3384 done. It was 20190507_231122.a\n",
      "earthquake number 1843 of 3384 done. It was 20190507_214634.a\n"
     ]
    },
    {
     "name": "stderr",
     "output_type": "stream",
     "text": [
      "/home/earthquakes1/software/Mageia/lib/python3.7/site-packages/obspy/io/stationxml/core.py:98: UserWarning: The StationXML file has version 1, ObsPy can read versions (1.0, 1.1). Proceed with caution.\n",
      "  version, \", \".join(READABLE_VERSIONS)))\n",
      "/home/earthquakes1/software/Mageia/lib/python3.7/site-packages/obspy/io/stationxml/core.py:98: UserWarning: The StationXML file has version 1, ObsPy can read versions (1.0, 1.1). Proceed with caution.\n",
      "  version, \", \".join(READABLE_VERSIONS)))\n"
     ]
    },
    {
     "name": "stdout",
     "output_type": "stream",
     "text": [
      "earthquake number 1844 of 3384 done. It was 20190507_173328.a\n",
      "earthquake number 1845 of 3384 done. It was 20190507_143209.a\n",
      "earthquake number 1846 of 3384 done. It was 20190507_082412.a\n"
     ]
    },
    {
     "name": "stderr",
     "output_type": "stream",
     "text": [
      "/home/earthquakes1/software/Mageia/lib/python3.7/site-packages/obspy/core/inventory/response.py:964: UserWarning: Input sampling rate of stage 3 is inconsistent with the previous stages' output sampling rate\n",
      "  warnings.warn(msg % i)\n"
     ]
    },
    {
     "name": "stdout",
     "output_type": "stream",
     "text": [
      "earthquake number 1847 of 3384 done. It was 20190507_045838.a\n",
      "earthquake number 1848 of 3384 done. It was 20190507_005002.a\n",
      "earthquake number 1849 of 3384 done. It was 20190507_003022.a\n",
      "earthquake number 1850 of 3384 done. It was 20190506_231911.a\n",
      "earthquake number 1851 of 3384 done. It was 20190506_220943.a\n",
      "earthquake number 1852 of 3384 done. It was 20190506_205533.a\n",
      "earthquake number 1853 of 3384 done. It was 20190506_201426.a\n",
      "earthquake number 1854 of 3384 done. It was 20190506_175603.a\n",
      "earthquake number 1855 of 3384 done. It was 20190506_165613.a\n",
      "earthquake number 1856 of 3384 done. It was 20190506_154748.a\n",
      "earthquake number 1857 of 3384 done. It was 20190506_145318.a\n",
      "earthquake number 1858 of 3384 done. It was 20190506_143228.a\n",
      "earthquake number 1859 of 3384 done. It was 20190506_141826.a\n"
     ]
    },
    {
     "name": "stderr",
     "output_type": "stream",
     "text": [
      "/home/earthquakes1/software/Mageia/lib/python3.7/site-packages/obspy/io/stationxml/core.py:98: UserWarning: The StationXML file has version 1, ObsPy can read versions (1.0, 1.1). Proceed with caution.\n",
      "  version, \", \".join(READABLE_VERSIONS)))\n",
      "/home/earthquakes1/software/Mageia/lib/python3.7/site-packages/obspy/io/stationxml/core.py:98: UserWarning: The StationXML file has version 1, ObsPy can read versions (1.0, 1.1). Proceed with caution.\n",
      "  version, \", \".join(READABLE_VERSIONS)))\n"
     ]
    },
    {
     "name": "stdout",
     "output_type": "stream",
     "text": [
      "earthquake number 1860 of 3384 done. It was 20190506_112225.a\n"
     ]
    },
    {
     "name": "stderr",
     "output_type": "stream",
     "text": [
      "/home/earthquakes1/software/Mageia/lib/python3.7/site-packages/obspy/io/stationxml/core.py:98: UserWarning: The StationXML file has version 1, ObsPy can read versions (1.0, 1.1). Proceed with caution.\n",
      "  version, \", \".join(READABLE_VERSIONS)))\n",
      "/home/earthquakes1/software/Mageia/lib/python3.7/site-packages/obspy/io/stationxml/core.py:98: UserWarning: The StationXML file has version 1, ObsPy can read versions (1.0, 1.1). Proceed with caution.\n",
      "  version, \", \".join(READABLE_VERSIONS)))\n"
     ]
    },
    {
     "name": "stdout",
     "output_type": "stream",
     "text": [
      "earthquake number 1861 of 3384 done. It was 20190506_062640.a\n",
      "earthquake number 1862 of 3384 done. It was 20190506_052454.a\n",
      "earthquake number 1863 of 3384 done. It was 20190506_051314.a\n",
      "earthquake number 1864 of 3384 done. It was 20190506_051208.a\n",
      "earthquake number 1865 of 3384 done. It was 20190506_050826.a\n",
      "earthquake number 1866 of 3384 done. It was 20190506_024842.a\n",
      "earthquake number 1867 of 3384 done. It was 20190506_024744.a\n",
      "earthquake number 1868 of 3384 done. It was 20190506_024411.a\n",
      "earthquake number 1869 of 3384 done. It was 20190505_234333.a\n",
      "earthquake number 1870 of 3384 done. It was 20190505_204123.a\n",
      "earthquake number 1871 of 3384 done. It was 20190505_201243.a\n",
      "earthquake number 1872 of 3384 done. It was 20190505_175857.a\n",
      "earthquake number 1873 of 3384 done. It was 20190505_163858.a\n",
      "earthquake number 1874 of 3384 done. It was 20190505_160512.a\n"
     ]
    },
    {
     "name": "stderr",
     "output_type": "stream",
     "text": [
      "/home/earthquakes1/software/Mageia/lib/python3.7/site-packages/obspy/core/inventory/response.py:964: UserWarning: Input sampling rate of stage 3 is inconsistent with the previous stages' output sampling rate\n",
      "  warnings.warn(msg % i)\n"
     ]
    },
    {
     "name": "stdout",
     "output_type": "stream",
     "text": [
      "earthquake number 1875 of 3384 done. It was 20190505_110127.a\n"
     ]
    },
    {
     "name": "stderr",
     "output_type": "stream",
     "text": [
      "/home/earthquakes1/software/Mageia/lib/python3.7/site-packages/obspy/core/inventory/response.py:964: UserWarning: Input sampling rate of stage 3 is inconsistent with the previous stages' output sampling rate\n",
      "  warnings.warn(msg % i)\n"
     ]
    },
    {
     "name": "stdout",
     "output_type": "stream",
     "text": [
      "earthquake number 1876 of 3384 done. It was 20190505_065448.a\n",
      "earthquake number 1877 of 3384 done. It was 20190505_020029.a\n",
      "earthquake number 1878 of 3384 done. It was 20190505_014127.a\n",
      "earthquake number 1879 of 3384 done. It was 20190505_003303.a\n",
      "earthquake number 1880 of 3384 done. It was 20190504_220129.a\n",
      "earthquake number 1881 of 3384 done. It was 20190504_215800.a\n",
      "earthquake number 1882 of 3384 done. It was 20190504_195144.a\n",
      "earthquake number 1883 of 3384 done. It was 20190504_195105.a\n",
      "earthquake number 1884 of 3384 done. It was 20190504_140913.a\n",
      "earthquake number 1885 of 3384 done. It was 20190504_131705.a\n",
      "earthquake number 1886 of 3384 done. It was 20190504_123455.a\n",
      "earthquake number 1887 of 3384 done. It was 20190504_115123.a\n",
      "earthquake number 1888 of 3384 done. It was 20190504_085446.a\n",
      "earthquake number 1889 of 3384 done. It was 20190504_073447.a\n",
      "earthquake number 1890 of 3384 done. It was 20190504_073304.a\n",
      "earthquake number 1891 of 3384 done. It was 20190504_055303.a\n",
      "earthquake number 1892 of 3384 done. It was 20190504_025629.a\n",
      "earthquake number 1893 of 3384 done. It was 20190504_024418.a\n",
      "earthquake number 1894 of 3384 done. It was 20190504_024127.a\n",
      "earthquake number 1895 of 3384 done. It was 20190504_022923.a\n",
      "earthquake number 1896 of 3384 done. It was 20190504_005448.a\n",
      "earthquake number 1897 of 3384 done. It was 20190503_234006.a\n",
      "earthquake number 1898 of 3384 done. It was 20190503_213043.a\n",
      "earthquake number 1899 of 3384 done. It was 20190503_144824.a\n",
      "earthquake number 1900 of 3384 done. It was 20190503_142832.a\n",
      "earthquake number 1901 of 3384 done. It was 20190503_135155.a\n",
      "earthquake number 1902 of 3384 done. It was 20190503_120956.a\n",
      "earthquake number 1903 of 3384 done. It was 20190503_115552.a\n",
      "earthquake number 1904 of 3384 done. It was 20190503_115225.a\n",
      "earthquake number 1905 of 3384 done. It was 20190503_115155.a\n",
      "earthquake number 1906 of 3384 done. It was 20190503_113433.a\n",
      "earthquake number 1907 of 3384 done. It was 20190503_105643.a\n",
      "earthquake number 1908 of 3384 done. It was 20190503_100838.a\n",
      "earthquake number 1909 of 3384 done. It was 20190503_081528.a\n",
      "earthquake number 1910 of 3384 done. It was 20190503_075017.a\n",
      "earthquake number 1911 of 3384 done. It was 20190503_052238.a\n",
      "earthquake number 1912 of 3384 done. It was 20190503_045706.a\n",
      "earthquake number 1913 of 3384 done. It was 20190503_041118.a\n"
     ]
    },
    {
     "name": "stderr",
     "output_type": "stream",
     "text": [
      "/home/earthquakes1/software/Mageia/lib/python3.7/site-packages/obspy/io/stationxml/core.py:98: UserWarning: The StationXML file has version 1, ObsPy can read versions (1.0, 1.1). Proceed with caution.\n",
      "  version, \", \".join(READABLE_VERSIONS)))\n",
      "/home/earthquakes1/software/Mageia/lib/python3.7/site-packages/obspy/io/stationxml/core.py:98: UserWarning: The StationXML file has version 1, ObsPy can read versions (1.0, 1.1). Proceed with caution.\n",
      "  version, \", \".join(READABLE_VERSIONS)))\n"
     ]
    },
    {
     "name": "stdout",
     "output_type": "stream",
     "text": [
      "earthquake number 1914 of 3384 done. It was 20190503_034241.a\n",
      "earthquake number 1915 of 3384 done. It was 20190503_023136.a\n",
      "earthquake number 1916 of 3384 done. It was 20190502_235901.a\n",
      "earthquake number 1917 of 3384 done. It was 20190502_214804.a\n",
      "earthquake number 1918 of 3384 done. It was 20190502_171323.a\n",
      "earthquake number 1919 of 3384 done. It was 20190502_165553.a\n",
      "earthquake number 1920 of 3384 done. It was 20190502_124013.a\n",
      "earthquake number 1921 of 3384 done. It was 20190502_104442.a\n",
      "earthquake number 1922 of 3384 done. It was 20190502_051754.a\n",
      "earthquake number 1923 of 3384 done. It was 20190502_045301.a\n",
      "earthquake number 1924 of 3384 done. It was 20190502_035057.a\n",
      "earthquake number 1925 of 3384 done. It was 20190502_011026.a\n",
      "earthquake number 1926 of 3384 done. It was 20190501_235113.a\n",
      "earthquake number 1927 of 3384 done. It was 20190501_233314.a\n",
      "earthquake number 1928 of 3384 done. It was 20190501_215154.a\n",
      "earthquake number 1929 of 3384 done. It was 20190501_215053.a\n",
      "earthquake number 1930 of 3384 done. It was 20190501_193645.a\n"
     ]
    },
    {
     "name": "stderr",
     "output_type": "stream",
     "text": [
      "/home/earthquakes1/software/Mageia/lib/python3.7/site-packages/obspy/core/inventory/response.py:964: UserWarning: Input sampling rate of stage 3 is inconsistent with the previous stages' output sampling rate\n",
      "  warnings.warn(msg % i)\n"
     ]
    },
    {
     "name": "stdout",
     "output_type": "stream",
     "text": [
      "earthquake number 1931 of 3384 done. It was 20190501_193020.a\n",
      "earthquake number 1932 of 3384 done. It was 20190501_182030.a\n",
      "earthquake number 1933 of 3384 done. It was 20190501_144242.a\n",
      "earthquake number 1934 of 3384 done. It was 20190501_115048.a\n",
      "earthquake number 1935 of 3384 done. It was 20190501_104429.a\n",
      "earthquake number 1936 of 3384 done. It was 20190501_085543.a\n",
      "earthquake number 1937 of 3384 done. It was 20190501_030038.a\n"
     ]
    },
    {
     "name": "stderr",
     "output_type": "stream",
     "text": [
      "/home/earthquakes1/software/Mageia/lib/python3.7/site-packages/obspy/core/inventory/response.py:964: UserWarning: Input sampling rate of stage 3 is inconsistent with the previous stages' output sampling rate\n",
      "  warnings.warn(msg % i)\n"
     ]
    },
    {
     "name": "stdout",
     "output_type": "stream",
     "text": [
      "earthquake number 1938 of 3384 done. It was 20190501_001408.a\n",
      "earthquake number 1939 of 3384 done. It was 20190630_235124.a\n",
      "earthquake number 1940 of 3384 done. It was 20190630_234336.a\n",
      "earthquake number 1941 of 3384 done. It was 20190630_231811.a\n",
      "earthquake number 1942 of 3384 done. It was 20190630_231158.a\n",
      "earthquake number 1943 of 3384 done. It was 20190630_222640.a\n",
      "earthquake number 1944 of 3384 done. It was 20190630_174552.a\n",
      "earthquake number 1945 of 3384 done. It was 20190630_163959.a\n",
      "earthquake number 1946 of 3384 done. It was 20190630_153023.a\n",
      "earthquake number 1947 of 3384 done. It was 20190630_152509.a\n",
      "earthquake number 1948 of 3384 done. It was 20190630_142140.a\n",
      "earthquake number 1949 of 3384 done. It was 20190630_122831.a\n"
     ]
    },
    {
     "name": "stderr",
     "output_type": "stream",
     "text": [
      "/home/earthquakes1/software/Mageia/lib/python3.7/site-packages/obspy/io/stationxml/core.py:98: UserWarning: The StationXML file has version 1, ObsPy can read versions (1.0, 1.1). Proceed with caution.\n",
      "  version, \", \".join(READABLE_VERSIONS)))\n",
      "/home/earthquakes1/software/Mageia/lib/python3.7/site-packages/obspy/io/stationxml/core.py:98: UserWarning: The StationXML file has version 1, ObsPy can read versions (1.0, 1.1). Proceed with caution.\n",
      "  version, \", \".join(READABLE_VERSIONS)))\n"
     ]
    },
    {
     "name": "stdout",
     "output_type": "stream",
     "text": [
      "earthquake number 1950 of 3384 done. It was 20190630_104608.a\n",
      "earthquake number 1951 of 3384 done. It was 20190630_094751.a\n",
      "earthquake number 1952 of 3384 done. It was 20190630_085421.a\n",
      "earthquake number 1953 of 3384 done. It was 20190630_075533.a\n",
      "earthquake number 1954 of 3384 done. It was 20190630_075233.a\n",
      "earthquake number 1955 of 3384 done. It was 20190630_074424.a\n",
      "earthquake number 1956 of 3384 done. It was 20190630_074105.a\n",
      "earthquake number 1957 of 3384 done. It was 20190630_065346.a\n",
      "earthquake number 1958 of 3384 done. It was 20190630_063754.a\n",
      "earthquake number 1959 of 3384 done. It was 20190630_063301.a\n",
      "earthquake number 1960 of 3384 done. It was 20190630_063010.a\n",
      "earthquake number 1961 of 3384 done. It was 20190630_055059.a\n",
      "earthquake number 1962 of 3384 done. It was 20190630_040147.a\n",
      "earthquake number 1963 of 3384 done. It was 20190630_031037.a\n",
      "earthquake number 1964 of 3384 done. It was 20190630_020932.a\n",
      "earthquake number 1965 of 3384 done. It was 20190630_015042.a\n",
      "earthquake number 1966 of 3384 done. It was 20190630_014225.a\n",
      "earthquake number 1967 of 3384 done. It was 20190630_011340.a\n",
      "earthquake number 1968 of 3384 done. It was 20190630_011038.a\n",
      "earthquake number 1969 of 3384 done. It was 20190629_233656.a\n",
      "earthquake number 1970 of 3384 done. It was 20190629_212804.a\n",
      "earthquake number 1971 of 3384 done. It was 20190629_201444.a\n",
      "earthquake number 1972 of 3384 done. It was 20190629_194411.a\n",
      "earthquake number 1973 of 3384 done. It was 20190629_171427.a\n",
      "earthquake number 1974 of 3384 done. It was 20190629_162005.a\n",
      "earthquake number 1975 of 3384 done. It was 20190629_132048.a\n",
      "earthquake number 1976 of 3384 done. It was 20190629_130116.a\n",
      "earthquake number 1977 of 3384 done. It was 20190629_125638.a\n",
      "earthquake number 1978 of 3384 done. It was 20190629_090746.a\n",
      "earthquake number 1979 of 3384 done. It was 20190629_080827.a\n",
      "earthquake number 1980 of 3384 done. It was 20190629_075858.a\n",
      "earthquake number 1981 of 3384 done. It was 20190629_064704.a\n",
      "earthquake number 1982 of 3384 done. It was 20190629_063008.a\n",
      "earthquake number 1983 of 3384 done. It was 20190629_060537.a\n",
      "earthquake number 1984 of 3384 done. It was 20190629_050230.a\n",
      "earthquake number 1985 of 3384 done. It was 20190629_045703.a\n",
      "earthquake number 1986 of 3384 done. It was 20190629_045539.a\n",
      "earthquake number 1987 of 3384 done. It was 20190629_015721.a\n",
      "earthquake number 1988 of 3384 done. It was 20190628_222924.a\n",
      "earthquake number 1989 of 3384 done. It was 20190628_184703.a\n"
     ]
    },
    {
     "name": "stderr",
     "output_type": "stream",
     "text": [
      "/home/earthquakes1/software/Mageia/lib/python3.7/site-packages/obspy/io/stationxml/core.py:98: UserWarning: The StationXML file has version 1, ObsPy can read versions (1.0, 1.1). Proceed with caution.\n",
      "  version, \", \".join(READABLE_VERSIONS)))\n",
      "/home/earthquakes1/software/Mageia/lib/python3.7/site-packages/obspy/io/stationxml/core.py:98: UserWarning: The StationXML file has version 1, ObsPy can read versions (1.0, 1.1). Proceed with caution.\n",
      "  version, \", \".join(READABLE_VERSIONS)))\n"
     ]
    },
    {
     "name": "stdout",
     "output_type": "stream",
     "text": [
      "earthquake number 1990 of 3384 done. It was 20190628_151644.a\n",
      "earthquake number 1991 of 3384 done. It was 20190628_143638.a\n",
      "earthquake number 1992 of 3384 done. It was 20190628_111732.a\n",
      "earthquake number 1993 of 3384 done. It was 20190628_101217.a\n",
      "earthquake number 1994 of 3384 done. It was 20190628_092000.a\n",
      "earthquake number 1995 of 3384 done. It was 20190628_083042.a\n",
      "earthquake number 1996 of 3384 done. It was 20190628_070422.a\n",
      "earthquake number 1997 of 3384 done. It was 20190628_052952.a\n",
      "earthquake number 1998 of 3384 done. It was 20190628_051612.a\n",
      "earthquake number 1999 of 3384 done. It was 20190628_021814.a\n"
     ]
    },
    {
     "name": "stderr",
     "output_type": "stream",
     "text": [
      "/home/earthquakes1/software/Mageia/lib/python3.7/site-packages/obspy/io/stationxml/core.py:98: UserWarning: The StationXML file has version 1, ObsPy can read versions (1.0, 1.1). Proceed with caution.\n",
      "  version, \", \".join(READABLE_VERSIONS)))\n",
      "/home/earthquakes1/software/Mageia/lib/python3.7/site-packages/obspy/io/stationxml/core.py:98: UserWarning: The StationXML file has version 1, ObsPy can read versions (1.0, 1.1). Proceed with caution.\n",
      "  version, \", \".join(READABLE_VERSIONS)))\n",
      "/home/earthquakes1/software/Mageia/lib/python3.7/site-packages/obspy/io/stationxml/core.py:98: UserWarning: The StationXML file has version 1, ObsPy can read versions (1.0, 1.1). Proceed with caution.\n",
      "  version, \", \".join(READABLE_VERSIONS)))\n",
      "/home/earthquakes1/software/Mageia/lib/python3.7/site-packages/obspy/io/stationxml/core.py:98: UserWarning: The StationXML file has version 1, ObsPy can read versions (1.0, 1.1). Proceed with caution.\n",
      "  version, \", \".join(READABLE_VERSIONS)))\n",
      "/home/earthquakes1/software/Mageia/lib/python3.7/site-packages/obspy/io/stationxml/core.py:98: UserWarning: The StationXML file has version 1, ObsPy can read versions (1.0, 1.1). Proceed with caution.\n",
      "  version, \", \".join(READABLE_VERSIONS)))\n",
      "/home/earthquakes1/software/Mageia/lib/python3.7/site-packages/obspy/io/stationxml/core.py:98: UserWarning: The StationXML file has version 1, ObsPy can read versions (1.0, 1.1). Proceed with caution.\n",
      "  version, \", \".join(READABLE_VERSIONS)))\n",
      "/home/earthquakes1/software/Mageia/lib/python3.7/site-packages/obspy/io/stationxml/core.py:98: UserWarning: The StationXML file has version 1, ObsPy can read versions (1.0, 1.1). Proceed with caution.\n",
      "  version, \", \".join(READABLE_VERSIONS)))\n",
      "/home/earthquakes1/software/Mageia/lib/python3.7/site-packages/obspy/io/stationxml/core.py:98: UserWarning: The StationXML file has version 1, ObsPy can read versions (1.0, 1.1). Proceed with caution.\n",
      "  version, \", \".join(READABLE_VERSIONS)))\n",
      "/home/earthquakes1/software/Mageia/lib/python3.7/site-packages/obspy/io/stationxml/core.py:98: UserWarning: The StationXML file has version 1, ObsPy can read versions (1.0, 1.1). Proceed with caution.\n",
      "  version, \", \".join(READABLE_VERSIONS)))\n",
      "/home/earthquakes1/software/Mageia/lib/python3.7/site-packages/obspy/io/stationxml/core.py:98: UserWarning: The StationXML file has version 1, ObsPy can read versions (1.0, 1.1). Proceed with caution.\n",
      "  version, \", \".join(READABLE_VERSIONS)))\n",
      "/home/earthquakes1/software/Mageia/lib/python3.7/site-packages/obspy/io/stationxml/core.py:98: UserWarning: The StationXML file has version 1, ObsPy can read versions (1.0, 1.1). Proceed with caution.\n",
      "  version, \", \".join(READABLE_VERSIONS)))\n",
      "/home/earthquakes1/software/Mageia/lib/python3.7/site-packages/obspy/io/stationxml/core.py:98: UserWarning: The StationXML file has version 1, ObsPy can read versions (1.0, 1.1). Proceed with caution.\n",
      "  version, \", \".join(READABLE_VERSIONS)))\n",
      "/home/earthquakes1/software/Mageia/lib/python3.7/site-packages/obspy/io/stationxml/core.py:98: UserWarning: The StationXML file has version 1, ObsPy can read versions (1.0, 1.1). Proceed with caution.\n",
      "  version, \", \".join(READABLE_VERSIONS)))\n",
      "/home/earthquakes1/software/Mageia/lib/python3.7/site-packages/obspy/io/stationxml/core.py:98: UserWarning: The StationXML file has version 1, ObsPy can read versions (1.0, 1.1). Proceed with caution.\n",
      "  version, \", \".join(READABLE_VERSIONS)))\n",
      "/home/earthquakes1/software/Mageia/lib/python3.7/site-packages/obspy/io/stationxml/core.py:98: UserWarning: The StationXML file has version 1, ObsPy can read versions (1.0, 1.1). Proceed with caution.\n",
      "  version, \", \".join(READABLE_VERSIONS)))\n",
      "/home/earthquakes1/software/Mageia/lib/python3.7/site-packages/obspy/io/stationxml/core.py:98: UserWarning: The StationXML file has version 1, ObsPy can read versions (1.0, 1.1). Proceed with caution.\n",
      "  version, \", \".join(READABLE_VERSIONS)))\n",
      "/home/earthquakes1/software/Mageia/lib/python3.7/site-packages/obspy/io/stationxml/core.py:98: UserWarning: The StationXML file has version 1, ObsPy can read versions (1.0, 1.1). Proceed with caution.\n",
      "  version, \", \".join(READABLE_VERSIONS)))\n",
      "/home/earthquakes1/software/Mageia/lib/python3.7/site-packages/obspy/io/stationxml/core.py:98: UserWarning: The StationXML file has version 1, ObsPy can read versions (1.0, 1.1). Proceed with caution.\n",
      "  version, \", \".join(READABLE_VERSIONS)))\n",
      "/home/earthquakes1/software/Mageia/lib/python3.7/site-packages/obspy/io/stationxml/core.py:98: UserWarning: The StationXML file has version 1, ObsPy can read versions (1.0, 1.1). Proceed with caution.\n",
      "  version, \", \".join(READABLE_VERSIONS)))\n",
      "/home/earthquakes1/software/Mageia/lib/python3.7/site-packages/obspy/io/stationxml/core.py:98: UserWarning: The StationXML file has version 1, ObsPy can read versions (1.0, 1.1). Proceed with caution.\n",
      "  version, \", \".join(READABLE_VERSIONS)))\n",
      "/home/earthquakes1/software/Mageia/lib/python3.7/site-packages/obspy/io/stationxml/core.py:98: UserWarning: The StationXML file has version 1, ObsPy can read versions (1.0, 1.1). Proceed with caution.\n",
      "  version, \", \".join(READABLE_VERSIONS)))\n",
      "/home/earthquakes1/software/Mageia/lib/python3.7/site-packages/obspy/io/stationxml/core.py:98: UserWarning: The StationXML file has version 1, ObsPy can read versions (1.0, 1.1). Proceed with caution.\n",
      "  version, \", \".join(READABLE_VERSIONS)))\n",
      "/home/earthquakes1/software/Mageia/lib/python3.7/site-packages/obspy/io/stationxml/core.py:98: UserWarning: The StationXML file has version 1, ObsPy can read versions (1.0, 1.1). Proceed with caution.\n",
      "  version, \", \".join(READABLE_VERSIONS)))\n",
      "/home/earthquakes1/software/Mageia/lib/python3.7/site-packages/obspy/io/stationxml/core.py:98: UserWarning: The StationXML file has version 1, ObsPy can read versions (1.0, 1.1). Proceed with caution.\n",
      "  version, \", \".join(READABLE_VERSIONS)))\n"
     ]
    },
    {
     "name": "stdout",
     "output_type": "stream",
     "text": [
      "earthquake number 2000 of 3384 done. It was 20190628_010030.a\n",
      "earthquake number 2001 of 3384 done. It was 20190627_233758.a\n",
      "earthquake number 2002 of 3384 done. It was 20190627_205046.a\n",
      "earthquake number 2003 of 3384 done. It was 20190627_202914.a\n",
      "earthquake number 2004 of 3384 done. It was 20190627_195527.a\n",
      "earthquake number 2005 of 3384 done. It was 20190627_194951.a\n",
      "earthquake number 2006 of 3384 done. It was 20190627_192946.a\n",
      "earthquake number 2007 of 3384 done. It was 20190627_181545.a\n",
      "earthquake number 2008 of 3384 done. It was 20190627_153929.a\n"
     ]
    },
    {
     "name": "stderr",
     "output_type": "stream",
     "text": [
      "/home/earthquakes1/software/Mageia/lib/python3.7/site-packages/obspy/io/stationxml/core.py:98: UserWarning: The StationXML file has version 1, ObsPy can read versions (1.0, 1.1). Proceed with caution.\n",
      "  version, \", \".join(READABLE_VERSIONS)))\n",
      "/home/earthquakes1/software/Mageia/lib/python3.7/site-packages/obspy/io/stationxml/core.py:98: UserWarning: The StationXML file has version 1, ObsPy can read versions (1.0, 1.1). Proceed with caution.\n",
      "  version, \", \".join(READABLE_VERSIONS)))\n"
     ]
    },
    {
     "name": "stdout",
     "output_type": "stream",
     "text": [
      "earthquake number 2009 of 3384 done. It was 20190627_152400.a\n",
      "earthquake number 2010 of 3384 done. It was 20190627_133616.a\n"
     ]
    },
    {
     "name": "stderr",
     "output_type": "stream",
     "text": [
      "/home/earthquakes1/software/Mageia/lib/python3.7/site-packages/obspy/io/stationxml/core.py:98: UserWarning: The StationXML file has version 1, ObsPy can read versions (1.0, 1.1). Proceed with caution.\n",
      "  version, \", \".join(READABLE_VERSIONS)))\n",
      "/home/earthquakes1/software/Mageia/lib/python3.7/site-packages/obspy/io/stationxml/core.py:98: UserWarning: The StationXML file has version 1, ObsPy can read versions (1.0, 1.1). Proceed with caution.\n",
      "  version, \", \".join(READABLE_VERSIONS)))\n"
     ]
    },
    {
     "name": "stdout",
     "output_type": "stream",
     "text": [
      "earthquake number 2011 of 3384 done. It was 20190627_110457.a\n",
      "earthquake number 2012 of 3384 done. It was 20190627_110120.a\n"
     ]
    },
    {
     "name": "stderr",
     "output_type": "stream",
     "text": [
      "/home/earthquakes1/software/Mageia/lib/python3.7/site-packages/obspy/io/stationxml/core.py:98: UserWarning: The StationXML file has version 1, ObsPy can read versions (1.0, 1.1). Proceed with caution.\n",
      "  version, \", \".join(READABLE_VERSIONS)))\n",
      "/home/earthquakes1/software/Mageia/lib/python3.7/site-packages/obspy/io/stationxml/core.py:98: UserWarning: The StationXML file has version 1, ObsPy can read versions (1.0, 1.1). Proceed with caution.\n",
      "  version, \", \".join(READABLE_VERSIONS)))\n",
      "/home/earthquakes1/software/Mageia/lib/python3.7/site-packages/obspy/io/stationxml/core.py:98: UserWarning: The StationXML file has version 1, ObsPy can read versions (1.0, 1.1). Proceed with caution.\n",
      "  version, \", \".join(READABLE_VERSIONS)))\n",
      "/home/earthquakes1/software/Mageia/lib/python3.7/site-packages/obspy/io/stationxml/core.py:98: UserWarning: The StationXML file has version 1, ObsPy can read versions (1.0, 1.1). Proceed with caution.\n",
      "  version, \", \".join(READABLE_VERSIONS)))\n",
      "/home/earthquakes1/software/Mageia/lib/python3.7/site-packages/obspy/io/stationxml/core.py:98: UserWarning: The StationXML file has version 1, ObsPy can read versions (1.0, 1.1). Proceed with caution.\n",
      "  version, \", \".join(READABLE_VERSIONS)))\n",
      "/home/earthquakes1/software/Mageia/lib/python3.7/site-packages/obspy/io/stationxml/core.py:98: UserWarning: The StationXML file has version 1, ObsPy can read versions (1.0, 1.1). Proceed with caution.\n",
      "  version, \", \".join(READABLE_VERSIONS)))\n",
      "/home/earthquakes1/software/Mageia/lib/python3.7/site-packages/obspy/io/stationxml/core.py:98: UserWarning: The StationXML file has version 1, ObsPy can read versions (1.0, 1.1). Proceed with caution.\n",
      "  version, \", \".join(READABLE_VERSIONS)))\n"
     ]
    },
    {
     "name": "stdout",
     "output_type": "stream",
     "text": [
      "earthquake number 2013 of 3384 done. It was 20190627_071042.a\n",
      "earthquake number 2014 of 3384 done. It was 20190627_062120.a\n",
      "earthquake number 2015 of 3384 done. It was 20190627_061951.a\n",
      "earthquake number 2016 of 3384 done. It was 20190627_023518.a\n",
      "earthquake number 2017 of 3384 done. It was 20190627_000317.a\n",
      "earthquake number 2018 of 3384 done. It was 20190626_220109.a\n",
      "earthquake number 2019 of 3384 done. It was 20190626_213332.a\n"
     ]
    },
    {
     "name": "stderr",
     "output_type": "stream",
     "text": [
      "/home/earthquakes1/software/Mageia/lib/python3.7/site-packages/obspy/io/stationxml/core.py:98: UserWarning: The StationXML file has version 1, ObsPy can read versions (1.0, 1.1). Proceed with caution.\n",
      "  version, \", \".join(READABLE_VERSIONS)))\n",
      "/home/earthquakes1/software/Mageia/lib/python3.7/site-packages/obspy/io/stationxml/core.py:98: UserWarning: The StationXML file has version 1, ObsPy can read versions (1.0, 1.1). Proceed with caution.\n",
      "  version, \", \".join(READABLE_VERSIONS)))\n"
     ]
    },
    {
     "name": "stdout",
     "output_type": "stream",
     "text": [
      "earthquake number 2020 of 3384 done. It was 20190626_211630.a\n",
      "earthquake number 2021 of 3384 done. It was 20190626_202724.a\n",
      "earthquake number 2022 of 3384 done. It was 20190626_191233.a\n"
     ]
    },
    {
     "name": "stderr",
     "output_type": "stream",
     "text": [
      "/home/earthquakes1/software/Mageia/lib/python3.7/site-packages/obspy/io/stationxml/core.py:98: UserWarning: The StationXML file has version 1, ObsPy can read versions (1.0, 1.1). Proceed with caution.\n",
      "  version, \", \".join(READABLE_VERSIONS)))\n",
      "/home/earthquakes1/software/Mageia/lib/python3.7/site-packages/obspy/io/stationxml/core.py:98: UserWarning: The StationXML file has version 1, ObsPy can read versions (1.0, 1.1). Proceed with caution.\n",
      "  version, \", \".join(READABLE_VERSIONS)))\n"
     ]
    },
    {
     "name": "stdout",
     "output_type": "stream",
     "text": [
      "earthquake number 2023 of 3384 done. It was 20190626_180630.a\n",
      "earthquake number 2024 of 3384 done. It was 20190626_142404.a\n",
      "earthquake number 2025 of 3384 done. It was 20190626_124805.a\n",
      "earthquake number 2026 of 3384 done. It was 20190626_122254.a\n",
      "earthquake number 2027 of 3384 done. It was 20190626_092158.a\n",
      "earthquake number 2028 of 3384 done. It was 20190626_072948.a\n",
      "earthquake number 2029 of 3384 done. It was 20190626_063513.a\n",
      "earthquake number 2030 of 3384 done. It was 20190626_052350.a\n",
      "earthquake number 2031 of 3384 done. It was 20190626_014107.a\n",
      "earthquake number 2032 of 3384 done. It was 20190626_004311.a\n",
      "earthquake number 2033 of 3384 done. It was 20190626_002951.a\n",
      "earthquake number 2034 of 3384 done. It was 20190625_224643.a\n"
     ]
    },
    {
     "name": "stderr",
     "output_type": "stream",
     "text": [
      "/home/earthquakes1/software/Mageia/lib/python3.7/site-packages/obspy/io/stationxml/core.py:98: UserWarning: The StationXML file has version 1, ObsPy can read versions (1.0, 1.1). Proceed with caution.\n",
      "  version, \", \".join(READABLE_VERSIONS)))\n",
      "/home/earthquakes1/software/Mageia/lib/python3.7/site-packages/obspy/io/stationxml/core.py:98: UserWarning: The StationXML file has version 1, ObsPy can read versions (1.0, 1.1). Proceed with caution.\n",
      "  version, \", \".join(READABLE_VERSIONS)))\n"
     ]
    },
    {
     "name": "stdout",
     "output_type": "stream",
     "text": [
      "earthquake number 2035 of 3384 done. It was 20190625_223542.a\n",
      "earthquake number 2036 of 3384 done. It was 20190625_195039.a\n",
      "earthquake number 2037 of 3384 done. It was 20190625_192016.a\n",
      "earthquake number 2038 of 3384 done. It was 20190625_125902.a\n",
      "earthquake number 2039 of 3384 done. It was 20190625_123658.a\n",
      "earthquake number 2040 of 3384 done. It was 20190625_102330.a\n",
      "earthquake number 2041 of 3384 done. It was 20190625_083430.a\n",
      "earthquake number 2042 of 3384 done. It was 20190625_074036.a\n"
     ]
    },
    {
     "name": "stderr",
     "output_type": "stream",
     "text": [
      "/home/earthquakes1/software/Mageia/lib/python3.7/site-packages/obspy/io/stationxml/core.py:98: UserWarning: The StationXML file has version 1, ObsPy can read versions (1.0, 1.1). Proceed with caution.\n",
      "  version, \", \".join(READABLE_VERSIONS)))\n",
      "/home/earthquakes1/software/Mageia/lib/python3.7/site-packages/obspy/io/stationxml/core.py:98: UserWarning: The StationXML file has version 1, ObsPy can read versions (1.0, 1.1). Proceed with caution.\n",
      "  version, \", \".join(READABLE_VERSIONS)))\n"
     ]
    },
    {
     "name": "stdout",
     "output_type": "stream",
     "text": [
      "earthquake number 2043 of 3384 done. It was 20190624_202523.a\n",
      "earthquake number 2044 of 3384 done. It was 20190624_190013.a\n"
     ]
    },
    {
     "name": "stderr",
     "output_type": "stream",
     "text": [
      "/home/earthquakes1/software/Mageia/lib/python3.7/site-packages/obspy/io/stationxml/core.py:98: UserWarning: The StationXML file has version 1, ObsPy can read versions (1.0, 1.1). Proceed with caution.\n",
      "  version, \", \".join(READABLE_VERSIONS)))\n",
      "/home/earthquakes1/software/Mageia/lib/python3.7/site-packages/obspy/io/stationxml/core.py:98: UserWarning: The StationXML file has version 1, ObsPy can read versions (1.0, 1.1). Proceed with caution.\n",
      "  version, \", \".join(READABLE_VERSIONS)))\n"
     ]
    },
    {
     "name": "stdout",
     "output_type": "stream",
     "text": [
      "earthquake number 2045 of 3384 done. It was 20190624_184324.a\n",
      "earthquake number 2046 of 3384 done. It was 20190624_182812.a\n",
      "earthquake number 2047 of 3384 done. It was 20190624_173544.a\n",
      "earthquake number 2048 of 3384 done. It was 20190624_135559.a\n"
     ]
    },
    {
     "name": "stderr",
     "output_type": "stream",
     "text": [
      "/home/earthquakes1/software/Mageia/lib/python3.7/site-packages/obspy/io/stationxml/core.py:98: UserWarning: The StationXML file has version 1, ObsPy can read versions (1.0, 1.1). Proceed with caution.\n",
      "  version, \", \".join(READABLE_VERSIONS)))\n",
      "/home/earthquakes1/software/Mageia/lib/python3.7/site-packages/obspy/io/stationxml/core.py:98: UserWarning: The StationXML file has version 1, ObsPy can read versions (1.0, 1.1). Proceed with caution.\n",
      "  version, \", \".join(READABLE_VERSIONS)))\n"
     ]
    },
    {
     "name": "stdout",
     "output_type": "stream",
     "text": [
      "earthquake number 2049 of 3384 done. It was 20190624_133236.a\n",
      "earthquake number 2050 of 3384 done. It was 20190624_132422.a\n",
      "earthquake number 2051 of 3384 done. It was 20190624_130909.a\n",
      "earthquake number 2052 of 3384 done. It was 20190624_122530.a\n"
     ]
    },
    {
     "name": "stderr",
     "output_type": "stream",
     "text": [
      "/home/earthquakes1/software/Mageia/lib/python3.7/site-packages/obspy/io/stationxml/core.py:98: UserWarning: The StationXML file has version 1, ObsPy can read versions (1.0, 1.1). Proceed with caution.\n",
      "  version, \", \".join(READABLE_VERSIONS)))\n",
      "/home/earthquakes1/software/Mageia/lib/python3.7/site-packages/obspy/io/stationxml/core.py:98: UserWarning: The StationXML file has version 1, ObsPy can read versions (1.0, 1.1). Proceed with caution.\n",
      "  version, \", \".join(READABLE_VERSIONS)))\n"
     ]
    },
    {
     "name": "stdout",
     "output_type": "stream",
     "text": [
      "earthquake number 2053 of 3384 done. It was 20190624_113408.a\n",
      "earthquake number 2054 of 3384 done. It was 20190624_103315.a\n",
      "earthquake number 2055 of 3384 done. It was 20190624_102239.a\n",
      "earthquake number 2056 of 3384 done. It was 20190624_101207.a\n",
      "earthquake number 2057 of 3384 done. It was 20190624_090423.a\n",
      "earthquake number 2058 of 3384 done. It was 20190624_044242.a\n",
      "earthquake number 2059 of 3384 done. It was 20190624_001144.a\n",
      "earthquake number 2060 of 3384 done. It was 20190623_223910.a\n",
      "earthquake number 2061 of 3384 done. It was 20190623_204347.a\n",
      "earthquake number 2062 of 3384 done. It was 20190623_195843.a\n",
      "earthquake number 2063 of 3384 done. It was 20190623_170922.a\n"
     ]
    },
    {
     "name": "stderr",
     "output_type": "stream",
     "text": [
      "/home/earthquakes1/software/Mageia/lib/python3.7/site-packages/obspy/io/stationxml/core.py:98: UserWarning: The StationXML file has version 1, ObsPy can read versions (1.0, 1.1). Proceed with caution.\n",
      "  version, \", \".join(READABLE_VERSIONS)))\n",
      "/home/earthquakes1/software/Mageia/lib/python3.7/site-packages/obspy/io/stationxml/core.py:98: UserWarning: The StationXML file has version 1, ObsPy can read versions (1.0, 1.1). Proceed with caution.\n",
      "  version, \", \".join(READABLE_VERSIONS)))\n"
     ]
    },
    {
     "name": "stdout",
     "output_type": "stream",
     "text": [
      "earthquake number 2064 of 3384 done. It was 20190623_160507.a\n",
      "earthquake number 2065 of 3384 done. It was 20190623_155934.a\n",
      "earthquake number 2066 of 3384 done. It was 20190623_132309.a\n",
      "earthquake number 2067 of 3384 done. It was 20190623_130337.a\n",
      "earthquake number 2068 of 3384 done. It was 20190623_115841.a\n",
      "earthquake number 2069 of 3384 done. It was 20190623_112917.a\n"
     ]
    },
    {
     "name": "stderr",
     "output_type": "stream",
     "text": [
      "/home/earthquakes1/software/Mageia/lib/python3.7/site-packages/obspy/io/stationxml/core.py:98: UserWarning: The StationXML file has version 1, ObsPy can read versions (1.0, 1.1). Proceed with caution.\n",
      "  version, \", \".join(READABLE_VERSIONS)))\n",
      "/home/earthquakes1/software/Mageia/lib/python3.7/site-packages/obspy/io/stationxml/core.py:98: UserWarning: The StationXML file has version 1, ObsPy can read versions (1.0, 1.1). Proceed with caution.\n",
      "  version, \", \".join(READABLE_VERSIONS)))\n"
     ]
    },
    {
     "name": "stdout",
     "output_type": "stream",
     "text": [
      "earthquake number 2070 of 3384 done. It was 20190623_112144.a\n",
      "earthquake number 2071 of 3384 done. It was 20190623_090846.a\n",
      "earthquake number 2072 of 3384 done. It was 20190623_072125.a\n"
     ]
    },
    {
     "name": "stderr",
     "output_type": "stream",
     "text": [
      "/home/earthquakes1/software/Mageia/lib/python3.7/site-packages/obspy/io/stationxml/core.py:98: UserWarning: The StationXML file has version 1, ObsPy can read versions (1.0, 1.1). Proceed with caution.\n",
      "  version, \", \".join(READABLE_VERSIONS)))\n",
      "/home/earthquakes1/software/Mageia/lib/python3.7/site-packages/obspy/io/stationxml/core.py:98: UserWarning: The StationXML file has version 1, ObsPy can read versions (1.0, 1.1). Proceed with caution.\n",
      "  version, \", \".join(READABLE_VERSIONS)))\n"
     ]
    },
    {
     "name": "stdout",
     "output_type": "stream",
     "text": [
      "earthquake number 2073 of 3384 done. It was 20190623_065212.a\n",
      "earthquake number 2074 of 3384 done. It was 20190623_061118.a\n",
      "earthquake number 2075 of 3384 done. It was 20190623_055608.a\n"
     ]
    },
    {
     "name": "stderr",
     "output_type": "stream",
     "text": [
      "/home/earthquakes1/software/Mageia/lib/python3.7/site-packages/obspy/io/stationxml/core.py:98: UserWarning: The StationXML file has version 1, ObsPy can read versions (1.0, 1.1). Proceed with caution.\n",
      "  version, \", \".join(READABLE_VERSIONS)))\n",
      "/home/earthquakes1/software/Mageia/lib/python3.7/site-packages/obspy/io/stationxml/core.py:98: UserWarning: The StationXML file has version 1, ObsPy can read versions (1.0, 1.1). Proceed with caution.\n",
      "  version, \", \".join(READABLE_VERSIONS)))\n"
     ]
    },
    {
     "name": "stdout",
     "output_type": "stream",
     "text": [
      "earthquake number 2076 of 3384 done. It was 20190623_054141.a\n",
      "earthquake number 2077 of 3384 done. It was 20190623_035302.a\n",
      "earthquake number 2078 of 3384 done. It was 20190623_023514.a\n",
      "earthquake number 2079 of 3384 done. It was 20190623_021505.a\n"
     ]
    },
    {
     "name": "stderr",
     "output_type": "stream",
     "text": [
      "/home/earthquakes1/software/Mageia/lib/python3.7/site-packages/obspy/io/stationxml/core.py:98: UserWarning: The StationXML file has version 1, ObsPy can read versions (1.0, 1.1). Proceed with caution.\n",
      "  version, \", \".join(READABLE_VERSIONS)))\n",
      "/home/earthquakes1/software/Mageia/lib/python3.7/site-packages/obspy/io/stationxml/core.py:98: UserWarning: The StationXML file has version 1, ObsPy can read versions (1.0, 1.1). Proceed with caution.\n",
      "  version, \", \".join(READABLE_VERSIONS)))\n"
     ]
    },
    {
     "name": "stdout",
     "output_type": "stream",
     "text": [
      "earthquake number 2080 of 3384 done. It was 20190622_223506.a\n",
      "earthquake number 2081 of 3384 done. It was 20190622_222239.a\n",
      "earthquake number 2082 of 3384 done. It was 20190622_210001.a\n"
     ]
    },
    {
     "name": "stderr",
     "output_type": "stream",
     "text": [
      "/home/earthquakes1/software/Mageia/lib/python3.7/site-packages/obspy/io/stationxml/core.py:98: UserWarning: The StationXML file has version 1, ObsPy can read versions (1.0, 1.1). Proceed with caution.\n",
      "  version, \", \".join(READABLE_VERSIONS)))\n",
      "/home/earthquakes1/software/Mageia/lib/python3.7/site-packages/obspy/io/stationxml/core.py:98: UserWarning: The StationXML file has version 1, ObsPy can read versions (1.0, 1.1). Proceed with caution.\n",
      "  version, \", \".join(READABLE_VERSIONS)))\n",
      "/home/earthquakes1/software/Mageia/lib/python3.7/site-packages/obspy/io/stationxml/core.py:98: UserWarning: The StationXML file has version 1, ObsPy can read versions (1.0, 1.1). Proceed with caution.\n",
      "  version, \", \".join(READABLE_VERSIONS)))\n",
      "/home/earthquakes1/software/Mageia/lib/python3.7/site-packages/obspy/io/stationxml/core.py:98: UserWarning: The StationXML file has version 1, ObsPy can read versions (1.0, 1.1). Proceed with caution.\n",
      "  version, \", \".join(READABLE_VERSIONS)))\n",
      "/home/earthquakes1/software/Mageia/lib/python3.7/site-packages/obspy/io/stationxml/core.py:98: UserWarning: The StationXML file has version 1, ObsPy can read versions (1.0, 1.1). Proceed with caution.\n",
      "  version, \", \".join(READABLE_VERSIONS)))\n",
      "/home/earthquakes1/software/Mageia/lib/python3.7/site-packages/obspy/io/stationxml/core.py:98: UserWarning: The StationXML file has version 1, ObsPy can read versions (1.0, 1.1). Proceed with caution.\n",
      "  version, \", \".join(READABLE_VERSIONS)))\n",
      "/home/earthquakes1/software/Mageia/lib/python3.7/site-packages/obspy/io/stationxml/core.py:98: UserWarning: The StationXML file has version 1, ObsPy can read versions (1.0, 1.1). Proceed with caution.\n",
      "  version, \", \".join(READABLE_VERSIONS)))\n",
      "/home/earthquakes1/software/Mageia/lib/python3.7/site-packages/obspy/io/stationxml/core.py:98: UserWarning: The StationXML file has version 1, ObsPy can read versions (1.0, 1.1). Proceed with caution.\n",
      "  version, \", \".join(READABLE_VERSIONS)))\n",
      "/home/earthquakes1/software/Mageia/lib/python3.7/site-packages/obspy/io/stationxml/core.py:98: UserWarning: The StationXML file has version 1, ObsPy can read versions (1.0, 1.1). Proceed with caution.\n",
      "  version, \", \".join(READABLE_VERSIONS)))\n",
      "/home/earthquakes1/software/Mageia/lib/python3.7/site-packages/obspy/io/stationxml/core.py:98: UserWarning: The StationXML file has version 1, ObsPy can read versions (1.0, 1.1). Proceed with caution.\n",
      "  version, \", \".join(READABLE_VERSIONS)))\n",
      "/home/earthquakes1/software/Mageia/lib/python3.7/site-packages/obspy/io/stationxml/core.py:98: UserWarning: The StationXML file has version 1, ObsPy can read versions (1.0, 1.1). Proceed with caution.\n",
      "  version, \", \".join(READABLE_VERSIONS)))\n",
      "/home/earthquakes1/software/Mageia/lib/python3.7/site-packages/obspy/io/stationxml/core.py:98: UserWarning: The StationXML file has version 1, ObsPy can read versions (1.0, 1.1). Proceed with caution.\n",
      "  version, \", \".join(READABLE_VERSIONS)))\n",
      "/home/earthquakes1/software/Mageia/lib/python3.7/site-packages/obspy/io/stationxml/core.py:98: UserWarning: The StationXML file has version 1, ObsPy can read versions (1.0, 1.1). Proceed with caution.\n",
      "  version, \", \".join(READABLE_VERSIONS)))\n",
      "/home/earthquakes1/software/Mageia/lib/python3.7/site-packages/obspy/io/stationxml/core.py:98: UserWarning: The StationXML file has version 1, ObsPy can read versions (1.0, 1.1). Proceed with caution.\n",
      "  version, \", \".join(READABLE_VERSIONS)))\n",
      "/home/earthquakes1/software/Mageia/lib/python3.7/site-packages/obspy/io/stationxml/core.py:98: UserWarning: The StationXML file has version 1, ObsPy can read versions (1.0, 1.1). Proceed with caution.\n",
      "  version, \", \".join(READABLE_VERSIONS)))\n",
      "/home/earthquakes1/software/Mageia/lib/python3.7/site-packages/obspy/io/stationxml/core.py:98: UserWarning: The StationXML file has version 1, ObsPy can read versions (1.0, 1.1). Proceed with caution.\n",
      "  version, \", \".join(READABLE_VERSIONS)))\n",
      "/home/earthquakes1/software/Mageia/lib/python3.7/site-packages/obspy/io/stationxml/core.py:98: UserWarning: The StationXML file has version 1, ObsPy can read versions (1.0, 1.1). Proceed with caution.\n",
      "  version, \", \".join(READABLE_VERSIONS)))\n",
      "/home/earthquakes1/software/Mageia/lib/python3.7/site-packages/obspy/io/stationxml/core.py:98: UserWarning: The StationXML file has version 1, ObsPy can read versions (1.0, 1.1). Proceed with caution.\n",
      "  version, \", \".join(READABLE_VERSIONS)))\n",
      "/home/earthquakes1/software/Mageia/lib/python3.7/site-packages/obspy/io/stationxml/core.py:98: UserWarning: The StationXML file has version 1, ObsPy can read versions (1.0, 1.1). Proceed with caution.\n",
      "  version, \", \".join(READABLE_VERSIONS)))\n",
      "/home/earthquakes1/software/Mageia/lib/python3.7/site-packages/obspy/io/stationxml/core.py:98: UserWarning: The StationXML file has version 1, ObsPy can read versions (1.0, 1.1). Proceed with caution.\n",
      "  version, \", \".join(READABLE_VERSIONS)))\n",
      "/home/earthquakes1/software/Mageia/lib/python3.7/site-packages/obspy/io/stationxml/core.py:98: UserWarning: The StationXML file has version 1, ObsPy can read versions (1.0, 1.1). Proceed with caution.\n",
      "  version, \", \".join(READABLE_VERSIONS)))\n",
      "/home/earthquakes1/software/Mageia/lib/python3.7/site-packages/obspy/io/stationxml/core.py:98: UserWarning: The StationXML file has version 1, ObsPy can read versions (1.0, 1.1). Proceed with caution.\n",
      "  version, \", \".join(READABLE_VERSIONS)))\n",
      "/home/earthquakes1/software/Mageia/lib/python3.7/site-packages/obspy/io/stationxml/core.py:98: UserWarning: The StationXML file has version 1, ObsPy can read versions (1.0, 1.1). Proceed with caution.\n",
      "  version, \", \".join(READABLE_VERSIONS)))\n",
      "/home/earthquakes1/software/Mageia/lib/python3.7/site-packages/obspy/io/stationxml/core.py:98: UserWarning: The StationXML file has version 1, ObsPy can read versions (1.0, 1.1). Proceed with caution.\n",
      "  version, \", \".join(READABLE_VERSIONS)))\n"
     ]
    },
    {
     "name": "stdout",
     "output_type": "stream",
     "text": [
      "earthquake number 2083 of 3384 done. It was 20190622_204142.a\n",
      "earthquake number 2084 of 3384 done. It was 20190622_200000.a\n",
      "earthquake number 2085 of 3384 done. It was 20190622_190156.a\n",
      "earthquake number 2086 of 3384 done. It was 20190622_190156.a\n",
      "earthquake number 2087 of 3384 done. It was 20190622_170139.a\n",
      "earthquake number 2088 of 3384 done. It was 20190622_132923.a\n",
      "earthquake number 2089 of 3384 done. It was 20190622_085024.a\n",
      "earthquake number 2090 of 3384 done. It was 20190622_074544.a\n",
      "earthquake number 2091 of 3384 done. It was 20190622_053345.a\n",
      "earthquake number 2092 of 3384 done. It was 20190622_053328.a\n",
      "earthquake number 2093 of 3384 done. It was 20190622_053119.a\n",
      "earthquake number 2094 of 3384 done. It was 20190622_035606.a\n",
      "earthquake number 2095 of 3384 done. It was 20190622_004020.a\n",
      "earthquake number 2096 of 3384 done. It was 20190621_233610.a\n"
     ]
    },
    {
     "name": "stderr",
     "output_type": "stream",
     "text": [
      "/home/earthquakes1/software/Mageia/lib/python3.7/site-packages/obspy/io/stationxml/core.py:98: UserWarning: The StationXML file has version 1, ObsPy can read versions (1.0, 1.1). Proceed with caution.\n",
      "  version, \", \".join(READABLE_VERSIONS)))\n",
      "/home/earthquakes1/software/Mageia/lib/python3.7/site-packages/obspy/io/stationxml/core.py:98: UserWarning: The StationXML file has version 1, ObsPy can read versions (1.0, 1.1). Proceed with caution.\n",
      "  version, \", \".join(READABLE_VERSIONS)))\n"
     ]
    },
    {
     "name": "stdout",
     "output_type": "stream",
     "text": [
      "earthquake number 2097 of 3384 done. It was 20190621_230838.a\n"
     ]
    },
    {
     "name": "stderr",
     "output_type": "stream",
     "text": [
      "/home/earthquakes1/software/Mageia/lib/python3.7/site-packages/obspy/io/stationxml/core.py:98: UserWarning: The StationXML file has version 1, ObsPy can read versions (1.0, 1.1). Proceed with caution.\n",
      "  version, \", \".join(READABLE_VERSIONS)))\n",
      "/home/earthquakes1/software/Mageia/lib/python3.7/site-packages/obspy/io/stationxml/core.py:98: UserWarning: The StationXML file has version 1, ObsPy can read versions (1.0, 1.1). Proceed with caution.\n",
      "  version, \", \".join(READABLE_VERSIONS)))\n"
     ]
    },
    {
     "name": "stdout",
     "output_type": "stream",
     "text": [
      "earthquake number 2098 of 3384 done. It was 20190621_230028.a\n"
     ]
    },
    {
     "name": "stderr",
     "output_type": "stream",
     "text": [
      "/home/earthquakes1/software/Mageia/lib/python3.7/site-packages/obspy/io/stationxml/core.py:98: UserWarning: The StationXML file has version 1, ObsPy can read versions (1.0, 1.1). Proceed with caution.\n",
      "  version, \", \".join(READABLE_VERSIONS)))\n",
      "/home/earthquakes1/software/Mageia/lib/python3.7/site-packages/obspy/io/stationxml/core.py:98: UserWarning: The StationXML file has version 1, ObsPy can read versions (1.0, 1.1). Proceed with caution.\n",
      "  version, \", \".join(READABLE_VERSIONS)))\n"
     ]
    },
    {
     "name": "stdout",
     "output_type": "stream",
     "text": [
      "earthquake number 2099 of 3384 done. It was 20190621_224924.a\n",
      "earthquake number 2100 of 3384 done. It was 20190621_220318.a\n",
      "earthquake number 2101 of 3384 done. It was 20190621_191154.a\n",
      "earthquake number 2102 of 3384 done. It was 20190621_170942.a\n",
      "earthquake number 2103 of 3384 done. It was 20190621_155637.a\n"
     ]
    },
    {
     "name": "stderr",
     "output_type": "stream",
     "text": [
      "/home/earthquakes1/software/Mageia/lib/python3.7/site-packages/obspy/io/stationxml/core.py:98: UserWarning: The StationXML file has version 1, ObsPy can read versions (1.0, 1.1). Proceed with caution.\n",
      "  version, \", \".join(READABLE_VERSIONS)))\n",
      "/home/earthquakes1/software/Mageia/lib/python3.7/site-packages/obspy/io/stationxml/core.py:98: UserWarning: The StationXML file has version 1, ObsPy can read versions (1.0, 1.1). Proceed with caution.\n",
      "  version, \", \".join(READABLE_VERSIONS)))\n"
     ]
    },
    {
     "name": "stdout",
     "output_type": "stream",
     "text": [
      "earthquake number 2104 of 3384 done. It was 20190621_155356.a\n",
      "earthquake number 2105 of 3384 done. It was 20190621_152008.a\n",
      "earthquake number 2106 of 3384 done. It was 20190621_122201.a\n",
      "earthquake number 2107 of 3384 done. It was 20190621_112111.a\n",
      "earthquake number 2108 of 3384 done. It was 20190621_102727.a\n",
      "earthquake number 2109 of 3384 done. It was 20190621_101432.a\n"
     ]
    },
    {
     "name": "stderr",
     "output_type": "stream",
     "text": [
      "/home/earthquakes1/software/Mageia/lib/python3.7/site-packages/obspy/io/stationxml/core.py:98: UserWarning: The StationXML file has version 1, ObsPy can read versions (1.0, 1.1). Proceed with caution.\n",
      "  version, \", \".join(READABLE_VERSIONS)))\n",
      "/home/earthquakes1/software/Mageia/lib/python3.7/site-packages/obspy/io/stationxml/core.py:98: UserWarning: The StationXML file has version 1, ObsPy can read versions (1.0, 1.1). Proceed with caution.\n",
      "  version, \", \".join(READABLE_VERSIONS)))\n"
     ]
    },
    {
     "name": "stdout",
     "output_type": "stream",
     "text": [
      "earthquake number 2110 of 3384 done. It was 20190621_085012.a\n"
     ]
    },
    {
     "name": "stderr",
     "output_type": "stream",
     "text": [
      "/home/earthquakes1/software/Mageia/lib/python3.7/site-packages/obspy/io/stationxml/core.py:98: UserWarning: The StationXML file has version 1, ObsPy can read versions (1.0, 1.1). Proceed with caution.\n",
      "  version, \", \".join(READABLE_VERSIONS)))\n",
      "/home/earthquakes1/software/Mageia/lib/python3.7/site-packages/obspy/io/stationxml/core.py:98: UserWarning: The StationXML file has version 1, ObsPy can read versions (1.0, 1.1). Proceed with caution.\n",
      "  version, \", \".join(READABLE_VERSIONS)))\n"
     ]
    },
    {
     "name": "stdout",
     "output_type": "stream",
     "text": [
      "earthquake number 2111 of 3384 done. It was 20190621_084038.a\n"
     ]
    },
    {
     "name": "stderr",
     "output_type": "stream",
     "text": [
      "/home/earthquakes1/software/Mageia/lib/python3.7/site-packages/obspy/io/stationxml/core.py:98: UserWarning: The StationXML file has version 1, ObsPy can read versions (1.0, 1.1). Proceed with caution.\n",
      "  version, \", \".join(READABLE_VERSIONS)))\n",
      "/home/earthquakes1/software/Mageia/lib/python3.7/site-packages/obspy/io/stationxml/core.py:98: UserWarning: The StationXML file has version 1, ObsPy can read versions (1.0, 1.1). Proceed with caution.\n",
      "  version, \", \".join(READABLE_VERSIONS)))\n"
     ]
    },
    {
     "name": "stdout",
     "output_type": "stream",
     "text": [
      "earthquake number 2112 of 3384 done. It was 20190621_083716.a\n"
     ]
    },
    {
     "name": "stderr",
     "output_type": "stream",
     "text": [
      "/home/earthquakes1/software/Mageia/lib/python3.7/site-packages/obspy/io/stationxml/core.py:98: UserWarning: The StationXML file has version 1, ObsPy can read versions (1.0, 1.1). Proceed with caution.\n",
      "  version, \", \".join(READABLE_VERSIONS)))\n",
      "/home/earthquakes1/software/Mageia/lib/python3.7/site-packages/obspy/io/stationxml/core.py:98: UserWarning: The StationXML file has version 1, ObsPy can read versions (1.0, 1.1). Proceed with caution.\n",
      "  version, \", \".join(READABLE_VERSIONS)))\n"
     ]
    },
    {
     "name": "stdout",
     "output_type": "stream",
     "text": [
      "earthquake number 2113 of 3384 done. It was 20190621_072740.a\n"
     ]
    },
    {
     "name": "stderr",
     "output_type": "stream",
     "text": [
      "/home/earthquakes1/software/Mageia/lib/python3.7/site-packages/obspy/signal/invsim.py:419: RuntimeWarning: invalid value encountered in less\n",
      "  idx = np.where((sqrt_len < swamp) & (sqrt_len > 0.0))\n",
      "/home/earthquakes1/software/Mageia/lib/python3.7/site-packages/obspy/signal/invsim.py:419: RuntimeWarning: invalid value encountered in greater\n",
      "  idx = np.where((sqrt_len < swamp) & (sqrt_len > 0.0))\n",
      "/home/earthquakes1/software/Mageia/lib/python3.7/site-packages/obspy/signal/invsim.py:425: RuntimeWarning: invalid value encountered in greater\n",
      "  inn = np.where(sqrt_len > 0.0)\n"
     ]
    },
    {
     "name": "stdout",
     "output_type": "stream",
     "text": [
      "earthquake number 2114 of 3384 done. It was 20190621_065055.a\n",
      "earthquake number 2115 of 3384 done. It was 20190621_023604.a\n"
     ]
    },
    {
     "name": "stderr",
     "output_type": "stream",
     "text": [
      "/home/earthquakes1/software/Mageia/lib/python3.7/site-packages/obspy/io/stationxml/core.py:98: UserWarning: The StationXML file has version 1, ObsPy can read versions (1.0, 1.1). Proceed with caution.\n",
      "  version, \", \".join(READABLE_VERSIONS)))\n",
      "/home/earthquakes1/software/Mageia/lib/python3.7/site-packages/obspy/io/stationxml/core.py:98: UserWarning: The StationXML file has version 1, ObsPy can read versions (1.0, 1.1). Proceed with caution.\n",
      "  version, \", \".join(READABLE_VERSIONS)))\n"
     ]
    },
    {
     "name": "stdout",
     "output_type": "stream",
     "text": [
      "earthquake number 2116 of 3384 done. It was 20190620_221638.a\n"
     ]
    },
    {
     "name": "stderr",
     "output_type": "stream",
     "text": [
      "/home/earthquakes1/software/Mageia/lib/python3.7/site-packages/obspy/io/stationxml/core.py:98: UserWarning: The StationXML file has version 1, ObsPy can read versions (1.0, 1.1). Proceed with caution.\n",
      "  version, \", \".join(READABLE_VERSIONS)))\n",
      "/home/earthquakes1/software/Mageia/lib/python3.7/site-packages/obspy/io/stationxml/core.py:98: UserWarning: The StationXML file has version 1, ObsPy can read versions (1.0, 1.1). Proceed with caution.\n",
      "  version, \", \".join(READABLE_VERSIONS)))\n"
     ]
    },
    {
     "name": "stdout",
     "output_type": "stream",
     "text": [
      "earthquake number 2117 of 3384 done. It was 20190620_214506.a\n",
      "earthquake number 2118 of 3384 done. It was 20190620_203835.a\n",
      "earthquake number 2119 of 3384 done. It was 20190620_203633.a\n",
      "earthquake number 2120 of 3384 done. It was 20190620_203322.a\n",
      "earthquake number 2121 of 3384 done. It was 20190620_201337.a\n",
      "earthquake number 2122 of 3384 done. It was 20190620_143007.a\n",
      "earthquake number 2123 of 3384 done. It was 20190620_123331.a\n",
      "earthquake number 2124 of 3384 done. It was 20190620_080020.a\n",
      "earthquake number 2125 of 3384 done. It was 20190620_073221.a\n",
      "earthquake number 2126 of 3384 done. It was 20190620_071450.a\n",
      "earthquake number 2127 of 3384 done. It was 20190620_052408.a\n",
      "earthquake number 2128 of 3384 done. It was 20190620_020442.a\n",
      "earthquake number 2129 of 3384 done. It was 20190620_020254.a\n",
      "earthquake number 2130 of 3384 done. It was 20190620_012326.a\n",
      "earthquake number 2131 of 3384 done. It was 20190619_235744.a\n",
      "earthquake number 2132 of 3384 done. It was 20190619_232454.a\n"
     ]
    },
    {
     "name": "stderr",
     "output_type": "stream",
     "text": [
      "/home/earthquakes1/software/Mageia/lib/python3.7/site-packages/obspy/io/stationxml/core.py:98: UserWarning: The StationXML file has version 1, ObsPy can read versions (1.0, 1.1). Proceed with caution.\n",
      "  version, \", \".join(READABLE_VERSIONS)))\n",
      "/home/earthquakes1/software/Mageia/lib/python3.7/site-packages/obspy/io/stationxml/core.py:98: UserWarning: The StationXML file has version 1, ObsPy can read versions (1.0, 1.1). Proceed with caution.\n",
      "  version, \", \".join(READABLE_VERSIONS)))\n"
     ]
    },
    {
     "name": "stdout",
     "output_type": "stream",
     "text": [
      "earthquake number 2133 of 3384 done. It was 20190619_230542.a\n"
     ]
    },
    {
     "name": "stderr",
     "output_type": "stream",
     "text": [
      "/home/earthquakes1/software/Mageia/lib/python3.7/site-packages/obspy/io/stationxml/core.py:98: UserWarning: The StationXML file has version 1, ObsPy can read versions (1.0, 1.1). Proceed with caution.\n",
      "  version, \", \".join(READABLE_VERSIONS)))\n",
      "/home/earthquakes1/software/Mageia/lib/python3.7/site-packages/obspy/io/stationxml/core.py:98: UserWarning: The StationXML file has version 1, ObsPy can read versions (1.0, 1.1). Proceed with caution.\n",
      "  version, \", \".join(READABLE_VERSIONS)))\n"
     ]
    },
    {
     "name": "stdout",
     "output_type": "stream",
     "text": [
      "earthquake number 2134 of 3384 done. It was 20190619_223046.a\n"
     ]
    },
    {
     "name": "stderr",
     "output_type": "stream",
     "text": [
      "/home/earthquakes1/software/Mageia/lib/python3.7/site-packages/obspy/io/stationxml/core.py:98: UserWarning: The StationXML file has version 1, ObsPy can read versions (1.0, 1.1). Proceed with caution.\n",
      "  version, \", \".join(READABLE_VERSIONS)))\n",
      "/home/earthquakes1/software/Mageia/lib/python3.7/site-packages/obspy/io/stationxml/core.py:98: UserWarning: The StationXML file has version 1, ObsPy can read versions (1.0, 1.1). Proceed with caution.\n",
      "  version, \", \".join(READABLE_VERSIONS)))\n"
     ]
    },
    {
     "name": "stdout",
     "output_type": "stream",
     "text": [
      "earthquake number 2135 of 3384 done. It was 20190619_210943.a\n",
      "earthquake number 2136 of 3384 done. It was 20190619_170927.a\n",
      "earthquake number 2137 of 3384 done. It was 20190619_165548.a\n"
     ]
    },
    {
     "name": "stderr",
     "output_type": "stream",
     "text": [
      "/home/earthquakes1/software/Mageia/lib/python3.7/site-packages/obspy/io/stationxml/core.py:98: UserWarning: The StationXML file has version 1, ObsPy can read versions (1.0, 1.1). Proceed with caution.\n",
      "  version, \", \".join(READABLE_VERSIONS)))\n",
      "/home/earthquakes1/software/Mageia/lib/python3.7/site-packages/obspy/io/stationxml/core.py:98: UserWarning: The StationXML file has version 1, ObsPy can read versions (1.0, 1.1). Proceed with caution.\n",
      "  version, \", \".join(READABLE_VERSIONS)))\n"
     ]
    },
    {
     "name": "stdout",
     "output_type": "stream",
     "text": [
      "earthquake number 2138 of 3384 done. It was 20190619_164303.a\n"
     ]
    },
    {
     "name": "stderr",
     "output_type": "stream",
     "text": [
      "/home/earthquakes1/software/Mageia/lib/python3.7/site-packages/obspy/io/stationxml/core.py:98: UserWarning: The StationXML file has version 1, ObsPy can read versions (1.0, 1.1). Proceed with caution.\n",
      "  version, \", \".join(READABLE_VERSIONS)))\n",
      "/home/earthquakes1/software/Mageia/lib/python3.7/site-packages/obspy/io/stationxml/core.py:98: UserWarning: The StationXML file has version 1, ObsPy can read versions (1.0, 1.1). Proceed with caution.\n",
      "  version, \", \".join(READABLE_VERSIONS)))\n",
      "/home/earthquakes1/software/Mageia/lib/python3.7/site-packages/obspy/io/stationxml/core.py:98: UserWarning: The StationXML file has version 1, ObsPy can read versions (1.0, 1.1). Proceed with caution.\n",
      "  version, \", \".join(READABLE_VERSIONS)))\n",
      "/home/earthquakes1/software/Mageia/lib/python3.7/site-packages/obspy/io/stationxml/core.py:98: UserWarning: The StationXML file has version 1, ObsPy can read versions (1.0, 1.1). Proceed with caution.\n",
      "  version, \", \".join(READABLE_VERSIONS)))\n",
      "/home/earthquakes1/software/Mageia/lib/python3.7/site-packages/obspy/io/stationxml/core.py:98: UserWarning: The StationXML file has version 1, ObsPy can read versions (1.0, 1.1). Proceed with caution.\n",
      "  version, \", \".join(READABLE_VERSIONS)))\n",
      "/home/earthquakes1/software/Mageia/lib/python3.7/site-packages/obspy/io/stationxml/core.py:98: UserWarning: The StationXML file has version 1, ObsPy can read versions (1.0, 1.1). Proceed with caution.\n",
      "  version, \", \".join(READABLE_VERSIONS)))\n",
      "/home/earthquakes1/software/Mageia/lib/python3.7/site-packages/obspy/io/stationxml/core.py:98: UserWarning: The StationXML file has version 1, ObsPy can read versions (1.0, 1.1). Proceed with caution.\n",
      "  version, \", \".join(READABLE_VERSIONS)))\n",
      "/home/earthquakes1/software/Mageia/lib/python3.7/site-packages/obspy/io/stationxml/core.py:98: UserWarning: The StationXML file has version 1, ObsPy can read versions (1.0, 1.1). Proceed with caution.\n",
      "  version, \", \".join(READABLE_VERSIONS)))\n",
      "/home/earthquakes1/software/Mageia/lib/python3.7/site-packages/obspy/io/stationxml/core.py:98: UserWarning: The StationXML file has version 1, ObsPy can read versions (1.0, 1.1). Proceed with caution.\n",
      "  version, \", \".join(READABLE_VERSIONS)))\n",
      "/home/earthquakes1/software/Mageia/lib/python3.7/site-packages/obspy/io/stationxml/core.py:98: UserWarning: The StationXML file has version 1, ObsPy can read versions (1.0, 1.1). Proceed with caution.\n",
      "  version, \", \".join(READABLE_VERSIONS)))\n",
      "/home/earthquakes1/software/Mageia/lib/python3.7/site-packages/obspy/io/stationxml/core.py:98: UserWarning: The StationXML file has version 1, ObsPy can read versions (1.0, 1.1). Proceed with caution.\n",
      "  version, \", \".join(READABLE_VERSIONS)))\n",
      "/home/earthquakes1/software/Mageia/lib/python3.7/site-packages/obspy/io/stationxml/core.py:98: UserWarning: The StationXML file has version 1, ObsPy can read versions (1.0, 1.1). Proceed with caution.\n",
      "  version, \", \".join(READABLE_VERSIONS)))\n",
      "/home/earthquakes1/software/Mageia/lib/python3.7/site-packages/obspy/io/stationxml/core.py:98: UserWarning: The StationXML file has version 1, ObsPy can read versions (1.0, 1.1). Proceed with caution.\n",
      "  version, \", \".join(READABLE_VERSIONS)))\n",
      "/home/earthquakes1/software/Mageia/lib/python3.7/site-packages/obspy/io/stationxml/core.py:98: UserWarning: The StationXML file has version 1, ObsPy can read versions (1.0, 1.1). Proceed with caution.\n",
      "  version, \", \".join(READABLE_VERSIONS)))\n",
      "/home/earthquakes1/software/Mageia/lib/python3.7/site-packages/obspy/io/stationxml/core.py:98: UserWarning: The StationXML file has version 1, ObsPy can read versions (1.0, 1.1). Proceed with caution.\n",
      "  version, \", \".join(READABLE_VERSIONS)))\n",
      "/home/earthquakes1/software/Mageia/lib/python3.7/site-packages/obspy/io/stationxml/core.py:98: UserWarning: The StationXML file has version 1, ObsPy can read versions (1.0, 1.1). Proceed with caution.\n",
      "  version, \", \".join(READABLE_VERSIONS)))\n",
      "/home/earthquakes1/software/Mageia/lib/python3.7/site-packages/obspy/io/stationxml/core.py:98: UserWarning: The StationXML file has version 1, ObsPy can read versions (1.0, 1.1). Proceed with caution.\n",
      "  version, \", \".join(READABLE_VERSIONS)))\n",
      "/home/earthquakes1/software/Mageia/lib/python3.7/site-packages/obspy/io/stationxml/core.py:98: UserWarning: The StationXML file has version 1, ObsPy can read versions (1.0, 1.1). Proceed with caution.\n",
      "  version, \", \".join(READABLE_VERSIONS)))\n",
      "/home/earthquakes1/software/Mageia/lib/python3.7/site-packages/obspy/io/stationxml/core.py:98: UserWarning: The StationXML file has version 1, ObsPy can read versions (1.0, 1.1). Proceed with caution.\n",
      "  version, \", \".join(READABLE_VERSIONS)))\n",
      "/home/earthquakes1/software/Mageia/lib/python3.7/site-packages/obspy/io/stationxml/core.py:98: UserWarning: The StationXML file has version 1, ObsPy can read versions (1.0, 1.1). Proceed with caution.\n",
      "  version, \", \".join(READABLE_VERSIONS)))\n"
     ]
    },
    {
     "name": "stdout",
     "output_type": "stream",
     "text": [
      "earthquake number 2139 of 3384 done. It was 20190619_154627.a\n"
     ]
    },
    {
     "name": "stderr",
     "output_type": "stream",
     "text": [
      "/home/earthquakes1/software/Mageia/lib/python3.7/site-packages/obspy/io/stationxml/core.py:98: UserWarning: The StationXML file has version 1, ObsPy can read versions (1.0, 1.1). Proceed with caution.\n",
      "  version, \", \".join(READABLE_VERSIONS)))\n",
      "/home/earthquakes1/software/Mageia/lib/python3.7/site-packages/obspy/io/stationxml/core.py:98: UserWarning: The StationXML file has version 1, ObsPy can read versions (1.0, 1.1). Proceed with caution.\n",
      "  version, \", \".join(READABLE_VERSIONS)))\n"
     ]
    },
    {
     "name": "stdout",
     "output_type": "stream",
     "text": [
      "earthquake number 2140 of 3384 done. It was 20190619_150747.a\n"
     ]
    },
    {
     "name": "stderr",
     "output_type": "stream",
     "text": [
      "/home/earthquakes1/software/Mageia/lib/python3.7/site-packages/obspy/io/stationxml/core.py:98: UserWarning: The StationXML file has version 1, ObsPy can read versions (1.0, 1.1). Proceed with caution.\n",
      "  version, \", \".join(READABLE_VERSIONS)))\n",
      "/home/earthquakes1/software/Mageia/lib/python3.7/site-packages/obspy/io/stationxml/core.py:98: UserWarning: The StationXML file has version 1, ObsPy can read versions (1.0, 1.1). Proceed with caution.\n",
      "  version, \", \".join(READABLE_VERSIONS)))\n"
     ]
    },
    {
     "name": "stdout",
     "output_type": "stream",
     "text": [
      "earthquake number 2141 of 3384 done. It was 20190619_144043.a\n",
      "earthquake number 2142 of 3384 done. It was 20190619_143617.a\n"
     ]
    },
    {
     "name": "stderr",
     "output_type": "stream",
     "text": [
      "/home/earthquakes1/software/Mageia/lib/python3.7/site-packages/obspy/io/stationxml/core.py:98: UserWarning: The StationXML file has version 1, ObsPy can read versions (1.0, 1.1). Proceed with caution.\n",
      "  version, \", \".join(READABLE_VERSIONS)))\n",
      "/home/earthquakes1/software/Mageia/lib/python3.7/site-packages/obspy/io/stationxml/core.py:98: UserWarning: The StationXML file has version 1, ObsPy can read versions (1.0, 1.1). Proceed with caution.\n",
      "  version, \", \".join(READABLE_VERSIONS)))\n"
     ]
    },
    {
     "name": "stdout",
     "output_type": "stream",
     "text": [
      "earthquake number 2143 of 3384 done. It was 20190619_134942.a\n"
     ]
    },
    {
     "name": "stderr",
     "output_type": "stream",
     "text": [
      "/home/earthquakes1/software/Mageia/lib/python3.7/site-packages/obspy/io/stationxml/core.py:98: UserWarning: The StationXML file has version 1, ObsPy can read versions (1.0, 1.1). Proceed with caution.\n",
      "  version, \", \".join(READABLE_VERSIONS)))\n",
      "/home/earthquakes1/software/Mageia/lib/python3.7/site-packages/obspy/io/stationxml/core.py:98: UserWarning: The StationXML file has version 1, ObsPy can read versions (1.0, 1.1). Proceed with caution.\n",
      "  version, \", \".join(READABLE_VERSIONS)))\n"
     ]
    },
    {
     "name": "stdout",
     "output_type": "stream",
     "text": [
      "earthquake number 2144 of 3384 done. It was 20190619_111849.a\n",
      "earthquake number 2145 of 3384 done. It was 20190619_094509.a\n"
     ]
    },
    {
     "name": "stderr",
     "output_type": "stream",
     "text": [
      "/home/earthquakes1/software/Mageia/lib/python3.7/site-packages/obspy/io/stationxml/core.py:98: UserWarning: The StationXML file has version 1, ObsPy can read versions (1.0, 1.1). Proceed with caution.\n",
      "  version, \", \".join(READABLE_VERSIONS)))\n",
      "/home/earthquakes1/software/Mageia/lib/python3.7/site-packages/obspy/io/stationxml/core.py:98: UserWarning: The StationXML file has version 1, ObsPy can read versions (1.0, 1.1). Proceed with caution.\n",
      "  version, \", \".join(READABLE_VERSIONS)))\n"
     ]
    },
    {
     "name": "stdout",
     "output_type": "stream",
     "text": [
      "earthquake number 2146 of 3384 done. It was 20190619_070142.a\n",
      "earthquake number 2147 of 3384 done. It was 20190619_054722.a\n",
      "earthquake number 2148 of 3384 done. It was 20190619_045520.a\n",
      "earthquake number 2149 of 3384 done. It was 20190619_040751.a\n",
      "earthquake number 2150 of 3384 done. It was 20190619_023558.a\n"
     ]
    },
    {
     "name": "stderr",
     "output_type": "stream",
     "text": [
      "/home/earthquakes1/software/Mageia/lib/python3.7/site-packages/obspy/io/stationxml/core.py:98: UserWarning: The StationXML file has version 1, ObsPy can read versions (1.0, 1.1). Proceed with caution.\n",
      "  version, \", \".join(READABLE_VERSIONS)))\n",
      "/home/earthquakes1/software/Mageia/lib/python3.7/site-packages/obspy/io/stationxml/core.py:98: UserWarning: The StationXML file has version 1, ObsPy can read versions (1.0, 1.1). Proceed with caution.\n",
      "  version, \", \".join(READABLE_VERSIONS)))\n"
     ]
    },
    {
     "name": "stdout",
     "output_type": "stream",
     "text": [
      "earthquake number 2151 of 3384 done. It was 20190619_010557.a\n"
     ]
    },
    {
     "name": "stderr",
     "output_type": "stream",
     "text": [
      "/home/earthquakes1/software/Mageia/lib/python3.7/site-packages/obspy/io/stationxml/core.py:98: UserWarning: The StationXML file has version 1, ObsPy can read versions (1.0, 1.1). Proceed with caution.\n",
      "  version, \", \".join(READABLE_VERSIONS)))\n",
      "/home/earthquakes1/software/Mageia/lib/python3.7/site-packages/obspy/io/stationxml/core.py:98: UserWarning: The StationXML file has version 1, ObsPy can read versions (1.0, 1.1). Proceed with caution.\n",
      "  version, \", \".join(READABLE_VERSIONS)))\n"
     ]
    },
    {
     "name": "stdout",
     "output_type": "stream",
     "text": [
      "earthquake number 2152 of 3384 done. It was 20190619_005205.a\n",
      "earthquake number 2153 of 3384 done. It was 20190619_004534.a\n"
     ]
    },
    {
     "name": "stderr",
     "output_type": "stream",
     "text": [
      "/home/earthquakes1/software/Mageia/lib/python3.7/site-packages/obspy/io/stationxml/core.py:98: UserWarning: The StationXML file has version 1, ObsPy can read versions (1.0, 1.1). Proceed with caution.\n",
      "  version, \", \".join(READABLE_VERSIONS)))\n",
      "/home/earthquakes1/software/Mageia/lib/python3.7/site-packages/obspy/io/stationxml/core.py:98: UserWarning: The StationXML file has version 1, ObsPy can read versions (1.0, 1.1). Proceed with caution.\n",
      "  version, \", \".join(READABLE_VERSIONS)))\n"
     ]
    },
    {
     "name": "stdout",
     "output_type": "stream",
     "text": [
      "earthquake number 2154 of 3384 done. It was 20190619_003244.a\n"
     ]
    },
    {
     "name": "stderr",
     "output_type": "stream",
     "text": [
      "/home/earthquakes1/software/Mageia/lib/python3.7/site-packages/obspy/io/stationxml/core.py:98: UserWarning: The StationXML file has version 1, ObsPy can read versions (1.0, 1.1). Proceed with caution.\n",
      "  version, \", \".join(READABLE_VERSIONS)))\n",
      "/home/earthquakes1/software/Mageia/lib/python3.7/site-packages/obspy/io/stationxml/core.py:98: UserWarning: The StationXML file has version 1, ObsPy can read versions (1.0, 1.1). Proceed with caution.\n",
      "  version, \", \".join(READABLE_VERSIONS)))\n"
     ]
    },
    {
     "name": "stdout",
     "output_type": "stream",
     "text": [
      "earthquake number 2155 of 3384 done. It was 20190619_002243.a\n"
     ]
    },
    {
     "name": "stderr",
     "output_type": "stream",
     "text": [
      "/home/earthquakes1/software/Mageia/lib/python3.7/site-packages/obspy/io/stationxml/core.py:98: UserWarning: The StationXML file has version 1, ObsPy can read versions (1.0, 1.1). Proceed with caution.\n",
      "  version, \", \".join(READABLE_VERSIONS)))\n",
      "/home/earthquakes1/software/Mageia/lib/python3.7/site-packages/obspy/io/stationxml/core.py:98: UserWarning: The StationXML file has version 1, ObsPy can read versions (1.0, 1.1). Proceed with caution.\n",
      "  version, \", \".join(READABLE_VERSIONS)))\n"
     ]
    },
    {
     "name": "stdout",
     "output_type": "stream",
     "text": [
      "earthquake number 2156 of 3384 done. It was 20190618_235906.a\n"
     ]
    },
    {
     "name": "stderr",
     "output_type": "stream",
     "text": [
      "/home/earthquakes1/software/Mageia/lib/python3.7/site-packages/obspy/io/stationxml/core.py:98: UserWarning: The StationXML file has version 1, ObsPy can read versions (1.0, 1.1). Proceed with caution.\n",
      "  version, \", \".join(READABLE_VERSIONS)))\n",
      "/home/earthquakes1/software/Mageia/lib/python3.7/site-packages/obspy/io/stationxml/core.py:98: UserWarning: The StationXML file has version 1, ObsPy can read versions (1.0, 1.1). Proceed with caution.\n",
      "  version, \", \".join(READABLE_VERSIONS)))\n"
     ]
    },
    {
     "name": "stdout",
     "output_type": "stream",
     "text": [
      "earthquake number 2157 of 3384 done. It was 20190618_230434.a\n",
      "earthquake number 2158 of 3384 done. It was 20190618_230057.a\n",
      "earthquake number 2159 of 3384 done. It was 20190618_212624.a\n",
      "earthquake number 2160 of 3384 done. It was 20190618_205628.a\n",
      "earthquake number 2161 of 3384 done. It was 20190618_202740.a\n",
      "earthquake number 2162 of 3384 done. It was 20190618_194057.a\n"
     ]
    },
    {
     "name": "stderr",
     "output_type": "stream",
     "text": [
      "/home/earthquakes1/software/Mageia/lib/python3.7/site-packages/obspy/io/stationxml/core.py:98: UserWarning: The StationXML file has version 1, ObsPy can read versions (1.0, 1.1). Proceed with caution.\n",
      "  version, \", \".join(READABLE_VERSIONS)))\n",
      "/home/earthquakes1/software/Mageia/lib/python3.7/site-packages/obspy/io/stationxml/core.py:98: UserWarning: The StationXML file has version 1, ObsPy can read versions (1.0, 1.1). Proceed with caution.\n",
      "  version, \", \".join(READABLE_VERSIONS)))\n"
     ]
    },
    {
     "name": "stdout",
     "output_type": "stream",
     "text": [
      "earthquake number 2163 of 3384 done. It was 20190618_181208.a\n",
      "earthquake number 2164 of 3384 done. It was 20190618_172245.a\n",
      "earthquake number 2165 of 3384 done. It was 20190618_162620.a\n",
      "earthquake number 2166 of 3384 done. It was 20190618_161222.a\n"
     ]
    },
    {
     "name": "stderr",
     "output_type": "stream",
     "text": [
      "/home/earthquakes1/software/Mageia/lib/python3.7/site-packages/obspy/io/stationxml/core.py:98: UserWarning: The StationXML file has version 1, ObsPy can read versions (1.0, 1.1). Proceed with caution.\n",
      "  version, \", \".join(READABLE_VERSIONS)))\n",
      "/home/earthquakes1/software/Mageia/lib/python3.7/site-packages/obspy/io/stationxml/core.py:98: UserWarning: The StationXML file has version 1, ObsPy can read versions (1.0, 1.1). Proceed with caution.\n",
      "  version, \", \".join(READABLE_VERSIONS)))\n"
     ]
    },
    {
     "name": "stdout",
     "output_type": "stream",
     "text": [
      "earthquake number 2167 of 3384 done. It was 20190618_160517.a\n",
      "earthquake number 2168 of 3384 done. It was 20190618_155724.a\n",
      "earthquake number 2169 of 3384 done. It was 20190618_151003.a\n",
      "earthquake number 2170 of 3384 done. It was 20190618_142708.a\n",
      "earthquake number 2171 of 3384 done. It was 20190618_134122.a\n",
      "earthquake number 2172 of 3384 done. It was 20190618_132219.a\n",
      "earthquake number 2173 of 3384 done. It was 20190618_105300.a\n",
      "earthquake number 2174 of 3384 done. It was 20190618_102347.a\n",
      "earthquake number 2175 of 3384 done. It was 20190618_064109.a\n",
      "earthquake number 2176 of 3384 done. It was 20190618_062456.a\n",
      "earthquake number 2177 of 3384 done. It was 20190618_060412.a\n"
     ]
    },
    {
     "name": "stderr",
     "output_type": "stream",
     "text": [
      "/home/earthquakes1/software/Mageia/lib/python3.7/site-packages/obspy/io/stationxml/core.py:98: UserWarning: The StationXML file has version 1, ObsPy can read versions (1.0, 1.1). Proceed with caution.\n",
      "  version, \", \".join(READABLE_VERSIONS)))\n",
      "/home/earthquakes1/software/Mageia/lib/python3.7/site-packages/obspy/io/stationxml/core.py:98: UserWarning: The StationXML file has version 1, ObsPy can read versions (1.0, 1.1). Proceed with caution.\n",
      "  version, \", \".join(READABLE_VERSIONS)))\n"
     ]
    },
    {
     "name": "stdout",
     "output_type": "stream",
     "text": [
      "earthquake number 2178 of 3384 done. It was 20190618_042354.a\n",
      "earthquake number 2179 of 3384 done. It was 20190618_030001.a\n",
      "earthquake number 2180 of 3384 done. It was 20190618_014816.a\n"
     ]
    },
    {
     "name": "stderr",
     "output_type": "stream",
     "text": [
      "/home/earthquakes1/software/Mageia/lib/python3.7/site-packages/obspy/io/stationxml/core.py:98: UserWarning: The StationXML file has version 1, ObsPy can read versions (1.0, 1.1). Proceed with caution.\n",
      "  version, \", \".join(READABLE_VERSIONS)))\n",
      "/home/earthquakes1/software/Mageia/lib/python3.7/site-packages/obspy/io/stationxml/core.py:98: UserWarning: The StationXML file has version 1, ObsPy can read versions (1.0, 1.1). Proceed with caution.\n",
      "  version, \", \".join(READABLE_VERSIONS)))\n"
     ]
    },
    {
     "name": "stdout",
     "output_type": "stream",
     "text": [
      "earthquake number 2181 of 3384 done. It was 20190618_011600.a\n",
      "earthquake number 2182 of 3384 done. It was 20190617_221959.a\n",
      "earthquake number 2183 of 3384 done. It was 20190617_220157.a\n",
      "earthquake number 2184 of 3384 done. It was 20190617_210817.a\n"
     ]
    },
    {
     "name": "stderr",
     "output_type": "stream",
     "text": [
      "/home/earthquakes1/software/Mageia/lib/python3.7/site-packages/obspy/io/stationxml/core.py:98: UserWarning: The StationXML file has version 1, ObsPy can read versions (1.0, 1.1). Proceed with caution.\n",
      "  version, \", \".join(READABLE_VERSIONS)))\n",
      "/home/earthquakes1/software/Mageia/lib/python3.7/site-packages/obspy/io/stationxml/core.py:98: UserWarning: The StationXML file has version 1, ObsPy can read versions (1.0, 1.1). Proceed with caution.\n",
      "  version, \", \".join(READABLE_VERSIONS)))\n"
     ]
    },
    {
     "name": "stdout",
     "output_type": "stream",
     "text": [
      "earthquake number 2185 of 3384 done. It was 20190617_192011.a\n",
      "earthquake number 2186 of 3384 done. It was 20190617_191418.a\n",
      "earthquake number 2187 of 3384 done. It was 20190617_171329.a\n"
     ]
    },
    {
     "name": "stderr",
     "output_type": "stream",
     "text": [
      "/home/earthquakes1/software/Mageia/lib/python3.7/site-packages/obspy/io/stationxml/core.py:98: UserWarning: The StationXML file has version 1, ObsPy can read versions (1.0, 1.1). Proceed with caution.\n",
      "  version, \", \".join(READABLE_VERSIONS)))\n",
      "/home/earthquakes1/software/Mageia/lib/python3.7/site-packages/obspy/io/stationxml/core.py:98: UserWarning: The StationXML file has version 1, ObsPy can read versions (1.0, 1.1). Proceed with caution.\n",
      "  version, \", \".join(READABLE_VERSIONS)))\n"
     ]
    },
    {
     "name": "stdout",
     "output_type": "stream",
     "text": [
      "earthquake number 2188 of 3384 done. It was 20190617_165304.a\n"
     ]
    },
    {
     "name": "stderr",
     "output_type": "stream",
     "text": [
      "/home/earthquakes1/software/Mageia/lib/python3.7/site-packages/obspy/io/stationxml/core.py:98: UserWarning: The StationXML file has version 1, ObsPy can read versions (1.0, 1.1). Proceed with caution.\n",
      "  version, \", \".join(READABLE_VERSIONS)))\n",
      "/home/earthquakes1/software/Mageia/lib/python3.7/site-packages/obspy/io/stationxml/core.py:98: UserWarning: The StationXML file has version 1, ObsPy can read versions (1.0, 1.1). Proceed with caution.\n",
      "  version, \", \".join(READABLE_VERSIONS)))\n"
     ]
    },
    {
     "name": "stdout",
     "output_type": "stream",
     "text": [
      "earthquake number 2189 of 3384 done. It was 20190617_163647.a\n",
      "earthquake number 2190 of 3384 done. It was 20190617_162731.a\n"
     ]
    },
    {
     "name": "stderr",
     "output_type": "stream",
     "text": [
      "/home/earthquakes1/software/Mageia/lib/python3.7/site-packages/obspy/io/stationxml/core.py:98: UserWarning: The StationXML file has version 1, ObsPy can read versions (1.0, 1.1). Proceed with caution.\n",
      "  version, \", \".join(READABLE_VERSIONS)))\n",
      "/home/earthquakes1/software/Mageia/lib/python3.7/site-packages/obspy/io/stationxml/core.py:98: UserWarning: The StationXML file has version 1, ObsPy can read versions (1.0, 1.1). Proceed with caution.\n",
      "  version, \", \".join(READABLE_VERSIONS)))\n"
     ]
    },
    {
     "name": "stdout",
     "output_type": "stream",
     "text": [
      "earthquake number 2191 of 3384 done. It was 20190617_121007.a\n",
      "earthquake number 2192 of 3384 done. It was 20190617_114123.a\n"
     ]
    },
    {
     "name": "stderr",
     "output_type": "stream",
     "text": [
      "/home/earthquakes1/software/Mageia/lib/python3.7/site-packages/obspy/io/stationxml/core.py:98: UserWarning: The StationXML file has version 1, ObsPy can read versions (1.0, 1.1). Proceed with caution.\n",
      "  version, \", \".join(READABLE_VERSIONS)))\n",
      "/home/earthquakes1/software/Mageia/lib/python3.7/site-packages/obspy/io/stationxml/core.py:98: UserWarning: The StationXML file has version 1, ObsPy can read versions (1.0, 1.1). Proceed with caution.\n",
      "  version, \", \".join(READABLE_VERSIONS)))\n"
     ]
    },
    {
     "name": "stdout",
     "output_type": "stream",
     "text": [
      "earthquake number 2193 of 3384 done. It was 20190617_104734.a\n",
      "earthquake number 2194 of 3384 done. It was 20190617_101537.a\n"
     ]
    },
    {
     "name": "stderr",
     "output_type": "stream",
     "text": [
      "/home/earthquakes1/software/Mageia/lib/python3.7/site-packages/obspy/io/stationxml/core.py:98: UserWarning: The StationXML file has version 1, ObsPy can read versions (1.0, 1.1). Proceed with caution.\n",
      "  version, \", \".join(READABLE_VERSIONS)))\n",
      "/home/earthquakes1/software/Mageia/lib/python3.7/site-packages/obspy/io/stationxml/core.py:98: UserWarning: The StationXML file has version 1, ObsPy can read versions (1.0, 1.1). Proceed with caution.\n",
      "  version, \", \".join(READABLE_VERSIONS)))\n"
     ]
    },
    {
     "name": "stdout",
     "output_type": "stream",
     "text": [
      "earthquake number 2195 of 3384 done. It was 20190617_100151.a\n"
     ]
    },
    {
     "name": "stderr",
     "output_type": "stream",
     "text": [
      "/home/earthquakes1/software/Mageia/lib/python3.7/site-packages/obspy/io/stationxml/core.py:98: UserWarning: The StationXML file has version 1, ObsPy can read versions (1.0, 1.1). Proceed with caution.\n",
      "  version, \", \".join(READABLE_VERSIONS)))\n",
      "/home/earthquakes1/software/Mageia/lib/python3.7/site-packages/obspy/io/stationxml/core.py:98: UserWarning: The StationXML file has version 1, ObsPy can read versions (1.0, 1.1). Proceed with caution.\n",
      "  version, \", \".join(READABLE_VERSIONS)))\n"
     ]
    },
    {
     "name": "stdout",
     "output_type": "stream",
     "text": [
      "earthquake number 2196 of 3384 done. It was 20190617_095722.a\n"
     ]
    },
    {
     "name": "stderr",
     "output_type": "stream",
     "text": [
      "/home/earthquakes1/software/Mageia/lib/python3.7/site-packages/obspy/io/stationxml/core.py:98: UserWarning: The StationXML file has version 1, ObsPy can read versions (1.0, 1.1). Proceed with caution.\n",
      "  version, \", \".join(READABLE_VERSIONS)))\n",
      "/home/earthquakes1/software/Mageia/lib/python3.7/site-packages/obspy/io/stationxml/core.py:98: UserWarning: The StationXML file has version 1, ObsPy can read versions (1.0, 1.1). Proceed with caution.\n",
      "  version, \", \".join(READABLE_VERSIONS)))\n"
     ]
    },
    {
     "name": "stdout",
     "output_type": "stream",
     "text": [
      "earthquake number 2197 of 3384 done. It was 20190617_060205.a\n",
      "earthquake number 2198 of 3384 done. It was 20190617_051853.a\n"
     ]
    },
    {
     "name": "stderr",
     "output_type": "stream",
     "text": [
      "/home/earthquakes1/software/Mageia/lib/python3.7/site-packages/obspy/io/stationxml/core.py:98: UserWarning: The StationXML file has version 1, ObsPy can read versions (1.0, 1.1). Proceed with caution.\n",
      "  version, \", \".join(READABLE_VERSIONS)))\n",
      "/home/earthquakes1/software/Mageia/lib/python3.7/site-packages/obspy/io/stationxml/core.py:98: UserWarning: The StationXML file has version 1, ObsPy can read versions (1.0, 1.1). Proceed with caution.\n",
      "  version, \", \".join(READABLE_VERSIONS)))\n"
     ]
    },
    {
     "name": "stdout",
     "output_type": "stream",
     "text": [
      "earthquake number 2199 of 3384 done. It was 20190617_020543.a\n"
     ]
    },
    {
     "name": "stderr",
     "output_type": "stream",
     "text": [
      "/home/earthquakes1/software/Mageia/lib/python3.7/site-packages/obspy/io/stationxml/core.py:98: UserWarning: The StationXML file has version 1, ObsPy can read versions (1.0, 1.1). Proceed with caution.\n",
      "  version, \", \".join(READABLE_VERSIONS)))\n",
      "/home/earthquakes1/software/Mageia/lib/python3.7/site-packages/obspy/io/stationxml/core.py:98: UserWarning: The StationXML file has version 1, ObsPy can read versions (1.0, 1.1). Proceed with caution.\n",
      "  version, \", \".join(READABLE_VERSIONS)))\n"
     ]
    },
    {
     "name": "stdout",
     "output_type": "stream",
     "text": [
      "earthquake number 2200 of 3384 done. It was 20190617_015429.a\n",
      "earthquake number 2201 of 3384 done. It was 20190617_001201.a\n"
     ]
    },
    {
     "name": "stderr",
     "output_type": "stream",
     "text": [
      "/home/earthquakes1/software/Mageia/lib/python3.7/site-packages/obspy/io/stationxml/core.py:98: UserWarning: The StationXML file has version 1, ObsPy can read versions (1.0, 1.1). Proceed with caution.\n",
      "  version, \", \".join(READABLE_VERSIONS)))\n",
      "/home/earthquakes1/software/Mageia/lib/python3.7/site-packages/obspy/io/stationxml/core.py:98: UserWarning: The StationXML file has version 1, ObsPy can read versions (1.0, 1.1). Proceed with caution.\n",
      "  version, \", \".join(READABLE_VERSIONS)))\n"
     ]
    },
    {
     "name": "stdout",
     "output_type": "stream",
     "text": [
      "earthquake number 2202 of 3384 done. It was 20190617_001101.a\n",
      "earthquake number 2203 of 3384 done. It was 20190616_230008.a\n",
      "earthquake number 2204 of 3384 done. It was 20190616_225416.a\n",
      "earthquake number 2205 of 3384 done. It was 20190616_225415.a\n",
      "earthquake number 2206 of 3384 done. It was 20190616_225044.a\n"
     ]
    },
    {
     "name": "stderr",
     "output_type": "stream",
     "text": [
      "/home/earthquakes1/software/Mageia/lib/python3.7/site-packages/obspy/io/stationxml/core.py:98: UserWarning: The StationXML file has version 1, ObsPy can read versions (1.0, 1.1). Proceed with caution.\n",
      "  version, \", \".join(READABLE_VERSIONS)))\n",
      "/home/earthquakes1/software/Mageia/lib/python3.7/site-packages/obspy/io/stationxml/core.py:98: UserWarning: The StationXML file has version 1, ObsPy can read versions (1.0, 1.1). Proceed with caution.\n",
      "  version, \", \".join(READABLE_VERSIONS)))\n"
     ]
    },
    {
     "name": "stdout",
     "output_type": "stream",
     "text": [
      "earthquake number 2207 of 3384 done. It was 20190616_222824.a\n"
     ]
    },
    {
     "name": "stderr",
     "output_type": "stream",
     "text": [
      "/home/earthquakes1/software/Mageia/lib/python3.7/site-packages/obspy/io/stationxml/core.py:98: UserWarning: The StationXML file has version 1, ObsPy can read versions (1.0, 1.1). Proceed with caution.\n",
      "  version, \", \".join(READABLE_VERSIONS)))\n",
      "/home/earthquakes1/software/Mageia/lib/python3.7/site-packages/obspy/io/stationxml/core.py:98: UserWarning: The StationXML file has version 1, ObsPy can read versions (1.0, 1.1). Proceed with caution.\n",
      "  version, \", \".join(READABLE_VERSIONS)))\n"
     ]
    },
    {
     "name": "stdout",
     "output_type": "stream",
     "text": [
      "earthquake number 2208 of 3384 done. It was 20190616_222018.a\n",
      "earthquake number 2209 of 3384 done. It was 20190616_193610.a\n",
      "earthquake number 2210 of 3384 done. It was 20190616_192754.a\n",
      "earthquake number 2211 of 3384 done. It was 20190616_185236.a\n",
      "earthquake number 2212 of 3384 done. It was 20190616_172523.a\n"
     ]
    },
    {
     "name": "stderr",
     "output_type": "stream",
     "text": [
      "/home/earthquakes1/software/Mageia/lib/python3.7/site-packages/obspy/io/stationxml/core.py:98: UserWarning: The StationXML file has version 1, ObsPy can read versions (1.0, 1.1). Proceed with caution.\n",
      "  version, \", \".join(READABLE_VERSIONS)))\n",
      "/home/earthquakes1/software/Mageia/lib/python3.7/site-packages/obspy/io/stationxml/core.py:98: UserWarning: The StationXML file has version 1, ObsPy can read versions (1.0, 1.1). Proceed with caution.\n",
      "  version, \", \".join(READABLE_VERSIONS)))\n"
     ]
    },
    {
     "name": "stdout",
     "output_type": "stream",
     "text": [
      "earthquake number 2213 of 3384 done. It was 20190616_164132.a\n",
      "earthquake number 2214 of 3384 done. It was 20190616_161835.a\n",
      "earthquake number 2215 of 3384 done. It was 20190616_161249.a\n"
     ]
    },
    {
     "name": "stderr",
     "output_type": "stream",
     "text": [
      "/home/earthquakes1/software/Mageia/lib/python3.7/site-packages/obspy/io/stationxml/core.py:98: UserWarning: The StationXML file has version 1, ObsPy can read versions (1.0, 1.1). Proceed with caution.\n",
      "  version, \", \".join(READABLE_VERSIONS)))\n",
      "/home/earthquakes1/software/Mageia/lib/python3.7/site-packages/obspy/io/stationxml/core.py:98: UserWarning: The StationXML file has version 1, ObsPy can read versions (1.0, 1.1). Proceed with caution.\n",
      "  version, \", \".join(READABLE_VERSIONS)))\n"
     ]
    },
    {
     "name": "stdout",
     "output_type": "stream",
     "text": [
      "earthquake number 2216 of 3384 done. It was 20190616_152338.a\n",
      "earthquake number 2217 of 3384 done. It was 20190616_123910.a\n",
      "earthquake number 2218 of 3384 done. It was 20190616_102857.a\n",
      "earthquake number 2219 of 3384 done. It was 20190616_095659.a\n",
      "earthquake number 2220 of 3384 done. It was 20190616_084107.a\n",
      "earthquake number 2221 of 3384 done. It was 20190616_071911.a\n"
     ]
    },
    {
     "name": "stderr",
     "output_type": "stream",
     "text": [
      "/home/earthquakes1/software/Mageia/lib/python3.7/site-packages/obspy/io/stationxml/core.py:98: UserWarning: The StationXML file has version 1, ObsPy can read versions (1.0, 1.1). Proceed with caution.\n",
      "  version, \", \".join(READABLE_VERSIONS)))\n",
      "/home/earthquakes1/software/Mageia/lib/python3.7/site-packages/obspy/io/stationxml/core.py:98: UserWarning: The StationXML file has version 1, ObsPy can read versions (1.0, 1.1). Proceed with caution.\n",
      "  version, \", \".join(READABLE_VERSIONS)))\n"
     ]
    },
    {
     "name": "stdout",
     "output_type": "stream",
     "text": [
      "earthquake number 2222 of 3384 done. It was 20190616_061829.a\n"
     ]
    },
    {
     "name": "stderr",
     "output_type": "stream",
     "text": [
      "/home/earthquakes1/software/Mageia/lib/python3.7/site-packages/obspy/io/stationxml/core.py:98: UserWarning: The StationXML file has version 1, ObsPy can read versions (1.0, 1.1). Proceed with caution.\n",
      "  version, \", \".join(READABLE_VERSIONS)))\n",
      "/home/earthquakes1/software/Mageia/lib/python3.7/site-packages/obspy/io/stationxml/core.py:98: UserWarning: The StationXML file has version 1, ObsPy can read versions (1.0, 1.1). Proceed with caution.\n",
      "  version, \", \".join(READABLE_VERSIONS)))\n"
     ]
    },
    {
     "name": "stdout",
     "output_type": "stream",
     "text": [
      "earthquake number 2223 of 3384 done. It was 20190616_061048.a\n"
     ]
    },
    {
     "name": "stderr",
     "output_type": "stream",
     "text": [
      "/home/earthquakes1/software/Mageia/lib/python3.7/site-packages/obspy/io/stationxml/core.py:98: UserWarning: The StationXML file has version 1, ObsPy can read versions (1.0, 1.1). Proceed with caution.\n",
      "  version, \", \".join(READABLE_VERSIONS)))\n",
      "/home/earthquakes1/software/Mageia/lib/python3.7/site-packages/obspy/io/stationxml/core.py:98: UserWarning: The StationXML file has version 1, ObsPy can read versions (1.0, 1.1). Proceed with caution.\n",
      "  version, \", \".join(READABLE_VERSIONS)))\n"
     ]
    },
    {
     "name": "stdout",
     "output_type": "stream",
     "text": [
      "earthquake number 2224 of 3384 done. It was 20190616_051716.a\n"
     ]
    },
    {
     "name": "stderr",
     "output_type": "stream",
     "text": [
      "/home/earthquakes1/software/Mageia/lib/python3.7/site-packages/obspy/io/stationxml/core.py:98: UserWarning: The StationXML file has version 1, ObsPy can read versions (1.0, 1.1). Proceed with caution.\n",
      "  version, \", \".join(READABLE_VERSIONS)))\n",
      "/home/earthquakes1/software/Mageia/lib/python3.7/site-packages/obspy/io/stationxml/core.py:98: UserWarning: The StationXML file has version 1, ObsPy can read versions (1.0, 1.1). Proceed with caution.\n",
      "  version, \", \".join(READABLE_VERSIONS)))\n"
     ]
    },
    {
     "name": "stdout",
     "output_type": "stream",
     "text": [
      "earthquake number 2225 of 3384 done. It was 20190616_051017.a\n",
      "earthquake number 2226 of 3384 done. It was 20190616_043641.a\n"
     ]
    },
    {
     "name": "stderr",
     "output_type": "stream",
     "text": [
      "/home/earthquakes1/software/Mageia/lib/python3.7/site-packages/obspy/io/stationxml/core.py:98: UserWarning: The StationXML file has version 1, ObsPy can read versions (1.0, 1.1). Proceed with caution.\n",
      "  version, \", \".join(READABLE_VERSIONS)))\n",
      "/home/earthquakes1/software/Mageia/lib/python3.7/site-packages/obspy/io/stationxml/core.py:98: UserWarning: The StationXML file has version 1, ObsPy can read versions (1.0, 1.1). Proceed with caution.\n",
      "  version, \", \".join(READABLE_VERSIONS)))\n"
     ]
    },
    {
     "name": "stdout",
     "output_type": "stream",
     "text": [
      "earthquake number 2227 of 3384 done. It was 20190616_031031.a\n"
     ]
    },
    {
     "name": "stderr",
     "output_type": "stream",
     "text": [
      "/home/earthquakes1/software/Mageia/lib/python3.7/site-packages/obspy/io/stationxml/core.py:98: UserWarning: The StationXML file has version 1, ObsPy can read versions (1.0, 1.1). Proceed with caution.\n",
      "  version, \", \".join(READABLE_VERSIONS)))\n",
      "/home/earthquakes1/software/Mageia/lib/python3.7/site-packages/obspy/io/stationxml/core.py:98: UserWarning: The StationXML file has version 1, ObsPy can read versions (1.0, 1.1). Proceed with caution.\n",
      "  version, \", \".join(READABLE_VERSIONS)))\n"
     ]
    },
    {
     "name": "stdout",
     "output_type": "stream",
     "text": [
      "earthquake number 2228 of 3384 done. It was 20190616_030239.a\n",
      "earthquake number 2229 of 3384 done. It was 20190616_020625.a\n",
      "earthquake number 2230 of 3384 done. It was 20190616_014853.a\n"
     ]
    },
    {
     "name": "stderr",
     "output_type": "stream",
     "text": [
      "/home/earthquakes1/software/Mageia/lib/python3.7/site-packages/obspy/io/stationxml/core.py:98: UserWarning: The StationXML file has version 1, ObsPy can read versions (1.0, 1.1). Proceed with caution.\n",
      "  version, \", \".join(READABLE_VERSIONS)))\n",
      "/home/earthquakes1/software/Mageia/lib/python3.7/site-packages/obspy/io/stationxml/core.py:98: UserWarning: The StationXML file has version 1, ObsPy can read versions (1.0, 1.1). Proceed with caution.\n",
      "  version, \", \".join(READABLE_VERSIONS)))\n"
     ]
    },
    {
     "name": "stdout",
     "output_type": "stream",
     "text": [
      "earthquake number 2231 of 3384 done. It was 20190616_012942.a\n",
      "earthquake number 2232 of 3384 done. It was 20190616_010718.a\n",
      "earthquake number 2233 of 3384 done. It was 20190616_005843.a\n"
     ]
    },
    {
     "name": "stderr",
     "output_type": "stream",
     "text": [
      "/home/earthquakes1/software/Mageia/lib/python3.7/site-packages/obspy/io/stationxml/core.py:98: UserWarning: The StationXML file has version 1, ObsPy can read versions (1.0, 1.1). Proceed with caution.\n",
      "  version, \", \".join(READABLE_VERSIONS)))\n",
      "/home/earthquakes1/software/Mageia/lib/python3.7/site-packages/obspy/io/stationxml/core.py:98: UserWarning: The StationXML file has version 1, ObsPy can read versions (1.0, 1.1). Proceed with caution.\n",
      "  version, \", \".join(READABLE_VERSIONS)))\n"
     ]
    },
    {
     "name": "stdout",
     "output_type": "stream",
     "text": [
      "earthquake number 2234 of 3384 done. It was 20190616_005359.a\n"
     ]
    },
    {
     "name": "stderr",
     "output_type": "stream",
     "text": [
      "/home/earthquakes1/software/Mageia/lib/python3.7/site-packages/obspy/io/stationxml/core.py:98: UserWarning: The StationXML file has version 1, ObsPy can read versions (1.0, 1.1). Proceed with caution.\n",
      "  version, \", \".join(READABLE_VERSIONS)))\n",
      "/home/earthquakes1/software/Mageia/lib/python3.7/site-packages/obspy/io/stationxml/core.py:98: UserWarning: The StationXML file has version 1, ObsPy can read versions (1.0, 1.1). Proceed with caution.\n",
      "  version, \", \".join(READABLE_VERSIONS)))\n"
     ]
    },
    {
     "name": "stdout",
     "output_type": "stream",
     "text": [
      "earthquake number 2235 of 3384 done. It was 20190616_001250.a\n"
     ]
    },
    {
     "name": "stderr",
     "output_type": "stream",
     "text": [
      "/home/earthquakes1/software/Mageia/lib/python3.7/site-packages/obspy/io/stationxml/core.py:98: UserWarning: The StationXML file has version 1, ObsPy can read versions (1.0, 1.1). Proceed with caution.\n",
      "  version, \", \".join(READABLE_VERSIONS)))\n",
      "/home/earthquakes1/software/Mageia/lib/python3.7/site-packages/obspy/io/stationxml/core.py:98: UserWarning: The StationXML file has version 1, ObsPy can read versions (1.0, 1.1). Proceed with caution.\n",
      "  version, \", \".join(READABLE_VERSIONS)))\n"
     ]
    },
    {
     "name": "stdout",
     "output_type": "stream",
     "text": [
      "earthquake number 2236 of 3384 done. It was 20190616_000758.a\n"
     ]
    },
    {
     "name": "stderr",
     "output_type": "stream",
     "text": [
      "/home/earthquakes1/software/Mageia/lib/python3.7/site-packages/obspy/io/stationxml/core.py:98: UserWarning: The StationXML file has version 1, ObsPy can read versions (1.0, 1.1). Proceed with caution.\n",
      "  version, \", \".join(READABLE_VERSIONS)))\n",
      "/home/earthquakes1/software/Mageia/lib/python3.7/site-packages/obspy/io/stationxml/core.py:98: UserWarning: The StationXML file has version 1, ObsPy can read versions (1.0, 1.1). Proceed with caution.\n",
      "  version, \", \".join(READABLE_VERSIONS)))\n"
     ]
    },
    {
     "name": "stdout",
     "output_type": "stream",
     "text": [
      "earthquake number 2237 of 3384 done. It was 20190616_000007.a\n"
     ]
    },
    {
     "name": "stderr",
     "output_type": "stream",
     "text": [
      "/home/earthquakes1/software/Mageia/lib/python3.7/site-packages/obspy/io/stationxml/core.py:98: UserWarning: The StationXML file has version 1, ObsPy can read versions (1.0, 1.1). Proceed with caution.\n",
      "  version, \", \".join(READABLE_VERSIONS)))\n",
      "/home/earthquakes1/software/Mageia/lib/python3.7/site-packages/obspy/io/stationxml/core.py:98: UserWarning: The StationXML file has version 1, ObsPy can read versions (1.0, 1.1). Proceed with caution.\n",
      "  version, \", \".join(READABLE_VERSIONS)))\n"
     ]
    },
    {
     "name": "stdout",
     "output_type": "stream",
     "text": [
      "earthquake number 2238 of 3384 done. It was 20190615_235850.a\n"
     ]
    },
    {
     "name": "stderr",
     "output_type": "stream",
     "text": [
      "/home/earthquakes1/software/Mageia/lib/python3.7/site-packages/obspy/io/stationxml/core.py:98: UserWarning: The StationXML file has version 1, ObsPy can read versions (1.0, 1.1). Proceed with caution.\n",
      "  version, \", \".join(READABLE_VERSIONS)))\n",
      "/home/earthquakes1/software/Mageia/lib/python3.7/site-packages/obspy/io/stationxml/core.py:98: UserWarning: The StationXML file has version 1, ObsPy can read versions (1.0, 1.1). Proceed with caution.\n",
      "  version, \", \".join(READABLE_VERSIONS)))\n"
     ]
    },
    {
     "name": "stdout",
     "output_type": "stream",
     "text": [
      "earthquake number 2239 of 3384 done. It was 20190615_233601.a\n"
     ]
    },
    {
     "name": "stderr",
     "output_type": "stream",
     "text": [
      "/home/earthquakes1/software/Mageia/lib/python3.7/site-packages/obspy/io/stationxml/core.py:98: UserWarning: The StationXML file has version 1, ObsPy can read versions (1.0, 1.1). Proceed with caution.\n",
      "  version, \", \".join(READABLE_VERSIONS)))\n",
      "/home/earthquakes1/software/Mageia/lib/python3.7/site-packages/obspy/io/stationxml/core.py:98: UserWarning: The StationXML file has version 1, ObsPy can read versions (1.0, 1.1). Proceed with caution.\n",
      "  version, \", \".join(READABLE_VERSIONS)))\n"
     ]
    },
    {
     "name": "stdout",
     "output_type": "stream",
     "text": [
      "earthquake number 2240 of 3384 done. It was 20190615_233003.a\n"
     ]
    },
    {
     "name": "stderr",
     "output_type": "stream",
     "text": [
      "/home/earthquakes1/software/Mageia/lib/python3.7/site-packages/obspy/io/stationxml/core.py:98: UserWarning: The StationXML file has version 1, ObsPy can read versions (1.0, 1.1). Proceed with caution.\n",
      "  version, \", \".join(READABLE_VERSIONS)))\n",
      "/home/earthquakes1/software/Mageia/lib/python3.7/site-packages/obspy/io/stationxml/core.py:98: UserWarning: The StationXML file has version 1, ObsPy can read versions (1.0, 1.1). Proceed with caution.\n",
      "  version, \", \".join(READABLE_VERSIONS)))\n"
     ]
    },
    {
     "name": "stdout",
     "output_type": "stream",
     "text": [
      "earthquake number 2241 of 3384 done. It was 20190615_231338.a\n"
     ]
    },
    {
     "name": "stderr",
     "output_type": "stream",
     "text": [
      "/home/earthquakes1/software/Mageia/lib/python3.7/site-packages/obspy/io/stationxml/core.py:98: UserWarning: The StationXML file has version 1, ObsPy can read versions (1.0, 1.1). Proceed with caution.\n",
      "  version, \", \".join(READABLE_VERSIONS)))\n",
      "/home/earthquakes1/software/Mageia/lib/python3.7/site-packages/obspy/io/stationxml/core.py:98: UserWarning: The StationXML file has version 1, ObsPy can read versions (1.0, 1.1). Proceed with caution.\n",
      "  version, \", \".join(READABLE_VERSIONS)))\n"
     ]
    },
    {
     "name": "stdout",
     "output_type": "stream",
     "text": [
      "earthquake number 2242 of 3384 done. It was 20190615_230725.a\n"
     ]
    },
    {
     "name": "stderr",
     "output_type": "stream",
     "text": [
      "/home/earthquakes1/software/Mageia/lib/python3.7/site-packages/obspy/io/stationxml/core.py:98: UserWarning: The StationXML file has version 1, ObsPy can read versions (1.0, 1.1). Proceed with caution.\n",
      "  version, \", \".join(READABLE_VERSIONS)))\n",
      "/home/earthquakes1/software/Mageia/lib/python3.7/site-packages/obspy/io/stationxml/core.py:98: UserWarning: The StationXML file has version 1, ObsPy can read versions (1.0, 1.1). Proceed with caution.\n",
      "  version, \", \".join(READABLE_VERSIONS)))\n"
     ]
    },
    {
     "name": "stdout",
     "output_type": "stream",
     "text": [
      "earthquake number 2243 of 3384 done. It was 20190615_230406.a\n"
     ]
    },
    {
     "name": "stderr",
     "output_type": "stream",
     "text": [
      "/home/earthquakes1/software/Mageia/lib/python3.7/site-packages/obspy/io/stationxml/core.py:98: UserWarning: The StationXML file has version 1, ObsPy can read versions (1.0, 1.1). Proceed with caution.\n",
      "  version, \", \".join(READABLE_VERSIONS)))\n",
      "/home/earthquakes1/software/Mageia/lib/python3.7/site-packages/obspy/io/stationxml/core.py:98: UserWarning: The StationXML file has version 1, ObsPy can read versions (1.0, 1.1). Proceed with caution.\n",
      "  version, \", \".join(READABLE_VERSIONS)))\n"
     ]
    },
    {
     "name": "stdout",
     "output_type": "stream",
     "text": [
      "earthquake number 2244 of 3384 done. It was 20190615_225504.a\n",
      "earthquake number 2245 of 3384 done. It was 20190615_204316.a\n",
      "earthquake number 2246 of 3384 done. It was 20190615_194108.a\n",
      "earthquake number 2247 of 3384 done. It was 20190615_173131.a\n",
      "earthquake number 2248 of 3384 done. It was 20190615_165805.a\n",
      "earthquake number 2249 of 3384 done. It was 20190615_162253.a\n",
      "earthquake number 2250 of 3384 done. It was 20190615_140457.a\n",
      "earthquake number 2251 of 3384 done. It was 20190615_124233.a\n",
      "earthquake number 2252 of 3384 done. It was 20190615_122711.a\n"
     ]
    },
    {
     "name": "stderr",
     "output_type": "stream",
     "text": [
      "/home/earthquakes1/software/Mageia/lib/python3.7/site-packages/obspy/io/stationxml/core.py:98: UserWarning: The StationXML file has version 1, ObsPy can read versions (1.0, 1.1). Proceed with caution.\n",
      "  version, \", \".join(READABLE_VERSIONS)))\n",
      "/home/earthquakes1/software/Mageia/lib/python3.7/site-packages/obspy/io/stationxml/core.py:98: UserWarning: The StationXML file has version 1, ObsPy can read versions (1.0, 1.1). Proceed with caution.\n",
      "  version, \", \".join(READABLE_VERSIONS)))\n"
     ]
    },
    {
     "name": "stdout",
     "output_type": "stream",
     "text": [
      "earthquake number 2253 of 3384 done. It was 20190615_121403.a\n",
      "earthquake number 2254 of 3384 done. It was 20190615_103714.a\n",
      "earthquake number 2255 of 3384 done. It was 20190615_092028.a\n",
      "earthquake number 2256 of 3384 done. It was 20190615_082023.a\n",
      "earthquake number 2257 of 3384 done. It was 20190615_075229.a\n",
      "earthquake number 2258 of 3384 done. It was 20190615_063135.a\n",
      "earthquake number 2259 of 3384 done. It was 20190615_052537.a\n",
      "earthquake number 2260 of 3384 done. It was 20190615_044746.a\n",
      "earthquake number 2261 of 3384 done. It was 20190615_025940.a\n",
      "earthquake number 2262 of 3384 done. It was 20190615_010427.a\n",
      "earthquake number 2263 of 3384 done. It was 20190615_004606.a\n",
      "earthquake number 2264 of 3384 done. It was 20190614_225933.a\n"
     ]
    },
    {
     "name": "stderr",
     "output_type": "stream",
     "text": [
      "/home/earthquakes1/software/Mageia/lib/python3.7/site-packages/obspy/io/stationxml/core.py:98: UserWarning: The StationXML file has version 1, ObsPy can read versions (1.0, 1.1). Proceed with caution.\n",
      "  version, \", \".join(READABLE_VERSIONS)))\n",
      "/home/earthquakes1/software/Mageia/lib/python3.7/site-packages/obspy/io/stationxml/core.py:98: UserWarning: The StationXML file has version 1, ObsPy can read versions (1.0, 1.1). Proceed with caution.\n",
      "  version, \", \".join(READABLE_VERSIONS)))\n"
     ]
    },
    {
     "name": "stdout",
     "output_type": "stream",
     "text": [
      "earthquake number 2265 of 3384 done. It was 20190614_210406.a\n",
      "earthquake number 2266 of 3384 done. It was 20190614_174729.a\n",
      "earthquake number 2267 of 3384 done. It was 20190614_171545.a\n",
      "earthquake number 2268 of 3384 done. It was 20190614_121445.a\n",
      "earthquake number 2269 of 3384 done. It was 20190614_121435.a\n",
      "earthquake number 2270 of 3384 done. It was 20190614_113752.a\n",
      "earthquake number 2271 of 3384 done. It was 20190614_112425.a\n",
      "earthquake number 2272 of 3384 done. It was 20190614_094755.a\n",
      "earthquake number 2273 of 3384 done. It was 20190614_075056.a\n",
      "earthquake number 2274 of 3384 done. It was 20190614_073643.a\n",
      "earthquake number 2275 of 3384 done. It was 20190614_042123.a\n",
      "earthquake number 2276 of 3384 done. It was 20190614_041436.a\n",
      "earthquake number 2277 of 3384 done. It was 20190614_031521.a\n",
      "earthquake number 2278 of 3384 done. It was 20190614_023349.a\n",
      "earthquake number 2279 of 3384 done. It was 20190614_013826.a\n",
      "earthquake number 2280 of 3384 done. It was 20190614_011210.a\n",
      "earthquake number 2281 of 3384 done. It was 20190614_002413.a\n",
      "earthquake number 2282 of 3384 done. It was 20190614_001912.a\n",
      "earthquake number 2283 of 3384 done. It was 20190613_225010.a\n",
      "earthquake number 2284 of 3384 done. It was 20190613_213819.a\n",
      "earthquake number 2285 of 3384 done. It was 20190613_205242.a\n",
      "earthquake number 2286 of 3384 done. It was 20190613_181517.a\n",
      "earthquake number 2287 of 3384 done. It was 20190613_171518.a\n",
      "earthquake number 2288 of 3384 done. It was 20190613_161232.a\n",
      "earthquake number 2289 of 3384 done. It was 20190613_145517.a\n",
      "earthquake number 2290 of 3384 done. It was 20190613_123830.a\n",
      "earthquake number 2291 of 3384 done. It was 20190613_063622.a\n",
      "earthquake number 2292 of 3384 done. It was 20190613_051536.a\n",
      "earthquake number 2293 of 3384 done. It was 20190613_033111.a\n",
      "earthquake number 2294 of 3384 done. It was 20190613_005613.a\n",
      "earthquake number 2295 of 3384 done. It was 20190613_003057.a\n",
      "earthquake number 2296 of 3384 done. It was 20190613_000733.a\n",
      "earthquake number 2297 of 3384 done. It was 20190612_215430.a\n"
     ]
    },
    {
     "name": "stderr",
     "output_type": "stream",
     "text": [
      "/home/earthquakes1/software/Mageia/lib/python3.7/site-packages/obspy/core/inventory/response.py:964: UserWarning: Input sampling rate of stage 3 is inconsistent with the previous stages' output sampling rate\n",
      "  warnings.warn(msg % i)\n"
     ]
    },
    {
     "name": "stdout",
     "output_type": "stream",
     "text": [
      "earthquake number 2298 of 3384 done. It was 20190612_181620.a\n"
     ]
    },
    {
     "name": "stderr",
     "output_type": "stream",
     "text": [
      "/home/earthquakes1/software/Mageia/lib/python3.7/site-packages/obspy/io/stationxml/core.py:98: UserWarning: The StationXML file has version 1, ObsPy can read versions (1.0, 1.1). Proceed with caution.\n",
      "  version, \", \".join(READABLE_VERSIONS)))\n",
      "/home/earthquakes1/software/Mageia/lib/python3.7/site-packages/obspy/io/stationxml/core.py:98: UserWarning: The StationXML file has version 1, ObsPy can read versions (1.0, 1.1). Proceed with caution.\n",
      "  version, \", \".join(READABLE_VERSIONS)))\n"
     ]
    },
    {
     "name": "stdout",
     "output_type": "stream",
     "text": [
      "earthquake number 2299 of 3384 done. It was 20190612_164807.a\n",
      "earthquake number 2300 of 3384 done. It was 20190612_160409.a\n",
      "earthquake number 2301 of 3384 done. It was 20190612_103508.a\n"
     ]
    },
    {
     "name": "stderr",
     "output_type": "stream",
     "text": [
      "/home/earthquakes1/software/Mageia/lib/python3.7/site-packages/obspy/io/stationxml/core.py:98: UserWarning: The StationXML file has version 1, ObsPy can read versions (1.0, 1.1). Proceed with caution.\n",
      "  version, \", \".join(READABLE_VERSIONS)))\n",
      "/home/earthquakes1/software/Mageia/lib/python3.7/site-packages/obspy/io/stationxml/core.py:98: UserWarning: The StationXML file has version 1, ObsPy can read versions (1.0, 1.1). Proceed with caution.\n",
      "  version, \", \".join(READABLE_VERSIONS)))\n",
      "/home/earthquakes1/software/Mageia/lib/python3.7/site-packages/obspy/io/stationxml/core.py:98: UserWarning: The StationXML file has version 1, ObsPy can read versions (1.0, 1.1). Proceed with caution.\n",
      "  version, \", \".join(READABLE_VERSIONS)))\n",
      "/home/earthquakes1/software/Mageia/lib/python3.7/site-packages/obspy/io/stationxml/core.py:98: UserWarning: The StationXML file has version 1, ObsPy can read versions (1.0, 1.1). Proceed with caution.\n",
      "  version, \", \".join(READABLE_VERSIONS)))\n",
      "/home/earthquakes1/software/Mageia/lib/python3.7/site-packages/obspy/io/stationxml/core.py:98: UserWarning: The StationXML file has version 1, ObsPy can read versions (1.0, 1.1). Proceed with caution.\n",
      "  version, \", \".join(READABLE_VERSIONS)))\n",
      "/home/earthquakes1/software/Mageia/lib/python3.7/site-packages/obspy/io/stationxml/core.py:98: UserWarning: The StationXML file has version 1, ObsPy can read versions (1.0, 1.1). Proceed with caution.\n",
      "  version, \", \".join(READABLE_VERSIONS)))\n",
      "/home/earthquakes1/software/Mageia/lib/python3.7/site-packages/obspy/io/stationxml/core.py:98: UserWarning: The StationXML file has version 1, ObsPy can read versions (1.0, 1.1). Proceed with caution.\n",
      "  version, \", \".join(READABLE_VERSIONS)))\n"
     ]
    },
    {
     "name": "stdout",
     "output_type": "stream",
     "text": [
      "earthquake number 2302 of 3384 done. It was 20190612_085412.a\n",
      "earthquake number 2303 of 3384 done. It was 20190612_084953.a\n",
      "earthquake number 2304 of 3384 done. It was 20190612_073617.a\n",
      "earthquake number 2305 of 3384 done. It was 20190612_061931.a\n",
      "earthquake number 2306 of 3384 done. It was 20190612_055644.a\n",
      "earthquake number 2307 of 3384 done. It was 20190612_043945.a\n",
      "earthquake number 2308 of 3384 done. It was 20190612_041218.a\n",
      "earthquake number 2309 of 3384 done. It was 20190612_031027.a\n",
      "earthquake number 2310 of 3384 done. It was 20190612_025539.a\n",
      "earthquake number 2311 of 3384 done. It was 20190612_015413.a\n",
      "earthquake number 2312 of 3384 done. It was 20190611_234200.a\n",
      "earthquake number 2313 of 3384 done. It was 20190611_212541.a\n",
      "earthquake number 2314 of 3384 done. It was 20190611_205838.a\n",
      "earthquake number 2315 of 3384 done. It was 20190611_165956.a\n",
      "earthquake number 2316 of 3384 done. It was 20190611_161709.a\n",
      "earthquake number 2317 of 3384 done. It was 20190611_152655.a\n",
      "earthquake number 2318 of 3384 done. It was 20190611_131242.a\n",
      "earthquake number 2319 of 3384 done. It was 20190611_074625.a\n",
      "earthquake number 2320 of 3384 done. It was 20190611_073136.a\n"
     ]
    },
    {
     "name": "stderr",
     "output_type": "stream",
     "text": [
      "/home/earthquakes1/software/Mageia/lib/python3.7/site-packages/obspy/core/inventory/response.py:964: UserWarning: Input sampling rate of stage 3 is inconsistent with the previous stages' output sampling rate\n",
      "  warnings.warn(msg % i)\n"
     ]
    },
    {
     "name": "stdout",
     "output_type": "stream",
     "text": [
      "earthquake number 2321 of 3384 done. It was 20190611_072420.a\n"
     ]
    },
    {
     "name": "stderr",
     "output_type": "stream",
     "text": [
      "/home/earthquakes1/software/Mageia/lib/python3.7/site-packages/obspy/io/stationxml/core.py:98: UserWarning: The StationXML file has version 1, ObsPy can read versions (1.0, 1.1). Proceed with caution.\n",
      "  version, \", \".join(READABLE_VERSIONS)))\n",
      "/home/earthquakes1/software/Mageia/lib/python3.7/site-packages/obspy/io/stationxml/core.py:98: UserWarning: The StationXML file has version 1, ObsPy can read versions (1.0, 1.1). Proceed with caution.\n",
      "  version, \", \".join(READABLE_VERSIONS)))\n"
     ]
    },
    {
     "name": "stdout",
     "output_type": "stream",
     "text": [
      "earthquake number 2322 of 3384 done. It was 20190611_055521.a\n",
      "earthquake number 2323 of 3384 done. It was 20190611_050053.a\n",
      "earthquake number 2324 of 3384 done. It was 20190611_023832.a\n",
      "earthquake number 2325 of 3384 done. It was 20190611_022923.a\n",
      "earthquake number 2326 of 3384 done. It was 20190611_015908.a\n",
      "earthquake number 2327 of 3384 done. It was 20190611_012118.a\n",
      "earthquake number 2328 of 3384 done. It was 20190611_002620.a\n",
      "earthquake number 2329 of 3384 done. It was 20190610_230038.a\n",
      "earthquake number 2330 of 3384 done. It was 20190610_225556.a\n",
      "earthquake number 2331 of 3384 done. It was 20190610_202521.a\n",
      "earthquake number 2332 of 3384 done. It was 20190610_193007.a\n",
      "earthquake number 2333 of 3384 done. It was 20190610_174922.a\n",
      "earthquake number 2335 of 3383 done. It was 20190610_144308.a\n",
      "earthquake number 2336 of 3383 done. It was 20190610_133644.a\n",
      "earthquake number 2337 of 3383 done. It was 20190610_131234.a\n",
      "earthquake number 2338 of 3383 done. It was 20190610_130055.a\n",
      "earthquake number 2339 of 3383 done. It was 20190610_121255.a\n",
      "earthquake number 2340 of 3383 done. It was 20190610_104215.a\n",
      "earthquake number 2341 of 3383 done. It was 20190610_101321.a\n",
      "earthquake number 2342 of 3383 done. It was 20190610_100146.a\n",
      "earthquake number 2343 of 3383 done. It was 20190610_091219.a\n",
      "earthquake number 2344 of 3383 done. It was 20190610_085935.a\n",
      "earthquake number 2345 of 3383 done. It was 20190610_075418.a\n",
      "earthquake number 2346 of 3383 done. It was 20190610_074522.a\n",
      "earthquake number 2347 of 3383 done. It was 20190610_064859.a\n",
      "earthquake number 2348 of 3383 done. It was 20190610_052722.a\n",
      "earthquake number 2349 of 3383 done. It was 20190610_031701.a\n",
      "earthquake number 2350 of 3383 done. It was 20190610_024111.a\n",
      "earthquake number 2351 of 3383 done. It was 20190609_223925.a\n",
      "earthquake number 2352 of 3383 done. It was 20190609_220051.a\n",
      "earthquake number 2353 of 3383 done. It was 20190609_194317.a\n",
      "earthquake number 2354 of 3383 done. It was 20190609_172713.a\n",
      "earthquake number 2355 of 3383 done. It was 20190609_160207.a\n",
      "earthquake number 2356 of 3383 done. It was 20190609_152611.a\n",
      "earthquake number 2357 of 3383 done. It was 20190609_134349.a\n",
      "earthquake number 2358 of 3383 done. It was 20190609_103239.a\n",
      "earthquake number 2359 of 3383 done. It was 20190609_093225.a\n",
      "earthquake number 2360 of 3383 done. It was 20190609_055218.a\n",
      "earthquake number 2361 of 3383 done. It was 20190609_023653.a\n",
      "earthquake number 2362 of 3383 done. It was 20190609_002614.a\n",
      "earthquake number 2363 of 3383 done. It was 20190608_213907.a\n",
      "earthquake number 2364 of 3383 done. It was 20190608_203454.a\n",
      "earthquake number 2365 of 3383 done. It was 20190608_203334.a\n"
     ]
    },
    {
     "name": "stderr",
     "output_type": "stream",
     "text": [
      "/home/earthquakes1/software/Mageia/lib/python3.7/site-packages/obspy/io/stationxml/core.py:98: UserWarning: The StationXML file has version 1, ObsPy can read versions (1.0, 1.1). Proceed with caution.\n",
      "  version, \", \".join(READABLE_VERSIONS)))\n",
      "/home/earthquakes1/software/Mageia/lib/python3.7/site-packages/obspy/io/stationxml/core.py:98: UserWarning: The StationXML file has version 1, ObsPy can read versions (1.0, 1.1). Proceed with caution.\n",
      "  version, \", \".join(READABLE_VERSIONS)))\n",
      "/home/earthquakes1/software/Mageia/lib/python3.7/site-packages/obspy/io/stationxml/core.py:98: UserWarning: The StationXML file has version 1, ObsPy can read versions (1.0, 1.1). Proceed with caution.\n",
      "  version, \", \".join(READABLE_VERSIONS)))\n",
      "/home/earthquakes1/software/Mageia/lib/python3.7/site-packages/obspy/io/stationxml/core.py:98: UserWarning: The StationXML file has version 1, ObsPy can read versions (1.0, 1.1). Proceed with caution.\n",
      "  version, \", \".join(READABLE_VERSIONS)))\n",
      "/home/earthquakes1/software/Mageia/lib/python3.7/site-packages/obspy/io/stationxml/core.py:98: UserWarning: The StationXML file has version 1, ObsPy can read versions (1.0, 1.1). Proceed with caution.\n",
      "  version, \", \".join(READABLE_VERSIONS)))\n",
      "/home/earthquakes1/software/Mageia/lib/python3.7/site-packages/obspy/io/stationxml/core.py:98: UserWarning: The StationXML file has version 1, ObsPy can read versions (1.0, 1.1). Proceed with caution.\n",
      "  version, \", \".join(READABLE_VERSIONS)))\n",
      "/home/earthquakes1/software/Mageia/lib/python3.7/site-packages/obspy/io/stationxml/core.py:98: UserWarning: The StationXML file has version 1, ObsPy can read versions (1.0, 1.1). Proceed with caution.\n",
      "  version, \", \".join(READABLE_VERSIONS)))\n",
      "/home/earthquakes1/software/Mageia/lib/python3.7/site-packages/obspy/io/stationxml/core.py:98: UserWarning: The StationXML file has version 1, ObsPy can read versions (1.0, 1.1). Proceed with caution.\n",
      "  version, \", \".join(READABLE_VERSIONS)))\n",
      "/home/earthquakes1/software/Mageia/lib/python3.7/site-packages/obspy/io/stationxml/core.py:98: UserWarning: The StationXML file has version 1, ObsPy can read versions (1.0, 1.1). Proceed with caution.\n",
      "  version, \", \".join(READABLE_VERSIONS)))\n",
      "/home/earthquakes1/software/Mageia/lib/python3.7/site-packages/obspy/io/stationxml/core.py:98: UserWarning: The StationXML file has version 1, ObsPy can read versions (1.0, 1.1). Proceed with caution.\n",
      "  version, \", \".join(READABLE_VERSIONS)))\n"
     ]
    },
    {
     "name": "stdout",
     "output_type": "stream",
     "text": [
      "earthquake number 2366 of 3383 done. It was 20190608_152412.a\n",
      "earthquake number 2367 of 3383 done. It was 20190608_145059.a\n",
      "earthquake number 2368 of 3383 done. It was 20190608_134407.a\n",
      "earthquake number 2369 of 3383 done. It was 20190608_115946.a\n",
      "earthquake number 2370 of 3383 done. It was 20190608_093222.a\n",
      "earthquake number 2371 of 3383 done. It was 20190608_071047.a\n",
      "earthquake number 2372 of 3383 done. It was 20190608_060632.a\n",
      "earthquake number 2373 of 3383 done. It was 20190608_054622.a\n",
      "earthquake number 2374 of 3383 done. It was 20190608_034558.a\n",
      "earthquake number 2375 of 3383 done. It was 20190607_214708.a\n",
      "earthquake number 2376 of 3383 done. It was 20190607_205945.a\n",
      "earthquake number 2377 of 3383 done. It was 20190607_164325.a\n",
      "earthquake number 2378 of 3383 done. It was 20190607_150138.a\n",
      "earthquake number 2379 of 3383 done. It was 20190607_145917.a\n",
      "earthquake number 2380 of 3383 done. It was 20190607_145733.a\n",
      "earthquake number 2381 of 3383 done. It was 20190607_122140.a\n",
      "earthquake number 2382 of 3383 done. It was 20190607_105905.a\n",
      "earthquake number 2383 of 3383 done. It was 20190607_081750.a\n"
     ]
    },
    {
     "name": "stderr",
     "output_type": "stream",
     "text": [
      "/home/earthquakes1/software/Mageia/lib/python3.7/site-packages/obspy/core/inventory/response.py:964: UserWarning: Input sampling rate of stage 3 is inconsistent with the previous stages' output sampling rate\n",
      "  warnings.warn(msg % i)\n"
     ]
    },
    {
     "name": "stdout",
     "output_type": "stream",
     "text": [
      "earthquake number 2384 of 3383 done. It was 20190607_044946.a\n",
      "earthquake number 2385 of 3383 done. It was 20190607_025031.a\n",
      "earthquake number 2386 of 3383 done. It was 20190607_012903.a\n",
      "earthquake number 2387 of 3383 done. It was 20190607_012458.a\n",
      "earthquake number 2388 of 3383 done. It was 20190606_215050.a\n"
     ]
    },
    {
     "name": "stderr",
     "output_type": "stream",
     "text": [
      "/home/earthquakes1/software/Mageia/lib/python3.7/site-packages/obspy/io/stationxml/core.py:98: UserWarning: The StationXML file has version 1, ObsPy can read versions (1.0, 1.1). Proceed with caution.\n",
      "  version, \", \".join(READABLE_VERSIONS)))\n",
      "/home/earthquakes1/software/Mageia/lib/python3.7/site-packages/obspy/io/stationxml/core.py:98: UserWarning: The StationXML file has version 1, ObsPy can read versions (1.0, 1.1). Proceed with caution.\n",
      "  version, \", \".join(READABLE_VERSIONS)))\n",
      "/home/earthquakes1/software/Mageia/lib/python3.7/site-packages/obspy/io/stationxml/core.py:98: UserWarning: The StationXML file has version 1, ObsPy can read versions (1.0, 1.1). Proceed with caution.\n",
      "  version, \", \".join(READABLE_VERSIONS)))\n",
      "/home/earthquakes1/software/Mageia/lib/python3.7/site-packages/obspy/io/stationxml/core.py:98: UserWarning: The StationXML file has version 1, ObsPy can read versions (1.0, 1.1). Proceed with caution.\n",
      "  version, \", \".join(READABLE_VERSIONS)))\n",
      "/home/earthquakes1/software/Mageia/lib/python3.7/site-packages/obspy/io/stationxml/core.py:98: UserWarning: The StationXML file has version 1, ObsPy can read versions (1.0, 1.1). Proceed with caution.\n",
      "  version, \", \".join(READABLE_VERSIONS)))\n",
      "/home/earthquakes1/software/Mageia/lib/python3.7/site-packages/obspy/io/stationxml/core.py:98: UserWarning: The StationXML file has version 1, ObsPy can read versions (1.0, 1.1). Proceed with caution.\n",
      "  version, \", \".join(READABLE_VERSIONS)))\n",
      "/home/earthquakes1/software/Mageia/lib/python3.7/site-packages/obspy/io/stationxml/core.py:98: UserWarning: The StationXML file has version 1, ObsPy can read versions (1.0, 1.1). Proceed with caution.\n",
      "  version, \", \".join(READABLE_VERSIONS)))\n",
      "/home/earthquakes1/software/Mageia/lib/python3.7/site-packages/obspy/io/stationxml/core.py:98: UserWarning: The StationXML file has version 1, ObsPy can read versions (1.0, 1.1). Proceed with caution.\n",
      "  version, \", \".join(READABLE_VERSIONS)))\n",
      "/home/earthquakes1/software/Mageia/lib/python3.7/site-packages/obspy/io/stationxml/core.py:98: UserWarning: The StationXML file has version 1, ObsPy can read versions (1.0, 1.1). Proceed with caution.\n",
      "  version, \", \".join(READABLE_VERSIONS)))\n",
      "/home/earthquakes1/software/Mageia/lib/python3.7/site-packages/obspy/io/stationxml/core.py:98: UserWarning: The StationXML file has version 1, ObsPy can read versions (1.0, 1.1). Proceed with caution.\n",
      "  version, \", \".join(READABLE_VERSIONS)))\n",
      "/home/earthquakes1/software/Mageia/lib/python3.7/site-packages/obspy/io/stationxml/core.py:98: UserWarning: The StationXML file has version 1, ObsPy can read versions (1.0, 1.1). Proceed with caution.\n",
      "  version, \", \".join(READABLE_VERSIONS)))\n",
      "/home/earthquakes1/software/Mageia/lib/python3.7/site-packages/obspy/io/stationxml/core.py:98: UserWarning: The StationXML file has version 1, ObsPy can read versions (1.0, 1.1). Proceed with caution.\n",
      "  version, \", \".join(READABLE_VERSIONS)))\n",
      "/home/earthquakes1/software/Mageia/lib/python3.7/site-packages/obspy/io/stationxml/core.py:98: UserWarning: The StationXML file has version 1, ObsPy can read versions (1.0, 1.1). Proceed with caution.\n",
      "  version, \", \".join(READABLE_VERSIONS)))\n",
      "/home/earthquakes1/software/Mageia/lib/python3.7/site-packages/obspy/io/stationxml/core.py:98: UserWarning: The StationXML file has version 1, ObsPy can read versions (1.0, 1.1). Proceed with caution.\n",
      "  version, \", \".join(READABLE_VERSIONS)))\n",
      "/home/earthquakes1/software/Mageia/lib/python3.7/site-packages/obspy/io/stationxml/core.py:98: UserWarning: The StationXML file has version 1, ObsPy can read versions (1.0, 1.1). Proceed with caution.\n",
      "  version, \", \".join(READABLE_VERSIONS)))\n",
      "/home/earthquakes1/software/Mageia/lib/python3.7/site-packages/obspy/io/stationxml/core.py:98: UserWarning: The StationXML file has version 1, ObsPy can read versions (1.0, 1.1). Proceed with caution.\n",
      "  version, \", \".join(READABLE_VERSIONS)))\n",
      "/home/earthquakes1/software/Mageia/lib/python3.7/site-packages/obspy/io/stationxml/core.py:98: UserWarning: The StationXML file has version 1, ObsPy can read versions (1.0, 1.1). Proceed with caution.\n",
      "  version, \", \".join(READABLE_VERSIONS)))\n",
      "/home/earthquakes1/software/Mageia/lib/python3.7/site-packages/obspy/io/stationxml/core.py:98: UserWarning: The StationXML file has version 1, ObsPy can read versions (1.0, 1.1). Proceed with caution.\n",
      "  version, \", \".join(READABLE_VERSIONS)))\n",
      "/home/earthquakes1/software/Mageia/lib/python3.7/site-packages/obspy/io/stationxml/core.py:98: UserWarning: The StationXML file has version 1, ObsPy can read versions (1.0, 1.1). Proceed with caution.\n",
      "  version, \", \".join(READABLE_VERSIONS)))\n",
      "/home/earthquakes1/software/Mageia/lib/python3.7/site-packages/obspy/io/stationxml/core.py:98: UserWarning: The StationXML file has version 1, ObsPy can read versions (1.0, 1.1). Proceed with caution.\n",
      "  version, \", \".join(READABLE_VERSIONS)))\n",
      "/home/earthquakes1/software/Mageia/lib/python3.7/site-packages/obspy/io/stationxml/core.py:98: UserWarning: The StationXML file has version 1, ObsPy can read versions (1.0, 1.1). Proceed with caution.\n",
      "  version, \", \".join(READABLE_VERSIONS)))\n",
      "/home/earthquakes1/software/Mageia/lib/python3.7/site-packages/obspy/io/stationxml/core.py:98: UserWarning: The StationXML file has version 1, ObsPy can read versions (1.0, 1.1). Proceed with caution.\n",
      "  version, \", \".join(READABLE_VERSIONS)))\n",
      "/home/earthquakes1/software/Mageia/lib/python3.7/site-packages/obspy/io/stationxml/core.py:98: UserWarning: The StationXML file has version 1, ObsPy can read versions (1.0, 1.1). Proceed with caution.\n",
      "  version, \", \".join(READABLE_VERSIONS)))\n",
      "/home/earthquakes1/software/Mageia/lib/python3.7/site-packages/obspy/io/stationxml/core.py:98: UserWarning: The StationXML file has version 1, ObsPy can read versions (1.0, 1.1). Proceed with caution.\n",
      "  version, \", \".join(READABLE_VERSIONS)))\n",
      "/home/earthquakes1/software/Mageia/lib/python3.7/site-packages/obspy/io/stationxml/core.py:98: UserWarning: The StationXML file has version 1, ObsPy can read versions (1.0, 1.1). Proceed with caution.\n",
      "  version, \", \".join(READABLE_VERSIONS)))\n",
      "/home/earthquakes1/software/Mageia/lib/python3.7/site-packages/obspy/io/stationxml/core.py:98: UserWarning: The StationXML file has version 1, ObsPy can read versions (1.0, 1.1). Proceed with caution.\n",
      "  version, \", \".join(READABLE_VERSIONS)))\n"
     ]
    },
    {
     "name": "stdout",
     "output_type": "stream",
     "text": [
      "earthquake number 2389 of 3383 done. It was 20190606_194744.a\n",
      "earthquake number 2390 of 3383 done. It was 20190606_175127.a\n",
      "earthquake number 2391 of 3383 done. It was 20190606_171431.a\n",
      "earthquake number 2392 of 3383 done. It was 20190606_152651.a\n",
      "earthquake number 2393 of 3383 done. It was 20190606_152542.a\n",
      "earthquake number 2394 of 3383 done. It was 20190606_120550.a\n",
      "earthquake number 2395 of 3383 done. It was 20190606_112536.a\n",
      "earthquake number 2396 of 3383 done. It was 20190606_102725.a\n",
      "earthquake number 2397 of 3383 done. It was 20190606_084434.a\n",
      "earthquake number 2398 of 3383 done. It was 20190606_045951.a\n",
      "earthquake number 2399 of 3383 done. It was 20190606_002057.a\n",
      "earthquake number 2400 of 3383 done. It was 20190605_232344.a\n",
      "earthquake number 2401 of 3383 done. It was 20190605_223324.a\n",
      "earthquake number 2402 of 3383 done. It was 20190605_204149.a\n",
      "earthquake number 2403 of 3383 done. It was 20190605_192719.a\n",
      "earthquake number 2404 of 3383 done. It was 20190605_161942.a\n",
      "earthquake number 2405 of 3383 done. It was 20190605_143209.a\n",
      "earthquake number 2406 of 3383 done. It was 20190605_110959.a\n",
      "earthquake number 2407 of 3383 done. It was 20190605_104718.a\n",
      "earthquake number 2408 of 3383 done. It was 20190605_075149.a\n",
      "earthquake number 2409 of 3383 done. It was 20190605_071822.a\n",
      "earthquake number 2410 of 3383 done. It was 20190605_065837.a\n",
      "earthquake number 2411 of 3383 done. It was 20190605_053353.a\n",
      "earthquake number 2412 of 3383 done. It was 20190605_025133.a\n",
      "earthquake number 2413 of 3383 done. It was 20190605_012654.a\n",
      "earthquake number 2414 of 3383 done. It was 20190605_005031.a\n",
      "earthquake number 2415 of 3383 done. It was 20190604_210937.a\n",
      "earthquake number 2416 of 3383 done. It was 20190604_191211.a\n",
      "earthquake number 2417 of 3383 done. It was 20190604_170510.a\n",
      "earthquake number 2418 of 3383 done. It was 20190604_170459.a\n",
      "earthquake number 2419 of 3383 done. It was 20190604_164716.a\n",
      "earthquake number 2420 of 3383 done. It was 20190604_150155.a\n",
      "earthquake number 2421 of 3383 done. It was 20190604_132733.a\n",
      "earthquake number 2422 of 3383 done. It was 20190604_124805.a\n",
      "earthquake number 2423 of 3383 done. It was 20190604_121306.a\n",
      "earthquake number 2424 of 3383 done. It was 20190604_103339.a\n",
      "earthquake number 2425 of 3383 done. It was 20190604_094618.a\n",
      "earthquake number 2426 of 3383 done. It was 20190604_045022.a\n",
      "earthquake number 2427 of 3383 done. It was 20190604_043402.a\n",
      "earthquake number 2428 of 3383 done. It was 20190604_031601.a\n"
     ]
    },
    {
     "name": "stderr",
     "output_type": "stream",
     "text": [
      "/home/earthquakes1/software/Mageia/lib/python3.7/site-packages/obspy/io/stationxml/core.py:98: UserWarning: The StationXML file has version 1, ObsPy can read versions (1.0, 1.1). Proceed with caution.\n",
      "  version, \", \".join(READABLE_VERSIONS)))\n",
      "/home/earthquakes1/software/Mageia/lib/python3.7/site-packages/obspy/io/stationxml/core.py:98: UserWarning: The StationXML file has version 1, ObsPy can read versions (1.0, 1.1). Proceed with caution.\n",
      "  version, \", \".join(READABLE_VERSIONS)))\n",
      "/home/earthquakes1/software/Mageia/lib/python3.7/site-packages/obspy/io/stationxml/core.py:98: UserWarning: The StationXML file has version 1, ObsPy can read versions (1.0, 1.1). Proceed with caution.\n",
      "  version, \", \".join(READABLE_VERSIONS)))\n",
      "/home/earthquakes1/software/Mageia/lib/python3.7/site-packages/obspy/io/stationxml/core.py:98: UserWarning: The StationXML file has version 1, ObsPy can read versions (1.0, 1.1). Proceed with caution.\n",
      "  version, \", \".join(READABLE_VERSIONS)))\n",
      "/home/earthquakes1/software/Mageia/lib/python3.7/site-packages/obspy/io/stationxml/core.py:98: UserWarning: The StationXML file has version 1, ObsPy can read versions (1.0, 1.1). Proceed with caution.\n",
      "  version, \", \".join(READABLE_VERSIONS)))\n",
      "/home/earthquakes1/software/Mageia/lib/python3.7/site-packages/obspy/io/stationxml/core.py:98: UserWarning: The StationXML file has version 1, ObsPy can read versions (1.0, 1.1). Proceed with caution.\n",
      "  version, \", \".join(READABLE_VERSIONS)))\n",
      "/home/earthquakes1/software/Mageia/lib/python3.7/site-packages/obspy/io/stationxml/core.py:98: UserWarning: The StationXML file has version 1, ObsPy can read versions (1.0, 1.1). Proceed with caution.\n",
      "  version, \", \".join(READABLE_VERSIONS)))\n",
      "/home/earthquakes1/software/Mageia/lib/python3.7/site-packages/obspy/io/stationxml/core.py:98: UserWarning: The StationXML file has version 1, ObsPy can read versions (1.0, 1.1). Proceed with caution.\n",
      "  version, \", \".join(READABLE_VERSIONS)))\n",
      "/home/earthquakes1/software/Mageia/lib/python3.7/site-packages/obspy/io/stationxml/core.py:98: UserWarning: The StationXML file has version 1, ObsPy can read versions (1.0, 1.1). Proceed with caution.\n",
      "  version, \", \".join(READABLE_VERSIONS)))\n",
      "/home/earthquakes1/software/Mageia/lib/python3.7/site-packages/obspy/io/stationxml/core.py:98: UserWarning: The StationXML file has version 1, ObsPy can read versions (1.0, 1.1). Proceed with caution.\n",
      "  version, \", \".join(READABLE_VERSIONS)))\n",
      "/home/earthquakes1/software/Mageia/lib/python3.7/site-packages/obspy/io/stationxml/core.py:98: UserWarning: The StationXML file has version 1, ObsPy can read versions (1.0, 1.1). Proceed with caution.\n",
      "  version, \", \".join(READABLE_VERSIONS)))\n",
      "/home/earthquakes1/software/Mageia/lib/python3.7/site-packages/obspy/io/stationxml/core.py:98: UserWarning: The StationXML file has version 1, ObsPy can read versions (1.0, 1.1). Proceed with caution.\n",
      "  version, \", \".join(READABLE_VERSIONS)))\n",
      "/home/earthquakes1/software/Mageia/lib/python3.7/site-packages/obspy/io/stationxml/core.py:98: UserWarning: The StationXML file has version 1, ObsPy can read versions (1.0, 1.1). Proceed with caution.\n",
      "  version, \", \".join(READABLE_VERSIONS)))\n",
      "/home/earthquakes1/software/Mageia/lib/python3.7/site-packages/obspy/io/stationxml/core.py:98: UserWarning: The StationXML file has version 1, ObsPy can read versions (1.0, 1.1). Proceed with caution.\n",
      "  version, \", \".join(READABLE_VERSIONS)))\n",
      "/home/earthquakes1/software/Mageia/lib/python3.7/site-packages/obspy/io/stationxml/core.py:98: UserWarning: The StationXML file has version 1, ObsPy can read versions (1.0, 1.1). Proceed with caution.\n",
      "  version, \", \".join(READABLE_VERSIONS)))\n",
      "/home/earthquakes1/software/Mageia/lib/python3.7/site-packages/obspy/io/stationxml/core.py:98: UserWarning: The StationXML file has version 1, ObsPy can read versions (1.0, 1.1). Proceed with caution.\n",
      "  version, \", \".join(READABLE_VERSIONS)))\n",
      "/home/earthquakes1/software/Mageia/lib/python3.7/site-packages/obspy/io/stationxml/core.py:98: UserWarning: The StationXML file has version 1, ObsPy can read versions (1.0, 1.1). Proceed with caution.\n",
      "  version, \", \".join(READABLE_VERSIONS)))\n",
      "/home/earthquakes1/software/Mageia/lib/python3.7/site-packages/obspy/io/stationxml/core.py:98: UserWarning: The StationXML file has version 1, ObsPy can read versions (1.0, 1.1). Proceed with caution.\n",
      "  version, \", \".join(READABLE_VERSIONS)))\n",
      "/home/earthquakes1/software/Mageia/lib/python3.7/site-packages/obspy/io/stationxml/core.py:98: UserWarning: The StationXML file has version 1, ObsPy can read versions (1.0, 1.1). Proceed with caution.\n",
      "  version, \", \".join(READABLE_VERSIONS)))\n",
      "/home/earthquakes1/software/Mageia/lib/python3.7/site-packages/obspy/io/stationxml/core.py:98: UserWarning: The StationXML file has version 1, ObsPy can read versions (1.0, 1.1). Proceed with caution.\n",
      "  version, \", \".join(READABLE_VERSIONS)))\n",
      "/home/earthquakes1/software/Mageia/lib/python3.7/site-packages/obspy/io/stationxml/core.py:98: UserWarning: The StationXML file has version 1, ObsPy can read versions (1.0, 1.1). Proceed with caution.\n",
      "  version, \", \".join(READABLE_VERSIONS)))\n",
      "/home/earthquakes1/software/Mageia/lib/python3.7/site-packages/obspy/io/stationxml/core.py:98: UserWarning: The StationXML file has version 1, ObsPy can read versions (1.0, 1.1). Proceed with caution.\n",
      "  version, \", \".join(READABLE_VERSIONS)))\n",
      "/home/earthquakes1/software/Mageia/lib/python3.7/site-packages/obspy/io/stationxml/core.py:98: UserWarning: The StationXML file has version 1, ObsPy can read versions (1.0, 1.1). Proceed with caution.\n",
      "  version, \", \".join(READABLE_VERSIONS)))\n",
      "/home/earthquakes1/software/Mageia/lib/python3.7/site-packages/obspy/io/stationxml/core.py:98: UserWarning: The StationXML file has version 1, ObsPy can read versions (1.0, 1.1). Proceed with caution.\n",
      "  version, \", \".join(READABLE_VERSIONS)))\n",
      "/home/earthquakes1/software/Mageia/lib/python3.7/site-packages/obspy/io/stationxml/core.py:98: UserWarning: The StationXML file has version 1, ObsPy can read versions (1.0, 1.1). Proceed with caution.\n",
      "  version, \", \".join(READABLE_VERSIONS)))\n",
      "/home/earthquakes1/software/Mageia/lib/python3.7/site-packages/obspy/io/stationxml/core.py:98: UserWarning: The StationXML file has version 1, ObsPy can read versions (1.0, 1.1). Proceed with caution.\n",
      "  version, \", \".join(READABLE_VERSIONS)))\n",
      "/home/earthquakes1/software/Mageia/lib/python3.7/site-packages/obspy/io/stationxml/core.py:98: UserWarning: The StationXML file has version 1, ObsPy can read versions (1.0, 1.1). Proceed with caution.\n",
      "  version, \", \".join(READABLE_VERSIONS)))\n",
      "/home/earthquakes1/software/Mageia/lib/python3.7/site-packages/obspy/io/stationxml/core.py:98: UserWarning: The StationXML file has version 1, ObsPy can read versions (1.0, 1.1). Proceed with caution.\n",
      "  version, \", \".join(READABLE_VERSIONS)))\n"
     ]
    },
    {
     "name": "stdout",
     "output_type": "stream",
     "text": [
      "earthquake number 2429 of 3383 done. It was 20190604_022128.a\n",
      "earthquake number 2430 of 3383 done. It was 20190604_014421.a\n",
      "earthquake number 2431 of 3383 done. It was 20190604_012410.a\n",
      "earthquake number 2432 of 3383 done. It was 20190603_234750.a\n",
      "earthquake number 2433 of 3383 done. It was 20190603_231113.a\n",
      "earthquake number 2434 of 3383 done. It was 20190603_194945.a\n",
      "earthquake number 2435 of 3383 done. It was 20190603_180525.a\n"
     ]
    },
    {
     "name": "stderr",
     "output_type": "stream",
     "text": [
      "/home/earthquakes1/software/Mageia/lib/python3.7/site-packages/obspy/io/stationxml/core.py:98: UserWarning: The StationXML file has version 1, ObsPy can read versions (1.0, 1.1). Proceed with caution.\n",
      "  version, \", \".join(READABLE_VERSIONS)))\n",
      "/home/earthquakes1/software/Mageia/lib/python3.7/site-packages/obspy/io/stationxml/core.py:98: UserWarning: The StationXML file has version 1, ObsPy can read versions (1.0, 1.1). Proceed with caution.\n",
      "  version, \", \".join(READABLE_VERSIONS)))\n",
      "/home/earthquakes1/software/Mageia/lib/python3.7/site-packages/obspy/io/stationxml/core.py:98: UserWarning: The StationXML file has version 1, ObsPy can read versions (1.0, 1.1). Proceed with caution.\n",
      "  version, \", \".join(READABLE_VERSIONS)))\n",
      "/home/earthquakes1/software/Mageia/lib/python3.7/site-packages/obspy/io/stationxml/core.py:98: UserWarning: The StationXML file has version 1, ObsPy can read versions (1.0, 1.1). Proceed with caution.\n",
      "  version, \", \".join(READABLE_VERSIONS)))\n",
      "/home/earthquakes1/software/Mageia/lib/python3.7/site-packages/obspy/io/stationxml/core.py:98: UserWarning: The StationXML file has version 1, ObsPy can read versions (1.0, 1.1). Proceed with caution.\n",
      "  version, \", \".join(READABLE_VERSIONS)))\n",
      "/home/earthquakes1/software/Mageia/lib/python3.7/site-packages/obspy/io/stationxml/core.py:98: UserWarning: The StationXML file has version 1, ObsPy can read versions (1.0, 1.1). Proceed with caution.\n",
      "  version, \", \".join(READABLE_VERSIONS)))\n"
     ]
    },
    {
     "name": "stdout",
     "output_type": "stream",
     "text": [
      "earthquake number 2436 of 3383 done. It was 20190603_172435.a\n",
      "earthquake number 2437 of 3383 done. It was 20190603_171604.a\n",
      "earthquake number 2438 of 3383 done. It was 20190603_150226.a\n",
      "earthquake number 2439 of 3383 done. It was 20190603_140156.a\n",
      "earthquake number 2440 of 3383 done. It was 20190603_090218.a\n",
      "earthquake number 2441 of 3383 done. It was 20190603_084217.a\n",
      "earthquake number 2442 of 3383 done. It was 20190603_072009.a\n",
      "earthquake number 2443 of 3383 done. It was 20190603_064931.a\n",
      "earthquake number 2444 of 3383 done. It was 20190603_062622.a\n",
      "earthquake number 2445 of 3383 done. It was 20190603_061430.a\n",
      "earthquake number 2446 of 3383 done. It was 20190603_053808.a\n",
      "earthquake number 2447 of 3383 done. It was 20190603_042225.a\n"
     ]
    },
    {
     "name": "stderr",
     "output_type": "stream",
     "text": [
      "/home/earthquakes1/software/Mageia/lib/python3.7/site-packages/obspy/io/stationxml/core.py:98: UserWarning: The StationXML file has version 1, ObsPy can read versions (1.0, 1.1). Proceed with caution.\n",
      "  version, \", \".join(READABLE_VERSIONS)))\n",
      "/home/earthquakes1/software/Mageia/lib/python3.7/site-packages/obspy/io/stationxml/core.py:98: UserWarning: The StationXML file has version 1, ObsPy can read versions (1.0, 1.1). Proceed with caution.\n",
      "  version, \", \".join(READABLE_VERSIONS)))\n",
      "/home/earthquakes1/software/Mageia/lib/python3.7/site-packages/obspy/io/stationxml/core.py:98: UserWarning: The StationXML file has version 1, ObsPy can read versions (1.0, 1.1). Proceed with caution.\n",
      "  version, \", \".join(READABLE_VERSIONS)))\n",
      "/home/earthquakes1/software/Mageia/lib/python3.7/site-packages/obspy/io/stationxml/core.py:98: UserWarning: The StationXML file has version 1, ObsPy can read versions (1.0, 1.1). Proceed with caution.\n",
      "  version, \", \".join(READABLE_VERSIONS)))\n",
      "/home/earthquakes1/software/Mageia/lib/python3.7/site-packages/obspy/io/stationxml/core.py:98: UserWarning: The StationXML file has version 1, ObsPy can read versions (1.0, 1.1). Proceed with caution.\n",
      "  version, \", \".join(READABLE_VERSIONS)))\n",
      "/home/earthquakes1/software/Mageia/lib/python3.7/site-packages/obspy/io/stationxml/core.py:98: UserWarning: The StationXML file has version 1, ObsPy can read versions (1.0, 1.1). Proceed with caution.\n",
      "  version, \", \".join(READABLE_VERSIONS)))\n",
      "/home/earthquakes1/software/Mageia/lib/python3.7/site-packages/obspy/io/stationxml/core.py:98: UserWarning: The StationXML file has version 1, ObsPy can read versions (1.0, 1.1). Proceed with caution.\n",
      "  version, \", \".join(READABLE_VERSIONS)))\n",
      "/home/earthquakes1/software/Mageia/lib/python3.7/site-packages/obspy/io/stationxml/core.py:98: UserWarning: The StationXML file has version 1, ObsPy can read versions (1.0, 1.1). Proceed with caution.\n",
      "  version, \", \".join(READABLE_VERSIONS)))\n",
      "/home/earthquakes1/software/Mageia/lib/python3.7/site-packages/obspy/io/stationxml/core.py:98: UserWarning: The StationXML file has version 1, ObsPy can read versions (1.0, 1.1). Proceed with caution.\n",
      "  version, \", \".join(READABLE_VERSIONS)))\n"
     ]
    },
    {
     "name": "stdout",
     "output_type": "stream",
     "text": [
      "earthquake number 2448 of 3383 done. It was 20190603_030829.a\n",
      "earthquake number 2449 of 3383 done. It was 20190603_023435.a\n",
      "earthquake number 2450 of 3383 done. It was 20190603_005124.a\n",
      "earthquake number 2451 of 3383 done. It was 20190602_230849.a\n",
      "earthquake number 2452 of 3383 done. It was 20190602_220815.a\n",
      "earthquake number 2453 of 3383 done. It was 20190602_213453.a\n",
      "earthquake number 2454 of 3383 done. It was 20190602_205147.a\n",
      "earthquake number 2455 of 3383 done. It was 20190602_200455.a\n",
      "earthquake number 2456 of 3383 done. It was 20190602_200117.a\n",
      "earthquake number 2457 of 3383 done. It was 20190602_194929.a\n",
      "earthquake number 2458 of 3383 done. It was 20190602_180124.a\n",
      "earthquake number 2459 of 3383 done. It was 20190602_174043.a\n",
      "earthquake number 2460 of 3383 done. It was 20190602_171258.a\n",
      "earthquake number 2461 of 3383 done. It was 20190602_161117.a\n",
      "earthquake number 2462 of 3383 done. It was 20190602_142225.a\n",
      "earthquake number 2463 of 3383 done. It was 20190602_140806.a\n",
      "earthquake number 2464 of 3383 done. It was 20190602_135943.a\n",
      "earthquake number 2465 of 3383 done. It was 20190602_135148.a\n",
      "earthquake number 2466 of 3383 done. It was 20190602_134728.a\n",
      "earthquake number 2467 of 3383 done. It was 20190602_133909.a\n",
      "earthquake number 2468 of 3383 done. It was 20190602_132809.a\n",
      "earthquake number 2469 of 3383 done. It was 20190602_130847.a\n",
      "earthquake number 2470 of 3383 done. It was 20190602_112902.a\n",
      "earthquake number 2471 of 3383 done. It was 20190602_104114.a\n",
      "earthquake number 2472 of 3383 done. It was 20190602_032116.a\n",
      "earthquake number 2473 of 3383 done. It was 20190602_021948.a\n",
      "earthquake number 2474 of 3383 done. It was 20190602_015235.a\n",
      "earthquake number 2475 of 3383 done. It was 20190601_215937.a\n",
      "earthquake number 2476 of 3383 done. It was 20190601_202608.a\n",
      "earthquake number 2477 of 3383 done. It was 20190601_185014.a\n",
      "earthquake number 2478 of 3383 done. It was 20190601_183741.a\n",
      "earthquake number 2479 of 3383 done. It was 20190601_183011.a\n",
      "earthquake number 2480 of 3383 done. It was 20190601_151925.a\n",
      "earthquake number 2481 of 3383 done. It was 20190601_114344.a\n",
      "earthquake number 2482 of 3383 done. It was 20190601_105942.a\n",
      "earthquake number 2483 of 3383 done. It was 20190601_105331.a\n",
      "earthquake number 2484 of 3383 done. It was 20190601_103335.a\n",
      "earthquake number 2485 of 3383 done. It was 20190601_094528.a\n",
      "earthquake number 2486 of 3383 done. It was 20190601_070028.a\n",
      "earthquake number 2487 of 3383 done. It was 20190601_045159.a\n",
      "earthquake number 2488 of 3383 done. It was 20190601_043307.a\n",
      "earthquake number 2489 of 3383 done. It was 20190601_043248.a\n",
      "earthquake number 2490 of 3383 done. It was 20190601_042619.a\n",
      "earthquake number 2491 of 3383 done. It was 20190601_014418.a\n",
      "earthquake number 2492 of 3383 done. It was 20190731_225946.a\n",
      "earthquake number 2493 of 3383 done. It was 20190731_211454.a\n",
      "earthquake number 2494 of 3383 done. It was 20190731_204408.a\n",
      "earthquake number 2495 of 3383 done. It was 20190731_191144.a\n",
      "earthquake number 2496 of 3383 done. It was 20190731_184307.a\n",
      "earthquake number 2497 of 3383 done. It was 20190731_163919.a\n",
      "earthquake number 2498 of 3383 done. It was 20190731_150233.a\n",
      "earthquake number 2499 of 3383 done. It was 20190731_142121.a\n",
      "earthquake number 2500 of 3383 done. It was 20190731_131243.a\n",
      "earthquake number 2501 of 3383 done. It was 20190731_125640.a\n",
      "earthquake number 2502 of 3383 done. It was 20190731_122616.a\n",
      "earthquake number 2503 of 3383 done. It was 20190731_094141.a\n",
      "earthquake number 2504 of 3383 done. It was 20190731_055455.a\n",
      "earthquake number 2505 of 3383 done. It was 20190731_044004.a\n",
      "earthquake number 2506 of 3383 done. It was 20190731_011417.a\n",
      "earthquake number 2507 of 3383 done. It was 20190730_163816.a\n",
      "earthquake number 2508 of 3383 done. It was 20190730_163056.a\n",
      "earthquake number 2509 of 3383 done. It was 20190730_155332.a\n"
     ]
    },
    {
     "name": "stderr",
     "output_type": "stream",
     "text": [
      "/home/earthquakes1/software/Mageia/lib/python3.7/site-packages/obspy/io/stationxml/core.py:98: UserWarning: The StationXML file has version 1, ObsPy can read versions (1.0, 1.1). Proceed with caution.\n",
      "  version, \", \".join(READABLE_VERSIONS)))\n",
      "/home/earthquakes1/software/Mageia/lib/python3.7/site-packages/obspy/io/stationxml/core.py:98: UserWarning: The StationXML file has version 1, ObsPy can read versions (1.0, 1.1). Proceed with caution.\n",
      "  version, \", \".join(READABLE_VERSIONS)))\n"
     ]
    },
    {
     "name": "stdout",
     "output_type": "stream",
     "text": [
      "earthquake number 2510 of 3383 done. It was 20190730_144706.a\n",
      "earthquake number 2511 of 3383 done. It was 20190730_133237.a\n",
      "earthquake number 2512 of 3383 done. It was 20190730_131810.a\n",
      "earthquake number 2513 of 3383 done. It was 20190730_130217.a\n",
      "earthquake number 2514 of 3383 done. It was 20190730_103621.a\n",
      "earthquake number 2515 of 3383 done. It was 20190730_093021.a\n",
      "earthquake number 2516 of 3383 done. It was 20190730_092953.a\n",
      "earthquake number 2517 of 3383 done. It was 20190730_084504.a\n",
      "earthquake number 2518 of 3383 done. It was 20190730_065251.a\n",
      "earthquake number 2519 of 3383 done. It was 20190730_063634.a\n",
      "earthquake number 2520 of 3383 done. It was 20190730_043330.a\n",
      "earthquake number 2521 of 3383 done. It was 20190730_041347.a\n",
      "earthquake number 2522 of 3383 done. It was 20190730_034557.a\n",
      "earthquake number 2523 of 3383 done. It was 20190730_031046.a\n",
      "earthquake number 2524 of 3383 done. It was 20190730_012239.a\n",
      "earthquake number 2525 of 3383 done. It was 20190729_231914.a\n",
      "earthquake number 2526 of 3383 done. It was 20190729_203742.a\n",
      "earthquake number 2527 of 3383 done. It was 20190729_201503.a\n",
      "earthquake number 2528 of 3383 done. It was 20190729_195544.a\n",
      "earthquake number 2529 of 3383 done. It was 20190729_174525.a\n",
      "earthquake number 2530 of 3383 done. It was 20190729_174428.a\n",
      "earthquake number 2531 of 3383 done. It was 20190729_165157.a\n",
      "earthquake number 2532 of 3383 done. It was 20190729_070258.a\n",
      "earthquake number 2533 of 3383 done. It was 20190729_044338.a\n",
      "earthquake number 2534 of 3383 done. It was 20190729_041810.a\n",
      "earthquake number 2535 of 3383 done. It was 20190728_235106.a\n",
      "earthquake number 2536 of 3383 done. It was 20190728_230636.a\n",
      "earthquake number 2537 of 3383 done. It was 20190728_214143.a\n",
      "earthquake number 2538 of 3383 done. It was 20190728_175029.a\n",
      "earthquake number 2539 of 3383 done. It was 20190728_161317.a\n",
      "earthquake number 2540 of 3383 done. It was 20190728_160908.a\n",
      "earthquake number 2541 of 3383 done. It was 20190728_160211.a\n",
      "earthquake number 2542 of 3383 done. It was 20190728_153500.a\n",
      "earthquake number 2543 of 3383 done. It was 20190728_150220.a\n",
      "earthquake number 2544 of 3383 done. It was 20190728_111656.a\n",
      "earthquake number 2545 of 3383 done. It was 20190728_101857.a\n",
      "earthquake number 2546 of 3383 done. It was 20190728_095306.a\n",
      "earthquake number 2547 of 3383 done. It was 20190728_084517.a\n",
      "earthquake number 2548 of 3383 done. It was 20190728_082455.a\n"
     ]
    },
    {
     "name": "stderr",
     "output_type": "stream",
     "text": [
      "/home/earthquakes1/software/Mageia/lib/python3.7/site-packages/obspy/io/stationxml/core.py:98: UserWarning: The StationXML file has version 1, ObsPy can read versions (1.0, 1.1). Proceed with caution.\n",
      "  version, \", \".join(READABLE_VERSIONS)))\n",
      "/home/earthquakes1/software/Mageia/lib/python3.7/site-packages/obspy/io/stationxml/core.py:98: UserWarning: The StationXML file has version 1, ObsPy can read versions (1.0, 1.1). Proceed with caution.\n",
      "  version, \", \".join(READABLE_VERSIONS)))\n"
     ]
    },
    {
     "name": "stdout",
     "output_type": "stream",
     "text": [
      "earthquake number 2549 of 3383 done. It was 20190728_072740.a\n",
      "earthquake number 2550 of 3383 done. It was 20190728_064313.a\n"
     ]
    },
    {
     "name": "stderr",
     "output_type": "stream",
     "text": [
      "/home/earthquakes1/software/Mageia/lib/python3.7/site-packages/obspy/io/stationxml/core.py:98: UserWarning: The StationXML file has version 1, ObsPy can read versions (1.0, 1.1). Proceed with caution.\n",
      "  version, \", \".join(READABLE_VERSIONS)))\n",
      "/home/earthquakes1/software/Mageia/lib/python3.7/site-packages/obspy/io/stationxml/core.py:98: UserWarning: The StationXML file has version 1, ObsPy can read versions (1.0, 1.1). Proceed with caution.\n",
      "  version, \", \".join(READABLE_VERSIONS)))\n"
     ]
    },
    {
     "name": "stdout",
     "output_type": "stream",
     "text": [
      "earthquake number 2551 of 3383 done. It was 20190728_063556.a\n",
      "earthquake number 2552 of 3383 done. It was 20190728_044743.a\n",
      "earthquake number 2553 of 3383 done. It was 20190728_043306.a\n",
      "earthquake number 2554 of 3383 done. It was 20190728_031920.a\n",
      "earthquake number 2555 of 3383 done. It was 20190728_000231.a\n",
      "earthquake number 2556 of 3383 done. It was 20190727_231306.a\n",
      "earthquake number 2557 of 3383 done. It was 20190727_221049.a\n",
      "earthquake number 2559 of 3382 done. It was 20190727_192857.a\n",
      "earthquake number 2560 of 3382 done. It was 20190727_183107.a\n",
      "earthquake number 2561 of 3382 done. It was 20190727_172403.a\n",
      "earthquake number 2562 of 3382 done. It was 20190727_164743.a\n",
      "earthquake number 2563 of 3382 done. It was 20190727_164505.a\n",
      "earthquake number 2564 of 3382 done. It was 20190727_162032.a\n"
     ]
    },
    {
     "name": "stderr",
     "output_type": "stream",
     "text": [
      "/home/earthquakes1/software/Mageia/lib/python3.7/site-packages/obspy/core/inventory/response.py:964: UserWarning: Input sampling rate of stage 3 is inconsistent with the previous stages' output sampling rate\n",
      "  warnings.warn(msg % i)\n"
     ]
    },
    {
     "name": "stdout",
     "output_type": "stream",
     "text": [
      "earthquake number 2565 of 3382 done. It was 20190727_155043.a\n",
      "earthquake number 2566 of 3382 done. It was 20190727_130310.a\n",
      "earthquake number 2567 of 3382 done. It was 20190727_125250.a\n",
      "earthquake number 2568 of 3382 done. It was 20190727_103054.a\n",
      "earthquake number 2569 of 3382 done. It was 20190727_094759.a\n",
      "earthquake number 2570 of 3382 done. It was 20190727_093741.a\n",
      "earthquake number 2571 of 3382 done. It was 20190727_065645.a\n",
      "earthquake number 2572 of 3382 done. It was 20190727_064012.a\n",
      "earthquake number 2573 of 3382 done. It was 20190727_051549.a\n",
      "earthquake number 2574 of 3382 done. It was 20190727_042502.a\n",
      "earthquake number 2575 of 3382 done. It was 20190727_042328.a\n",
      "earthquake number 2576 of 3382 done. It was 20190727_040418.a\n",
      "earthquake number 2577 of 3382 done. It was 20190727_032730.a\n",
      "earthquake number 2578 of 3382 done. It was 20190727_023722.a\n",
      "earthquake number 2579 of 3382 done. It was 20190727_013537.a\n",
      "earthquake number 2580 of 3382 done. It was 20190726_233636.a\n",
      "earthquake number 2581 of 3382 done. It was 20190726_232226.a\n",
      "earthquake number 2582 of 3382 done. It was 20190726_211448.a\n",
      "earthquake number 2583 of 3382 done. It was 20190726_211031.a\n"
     ]
    },
    {
     "name": "stderr",
     "output_type": "stream",
     "text": [
      "/home/earthquakes1/software/Mageia/lib/python3.7/site-packages/obspy/io/stationxml/core.py:98: UserWarning: The StationXML file has version 1, ObsPy can read versions (1.0, 1.1). Proceed with caution.\n",
      "  version, \", \".join(READABLE_VERSIONS)))\n",
      "/home/earthquakes1/software/Mageia/lib/python3.7/site-packages/obspy/io/stationxml/core.py:98: UserWarning: The StationXML file has version 1, ObsPy can read versions (1.0, 1.1). Proceed with caution.\n",
      "  version, \", \".join(READABLE_VERSIONS)))\n"
     ]
    },
    {
     "name": "stdout",
     "output_type": "stream",
     "text": [
      "earthquake number 2584 of 3382 done. It was 20190726_191222.a\n"
     ]
    },
    {
     "name": "stderr",
     "output_type": "stream",
     "text": [
      "/home/earthquakes1/software/Mageia/lib/python3.7/site-packages/obspy/io/stationxml/core.py:98: UserWarning: The StationXML file has version 1, ObsPy can read versions (1.0, 1.1). Proceed with caution.\n",
      "  version, \", \".join(READABLE_VERSIONS)))\n",
      "/home/earthquakes1/software/Mageia/lib/python3.7/site-packages/obspy/io/stationxml/core.py:98: UserWarning: The StationXML file has version 1, ObsPy can read versions (1.0, 1.1). Proceed with caution.\n",
      "  version, \", \".join(READABLE_VERSIONS)))\n"
     ]
    },
    {
     "name": "stdout",
     "output_type": "stream",
     "text": [
      "earthquake number 2585 of 3382 done. It was 20190726_190133.a\n",
      "earthquake number 2586 of 3382 done. It was 20190726_171150.a\n"
     ]
    },
    {
     "name": "stderr",
     "output_type": "stream",
     "text": [
      "/home/earthquakes1/software/Mageia/lib/python3.7/site-packages/obspy/io/stationxml/core.py:98: UserWarning: The StationXML file has version 1, ObsPy can read versions (1.0, 1.1). Proceed with caution.\n",
      "  version, \", \".join(READABLE_VERSIONS)))\n",
      "/home/earthquakes1/software/Mageia/lib/python3.7/site-packages/obspy/io/stationxml/core.py:98: UserWarning: The StationXML file has version 1, ObsPy can read versions (1.0, 1.1). Proceed with caution.\n",
      "  version, \", \".join(READABLE_VERSIONS)))\n"
     ]
    },
    {
     "name": "stdout",
     "output_type": "stream",
     "text": [
      "earthquake number 2587 of 3382 done. It was 20190726_154711.a\n",
      "earthquake number 2588 of 3382 done. It was 20190726_153815.a\n",
      "earthquake number 2589 of 3382 done. It was 20190726_133453.a\n",
      "earthquake number 2590 of 3382 done. It was 20190726_130015.a\n"
     ]
    },
    {
     "name": "stderr",
     "output_type": "stream",
     "text": [
      "/home/earthquakes1/software/Mageia/lib/python3.7/site-packages/obspy/io/stationxml/core.py:98: UserWarning: The StationXML file has version 1, ObsPy can read versions (1.0, 1.1). Proceed with caution.\n",
      "  version, \", \".join(READABLE_VERSIONS)))\n",
      "/home/earthquakes1/software/Mageia/lib/python3.7/site-packages/obspy/io/stationxml/core.py:98: UserWarning: The StationXML file has version 1, ObsPy can read versions (1.0, 1.1). Proceed with caution.\n",
      "  version, \", \".join(READABLE_VERSIONS)))\n",
      "/home/earthquakes1/software/Mageia/lib/python3.7/site-packages/obspy/io/stationxml/core.py:98: UserWarning: The StationXML file has version 1, ObsPy can read versions (1.0, 1.1). Proceed with caution.\n",
      "  version, \", \".join(READABLE_VERSIONS)))\n",
      "/home/earthquakes1/software/Mageia/lib/python3.7/site-packages/obspy/io/stationxml/core.py:98: UserWarning: The StationXML file has version 1, ObsPy can read versions (1.0, 1.1). Proceed with caution.\n",
      "  version, \", \".join(READABLE_VERSIONS)))\n",
      "/home/earthquakes1/software/Mageia/lib/python3.7/site-packages/obspy/io/stationxml/core.py:98: UserWarning: The StationXML file has version 1, ObsPy can read versions (1.0, 1.1). Proceed with caution.\n",
      "  version, \", \".join(READABLE_VERSIONS)))\n",
      "/home/earthquakes1/software/Mageia/lib/python3.7/site-packages/obspy/io/stationxml/core.py:98: UserWarning: The StationXML file has version 1, ObsPy can read versions (1.0, 1.1). Proceed with caution.\n",
      "  version, \", \".join(READABLE_VERSIONS)))\n",
      "/home/earthquakes1/software/Mageia/lib/python3.7/site-packages/obspy/io/stationxml/core.py:98: UserWarning: The StationXML file has version 1, ObsPy can read versions (1.0, 1.1). Proceed with caution.\n",
      "  version, \", \".join(READABLE_VERSIONS)))\n",
      "/home/earthquakes1/software/Mageia/lib/python3.7/site-packages/obspy/io/stationxml/core.py:98: UserWarning: The StationXML file has version 1, ObsPy can read versions (1.0, 1.1). Proceed with caution.\n",
      "  version, \", \".join(READABLE_VERSIONS)))\n",
      "/home/earthquakes1/software/Mageia/lib/python3.7/site-packages/obspy/io/stationxml/core.py:98: UserWarning: The StationXML file has version 1, ObsPy can read versions (1.0, 1.1). Proceed with caution.\n",
      "  version, \", \".join(READABLE_VERSIONS)))\n",
      "/home/earthquakes1/software/Mageia/lib/python3.7/site-packages/obspy/io/stationxml/core.py:98: UserWarning: The StationXML file has version 1, ObsPy can read versions (1.0, 1.1). Proceed with caution.\n",
      "  version, \", \".join(READABLE_VERSIONS)))\n",
      "/home/earthquakes1/software/Mageia/lib/python3.7/site-packages/obspy/io/stationxml/core.py:98: UserWarning: The StationXML file has version 1, ObsPy can read versions (1.0, 1.1). Proceed with caution.\n",
      "  version, \", \".join(READABLE_VERSIONS)))\n",
      "/home/earthquakes1/software/Mageia/lib/python3.7/site-packages/obspy/io/stationxml/core.py:98: UserWarning: The StationXML file has version 1, ObsPy can read versions (1.0, 1.1). Proceed with caution.\n",
      "  version, \", \".join(READABLE_VERSIONS)))\n",
      "/home/earthquakes1/software/Mageia/lib/python3.7/site-packages/obspy/io/stationxml/core.py:98: UserWarning: The StationXML file has version 1, ObsPy can read versions (1.0, 1.1). Proceed with caution.\n",
      "  version, \", \".join(READABLE_VERSIONS)))\n",
      "/home/earthquakes1/software/Mageia/lib/python3.7/site-packages/obspy/io/stationxml/core.py:98: UserWarning: The StationXML file has version 1, ObsPy can read versions (1.0, 1.1). Proceed with caution.\n",
      "  version, \", \".join(READABLE_VERSIONS)))\n",
      "/home/earthquakes1/software/Mageia/lib/python3.7/site-packages/obspy/io/stationxml/core.py:98: UserWarning: The StationXML file has version 1, ObsPy can read versions (1.0, 1.1). Proceed with caution.\n",
      "  version, \", \".join(READABLE_VERSIONS)))\n",
      "/home/earthquakes1/software/Mageia/lib/python3.7/site-packages/obspy/io/stationxml/core.py:98: UserWarning: The StationXML file has version 1, ObsPy can read versions (1.0, 1.1). Proceed with caution.\n",
      "  version, \", \".join(READABLE_VERSIONS)))\n",
      "/home/earthquakes1/software/Mageia/lib/python3.7/site-packages/obspy/io/stationxml/core.py:98: UserWarning: The StationXML file has version 1, ObsPy can read versions (1.0, 1.1). Proceed with caution.\n",
      "  version, \", \".join(READABLE_VERSIONS)))\n",
      "/home/earthquakes1/software/Mageia/lib/python3.7/site-packages/obspy/io/stationxml/core.py:98: UserWarning: The StationXML file has version 1, ObsPy can read versions (1.0, 1.1). Proceed with caution.\n",
      "  version, \", \".join(READABLE_VERSIONS)))\n",
      "/home/earthquakes1/software/Mageia/lib/python3.7/site-packages/obspy/io/stationxml/core.py:98: UserWarning: The StationXML file has version 1, ObsPy can read versions (1.0, 1.1). Proceed with caution.\n",
      "  version, \", \".join(READABLE_VERSIONS)))\n",
      "/home/earthquakes1/software/Mageia/lib/python3.7/site-packages/obspy/io/stationxml/core.py:98: UserWarning: The StationXML file has version 1, ObsPy can read versions (1.0, 1.1). Proceed with caution.\n",
      "  version, \", \".join(READABLE_VERSIONS)))\n",
      "/home/earthquakes1/software/Mageia/lib/python3.7/site-packages/obspy/io/stationxml/core.py:98: UserWarning: The StationXML file has version 1, ObsPy can read versions (1.0, 1.1). Proceed with caution.\n",
      "  version, \", \".join(READABLE_VERSIONS)))\n",
      "/home/earthquakes1/software/Mageia/lib/python3.7/site-packages/obspy/io/stationxml/core.py:98: UserWarning: The StationXML file has version 1, ObsPy can read versions (1.0, 1.1). Proceed with caution.\n",
      "  version, \", \".join(READABLE_VERSIONS)))\n",
      "/home/earthquakes1/software/Mageia/lib/python3.7/site-packages/obspy/io/stationxml/core.py:98: UserWarning: The StationXML file has version 1, ObsPy can read versions (1.0, 1.1). Proceed with caution.\n",
      "  version, \", \".join(READABLE_VERSIONS)))\n",
      "/home/earthquakes1/software/Mageia/lib/python3.7/site-packages/obspy/io/stationxml/core.py:98: UserWarning: The StationXML file has version 1, ObsPy can read versions (1.0, 1.1). Proceed with caution.\n",
      "  version, \", \".join(READABLE_VERSIONS)))\n",
      "/home/earthquakes1/software/Mageia/lib/python3.7/site-packages/obspy/io/stationxml/core.py:98: UserWarning: The StationXML file has version 1, ObsPy can read versions (1.0, 1.1). Proceed with caution.\n",
      "  version, \", \".join(READABLE_VERSIONS)))\n",
      "/home/earthquakes1/software/Mageia/lib/python3.7/site-packages/obspy/io/stationxml/core.py:98: UserWarning: The StationXML file has version 1, ObsPy can read versions (1.0, 1.1). Proceed with caution.\n",
      "  version, \", \".join(READABLE_VERSIONS)))\n"
     ]
    },
    {
     "name": "stdout",
     "output_type": "stream",
     "text": [
      "earthquake number 2591 of 3382 done. It was 20190726_100219.a\n",
      "earthquake number 2592 of 3382 done. It was 20190726_082855.a\n",
      "earthquake number 2593 of 3382 done. It was 20190726_081321.a\n",
      "earthquake number 2594 of 3382 done. It was 20190726_073802.a\n",
      "earthquake number 2595 of 3382 done. It was 20190726_071018.a\n",
      "earthquake number 2596 of 3382 done. It was 20190726_064352.a\n",
      "earthquake number 2597 of 3382 done. It was 20190726_063956.a\n",
      "earthquake number 2598 of 3382 done. It was 20190726_050359.a\n",
      "earthquake number 2599 of 3382 done. It was 20190726_040755.a\n",
      "earthquake number 2600 of 3382 done. It was 20190726_023339.a\n",
      "earthquake number 2601 of 3382 done. It was 20190726_015652.a\n",
      "earthquake number 2602 of 3382 done. It was 20190726_014209.a\n",
      "earthquake number 2603 of 3382 done. It was 20190726_005740.a\n",
      "earthquake number 2604 of 3382 done. It was 20190726_004555.a\n",
      "earthquake number 2606 of 3381 done. It was 20190726_004247.a\n",
      "earthquake number 2607 of 3381 done. It was 20190725_235616.a\n",
      "earthquake number 2608 of 3381 done. It was 20190725_230044.a\n"
     ]
    },
    {
     "name": "stderr",
     "output_type": "stream",
     "text": [
      "/home/earthquakes1/software/Mageia/lib/python3.7/site-packages/obspy/io/stationxml/core.py:98: UserWarning: The StationXML file has version 1, ObsPy can read versions (1.0, 1.1). Proceed with caution.\n",
      "  version, \", \".join(READABLE_VERSIONS)))\n",
      "/home/earthquakes1/software/Mageia/lib/python3.7/site-packages/obspy/io/stationxml/core.py:98: UserWarning: The StationXML file has version 1, ObsPy can read versions (1.0, 1.1). Proceed with caution.\n",
      "  version, \", \".join(READABLE_VERSIONS)))\n"
     ]
    },
    {
     "name": "stdout",
     "output_type": "stream",
     "text": [
      "earthquake number 2609 of 3381 done. It was 20190725_210454.a\n",
      "earthquake number 2610 of 3381 done. It was 20190725_210445.a\n",
      "earthquake number 2611 of 3381 done. It was 20190725_203231.a\n",
      "earthquake number 2612 of 3381 done. It was 20190725_183904.a\n",
      "earthquake number 2613 of 3381 done. It was 20190725_181023.a\n"
     ]
    },
    {
     "name": "stderr",
     "output_type": "stream",
     "text": [
      "/home/earthquakes1/software/Mageia/lib/python3.7/site-packages/obspy/io/stationxml/core.py:98: UserWarning: The StationXML file has version 1, ObsPy can read versions (1.0, 1.1). Proceed with caution.\n",
      "  version, \", \".join(READABLE_VERSIONS)))\n",
      "/home/earthquakes1/software/Mageia/lib/python3.7/site-packages/obspy/io/stationxml/core.py:98: UserWarning: The StationXML file has version 1, ObsPy can read versions (1.0, 1.1). Proceed with caution.\n",
      "  version, \", \".join(READABLE_VERSIONS)))\n"
     ]
    },
    {
     "name": "stdout",
     "output_type": "stream",
     "text": [
      "earthquake number 2614 of 3381 done. It was 20190725_144009.a\n"
     ]
    },
    {
     "name": "stderr",
     "output_type": "stream",
     "text": [
      "/home/earthquakes1/software/Mageia/lib/python3.7/site-packages/obspy/io/stationxml/core.py:98: UserWarning: The StationXML file has version 1, ObsPy can read versions (1.0, 1.1). Proceed with caution.\n",
      "  version, \", \".join(READABLE_VERSIONS)))\n",
      "/home/earthquakes1/software/Mageia/lib/python3.7/site-packages/obspy/io/stationxml/core.py:98: UserWarning: The StationXML file has version 1, ObsPy can read versions (1.0, 1.1). Proceed with caution.\n",
      "  version, \", \".join(READABLE_VERSIONS)))\n"
     ]
    },
    {
     "name": "stdout",
     "output_type": "stream",
     "text": [
      "earthquake number 2615 of 3381 done. It was 20190725_114003.a\n",
      "earthquake number 2616 of 3381 done. It was 20190725_101508.a\n",
      "earthquake number 2617 of 3381 done. It was 20190725_093949.a\n"
     ]
    },
    {
     "name": "stderr",
     "output_type": "stream",
     "text": [
      "/home/earthquakes1/software/Mageia/lib/python3.7/site-packages/obspy/io/stationxml/core.py:98: UserWarning: The StationXML file has version 1, ObsPy can read versions (1.0, 1.1). Proceed with caution.\n",
      "  version, \", \".join(READABLE_VERSIONS)))\n",
      "/home/earthquakes1/software/Mageia/lib/python3.7/site-packages/obspy/io/stationxml/core.py:98: UserWarning: The StationXML file has version 1, ObsPy can read versions (1.0, 1.1). Proceed with caution.\n",
      "  version, \", \".join(READABLE_VERSIONS)))\n"
     ]
    },
    {
     "name": "stdout",
     "output_type": "stream",
     "text": [
      "earthquake number 2618 of 3381 done. It was 20190725_061253.a\n",
      "earthquake number 2619 of 3381 done. It was 20190725_060359.a\n",
      "earthquake number 2620 of 3381 done. It was 20190725_054818.a\n",
      "earthquake number 2621 of 3381 done. It was 20190725_030046.a\n",
      "earthquake number 2622 of 3381 done. It was 20190725_023632.a\n",
      "earthquake number 2623 of 3381 done. It was 20190725_023434.a\n",
      "earthquake number 2624 of 3381 done. It was 20190724_232552.a\n",
      "earthquake number 2625 of 3381 done. It was 20190724_222418.a\n",
      "earthquake number 2626 of 3381 done. It was 20190724_221422.a\n",
      "earthquake number 2627 of 3381 done. It was 20190724_210323.a\n",
      "earthquake number 2628 of 3381 done. It was 20190724_185852.a\n",
      "earthquake number 2629 of 3381 done. It was 20190724_170506.a\n",
      "earthquake number 2630 of 3381 done. It was 20190724_164214.a\n",
      "earthquake number 2631 of 3381 done. It was 20190724_143652.a\n",
      "earthquake number 2632 of 3381 done. It was 20190724_143518.a\n",
      "earthquake number 2633 of 3381 done. It was 20190724_141637.a\n",
      "earthquake number 2634 of 3381 done. It was 20190724_131838.a\n",
      "earthquake number 2635 of 3381 done. It was 20190724_100646.a\n",
      "earthquake number 2636 of 3381 done. It was 20190724_094951.a\n",
      "earthquake number 2637 of 3381 done. It was 20190724_081635.a\n",
      "earthquake number 2638 of 3381 done. It was 20190724_073744.a\n",
      "earthquake number 2639 of 3381 done. It was 20190724_054847.a\n",
      "earthquake number 2640 of 3381 done. It was 20190724_024129.a\n",
      "earthquake number 2641 of 3381 done. It was 20190724_005557.a\n",
      "earthquake number 2642 of 3381 done. It was 20190723_234548.a\n",
      "earthquake number 2643 of 3381 done. It was 20190723_184000.a\n",
      "earthquake number 2644 of 3381 done. It was 20190723_114457.a\n",
      "earthquake number 2645 of 3381 done. It was 20190723_074614.a\n",
      "earthquake number 2646 of 3381 done. It was 20190723_074502.a\n",
      "earthquake number 2647 of 3381 done. It was 20190723_062808.a\n"
     ]
    },
    {
     "name": "stderr",
     "output_type": "stream",
     "text": [
      "/home/earthquakes1/software/Mageia/lib/python3.7/site-packages/obspy/io/stationxml/core.py:98: UserWarning: The StationXML file has version 1, ObsPy can read versions (1.0, 1.1). Proceed with caution.\n",
      "  version, \", \".join(READABLE_VERSIONS)))\n"
     ]
    },
    {
     "name": "stdout",
     "output_type": "stream",
     "text": [
      "earthquake number 2648 of 3381 done. It was 20190723_015505.a\n",
      "earthquake number 2649 of 3381 done. It was 20190723_013618.a\n",
      "earthquake number 2650 of 3381 done. It was 20190723_003254.a\n",
      "earthquake number 2651 of 3381 done. It was 20190723_001009.a\n",
      "earthquake number 2652 of 3381 done. It was 20190722_223111.a\n",
      "earthquake number 2653 of 3381 done. It was 20190722_204659.a\n",
      "earthquake number 2654 of 3381 done. It was 20190722_191922.a\n",
      "earthquake number 2655 of 3381 done. It was 20190722_180514.a\n",
      "earthquake number 2656 of 3381 done. It was 20190722_172651.a\n",
      "earthquake number 2657 of 3381 done. It was 20190722_171729.a\n",
      "earthquake number 2658 of 3381 done. It was 20190722_170855.a\n",
      "earthquake number 2660 of 3380 done. It was 20190722_151716.a\n",
      "earthquake number 2661 of 3380 done. It was 20190722_135304.a\n",
      "earthquake number 2662 of 3380 done. It was 20190722_100033.a\n",
      "earthquake number 2663 of 3380 done. It was 20190722_094510.a\n",
      "earthquake number 2664 of 3380 done. It was 20190722_054048.a\n",
      "earthquake number 2665 of 3380 done. It was 20190722_044422.a\n",
      "earthquake number 2666 of 3380 done. It was 20190722_040603.a\n",
      "earthquake number 2667 of 3380 done. It was 20190722_012218.a\n",
      "earthquake number 2668 of 3380 done. It was 20190722_010856.a\n",
      "earthquake number 2669 of 3380 done. It was 20190722_000738.a\n",
      "earthquake number 2670 of 3380 done. It was 20190721_211554.a\n",
      "earthquake number 2671 of 3380 done. It was 20190721_211320.a\n"
     ]
    },
    {
     "name": "stderr",
     "output_type": "stream",
     "text": [
      "/home/earthquakes1/software/Mageia/lib/python3.7/site-packages/obspy/io/stationxml/core.py:98: UserWarning: The StationXML file has version 1, ObsPy can read versions (1.0, 1.1). Proceed with caution.\n",
      "  version, \", \".join(READABLE_VERSIONS)))\n",
      "/home/earthquakes1/software/Mageia/lib/python3.7/site-packages/obspy/io/stationxml/core.py:98: UserWarning: The StationXML file has version 1, ObsPy can read versions (1.0, 1.1). Proceed with caution.\n",
      "  version, \", \".join(READABLE_VERSIONS)))\n",
      "/home/earthquakes1/software/Mageia/lib/python3.7/site-packages/obspy/io/stationxml/core.py:98: UserWarning: The StationXML file has version 1, ObsPy can read versions (1.0, 1.1). Proceed with caution.\n",
      "  version, \", \".join(READABLE_VERSIONS)))\n",
      "/home/earthquakes1/software/Mageia/lib/python3.7/site-packages/obspy/io/stationxml/core.py:98: UserWarning: The StationXML file has version 1, ObsPy can read versions (1.0, 1.1). Proceed with caution.\n",
      "  version, \", \".join(READABLE_VERSIONS)))\n",
      "/home/earthquakes1/software/Mageia/lib/python3.7/site-packages/obspy/io/stationxml/core.py:98: UserWarning: The StationXML file has version 1, ObsPy can read versions (1.0, 1.1). Proceed with caution.\n",
      "  version, \", \".join(READABLE_VERSIONS)))\n",
      "/home/earthquakes1/software/Mageia/lib/python3.7/site-packages/obspy/io/stationxml/core.py:98: UserWarning: The StationXML file has version 1, ObsPy can read versions (1.0, 1.1). Proceed with caution.\n",
      "  version, \", \".join(READABLE_VERSIONS)))\n",
      "/home/earthquakes1/software/Mageia/lib/python3.7/site-packages/obspy/io/stationxml/core.py:98: UserWarning: The StationXML file has version 1, ObsPy can read versions (1.0, 1.1). Proceed with caution.\n",
      "  version, \", \".join(READABLE_VERSIONS)))\n",
      "/home/earthquakes1/software/Mageia/lib/python3.7/site-packages/obspy/io/stationxml/core.py:98: UserWarning: The StationXML file has version 1, ObsPy can read versions (1.0, 1.1). Proceed with caution.\n",
      "  version, \", \".join(READABLE_VERSIONS)))\n",
      "/home/earthquakes1/software/Mageia/lib/python3.7/site-packages/obspy/io/stationxml/core.py:98: UserWarning: The StationXML file has version 1, ObsPy can read versions (1.0, 1.1). Proceed with caution.\n",
      "  version, \", \".join(READABLE_VERSIONS)))\n",
      "/home/earthquakes1/software/Mageia/lib/python3.7/site-packages/obspy/io/stationxml/core.py:98: UserWarning: The StationXML file has version 1, ObsPy can read versions (1.0, 1.1). Proceed with caution.\n",
      "  version, \", \".join(READABLE_VERSIONS)))\n",
      "/home/earthquakes1/software/Mageia/lib/python3.7/site-packages/obspy/io/stationxml/core.py:98: UserWarning: The StationXML file has version 1, ObsPy can read versions (1.0, 1.1). Proceed with caution.\n",
      "  version, \", \".join(READABLE_VERSIONS)))\n",
      "/home/earthquakes1/software/Mageia/lib/python3.7/site-packages/obspy/io/stationxml/core.py:98: UserWarning: The StationXML file has version 1, ObsPy can read versions (1.0, 1.1). Proceed with caution.\n",
      "  version, \", \".join(READABLE_VERSIONS)))\n"
     ]
    },
    {
     "name": "stdout",
     "output_type": "stream",
     "text": [
      "earthquake number 2672 of 3380 done. It was 20190721_204321.a\n",
      "earthquake number 2673 of 3380 done. It was 20190721_170922.a\n",
      "earthquake number 2674 of 3380 done. It was 20190721_165955.a\n",
      "earthquake number 2675 of 3380 done. It was 20190721_154907.a\n",
      "earthquake number 2676 of 3380 done. It was 20190721_145310.a\n",
      "earthquake number 2677 of 3380 done. It was 20190721_140141.a\n",
      "earthquake number 2678 of 3380 done. It was 20190721_115611.a\n",
      "earthquake number 2679 of 3380 done. It was 20190721_104137.a\n",
      "earthquake number 2680 of 3380 done. It was 20190721_090754.a\n",
      "earthquake number 2682 of 3379 done. It was 20190721_072919.a\n",
      "earthquake number 2683 of 3379 done. It was 20190721_070530.a\n",
      "earthquake number 2684 of 3379 done. It was 20190721_053038.a\n",
      "earthquake number 2685 of 3379 done. It was 20190721_035812.a\n",
      "earthquake number 2686 of 3379 done. It was 20190721_024117.a\n",
      "earthquake number 2687 of 3379 done. It was 20190721_022333.a\n",
      "earthquake number 2688 of 3379 done. It was 20190721_011851.a\n",
      "earthquake number 2689 of 3379 done. It was 20190721_011833.a\n",
      "earthquake number 2690 of 3379 done. It was 20190721_005948.a\n",
      "earthquake number 2691 of 3379 done. It was 20190721_003049.a\n",
      "earthquake number 2692 of 3379 done. It was 20190720_225040.a\n",
      "earthquake number 2693 of 3379 done. It was 20190720_214440.a\n",
      "earthquake number 2694 of 3379 done. It was 20190720_211216.a\n",
      "earthquake number 2695 of 3379 done. It was 20190720_191103.a\n",
      "earthquake number 2696 of 3379 done. It was 20190720_184958.a\n",
      "earthquake number 2697 of 3379 done. It was 20190720_181455.a\n",
      "earthquake number 2698 of 3379 done. It was 20190720_175418.a\n",
      "earthquake number 2699 of 3379 done. It was 20190720_155753.a\n"
     ]
    },
    {
     "name": "stderr",
     "output_type": "stream",
     "text": [
      "/home/earthquakes1/software/Mageia/lib/python3.7/site-packages/obspy/io/stationxml/core.py:98: UserWarning: The StationXML file has version 1, ObsPy can read versions (1.0, 1.1). Proceed with caution.\n",
      "  version, \", \".join(READABLE_VERSIONS)))\n",
      "/home/earthquakes1/software/Mageia/lib/python3.7/site-packages/obspy/io/stationxml/core.py:98: UserWarning: The StationXML file has version 1, ObsPy can read versions (1.0, 1.1). Proceed with caution.\n",
      "  version, \", \".join(READABLE_VERSIONS)))\n",
      "/home/earthquakes1/software/Mageia/lib/python3.7/site-packages/obspy/io/stationxml/core.py:98: UserWarning: The StationXML file has version 1, ObsPy can read versions (1.0, 1.1). Proceed with caution.\n",
      "  version, \", \".join(READABLE_VERSIONS)))\n",
      "/home/earthquakes1/software/Mageia/lib/python3.7/site-packages/obspy/io/stationxml/core.py:98: UserWarning: The StationXML file has version 1, ObsPy can read versions (1.0, 1.1). Proceed with caution.\n",
      "  version, \", \".join(READABLE_VERSIONS)))\n",
      "/home/earthquakes1/software/Mageia/lib/python3.7/site-packages/obspy/io/stationxml/core.py:98: UserWarning: The StationXML file has version 1, ObsPy can read versions (1.0, 1.1). Proceed with caution.\n",
      "  version, \", \".join(READABLE_VERSIONS)))\n",
      "/home/earthquakes1/software/Mageia/lib/python3.7/site-packages/obspy/io/stationxml/core.py:98: UserWarning: The StationXML file has version 1, ObsPy can read versions (1.0, 1.1). Proceed with caution.\n",
      "  version, \", \".join(READABLE_VERSIONS)))\n",
      "/home/earthquakes1/software/Mageia/lib/python3.7/site-packages/obspy/io/stationxml/core.py:98: UserWarning: The StationXML file has version 1, ObsPy can read versions (1.0, 1.1). Proceed with caution.\n",
      "  version, \", \".join(READABLE_VERSIONS)))\n",
      "/home/earthquakes1/software/Mageia/lib/python3.7/site-packages/obspy/io/stationxml/core.py:98: UserWarning: The StationXML file has version 1, ObsPy can read versions (1.0, 1.1). Proceed with caution.\n",
      "  version, \", \".join(READABLE_VERSIONS)))\n",
      "/home/earthquakes1/software/Mageia/lib/python3.7/site-packages/obspy/io/stationxml/core.py:98: UserWarning: The StationXML file has version 1, ObsPy can read versions (1.0, 1.1). Proceed with caution.\n",
      "  version, \", \".join(READABLE_VERSIONS)))\n",
      "/home/earthquakes1/software/Mageia/lib/python3.7/site-packages/obspy/io/stationxml/core.py:98: UserWarning: The StationXML file has version 1, ObsPy can read versions (1.0, 1.1). Proceed with caution.\n",
      "  version, \", \".join(READABLE_VERSIONS)))\n",
      "/home/earthquakes1/software/Mageia/lib/python3.7/site-packages/obspy/io/stationxml/core.py:98: UserWarning: The StationXML file has version 1, ObsPy can read versions (1.0, 1.1). Proceed with caution.\n",
      "  version, \", \".join(READABLE_VERSIONS)))\n",
      "/home/earthquakes1/software/Mageia/lib/python3.7/site-packages/obspy/io/stationxml/core.py:98: UserWarning: The StationXML file has version 1, ObsPy can read versions (1.0, 1.1). Proceed with caution.\n",
      "  version, \", \".join(READABLE_VERSIONS)))\n"
     ]
    },
    {
     "name": "stdout",
     "output_type": "stream",
     "text": [
      "earthquake number 2700 of 3379 done. It was 20190720_115142.a\n",
      "earthquake number 2701 of 3379 done. It was 20190720_105724.a\n",
      "earthquake number 2702 of 3379 done. It was 20190720_101227.a\n",
      "earthquake number 2703 of 3379 done. It was 20190720_090800.a\n",
      "earthquake number 2704 of 3379 done. It was 20190720_080547.a\n",
      "earthquake number 2705 of 3379 done. It was 20190720_035632.a\n",
      "earthquake number 2707 of 3378 done. It was 20190720_021401.a\n",
      "earthquake number 2708 of 3378 done. It was 20190720_021047.a\n",
      "earthquake number 2709 of 3378 done. It was 20190719_233413.a\n",
      "earthquake number 2711 of 3377 done. It was 20190719_220652.a\n",
      "earthquake number 2712 of 3377 done. It was 20190719_185548.a\n",
      "earthquake number 2713 of 3377 done. It was 20190719_184014.a\n",
      "earthquake number 2714 of 3377 done. It was 20190719_182226.a\n",
      "earthquake number 2715 of 3377 done. It was 20190719_174826.a\n",
      "earthquake number 2716 of 3377 done. It was 20190719_174224.a\n",
      "earthquake number 2717 of 3377 done. It was 20190719_172645.a\n",
      "earthquake number 2718 of 3377 done. It was 20190719_164442.a\n",
      "earthquake number 2719 of 3377 done. It was 20190719_161658.a\n",
      "earthquake number 2720 of 3377 done. It was 20190719_160459.a\n",
      "earthquake number 2721 of 3377 done. It was 20190719_154142.a\n",
      "earthquake number 2723 of 3376 done. It was 20190719_133418.a\n",
      "earthquake number 2726 of 3374 done. It was 20190719_121215.a\n",
      "earthquake number 2727 of 3374 done. It was 20190719_121154.a\n",
      "earthquake number 2728 of 3374 done. It was 20190719_111316.a\n",
      "earthquake number 2730 of 3373 done. It was 20190719_101349.a\n",
      "earthquake number 2731 of 3373 done. It was 20190719_092643.a\n",
      "earthquake number 2732 of 3373 done. It was 20190719_053952.a\n",
      "earthquake number 2733 of 3373 done. It was 20190719_051940.a\n",
      "earthquake number 2735 of 3372 done. It was 20190719_013344.a\n",
      "earthquake number 2736 of 3372 done. It was 20190719_011824.a\n",
      "earthquake number 2737 of 3372 done. It was 20190719_005728.a\n",
      "earthquake number 2738 of 3372 done. It was 20190719_004258.a\n",
      "earthquake number 2739 of 3372 done. It was 20190719_001925.a\n",
      "earthquake number 2740 of 3372 done. It was 20190718_223758.a\n",
      "earthquake number 2741 of 3372 done. It was 20190718_214637.a\n",
      "earthquake number 2742 of 3372 done. It was 20190718_202227.a\n",
      "earthquake number 2743 of 3372 done. It was 20190718_162424.a\n",
      "earthquake number 2744 of 3372 done. It was 20190718_134058.a\n",
      "earthquake number 2745 of 3372 done. It was 20190718_124540.a\n",
      "earthquake number 2746 of 3372 done. It was 20190718_082202.a\n",
      "earthquake number 2747 of 3372 done. It was 20190718_074603.a\n",
      "earthquake number 2748 of 3372 done. It was 20190718_071255.a\n",
      "earthquake number 2749 of 3372 done. It was 20190718_062400.a\n",
      "earthquake number 2750 of 3372 done. It was 20190718_061429.a\n",
      "earthquake number 2751 of 3372 done. It was 20190718_051811.a\n",
      "earthquake number 2752 of 3372 done. It was 20190718_040207.a\n",
      "earthquake number 2753 of 3372 done. It was 20190718_040132.a\n",
      "earthquake number 2754 of 3372 done. It was 20190718_035914.a\n",
      "earthquake number 2755 of 3372 done. It was 20190718_030237.a\n",
      "earthquake number 2756 of 3372 done. It was 20190718_023343.a\n",
      "earthquake number 2757 of 3372 done. It was 20190718_012821.a\n",
      "earthquake number 2758 of 3372 done. It was 20190717_234742.a\n",
      "earthquake number 2759 of 3372 done. It was 20190717_234317.a\n",
      "earthquake number 2760 of 3372 done. It was 20190717_224534.a\n",
      "earthquake number 2761 of 3372 done. It was 20190717_224115.a\n",
      "earthquake number 2764 of 3370 done. It was 20190717_200342.a\n",
      "earthquake number 2767 of 3368 done. It was 20190717_193515.a\n"
     ]
    },
    {
     "name": "stderr",
     "output_type": "stream",
     "text": [
      "/home/earthquakes1/software/Mageia/lib/python3.7/site-packages/obspy/io/stationxml/core.py:98: UserWarning: The StationXML file has version 1, ObsPy can read versions (1.0, 1.1). Proceed with caution.\n",
      "  version, \", \".join(READABLE_VERSIONS)))\n",
      "/home/earthquakes1/software/Mageia/lib/python3.7/site-packages/obspy/io/stationxml/core.py:98: UserWarning: The StationXML file has version 1, ObsPy can read versions (1.0, 1.1). Proceed with caution.\n",
      "  version, \", \".join(READABLE_VERSIONS)))\n"
     ]
    },
    {
     "name": "stdout",
     "output_type": "stream",
     "text": [
      "earthquake number 2768 of 3368 done. It was 20190717_182813.a\n",
      "earthquake number 2769 of 3368 done. It was 20190717_173836.a\n",
      "earthquake number 2770 of 3368 done. It was 20190717_154425.a\n",
      "earthquake number 2774 of 3365 done. It was 20190717_145959.a\n",
      "earthquake number 2777 of 3363 done. It was 20190717_104130.a\n",
      "earthquake number 2778 of 3363 done. It was 20190717_090020.a\n",
      "earthquake number 2779 of 3363 done. It was 20190717_055808.a\n",
      "earthquake number 2781 of 3362 done. It was 20190717_035951.a\n",
      "earthquake number 2784 of 3360 done. It was 20190717_024216.a\n",
      "earthquake number 2790 of 3355 done. It was 20190716_214242.a\n",
      "earthquake number 2792 of 3354 done. It was 20190716_203133.a\n",
      "earthquake number 2793 of 3354 done. It was 20190716_202416.a\n",
      "earthquake number 2795 of 3353 done. It was 20190716_201536.a\n",
      "earthquake number 2796 of 3353 done. It was 20190716_201101.a\n",
      "earthquake number 2798 of 3352 done. It was 20190716_152543.a\n",
      "earthquake number 2799 of 3352 done. It was 20190716_143846.a\n",
      "earthquake number 2800 of 3352 done. It was 20190716_132410.a\n"
     ]
    },
    {
     "name": "stderr",
     "output_type": "stream",
     "text": [
      "/home/earthquakes1/software/Mageia/lib/python3.7/site-packages/obspy/io/stationxml/core.py:98: UserWarning: The StationXML file has version 1, ObsPy can read versions (1.0, 1.1). Proceed with caution.\n",
      "  version, \", \".join(READABLE_VERSIONS)))\n",
      "/home/earthquakes1/software/Mageia/lib/python3.7/site-packages/obspy/io/stationxml/core.py:98: UserWarning: The StationXML file has version 1, ObsPy can read versions (1.0, 1.1). Proceed with caution.\n",
      "  version, \", \".join(READABLE_VERSIONS)))\n",
      "/home/earthquakes1/software/Mageia/lib/python3.7/site-packages/obspy/io/stationxml/core.py:98: UserWarning: The StationXML file has version 1, ObsPy can read versions (1.0, 1.1). Proceed with caution.\n",
      "  version, \", \".join(READABLE_VERSIONS)))\n",
      "/home/earthquakes1/software/Mageia/lib/python3.7/site-packages/obspy/io/stationxml/core.py:98: UserWarning: The StationXML file has version 1, ObsPy can read versions (1.0, 1.1). Proceed with caution.\n",
      "  version, \", \".join(READABLE_VERSIONS)))\n",
      "/home/earthquakes1/software/Mageia/lib/python3.7/site-packages/obspy/io/stationxml/core.py:98: UserWarning: The StationXML file has version 1, ObsPy can read versions (1.0, 1.1). Proceed with caution.\n",
      "  version, \", \".join(READABLE_VERSIONS)))\n",
      "/home/earthquakes1/software/Mageia/lib/python3.7/site-packages/obspy/io/stationxml/core.py:98: UserWarning: The StationXML file has version 1, ObsPy can read versions (1.0, 1.1). Proceed with caution.\n",
      "  version, \", \".join(READABLE_VERSIONS)))\n",
      "/home/earthquakes1/software/Mageia/lib/python3.7/site-packages/obspy/io/stationxml/core.py:98: UserWarning: The StationXML file has version 1, ObsPy can read versions (1.0, 1.1). Proceed with caution.\n",
      "  version, \", \".join(READABLE_VERSIONS)))\n",
      "/home/earthquakes1/software/Mageia/lib/python3.7/site-packages/obspy/io/stationxml/core.py:98: UserWarning: The StationXML file has version 1, ObsPy can read versions (1.0, 1.1). Proceed with caution.\n",
      "  version, \", \".join(READABLE_VERSIONS)))\n",
      "/home/earthquakes1/software/Mageia/lib/python3.7/site-packages/obspy/io/stationxml/core.py:98: UserWarning: The StationXML file has version 1, ObsPy can read versions (1.0, 1.1). Proceed with caution.\n",
      "  version, \", \".join(READABLE_VERSIONS)))\n",
      "/home/earthquakes1/software/Mageia/lib/python3.7/site-packages/obspy/io/stationxml/core.py:98: UserWarning: The StationXML file has version 1, ObsPy can read versions (1.0, 1.1). Proceed with caution.\n",
      "  version, \", \".join(READABLE_VERSIONS)))\n"
     ]
    },
    {
     "name": "stdout",
     "output_type": "stream",
     "text": [
      "earthquake number 2801 of 3352 done. It was 20190716_131736.a\n",
      "earthquake number 2803 of 3351 done. It was 20190716_131450.a\n",
      "earthquake number 2804 of 3351 done. It was 20190716_111230.a\n",
      "earthquake number 2806 of 3350 done. It was 20190716_104537.a\n",
      "earthquake number 2807 of 3350 done. It was 20190716_052652.a\n",
      "earthquake number 2809 of 3349 done. It was 20190716_033211.a\n",
      "earthquake number 2810 of 3349 done. It was 20190716_024705.a\n",
      "earthquake number 2811 of 3349 done. It was 20190716_023552.a\n",
      "earthquake number 2813 of 3348 done. It was 20190715_213512.a\n",
      "earthquake number 2816 of 3346 done. It was 20190715_204650.a\n",
      "earthquake number 2817 of 3346 done. It was 20190715_194349.a\n",
      "earthquake number 2819 of 3345 done. It was 20190715_165819.a\n",
      "earthquake number 2820 of 3345 done. It was 20190715_154336.a\n",
      "earthquake number 2821 of 3345 done. It was 20190715_122544.a\n",
      "earthquake number 2822 of 3345 done. It was 20190715_115405.a\n",
      "earthquake number 2823 of 3345 done. It was 20190715_085053.a\n",
      "earthquake number 2824 of 3345 done. It was 20190715_084413.a\n",
      "earthquake number 2826 of 3344 done. It was 20190715_063955.a\n",
      "earthquake number 2828 of 3343 done. It was 20190715_042630.a\n",
      "earthquake number 2829 of 3343 done. It was 20190715_034954.a\n",
      "earthquake number 2830 of 3343 done. It was 20190715_031703.a\n",
      "earthquake number 2832 of 3342 done. It was 20190715_014109.a\n",
      "earthquake number 2833 of 3342 done. It was 20190715_001527.a\n",
      "earthquake number 2834 of 3342 done. It was 20190715_001410.a\n",
      "earthquake number 2838 of 3339 done. It was 20190714_203706.a\n",
      "earthquake number 2839 of 3339 done. It was 20190714_195104.a\n",
      "earthquake number 2840 of 3339 done. It was 20190714_183446.a\n",
      "earthquake number 2841 of 3339 done. It was 20190714_163041.a\n",
      "earthquake number 2842 of 3339 done. It was 20190714_162142.a\n",
      "earthquake number 2843 of 3339 done. It was 20190714_155639.a\n",
      "earthquake number 2844 of 3339 done. It was 20190714_134008.a\n",
      "earthquake number 2845 of 3339 done. It was 20190714_132317.a\n",
      "earthquake number 2846 of 3339 done. It was 20190714_131226.a\n",
      "earthquake number 2848 of 3338 done. It was 20190714_113104.a\n",
      "earthquake number 2849 of 3338 done. It was 20190714_112652.a\n",
      "earthquake number 2851 of 3337 done. It was 20190714_105918.a\n",
      "earthquake number 2852 of 3337 done. It was 20190714_105013.a\n"
     ]
    },
    {
     "name": "stderr",
     "output_type": "stream",
     "text": [
      "/home/earthquakes1/software/Mageia/lib/python3.7/site-packages/obspy/io/stationxml/core.py:98: UserWarning: The StationXML file has version 1, ObsPy can read versions (1.0, 1.1). Proceed with caution.\n",
      "  version, \", \".join(READABLE_VERSIONS)))\n",
      "/home/earthquakes1/software/Mageia/lib/python3.7/site-packages/obspy/io/stationxml/core.py:98: UserWarning: The StationXML file has version 1, ObsPy can read versions (1.0, 1.1). Proceed with caution.\n",
      "  version, \", \".join(READABLE_VERSIONS)))\n",
      "/home/earthquakes1/software/Mageia/lib/python3.7/site-packages/obspy/io/stationxml/core.py:98: UserWarning: The StationXML file has version 1, ObsPy can read versions (1.0, 1.1). Proceed with caution.\n",
      "  version, \", \".join(READABLE_VERSIONS)))\n",
      "/home/earthquakes1/software/Mageia/lib/python3.7/site-packages/obspy/io/stationxml/core.py:98: UserWarning: The StationXML file has version 1, ObsPy can read versions (1.0, 1.1). Proceed with caution.\n",
      "  version, \", \".join(READABLE_VERSIONS)))\n",
      "/home/earthquakes1/software/Mageia/lib/python3.7/site-packages/obspy/io/stationxml/core.py:98: UserWarning: The StationXML file has version 1, ObsPy can read versions (1.0, 1.1). Proceed with caution.\n",
      "  version, \", \".join(READABLE_VERSIONS)))\n",
      "/home/earthquakes1/software/Mageia/lib/python3.7/site-packages/obspy/io/stationxml/core.py:98: UserWarning: The StationXML file has version 1, ObsPy can read versions (1.0, 1.1). Proceed with caution.\n",
      "  version, \", \".join(READABLE_VERSIONS)))\n",
      "/home/earthquakes1/software/Mageia/lib/python3.7/site-packages/obspy/io/stationxml/core.py:98: UserWarning: The StationXML file has version 1, ObsPy can read versions (1.0, 1.1). Proceed with caution.\n",
      "  version, \", \".join(READABLE_VERSIONS)))\n",
      "/home/earthquakes1/software/Mageia/lib/python3.7/site-packages/obspy/io/stationxml/core.py:98: UserWarning: The StationXML file has version 1, ObsPy can read versions (1.0, 1.1). Proceed with caution.\n",
      "  version, \", \".join(READABLE_VERSIONS)))\n",
      "/home/earthquakes1/software/Mageia/lib/python3.7/site-packages/obspy/io/stationxml/core.py:98: UserWarning: The StationXML file has version 1, ObsPy can read versions (1.0, 1.1). Proceed with caution.\n",
      "  version, \", \".join(READABLE_VERSIONS)))\n",
      "/home/earthquakes1/software/Mageia/lib/python3.7/site-packages/obspy/io/stationxml/core.py:98: UserWarning: The StationXML file has version 1, ObsPy can read versions (1.0, 1.1). Proceed with caution.\n",
      "  version, \", \".join(READABLE_VERSIONS)))\n",
      "/home/earthquakes1/software/Mageia/lib/python3.7/site-packages/obspy/io/stationxml/core.py:98: UserWarning: The StationXML file has version 1, ObsPy can read versions (1.0, 1.1). Proceed with caution.\n",
      "  version, \", \".join(READABLE_VERSIONS)))\n",
      "/home/earthquakes1/software/Mageia/lib/python3.7/site-packages/obspy/io/stationxml/core.py:98: UserWarning: The StationXML file has version 1, ObsPy can read versions (1.0, 1.1). Proceed with caution.\n",
      "  version, \", \".join(READABLE_VERSIONS)))\n"
     ]
    },
    {
     "name": "stdout",
     "output_type": "stream",
     "text": [
      "earthquake number 2853 of 3337 done. It was 20190714_084422.a\n",
      "earthquake number 2854 of 3337 done. It was 20190714_072610.a\n",
      "earthquake number 2855 of 3337 done. It was 20190714_071219.a\n",
      "earthquake number 2856 of 3337 done. It was 20190714_063745.a\n",
      "earthquake number 2860 of 3334 done. It was 20190714_032411.a\n",
      "earthquake number 2861 of 3334 done. It was 20190714_022509.a\n",
      "earthquake number 2862 of 3334 done. It was 20190714_022310.a\n",
      "earthquake number 2863 of 3334 done. It was 20190714_015716.a\n",
      "earthquake number 2864 of 3334 done. It was 20190714_015245.a\n",
      "earthquake number 2867 of 3332 done. It was 20190713_222542.a\n",
      "earthquake number 2868 of 3332 done. It was 20190713_222152.a\n",
      "earthquake number 2870 of 3331 done. It was 20190713_214033.a\n",
      "earthquake number 2871 of 3331 done. It was 20190713_211218.a\n",
      "earthquake number 2873 of 3330 done. It was 20190713_175646.a\n",
      "earthquake number 2874 of 3330 done. It was 20190713_173651.a\n",
      "earthquake number 2875 of 3330 done. It was 20190713_155111.a\n",
      "earthquake number 2876 of 3330 done. It was 20190713_150840.a\n",
      "earthquake number 2879 of 3328 done. It was 20190713_140610.a\n",
      "earthquake number 2881 of 3327 done. It was 20190713_120508.a\n",
      "earthquake number 2883 of 3326 done. It was 20190713_104230.a\n",
      "earthquake number 2885 of 3325 done. It was 20190713_064701.a\n",
      "earthquake number 2887 of 3324 done. It was 20190713_031726.a\n",
      "earthquake number 2888 of 3324 done. It was 20190713_023902.a\n",
      "earthquake number 2889 of 3324 done. It was 20190713_021615.a\n",
      "earthquake number 2890 of 3324 done. It was 20190713_014022.a\n",
      "earthquake number 2891 of 3324 done. It was 20190713_013609.a\n",
      "earthquake number 2893 of 3323 done. It was 20190713_010223.a\n",
      "earthquake number 2895 of 3322 done. It was 20190712_190850.a\n",
      "earthquake number 2896 of 3322 done. It was 20190712_172124.a\n",
      "earthquake number 2897 of 3322 done. It was 20190712_170110.a\n",
      "earthquake number 2898 of 3322 done. It was 20190712_131701.a\n",
      "earthquake number 2902 of 3319 done. It was 20190712_125912.a\n",
      "earthquake number 2903 of 3319 done. It was 20190712_100253.a\n",
      "earthquake number 2904 of 3319 done. It was 20190712_095358.a\n",
      "earthquake number 2905 of 3319 done. It was 20190712_095138.a\n",
      "earthquake number 2906 of 3319 done. It was 20190712_092503.a\n",
      "earthquake number 2907 of 3319 done. It was 20190712_082248.a\n",
      "earthquake number 2908 of 3319 done. It was 20190712_080031.a\n",
      "earthquake number 2910 of 3318 done. It was 20190712_072437.a\n",
      "earthquake number 2911 of 3318 done. It was 20190712_051948.a\n",
      "earthquake number 2917 of 3313 done. It was 20190712_030903.a\n",
      "earthquake number 2919 of 3312 done. It was 20190712_011855.a\n",
      "earthquake number 2920 of 3312 done. It was 20190712_011148.a\n",
      "earthquake number 2926 of 3307 done. It was 20190711_212157.a\n",
      "earthquake number 2927 of 3307 done. It was 20190711_203746.a\n",
      "earthquake number 2929 of 3306 done. It was 20190711_164914.a\n",
      "earthquake number 2935 of 3301 done. It was 20190711_153252.a\n",
      "earthquake number 2940 of 3297 done. It was 20190711_111727.a\n",
      "earthquake number 2948 of 3290 done. It was 20190711_073116.a\n",
      "earthquake number 2950 of 3289 done. It was 20190711_071735.a\n",
      "earthquake number 2951 of 3289 done. It was 20190711_070426.a\n",
      "earthquake number 2953 of 3288 done. It was 20190711_052146.a\n",
      "earthquake number 2958 of 3284 done. It was 20190711_025919.a\n",
      "earthquake number 2960 of 3283 done. It was 20190711_021721.a\n",
      "earthquake number 2971 of 3273 done. It was 20190710_225713.a\n",
      "earthquake number 2972 of 3273 done. It was 20190710_222949.a\n",
      "earthquake number 2976 of 3270 done. It was 20190710_210705.a\n",
      "earthquake number 2977 of 3270 done. It was 20190710_204027.a\n",
      "earthquake number 2978 of 3270 done. It was 20190710_201915.a\n",
      "earthquake number 2980 of 3269 done. It was 20190710_194859.a\n"
     ]
    },
    {
     "name": "stderr",
     "output_type": "stream",
     "text": [
      "/home/earthquakes1/software/Mageia/lib/python3.7/site-packages/obspy/io/stationxml/core.py:98: UserWarning: The StationXML file has version 1, ObsPy can read versions (1.0, 1.1). Proceed with caution.\n",
      "  version, \", \".join(READABLE_VERSIONS)))\n",
      "/home/earthquakes1/software/Mageia/lib/python3.7/site-packages/obspy/io/stationxml/core.py:98: UserWarning: The StationXML file has version 1, ObsPy can read versions (1.0, 1.1). Proceed with caution.\n",
      "  version, \", \".join(READABLE_VERSIONS)))\n"
     ]
    },
    {
     "name": "stdout",
     "output_type": "stream",
     "text": [
      "earthquake number 2981 of 3269 done. It was 20190710_194552.a\n",
      "earthquake number 2990 of 3261 done. It was 20190710_145814.a\n",
      "earthquake number 2998 of 3254 done. It was 20190710_121608.a\n"
     ]
    }
   ],
   "source": [
    "list_tpmax = []\n",
    "list_mags = []\n",
    "list_tc= []\n",
    "list_eq = []\n",
    "eqs = {}\n",
    "count = 0\n",
    "max_radius_km = 100\n",
    "for eq_name in eq_with_data[0:3000]:\n",
    "    \n",
    "    d = util.filenameToDate(eq_name)\n",
    "    \n",
    "    filter_start = str(UTCDateTime(d-timedelta(seconds=1)))\n",
    "    filter_stop = str(UTCDateTime(d+timedelta(seconds=1)))\n",
    "    \n",
    "    event = cat.filter('time > ' + filter_start, 'time < ' + filter_stop)\n",
    "    # print(event)\n",
    "    data = obspy.read(root+eq_name+'/data/*/*')\n",
    "    inv = obspy.read_inventory(root+eq_name+'/station_xml_files/*')\n",
    "    try:\n",
    "        data.remove_response(inv)\n",
    "    except:\n",
    "        eq_with_data.remove(eq_name)\n",
    "        count += 1\n",
    "        continue\n",
    "    with open(root+eq_name+'/picks.pkl', 'rb') as f:\n",
    "        picks = pickle.load(f)\n",
    "    obj_name = eq_name[0:-2]\n",
    "    data_nearby = util.find_nearby_data(data, inv, event[0], max_radius_km)\n",
    "    eqs[obj_name] = earthquake(eq_name, event, data_nearby, picks, sensor_types = [])\n",
    "    eqs[obj_name].calc_Tpmax()\n",
    "    eqs[obj_name].calc_Tc()\n",
    "    list_tpmax.append(eqs[obj_name]._cached_params[\"tau_p_max\"])\n",
    "    list_tc.append(eqs[obj_name]._cached_params[\"tau_c\"])\n",
    "    list_mags.append(eqs[obj_name].event.magnitudes[0].mag)\n",
    "    list_eq.append(eq_name)\n",
    "    print('earthquake number ' + str(count) + ' of '+ str(len(eq_with_data)) + ' done. It was ' + eq_name)\n",
    "    count += 1"
   ]
  },
  {
   "cell_type": "code",
   "execution_count": 6,
   "metadata": {},
   "outputs": [],
   "source": [
    "import pandas as pd\n",
    "\n",
    "data = {\n",
    "    'magnitude': list_mags,\n",
    "    'tpmax': list_tpmax,\n",
    "    'tc': list_tc\n",
    "}\n",
    "\n",
    "df = pd.DataFrame(data, index = list_eq)\n",
    "\n",
    "df.to_pickle(root+'dataframe_highpass_0_075Hz.pkl')"
   ]
  }
 ],
 "metadata": {
  "kernelspec": {
   "display_name": "Python 3",
   "language": "python",
   "name": "python3"
  },
  "language_info": {
   "codemirror_mode": {
    "name": "ipython",
    "version": 3
   },
   "file_extension": ".py",
   "mimetype": "text/x-python",
   "name": "python",
   "nbconvert_exporter": "python",
   "pygments_lexer": "ipython3",
   "version": "3.7.5"
  }
 },
 "nbformat": 4,
 "nbformat_minor": 2
}
