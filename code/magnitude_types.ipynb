{
 "cells": [
  {
   "cell_type": "code",
   "execution_count": 9,
   "id": "1efd6a9f",
   "metadata": {},
   "outputs": [],
   "source": [
    "import os\n",
    "import scipy\n",
    "import numpy as np\n",
    "import matplotlib.pyplot as plt\n",
    "import obspy\n",
    "import util"
   ]
  },
  {
   "cell_type": "code",
   "execution_count": 6,
   "id": "52ad74c9",
   "metadata": {},
   "outputs": [],
   "source": [
    "root = '/home/earthquakes1/homes/Rebecca/phd/data/2019_global_m3/' #2018_2021_global_m5/'#'/home/earthquakes1/homes/Rebecca/phd/data/2019_global_m5/'\n",
    "eq_list = os.listdir(root)"
   ]
  },
  {
   "cell_type": "code",
   "execution_count": 7,
   "id": "4ef3da8e",
   "metadata": {},
   "outputs": [],
   "source": [
    "#client = Client(\"IRIS\")\n",
    "# cat = client.get_events(starttime=UTCDateTime(\"2019-06-26\"), endtime=UTCDateTime(\"2020-06-26\"), minlongitude=-179, maxlongitude=-145, minlatitude=42, maxlatitude=71, minmagnitude=5, includearrivals=True)\n",
    "cat = obspy.read_events('/home/earthquakes1/homes/Rebecca/phd/data/2019_global_m3_catalog.xml') #2018_2021_global_m5_catalog.xml')"
   ]
  },
  {
   "cell_type": "code",
   "execution_count": 10,
   "id": "263a4f6a",
   "metadata": {},
   "outputs": [],
   "source": [
    "cat_with_data = cat.copy()\n",
    "cat_with_data.clear()\n",
    "for event in cat:\n",
    "    eq_name = util.catEventToFileName(event)\n",
    "    if os.path.isdir(root+eq_name) and os.path.isdir(root+eq_name+'/station_xml_files'):\n",
    "        cat_with_data.extend([event])\n",
    "        "
   ]
  },
  {
   "cell_type": "code",
   "execution_count": 11,
   "id": "807f2836",
   "metadata": {},
   "outputs": [],
   "source": [
    "mag_types = {}\n",
    "for i in range(0, len(cat_with_data)):\n",
    "    if float(cat_with_data[i].magnitudes[0].mag):\n",
    "        key  = cat_with_data[i].magnitudes[0].magnitude_type\n",
    "        key = key.lower()\n",
    "        if key[0:2]=='mw':\n",
    "            key = 'mw_all'\n",
    "        if key in mag_types.keys():\n",
    "            mag_types[key] = np.append(mag_types[key], cat_with_data[i].magnitudes[0].mag)\n",
    "        else:\n",
    "            if cat_with_data[i].magnitudes[0].mag != None:\n",
    "                mag_types[key] = np.array([cat_with_data[i].magnitudes[0].mag])"
   ]
  },
  {
   "cell_type": "code",
   "execution_count": 12,
   "id": "519d69fe",
   "metadata": {},
   "outputs": [
    {
     "name": "stdout",
     "output_type": "stream",
     "text": [
      "mb 2412\n",
      "mw_all 772\n",
      "ml 2230\n",
      "md 587\n",
      "mb_lg 57\n",
      "mlr 18\n",
      "mh 1\n"
     ]
    },
    {
     "data": {
      "text/plain": [
       "<matplotlib.legend.Legend at 0x7fbb43a137f0>"
      ]
     },
     "execution_count": 12,
     "metadata": {},
     "output_type": "execute_result"
    }
   ],
   "source": [
    "%matplotlib qt\n",
    "count = 0\n",
    "for key in mag_types.keys():\n",
    "    #plt.scatter(np.zeros(len(mag_types[key]))+count, mag_types[key])\n",
    "    print(key, str(len(mag_types[key])))\n",
    "    if len(mag_types[key])>0:\n",
    "        plt.hist(mag_types[key], histtype = 'step', hatch = '.', label = key+str(len(mag_types[key])))\n",
    "        #count += 1\n",
    "plt.ylabel('n')\n",
    "plt.xlabel('event magnitude')\n",
    "plt.title('magnitude distribution by magnitude type')\n",
    "plt.legend()"
   ]
  },
  {
   "cell_type": "code",
   "execution_count": null,
   "id": "69aa36e1",
   "metadata": {},
   "outputs": [],
   "source": []
  },
  {
   "cell_type": "code",
   "execution_count": null,
   "id": "3b0fd9ce",
   "metadata": {},
   "outputs": [],
   "source": []
  }
 ],
 "metadata": {
  "kernelspec": {
   "display_name": "Python 3 (ipykernel)",
   "language": "python",
   "name": "python3"
  },
  "language_info": {
   "codemirror_mode": {
    "name": "ipython",
    "version": 3
   },
   "file_extension": ".py",
   "mimetype": "text/x-python",
   "name": "python",
   "nbconvert_exporter": "python",
   "pygments_lexer": "ipython3",
   "version": "3.9.7"
  }
 },
 "nbformat": 4,
 "nbformat_minor": 5
}
