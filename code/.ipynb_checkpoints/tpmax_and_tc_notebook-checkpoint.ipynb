{
 "cells": [
  {
   "cell_type": "code",
   "execution_count": 1,
   "metadata": {},
   "outputs": [],
   "source": [
    "from earthquake import earthquake\n",
    "import os\n",
    "import obspy\n",
    "import pickle\n",
    "from obspy import UTCDateTime\n",
    "from obspy.clients.fdsn import Client\n",
    "import datetime\n",
    "from datetime import timedelta\n",
    "import util\n",
    "import numpy as np\n",
    "from matplotlib.pyplot import figure\n",
    "import matplotlib.pyplot as plt\n",
    "from datetime import datetime"
   ]
  },
  {
   "cell_type": "code",
   "execution_count": 2,
   "metadata": {},
   "outputs": [],
   "source": [
    "root = '/home/earthquakes1/homes/Rebecca/phd/data/2019_global_m5/'\n",
    "\n",
    "eq_list = os.listdir(root)"
   ]
  },
  {
   "cell_type": "code",
   "execution_count": 3,
   "metadata": {},
   "outputs": [],
   "source": [
    "client = Client(\"IRIS\")\n",
    "# cat = client.get_events(starttime=UTCDateTime(\"2019-01-01\"), endtime=UTCDateTime(\"2020-01-01\"), minmagnitude=5, includearrivals=True)\n",
    "cat = obspy.read_events('/home/earthquakes1/homes/Rebecca/phd/data/2019_global_m5_catalog.xml')"
   ]
  },
  {
   "cell_type": "code",
   "execution_count": 4,
   "metadata": {},
   "outputs": [],
   "source": [
    "eq_with_data = []\n",
    "for event in cat:\n",
    "    eq_name = util.catEventToFileName(event)\n",
    "    if os.path.isdir(root+eq_name) and os.path.isdir(root+eq_name+'/station_xml_files'):\n",
    "        eq_with_data.append(eq_name)"
   ]
  },
  {
   "cell_type": "code",
   "execution_count": 6,
   "metadata": {},
   "outputs": [
    {
     "ename": "NameError",
     "evalue": "name 'datetime' is not defined",
     "output_type": "error",
     "traceback": [
      "\u001b[0;31m---------------------------------------------------------------------------\u001b[0m",
      "\u001b[0;31mNameError\u001b[0m                                 Traceback (most recent call last)",
      "\u001b[0;32m<ipython-input-6-311bc10a3941>\u001b[0m in \u001b[0;36m<module>\u001b[0;34m\u001b[0m\n\u001b[1;32m      6\u001b[0m \u001b[0;32mfor\u001b[0m \u001b[0meq_name\u001b[0m \u001b[0;32min\u001b[0m \u001b[0meq_with_data\u001b[0m\u001b[0;34m:\u001b[0m\u001b[0;34m\u001b[0m\u001b[0;34m\u001b[0m\u001b[0m\n\u001b[1;32m      7\u001b[0m \u001b[0;34m\u001b[0m\u001b[0m\n\u001b[0;32m----> 8\u001b[0;31m     \u001b[0md\u001b[0m \u001b[0;34m=\u001b[0m \u001b[0mutil\u001b[0m\u001b[0;34m.\u001b[0m\u001b[0mfilenameToDate\u001b[0m\u001b[0;34m(\u001b[0m\u001b[0meq_name\u001b[0m\u001b[0;34m)\u001b[0m\u001b[0;34m\u001b[0m\u001b[0;34m\u001b[0m\u001b[0m\n\u001b[0m\u001b[1;32m      9\u001b[0m \u001b[0;34m\u001b[0m\u001b[0m\n\u001b[1;32m     10\u001b[0m     \u001b[0mfilter_start\u001b[0m \u001b[0;34m=\u001b[0m \u001b[0mstr\u001b[0m\u001b[0;34m(\u001b[0m\u001b[0mUTCDateTime\u001b[0m\u001b[0;34m(\u001b[0m\u001b[0md\u001b[0m\u001b[0;34m-\u001b[0m\u001b[0mtimedelta\u001b[0m\u001b[0;34m(\u001b[0m\u001b[0mseconds\u001b[0m\u001b[0;34m=\u001b[0m\u001b[0;36m1\u001b[0m\u001b[0;34m)\u001b[0m\u001b[0;34m)\u001b[0m\u001b[0;34m)\u001b[0m\u001b[0;34m\u001b[0m\u001b[0;34m\u001b[0m\u001b[0m\n",
      "\u001b[0;32m/home/earthquakes1/homes/Rebecca/phd/seismo_det/code/util.py\u001b[0m in \u001b[0;36mfilenameToDate\u001b[0;34m(filename)\u001b[0m\n\u001b[1;32m     41\u001b[0m     \u001b[0mminute\u001b[0m \u001b[0;34m=\u001b[0m \u001b[0mint\u001b[0m\u001b[0;34m(\u001b[0m\u001b[0mfilename\u001b[0m\u001b[0;34m[\u001b[0m\u001b[0;36m11\u001b[0m\u001b[0;34m:\u001b[0m\u001b[0;36m13\u001b[0m\u001b[0;34m]\u001b[0m\u001b[0;34m)\u001b[0m\u001b[0;34m\u001b[0m\u001b[0;34m\u001b[0m\u001b[0m\n\u001b[1;32m     42\u001b[0m     \u001b[0msecond\u001b[0m \u001b[0;34m=\u001b[0m \u001b[0mint\u001b[0m\u001b[0;34m(\u001b[0m\u001b[0mfilename\u001b[0m\u001b[0;34m[\u001b[0m\u001b[0;36m13\u001b[0m\u001b[0;34m:\u001b[0m\u001b[0;36m15\u001b[0m\u001b[0;34m]\u001b[0m\u001b[0;34m)\u001b[0m\u001b[0;34m\u001b[0m\u001b[0;34m\u001b[0m\u001b[0m\n\u001b[0;32m---> 43\u001b[0;31m     \u001b[0mdate\u001b[0m \u001b[0;34m=\u001b[0m \u001b[0mdatetime\u001b[0m\u001b[0;34m.\u001b[0m\u001b[0mdatetime\u001b[0m\u001b[0;34m(\u001b[0m\u001b[0myear\u001b[0m\u001b[0;34m,\u001b[0m \u001b[0mmonth\u001b[0m\u001b[0;34m,\u001b[0m \u001b[0mday\u001b[0m\u001b[0;34m,\u001b[0m \u001b[0mhour\u001b[0m\u001b[0;34m,\u001b[0m \u001b[0mminute\u001b[0m\u001b[0;34m,\u001b[0m \u001b[0msecond\u001b[0m\u001b[0;34m)\u001b[0m\u001b[0;34m\u001b[0m\u001b[0;34m\u001b[0m\u001b[0m\n\u001b[0m\u001b[1;32m     44\u001b[0m     \u001b[0;32mreturn\u001b[0m \u001b[0mdate\u001b[0m\u001b[0;34m\u001b[0m\u001b[0;34m\u001b[0m\u001b[0m\n\u001b[1;32m     45\u001b[0m \u001b[0;34m\u001b[0m\u001b[0m\n",
      "\u001b[0;31mNameError\u001b[0m: name 'datetime' is not defined"
     ]
    }
   ],
   "source": [
    "list_tpmax = []\n",
    "list_mags = []\n",
    "list_tc= []\n",
    "eqs = {}\n",
    "count = 0\n",
    "for eq_name in eq_with_data:\n",
    "    \n",
    "    d = util.filenameToDate(eq_name)\n",
    "    \n",
    "    filter_start = str(UTCDateTime(d-timedelta(seconds=1)))\n",
    "    filter_stop = str(UTCDateTime(d+timedelta(seconds=1)))\n",
    "    \n",
    "    event = cat.filter('time > ' + filter_start, 'time < ' + filter_stop)\n",
    "    # print(event)\n",
    "    data = obspy.read(root+eq_name+'/data/*/*')\n",
    "    with open(root+eq_name+'/picks.pkl', 'rb') as f:\n",
    "        picks = pickle.load(f)\n",
    "    obj_name = eq_name[0:-2]\n",
    "    eqs[obj_name] = earthquake(eq_name, event, data, picks, sensor_types = [])\n",
    "    eqs[obj_name].calc_Tpmax()\n",
    "    eqs[obj_name].calc_Tc()\n",
    "    list_tpmax.append(eqs[obj_name]._cached_params[\"tau_p_max\"])\n",
    "    list_tc.append(eqs[obj_name]._cached_params[\"tau_c\"])\n",
    "    list_mags.append(eqs[obj_name].event.magnitudes[0].mag)\n",
    "    print('earthquake number' + str(count) + 'done. It was ' + eq_name)\n",
    "    count += 1"
   ]
  },
  {
   "cell_type": "code",
   "execution_count": null,
   "metadata": {},
   "outputs": [],
   "source": [
    "def model_function(x_data, a, b):\n",
    "    return 10**(a*x_data + b)"
   ]
  },
  {
   "cell_type": "code",
   "execution_count": null,
   "metadata": {},
   "outputs": [],
   "source": [
    "cs = ['#000000']\n",
    "fig, axs = plt.subplots(1,2)\n",
    "y_aves = []\n",
    "x_aves = []\n",
    "\n",
    "for i  in range(0, len(list_mags)):  \n",
    "    mean_tp = np.mean(list_tpmax[i]) \n",
    "    std_tp = np.std(list_tpmax[i]) \n",
    "    y_tp = [] \n",
    "    for j in list_tpmax[i]: \n",
    "        if j > mean_tp-std_tp and j < mean_tp + std_tp and j < 10: \n",
    "            y_tp.append(j) \n",
    "    x_tp = np.zeros(len(y_tp))  \n",
    "    x_tp = x_tp + list_mags[i]  \n",
    "\n",
    "    mean_tc = np.mean(list_tc[i]) \n",
    "    std_tc = np.std(list_tc[i]) \n",
    "    y_tc = [] \n",
    "    for k in list_tc[i]: \n",
    "        if k > mean_tc-std_tc and k < mean_tc + std_tc and k < 10: \n",
    "            y_tc.append(k) \n",
    "    x_tc = np.zeros(len(y_tc))  \n",
    "    x_tc = x_tc + list_mags[i]\n",
    "    c = 0\n",
    "    if len(x_tp)>0 or len(x_tc)>0:\n",
    "        axs[0].scatter(x_tp, y_tp, s = 15, alpha = 0.2, c = cs[c], marker = '^') \n",
    "        #axs[0].scatter(list_mags[i], np.mean(y_tp), s = 50, c = cs[c], marker = 'o')\n",
    "        axs[0].scatter(list_mags[i], np.median(y_tp), s = 50, c = cs[c], marker = '^')\n",
    "        axs[1].scatter(x_tc, y_tc, s = 15, alpha = 0.2, c = cs[c], marker = '^') \n",
    "        axs[1].scatter(list_mags[i], np.median(y_tc), s = 50, c = cs[c], marker = '^')\n",
    "        #axs[1].scatter(list_mags[i], np.mean(y_tc), s = 50, c = cs[c], marker = 'o')\n",
    "        #FOR CURVE FITTING\n",
    "        if math.isnan(np.median(y_tp))==False:\n",
    "            y_aves.append(np.median(y_tp))\n",
    "            x_aves.append(list_mags[i])\n",
    "\n",
    "axs[0].set_yscale('log')\n",
    "axs[1].set_yscale('log')\n",
    "axs[0].set_xlabel(\"magnitude\") \n",
    "axs[1].set_xlabel(\"magnitude\") \n",
    "axs[0].set_ylabel(\"tp_max\") \n",
    "axs[1].set_ylabel(\"tc\")\n",
    "axs[0].set_title(\"tp_max\") \n",
    "axs[1].set_title(\"tc\") \n",
    "fig.suptitle(\"median = triangle\")"
   ]
  },
  {
   "cell_type": "code",
   "execution_count": null,
   "metadata": {},
   "outputs": [],
   "source": [
    "#plot line of best fit from olsen and allen 2005\n",
    "x = np.arange(5, 7, 0.1)\n",
    "x_lower = x - 0.54*2\n",
    "x_upper =  x + 0.54*2\n",
    "y = 10**(0.14*x-0.83)\n",
    "y_lower = 10**(0.14*x_lower-0.83)\n",
    "y_upper = 10**(0.14*x_upper-0.83)\n",
    "axs[0].plot(x, y, color = 'red')\n",
    "axs[0].plot(x, y_lower, color = 'red', linestyle = '--')\n",
    "axs[0].plot(x, y_upper, color = 'red', linestyle = '--')"
   ]
  },
  {
   "cell_type": "code",
   "execution_count": null,
   "metadata": {},
   "outputs": [],
   "source": [
    "# plot my own line of best fit\n",
    "popt, pcov = curve_fit(model_function, x_aves, y_aves)\n",
    "axs[0].plot(np.array(x_aves), model_function(np.array(x_aves), *popt), color='blue')"
   ]
  },
  {
   "cell_type": "code",
   "execution_count": null,
   "metadata": {},
   "outputs": [],
   "source": [
    "plt.show()"
   ]
  },
  {
   "cell_type": "code",
   "execution_count": null,
   "metadata": {},
   "outputs": [],
   "source": []
  },
  {
   "cell_type": "code",
   "execution_count": null,
   "metadata": {},
   "outputs": [],
   "source": []
  },
  {
   "cell_type": "code",
   "execution_count": null,
   "metadata": {},
   "outputs": [],
   "source": []
  },
  {
   "cell_type": "code",
   "execution_count": null,
   "metadata": {},
   "outputs": [],
   "source": []
  },
  {
   "cell_type": "code",
   "execution_count": null,
   "metadata": {},
   "outputs": [],
   "source": []
  },
  {
   "cell_type": "code",
   "execution_count": null,
   "metadata": {},
   "outputs": [],
   "source": []
  },
  {
   "cell_type": "code",
   "execution_count": null,
   "metadata": {},
   "outputs": [],
   "source": []
  },
  {
   "cell_type": "code",
   "execution_count": null,
   "metadata": {},
   "outputs": [],
   "source": []
  },
  {
   "cell_type": "code",
   "execution_count": null,
   "metadata": {},
   "outputs": [],
   "source": []
  },
  {
   "cell_type": "code",
   "execution_count": null,
   "metadata": {},
   "outputs": [],
   "source": []
  },
  {
   "cell_type": "code",
   "execution_count": null,
   "metadata": {},
   "outputs": [],
   "source": []
  },
  {
   "cell_type": "code",
   "execution_count": null,
   "metadata": {},
   "outputs": [],
   "source": []
  },
  {
   "cell_type": "code",
   "execution_count": null,
   "metadata": {},
   "outputs": [],
   "source": []
  },
  {
   "cell_type": "code",
   "execution_count": null,
   "metadata": {},
   "outputs": [],
   "source": []
  },
  {
   "cell_type": "code",
   "execution_count": null,
   "metadata": {},
   "outputs": [],
   "source": []
  },
  {
   "cell_type": "code",
   "execution_count": null,
   "metadata": {},
   "outputs": [],
   "source": []
  },
  {
   "cell_type": "code",
   "execution_count": null,
   "metadata": {},
   "outputs": [],
   "source": []
  }
 ],
 "metadata": {
  "kernelspec": {
   "display_name": "Python 3",
   "language": "python",
   "name": "python3"
  },
  "language_info": {
   "codemirror_mode": {
    "name": "ipython",
    "version": 3
   },
   "file_extension": ".py",
   "mimetype": "text/x-python",
   "name": "python",
   "nbconvert_exporter": "python",
   "pygments_lexer": "ipython3",
   "version": "3.7.5"
  }
 },
 "nbformat": 4,
 "nbformat_minor": 2
}
