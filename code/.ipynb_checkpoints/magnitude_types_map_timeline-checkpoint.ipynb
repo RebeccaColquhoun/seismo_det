{
 "cells": [
  {
   "cell_type": "code",
   "execution_count": 2,
   "id": "cbf680e4",
   "metadata": {},
   "outputs": [],
   "source": [
    "'''\n",
    "uses objects to calculate iv2 and then puts those into dataframe and list\n",
    "'''\n",
    "import os\n",
    "import pickle\n",
    "import pandas as pd\n",
    "import numpy as np\n",
    "from scipy import optimize\n",
    "import matplotlib.pyplot as plt\n",
    "import obspy\n",
    "import earthquake\n",
    "import util\n",
    "\n",
    "\n",
    "from matplotlib.widgets import PolygonSelector\n",
    "from matplotlib.path import Path\n",
    "from obspy.clients.fdsn import Client\n",
    "import cartopy.crs as ccrs\n",
    "import matplotlib.patches as patches\n",
    "import pandas as pd\n",
    "import cartopy.feature as cf\n",
    "\n",
    "from datetime import date\n",
    "\n",
    "#+++++++PLOTTING++++++++++\n",
    "# LINE_BY_MAG_TYPE = True\n",
    "# COLOR_BY_MAG_TYPE = True"
   ]
  },
  {
   "cell_type": "code",
   "execution_count": 3,
   "id": "ba0ad4ce",
   "metadata": {},
   "outputs": [],
   "source": [
    "list_mag = []\n",
    "list_dist = []\n",
    "list_iv2 = []\n",
    "list_mag_types = []\n",
    "\n",
    "ROOT = '/home/earthquakes1/homes/Rebecca/phd/data/2019_global_m3/'\n",
    "eq_list = os.listdir(ROOT)\n",
    "cat = obspy.read_events('/home/earthquakes1/homes/Rebecca/phd/data/2019_global_m3_catalog.xml')\n",
    "\n",
    "eq_with_data = []\n",
    "cat_with_data = obspy.Catalog()  # cat.copy()\n",
    "# cat_with_data.clear()\n",
    "for event in cat:  # check earthquakes have data AND PICKS\n",
    "    eq_name = util.catEventToFileName(event)\n",
    "    if (os.path.isdir(ROOT+eq_name) and\n",
    "            os.path.isdir(ROOT+eq_name+'/station_xml_files') and\n",
    "            os.path.exists(ROOT+eq_name+'/picks.pkl')):\n",
    "        eq_with_data.append(eq_name)\n",
    "        cat_with_data.extend([event])"
   ]
  },
  {
   "cell_type": "code",
   "execution_count": 4,
   "id": "58923449",
   "metadata": {},
   "outputs": [
    {
     "data": {
      "text/plain": [
       "'mb'"
      ]
     },
     "execution_count": 4,
     "metadata": {},
     "output_type": "execute_result"
    }
   ],
   "source": [
    "cat_with_data[0].magnitudes[0].magnitude_type"
   ]
  },
  {
   "cell_type": "code",
   "execution_count": 5,
   "id": "f380d79c",
   "metadata": {},
   "outputs": [],
   "source": [
    "to_plot_list = []\n",
    "for cat_entry in cat_with_data:\n",
    "        to_plot_list.append([cat_entry.origins[0].latitude, cat_entry.origins[0].longitude, cat_entry.origins[0].depth, cat_entry.magnitudes[0].mag, cat_entry.magnitudes[0].magnitude_type[0:2].lower(), cat_entry.origins[0].time])\n",
    "to_plot=pd.DataFrame(to_plot_list, columns = ['lat', 'long', 'depth', 'mag', 'mag_type', 'time'])"
   ]
  },
  {
   "cell_type": "code",
   "execution_count": 6,
   "id": "6df9ec2c",
   "metadata": {},
   "outputs": [
    {
     "data": {
      "text/html": [
       "<div>\n",
       "<style scoped>\n",
       "    .dataframe tbody tr th:only-of-type {\n",
       "        vertical-align: middle;\n",
       "    }\n",
       "\n",
       "    .dataframe tbody tr th {\n",
       "        vertical-align: top;\n",
       "    }\n",
       "\n",
       "    .dataframe thead th {\n",
       "        text-align: right;\n",
       "    }\n",
       "</style>\n",
       "<table border=\"1\" class=\"dataframe\">\n",
       "  <thead>\n",
       "    <tr style=\"text-align: right;\">\n",
       "      <th></th>\n",
       "      <th>lat</th>\n",
       "      <th>long</th>\n",
       "      <th>depth</th>\n",
       "      <th>mag</th>\n",
       "      <th>mag_type</th>\n",
       "      <th>time</th>\n",
       "    </tr>\n",
       "  </thead>\n",
       "  <tbody>\n",
       "    <tr>\n",
       "      <th>0</th>\n",
       "      <td>-20.486500</td>\n",
       "      <td>-69.016500</td>\n",
       "      <td>102120.0</td>\n",
       "      <td>4.20</td>\n",
       "      <td>mb</td>\n",
       "      <td>2019-01-31T19:49:49.660000Z</td>\n",
       "    </tr>\n",
       "    <tr>\n",
       "      <th>1</th>\n",
       "      <td>8.978200</td>\n",
       "      <td>-83.757800</td>\n",
       "      <td>13590.0</td>\n",
       "      <td>4.90</td>\n",
       "      <td>mw</td>\n",
       "      <td>2019-01-31T13:09:53.370000Z</td>\n",
       "    </tr>\n",
       "    <tr>\n",
       "      <th>2</th>\n",
       "      <td>56.298000</td>\n",
       "      <td>-149.259000</td>\n",
       "      <td>19350.0</td>\n",
       "      <td>4.10</td>\n",
       "      <td>ml</td>\n",
       "      <td>2019-01-31T13:03:50.890000Z</td>\n",
       "    </tr>\n",
       "    <tr>\n",
       "      <th>3</th>\n",
       "      <td>17.957100</td>\n",
       "      <td>-68.394500</td>\n",
       "      <td>52000.0</td>\n",
       "      <td>3.09</td>\n",
       "      <td>md</td>\n",
       "      <td>2019-01-31T10:16:56.840000Z</td>\n",
       "    </tr>\n",
       "    <tr>\n",
       "      <th>4</th>\n",
       "      <td>53.522800</td>\n",
       "      <td>-167.269200</td>\n",
       "      <td>8590.0</td>\n",
       "      <td>3.00</td>\n",
       "      <td>ml</td>\n",
       "      <td>2019-01-31T08:55:20.080000Z</td>\n",
       "    </tr>\n",
       "    <tr>\n",
       "      <th>...</th>\n",
       "      <td>...</td>\n",
       "      <td>...</td>\n",
       "      <td>...</td>\n",
       "      <td>...</td>\n",
       "      <td>...</td>\n",
       "      <td>...</td>\n",
       "    </tr>\n",
       "    <tr>\n",
       "      <th>3381</th>\n",
       "      <td>35.787000</td>\n",
       "      <td>-117.619333</td>\n",
       "      <td>3010.0</td>\n",
       "      <td>3.68</td>\n",
       "      <td>ml</td>\n",
       "      <td>2019-07-06T06:47:08.090000Z</td>\n",
       "    </tr>\n",
       "    <tr>\n",
       "      <th>3382</th>\n",
       "      <td>35.784667</td>\n",
       "      <td>-117.601833</td>\n",
       "      <td>5000.0</td>\n",
       "      <td>3.44</td>\n",
       "      <td>ml</td>\n",
       "      <td>2019-07-06T06:47:07.980000Z</td>\n",
       "    </tr>\n",
       "    <tr>\n",
       "      <th>3383</th>\n",
       "      <td>-18.441600</td>\n",
       "      <td>176.438400</td>\n",
       "      <td>10000.0</td>\n",
       "      <td>4.60</td>\n",
       "      <td>mb</td>\n",
       "      <td>2019-07-06T06:41:16.710000Z</td>\n",
       "    </tr>\n",
       "    <tr>\n",
       "      <th>3384</th>\n",
       "      <td>35.800835</td>\n",
       "      <td>-117.633499</td>\n",
       "      <td>6550.0</td>\n",
       "      <td>3.90</td>\n",
       "      <td>ml</td>\n",
       "      <td>2019-07-06T06:41:15.080000Z</td>\n",
       "    </tr>\n",
       "    <tr>\n",
       "      <th>3385</th>\n",
       "      <td>35.895168</td>\n",
       "      <td>-117.726669</td>\n",
       "      <td>7470.0</td>\n",
       "      <td>4.30</td>\n",
       "      <td>ml</td>\n",
       "      <td>2019-07-06T06:34:47.460000Z</td>\n",
       "    </tr>\n",
       "  </tbody>\n",
       "</table>\n",
       "<p>3386 rows × 6 columns</p>\n",
       "</div>"
      ],
      "text/plain": [
       "            lat        long     depth   mag mag_type  \\\n",
       "0    -20.486500  -69.016500  102120.0  4.20       mb   \n",
       "1      8.978200  -83.757800   13590.0  4.90       mw   \n",
       "2     56.298000 -149.259000   19350.0  4.10       ml   \n",
       "3     17.957100  -68.394500   52000.0  3.09       md   \n",
       "4     53.522800 -167.269200    8590.0  3.00       ml   \n",
       "...         ...         ...       ...   ...      ...   \n",
       "3381  35.787000 -117.619333    3010.0  3.68       ml   \n",
       "3382  35.784667 -117.601833    5000.0  3.44       ml   \n",
       "3383 -18.441600  176.438400   10000.0  4.60       mb   \n",
       "3384  35.800835 -117.633499    6550.0  3.90       ml   \n",
       "3385  35.895168 -117.726669    7470.0  4.30       ml   \n",
       "\n",
       "                             time  \n",
       "0     2019-01-31T19:49:49.660000Z  \n",
       "1     2019-01-31T13:09:53.370000Z  \n",
       "2     2019-01-31T13:03:50.890000Z  \n",
       "3     2019-01-31T10:16:56.840000Z  \n",
       "4     2019-01-31T08:55:20.080000Z  \n",
       "...                           ...  \n",
       "3381  2019-07-06T06:47:08.090000Z  \n",
       "3382  2019-07-06T06:47:07.980000Z  \n",
       "3383  2019-07-06T06:41:16.710000Z  \n",
       "3384  2019-07-06T06:41:15.080000Z  \n",
       "3385  2019-07-06T06:34:47.460000Z  \n",
       "\n",
       "[3386 rows x 6 columns]"
      ]
     },
     "execution_count": 6,
     "metadata": {},
     "output_type": "execute_result"
    }
   ],
   "source": [
    "to_plot"
   ]
  },
  {
   "cell_type": "code",
   "execution_count": 7,
   "id": "83cd277c",
   "metadata": {},
   "outputs": [
    {
     "data": {
      "text/plain": [
       "{'resource_id': smi:service.iris.edu/fdsnws/event/1/query?eventid=11058889,\n",
       " 'event_type': 'earthquake',\n",
       " 'event_type_certainty': None,\n",
       " 'creation_info': None,\n",
       " 'preferred_origin_id': smi:service.iris.edu/fdsnws/event/1/query?originid=39464688,\n",
       " 'preferred_magnitude_id': smi:service.iris.edu/fdsnws/event/1/query?magnitudeid=195053049,\n",
       " 'preferred_focal_mechanism_id': None,\n",
       " 'event_descriptions': [EventDescription(text='CENTRAL CALIFORNIA', type='Flinn-Engdahl region')],\n",
       " 'comments': [],\n",
       " 'picks': [],\n",
       " 'amplitudes': [],\n",
       " 'focal_mechanisms': [],\n",
       " 'origins': [Origin\n",
       "\t   resource_id: ResourceIdentifier(id=\"smi:service.iris.edu/fdsnws/event/1/query?originid=39464688\")\n",
       "\t          time: UTCDateTime(2019, 7, 6, 6, 34, 47, 460000)\n",
       "\t     longitude: -117.726669\n",
       "\t      latitude: 35.895168\n",
       "\t         depth: 7470.0\n",
       "\t creation_info: CreationInfo(author='ci,us')],\n",
       " 'magnitudes': [Magnitude\n",
       "\t    resource_id: ResourceIdentifier(id=\"smi:service.iris.edu/fdsnws/event/1/query?magnitudeid=195053049\")\n",
       "\t            mag: 4.3\n",
       "\t magnitude_type: 'ML'\n",
       "\t  creation_info: CreationInfo(author='ci')],\n",
       " 'station_magnitudes': [],\n",
       " '_format': 'QUAKEML'}"
      ]
     },
     "execution_count": 7,
     "metadata": {},
     "output_type": "execute_result"
    }
   ],
   "source": [
    "cat_entry.__dict__"
   ]
  },
  {
   "cell_type": "code",
   "execution_count": 8,
   "id": "88c98c53",
   "metadata": {},
   "outputs": [
    {
     "ename": "NameError",
     "evalue": "name 'fig' is not defined",
     "output_type": "error",
     "traceback": [
      "\u001b[0;31m---------------------------------------------------------------------------\u001b[0m",
      "\u001b[0;31mNameError\u001b[0m                                 Traceback (most recent call last)",
      "\u001b[0;32m/tmp/ipykernel_697096/3903555505.py\u001b[0m in \u001b[0;36m<module>\u001b[0;34m\u001b[0m\n\u001b[0;32m----> 1\u001b[0;31m \u001b[0mfig\u001b[0m\u001b[0;34m\u001b[0m\u001b[0;34m\u001b[0m\u001b[0m\n\u001b[0m",
      "\u001b[0;31mNameError\u001b[0m: name 'fig' is not defined"
     ]
    }
   ],
   "source": [
    "fig"
   ]
  },
  {
   "cell_type": "code",
   "execution_count": null,
   "id": "2ec6a6f2",
   "metadata": {},
   "outputs": [],
   "source": [
    "        colors = ['#ed8b00','#dd4124','#0f85a0','#edd746']\n",
    "        #colors = ['#625a95','#cc5c75','#f47947','#f7ac2b']\n",
    "        groups = to_plot.groupby(['mag_type'])\n",
    "        for  j,(k,v) in enumerate(groups):\n",
    "            axs.scatter(np.array(v.mag)+np.transpose(np.random.uniform(-0.05, 0.05, size=(len(v.mag),1))), np.log10(v.iv2*(v.dist**2)),\n",
    "                       color = colors[j],\n",
    "                       alpha = 0.5,\n",
    "                       marker = '.',\n",
    "                       label = k + ',' + str(len(v.mag_type)))\n",
    "            dist_corr_mult = v.iv2*(v.dist**2)\n",
    "            mag_plot = v.mag\n",
    "            initial_guess = (1.4,0)\n",
    "            res = optimize.minimize(obj, initial_guess, method = 'Nelder-mead')\n",
    "            def obj(to_opt):\n",
    "                '''optimisation function'''\n",
    "                a_opt=to_opt[0]\n",
    "                b_opt=to_opt[1]\n",
    "                #importance = np.array(n)\n",
    "                y_real= np.log10(dist_corr_mult)\n",
    "                x_list = np.array(mag_plot)\n",
    "                y_guess = (a_opt*x_list+b_opt)\n",
    "                #print(y_guess)\n",
    "                return sum(abs(y_guess-y_real))\n",
    "            x = np.arange(min(mag_plot), max(mag_plot), 0.1)\n",
    "            y = res.x[0] * x + res.x[1]\n",
    "            axs.plot(x,y, label = str(res.x[0]) + '*x+'+ str(res.x[1]), color = colors[j])"
   ]
  },
  {
   "cell_type": "code",
   "execution_count": 20,
   "id": "fdc7a1ee",
   "metadata": {},
   "outputs": [
    {
     "name": "stderr",
     "output_type": "stream",
     "text": [
      "<>:5: SyntaxWarning: \"is not\" with a literal. Did you mean \"!=\"?\n",
      "<>:5: SyntaxWarning: \"is not\" with a literal. Did you mean \"!=\"?\n",
      "/tmp/ipykernel_697096/1412807121.py:5: SyntaxWarning: \"is not\" with a literal. Did you mean \"!=\"?\n",
      "  valid_markers = ([item[0] for item in mpl.markers.MarkerStyle.markers.items() if item[1] is not 'nothing' and not item[1].startswith('tick') and not item[1].startswith('caret')])\n",
      "/home/earthquakes1/software/Mageia8/anaconda3/lib/python3.9/site-packages/cartopy/mpl/geoaxes.py:1546: UserWarning: You passed a edgecolor/edgecolors ('none') for an unfilled marker ('x').  Matplotlib is ignoring the edgecolor in favor of the facecolor.  This behavior may change in the future.\n",
      "  result = matplotlib.axes.Axes.scatter(self, *args, **kwargs)\n"
     ]
    },
    {
     "data": {
      "text/plain": [
       "<matplotlib.legend.Legend at 0x7ff505eaddf0>"
      ]
     },
     "execution_count": 20,
     "metadata": {},
     "output_type": "execute_result"
    }
   ],
   "source": [
    "%matplotlib qt\n",
    "import cartopy.feature as cfeature\n",
    "colors = {'ml':'#0f85a0','mw':'#edd746','mb':'#ed8b00','md':'#dd4124'}\n",
    "import matplotlib as mpl#markers = {'ml':'x','mw':'o','mb':'x','md':'^'}\n",
    "valid_markers = ([item[0] for item in mpl.markers.MarkerStyle.markers.items() if item[1] is not 'nothing' and not item[1].startswith('tick') and not item[1].startswith('caret')])\n",
    "fig = plt.figure(figsize=(12, 12))\n",
    "ax = fig.add_subplot(1,1,1,projection=ccrs.PlateCarree())\n",
    "ax.coastlines()\n",
    "ax.add_feature(cf.BORDERS)\n",
    "ax.add_feature(cfeature.OCEAN, color = 'silver', alpha = 0.4)\n",
    "ax.add_feature(cfeature.LAND,color='white')\n",
    "colors = {'ml':'#0f85a0','mw':'#edd746','mb':'#ed8b00','md':'#dd4124'}\n",
    "#pts = ax.scatter(to_plot['long'], to_plot['lat'], c = list(to_plot.mag_type.map(colors)), marker = 'o', alpha = 0.5)\n",
    "colors = ['#ed8b00','#dd4124','#0f85a0','#edd746']\n",
    "groups = to_plot.groupby(['mag_type'])\n",
    "markers = ['o','x','^','s']\n",
    "zorders = [0,3,1,2]\n",
    "for  j,(k,v) in enumerate(groups):\n",
    "    ax.scatter(v.long,v.lat,\n",
    "               color = colors[j],\n",
    "               alpha = 1,\n",
    "               marker = markers[j],\n",
    "               s = 20,\n",
    "               zorder = zorders[j],\n",
    "               label = k + ',' + str(len(v.mag_type)),\n",
    "              edgecolors='none')\n",
    "im_ratio = ax.bbox.width/ax.bbox.height\n",
    "#plt.colorbar(pts, fraction=0.01*im_ratio, pad=0.04, label='mag')\n",
    "#for key in colors.keys():\n",
    "#    ax.scatter(180,0, c = colors[key], label = key, marker = 'o')\n",
    "plt.legend()"
   ]
  },
  {
   "cell_type": "code",
   "execution_count": 108,
   "id": "c5b1027f",
   "metadata": {},
   "outputs": [
    {
     "data": {
      "text/plain": [
       "3"
      ]
     },
     "execution_count": 108,
     "metadata": {},
     "output_type": "execute_result"
    }
   ],
   "source": [
    "j"
   ]
  },
  {
   "cell_type": "code",
   "execution_count": 22,
   "id": "1fd8dd0f",
   "metadata": {},
   "outputs": [],
   "source": [
    "# reference: https://mentalitch.com/key-events-in-rock-and-roll-history/\n",
    "from datetime import timedelta\n",
    "dates = to_plot['time']\n",
    "min_date = date(np.min(dates).year, np.min(dates).month, np.min(dates).day)-timedelta(days = 5)\n",
    "max_date = date(np.max(dates).year, np.max(dates).month, np.max(dates).day)+timedelta(days = 20)"
   ]
  },
  {
   "cell_type": "code",
   "execution_count": 23,
   "id": "02fc8e36",
   "metadata": {},
   "outputs": [
    {
     "data": {
      "text/plain": [
       "0       2019-01-31T19:49:49.660000Z\n",
       "1       2019-01-31T13:09:53.370000Z\n",
       "2       2019-01-31T13:03:50.890000Z\n",
       "3       2019-01-31T10:16:56.840000Z\n",
       "4       2019-01-31T08:55:20.080000Z\n",
       "                   ...             \n",
       "3381    2019-07-06T06:47:08.090000Z\n",
       "3382    2019-07-06T06:47:07.980000Z\n",
       "3383    2019-07-06T06:41:16.710000Z\n",
       "3384    2019-07-06T06:41:15.080000Z\n",
       "3385    2019-07-06T06:34:47.460000Z\n",
       "Name: time, Length: 3386, dtype: object"
      ]
     },
     "execution_count": 23,
     "metadata": {},
     "output_type": "execute_result"
    }
   ],
   "source": [
    "dates"
   ]
  },
  {
   "cell_type": "code",
   "execution_count": 24,
   "id": "ff1aa2fd",
   "metadata": {},
   "outputs": [
    {
     "data": {
      "text/plain": [
       "0.4633622782315042"
      ]
     },
     "execution_count": 24,
     "metadata": {},
     "output_type": "execute_result"
    }
   ],
   "source": [
    "np.random.rand()"
   ]
  },
  {
   "cell_type": "code",
   "execution_count": 25,
   "id": "2f28fd48",
   "metadata": {},
   "outputs": [
    {
     "data": {
      "text/plain": [
       "([], [])"
      ]
     },
     "execution_count": 25,
     "metadata": {},
     "output_type": "execute_result"
    }
   ],
   "source": [
    "fig, ax = plt.subplots(figsize=(15, 4), constrained_layout=True)\n",
    "#_ = ax.set_ylim(-0.1, 1.1)\n",
    "_ = ax.set_xlim(min_date, max_date)\n",
    "#_ = ax.axhline(0, xmin=0.05, xmax=0.95, c='deeppink', zorder=1)\n",
    "y = np.random.rand(len(dates))\n",
    "#_ = ax.scatter(dates, y, s=120, c = list(to_plot.mag_type.map(colors)), marker = '.')\n",
    "\n",
    "colors = ['#ed8b00','#dd4124','#0f85a0','#edd746']\n",
    "groups = to_plot.groupby(['mag_type'])\n",
    "markers = ['o','x','^','s']\n",
    "zorders = [0,3,1,2]\n",
    "\n",
    "for  j,(k,v) in enumerate(groups):\n",
    "    ax.scatter(v.time,np.zeros(len(v.time))+j+np.random.rand(len(v.time)),\n",
    "               color = colors[j],\n",
    "               alpha = 1,\n",
    "               marker = markers[j],\n",
    "               s = 30,\n",
    "               zorder = zorders[j],\n",
    "               label = k + ',' + str(len(v.mag_type)))\n",
    "plt.legend()\n",
    "plt.yticks([])"
   ]
  },
  {
   "cell_type": "code",
   "execution_count": 83,
   "id": "7e55206f",
   "metadata": {},
   "outputs": [
    {
     "data": {
      "text/plain": [
       "array([ 0.04524652,  0.7535646 ,  0.7276717 , ...,  0.3035848 ,\n",
       "        0.37905991,  0.94968318])"
      ]
     },
     "execution_count": 83,
     "metadata": {},
     "output_type": "execute_result"
    }
   ],
   "source": [
    "np.random.rand(len(dates))"
   ]
  },
  {
   "cell_type": "code",
   "execution_count": null,
   "id": "7dac9c62",
   "metadata": {},
   "outputs": [],
   "source": []
  }
 ],
 "metadata": {
  "kernelspec": {
   "display_name": "Python 3 (ipykernel)",
   "language": "python",
   "name": "python3"
  },
  "language_info": {
   "codemirror_mode": {
    "name": "ipython",
    "version": 3
   },
   "file_extension": ".py",
   "mimetype": "text/x-python",
   "name": "python",
   "nbconvert_exporter": "python",
   "pygments_lexer": "ipython3",
   "version": "3.9.7"
  }
 },
 "nbformat": 4,
 "nbformat_minor": 5
}
