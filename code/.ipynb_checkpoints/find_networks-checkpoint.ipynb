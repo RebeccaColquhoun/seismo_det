{
 "cells": [
  {
   "cell_type": "code",
   "execution_count": null,
   "id": "c3616234",
   "metadata": {},
   "outputs": [],
   "source": [
    "import numpy as np\n",
    "import obspy\n",
    "import os\n",
    "import util\n",
    "import pickle"
   ]
  },
  {
   "cell_type": "code",
   "execution_count": null,
   "id": "a6d882fa",
   "metadata": {},
   "outputs": [],
   "source": [
    "root = '/home/earthquakes1/homes/Rebecca/phd/data/2018_2021_global_m5/'\n",
    "\n",
    "eq_list = os.listdir(root)\n",
    "\n",
    "cat = obspy.read_events('/home/earthquakes1/homes/Rebecca/phd/data/2018_2021_global_m5_catalog.xml')\n"
   ]
  },
  {
   "cell_type": "code",
   "execution_count": null,
   "id": "e8c1b527",
   "metadata": {},
   "outputs": [],
   "source": [
    "eq_with_data = []\n",
    "cat_with_data = cat.copy()\n",
    "cat_with_data.clear()\n",
    "for event in cat:\n",
    "    eq_name = util.catEventToFileName(event)\n",
    "    if os.path.isdir(root+eq_name) and os.path.isdir(root+eq_name+'/station_xml_files') and os.path.exists(root+eq_name+'/picks.pkl'):\n",
    "        eq_with_data.append(eq_name)\n",
    "        cat_with_data.extend([event])"
   ]
  },
  {
   "cell_type": "code",
   "execution_count": null,
   "id": "796ca834",
   "metadata": {
    "scrolled": false
   },
   "outputs": [],
   "source": [
    "networks = []\n",
    "for event in eq_with_data:\n",
    "    data_response_removed = []\n",
    "    try:\n",
    "        data = obspy.read(root+event+'/data/*/*')\n",
    "        with open(root+event+'/picks.pkl', 'rb') as file:\n",
    "            pickle.load(file)\n",
    "        inv = obspy.read_inventory(root+event+'/station_xml_files/*')\n",
    "        for trace in data:\n",
    "            try:\n",
    "                if trace.stats.sampling_rate > 20:\n",
    "                    data_response_removed.append(trace.remove_response(inv))\n",
    "            except:\n",
    "                continue\n",
    "    except:\n",
    "        continue\n",
    "    for trace in data_response_removed:\n",
    "        networks.append(trace.stats.network)\n"
   ]
  },
  {
   "cell_type": "code",
   "execution_count": null,
   "id": "295b37ce",
   "metadata": {},
   "outputs": [],
   "source": [
    "root = '/home/earthquakes1/homes/Rebecca/phd/data/2019_global_m3/'\n",
    "\n",
    "eq_list = os.listdir(root)\n",
    "\n",
    "cat_sml = obspy.read_events('/home/earthquakes1/homes/Rebecca/phd/data/2019_global_m3_catalog.xml')"
   ]
  },
  {
   "cell_type": "code",
   "execution_count": null,
   "id": "cf25bab4",
   "metadata": {},
   "outputs": [],
   "source": [
    "eq_with_data = []\n",
    "cat_with_data = cat.copy()\n",
    "cat_with_data.clear()\n",
    "for event in cat_sml:\n",
    "    eq_name = util.catEventToFileName(event)\n",
    "    if os.path.isdir(root+eq_name) and os.path.isdir(root+eq_name+'/station_xml_files') and os.path.exists(root+eq_name+'/picks.pkl'):\n",
    "        eq_with_data.append(eq_name)\n",
    "        cat_with_data.extend([event])"
   ]
  },
  {
   "cell_type": "code",
   "execution_count": null,
   "id": "2b204433",
   "metadata": {},
   "outputs": [],
   "source": [
    "for event in eq_with_data:\n",
    "    data_response_removed = []\n",
    "    try:\n",
    "        data = obspy.read(root+event+'/data/*/*')\n",
    "        with open(root+event+'/picks.pkl', 'rb') as file:\n",
    "            pickle.load(file)\n",
    "        inv = obspy.read_inventory(root+event+'/station_xml_files/*')\n",
    "        for trace in data:\n",
    "            try:\n",
    "                if trace.stats.sampling_rate > 20:\n",
    "                    data_response_removed.append(trace.remove_response(inv))\n",
    "            except:\n",
    "                continue\n",
    "    except:\n",
    "        continue\n",
    "    for trace in data_response_removed:\n",
    "        networks.append(trace.stats.network)\n",
    "print(np.unique(np.array(networks)))"
   ]
  },
  {
   "cell_type": "code",
   "execution_count": null,
   "id": "2aad285b",
   "metadata": {},
   "outputs": [],
   "source": [
    "print(np.unique(np.array(networks)))"
   ]
  }
 ],
 "metadata": {
  "kernelspec": {
   "display_name": "Python 3 (ipykernel)",
   "language": "python",
   "name": "python3"
  },
  "language_info": {
   "codemirror_mode": {
    "name": "ipython",
    "version": 3
   },
   "file_extension": ".py",
   "mimetype": "text/x-python",
   "name": "python",
   "nbconvert_exporter": "python",
   "pygments_lexer": "ipython3",
   "version": "3.10.4"
  }
 },
 "nbformat": 4,
 "nbformat_minor": 5
}
