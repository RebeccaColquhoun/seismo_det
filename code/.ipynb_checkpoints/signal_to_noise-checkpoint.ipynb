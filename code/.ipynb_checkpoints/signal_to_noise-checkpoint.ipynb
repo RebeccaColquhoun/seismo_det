{
 "cells": [
  {
   "cell_type": "code",
   "execution_count": 1,
   "id": "3eb736c7",
   "metadata": {},
   "outputs": [],
   "source": [
    "import os\n",
    "import scipy\n",
    "import numpy as np\n",
    "import matplotlib.pyplot as plt\n",
    "import obspy\n",
    "import pickle\n",
    "from obspy import UTCDateTime\n",
    "from obspy.clients.fdsn import Client\n",
    "import util\n",
    "import pandas as pd\n",
    "from obspy import read\n",
    "\n",
    "from obspy.io.xseed import Parser\n",
    "\n",
    "from obspy.signal import PPSD"
   ]
  },
  {
   "cell_type": "code",
   "execution_count": 2,
   "id": "2d98d363",
   "metadata": {},
   "outputs": [],
   "source": [
    "root = '/home/earthquakes1/homes/Rebecca/phd/data/2018_2021_global_m5/'#'/home/earthquakes1/homes/Rebecca/phd/data/2019_global_m5/'\n",
    "eq_list = os.listdir(root)"
   ]
  },
  {
   "cell_type": "code",
   "execution_count": 3,
   "id": "8c6745fe",
   "metadata": {},
   "outputs": [],
   "source": [
    "cat = obspy.read_events('/home/earthquakes1/homes/Rebecca/phd/data/2018_2021_global_m5_catalog.xml')"
   ]
  },
  {
   "cell_type": "code",
   "execution_count": 4,
   "id": "d46e0815",
   "metadata": {},
   "outputs": [],
   "source": [
    "eq_with_data = []\n",
    "cat_with_data = cat.copy()\n",
    "cat_with_data.clear()\n",
    "for event in cat:\n",
    "    eq_name = util.catEventToFileName(event)\n",
    "    if os.path.isdir(root+eq_name) and os.path.isdir(root+eq_name+'/station_xml_files'):\n",
    "        eq_with_data.append(eq_name)\n",
    "        cat_with_data.extend([event])"
   ]
  },
  {
   "cell_type": "code",
   "execution_count": 50,
   "id": "1f7923b4",
   "metadata": {},
   "outputs": [
    {
     "ename": "SyntaxError",
     "evalue": "unexpected EOF while parsing (3055454518.py, line 20)",
     "output_type": "error",
     "traceback": [
      "\u001b[0;36m  File \u001b[0;32m\"/tmp/ipykernel_3967/3055454518.py\"\u001b[0;36m, line \u001b[0;32m20\u001b[0m\n\u001b[0;31m    tr.remove_response(inv)\u001b[0m\n\u001b[0m                           ^\u001b[0m\n\u001b[0;31mSyntaxError\u001b[0m\u001b[0;31m:\u001b[0m unexpected EOF while parsing\n"
     ]
    }
   ],
   "source": [
    "eq_no = 0\n",
    "for eq_name in eq_with_data[0:1]:\n",
    "    print(str(eq_no) + ' out of '+ str(len(eq_with_data)))# find matching cat event:\n",
    "    eq_no += 1\n",
    "    for event in cat_with_data:\n",
    "        if eq_name == util.catEventToFileName(event):\n",
    "            cat_entry = event\n",
    "            break\n",
    "    data = obspy.read(root+eq_name+'/data/*/*')\n",
    "    data.interpolate(100, 'lanczos', a = 20)\n",
    "    inv = obspy.read_inventory(root+eq_name+'/station_xml_files/*')\n",
    "    with open(root+eq_name+'/picks.pkl', 'rb') as f:\n",
    "        picks = pickle.load(f)\n",
    "        \n",
    "    for i in range(0, len(data)):  # iterate through all traces\n",
    "        tr_name = data[i].stats.network+'.'+data[i].stats.station+'.'+data[i].stats.location\n",
    "        if data[i].stats.channel[2] == 'Z' and tr_name in picks.keys():  # only use vertical components at stations with a pick\n",
    "            try:\n",
    "                tr = data[i].copy()\n",
    "                tr.remove_response(inv"
   ]
  },
  {
   "cell_type": "code",
   "execution_count": 48,
   "id": "d657905d",
   "metadata": {},
   "outputs": [
    {
     "ename": "NameError",
     "evalue": "name 'picks' is not defined",
     "output_type": "error",
     "traceback": [
      "\u001b[0;31m---------------------------------------------------------------------------\u001b[0m",
      "\u001b[0;31mNameError\u001b[0m                                 Traceback (most recent call last)",
      "\u001b[0;32m/tmp/ipykernel_3967/3204977540.py\u001b[0m in \u001b[0;36m<module>\u001b[0;34m\u001b[0m\n\u001b[0;32m----> 1\u001b[0;31m \u001b[0mpicks\u001b[0m\u001b[0;34m\u001b[0m\u001b[0;34m\u001b[0m\u001b[0m\n\u001b[0m",
      "\u001b[0;31mNameError\u001b[0m: name 'picks' is not defined"
     ]
    }
   ],
   "source": [
    "picks"
   ]
  },
  {
   "cell_type": "code",
   "execution_count": 17,
   "id": "42798e7c",
   "metadata": {},
   "outputs": [
    {
     "data": {
      "text/plain": [
       "         network: BK\n",
       "         station: JCC\n",
       "        location: 00\n",
       "         channel: HHE\n",
       "       starttime: 2018-01-25T17:19:34.118393Z\n",
       "         endtime: 2018-01-25T17:29:34.108393Z\n",
       "   sampling_rate: 100.0\n",
       "           delta: 0.01\n",
       "            npts: 60000\n",
       "           calib: 1.0\n",
       "         _format: MSEED\n",
       "           mseed: AttribDict({'dataquality': 'Q', 'number_of_records': 110, 'encoding': 'STEIM2', 'byteorder': '>', 'record_length': 4096, 'filesize': 450560})"
      ]
     },
     "execution_count": 17,
     "metadata": {},
     "output_type": "execute_result"
    }
   ],
   "source": [
    "st[0].stats"
   ]
  },
  {
   "cell_type": "code",
   "execution_count": 77,
   "id": "861c5dbe",
   "metadata": {},
   "outputs": [
    {
     "name": "stdout",
     "output_type": "stream",
     "text": [
      "BK.JCC.00.HHE | 2018-01-25T17:19:34.118393Z - 2018-01-25T17:29:34.108393Z | 100.0 Hz, 60000 samples\n",
      "False\n"
     ]
    }
   ],
   "source": [
    "for eq_no in range(1, 2):\n",
    "    try:\n",
    "        st = obspy.read(root+eq_with_data[eq_no]+'/data/*/*')\n",
    "        for tr_no in range(1, 2):# len(st)):\n",
    "            tr = st[0]\n",
    "            print(tr)\n",
    "            a = os.listdir(root+eq_with_data[eq_no]+'/station_xml_files/')\n",
    "            #inv2 = inv.select(network = tr.stats.network, station = tr.stats.station)\n",
    "            inv = obspy.read_inventory(root+eq_with_data[1]+'/station_xml_files/'+tr.stats.network+'.'+tr.stats.station+'.xml')\n",
    "            #print(inv)\n",
    "            ppsd = PPSD(tr.stats, metadata=inv, ppsd_length=1800, overlap=0.5,\n",
    "                    period_smoothing_width_octaves=0.025,\n",
    "                    period_step_octaves=0.0125,\n",
    "                    period_limits=(0.008, 50),\n",
    "                    db_bins=(-200, 20, 0.25))\n",
    "            print(ppsd.add(tr))\n",
    "            eq_name = eq_with_data[eq_no]\n",
    "            with open(root+eq_name+'/picks.pkl', 'rb') as f:\n",
    "                picks = pickle.load(f)\n",
    "    except:\n",
    "        print('failed')\n",
    "        continue"
   ]
  },
  {
   "cell_type": "code",
   "execution_count": 69,
   "id": "f2323b16",
   "metadata": {},
   "outputs": [
    {
     "name": "stdout",
     "output_type": "stream",
     "text": [
      "0\n",
      "0\n",
      "0\n",
      "11\n",
      "0\n",
      "7\n",
      "2\n",
      "0\n",
      "0\n",
      "3\n"
     ]
    }
   ],
   "source": [
    "for eq_no in range(0, 10):\n",
    "    eq_name = eq_with_data[eq_no]\n",
    "    with open(root+eq_name+'/picks.pkl', 'rb') as f:\n",
    "        picks = pickle.load(f)\n",
    "    print(len(picks))"
   ]
  },
  {
   "cell_type": "code",
   "execution_count": 68,
   "id": "7b17cb30",
   "metadata": {},
   "outputs": [
    {
     "data": {
      "text/plain": [
       "'20180125_172434.a'"
      ]
     },
     "execution_count": 68,
     "metadata": {},
     "output_type": "execute_result"
    }
   ],
   "source": [
    "eq_name"
   ]
  },
  {
   "cell_type": "code",
   "execution_count": 76,
   "id": "77a8d548",
   "metadata": {},
   "outputs": [
    {
     "data": {
      "text/plain": [
       "[<matplotlib.lines.Line2D at 0x7f3a2fbdd430>]"
      ]
     },
     "execution_count": 76,
     "metadata": {},
     "output_type": "execute_result"
    },
    {
     "data": {
      "image/png": "[encoded data removed]",
      "text/plain": [
       "<Figure size 432x288 with 1 Axes>"
      ]
     },
     "metadata": {
      "needs_background": "light"
     },
     "output_type": "display_data"
    }
   ],
   "source": [
    "plt.plot(st[0].data[0:1000])\n"
   ]
  },
  {
   "cell_type": "code",
   "execution_count": 29,
   "id": "1b0ff031",
   "metadata": {
    "scrolled": true
   },
   "outputs": [
    {
     "data": {
      "text/plain": [
       "Inventory created at 2022-02-08T04:12:47.000000Z\n",
       "\tCreated by: NCEDC WEB SERVICE: fdsnws-station | version: 1.1\n",
       "\t\t    http://service.ncedc.org/fdsnws/station/1/query?net=BK&sta=JCC&cha=...\n",
       "\tSending institution: NCEDC (NCEDC)\n",
       "\tContains:\n",
       "\t\tNetworks (1):\n",
       "\t\t\tBK\n",
       "\t\tStations (1):\n",
       "\t\t\tBK.JCC (Jacoby Creek, Bayside, CA, USA)\n",
       "\t\tChannels (3):\n",
       "\t\t\tBK.JCC.00.HHZ, BK.JCC.00.HHN, BK.JCC.00.HHE"
      ]
     },
     "execution_count": 29,
     "metadata": {},
     "output_type": "execute_result"
    }
   ],
   "source": [
    "inv.select(network = tr.stats.network, station = tr.stats.station)"
   ]
  },
  {
   "cell_type": "code",
   "execution_count": 13,
   "id": "1d4821bb",
   "metadata": {},
   "outputs": [],
   "source": [
    "ppsd = PPSD(tr.stats, metadata=inv)"
   ]
  },
  {
   "cell_type": "code",
   "execution_count": 31,
   "id": "69d36a6a",
   "metadata": {},
   "outputs": [
    {
     "data": {
      "text/plain": [
       "False"
      ]
     },
     "execution_count": 31,
     "metadata": {},
     "output_type": "execute_result"
    }
   ],
   "source": [
    "ppsd.add(st)"
   ]
  },
  {
   "cell_type": "code",
   "execution_count": 15,
   "id": "221a9831",
   "metadata": {},
   "outputs": [
    {
     "data": {
      "text/plain": [
       "<obspy.signal.spectral_estimation.PPSD at 0x7f3a32870bb0>"
      ]
     },
     "execution_count": 15,
     "metadata": {},
     "output_type": "execute_result"
    }
   ],
   "source": [
    "ppsd"
   ]
  },
  {
   "cell_type": "code",
   "execution_count": null,
   "id": "c97763e4",
   "metadata": {},
   "outputs": [],
   "source": []
  }
 ],
 "metadata": {
  "kernelspec": {
   "display_name": "Python 3 (ipykernel)",
   "language": "python",
   "name": "python3"
  },
  "language_info": {
   "codemirror_mode": {
    "name": "ipython",
    "version": 3
   },
   "file_extension": ".py",
   "mimetype": "text/x-python",
   "name": "python",
   "nbconvert_exporter": "python",
   "pygments_lexer": "ipython3",
   "version": "3.9.7"
  }
 },
 "nbformat": 4,
 "nbformat_minor": 5
}
