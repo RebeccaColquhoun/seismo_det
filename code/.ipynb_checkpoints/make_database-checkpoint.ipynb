{
 "cells": [
  {
   "cell_type": "code",
   "execution_count": 1,
   "id": "1843a543-9df5-4cb7-be4f-61c405480b6a",
   "metadata": {},
   "outputs": [],
   "source": [
    "import numpy as np\n",
    "import pandas as pd\n",
    "import pickle\n",
    "import os"
   ]
  },
  {
   "cell_type": "markdown",
   "id": "6edcd493-ae17-49d2-9c18-741ad33ed9b3",
   "metadata": {},
   "source": [
    "start by writing code for a single earthquake"
   ]
  },
  {
   "cell_type": "code",
   "execution_count": 2,
   "id": "96435ab6-04b1-4eec-a89d-5d0ab46320fd",
   "metadata": {},
   "outputs": [],
   "source": [
    "list_base_folders = ['/home/earthquakes1/homes/Rebecca/phd/data/2018_2021_global_m5/']"
   ]
  },
  {
   "cell_type": "code",
   "execution_count": 3,
   "id": "cf9250a0-0231-4b55-8a47-9b66e5eb57ae",
   "metadata": {},
   "outputs": [],
   "source": [
    "fn = 'eq_object_1s_bandpass_01_19_snr_20_blank_025'"
   ]
  },
  {
   "cell_type": "code",
   "execution_count": 8,
   "id": "f5b96db4-3483-41d5-b1d1-d640c6b685ee",
   "metadata": {},
   "outputs": [],
   "source": [
    "for base_folder in list_base_folders:\n",
    "    folders = os.listdir(base_folder)\n",
    "    df = pd.DataFrame(columns = [\n",
    "    'eq_id',\n",
    "    'eq_time',\n",
    "    'eq_loc',\n",
    "    'tp_max',\n",
    "    'tp_max_stations',\n",
    "    'tc',\n",
    "    'tc_stations',\n",
    "    'iv2',\n",
    "    'iv2_distances',\n",
    "    'iv2_stations'])\n",
    "    for eq_no in range(0, len(folders)):\n",
    "        #start = time.perf_counter()\n",
    "        if os.path.exists(base_folder+folders[eq_no]+'/'+fn+'.pkl'):\n",
    "            with open(base_folder+folders[eq_no]+'/'+fn+'.pkl', 'rb') as picklefile:\n",
    "                eq = pickle.load(picklefile)\n",
    "                df2 = pd.DataFrame({'eq_id':[str(eq.event.resource_id).split('=')[1]],\n",
    "                       'eq_time':[eq.event_stats['name'][:-2]],\n",
    "                       'eq_loc':[(eq.event_stats['eq_lat'], eq.event_stats['eq_long'], eq.event_stats['eq_depth']/1000)],\n",
    "                        'tp_max':[eq.calculated_params['tau_p_max']],\n",
    "                        'tp_max_stations':[0],\n",
    "                        'tc':[eq.calculated_params['tau_c']],\n",
    "                        'tc_stations':[0],\n",
    "                        'iv2':[eq.calculated_params['iv2']],\n",
    "                        'iv2_distances':[0],\n",
    "                        'iv2_stations':[0]})\n",
    "                df = pd.concat([df,df2])\n",
    "    df = df.reset_index()\n",
    "    #df.to_pickle(base_folder+'results_database/'+fn)\n",
    "                \n"
   ]
  },
  {
   "cell_type": "code",
   "execution_count": null,
   "id": "b34badaa-54ac-4d07-a000-1b8968809d60",
   "metadata": {},
   "outputs": [],
   "source": []
  }
 ],
 "metadata": {
  "kernelspec": {
   "display_name": "Python 3 (ipykernel)",
   "language": "python",
   "name": "python3"
  },
  "language_info": {
   "codemirror_mode": {
    "name": "ipython",
    "version": 3
   },
   "file_extension": ".py",
   "mimetype": "text/x-python",
   "name": "python",
   "nbconvert_exporter": "python",
   "pygments_lexer": "ipython3",
   "version": "3.10.5"
  }
 },
 "nbformat": 4,
 "nbformat_minor": 5
}
