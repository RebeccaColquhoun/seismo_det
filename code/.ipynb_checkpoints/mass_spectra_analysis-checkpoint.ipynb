{
 "cells": [
  {
   "cell_type": "code",
   "execution_count": 1,
   "metadata": {},
   "outputs": [
    {
     "name": "stdout",
     "output_type": "stream",
     "text": [
      ".environ: No such file or directory.\n",
      "Collecting package metadata (current_repodata.json): done\n",
      "Solving environment: | ^C\n",
      "failed with initial frozen solve. Retrying with flexible solve.\n",
      "\n",
      "CondaError: KeyboardInterrupt\n",
      "\n",
      "\n",
      "Note: you may need to restart the kernel to use updated packages.\n"
     ]
    }
   ],
   "source": [
    "#%conda install spectrum"
   ]
  },
  {
   "cell_type": "code",
   "execution_count": 2,
   "metadata": {},
   "outputs": [],
   "source": [
    "import obspy\n",
    "from obspy.clients.fdsn import Client\n",
    "import matplotlib.pyplot as plt\n",
    "import numpy as np\n",
    "import scipy\n",
    "import os\n",
    "import util\n",
    "from scipy.fft import fft, ifft, fftfreq, rfft\n",
    "import pickle\n",
    "from obspy import UTCDateTime\n",
    "import scipy.signal as signal\n",
    "from spectrum import *\n",
    "from pylab import *"
   ]
  },
  {
   "cell_type": "code",
   "execution_count": 3,
   "metadata": {},
   "outputs": [],
   "source": [
    "root = '/home/earthquakes1/homes/Rebecca/phd/data/2019_global_m3/'"
   ]
  },
  {
   "cell_type": "code",
   "execution_count": 4,
   "metadata": {},
   "outputs": [
    {
     "name": "stderr",
     "output_type": "stream",
     "text": [
      "do_ypcall: clnt_call: RPC: Timed out\n",
      "do_ypcall: clnt_call: RPC: Timed out\n",
      "do_ypcall: clnt_call: RPC: Timed out\n"
     ]
    }
   ],
   "source": [
    "eq_list = os.listdir(root)\n",
    "\n",
    "client = Client(\"IRIS\")\n",
    "\n",
    "cat = obspy.read_events('/home/earthquakes1/homes/Rebecca/phd/data/2019_global_m3_catalog.xml')\n",
    "\n",
    "eq_with_data = []\n",
    "cat_with_data = cat.copy()\n",
    "cat_with_data.clear()\n",
    "for event in cat:\n",
    "    eq_name = util.catEventToFileName(event)\n",
    "    if os.path.isdir(root+eq_name) and os.path.isdir(root+eq_name+'/station_xml_files') and os.path.exists(root+eq_name+'/picks.pkl'):\n",
    "        eq_with_data.append(eq_name)\n",
    "        cat_with_data.extend([event])"
   ]
  },
  {
   "cell_type": "code",
   "execution_count": 5,
   "metadata": {},
   "outputs": [],
   "source": [
    "binned_spectra = [\n",
    "    [[],[],[],[]],\n",
    "    [[],[],[],[]],\n",
    "    [[],[],[],[]],\n",
    "    [[],[],[],[]],\n",
    "    [[],[],[],[]],\n",
    "    [[],[],[],[]],\n",
    "    [[],[],[],[]],\n",
    "    [[],[],[],[]],\n",
    "    [[],[],[],[]]\n",
    "]"
   ]
  },
  {
   "cell_type": "code",
   "execution_count": 7,
   "metadata": {
    "scrolled": false
   },
   "outputs": [
    {
     "ename": "KeyError",
     "evalue": "'XO.WD46.'",
     "output_type": "error",
     "traceback": [
      "\u001b[0;31m---------------------------------------------------------------------------\u001b[0m",
      "\u001b[0;31mKeyError\u001b[0m                                  Traceback (most recent call last)",
      "\u001b[0;32m/tmp/ipykernel_189573/418480540.py\u001b[0m in \u001b[0;36m<module>\u001b[0;34m\u001b[0m\n\u001b[1;32m     19\u001b[0m             \u001b[0mtr_name\u001b[0m \u001b[0;34m=\u001b[0m \u001b[0mdata\u001b[0m\u001b[0;34m[\u001b[0m\u001b[0mtr_no\u001b[0m\u001b[0;34m]\u001b[0m\u001b[0;34m.\u001b[0m\u001b[0mstats\u001b[0m\u001b[0;34m.\u001b[0m\u001b[0mnetwork\u001b[0m\u001b[0;34m+\u001b[0m\u001b[0;34m'.'\u001b[0m\u001b[0;34m+\u001b[0m\u001b[0mdata\u001b[0m\u001b[0;34m[\u001b[0m\u001b[0mtr_no\u001b[0m\u001b[0;34m]\u001b[0m\u001b[0;34m.\u001b[0m\u001b[0mstats\u001b[0m\u001b[0;34m.\u001b[0m\u001b[0mstation\u001b[0m\u001b[0;34m+\u001b[0m\u001b[0;34m'.'\u001b[0m\u001b[0;34m+\u001b[0m\u001b[0mdata\u001b[0m\u001b[0;34m[\u001b[0m\u001b[0mtr_no\u001b[0m\u001b[0;34m]\u001b[0m\u001b[0;34m.\u001b[0m\u001b[0mstats\u001b[0m\u001b[0;34m.\u001b[0m\u001b[0mlocation\u001b[0m\u001b[0;34m\u001b[0m\u001b[0;34m\u001b[0m\u001b[0m\n\u001b[1;32m     20\u001b[0m             \u001b[0;31m#print(tr_name)\u001b[0m\u001b[0;34m\u001b[0m\u001b[0;34m\u001b[0m\u001b[0m\n\u001b[0;32m---> 21\u001b[0;31m             \u001b[0mpick\u001b[0m \u001b[0;34m=\u001b[0m \u001b[0mUTCDateTime\u001b[0m\u001b[0;34m(\u001b[0m\u001b[0mpicks\u001b[0m\u001b[0;34m[\u001b[0m\u001b[0mtr_name\u001b[0m\u001b[0;34m]\u001b[0m\u001b[0;34m)\u001b[0m\u001b[0;34m\u001b[0m\u001b[0;34m\u001b[0m\u001b[0m\n\u001b[0m\u001b[1;32m     22\u001b[0m             \u001b[0mstart\u001b[0m \u001b[0;34m=\u001b[0m \u001b[0mpick\u001b[0m \u001b[0;31m#int((pick - data[tr_no].stats.starttime)*sr)\u001b[0m\u001b[0;34m\u001b[0m\u001b[0;34m\u001b[0m\u001b[0m\n\u001b[1;32m     23\u001b[0m             \u001b[0mend\u001b[0m \u001b[0;34m=\u001b[0m \u001b[0mpick\u001b[0m \u001b[0;34m+\u001b[0m \u001b[0;36m4\u001b[0m \u001b[0;31m# int(start + 4 * sr)\u001b[0m\u001b[0;34m\u001b[0m\u001b[0;34m\u001b[0m\u001b[0m\n",
      "\u001b[0;31mKeyError\u001b[0m: 'XO.WD46.'"
     ]
    },
    {
     "data": {
      "image/png": "[encoded data removed]",
      "text/plain": [
       "<Figure size 432x288 with 1 Axes>"
      ]
     },
     "metadata": {
      "needs_background": "light"
     },
     "output_type": "display_data"
    }
   ],
   "source": [
    "cmap = ['tab:blue','tab:orange','tab:green','tab:red','tab:purple','tab:brown','tab:pink','tab:gray','tab:olive','tab:cyan']\n",
    "fig, axs = plt.subplots(1,1)\n",
    "for eq_no in range(0, len(eq_with_data[0:10])):\n",
    "    eq_name = eq_with_data[eq_no]\n",
    "    try:\n",
    "        data = obspy.read(root+eq_name+'/data/*/*')\n",
    "        #data.plot()\n",
    "        inv = obspy.read_inventory(root+eq_name+'/station_xml_files/*')\n",
    "        data.remove_response(inv)\n",
    "        with open(root+eq_name+'/picks.pkl', 'rb') as f:\n",
    "            picks = pickle.load(f)\n",
    "    except: \n",
    "        break\n",
    "    if len(data)>0:\n",
    "        successful = 0\n",
    "        for tr_no in range(0, len(data)):\n",
    "            try:\n",
    "                sr = data[tr_no].stats.sampling_rate\n",
    "                tr_name = data[tr_no].stats.network+'.'+data[tr_no].stats.station+'.'+data[tr_no].stats.location\n",
    "                #print(tr_name)\n",
    "                pick = UTCDateTime(picks[tr_name])\n",
    "                start = pick #int((pick - data[tr_no].stats.starttime)*sr)\n",
    "                end = pick + 4 # int(start + 4 * sr)\n",
    "                d = data[tr_no].copy()#.filter('lowpass', freq=10)\n",
    "                #d.filter('highpass', freq=0.1)\n",
    "                d.detrend()\n",
    "                d.integrate()\n",
    "\n",
    "                coda = signal.detrend(d)\n",
    "                #plt.plot(coda)\n",
    "                coda = d.trim(start, end)\n",
    "                #plt.plot(coda)\n",
    "                nx = len(coda)\n",
    "                hann = np.hanning(nx) #Is this the right sort of filter?\n",
    "                nx2 = 2*nx\n",
    "                x = np.zeros(nx2)\n",
    "\n",
    "                x[0:nx] = coda.data*hann\n",
    "                #plt.plot(x, label = 'x')\n",
    "                dt = d.stats.delta\n",
    "\n",
    "                #creating the frequencies to plot on x axis \n",
    "                Pfreq  = scipy.fft.rfftfreq(len(coda),dt)\n",
    "\n",
    "                #doing the multitaper to get the spectra \n",
    "                N = len(coda)\n",
    "                NW=4.5\n",
    "                k=8\n",
    "                [tapers, eigen] = dpss(N, NW, k)\n",
    "                #print(eigen)\n",
    "                freq_complex, weights, eigenvalues=pmtm(coda, e=eigen, v=tapers, show=False)\n",
    "                freq = abs(freq_complex)\n",
    "                freq = np.mean(freq,axis =0)\n",
    "                freq_sdv = np.std(freq,axis =0)\n",
    "\n",
    "                dist = util.calc_hypo_dist(cat_with_data[eq_no], d, inv)\n",
    "                mag = cat_with_data[eq_no].magnitudes[0].mag\n",
    "                binned_spectra[int(np.round(mag, 0))][int(dist//50)].append([Pfreq[:-1],freq[0:N//2]])\n",
    "                #plotting the spectra in loglog\n",
    "                #print('plot')\n",
    "                if successful == 0:\n",
    "                    axs.plot(Pfreq[:-1],freq[0:N//2]-min(freq[0:N//2]), alpha = 0.5, label=str(cat_with_data[eq_no].magnitudes[0].mag), color = cmap[eq_no])#tr_name + data[tr_no].stats.channel)\n",
    "                #plt.fill_between(Pfreq[:-1],(Sk+Sk_sdv)[0:N//2],(Sk-Sk_sdv)[0:N//2],alpha=0.2)\n",
    "                    axs.set_xlabel('Frequency (Hz)');\n",
    "                    axs.set_ylabel('A^2');\n",
    "                #plt.title(tr_name + data[tr_no].stats.channel+' coda wave Power spectra');\n",
    "                else:\n",
    "                    axs.plot(Pfreq[:-1],freq[0:N//2]-min(freq[0:N//2]), color = cmap[eq_no], alpha = 0.5)#tr_name + data[tr_no].stats.channel)\n",
    "\n",
    "                Pfreq_MHZ = Pfreq\n",
    "                freq_MHZ = freq \n",
    "                successful += 1\n",
    "            #print(freq_MHZ.shape)\n",
    "            #plt.show()\n",
    "            except:\n",
    "                print(tr_name + 'failed')\n",
    "axs.legend();\n",
    "#axs.set_title('M'+str(cat_with_data[eq_no].magnitudes[0].mag) + ' ' + eq_name)\n",
    "axs.set_yscale('log')\n",
    "axs.set_xscale('log')\n",
    "axs.set_xlim(0.5, 5)\n",
    "plt.show()"
   ]
  },
  {
   "cell_type": "code",
   "execution_count": null,
   "metadata": {},
   "outputs": [],
   "source": [
    "data"
   ]
  },
  {
   "cell_type": "code",
   "execution_count": null,
   "metadata": {},
   "outputs": [],
   "source": [
    "inv"
   ]
  },
  {
   "cell_type": "code",
   "execution_count": null,
   "metadata": {},
   "outputs": [],
   "source": [
    "axs.set_xlim(0.01, 52)\n",
    "axs.set_ylim(0.00000001, 10)\n",
    "plt.show()\n",
    "fig"
   ]
  },
  {
   "cell_type": "code",
   "execution_count": null,
   "metadata": {},
   "outputs": [],
   "source": [
    "np.round(3.4, 0)"
   ]
  },
  {
   "cell_type": "code",
   "execution_count": null,
   "metadata": {},
   "outputs": [],
   "source": []
  }
 ],
 "metadata": {
  "kernelspec": {
   "display_name": "Python 3 (ipykernel)",
   "language": "python",
   "name": "python3"
  },
  "language_info": {
   "codemirror_mode": {
    "name": "ipython",
    "version": 3
   },
   "file_extension": ".py",
   "mimetype": "text/x-python",
   "name": "python",
   "nbconvert_exporter": "python",
   "pygments_lexer": "ipython3",
   "version": "3.9.7"
  }
 },
 "nbformat": 4,
 "nbformat_minor": 2
}
