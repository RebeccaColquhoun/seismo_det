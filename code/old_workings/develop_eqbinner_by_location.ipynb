{
 "cells": [
  {
   "cell_type": "markdown",
   "id": "549f6b1f",
   "metadata": {},
   "source": [
    "imports"
   ]
  },
  {
   "cell_type": "code",
   "execution_count": 2,
   "id": "1a28924d",
   "metadata": {},
   "outputs": [],
   "source": [
    "import obspy\n",
    "from obspy.clients.fdsn import Client\n",
    "import matplotlib.pyplot as plt\n",
    "import numpy as np\n",
    "import scipy\n",
    "import os\n",
    "import util\n",
    "from scipy.fft import fft, ifft, fftfreq, rfft\n",
    "import pickle\n",
    "from obspy import UTCDateTime\n",
    "import scipy.signal as signal\n",
    "from spectrum import *\n",
    "from pylab import *\n",
    "import matplotlib.path as mpltPath"
   ]
  },
  {
   "cell_type": "markdown",
   "id": "37b5609f",
   "metadata": {},
   "source": [
    "earthquakes are stored in"
   ]
  },
  {
   "cell_type": "code",
   "execution_count": 8,
   "id": "35a1fe7b",
   "metadata": {},
   "outputs": [],
   "source": [
    "root = '/home/earthquakes1/homes/Rebecca/phd/data/2019_global_m3/'"
   ]
  },
  {
   "cell_type": "markdown",
   "id": "e737a596",
   "metadata": {},
   "source": [
    "load full catalog"
   ]
  },
  {
   "cell_type": "code",
   "execution_count": 9,
   "id": "785e0c56",
   "metadata": {},
   "outputs": [],
   "source": [
    "eq_list = os.listdir(root)\n",
    "\n",
    "client = Client(\"IRIS\")\n",
    "\n",
    "cat = obspy.read_events('/home/earthquakes1/homes/Rebecca/phd/data/2019_global_m3_catalog.xml')"
   ]
  },
  {
   "cell_type": "markdown",
   "id": "288e04c7",
   "metadata": {},
   "source": [
    "work out which of those have usable data"
   ]
  },
  {
   "cell_type": "code",
   "execution_count": 18,
   "id": "7944cf32",
   "metadata": {},
   "outputs": [],
   "source": [
    "eq_with_data = []\n",
    "cat_with_data = cat.copy()\n",
    "cat_with_data.clear()\n",
    "loc = []\n",
    "lats = []\n",
    "longs = []\n",
    "for event in cat:\n",
    "    eq_name = util.catEventToFileName(event)\n",
    "    if os.path.isdir(root+eq_name) and os.path.isdir(root+eq_name+'/station_xml_files') and os.path.exists(root+eq_name+'/picks.pkl'):\n",
    "        eq_with_data.append(eq_name)\n",
    "        cat_with_data.extend([event])\n",
    "        loc.append([event.origins[0].longitude, event.origins[0].latitude])\n",
    "        lats.append(event.origins[0].latitude)\n",
    "        longs.append(event.origins[0].longitude)"
   ]
  },
  {
   "cell_type": "code",
   "execution_count": 11,
   "id": "490673c7",
   "metadata": {},
   "outputs": [
    {
     "data": {
      "text/plain": [
       "[[-20.4865, -69.0165],\n",
       " [8.9782, -83.7578],\n",
       " [56.298, -149.259],\n",
       " [17.9571, -68.3945],\n",
       " [53.5228, -167.2692],\n",
       " [19.3305, -68.2758],\n",
       " [-23.5661, -68.2039],\n",
       " [13.4636, -88.3658],\n",
       " [61.928, -149.8213],\n",
       " [19.168, -68.219]]"
      ]
     },
     "execution_count": 11,
     "metadata": {},
     "output_type": "execute_result"
    }
   ],
   "source": [
    "loc[0:10]"
   ]
  },
  {
   "cell_type": "markdown",
   "id": "08467115",
   "metadata": {},
   "source": [
    "so we now have a list of earthquake names, and a catalog"
   ]
  },
  {
   "cell_type": "markdown",
   "id": "d8ff7154",
   "metadata": {},
   "source": [
    "we want to find earthquakes within a specific region, and produce a catalog + list of those.\n",
    "\n",
    "to do this use the inbuilt matplotlib class path and path.contains_point\n",
    "\n",
    "first we set up the path"
   ]
  },
  {
   "cell_type": "markdown",
   "id": "0f7b4e3f",
   "metadata": {},
   "source": [
    "# toy case"
   ]
  },
  {
   "cell_type": "code",
   "execution_count": 3,
   "id": "bab12319",
   "metadata": {},
   "outputs": [],
   "source": [
    "# regular polygon for testing\n",
    "lenpoly = 100\n",
    "polygon = [[np.sin(x)+0.5,np.cos(x)+0.5] for x in np.linspace(0,2*np.pi,lenpoly)[:-1]]\n",
    "\n",
    "# random points set of points to test \n",
    "N = 10000\n",
    "points = np.random.rand(N,2)"
   ]
  },
  {
   "cell_type": "code",
   "execution_count": 4,
   "id": "97e1d979",
   "metadata": {},
   "outputs": [],
   "source": [
    "path = mpltPath.Path(polygon)\n",
    "inside2 = path.contains_points(points)"
   ]
  },
  {
   "cell_type": "code",
   "execution_count": 5,
   "id": "d4d6d80c",
   "metadata": {},
   "outputs": [
    {
     "data": {
      "text/plain": [
       "[[0.5, 1.5],\n",
       " [0.56342391965656446, 1.4979866764718843],\n",
       " [0.62659245357374926, 1.4919548128307953],\n",
       " [0.68925124436041019, 1.4819286972627066],\n",
       " [0.75114798718107922, 1.4679487013963564],\n",
       " [0.81203344569848712, 1.4500711177409453],\n",
       " [0.87166245566032763, 1.4283679330160726],\n",
       " [0.92979491208917164, 1.4029265382866212],\n",
       " [0.98619673610046865, 1.373849377069785],\n",
       " [1.0406408174555977, 1.3412535328311812],\n",
       " [1.0929079290546404, 1.3052702575310586],\n",
       " [1.1427876096865393, 1.2660444431189779],\n",
       " [1.190079011482112, 1.2237340381050701],\n",
       " [1.2345917086575333, 1.1785094115571322],\n",
       " [1.2761464642917568, 1.1305526670845225],\n",
       " [1.3145759520503357, 1.0800569095711983],\n",
       " [1.3497254299495145, 1.0272254676105024],\n",
       " [1.3814533634475821, 0.97227107477268271],\n",
       " [1.4096319953545184, 0.91541501300188644],\n",
       " [1.4341478602651065, 0.85688622159187189],\n",
       " [1.4549022414440738, 0.79692037532827498],\n",
       " [1.4718115683235418, 0.73575893550942728],\n",
       " [1.4848077530122081, 0.67364817766693041],\n",
       " [1.4938384644612541, 0.61083819990101107],\n",
       " [1.4988673391830081, 0.54758191582374216],\n",
       " [1.4998741276738752, 0.48413403616519196],\n",
       " [1.4968547759519424, 0.42075004314321146],\n",
       " [1.4898214418809328, 0.35768516172671477],\n",
       " [1.4788024462147789, 0.29519333193480923],\n",
       " [1.4638421585599422, 0.23352618630996497],\n",
       " [1.4450008187146683, 0.17293203668257834],\n",
       " [1.4223542941045815, 0.11365487430687132],\n",
       " [1.3959937742913358, 0.055933387394225875],\n",
       " [1.3660254037844384, -2.2204460492503131e-16],\n",
       " [1.3325698546347713, -0.053920063866110257],\n",
       " [1.295761840530832, -0.10560968713766683],\n",
       " [1.2557495743542582, -0.15486073394528499],\n",
       " [1.2126941713788626, -0.20147488770632138],\n",
       " [1.1667690005162918, -0.24526444967575467],\n",
       " [1.1181589862206049, -0.28605309474278751],\n",
       " [1.0670598638627709, -0.32367658142983269],\n",
       " [1.0136773915734063, -0.35798341323497707],\n",
       " [0.95822652172741052, -0.38883544865492337],\n",
       " [0.90093053540661361, -0.41610845743206959],\n",
       " [0.84202014332566888, -0.43969262078590832],\n",
       " [0.78173255684142973, -0.45949297361449737],\n",
       " [0.72031053278654078, -0.47542978688540705],\n",
       " [0.65800139597334995, -0.48743888867639429],\n",
       " [0.59505604330418249, -0.49547192257308459],\n",
       " [0.53172793349806768, -0.49949654238318508],\n",
       " [0.46827206650193215, -0.49949654238318508],\n",
       " [0.4049439566958174, -0.49547192257308459],\n",
       " [0.34199860402664994, -0.48743888867639429],\n",
       " [0.27968946721345944, -0.47542978688540705],\n",
       " [0.21826744315857016, -0.45949297361449737],\n",
       " [0.15797985667433134, -0.43969262078590843],\n",
       " [0.099069464593386225, -0.41610845743206959],\n",
       " [0.041773478272589704, -0.38883544865492348],\n",
       " [-0.013677391573406417, -0.35798341323497695],\n",
       " [-0.06705986386277063, -0.3236765814298328],\n",
       " [-0.11815898622060528, -0.28605309474278739],\n",
       " [-0.16676900051629151, -0.24526444967575478],\n",
       " [-0.21269417137886293, -0.20147488770632127],\n",
       " [-0.25574957435425816, -0.15486073394528521],\n",
       " [-0.2957618405308321, -0.10560968713766661],\n",
       " [-0.33256985463477129, -0.053920063866110479],\n",
       " [-0.36602540378443882, 3.8857805861880479e-16],\n",
       " [-0.39599377429133598, 0.055933387394226042],\n",
       " [-0.42235429410458136, 0.11365487430687132],\n",
       " [-0.44500081871466834, 0.17293203668257812],\n",
       " [-0.46384215855994215, 0.23352618630996536],\n",
       " [-0.47880244621477874, 0.29519333193480946],\n",
       " [-0.48982144188093268, 0.35768516172671477],\n",
       " [-0.49685477595194227, 0.42075004314321118],\n",
       " [-0.49987412767387507, 0.48413403616519241],\n",
       " [-0.49886733918300796, 0.54758191582374238],\n",
       " [-0.49383846446125412, 0.61083819990101085],\n",
       " [-0.48480775301220813, 0.67364817766692997],\n",
       " [-0.47181156832354165, 0.7357589355094275],\n",
       " [-0.45490224144407387, 0.79692037532827498],\n",
       " [-0.43414786026510677, 0.85688622159187167],\n",
       " [-0.40963199535451822, 0.91541501300188677],\n",
       " [-0.38145336344758196, 0.97227107477268282],\n",
       " [-0.34972542994951439, 1.0272254676105024],\n",
       " [-0.31457595205033584, 1.0800569095711978],\n",
       " [-0.2761464642917566, 1.130552667084523],\n",
       " [-0.2345917086575332, 1.1785094115571324],\n",
       " [-0.19007901148211204, 1.2237340381050701],\n",
       " [-0.14278760968653958, 1.2660444431189779],\n",
       " [-0.092907929054640181, 1.3052702575310589],\n",
       " [-0.040640817455597444, 1.3412535328311812],\n",
       " [0.013803263899531182, 1.373849377069785],\n",
       " [0.070205087910828079, 1.4029265382866209],\n",
       " [0.12833754433967276, 1.4283679330160726],\n",
       " [0.18796655430151293, 1.4500711177409453],\n",
       " [0.24885201281892061, 1.4679487013963564],\n",
       " [0.31074875563959026, 1.4819286972627068],\n",
       " [0.37340754642625096, 1.4919548128307953],\n",
       " [0.43657608034343548, 1.4979866764718843]]"
      ]
     },
     "execution_count": 5,
     "metadata": {},
     "output_type": "execute_result"
    }
   ],
   "source": [
    "polygon"
   ]
  },
  {
   "cell_type": "markdown",
   "id": "1871b910",
   "metadata": {},
   "source": [
    "# rectangle in the real world"
   ]
  },
  {
   "cell_type": "code",
   "execution_count": 28,
   "id": "ab3d9d0f",
   "metadata": {},
   "outputs": [],
   "source": [
    "from matplotlib.path import Path\n",
    "polygon = [[-10,-10], [-10,10], [10, 10], [10, -10], [-10,-10]]\n",
    "codes = [\n",
    "    Path.MOVETO,\n",
    "    Path.LINETO,\n",
    "    Path.LINETO,\n",
    "    Path.LINETO,\n",
    "    Path.CLOSEPOLY,\n",
    "]\n"
   ]
  },
  {
   "cell_type": "code",
   "execution_count": 29,
   "id": "0c1d9ef2",
   "metadata": {},
   "outputs": [],
   "source": [
    "path = mpltPath.Path(polygon, codes)\n",
    "inside2 = path.contains_points(points)"
   ]
  },
  {
   "cell_type": "code",
   "execution_count": 30,
   "id": "2f1f5af7",
   "metadata": {},
   "outputs": [
    {
     "data": {
      "text/plain": [
       "[[-10, -10], [-10, 10], [10, 10], [10, -10], [-10, -10]]"
      ]
     },
     "execution_count": 30,
     "metadata": {},
     "output_type": "execute_result"
    }
   ],
   "source": [
    "polygon"
   ]
  },
  {
   "cell_type": "code",
   "execution_count": 32,
   "id": "6d00abd5",
   "metadata": {},
   "outputs": [
    {
     "data": {
      "text/plain": [
       "<matplotlib.collections.PathCollection at 0x7f92d3cb1b80>"
      ]
     },
     "execution_count": 32,
     "metadata": {},
     "output_type": "execute_result"
    },
    {
     "data": {
      "image/png": "[encoded data removed]",
      "text/plain": [
       "<Figure size 432x288 with 1 Axes>"
      ]
     },
     "metadata": {
      "needs_background": "light"
     },
     "output_type": "display_data"
    }
   ],
   "source": [
    "import matplotlib.patches as patches\n",
    "fig, ax = plt.subplots()\n",
    "patch = patches.PathPatch(path, facecolor='orange', lw=2)\n",
    "ax.add_patch(patch)\n",
    "ax.scatter(longs, lats)"
   ]
  },
  {
   "cell_type": "code",
   "execution_count": 33,
   "id": "dbdfe6a2",
   "metadata": {},
   "outputs": [],
   "source": [
    "import numpy as np\n",
    "\n",
    "from matplotlib.widgets import PolygonSelector\n",
    "from matplotlib.path import Path\n",
    "\n",
    "\n",
    "class SelectFromCollection(object):\n",
    "    \"\"\"Select indices from a matplotlib collection using `PolygonSelector`.\n",
    "\n",
    "    Selected indices are saved in the `ind` attribute. This tool fades out the\n",
    "    points that are not part of the selection (i.e., reduces their alpha\n",
    "    values). If your collection has alpha < 1, this tool will permanently\n",
    "    alter the alpha values.\n",
    "\n",
    "    Note that this tool selects collection objects based on their *origins*\n",
    "    (i.e., `offsets`).\n",
    "\n",
    "    Parameters\n",
    "    ----------\n",
    "    ax : :class:`~matplotlib.axes.Axes`\n",
    "        Axes to interact with.\n",
    "\n",
    "    collection : :class:`matplotlib.collections.Collection` subclass\n",
    "        Collection you want to select from.\n",
    "\n",
    "    alpha_other : 0 <= float <= 1\n",
    "        To highlight a selection, this tool sets all selected points to an\n",
    "        alpha value of 1 and non-selected points to `alpha_other`.\n",
    "    \"\"\"\n",
    "\n",
    "    def __init__(self, ax, collection, alpha_other=0.3):\n",
    "        self.canvas = ax.figure.canvas\n",
    "        self.collection = collection\n",
    "        self.alpha_other = alpha_other\n",
    "\n",
    "        self.xys = collection.get_offsets()\n",
    "        self.Npts = len(self.xys)\n",
    "\n",
    "        # Ensure that we have separate colors for each object\n",
    "        self.fc = collection.get_facecolors()\n",
    "        if len(self.fc) == 0:\n",
    "            raise ValueError('Collection must have a facecolor')\n",
    "        elif len(self.fc) == 1:\n",
    "            self.fc = np.tile(self.fc, (self.Npts, 1))\n",
    "\n",
    "        self.poly = PolygonSelector(ax, self.onselect)\n",
    "        self.ind = []\n",
    "\n",
    "    def onselect(self, verts):\n",
    "        path = Path(verts)\n",
    "        self.ind = np.nonzero(path.contains_points(self.xys))[0]\n",
    "        self.fc[:, -1] = self.alpha_other\n",
    "        self.fc[self.ind, -1] = 1\n",
    "        self.collection.set_facecolors(self.fc)\n",
    "        self.canvas.draw_idle()\n",
    "\n",
    "    def disconnect(self):\n",
    "        self.poly.disconnect_events()\n",
    "        self.fc[:, -1] = 1\n",
    "        self.collection.set_facecolors(self.fc)\n",
    "        self.canvas.draw_idle()\n",
    "\n",
    "\n"
   ]
  },
  {
   "cell_type": "markdown",
   "id": "97f2c736",
   "metadata": {},
   "source": [
    "this polygon selection doesn't owrk in jupyter notebook"
   ]
  },
  {
   "cell_type": "code",
   "execution_count": null,
   "id": "4c615790",
   "metadata": {},
   "outputs": [],
   "source": []
  },
  {
   "cell_type": "code",
   "execution_count": 37,
   "id": "f6ff7f12",
   "metadata": {},
   "outputs": [
    {
     "name": "stdout",
     "output_type": "stream",
     "text": [
      "Select points in the figure by enclosing them within a polygon.\n",
      "Press the 'esc' key to start a new polygon.\n",
      "Try holding the 'shift' key to move all of the vertices.\n",
      "Try holding the 'ctrl' key to move a single vertex.\n"
     ]
    },
    {
     "data": {
      "application/vnd.jupyter.widget-view+json": {
       "model_id": "95b7e2f31fa2424c9c4417136c47a50c",
       "version_major": 2,
       "version_minor": 0
      },
      "image/png": "[encoded data removed]",
      "text/html": [
       "\n",
       "            <div style=\"display: inline-block;\">\n",
       "                <div class=\"jupyter-widgets widget-label\" style=\"text-align: center;\">\n",
       "                    Figure\n",
       "                </div>\n",
       "                <img src='data:image/png;base64,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' width=640.0/>\n",
       "            </div>\n",
       "        "
      ],
      "text/plain": [
       "Canvas(toolbar=Toolbar(toolitems=[('Home', 'Reset original view', 'home', 'home'), ('Back', 'Back to previous …"
      ]
     },
     "metadata": {},
     "output_type": "display_data"
    },
    {
     "name": "stdout",
     "output_type": "stream",
     "text": [
      "\n",
      "Selected points:\n",
      "[]\n"
     ]
    }
   ],
   "source": [
    "\n",
    "\n",
    "ax = plt.axes(projection=ccrs.PlateCarree())\n",
    "ax.coastlines()\n",
    "\n",
    "fig, ax = plt.subplots()\n",
    "#patch = patches.PathPatch(path, facecolor='orange', lw=2)\n",
    "#ax.add_patch(patch)\n",
    "pts = ax.scatter(longs, lats)\n",
    "\n",
    "selector = SelectFromCollection(ax, pts)\n",
    "\n",
    "print(\"Select points in the figure by enclosing them within a polygon.\")\n",
    "print(\"Press the 'esc' key to start a new polygon.\")\n",
    "print(\"Try holding the 'shift' key to move all of the vertices.\")\n",
    "print(\"Try holding the 'ctrl' key to move a single vertex.\")\n",
    "\n",
    "plt.show()\n",
    "\n",
    "selector.disconnect()\n",
    "\n",
    "# After figure is closed print the coordinates of the selected points\n",
    "#print('\\nSelected points:')\n",
    "#print(selector.xys[selector.ind])\n",
    "polygon_x_coords = selector.poly._xs_at_press\n",
    "polygon_y_coords = selector.poly._ys_at_press\n",
    "\n",
    "polygon = []\n",
    "codes = []\n",
    "for i in range(len(polygon_x_coords)):\n",
    "    polygon.append([polygon_x_coords[i], polygon_y_coords[i]])\n",
    "    codes.append(Path.LINETO)\n",
    "    \n",
    "codes[0] = Path.MOVETO,\n",
    "codes.append(Path.CLOSEPOLY,)\n",
    "polygon.append([polygon_x_coords[0], polygon_y_coords[0]])\n",
    "\n",
    "\n",
    "path = mpltPath.Path(polygon)\n",
    "fig, ax = plt.subplots()\n",
    "patch = patches.PathPatch(path, facecolor='orange', lw=2)\n",
    "ax.add_patch(patch)\n",
    "pts = ax.scatter(longs, lats)\n",
    "plt.show()\n",
    "inside2 = path.contains_points(points)\n",
    "indices_inside = np.where(inside2)\n",
    "\n",
    "name = input()\n",
    "\n"
   ]
  },
  {
   "cell_type": "code",
   "execution_count": null,
   "id": "b3d9ebe0",
   "metadata": {},
   "outputs": [],
   "source": [
    "import matplotlib.patches as patches\n",
    "fig, ax = plt.subplots()\n",
    "patch = patches.PathPatch(path, facecolor='orange', lw=2, alpha = 0.5)\n",
    "ax.add_patch(patch)\n",
    "ax.scatter(longs, lats)"
   ]
  },
  {
   "cell_type": "code",
   "execution_count": 38,
   "id": "c012d411",
   "metadata": {},
   "outputs": [],
   "source": [
    "import pandas as pd\n",
    "polygons_df = pd.DataFrame({\"polygons\":[], \"eq_lists\":[], \"catalogs\":[]})\n",
    "polygons_df\n",
    "new_line = pd.Series({'polygons':polygon, 'eq_lists':eq_with_data, 'catalogs':cat_with_data}, name='south america')\n",
    "polygons_df = polygons_df.append(new_line, ignore_index = False)\n",
    "polygons_df"
   ]
  },
  {
   "cell_type": "code",
   "execution_count": 39,
   "id": "615c9cff",
   "metadata": {},
   "outputs": [
    {
     "data": {
      "text/html": [
       "<div>\n",
       "<style scoped>\n",
       "    .dataframe tbody tr th:only-of-type {\n",
       "        vertical-align: middle;\n",
       "    }\n",
       "\n",
       "    .dataframe tbody tr th {\n",
       "        vertical-align: top;\n",
       "    }\n",
       "\n",
       "    .dataframe thead th {\n",
       "        text-align: right;\n",
       "    }\n",
       "</style>\n",
       "<table border=\"1\" class=\"dataframe\">\n",
       "  <thead>\n",
       "    <tr style=\"text-align: right;\">\n",
       "      <th></th>\n",
       "      <th>names</th>\n",
       "      <th>polygons</th>\n",
       "      <th>eq_lists</th>\n",
       "      <th>catalogs</th>\n",
       "    </tr>\n",
       "  </thead>\n",
       "  <tbody>\n",
       "  </tbody>\n",
       "</table>\n",
       "</div>"
      ],
      "text/plain": [
       "Empty DataFrame\n",
       "Columns: [names, polygons, eq_lists, catalogs]\n",
       "Index: []"
      ]
     },
     "execution_count": 39,
     "metadata": {},
     "output_type": "execute_result"
    }
   ],
   "source": [
    "polygons_df"
   ]
  },
  {
   "cell_type": "code",
   "execution_count": null,
   "id": "58e6d1ec",
   "metadata": {},
   "outputs": [],
   "source": [
    "new_line = pd.Series(name='south america',{'polygons':polygon, 'eq_lists':[], 'catalogs':cat_with_data})"
   ]
  },
  {
   "cell_type": "code",
   "execution_count": null,
   "id": "84b0c3df",
   "metadata": {},
   "outputs": [],
   "source": []
  }
 ],
 "metadata": {
  "kernelspec": {
   "display_name": "Python 3 (ipykernel)",
   "language": "python",
   "name": "python3"
  },
  "language_info": {
   "codemirror_mode": {
    "name": "ipython",
    "version": 3
   },
   "file_extension": ".py",
   "mimetype": "text/x-python",
   "name": "python",
   "nbconvert_exporter": "python",
   "pygments_lexer": "ipython3",
   "version": "3.9.7"
  }
 },
 "nbformat": 4,
 "nbformat_minor": 5
}
