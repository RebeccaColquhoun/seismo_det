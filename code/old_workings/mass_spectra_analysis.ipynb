{
 "cells": [
  {
   "cell_type": "code",
   "execution_count": 1,
   "metadata": {},
   "outputs": [],
   "source": [
    "#%conda install spectrum"
   ]
  },
  {
   "cell_type": "code",
   "execution_count": 2,
   "metadata": {},
   "outputs": [],
   "source": [
    "import obspy\n",
    "from obspy.clients.fdsn import Client\n",
    "import matplotlib.pyplot as plt\n",
    "import numpy as np\n",
    "import scipy\n",
    "import os\n",
    "import util\n",
    "from scipy.fft import fft, ifft, fftfreq, rfft\n",
    "import pickle\n",
    "from obspy import UTCDateTime\n",
    "import scipy.signal as signal\n",
    "from spectrum import *\n",
    "from pylab import *"
   ]
  },
  {
   "cell_type": "code",
   "execution_count": 3,
   "metadata": {},
   "outputs": [],
   "source": [
    "root = '/home/earthquakes1/homes/Rebecca/phd/data/2019_global_m3/'"
   ]
  },
  {
   "cell_type": "code",
   "execution_count": 4,
   "metadata": {},
   "outputs": [
    {
     "name": "stderr",
     "output_type": "stream",
     "text": [
      "do_ypcall: clnt_call: RPC: Timed out\n",
      "do_ypcall: clnt_call: RPC: Timed out\n",
      "do_ypcall: clnt_call: RPC: Timed out\n"
     ]
    }
   ],
   "source": [
    "eq_list = os.listdir(root)\n",
    "\n",
    "client = Client(\"IRIS\")\n",
    "\n",
    "cat = obspy.read_events('/home/earthquakes1/homes/Rebecca/phd/data/2019_global_m3_catalog.xml')\n",
    "\n",
    "eq_with_data = []\n",
    "cat_with_data = cat.copy()\n",
    "cat_with_data.clear()\n",
    "for event in cat:\n",
    "    eq_name = util.catEventToFileName(event)\n",
    "    if os.path.isdir(root+eq_name) and os.path.isdir(root+eq_name+'/station_xml_files') and os.path.exists(root+eq_name+'/picks.pkl'):\n",
    "        eq_with_data.append(eq_name)\n",
    "        cat_with_data.extend([event])"
   ]
  },
  {
   "cell_type": "code",
   "execution_count": 5,
   "metadata": {},
   "outputs": [],
   "source": [
    "binned_spectra = [\n",
    "    [[],[],[],[]], #0\n",
    "    [[],[],[],[]], #1\n",
    "    [[],[],[],[]], #2\n",
    "    [[],[],[],[]], #3\n",
    "    [[],[],[],[]], #4\n",
    "    [[],[],[],[]], #5\n",
    "    [[],[],[],[]], #6\n",
    "    [[],[],[],[]], #7\n",
    "    [[],[],[],[]] #8\n",
    "]"
   ]
  },
  {
   "cell_type": "code",
   "execution_count": 6,
   "metadata": {},
   "outputs": [
    {
     "name": "stdout",
     "output_type": "stream",
     "text": [
      "CX.HMBCX.\n"
     ]
    },
    {
     "data": {
      "text/plain": [
       "(0.5, 50)"
      ]
     },
     "execution_count": 6,
     "metadata": {},
     "output_type": "execute_result"
    },
    {
     "data": {
      "image/png": "[encoded data removed]",
      "text/plain": [
       "<Figure size 432x288 with 1 Axes>"
      ]
     },
     "metadata": {
      "needs_background": "light"
     },
     "output_type": "display_data"
    }
   ],
   "source": [
    "cmap = ['tab:blue','tab:orange','tab:green','tab:red','tab:purple','tab:brown','tab:pink','tab:gray','tab:olive','tab:cyan']\n",
    "fig, axs = plt.subplots(1,1)\n",
    "failed = []\n",
    "for eq_no in range(0, len(eq_with_data[0:1])):\n",
    "    eq_name = eq_with_data[eq_no]\n",
    "    try:\n",
    "        data = obspy.read(root+eq_name+'/data/*/*')\n",
    "        #data.plot()\n",
    "        inv = obspy.read_inventory(root+eq_name+'/station_xml_files/*')\n",
    "        data.remove_response(inv)\n",
    "        with open(root+eq_name+'/picks.pkl', 'rb') as f:\n",
    "            picks = pickle.load(f)\n",
    "    except: \n",
    "        break\n",
    "    if len(data)>0:\n",
    "        successful = 0\n",
    "        for tr_no in range(0, 1): #len(data)):\n",
    "            good = True\n",
    "            try:\n",
    "                sr = data[tr_no].stats.sampling_rate\n",
    "                tr_name = data[tr_no].stats.network+'.'+data[tr_no].stats.station+'.'+data[tr_no].stats.location\n",
    "                print(tr_name)\n",
    "                pick = UTCDateTime(picks[tr_name])\n",
    "                start = pick #int((pick - data[tr_no].stats.starttime)*sr)\n",
    "                end = pick + 4 # int(start + 4 * sr)\n",
    "                d = data[tr_no].copy()#.filter('lowpass', freq=10)\n",
    "                d.filter('highpass', freq=0.25) #anything less than 0.25s (1/4s) we can't undertand or model, could be aliased.\n",
    "                d.detrend()\n",
    "                d.integrate()\n",
    "                d.detrend()\n",
    "                coda = d.trim(start, end)\n",
    "                coda.detrend()\n",
    "                ave = np.average(coda.data)\n",
    "                if ave >= 10**(-7):\n",
    "                    good = False\n",
    "                if good==True:\n",
    "                    dt = d.stats.delta\n",
    "\n",
    "                    #creating the frequencies to plot on x axis \n",
    "                    Pfreq  = scipy.fft.rfftfreq(len(coda),dt)\n",
    "\n",
    "                    #doing the multitaper to get the spectra \n",
    "                    N = len(coda)\n",
    "                    NW=0.01*N\n",
    "                    k=25\n",
    "                    [tapers, eigen] = dpss(N, NW, k)\n",
    "                    for eigen_no in range(0, len(eigen)):\n",
    "                        if eigen[eigen_no] <= 0.5:\n",
    "                            k = eigen_no\n",
    "                            break\n",
    "                    [tapers, eigen] = dpss(N, NW, k)\n",
    "\n",
    "                    #print(eigen)\n",
    "                    freq_complex, weights, eigenvalues=pmtm(coda, e=eigen, v=tapers, show=False)\n",
    "                    freq = abs(freq_complex)\n",
    "                    freq = np.mean(freq,axis =0)\n",
    "                    freq_sdv = np.std(freq,axis =0)\n",
    "\n",
    "                    dist = util.calc_hypo_dist(cat_with_data[eq_no], d, inv)\n",
    "                    mag = cat_with_data[eq_no].magnitudes[0].mag\n",
    "                    binned_spectra[int(np.round(mag, 0))][int(dist//50)].append([Pfreq[:-1],freq[0:N//2]])\n",
    "\n",
    "                    #plotting the spectra in loglog\n",
    "                    #print('plot')\n",
    "                    if successful == 0:\n",
    "                        axs.plot(Pfreq[:-1],freq[0:N//2], alpha = 0.5, label=str(cat_with_data[eq_no].magnitudes[0].mag), color = cmap[eq_no])#tr_name + data[tr_no].stats.channel)\n",
    "                    #plt.fill_between(Pfreq[:-1],(Sk+Sk_sdv)[0:N//2],(Sk-Sk_sdv)[0:N//2],alpha=0.2)\n",
    "                    #-min(freq[0:N//2])\n",
    "                        axs.set_xlabel('Frequency (Hz)');\n",
    "                        axs.set_ylabel('A^2');\n",
    "                    #plt.title(tr_name + data[tr_no].stats.channel+' coda wave Power spectra');\n",
    "                    else:\n",
    "                        axs.plot(Pfreq[:-1],freq[0:N//2], color = cmap[eq_no], alpha = 0.5)#tr_name + data[tr_no].stats.channel)\n",
    "\n",
    "                    Pfreq_MHZ = Pfreq\n",
    "                    freq_MHZ = freq \n",
    "                    successful += 1\n",
    "                else:\n",
    "                    failed.append([eq_name, tr_name])\n",
    "                #print(freq_MHZ.shape)\n",
    "                #plt.show()\n",
    "            except:\n",
    "                failed.append([eq_name, tr_name])\n",
    "axs.legend();\n",
    "#axs.set_title('M'+str(cat_with_data[eq_no].magnitudes[0].mag) + ' ' + eq_name)\n",
    "axs.set_yscale('log')\n",
    "axs.set_xscale('log')\n",
    "axs.set_xlim(0.5, 50)\n",
    "#plt.close()\n"
   ]
  },
  {
   "cell_type": "code",
   "execution_count": 7,
   "metadata": {
    "scrolled": false
   },
   "outputs": [
    {
     "name": "stderr",
     "output_type": "stream",
     "text": [
      "/tmp/ipykernel_2192705/1713907047.py:2: VisibleDeprecationWarning: Creating an ndarray from ragged nested sequences (which is a list-or-tuple of lists-or-tuples-or ndarrays with different lengths or shapes) is deprecated. If you meant to do this, you must specify 'dtype=object' when creating the ndarray.\n",
      "  (a, b) = np.array(binned_spectra).shape\n",
      "/tmp/ipykernel_2192705/1713907047.py:18: UserWarning: Attempted to set non-positive left xlim on a log-scaled axis.\n",
      "Invalid limit will be ignored.\n",
      "  ax.set_xlim([0, 50])\n"
     ]
    },
    {
     "data": {
      "image/png": "[encoded data removed]",
      "text/plain": [
       "<Figure size 921.6x691.2 with 13 Axes>"
      ]
     },
     "metadata": {
      "needs_background": "light"
     },
     "output_type": "display_data"
    }
   ],
   "source": [
    "import random\n",
    "(a, b) = np.array(binned_spectra).shape\n",
    "fig, axs = plt.subplots(3, b, figsize=(12.8,9.6))\n",
    "for mag_no in range(3, 6): #len(binned_spectra)):\n",
    "    for dist_no in range(len(binned_spectra[mag_no])):\n",
    "        for item in binned_spectra[mag_no][dist_no]:\n",
    "            axs[mag_no-3][dist_no].plot(item[0], item[1], color = 'midnightblue', alpha = random.randrange(10,70,1)/100, linewidth = 0.5)\n",
    "            axs[mag_no-3][dist_no].set_yscale('log')\n",
    "            axs[mag_no-3][dist_no].set_xscale('log')\n",
    "#axs[3][0].set_xticks([])\n",
    "#axs[3][2].set_xticks([])\n",
    "#axs[3][3].set_xticks([])\n",
    "#axs[3][0].set_yticks([])\n",
    "#axs[3][2].set_yticks([])\n",
    "#axs[3][3].set_yticks([])\n",
    "for row in axs:\n",
    "    for ax in row:\n",
    "        ax.set_xlim([0, 50])\n",
    "#ax.set_yticks([])\n",
    "axs[0][0].set_ylabel('M2.5--3.5', rotation=0, labelpad=30, fontsize = 12)\n",
    "axs[1][0].set_ylabel('M3.5--4.5', rotation=0, labelpad=30, fontsize = 12)\n",
    "axs[2][0].set_ylabel('M4.5--5.5', rotation=0, labelpad=30, fontsize = 12)\n",
    "#axs[3][0].set_ylabel('M5.5--6.5', rotation=0, labelpad=55, fontsize = 12)\n",
    "axs[0][0].set_title('0--50 km')\n",
    "axs[0][1].set_title('50--100 km')\n",
    "axs[0][2].set_title('100--150 km')\n",
    "#axs[0][3].set_title('150--200 km')\n",
    "fig.add_subplot(111, frame_on=False)\n",
    "plt.tick_params(labelcolor=\"none\", bottom=False, left=False)\n",
    "plt.title('Frequency spectra for 100 earthquakes binned in magnitude and station distance', fontsize = 16, pad = 20)\n",
    "plt.xlabel(\"log(f)\", fontsize = 14)#, labelpad=50)\n",
    "plt.ylabel(\"log(A)\", fontsize = 14, labelpad=75)\n",
    "fig.tight_layout()\n",
    "#plt.savefig('/home/earthquakes1/homes/Rebecca/phd/seismo_det/figures/spectra/3000_eq')\n"
   ]
  },
  {
   "cell_type": "code",
   "execution_count": 8,
   "metadata": {},
   "outputs": [
    {
     "data": {
      "text/plain": [
       "Inventory created at 2021-10-28T15:56:51.413805Z\n",
       "\tSending institution: SeisComP (GFZ)\n",
       "\tContains:\n",
       "\t\tNetworks (3):\n",
       "\t\t\tCX (3x)\n",
       "\t\tStations (3):\n",
       "\t\t\tCX.HMBCX (IPOC Station Humberstone, Chile)\n",
       "\t\t\tCX.PB01 (IPOC Station Huatacondo, Chile)\n",
       "\t\t\tCX.PB08 (IPOC Station Macaya, Chile)\n",
       "\t\tChannels (9):\n",
       "\t\t\tCX.HMBCX..HHZ, CX.HMBCX..HHN, CX.HMBCX..HHE, CX.PB01..HHZ, \n",
       "\t\t\tCX.PB01..HHN, CX.PB01..HHE, CX.PB08..HHZ, CX.PB08..HHN, \n",
       "\t\t\tCX.PB08..HHE"
      ]
     },
     "execution_count": 8,
     "metadata": {},
     "output_type": "execute_result"
    }
   ],
   "source": [
    "inv"
   ]
  },
  {
   "cell_type": "code",
   "execution_count": 9,
   "metadata": {},
   "outputs": [
    {
     "ename": "AttributeError",
     "evalue": "'numpy.ndarray' object has no attribute 'set_xlim'",
     "output_type": "error",
     "traceback": [
      "\u001b[0;31m---------------------------------------------------------------------------\u001b[0m",
      "\u001b[0;31mAttributeError\u001b[0m                            Traceback (most recent call last)",
      "\u001b[0;32m/tmp/ipykernel_2192705/45269335.py\u001b[0m in \u001b[0;36m<module>\u001b[0;34m\u001b[0m\n\u001b[0;32m----> 1\u001b[0;31m \u001b[0maxs\u001b[0m\u001b[0;34m.\u001b[0m\u001b[0mset_xlim\u001b[0m\u001b[0;34m(\u001b[0m\u001b[0;36m0.01\u001b[0m\u001b[0;34m,\u001b[0m \u001b[0;36m52\u001b[0m\u001b[0;34m)\u001b[0m\u001b[0;34m\u001b[0m\u001b[0;34m\u001b[0m\u001b[0m\n\u001b[0m\u001b[1;32m      2\u001b[0m \u001b[0maxs\u001b[0m\u001b[0;34m.\u001b[0m\u001b[0mset_ylim\u001b[0m\u001b[0;34m(\u001b[0m\u001b[0;36m0.00000001\u001b[0m\u001b[0;34m,\u001b[0m \u001b[0;36m10\u001b[0m\u001b[0;34m)\u001b[0m\u001b[0;34m\u001b[0m\u001b[0;34m\u001b[0m\u001b[0m\n\u001b[1;32m      3\u001b[0m \u001b[0mplt\u001b[0m\u001b[0;34m.\u001b[0m\u001b[0mshow\u001b[0m\u001b[0;34m(\u001b[0m\u001b[0;34m)\u001b[0m\u001b[0;34m\u001b[0m\u001b[0;34m\u001b[0m\u001b[0m\n\u001b[1;32m      4\u001b[0m \u001b[0mfig\u001b[0m\u001b[0;34m\u001b[0m\u001b[0;34m\u001b[0m\u001b[0m\n",
      "\u001b[0;31mAttributeError\u001b[0m: 'numpy.ndarray' object has no attribute 'set_xlim'"
     ]
    }
   ],
   "source": [
    "axs.set_xlim(0.01, 52)\n",
    "axs.set_ylim(0.00000001, 10)\n",
    "plt.show()\n",
    "fig"
   ]
  },
  {
   "cell_type": "code",
   "execution_count": null,
   "metadata": {},
   "outputs": [],
   "source": [
    "np.round(3.4, 0)"
   ]
  },
  {
   "cell_type": "code",
   "execution_count": null,
   "metadata": {},
   "outputs": [],
   "source": []
  }
 ],
 "metadata": {
  "kernelspec": {
   "display_name": "Python 3 (ipykernel)",
   "language": "python",
   "name": "python3"
  },
  "language_info": {
   "codemirror_mode": {
    "name": "ipython",
    "version": 3
   },
   "file_extension": ".py",
   "mimetype": "text/x-python",
   "name": "python",
   "nbconvert_exporter": "python",
   "pygments_lexer": "ipython3",
   "version": "3.9.7"
  }
 },
 "nbformat": 4,
 "nbformat_minor": 2
}
