{
 "cells": [
  {
   "cell_type": "code",
   "execution_count": 1,
   "id": "9d26869c-84b2-4eb3-8a89-575a1567799d",
   "metadata": {},
   "outputs": [
    {
     "name": "stdout",
     "output_type": "stream",
     "text": [
      "\n"
     ]
    }
   ],
   "source": [
    "print('')"
   ]
  },
  {
   "cell_type": "markdown",
   "id": "b18be68c-330d-4b7d-9c9c-43c32d4a6b03",
   "metadata": {},
   "source": [
    "aim to plot change in gradient as consider changing minimum magntiude of data"
   ]
  },
  {
   "cell_type": "code",
   "execution_count": 1,
   "id": "6689b1c3-c62f-440c-8aeb-35e433640eaf",
   "metadata": {},
   "outputs": [],
   "source": [
    "import os\n",
    "import scipy\n",
    "import numpy as np\n",
    "import matplotlib.pyplot as plt\n",
    "import obspy\n",
    "import pickle\n",
    "from obspy import UTCDateTime\n",
    "from obspy.clients.fdsn import Client\n",
    "import pandas as pd\n",
    "import math\n",
    "\n",
    "import matplotlib\n",
    "matplotlib.rcParams.update({'font.size': 20})"
   ]
  },
  {
   "cell_type": "code",
   "execution_count": 2,
   "id": "c347ad75-5db6-4f2d-a02c-6adb7c5ef55c",
   "metadata": {},
   "outputs": [],
   "source": [
    "filenames = ['eq_object_03s_bandpass_01_19_snr_20_blank_0_new',\n",
    "            'eq_object_05s_bandpass_01_19_snr_20_blank_0_new',\n",
    "            'eq_object_1s_bandpass_01_19_snr_20_blank_0_new',\n",
    "            'eq_object_4s_bandpass_01_19_snr_20_blank_0_new']\n",
    "\n",
    "'''filenames = ['eq_object_03s_bandpass_01_19_snr_20_blank_0_new',\n",
    "              'eq_object_03s_bandpass_01_19_snr_20_blank_005_new',\n",
    "              'eq_object_03s_bandpass_01_19_snr_20_blank_01_new']\n",
    "\n",
    "filenames = ['eq_object_05s_bandpass_01_19_snr_20_blank_0_new',\n",
    "             'eq_object_05s_bandpass_01_19_snr_20_blank_005_new', \n",
    "             'eq_object_05s_bandpass_01_19_snr_20_blank_01_new',\n",
    "             'eq_object_05s_bandpass_01_19_snr_20_blank_025_new',\n",
    "             'eq_object_1s_bandpass_01_19_snr_20_blank_0_new', \n",
    "             'eq_object_1s_bandpass_01_19_snr_20_blank_005_new',\n",
    "             'eq_object_1s_bandpass_01_19_snr_20_blank_01_new',\n",
    "             'eq_object_1s_bandpass_01_19_snr_20_blank_025_new',\n",
    "             'eq_object_1s_bandpass_01_19_snr_20_blank_05_new',\n",
    "              'eq_object_4s_bandpass_01_19_snr_20_blank_0_new',\n",
    "              'eq_object_4s_bandpass_01_19_snr_20_blank_005_new',\n",
    "              'eq_object_4s_bandpass_01_19_snr_20_blank_01_new',\n",
    "              'eq_object_4s_bandpass_01_19_snr_20_blank_025_new',\n",
    "              'eq_object_4s_bandpass_01_19_snr_20_blank_05_new']'''\n",
    "\n",
    "magnitudes = np.arange(3,8, 0.1)"
   ]
  },
  {
   "cell_type": "code",
   "execution_count": 14,
   "id": "d43cf621-a960-48bf-b92c-8de6cd376d77",
   "metadata": {},
   "outputs": [],
   "source": [
    "def sort_tp_data(df, mag_lim = 0):\n",
    "    list_tp_all = list(df.tp_max)\n",
    "    list_mag_all = list(df.eq_mag)\n",
    "    list_mag = []\n",
    "    list_tpmax = []\n",
    "    count = 0\n",
    "    for m in range(0, len(list_mag_all)):\n",
    "        if list_mag_all[m] > mag_lim:\n",
    "            list_mag.append(list_mag_all[m])\n",
    "            list_tpmax.append([])\n",
    "            for d in range(0, len(list_tp_all[m])):\n",
    "                if list_tp_all[m][d] != None and list_tp_all[m][d]>0:\n",
    "                    list_tpmax[count].append(list_tp_all[m][d])\n",
    "            count += 1\n",
    "    return list_mag, list_tpmax"
   ]
  },
  {
   "cell_type": "code",
   "execution_count": null,
   "id": "2933545e-ddc4-405d-b4f1-696014d82cfe",
   "metadata": {},
   "outputs": [],
   "source": []
  },
  {
   "cell_type": "code",
   "execution_count": 4,
   "id": "1c7b82c1-6237-42a2-9308-b8786c3561fd",
   "metadata": {},
   "outputs": [],
   "source": [
    "def plot_tpmax(title, mag_lim, list_mags, list_tpmax):\n",
    "    params = []\n",
    "    opacities = np.linspace(0.2,1,45)\n",
    "    import matplotlib.pyplot as plt\n",
    "    cs = ['midnightblue']\n",
    "    #fig, axs = plt.subplots(1,1, figsize=(12.8,9.6))\n",
    "    y_aves_tp = []\n",
    "    x_aves_tp = []\n",
    "    count = 1\n",
    "    eq_count = 0\n",
    "    medians = [[] for _ in range(0, 45)]\n",
    "    medians_of_medians = [[] for _ in range(0, 45)]\n",
    "    n = 0\n",
    "    median_absolute_deviation = []\n",
    "    sum_absolute_deviation = []\n",
    "    all_abs_deviation = []\n",
    "    for n in [1]:#range(1, 10):#number of stations eq at least measured at\n",
    "        med_for_ad = []\n",
    "        mag_for_ad = []\n",
    "        fig, axs = plt.subplots(1,1, figsize=(12.8,9.6))\n",
    "        #for mag_lim in [3.]:#, 3.4, 4.0, 4.4]:#np.arange(3.0, 6.5, 0.1):\n",
    "        y_aves_tp = []\n",
    "        x_aves_tp = []\n",
    "        for i  in range(0, len(list_mags)):\n",
    "            if list_mags[i] > mag_lim and list_mags[i]<=max(list_mags):\n",
    "                #if list_mags[i] >= 4 and list_mags[i]<=5:\n",
    "                if len(list_tpmax[i])>=n:\n",
    "                    mean_tp = np.mean(list_tpmax[i]) \n",
    "                    std_tp = np.std(list_tpmax[i]) \n",
    "                    y_tp = [] \n",
    "                    for j in list_tpmax[i]: \n",
    "                        if j > mean_tp-2*std_tp and j < mean_tp + 2*std_tp:# and j < 100: \n",
    "                            y_tp.append(math.log(j, 10))\n",
    "                        elif len(list_tpmax[i])==1:\n",
    "                            y_tp.append(math.log(j, 10))\n",
    "                    x_tp = np.zeros(len(y_tp))  \n",
    "                    x_tp = x_tp + list_mags[i]\n",
    "                    c = 0\n",
    "                    if len(x_tp)>0:\n",
    "                        if math.isnan(np.median(y_tp))==False:\n",
    "                            axs.scatter(list_mags[i]-5+np.random.uniform(-0.05, 0.05), np.median(y_tp), s = 10, c = '#003f5c', marker = 'x', zorder =110, alpha = 0.5)\n",
    "                    if math.isnan(np.median(y_tp))==False:  \n",
    "                        y_aves_tp.append(np.median(y_tp))\n",
    "                        x_aves_tp.append(list_mags[i])\n",
    "        if len(y_aves_tp)>0:\n",
    "            x_use = np.array(x_aves_tp) - 5\n",
    "            y_use = np.array(y_aves_tp)\n",
    "\n",
    "            print(len(x_aves_tp), len(y_aves_tp))\n",
    "            count += 1\n",
    "            x = x_use\n",
    "            y = y_use\n",
    "            x_unique = np.arange(-2,3,0.1)\n",
    "            df_tp = pd.DataFrame(columns = x_unique)\n",
    "\n",
    "            result = scipy.stats.linregress(x,y)\n",
    "            a = result.slope\n",
    "            b = result.intercept\n",
    "            std_a = result.stderr\n",
    "            std_b = result.intercept_stderr\n",
    "\n",
    "            y_1 = (a+std_a)*x_unique + (b+std_b)\n",
    "            y_2 = (a+std_a)*x_unique + (b-std_b)\n",
    "            y_3 = (a-std_a)*x_unique + (b+std_b)\n",
    "            y_4 = (a-std_a)*x_unique + (b-std_b)\n",
    "\n",
    "\n",
    "            y_min_1sd = np.minimum(np.minimum(y_1, y_2), np.minimum(y_3, y_4))\n",
    "            y_max_1sd = np.maximum(np.maximum(y_1, y_2), np.maximum(y_3, y_4))\n",
    "\n",
    "            y_1 = (a+2*std_a)*x_unique + (b+2*std_b)\n",
    "            y_2 = (a+2*std_a)*x_unique + (b-2*std_b)\n",
    "            y_3 = (a-2*std_a)*x_unique + (b+2*std_b)\n",
    "            y_4 = (a-2*std_a)*x_unique + (b-2*std_b)\n",
    "\n",
    "            y_min_2sd = np.minimum(np.minimum(y_1, y_2), np.minimum(y_3, y_4))\n",
    "            y_max_2sd = np.maximum(np.maximum(y_1, y_2), np.maximum(y_3, y_4))        \n",
    "\n",
    "            #plt.scatter(x+np.random.uniform(-0.05, 0.05, len(x)),y, marker = 'x', color = 'k', s = 10, alpha = 0.5)\n",
    "            axs.fill_between(x_unique, y_min_1sd, y_max_1sd, color = '#bc5090', alpha = 0.6, zorder = 100, label = '1sd')\n",
    "            axs.fill_between(x_unique, y_min_2sd, y_max_2sd, color = '#ffa600', alpha = 0.6, zorder = 99, label = '2sd')\n",
    "            popt = np.polyfit(x, y, 1)\n",
    "            axs.plot(x_unique, popt[0]*x_unique+popt[1], color='#003f5c',zorder=102,label='{a:.2f}x+{b:.2f}\\npearson r: {r:.4f}'.format(a=result.slope,b=result.intercept-5*result.slope,r=result.rvalue))\n",
    "            axs.set_ylabel('log10(tpmax)')\n",
    "            axs.set_xlabel('magnitude')   \n",
    "            axs.set_xticks([-2,-1,0,1,2,3], [3,4,5,6,7,8], zorder = 110)\n",
    "            axs.legend()\n",
    "            #axs.set_ylim([-2,1])\n",
    "            t = title.split('_')\n",
    "            #axs.set_title(f'Predominant period, window = {t[2]}, blanked time = {t[-2][0]}.{t[-2][1:]}s')\n",
    "            #plt.show()\n",
    "            #plt.savefig(f'/home/earthquakes1/homes/Rebecca/phd/seismo_det/figures/all_data/tpmax/{title}/mag{mag_lim:.1f}.pdf', format = 'pdf')\n",
    "            #plt.close()\n",
    "            return result.rvalue\n"
   ]
  },
  {
   "cell_type": "code",
   "execution_count": 6,
   "id": "ac205ca8-2d8b-42a1-b7b3-5c3edb6c281b",
   "metadata": {},
   "outputs": [],
   "source": [
    "gradt, intercept, gradt_std, intercept_std = [],[],[],[]\n",
    "pearson = []\n",
    "spearman = []\n",
    "spearman_p = []"
   ]
  },
  {
   "cell_type": "code",
   "execution_count": 12,
   "id": "b751f5a8-7893-4ba5-af17-10e492510655",
   "metadata": {},
   "outputs": [
    {
     "name": "stdout",
     "output_type": "stream",
     "text": [
      "eq_object_05s_bandpass_01_19_snr_20_blank_0_new\n",
      "3.0\n"
     ]
    },
    {
     "name": "stderr",
     "output_type": "stream",
     "text": [
      "/home/earthquakes1/software/Ubuntu/anaconda3/envs/rlc2/lib/python3.10/site-packages/numpy/core/fromnumeric.py:3432: RuntimeWarning: Mean of empty slice.\n",
      "  return _methods._mean(a, axis=axis, dtype=dtype,\n",
      "/home/earthquakes1/software/Ubuntu/anaconda3/envs/rlc2/lib/python3.10/site-packages/numpy/core/_methods.py:190: RuntimeWarning: invalid value encountered in double_scalars\n",
      "  ret = ret.dtype.type(ret / rcount)\n"
     ]
    },
    {
     "name": "stdout",
     "output_type": "stream",
     "text": [
      "0.12386450173899607\n",
      "3.1\n"
     ]
    },
    {
     "name": "stderr",
     "output_type": "stream",
     "text": [
      "/home/earthquakes1/software/Ubuntu/anaconda3/envs/rlc2/lib/python3.10/site-packages/numpy/core/fromnumeric.py:3432: RuntimeWarning: Mean of empty slice.\n",
      "  return _methods._mean(a, axis=axis, dtype=dtype,\n",
      "/home/earthquakes1/software/Ubuntu/anaconda3/envs/rlc2/lib/python3.10/site-packages/numpy/core/_methods.py:190: RuntimeWarning: invalid value encountered in double_scalars\n",
      "  ret = ret.dtype.type(ret / rcount)\n"
     ]
    },
    {
     "name": "stdout",
     "output_type": "stream",
     "text": [
      "0.11771557850806966\n",
      "3.2\n"
     ]
    },
    {
     "name": "stderr",
     "output_type": "stream",
     "text": [
      "/home/earthquakes1/software/Ubuntu/anaconda3/envs/rlc2/lib/python3.10/site-packages/numpy/core/fromnumeric.py:3432: RuntimeWarning: Mean of empty slice.\n",
      "  return _methods._mean(a, axis=axis, dtype=dtype,\n",
      "/home/earthquakes1/software/Ubuntu/anaconda3/envs/rlc2/lib/python3.10/site-packages/numpy/core/_methods.py:190: RuntimeWarning: invalid value encountered in double_scalars\n",
      "  ret = ret.dtype.type(ret / rcount)\n"
     ]
    },
    {
     "name": "stdout",
     "output_type": "stream",
     "text": [
      "0.11813724517577541\n",
      "3.3000000000000003\n"
     ]
    },
    {
     "name": "stderr",
     "output_type": "stream",
     "text": [
      "/home/earthquakes1/software/Ubuntu/anaconda3/envs/rlc2/lib/python3.10/site-packages/numpy/core/fromnumeric.py:3432: RuntimeWarning: Mean of empty slice.\n",
      "  return _methods._mean(a, axis=axis, dtype=dtype,\n",
      "/home/earthquakes1/software/Ubuntu/anaconda3/envs/rlc2/lib/python3.10/site-packages/numpy/core/_methods.py:190: RuntimeWarning: invalid value encountered in double_scalars\n",
      "  ret = ret.dtype.type(ret / rcount)\n"
     ]
    },
    {
     "name": "stdout",
     "output_type": "stream",
     "text": [
      "0.12159965898332961\n",
      "3.4000000000000004\n"
     ]
    },
    {
     "name": "stderr",
     "output_type": "stream",
     "text": [
      "/home/earthquakes1/software/Ubuntu/anaconda3/envs/rlc2/lib/python3.10/site-packages/numpy/core/fromnumeric.py:3432: RuntimeWarning: Mean of empty slice.\n",
      "  return _methods._mean(a, axis=axis, dtype=dtype,\n",
      "/home/earthquakes1/software/Ubuntu/anaconda3/envs/rlc2/lib/python3.10/site-packages/numpy/core/_methods.py:190: RuntimeWarning: invalid value encountered in double_scalars\n",
      "  ret = ret.dtype.type(ret / rcount)\n"
     ]
    },
    {
     "name": "stdout",
     "output_type": "stream",
     "text": [
      "0.12041484744367477\n",
      "3.5000000000000004\n"
     ]
    },
    {
     "name": "stderr",
     "output_type": "stream",
     "text": [
      "/home/earthquakes1/software/Ubuntu/anaconda3/envs/rlc2/lib/python3.10/site-packages/numpy/core/fromnumeric.py:3432: RuntimeWarning: Mean of empty slice.\n",
      "  return _methods._mean(a, axis=axis, dtype=dtype,\n",
      "/home/earthquakes1/software/Ubuntu/anaconda3/envs/rlc2/lib/python3.10/site-packages/numpy/core/_methods.py:190: RuntimeWarning: invalid value encountered in double_scalars\n",
      "  ret = ret.dtype.type(ret / rcount)\n"
     ]
    },
    {
     "name": "stdout",
     "output_type": "stream",
     "text": [
      "0.1157377015583314\n",
      "3.6000000000000005\n"
     ]
    },
    {
     "name": "stderr",
     "output_type": "stream",
     "text": [
      "/home/earthquakes1/software/Ubuntu/anaconda3/envs/rlc2/lib/python3.10/site-packages/numpy/core/fromnumeric.py:3432: RuntimeWarning: Mean of empty slice.\n",
      "  return _methods._mean(a, axis=axis, dtype=dtype,\n",
      "/home/earthquakes1/software/Ubuntu/anaconda3/envs/rlc2/lib/python3.10/site-packages/numpy/core/_methods.py:190: RuntimeWarning: invalid value encountered in double_scalars\n",
      "  ret = ret.dtype.type(ret / rcount)\n"
     ]
    },
    {
     "name": "stdout",
     "output_type": "stream",
     "text": [
      "0.10755856985439341\n",
      "3.7000000000000006\n"
     ]
    },
    {
     "name": "stderr",
     "output_type": "stream",
     "text": [
      "/home/earthquakes1/software/Ubuntu/anaconda3/envs/rlc2/lib/python3.10/site-packages/numpy/core/fromnumeric.py:3432: RuntimeWarning: Mean of empty slice.\n",
      "  return _methods._mean(a, axis=axis, dtype=dtype,\n",
      "/home/earthquakes1/software/Ubuntu/anaconda3/envs/rlc2/lib/python3.10/site-packages/numpy/core/_methods.py:190: RuntimeWarning: invalid value encountered in double_scalars\n",
      "  ret = ret.dtype.type(ret / rcount)\n"
     ]
    },
    {
     "name": "stdout",
     "output_type": "stream",
     "text": [
      "0.10513920262179412\n",
      "3.8000000000000007\n"
     ]
    },
    {
     "name": "stderr",
     "output_type": "stream",
     "text": [
      "/home/earthquakes1/software/Ubuntu/anaconda3/envs/rlc2/lib/python3.10/site-packages/numpy/core/fromnumeric.py:3432: RuntimeWarning: Mean of empty slice.\n",
      "  return _methods._mean(a, axis=axis, dtype=dtype,\n",
      "/home/earthquakes1/software/Ubuntu/anaconda3/envs/rlc2/lib/python3.10/site-packages/numpy/core/_methods.py:190: RuntimeWarning: invalid value encountered in double_scalars\n",
      "  ret = ret.dtype.type(ret / rcount)\n"
     ]
    },
    {
     "name": "stdout",
     "output_type": "stream",
     "text": [
      "0.10303340184707294\n",
      "3.900000000000001\n"
     ]
    },
    {
     "name": "stderr",
     "output_type": "stream",
     "text": [
      "/home/earthquakes1/software/Ubuntu/anaconda3/envs/rlc2/lib/python3.10/site-packages/numpy/core/fromnumeric.py:3432: RuntimeWarning: Mean of empty slice.\n",
      "  return _methods._mean(a, axis=axis, dtype=dtype,\n",
      "/home/earthquakes1/software/Ubuntu/anaconda3/envs/rlc2/lib/python3.10/site-packages/numpy/core/_methods.py:190: RuntimeWarning: invalid value encountered in double_scalars\n",
      "  ret = ret.dtype.type(ret / rcount)\n"
     ]
    },
    {
     "name": "stdout",
     "output_type": "stream",
     "text": [
      "0.10140030593301401\n",
      "4.000000000000001\n"
     ]
    },
    {
     "name": "stderr",
     "output_type": "stream",
     "text": [
      "/home/earthquakes1/software/Ubuntu/anaconda3/envs/rlc2/lib/python3.10/site-packages/numpy/core/fromnumeric.py:3432: RuntimeWarning: Mean of empty slice.\n",
      "  return _methods._mean(a, axis=axis, dtype=dtype,\n",
      "/home/earthquakes1/software/Ubuntu/anaconda3/envs/rlc2/lib/python3.10/site-packages/numpy/core/_methods.py:190: RuntimeWarning: invalid value encountered in double_scalars\n",
      "  ret = ret.dtype.type(ret / rcount)\n"
     ]
    },
    {
     "name": "stdout",
     "output_type": "stream",
     "text": [
      "0.10014372500727457\n",
      "4.100000000000001\n"
     ]
    },
    {
     "name": "stderr",
     "output_type": "stream",
     "text": [
      "/home/earthquakes1/software/Ubuntu/anaconda3/envs/rlc2/lib/python3.10/site-packages/numpy/core/fromnumeric.py:3432: RuntimeWarning: Mean of empty slice.\n",
      "  return _methods._mean(a, axis=axis, dtype=dtype,\n",
      "/home/earthquakes1/software/Ubuntu/anaconda3/envs/rlc2/lib/python3.10/site-packages/numpy/core/_methods.py:190: RuntimeWarning: invalid value encountered in double_scalars\n",
      "  ret = ret.dtype.type(ret / rcount)\n"
     ]
    },
    {
     "name": "stdout",
     "output_type": "stream",
     "text": [
      "0.10294445015490973\n",
      "4.200000000000001\n"
     ]
    },
    {
     "name": "stderr",
     "output_type": "stream",
     "text": [
      "/home/earthquakes1/software/Ubuntu/anaconda3/envs/rlc2/lib/python3.10/site-packages/numpy/core/fromnumeric.py:3432: RuntimeWarning: Mean of empty slice.\n",
      "  return _methods._mean(a, axis=axis, dtype=dtype,\n",
      "/home/earthquakes1/software/Ubuntu/anaconda3/envs/rlc2/lib/python3.10/site-packages/numpy/core/_methods.py:190: RuntimeWarning: invalid value encountered in double_scalars\n",
      "  ret = ret.dtype.type(ret / rcount)\n"
     ]
    },
    {
     "name": "stdout",
     "output_type": "stream",
     "text": [
      "0.09393826779541323\n",
      "4.300000000000001\n"
     ]
    },
    {
     "name": "stderr",
     "output_type": "stream",
     "text": [
      "/home/earthquakes1/software/Ubuntu/anaconda3/envs/rlc2/lib/python3.10/site-packages/numpy/core/fromnumeric.py:3432: RuntimeWarning: Mean of empty slice.\n",
      "  return _methods._mean(a, axis=axis, dtype=dtype,\n",
      "/home/earthquakes1/software/Ubuntu/anaconda3/envs/rlc2/lib/python3.10/site-packages/numpy/core/_methods.py:190: RuntimeWarning: invalid value encountered in double_scalars\n",
      "  ret = ret.dtype.type(ret / rcount)\n"
     ]
    },
    {
     "name": "stdout",
     "output_type": "stream",
     "text": [
      "0.08959667790674707\n",
      "4.400000000000001\n"
     ]
    },
    {
     "name": "stderr",
     "output_type": "stream",
     "text": [
      "/home/earthquakes1/software/Ubuntu/anaconda3/envs/rlc2/lib/python3.10/site-packages/numpy/core/fromnumeric.py:3432: RuntimeWarning: Mean of empty slice.\n",
      "  return _methods._mean(a, axis=axis, dtype=dtype,\n",
      "/home/earthquakes1/software/Ubuntu/anaconda3/envs/rlc2/lib/python3.10/site-packages/numpy/core/_methods.py:190: RuntimeWarning: invalid value encountered in double_scalars\n",
      "  ret = ret.dtype.type(ret / rcount)\n"
     ]
    },
    {
     "name": "stdout",
     "output_type": "stream",
     "text": [
      "0.08655026934947044\n",
      "4.500000000000002\n"
     ]
    },
    {
     "name": "stderr",
     "output_type": "stream",
     "text": [
      "/home/earthquakes1/software/Ubuntu/anaconda3/envs/rlc2/lib/python3.10/site-packages/numpy/core/fromnumeric.py:3432: RuntimeWarning: Mean of empty slice.\n",
      "  return _methods._mean(a, axis=axis, dtype=dtype,\n",
      "/home/earthquakes1/software/Ubuntu/anaconda3/envs/rlc2/lib/python3.10/site-packages/numpy/core/_methods.py:190: RuntimeWarning: invalid value encountered in double_scalars\n",
      "  ret = ret.dtype.type(ret / rcount)\n"
     ]
    },
    {
     "name": "stdout",
     "output_type": "stream",
     "text": [
      "0.07685458889106508\n",
      "4.600000000000001\n"
     ]
    },
    {
     "name": "stderr",
     "output_type": "stream",
     "text": [
      "/home/earthquakes1/software/Ubuntu/anaconda3/envs/rlc2/lib/python3.10/site-packages/numpy/core/fromnumeric.py:3432: RuntimeWarning: Mean of empty slice.\n",
      "  return _methods._mean(a, axis=axis, dtype=dtype,\n",
      "/home/earthquakes1/software/Ubuntu/anaconda3/envs/rlc2/lib/python3.10/site-packages/numpy/core/_methods.py:190: RuntimeWarning: invalid value encountered in double_scalars\n",
      "  ret = ret.dtype.type(ret / rcount)\n"
     ]
    },
    {
     "name": "stdout",
     "output_type": "stream",
     "text": [
      "0.06890681144119205\n",
      "4.700000000000001\n"
     ]
    },
    {
     "name": "stderr",
     "output_type": "stream",
     "text": [
      "/home/earthquakes1/software/Ubuntu/anaconda3/envs/rlc2/lib/python3.10/site-packages/numpy/core/fromnumeric.py:3432: RuntimeWarning: Mean of empty slice.\n",
      "  return _methods._mean(a, axis=axis, dtype=dtype,\n",
      "/home/earthquakes1/software/Ubuntu/anaconda3/envs/rlc2/lib/python3.10/site-packages/numpy/core/_methods.py:190: RuntimeWarning: invalid value encountered in double_scalars\n",
      "  ret = ret.dtype.type(ret / rcount)\n"
     ]
    },
    {
     "name": "stdout",
     "output_type": "stream",
     "text": [
      "0.06475189700530161\n",
      "4.800000000000002\n"
     ]
    },
    {
     "name": "stderr",
     "output_type": "stream",
     "text": [
      "/home/earthquakes1/software/Ubuntu/anaconda3/envs/rlc2/lib/python3.10/site-packages/numpy/core/fromnumeric.py:3432: RuntimeWarning: Mean of empty slice.\n",
      "  return _methods._mean(a, axis=axis, dtype=dtype,\n",
      "/home/earthquakes1/software/Ubuntu/anaconda3/envs/rlc2/lib/python3.10/site-packages/numpy/core/_methods.py:190: RuntimeWarning: invalid value encountered in double_scalars\n",
      "  ret = ret.dtype.type(ret / rcount)\n"
     ]
    },
    {
     "name": "stdout",
     "output_type": "stream",
     "text": [
      "0.05838185663305972\n",
      "4.900000000000002\n"
     ]
    },
    {
     "name": "stderr",
     "output_type": "stream",
     "text": [
      "/home/earthquakes1/software/Ubuntu/anaconda3/envs/rlc2/lib/python3.10/site-packages/numpy/core/fromnumeric.py:3432: RuntimeWarning: Mean of empty slice.\n",
      "  return _methods._mean(a, axis=axis, dtype=dtype,\n",
      "/home/earthquakes1/software/Ubuntu/anaconda3/envs/rlc2/lib/python3.10/site-packages/numpy/core/_methods.py:190: RuntimeWarning: invalid value encountered in double_scalars\n",
      "  ret = ret.dtype.type(ret / rcount)\n"
     ]
    },
    {
     "name": "stdout",
     "output_type": "stream",
     "text": [
      "0.05690124370619807\n",
      "5.000000000000002\n"
     ]
    },
    {
     "name": "stderr",
     "output_type": "stream",
     "text": [
      "/home/earthquakes1/software/Ubuntu/anaconda3/envs/rlc2/lib/python3.10/site-packages/numpy/core/fromnumeric.py:3432: RuntimeWarning: Mean of empty slice.\n",
      "  return _methods._mean(a, axis=axis, dtype=dtype,\n",
      "/home/earthquakes1/software/Ubuntu/anaconda3/envs/rlc2/lib/python3.10/site-packages/numpy/core/_methods.py:190: RuntimeWarning: invalid value encountered in double_scalars\n",
      "  ret = ret.dtype.type(ret / rcount)\n"
     ]
    },
    {
     "name": "stdout",
     "output_type": "stream",
     "text": [
      "0.05370827134631124\n",
      "5.100000000000001\n"
     ]
    },
    {
     "name": "stderr",
     "output_type": "stream",
     "text": [
      "/home/earthquakes1/software/Ubuntu/anaconda3/envs/rlc2/lib/python3.10/site-packages/numpy/core/fromnumeric.py:3432: RuntimeWarning: Mean of empty slice.\n",
      "  return _methods._mean(a, axis=axis, dtype=dtype,\n",
      "/home/earthquakes1/software/Ubuntu/anaconda3/envs/rlc2/lib/python3.10/site-packages/numpy/core/_methods.py:190: RuntimeWarning: invalid value encountered in double_scalars\n",
      "  ret = ret.dtype.type(ret / rcount)\n"
     ]
    },
    {
     "name": "stdout",
     "output_type": "stream",
     "text": [
      "0.04645161305987872\n",
      "5.200000000000002\n",
      "0.010369353456650141\n",
      "5.3000000000000025\n",
      "0.011377792401708456\n",
      "5.400000000000002\n",
      "0.0061010453099451245\n",
      "5.500000000000002\n",
      "-0.007947868640911585\n",
      "5.600000000000002\n",
      "-0.03234021677391809\n",
      "5.700000000000003\n",
      "-0.013660269275193851\n",
      "5.8000000000000025\n",
      "0.006569068631361645\n",
      "5.900000000000002\n",
      "0.00415298190395363\n",
      "6.000000000000003\n",
      "-0.03587912430922196\n",
      "6.100000000000003\n",
      "-0.02330808581238012\n",
      "6.200000000000003\n",
      "-0.10408559651751607\n",
      "6.3000000000000025\n",
      "-0.08229924647369448\n",
      "6.400000000000003\n",
      "-0.1645725118610455\n",
      "6.5000000000000036\n",
      "-0.19993294773806713\n",
      "6.600000000000003\n",
      "-0.17212929704200045\n",
      "6.700000000000003\n",
      "-0.031740469430136864\n",
      "6.800000000000003\n",
      "0.024078102713782346\n",
      "6.900000000000004\n",
      "-0.04249674796188539\n",
      "7.0000000000000036\n",
      "0.07364850354729377\n",
      "7.100000000000003\n",
      "0.5814317506856277\n",
      "7.200000000000004\n",
      "7.300000000000004\n",
      "7.400000000000004\n",
      "7.5000000000000036\n",
      "7.600000000000004\n",
      "7.700000000000005\n",
      "7.800000000000004\n",
      "7.900000000000004\n"
     ]
    },
    {
     "data": {
      "image/png": "[encoded data removed]",
      "text/plain": [
       "<Figure size 864x648 with 4 Axes>"
      ]
     },
     "metadata": {
      "needs_background": "light"
     },
     "output_type": "display_data"
    }
   ],
   "source": [
    "for f in filenames[1:2]:\n",
    "    print(f)\n",
    "    gradt, intercept, gradt_std, intercept_std = [],[],[],[]\n",
    "    pearson = []\n",
    "    spearman = []\n",
    "    spearman_p = []\n",
    "    n_l = []\n",
    "    for mag_lim in magnitudes:\n",
    "        print(mag_lim)\n",
    "        df = pd.read_pickle(f'/home/earthquakes1/homes/Rebecca/phd/data/results_database/{f}')\n",
    "        list_mags, list_tpmax = sort_tp_data(df, 3)\n",
    "        #print(len(list_mags), len(list_tpmax))\n",
    "        params = []\n",
    "        opacities = np.linspace(0.2,1,45)\n",
    "        cs = ['midnightblue']\n",
    "        #fig, axs = plt.subplots(1,1, figsize=(12.8,9.6))\n",
    "        y_aves_tp = []\n",
    "        x_aves_tp = []\n",
    "        count = 1\n",
    "        eq_count = 0\n",
    "        medians = [[] for _ in range(0, 45)]\n",
    "        medians_of_medians = [[] for _ in range(0, 45)]\n",
    "        n = 0\n",
    "        median_absolute_deviation = []\n",
    "        sum_absolute_deviation = []\n",
    "        all_abs_deviation = []\n",
    "        for n in [1]:#number of stations eq at least measured at\n",
    "            med_for_ad = []\n",
    "            mag_for_ad = []\n",
    "\n",
    "            y_aves_tp = []\n",
    "            x_aves_tp = []\n",
    "            for i  in range(0, len(list_mags)):\n",
    "                if list_mags[i] >= mag_lim and list_mags[i]<=max(list_mags):\n",
    "                    #print('in if')\n",
    "                    if len(list_tpmax[i])>=n:\n",
    "                        mean_tp = np.mean(list_tpmax[i]) \n",
    "                        std_tp = np.std(list_tpmax[i]) \n",
    "                        y_tp = [] \n",
    "                        for j in list_tpmax[i]: \n",
    "                            if j > mean_tp-2*std_tp and j < mean_tp + 2*std_tp:# and j < 100: \n",
    "                                y_tp.append(math.log(j, 10))\n",
    "                            elif len(list_tpmax[i])==1:\n",
    "                                y_tp.append(math.log(j, 10))\n",
    "                        x_tp = np.zeros(len(y_tp))  \n",
    "                        x_tp = x_tp + list_mags[i]\n",
    "                        c = 0\n",
    "                        #if len(x_tp)>0:\n",
    "                            #if math.isnan(np.median(y_tp))==False:\n",
    "                                #axs.scatter(list_mags[i]-5+np.random.uniform(-0.05, 0.05), np.median(y_tp), s = 10, c = '#003f5c', marker = 'x', zorder =110, alpha = 0.5)\n",
    "                        if math.isnan(np.median(y_tp))==False:  \n",
    "                            y_aves_tp.append(np.median(y_tp))\n",
    "                            x_aves_tp.append(list_mags[i])\n",
    "            if len(y_aves_tp)>0:\n",
    "                x_use = np.array(x_aves_tp) - 5\n",
    "                y_use = np.array(y_aves_tp)\n",
    "\n",
    "                #print(len(x_aves_tp), len(y_aves_tp))\n",
    "                count += 1\n",
    "                x = x_use\n",
    "                y = y_use\n",
    "                x_unique = np.arange(min(x_use),max(x_use),0.1)\n",
    "                df_tp = pd.DataFrame(columns = x_unique)\n",
    "\n",
    "                if len(set(x))>1:\n",
    "                    result = scipy.stats.linregress(x,y)\n",
    "                    a = result.slope\n",
    "                    print(a)\n",
    "                    gradt.append(a)\n",
    "                    b = result.intercept\n",
    "                    intercept.append(b)\n",
    "                    std_a = result.stderr\n",
    "                    gradt_std.append(std_a)\n",
    "                    std_b = result.intercept_stderr\n",
    "                    intercept_std.append(std_b)\n",
    "\n",
    "                    pearson.append(result.rvalue)\n",
    "                    spearman.append(scipy.stats.spearmanr(x,y)[0])\n",
    "                    spearman_p.append(scipy.stats.spearmanr(x,y)[1])\n",
    "                    n_l.append(len(x))\n",
    "                    '''\n",
    "                    y_1 = (a+std_a)*x_unique + (b+std_b)\n",
    "                    y_2 = (a+std_a)*x_unique + (b-std_b)\n",
    "                    y_3 = (a-std_a)*x_unique + (b+std_b)\n",
    "                    y_4 = (a-std_a)*x_unique + (b-std_b)\n",
    "\n",
    "\n",
    "                    y_min_1sd = np.minimum(np.minimum(y_1, y_2), np.minimum(y_3, y_4))\n",
    "                    y_max_1sd = np.maximum(np.maximum(y_1, y_2), np.maximum(y_3, y_4))\n",
    "\n",
    "                    y_1 = (a+2*std_a)*x_unique + (b+2*std_b)\n",
    "                    y_2 = (a+2*std_a)*x_unique + (b-2*std_b)\n",
    "                    y_3 = (a-2*std_a)*x_unique + (b+2*std_b)\n",
    "                    y_4 = (a-2*std_a)*x_unique + (b-2*std_b)\n",
    "\n",
    "                    y_min_2sd = np.minimum(np.minimum(y_1, y_2), np.minimum(y_3, y_4))\n",
    "                    y_max_2sd = np.maximum(np.maximum(y_1, y_2), np.maximum(y_3, y_4))        \n",
    "                    fig, axs = plt.subplots(1,1, figsize=(12.8,9.6))\n",
    "                    plt.scatter(x+np.random.uniform(-0.05, 0.05, len(x)),y, marker = 'x', color = 'k', s = 10, alpha = 0.5)\n",
    "                    axs.fill_between(x_unique, y_min_1sd, y_max_1sd, color = '#bc5090', alpha = 0.6, zorder = 100, label = '1sd')\n",
    "                    axs.fill_between(x_unique, y_min_2sd, y_max_2sd, color = '#ffa600', alpha = 0.6, zorder = 99, label = '2sd')\n",
    "                    popt = np.polyfit(x, y, 1)\n",
    "                    axs.plot(x_unique, popt[0]*x_unique+popt[1], color='#003f5c',zorder=102,label='{a:.2f}x+{b:.2f}\\npearson r: {r:.4f}'.format(a=result.slope,b=result.intercept-5*result.slope,r=result.rvalue))\n",
    "                    axs.set_ylabel('log10(tpmax)')\n",
    "                    axs.set_xlabel('magnitude')   \n",
    "                    axs.set_xticks([-2,-1,0,1,2,3], [3,4,5,6,7,8], zorder = 110)\n",
    "                    axs.legend() \n",
    "                    plt.show()'''\n",
    "    fig, axs = plt.subplots(4,1, figsize = (12,9))\n",
    "    axs[0].plot(magnitudes[0:len(spearman)],gradt)\n",
    "    axs[0].set_ylabel('gradient')\n",
    "    axs[1].plot(magnitudes[0:len(spearman)],gradt_std)\n",
    "    axs[1].set_ylabel('gradient std')\n",
    "    axs[2].plot(magnitudes[0:len(spearman)],spearman, color = '#7f58af')\n",
    "    axs[2].set_ylabel('spearman r')\n",
    "    axs[3].plot(magnitudes[0:len(spearman)],spearman_p, color = '#7f58af')\n",
    "    axs[3].set_ylabel('p-value of spearman (H0=linearly uncorrelated)')\n",
    "    axs[3].axhspan(0, 0.05, facecolor='#7f58af', alpha=0.2)\n",
    "   # axs[3].plot(magnitudes[0:len(spearman)],n_l)\n",
    "    #axs[3].set_ylabel('n')\n",
    "    axs[0].set_title(f)\n",
    "    axs[3].set_xlabel('max mag')\n",
    "    plt.savefig(f'/home/earthquakes1/homes/Rebecca/phd/seismo_det/figures/gradt_spearman/gradt_uncert_purple_with_number_{f}.pdf', dpi=400)"
   ]
  },
  {
   "cell_type": "code",
   "execution_count": 10,
   "id": "07f36201-73fa-43f7-8b2d-16963c6fef6f",
   "metadata": {},
   "outputs": [
    {
     "data": {
      "text/plain": [
       "array([7.9, 7.8, 7.7, 7.6, 7.5, 7.4, 7.3, 7.2, 7.1, 7. , 6.9, 6.8, 6.7,\n",
       "       6.6, 6.5, 6.4, 6.3, 6.2, 6.1, 6. , 5.9, 5.8, 5.7, 5.6, 5.5, 5.4,\n",
       "       5.3, 5.2, 5.1, 5. , 4.9, 4.8, 4.7, 4.6, 4.5, 4.4, 4.3, 4.2, 4.1,\n",
       "       4. , 3.9, 3.8])"
      ]
     },
     "execution_count": 10,
     "metadata": {},
     "output_type": "execute_result"
    }
   ],
   "source": [
    "magnitudes[::-1][0:len(spearman)]"
   ]
  },
  {
   "cell_type": "code",
   "execution_count": 25,
   "id": "43418f05-de37-463d-8a57-548cc93b215d",
   "metadata": {},
   "outputs": [
    {
     "data": {
      "image/png": "[encoded data removed]",
      "text/plain": [
       "<Figure size 864x648 with 3 Axes>"
      ]
     },
     "metadata": {
      "needs_background": "light"
     },
     "output_type": "display_data"
    }
   ],
   "source": [
    "fig, axs = plt.subplots(3,1, figsize = (12,9))\n",
    "axs[0].plot(magnitudes[0:47],gradt)\n",
    "axs[0].set_ylabel('gradient')\n",
    "axs[1].plot(magnitudes[0:47],spearman)\n",
    "axs[1].set_ylabel('spearman r')\n",
    "axs[2].plot(magnitudes[0:47],spearman_p)\n",
    "axs[2].set_ylabel('p-value H0=linearly uncorrelated')\n",
    "axs[0].set_title(f)\n",
    "plt.savefig(f'/home/earthquakes1/homes/Rebecca/phd/seismo_det/figures/gradt_spearman/{f}.pdf', dpi=400)"
   ]
  },
  {
   "cell_type": "code",
   "execution_count": 44,
   "id": "b4fc0901-c6ee-46cb-b2c8-ada77ea67021",
   "metadata": {},
   "outputs": [
    {
     "data": {
      "text/plain": [
       "[7.8, 7.8]"
      ]
     },
     "execution_count": 44,
     "metadata": {},
     "output_type": "execute_result"
    }
   ],
   "source": [
    "list_mags"
   ]
  },
  {
   "cell_type": "code",
   "execution_count": null,
   "id": "588376fe-cbc0-4b50-9b01-68555d230c1c",
   "metadata": {},
   "outputs": [],
   "source": []
  }
 ],
 "metadata": {
  "kernelspec": {
   "display_name": "Python 3 (ipykernel)",
   "language": "python",
   "name": "python3"
  },
  "language_info": {
   "codemirror_mode": {
    "name": "ipython",
    "version": 3
   },
   "file_extension": ".py",
   "mimetype": "text/x-python",
   "name": "python",
   "nbconvert_exporter": "python",
   "pygments_lexer": "ipython3",
   "version": "3.10.5"
  }
 },
 "nbformat": 4,
 "nbformat_minor": 5
}
