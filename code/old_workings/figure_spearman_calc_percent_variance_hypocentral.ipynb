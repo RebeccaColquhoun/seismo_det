{
 "cells": [
  {
   "cell_type": "code",
   "execution_count": 1,
   "id": "9d26869c-84b2-4eb3-8a89-575a1567799d",
   "metadata": {},
   "outputs": [
    {
     "name": "stdout",
     "output_type": "stream",
     "text": [
      "\n"
     ]
    }
   ],
   "source": [
    "print('')"
   ]
  },
  {
   "cell_type": "markdown",
   "id": "b18be68c-330d-4b7d-9c9c-43c32d4a6b03",
   "metadata": {},
   "source": [
    "aim to plot change in gradient as consider changing minimum magntiude of data"
   ]
  },
  {
   "cell_type": "code",
   "execution_count": 2,
   "id": "6689b1c3-c62f-440c-8aeb-35e433640eaf",
   "metadata": {},
   "outputs": [],
   "source": [
    "import os\n",
    "import scipy\n",
    "import numpy as np\n",
    "import matplotlib.pyplot as plt\n",
    "import obspy\n",
    "import pickle\n",
    "from obspy import UTCDateTime\n",
    "from obspy.clients.fdsn import Client\n",
    "import pandas as pd\n",
    "import math\n",
    "\n",
    "import matplotlib\n",
    "matplotlib.rcParams.update({'font.size': 20})"
   ]
  },
  {
   "cell_type": "code",
   "execution_count": 3,
   "id": "9cd0d54d-a410-49d4-bc7c-3da3218f4bc3",
   "metadata": {},
   "outputs": [],
   "source": [
    "import warnings\n",
    "warnings.filterwarnings(\"ignore\")"
   ]
  },
  {
   "cell_type": "code",
   "execution_count": 4,
   "id": "f9873650-9a0d-4156-87bb-17daf6fb9016",
   "metadata": {},
   "outputs": [],
   "source": [
    "from spearman_plotting_func import *"
   ]
  },
  {
   "cell_type": "markdown",
   "id": "d21dd909-ccce-49a8-96b8-af4419701c8e",
   "metadata": {},
   "source": [
    "change magnitude limits, colors in functions file"
   ]
  },
  {
   "cell_type": "code",
   "execution_count": 5,
   "id": "c347ad75-5db6-4f2d-a02c-6adb7c5ef55c",
   "metadata": {},
   "outputs": [],
   "source": [
    "filenames = ['eq_object_03s_bandpass_01_19_snr_20_blank_0_new_snr20',\n",
    "            'eq_object_05s_bandpass_01_19_snr_20_blank_0_new_snr20',\n",
    "            'eq_object_1s_bandpass_01_19_snr_20_blank_0_new_snr20',\n",
    "            'eq_object_4s_bandpass_01_19_snr_20_blank_0_new_snr20']\n",
    "\n",
    "\n",
    "'''filenames = ['eq_object_03s_bandpass_01_19_snr_20_blank_0_new',\n",
    "              'eq_object_03s_bandpass_01_19_snr_20_blank_005_new',\n",
    "              'eq_object_03s_bandpass_01_19_snr_20_blank_01_new']\n",
    "\n",
    "filenames = ['eq_object_05s_bandpass_01_19_snr_20_blank_0_new',\n",
    "             'eq_object_05s_bandpass_01_19_snr_20_blank_005_new',\n",
    "             'eq_object_05s_bandpass_01_19_snr_20_blank_01_new',\n",
    "             'eq_object_05s_bandpass_01_19_snr_20_blank_025_new',\n",
    "             'eq_object_1s_bandpass_01_19_snr_20_blank_0_new',\n",
    "             'eq_object_1s_bandpass_01_19_snr_20_blank_005_new',\n",
    "             'eq_object_1s_bandpass_01_19_snr_20_blank_01_new',\n",
    "             'eq_object_1s_bandpass_01_19_snr_20_blank_025_new',\n",
    "             'eq_object_1s_bandpass_01_19_snr_20_blank_05_new',\n",
    "              'eq_object_4s_bandpass_01_19_snr_20_blank_0_new',\n",
    "              'eq_object_4s_bandpass_01_19_snr_20_blank_005_new',\n",
    "              'eq_object_4s_bandpass_01_19_snr_20_blank_01_new',\n",
    "              'eq_object_4s_bandpass_01_19_snr_20_blank_025_new',\n",
    "              'eq_object_4s_bandpass_01_19_snr_20_blank_05_new']'''\n",
    "\n",
    "filenames = ['eq_object_03s_bandpass_01_19_snr_20_blank_0_new_snr20',\n",
    "            'eq_object_05s_bandpass_01_19_snr_20_blank_0_new_snr20',\n",
    "            'eq_object_1s_bandpass_01_19_snr_20_blank_0_new_snr20',\n",
    "            'eq_object_4s_bandpass_01_19_snr_20_blank_0_new_snr20',\n",
    "            'eq_object_03s_bandpass_01_19_snr_20_blank_0_new_snr5',\n",
    "             'eq_object_03s_bandpass_01_19_snr_20_blank_005_new_snr5',\n",
    "             'eq_object_03s_bandpass_01_19_snr_20_blank_01_new_snr5',\n",
    "             'eq_object_05s_bandpass_01_19_snr_20_blank_0_new_snr5',\n",
    "             'eq_object_05s_bandpass_01_19_snr_20_blank_005_new_snr5',\n",
    "             'eq_object_05s_bandpass_01_19_snr_20_blank_01_new_snr5',\n",
    "             'eq_object_05s_bandpass_01_19_snr_20_blank_025_new_snr5',\n",
    "             'eq_object_1s_bandpass_01_19_snr_20_blank_0_new_snr5',\n",
    "             'eq_object_1s_bandpass_01_19_snr_20_blank_005_new_snr5',\n",
    "             'eq_object_1s_bandpass_01_19_snr_20_blank_01_new_snr5',\n",
    "             'eq_object_1s_bandpass_01_19_snr_20_blank_025_new_snr5',\n",
    "             'eq_object_1s_bandpass_01_19_snr_20_blank_05_new_snr5',\n",
    "              'eq_object_4s_bandpass_01_19_snr_20_blank_0_new_snr5',\n",
    "              'eq_object_4s_bandpass_01_19_snr_20_blank_005_new_snr5',\n",
    "              'eq_object_4s_bandpass_01_19_snr_20_blank_01_new_snr5',\n",
    "              'eq_object_4s_bandpass_01_19_snr_20_blank_025_new_snr5',\n",
    "              'eq_object_4s_bandpass_01_19_snr_20_blank_05_new_snr5',\n",
    "              'eq_object_03s_bandpass_01_19_snr_20_blank_0_new_snr20',\n",
    "             'eq_object_03s_bandpass_01_19_snr_20_blank_005_new_snr20',\n",
    "             'eq_object_03s_bandpass_01_19_snr_20_blank_01_new_snr20',\n",
    "             'eq_object_05s_bandpass_01_19_snr_20_blank_0_new_snr20',\n",
    "             'eq_object_05s_bandpass_01_19_snr_20_blank_005_new_snr20',\n",
    "             'eq_object_05s_bandpass_01_19_snr_20_blank_01_new_snr20',\n",
    "             'eq_object_05s_bandpass_01_19_snr_20_blank_025_new_snr20',\n",
    "             'eq_object_1s_bandpass_01_19_snr_20_blank_0_new_snr20',\n",
    "             'eq_object_1s_bandpass_01_19_snr_20_blank_005_new_snr20',\n",
    "             'eq_object_1s_bandpass_01_19_snr_20_blank_01_new_snr20',\n",
    "             'eq_object_1s_bandpass_01_19_snr_20_blank_025_new_snr20',\n",
    "             'eq_object_1s_bandpass_01_19_snr_20_blank_05_new_snr20',\n",
    "              'eq_object_4s_bandpass_01_19_snr_20_blank_0_new_snr20',\n",
    "              'eq_object_4s_bandpass_01_19_snr_20_blank_005_new_snr20',\n",
    "              'eq_object_4s_bandpass_01_19_snr_20_blank_01_new_snr20',\n",
    "              'eq_object_4s_bandpass_01_19_snr_20_blank_025_new_snr20',\n",
    "              'eq_object_4s_bandpass_01_19_snr_20_blank_05_new_snr20']\n"
   ]
  },
  {
   "cell_type": "raw",
   "id": "43ce5b85-70a3-4702-8abe-0871670e8312",
   "metadata": {},
   "source": []
  },
  {
   "cell_type": "code",
   "execution_count": 6,
   "id": "3554c925-09cd-4ee3-b710-7a1846e056c4",
   "metadata": {},
   "outputs": [
    {
     "name": "stdout",
     "output_type": "stream",
     "text": [
      "eq_object_03s_bandpass_01_19_snr_20_blank_0_new_snr20\n",
      "[0.00445566537388671, 0.004832172304680232, 0.005230082574497351, 0.005664612862474313, 0.006103960859350625, 0.006635848127066859, 0.007172244717774008, 0.007578140304537139, 0.007833696885554983, 0.008076106355799641, 0.008402207850024964, 0.008926638126347334, 0.009521569936515041, 0.010317078168333717, 0.011223926929692261, 0.012327735916137497, 0.013088286958728027, 0.013451954534824045, 0.013764575302211708, 0.013973410960957758, 0.01581827751309483, 0.017813910843780312, 0.02070722607169992, 0.02413497962083352, 0.02744482800398343, 0.030535689972971694, 0.03466637348640799, 0.03783448808978877, 0.043809948616341375, 0.05244297292640671, 0.0602253826901633, 0.07123656166759275, 0.0797377381641111, 0.08378440244630321, 0.1039355738155276, 0.11364092966973986, 0.13709309007154952, 0.17689348875967717, 0.18374907901487095, 0.20259273971366312, 0.23119671327019348]\n",
      "tp 0.4787708116760028\n",
      "pgd 0.6089165968103959\n",
      "tc 0.5572061023765785\n",
      "iv2 0.44732639520425554\n",
      "eq_object_05s_bandpass_01_19_snr_20_blank_0_new_snr20\n",
      "[0.004333779733163162, 0.004693571397601683, 0.005070795764222692, 0.005485722844675768, 0.005905525314268746, 0.006416501338260416, 0.006934413160963122, 0.007326227543020422, 0.007571934676506243, 0.007804155616561573, 0.008114109212684661, 0.008614815932416628, 0.009191010423384596, 0.009954427850708493, 0.010807059791379742, 0.011850157025848587, 0.012566201872598444, 0.012912499080435801, 0.013204940734019755, 0.013397184781468117, 0.015040118238504884, 0.01694504239373913, 0.019538989967076877, 0.022673897809850505, 0.02541830455684197, 0.028317165735502622, 0.03175986694729374, 0.03456159110375442, 0.04014107478766389, 0.048143871215156536, 0.05495412432044082, 0.06402466640502492, 0.07569650287846695, 0.08284535194351796, 0.10295253855899837, 0.11399049002489955, 0.13800422677592095, 0.1789839202541299, 0.19588162472961446, 0.21704426573919947, 0.24536428276881728]\n",
      "tp 0.5257459165887971\n",
      "pgd 0.7009132152553517\n",
      "tc 0.6859444463388383\n",
      "iv2 0.546661181167167\n",
      "eq_object_1s_bandpass_01_19_snr_20_blank_0_new_snr20\n",
      "[0.004270833246493418, 0.004619795485046904, 0.004985733983928055, 0.005390709998148466, 0.00580055418736927, 0.006300947767835195, 0.006808938249246901, 0.007195378764540154, 0.007441684371238833, 0.007671894575533386, 0.007974902099343071, 0.008472763194915273, 0.009044220343913043, 0.00980207859720743, 0.0106376814388258, 0.011653934683307264, 0.012350102574250172, 0.012689175175632126, 0.012969365254108828, 0.01315394634219665, 0.014749104635707808, 0.01657174066835578, 0.019143227762989663, 0.02217317072846605, 0.02484170371220025, 0.027627734502271833, 0.03094460507364417, 0.03347980617057031, 0.03906833239290498, 0.046234405337790885, 0.05351012513740867, 0.06206087253930804, 0.07377376849115701, 0.0824181890025191, 0.10151472614098105, 0.11011582913123631, 0.13493811272067094, 0.17710873152029713, 0.20043635482611497, 0.24626145762371923, 0.2659838988111877]\n",
      "tp 0.5496780154004132\n",
      "pgd 0.7843421371281877\n",
      "tc 0.762588141665039\n",
      "iv2 0.6636591359076717\n",
      "eq_object_4s_bandpass_01_19_snr_20_blank_0_new_snr20\n",
      "[0.004218954151237313, 0.0045621746280343845, 0.004922018617132873, 0.005319959788358023, 0.005722922241677033, 0.006215019463785516, 0.0067162423884154915, 0.007099322385445849, 0.007342110319097944, 0.00756982312077997, 0.007867451065124539, 0.008364698335505535, 0.008926932467519385, 0.009669895780093982, 0.01049159938565335, 0.011486405776284203, 0.012167643338561967, 0.012499648852959492, 0.012772755460243498, 0.012953247394315727, 0.014542961442722074, 0.016293890515114626, 0.018785910357860827, 0.021739603702297484, 0.024227610163159986, 0.02668450695701834, 0.029612894966608676, 0.03246784868473576, 0.0376774501546266, 0.04463981902142572, 0.051549588472902426, 0.0597811035164252, 0.07099914517697307, 0.07901502515286521, 0.09664994345274631, 0.10745817095735744, 0.1311398195116804, 0.17145027398512783, 0.19901394350962195, 0.2451076471351059, 0.26377713589337204]\n",
      "tp 0.5589298354323806\n",
      "pgd 0.8376397490811472\n",
      "tc 0.7456101469456294\n",
      "iv2 0.7945765889796864\n",
      "eq_object_03s_bandpass_01_19_snr_20_blank_0_new_snr5\n"
     ]
    },
    {
     "ename": "FileNotFoundError",
     "evalue": "[Errno 2] No such file or directory: '/home/earthquakes1/homes/Rebecca/phd/data/results_database_hypo/eq_object_03s_bandpass_01_19_snr_20_blank_0_new_snr5'",
     "output_type": "error",
     "traceback": [
      "\u001b[0;31m---------------------------------------------------------------------------\u001b[0m",
      "\u001b[0;31mFileNotFoundError\u001b[0m                         Traceback (most recent call last)",
      "Cell \u001b[0;32mIn[6], line 7\u001b[0m\n\u001b[1;32m      5\u001b[0m \u001b[39mfor\u001b[39;00m f \u001b[39min\u001b[39;00m filenames:\n\u001b[1;32m      6\u001b[0m     \u001b[39mprint\u001b[39m(f)\n\u001b[0;32m----> 7\u001b[0m     df \u001b[39m=\u001b[39m pd\u001b[39m.\u001b[39;49mread_pickle(\u001b[39mf\u001b[39;49m\u001b[39m'\u001b[39;49m\u001b[39m/home/earthquakes1/homes/Rebecca/phd/data/results_database_hypo/\u001b[39;49m\u001b[39m{\u001b[39;49;00mf\u001b[39m}\u001b[39;49;00m\u001b[39m'\u001b[39;49m)\n\u001b[1;32m      8\u001b[0m     \u001b[39m#print(df.head(10))\u001b[39;00m\n\u001b[1;32m      9\u001b[0m     \u001b[39mfor\u001b[39;00m n_stations \u001b[39min\u001b[39;00m [\u001b[39m1\u001b[39m]: \u001b[39m#range(0,7):\u001b[39;00m\n",
      "File \u001b[0;32m/home/earthquakes1/software/Ubuntu/anaconda3/envs/rlc5/lib/python3.10/site-packages/pandas/io/pickle.py:179\u001b[0m, in \u001b[0;36mread_pickle\u001b[0;34m(filepath_or_buffer, compression, storage_options)\u001b[0m\n\u001b[1;32m    115\u001b[0m \u001b[39m\u001b[39m\u001b[39m\"\"\"\u001b[39;00m\n\u001b[1;32m    116\u001b[0m \u001b[39mLoad pickled pandas object (or any object) from file.\u001b[39;00m\n\u001b[1;32m    117\u001b[0m \n\u001b[0;32m   (...)\u001b[0m\n\u001b[1;32m    176\u001b[0m \u001b[39m4    4    9\u001b[39;00m\n\u001b[1;32m    177\u001b[0m \u001b[39m\"\"\"\u001b[39;00m\n\u001b[1;32m    178\u001b[0m excs_to_catch \u001b[39m=\u001b[39m (\u001b[39mAttributeError\u001b[39;00m, \u001b[39mImportError\u001b[39;00m, \u001b[39mModuleNotFoundError\u001b[39;00m, \u001b[39mTypeError\u001b[39;00m)\n\u001b[0;32m--> 179\u001b[0m \u001b[39mwith\u001b[39;00m get_handle(\n\u001b[1;32m    180\u001b[0m     filepath_or_buffer,\n\u001b[1;32m    181\u001b[0m     \u001b[39m\"\u001b[39;49m\u001b[39mrb\u001b[39;49m\u001b[39m\"\u001b[39;49m,\n\u001b[1;32m    182\u001b[0m     compression\u001b[39m=\u001b[39;49mcompression,\n\u001b[1;32m    183\u001b[0m     is_text\u001b[39m=\u001b[39;49m\u001b[39mFalse\u001b[39;49;00m,\n\u001b[1;32m    184\u001b[0m     storage_options\u001b[39m=\u001b[39;49mstorage_options,\n\u001b[1;32m    185\u001b[0m ) \u001b[39mas\u001b[39;00m handles:\n\u001b[1;32m    186\u001b[0m     \u001b[39m# 1) try standard library Pickle\u001b[39;00m\n\u001b[1;32m    187\u001b[0m     \u001b[39m# 2) try pickle_compat (older pandas version) to handle subclass changes\u001b[39;00m\n\u001b[1;32m    188\u001b[0m     \u001b[39m# 3) try pickle_compat with latin-1 encoding upon a UnicodeDecodeError\u001b[39;00m\n\u001b[1;32m    190\u001b[0m     \u001b[39mtry\u001b[39;00m:\n\u001b[1;32m    191\u001b[0m         \u001b[39m# TypeError for Cython complaints about object.__new__ vs Tick.__new__\u001b[39;00m\n\u001b[1;32m    192\u001b[0m         \u001b[39mtry\u001b[39;00m:\n",
      "File \u001b[0;32m/home/earthquakes1/software/Ubuntu/anaconda3/envs/rlc5/lib/python3.10/site-packages/pandas/io/common.py:868\u001b[0m, in \u001b[0;36mget_handle\u001b[0;34m(path_or_buf, mode, encoding, compression, memory_map, is_text, errors, storage_options)\u001b[0m\n\u001b[1;32m    859\u001b[0m         handle \u001b[39m=\u001b[39m \u001b[39mopen\u001b[39m(\n\u001b[1;32m    860\u001b[0m             handle,\n\u001b[1;32m    861\u001b[0m             ioargs\u001b[39m.\u001b[39mmode,\n\u001b[0;32m   (...)\u001b[0m\n\u001b[1;32m    864\u001b[0m             newline\u001b[39m=\u001b[39m\u001b[39m\"\u001b[39m\u001b[39m\"\u001b[39m,\n\u001b[1;32m    865\u001b[0m         )\n\u001b[1;32m    866\u001b[0m     \u001b[39melse\u001b[39;00m:\n\u001b[1;32m    867\u001b[0m         \u001b[39m# Binary mode\u001b[39;00m\n\u001b[0;32m--> 868\u001b[0m         handle \u001b[39m=\u001b[39m \u001b[39mopen\u001b[39;49m(handle, ioargs\u001b[39m.\u001b[39;49mmode)\n\u001b[1;32m    869\u001b[0m     handles\u001b[39m.\u001b[39mappend(handle)\n\u001b[1;32m    871\u001b[0m \u001b[39m# Convert BytesIO or file objects passed with an encoding\u001b[39;00m\n",
      "\u001b[0;31mFileNotFoundError\u001b[0m: [Errno 2] No such file or directory: '/home/earthquakes1/homes/Rebecca/phd/data/results_database_hypo/eq_object_03s_bandpass_01_19_snr_20_blank_0_new_snr5'"
     ]
    }
   ],
   "source": [
    "%matplotlib inline\n",
    "n_stations = 0\n",
    "min_dist = 0 #30\n",
    "max_dist = 200\n",
    "for f in filenames:\n",
    "    print(f)\n",
    "    df = pd.read_pickle(f'/home/earthquakes1/homes/Rebecca/phd/data/results_database_hypo/{f}')\n",
    "    #print(df.head(10))\n",
    "    for n_stations in [1]: #range(0,7):\n",
    "        for min_dist in [0]: #range(0, 100, 10):\n",
    "            options = {'n': n_stations, 'min_dist': min_dist, 'max_dist': max_dist}\n",
    "            x_tp, y_tp = calc_tp_mag_lim(df, 3.,**options)\n",
    "            x_pgd, y_pgd = calc_pgd_mag_lim(df, 3.,**options)\n",
    "            x_tc, y_tc = calc_tc_mag_lim(df, 3.,**options)\n",
    "            x_iv2, y_iv2 = calc_iv2_mag_lim(df, 3.,**options)\n",
    "\n",
    "\n",
    "            gradt, intercept, gradt_std, intercept_std = [],[],[],[]\n",
    "            pearson = []\n",
    "            spearman = []\n",
    "            spearman_p = []\n",
    "            n_l = []\n",
    "\n",
    "            for mag_lim in magnitudes:\n",
    "                x, y = calc_tp_mag_lim(df, mag_lim,**options)\n",
    "                gradt, intercept, gradt_std, intercept_std, pearson, spearman, spearman_p, n = calc_opt(x,y, gradt, intercept, gradt_std, intercept_std, pearson, spearman, spearman_p, n_l)\n",
    "            tp_params = [gradt, gradt_std, np.array(pearson)**2, spearman, spearman_p, n, 'tp']\n",
    "            print(gradt_std)\n",
    "            #plot_spearman_subplots(f, gradt, gradt_std, spearman, spearman_p, n, 'tp', False)\n",
    "            if len(spearman)>0:\n",
    "                print('tp', spearman[0])\n",
    "\n",
    "            gradt, intercept, gradt_std, intercept_std = [],[],[],[]\n",
    "            pearson = []\n",
    "            spearman = []\n",
    "            spearman_p = []\n",
    "            n_l = []\n",
    "\n",
    "            for mag_lim in magnitudes:\n",
    "                x, y = calc_pgd_mag_lim(df, mag_lim,**options)\n",
    "                gradt, intercept, gradt_std, intercept_std, pearson, spearman, spearman_p, n = calc_opt(x,y, gradt, intercept, gradt_std, intercept_std, pearson, spearman, spearman_p, n_l)\n",
    "            #plot_spearman_subplots(f, gradt, gradt_std, spearman, spearman_p, n, 'pgd', False)\n",
    "            pgd_params = [gradt, gradt_std, np.array(pearson)**2, spearman, spearman_p, n,  'pgd']\n",
    "            if len(spearman)>0:\n",
    "                print('pgd', spearman[0])\n",
    "\n",
    "            gradt, intercept, gradt_std, intercept_std = [],[],[],[]\n",
    "            pearson = []\n",
    "            spearman = []\n",
    "            spearman_p = []\n",
    "            n_l = []\n",
    "\n",
    "            for mag_lim in magnitudes:\n",
    "                x, y = calc_tc_mag_lim(df, mag_lim,**options)\n",
    "                gradt, intercept, gradt_std, intercept_std, pearson, spearman, spearman_p, n = calc_opt(x,y, gradt, intercept, gradt_std, intercept_std, pearson, spearman, spearman_p, n_l)\n",
    "            #plot_spearman_subplots(f, gradt, gradt_std, spearman, spearman_p, n, 'pgd', False)\n",
    "            tc_params = [gradt, gradt_std, np.array(pearson)**2, spearman, spearman_p, n, 'tc']\n",
    "            if len(spearman)>0:\n",
    "                print('tc', spearman[0])\n",
    "\n",
    "            gradt, intercept, gradt_std, intercept_std = [],[],[],[]\n",
    "            pearson = []\n",
    "            spearman = []\n",
    "            spearman_p = []\n",
    "            n_l = []\n",
    "\n",
    "            for mag_lim in magnitudes:\n",
    "                x, y = calc_iv2_mag_lim(df, mag_lim,**options)\n",
    "                #print(len(x[y==0]))\n",
    "                gradt, intercept, gradt_std, intercept_std, pearson, spearman, spearman_p, n = calc_opt(x,y, gradt, intercept, gradt_std, intercept_std, pearson, spearman, spearman_p, n_l)\n",
    "            #plot_spearman_subplots(f, gradt, gradt_std, spearman, spearman_p, n, 'iv2', False)\n",
    "            iv2_params = [gradt, gradt_std, np.array(pearson)**2, spearman, spearman_p, n,'iv2']\n",
    "            if len(spearman)>0:\n",
    "                print('iv2', spearman[0])\n",
    "\n",
    "            ##plot_data_subplots_line([x_tp, x_pgd, x_tc, x_iv2], [y_tp, y_pgd, y_tc, y_iv2], ['tp','pgd','tc','iv2'],f, tp_params, pgd_params, tc_params, iv2_params)\n",
    "            #plot_spearman_subplots_all_on_one_no_n_shaded_percent_var(f, tp_params, pgd_params, iv2_params, tc_params, log = False, save = True, **options)\n",
    "            ##print(tp_params[4][0], tc_params[4][0])\n",
    "            ##plot_spearman_subplots_all_on_one(f, gradt, gradt_std, spearman, spearman_p, n, 'iv2', True)\n",
    "\n"
   ]
  },
  {
   "cell_type": "code",
   "execution_count": null,
   "id": "4f618edd-4a49-43a7-be69-0490839a84eb",
   "metadata": {},
   "outputs": [
    {
     "data": {
      "text/plain": [
       "([], [])"
      ]
     },
     "execution_count": 9,
     "metadata": {},
     "output_type": "execute_result"
    }
   ],
   "source": [
    "calc_iv2_mag_lim(df, mag_lim,**options)"
   ]
  },
  {
   "cell_type": "code",
   "execution_count": null,
   "id": "8291036b-748e-434e-a359-d4228be0b243",
   "metadata": {},
   "outputs": [],
   "source": []
  },
  {
   "cell_type": "code",
   "execution_count": null,
   "id": "a4e36284-745c-4349-8742-fe5c0c02dbf9",
   "metadata": {},
   "outputs": [],
   "source": []
  }
 ],
 "metadata": {
  "kernelspec": {
   "display_name": "Python 3 (ipykernel)",
   "language": "python",
   "name": "python3"
  },
  "language_info": {
   "codemirror_mode": {
    "name": "ipython",
    "version": 3
   },
   "file_extension": ".py",
   "mimetype": "text/x-python",
   "name": "python",
   "nbconvert_exporter": "python",
   "pygments_lexer": "ipython3",
   "version": "3.10.11"
  }
 },
 "nbformat": 4,
 "nbformat_minor": 5
}
