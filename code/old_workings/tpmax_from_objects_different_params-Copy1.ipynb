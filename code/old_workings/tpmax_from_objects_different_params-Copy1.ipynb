{
 "cells": [
  {
   "cell_type": "markdown",
   "metadata": {},
   "source": [
    "## Imports"
   ]
  },
  {
   "cell_type": "code",
   "execution_count": 2,
   "metadata": {},
   "outputs": [
    {
     "name": "stdout",
     "output_type": "stream",
     "text": [
      "\n"
     ]
    }
   ],
   "source": [
    "print('')"
   ]
  },
  {
   "cell_type": "code",
   "execution_count": 1,
   "metadata": {},
   "outputs": [],
   "source": [
    "import os\n",
    "import math\n",
    "import obspy\n",
    "import pickle\n",
    "import datetime\n",
    "import numpy as np\n",
    "import matplotlib.pyplot as plt\n",
    "\n",
    "from matplotlib.pyplot import figure\n",
    "from scipy.optimize import curve_fit\n",
    "from datetime import timedelta\n",
    "from obspy import UTCDateTime\n",
    "from obspy.clients.fdsn import Client\n",
    "\n",
    "from earthquake import Earthquake\n",
    "import util\n",
    "import pandas as pd\n",
    "from numba import jit\n",
    "from multiprocessing import Pool"
   ]
  },
  {
   "cell_type": "markdown",
   "metadata": {},
   "source": [
    "## Get set up\n",
    "Set path to data, and read eq_list (all folders in root folder)"
   ]
  },
  {
   "cell_type": "markdown",
   "metadata": {},
   "source": [
    "## the action!!\n",
    "For all events with data, load their object . add tp_max and tc  to lists (for plotting)"
   ]
  },
  {
   "cell_type": "code",
   "execution_count": 2,
   "metadata": {},
   "outputs": [],
   "source": [
    "list_tpmax = []\n",
    "list_mags = []\n",
    "list_mag_types = []\n",
    "list_eq = []\n",
    "eqs = {}\n",
    "count = 0"
   ]
  },
  {
   "cell_type": "code",
   "execution_count": 3,
   "metadata": {},
   "outputs": [],
   "source": [
    "parameters = [[1,0.1,19,0,'eq_object_1s_bandpass_01_19_snr_20_blank_0'],\n",
    "[1,0.1,19,0.05,'eq_object_1s_bandpass_01_19_snr_20_blank_005'],\n",
    "[1,0.1,19,0.1,'eq_object_1s_bandpass_01_19_snr_20_blank_01'],\n",
    "[1,0.1,19,0.25,'eq_object_1s_bandpass_01_19_snr_20_blank_025'],\n",
    "[1,0.1,19,0.5,'eq_object_1s_bandpass_01_19_snr_20_blank_05'],\n",
    "[4,0.1,19,0,'eq_object_4s_bandpass_01_19_snr_20_blank_0'],\n",
    "[4,0.1,19,0.05,'eq_object_4s_bandpass_01_19_snr_20_blank_005'],\n",
    "[4,0.1,19,0.1,'eq_object_4s_bandpass_01_19_snr_20_blank_01'],\n",
    "[4,0.1,19,0.25,'eq_object_4s_bandpass_01_19_snr_20_blank_025'],\n",
    "[4,0.1,19,0.5,'eq_object_4s_bandpass_01_19_snr_20_blank_05']]\n",
    "#[1,0.1,19,0.5,'eq_object_1s_bandpass_01_19_snr_20'],\n",
    "#[2,0.1,19,0.5,'eq_object_2s_bandpass_01_19_snr_20'],\n",
    "#[3,0.1,19,0.5,'eq_object_3s_bandpass_01_19_snr_20'],\n",
    "#[4,0.1,19,0.5,'eq_object_4s_bandpass_01_19_snr_20']]\n"
   ]
  },
  {
   "cell_type": "code",
   "execution_count": null,
   "metadata": {},
   "outputs": [],
   "source": [
    "def model_function(x_data, a, b):\n",
    "    return 10**(a*x_data + b)"
   ]
  },
  {
   "cell_type": "code",
   "execution_count": null,
   "metadata": {},
   "outputs": [],
   "source": [
    "def model_function_2(x_data, a, b):\n",
    "    return a*x_data + b"
   ]
  },
  {
   "cell_type": "code",
   "execution_count": null,
   "metadata": {},
   "outputs": [],
   "source": [
    "WINDOW_LENGTH=1"
   ]
  },
  {
   "cell_type": "code",
   "execution_count": null,
   "metadata": {},
   "outputs": [],
   "source": [
    "def plot_for_params(list_mags, list_tpmax, title):\n",
    "    %matplotlib inline\n",
    "    params = []\n",
    "    opacities = np.linspace(0.2,1,45)\n",
    "    import matplotlib.pyplot as plt\n",
    "    cs = ['midnightblue']#'#00a1c1']\n",
    "    #fig, axs = plt.subplots(1,1, figsize=(12.8,9.6))\n",
    "    y_aves_tp = []\n",
    "    x_aves_tp = []\n",
    "    count = 1\n",
    "    eq_count = 0\n",
    "    medians = [[] for _ in range(0, 45)]\n",
    "    medians_of_medians = [[] for _ in range(0, 45)]\n",
    "    n = 0\n",
    "    median_absolute_deviation = []\n",
    "    sum_absolute_deviation = []\n",
    "    all_abs_deviation = []\n",
    "    for n in [1]:#range(1, 10):#number of stations eq at least measured at\n",
    "        med_for_ad = []\n",
    "        mag_for_ad = []\n",
    "        fig, axs = plt.subplots(1,1, figsize=(12.8,9.6))\n",
    "        for mag_lim in [3.4]:#, 3.4, 4.0, 4.4]:#np.arange(3.0, 6.5, 0.1):\n",
    "            print(time.perf_counter()) \n",
    "            y_aves_tp = []\n",
    "            x_aves_tp = []\n",
    "            for i  in range(0, len(list_mags)):\n",
    "\n",
    "                if list_mags[i] > mag_lim and list_mags[i]<=max(list_mags):\n",
    "                    if len(list_tpmax[i])>=n:\n",
    "                        mean_tp = np.mean(list_tpmax[i]) \n",
    "                        std_tp = np.std(list_tpmax[i]) \n",
    "                        y_tp = [] \n",
    "                        for j in list_tpmax[i]: \n",
    "                            if j > mean_tp-2*std_tp and j < mean_tp + 2*std_tp:# and j < 100: \n",
    "                                y_tp.append(math.log(j, 10))\n",
    "                            elif len(list_tpmax[i])==1:\n",
    "                                y_tp.append(math.log(j, 10))\n",
    "                        x_tp = np.zeros(len(y_tp))  \n",
    "                        x_tp = x_tp + list_mags[i]\n",
    "                        c = 0\n",
    "                        if len(x_tp)>0 and mag_lim == 3.4:\n",
    "                            if math.isnan(np.median(y_tp))==False:\n",
    "                                axs.scatter(list_mags[i]-5+np.random.uniform(-0.05, 0.05), np.median(y_tp), s = 50, c = cs[c], marker = '^', zorder =110, alpha = 0.5)\n",
    "                            medians[int(np.round(x_tp[0],1)*10)-30].append(y_tp)\n",
    "                            med_for_ad.append(np.median(y_tp))\n",
    "                            mag_for_ad.append(list_mags[i])\n",
    "                        if math.isnan(np.median(y_tp))==False:  \n",
    "                            y_aves_tp.append(np.median(y_tp))\n",
    "                            medians_of_medians[int(np.round(x_tp[0],1)*10)-30].append(np.median(y_tp))\n",
    "                            x_aves_tp.append(list_mags[i])\n",
    "            if len(y_aves_tp)>0:\n",
    "                popt, pcov = curve_fit(model_function_2, x_aves_tp, y_aves_tp)\n",
    "                params.append([popt, len(x_aves_tp)])\n",
    "                print(mag_lim, popt)\n",
    "\n",
    "                x_use = np.array(x_aves_tp) - 5\n",
    "                y_use = np.array(y_aves_tp)\n",
    "\n",
    "                if str(mag_lim) == str(3.4):\n",
    "                    popt, pcov = curve_fit(model_function_2, x_use, y_use, absolute_sigma = True)\n",
    "                    axs.plot(np.array(x_use), model_function_2(np.array(x_use), *popt), color='orange', zorder =100)\n",
    "                    popt_final, pcov_final = popt, pcov\n",
    "\n",
    "                print(len(x_aves_tp), len(y_aves_tp))\n",
    "                count += 1\n",
    "        try:\n",
    "            med = []\n",
    "            med_x = []\n",
    "            med2 = []\n",
    "            xs = np.arange(3,7.5,0.1)-5\n",
    "            for i in range(0, len(medians_of_medians)):\n",
    "                med.append(np.median(medians_of_medians[i]))\n",
    "                if len(medians_of_medians[i])>0:\n",
    "                    med_x.append(xs[i])\n",
    "                    med2.append(np.median(medians_of_medians[i]))\n",
    "            popt, pcov = popt_final, pcov_final\n",
    "            perr = np.sqrt(np.diag(pcov))\n",
    "            print(popt, perr)\n",
    "            x_me = np.arange(0, 7.2, 0.1)\n",
    "            x_lower_me = x_me - perr[1]*2\n",
    "            x_upper_me =  x_me + perr[1]*2\n",
    "            y_me = popt[0]*x_me+popt[1]\n",
    "            y_lower_me = popt[0]*x_lower_me-popt[1]\n",
    "            y_upper_me = popt[0]*x_upper_me-popt[1]\n",
    "\n",
    "            a = popt[0]\n",
    "            a_true = a\n",
    "            b = popt[1]\n",
    "            b_true = b\n",
    "            std_a = perr[0]\n",
    "            std_b = perr[1]\n",
    "            x_me = np.arange(3, 7.2, 0.1)-5\n",
    "            y_1 = (a+std_a)*x_me + (b+std_b)\n",
    "            y_2 = (a+std_a)*x_me + (b-std_b)\n",
    "            y_3 = (a-std_a)*x_me + (b+std_b)\n",
    "            y_4 = (a-std_a)*x_me + (b-std_b)\n",
    "\n",
    "            y_min = np.minimum(np.minimum(y_1, y_2), np.minimum(y_3, y_4))\n",
    "            y_max = np.maximum(np.maximum(y_1, y_2), np.maximum(y_3, y_4))\n",
    "\n",
    "            axs.set_xlabel(\"magnitude\", fontsize = 14) \n",
    "\n",
    "            axs.set_ylabel(\"log(tp_max)\", fontsize = 14) \n",
    "            axs.tick_params(axis='both', which='major', labelsize=14)\n",
    "            axs.tick_params(axis='both', which='minor', labelsize=14)\n",
    "            olsen_x = np.arange(3,7,0.1)\n",
    "            olsen_y = 0.14*(olsen_x-5) - 0.83\n",
    "            axs.plot(olsen_x-5, olsen_y)\n",
    "\n",
    "            fig.suptitle(str(n)+ \" --- window = \"+str(WINDOW_LENGTH))\n",
    "\n",
    "        except Exception:\n",
    "            print('wrong')\n",
    "\n",
    "        point_indices = np.array(mag_for_ad)*10-30\n",
    "        absolute_deviation = []\n",
    "        for ind in range(0, len(point_indices)):\n",
    "            absolute_deviation.append(abs(10**med_for_ad[int(ind)]-(10**y_me[int(point_indices[ind])])))\n",
    "        print(len(absolute_deviation))\n",
    "        all_abs_deviation.append(absolute_deviation)\n",
    "        sum_absolute_deviation.append(np.sum(absolute_deviation))\n",
    "        median_absolute_deviation.append(np.median(absolute_deviation))\n",
    "        x = x_me\n",
    "        eigenvalues, eigenvectors = np.linalg.eig(pcov)\n",
    "        theta = np.linspace(0, 2*np.pi, 1000);\n",
    "        ev_95 = np.sqrt(5.99)*np.array([np.sqrt(eigenvalues[0]),np.sqrt(eigenvalues[1])])\n",
    "        ellipsis_95 = (ev_95 * eigenvectors) @ [np.sin(theta), np.cos(theta)]\n",
    "        for i in range(0, ellipsis_95.shape[1]):\n",
    "            b_95 ,a_95 = ellipsis_95[:,i]\n",
    "            axs.plot(x, (a_95+a_true)*x + (b_95+b_true), color = '#ffb253', alpha = 0.2, zorder = 100)\n",
    "        for i in range(0, ellipsis_95.shape[1]):\n",
    "            b_95 ,a_95 = ellipsis_95[:,i]\n",
    "            axs.plot(x, (2*a_95+a_true)*x + (2*b_95+b_true), color = '#f7e6d6', alpha = 0.1, zorder = 100)\n",
    "        axs.plot(x, popt[0]*x + popt[1], color = '#ff9500', zorder = 105, alpha = 1)\n",
    "        axs.set_xticks([-2,-1,0,1,2,3], [3,4,5,6,7,8], zorder = 110)\n",
    "        #plt.show()\n",
    "        axs.set_ylim([-2,1])\n",
    "        axs.set_title(title)\n",
    "        plt.savefig('/home/earthquakes1/homes/Rebecca/phd/seismo_det/figures/tp_different_params/'+title, format = 'pdf')\n",
    "\n",
    "    #plt.savefig('/home/earthquakes1/homes/Rebecca/phd/seismo_det/figures/tp_and_tc/different_station_numbers/1s_bandpass_n_stations_'+str(n)+'_plus_shading_based_on_34_plus.png')"
   ]
  },
  {
   "cell_type": "code",
   "execution_count": 8,
   "metadata": {
    "scrolled": false
   },
   "outputs": [],
   "source": [
    "def load_and_plot(p):\n",
    "    fn = p[-1]\n",
    "    list_tpmax = []\n",
    "    list_mags = []\n",
    "    folders = os.listdir('/home/earthquakes1/homes/Rebecca/phd/data/2018_2021_global_m5/')\n",
    "    #os_start = time.perf_counter()\n",
    "    for eq_no in range(0, len(folders)):\n",
    "        #start = time.perf_counter()\n",
    "        if os.path.exists('/home/earthquakes1/homes/Rebecca/phd/data/2018_2021_global_m5/'+folders[eq_no]+'/'+fn+'.pkl'):\n",
    "            with open('/home/earthquakes1/homes/Rebecca/phd/data/2018_2021_global_m5/'+folders[eq_no]+'/'+fn+'.pkl', 'rb') as picklefile:\n",
    "                eq = pickle.load(picklefile)\n",
    "            list_tpmax.append(eq.calculated_params['tau_p_max'])\n",
    "            list_mags.append(eq.event_stats['eq_mag'])\n",
    "            list_mag_types.append(eq.event_stats['eq_mag_type'])\n",
    "            #stop = time.perf_counter()\n",
    "    print(p[-1],'onto small')\n",
    "    folders = os.listdir('/home/earthquakes1/homes/Rebecca/phd/data/2019_global_m3/')\n",
    "    for eq_no in range(0, len(folders)):\n",
    "        if os.path.exists('/home/earthquakes1/homes/Rebecca/phd/data/2019_global_m3/'+folders[eq_no]+'/'+fn+'.pkl'):\n",
    "            with open('/home/earthquakes1/homes/Rebecca/phd/data/2019_global_m3/'+folders[eq_no]+'/'+fn+'.pkl', 'rb') as picklefile:\n",
    "                eq = pickle.load(picklefile)\n",
    "            #print(time.perf_counter())\n",
    "            list_tpmax.append(eq.calculated_params['tau_p_max'])\n",
    "            list_mags.append(eq.event_stats['eq_mag'])\n",
    "            list_mag_types.append(eq.event_stats['eq_mag_type'])\n",
    "    #os_stop = time.perf_counter()\n",
    "    #t_os.append(os_stop-os_start)\n",
    "    print('loading')\n",
    "    #print(p[-1])\n",
    "    #plot_start = time.perf_counter()       \n",
    "    plot_for_params(list_mags, list_tpmax, p[-1])\n",
    "    #plot_stop = time.perf_counter()\n",
    "    #t_plot.append(plot_stop-plot_start)\n",
    "    #print(p[-1],plot_stop-plot_start)"
   ]
  },
  {
   "cell_type": "code",
   "execution_count": 9,
   "metadata": {},
   "outputs": [
    {
     "name": "stdout",
     "output_type": "stream",
     "text": [
      "eq_object_4s_bandpass_01_19_snr_20_blank_0 onto small\n",
      "eq_object_4s_bandpass_01_19_snr_20_blank_005 onto small\n",
      "eq_object_1s_bandpass_01_19_snr_20_blank_05 onto small\n",
      "eq_object_4s_bandpass_01_19_snr_20_blank_01 onto small\n",
      "eq_object_1s_bandpass_01_19_snr_20_blank_01 onto small\n",
      "eq_object_1s_bandpass_01_19_snr_20_blank_005eq_object_1s_bandpass_01_19_snr_20_blank_025  onto smallonto small\n",
      "\n",
      "eq_object_1s_bandpass_01_19_snr_20_blank_0 onto small\n",
      "loadingloadingloadingloadingloadingloadingloadingloading\n",
      "\n",
      "\n",
      "\n",
      "\n",
      "\n",
      "\n",
      "\n",
      "eq_object_4s_bandpass_01_19_snr_20_blank_025eq_object_4s_bandpass_01_19_snr_20_blank_05  onto smallonto small\n",
      "\n",
      "loadingloading\n",
      "\n"
     ]
    },
    {
     "ename": "NameError",
     "evalue": "name 'time' is not defined",
     "output_type": "error",
     "traceback": [
      "\u001b[0;31m---------------------------------------------------------------------------\u001b[0m",
      "\u001b[0;31mRemoteTraceback\u001b[0m                           Traceback (most recent call last)",
      "\u001b[0;31mRemoteTraceback\u001b[0m: \n\"\"\"\nTraceback (most recent call last):\n  File \"/home/earthquakes1/software/Ubuntu/anaconda3/envs/rlc/lib/python3.10/multiprocessing/pool.py\", line 125, in worker\n    result = (True, func(*args, **kwds))\n  File \"/home/earthquakes1/software/Ubuntu/anaconda3/envs/rlc/lib/python3.10/multiprocessing/pool.py\", line 48, in mapstar\n    return list(map(*args))\n  File \"/tmp/ipykernel_45890/229444140.py\", line 31, in load_and_plot\n    plot_for_params(list_mags, list_tpmax, p[-1])\n  File \"/tmp/ipykernel_45890/1945064695.py\", line 23, in plot_for_params\n    print(time.perf_counter())\nNameError: name 'time' is not defined\n\"\"\"",
      "\nThe above exception was the direct cause of the following exception:\n",
      "\u001b[0;31mNameError\u001b[0m                                 Traceback (most recent call last)",
      "Input \u001b[0;32mIn [9]\u001b[0m, in \u001b[0;36m<cell line: 1>\u001b[0;34m()\u001b[0m\n\u001b[1;32m      1\u001b[0m \u001b[38;5;28;01mwith\u001b[39;00m Pool(os\u001b[38;5;241m.\u001b[39mcpu_count()\u001b[38;5;241m/\u001b[39m\u001b[38;5;241m/\u001b[39m\u001b[38;5;241m2\u001b[39m) \u001b[38;5;28;01mas\u001b[39;00m pool:\n\u001b[0;32m----> 2\u001b[0m     \u001b[43mpool\u001b[49m\u001b[38;5;241;43m.\u001b[39;49m\u001b[43mmap\u001b[49m\u001b[43m(\u001b[49m\u001b[43mload_and_plot\u001b[49m\u001b[43m,\u001b[49m\u001b[43m \u001b[49m\u001b[43mparameters\u001b[49m\u001b[43m)\u001b[49m\n",
      "File \u001b[0;32m/home/earthquakes1/software/Ubuntu/anaconda3/envs/rlc/lib/python3.10/multiprocessing/pool.py:364\u001b[0m, in \u001b[0;36mPool.map\u001b[0;34m(self, func, iterable, chunksize)\u001b[0m\n\u001b[1;32m    359\u001b[0m \u001b[38;5;28;01mdef\u001b[39;00m \u001b[38;5;21mmap\u001b[39m(\u001b[38;5;28mself\u001b[39m, func, iterable, chunksize\u001b[38;5;241m=\u001b[39m\u001b[38;5;28;01mNone\u001b[39;00m):\n\u001b[1;32m    360\u001b[0m     \u001b[38;5;124;03m'''\u001b[39;00m\n\u001b[1;32m    361\u001b[0m \u001b[38;5;124;03m    Apply `func` to each element in `iterable`, collecting the results\u001b[39;00m\n\u001b[1;32m    362\u001b[0m \u001b[38;5;124;03m    in a list that is returned.\u001b[39;00m\n\u001b[1;32m    363\u001b[0m \u001b[38;5;124;03m    '''\u001b[39;00m\n\u001b[0;32m--> 364\u001b[0m     \u001b[38;5;28;01mreturn\u001b[39;00m \u001b[38;5;28;43mself\u001b[39;49m\u001b[38;5;241;43m.\u001b[39;49m\u001b[43m_map_async\u001b[49m\u001b[43m(\u001b[49m\u001b[43mfunc\u001b[49m\u001b[43m,\u001b[49m\u001b[43m \u001b[49m\u001b[43miterable\u001b[49m\u001b[43m,\u001b[49m\u001b[43m \u001b[49m\u001b[43mmapstar\u001b[49m\u001b[43m,\u001b[49m\u001b[43m \u001b[49m\u001b[43mchunksize\u001b[49m\u001b[43m)\u001b[49m\u001b[38;5;241;43m.\u001b[39;49m\u001b[43mget\u001b[49m\u001b[43m(\u001b[49m\u001b[43m)\u001b[49m\n",
      "File \u001b[0;32m/home/earthquakes1/software/Ubuntu/anaconda3/envs/rlc/lib/python3.10/multiprocessing/pool.py:771\u001b[0m, in \u001b[0;36mApplyResult.get\u001b[0;34m(self, timeout)\u001b[0m\n\u001b[1;32m    769\u001b[0m     \u001b[38;5;28;01mreturn\u001b[39;00m \u001b[38;5;28mself\u001b[39m\u001b[38;5;241m.\u001b[39m_value\n\u001b[1;32m    770\u001b[0m \u001b[38;5;28;01melse\u001b[39;00m:\n\u001b[0;32m--> 771\u001b[0m     \u001b[38;5;28;01mraise\u001b[39;00m \u001b[38;5;28mself\u001b[39m\u001b[38;5;241m.\u001b[39m_value\n",
      "\u001b[0;31mNameError\u001b[0m: name 'time' is not defined"
     ]
    }
   ],
   "source": [
    "with Pool(os.cpu_count()//2) as pool:\n",
    "    pool.map(load_and_plot, parameters)"
   ]
  }
 ],
 "metadata": {
  "kernelspec": {
   "display_name": "Python 3 (ipykernel)",
   "language": "python",
   "name": "python3"
  },
  "language_info": {
   "codemirror_mode": {
    "name": "ipython",
    "version": 3
   },
   "file_extension": ".py",
   "mimetype": "text/x-python",
   "name": "python",
   "nbconvert_exporter": "python",
   "pygments_lexer": "ipython3",
   "version": "3.10.4"
  }
 },
 "nbformat": 4,
 "nbformat_minor": 2
}
