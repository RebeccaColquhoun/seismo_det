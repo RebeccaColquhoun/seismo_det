{
 "cells": [
  {
   "cell_type": "code",
   "execution_count": 9,
   "metadata": {},
   "outputs": [],
   "source": [
    "a = open('/home/earthquakes1/homes/Rebecca/phd/data/olsen_allen_2005/catalog_all.txt')\n"
   ]
  },
  {
   "cell_type": "code",
   "execution_count": 10,
   "metadata": {},
   "outputs": [
    {
     "data": {
      "text/plain": [
       "<_io.TextIOWrapper name='/home/earthquakes1/homes/Rebecca/phd/data/olsen_allen_2005/catalog_all.txt' mode='r' encoding='UTF-8'>"
      ]
     },
     "execution_count": 10,
     "metadata": {},
     "output_type": "execute_result"
    }
   ],
   "source": [
    "a"
   ]
  },
  {
   "cell_type": "code",
   "execution_count": 11,
   "metadata": {},
   "outputs": [],
   "source": [
    "b = a.read()\n"
   ]
  },
  {
   "cell_type": "code",
   "execution_count": 12,
   "metadata": {},
   "outputs": [
    {
     "data": {
      "text/plain": [
       "'1,None,2002-11-03T22:11:57.880000Z,63.52,-147.53,10.8,7.9,None,None, NaN,None,None,None,None,None,None,None,None\\n2,None,1999-09-20T17:47:15.850000Z,23.85,120.82,13.2,7.6,None,None, NaN,None,None,None,None,None,None,None,None\\n3,None,1999-09-20T18:03:41.570000Z,23.80,120.86,33.0,6.6,None,None, NaN,None,None,None,None,None,None,None,None\\n4,None,1999-09-20T18:16:17.950000Z,23.86,121.04,57.4,6.6,None,None, NaN,None,None,None,None,None,None,None,None\\n5,None,2000-06-10T18:23:29.450000Z,23.90,121.11,35.6,6.4,None,None, NaN,None,None,None,None,None,None,None,None\\n6,None,2001-06-14T02:35:35.780000Z,24.42,121.93,37.3,5.9,None,None, NaN,None,None,None,None,None,None,None,None\\n7,None,2002-03-31T06:52:49.950000Z,24.14,122.19,33.0,7.1,None,None, NaN,None,None,None,None,None,None,None,None\\n8,None,2002-05-15T03:46:05.910000Z,24.56,121.87,8.5,6.1,None,None, NaN,None,None,None,None,None,None,None,None\\n9,None,2003-06-10T08:40:32.050000Z,23.50,121.70,44.0,5.9,None,None, NaN,None,None,None,None,None,None,None,None\\n10,None,2000-01-28T14:21:07.340000Z,42.98,146.72, NaN,6.8,None,None, NaN,None,None,None,None,None,None,None,None\\n11,None,2000-06-03T08:54:49.200000Z,35.68,140.72, NaN,6.1,None,None, NaN,None,None,None,None,None,None,None,None\\n12,None,2000-06-06T21:16:42.400000Z,36.84,135.55, NaN,5.9,None,None, NaN,None,None,None,None,None,None,None,None\\n13,None,2000-07-20T18:39:18.820000Z,36.52,141.10, NaN,6.0,None,None, NaN,None,None,None,None,None,None,None,None\\n14,None,2001-03-24T06:27:53.580000Z,34.12,132.71, NaN,6.8,None,None, NaN,None,None,None,None,None,None,None,None\\n15,None,2001-08-13T20:11:23.400000Z,41.01,142.42, NaN,6.4,None,None, NaN,None,None,None,None,None,None,None,None\\n16,None,2002-11-03T03:37:42.070000Z,38.89,142.14, NaN,6.4,None,None, NaN,None,None,None,None,None,None,None,None\\n17,None,2003-05-26T09:24:33.400000Z,38.80,141.68, NaN,7.0,None,None, NaN,None,None,None,None,None,None,None,None\\n18,None,2003-07-25T22:13:29.970000Z,38.40,141.17, NaN,6.0,None,None, NaN,None,None,None,None,None,None,None,None\\n19,None,2003-09-25T19:50:06.360000Z,41.78,144.08, NaN,8.3,None,None, NaN,None,None,None,None,None,None,None,None\\n20,None,2003-09-25T21:08:00.030000Z,41.71,143.69, NaN,7.3,None,None, NaN,None,None,None,None,None,None,None,None\\n21,None,2003-09-29T02:36:53.140000Z,42.36,144.56, NaN,6.4,None,None, NaN,None,None,None,None,None,None,None,None\\n22,None,2003-10-08T09:06:55.340000Z,42.56,144.67, NaN,6.7,None,None, NaN,None,None,None,None,None,None,None,None\\n23,None,2003-12-19T01:30:54.700000Z,42.42,144.76, NaN,6.1,None,None, NaN,None,None,None,None,None,None,None,None\\n24,None,1992-06-28T11:57:34.120000Z,34.20,-116.44, NaN,7.3,None,None, NaN,None,None,None,None,None,None,None,None\\n25,None,1994-01-17T12:30:55.000000Z,34.21,-118.54, NaN,6.7,None,None, NaN,None,None,None,None,None,None,None,None\\n26,None,1995-09-20T23:27:36.300000Z,35.76,-117.64, NaN,5.8,None,None, NaN,None,None,None,None,None,None,None,None\\n27,None,1996-11-27T20:17:24.010000Z,36.08,-117.65, NaN,5.3,None,None, NaN,None,None,None,None,None,None,None,None\\n28,None,1997-03-18T15:24:47.070000Z,34.97,-116.82, NaN,5.3,None,None, NaN,None,None,None,None,None,None,None,None\\n29,None,1997-04-26T10:37:30.070000Z,34.37,-118.67, NaN,5.1,None,None, NaN,None,None,None,None,None,None,None,None\\n30,None,1998-03-06T05:47:40.030000Z,36.07,-117.64, NaN,5.2,None,None, NaN,None,None,None,None,None,None,None,None\\n31,None,1998-03-07T00:36:46.080000Z,36.08,-117.62, NaN,5.0,None,None, NaN,None,None,None,None,None,None,None,None\\n32,None,1999-10-16T09:46:44.010000Z,34.60,-116.27, NaN,7.1,None,None, NaN,None,None,None,None,None,None,None,None\\n33,None,1999-10-16T09:59:35.020000Z,34.68,-116.29, NaN,5.8,None,None, NaN,None,None,None,None,None,None,None,None\\n34,None,1999-10-16T10:20:52.010000Z,34.36,-116.15, NaN,4.8,None,None, NaN,None,None,None,None,None,None,None,None\\n35,None,1999-10-16T11:26:04.010000Z,34.81,-116.34, NaN,4.7,None,None, NaN,None,None,None,None,None,None,None,None\\n36,None,1999-10-16T12:57:21.100000Z,34.44,-116.24, NaN,5.6,None,None, NaN,None,None,None,None,None,None,None,None\\n37,None,1999-10-16T20:13:37.010000Z,34.69,-116.28, NaN,4.6,None,None, NaN,None,None,None,None,None,None,None,None\\n38,None,1999-10-16T22:53:41.000000Z,34.71,-116.35, NaN,4.5,None,None, NaN,None,None,None,None,None,None,None,None\\n39,None,1999-10-21T01:54:34.020000Z,35.27,-116.07, NaN,5.1,None,None, NaN,None,None,None,None,None,None,None,None\\n40,None,1999-10-22T16:08:48.010000Z,34.87,-116.41, NaN,5.0,None,None, NaN,None,None,None,None,None,None,None,None\\n41,None,2000-02-21T13:49:43.000000Z,34.05,-117.26, NaN,4.3,None,None, NaN,None,None,None,None,None,None,None,None\\n42,None,2000-05-11T21:46:07.010000Z,33.84,-117.74, NaN,3.1,None,None, NaN,None,None,None,None,None,None,None,None\\n43,None,2000-06-26T15:43:07.010000Z,34.78,-116.29, NaN,4.6,None,None, NaN,None,None,None,None,None,None,None,None\\n44,None,2000-09-16T13:24:41.000000Z,33.98,-118.42, NaN,3.2,None,None, NaN,None,None,None,None,None,None,None,None\\n45,None,2001-01-14T02:26:14.000000Z,34.28,-118.40, NaN,4.3,None,None, NaN,None,None,None,None,None,None,None,None\\n46,None,2001-02-13T03:04:35.010000Z,34.55,-117.43, NaN,3.5,None,None, NaN,None,None,None,None,None,None,None,None\\n47,None,2001-02-18T06:09:32.000000Z,33.68,-116.81, NaN,3.3,None,None, NaN,None,None,None,None,None,None,None,None\\n48,None,2001-03-25T00:41:25.000000Z,34.05,-117.57, NaN,3.4,None,None, NaN,None,None,None,None,None,None,None,None\\n49,None,2001-04-13T11:50:12.000000Z,33.88,-117.69, NaN,3.6,None,None, NaN,None,None,None,None,None,None,None,None\\n50,None,2001-04-20T09:52:12.000000Z,33.71,-116.78, NaN,3.4,None,None, NaN,None,None,None,None,None,None,None,None\\n51,None,2001-04-30T23:34:17.010000Z,36.05,-117.88, NaN,3.7,None,None, NaN,None,None,None,None,None,None,None,None\\n52,None,2001-05-15T17:13:30.000000Z,34.23,-117.44, NaN,3.8,None,None, NaN,None,None,None,None,None,None,None,None\\n53,None,2001-05-17T22:56:45.010000Z,35.80,-118.05, NaN,4.1,None,None, NaN,None,None,None,None,None,None,None,None\\n54,None,2001-03-07T11:40:48.000000Z,34.26,-116.76, NaN,3.9,None,None, NaN,None,None,None,None,None,None,None,None\\n55,None,2001-07-17T12:59:59.000000Z,36.02,-117.88, NaN,4.7,None,None, NaN,None,None,None,None,None,None,None,None\\n56,None,2001-07-17T12:07:26.000000Z,36.01,-117.86, NaN,4.8,None,None, NaN,None,None,None,None,None,None,None,None\\n57,None,2001-07-20T12:53:07.000000Z,36.00,-117.88, NaN,4.4,None,None, NaN,None,None,None,None,None,None,None,None\\n58,None,2001-08-20T07:34:23.000000Z,34.04,-117.25, NaN,3.0,None,None, NaN,None,None,None,None,None,None,None,None\\n59,None,2001-09-09T23:59:18.000000Z,34.06,-118.39, NaN,4.2,None,None, NaN,None,None,None,None,None,None,None,None\\n60,None,2001-09-17T01:14:49.000000Z,33.92,-117.77, NaN,3.1,None,None, NaN,None,None,None,None,None,None,None,None\\n61,None,2001-10-28T16:27:45.010000Z,33.92,-118.27, NaN,4.0,None,None, NaN,None,None,None,None,None,None,None,None\\n62,None,2001-10-28T16:29:54.010000Z,33.93,-118.30, NaN,3.0,None,None, NaN,None,None,None,None,None,None,None,None\\n63,None,2001-11-13T20:43:14.010000Z,33.32,-115.70, NaN,4.1,None,None, NaN,None,None,None,None,None,None,None,None\\n64,None,2002-01-29T06:08:01.010000Z,34.37,-118.66, NaN,3.8,None,None, NaN,None,None,None,None,None,None,None,None\\n65,None,2002-01-29T05:53:28.010000Z,34.36,-118.66, NaN,4.2,None,None, NaN,None,None,None,None,None,None,None,None\\n66,None,2002-01-29T20:23:07.000000Z,34.36,-118.67, NaN,3.6,None,None, NaN,None,None,None,None,None,None,None,None\\n67,None,2002-01-29T06:00:39.010000Z,34.37,-118.67, NaN,3.9,None,None, NaN,None,None,None,None,None,None,None,None\\n68,None,2002-01-30T18:47:57.000000Z,34.37,-118.66, NaN,3.5,None,None, NaN,None,None,None,None,None,None,None,None\\n69,None,2002-03-17T05:50:43.000000Z,33.87,-117.86, NaN,3.2,None,None, NaN,None,None,None,None,None,None,None,None\\n70,None,2002-04-05T08:02:56.000000Z,34.52,-116.30, NaN,4.4,None,None, NaN,None,None,None,None,None,None,None,None\\n71,None,2002-07-01T22:03:59.010000Z,34.10,-116.65, NaN,3.3,None,None, NaN,None,None,None,None,None,None,None,None'"
      ]
     },
     "execution_count": 12,
     "metadata": {},
     "output_type": "execute_result"
    }
   ],
   "source": [
    "b"
   ]
  },
  {
   "cell_type": "code",
   "execution_count": 16,
   "metadata": {},
   "outputs": [],
   "source": [
    "c = b.split('\\n')"
   ]
  },
  {
   "cell_type": "code",
   "execution_count": 18,
   "metadata": {},
   "outputs": [],
   "source": [
    "d = []\n",
    "for i in range(0, len(c)):\n",
    "    d.append(c[i].split(','))"
   ]
  },
  {
   "cell_type": "code",
   "execution_count": 21,
   "metadata": {},
   "outputs": [
    {
     "data": {
      "text/plain": [
       "'7.9'"
      ]
     },
     "execution_count": 21,
     "metadata": {},
     "output_type": "execute_result"
    }
   ],
   "source": [
    "d[0][6]"
   ]
  },
  {
   "cell_type": "code",
   "execution_count": 33,
   "metadata": {},
   "outputs": [],
   "source": [
    "mags = []"
   ]
  },
  {
   "cell_type": "code",
   "execution_count": 34,
   "metadata": {},
   "outputs": [],
   "source": [
    "for i in d:\n",
    "    mags.append(float(i[6]))"
   ]
  },
  {
   "cell_type": "code",
   "execution_count": 88,
   "metadata": {},
   "outputs": [
    {
     "data": {
      "image/png": "[encoded data removed]",
      "text/plain": [
       "<Figure size 432x288 with 1 Axes>"
      ]
     },
     "metadata": {
      "needs_background": "light"
     },
     "output_type": "display_data"
    }
   ],
   "source": [
    "import matplotlib.pyplot as plt\n",
    "import numpy as np\n",
    "m = list(mags)\n",
    "m.remove(6.4)\n",
    "m.remove(6.4)\n",
    "m.remove(6.1)\n",
    "m.remove(6.6)\n",
    "n, bins, patches = plt.hist(m, np.arange(3, 8, 0.5))\n",
    "plt.yscale('log')"
   ]
  },
  {
   "cell_type": "code",
   "execution_count": 82,
   "metadata": {},
   "outputs": [],
   "source": [
    "m=list(mags)"
   ]
  },
  {
   "cell_type": "code",
   "execution_count": 84,
   "metadata": {},
   "outputs": [],
   "source": [
    "m.remove(6.4)"
   ]
  },
  {
   "cell_type": "code",
   "execution_count": 85,
   "metadata": {},
   "outputs": [
    {
     "data": {
      "text/plain": [
       "[3.0,\n",
       " 3.0,\n",
       " 3.1,\n",
       " 3.1,\n",
       " 3.2,\n",
       " 3.2,\n",
       " 3.3,\n",
       " 3.3,\n",
       " 3.4,\n",
       " 3.4,\n",
       " 3.5,\n",
       " 3.5,\n",
       " 3.6,\n",
       " 3.6,\n",
       " 3.7,\n",
       " 3.8,\n",
       " 3.8,\n",
       " 3.9,\n",
       " 3.9,\n",
       " 4.0,\n",
       " 4.1,\n",
       " 4.1,\n",
       " 4.2,\n",
       " 4.2,\n",
       " 4.3,\n",
       " 4.3,\n",
       " 4.4,\n",
       " 4.4,\n",
       " 4.5,\n",
       " 4.6,\n",
       " 4.6,\n",
       " 4.7,\n",
       " 4.7,\n",
       " 4.8,\n",
       " 4.8,\n",
       " 5.0,\n",
       " 5.0,\n",
       " 5.1,\n",
       " 5.1,\n",
       " 5.2,\n",
       " 5.3,\n",
       " 5.3,\n",
       " 5.6,\n",
       " 5.8,\n",
       " 5.8,\n",
       " 5.9,\n",
       " 5.9,\n",
       " 5.9,\n",
       " 6.0,\n",
       " 6.0,\n",
       " 6.1,\n",
       " 6.1,\n",
       " 6.1,\n",
       " 6.4,\n",
       " 6.4,\n",
       " 6.4,\n",
       " 6.6,\n",
       " 6.6,\n",
       " 6.7,\n",
       " 6.7,\n",
       " 6.8,\n",
       " 6.8,\n",
       " 7.0,\n",
       " 7.1,\n",
       " 7.1,\n",
       " 7.3,\n",
       " 7.3,\n",
       " 7.6,\n",
       " 7.9,\n",
       " 8.3]"
      ]
     },
     "execution_count": 85,
     "metadata": {},
     "output_type": "execute_result"
    }
   ],
   "source": [
    "m"
   ]
  },
  {
   "cell_type": "code",
   "execution_count": null,
   "metadata": {},
   "outputs": [],
   "source": []
  }
 ],
 "metadata": {
  "kernelspec": {
   "display_name": "Python 3 (ipykernel)",
   "language": "python",
   "name": "python3"
  },
  "language_info": {
   "codemirror_mode": {
    "name": "ipython",
    "version": 3
   },
   "file_extension": ".py",
   "mimetype": "text/x-python",
   "name": "python",
   "nbconvert_exporter": "python",
   "pygments_lexer": "ipython3",
   "version": "3.8.12"
  }
 },
 "nbformat": 4,
 "nbformat_minor": 2
}
