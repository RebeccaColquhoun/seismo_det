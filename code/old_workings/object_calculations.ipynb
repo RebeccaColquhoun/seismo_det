{
 "cells": [
  {
   "cell_type": "code",
   "execution_count": 1,
   "id": "c1c8e4a0",
   "metadata": {},
   "outputs": [],
   "source": [
    "import earthquake\n",
    "import os\n",
    "import obspy\n",
    "import util"
   ]
  },
  {
   "cell_type": "code",
   "execution_count": 2,
   "id": "09d25192",
   "metadata": {},
   "outputs": [],
   "source": [
    "root = '/home/earthquakes1/homes/Rebecca/phd/data/2019_global_m3/'\n",
    "eq_list = os.listdir(root)\n",
    "cat = obspy.read_events('/home/earthquakes1/homes/Rebecca/phd/data/2019_global_m3_catalog.xml')"
   ]
  },
  {
   "cell_type": "code",
   "execution_count": 3,
   "id": "0d008316",
   "metadata": {},
   "outputs": [],
   "source": [
    "eq_with_data = []\n",
    "cat_with_data = obspy.Catalog()  # cat.copy()\n",
    "# cat_with_data.clear()\n",
    "for event in cat:  # check earthquakes have data AND PICKS\n",
    "    eq_name = util.catEventToFileName(event)\n",
    "    if os.path.isdir(root+eq_name) and os.path.isdir(root+eq_name+'/station_xml_files') and os.path.exists(root+eq_name+'/picks.pkl'):\n",
    "        eq_with_data.append(eq_name)\n",
    "        cat_with_data.extend([event])"
   ]
  },
  {
   "cell_type": "code",
   "execution_count": 4,
   "id": "6676a81a",
   "metadata": {},
   "outputs": [
    {
     "name": "stdout",
     "output_type": "stream",
     "text": [
      "make object\n",
      "False\n",
      "False\n"
     ]
    },
    {
     "ename": "KeyError",
     "evalue": "'iv2'",
     "output_type": "error",
     "traceback": [
      "\u001b[0;31m---------------------------------------------------------------------------\u001b[0m",
      "\u001b[0;31mKeyError\u001b[0m                                  Traceback (most recent call last)",
      "\u001b[0;32m/tmp/ipykernel_675061/1369236576.py\u001b[0m in \u001b[0;36m<module>\u001b[0;34m\u001b[0m\n\u001b[1;32m      9\u001b[0m     \u001b[0;31m#eq.calc_tpmax(window_length=WINDOW_LEN)\u001b[0m\u001b[0;34m\u001b[0m\u001b[0;34m\u001b[0m\u001b[0m\n\u001b[1;32m     10\u001b[0m     \u001b[0mprint\u001b[0m\u001b[0;34m(\u001b[0m\u001b[0meq\u001b[0m\u001b[0;34m.\u001b[0m\u001b[0mdata\u001b[0m\u001b[0;34m)\u001b[0m\u001b[0;34m\u001b[0m\u001b[0;34m\u001b[0m\u001b[0m\n\u001b[0;32m---> 11\u001b[0;31m     \u001b[0mprint\u001b[0m\u001b[0;34m(\u001b[0m\u001b[0meq\u001b[0m\u001b[0;34m.\u001b[0m\u001b[0mcalculated_params\u001b[0m\u001b[0;34m[\u001b[0m\u001b[0;34m'iv2'\u001b[0m\u001b[0;34m]\u001b[0m\u001b[0;34m)\u001b[0m\u001b[0;34m\u001b[0m\u001b[0;34m\u001b[0m\u001b[0m\n\u001b[0m",
      "\u001b[0;31mKeyError\u001b[0m: 'iv2'"
     ]
    }
   ],
   "source": [
    "print('make object')\n",
    "WINDOW_LEN = 4\n",
    "for i in range(3385, 3386):  # len(eq_with_data)):\n",
    "    eq = earthquake.Earthquake(eq_with_data[i], cat_with_data[i])\n",
    "    print(eq.data)\n",
    "    eq.eq_info()\n",
    "    eq.calc_iv2(window_length=WINDOW_LEN)\n",
    "    #eq.calc_tc(window_length=WINDOW_LEN)\n",
    "    #eq.calc_tpmax(window_length=WINDOW_LEN)\n",
    "    print(eq.data)\n",
    "    print(eq.calculated_params['iv2'])"
   ]
  },
  {
   "cell_type": "markdown",
   "id": "b7bdb7b5",
   "metadata": {},
   "source": [
    "the class has to be at top level in the module or has to be defined here as well"
   ]
  },
  {
   "cell_type": "code",
   "execution_count": 5,
   "id": "d031282f",
   "metadata": {},
   "outputs": [
    {
     "name": "stdout",
     "output_type": "stream",
     "text": [
      "{}\n"
     ]
    }
   ],
   "source": [
    "print(eq.calculated_params)"
   ]
  },
  {
   "cell_type": "code",
   "execution_count": null,
   "id": "1dcb6c6a",
   "metadata": {},
   "outputs": [],
   "source": [
    "import pickle\n",
    "picklefile = open('/home/earthquakes1/homes/Rebecca/phd/data/tests/test_eq', 'wb')\n",
    "#pickle the dictionary and write it to file\n",
    "pickle.dump(eq, picklefile)\n",
    "#close the file\n",
    "picklefile.close()"
   ]
  },
  {
   "cell_type": "code",
   "execution_count": null,
   "id": "a3495d6e",
   "metadata": {
    "scrolled": false
   },
   "outputs": [],
   "source": [
    "import pickle\n",
    "#read the pickle file\n",
    "for i in range(0, 10):\n",
    "    #print(i)\n",
    "    with open('/home/earthquakes1/homes/Rebecca/phd/data/2019_global_m3/'+eq_with_data[i]+'/eq_object.pkl', 'rb') as picklefile:\n",
    "        eq = pickle.load(picklefile)\n",
    "        #print(eq.__dict__)\n",
    "        if len(eq.calculated_params['tau_p'])>0:\n",
    "            print(i, eq.calculated_params['tau_p'])\n",
    "    #picklefile.close()"
   ]
  },
  {
   "cell_type": "code",
   "execution_count": null,
   "id": "8d927aeb",
   "metadata": {},
   "outputs": [],
   "source": [
    "eq.calculated_params['tau_p']"
   ]
  },
  {
   "cell_type": "code",
   "execution_count": null,
   "id": "ee82e994",
   "metadata": {},
   "outputs": [],
   "source": [
    "a = obspy.read_inventory('/home/earthquakes1/homes/Rebecca/phd/data/2019_global_m3/20190706_063447.a/station_xml_files/CI.DEC.xml')"
   ]
  },
  {
   "cell_type": "code",
   "execution_count": null,
   "id": "1396448f",
   "metadata": {},
   "outputs": [],
   "source": [
    "import numpy as np\n",
    "eq_with_data.index('20190706_063447.a')"
   ]
  },
  {
   "cell_type": "code",
   "execution_count": null,
   "id": "ab904908",
   "metadata": {},
   "outputs": [],
   "source": []
  }
 ],
 "metadata": {
  "kernelspec": {
   "display_name": "Python 3 (ipykernel)",
   "language": "python",
   "name": "python3"
  },
  "language_info": {
   "codemirror_mode": {
    "name": "ipython",
    "version": 3
   },
   "file_extension": ".py",
   "mimetype": "text/x-python",
   "name": "python",
   "nbconvert_exporter": "python",
   "pygments_lexer": "ipython3",
   "version": "3.9.7"
  }
 },
 "nbformat": 4,
 "nbformat_minor": 5
}
