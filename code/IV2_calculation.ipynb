{
 "cells": [
  {
   "cell_type": "code",
   "execution_count": 83,
   "id": "568f6508",
   "metadata": {},
   "outputs": [],
   "source": [
    "import os\n",
    "import scipy\n",
    "import numpy as np\n",
    "import matplotlib.pyplot as plt\n",
    "import obspy\n",
    "import pickle\n",
    "from obspy import UTCDateTime\n",
    "from obspy.clients.fdsn import Client\n",
    "import util\n",
    "import pandas as pd"
   ]
  },
  {
   "cell_type": "code",
   "execution_count": 84,
   "id": "6e5508e5",
   "metadata": {},
   "outputs": [],
   "source": [
    "root = '/home/earthquakes1/homes/Rebecca/phd/data/2019_global_m3/' #2018_2021_global_m5/'#'/home/earthquakes1/homes/Rebecca/phd/data/2019_global_m5/'\n",
    "eq_list = os.listdir(root)"
   ]
  },
  {
   "cell_type": "code",
   "execution_count": 85,
   "id": "476c85ad",
   "metadata": {},
   "outputs": [],
   "source": [
    "client = Client(\"IRIS\")\n",
    "# cat = client.get_events(starttime=UTCDateTime(\"2019-06-26\"), endtime=UTCDateTime(\"2020-06-26\"), minlongitude=-179, maxlongitude=-145, minlatitude=42, maxlatitude=71, minmagnitude=5, includearrivals=True)\n",
    "cat = obspy.read_events('/home/earthquakes1/homes/Rebecca/phd/data/2019_global_m3_catalog.xml') #2018_2021_global_m5_catalog.xml')\n",
    "dists = []"
   ]
  },
  {
   "cell_type": "code",
   "execution_count": 86,
   "id": "160cf2e3",
   "metadata": {},
   "outputs": [],
   "source": [
    "eq_with_data = []\n",
    "cat_with_data = cat.copy()\n",
    "cat_with_data.clear()\n",
    "for event in cat:\n",
    "    eq_name = util.catEventToFileName(event)\n",
    "    if os.path.isdir(root+eq_name) and os.path.isdir(root+eq_name+'/station_xml_files'):\n",
    "        eq_with_data.append(eq_name)\n",
    "        cat_with_data.extend([event])\n",
    "        "
   ]
  },
  {
   "cell_type": "code",
   "execution_count": 87,
   "id": "c4565ee4",
   "metadata": {
    "scrolled": false
   },
   "outputs": [
    {
     "name": "stdout",
     "output_type": "stream",
     "text": [
      "20190131_194949.a\n"
     ]
    }
   ],
   "source": [
    "for eq_name in eq_with_data[0:1]:\n",
    "    print(eq_name)"
   ]
  },
  {
   "cell_type": "code",
   "execution_count": 97,
   "id": "995bbf7d",
   "metadata": {},
   "outputs": [],
   "source": [
    "counts = pd.DataFrame({'3.0':[0, 0, 0, 0, 0, 0, 0, 0],\n",
    "                       '3.1':[0, 0, 0, 0, 0, 0, 0, 0],\n",
    "                       '3.2':[0, 0, 0, 0, 0, 0, 0, 0],\n",
    "                       '3.3':[0, 0, 0, 0, 0, 0, 0, 0],\n",
    "                       '3.4':[0, 0, 0, 0, 0, 0, 0, 0],\n",
    "                       '3.5':[0, 0, 0, 0, 0, 0, 0, 0],\n",
    "                       '3.6':[0, 0, 0, 0, 0, 0, 0, 0],\n",
    "                       '3.7':[0, 0, 0, 0, 0, 0, 0, 0],\n",
    "                       '3.8':[0, 0, 0, 0, 0, 0, 0, 0],\n",
    "                       '3.9':[0, 0, 0, 0, 0, 0, 0, 0],\n",
    "                       '4.0':[0, 0, 0, 0, 0, 0, 0, 0],\n",
    "                       '4.1':[0, 0, 0, 0, 0, 0, 0, 0],\n",
    "                       '4.2':[0, 0, 0, 0, 0, 0, 0, 0],\n",
    "                       '4.3':[0, 0, 0, 0, 0, 0, 0, 0],\n",
    "                       '4.4':[0, 0, 0, 0, 0, 0, 0, 0],\n",
    "                       '4.5':[0, 0, 0, 0, 0, 0, 0, 0],\n",
    "                       '4.6':[0, 0, 0, 0, 0, 0, 0, 0],\n",
    "                       '4.7':[0, 0, 0, 0, 0, 0, 0, 0],\n",
    "                       '4.8':[0, 0, 0, 0, 0, 0, 0, 0],\n",
    "                       '4.9':[0, 0, 0, 0, 0, 0, 0, 0],\n",
    "                       '5.0':[0, 0, 0, 0, 0, 0, 0, 0],\n",
    "                       '5.1':[0, 0, 0, 0, 0, 0, 0, 0],\n",
    "                       '5.2':[0, 0, 0, 0, 0, 0, 0, 0],\n",
    "                       '5.3':[0, 0, 0, 0, 0, 0, 0, 0],\n",
    "                       '5.4':[0, 0, 0, 0, 0, 0, 0, 0],\n",
    "                       '5.5':[0, 0, 0, 0, 0, 0, 0, 0],\n",
    "                       '5.6':[0, 0, 0, 0, 0, 0, 0, 0],\n",
    "                       '5.7':[0, 0, 0, 0, 0, 0, 0, 0],\n",
    "                       '5.8':[0, 0, 0, 0, 0, 0, 0, 0],\n",
    "                       '5.9':[0, 0, 0, 0, 0, 0, 0, 0],\n",
    "                       '6.0':[0, 0, 0, 0, 0, 0, 0, 0],\n",
    "                       '6.1':[0, 0, 0, 0, 0, 0, 0, 0],\n",
    "                       '6.2':[0, 0, 0, 0, 0, 0, 0, 0],\n",
    "                       '6.3':[0, 0, 0, 0, 0, 0, 0, 0],\n",
    "                       '6.4':[0, 0, 0, 0, 0, 0, 0, 0],\n",
    "                       '6.5':[0, 0, 0, 0, 0, 0, 0, 0],\n",
    "                       '6.6':[0, 0, 0, 0, 0, 0, 0, 0],\n",
    "                       '6.7':[0, 0, 0, 0, 0, 0, 0, 0],\n",
    "                       '6.8':[0, 0, 0, 0, 0, 0, 0, 0],\n",
    "                       '6.9':[0, 0, 0, 0, 0, 0, 0, 0],\n",
    "                       '7.0':[0, 0, 0, 0, 0, 0, 0, 0]})"
   ]
  },
  {
   "cell_type": "code",
   "execution_count": 98,
   "id": "b4122bef",
   "metadata": {},
   "outputs": [],
   "source": [
    "iv2 = pd.DataFrame({'3.0':[[], [], [], [], [], [], [], []],\n",
    "                   '3.1':[[], [], [], [], [], [], [], []],\n",
    "                   '3.2':[[], [], [], [], [], [], [], []],\n",
    "                   '3.3':[[], [], [], [], [], [], [], []],\n",
    "                   '3.4':[[], [], [], [], [], [], [], []],\n",
    "                   '3.5':[[], [], [], [], [], [], [], []],\n",
    "                   '3.6':[[], [], [], [], [], [], [], []],\n",
    "                   '3.7':[[], [], [], [], [], [], [], []],\n",
    "                   '3.8':[[], [], [], [], [], [], [], []],\n",
    "                   '3.9':[[], [], [], [], [], [], [], []],\n",
    "                   '4.0':[[], [], [], [], [], [], [], []],\n",
    "                   '4.1':[[], [], [], [], [], [], [], []],\n",
    "                   '4.2':[[], [], [], [], [], [], [], []],\n",
    "                   '4.3':[[], [], [], [], [], [], [], []],\n",
    "                   '4.4':[[], [], [], [], [], [], [], []],\n",
    "                   '4.5':[[], [], [], [], [], [], [], []],\n",
    "                   '4.6':[[], [], [], [], [], [], [], []],\n",
    "                   '4.7':[[], [], [], [], [], [], [], []],\n",
    "                   '4.8':[[], [], [], [], [], [], [], []],\n",
    "                   '4.9':[[], [], [], [], [], [], [], []],\n",
    "                   '5.0':[[], [], [], [], [], [], [], []],\n",
    "                   '5.1':[[], [], [], [], [], [], [], []],\n",
    "                   '5.2':[[], [], [], [], [], [], [], []],\n",
    "                   '5.3':[[], [], [], [], [], [], [], []],\n",
    "                   '5.4':[[], [], [], [], [], [], [], []],\n",
    "                   '5.5':[[], [], [], [], [], [], [], []],\n",
    "                   '5.6':[[], [], [], [], [], [], [], []],\n",
    "                   '5.7':[[], [], [], [], [], [], [], []],\n",
    "                   '5.8':[[], [], [], [], [], [], [], []],\n",
    "                   '5.9':[[], [], [], [], [], [], [], []],\n",
    "                   '6.0':[[], [], [], [], [], [], [], []],\n",
    "                   '6.1':[[], [], [], [], [], [], [], []],\n",
    "                   '6.2':[[], [], [], [], [], [], [], []],\n",
    "                   '6.3':[[], [], [], [], [], [], [], []],\n",
    "                   '6.4':[[], [], [], [], [], [], [], []],\n",
    "                   '6.5':[[], [], [], [], [], [], [], []],\n",
    "                   '6.6':[[], [], [], [], [], [], [], []],\n",
    "                   '6.7':[[], [], [], [], [], [], [], []],\n",
    "                   '6.8':[[], [], [], [], [], [], [], []],\n",
    "                   '6.9':[[], [], [], [], [], [], [], []],\n",
    "                   '7.0':[[], [], [], [], [], [], [], []]})"
   ]
  },
  {
   "cell_type": "code",
   "execution_count": 90,
   "id": "33d6c70a",
   "metadata": {},
   "outputs": [
    {
     "data": {
      "text/plain": [
       "6077"
      ]
     },
     "execution_count": 90,
     "metadata": {},
     "output_type": "execute_result"
    }
   ],
   "source": [
    "len(eq_with_data)"
   ]
  },
  {
   "cell_type": "code",
   "execution_count": 93,
   "id": "371ef04e",
   "metadata": {
    "scrolled": true
   },
   "outputs": [
    {
     "name": "stdout",
     "output_type": "stream",
     "text": [
      "0 out of 6077\n",
      "data read\n",
      "start for\n",
      "8.3060018694e-10\n",
      "5.23474235573e-09\n",
      "7.03519253033e-09\n",
      "8.3060018694e-10\n",
      "5.23474235573e-09\n",
      "7.03519253033e-09\n",
      "8.3060018694e-10\n",
      "5.23474235573e-09\n",
      "7.03519253033e-09\n",
      "1 out of 6077\n",
      "data read\n",
      "start for\n",
      "2 out of 6077\n",
      "data read\n",
      "start for\n",
      "3 out of 6077\n",
      "data read\n",
      "start for\n",
      "4 out of 6077\n",
      "data read\n",
      "start for\n",
      "1.60953753288e-11\n",
      "3.97607323966e-10\n",
      "6.93210636979e-10\n",
      "7.59375980206e-11\n",
      "9.60502766074e-11\n",
      "2.38862037752e-10\n",
      "2.96354019287e-11\n",
      "1.60953753288e-11\n",
      "3.97607323966e-10\n",
      "6.93210636979e-10\n",
      "7.59375980206e-11\n",
      "9.60502766074e-11\n",
      "2.38862037752e-10\n",
      "2.96354019287e-11\n",
      "1.60953753288e-11\n",
      "3.97607323966e-10\n",
      "6.93210636979e-10\n",
      "7.59375980206e-11\n",
      "9.60502766074e-11\n",
      "2.38862037752e-10\n",
      "2.96354019287e-11\n",
      "1.60953753288e-11\n",
      "3.97607323966e-10\n",
      "6.93210636979e-10\n",
      "7.59375980206e-11\n",
      "9.60502766074e-11\n",
      "2.38862037752e-10\n",
      "2.96354019287e-11\n",
      "1.60953753288e-11\n",
      "3.97607323966e-10\n",
      "6.93210636979e-10\n",
      "7.59375980206e-11\n",
      "9.60502766074e-11\n",
      "2.38862037752e-10\n",
      "2.96354019287e-11\n",
      "1.60953753288e-11\n",
      "3.97607323966e-10\n",
      "6.93210636979e-10\n",
      "7.59375980206e-11\n",
      "9.60502766074e-11\n",
      "2.38862037752e-10\n",
      "2.96354019287e-11\n",
      "1.60953753288e-11\n",
      "3.97607323966e-10\n",
      "6.93210636979e-10\n",
      "7.59375980206e-11\n",
      "9.60502766074e-11\n",
      "2.38862037752e-10\n",
      "2.96354019287e-11\n",
      "1.60953753288e-11\n",
      "3.97607323966e-10\n",
      "6.93210636979e-10\n",
      "7.59375980206e-11\n",
      "9.60502766074e-11\n",
      "2.38862037752e-10\n",
      "2.96354019287e-11\n",
      "1.60953753288e-11\n",
      "3.97607323966e-10\n",
      "6.93210636979e-10\n",
      "7.59375980206e-11\n",
      "9.60502766074e-11\n",
      "2.38862037752e-10\n",
      "2.96354019287e-11\n",
      "1.60953753288e-11\n",
      "3.97607323966e-10\n",
      "6.93210636979e-10\n",
      "7.59375980206e-11\n",
      "9.60502766074e-11\n",
      "2.38862037752e-10\n",
      "2.96354019287e-11\n",
      "1.60953753288e-11\n",
      "3.97607323966e-10\n",
      "6.93210636979e-10\n",
      "7.59375980206e-11\n",
      "9.60502766074e-11\n",
      "2.38862037752e-10\n",
      "2.96354019287e-11\n",
      "1.60953753288e-11\n",
      "3.97607323966e-10\n",
      "6.93210636979e-10\n",
      "7.59375980206e-11\n",
      "9.60502766074e-11\n",
      "2.38862037752e-10\n",
      "2.96354019287e-11\n",
      "5 out of 6077\n",
      "data read\n",
      "start for\n",
      "6 out of 6077\n",
      "data read\n",
      "start for\n",
      "1.13751917611e-08\n",
      "7 out of 6077\n",
      "data read\n",
      "start for\n",
      "8 out of 6077\n",
      "data read\n",
      "start for\n",
      "2.15297662391e-09\n",
      "6.49099992882e-11\n",
      "3.99660498093e-09\n",
      "1.75739883209e-10\n",
      "1.35311710595e-08\n",
      "1.5347813265e-09\n",
      "7.58444165011e-11\n",
      "2.74919312273e-10\n",
      "9.59865652392e-11\n",
      "2.39570932211e-10\n",
      "2.15297662391e-09\n",
      "6.49099992882e-11\n",
      "3.99660498093e-09\n",
      "1.75739883209e-10\n",
      "1.35311710595e-08\n",
      "1.5347813265e-09\n",
      "7.58444165011e-11\n",
      "2.74919312273e-10\n",
      "9.59865652392e-11\n",
      "2.39570932211e-10\n",
      "2.15297662391e-09\n",
      "6.49099992882e-11\n",
      "3.99660498093e-09\n",
      "1.75739883209e-10\n",
      "1.35311710595e-08\n",
      "1.5347813265e-09\n",
      "7.58444165011e-11\n",
      "2.74919312273e-10\n",
      "9.59865652392e-11\n",
      "2.39570932211e-10\n",
      "2.15297662391e-09\n",
      "6.49099992882e-11\n",
      "3.99660498093e-09\n",
      "1.75739883209e-10\n",
      "1.35311710595e-08\n",
      "1.5347813265e-09\n",
      "7.58444165011e-11\n",
      "2.74919312273e-10\n",
      "9.59865652392e-11\n",
      "2.39570932211e-10\n",
      "2.15297662391e-09\n",
      "6.49099992882e-11\n",
      "3.99660498093e-09\n",
      "1.75739883209e-10\n",
      "1.35311710595e-08\n",
      "1.5347813265e-09\n",
      "7.58444165011e-11\n",
      "2.74919312273e-10\n",
      "9.59865652392e-11\n",
      "2.39570932211e-10\n",
      "2.15297662391e-09\n",
      "6.49099992882e-11\n",
      "3.99660498093e-09\n",
      "1.75739883209e-10\n",
      "1.35311710595e-08\n",
      "1.5347813265e-09\n",
      "7.58444165011e-11\n",
      "2.74919312273e-10\n",
      "9.59865652392e-11\n",
      "2.39570932211e-10\n",
      "2.15297662391e-09\n",
      "6.49099992882e-11\n",
      "3.99660498093e-09\n",
      "1.75739883209e-10\n",
      "1.35311710595e-08\n",
      "1.5347813265e-09\n",
      "7.58444165011e-11\n",
      "2.74919312273e-10\n",
      "9.59865652392e-11\n",
      "2.39570932211e-10\n",
      "2.15297662391e-09\n",
      "6.49099992882e-11\n",
      "3.99660498093e-09\n",
      "1.75739883209e-10\n",
      "1.35311710595e-08\n",
      "1.5347813265e-09\n",
      "7.58444165011e-11\n",
      "2.74919312273e-10\n",
      "9.59865652392e-11\n",
      "2.39570932211e-10\n",
      "2.15297662391e-09\n",
      "6.49099992882e-11\n",
      "3.99660498093e-09\n",
      "1.75739883209e-10\n",
      "1.35311710595e-08\n",
      "1.5347813265e-09\n",
      "7.58444165011e-11\n",
      "2.74919312273e-10\n",
      "9.59865652392e-11\n",
      "2.39570932211e-10\n",
      "2.15297662391e-09\n",
      "6.49099992882e-11\n",
      "3.99660498093e-09\n",
      "1.75739883209e-10\n",
      "1.35311710595e-08\n",
      "1.5347813265e-09\n",
      "7.58444165011e-11\n",
      "2.74919312273e-10\n",
      "9.59865652392e-11\n",
      "2.39570932211e-10\n",
      "2.15297662391e-09\n",
      "6.49099992882e-11\n",
      "3.99660498093e-09\n",
      "1.75739883209e-10\n",
      "1.35311710595e-08\n",
      "1.5347813265e-09\n",
      "7.58444165011e-11\n",
      "2.74919312273e-10\n",
      "9.59865652392e-11\n",
      "2.39570932211e-10\n",
      "2.15297662391e-09\n",
      "6.49099992882e-11\n",
      "3.99660498093e-09\n",
      "1.75739883209e-10\n",
      "1.35311710595e-08\n",
      "1.5347813265e-09\n",
      "7.58444165011e-11\n",
      "2.74919312273e-10\n",
      "9.59865652392e-11\n",
      "2.39570932211e-10\n",
      "9 out of 6077\n",
      "data read\n",
      "start for\n",
      "10 out of 6077\n",
      "data read\n",
      "start for\n",
      "1.39792031142e-12\n",
      "6.88447831487e-11\n",
      "3.34744301074e-12\n",
      "1.2894468404e-11\n",
      "6.65455951842e-11\n",
      "8.16238489735e-12\n",
      "3.5182453078e-09\n",
      "6.36962917685e-11\n",
      "9.81266971502e-11\n",
      "4.07125834049e-11\n",
      "1.39792031142e-12\n",
      "6.88447831487e-11\n",
      "3.34744301074e-12\n",
      "1.2894468404e-11\n",
      "6.65455951842e-11\n",
      "8.16238489735e-12\n",
      "3.5182453078e-09\n",
      "6.36962917685e-11\n",
      "9.81266971502e-11\n",
      "4.07125834049e-11\n",
      "1.39792031142e-12\n",
      "6.88447831487e-11\n",
      "3.34744301074e-12\n",
      "1.2894468404e-11\n",
      "6.65455951842e-11\n",
      "8.16238489735e-12\n",
      "3.5182453078e-09\n",
      "6.36962917685e-11\n",
      "9.81266971502e-11\n",
      "4.07125834049e-11\n",
      "1.39792031142e-12\n",
      "6.88447831487e-11\n",
      "3.34744301074e-12\n",
      "1.2894468404e-11\n",
      "6.65455951842e-11\n",
      "8.16238489735e-12\n",
      "3.5182453078e-09\n",
      "6.36962917685e-11\n",
      "9.81266971502e-11\n",
      "4.07125834049e-11\n",
      "1.39792031142e-12\n",
      "6.88447831487e-11\n",
      "3.34744301074e-12\n",
      "1.2894468404e-11\n",
      "6.65455951842e-11\n",
      "8.16238489735e-12\n",
      "3.5182453078e-09\n",
      "6.36962917685e-11\n",
      "9.81266971502e-11\n",
      "4.07125834049e-11\n",
      "1.39792031142e-12\n",
      "6.88447831487e-11\n",
      "3.34744301074e-12\n",
      "1.2894468404e-11\n",
      "6.65455951842e-11\n",
      "8.16238489735e-12\n",
      "3.5182453078e-09\n",
      "6.36962917685e-11\n",
      "9.81266971502e-11\n",
      "4.07125834049e-11\n",
      "1.39792031142e-12\n",
      "6.88447831487e-11\n",
      "3.34744301074e-12\n",
      "1.2894468404e-11\n",
      "6.65455951842e-11\n",
      "8.16238489735e-12\n",
      "3.5182453078e-09\n",
      "6.36962917685e-11\n",
      "9.81266971502e-11\n",
      "4.07125834049e-11\n",
      "1.39792031142e-12\n",
      "6.88447831487e-11\n",
      "3.34744301074e-12\n",
      "1.2894468404e-11\n",
      "6.65455951842e-11\n",
      "8.16238489735e-12\n",
      "3.5182453078e-09\n",
      "6.36962917685e-11\n",
      "9.81266971502e-11\n",
      "4.07125834049e-11\n",
      "1.39792031142e-12\n",
      "6.88447831487e-11\n",
      "3.34744301074e-12\n",
      "1.2894468404e-11\n",
      "6.65455951842e-11\n",
      "8.16238489735e-12\n",
      "3.5182453078e-09\n",
      "6.36962917685e-11\n",
      "9.81266971502e-11\n",
      "4.07125834049e-11\n",
      "1.39792031142e-12\n",
      "6.88447831487e-11\n",
      "3.34744301074e-12\n",
      "1.2894468404e-11\n",
      "6.65455951842e-11\n",
      "8.16238489735e-12\n",
      "3.5182453078e-09\n",
      "6.36962917685e-11\n",
      "9.81266971502e-11\n",
      "4.07125834049e-11\n",
      "1.39792031142e-12\n",
      "6.88447831487e-11\n",
      "3.34744301074e-12\n",
      "1.2894468404e-11\n",
      "6.65455951842e-11\n",
      "8.16238489735e-12\n",
      "3.5182453078e-09\n",
      "6.36962917685e-11\n",
      "9.81266971502e-11\n",
      "4.07125834049e-11\n",
      "1.39792031142e-12\n",
      "6.88447831487e-11\n",
      "3.34744301074e-12\n",
      "1.2894468404e-11\n",
      "6.65455951842e-11\n",
      "8.16238489735e-12\n",
      "3.5182453078e-09\n",
      "6.36962917685e-11\n",
      "9.81266971502e-11\n",
      "4.07125834049e-11\n",
      "1.39792031142e-12\n",
      "6.88447831487e-11\n",
      "3.34744301074e-12\n",
      "1.2894468404e-11\n",
      "6.65455951842e-11\n",
      "8.16238489735e-12\n",
      "3.5182453078e-09\n",
      "6.36962917685e-11\n",
      "9.81266971502e-11\n",
      "4.07125834049e-11\n",
      "1.39792031142e-12\n",
      "6.88447831487e-11\n",
      "3.34744301074e-12\n",
      "1.2894468404e-11\n",
      "6.65455951842e-11\n",
      "8.16238489735e-12\n",
      "3.5182453078e-09\n",
      "6.36962917685e-11\n",
      "9.81266971502e-11\n",
      "4.07125834049e-11\n",
      "1.39792031142e-12\n",
      "6.88447831487e-11\n",
      "3.34744301074e-12\n",
      "1.2894468404e-11\n",
      "6.65455951842e-11\n",
      "8.16238489735e-12\n",
      "3.5182453078e-09\n",
      "6.36962917685e-11\n",
      "9.81266971502e-11\n",
      "4.07125834049e-11\n",
      "1.39792031142e-12\n",
      "6.88447831487e-11\n",
      "3.34744301074e-12\n",
      "1.2894468404e-11\n",
      "6.65455951842e-11\n",
      "8.16238489735e-12\n",
      "3.5182453078e-09\n",
      "6.36962917685e-11\n",
      "9.81266971502e-11\n",
      "4.07125834049e-11\n",
      "11 out of 6077\n",
      "data read\n",
      "start for\n",
      "2.86612693336e-09\n",
      "12 out of 6077\n",
      "data read\n",
      "start for\n",
      "4.83365914158e-10\n",
      "13 out of 6077\n",
      "data read\n",
      "start for\n",
      "14 out of 6077\n",
      "data read\n",
      "start for\n"
     ]
    }
   ],
   "source": [
    "eq_no = 0\n",
    "list_mag = []\n",
    "list_dist = []\n",
    "list_iv2 = []\n",
    "for eq_name in eq_with_data[0:15]:\n",
    "    print(str(eq_no) + ' out of '+ str(len(eq_with_data)))# find matching cat event:\n",
    "    eq_no += 1\n",
    "    for event in cat_with_data:\n",
    "        if eq_name == util.catEventToFileName(event):\n",
    "            cat_entry = event\n",
    "            break\n",
    "\n",
    "    eq_lat= cat_entry.origins[0].latitude\n",
    "    eq_long = cat_entry.origins[0].longitude\n",
    "    eq_mag = cat_entry.magnitudes[0].mag\n",
    "    eq_mag_str = \"{:.1f}\".format(eq_mag)\n",
    "\n",
    "    data = obspy.read(root+eq_name+'/data/*/*')\n",
    "    data.interpolate(100, 'lanczos', a = 20)\n",
    "    inv = obspy.read_inventory(root+eq_name+'/station_xml_files/*')\n",
    "    print('data read')\n",
    "    with open(root+eq_name+'/picks.pkl', 'rb') as f:\n",
    "        picks = pickle.load(f)\n",
    "    n_records = 0\n",
    "    sampling_rate = 100 # get this from tr.stats.sampling_rate\n",
    "    # sensor_types = self.data_stats['sensor_types'] for automated OOP\n",
    "    print('start for')\n",
    "    for i in range(0, len(data)):  # iterate through all traces\n",
    "        tr_name = data[i].stats.network+'.'+data[i].stats.station+'.'+data[i].stats.location\n",
    "        if data[i].stats.channel[2] == 'Z' and tr_name in picks.keys():  # only use vertical components at stations with a pick\n",
    "            from obspy import UTCDateTime\n",
    "            IV2 = []\n",
    "            count = 0\n",
    "            for i in range(0, len(data)):\n",
    "                if data[i].stats.channel[2] == 'Z':\n",
    "                    tr = data[i].copy()\n",
    "                    station = tr.stats.station\n",
    "                    station = station.ljust(4)\n",
    "                    sta_lat = inv.select(network = tr.stats.network, station = tr.stats.station)[0][0].latitude\n",
    "                    sta_long = inv.select(network = tr.stats.network, station = tr.stats.station)[0][0].longitude\n",
    "                    distance = np.sqrt((eq_lat - sta_lat)**2 + (eq_long - sta_long)**2) * 110\n",
    "                    tr_name = tr.stats.network+'.'+tr.stats.station+'.'+tr.stats.location\n",
    "                    \n",
    "                    if tr_name in picks.keys() and distance < 200:\n",
    "                        # load saved parameters\n",
    "                        tr.remove_response(inv)\n",
    "                        pick = picks[tr_name]\n",
    "                        pick = UTCDateTime(picks[tr_name])\n",
    "                        pick_samples = int(round((UTCDateTime(pick) - tr.stats.starttime)*tr.stats.sampling_rate, 0))                            \n",
    "                        \n",
    "                        snr = max(abs(tr.data[pick_samples:500+pick_samples]))/max(abs(tr.data[pick_samples-700:pick_samples-200]))\n",
    "                        sampling_rate = tr.stats.sampling_rate\n",
    "                        if snr>10:\n",
    "                            start = int((pick - tr.stats.starttime)*sampling_rate)\n",
    "                            end = int(start + 3 * sampling_rate)\n",
    "                            vel = tr.copy()\n",
    "                            v2 = vel.copy()\n",
    "                            v2.data = vel.data[start:end]**2\n",
    "                            iv2_this = v2.integrate()\n",
    "                            print(iv2_this.data[-1])\n",
    "                            current = iv2[eq_mag_str][int(distance//25)]\n",
    "                            current.append(iv2_this.data[-1])\n",
    "                            iv2[eq_mag_str][int(distance//25)] = current\n",
    "                            list_iv2.append(iv2_this.data[-1])\n",
    "                            list_mag.append(eq_mag)\n",
    "                            list_dist.append(distance)\n",
    "                            counts[eq_mag_str][int(distance//25)] = counts[str(np.floor(eq_mag))][int(distance//25)]  + 1\n",
    "    if eq_no%100 == 0:\n",
    "        iv2.to_pickle(root+'iv2_dataframe.pkl')\n",
    "            "
   ]
  },
  {
   "cell_type": "code",
   "execution_count": 9,
   "id": "29dd389e",
   "metadata": {},
   "outputs": [
    {
     "name": "stdout",
     "output_type": "stream",
     "text": [
      "0 out of 1026\n",
      "1 out of 1026\n",
      "2 out of 1026\n",
      "3 out of 1026\n",
      "4 out of 1026\n",
      "5 out of 1026\n",
      "6 out of 1026\n"
     ]
    },
    {
     "name": "stderr",
     "output_type": "stream",
     "text": [
      "/home/earthquakes1/software/Mageia8/anaconda3/lib/python3.9/site-packages/obspy/io/stationxml/core.py:96: UserWarning: The StationXML file has version 1, ObsPy can read versions (1.0, 1.1). Proceed with caution.\n",
      "  warnings.warn(\"The StationXML file has version %s, ObsPy can \"\n",
      "/home/earthquakes1/software/Mageia8/anaconda3/lib/python3.9/site-packages/obspy/io/stationxml/core.py:96: UserWarning: The StationXML file has version 1, ObsPy can read versions (1.0, 1.1). Proceed with caution.\n",
      "  warnings.warn(\"The StationXML file has version %s, ObsPy can \"\n"
     ]
    },
    {
     "name": "stdout",
     "output_type": "stream",
     "text": [
      "7 out of 1026\n",
      "8 out of 1026\n",
      "9 out of 1026\n",
      "10 out of 1026\n",
      "11 out of 1026\n",
      "12 out of 1026\n"
     ]
    },
    {
     "name": "stderr",
     "output_type": "stream",
     "text": [
      "/home/earthquakes1/software/Mageia8/anaconda3/lib/python3.9/site-packages/obspy/io/stationxml/core.py:96: UserWarning: The StationXML file has version 1, ObsPy can read versions (1.0, 1.1). Proceed with caution.\n",
      "  warnings.warn(\"The StationXML file has version %s, ObsPy can \"\n",
      "/home/earthquakes1/software/Mageia8/anaconda3/lib/python3.9/site-packages/obspy/io/stationxml/core.py:96: UserWarning: The StationXML file has version 1, ObsPy can read versions (1.0, 1.1). Proceed with caution.\n",
      "  warnings.warn(\"The StationXML file has version %s, ObsPy can \"\n"
     ]
    },
    {
     "name": "stdout",
     "output_type": "stream",
     "text": [
      "13 out of 1026\n",
      "14 out of 1026\n",
      "15 out of 1026\n",
      "16 out of 1026\n",
      "17 out of 1026\n",
      "18 out of 1026\n",
      "19 out of 1026\n"
     ]
    },
    {
     "name": "stderr",
     "output_type": "stream",
     "text": [
      "/home/earthquakes1/software/Mageia8/anaconda3/lib/python3.9/site-packages/obspy/io/stationxml/core.py:96: UserWarning: The StationXML file has version 1, ObsPy can read versions (1.0, 1.1). Proceed with caution.\n",
      "  warnings.warn(\"The StationXML file has version %s, ObsPy can \"\n",
      "/home/earthquakes1/software/Mageia8/anaconda3/lib/python3.9/site-packages/obspy/io/stationxml/core.py:96: UserWarning: The StationXML file has version 1, ObsPy can read versions (1.0, 1.1). Proceed with caution.\n",
      "  warnings.warn(\"The StationXML file has version %s, ObsPy can \"\n"
     ]
    },
    {
     "name": "stdout",
     "output_type": "stream",
     "text": [
      "20 out of 1026\n"
     ]
    },
    {
     "name": "stderr",
     "output_type": "stream",
     "text": [
      "/home/earthquakes1/software/Mageia8/anaconda3/lib/python3.9/site-packages/obspy/io/stationxml/core.py:96: UserWarning: The StationXML file has version 1, ObsPy can read versions (1.0, 1.1). Proceed with caution.\n",
      "  warnings.warn(\"The StationXML file has version %s, ObsPy can \"\n",
      "/home/earthquakes1/software/Mageia8/anaconda3/lib/python3.9/site-packages/obspy/io/stationxml/core.py:96: UserWarning: The StationXML file has version 1, ObsPy can read versions (1.0, 1.1). Proceed with caution.\n",
      "  warnings.warn(\"The StationXML file has version %s, ObsPy can \"\n"
     ]
    },
    {
     "name": "stdout",
     "output_type": "stream",
     "text": [
      "21 out of 1026\n",
      "22 out of 1026\n"
     ]
    },
    {
     "name": "stderr",
     "output_type": "stream",
     "text": [
      "/home/earthquakes1/software/Mageia8/anaconda3/lib/python3.9/site-packages/obspy/io/stationxml/core.py:96: UserWarning: The StationXML file has version 1, ObsPy can read versions (1.0, 1.1). Proceed with caution.\n",
      "  warnings.warn(\"The StationXML file has version %s, ObsPy can \"\n",
      "/home/earthquakes1/software/Mageia8/anaconda3/lib/python3.9/site-packages/obspy/io/stationxml/core.py:96: UserWarning: The StationXML file has version 1, ObsPy can read versions (1.0, 1.1). Proceed with caution.\n",
      "  warnings.warn(\"The StationXML file has version %s, ObsPy can \"\n"
     ]
    },
    {
     "name": "stdout",
     "output_type": "stream",
     "text": [
      "23 out of 1026\n",
      "24 out of 1026\n",
      "25 out of 1026\n"
     ]
    },
    {
     "name": "stderr",
     "output_type": "stream",
     "text": [
      "/home/earthquakes1/software/Mageia8/anaconda3/lib/python3.9/site-packages/obspy/io/stationxml/core.py:96: UserWarning: The StationXML file has version 1, ObsPy can read versions (1.0, 1.1). Proceed with caution.\n",
      "  warnings.warn(\"The StationXML file has version %s, ObsPy can \"\n",
      "/home/earthquakes1/software/Mageia8/anaconda3/lib/python3.9/site-packages/obspy/io/stationxml/core.py:96: UserWarning: The StationXML file has version 1, ObsPy can read versions (1.0, 1.1). Proceed with caution.\n",
      "  warnings.warn(\"The StationXML file has version %s, ObsPy can \"\n"
     ]
    },
    {
     "name": "stdout",
     "output_type": "stream",
     "text": [
      "26 out of 1026\n",
      "27 out of 1026\n",
      "28 out of 1026\n",
      "29 out of 1026\n",
      "30 out of 1026\n",
      "31 out of 1026\n",
      "32 out of 1026\n",
      "33 out of 1026\n"
     ]
    },
    {
     "name": "stderr",
     "output_type": "stream",
     "text": [
      "/home/earthquakes1/software/Mageia8/anaconda3/lib/python3.9/site-packages/obspy/io/stationxml/core.py:96: UserWarning: The StationXML file has version 1, ObsPy can read versions (1.0, 1.1). Proceed with caution.\n",
      "  warnings.warn(\"The StationXML file has version %s, ObsPy can \"\n",
      "/home/earthquakes1/software/Mageia8/anaconda3/lib/python3.9/site-packages/obspy/io/stationxml/core.py:96: UserWarning: The StationXML file has version 1, ObsPy can read versions (1.0, 1.1). Proceed with caution.\n",
      "  warnings.warn(\"The StationXML file has version %s, ObsPy can \"\n"
     ]
    },
    {
     "name": "stdout",
     "output_type": "stream",
     "text": [
      "34 out of 1026\n",
      "35 out of 1026\n",
      "36 out of 1026\n"
     ]
    },
    {
     "name": "stderr",
     "output_type": "stream",
     "text": [
      "/home/earthquakes1/software/Mageia8/anaconda3/lib/python3.9/site-packages/obspy/io/stationxml/core.py:96: UserWarning: The StationXML file has version 1, ObsPy can read versions (1.0, 1.1). Proceed with caution.\n",
      "  warnings.warn(\"The StationXML file has version %s, ObsPy can \"\n"
     ]
    },
    {
     "name": "stdout",
     "output_type": "stream",
     "text": [
      "37 out of 1026\n",
      "38 out of 1026\n",
      "39 out of 1026\n"
     ]
    },
    {
     "name": "stderr",
     "output_type": "stream",
     "text": [
      "/home/earthquakes1/software/Mageia8/anaconda3/lib/python3.9/site-packages/obspy/io/stationxml/core.py:96: UserWarning: The StationXML file has version 1, ObsPy can read versions (1.0, 1.1). Proceed with caution.\n",
      "  warnings.warn(\"The StationXML file has version %s, ObsPy can \"\n",
      "/home/earthquakes1/software/Mageia8/anaconda3/lib/python3.9/site-packages/obspy/io/stationxml/core.py:96: UserWarning: The StationXML file has version 1, ObsPy can read versions (1.0, 1.1). Proceed with caution.\n",
      "  warnings.warn(\"The StationXML file has version %s, ObsPy can \"\n"
     ]
    },
    {
     "name": "stdout",
     "output_type": "stream",
     "text": [
      "40 out of 1026\n",
      "41 out of 1026\n",
      "42 out of 1026\n"
     ]
    },
    {
     "name": "stderr",
     "output_type": "stream",
     "text": [
      "/home/earthquakes1/software/Mageia8/anaconda3/lib/python3.9/site-packages/obspy/io/stationxml/core.py:96: UserWarning: The StationXML file has version 1, ObsPy can read versions (1.0, 1.1). Proceed with caution.\n",
      "  warnings.warn(\"The StationXML file has version %s, ObsPy can \"\n",
      "/home/earthquakes1/software/Mageia8/anaconda3/lib/python3.9/site-packages/obspy/io/stationxml/core.py:96: UserWarning: The StationXML file has version 1, ObsPy can read versions (1.0, 1.1). Proceed with caution.\n",
      "  warnings.warn(\"The StationXML file has version %s, ObsPy can \"\n"
     ]
    },
    {
     "name": "stdout",
     "output_type": "stream",
     "text": [
      "43 out of 1026\n",
      "44 out of 1026\n"
     ]
    },
    {
     "name": "stderr",
     "output_type": "stream",
     "text": [
      "/home/earthquakes1/software/Mageia8/anaconda3/lib/python3.9/site-packages/obspy/io/stationxml/core.py:96: UserWarning: The StationXML file has version 1, ObsPy can read versions (1.0, 1.1). Proceed with caution.\n",
      "  warnings.warn(\"The StationXML file has version %s, ObsPy can \"\n",
      "/home/earthquakes1/software/Mageia8/anaconda3/lib/python3.9/site-packages/obspy/io/stationxml/core.py:96: UserWarning: The StationXML file has version 1, ObsPy can read versions (1.0, 1.1). Proceed with caution.\n",
      "  warnings.warn(\"The StationXML file has version %s, ObsPy can \"\n"
     ]
    },
    {
     "name": "stdout",
     "output_type": "stream",
     "text": [
      "45 out of 1026\n",
      "46 out of 1026\n",
      "47 out of 1026\n",
      "48 out of 1026\n",
      "49 out of 1026\n",
      "50 out of 1026\n",
      "51 out of 1026\n",
      "52 out of 1026\n",
      "53 out of 1026\n",
      "54 out of 1026\n"
     ]
    },
    {
     "name": "stderr",
     "output_type": "stream",
     "text": [
      "/home/earthquakes1/software/Mageia8/anaconda3/lib/python3.9/site-packages/obspy/io/stationxml/core.py:96: UserWarning: The StationXML file has version 1, ObsPy can read versions (1.0, 1.1). Proceed with caution.\n",
      "  warnings.warn(\"The StationXML file has version %s, ObsPy can \"\n",
      "/home/earthquakes1/software/Mageia8/anaconda3/lib/python3.9/site-packages/obspy/io/stationxml/core.py:96: UserWarning: The StationXML file has version 1, ObsPy can read versions (1.0, 1.1). Proceed with caution.\n",
      "  warnings.warn(\"The StationXML file has version %s, ObsPy can \"\n"
     ]
    },
    {
     "name": "stdout",
     "output_type": "stream",
     "text": [
      "55 out of 1026\n"
     ]
    },
    {
     "name": "stderr",
     "output_type": "stream",
     "text": [
      "/home/earthquakes1/software/Mageia8/anaconda3/lib/python3.9/site-packages/obspy/io/stationxml/core.py:96: UserWarning: The StationXML file has version 1, ObsPy can read versions (1.0, 1.1). Proceed with caution.\n",
      "  warnings.warn(\"The StationXML file has version %s, ObsPy can \"\n",
      "/home/earthquakes1/software/Mageia8/anaconda3/lib/python3.9/site-packages/obspy/io/stationxml/core.py:96: UserWarning: The StationXML file has version 1, ObsPy can read versions (1.0, 1.1). Proceed with caution.\n",
      "  warnings.warn(\"The StationXML file has version %s, ObsPy can \"\n"
     ]
    },
    {
     "name": "stdout",
     "output_type": "stream",
     "text": [
      "56 out of 1026\n",
      "57 out of 1026\n"
     ]
    },
    {
     "name": "stderr",
     "output_type": "stream",
     "text": [
      "/home/earthquakes1/software/Mageia8/anaconda3/lib/python3.9/site-packages/obspy/io/stationxml/core.py:96: UserWarning: The StationXML file has version 1, ObsPy can read versions (1.0, 1.1). Proceed with caution.\n",
      "  warnings.warn(\"The StationXML file has version %s, ObsPy can \"\n",
      "/home/earthquakes1/software/Mageia8/anaconda3/lib/python3.9/site-packages/obspy/io/stationxml/core.py:96: UserWarning: The StationXML file has version 1, ObsPy can read versions (1.0, 1.1). Proceed with caution.\n",
      "  warnings.warn(\"The StationXML file has version %s, ObsPy can \"\n"
     ]
    },
    {
     "name": "stdout",
     "output_type": "stream",
     "text": [
      "58 out of 1026\n",
      "59 out of 1026\n",
      "60 out of 1026\n",
      "61 out of 1026\n"
     ]
    },
    {
     "name": "stderr",
     "output_type": "stream",
     "text": [
      "/home/earthquakes1/software/Mageia8/anaconda3/lib/python3.9/site-packages/obspy/io/stationxml/core.py:96: UserWarning: The StationXML file has version 1, ObsPy can read versions (1.0, 1.1). Proceed with caution.\n",
      "  warnings.warn(\"The StationXML file has version %s, ObsPy can \"\n",
      "/home/earthquakes1/software/Mageia8/anaconda3/lib/python3.9/site-packages/obspy/io/stationxml/core.py:96: UserWarning: The StationXML file has version 1, ObsPy can read versions (1.0, 1.1). Proceed with caution.\n",
      "  warnings.warn(\"The StationXML file has version %s, ObsPy can \"\n"
     ]
    },
    {
     "name": "stdout",
     "output_type": "stream",
     "text": [
      "62 out of 1026\n"
     ]
    },
    {
     "name": "stderr",
     "output_type": "stream",
     "text": [
      "/home/earthquakes1/software/Mageia8/anaconda3/lib/python3.9/site-packages/obspy/io/stationxml/core.py:96: UserWarning: The StationXML file has version 1, ObsPy can read versions (1.0, 1.1). Proceed with caution.\n",
      "  warnings.warn(\"The StationXML file has version %s, ObsPy can \"\n",
      "/home/earthquakes1/software/Mageia8/anaconda3/lib/python3.9/site-packages/obspy/io/stationxml/core.py:96: UserWarning: The StationXML file has version 1, ObsPy can read versions (1.0, 1.1). Proceed with caution.\n",
      "  warnings.warn(\"The StationXML file has version %s, ObsPy can \"\n"
     ]
    },
    {
     "name": "stdout",
     "output_type": "stream",
     "text": [
      "63 out of 1026\n",
      "64 out of 1026\n",
      "65 out of 1026\n",
      "66 out of 1026\n"
     ]
    },
    {
     "name": "stderr",
     "output_type": "stream",
     "text": [
      "/home/earthquakes1/software/Mageia8/anaconda3/lib/python3.9/site-packages/obspy/io/mseed/headers.py:828: InternalMSEEDWarning: CZ_MORC__HHE_D: Warning: Number of blockettes in fixed header (1) does not match the number parsed (2)\n",
      "  warnings.warn(_w, InternalMSEEDWarning)\n",
      "/home/earthquakes1/software/Mageia8/anaconda3/lib/python3.9/site-packages/obspy/io/mseed/headers.py:828: InternalMSEEDWarning: CZ_MORC__HHN_D: Warning: Number of blockettes in fixed header (1) does not match the number parsed (2)\n",
      "  warnings.warn(_w, InternalMSEEDWarning)\n",
      "/home/earthquakes1/software/Mageia8/anaconda3/lib/python3.9/site-packages/obspy/io/mseed/headers.py:828: InternalMSEEDWarning: CZ_MORC__HHZ_D: Warning: Number of blockettes in fixed header (1) does not match the number parsed (2)\n",
      "  warnings.warn(_w, InternalMSEEDWarning)\n",
      "/home/earthquakes1/software/Mageia8/anaconda3/lib/python3.9/site-packages/obspy/io/mseed/headers.py:828: InternalMSEEDWarning: GE_MORC__HHE_D: Warning: Number of blockettes in fixed header (1) does not match the number parsed (2)\n",
      "  warnings.warn(_w, InternalMSEEDWarning)\n",
      "/home/earthquakes1/software/Mageia8/anaconda3/lib/python3.9/site-packages/obspy/io/mseed/headers.py:828: InternalMSEEDWarning: GE_MORC__HHN_D: Warning: Number of blockettes in fixed header (1) does not match the number parsed (2)\n",
      "  warnings.warn(_w, InternalMSEEDWarning)\n",
      "/home/earthquakes1/software/Mageia8/anaconda3/lib/python3.9/site-packages/obspy/io/mseed/headers.py:828: InternalMSEEDWarning: GE_MORC__HHZ_D: Warning: Number of blockettes in fixed header (1) does not match the number parsed (2)\n",
      "  warnings.warn(_w, InternalMSEEDWarning)\n"
     ]
    },
    {
     "name": "stdout",
     "output_type": "stream",
     "text": [
      "67 out of 1026\n",
      "68 out of 1026\n"
     ]
    },
    {
     "name": "stderr",
     "output_type": "stream",
     "text": [
      "/home/earthquakes1/software/Mageia8/anaconda3/lib/python3.9/site-packages/obspy/io/stationxml/core.py:96: UserWarning: The StationXML file has version 1, ObsPy can read versions (1.0, 1.1). Proceed with caution.\n",
      "  warnings.warn(\"The StationXML file has version %s, ObsPy can \"\n",
      "/home/earthquakes1/software/Mageia8/anaconda3/lib/python3.9/site-packages/obspy/io/stationxml/core.py:96: UserWarning: The StationXML file has version 1, ObsPy can read versions (1.0, 1.1). Proceed with caution.\n",
      "  warnings.warn(\"The StationXML file has version %s, ObsPy can \"\n"
     ]
    },
    {
     "name": "stdout",
     "output_type": "stream",
     "text": [
      "69 out of 1026\n",
      "70 out of 1026\n",
      "71 out of 1026\n"
     ]
    },
    {
     "name": "stderr",
     "output_type": "stream",
     "text": [
      "/home/earthquakes1/software/Mageia8/anaconda3/lib/python3.9/site-packages/obspy/io/stationxml/core.py:96: UserWarning: The StationXML file has version 1, ObsPy can read versions (1.0, 1.1). Proceed with caution.\n",
      "  warnings.warn(\"The StationXML file has version %s, ObsPy can \"\n",
      "/home/earthquakes1/software/Mageia8/anaconda3/lib/python3.9/site-packages/obspy/io/stationxml/core.py:96: UserWarning: The StationXML file has version 1, ObsPy can read versions (1.0, 1.1). Proceed with caution.\n",
      "  warnings.warn(\"The StationXML file has version %s, ObsPy can \"\n"
     ]
    },
    {
     "name": "stdout",
     "output_type": "stream",
     "text": [
      "72 out of 1026\n",
      "73 out of 1026\n",
      "74 out of 1026\n",
      "75 out of 1026\n",
      "76 out of 1026\n",
      "77 out of 1026\n",
      "78 out of 1026\n",
      "79 out of 1026\n",
      "80 out of 1026\n",
      "81 out of 1026\n",
      "82 out of 1026\n"
     ]
    },
    {
     "name": "stderr",
     "output_type": "stream",
     "text": [
      "/home/earthquakes1/software/Mageia8/anaconda3/lib/python3.9/site-packages/obspy/io/stationxml/core.py:96: UserWarning: The StationXML file has version 1, ObsPy can read versions (1.0, 1.1). Proceed with caution.\n",
      "  warnings.warn(\"The StationXML file has version %s, ObsPy can \"\n",
      "/home/earthquakes1/software/Mageia8/anaconda3/lib/python3.9/site-packages/obspy/io/stationxml/core.py:96: UserWarning: The StationXML file has version 1, ObsPy can read versions (1.0, 1.1). Proceed with caution.\n",
      "  warnings.warn(\"The StationXML file has version %s, ObsPy can \"\n"
     ]
    },
    {
     "name": "stdout",
     "output_type": "stream",
     "text": [
      "83 out of 1026\n",
      "84 out of 1026\n",
      "85 out of 1026\n",
      "86 out of 1026\n",
      "87 out of 1026\n",
      "88 out of 1026\n",
      "89 out of 1026\n",
      "90 out of 1026\n",
      "91 out of 1026\n",
      "92 out of 1026\n",
      "93 out of 1026\n",
      "94 out of 1026\n",
      "95 out of 1026\n",
      "96 out of 1026\n"
     ]
    },
    {
     "name": "stderr",
     "output_type": "stream",
     "text": [
      "/home/earthquakes1/software/Mageia8/anaconda3/lib/python3.9/site-packages/obspy/io/stationxml/core.py:96: UserWarning: The StationXML file has version 1, ObsPy can read versions (1.0, 1.1). Proceed with caution.\n",
      "  warnings.warn(\"The StationXML file has version %s, ObsPy can \"\n",
      "/home/earthquakes1/software/Mageia8/anaconda3/lib/python3.9/site-packages/obspy/io/stationxml/core.py:96: UserWarning: The StationXML file has version 1, ObsPy can read versions (1.0, 1.1). Proceed with caution.\n",
      "  warnings.warn(\"The StationXML file has version %s, ObsPy can \"\n"
     ]
    },
    {
     "name": "stdout",
     "output_type": "stream",
     "text": [
      "97 out of 1026\n"
     ]
    },
    {
     "name": "stderr",
     "output_type": "stream",
     "text": [
      "/home/earthquakes1/software/Mageia8/anaconda3/lib/python3.9/site-packages/obspy/io/stationxml/core.py:96: UserWarning: The StationXML file has version 1, ObsPy can read versions (1.0, 1.1). Proceed with caution.\n",
      "  warnings.warn(\"The StationXML file has version %s, ObsPy can \"\n",
      "/home/earthquakes1/software/Mageia8/anaconda3/lib/python3.9/site-packages/obspy/io/stationxml/core.py:96: UserWarning: The StationXML file has version 1, ObsPy can read versions (1.0, 1.1). Proceed with caution.\n",
      "  warnings.warn(\"The StationXML file has version %s, ObsPy can \"\n"
     ]
    },
    {
     "name": "stdout",
     "output_type": "stream",
     "text": [
      "98 out of 1026\n",
      "99 out of 1026\n"
     ]
    }
   ],
   "source": [
    "d_hyp = []\n",
    "d_epi = []\n",
    "depths = []\n",
    "m = []\n",
    "eq_no = 0\n",
    "for eq_name in eq_with_data[0:100]:\n",
    "    print(str(eq_no) + ' out of '+ str(len(eq_with_data)))# find matching cat event:\n",
    "    eq_no += 1\n",
    "    for event in cat_with_data:\n",
    "        if eq_name == util.catEventToFileName(event):\n",
    "            cat_entry = event\n",
    "            break\n",
    "\n",
    "    eq_lat= cat_entry.origins[0].latitude\n",
    "    eq_long = cat_entry.origins[0].longitude\n",
    "    eq_mag = cat_entry.magnitudes[0].mag\n",
    "    eq_mag_str = \"{:.1f}\".format(eq_mag)\n",
    "\n",
    "    data = obspy.read(root+eq_name+'/data/*/*')\n",
    "    data.interpolate(100, 'lanczos', a = 20)\n",
    "    inv = obspy.read_inventory(root+eq_name+'/station_xml_files/*')\n",
    "    for i in range(0, len(data)):  # iterate through all traces\n",
    "        tr_name = data[i].stats.network+'.'+data[i].stats.station+'.'+data[i].stats.location    \n",
    "        tr = data[i].copy()\n",
    "        station = tr.stats.station\n",
    "        station = station.ljust(4)\n",
    "        sta_lat = inv.select(network = tr.stats.network, station = tr.stats.station)[0][0].latitude\n",
    "        sta_long = inv.select(network = tr.stats.network, station = tr.stats.station)[0][0].longitude\n",
    "        distance = np.sqrt((eq_lat - sta_lat)**2 + (eq_long - sta_long)**2) * 110\n",
    "        dist = util.calc_hypo_dist(cat_entry, tr, inv)\n",
    "        d_epi.append(distance)\n",
    "        d_hyp.append(dist)\n",
    "        depths.append(event.origins[0].depth/1000)\n",
    "        m.append(eq_mag)"
   ]
  },
  {
   "cell_type": "markdown",
   "id": "d6f19271",
   "metadata": {},
   "source": [
    "random stuff about the dataset"
   ]
  },
  {
   "cell_type": "code",
   "execution_count": 10,
   "id": "db1974b8",
   "metadata": {
    "scrolled": true
   },
   "outputs": [
    {
     "data": {
      "text/plain": [
       "[<matplotlib.lines.Line2D at 0x7f5f16ae6580>]"
      ]
     },
     "execution_count": 10,
     "metadata": {},
     "output_type": "execute_result"
    },
    {
     "data": {
      "image/png": "[encoded data removed]",
      "text/plain": [
       "<Figure size 432x288 with 2 Axes>"
      ]
     },
     "metadata": {
      "needs_background": "light"
     },
     "output_type": "display_data"
    }
   ],
   "source": [
    "fig, ax = plt.subplots(1,1)\n",
    "sc = ax.scatter(d_hyp, d_epi, c = m, cmap = 'viridis')\n",
    "cax = fig.add_axes([0.13, 0.777, 0.18, 0.02]) # x0, y0, width, height\n",
    "fig.colorbar(sc, cax=cax, orientation='horizontal')\n",
    "ax.plot([0, 1000],[0,1000])"
   ]
  },
  {
   "cell_type": "code",
   "execution_count": null,
   "id": "6f0025d2",
   "metadata": {},
   "outputs": [],
   "source": []
  },
  {
   "cell_type": "code",
   "execution_count": 11,
   "id": "874e4066",
   "metadata": {},
   "outputs": [
    {
     "data": {
      "text/plain": [
       "<matplotlib.collections.PathCollection at 0x7f5f16c16520>"
      ]
     },
     "execution_count": 11,
     "metadata": {},
     "output_type": "execute_result"
    },
    {
     "data": {
      "image/png": "[encoded data removed]",
      "text/plain": [
       "<Figure size 432x288 with 1 Axes>"
      ]
     },
     "metadata": {
      "needs_background": "light"
     },
     "output_type": "display_data"
    }
   ],
   "source": [
    "plt.scatter(d_epi,m)"
   ]
  },
  {
   "cell_type": "code",
   "execution_count": 12,
   "id": "eefa1cd8",
   "metadata": {},
   "outputs": [
    {
     "data": {
      "text/plain": [
       "121.67880064748387"
      ]
     },
     "execution_count": 12,
     "metadata": {},
     "output_type": "execute_result"
    }
   ],
   "source": [
    "dist"
   ]
  },
  {
   "cell_type": "code",
   "execution_count": 97,
   "id": "9f6bb386",
   "metadata": {},
   "outputs": [
    {
     "name": "stdout",
     "output_type": "stream",
     "text": [
      ".environ: No such file or directory.\n",
      "Collecting package metadata (current_repodata.json): done\n",
      "Solving environment: done\n",
      "\n",
      "## Package Plan ##\n",
      "\n",
      "  environment location: /home/earthquakes1/software/Mageia8/anaconda3\n",
      "\n",
      "  added / updated specs:\n",
      "    - cartopy\n",
      "\n",
      "\n",
      "The following packages will be downloaded:\n",
      "\n",
      "    package                    |            build\n",
      "    ---------------------------|-----------------\n",
      "    pyshp-2.2.0                |     pyhd8ed1ab_0          42 KB  conda-forge\n",
      "    ------------------------------------------------------------\n",
      "                                           Total:          42 KB\n",
      "\n",
      "The following NEW packages will be INSTALLED:\n",
      "\n",
      "  cartopy            pkgs/main/linux-64::cartopy-0.18.0-py39h0d9ca2b_1\n",
      "  geos               pkgs/main/linux-64::geos-3.8.0-he6710b0_0\n",
      "  proj               conda-forge/linux-64::proj-6.2.1-hc80f0dc_0\n",
      "  pyshp              conda-forge/noarch::pyshp-2.2.0-pyhd8ed1ab_0\n",
      "  shapely            pkgs/main/linux-64::shapely-1.7.1-py39h1728cc4_0\n",
      "\n",
      "\n",
      "\n",
      "Downloading and Extracting Packages\n",
      "pyshp-2.2.0          | 42 KB     | ##################################### | 100% \n",
      "Preparing transaction: done\n",
      "Verifying transaction: done\n",
      "Executing transaction: done\n",
      "\n",
      "Note: you may need to restart the kernel to use updated packages.\n"
     ]
    }
   ],
   "source": [
    "%conda install cartopy"
   ]
  },
  {
   "cell_type": "code",
   "execution_count": 98,
   "id": "f7d6f908",
   "metadata": {},
   "outputs": [
    {
     "ename": "ImportError",
     "evalue": "Neither Basemap nor Cartopy could be imported.",
     "output_type": "error",
     "traceback": [
      "\u001b[0;31m---------------------------------------------------------------------------\u001b[0m",
      "\u001b[0;31mImportError\u001b[0m                               Traceback (most recent call last)",
      "\u001b[0;32m/tmp/ipykernel_590844/2092469529.py\u001b[0m in \u001b[0;36m<module>\u001b[0;34m\u001b[0m\n\u001b[0;32m----> 1\u001b[0;31m \u001b[0mcat_with_data\u001b[0m\u001b[0;34m.\u001b[0m\u001b[0mplot\u001b[0m\u001b[0;34m(\u001b[0m\u001b[0;34m)\u001b[0m\u001b[0;34m\u001b[0m\u001b[0;34m\u001b[0m\u001b[0m\n\u001b[0m",
      "\u001b[0;32m/home/earthquakes1/software/Mageia8/anaconda3/lib/python3.9/site-packages/obspy/core/event/catalog.py\u001b[0m in \u001b[0;36mplot\u001b[0;34m(self, projection, resolution, continent_fill_color, water_fill_color, label, color, colormap, show, outfile, method, fig, title, **kwargs)\u001b[0m\n\u001b[1;32m    753\u001b[0m                 show=False, **kwargs)\n\u001b[1;32m    754\u001b[0m         \u001b[0;32melse\u001b[0m\u001b[0;34m:\u001b[0m\u001b[0;34m\u001b[0m\u001b[0;34m\u001b[0m\u001b[0m\n\u001b[0;32m--> 755\u001b[0;31m             fig = plot_map(method, lons, lats, size_plot, colors, labels,\n\u001b[0m\u001b[1;32m    756\u001b[0m                            \u001b[0mprojection\u001b[0m\u001b[0;34m=\u001b[0m\u001b[0mprojection\u001b[0m\u001b[0;34m,\u001b[0m \u001b[0mresolution\u001b[0m\u001b[0;34m=\u001b[0m\u001b[0mresolution\u001b[0m\u001b[0;34m,\u001b[0m\u001b[0;34m\u001b[0m\u001b[0;34m\u001b[0m\u001b[0m\n\u001b[1;32m    757\u001b[0m                            \u001b[0mcontinent_fill_color\u001b[0m\u001b[0;34m=\u001b[0m\u001b[0mcontinent_fill_color\u001b[0m\u001b[0;34m,\u001b[0m\u001b[0;34m\u001b[0m\u001b[0;34m\u001b[0m\u001b[0m\n",
      "\u001b[0;32m/home/earthquakes1/software/Mageia8/anaconda3/lib/python3.9/site-packages/obspy/imaging/maps.py\u001b[0m in \u001b[0;36mplot_map\u001b[0;34m(method, *args, **kwargs)\u001b[0m\n\u001b[1;32m    795\u001b[0m             \u001b[0;32mreturn\u001b[0m \u001b[0mplot_cartopy\u001b[0m\u001b[0;34m(\u001b[0m\u001b[0;34m*\u001b[0m\u001b[0margs\u001b[0m\u001b[0;34m,\u001b[0m \u001b[0;34m**\u001b[0m\u001b[0mkwargs\u001b[0m\u001b[0;34m)\u001b[0m\u001b[0;34m\u001b[0m\u001b[0;34m\u001b[0m\u001b[0m\n\u001b[1;32m    796\u001b[0m         \u001b[0;32melse\u001b[0m\u001b[0;34m:\u001b[0m\u001b[0;34m\u001b[0m\u001b[0;34m\u001b[0m\u001b[0m\n\u001b[0;32m--> 797\u001b[0;31m             \u001b[0;32mraise\u001b[0m \u001b[0mImportError\u001b[0m\u001b[0;34m(\u001b[0m\u001b[0;34m'Neither Basemap nor Cartopy could be imported.'\u001b[0m\u001b[0;34m)\u001b[0m\u001b[0;34m\u001b[0m\u001b[0;34m\u001b[0m\u001b[0m\n\u001b[0m\u001b[1;32m    798\u001b[0m     \u001b[0;32melif\u001b[0m \u001b[0mmethod\u001b[0m \u001b[0;34m==\u001b[0m \u001b[0;34m'basemap'\u001b[0m\u001b[0;34m:\u001b[0m\u001b[0;34m\u001b[0m\u001b[0;34m\u001b[0m\u001b[0m\n\u001b[1;32m    799\u001b[0m         \u001b[0;32mif\u001b[0m \u001b[0;32mnot\u001b[0m \u001b[0mHAS_BASEMAP\u001b[0m\u001b[0;34m:\u001b[0m\u001b[0;34m\u001b[0m\u001b[0;34m\u001b[0m\u001b[0m\n",
      "\u001b[0;31mImportError\u001b[0m: Neither Basemap nor Cartopy could be imported."
     ]
    }
   ],
   "source": [
    "cat_with_data.plot()"
   ]
  },
  {
   "cell_type": "code",
   "execution_count": 35,
   "id": "88dc77f2",
   "metadata": {},
   "outputs": [],
   "source": [
    "a = tr.copy()"
   ]
  },
  {
   "cell_type": "code",
   "execution_count": 37,
   "id": "9fd543b9",
   "metadata": {},
   "outputs": [
    {
     "data": {
      "text/plain": [
       "32770"
      ]
     },
     "execution_count": 37,
     "metadata": {},
     "output_type": "execute_result"
    }
   ],
   "source": [
    "start"
   ]
  },
  {
   "cell_type": "code",
   "execution_count": 38,
   "id": "a337ba67",
   "metadata": {},
   "outputs": [
    {
     "data": {
      "text/plain": [
       "33070"
      ]
     },
     "execution_count": 38,
     "metadata": {},
     "output_type": "execute_result"
    }
   ],
   "source": [
    "end"
   ]
  },
  {
   "cell_type": "code",
   "execution_count": 36,
   "id": "64d08e28",
   "metadata": {},
   "outputs": [
    {
     "data": {
      "text/plain": [
       "IQ.UNAP..HHZ | 2018-01-24T07:35:58.220000Z - 2018-01-24T07:35:58.220000Z | 100.0 Hz, 0 samples"
      ]
     },
     "execution_count": 36,
     "metadata": {},
     "output_type": "execute_result"
    }
   ],
   "source": [
    "a.trim(start, end)"
   ]
  },
  {
   "cell_type": "code",
   "execution_count": 39,
   "id": "63b5c9b5",
   "metadata": {},
   "outputs": [
    {
     "data": {
      "text/plain": [
       "IQ.UNAP..HHZ | 2018-01-24T07:40:58.210000Z - 2018-01-24T07:51:19.620000Z | 100.0 Hz, 62142 samples"
      ]
     },
     "execution_count": 39,
     "metadata": {},
     "output_type": "execute_result"
    }
   ],
   "source": [
    "tr"
   ]
  },
  {
   "cell_type": "code",
   "execution_count": 79,
   "id": "9a5ba53c",
   "metadata": {},
   "outputs": [
    {
     "data": {
      "text/plain": [
       "'6.9'"
      ]
     },
     "execution_count": 79,
     "metadata": {},
     "output_type": "execute_result"
    }
   ],
   "source": [
    "column"
   ]
  },
  {
   "cell_type": "code",
   "execution_count": 12,
   "id": "b4b3895f",
   "metadata": {},
   "outputs": [
    {
     "data": {
      "text/html": [
       "<div>\n",
       "<style scoped>\n",
       "    .dataframe tbody tr th:only-of-type {\n",
       "        vertical-align: middle;\n",
       "    }\n",
       "\n",
       "    .dataframe tbody tr th {\n",
       "        vertical-align: top;\n",
       "    }\n",
       "\n",
       "    .dataframe thead th {\n",
       "        text-align: right;\n",
       "    }\n",
       "</style>\n",
       "<table border=\"1\" class=\"dataframe\">\n",
       "  <thead>\n",
       "    <tr style=\"text-align: right;\">\n",
       "      <th></th>\n",
       "      <th>3.0</th>\n",
       "      <th>3.1</th>\n",
       "      <th>3.2</th>\n",
       "      <th>3.3</th>\n",
       "      <th>3.4</th>\n",
       "      <th>3.5</th>\n",
       "      <th>3.6</th>\n",
       "      <th>3.7</th>\n",
       "      <th>3.8</th>\n",
       "      <th>3.9</th>\n",
       "      <th>...</th>\n",
       "      <th>6.1</th>\n",
       "      <th>6.2</th>\n",
       "      <th>6.3</th>\n",
       "      <th>6.4</th>\n",
       "      <th>6.5</th>\n",
       "      <th>6.6</th>\n",
       "      <th>6.7</th>\n",
       "      <th>6.8</th>\n",
       "      <th>6.9</th>\n",
       "      <th>7.0</th>\n",
       "    </tr>\n",
       "  </thead>\n",
       "  <tbody>\n",
       "    <tr>\n",
       "      <th>0</th>\n",
       "      <td>[1.02561318421e-06, 1.0811357819e-09, 1.081135...</td>\n",
       "      <td>[6.0540553638e-11, 6.0540553638e-11, 6.0540553...</td>\n",
       "      <td>[3.5182453078e-09, 3.5182453078e-09, 3.5182453...</td>\n",
       "      <td>[2.5483963428e-11, 2.5483963428e-11, 2.5483963...</td>\n",
       "      <td>[4.55016788123e-10, 1.5254887422e-10, 4.550167...</td>\n",
       "      <td>[3.69201274969e-08, 7.56635200923e-08, 3.69201...</td>\n",
       "      <td>[1.77738906616e-08, 1.06413874342e-07, 1.77738...</td>\n",
       "      <td>[2.67919617508e-08, 7.95453610569e-08, 1.03860...</td>\n",
       "      <td>[1.12594271984e-07, 1.12594271984e-07, 1.12594...</td>\n",
       "      <td>[1.76359254723e-09, 1.27248269495e-08, 1.25056...</td>\n",
       "      <td>...</td>\n",
       "      <td>[]</td>\n",
       "      <td>[]</td>\n",
       "      <td>[]</td>\n",
       "      <td>[]</td>\n",
       "      <td>[]</td>\n",
       "      <td>[]</td>\n",
       "      <td>[]</td>\n",
       "      <td>[]</td>\n",
       "      <td>[]</td>\n",
       "      <td>[]</td>\n",
       "    </tr>\n",
       "    <tr>\n",
       "      <th>1</th>\n",
       "      <td>[6.93210636979e-10, 6.93210636979e-10, 6.93210...</td>\n",
       "      <td>[4.88428454879e-10, 7.55609073052e-11, 4.88428...</td>\n",
       "      <td>[3.21325255183e-10, 4.84750937657e-09, 9.23577...</td>\n",
       "      <td>[4.47924240517e-10, 2.17678024718e-09, 1.10213...</td>\n",
       "      <td>[3.10481153794e-09, 9.27798903215e-10, 3.77248...</td>\n",
       "      <td>[2.73995568349e-10, 2.0754354506e-10, 1.842772...</td>\n",
       "      <td>[1.00790403804e-09, 9.57811392504e-09, 1.92258...</td>\n",
       "      <td>[1.35311710595e-08, 1.35311710595e-08, 1.35311...</td>\n",
       "      <td>[8.52310114279e-10, 8.52310114279e-10, 4.93043...</td>\n",
       "      <td>[1.06186769745e-09, 6.28811519624e-09, 1.17668...</td>\n",
       "      <td>...</td>\n",
       "      <td>[]</td>\n",
       "      <td>[]</td>\n",
       "      <td>[]</td>\n",
       "      <td>[]</td>\n",
       "      <td>[]</td>\n",
       "      <td>[]</td>\n",
       "      <td>[]</td>\n",
       "      <td>[]</td>\n",
       "      <td>[]</td>\n",
       "      <td>[]</td>\n",
       "    </tr>\n",
       "    <tr>\n",
       "      <th>2</th>\n",
       "      <td>[7.59375980206e-11, 9.60502766074e-11, 7.59375...</td>\n",
       "      <td>[1.05079998906e-11, 3.26116503919e-11, 2.25515...</td>\n",
       "      <td>[6.88447831487e-11, 3.34744301074e-12, 8.16238...</td>\n",
       "      <td>[1.63739478272e-11, 1.67202934029e-11, 3.09544...</td>\n",
       "      <td>[8.97627057333e-09, 3.65248280503e-08, 8.97627...</td>\n",
       "      <td>[5.46490067823e-11, 2.29999619623e-10, 5.43680...</td>\n",
       "      <td>[1.56881541048e-09, 1.03217719632e-10, 1.42326...</td>\n",
       "      <td>[2.15297662391e-09, 2.15297662391e-09, 2.15297...</td>\n",
       "      <td>[2.66337704413e-08, 1.89844697882e-09, 2.66337...</td>\n",
       "      <td>[1.35074212196e-10, 1.08163028751e-09, 3.01772...</td>\n",
       "      <td>...</td>\n",
       "      <td>[]</td>\n",
       "      <td>[]</td>\n",
       "      <td>[]</td>\n",
       "      <td>[]</td>\n",
       "      <td>[]</td>\n",
       "      <td>[]</td>\n",
       "      <td>[]</td>\n",
       "      <td>[]</td>\n",
       "      <td>[]</td>\n",
       "      <td>[]</td>\n",
       "    </tr>\n",
       "    <tr>\n",
       "      <th>3</th>\n",
       "      <td>[2.38862037752e-10, 2.96354019287e-11, 2.38862...</td>\n",
       "      <td>[6.54092051222e-12, 5.30353367047e-11, 6.54092...</td>\n",
       "      <td>[1.2894468404e-11, 6.36962917685e-11, 9.812669...</td>\n",
       "      <td>[4.41886766657e-12, 4.41886766657e-12, 4.41886...</td>\n",
       "      <td>[5.87001503678e-11, 5.87001503678e-11, 5.87001...</td>\n",
       "      <td>[1.09605476324e-11, 1.09003530809e-10, 6.60536...</td>\n",
       "      <td>[4.55356217139e-11, 2.67926947587e-10, 1.06288...</td>\n",
       "      <td>[6.49099992882e-11, 3.99660498093e-09, 1.53478...</td>\n",
       "      <td>[5.78682812573e-10, 5.78682812573e-10, 7.78940...</td>\n",
       "      <td>[2.31552940008e-09, 2.31552940008e-09, 2.31552...</td>\n",
       "      <td>...</td>\n",
       "      <td>[]</td>\n",
       "      <td>[]</td>\n",
       "      <td>[]</td>\n",
       "      <td>[]</td>\n",
       "      <td>[]</td>\n",
       "      <td>[]</td>\n",
       "      <td>[4.66481449755e-05, 4.66481449755e-05]</td>\n",
       "      <td>[]</td>\n",
       "      <td>[]</td>\n",
       "      <td>[]</td>\n",
       "    </tr>\n",
       "    <tr>\n",
       "      <th>4</th>\n",
       "      <td>[1.15003189072e-10, 1.15003189072e-10, 1.15003...</td>\n",
       "      <td>[3.07837230962e-11, 7.55318193503e-11, 1.10906...</td>\n",
       "      <td>[1.39792031142e-12, 6.65455951842e-11, 1.39792...</td>\n",
       "      <td>[1.2191872649e-10, 7.57251952537e-10, 1.219187...</td>\n",
       "      <td>[6.62767195672e-10, 5.96280332787e-10, 6.62767...</td>\n",
       "      <td>[4.84127337803e-10, 6.67375383102e-12, 7.94654...</td>\n",
       "      <td>[1.66412160771e-11, 5.08781352549e-11, 5.62063...</td>\n",
       "      <td>[2.39570932211e-10, 2.39570932211e-10, 2.39570...</td>\n",
       "      <td>[3.03506748625e-09, 3.03506748625e-09, 3.03506...</td>\n",
       "      <td>[1.27651890541e-09, 1.27651890541e-09, 1.27651...</td>\n",
       "      <td>...</td>\n",
       "      <td>[]</td>\n",
       "      <td>[]</td>\n",
       "      <td>[]</td>\n",
       "      <td>[]</td>\n",
       "      <td>[]</td>\n",
       "      <td>[]</td>\n",
       "      <td>[]</td>\n",
       "      <td>[]</td>\n",
       "      <td>[]</td>\n",
       "      <td>[]</td>\n",
       "    </tr>\n",
       "    <tr>\n",
       "      <th>5</th>\n",
       "      <td>[5.33637819424e-12, 5.33637819424e-12, 5.33637...</td>\n",
       "      <td>[2.23724662347e-10, 3.11888953664e-10, 2.23724...</td>\n",
       "      <td>[6.69805305748e-11, 6.69805305748e-11, 6.69805...</td>\n",
       "      <td>[1.21001613373e-09, 1.70683267916e-10, 1.21001...</td>\n",
       "      <td>[1.12228604219e-10, 1.12228604219e-10, 1.12228...</td>\n",
       "      <td>[2.54637005101e-10, 2.33285724088e-10, 2.54637...</td>\n",
       "      <td>[5.47450166103e-11, 1.41502042466e-10, 1.18709...</td>\n",
       "      <td>[1.63873811104e-09, 1.63873811104e-09, 1.63873...</td>\n",
       "      <td>[1.3742735743e-09, 1.95453202954e-09, 1.374273...</td>\n",
       "      <td>[8.27384194493e-12, 4.32548422758e-11, 6.42292...</td>\n",
       "      <td>...</td>\n",
       "      <td>[]</td>\n",
       "      <td>[]</td>\n",
       "      <td>[]</td>\n",
       "      <td>[]</td>\n",
       "      <td>[]</td>\n",
       "      <td>[]</td>\n",
       "      <td>[]</td>\n",
       "      <td>[]</td>\n",
       "      <td>[]</td>\n",
       "      <td>[]</td>\n",
       "    </tr>\n",
       "    <tr>\n",
       "      <th>6</th>\n",
       "      <td>[1.60953753288e-11, 3.97607323966e-10, 1.60953...</td>\n",
       "      <td>[2.21716956296e-11, 2.21716956296e-11, 2.21716...</td>\n",
       "      <td>[1.17057955797e-11, 1.17057955797e-11, 1.17057...</td>\n",
       "      <td>[1.51018728674e-10, 1.60696492606e-10, 1.51018...</td>\n",
       "      <td>[7.09144294532e-11, 7.09144294532e-11, 7.09144...</td>\n",
       "      <td>[3.65781727483e-10, 3.65781727483e-10, 3.65781...</td>\n",
       "      <td>[6.32047932272e-11, 6.32047932272e-11, 6.32047...</td>\n",
       "      <td>[1.75739883209e-10, 2.74919312273e-10, 1.75739...</td>\n",
       "      <td>[8.78673764461e-10, 3.38874942044e-10, 8.78673...</td>\n",
       "      <td>[7.49113158935e-10, 7.49113158935e-10, 7.49113...</td>\n",
       "      <td>...</td>\n",
       "      <td>[]</td>\n",
       "      <td>[]</td>\n",
       "      <td>[]</td>\n",
       "      <td>[]</td>\n",
       "      <td>[]</td>\n",
       "      <td>[]</td>\n",
       "      <td>[]</td>\n",
       "      <td>[]</td>\n",
       "      <td>[]</td>\n",
       "      <td>[]</td>\n",
       "    </tr>\n",
       "    <tr>\n",
       "      <th>7</th>\n",
       "      <td>[2.22140468483e-11, 2.22140468483e-11, 2.22140...</td>\n",
       "      <td>[5.95337287333e-11, 1.71162138008e-11, 2.24926...</td>\n",
       "      <td>[4.0615205235e-11, 2.08198100411e-11, 2.011786...</td>\n",
       "      <td>[2.0714848212e-11, 2.0714848212e-11, 2.0714848...</td>\n",
       "      <td>[2.53640639153e-10, 2.03586648968e-11, 1.56363...</td>\n",
       "      <td>[1.72524120902e-10, 3.23330328123e-10, 1.72524...</td>\n",
       "      <td>[1.38481015172e-10, 1.38481015172e-10, 1.38481...</td>\n",
       "      <td>[9.59865652392e-11, 9.59865652392e-11, 9.59865...</td>\n",
       "      <td>[8.74609522253e-10, 1.5271173709e-09, 1.778938...</td>\n",
       "      <td>[4.11913301086e-10, 4.25725521493e-10, 6.86886...</td>\n",
       "      <td>...</td>\n",
       "      <td>[]</td>\n",
       "      <td>[]</td>\n",
       "      <td>[]</td>\n",
       "      <td>[]</td>\n",
       "      <td>[]</td>\n",
       "      <td>[]</td>\n",
       "      <td>[]</td>\n",
       "      <td>[]</td>\n",
       "      <td>[]</td>\n",
       "      <td>[]</td>\n",
       "    </tr>\n",
       "  </tbody>\n",
       "</table>\n",
       "<p>8 rows × 41 columns</p>\n",
       "</div>"
      ],
      "text/plain": [
       "                                                 3.0  \\\n",
       "0  [1.02561318421e-06, 1.0811357819e-09, 1.081135...   \n",
       "1  [6.93210636979e-10, 6.93210636979e-10, 6.93210...   \n",
       "2  [7.59375980206e-11, 9.60502766074e-11, 7.59375...   \n",
       "3  [2.38862037752e-10, 2.96354019287e-11, 2.38862...   \n",
       "4  [1.15003189072e-10, 1.15003189072e-10, 1.15003...   \n",
       "5  [5.33637819424e-12, 5.33637819424e-12, 5.33637...   \n",
       "6  [1.60953753288e-11, 3.97607323966e-10, 1.60953...   \n",
       "7  [2.22140468483e-11, 2.22140468483e-11, 2.22140...   \n",
       "\n",
       "                                                 3.1  \\\n",
       "0  [6.0540553638e-11, 6.0540553638e-11, 6.0540553...   \n",
       "1  [4.88428454879e-10, 7.55609073052e-11, 4.88428...   \n",
       "2  [1.05079998906e-11, 3.26116503919e-11, 2.25515...   \n",
       "3  [6.54092051222e-12, 5.30353367047e-11, 6.54092...   \n",
       "4  [3.07837230962e-11, 7.55318193503e-11, 1.10906...   \n",
       "5  [2.23724662347e-10, 3.11888953664e-10, 2.23724...   \n",
       "6  [2.21716956296e-11, 2.21716956296e-11, 2.21716...   \n",
       "7  [5.95337287333e-11, 1.71162138008e-11, 2.24926...   \n",
       "\n",
       "                                                 3.2  \\\n",
       "0  [3.5182453078e-09, 3.5182453078e-09, 3.5182453...   \n",
       "1  [3.21325255183e-10, 4.84750937657e-09, 9.23577...   \n",
       "2  [6.88447831487e-11, 3.34744301074e-12, 8.16238...   \n",
       "3  [1.2894468404e-11, 6.36962917685e-11, 9.812669...   \n",
       "4  [1.39792031142e-12, 6.65455951842e-11, 1.39792...   \n",
       "5  [6.69805305748e-11, 6.69805305748e-11, 6.69805...   \n",
       "6  [1.17057955797e-11, 1.17057955797e-11, 1.17057...   \n",
       "7  [4.0615205235e-11, 2.08198100411e-11, 2.011786...   \n",
       "\n",
       "                                                 3.3  \\\n",
       "0  [2.5483963428e-11, 2.5483963428e-11, 2.5483963...   \n",
       "1  [4.47924240517e-10, 2.17678024718e-09, 1.10213...   \n",
       "2  [1.63739478272e-11, 1.67202934029e-11, 3.09544...   \n",
       "3  [4.41886766657e-12, 4.41886766657e-12, 4.41886...   \n",
       "4  [1.2191872649e-10, 7.57251952537e-10, 1.219187...   \n",
       "5  [1.21001613373e-09, 1.70683267916e-10, 1.21001...   \n",
       "6  [1.51018728674e-10, 1.60696492606e-10, 1.51018...   \n",
       "7  [2.0714848212e-11, 2.0714848212e-11, 2.0714848...   \n",
       "\n",
       "                                                 3.4  \\\n",
       "0  [4.55016788123e-10, 1.5254887422e-10, 4.550167...   \n",
       "1  [3.10481153794e-09, 9.27798903215e-10, 3.77248...   \n",
       "2  [8.97627057333e-09, 3.65248280503e-08, 8.97627...   \n",
       "3  [5.87001503678e-11, 5.87001503678e-11, 5.87001...   \n",
       "4  [6.62767195672e-10, 5.96280332787e-10, 6.62767...   \n",
       "5  [1.12228604219e-10, 1.12228604219e-10, 1.12228...   \n",
       "6  [7.09144294532e-11, 7.09144294532e-11, 7.09144...   \n",
       "7  [2.53640639153e-10, 2.03586648968e-11, 1.56363...   \n",
       "\n",
       "                                                 3.5  \\\n",
       "0  [3.69201274969e-08, 7.56635200923e-08, 3.69201...   \n",
       "1  [2.73995568349e-10, 2.0754354506e-10, 1.842772...   \n",
       "2  [5.46490067823e-11, 2.29999619623e-10, 5.43680...   \n",
       "3  [1.09605476324e-11, 1.09003530809e-10, 6.60536...   \n",
       "4  [4.84127337803e-10, 6.67375383102e-12, 7.94654...   \n",
       "5  [2.54637005101e-10, 2.33285724088e-10, 2.54637...   \n",
       "6  [3.65781727483e-10, 3.65781727483e-10, 3.65781...   \n",
       "7  [1.72524120902e-10, 3.23330328123e-10, 1.72524...   \n",
       "\n",
       "                                                 3.6  \\\n",
       "0  [1.77738906616e-08, 1.06413874342e-07, 1.77738...   \n",
       "1  [1.00790403804e-09, 9.57811392504e-09, 1.92258...   \n",
       "2  [1.56881541048e-09, 1.03217719632e-10, 1.42326...   \n",
       "3  [4.55356217139e-11, 2.67926947587e-10, 1.06288...   \n",
       "4  [1.66412160771e-11, 5.08781352549e-11, 5.62063...   \n",
       "5  [5.47450166103e-11, 1.41502042466e-10, 1.18709...   \n",
       "6  [6.32047932272e-11, 6.32047932272e-11, 6.32047...   \n",
       "7  [1.38481015172e-10, 1.38481015172e-10, 1.38481...   \n",
       "\n",
       "                                                 3.7  \\\n",
       "0  [2.67919617508e-08, 7.95453610569e-08, 1.03860...   \n",
       "1  [1.35311710595e-08, 1.35311710595e-08, 1.35311...   \n",
       "2  [2.15297662391e-09, 2.15297662391e-09, 2.15297...   \n",
       "3  [6.49099992882e-11, 3.99660498093e-09, 1.53478...   \n",
       "4  [2.39570932211e-10, 2.39570932211e-10, 2.39570...   \n",
       "5  [1.63873811104e-09, 1.63873811104e-09, 1.63873...   \n",
       "6  [1.75739883209e-10, 2.74919312273e-10, 1.75739...   \n",
       "7  [9.59865652392e-11, 9.59865652392e-11, 9.59865...   \n",
       "\n",
       "                                                 3.8  \\\n",
       "0  [1.12594271984e-07, 1.12594271984e-07, 1.12594...   \n",
       "1  [8.52310114279e-10, 8.52310114279e-10, 4.93043...   \n",
       "2  [2.66337704413e-08, 1.89844697882e-09, 2.66337...   \n",
       "3  [5.78682812573e-10, 5.78682812573e-10, 7.78940...   \n",
       "4  [3.03506748625e-09, 3.03506748625e-09, 3.03506...   \n",
       "5  [1.3742735743e-09, 1.95453202954e-09, 1.374273...   \n",
       "6  [8.78673764461e-10, 3.38874942044e-10, 8.78673...   \n",
       "7  [8.74609522253e-10, 1.5271173709e-09, 1.778938...   \n",
       "\n",
       "                                                 3.9  ... 6.1 6.2 6.3 6.4 6.5  \\\n",
       "0  [1.76359254723e-09, 1.27248269495e-08, 1.25056...  ...  []  []  []  []  []   \n",
       "1  [1.06186769745e-09, 6.28811519624e-09, 1.17668...  ...  []  []  []  []  []   \n",
       "2  [1.35074212196e-10, 1.08163028751e-09, 3.01772...  ...  []  []  []  []  []   \n",
       "3  [2.31552940008e-09, 2.31552940008e-09, 2.31552...  ...  []  []  []  []  []   \n",
       "4  [1.27651890541e-09, 1.27651890541e-09, 1.27651...  ...  []  []  []  []  []   \n",
       "5  [8.27384194493e-12, 4.32548422758e-11, 6.42292...  ...  []  []  []  []  []   \n",
       "6  [7.49113158935e-10, 7.49113158935e-10, 7.49113...  ...  []  []  []  []  []   \n",
       "7  [4.11913301086e-10, 4.25725521493e-10, 6.86886...  ...  []  []  []  []  []   \n",
       "\n",
       "  6.6                                     6.7 6.8 6.9 7.0  \n",
       "0  []                                      []  []  []  []  \n",
       "1  []                                      []  []  []  []  \n",
       "2  []                                      []  []  []  []  \n",
       "3  []  [4.66481449755e-05, 4.66481449755e-05]  []  []  []  \n",
       "4  []                                      []  []  []  []  \n",
       "5  []                                      []  []  []  []  \n",
       "6  []                                      []  []  []  []  \n",
       "7  []                                      []  []  []  []  \n",
       "\n",
       "[8 rows x 41 columns]"
      ]
     },
     "execution_count": 12,
     "metadata": {},
     "output_type": "execute_result"
    }
   ],
   "source": [
    "iv2"
   ]
  },
  {
   "cell_type": "code",
   "execution_count": 80,
   "id": "fc15efa9",
   "metadata": {},
   "outputs": [],
   "source": [
    "dist_corr_mult = (np.array(list_dist)**2)*np.array(list_iv2)"
   ]
  },
  {
   "cell_type": "code",
   "execution_count": 32,
   "id": "e967e9d1",
   "metadata": {},
   "outputs": [
    {
     "data": {
      "text/plain": [
       "array([  8.18598728e-08,   4.19874333e-07,   2.87510541e-07, ...,\n",
       "         2.97936479e-08,   9.33029000e-07,   2.58409099e-09])"
      ]
     },
     "execution_count": 32,
     "metadata": {},
     "output_type": "execute_result"
    }
   ],
   "source": [
    "dist_corr_mult"
   ]
  },
  {
   "cell_type": "code",
   "execution_count": 34,
   "id": "6295352b",
   "metadata": {},
   "outputs": [
    {
     "data": {
      "text/plain": [
       "8.1859872755096394e-08"
      ]
     },
     "execution_count": 34,
     "metadata": {},
     "output_type": "execute_result"
    }
   ],
   "source": [
    "(list_dist[0]**2)*list_iv2[0]"
   ]
  },
  {
   "cell_type": "code",
   "execution_count": 71,
   "id": "89aa7cff",
   "metadata": {},
   "outputs": [],
   "source": [
    "import numpy as np\n",
    "from scipy import optimize, linalg\n",
    "import matplotlib.pyplot as plt\n",
    "\n",
    "def obj(to_opt):\n",
    "    a=to_opt[0]\n",
    "    b=to_opt[1]\n",
    "    #importance = np.array(n)\n",
    "    y_real= np.log10(dist_corr_mult)\n",
    "    x = np.array(list_mag)\n",
    "    y_guess = (a*x+b)\n",
    "    return sum(abs(y_guess-y_real))"
   ]
  },
  {
   "cell_type": "code",
   "execution_count": 72,
   "id": "fd34f974",
   "metadata": {},
   "outputs": [
    {
     "data": {
      "text/plain": [
       " final_simplex: (array([[ 0.17015354,  4.74143195],\n",
       "       [ 0.1701514 ,  4.74141395],\n",
       "       [ 0.1701538 ,  4.74143318]]), array([ 4910.20048036,  4910.20053846,  4910.20056697]))\n",
       "           fun: 4910.2004803581585\n",
       "       message: 'Optimization terminated successfully.'\n",
       "          nfev: 203\n",
       "           nit: 107\n",
       "        status: 0\n",
       "       success: True\n",
       "             x: array([ 0.17015354,  4.74143195])"
      ]
     },
     "execution_count": 72,
     "metadata": {},
     "output_type": "execute_result"
    }
   ],
   "source": [
    "res"
   ]
  },
  {
   "cell_type": "code",
   "execution_count": 82,
   "id": "9db7477a",
   "metadata": {
    "scrolled": false
   },
   "outputs": [
    {
     "data": {
      "text/plain": [
       "Text(0.5, 1.0, 'log10(iv2) referenced to 1km by multiplying by distance^2')"
      ]
     },
     "execution_count": 82,
     "metadata": {},
     "output_type": "execute_result"
    },
    {
     "data": {
      "image/png": "[encoded data removed]",
      "text/plain": [
       "<Figure size 864x648 with 2 Axes>"
      ]
     },
     "metadata": {
      "needs_background": "light"
     },
     "output_type": "display_data"
    }
   ],
   "source": [
    "plt.figure(figsize=(12,9))\n",
    "plt.scatter(list_mag, np.log10(dist_corr_mult),  c = list_dist, cmap = 'viridis')\n",
    "plt.ylabel('log10(iv2)')\n",
    "plt.xlabel('magntitude')\n",
    "plt.colorbar(label = 'distance')\n",
    "initial_guess = (1.4,0)\n",
    "res = optimize.minimize(obj, initial_guess, method = 'Nelder-mead')\n",
    "x = np.linspace(min(list_mag), max(list_mag), 20)\n",
    "y = res.x[0] * x + res.x[1]\n",
    "plt.plot(x,y, label = str(res.x[0]) + '*x+'+ str(res.x[1]))\n",
    "#plt.vlines(res.x[0], 0 , 4, color='tab:blue', label = 'optimize.minimize all data, 1-norm')\n",
    "plt.legend()\n",
    "plt.title('log10(iv2) referenced to 1km by multiplying by distance^2')\n",
    "#plt.ylim([0.0, 0.00001])\n",
    "#plt.xscale('log')"
   ]
  },
  {
   "cell_type": "code",
   "execution_count": 67,
   "id": "ec75161d",
   "metadata": {},
   "outputs": [
    {
     "data": {
      "text/plain": [
       "array([  1.51982124e-10])"
      ]
     },
     "execution_count": 67,
     "metadata": {},
     "output_type": "execute_result"
    }
   ],
   "source": [
    "x"
   ]
  },
  {
   "cell_type": "code",
   "execution_count": 55,
   "id": "cd5108ef",
   "metadata": {
    "scrolled": false
   },
   "outputs": [
    {
     "data": {
      "text/plain": [
       "<matplotlib.colorbar.Colorbar at 0x7ff7ab8c4fd0>"
      ]
     },
     "execution_count": 55,
     "metadata": {},
     "output_type": "execute_result"
    },
    {
     "data": {
      "image/png": "[encoded data removed]",
      "text/plain": [
       "<Figure size 864x648 with 2 Axes>"
      ]
     },
     "metadata": {
      "needs_background": "light"
     },
     "output_type": "display_data"
    }
   ],
   "source": [
    "plt.figure(figsize=(12,9))\n",
    "plt.scatter(list_mag, list_iv2, c = list_dist, cmap = 'viridis')\n",
    "plt.ylabel('iv2')\n",
    "plt.xlabel('magntitude')\n",
    "plt.colorbar(label = 'distance')"
   ]
  },
  {
   "cell_type": "code",
   "execution_count": 23,
   "id": "a04d5f6d",
   "metadata": {},
   "outputs": [
    {
     "name": "stdout",
     "output_type": "stream",
     "text": [
      "onto row/column plot\n"
     ]
    },
    {
     "ename": "KeyboardInterrupt",
     "evalue": "",
     "output_type": "error",
     "traceback": [
      "\u001b[0;31m---------------------------------------------------------------------------\u001b[0m",
      "\u001b[0;31mKeyboardInterrupt\u001b[0m                         Traceback (most recent call last)",
      "\u001b[0;32m/tmp/ipykernel_468577/1332983165.py\u001b[0m in \u001b[0;36m<module>\u001b[0;34m\u001b[0m\n\u001b[1;32m      8\u001b[0m     \u001b[0;32mfor\u001b[0m \u001b[0mcolumn\u001b[0m \u001b[0;32min\u001b[0m \u001b[0miv2\u001b[0m\u001b[0;34m.\u001b[0m\u001b[0mcolumns\u001b[0m\u001b[0;34m[\u001b[0m\u001b[0;34m:\u001b[0m\u001b[0;34m-\u001b[0m\u001b[0;36m1\u001b[0m\u001b[0;34m]\u001b[0m\u001b[0;34m:\u001b[0m\u001b[0;34m\u001b[0m\u001b[0;34m\u001b[0m\u001b[0m\n\u001b[1;32m      9\u001b[0m         \u001b[0;32mfor\u001b[0m \u001b[0mind_ad\u001b[0m \u001b[0;32min\u001b[0m \u001b[0miv2\u001b[0m\u001b[0;34m[\u001b[0m\u001b[0mcolumn\u001b[0m\u001b[0;34m]\u001b[0m\u001b[0;34m[\u001b[0m\u001b[0mrow\u001b[0m\u001b[0;34m]\u001b[0m\u001b[0;34m:\u001b[0m\u001b[0;34m\u001b[0m\u001b[0;34m\u001b[0m\u001b[0m\n\u001b[0;32m---> 10\u001b[0;31m             \u001b[0maxs\u001b[0m\u001b[0;34m.\u001b[0m\u001b[0mscatter\u001b[0m\u001b[0;34m(\u001b[0m\u001b[0mfloat\u001b[0m\u001b[0;34m(\u001b[0m\u001b[0mcolumn\u001b[0m\u001b[0;34m)\u001b[0m\u001b[0;34m,\u001b[0m \u001b[0mind_ad\u001b[0m\u001b[0;34m,\u001b[0m \u001b[0mcolor\u001b[0m\u001b[0;34m=\u001b[0m\u001b[0;34m'blue'\u001b[0m\u001b[0;34m)\u001b[0m\u001b[0;34m\u001b[0m\u001b[0;34m\u001b[0m\u001b[0m\n\u001b[0m\u001b[1;32m     11\u001b[0m         \u001b[0;31m#axs[row_count][col_count].set_xscale('log')\u001b[0m\u001b[0;34m\u001b[0m\u001b[0;34m\u001b[0m\u001b[0m\n\u001b[1;32m     12\u001b[0m         \u001b[0;31m#axs[row_count][col_count].set_yscale('log') # in log space\u001b[0m\u001b[0;34m\u001b[0m\u001b[0;34m\u001b[0m\u001b[0m\n",
      "\u001b[0;32m/home/earthquakes1/software/Mageia8/anaconda3/lib/python3.9/site-packages/matplotlib/__init__.py\u001b[0m in \u001b[0;36minner\u001b[0;34m(ax, data, *args, **kwargs)\u001b[0m\n\u001b[1;32m   1359\u001b[0m     \u001b[0;32mdef\u001b[0m \u001b[0minner\u001b[0m\u001b[0;34m(\u001b[0m\u001b[0max\u001b[0m\u001b[0;34m,\u001b[0m \u001b[0;34m*\u001b[0m\u001b[0margs\u001b[0m\u001b[0;34m,\u001b[0m \u001b[0mdata\u001b[0m\u001b[0;34m=\u001b[0m\u001b[0;32mNone\u001b[0m\u001b[0;34m,\u001b[0m \u001b[0;34m**\u001b[0m\u001b[0mkwargs\u001b[0m\u001b[0;34m)\u001b[0m\u001b[0;34m:\u001b[0m\u001b[0;34m\u001b[0m\u001b[0;34m\u001b[0m\u001b[0m\n\u001b[1;32m   1360\u001b[0m         \u001b[0;32mif\u001b[0m \u001b[0mdata\u001b[0m \u001b[0;32mis\u001b[0m \u001b[0;32mNone\u001b[0m\u001b[0;34m:\u001b[0m\u001b[0;34m\u001b[0m\u001b[0;34m\u001b[0m\u001b[0m\n\u001b[0;32m-> 1361\u001b[0;31m             \u001b[0;32mreturn\u001b[0m \u001b[0mfunc\u001b[0m\u001b[0;34m(\u001b[0m\u001b[0max\u001b[0m\u001b[0;34m,\u001b[0m \u001b[0;34m*\u001b[0m\u001b[0mmap\u001b[0m\u001b[0;34m(\u001b[0m\u001b[0msanitize_sequence\u001b[0m\u001b[0;34m,\u001b[0m \u001b[0margs\u001b[0m\u001b[0;34m)\u001b[0m\u001b[0;34m,\u001b[0m \u001b[0;34m**\u001b[0m\u001b[0mkwargs\u001b[0m\u001b[0;34m)\u001b[0m\u001b[0;34m\u001b[0m\u001b[0;34m\u001b[0m\u001b[0m\n\u001b[0m\u001b[1;32m   1362\u001b[0m \u001b[0;34m\u001b[0m\u001b[0m\n\u001b[1;32m   1363\u001b[0m         \u001b[0mbound\u001b[0m \u001b[0;34m=\u001b[0m \u001b[0mnew_sig\u001b[0m\u001b[0;34m.\u001b[0m\u001b[0mbind\u001b[0m\u001b[0;34m(\u001b[0m\u001b[0max\u001b[0m\u001b[0;34m,\u001b[0m \u001b[0;34m*\u001b[0m\u001b[0margs\u001b[0m\u001b[0;34m,\u001b[0m \u001b[0;34m**\u001b[0m\u001b[0mkwargs\u001b[0m\u001b[0;34m)\u001b[0m\u001b[0;34m\u001b[0m\u001b[0;34m\u001b[0m\u001b[0m\n",
      "\u001b[0;32m/home/earthquakes1/software/Mageia8/anaconda3/lib/python3.9/site-packages/matplotlib/axes/_axes.py\u001b[0m in \u001b[0;36mscatter\u001b[0;34m(self, x, y, s, c, marker, cmap, norm, vmin, vmax, alpha, linewidths, edgecolors, plotnonfinite, **kwargs)\u001b[0m\n\u001b[1;32m   4614\u001b[0m                 \u001b[0mself\u001b[0m\u001b[0;34m.\u001b[0m\u001b[0mset_ymargin\u001b[0m\u001b[0;34m(\u001b[0m\u001b[0;36m0.05\u001b[0m\u001b[0;34m)\u001b[0m\u001b[0;34m\u001b[0m\u001b[0;34m\u001b[0m\u001b[0m\n\u001b[1;32m   4615\u001b[0m \u001b[0;34m\u001b[0m\u001b[0m\n\u001b[0;32m-> 4616\u001b[0;31m         \u001b[0mself\u001b[0m\u001b[0;34m.\u001b[0m\u001b[0madd_collection\u001b[0m\u001b[0;34m(\u001b[0m\u001b[0mcollection\u001b[0m\u001b[0;34m)\u001b[0m\u001b[0;34m\u001b[0m\u001b[0;34m\u001b[0m\u001b[0m\n\u001b[0m\u001b[1;32m   4617\u001b[0m         \u001b[0mself\u001b[0m\u001b[0;34m.\u001b[0m\u001b[0m_request_autoscale_view\u001b[0m\u001b[0;34m(\u001b[0m\u001b[0;34m)\u001b[0m\u001b[0;34m\u001b[0m\u001b[0;34m\u001b[0m\u001b[0m\n\u001b[1;32m   4618\u001b[0m \u001b[0;34m\u001b[0m\u001b[0m\n",
      "\u001b[0;32m/home/earthquakes1/software/Mageia8/anaconda3/lib/python3.9/site-packages/matplotlib/axes/_base.py\u001b[0m in \u001b[0;36madd_collection\u001b[0;34m(self, collection, autolim)\u001b[0m\n\u001b[1;32m   2060\u001b[0m             \u001b[0;31m# Make sure viewLim is not stale (mostly to match\u001b[0m\u001b[0;34m\u001b[0m\u001b[0;34m\u001b[0m\u001b[0m\n\u001b[1;32m   2061\u001b[0m             \u001b[0;31m# pre-lazy-autoscale behavior, which is not really better).\u001b[0m\u001b[0;34m\u001b[0m\u001b[0;34m\u001b[0m\u001b[0m\n\u001b[0;32m-> 2062\u001b[0;31m             \u001b[0mself\u001b[0m\u001b[0;34m.\u001b[0m\u001b[0m_unstale_viewLim\u001b[0m\u001b[0;34m(\u001b[0m\u001b[0;34m)\u001b[0m\u001b[0;34m\u001b[0m\u001b[0;34m\u001b[0m\u001b[0m\n\u001b[0m\u001b[1;32m   2063\u001b[0m             \u001b[0mdatalim\u001b[0m \u001b[0;34m=\u001b[0m \u001b[0mcollection\u001b[0m\u001b[0;34m.\u001b[0m\u001b[0mget_datalim\u001b[0m\u001b[0;34m(\u001b[0m\u001b[0mself\u001b[0m\u001b[0;34m.\u001b[0m\u001b[0mtransData\u001b[0m\u001b[0;34m)\u001b[0m\u001b[0;34m\u001b[0m\u001b[0;34m\u001b[0m\u001b[0m\n\u001b[1;32m   2064\u001b[0m             \u001b[0mpoints\u001b[0m \u001b[0;34m=\u001b[0m \u001b[0mdatalim\u001b[0m\u001b[0;34m.\u001b[0m\u001b[0mget_points\u001b[0m\u001b[0;34m(\u001b[0m\u001b[0;34m)\u001b[0m\u001b[0;34m\u001b[0m\u001b[0;34m\u001b[0m\u001b[0m\n",
      "\u001b[0;32m/home/earthquakes1/software/Mageia8/anaconda3/lib/python3.9/site-packages/matplotlib/axes/_base.py\u001b[0m in \u001b[0;36m_unstale_viewLim\u001b[0;34m(self)\u001b[0m\n\u001b[1;32m    776\u001b[0m             \u001b[0;32mfor\u001b[0m \u001b[0max\u001b[0m \u001b[0;32min\u001b[0m \u001b[0mself\u001b[0m\u001b[0;34m.\u001b[0m\u001b[0m_shared_y_axes\u001b[0m\u001b[0;34m.\u001b[0m\u001b[0mget_siblings\u001b[0m\u001b[0;34m(\u001b[0m\u001b[0mself\u001b[0m\u001b[0;34m)\u001b[0m\u001b[0;34m:\u001b[0m\u001b[0;34m\u001b[0m\u001b[0;34m\u001b[0m\u001b[0m\n\u001b[1;32m    777\u001b[0m                 \u001b[0max\u001b[0m\u001b[0;34m.\u001b[0m\u001b[0m_stale_viewlim_y\u001b[0m \u001b[0;34m=\u001b[0m \u001b[0;32mFalse\u001b[0m\u001b[0;34m\u001b[0m\u001b[0;34m\u001b[0m\u001b[0m\n\u001b[0;32m--> 778\u001b[0;31m             \u001b[0mself\u001b[0m\u001b[0;34m.\u001b[0m\u001b[0mautoscale_view\u001b[0m\u001b[0;34m(\u001b[0m\u001b[0mscalex\u001b[0m\u001b[0;34m=\u001b[0m\u001b[0mscalex\u001b[0m\u001b[0;34m,\u001b[0m \u001b[0mscaley\u001b[0m\u001b[0;34m=\u001b[0m\u001b[0mscaley\u001b[0m\u001b[0;34m)\u001b[0m\u001b[0;34m\u001b[0m\u001b[0;34m\u001b[0m\u001b[0m\n\u001b[0m\u001b[1;32m    779\u001b[0m \u001b[0;34m\u001b[0m\u001b[0m\n\u001b[1;32m    780\u001b[0m     \u001b[0;34m@\u001b[0m\u001b[0mproperty\u001b[0m\u001b[0;34m\u001b[0m\u001b[0;34m\u001b[0m\u001b[0m\n",
      "\u001b[0;32m/home/earthquakes1/software/Mageia8/anaconda3/lib/python3.9/site-packages/matplotlib/axes/_base.py\u001b[0m in \u001b[0;36mautoscale_view\u001b[0;34m(self, tight, scalex, scaley)\u001b[0m\n\u001b[1;32m   2674\u001b[0m             \u001b[0;31m# `get_children` would raise an AttributeError.\u001b[0m\u001b[0;34m\u001b[0m\u001b[0;34m\u001b[0m\u001b[0m\n\u001b[1;32m   2675\u001b[0m             \u001b[0;32mif\u001b[0m \u001b[0mself\u001b[0m\u001b[0;34m.\u001b[0m\u001b[0m_xmargin\u001b[0m \u001b[0;32mand\u001b[0m \u001b[0mscalex\u001b[0m \u001b[0;32mand\u001b[0m \u001b[0mself\u001b[0m\u001b[0;34m.\u001b[0m\u001b[0m_autoscaleXon\u001b[0m\u001b[0;34m:\u001b[0m\u001b[0;34m\u001b[0m\u001b[0;34m\u001b[0m\u001b[0m\n\u001b[0;32m-> 2676\u001b[0;31m                 x_stickies = np.sort(np.concatenate([\n\u001b[0m\u001b[1;32m   2677\u001b[0m                     \u001b[0martist\u001b[0m\u001b[0;34m.\u001b[0m\u001b[0msticky_edges\u001b[0m\u001b[0;34m.\u001b[0m\u001b[0mx\u001b[0m\u001b[0;34m\u001b[0m\u001b[0;34m\u001b[0m\u001b[0m\n\u001b[1;32m   2678\u001b[0m                     \u001b[0;32mfor\u001b[0m \u001b[0max\u001b[0m \u001b[0;32min\u001b[0m \u001b[0mself\u001b[0m\u001b[0;34m.\u001b[0m\u001b[0m_shared_x_axes\u001b[0m\u001b[0;34m.\u001b[0m\u001b[0mget_siblings\u001b[0m\u001b[0;34m(\u001b[0m\u001b[0mself\u001b[0m\u001b[0;34m)\u001b[0m\u001b[0;34m\u001b[0m\u001b[0;34m\u001b[0m\u001b[0m\n",
      "\u001b[0;32m/home/earthquakes1/software/Mageia8/anaconda3/lib/python3.9/site-packages/matplotlib/axes/_base.py\u001b[0m in \u001b[0;36m<listcomp>\u001b[0;34m(.0)\u001b[0m\n\u001b[1;32m   2675\u001b[0m             \u001b[0;32mif\u001b[0m \u001b[0mself\u001b[0m\u001b[0;34m.\u001b[0m\u001b[0m_xmargin\u001b[0m \u001b[0;32mand\u001b[0m \u001b[0mscalex\u001b[0m \u001b[0;32mand\u001b[0m \u001b[0mself\u001b[0m\u001b[0;34m.\u001b[0m\u001b[0m_autoscaleXon\u001b[0m\u001b[0;34m:\u001b[0m\u001b[0;34m\u001b[0m\u001b[0;34m\u001b[0m\u001b[0m\n\u001b[1;32m   2676\u001b[0m                 x_stickies = np.sort(np.concatenate([\n\u001b[0;32m-> 2677\u001b[0;31m                     \u001b[0martist\u001b[0m\u001b[0;34m.\u001b[0m\u001b[0msticky_edges\u001b[0m\u001b[0;34m.\u001b[0m\u001b[0mx\u001b[0m\u001b[0;34m\u001b[0m\u001b[0;34m\u001b[0m\u001b[0m\n\u001b[0m\u001b[1;32m   2678\u001b[0m                     \u001b[0;32mfor\u001b[0m \u001b[0max\u001b[0m \u001b[0;32min\u001b[0m \u001b[0mself\u001b[0m\u001b[0;34m.\u001b[0m\u001b[0m_shared_x_axes\u001b[0m\u001b[0;34m.\u001b[0m\u001b[0mget_siblings\u001b[0m\u001b[0;34m(\u001b[0m\u001b[0mself\u001b[0m\u001b[0;34m)\u001b[0m\u001b[0;34m\u001b[0m\u001b[0;34m\u001b[0m\u001b[0m\n\u001b[1;32m   2679\u001b[0m                     \u001b[0;32mif\u001b[0m \u001b[0mhasattr\u001b[0m\u001b[0;34m(\u001b[0m\u001b[0max\u001b[0m\u001b[0;34m,\u001b[0m \u001b[0;34m\"lines\"\u001b[0m\u001b[0;34m)\u001b[0m\u001b[0;34m\u001b[0m\u001b[0;34m\u001b[0m\u001b[0m\n",
      "\u001b[0;31mKeyboardInterrupt\u001b[0m: "
     ]
    },
    {
     "name": "stdout",
     "output_type": "stream",
     "text": [
      "Error in callback <function flush_figures at 0x7ff7dbd89b80> (for post_execute):\n"
     ]
    },
    {
     "ename": "KeyboardInterrupt",
     "evalue": "",
     "output_type": "error",
     "traceback": [
      "\u001b[0;31m---------------------------------------------------------------------------\u001b[0m",
      "\u001b[0;31mKeyboardInterrupt\u001b[0m                         Traceback (most recent call last)",
      "\u001b[0;32m/home/earthquakes1/software/Mageia8/anaconda3/lib/python3.9/site-packages/matplotlib_inline/backend_inline.py\u001b[0m in \u001b[0;36mflush_figures\u001b[0;34m()\u001b[0m\n\u001b[1;32m    119\u001b[0m         \u001b[0;31m# ignore the tracking, just draw and close all figures\u001b[0m\u001b[0;34m\u001b[0m\u001b[0;34m\u001b[0m\u001b[0m\n\u001b[1;32m    120\u001b[0m         \u001b[0;32mtry\u001b[0m\u001b[0;34m:\u001b[0m\u001b[0;34m\u001b[0m\u001b[0;34m\u001b[0m\u001b[0m\n\u001b[0;32m--> 121\u001b[0;31m             \u001b[0;32mreturn\u001b[0m \u001b[0mshow\u001b[0m\u001b[0;34m(\u001b[0m\u001b[0;32mTrue\u001b[0m\u001b[0;34m)\u001b[0m\u001b[0;34m\u001b[0m\u001b[0;34m\u001b[0m\u001b[0m\n\u001b[0m\u001b[1;32m    122\u001b[0m         \u001b[0;32mexcept\u001b[0m \u001b[0mException\u001b[0m \u001b[0;32mas\u001b[0m \u001b[0me\u001b[0m\u001b[0;34m:\u001b[0m\u001b[0;34m\u001b[0m\u001b[0;34m\u001b[0m\u001b[0m\n\u001b[1;32m    123\u001b[0m             \u001b[0;31m# safely show traceback if in IPython, else raise\u001b[0m\u001b[0;34m\u001b[0m\u001b[0;34m\u001b[0m\u001b[0m\n",
      "\u001b[0;32m/home/earthquakes1/software/Mageia8/anaconda3/lib/python3.9/site-packages/matplotlib_inline/backend_inline.py\u001b[0m in \u001b[0;36mshow\u001b[0;34m(close, block)\u001b[0m\n\u001b[1;32m     39\u001b[0m     \u001b[0;32mtry\u001b[0m\u001b[0;34m:\u001b[0m\u001b[0;34m\u001b[0m\u001b[0;34m\u001b[0m\u001b[0m\n\u001b[1;32m     40\u001b[0m         \u001b[0;32mfor\u001b[0m \u001b[0mfigure_manager\u001b[0m \u001b[0;32min\u001b[0m \u001b[0mGcf\u001b[0m\u001b[0;34m.\u001b[0m\u001b[0mget_all_fig_managers\u001b[0m\u001b[0;34m(\u001b[0m\u001b[0;34m)\u001b[0m\u001b[0;34m:\u001b[0m\u001b[0;34m\u001b[0m\u001b[0;34m\u001b[0m\u001b[0m\n\u001b[0;32m---> 41\u001b[0;31m             display(\n\u001b[0m\u001b[1;32m     42\u001b[0m                 \u001b[0mfigure_manager\u001b[0m\u001b[0;34m.\u001b[0m\u001b[0mcanvas\u001b[0m\u001b[0;34m.\u001b[0m\u001b[0mfigure\u001b[0m\u001b[0;34m,\u001b[0m\u001b[0;34m\u001b[0m\u001b[0;34m\u001b[0m\u001b[0m\n\u001b[1;32m     43\u001b[0m                 \u001b[0mmetadata\u001b[0m\u001b[0;34m=\u001b[0m\u001b[0m_fetch_figure_metadata\u001b[0m\u001b[0;34m(\u001b[0m\u001b[0mfigure_manager\u001b[0m\u001b[0;34m.\u001b[0m\u001b[0mcanvas\u001b[0m\u001b[0;34m.\u001b[0m\u001b[0mfigure\u001b[0m\u001b[0;34m)\u001b[0m\u001b[0;34m\u001b[0m\u001b[0;34m\u001b[0m\u001b[0m\n",
      "\u001b[0;32m/home/earthquakes1/software/Mageia8/anaconda3/lib/python3.9/site-packages/IPython/core/display.py\u001b[0m in \u001b[0;36mdisplay\u001b[0;34m(include, exclude, metadata, transient, display_id, *objs, **kwargs)\u001b[0m\n\u001b[1;32m    318\u001b[0m             \u001b[0mpublish_display_data\u001b[0m\u001b[0;34m(\u001b[0m\u001b[0mdata\u001b[0m\u001b[0;34m=\u001b[0m\u001b[0mobj\u001b[0m\u001b[0;34m,\u001b[0m \u001b[0mmetadata\u001b[0m\u001b[0;34m=\u001b[0m\u001b[0mmetadata\u001b[0m\u001b[0;34m,\u001b[0m \u001b[0;34m**\u001b[0m\u001b[0mkwargs\u001b[0m\u001b[0;34m)\u001b[0m\u001b[0;34m\u001b[0m\u001b[0;34m\u001b[0m\u001b[0m\n\u001b[1;32m    319\u001b[0m         \u001b[0;32melse\u001b[0m\u001b[0;34m:\u001b[0m\u001b[0;34m\u001b[0m\u001b[0;34m\u001b[0m\u001b[0m\n\u001b[0;32m--> 320\u001b[0;31m             \u001b[0mformat_dict\u001b[0m\u001b[0;34m,\u001b[0m \u001b[0mmd_dict\u001b[0m \u001b[0;34m=\u001b[0m \u001b[0mformat\u001b[0m\u001b[0;34m(\u001b[0m\u001b[0mobj\u001b[0m\u001b[0;34m,\u001b[0m \u001b[0minclude\u001b[0m\u001b[0;34m=\u001b[0m\u001b[0minclude\u001b[0m\u001b[0;34m,\u001b[0m \u001b[0mexclude\u001b[0m\u001b[0;34m=\u001b[0m\u001b[0mexclude\u001b[0m\u001b[0;34m)\u001b[0m\u001b[0;34m\u001b[0m\u001b[0;34m\u001b[0m\u001b[0m\n\u001b[0m\u001b[1;32m    321\u001b[0m             \u001b[0;32mif\u001b[0m \u001b[0;32mnot\u001b[0m \u001b[0mformat_dict\u001b[0m\u001b[0;34m:\u001b[0m\u001b[0;34m\u001b[0m\u001b[0;34m\u001b[0m\u001b[0m\n\u001b[1;32m    322\u001b[0m                 \u001b[0;31m# nothing to display (e.g. _ipython_display_ took over)\u001b[0m\u001b[0;34m\u001b[0m\u001b[0;34m\u001b[0m\u001b[0m\n",
      "\u001b[0;32m/home/earthquakes1/software/Mageia8/anaconda3/lib/python3.9/site-packages/IPython/core/formatters.py\u001b[0m in \u001b[0;36mformat\u001b[0;34m(self, obj, include, exclude)\u001b[0m\n\u001b[1;32m    178\u001b[0m             \u001b[0mmd\u001b[0m \u001b[0;34m=\u001b[0m \u001b[0;32mNone\u001b[0m\u001b[0;34m\u001b[0m\u001b[0;34m\u001b[0m\u001b[0m\n\u001b[1;32m    179\u001b[0m             \u001b[0;32mtry\u001b[0m\u001b[0;34m:\u001b[0m\u001b[0;34m\u001b[0m\u001b[0;34m\u001b[0m\u001b[0m\n\u001b[0;32m--> 180\u001b[0;31m                 \u001b[0mdata\u001b[0m \u001b[0;34m=\u001b[0m \u001b[0mformatter\u001b[0m\u001b[0;34m(\u001b[0m\u001b[0mobj\u001b[0m\u001b[0;34m)\u001b[0m\u001b[0;34m\u001b[0m\u001b[0;34m\u001b[0m\u001b[0m\n\u001b[0m\u001b[1;32m    181\u001b[0m             \u001b[0;32mexcept\u001b[0m\u001b[0;34m:\u001b[0m\u001b[0;34m\u001b[0m\u001b[0;34m\u001b[0m\u001b[0m\n\u001b[1;32m    182\u001b[0m                 \u001b[0;31m# FIXME: log the exception\u001b[0m\u001b[0;34m\u001b[0m\u001b[0;34m\u001b[0m\u001b[0m\n",
      "\u001b[0;32m/home/earthquakes1/software/Mageia8/anaconda3/lib/python3.9/site-packages/decorator.py\u001b[0m in \u001b[0;36mfun\u001b[0;34m(*args, **kw)\u001b[0m\n\u001b[1;32m    230\u001b[0m             \u001b[0;32mif\u001b[0m \u001b[0;32mnot\u001b[0m \u001b[0mkwsyntax\u001b[0m\u001b[0;34m:\u001b[0m\u001b[0;34m\u001b[0m\u001b[0;34m\u001b[0m\u001b[0m\n\u001b[1;32m    231\u001b[0m                 \u001b[0margs\u001b[0m\u001b[0;34m,\u001b[0m \u001b[0mkw\u001b[0m \u001b[0;34m=\u001b[0m \u001b[0mfix\u001b[0m\u001b[0;34m(\u001b[0m\u001b[0margs\u001b[0m\u001b[0;34m,\u001b[0m \u001b[0mkw\u001b[0m\u001b[0;34m,\u001b[0m \u001b[0msig\u001b[0m\u001b[0;34m)\u001b[0m\u001b[0;34m\u001b[0m\u001b[0;34m\u001b[0m\u001b[0m\n\u001b[0;32m--> 232\u001b[0;31m             \u001b[0;32mreturn\u001b[0m \u001b[0mcaller\u001b[0m\u001b[0;34m(\u001b[0m\u001b[0mfunc\u001b[0m\u001b[0;34m,\u001b[0m \u001b[0;34m*\u001b[0m\u001b[0;34m(\u001b[0m\u001b[0mextras\u001b[0m \u001b[0;34m+\u001b[0m \u001b[0margs\u001b[0m\u001b[0;34m)\u001b[0m\u001b[0;34m,\u001b[0m \u001b[0;34m**\u001b[0m\u001b[0mkw\u001b[0m\u001b[0;34m)\u001b[0m\u001b[0;34m\u001b[0m\u001b[0;34m\u001b[0m\u001b[0m\n\u001b[0m\u001b[1;32m    233\u001b[0m     \u001b[0mfun\u001b[0m\u001b[0;34m.\u001b[0m\u001b[0m__name__\u001b[0m \u001b[0;34m=\u001b[0m \u001b[0mfunc\u001b[0m\u001b[0;34m.\u001b[0m\u001b[0m__name__\u001b[0m\u001b[0;34m\u001b[0m\u001b[0;34m\u001b[0m\u001b[0m\n\u001b[1;32m    234\u001b[0m     \u001b[0mfun\u001b[0m\u001b[0;34m.\u001b[0m\u001b[0m__doc__\u001b[0m \u001b[0;34m=\u001b[0m \u001b[0mfunc\u001b[0m\u001b[0;34m.\u001b[0m\u001b[0m__doc__\u001b[0m\u001b[0;34m\u001b[0m\u001b[0;34m\u001b[0m\u001b[0m\n",
      "\u001b[0;32m/home/earthquakes1/software/Mageia8/anaconda3/lib/python3.9/site-packages/IPython/core/formatters.py\u001b[0m in \u001b[0;36mcatch_format_error\u001b[0;34m(method, self, *args, **kwargs)\u001b[0m\n\u001b[1;32m    222\u001b[0m     \u001b[0;34m\"\"\"show traceback on failed format call\"\"\"\u001b[0m\u001b[0;34m\u001b[0m\u001b[0;34m\u001b[0m\u001b[0m\n\u001b[1;32m    223\u001b[0m     \u001b[0;32mtry\u001b[0m\u001b[0;34m:\u001b[0m\u001b[0;34m\u001b[0m\u001b[0;34m\u001b[0m\u001b[0m\n\u001b[0;32m--> 224\u001b[0;31m         \u001b[0mr\u001b[0m \u001b[0;34m=\u001b[0m \u001b[0mmethod\u001b[0m\u001b[0;34m(\u001b[0m\u001b[0mself\u001b[0m\u001b[0;34m,\u001b[0m \u001b[0;34m*\u001b[0m\u001b[0margs\u001b[0m\u001b[0;34m,\u001b[0m \u001b[0;34m**\u001b[0m\u001b[0mkwargs\u001b[0m\u001b[0;34m)\u001b[0m\u001b[0;34m\u001b[0m\u001b[0;34m\u001b[0m\u001b[0m\n\u001b[0m\u001b[1;32m    225\u001b[0m     \u001b[0;32mexcept\u001b[0m \u001b[0mNotImplementedError\u001b[0m\u001b[0;34m:\u001b[0m\u001b[0;34m\u001b[0m\u001b[0;34m\u001b[0m\u001b[0m\n\u001b[1;32m    226\u001b[0m         \u001b[0;31m# don't warn on NotImplementedErrors\u001b[0m\u001b[0;34m\u001b[0m\u001b[0;34m\u001b[0m\u001b[0m\n",
      "\u001b[0;32m/home/earthquakes1/software/Mageia8/anaconda3/lib/python3.9/site-packages/IPython/core/formatters.py\u001b[0m in \u001b[0;36m__call__\u001b[0;34m(self, obj)\u001b[0m\n\u001b[1;32m    339\u001b[0m                 \u001b[0;32mpass\u001b[0m\u001b[0;34m\u001b[0m\u001b[0;34m\u001b[0m\u001b[0m\n\u001b[1;32m    340\u001b[0m             \u001b[0;32melse\u001b[0m\u001b[0;34m:\u001b[0m\u001b[0;34m\u001b[0m\u001b[0;34m\u001b[0m\u001b[0m\n\u001b[0;32m--> 341\u001b[0;31m                 \u001b[0;32mreturn\u001b[0m \u001b[0mprinter\u001b[0m\u001b[0;34m(\u001b[0m\u001b[0mobj\u001b[0m\u001b[0;34m)\u001b[0m\u001b[0;34m\u001b[0m\u001b[0;34m\u001b[0m\u001b[0m\n\u001b[0m\u001b[1;32m    342\u001b[0m             \u001b[0;31m# Finally look for special method names\u001b[0m\u001b[0;34m\u001b[0m\u001b[0;34m\u001b[0m\u001b[0m\n\u001b[1;32m    343\u001b[0m             \u001b[0mmethod\u001b[0m \u001b[0;34m=\u001b[0m \u001b[0mget_real_method\u001b[0m\u001b[0;34m(\u001b[0m\u001b[0mobj\u001b[0m\u001b[0;34m,\u001b[0m \u001b[0mself\u001b[0m\u001b[0;34m.\u001b[0m\u001b[0mprint_method\u001b[0m\u001b[0;34m)\u001b[0m\u001b[0;34m\u001b[0m\u001b[0;34m\u001b[0m\u001b[0m\n",
      "\u001b[0;32m/home/earthquakes1/software/Mageia8/anaconda3/lib/python3.9/site-packages/IPython/core/pylabtools.py\u001b[0m in \u001b[0;36mprint_figure\u001b[0;34m(fig, fmt, bbox_inches, base64, **kwargs)\u001b[0m\n\u001b[1;32m    149\u001b[0m         \u001b[0mFigureCanvasBase\u001b[0m\u001b[0;34m(\u001b[0m\u001b[0mfig\u001b[0m\u001b[0;34m)\u001b[0m\u001b[0;34m\u001b[0m\u001b[0;34m\u001b[0m\u001b[0m\n\u001b[1;32m    150\u001b[0m \u001b[0;34m\u001b[0m\u001b[0m\n\u001b[0;32m--> 151\u001b[0;31m     \u001b[0mfig\u001b[0m\u001b[0;34m.\u001b[0m\u001b[0mcanvas\u001b[0m\u001b[0;34m.\u001b[0m\u001b[0mprint_figure\u001b[0m\u001b[0;34m(\u001b[0m\u001b[0mbytes_io\u001b[0m\u001b[0;34m,\u001b[0m \u001b[0;34m**\u001b[0m\u001b[0mkw\u001b[0m\u001b[0;34m)\u001b[0m\u001b[0;34m\u001b[0m\u001b[0;34m\u001b[0m\u001b[0m\n\u001b[0m\u001b[1;32m    152\u001b[0m     \u001b[0mdata\u001b[0m \u001b[0;34m=\u001b[0m \u001b[0mbytes_io\u001b[0m\u001b[0;34m.\u001b[0m\u001b[0mgetvalue\u001b[0m\u001b[0;34m(\u001b[0m\u001b[0;34m)\u001b[0m\u001b[0;34m\u001b[0m\u001b[0;34m\u001b[0m\u001b[0m\n\u001b[1;32m    153\u001b[0m     \u001b[0;32mif\u001b[0m \u001b[0mfmt\u001b[0m \u001b[0;34m==\u001b[0m \u001b[0;34m'svg'\u001b[0m\u001b[0;34m:\u001b[0m\u001b[0;34m\u001b[0m\u001b[0;34m\u001b[0m\u001b[0m\n",
      "\u001b[0;32m/home/earthquakes1/software/Mageia8/anaconda3/lib/python3.9/site-packages/matplotlib/backend_bases.py\u001b[0m in \u001b[0;36mprint_figure\u001b[0;34m(self, filename, dpi, facecolor, edgecolor, orientation, format, bbox_inches, pad_inches, bbox_extra_artists, backend, **kwargs)\u001b[0m\n\u001b[1;32m   2253\u001b[0m                 \u001b[0;31m# force the figure dpi to 72), so we need to set it again here.\u001b[0m\u001b[0;34m\u001b[0m\u001b[0;34m\u001b[0m\u001b[0m\n\u001b[1;32m   2254\u001b[0m                 \u001b[0;32mwith\u001b[0m \u001b[0mcbook\u001b[0m\u001b[0;34m.\u001b[0m\u001b[0m_setattr_cm\u001b[0m\u001b[0;34m(\u001b[0m\u001b[0mself\u001b[0m\u001b[0;34m.\u001b[0m\u001b[0mfigure\u001b[0m\u001b[0;34m,\u001b[0m \u001b[0mdpi\u001b[0m\u001b[0;34m=\u001b[0m\u001b[0mdpi\u001b[0m\u001b[0;34m)\u001b[0m\u001b[0;34m:\u001b[0m\u001b[0;34m\u001b[0m\u001b[0;34m\u001b[0m\u001b[0m\n\u001b[0;32m-> 2255\u001b[0;31m                     result = print_method(\n\u001b[0m\u001b[1;32m   2256\u001b[0m                         \u001b[0mfilename\u001b[0m\u001b[0;34m,\u001b[0m\u001b[0;34m\u001b[0m\u001b[0;34m\u001b[0m\u001b[0m\n\u001b[1;32m   2257\u001b[0m                         \u001b[0mfacecolor\u001b[0m\u001b[0;34m=\u001b[0m\u001b[0mfacecolor\u001b[0m\u001b[0;34m,\u001b[0m\u001b[0;34m\u001b[0m\u001b[0;34m\u001b[0m\u001b[0m\n",
      "\u001b[0;32m/home/earthquakes1/software/Mageia8/anaconda3/lib/python3.9/site-packages/matplotlib/backend_bases.py\u001b[0m in \u001b[0;36mwrapper\u001b[0;34m(*args, **kwargs)\u001b[0m\n\u001b[1;32m   1667\u001b[0m             \u001b[0mkwargs\u001b[0m\u001b[0;34m.\u001b[0m\u001b[0mpop\u001b[0m\u001b[0;34m(\u001b[0m\u001b[0marg\u001b[0m\u001b[0;34m)\u001b[0m\u001b[0;34m\u001b[0m\u001b[0;34m\u001b[0m\u001b[0m\n\u001b[1;32m   1668\u001b[0m \u001b[0;34m\u001b[0m\u001b[0m\n\u001b[0;32m-> 1669\u001b[0;31m         \u001b[0;32mreturn\u001b[0m \u001b[0mfunc\u001b[0m\u001b[0;34m(\u001b[0m\u001b[0;34m*\u001b[0m\u001b[0margs\u001b[0m\u001b[0;34m,\u001b[0m \u001b[0;34m**\u001b[0m\u001b[0mkwargs\u001b[0m\u001b[0;34m)\u001b[0m\u001b[0;34m\u001b[0m\u001b[0;34m\u001b[0m\u001b[0m\n\u001b[0m\u001b[1;32m   1670\u001b[0m \u001b[0;34m\u001b[0m\u001b[0m\n\u001b[1;32m   1671\u001b[0m     \u001b[0;32mreturn\u001b[0m \u001b[0mwrapper\u001b[0m\u001b[0;34m\u001b[0m\u001b[0;34m\u001b[0m\u001b[0m\n",
      "\u001b[0;32m/home/earthquakes1/software/Mageia8/anaconda3/lib/python3.9/site-packages/matplotlib/backends/backend_agg.py\u001b[0m in \u001b[0;36mprint_png\u001b[0;34m(self, filename_or_obj, metadata, pil_kwargs, *args)\u001b[0m\n\u001b[1;32m    506\u001b[0m             \u001b[0;34m*\u001b[0m\u001b[0mmetadata\u001b[0m\u001b[0;34m*\u001b[0m\u001b[0;34m,\u001b[0m \u001b[0mincluding\u001b[0m \u001b[0mthe\u001b[0m \u001b[0mdefault\u001b[0m \u001b[0;34m'Software'\u001b[0m \u001b[0mkey\u001b[0m\u001b[0;34m.\u001b[0m\u001b[0;34m\u001b[0m\u001b[0;34m\u001b[0m\u001b[0m\n\u001b[1;32m    507\u001b[0m         \"\"\"\n\u001b[0;32m--> 508\u001b[0;31m         \u001b[0mFigureCanvasAgg\u001b[0m\u001b[0;34m.\u001b[0m\u001b[0mdraw\u001b[0m\u001b[0;34m(\u001b[0m\u001b[0mself\u001b[0m\u001b[0;34m)\u001b[0m\u001b[0;34m\u001b[0m\u001b[0;34m\u001b[0m\u001b[0m\n\u001b[0m\u001b[1;32m    509\u001b[0m         mpl.image.imsave(\n\u001b[1;32m    510\u001b[0m             \u001b[0mfilename_or_obj\u001b[0m\u001b[0;34m,\u001b[0m \u001b[0mself\u001b[0m\u001b[0;34m.\u001b[0m\u001b[0mbuffer_rgba\u001b[0m\u001b[0;34m(\u001b[0m\u001b[0;34m)\u001b[0m\u001b[0;34m,\u001b[0m \u001b[0mformat\u001b[0m\u001b[0;34m=\u001b[0m\u001b[0;34m\"png\"\u001b[0m\u001b[0;34m,\u001b[0m \u001b[0morigin\u001b[0m\u001b[0;34m=\u001b[0m\u001b[0;34m\"upper\"\u001b[0m\u001b[0;34m,\u001b[0m\u001b[0;34m\u001b[0m\u001b[0;34m\u001b[0m\u001b[0m\n",
      "\u001b[0;32m/home/earthquakes1/software/Mageia8/anaconda3/lib/python3.9/site-packages/matplotlib/backends/backend_agg.py\u001b[0m in \u001b[0;36mdraw\u001b[0;34m(self)\u001b[0m\n\u001b[1;32m    404\u001b[0m              (self.toolbar._wait_cursor_for_draw_cm() if self.toolbar\n\u001b[1;32m    405\u001b[0m               else nullcontext()):\n\u001b[0;32m--> 406\u001b[0;31m             \u001b[0mself\u001b[0m\u001b[0;34m.\u001b[0m\u001b[0mfigure\u001b[0m\u001b[0;34m.\u001b[0m\u001b[0mdraw\u001b[0m\u001b[0;34m(\u001b[0m\u001b[0mself\u001b[0m\u001b[0;34m.\u001b[0m\u001b[0mrenderer\u001b[0m\u001b[0;34m)\u001b[0m\u001b[0;34m\u001b[0m\u001b[0;34m\u001b[0m\u001b[0m\n\u001b[0m\u001b[1;32m    407\u001b[0m             \u001b[0;31m# A GUI class may be need to update a window using this draw, so\u001b[0m\u001b[0;34m\u001b[0m\u001b[0;34m\u001b[0m\u001b[0m\n\u001b[1;32m    408\u001b[0m             \u001b[0;31m# don't forget to call the superclass.\u001b[0m\u001b[0;34m\u001b[0m\u001b[0;34m\u001b[0m\u001b[0m\n",
      "\u001b[0;32m/home/earthquakes1/software/Mageia8/anaconda3/lib/python3.9/site-packages/matplotlib/artist.py\u001b[0m in \u001b[0;36mdraw_wrapper\u001b[0;34m(artist, renderer, *args, **kwargs)\u001b[0m\n\u001b[1;32m     72\u001b[0m     \u001b[0;34m@\u001b[0m\u001b[0mwraps\u001b[0m\u001b[0;34m(\u001b[0m\u001b[0mdraw\u001b[0m\u001b[0;34m)\u001b[0m\u001b[0;34m\u001b[0m\u001b[0;34m\u001b[0m\u001b[0m\n\u001b[1;32m     73\u001b[0m     \u001b[0;32mdef\u001b[0m \u001b[0mdraw_wrapper\u001b[0m\u001b[0;34m(\u001b[0m\u001b[0martist\u001b[0m\u001b[0;34m,\u001b[0m \u001b[0mrenderer\u001b[0m\u001b[0;34m,\u001b[0m \u001b[0;34m*\u001b[0m\u001b[0margs\u001b[0m\u001b[0;34m,\u001b[0m \u001b[0;34m**\u001b[0m\u001b[0mkwargs\u001b[0m\u001b[0;34m)\u001b[0m\u001b[0;34m:\u001b[0m\u001b[0;34m\u001b[0m\u001b[0;34m\u001b[0m\u001b[0m\n\u001b[0;32m---> 74\u001b[0;31m         \u001b[0mresult\u001b[0m \u001b[0;34m=\u001b[0m \u001b[0mdraw\u001b[0m\u001b[0;34m(\u001b[0m\u001b[0martist\u001b[0m\u001b[0;34m,\u001b[0m \u001b[0mrenderer\u001b[0m\u001b[0;34m,\u001b[0m \u001b[0;34m*\u001b[0m\u001b[0margs\u001b[0m\u001b[0;34m,\u001b[0m \u001b[0;34m**\u001b[0m\u001b[0mkwargs\u001b[0m\u001b[0;34m)\u001b[0m\u001b[0;34m\u001b[0m\u001b[0;34m\u001b[0m\u001b[0m\n\u001b[0m\u001b[1;32m     75\u001b[0m         \u001b[0;32mif\u001b[0m \u001b[0mrenderer\u001b[0m\u001b[0;34m.\u001b[0m\u001b[0m_rasterizing\u001b[0m\u001b[0;34m:\u001b[0m\u001b[0;34m\u001b[0m\u001b[0;34m\u001b[0m\u001b[0m\n\u001b[1;32m     76\u001b[0m             \u001b[0mrenderer\u001b[0m\u001b[0;34m.\u001b[0m\u001b[0mstop_rasterizing\u001b[0m\u001b[0;34m(\u001b[0m\u001b[0;34m)\u001b[0m\u001b[0;34m\u001b[0m\u001b[0;34m\u001b[0m\u001b[0m\n",
      "\u001b[0;32m/home/earthquakes1/software/Mageia8/anaconda3/lib/python3.9/site-packages/matplotlib/artist.py\u001b[0m in \u001b[0;36mdraw_wrapper\u001b[0;34m(artist, renderer, *args, **kwargs)\u001b[0m\n\u001b[1;32m     49\u001b[0m                 \u001b[0mrenderer\u001b[0m\u001b[0;34m.\u001b[0m\u001b[0mstart_filter\u001b[0m\u001b[0;34m(\u001b[0m\u001b[0;34m)\u001b[0m\u001b[0;34m\u001b[0m\u001b[0;34m\u001b[0m\u001b[0m\n\u001b[1;32m     50\u001b[0m \u001b[0;34m\u001b[0m\u001b[0m\n\u001b[0;32m---> 51\u001b[0;31m             \u001b[0;32mreturn\u001b[0m \u001b[0mdraw\u001b[0m\u001b[0;34m(\u001b[0m\u001b[0martist\u001b[0m\u001b[0;34m,\u001b[0m \u001b[0mrenderer\u001b[0m\u001b[0;34m,\u001b[0m \u001b[0;34m*\u001b[0m\u001b[0margs\u001b[0m\u001b[0;34m,\u001b[0m \u001b[0;34m**\u001b[0m\u001b[0mkwargs\u001b[0m\u001b[0;34m)\u001b[0m\u001b[0;34m\u001b[0m\u001b[0;34m\u001b[0m\u001b[0m\n\u001b[0m\u001b[1;32m     52\u001b[0m         \u001b[0;32mfinally\u001b[0m\u001b[0;34m:\u001b[0m\u001b[0;34m\u001b[0m\u001b[0;34m\u001b[0m\u001b[0m\n\u001b[1;32m     53\u001b[0m             \u001b[0;32mif\u001b[0m \u001b[0martist\u001b[0m\u001b[0;34m.\u001b[0m\u001b[0mget_agg_filter\u001b[0m\u001b[0;34m(\u001b[0m\u001b[0;34m)\u001b[0m \u001b[0;32mis\u001b[0m \u001b[0;32mnot\u001b[0m \u001b[0;32mNone\u001b[0m\u001b[0;34m:\u001b[0m\u001b[0;34m\u001b[0m\u001b[0;34m\u001b[0m\u001b[0m\n",
      "\u001b[0;32m/home/earthquakes1/software/Mageia8/anaconda3/lib/python3.9/site-packages/matplotlib/figure.py\u001b[0m in \u001b[0;36mdraw\u001b[0;34m(self, renderer)\u001b[0m\n\u001b[1;32m   2788\u001b[0m \u001b[0;34m\u001b[0m\u001b[0m\n\u001b[1;32m   2789\u001b[0m             \u001b[0mself\u001b[0m\u001b[0;34m.\u001b[0m\u001b[0mpatch\u001b[0m\u001b[0;34m.\u001b[0m\u001b[0mdraw\u001b[0m\u001b[0;34m(\u001b[0m\u001b[0mrenderer\u001b[0m\u001b[0;34m)\u001b[0m\u001b[0;34m\u001b[0m\u001b[0;34m\u001b[0m\u001b[0m\n\u001b[0;32m-> 2790\u001b[0;31m             mimage._draw_list_compositing_images(\n\u001b[0m\u001b[1;32m   2791\u001b[0m                 renderer, self, artists, self.suppressComposite)\n\u001b[1;32m   2792\u001b[0m \u001b[0;34m\u001b[0m\u001b[0m\n",
      "\u001b[0;32m/home/earthquakes1/software/Mageia8/anaconda3/lib/python3.9/site-packages/matplotlib/image.py\u001b[0m in \u001b[0;36m_draw_list_compositing_images\u001b[0;34m(renderer, parent, artists, suppress_composite)\u001b[0m\n\u001b[1;32m    130\u001b[0m     \u001b[0;32mif\u001b[0m \u001b[0mnot_composite\u001b[0m \u001b[0;32mor\u001b[0m \u001b[0;32mnot\u001b[0m \u001b[0mhas_images\u001b[0m\u001b[0;34m:\u001b[0m\u001b[0;34m\u001b[0m\u001b[0;34m\u001b[0m\u001b[0m\n\u001b[1;32m    131\u001b[0m         \u001b[0;32mfor\u001b[0m \u001b[0ma\u001b[0m \u001b[0;32min\u001b[0m \u001b[0martists\u001b[0m\u001b[0;34m:\u001b[0m\u001b[0;34m\u001b[0m\u001b[0;34m\u001b[0m\u001b[0m\n\u001b[0;32m--> 132\u001b[0;31m             \u001b[0ma\u001b[0m\u001b[0;34m.\u001b[0m\u001b[0mdraw\u001b[0m\u001b[0;34m(\u001b[0m\u001b[0mrenderer\u001b[0m\u001b[0;34m)\u001b[0m\u001b[0;34m\u001b[0m\u001b[0;34m\u001b[0m\u001b[0m\n\u001b[0m\u001b[1;32m    133\u001b[0m     \u001b[0;32melse\u001b[0m\u001b[0;34m:\u001b[0m\u001b[0;34m\u001b[0m\u001b[0;34m\u001b[0m\u001b[0m\n\u001b[1;32m    134\u001b[0m         \u001b[0;31m# Composite any adjacent images together\u001b[0m\u001b[0;34m\u001b[0m\u001b[0;34m\u001b[0m\u001b[0m\n",
      "\u001b[0;32m/home/earthquakes1/software/Mageia8/anaconda3/lib/python3.9/site-packages/matplotlib/artist.py\u001b[0m in \u001b[0;36mdraw_wrapper\u001b[0;34m(artist, renderer, *args, **kwargs)\u001b[0m\n\u001b[1;32m     49\u001b[0m                 \u001b[0mrenderer\u001b[0m\u001b[0;34m.\u001b[0m\u001b[0mstart_filter\u001b[0m\u001b[0;34m(\u001b[0m\u001b[0;34m)\u001b[0m\u001b[0;34m\u001b[0m\u001b[0;34m\u001b[0m\u001b[0m\n\u001b[1;32m     50\u001b[0m \u001b[0;34m\u001b[0m\u001b[0m\n\u001b[0;32m---> 51\u001b[0;31m             \u001b[0;32mreturn\u001b[0m \u001b[0mdraw\u001b[0m\u001b[0;34m(\u001b[0m\u001b[0martist\u001b[0m\u001b[0;34m,\u001b[0m \u001b[0mrenderer\u001b[0m\u001b[0;34m,\u001b[0m \u001b[0;34m*\u001b[0m\u001b[0margs\u001b[0m\u001b[0;34m,\u001b[0m \u001b[0;34m**\u001b[0m\u001b[0mkwargs\u001b[0m\u001b[0;34m)\u001b[0m\u001b[0;34m\u001b[0m\u001b[0;34m\u001b[0m\u001b[0m\n\u001b[0m\u001b[1;32m     52\u001b[0m         \u001b[0;32mfinally\u001b[0m\u001b[0;34m:\u001b[0m\u001b[0;34m\u001b[0m\u001b[0;34m\u001b[0m\u001b[0m\n\u001b[1;32m     53\u001b[0m             \u001b[0;32mif\u001b[0m \u001b[0martist\u001b[0m\u001b[0;34m.\u001b[0m\u001b[0mget_agg_filter\u001b[0m\u001b[0;34m(\u001b[0m\u001b[0;34m)\u001b[0m \u001b[0;32mis\u001b[0m \u001b[0;32mnot\u001b[0m \u001b[0;32mNone\u001b[0m\u001b[0;34m:\u001b[0m\u001b[0;34m\u001b[0m\u001b[0;34m\u001b[0m\u001b[0m\n",
      "\u001b[0;32m/home/earthquakes1/software/Mageia8/anaconda3/lib/python3.9/site-packages/matplotlib/_api/deprecation.py\u001b[0m in \u001b[0;36mwrapper\u001b[0;34m(*inner_args, **inner_kwargs)\u001b[0m\n\u001b[1;32m    429\u001b[0m                          \u001b[0;32melse\u001b[0m \u001b[0mdeprecation_addendum\u001b[0m\u001b[0;34m,\u001b[0m\u001b[0;34m\u001b[0m\u001b[0;34m\u001b[0m\u001b[0m\n\u001b[1;32m    430\u001b[0m                 **kwargs)\n\u001b[0;32m--> 431\u001b[0;31m         \u001b[0;32mreturn\u001b[0m \u001b[0mfunc\u001b[0m\u001b[0;34m(\u001b[0m\u001b[0;34m*\u001b[0m\u001b[0minner_args\u001b[0m\u001b[0;34m,\u001b[0m \u001b[0;34m**\u001b[0m\u001b[0minner_kwargs\u001b[0m\u001b[0;34m)\u001b[0m\u001b[0;34m\u001b[0m\u001b[0;34m\u001b[0m\u001b[0m\n\u001b[0m\u001b[1;32m    432\u001b[0m \u001b[0;34m\u001b[0m\u001b[0m\n\u001b[1;32m    433\u001b[0m     \u001b[0;32mreturn\u001b[0m \u001b[0mwrapper\u001b[0m\u001b[0;34m\u001b[0m\u001b[0;34m\u001b[0m\u001b[0m\n",
      "\u001b[0;32m/home/earthquakes1/software/Mageia8/anaconda3/lib/python3.9/site-packages/matplotlib/axes/_base.py\u001b[0m in \u001b[0;36mdraw\u001b[0;34m(self, renderer, inframe)\u001b[0m\n\u001b[1;32m   2919\u001b[0m             \u001b[0mrenderer\u001b[0m\u001b[0;34m.\u001b[0m\u001b[0mstop_rasterizing\u001b[0m\u001b[0;34m(\u001b[0m\u001b[0;34m)\u001b[0m\u001b[0;34m\u001b[0m\u001b[0;34m\u001b[0m\u001b[0m\n\u001b[1;32m   2920\u001b[0m \u001b[0;34m\u001b[0m\u001b[0m\n\u001b[0;32m-> 2921\u001b[0;31m         \u001b[0mmimage\u001b[0m\u001b[0;34m.\u001b[0m\u001b[0m_draw_list_compositing_images\u001b[0m\u001b[0;34m(\u001b[0m\u001b[0mrenderer\u001b[0m\u001b[0;34m,\u001b[0m \u001b[0mself\u001b[0m\u001b[0;34m,\u001b[0m \u001b[0martists\u001b[0m\u001b[0;34m)\u001b[0m\u001b[0;34m\u001b[0m\u001b[0;34m\u001b[0m\u001b[0m\n\u001b[0m\u001b[1;32m   2922\u001b[0m \u001b[0;34m\u001b[0m\u001b[0m\n\u001b[1;32m   2923\u001b[0m         \u001b[0mrenderer\u001b[0m\u001b[0;34m.\u001b[0m\u001b[0mclose_group\u001b[0m\u001b[0;34m(\u001b[0m\u001b[0;34m'axes'\u001b[0m\u001b[0;34m)\u001b[0m\u001b[0;34m\u001b[0m\u001b[0;34m\u001b[0m\u001b[0m\n",
      "\u001b[0;32m/home/earthquakes1/software/Mageia8/anaconda3/lib/python3.9/site-packages/matplotlib/image.py\u001b[0m in \u001b[0;36m_draw_list_compositing_images\u001b[0;34m(renderer, parent, artists, suppress_composite)\u001b[0m\n\u001b[1;32m    130\u001b[0m     \u001b[0;32mif\u001b[0m \u001b[0mnot_composite\u001b[0m \u001b[0;32mor\u001b[0m \u001b[0;32mnot\u001b[0m \u001b[0mhas_images\u001b[0m\u001b[0;34m:\u001b[0m\u001b[0;34m\u001b[0m\u001b[0;34m\u001b[0m\u001b[0m\n\u001b[1;32m    131\u001b[0m         \u001b[0;32mfor\u001b[0m \u001b[0ma\u001b[0m \u001b[0;32min\u001b[0m \u001b[0martists\u001b[0m\u001b[0;34m:\u001b[0m\u001b[0;34m\u001b[0m\u001b[0;34m\u001b[0m\u001b[0m\n\u001b[0;32m--> 132\u001b[0;31m             \u001b[0ma\u001b[0m\u001b[0;34m.\u001b[0m\u001b[0mdraw\u001b[0m\u001b[0;34m(\u001b[0m\u001b[0mrenderer\u001b[0m\u001b[0;34m)\u001b[0m\u001b[0;34m\u001b[0m\u001b[0;34m\u001b[0m\u001b[0m\n\u001b[0m\u001b[1;32m    133\u001b[0m     \u001b[0;32melse\u001b[0m\u001b[0;34m:\u001b[0m\u001b[0;34m\u001b[0m\u001b[0;34m\u001b[0m\u001b[0m\n\u001b[1;32m    134\u001b[0m         \u001b[0;31m# Composite any adjacent images together\u001b[0m\u001b[0;34m\u001b[0m\u001b[0;34m\u001b[0m\u001b[0m\n",
      "\u001b[0;32m/home/earthquakes1/software/Mageia8/anaconda3/lib/python3.9/site-packages/matplotlib/artist.py\u001b[0m in \u001b[0;36mdraw_wrapper\u001b[0;34m(artist, renderer, *args, **kwargs)\u001b[0m\n\u001b[1;32m     49\u001b[0m                 \u001b[0mrenderer\u001b[0m\u001b[0;34m.\u001b[0m\u001b[0mstart_filter\u001b[0m\u001b[0;34m(\u001b[0m\u001b[0;34m)\u001b[0m\u001b[0;34m\u001b[0m\u001b[0;34m\u001b[0m\u001b[0m\n\u001b[1;32m     50\u001b[0m \u001b[0;34m\u001b[0m\u001b[0m\n\u001b[0;32m---> 51\u001b[0;31m             \u001b[0;32mreturn\u001b[0m \u001b[0mdraw\u001b[0m\u001b[0;34m(\u001b[0m\u001b[0martist\u001b[0m\u001b[0;34m,\u001b[0m \u001b[0mrenderer\u001b[0m\u001b[0;34m,\u001b[0m \u001b[0;34m*\u001b[0m\u001b[0margs\u001b[0m\u001b[0;34m,\u001b[0m \u001b[0;34m**\u001b[0m\u001b[0mkwargs\u001b[0m\u001b[0;34m)\u001b[0m\u001b[0;34m\u001b[0m\u001b[0;34m\u001b[0m\u001b[0m\n\u001b[0m\u001b[1;32m     52\u001b[0m         \u001b[0;32mfinally\u001b[0m\u001b[0;34m:\u001b[0m\u001b[0;34m\u001b[0m\u001b[0;34m\u001b[0m\u001b[0m\n\u001b[1;32m     53\u001b[0m             \u001b[0;32mif\u001b[0m \u001b[0martist\u001b[0m\u001b[0;34m.\u001b[0m\u001b[0mget_agg_filter\u001b[0m\u001b[0;34m(\u001b[0m\u001b[0;34m)\u001b[0m \u001b[0;32mis\u001b[0m \u001b[0;32mnot\u001b[0m \u001b[0;32mNone\u001b[0m\u001b[0;34m:\u001b[0m\u001b[0;34m\u001b[0m\u001b[0;34m\u001b[0m\u001b[0m\n",
      "\u001b[0;32m/home/earthquakes1/software/Mageia8/anaconda3/lib/python3.9/site-packages/matplotlib/collections.py\u001b[0m in \u001b[0;36mdraw\u001b[0;34m(self, renderer)\u001b[0m\n\u001b[1;32m   1010\u001b[0m     \u001b[0;32mdef\u001b[0m \u001b[0mdraw\u001b[0m\u001b[0;34m(\u001b[0m\u001b[0mself\u001b[0m\u001b[0;34m,\u001b[0m \u001b[0mrenderer\u001b[0m\u001b[0;34m)\u001b[0m\u001b[0;34m:\u001b[0m\u001b[0;34m\u001b[0m\u001b[0;34m\u001b[0m\u001b[0m\n\u001b[1;32m   1011\u001b[0m         \u001b[0mself\u001b[0m\u001b[0;34m.\u001b[0m\u001b[0mset_sizes\u001b[0m\u001b[0;34m(\u001b[0m\u001b[0mself\u001b[0m\u001b[0;34m.\u001b[0m\u001b[0m_sizes\u001b[0m\u001b[0;34m,\u001b[0m \u001b[0mself\u001b[0m\u001b[0;34m.\u001b[0m\u001b[0mfigure\u001b[0m\u001b[0;34m.\u001b[0m\u001b[0mdpi\u001b[0m\u001b[0;34m)\u001b[0m\u001b[0;34m\u001b[0m\u001b[0;34m\u001b[0m\u001b[0m\n\u001b[0;32m-> 1012\u001b[0;31m         \u001b[0msuper\u001b[0m\u001b[0;34m(\u001b[0m\u001b[0;34m)\u001b[0m\u001b[0;34m.\u001b[0m\u001b[0mdraw\u001b[0m\u001b[0;34m(\u001b[0m\u001b[0mrenderer\u001b[0m\u001b[0;34m)\u001b[0m\u001b[0;34m\u001b[0m\u001b[0;34m\u001b[0m\u001b[0m\n\u001b[0m\u001b[1;32m   1013\u001b[0m \u001b[0;34m\u001b[0m\u001b[0m\n\u001b[1;32m   1014\u001b[0m \u001b[0;34m\u001b[0m\u001b[0m\n",
      "\u001b[0;32m/home/earthquakes1/software/Mageia8/anaconda3/lib/python3.9/site-packages/matplotlib/artist.py\u001b[0m in \u001b[0;36mdraw_wrapper\u001b[0;34m(artist, renderer, *args, **kwargs)\u001b[0m\n\u001b[1;32m     49\u001b[0m                 \u001b[0mrenderer\u001b[0m\u001b[0;34m.\u001b[0m\u001b[0mstart_filter\u001b[0m\u001b[0;34m(\u001b[0m\u001b[0;34m)\u001b[0m\u001b[0;34m\u001b[0m\u001b[0;34m\u001b[0m\u001b[0m\n\u001b[1;32m     50\u001b[0m \u001b[0;34m\u001b[0m\u001b[0m\n\u001b[0;32m---> 51\u001b[0;31m             \u001b[0;32mreturn\u001b[0m \u001b[0mdraw\u001b[0m\u001b[0;34m(\u001b[0m\u001b[0martist\u001b[0m\u001b[0;34m,\u001b[0m \u001b[0mrenderer\u001b[0m\u001b[0;34m,\u001b[0m \u001b[0;34m*\u001b[0m\u001b[0margs\u001b[0m\u001b[0;34m,\u001b[0m \u001b[0;34m**\u001b[0m\u001b[0mkwargs\u001b[0m\u001b[0;34m)\u001b[0m\u001b[0;34m\u001b[0m\u001b[0;34m\u001b[0m\u001b[0m\n\u001b[0m\u001b[1;32m     52\u001b[0m         \u001b[0;32mfinally\u001b[0m\u001b[0;34m:\u001b[0m\u001b[0;34m\u001b[0m\u001b[0;34m\u001b[0m\u001b[0m\n\u001b[1;32m     53\u001b[0m             \u001b[0;32mif\u001b[0m \u001b[0martist\u001b[0m\u001b[0;34m.\u001b[0m\u001b[0mget_agg_filter\u001b[0m\u001b[0;34m(\u001b[0m\u001b[0;34m)\u001b[0m \u001b[0;32mis\u001b[0m \u001b[0;32mnot\u001b[0m \u001b[0;32mNone\u001b[0m\u001b[0;34m:\u001b[0m\u001b[0;34m\u001b[0m\u001b[0;34m\u001b[0m\u001b[0m\n",
      "\u001b[0;32m/home/earthquakes1/software/Mageia8/anaconda3/lib/python3.9/site-packages/matplotlib/collections.py\u001b[0m in \u001b[0;36mdraw\u001b[0;34m(self, renderer)\u001b[0m\n\u001b[1;32m    387\u001b[0m             \u001b[0;32melse\u001b[0m\u001b[0;34m:\u001b[0m\u001b[0;34m\u001b[0m\u001b[0;34m\u001b[0m\u001b[0m\n\u001b[1;32m    388\u001b[0m                 \u001b[0mcombined_transform\u001b[0m \u001b[0;34m=\u001b[0m \u001b[0mtransform\u001b[0m\u001b[0;34m\u001b[0m\u001b[0;34m\u001b[0m\u001b[0m\n\u001b[0;32m--> 389\u001b[0;31m             \u001b[0mextents\u001b[0m \u001b[0;34m=\u001b[0m \u001b[0mpaths\u001b[0m\u001b[0;34m[\u001b[0m\u001b[0;36m0\u001b[0m\u001b[0;34m]\u001b[0m\u001b[0;34m.\u001b[0m\u001b[0mget_extents\u001b[0m\u001b[0;34m(\u001b[0m\u001b[0mcombined_transform\u001b[0m\u001b[0;34m)\u001b[0m\u001b[0;34m\u001b[0m\u001b[0;34m\u001b[0m\u001b[0m\n\u001b[0m\u001b[1;32m    390\u001b[0m             if (extents.width < self.figure.bbox.width\n\u001b[1;32m    391\u001b[0m                     and extents.height < self.figure.bbox.height):\n",
      "\u001b[0;32m/home/earthquakes1/software/Mageia8/anaconda3/lib/python3.9/site-packages/matplotlib/path.py\u001b[0m in \u001b[0;36mget_extents\u001b[0;34m(self, transform, **kwargs)\u001b[0m\n\u001b[1;32m    631\u001b[0m                 \u001b[0m_\u001b[0m\u001b[0;34m,\u001b[0m \u001b[0mdzeros\u001b[0m \u001b[0;34m=\u001b[0m \u001b[0mcurve\u001b[0m\u001b[0;34m.\u001b[0m\u001b[0maxis_aligned_extrema\u001b[0m\u001b[0;34m(\u001b[0m\u001b[0;34m)\u001b[0m\u001b[0;34m\u001b[0m\u001b[0;34m\u001b[0m\u001b[0m\n\u001b[1;32m    632\u001b[0m                 \u001b[0;31m# as can the ends of the curve\u001b[0m\u001b[0;34m\u001b[0m\u001b[0;34m\u001b[0m\u001b[0m\n\u001b[0;32m--> 633\u001b[0;31m                 \u001b[0mxys\u001b[0m\u001b[0;34m.\u001b[0m\u001b[0mappend\u001b[0m\u001b[0;34m(\u001b[0m\u001b[0mcurve\u001b[0m\u001b[0;34m(\u001b[0m\u001b[0;34m[\u001b[0m\u001b[0;36m0\u001b[0m\u001b[0;34m,\u001b[0m \u001b[0;34m*\u001b[0m\u001b[0mdzeros\u001b[0m\u001b[0;34m,\u001b[0m \u001b[0;36m1\u001b[0m\u001b[0;34m]\u001b[0m\u001b[0;34m)\u001b[0m\u001b[0;34m)\u001b[0m\u001b[0;34m\u001b[0m\u001b[0;34m\u001b[0m\u001b[0m\n\u001b[0m\u001b[1;32m    634\u001b[0m             \u001b[0mxys\u001b[0m \u001b[0;34m=\u001b[0m \u001b[0mnp\u001b[0m\u001b[0;34m.\u001b[0m\u001b[0mconcatenate\u001b[0m\u001b[0;34m(\u001b[0m\u001b[0mxys\u001b[0m\u001b[0;34m)\u001b[0m\u001b[0;34m\u001b[0m\u001b[0;34m\u001b[0m\u001b[0m\n\u001b[1;32m    635\u001b[0m         \u001b[0;32mif\u001b[0m \u001b[0mlen\u001b[0m\u001b[0;34m(\u001b[0m\u001b[0mxys\u001b[0m\u001b[0;34m)\u001b[0m\u001b[0;34m:\u001b[0m\u001b[0;34m\u001b[0m\u001b[0;34m\u001b[0m\u001b[0m\n",
      "\u001b[0;32m/home/earthquakes1/software/Mageia8/anaconda3/lib/python3.9/site-packages/matplotlib/bezier.py\u001b[0m in \u001b[0;36m__call__\u001b[0;34m(self, t)\u001b[0m\n\u001b[1;32m    215\u001b[0m         \u001b[0mt\u001b[0m \u001b[0;34m=\u001b[0m \u001b[0mnp\u001b[0m\u001b[0;34m.\u001b[0m\u001b[0masarray\u001b[0m\u001b[0;34m(\u001b[0m\u001b[0mt\u001b[0m\u001b[0;34m)\u001b[0m\u001b[0;34m\u001b[0m\u001b[0;34m\u001b[0m\u001b[0m\n\u001b[1;32m    216\u001b[0m         return (np.power.outer(1 - t, self._orders[::-1])\n\u001b[0;32m--> 217\u001b[0;31m                 * np.power.outer(t, self._orders)) @ self._px\n\u001b[0m\u001b[1;32m    218\u001b[0m \u001b[0;34m\u001b[0m\u001b[0m\n\u001b[1;32m    219\u001b[0m     \u001b[0;32mdef\u001b[0m \u001b[0mpoint_at_t\u001b[0m\u001b[0;34m(\u001b[0m\u001b[0mself\u001b[0m\u001b[0;34m,\u001b[0m \u001b[0mt\u001b[0m\u001b[0;34m)\u001b[0m\u001b[0;34m:\u001b[0m\u001b[0;34m\u001b[0m\u001b[0;34m\u001b[0m\u001b[0m\n",
      "\u001b[0;31mKeyboardInterrupt\u001b[0m: "
     ]
    }
   ],
   "source": [
    "fig, axs = plt.subplots(1, 1, figsize=(12.8,9))#iv2.shape[1]-1)\n",
    "print('onto row/column plot')\n",
    "row_count = 0\n",
    "results = [[],[],[],[],[],[],[],[]]\n",
    "for row in range(8): #rows are distances\n",
    "    #print('for row')\n",
    "    col_count = 0\n",
    "    for column in iv2.columns[:-1]:\n",
    "        for ind_ad in iv2[column][row]:\n",
    "            axs.scatter(float(column), ind_ad, color='blue')\n",
    "        #axs[row_count][col_count].set_xscale('log')\n",
    "        #axs[row_count][col_count].set_yscale('log') # in log space\n",
    "        col_count += 1\n",
    "    row_count += 1\n",
    "\n",
    "\n",
    "#axs[0][0].set_title('M5-6')\n",
    "#axs[0][1].set_title('M6-7')\n",
    "#axs[0][0].set_ylabel('0-25 km')\n",
    "#axs[1][0].set_ylabel('25-50 km')\n",
    "#axs[2][0].set_ylabel('50-75 km')\n",
    "#axs[3][0].set_ylabel('75-100 km')\n",
    "plt.ylabel('iv2')\n",
    "plt.xlabel('magnitude')\n",
    "plt.yscale('log')\n",
    "plt.ylim([0.000001, 0.00000000000001])\n",
    "plt.show()"
   ]
  },
  {
   "cell_type": "code",
   "execution_count": 16,
   "id": "d9fcadea",
   "metadata": {},
   "outputs": [
    {
     "name": "stdout",
     "output_type": "stream",
     "text": [
      "onto row/column plot\n"
     ]
    },
    {
     "data": {
      "image/png": "[encoded data removed]",
      "text/plain": [
       "<Figure size 921.6x648 with 8 Axes>"
      ]
     },
     "metadata": {
      "needs_background": "light"
     },
     "output_type": "display_data"
    }
   ],
   "source": [
    "fig, axs = plt.subplots(8, 1, figsize=(12.8,9))#iv2.shape[1]-1)\n",
    "print('onto row/column plot')\n",
    "row_count = 0\n",
    "results = [[],[],[],[],[],[],[],[]]\n",
    "for row in range(8): #rows are distances\n",
    "    #print('for row')\n",
    "    col_count = 0\n",
    "    for column in iv2.columns[:-1]:\n",
    "        for ind_ad in iv2[column][row]:\n",
    "            axs[row_count].scatter(float(column), ind_ad, color='blue')\n",
    "        #axs[row_count][col_count].set_xscale('log')\n",
    "        #axs[row_count][col_count].set_yscale('log') # in log space\n",
    "        col_count += 1\n",
    "    row_count += 1\n",
    "\n",
    "\n",
    "#axs[0][0].set_title('M5-6')\n",
    "#axs[0][1].set_title('M6-7')\n",
    "#axs[0][0].set_ylabel('0-25 km')\n",
    "#axs[1][0].set_ylabel('25-50 km')\n",
    "#axs[2][0].set_ylabel('50-75 km')\n",
    "#axs[3][0].set_ylabel('75-100 km')\n",
    "plt.ylabel('iv2')\n",
    "plt.xlabel('magnitude')\n",
    "plt.show()"
   ]
  },
  {
   "cell_type": "code",
   "execution_count": 89,
   "id": "dc74b1ad",
   "metadata": {},
   "outputs": [],
   "source": [
    "m = [] \n",
    "for e in cat_with_data:\n",
    "    m.append(e.magnitudes[0].mag)"
   ]
  },
  {
   "cell_type": "code",
   "execution_count": 88,
   "id": "fbea878f",
   "metadata": {},
   "outputs": [
    {
     "data": {
      "text/plain": [
       "5.0"
      ]
     },
     "execution_count": 88,
     "metadata": {},
     "output_type": "execute_result"
    }
   ],
   "source": [
    "e.magnitudes[0].mag"
   ]
  },
  {
   "cell_type": "code",
   "execution_count": 90,
   "id": "adcdc3c1",
   "metadata": {
    "collapsed": true
   },
   "outputs": [
    {
     "data": {
      "text/plain": [
       "5.0"
      ]
     },
     "execution_count": 90,
     "metadata": {},
     "output_type": "execute_result"
    }
   ],
   "source": [
    "min(m)"
   ]
  },
  {
   "cell_type": "code",
   "execution_count": 91,
   "id": "0e86d2da",
   "metadata": {},
   "outputs": [
    {
     "data": {
      "text/plain": [
       "7.5"
      ]
     },
     "execution_count": 91,
     "metadata": {},
     "output_type": "execute_result"
    }
   ],
   "source": [
    "max(m)"
   ]
  },
  {
   "cell_type": "code",
   "execution_count": null,
   "id": "42dc8150",
   "metadata": {},
   "outputs": [],
   "source": []
  }
 ],
 "metadata": {
  "kernelspec": {
   "display_name": "Python 3 (ipykernel)",
   "language": "python",
   "name": "python3"
  },
  "language_info": {
   "codemirror_mode": {
    "name": "ipython",
    "version": 3
   },
   "file_extension": ".py",
   "mimetype": "text/x-python",
   "name": "python",
   "nbconvert_exporter": "python",
   "pygments_lexer": "ipython3",
   "version": "3.9.7"
  }
 },
 "nbformat": 4,
 "nbformat_minor": 5
}
