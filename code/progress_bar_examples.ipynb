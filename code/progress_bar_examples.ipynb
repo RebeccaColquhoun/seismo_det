{
 "cells": [
  {
   "cell_type": "code",
   "execution_count": 1,
   "id": "59c1a3f3",
   "metadata": {},
   "outputs": [
    {
     "name": "stderr",
     "output_type": "stream",
     "text": [
      "  6%|######                                                                                                      |\r"
     ]
    },
    {
     "name": "stdout",
     "output_type": "stream",
     "text": [
      "Running: Example 0\n"
     ]
    },
    {
     "name": "stderr",
     "output_type": "stream",
     "text": [
      "100%|############################################################################################################|\n",
      "Test:  49% |||||||||||||||||||||||||||||||||||||                                       | ETA:  0:00:00  23.77 MB/s\r"
     ]
    },
    {
     "name": "stdout",
     "output_type": "stream",
     "text": [
      "\n",
      "Running: Example 1\n"
     ]
    },
    {
     "name": "stderr",
     "output_type": "stream",
     "text": [
      "Test: 100% ||||||||||||||||||||||||||||||||||||||||||||||||||||||||||||||||||||||||||||| Time: 0:00:00  23.66 MB/s\n",
      " 12.82 MB/s <<<|####################                                                       |>>>  27% ETA:  0:00:00\r"
     ]
    },
    {
     "name": "stdout",
     "output_type": "stream",
     "text": [
      "\n",
      "Running: Example 2\n"
     ]
    },
    {
     "name": "stderr",
     "output_type": "stream",
     "text": [
      " 12.80 MB/s <<<|###########################################################################|>>> 100% Time: 0:00:00\n",
      "|>>>>>>>>>>>>>>>>>>>>>>>>>                       | ETA:  0:00:00 |                       <<<<<<<<<<<<<<<<<<<<<<<<|\r"
     ]
    },
    {
     "name": "stdout",
     "output_type": "stream",
     "text": [
      "\n",
      "Running: Example 3\n"
     ]
    },
    {
     "name": "stderr",
     "output_type": "stream",
     "text": [
      "|>>>>>>>>>>>>>>>>>>>>>>>>>>>>>>>>>>>>>>>>>>>>>>>>| Time: 0:00:00 |<<<<<<<<<<<<<<<<<<<<<<<<<<<<<<<<<<<<<<<<<<<<<<<|\n",
      "Test:   0% [                                                                          ] ETA:  --:--:--   0.00  B/s\r"
     ]
    },
    {
     "name": "stdout",
     "output_type": "stream",
     "text": [
      "\n",
      "Running: Example 4\n"
     ]
    },
    {
     "name": "stderr",
     "output_type": "stream",
     "text": [
      "Test: 100% [000000000000000000000000000000000000000000000000000000000000000000000000000] Time: 0:00:01 276.88  B/s\n",
      "1 of 17                                                                                                           \r"
     ]
    },
    {
     "name": "stdout",
     "output_type": "stream",
     "text": [
      "\n",
      "Running: Example 5\n"
     ]
    },
    {
     "name": "stderr",
     "output_type": "stream",
     "text": [
      "17 of 17                                                                                                          \n",
      " 19% |####################                                                                                       |\r"
     ]
    },
    {
     "name": "stdout",
     "output_type": "stream",
     "text": [
      "\n",
      "Running: Example 6\n"
     ]
    },
    {
     "name": "stderr",
     "output_type": "stream",
     "text": [
      "100% |###########################################################################################################|\n",
      " 23% |#########################                                                                                  |\r"
     ]
    },
    {
     "name": "stdout",
     "output_type": "stream",
     "text": [
      "\n",
      "Running: Example 7\n"
     ]
    },
    {
     "name": "stderr",
     "output_type": "stream",
     "text": [
      "100% |###########################################################################################################|\n",
      " 23% |#########################                                                                                  |\r"
     ]
    },
    {
     "name": "stdout",
     "output_type": "stream",
     "text": [
      "\n",
      "Running: Example 8\n"
     ]
    },
    {
     "name": "stderr",
     "output_type": "stream",
     "text": [
      "100% |###########################################################################################################|\n",
      "Working: -                                                                                                        \r"
     ]
    },
    {
     "name": "stdout",
     "output_type": "stream",
     "text": [
      "\n",
      "Running: Example 9\n"
     ]
    },
    {
     "name": "stderr",
     "output_type": "stream",
     "text": [
      "Working: |                                                                                                        \n",
      "Processed: 1 lines (Elapsed Time: 0:00:00)                                                                        \r"
     ]
    },
    {
     "name": "stdout",
     "output_type": "stream",
     "text": [
      "\n",
      "Running: Example 10\n"
     ]
    },
    {
     "name": "stderr",
     "output_type": "stream",
     "text": [
      "Processed: 149 lines (Elapsed Time: 0:00:15)                                                                      \n",
      "Processed: 2 lines (in: 0:00:00)                                                                                  \r"
     ]
    },
    {
     "name": "stdout",
     "output_type": "stream",
     "text": [
      "\n",
      "Running: Example 11\n"
     ]
    },
    {
     "name": "stderr",
     "output_type": "stream",
     "text": [
      "Processed: 149 lines (in: 0:00:15)                                                                                \n",
      "Balloon: .                                                                                                        \r"
     ]
    },
    {
     "name": "stdout",
     "output_type": "stream",
     "text": [
      "\n",
      "Running: Example 12\n"
     ]
    },
    {
     "name": "stderr",
     "output_type": "stream",
     "text": [
      "Balloon: .                                                                                                        \n",
      "Arrows: ←                                                                                                         \r"
     ]
    },
    {
     "name": "stdout",
     "output_type": "stream",
     "text": [
      "\n",
      "Running: Example 13\n"
     ]
    },
    {
     "name": "stderr",
     "output_type": "stream",
     "text": [
      "Arrows: ←                                                                                                         \n",
      "Arrows: ◢                                                                                                         \r"
     ]
    },
    {
     "name": "stdout",
     "output_type": "stream",
     "text": [
      "\n",
      "Running: Example 14\n"
     ]
    },
    {
     "name": "stderr",
     "output_type": "stream",
     "text": [
      "Arrows: ◢                                                                                                         \n",
      "Wheels: ◐                                                                                                         \r"
     ]
    },
    {
     "name": "stdout",
     "output_type": "stream",
     "text": [
      "\n",
      "Running: Example 15\n"
     ]
    },
    {
     "name": "stderr",
     "output_type": "stream",
     "text": [
      "Wheels: ◐                                                                                                         \n",
      "Bouncer: value 3 - |  #                                                                                          |\r"
     ]
    },
    {
     "name": "stdout",
     "output_type": "stream",
     "text": [
      "\n",
      "Running: Example 16\n"
     ]
    },
    {
     "name": "stderr",
     "output_type": "stream",
     "text": [
      "Bouncer: value 179 - |###########################################################################################|\n",
      "Animated Bouncer: value 3 - |  \\                                                                                 |\r"
     ]
    },
    {
     "name": "stdout",
     "output_type": "stream",
     "text": [
      "\n",
      "Running: Example 17\n"
     ]
    },
    {
     "name": "stderr",
     "output_type": "stream",
     "text": [
      "Animated Bouncer: value 179 - ||||||||||||||||||||||||||||||||||||||||||||||||||||||||||||||||||||||||||||||||||||\n",
      "  1% |                                                                               | ETA:  0:00:09 ETA:  0:00:09\r"
     ]
    },
    {
     "name": "stdout",
     "output_type": "stream",
     "text": [
      "\n",
      "Running: Example 18\n"
     ]
    },
    {
     "name": "stderr",
     "output_type": "stream",
     "text": [
      "100% |###############################################################################| Time: 0:01:35 Time: 0:01:35\n",
      "100% |                                                                                                           |\n"
     ]
    },
    {
     "name": "stdout",
     "output_type": "stream",
     "text": [
      "\n",
      "Running: Example 19\n",
      "\n",
      "Running: Example 20\n"
     ]
    },
    {
     "ename": "ValueError",
     "evalue": "cannot convert float NaN to integer",
     "output_type": "error",
     "traceback": [
      "\u001b[0;31m---------------------------------------------------------------------------\u001b[0m",
      "\u001b[0;31mValueError\u001b[0m                                Traceback (most recent call last)",
      "Input \u001b[0;32mIn [1]\u001b[0m, in \u001b[0;36m<cell line: 222>\u001b[0;34m()\u001b[0m\n\u001b[1;32m    222\u001b[0m \u001b[38;5;28;01mif\u001b[39;00m \u001b[38;5;18m__name__\u001b[39m \u001b[38;5;241m==\u001b[39m \u001b[38;5;124m'\u001b[39m\u001b[38;5;124m__main__\u001b[39m\u001b[38;5;124m'\u001b[39m:\n\u001b[1;32m    223\u001b[0m     \u001b[38;5;28;01mtry\u001b[39;00m:\n\u001b[0;32m--> 224\u001b[0m         \u001b[38;5;28;01mfor\u001b[39;00m example \u001b[38;5;129;01min\u001b[39;00m examples: example()\n\u001b[1;32m    225\u001b[0m     \u001b[38;5;28;01mexcept\u001b[39;00m \u001b[38;5;167;01mKeyboardInterrupt\u001b[39;00m:\n\u001b[1;32m    226\u001b[0m         sys\u001b[38;5;241m.\u001b[39mstdout\u001b[38;5;241m.\u001b[39mwrite(\u001b[38;5;124m'\u001b[39m\u001b[38;5;130;01m\\n\u001b[39;00m\u001b[38;5;124mQuitting examples.\u001b[39m\u001b[38;5;130;01m\\n\u001b[39;00m\u001b[38;5;124m'\u001b[39m)\n",
      "Input \u001b[0;32mIn [1]\u001b[0m, in \u001b[0;36mexample.<locals>.wrapped\u001b[0;34m()\u001b[0m\n\u001b[1;32m     15\u001b[0m \u001b[38;5;28;01mtry\u001b[39;00m:\n\u001b[1;32m     16\u001b[0m     sys\u001b[38;5;241m.\u001b[39mstdout\u001b[38;5;241m.\u001b[39mwrite(\u001b[38;5;124m'\u001b[39m\u001b[38;5;124mRunning: \u001b[39m\u001b[38;5;132;01m%s\u001b[39;00m\u001b[38;5;130;01m\\n\u001b[39;00m\u001b[38;5;124m'\u001b[39m \u001b[38;5;241m%\u001b[39m name)\n\u001b[0;32m---> 17\u001b[0m     \u001b[43mfn\u001b[49m\u001b[43m(\u001b[49m\u001b[43m)\u001b[49m\n\u001b[1;32m     18\u001b[0m     sys\u001b[38;5;241m.\u001b[39mstdout\u001b[38;5;241m.\u001b[39mwrite(\u001b[38;5;124m'\u001b[39m\u001b[38;5;130;01m\\n\u001b[39;00m\u001b[38;5;124m'\u001b[39m)\n\u001b[1;32m     19\u001b[0m \u001b[38;5;28;01mexcept\u001b[39;00m \u001b[38;5;167;01mKeyboardInterrupt\u001b[39;00m:\n",
      "Input \u001b[0;32mIn [1]\u001b[0m, in \u001b[0;36mexample20\u001b[0;34m()\u001b[0m\n\u001b[1;32m    208\u001b[0m widgets \u001b[38;5;241m=\u001b[39m [\u001b[38;5;124m'\u001b[39m\u001b[38;5;124m[When length is unknown at first]\u001b[39m\u001b[38;5;124m'\u001b[39m,\n\u001b[1;32m    209\u001b[0m            \u001b[38;5;124m'\u001b[39m\u001b[38;5;124m Progress: \u001b[39m\u001b[38;5;124m'\u001b[39m, SimpleProgress(),\n\u001b[1;32m    210\u001b[0m            \u001b[38;5;124m'\u001b[39m\u001b[38;5;124m, Percent: \u001b[39m\u001b[38;5;124m'\u001b[39m, Percentage(),\n\u001b[1;32m    211\u001b[0m            \u001b[38;5;124m'\u001b[39m\u001b[38;5;124m \u001b[39m\u001b[38;5;124m'\u001b[39m, ETA(),\n\u001b[1;32m    212\u001b[0m            \u001b[38;5;124m'\u001b[39m\u001b[38;5;124m \u001b[39m\u001b[38;5;124m'\u001b[39m, AdaptiveETA()]\n\u001b[1;32m    213\u001b[0m pbar \u001b[38;5;241m=\u001b[39m ProgressBar(widgets\u001b[38;5;241m=\u001b[39mwidgets, maxval\u001b[38;5;241m=\u001b[39mUnknownLength)\n\u001b[0;32m--> 214\u001b[0m \u001b[43mpbar\u001b[49m\u001b[38;5;241;43m.\u001b[39;49m\u001b[43mstart\u001b[49m\u001b[43m(\u001b[49m\u001b[43m)\u001b[49m\n\u001b[1;32m    215\u001b[0m \u001b[38;5;28;01mfor\u001b[39;00m i \u001b[38;5;129;01min\u001b[39;00m \u001b[38;5;28mrange\u001b[39m(\u001b[38;5;241m20\u001b[39m):\n\u001b[1;32m    216\u001b[0m     time\u001b[38;5;241m.\u001b[39msleep(\u001b[38;5;241m0.5\u001b[39m)\n",
      "File \u001b[0;32m/home/earthquakes1/software/Ubuntu/anaconda3/envs/rlc/lib/python3.10/site-packages/progressbar/progressbar.py:291\u001b[0m, in \u001b[0;36mProgressBar.start\u001b[0;34m(self)\u001b[0m\n\u001b[1;32m    287\u001b[0m     \u001b[38;5;28mself\u001b[39m\u001b[38;5;241m.\u001b[39mupdate_interval \u001b[38;5;241m=\u001b[39m \u001b[38;5;28mself\u001b[39m\u001b[38;5;241m.\u001b[39mmaxval \u001b[38;5;241m/\u001b[39m \u001b[38;5;28mself\u001b[39m\u001b[38;5;241m.\u001b[39mnum_intervals\n\u001b[1;32m    290\u001b[0m \u001b[38;5;28mself\u001b[39m\u001b[38;5;241m.\u001b[39mstart_time \u001b[38;5;241m=\u001b[39m \u001b[38;5;28mself\u001b[39m\u001b[38;5;241m.\u001b[39mlast_update_time \u001b[38;5;241m=\u001b[39m time\u001b[38;5;241m.\u001b[39mtime()\n\u001b[0;32m--> 291\u001b[0m \u001b[38;5;28;43mself\u001b[39;49m\u001b[38;5;241;43m.\u001b[39;49m\u001b[43mupdate\u001b[49m\u001b[43m(\u001b[49m\u001b[38;5;241;43m0\u001b[39;49m\u001b[43m)\u001b[49m\n\u001b[1;32m    293\u001b[0m \u001b[38;5;28;01mreturn\u001b[39;00m \u001b[38;5;28mself\u001b[39m\n",
      "File \u001b[0;32m/home/earthquakes1/software/Ubuntu/anaconda3/envs/rlc/lib/python3.10/site-packages/progressbar/progressbar.py:262\u001b[0m, in \u001b[0;36mProgressBar.update\u001b[0;34m(self, value)\u001b[0m\n\u001b[1;32m    260\u001b[0m \u001b[38;5;28mself\u001b[39m\u001b[38;5;241m.\u001b[39mseconds_elapsed \u001b[38;5;241m=\u001b[39m now \u001b[38;5;241m-\u001b[39m \u001b[38;5;28mself\u001b[39m\u001b[38;5;241m.\u001b[39mstart_time\n\u001b[1;32m    261\u001b[0m \u001b[38;5;28mself\u001b[39m\u001b[38;5;241m.\u001b[39mnext_update \u001b[38;5;241m=\u001b[39m \u001b[38;5;28mself\u001b[39m\u001b[38;5;241m.\u001b[39mcurrval \u001b[38;5;241m+\u001b[39m \u001b[38;5;28mself\u001b[39m\u001b[38;5;241m.\u001b[39mupdate_interval\n\u001b[0;32m--> 262\u001b[0m \u001b[38;5;28mself\u001b[39m\u001b[38;5;241m.\u001b[39mfd\u001b[38;5;241m.\u001b[39mwrite(\u001b[38;5;28;43mself\u001b[39;49m\u001b[38;5;241;43m.\u001b[39;49m\u001b[43m_format_line\u001b[49m\u001b[43m(\u001b[49m\u001b[43m)\u001b[49m \u001b[38;5;241m+\u001b[39m \u001b[38;5;124m'\u001b[39m\u001b[38;5;130;01m\\r\u001b[39;00m\u001b[38;5;124m'\u001b[39m)\n\u001b[1;32m    263\u001b[0m \u001b[38;5;28mself\u001b[39m\u001b[38;5;241m.\u001b[39mfd\u001b[38;5;241m.\u001b[39mflush()\n\u001b[1;32m    264\u001b[0m \u001b[38;5;28mself\u001b[39m\u001b[38;5;241m.\u001b[39mlast_update_time \u001b[38;5;241m=\u001b[39m now\n",
      "File \u001b[0;32m/home/earthquakes1/software/Ubuntu/anaconda3/envs/rlc/lib/python3.10/site-packages/progressbar/progressbar.py:222\u001b[0m, in \u001b[0;36mProgressBar._format_line\u001b[0;34m(self)\u001b[0m\n\u001b[1;32m    219\u001b[0m \u001b[38;5;28;01mdef\u001b[39;00m \u001b[38;5;21m_format_line\u001b[39m(\u001b[38;5;28mself\u001b[39m):\n\u001b[1;32m    220\u001b[0m     \u001b[38;5;124;03m\"\"\"Joins the widgets and justifies the line.\"\"\"\u001b[39;00m\n\u001b[0;32m--> 222\u001b[0m     widgets \u001b[38;5;241m=\u001b[39m \u001b[38;5;124m'\u001b[39m\u001b[38;5;124m'\u001b[39m\u001b[38;5;241m.\u001b[39mjoin(\u001b[38;5;28;43mself\u001b[39;49m\u001b[38;5;241;43m.\u001b[39;49m\u001b[43m_format_widgets\u001b[49m\u001b[43m(\u001b[49m\u001b[43m)\u001b[49m)\n\u001b[1;32m    224\u001b[0m     \u001b[38;5;28;01mif\u001b[39;00m \u001b[38;5;28mself\u001b[39m\u001b[38;5;241m.\u001b[39mleft_justify: \u001b[38;5;28;01mreturn\u001b[39;00m widgets\u001b[38;5;241m.\u001b[39mljust(\u001b[38;5;28mself\u001b[39m\u001b[38;5;241m.\u001b[39mterm_width)\n\u001b[1;32m    225\u001b[0m     \u001b[38;5;28;01melse\u001b[39;00m: \u001b[38;5;28;01mreturn\u001b[39;00m widgets\u001b[38;5;241m.\u001b[39mrjust(\u001b[38;5;28mself\u001b[39m\u001b[38;5;241m.\u001b[39mterm_width)\n",
      "File \u001b[0;32m/home/earthquakes1/software/Ubuntu/anaconda3/envs/rlc/lib/python3.10/site-packages/progressbar/progressbar.py:202\u001b[0m, in \u001b[0;36mProgressBar._format_widgets\u001b[0;34m(self)\u001b[0m\n\u001b[1;32m    200\u001b[0m     expanding\u001b[38;5;241m.\u001b[39minsert(\u001b[38;5;241m0\u001b[39m, index)\n\u001b[1;32m    201\u001b[0m \u001b[38;5;28;01melse\u001b[39;00m:\n\u001b[0;32m--> 202\u001b[0m     widget \u001b[38;5;241m=\u001b[39m \u001b[43mwidgets\u001b[49m\u001b[38;5;241;43m.\u001b[39;49m\u001b[43mformat_updatable\u001b[49m\u001b[43m(\u001b[49m\u001b[43mwidget\u001b[49m\u001b[43m,\u001b[49m\u001b[43m \u001b[49m\u001b[38;5;28;43mself\u001b[39;49m\u001b[43m)\u001b[49m\n\u001b[1;32m    203\u001b[0m     result\u001b[38;5;241m.\u001b[39mappend(widget)\n\u001b[1;32m    204\u001b[0m     width \u001b[38;5;241m-\u001b[39m\u001b[38;5;241m=\u001b[39m \u001b[38;5;28mlen\u001b[39m(widget)\n",
      "File \u001b[0;32m/home/earthquakes1/software/Ubuntu/anaconda3/envs/rlc/lib/python3.10/site-packages/progressbar/widgets.py:39\u001b[0m, in \u001b[0;36mformat_updatable\u001b[0;34m(updatable, pbar)\u001b[0m\n\u001b[1;32m     38\u001b[0m \u001b[38;5;28;01mdef\u001b[39;00m \u001b[38;5;21mformat_updatable\u001b[39m(updatable, pbar):\n\u001b[0;32m---> 39\u001b[0m     \u001b[38;5;28;01mif\u001b[39;00m \u001b[38;5;28mhasattr\u001b[39m(updatable, \u001b[38;5;124m'\u001b[39m\u001b[38;5;124mupdate\u001b[39m\u001b[38;5;124m'\u001b[39m): \u001b[38;5;28;01mreturn\u001b[39;00m \u001b[43mupdatable\u001b[49m\u001b[38;5;241;43m.\u001b[39;49m\u001b[43mupdate\u001b[49m\u001b[43m(\u001b[49m\u001b[43mpbar\u001b[49m\u001b[43m)\u001b[49m\n\u001b[1;32m     40\u001b[0m     \u001b[38;5;28;01melse\u001b[39;00m: \u001b[38;5;28;01mreturn\u001b[39;00m updatable\n",
      "File \u001b[0;32m/home/earthquakes1/software/Ubuntu/anaconda3/envs/rlc/lib/python3.10/site-packages/progressbar/widgets.py:230\u001b[0m, in \u001b[0;36mPercentage.update\u001b[0;34m(self, pbar)\u001b[0m\n\u001b[1;32m    229\u001b[0m \u001b[38;5;28;01mdef\u001b[39;00m \u001b[38;5;21mupdate\u001b[39m(\u001b[38;5;28mself\u001b[39m, pbar):\n\u001b[0;32m--> 230\u001b[0m     \u001b[38;5;28;01mreturn\u001b[39;00m \u001b[38;5;124;43m'\u001b[39;49m\u001b[38;5;132;43;01m%3d\u001b[39;49;00m\u001b[38;5;132;43;01m%%\u001b[39;49;00m\u001b[38;5;124;43m'\u001b[39;49m\u001b[43m \u001b[49m\u001b[38;5;241;43m%\u001b[39;49m\u001b[43m \u001b[49m\u001b[43mpbar\u001b[49m\u001b[38;5;241;43m.\u001b[39;49m\u001b[43mpercentage\u001b[49m\u001b[43m(\u001b[49m\u001b[43m)\u001b[49m\n",
      "\u001b[0;31mValueError\u001b[0m: cannot convert float NaN to integer"
     ]
    }
   ],
   "source": [
    "\n",
    "import sys\n",
    "import time\n",
    "\n",
    "from progressbar import AnimatedMarker, Bar, BouncingBar, Counter, ETA, \\\n",
    "    AdaptiveETA, FileTransferSpeed, FormatLabel, Percentage, \\\n",
    "    ProgressBar, ReverseBar, RotatingMarker, \\\n",
    "    SimpleProgress, Timer, UnknownLength\n",
    "\n",
    "examples = []\n",
    "def example(fn):\n",
    "    try: name = 'Example %d' % int(fn.__name__[7:])\n",
    "    except: name = fn.__name__\n",
    "\n",
    "    def wrapped():\n",
    "        try:\n",
    "            sys.stdout.write('Running: %s\\n' % name)\n",
    "            fn()\n",
    "            sys.stdout.write('\\n')\n",
    "        except KeyboardInterrupt:\n",
    "            sys.stdout.write('\\nSkipping example.\\n\\n')\n",
    "\n",
    "    examples.append(wrapped)\n",
    "    return wrapped\n",
    "\n",
    "@example\n",
    "def example0():\n",
    "    pbar = ProgressBar(widgets=[Percentage(), Bar()], maxval=300).start()\n",
    "    for i in range(300):\n",
    "        time.sleep(0.01)\n",
    "        pbar.update(i+1)\n",
    "    pbar.finish()\n",
    "\n",
    "@example\n",
    "def example1():\n",
    "    widgets = ['Test: ', Percentage(), ' ', Bar(marker=RotatingMarker()),\n",
    "               ' ', ETA(), ' ', FileTransferSpeed()]\n",
    "    pbar = ProgressBar(widgets=widgets, maxval=10000000).start()\n",
    "    for i in range(1000000):\n",
    "        # do something\n",
    "        pbar.update(10*i+1)\n",
    "    pbar.finish()\n",
    "\n",
    "@example\n",
    "def example2():\n",
    "    class CrazyFileTransferSpeed(FileTransferSpeed):\n",
    "        \"\"\"It's bigger between 45 and 80 percent.\"\"\"\n",
    "        def update(self, pbar):\n",
    "            if 45 < pbar.percentage() < 80:\n",
    "                return 'Bigger Now ' + FileTransferSpeed.update(self,pbar)\n",
    "            else:\n",
    "                return FileTransferSpeed.update(self,pbar)\n",
    "\n",
    "    widgets = [CrazyFileTransferSpeed(),' <<<', Bar(), '>>> ',\n",
    "               Percentage(),' ', ETA()]\n",
    "    pbar = ProgressBar(widgets=widgets, maxval=10000000)\n",
    "    # maybe do something\n",
    "    pbar.start()\n",
    "    for i in range(2000000):\n",
    "        # do something\n",
    "        pbar.update(5*i+1)\n",
    "    pbar.finish()\n",
    "\n",
    "@example\n",
    "def example3():\n",
    "    widgets = [Bar('>'), ' ', ETA(), ' ', ReverseBar('<')]\n",
    "    pbar = ProgressBar(widgets=widgets, maxval=10000000).start()\n",
    "    for i in range(1000000):\n",
    "        # do something\n",
    "        pbar.update(10*i+1)\n",
    "    pbar.finish()\n",
    "\n",
    "@example\n",
    "def example4():\n",
    "    widgets = ['Test: ', Percentage(), ' ',\n",
    "               Bar(marker='0',left='[',right=']'),\n",
    "               ' ', ETA(), ' ', FileTransferSpeed()]\n",
    "    pbar = ProgressBar(widgets=widgets, maxval=500)\n",
    "    pbar.start()\n",
    "    for i in range(100,500+1,50):\n",
    "        time.sleep(0.2)\n",
    "        pbar.update(i)\n",
    "    pbar.finish()\n",
    "\n",
    "@example\n",
    "def example5():\n",
    "    pbar = ProgressBar(widgets=[SimpleProgress()], maxval=17).start()\n",
    "    for i in range(17):\n",
    "        time.sleep(0.2)\n",
    "        pbar.update(i + 1)\n",
    "    pbar.finish()\n",
    "\n",
    "@example\n",
    "def example6():\n",
    "    pbar = ProgressBar().start()\n",
    "    for i in range(100):\n",
    "        time.sleep(0.01)\n",
    "        pbar.update(i + 1)\n",
    "    pbar.finish()\n",
    "\n",
    "@example\n",
    "def example7():\n",
    "    pbar = ProgressBar()  # Progressbar can guess maxval automatically.\n",
    "    for i in pbar(range(80)):\n",
    "        time.sleep(0.01)\n",
    "\n",
    "@example\n",
    "def example8():\n",
    "    pbar = ProgressBar(maxval=80)  # Progressbar can't guess maxval.\n",
    "    for i in pbar((i for i in range(80))):\n",
    "        time.sleep(0.01)\n",
    "\n",
    "@example\n",
    "def example9():\n",
    "    pbar = ProgressBar(widgets=['Working: ', AnimatedMarker()])\n",
    "    for i in pbar((i for i in range(50))):\n",
    "        time.sleep(.08)\n",
    "\n",
    "@example\n",
    "def example10():\n",
    "    widgets = ['Processed: ', Counter(), ' lines (', Timer(), ')']\n",
    "    pbar = ProgressBar(widgets=widgets)\n",
    "    for i in pbar((i for i in range(150))):\n",
    "        time.sleep(0.1)\n",
    "\n",
    "@example\n",
    "def example11():\n",
    "    widgets = [FormatLabel('Processed: %(value)d lines (in: %(elapsed)s)')]\n",
    "    pbar = ProgressBar(widgets=widgets)\n",
    "    for i in pbar((i for i in range(150))):\n",
    "        time.sleep(0.1)\n",
    "\n",
    "@example\n",
    "def example12():\n",
    "    widgets = ['Balloon: ', AnimatedMarker(markers='.oO@* ')]\n",
    "    pbar = ProgressBar(widgets=widgets)\n",
    "    for i in pbar((i for i in range(24))):\n",
    "        time.sleep(0.3)\n",
    "\n",
    "@example\n",
    "def example13():\n",
    "    # You may need python 3.x to see this correctly\n",
    "    try:\n",
    "        widgets = ['Arrows: ', AnimatedMarker(markers='←↖↑↗→↘↓↙')]\n",
    "        pbar = ProgressBar(widgets=widgets)\n",
    "        for i in pbar((i for i in range(24))):\n",
    "            time.sleep(0.3)\n",
    "    except UnicodeError: sys.stdout.write('Unicode error: skipping example')\n",
    "\n",
    "@example\n",
    "def example14():\n",
    "    # You may need python 3.x to see this correctly\n",
    "    try:\n",
    "        widgets = ['Arrows: ', AnimatedMarker(markers='◢◣◤◥')]\n",
    "        pbar = ProgressBar(widgets=widgets)\n",
    "        for i in pbar((i for i in range(24))):\n",
    "            time.sleep(0.3)\n",
    "    except UnicodeError: sys.stdout.write('Unicode error: skipping example')\n",
    "\n",
    "@example\n",
    "def example15():\n",
    "    # You may need python 3.x to see this correctly\n",
    "    try:\n",
    "        widgets = ['Wheels: ', AnimatedMarker(markers='◐◓◑◒')]\n",
    "        pbar = ProgressBar(widgets=widgets)\n",
    "        for i in pbar((i for i in range(24))):\n",
    "            time.sleep(0.3)\n",
    "    except UnicodeError: sys.stdout.write('Unicode error: skipping example')\n",
    "\n",
    "@example\n",
    "def example16():\n",
    "    widgets = [FormatLabel('Bouncer: value %(value)d - '), BouncingBar()]\n",
    "    pbar = ProgressBar(widgets=widgets)\n",
    "    for i in pbar((i for i in range(180))):\n",
    "        time.sleep(0.05)\n",
    "\n",
    "@example\n",
    "def example17():\n",
    "    widgets = [FormatLabel('Animated Bouncer: value %(value)d - '),\n",
    "               BouncingBar(marker=RotatingMarker())]\n",
    "\n",
    "    pbar = ProgressBar(widgets=widgets)\n",
    "    for i in pbar((i for i in range(180))):\n",
    "        time.sleep(0.05)\n",
    "\n",
    "@example\n",
    "def example18():\n",
    "    widgets = [Percentage(),\n",
    "               ' ', Bar(),\n",
    "               ' ', ETA(),\n",
    "               ' ', AdaptiveETA()]\n",
    "    pbar = ProgressBar(widgets=widgets, maxval=500)\n",
    "    pbar.start()\n",
    "    for i in range(500):\n",
    "        time.sleep(0.01 + (i < 100) * 0.01 + (i > 400) * 0.9)\n",
    "        pbar.update(i + 1)\n",
    "    pbar.finish()\n",
    "\n",
    "@example\n",
    "def example19():\n",
    "  pbar = ProgressBar()\n",
    "  for i in pbar([]):\n",
    "    pass\n",
    "  pbar.finish()\n",
    "\n",
    "@example\n",
    "def example20():\n",
    "    \"\"\"Widgets that behave differently when length is unknown\"\"\"\n",
    "    widgets = ['[When length is unknown at first]',\n",
    "               ' Progress: ', SimpleProgress(),\n",
    "               ', Percent: ', Percentage(),\n",
    "               ' ', ETA(),\n",
    "               ' ', AdaptiveETA()]\n",
    "    pbar = ProgressBar(widgets=widgets, maxval=UnknownLength)\n",
    "    pbar.start()\n",
    "    for i in range(20):\n",
    "        time.sleep(0.5)\n",
    "        if i == 10:\n",
    "            pbar.maxval = 20\n",
    "        pbar.update(i + 1)\n",
    "    pbar.finish()\n",
    "\n",
    "if __name__ == '__main__':\n",
    "    try:\n",
    "        for example in examples: example()\n",
    "    except KeyboardInterrupt:\n",
    "        sys.stdout.write('\\nQuitting examples.\\n')"
   ]
  },
  {
   "cell_type": "code",
   "execution_count": null,
   "id": "b2533ffc",
   "metadata": {},
   "outputs": [],
   "source": []
  }
 ],
 "metadata": {
  "kernelspec": {
   "display_name": "Python 3 (ipykernel)",
   "language": "python",
   "name": "python3"
  },
  "language_info": {
   "codemirror_mode": {
    "name": "ipython",
    "version": 3
   },
   "file_extension": ".py",
   "mimetype": "text/x-python",
   "name": "python",
   "nbconvert_exporter": "python",
   "pygments_lexer": "ipython3",
   "version": "3.10.4"
  }
 },
 "nbformat": 4,
 "nbformat_minor": 5
}
