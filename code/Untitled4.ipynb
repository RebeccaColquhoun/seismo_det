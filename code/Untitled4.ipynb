{
 "cells": [
  {
   "cell_type": "code",
   "execution_count": 1,
   "id": "08f835e9",
   "metadata": {},
   "outputs": [],
   "source": [
    "import os\n",
    "import scipy\n",
    "import numpy as np\n",
    "import matplotlib.pyplot as plt\n",
    "import obspy\n",
    "import pickle\n",
    "from obspy import UTCDateTime\n",
    "from obspy.clients.fdsn import Client\n",
    "import util\n",
    "import pandas as pd\n",
    "from datetime import timedelta"
   ]
  },
  {
   "cell_type": "code",
   "execution_count": 2,
   "id": "35ed19f0",
   "metadata": {},
   "outputs": [],
   "source": [
    "root = '/home/earthquakes1/homes/Rebecca/phd/data/2019_global_m3/' #2018_2021_global_m5/'#'/home/earthquakes1/homes/Rebecca/phd/data/2019_global_m5/'\n",
    "eq_list = os.listdir(root)\n",
    "cat = obspy.read_events('/home/earthquakes1/homes/Rebecca/phd/data/2019_global_m3_catalog.xml') #2018_2021_global_m5_catalog.xml')\n",
    "dists = []"
   ]
  },
  {
   "cell_type": "code",
   "execution_count": 6,
   "id": "1047d8d7",
   "metadata": {},
   "outputs": [
    {
     "name": "stdout",
     "output_type": "stream",
     "text": [
      "6077\n"
     ]
    }
   ],
   "source": [
    "eq_with_data = []\n",
    "cat_with_data = cat.copy()\n",
    "cat_with_data.clear()\n",
    "for event in cat: # check earthquakes have data AND PICKS\n",
    "    eq_name = util.catEventToFileName(event)\n",
    "    if os.path.isdir(root+eq_name) and os.path.isdir(root+eq_name+'/station_xml_files'):\n",
    "        eq_with_data.append(eq_name)\n",
    "        cat_with_data.extend([event])\n",
    "print(len(eq_with_data))"
   ]
  },
  {
   "cell_type": "code",
   "execution_count": 5,
   "id": "83bc7313",
   "metadata": {},
   "outputs": [
    {
     "name": "stdout",
     "output_type": "stream",
     "text": [
      "3386\n"
     ]
    }
   ],
   "source": [
    "eq_with_data_2 = []\n",
    "cat_with_data = cat.copy()\n",
    "cat_with_data.clear()\n",
    "for event in cat: # check earthquakes have data AND PICKS\n",
    "    eq_name = util.catEventToFileName(event)\n",
    "    if os.path.isdir(root+eq_name) and os.path.isdir(root+eq_name+'/station_xml_files') and os.path.exists(root+eq_name+'/picks.pkl'):\n",
    "        eq_with_data_2.append(eq_name)\n",
    "        cat_with_data.extend([event])\n",
    "print(len(eq_with_data))"
   ]
  },
  {
   "cell_type": "code",
   "execution_count": 12,
   "id": "9a7fa5a2",
   "metadata": {},
   "outputs": [],
   "source": [
    "s = set(eq_with_data_2)\n",
    "temp3 = [x for x in eq_with_data if x not in s]"
   ]
  },
  {
   "cell_type": "code",
   "execution_count": 22,
   "id": "e53a857a",
   "metadata": {},
   "outputs": [],
   "source": [
    "s = set(eq_with_data_2)\n",
    "temp3 = np.array([i for i in range(0, len(eq_with_data)) if eq_with_data[i] not in s])"
   ]
  },
  {
   "cell_type": "code",
   "execution_count": 23,
   "id": "379c07cc",
   "metadata": {},
   "outputs": [
    {
     "data": {
      "text/plain": [
       "[<matplotlib.lines.Line2D at 0x7f21e98b33d0>]"
      ]
     },
     "execution_count": 23,
     "metadata": {},
     "output_type": "execute_result"
    },
    {
     "data": {
      "image/png": "[encoded data removed]",
      "text/plain": [
       "<Figure size 432x288 with 1 Axes>"
      ]
     },
     "metadata": {
      "needs_background": "light"
     },
     "output_type": "display_data"
    }
   ],
   "source": [
    "plt.plot(temp3-temp3[0])"
   ]
  },
  {
   "cell_type": "code",
   "execution_count": null,
   "id": "523a2126",
   "metadata": {},
   "outputs": [],
   "source": []
  }
 ],
 "metadata": {
  "kernelspec": {
   "display_name": "Python 3 (ipykernel)",
   "language": "python",
   "name": "python3"
  },
  "language_info": {
   "codemirror_mode": {
    "name": "ipython",
    "version": 3
   },
   "file_extension": ".py",
   "mimetype": "text/x-python",
   "name": "python",
   "nbconvert_exporter": "python",
   "pygments_lexer": "ipython3",
   "version": "3.9.7"
  }
 },
 "nbformat": 4,
 "nbformat_minor": 5
}
